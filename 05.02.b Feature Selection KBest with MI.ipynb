{
 "nbformat": 4,
 "nbformat_minor": 2,
 "metadata": {
  "language_info": {
   "name": "python",
   "codemirror_mode": {
    "name": "ipython",
    "version": 3
   },
   "version": "3.7.6-final"
  },
  "orig_nbformat": 2,
  "file_extension": ".py",
  "mimetype": "text/x-python",
  "name": "python",
  "npconvert_exporter": "python",
  "pygments_lexer": "ipython3",
  "version": 3,
  "kernelspec": {
   "name": "python3",
   "display_name": "Python 3"
  }
 },
 "cells": [
  {
   "cell_type": "markdown",
   "metadata": {},
   "source": [
    "# 05.02.b Feature  Selection KBest with Mutual Information Classification Function\n",
    "\n",
    "Goal: identify the factors that most contribute to SLAFail\n",
    "\n",
    "Tuning Adjustments: Focus on finding the most predictive set of predictor variables\n",
    "\n",
    "Read Prepared Data  ->  Split Data  -> Develop Pipeline  ->  Evaluate  \n",
    "\n",
    "Split Data using sklearn.model_selection.train_test_split\n",
    "\n",
    "Pipeline includes:\n",
    "\n",
    "- Preprocessing variables\n",
    "    - sklearn.compose.make_column_transformer \n",
    "    - Scale numeric variables: sklearn.preprocessing.StandardScaler\n",
    "    - Encode categorical variables: category_encoders.MEstimateEncoder\n",
    "- Selecting features\n",
    "    - sklearn.feature_selection.SelectKBest\n",
    "    - sklearn.feature_selection.mutual_info_classif\n",
    "- Instantiate model\n",
    "    - sklearn.linear_model.LogisticRegression\n",
    "- Fit the model using training data\n",
    "- Cross-validate the model with training data\n",
    "    - sklearn.model_selection.cross_val_score\n",
    "- Output performance measures\n",
    "\n",
    "Evaluate involves running the pipeline with the testing data and capturing metrics\n",
    "\n",
    "\n",
    "\n"
   ]
  },
  {
   "cell_type": "code",
   "execution_count": 1,
   "metadata": {},
   "outputs": [],
   "source": [
    "# Load libraries\n",
    "import pandas as pd\n",
    "import numpy as np\n",
    "import pickle\n",
    "\n",
    "# allow plots to appear in the notebook\n",
    "%matplotlib inline\n",
    "import matplotlib.pyplot as plt\n",
    "\n",
    "from sklearn.model_selection import train_test_split\n",
    "\n",
    "from sklearn.compose import make_column_transformer\n",
    "import category_encoders as ce\n",
    "from sklearn.preprocessing import StandardScaler\n",
    "\n",
    "from sklearn.feature_selection import SelectKBest\n",
    "from sklearn.feature_selection import mutual_info_classif\n",
    "\n",
    "from sklearn.linear_model import LogisticRegression\n",
    "\n",
    "from sklearn.pipeline import make_pipeline\n",
    "\n",
    "from sklearn.model_selection import cross_val_score\n",
    "\n",
    "from sklearn import metrics"
   ]
  },
  {
   "cell_type": "markdown",
   "metadata": {},
   "source": [
    "## Read Prepared Data"
   ]
  },
  {
   "cell_type": "code",
   "execution_count": 2,
   "metadata": {},
   "outputs": [
    {
     "name": "stdout",
     "output_type": "stream",
     "text": "df.shape: (35208, 12)\ndf.columns: Index(['CI_Name_aff', 'Service_Component_WBS_aff', 'Impact', 'Urgency',\n       'KM_number', 'Count_Related_Interactions', 'Count_Related_Incidents',\n       'Count_Related_Changes', 'SLAFail', 'Open_Time_HourOfDay',\n       'Open_Time_DayOfWeek', 'CI_TypeSubType_aff'],\n      dtype='object')\ndf.dtypes: \nCI_Name_aff                    object\nService_Component_WBS_aff      object\nImpact                         object\nUrgency                        object\nKM_number                      object\nCount_Related_Interactions    float64\nCount_Related_Incidents       float64\nCount_Related_Changes         float64\nSLAFail                         int64\nOpen_Time_HourOfDay             int64\nOpen_Time_DayOfWeek            object\nCI_TypeSubType_aff             object\ndtype: object\n"
    }
   ],
   "source": [
    "df = pd.read_csv(\"data/04.a.Detail_Incident_AtOpen.csv\")\n",
    "print(\"df.shape: \" + str(df.shape))\n",
    "print(\"df.columns: \" + str(df.columns))\n",
    "print(\"df.dtypes: \\n\" + str(df.dtypes))"
   ]
  },
  {
   "cell_type": "markdown",
   "metadata": {},
   "source": [
    "#### Set X and y"
   ]
  },
  {
   "cell_type": "code",
   "execution_count": 3,
   "metadata": {},
   "outputs": [
    {
     "data": {
      "text/plain": "(35208,)"
     },
     "execution_count": 3,
     "metadata": {},
     "output_type": "execute_result"
    }
   ],
   "source": [
    "y = df.SLAFail\n",
    "y.shape"
   ]
  },
  {
   "cell_type": "code",
   "execution_count": 4,
   "metadata": {},
   "outputs": [
    {
     "data": {
      "text/plain": "(35208, 11)"
     },
     "execution_count": 4,
     "metadata": {},
     "output_type": "execute_result"
    }
   ],
   "source": [
    "X = df.drop(['SLAFail'], axis='columns')\n",
    "X.shape"
   ]
  },
  {
   "cell_type": "markdown",
   "metadata": {},
   "source": [
    "Set `Open_Time_HourOfDay` for recognition as a Categorical variable"
   ]
  },
  {
   "cell_type": "code",
   "execution_count": 5,
   "metadata": {},
   "outputs": [
    {
     "data": {
      "text/plain": "CI_Name_aff                    object\nService_Component_WBS_aff      object\nImpact                         object\nUrgency                        object\nKM_number                      object\nCount_Related_Interactions    float64\nCount_Related_Incidents       float64\nCount_Related_Changes         float64\nOpen_Time_HourOfDay            object\nOpen_Time_DayOfWeek            object\nCI_TypeSubType_aff             object\ndtype: object"
     },
     "execution_count": 5,
     "metadata": {},
     "output_type": "execute_result"
    }
   ],
   "source": [
    "X.Open_Time_HourOfDay = X.Open_Time_HourOfDay.astype('object')\n",
    "X.dtypes"
   ]
  },
  {
   "cell_type": "markdown",
   "metadata": {},
   "source": [
    "Create a list of numeric variable column names"
   ]
  },
  {
   "cell_type": "code",
   "execution_count": 6,
   "metadata": {},
   "outputs": [
    {
     "data": {
      "text/plain": "Index(['Count_Related_Interactions', 'Count_Related_Incidents',\n       'Count_Related_Changes'],\n      dtype='object')"
     },
     "execution_count": 6,
     "metadata": {},
     "output_type": "execute_result"
    }
   ],
   "source": [
    "numericVars = X.select_dtypes(include=['float64']).columns\n",
    "numericVars"
   ]
  },
  {
   "cell_type": "markdown",
   "metadata": {},
   "source": [
    "Create a list of categorical variables"
   ]
  },
  {
   "cell_type": "code",
   "execution_count": 7,
   "metadata": {},
   "outputs": [
    {
     "data": {
      "text/plain": "Index(['CI_Name_aff', 'Service_Component_WBS_aff', 'Impact', 'Urgency',\n       'KM_number', 'Open_Time_HourOfDay', 'Open_Time_DayOfWeek',\n       'CI_TypeSubType_aff'],\n      dtype='object')"
     },
     "execution_count": 7,
     "metadata": {},
     "output_type": "execute_result"
    }
   ],
   "source": [
    "categoricalVars = X.select_dtypes(include=['object']).columns\n",
    "categoricalVars"
   ]
  },
  {
   "cell_type": "markdown",
   "metadata": {},
   "source": [
    "## Split Data\n",
    "\n",
    "Create Training and Testing Data Sets\n"
   ]
  },
  {
   "cell_type": "code",
   "execution_count": 8,
   "metadata": {},
   "outputs": [],
   "source": [
    "\n",
    "X_train, X_test, y_train, y_test = train_test_split(X, y, test_size=0.3, random_state=2020)\n"
   ]
  },
  {
   "cell_type": "code",
   "execution_count": 9,
   "metadata": {},
   "outputs": [
    {
     "name": "stdout",
     "output_type": "stream",
     "text": "(24645, 11)\nIndex(['CI_Name_aff', 'Service_Component_WBS_aff', 'Impact', 'Urgency',\n       'KM_number', 'Count_Related_Interactions', 'Count_Related_Incidents',\n       'Count_Related_Changes', 'Open_Time_HourOfDay', 'Open_Time_DayOfWeek',\n       'CI_TypeSubType_aff'],\n      dtype='object')\n"
    }
   ],
   "source": [
    "print(X_train.shape)\n",
    "print(X_train.columns)"
   ]
  },
  {
   "cell_type": "markdown",
   "metadata": {},
   "source": [
    "## Develop Pipeline\n"
   ]
  },
  {
   "cell_type": "code",
   "execution_count": 10,
   "metadata": {},
   "outputs": [],
   "source": [
    "# create dictionary to store information about the pipeline and results for later reporting and review\n",
    "PipeLineMetadata = { \"Name\" : \"Feature Selection KBest MI\" }"
   ]
  },
  {
   "cell_type": "markdown",
   "metadata": {},
   "source": [
    "### Encode Variables\n",
    "\n",
    "Numeric and categorical variables require different treatment \n",
    "\n",
    "Set up column transformer for scaling numeric variables and encoding categorical variables\n",
    "\n"
   ]
  },
  {
   "cell_type": "code",
   "execution_count": 12,
   "metadata": {},
   "outputs": [],
   "source": [
    "column_trans = make_column_transformer(\n",
    "    (ce.WOEEncoder(), categoricalVars),\n",
    "    (StandardScaler(), numericVars),\n",
    "    remainder='passthrough')"
   ]
  },
  {
   "cell_type": "code",
   "execution_count": 13,
   "metadata": {},
   "outputs": [
    {
     "data": {
      "text/plain": "ColumnTransformer(n_jobs=None, remainder='passthrough', sparse_threshold=0.3,\n                  transformer_weights=None,\n                  transformers=[('woeencoder',\n                                 WOEEncoder(cols=None, drop_invariant=False,\n                                            handle_missing='value',\n                                            handle_unknown='value',\n                                            random_state=None, randomized=False,\n                                            regularization=1.0, return_df=True,\n                                            sigma=0.05, verbose=0),\n                                 Index(['CI_Name_aff', 'Service_Component_WBS_aff', 'Impact', 'Urgency',\n       'KM_number', 'Open_Time_HourOfDay', 'Open_Time_DayOfWeek',\n       'CI_TypeSubType_aff'],\n      dtype='object')),\n                                ('standardscaler',\n                                 StandardScaler(copy=True, with_mean=True,\n                                                with_std=True),\n                                 Index(['Count_Related_Interactions', 'Count_Related_Incidents',\n       'Count_Related_Changes'],\n      dtype='object'))],\n                  verbose=False)"
     },
     "execution_count": 13,
     "metadata": {},
     "output_type": "execute_result"
    }
   ],
   "source": [
    "column_trans"
   ]
  },
  {
   "cell_type": "markdown",
   "metadata": {},
   "source": [
    "### Feature Selection\n",
    "\n",
    "\n"
   ]
  },
  {
   "cell_type": "code",
   "execution_count": 14,
   "metadata": {},
   "outputs": [],
   "source": [
    "selector = SelectKBest(score_func=mutual_info_classif)"
   ]
  },
  {
   "cell_type": "markdown",
   "metadata": {},
   "source": [
    "### Specify Classifier (Logistic Regression)"
   ]
  },
  {
   "cell_type": "code",
   "execution_count": 15,
   "metadata": {},
   "outputs": [],
   "source": [
    "classifier = LogisticRegression(solver=\"lbfgs\")"
   ]
  },
  {
   "cell_type": "markdown",
   "metadata": {},
   "source": [
    "### Compose Pipeline"
   ]
  },
  {
   "cell_type": "code",
   "execution_count": 16,
   "metadata": {},
   "outputs": [],
   "source": [
    "pipe = make_pipeline(column_trans, \n",
    "                     selector,\n",
    "                     classifier)"
   ]
  },
  {
   "cell_type": "markdown",
   "metadata": {},
   "source": [
    "### Fit the Model Using the Pipeline"
   ]
  },
  {
   "cell_type": "code",
   "execution_count": 17,
   "metadata": {},
   "outputs": [
    {
     "data": {
      "text/plain": "Pipeline(memory=None,\n         steps=[('columntransformer',\n                 ColumnTransformer(n_jobs=None, remainder='passthrough',\n                                   sparse_threshold=0.3,\n                                   transformer_weights=None,\n                                   transformers=[('woeencoder',\n                                                  WOEEncoder(cols=None,\n                                                             drop_invariant=False,\n                                                             handle_missing='value',\n                                                             handle_unknown='value',\n                                                             random_state=None,\n                                                             randomized=False,\n                                                             regularization=1.0,\n                                                             return_df=True,\n                                                             sigma=0.05,\n                                                             verbo...\n                ('selectkbest',\n                 SelectKBest(k=10,\n                             score_func=<function mutual_info_classif at 0x1a2262fb90>)),\n                ('logisticregression',\n                 LogisticRegression(C=1.0, class_weight=None, dual=False,\n                                    fit_intercept=True, intercept_scaling=1,\n                                    l1_ratio=None, max_iter=100,\n                                    multi_class='auto', n_jobs=None,\n                                    penalty='l2', random_state=None,\n                                    solver='lbfgs', tol=0.0001, verbose=0,\n                                    warm_start=False))],\n         verbose=False)"
     },
     "execution_count": 17,
     "metadata": {},
     "output_type": "execute_result"
    }
   ],
   "source": [
    "pipe.fit(X_train,y_train)"
   ]
  },
  {
   "cell_type": "markdown",
   "metadata": {},
   "source": [
    "### Capture model  information"
   ]
  },
  {
   "cell_type": "code",
   "execution_count": 18,
   "metadata": {},
   "outputs": [],
   "source": [
    "PipeLineMetadata['Column Transforms'] = list(pipe.named_steps.columntransformer.named_transformers_.keys())\n",
    "PipeLineMetadata['Selector'] = pipe.named_steps.selectkbest.get_params\n",
    "PipeLineMetadata['Classifier'] = pipe.named_steps.logisticregression"
   ]
  },
  {
   "cell_type": "code",
   "execution_count": 19,
   "metadata": {},
   "outputs": [
    {
     "data": {
      "text/plain": "{'Name': 'Feature Selection KBest MI',\n 'Column Transforms': ['woeencoder', 'standardscaler'],\n 'Selector': <bound method BaseEstimator.get_params of SelectKBest(k=10, score_func=<function mutual_info_classif at 0x1a2262fb90>)>,\n 'Classifier': LogisticRegression(C=1.0, class_weight=None, dual=False, fit_intercept=True,\n                    intercept_scaling=1, l1_ratio=None, max_iter=100,\n                    multi_class='auto', n_jobs=None, penalty='l2',\n                    random_state=None, solver='lbfgs', tol=0.0001, verbose=0,\n                    warm_start=False),\n 'Selector - Scores':                               scores\n Count_Related_Interactions  0.003142\n CI_TypeSubType_aff          0.003868\n Open_Time_DayOfWeek         0.004314\n Impact                      0.005336\n Urgency                     0.006595\n Count_Related_Incidents     0.014658\n Count_Related_Changes       0.022491\n Open_Time_HourOfDay         0.024270\n Service_Component_WBS_aff   0.046818\n CI_Name_aff                 0.078864\n KM_number                   0.115640}"
     },
     "execution_count": 19,
     "metadata": {},
     "output_type": "execute_result"
    }
   ],
   "source": [
    "PipeLineMetadata['Selector - Scores'] = pd.DataFrame([pipe.named_steps.selectkbest.scores_], columns=X_train.columns, index=['scores']).transpose().sort_values(by=['scores'])\n",
    "PipeLineMetadata"
   ]
  },
  {
   "cell_type": "markdown",
   "metadata": {},
   "source": [
    "Identify the features retained"
   ]
  },
  {
   "cell_type": "code",
   "execution_count": 20,
   "metadata": {},
   "outputs": [
    {
     "data": {
      "text/plain": "[True, True, True, True, True, False, True, True, True, True, True]"
     },
     "execution_count": 20,
     "metadata": {},
     "output_type": "execute_result"
    }
   ],
   "source": [
    "# returns a mask of features retained\n",
    "pipe.named_steps.selectkbest.get_support().tolist()"
   ]
  },
  {
   "cell_type": "code",
   "execution_count": 21,
   "metadata": {},
   "outputs": [
    {
     "data": {
      "text/plain": "array(['CI_Name_aff', 'Service_Component_WBS_aff', 'Impact', 'Urgency',\n       'KM_number', 'Count_Related_Incidents', 'Count_Related_Changes',\n       'Open_Time_HourOfDay', 'Open_Time_DayOfWeek', 'CI_TypeSubType_aff'],\n      dtype='<U26')"
     },
     "execution_count": 21,
     "metadata": {},
     "output_type": "execute_result"
    }
   ],
   "source": [
    "# apply mask to X_train column names \n",
    "selectedFeatures = np.array(X_train.columns.tolist())[pipe.named_steps.selectkbest.get_support().tolist()]\n",
    "selectedFeatures"
   ]
  },
  {
   "cell_type": "code",
   "execution_count": 22,
   "metadata": {},
   "outputs": [
    {
     "data": {
      "text/plain": "{'Name': 'Feature Selection KBest MI',\n 'Column Transforms': ['woeencoder', 'standardscaler'],\n 'Selector': <bound method BaseEstimator.get_params of SelectKBest(k=10, score_func=<function mutual_info_classif at 0x1a2262fb90>)>,\n 'Classifier': LogisticRegression(C=1.0, class_weight=None, dual=False, fit_intercept=True,\n                    intercept_scaling=1, l1_ratio=None, max_iter=100,\n                    multi_class='auto', n_jobs=None, penalty='l2',\n                    random_state=None, solver='lbfgs', tol=0.0001, verbose=0,\n                    warm_start=False),\n 'Selector - Scores':                               scores\n Count_Related_Interactions  0.003142\n CI_TypeSubType_aff          0.003868\n Open_Time_DayOfWeek         0.004314\n Impact                      0.005336\n Urgency                     0.006595\n Count_Related_Incidents     0.014658\n Count_Related_Changes       0.022491\n Open_Time_HourOfDay         0.024270\n Service_Component_WBS_aff   0.046818\n CI_Name_aff                 0.078864\n KM_number                   0.115640,\n 'Classifier - Intercept': -0.9318808744218925,\n 'Classifier - Coefficients':                                   0\n CI_Name_aff                0.148247\n Service_Component_WBS_aff  0.008230\n Impact                     0.098013\n Urgency                    0.101840\n KM_number                  1.069553\n Count_Related_Incidents    1.242584\n Count_Related_Changes      0.015877\n Open_Time_HourOfDay        0.180741\n Open_Time_DayOfWeek       -0.036609\n CI_TypeSubType_aff         0.000961}"
     },
     "execution_count": 22,
     "metadata": {},
     "output_type": "execute_result"
    }
   ],
   "source": [
    "PipeLineMetadata['Classifier - Intercept'] = pipe.named_steps.logisticregression.intercept_[0]\n",
    "PipeLineMetadata['Classifier - Coefficients'] = pd.DataFrame(pipe.named_steps.logisticregression.coef_, columns=selectedFeatures).transpose()\n",
    "PipeLineMetadata"
   ]
  },
  {
   "cell_type": "markdown",
   "metadata": {},
   "source": [
    "## Cross-validate the Model with Training Data\n"
   ]
  },
  {
   "cell_type": "code",
   "execution_count": 23,
   "metadata": {},
   "outputs": [
    {
     "data": {
      "text/plain": "0.7371069182389937"
     },
     "execution_count": 23,
     "metadata": {},
     "output_type": "execute_result"
    }
   ],
   "source": [
    "PipeLineMetadata['Metrics - Cross Validation Accuracy'] = cross_val_score(pipe, X_train, y_train, cv=5, scoring=\"accuracy\").mean()\n",
    "PipeLineMetadata['Metrics - Cross Validation Accuracy']"
   ]
  },
  {
   "cell_type": "markdown",
   "metadata": {},
   "source": [
    "## Evaluate with Test Data"
   ]
  },
  {
   "cell_type": "markdown",
   "metadata": {},
   "source": [
    "Get predicted classification and predicted probabilities based on the model"
   ]
  },
  {
   "cell_type": "code",
   "execution_count": 24,
   "metadata": {},
   "outputs": [],
   "source": [
    "y_pred_class = pipe.predict(X_test)\n",
    "y_pred_prob = pipe.predict_proba(X_test)[:,1]"
   ]
  },
  {
   "cell_type": "code",
   "execution_count": 25,
   "metadata": {},
   "outputs": [
    {
     "data": {
      "text/plain": "0.6540110604531448"
     },
     "execution_count": 25,
     "metadata": {},
     "output_type": "execute_result"
    }
   ],
   "source": [
    "PipeLineMetadata['Metrics - F1 score'] = metrics.f1_score(y_test, y_pred_class, average='macro')\n",
    "PipeLineMetadata['Metrics - F1 score']"
   ]
  },
  {
   "cell_type": "markdown",
   "metadata": {},
   "source": [
    "Look at the resulting confusion matrix\n",
    "\n",
    "Save True Positive (TP), True Negative (TN), False Positive(FP), and False Negative (FN) values"
   ]
  },
  {
   "cell_type": "code",
   "execution_count": 26,
   "metadata": {},
   "outputs": [
    {
     "name": "stdout",
     "output_type": "stream",
     "text": "[[6604  841]\n [1873 1245]]\nTN: 6604 \t FP: 841 \nFN: 1873 \t TP: 1245 \n"
    }
   ],
   "source": [
    "confusion = metrics.confusion_matrix(y_test, y_pred_class)\n",
    "TP = confusion[1, 1]\n",
    "TN = confusion[0, 0]\n",
    "FP = confusion[0, 1]\n",
    "FN = confusion[1, 0]\n",
    "print(confusion)\n",
    "print(\"TN: %d \\t FP: %d \\nFN: %d \\t TP: %d \" % (TN, FP, FN, TP))"
   ]
  },
  {
   "cell_type": "markdown",
   "metadata": {},
   "source": [
    "Capture a few classification metrics:\n",
    "* Classification Accuracy: Overall, how often is the classifier correct?\n",
    "* Classification Error: Overall, how often is the classifier incorrect?\n",
    "* True Positive Rate  (Recall, Sensitivity): When the actual value is positive, how often is the prediction correct?\n",
    "* True Negative Rate (Specificity): When the actual value is negative, how often is the prediction correct?\n",
    "* False Positive Rate: When the actual value is negative, how often is the prediction incorrect?\n",
    "* Precision: When a positive value is predicted, how often is the prediction correct?\n"
   ]
  },
  {
   "cell_type": "code",
   "execution_count": 27,
   "metadata": {},
   "outputs": [],
   "source": [
    "PipeLineMetadata['Metrics - Confusion Matrix Classification Accuracy'] = metrics.accuracy_score(y_test,y_pred_class) \n",
    "PipeLineMetadata['Metrics - Confusion Matrix Classification Error'] = 1- metrics.accuracy_score(y_test,y_pred_class)\n",
    "PipeLineMetadata['Metrics - Confusion Matrix True Positive Rate'] = metrics.recall_score(y_test, y_pred_class) \n",
    "PipeLineMetadata['Metrics - Confusion Matrix True Negative Rate'] =  TN / float(TN + FP)\n",
    "PipeLineMetadata['Metrics - Confusion Matrix False Positive Rate'] =  FP / float(TN + FP)\n",
    "PipeLineMetadata['Metrics - Confusion Matrix Precision'] = metrics.precision_score(y_test,y_pred_class)"
   ]
  },
  {
   "cell_type": "code",
   "execution_count": 28,
   "metadata": {},
   "outputs": [
    {
     "data": {
      "text/plain": "{'Name': 'Feature Selection KBest MI',\n 'Column Transforms': ['woeencoder', 'standardscaler'],\n 'Selector': <bound method BaseEstimator.get_params of SelectKBest(k=10, score_func=<function mutual_info_classif at 0x1a2262fb90>)>,\n 'Classifier': LogisticRegression(C=1.0, class_weight=None, dual=False, fit_intercept=True,\n                    intercept_scaling=1, l1_ratio=None, max_iter=100,\n                    multi_class='auto', n_jobs=None, penalty='l2',\n                    random_state=None, solver='lbfgs', tol=0.0001, verbose=0,\n                    warm_start=False),\n 'Selector - Scores':                               scores\n Count_Related_Interactions  0.003142\n CI_TypeSubType_aff          0.003868\n Open_Time_DayOfWeek         0.004314\n Impact                      0.005336\n Urgency                     0.006595\n Count_Related_Incidents     0.014658\n Count_Related_Changes       0.022491\n Open_Time_HourOfDay         0.024270\n Service_Component_WBS_aff   0.046818\n CI_Name_aff                 0.078864\n KM_number                   0.115640,\n 'Classifier - Intercept': -0.9318808744218925,\n 'Classifier - Coefficients':                                   0\n CI_Name_aff                0.148247\n Service_Component_WBS_aff  0.008230\n Impact                     0.098013\n Urgency                    0.101840\n KM_number                  1.069553\n Count_Related_Incidents    1.242584\n Count_Related_Changes      0.015877\n Open_Time_HourOfDay        0.180741\n Open_Time_DayOfWeek       -0.036609\n CI_TypeSubType_aff         0.000961,\n 'Metrics - Cross Validation Accuracy': 0.7371069182389937,\n 'Metrics - F1 score': 0.6540110604531448,\n 'Metrics - Confusion Matrix Classification Accuracy': 0.7430654170216795,\n 'Metrics - Confusion Matrix Classification Error': 0.2569345829783205,\n 'Metrics - Confusion Matrix True Positive Rate': 0.39929441949967925,\n 'Metrics - Confusion Matrix True Negative Rate': 0.887038280725319,\n 'Metrics - Confusion Matrix False Positive Rate': 0.11296171927468099,\n 'Metrics - Confusion Matrix Precision': 0.5968360498561841}"
     },
     "execution_count": 28,
     "metadata": {},
     "output_type": "execute_result"
    }
   ],
   "source": [
    "PipeLineMetadata\n"
   ]
  },
  {
   "cell_type": "markdown",
   "metadata": {},
   "source": [
    "Add some ROC curve information and AUC result\n"
   ]
  },
  {
   "cell_type": "code",
   "execution_count": 29,
   "metadata": {},
   "outputs": [],
   "source": [
    "fpr, tpr, thresholds = metrics.roc_curve(y_test, y_pred_prob)"
   ]
  },
  {
   "cell_type": "code",
   "execution_count": 30,
   "metadata": {},
   "outputs": [],
   "source": [
    "PipeLineMetadata['Metrics - ROC Curve fpr array'] = fpr\n",
    "PipeLineMetadata['Metrics - ROC Curve tpr array'] = tpr"
   ]
  },
  {
   "cell_type": "code",
   "execution_count": 31,
   "metadata": {},
   "outputs": [
    {
     "data": {
      "image/png": "[encoded data removed]",
      "image/svg+xml": "<?xml version=\"1.0\" encoding=\"utf-8\" standalone=\"no\"?>\n<!DOCTYPE svg PUBLIC \"-//W3C//DTD SVG 1.1//EN\"\n  \"http://www.w3.org/Graphics/SVG/1.1/DTD/svg11.dtd\">\n<!-- Created with matplotlib (https://matplotlib.org/) -->\n<svg height=\"277.314375pt\" version=\"1.1\" viewBox=\"0 0 393.732813 277.314375\" width=\"393.732813pt\" xmlns=\"http://www.w3.org/2000/svg\" xmlns:xlink=\"http://www.w3.org/1999/xlink\">\n <defs>\n  <style type=\"text/css\">\n*{stroke-linecap:butt;stroke-linejoin:round;}\n  </style>\n </defs>\n <g id=\"figure_1\">\n  <g id=\"patch_1\">\n   <path d=\"M 0 277.314375 \nL 393.732813 277.314375 \nL 393.732813 0 \nL 0 0 \nz\n\" style=\"fill:none;\"/>\n  </g>\n  <g id=\"axes_1\">\n   <g id=\"patch_2\">\n    <path d=\"M 43.78125 239.758125 \nL 378.58125 239.758125 \nL 378.58125 22.318125 \nL 43.78125 22.318125 \nz\n\" style=\"fill:#ffffff;\"/>\n   </g>\n   <g id=\"matplotlib.axis_1\">\n    <g id=\"xtick_1\">\n     <g id=\"line2d_1\">\n      <path clip-path=\"url(#pef1cca54b1)\" d=\"M 43.78125 239.758125 \nL 43.78125 22.318125 \n\" style=\"fill:none;stroke:#b0b0b0;stroke-linecap:square;stroke-width:0.8;\"/>\n     </g>\n     <g id=\"line2d_2\">\n      <defs>\n       <path d=\"M 0 0 \nL 0 3.5 \n\" id=\"m07d2c75161\" style=\"stroke:#000000;stroke-width:0.8;\"/>\n      </defs>\n      <g>\n       <use style=\"stroke:#000000;stroke-width:0.8;\" x=\"43.78125\" xlink:href=\"#m07d2c75161\" y=\"239.758125\"/>\n      </g>\n     </g>\n     <g id=\"text_1\">\n      <!-- 0.0 -->\n      <defs>\n       <path d=\"M 31.78125 66.40625 \nQ 24.171875 66.40625 20.328125 58.90625 \nQ 16.5 51.421875 16.5 36.375 \nQ 16.5 21.390625 20.328125 13.890625 \nQ 24.171875 6.390625 31.78125 6.390625 \nQ 39.453125 6.390625 43.28125 13.890625 \nQ 47.125 21.390625 47.125 36.375 \nQ 47.125 51.421875 43.28125 58.90625 \nQ 39.453125 66.40625 31.78125 66.40625 \nz\nM 31.78125 74.21875 \nQ 44.046875 74.21875 50.515625 64.515625 \nQ 56.984375 54.828125 56.984375 36.375 \nQ 56.984375 17.96875 50.515625 8.265625 \nQ 44.046875 -1.421875 31.78125 -1.421875 \nQ 19.53125 -1.421875 13.0625 8.265625 \nQ 6.59375 17.96875 6.59375 36.375 \nQ 6.59375 54.828125 13.0625 64.515625 \nQ 19.53125 74.21875 31.78125 74.21875 \nz\n\" id=\"DejaVuSans-48\"/>\n       <path d=\"M 10.6875 12.40625 \nL 21 12.40625 \nL 21 0 \nL 10.6875 0 \nz\n\" id=\"DejaVuSans-46\"/>\n      </defs>\n      <g transform=\"translate(35.829688 254.356562)scale(0.1 -0.1)\">\n       <use xlink:href=\"#DejaVuSans-48\"/>\n       <use x=\"63.623047\" xlink:href=\"#DejaVuSans-46\"/>\n       <use x=\"95.410156\" xlink:href=\"#DejaVuSans-48\"/>\n      </g>\n     </g>\n    </g>\n    <g id=\"xtick_2\">\n     <g id=\"line2d_3\">\n      <path clip-path=\"url(#pef1cca54b1)\" d=\"M 110.74125 239.758125 \nL 110.74125 22.318125 \n\" style=\"fill:none;stroke:#b0b0b0;stroke-linecap:square;stroke-width:0.8;\"/>\n     </g>\n     <g id=\"line2d_4\">\n      <g>\n       <use style=\"stroke:#000000;stroke-width:0.8;\" x=\"110.74125\" xlink:href=\"#m07d2c75161\" y=\"239.758125\"/>\n      </g>\n     </g>\n     <g id=\"text_2\">\n      <!-- 0.2 -->\n      <defs>\n       <path d=\"M 19.1875 8.296875 \nL 53.609375 8.296875 \nL 53.609375 0 \nL 7.328125 0 \nL 7.328125 8.296875 \nQ 12.9375 14.109375 22.625 23.890625 \nQ 32.328125 33.6875 34.8125 36.53125 \nQ 39.546875 41.84375 41.421875 45.53125 \nQ 43.3125 49.21875 43.3125 52.78125 \nQ 43.3125 58.59375 39.234375 62.25 \nQ 35.15625 65.921875 28.609375 65.921875 \nQ 23.96875 65.921875 18.8125 64.3125 \nQ 13.671875 62.703125 7.8125 59.421875 \nL 7.8125 69.390625 \nQ 13.765625 71.78125 18.9375 73 \nQ 24.125 74.21875 28.421875 74.21875 \nQ 39.75 74.21875 46.484375 68.546875 \nQ 53.21875 62.890625 53.21875 53.421875 \nQ 53.21875 48.921875 51.53125 44.890625 \nQ 49.859375 40.875 45.40625 35.40625 \nQ 44.1875 33.984375 37.640625 27.21875 \nQ 31.109375 20.453125 19.1875 8.296875 \nz\n\" id=\"DejaVuSans-50\"/>\n      </defs>\n      <g transform=\"translate(102.789688 254.356562)scale(0.1 -0.1)\">\n       <use xlink:href=\"#DejaVuSans-48\"/>\n       <use x=\"63.623047\" xlink:href=\"#DejaVuSans-46\"/>\n       <use x=\"95.410156\" xlink:href=\"#DejaVuSans-50\"/>\n      </g>\n     </g>\n    </g>\n    <g id=\"xtick_3\">\n     <g id=\"line2d_5\">\n      <path clip-path=\"url(#pef1cca54b1)\" d=\"M 177.70125 239.758125 \nL 177.70125 22.318125 \n\" style=\"fill:none;stroke:#b0b0b0;stroke-linecap:square;stroke-width:0.8;\"/>\n     </g>\n     <g id=\"line2d_6\">\n      <g>\n       <use style=\"stroke:#000000;stroke-width:0.8;\" x=\"177.70125\" xlink:href=\"#m07d2c75161\" y=\"239.758125\"/>\n      </g>\n     </g>\n     <g id=\"text_3\">\n      <!-- 0.4 -->\n      <defs>\n       <path d=\"M 37.796875 64.3125 \nL 12.890625 25.390625 \nL 37.796875 25.390625 \nz\nM 35.203125 72.90625 \nL 47.609375 72.90625 \nL 47.609375 25.390625 \nL 58.015625 25.390625 \nL 58.015625 17.1875 \nL 47.609375 17.1875 \nL 47.609375 0 \nL 37.796875 0 \nL 37.796875 17.1875 \nL 4.890625 17.1875 \nL 4.890625 26.703125 \nz\n\" id=\"DejaVuSans-52\"/>\n      </defs>\n      <g transform=\"translate(169.749688 254.356562)scale(0.1 -0.1)\">\n       <use xlink:href=\"#DejaVuSans-48\"/>\n       <use x=\"63.623047\" xlink:href=\"#DejaVuSans-46\"/>\n       <use x=\"95.410156\" xlink:href=\"#DejaVuSans-52\"/>\n      </g>\n     </g>\n    </g>\n    <g id=\"xtick_4\">\n     <g id=\"line2d_7\">\n      <path clip-path=\"url(#pef1cca54b1)\" d=\"M 244.66125 239.758125 \nL 244.66125 22.318125 \n\" style=\"fill:none;stroke:#b0b0b0;stroke-linecap:square;stroke-width:0.8;\"/>\n     </g>\n     <g id=\"line2d_8\">\n      <g>\n       <use style=\"stroke:#000000;stroke-width:0.8;\" x=\"244.66125\" xlink:href=\"#m07d2c75161\" y=\"239.758125\"/>\n      </g>\n     </g>\n     <g id=\"text_4\">\n      <!-- 0.6 -->\n      <defs>\n       <path d=\"M 33.015625 40.375 \nQ 26.375 40.375 22.484375 35.828125 \nQ 18.609375 31.296875 18.609375 23.390625 \nQ 18.609375 15.53125 22.484375 10.953125 \nQ 26.375 6.390625 33.015625 6.390625 \nQ 39.65625 6.390625 43.53125 10.953125 \nQ 47.40625 15.53125 47.40625 23.390625 \nQ 47.40625 31.296875 43.53125 35.828125 \nQ 39.65625 40.375 33.015625 40.375 \nz\nM 52.59375 71.296875 \nL 52.59375 62.3125 \nQ 48.875 64.0625 45.09375 64.984375 \nQ 41.3125 65.921875 37.59375 65.921875 \nQ 27.828125 65.921875 22.671875 59.328125 \nQ 17.53125 52.734375 16.796875 39.40625 \nQ 19.671875 43.65625 24.015625 45.921875 \nQ 28.375 48.1875 33.59375 48.1875 \nQ 44.578125 48.1875 50.953125 41.515625 \nQ 57.328125 34.859375 57.328125 23.390625 \nQ 57.328125 12.15625 50.6875 5.359375 \nQ 44.046875 -1.421875 33.015625 -1.421875 \nQ 20.359375 -1.421875 13.671875 8.265625 \nQ 6.984375 17.96875 6.984375 36.375 \nQ 6.984375 53.65625 15.1875 63.9375 \nQ 23.390625 74.21875 37.203125 74.21875 \nQ 40.921875 74.21875 44.703125 73.484375 \nQ 48.484375 72.75 52.59375 71.296875 \nz\n\" id=\"DejaVuSans-54\"/>\n      </defs>\n      <g transform=\"translate(236.709688 254.356562)scale(0.1 -0.1)\">\n       <use xlink:href=\"#DejaVuSans-48\"/>\n       <use x=\"63.623047\" xlink:href=\"#DejaVuSans-46\"/>\n       <use x=\"95.410156\" xlink:href=\"#DejaVuSans-54\"/>\n      </g>\n     </g>\n    </g>\n    <g id=\"xtick_5\">\n     <g id=\"line2d_9\">\n      <path clip-path=\"url(#pef1cca54b1)\" d=\"M 311.62125 239.758125 \nL 311.62125 22.318125 \n\" style=\"fill:none;stroke:#b0b0b0;stroke-linecap:square;stroke-width:0.8;\"/>\n     </g>\n     <g id=\"line2d_10\">\n      <g>\n       <use style=\"stroke:#000000;stroke-width:0.8;\" x=\"311.62125\" xlink:href=\"#m07d2c75161\" y=\"239.758125\"/>\n      </g>\n     </g>\n     <g id=\"text_5\">\n      <!-- 0.8 -->\n      <defs>\n       <path d=\"M 31.78125 34.625 \nQ 24.75 34.625 20.71875 30.859375 \nQ 16.703125 27.09375 16.703125 20.515625 \nQ 16.703125 13.921875 20.71875 10.15625 \nQ 24.75 6.390625 31.78125 6.390625 \nQ 38.8125 6.390625 42.859375 10.171875 \nQ 46.921875 13.96875 46.921875 20.515625 \nQ 46.921875 27.09375 42.890625 30.859375 \nQ 38.875 34.625 31.78125 34.625 \nz\nM 21.921875 38.8125 \nQ 15.578125 40.375 12.03125 44.71875 \nQ 8.5 49.078125 8.5 55.328125 \nQ 8.5 64.0625 14.71875 69.140625 \nQ 20.953125 74.21875 31.78125 74.21875 \nQ 42.671875 74.21875 48.875 69.140625 \nQ 55.078125 64.0625 55.078125 55.328125 \nQ 55.078125 49.078125 51.53125 44.71875 \nQ 48 40.375 41.703125 38.8125 \nQ 48.828125 37.15625 52.796875 32.3125 \nQ 56.78125 27.484375 56.78125 20.515625 \nQ 56.78125 9.90625 50.3125 4.234375 \nQ 43.84375 -1.421875 31.78125 -1.421875 \nQ 19.734375 -1.421875 13.25 4.234375 \nQ 6.78125 9.90625 6.78125 20.515625 \nQ 6.78125 27.484375 10.78125 32.3125 \nQ 14.796875 37.15625 21.921875 38.8125 \nz\nM 18.3125 54.390625 \nQ 18.3125 48.734375 21.84375 45.5625 \nQ 25.390625 42.390625 31.78125 42.390625 \nQ 38.140625 42.390625 41.71875 45.5625 \nQ 45.3125 48.734375 45.3125 54.390625 \nQ 45.3125 60.0625 41.71875 63.234375 \nQ 38.140625 66.40625 31.78125 66.40625 \nQ 25.390625 66.40625 21.84375 63.234375 \nQ 18.3125 60.0625 18.3125 54.390625 \nz\n\" id=\"DejaVuSans-56\"/>\n      </defs>\n      <g transform=\"translate(303.669688 254.356562)scale(0.1 -0.1)\">\n       <use xlink:href=\"#DejaVuSans-48\"/>\n       <use x=\"63.623047\" xlink:href=\"#DejaVuSans-46\"/>\n       <use x=\"95.410156\" xlink:href=\"#DejaVuSans-56\"/>\n      </g>\n     </g>\n    </g>\n    <g id=\"xtick_6\">\n     <g id=\"line2d_11\">\n      <path clip-path=\"url(#pef1cca54b1)\" d=\"M 378.58125 239.758125 \nL 378.58125 22.318125 \n\" style=\"fill:none;stroke:#b0b0b0;stroke-linecap:square;stroke-width:0.8;\"/>\n     </g>\n     <g id=\"line2d_12\">\n      <g>\n       <use style=\"stroke:#000000;stroke-width:0.8;\" x=\"378.58125\" xlink:href=\"#m07d2c75161\" y=\"239.758125\"/>\n      </g>\n     </g>\n     <g id=\"text_6\">\n      <!-- 1.0 -->\n      <defs>\n       <path d=\"M 12.40625 8.296875 \nL 28.515625 8.296875 \nL 28.515625 63.921875 \nL 10.984375 60.40625 \nL 10.984375 69.390625 \nL 28.421875 72.90625 \nL 38.28125 72.90625 \nL 38.28125 8.296875 \nL 54.390625 8.296875 \nL 54.390625 0 \nL 12.40625 0 \nz\n\" id=\"DejaVuSans-49\"/>\n      </defs>\n      <g transform=\"translate(370.629687 254.356562)scale(0.1 -0.1)\">\n       <use xlink:href=\"#DejaVuSans-49\"/>\n       <use x=\"63.623047\" xlink:href=\"#DejaVuSans-46\"/>\n       <use x=\"95.410156\" xlink:href=\"#DejaVuSans-48\"/>\n      </g>\n     </g>\n    </g>\n    <g id=\"text_7\">\n     <!-- False Positive Rate (1 - Specificity) -->\n     <defs>\n      <path d=\"M 9.8125 72.90625 \nL 51.703125 72.90625 \nL 51.703125 64.59375 \nL 19.671875 64.59375 \nL 19.671875 43.109375 \nL 48.578125 43.109375 \nL 48.578125 34.8125 \nL 19.671875 34.8125 \nL 19.671875 0 \nL 9.8125 0 \nz\n\" id=\"DejaVuSans-70\"/>\n      <path d=\"M 34.28125 27.484375 \nQ 23.390625 27.484375 19.1875 25 \nQ 14.984375 22.515625 14.984375 16.5 \nQ 14.984375 11.71875 18.140625 8.90625 \nQ 21.296875 6.109375 26.703125 6.109375 \nQ 34.1875 6.109375 38.703125 11.40625 \nQ 43.21875 16.703125 43.21875 25.484375 \nL 43.21875 27.484375 \nz\nM 52.203125 31.203125 \nL 52.203125 0 \nL 43.21875 0 \nL 43.21875 8.296875 \nQ 40.140625 3.328125 35.546875 0.953125 \nQ 30.953125 -1.421875 24.3125 -1.421875 \nQ 15.921875 -1.421875 10.953125 3.296875 \nQ 6 8.015625 6 15.921875 \nQ 6 25.140625 12.171875 29.828125 \nQ 18.359375 34.515625 30.609375 34.515625 \nL 43.21875 34.515625 \nL 43.21875 35.40625 \nQ 43.21875 41.609375 39.140625 45 \nQ 35.0625 48.390625 27.6875 48.390625 \nQ 23 48.390625 18.546875 47.265625 \nQ 14.109375 46.140625 10.015625 43.890625 \nL 10.015625 52.203125 \nQ 14.9375 54.109375 19.578125 55.046875 \nQ 24.21875 56 28.609375 56 \nQ 40.484375 56 46.34375 49.84375 \nQ 52.203125 43.703125 52.203125 31.203125 \nz\n\" id=\"DejaVuSans-97\"/>\n      <path d=\"M 9.421875 75.984375 \nL 18.40625 75.984375 \nL 18.40625 0 \nL 9.421875 0 \nz\n\" id=\"DejaVuSans-108\"/>\n      <path d=\"M 44.28125 53.078125 \nL 44.28125 44.578125 \nQ 40.484375 46.53125 36.375 47.5 \nQ 32.28125 48.484375 27.875 48.484375 \nQ 21.1875 48.484375 17.84375 46.4375 \nQ 14.5 44.390625 14.5 40.28125 \nQ 14.5 37.15625 16.890625 35.375 \nQ 19.28125 33.59375 26.515625 31.984375 \nL 29.59375 31.296875 \nQ 39.15625 29.25 43.1875 25.515625 \nQ 47.21875 21.78125 47.21875 15.09375 \nQ 47.21875 7.46875 41.1875 3.015625 \nQ 35.15625 -1.421875 24.609375 -1.421875 \nQ 20.21875 -1.421875 15.453125 -0.5625 \nQ 10.6875 0.296875 5.421875 2 \nL 5.421875 11.28125 \nQ 10.40625 8.6875 15.234375 7.390625 \nQ 20.0625 6.109375 24.8125 6.109375 \nQ 31.15625 6.109375 34.5625 8.28125 \nQ 37.984375 10.453125 37.984375 14.40625 \nQ 37.984375 18.0625 35.515625 20.015625 \nQ 33.0625 21.96875 24.703125 23.78125 \nL 21.578125 24.515625 \nQ 13.234375 26.265625 9.515625 29.90625 \nQ 5.8125 33.546875 5.8125 39.890625 \nQ 5.8125 47.609375 11.28125 51.796875 \nQ 16.75 56 26.8125 56 \nQ 31.78125 56 36.171875 55.265625 \nQ 40.578125 54.546875 44.28125 53.078125 \nz\n\" id=\"DejaVuSans-115\"/>\n      <path d=\"M 56.203125 29.59375 \nL 56.203125 25.203125 \nL 14.890625 25.203125 \nQ 15.484375 15.921875 20.484375 11.0625 \nQ 25.484375 6.203125 34.421875 6.203125 \nQ 39.59375 6.203125 44.453125 7.46875 \nQ 49.3125 8.734375 54.109375 11.28125 \nL 54.109375 2.78125 \nQ 49.265625 0.734375 44.1875 -0.34375 \nQ 39.109375 -1.421875 33.890625 -1.421875 \nQ 20.796875 -1.421875 13.15625 6.1875 \nQ 5.515625 13.8125 5.515625 26.8125 \nQ 5.515625 40.234375 12.765625 48.109375 \nQ 20.015625 56 32.328125 56 \nQ 43.359375 56 49.78125 48.890625 \nQ 56.203125 41.796875 56.203125 29.59375 \nz\nM 47.21875 32.234375 \nQ 47.125 39.59375 43.09375 43.984375 \nQ 39.0625 48.390625 32.421875 48.390625 \nQ 24.90625 48.390625 20.390625 44.140625 \nQ 15.875 39.890625 15.1875 32.171875 \nz\n\" id=\"DejaVuSans-101\"/>\n      <path id=\"DejaVuSans-32\"/>\n      <path d=\"M 19.671875 64.796875 \nL 19.671875 37.40625 \nL 32.078125 37.40625 \nQ 38.96875 37.40625 42.71875 40.96875 \nQ 46.484375 44.53125 46.484375 51.125 \nQ 46.484375 57.671875 42.71875 61.234375 \nQ 38.96875 64.796875 32.078125 64.796875 \nz\nM 9.8125 72.90625 \nL 32.078125 72.90625 \nQ 44.34375 72.90625 50.609375 67.359375 \nQ 56.890625 61.8125 56.890625 51.125 \nQ 56.890625 40.328125 50.609375 34.8125 \nQ 44.34375 29.296875 32.078125 29.296875 \nL 19.671875 29.296875 \nL 19.671875 0 \nL 9.8125 0 \nz\n\" id=\"DejaVuSans-80\"/>\n      <path d=\"M 30.609375 48.390625 \nQ 23.390625 48.390625 19.1875 42.75 \nQ 14.984375 37.109375 14.984375 27.296875 \nQ 14.984375 17.484375 19.15625 11.84375 \nQ 23.34375 6.203125 30.609375 6.203125 \nQ 37.796875 6.203125 41.984375 11.859375 \nQ 46.1875 17.53125 46.1875 27.296875 \nQ 46.1875 37.015625 41.984375 42.703125 \nQ 37.796875 48.390625 30.609375 48.390625 \nz\nM 30.609375 56 \nQ 42.328125 56 49.015625 48.375 \nQ 55.71875 40.765625 55.71875 27.296875 \nQ 55.71875 13.875 49.015625 6.21875 \nQ 42.328125 -1.421875 30.609375 -1.421875 \nQ 18.84375 -1.421875 12.171875 6.21875 \nQ 5.515625 13.875 5.515625 27.296875 \nQ 5.515625 40.765625 12.171875 48.375 \nQ 18.84375 56 30.609375 56 \nz\n\" id=\"DejaVuSans-111\"/>\n      <path d=\"M 9.421875 54.6875 \nL 18.40625 54.6875 \nL 18.40625 0 \nL 9.421875 0 \nz\nM 9.421875 75.984375 \nL 18.40625 75.984375 \nL 18.40625 64.59375 \nL 9.421875 64.59375 \nz\n\" id=\"DejaVuSans-105\"/>\n      <path d=\"M 18.3125 70.21875 \nL 18.3125 54.6875 \nL 36.8125 54.6875 \nL 36.8125 47.703125 \nL 18.3125 47.703125 \nL 18.3125 18.015625 \nQ 18.3125 11.328125 20.140625 9.421875 \nQ 21.96875 7.515625 27.59375 7.515625 \nL 36.8125 7.515625 \nL 36.8125 0 \nL 27.59375 0 \nQ 17.1875 0 13.234375 3.875 \nQ 9.28125 7.765625 9.28125 18.015625 \nL 9.28125 47.703125 \nL 2.6875 47.703125 \nL 2.6875 54.6875 \nL 9.28125 54.6875 \nL 9.28125 70.21875 \nz\n\" id=\"DejaVuSans-116\"/>\n      <path d=\"M 2.984375 54.6875 \nL 12.5 54.6875 \nL 29.59375 8.796875 \nL 46.6875 54.6875 \nL 56.203125 54.6875 \nL 35.6875 0 \nL 23.484375 0 \nz\n\" id=\"DejaVuSans-118\"/>\n      <path d=\"M 44.390625 34.1875 \nQ 47.5625 33.109375 50.5625 29.59375 \nQ 53.5625 26.078125 56.59375 19.921875 \nL 66.609375 0 \nL 56 0 \nL 46.6875 18.703125 \nQ 43.0625 26.03125 39.671875 28.421875 \nQ 36.28125 30.8125 30.421875 30.8125 \nL 19.671875 30.8125 \nL 19.671875 0 \nL 9.8125 0 \nL 9.8125 72.90625 \nL 32.078125 72.90625 \nQ 44.578125 72.90625 50.734375 67.671875 \nQ 56.890625 62.453125 56.890625 51.90625 \nQ 56.890625 45.015625 53.6875 40.46875 \nQ 50.484375 35.9375 44.390625 34.1875 \nz\nM 19.671875 64.796875 \nL 19.671875 38.921875 \nL 32.078125 38.921875 \nQ 39.203125 38.921875 42.84375 42.21875 \nQ 46.484375 45.515625 46.484375 51.90625 \nQ 46.484375 58.296875 42.84375 61.546875 \nQ 39.203125 64.796875 32.078125 64.796875 \nz\n\" id=\"DejaVuSans-82\"/>\n      <path d=\"M 31 75.875 \nQ 24.46875 64.65625 21.28125 53.65625 \nQ 18.109375 42.671875 18.109375 31.390625 \nQ 18.109375 20.125 21.3125 9.0625 \nQ 24.515625 -2 31 -13.1875 \nL 23.1875 -13.1875 \nQ 15.875 -1.703125 12.234375 9.375 \nQ 8.59375 20.453125 8.59375 31.390625 \nQ 8.59375 42.28125 12.203125 53.3125 \nQ 15.828125 64.359375 23.1875 75.875 \nz\n\" id=\"DejaVuSans-40\"/>\n      <path d=\"M 4.890625 31.390625 \nL 31.203125 31.390625 \nL 31.203125 23.390625 \nL 4.890625 23.390625 \nz\n\" id=\"DejaVuSans-45\"/>\n      <path d=\"M 53.515625 70.515625 \nL 53.515625 60.890625 \nQ 47.90625 63.578125 42.921875 64.890625 \nQ 37.9375 66.21875 33.296875 66.21875 \nQ 25.25 66.21875 20.875 63.09375 \nQ 16.5 59.96875 16.5 54.203125 \nQ 16.5 49.359375 19.40625 46.890625 \nQ 22.3125 44.4375 30.421875 42.921875 \nL 36.375 41.703125 \nQ 47.40625 39.59375 52.65625 34.296875 \nQ 57.90625 29 57.90625 20.125 \nQ 57.90625 9.515625 50.796875 4.046875 \nQ 43.703125 -1.421875 29.984375 -1.421875 \nQ 24.8125 -1.421875 18.96875 -0.25 \nQ 13.140625 0.921875 6.890625 3.21875 \nL 6.890625 13.375 \nQ 12.890625 10.015625 18.65625 8.296875 \nQ 24.421875 6.59375 29.984375 6.59375 \nQ 38.421875 6.59375 43.015625 9.90625 \nQ 47.609375 13.234375 47.609375 19.390625 \nQ 47.609375 24.75 44.3125 27.78125 \nQ 41.015625 30.8125 33.5 32.328125 \nL 27.484375 33.5 \nQ 16.453125 35.6875 11.515625 40.375 \nQ 6.59375 45.0625 6.59375 53.421875 \nQ 6.59375 63.09375 13.40625 68.65625 \nQ 20.21875 74.21875 32.171875 74.21875 \nQ 37.3125 74.21875 42.625 73.28125 \nQ 47.953125 72.359375 53.515625 70.515625 \nz\n\" id=\"DejaVuSans-83\"/>\n      <path d=\"M 18.109375 8.203125 \nL 18.109375 -20.796875 \nL 9.078125 -20.796875 \nL 9.078125 54.6875 \nL 18.109375 54.6875 \nL 18.109375 46.390625 \nQ 20.953125 51.265625 25.265625 53.625 \nQ 29.59375 56 35.59375 56 \nQ 45.5625 56 51.78125 48.09375 \nQ 58.015625 40.1875 58.015625 27.296875 \nQ 58.015625 14.40625 51.78125 6.484375 \nQ 45.5625 -1.421875 35.59375 -1.421875 \nQ 29.59375 -1.421875 25.265625 0.953125 \nQ 20.953125 3.328125 18.109375 8.203125 \nz\nM 48.6875 27.296875 \nQ 48.6875 37.203125 44.609375 42.84375 \nQ 40.53125 48.484375 33.40625 48.484375 \nQ 26.265625 48.484375 22.1875 42.84375 \nQ 18.109375 37.203125 18.109375 27.296875 \nQ 18.109375 17.390625 22.1875 11.75 \nQ 26.265625 6.109375 33.40625 6.109375 \nQ 40.53125 6.109375 44.609375 11.75 \nQ 48.6875 17.390625 48.6875 27.296875 \nz\n\" id=\"DejaVuSans-112\"/>\n      <path d=\"M 48.78125 52.59375 \nL 48.78125 44.1875 \nQ 44.96875 46.296875 41.140625 47.34375 \nQ 37.3125 48.390625 33.40625 48.390625 \nQ 24.65625 48.390625 19.8125 42.84375 \nQ 14.984375 37.3125 14.984375 27.296875 \nQ 14.984375 17.28125 19.8125 11.734375 \nQ 24.65625 6.203125 33.40625 6.203125 \nQ 37.3125 6.203125 41.140625 7.25 \nQ 44.96875 8.296875 48.78125 10.40625 \nL 48.78125 2.09375 \nQ 45.015625 0.34375 40.984375 -0.53125 \nQ 36.96875 -1.421875 32.421875 -1.421875 \nQ 20.0625 -1.421875 12.78125 6.34375 \nQ 5.515625 14.109375 5.515625 27.296875 \nQ 5.515625 40.671875 12.859375 48.328125 \nQ 20.21875 56 33.015625 56 \nQ 37.15625 56 41.109375 55.140625 \nQ 45.0625 54.296875 48.78125 52.59375 \nz\n\" id=\"DejaVuSans-99\"/>\n      <path d=\"M 37.109375 75.984375 \nL 37.109375 68.5 \nL 28.515625 68.5 \nQ 23.6875 68.5 21.796875 66.546875 \nQ 19.921875 64.59375 19.921875 59.515625 \nL 19.921875 54.6875 \nL 34.71875 54.6875 \nL 34.71875 47.703125 \nL 19.921875 47.703125 \nL 19.921875 0 \nL 10.890625 0 \nL 10.890625 47.703125 \nL 2.296875 47.703125 \nL 2.296875 54.6875 \nL 10.890625 54.6875 \nL 10.890625 58.5 \nQ 10.890625 67.625 15.140625 71.796875 \nQ 19.390625 75.984375 28.609375 75.984375 \nz\n\" id=\"DejaVuSans-102\"/>\n      <path d=\"M 32.171875 -5.078125 \nQ 28.375 -14.84375 24.75 -17.8125 \nQ 21.140625 -20.796875 15.09375 -20.796875 \nL 7.90625 -20.796875 \nL 7.90625 -13.28125 \nL 13.1875 -13.28125 \nQ 16.890625 -13.28125 18.9375 -11.515625 \nQ 21 -9.765625 23.484375 -3.21875 \nL 25.09375 0.875 \nL 2.984375 54.6875 \nL 12.5 54.6875 \nL 29.59375 11.921875 \nL 46.6875 54.6875 \nL 56.203125 54.6875 \nz\n\" id=\"DejaVuSans-121\"/>\n      <path d=\"M 8.015625 75.875 \nL 15.828125 75.875 \nQ 23.140625 64.359375 26.78125 53.3125 \nQ 30.421875 42.28125 30.421875 31.390625 \nQ 30.421875 20.453125 26.78125 9.375 \nQ 23.140625 -1.703125 15.828125 -13.1875 \nL 8.015625 -13.1875 \nQ 14.5 -2 17.703125 9.0625 \nQ 20.90625 20.125 20.90625 31.390625 \nQ 20.90625 42.671875 17.703125 53.65625 \nQ 14.5 64.65625 8.015625 75.875 \nz\n\" id=\"DejaVuSans-41\"/>\n     </defs>\n     <g transform=\"translate(124.551563 268.034687)scale(0.1 -0.1)\">\n      <use xlink:href=\"#DejaVuSans-70\"/>\n      <use x=\"57.378906\" xlink:href=\"#DejaVuSans-97\"/>\n      <use x=\"118.658203\" xlink:href=\"#DejaVuSans-108\"/>\n      <use x=\"146.441406\" xlink:href=\"#DejaVuSans-115\"/>\n      <use x=\"198.541016\" xlink:href=\"#DejaVuSans-101\"/>\n      <use x=\"260.064453\" xlink:href=\"#DejaVuSans-32\"/>\n      <use x=\"291.851562\" xlink:href=\"#DejaVuSans-80\"/>\n      <use x=\"352.107422\" xlink:href=\"#DejaVuSans-111\"/>\n      <use x=\"413.289062\" xlink:href=\"#DejaVuSans-115\"/>\n      <use x=\"465.388672\" xlink:href=\"#DejaVuSans-105\"/>\n      <use x=\"493.171875\" xlink:href=\"#DejaVuSans-116\"/>\n      <use x=\"532.380859\" xlink:href=\"#DejaVuSans-105\"/>\n      <use x=\"560.164062\" xlink:href=\"#DejaVuSans-118\"/>\n      <use x=\"619.34375\" xlink:href=\"#DejaVuSans-101\"/>\n      <use x=\"680.867188\" xlink:href=\"#DejaVuSans-32\"/>\n      <use x=\"712.654297\" xlink:href=\"#DejaVuSans-82\"/>\n      <use x=\"782.105469\" xlink:href=\"#DejaVuSans-97\"/>\n      <use x=\"843.384766\" xlink:href=\"#DejaVuSans-116\"/>\n      <use x=\"882.59375\" xlink:href=\"#DejaVuSans-101\"/>\n      <use x=\"944.117188\" xlink:href=\"#DejaVuSans-32\"/>\n      <use x=\"975.904297\" xlink:href=\"#DejaVuSans-40\"/>\n      <use x=\"1014.917969\" xlink:href=\"#DejaVuSans-49\"/>\n      <use x=\"1078.541016\" xlink:href=\"#DejaVuSans-32\"/>\n      <use x=\"1110.328125\" xlink:href=\"#DejaVuSans-45\"/>\n      <use x=\"1146.412109\" xlink:href=\"#DejaVuSans-32\"/>\n      <use x=\"1178.199219\" xlink:href=\"#DejaVuSans-83\"/>\n      <use x=\"1241.675781\" xlink:href=\"#DejaVuSans-112\"/>\n      <use x=\"1305.152344\" xlink:href=\"#DejaVuSans-101\"/>\n      <use x=\"1366.675781\" xlink:href=\"#DejaVuSans-99\"/>\n      <use x=\"1421.65625\" xlink:href=\"#DejaVuSans-105\"/>\n      <use x=\"1449.439453\" xlink:href=\"#DejaVuSans-102\"/>\n      <use x=\"1484.644531\" xlink:href=\"#DejaVuSans-105\"/>\n      <use x=\"1512.427734\" xlink:href=\"#DejaVuSans-99\"/>\n      <use x=\"1567.408203\" xlink:href=\"#DejaVuSans-105\"/>\n      <use x=\"1595.191406\" xlink:href=\"#DejaVuSans-116\"/>\n      <use x=\"1634.400391\" xlink:href=\"#DejaVuSans-121\"/>\n      <use x=\"1693.580078\" xlink:href=\"#DejaVuSans-41\"/>\n     </g>\n    </g>\n   </g>\n   <g id=\"matplotlib.axis_2\">\n    <g id=\"ytick_1\">\n     <g id=\"line2d_13\">\n      <path clip-path=\"url(#pef1cca54b1)\" d=\"M 43.78125 239.758125 \nL 378.58125 239.758125 \n\" style=\"fill:none;stroke:#b0b0b0;stroke-linecap:square;stroke-width:0.8;\"/>\n     </g>\n     <g id=\"line2d_14\">\n      <defs>\n       <path d=\"M 0 0 \nL -3.5 0 \n\" id=\"m842aefd5bb\" style=\"stroke:#000000;stroke-width:0.8;\"/>\n      </defs>\n      <g>\n       <use style=\"stroke:#000000;stroke-width:0.8;\" x=\"43.78125\" xlink:href=\"#m842aefd5bb\" y=\"239.758125\"/>\n      </g>\n     </g>\n     <g id=\"text_8\">\n      <!-- 0.0 -->\n      <g transform=\"translate(20.878125 243.557344)scale(0.1 -0.1)\">\n       <use xlink:href=\"#DejaVuSans-48\"/>\n       <use x=\"63.623047\" xlink:href=\"#DejaVuSans-46\"/>\n       <use x=\"95.410156\" xlink:href=\"#DejaVuSans-48\"/>\n      </g>\n     </g>\n    </g>\n    <g id=\"ytick_2\">\n     <g id=\"line2d_15\">\n      <path clip-path=\"url(#pef1cca54b1)\" d=\"M 43.78125 196.270125 \nL 378.58125 196.270125 \n\" style=\"fill:none;stroke:#b0b0b0;stroke-linecap:square;stroke-width:0.8;\"/>\n     </g>\n     <g id=\"line2d_16\">\n      <g>\n       <use style=\"stroke:#000000;stroke-width:0.8;\" x=\"43.78125\" xlink:href=\"#m842aefd5bb\" y=\"196.270125\"/>\n      </g>\n     </g>\n     <g id=\"text_9\">\n      <!-- 0.2 -->\n      <g transform=\"translate(20.878125 200.069344)scale(0.1 -0.1)\">\n       <use xlink:href=\"#DejaVuSans-48\"/>\n       <use x=\"63.623047\" xlink:href=\"#DejaVuSans-46\"/>\n       <use x=\"95.410156\" xlink:href=\"#DejaVuSans-50\"/>\n      </g>\n     </g>\n    </g>\n    <g id=\"ytick_3\">\n     <g id=\"line2d_17\">\n      <path clip-path=\"url(#pef1cca54b1)\" d=\"M 43.78125 152.782125 \nL 378.58125 152.782125 \n\" style=\"fill:none;stroke:#b0b0b0;stroke-linecap:square;stroke-width:0.8;\"/>\n     </g>\n     <g id=\"line2d_18\">\n      <g>\n       <use style=\"stroke:#000000;stroke-width:0.8;\" x=\"43.78125\" xlink:href=\"#m842aefd5bb\" y=\"152.782125\"/>\n      </g>\n     </g>\n     <g id=\"text_10\">\n      <!-- 0.4 -->\n      <g transform=\"translate(20.878125 156.581344)scale(0.1 -0.1)\">\n       <use xlink:href=\"#DejaVuSans-48\"/>\n       <use x=\"63.623047\" xlink:href=\"#DejaVuSans-46\"/>\n       <use x=\"95.410156\" xlink:href=\"#DejaVuSans-52\"/>\n      </g>\n     </g>\n    </g>\n    <g id=\"ytick_4\">\n     <g id=\"line2d_19\">\n      <path clip-path=\"url(#pef1cca54b1)\" d=\"M 43.78125 109.294125 \nL 378.58125 109.294125 \n\" style=\"fill:none;stroke:#b0b0b0;stroke-linecap:square;stroke-width:0.8;\"/>\n     </g>\n     <g id=\"line2d_20\">\n      <g>\n       <use style=\"stroke:#000000;stroke-width:0.8;\" x=\"43.78125\" xlink:href=\"#m842aefd5bb\" y=\"109.294125\"/>\n      </g>\n     </g>\n     <g id=\"text_11\">\n      <!-- 0.6 -->\n      <g transform=\"translate(20.878125 113.093344)scale(0.1 -0.1)\">\n       <use xlink:href=\"#DejaVuSans-48\"/>\n       <use x=\"63.623047\" xlink:href=\"#DejaVuSans-46\"/>\n       <use x=\"95.410156\" xlink:href=\"#DejaVuSans-54\"/>\n      </g>\n     </g>\n    </g>\n    <g id=\"ytick_5\">\n     <g id=\"line2d_21\">\n      <path clip-path=\"url(#pef1cca54b1)\" d=\"M 43.78125 65.806125 \nL 378.58125 65.806125 \n\" style=\"fill:none;stroke:#b0b0b0;stroke-linecap:square;stroke-width:0.8;\"/>\n     </g>\n     <g id=\"line2d_22\">\n      <g>\n       <use style=\"stroke:#000000;stroke-width:0.8;\" x=\"43.78125\" xlink:href=\"#m842aefd5bb\" y=\"65.806125\"/>\n      </g>\n     </g>\n     <g id=\"text_12\">\n      <!-- 0.8 -->\n      <g transform=\"translate(20.878125 69.605344)scale(0.1 -0.1)\">\n       <use xlink:href=\"#DejaVuSans-48\"/>\n       <use x=\"63.623047\" xlink:href=\"#DejaVuSans-46\"/>\n       <use x=\"95.410156\" xlink:href=\"#DejaVuSans-56\"/>\n      </g>\n     </g>\n    </g>\n    <g id=\"ytick_6\">\n     <g id=\"line2d_23\">\n      <path clip-path=\"url(#pef1cca54b1)\" d=\"M 43.78125 22.318125 \nL 378.58125 22.318125 \n\" style=\"fill:none;stroke:#b0b0b0;stroke-linecap:square;stroke-width:0.8;\"/>\n     </g>\n     <g id=\"line2d_24\">\n      <g>\n       <use style=\"stroke:#000000;stroke-width:0.8;\" x=\"43.78125\" xlink:href=\"#m842aefd5bb\" y=\"22.318125\"/>\n      </g>\n     </g>\n     <g id=\"text_13\">\n      <!-- 1.0 -->\n      <g transform=\"translate(20.878125 26.117344)scale(0.1 -0.1)\">\n       <use xlink:href=\"#DejaVuSans-49\"/>\n       <use x=\"63.623047\" xlink:href=\"#DejaVuSans-46\"/>\n       <use x=\"95.410156\" xlink:href=\"#DejaVuSans-48\"/>\n      </g>\n     </g>\n    </g>\n    <g id=\"text_14\">\n     <!-- True Positive Rate (Sensitivity) -->\n     <defs>\n      <path d=\"M -0.296875 72.90625 \nL 61.375 72.90625 \nL 61.375 64.59375 \nL 35.5 64.59375 \nL 35.5 0 \nL 25.59375 0 \nL 25.59375 64.59375 \nL -0.296875 64.59375 \nz\n\" id=\"DejaVuSans-84\"/>\n      <path d=\"M 41.109375 46.296875 \nQ 39.59375 47.171875 37.8125 47.578125 \nQ 36.03125 48 33.890625 48 \nQ 26.265625 48 22.1875 43.046875 \nQ 18.109375 38.09375 18.109375 28.8125 \nL 18.109375 0 \nL 9.078125 0 \nL 9.078125 54.6875 \nL 18.109375 54.6875 \nL 18.109375 46.1875 \nQ 20.953125 51.171875 25.484375 53.578125 \nQ 30.03125 56 36.53125 56 \nQ 37.453125 56 38.578125 55.875 \nQ 39.703125 55.765625 41.0625 55.515625 \nz\n\" id=\"DejaVuSans-114\"/>\n      <path d=\"M 8.5 21.578125 \nL 8.5 54.6875 \nL 17.484375 54.6875 \nL 17.484375 21.921875 \nQ 17.484375 14.15625 20.5 10.265625 \nQ 23.53125 6.390625 29.59375 6.390625 \nQ 36.859375 6.390625 41.078125 11.03125 \nQ 45.3125 15.671875 45.3125 23.6875 \nL 45.3125 54.6875 \nL 54.296875 54.6875 \nL 54.296875 0 \nL 45.3125 0 \nL 45.3125 8.40625 \nQ 42.046875 3.421875 37.71875 1 \nQ 33.40625 -1.421875 27.6875 -1.421875 \nQ 18.265625 -1.421875 13.375 4.4375 \nQ 8.5 10.296875 8.5 21.578125 \nz\nM 31.109375 56 \nz\n\" id=\"DejaVuSans-117\"/>\n      <path d=\"M 54.890625 33.015625 \nL 54.890625 0 \nL 45.90625 0 \nL 45.90625 32.71875 \nQ 45.90625 40.484375 42.875 44.328125 \nQ 39.84375 48.1875 33.796875 48.1875 \nQ 26.515625 48.1875 22.3125 43.546875 \nQ 18.109375 38.921875 18.109375 30.90625 \nL 18.109375 0 \nL 9.078125 0 \nL 9.078125 54.6875 \nL 18.109375 54.6875 \nL 18.109375 46.1875 \nQ 21.34375 51.125 25.703125 53.5625 \nQ 30.078125 56 35.796875 56 \nQ 45.21875 56 50.046875 50.171875 \nQ 54.890625 44.34375 54.890625 33.015625 \nz\n\" id=\"DejaVuSans-110\"/>\n     </defs>\n     <g transform=\"translate(14.798438 208.105312)rotate(-90)scale(0.1 -0.1)\">\n      <use xlink:href=\"#DejaVuSans-84\"/>\n      <use x=\"60.865234\" xlink:href=\"#DejaVuSans-114\"/>\n      <use x=\"101.978516\" xlink:href=\"#DejaVuSans-117\"/>\n      <use x=\"165.357422\" xlink:href=\"#DejaVuSans-101\"/>\n      <use x=\"226.880859\" xlink:href=\"#DejaVuSans-32\"/>\n      <use x=\"258.667969\" xlink:href=\"#DejaVuSans-80\"/>\n      <use x=\"318.923828\" xlink:href=\"#DejaVuSans-111\"/>\n      <use x=\"380.105469\" xlink:href=\"#DejaVuSans-115\"/>\n      <use x=\"432.205078\" xlink:href=\"#DejaVuSans-105\"/>\n      <use x=\"459.988281\" xlink:href=\"#DejaVuSans-116\"/>\n      <use x=\"499.197266\" xlink:href=\"#DejaVuSans-105\"/>\n      <use x=\"526.980469\" xlink:href=\"#DejaVuSans-118\"/>\n      <use x=\"586.160156\" xlink:href=\"#DejaVuSans-101\"/>\n      <use x=\"647.683594\" xlink:href=\"#DejaVuSans-32\"/>\n      <use x=\"679.470703\" xlink:href=\"#DejaVuSans-82\"/>\n      <use x=\"748.921875\" xlink:href=\"#DejaVuSans-97\"/>\n      <use x=\"810.201172\" xlink:href=\"#DejaVuSans-116\"/>\n      <use x=\"849.410156\" xlink:href=\"#DejaVuSans-101\"/>\n      <use x=\"910.933594\" xlink:href=\"#DejaVuSans-32\"/>\n      <use x=\"942.720703\" xlink:href=\"#DejaVuSans-40\"/>\n      <use x=\"981.734375\" xlink:href=\"#DejaVuSans-83\"/>\n      <use x=\"1045.210938\" xlink:href=\"#DejaVuSans-101\"/>\n      <use x=\"1106.734375\" xlink:href=\"#DejaVuSans-110\"/>\n      <use x=\"1170.113281\" xlink:href=\"#DejaVuSans-115\"/>\n      <use x=\"1222.212891\" xlink:href=\"#DejaVuSans-105\"/>\n      <use x=\"1249.996094\" xlink:href=\"#DejaVuSans-116\"/>\n      <use x=\"1289.205078\" xlink:href=\"#DejaVuSans-105\"/>\n      <use x=\"1316.988281\" xlink:href=\"#DejaVuSans-118\"/>\n      <use x=\"1376.167969\" xlink:href=\"#DejaVuSans-105\"/>\n      <use x=\"1403.951172\" xlink:href=\"#DejaVuSans-116\"/>\n      <use x=\"1443.160156\" xlink:href=\"#DejaVuSans-121\"/>\n      <use x=\"1502.339844\" xlink:href=\"#DejaVuSans-41\"/>\n     </g>\n    </g>\n   </g>\n   <g id=\"line2d_25\">\n    <path clip-path=\"url(#pef1cca54b1)\" d=\"M 43.78125 239.758125 \nL 43.78125 239.688388 \nL 43.961129 239.688388 \nL 44.006099 238.223911 \nL 44.141008 238.223911 \nL 44.141008 238.154174 \nL 44.230948 236.968645 \nL 44.275918 236.968645 \nL 44.365857 236.61996 \nL 44.410827 236.61996 \nL 44.500766 236.062063 \nL 44.545736 236.062063 \nL 44.590706 235.504167 \nL 44.635676 235.504167 \nL 45.355192 233.063372 \nL 45.400162 232.505476 \nL 45.535071 232.435739 \nL 45.625011 231.877843 \nL 45.669981 231.668632 \nL 45.75992 230.06468 \nL 46.434467 226.57783 \nL 46.614346 226.438356 \nL 46.704286 226.438356 \nL 46.704286 226.368619 \nL 46.794225 225.950197 \nL 46.839195 225.950197 \nL 46.929134 225.113353 \nL 47.019074 225.043616 \nL 47.019074 224.973879 \nL 47.064044 224.973879 \nL 47.963439 222.393609 \nL 48.053379 222.393609 \nL 48.053379 222.323872 \nL 48.233258 221.975187 \nL 48.278228 221.696239 \nL 48.323198 221.696239 \nL 48.368167 221.487028 \nL 48.368167 221.277817 \nL 48.503077 221.277817 \nL 48.548047 220.580447 \nL 48.772895 220.51071 \nL 48.817865 219.952814 \nL 48.862835 219.952814 \nL 49.042714 218.906759 \nL 49.087684 218.697548 \nL 49.132654 217.790967 \nL 49.312533 217.512019 \nL 49.357503 217.093596 \nL 49.492412 217.023859 \nL 49.492412 216.814648 \nL 49.717261 216.396226 \nL 49.762231 215.768593 \nL 49.89714 215.768593 \nL 49.94211 215.210697 \nL 50.077019 215.210697 \nL 50.301868 215.071223 \nL 50.391807 214.44359 \nL 50.526717 214.373853 \nL 50.616656 214.025168 \nL 50.706596 214.025168 \nL 50.796535 213.467272 \nL 50.841505 213.467272 \nL 50.841505 213.397535 \nL 51.021384 213.04885 \nL 51.111324 212.769902 \nL 51.201263 212.769902 \nL 51.291203 212.490954 \nL 51.471082 212.421217 \nL 51.516052 211.863321 \nL 51.650961 211.444899 \nL 51.740901 210.398843 \nL 51.785871 210.398843 \nL 51.785871 210.329106 \nL 51.87581 210.050158 \nL 52.010719 209.980421 \nL 52.280538 209.561999 \nL 52.460417 209.492262 \nL 52.460417 209.213314 \nL 52.640296 208.655418 \nL 53.359813 206.005412 \nL 53.449752 205.935675 \nL 53.449752 205.726464 \nL 53.584662 205.656727 \nL 53.674601 205.098831 \nL 54.124299 204.40146 \nL 54.214239 204.331723 \nL 54.214239 204.192249 \nL 54.259208 204.192249 \nL 54.618967 203.146194 \nL 54.888785 202.936983 \nL 56.552667 199.310659 \nL 56.642607 199.310659 \nL 56.642607 199.171185 \nL 56.777516 199.171185 \nL 56.912425 198.8225 \nL 56.957395 198.8225 \nL 57.047335 198.264604 \nL 57.182244 198.055392 \nL 57.227214 197.706707 \nL 57.631942 195.963282 \nL 58.08164 195.126438 \nL 58.306488 194.708016 \nL 58.351458 194.708016 \nL 58.351458 194.638279 \nL 58.441398 194.429068 \nL 58.531337 194.010646 \nL 58.576307 194.010646 \nL 58.576307 193.801435 \nL 58.666247 193.801435 \nL 58.756186 193.801435 \nL 58.846126 193.313276 \nL 59.115944 193.243539 \nL 59.160914 192.75538 \nL 59.295824 192.615906 \nL 59.295824 192.267221 \nL 59.385763 192.267221 \nL 59.520672 191.988273 \nL 59.9254 190.454058 \nL 59.97037 190.454058 \nL 60.06031 190.035636 \nL 60.10528 190.035636 \nL 60.10528 189.965899 \nL 60.285159 189.756688 \nL 60.420068 189.756688 \nL 60.510008 189.268529 \nL 60.689887 189.198792 \nL 60.779826 188.989581 \nL 60.824796 188.989581 \nL 61.319464 186.339575 \nL 61.589282 185.781679 \nL 61.589282 185.711942 \nL 61.679222 185.711942 \nL 61.859101 185.293519 \nL 61.94904 184.665886 \nL 62.08395 184.596149 \nL 62.173889 184.386938 \nL 62.263829 184.317201 \nL 62.353768 184.177727 \nL 62.398738 184.177727 \nL 62.488678 184.038253 \nL 62.533648 183.689568 \nL 62.623587 183.689568 \nL 62.623587 183.619831 \nL 62.713527 183.131672 \nL 62.848436 183.061935 \nL 62.938376 182.922461 \nL 62.983345 182.922461 \nL 62.983345 182.852724 \nL 63.118255 182.643513 \nL 63.118255 182.504039 \nL 63.208194 182.504039 \nL 63.253164 182.504039 \nL 63.253164 182.434302 \nL 63.298134 182.085617 \nL 63.433043 182.085617 \nL 63.433043 182.01588 \nL 63.747832 181.806669 \nL 64.10759 180.969825 \nL 64.242499 180.900088 \nL 64.332439 180.690877 \nL 64.377408 180.690877 \nL 64.377408 180.62114 \nL 64.872076 179.993507 \nL 65.006985 179.92377 \nL 65.006985 179.784296 \nL 65.321774 179.017189 \nL 65.411713 178.529029 \nL 65.591593 178.319818 \nL 65.591593 178.180344 \nL 65.816441 177.831659 \nL 65.996321 177.761922 \nL 66.08626 177.273763 \nL 66.13123 177.273763 \nL 66.221169 176.785604 \nL 66.401049 176.715867 \nL 66.490988 176.297445 \nL 66.805777 175.879023 \nL 67.030625 175.809286 \nL 67.030625 175.600075 \nL 67.075595 175.600075 \nL 67.390384 175.600075 \nL 67.390384 175.530338 \nL 67.615233 175.181653 \nL 67.750142 175.181653 \nL 67.750142 175.111916 \nL 68.019961 174.55402 \nL 68.1099 174.205335 \nL 68.15487 174.135598 \nL 68.289779 174.135598 \nL 68.469658 173.85665 \nL 68.694507 173.85665 \nL 68.694507 173.786913 \nL 68.739477 173.507965 \nL 69.099235 172.740858 \nL 69.189175 172.461909 \nL 69.234145 172.461909 \nL 69.414024 172.182961 \nL 69.458993 171.764539 \nL 69.638873 171.694802 \nL 69.773782 171.485591 \nL 69.863721 171.485591 \nL 69.863721 171.206643 \nL 70.043601 171.136906 \nL 70.13354 170.788221 \nL 70.17851 170.788221 \nL 70.17851 170.648747 \nL 70.22348 170.648747 \nL 70.763117 170.648747 \nL 70.763117 170.57901 \nL 70.853057 170.439536 \nL 70.942996 170.090851 \nL 70.987966 170.090851 \nL 71.032936 169.463218 \nL 71.302754 169.463218 \nL 71.527603 168.347426 \nL 71.887361 168.207952 \nL 71.887361 168.068478 \nL 71.977301 168.068478 \nL 72.15718 167.510582 \nL 72.20215 167.510582 \nL 72.20215 167.301371 \nL 72.24712 167.301371 \nL 72.696817 166.185578 \nL 72.786757 166.185578 \nL 73.146515 165.418471 \nL 73.686153 164.790838 \nL 73.686153 164.651364 \nL 73.731122 164.651364 \nL 74.450639 163.256624 \nL 74.540578 163.11715 \nL 74.675488 163.11715 \nL 74.855367 162.768465 \nL 75.125186 162.698728 \nL 75.395004 162.350043 \nL 75.979611 161.861884 \nL 75.979611 161.72241 \nL 76.069551 161.72241 \nL 76.15949 161.72241 \nL 76.384339 161.513199 \nL 76.564218 161.443462 \nL 76.564218 161.094777 \nL 76.609188 161.094777 \nL 76.879007 161.02504 \nL 77.103856 160.885566 \nL 77.283735 160.257933 \nL 77.328705 160.257933 \nL 77.328705 160.188196 \nL 77.508584 160.048722 \nL 77.598523 159.978985 \nL 77.688463 159.630299 \nL 78.31804 158.584244 \nL 78.587858 157.817137 \nL 78.767738 157.607926 \nL 78.857677 157.607926 \nL 78.902647 157.328978 \nL 80.34168 155.236868 \nL 80.38665 155.027657 \nL 80.746408 154.95792 \nL 80.836347 154.190813 \nL 80.881317 154.121076 \nL 80.881317 153.842128 \nL 81.106166 153.842128 \nL 81.510894 153.005283 \nL 81.645803 152.935546 \nL 81.870652 152.796072 \nL 82.815018 151.261858 \nL 83.399625 148.821063 \nL 83.534534 148.821063 \nL 83.579504 148.542115 \nL 83.624474 148.542115 \nL 84.119141 147.635534 \nL 84.568839 147.426323 \nL 84.928597 147.356586 \nL 84.928597 147.217112 \nL 85.513204 146.798689 \nL 85.558174 146.380267 \nL 85.738053 146.380267 \nL 85.827993 146.101319 \nL 86.187751 145.264475 \nL 86.232721 145.264475 \nL 86.32266 144.497368 \nL 86.45757 144.148683 \nL 86.682419 144.078946 \nL 86.727388 143.939472 \nL 86.862298 143.939472 \nL 87.716723 143.311839 \nL 88.031512 142.82368 \nL 88.076482 142.335521 \nL 88.121451 142.335521 \nL 88.3463 142.196047 \nL 88.526179 141.917099 \nL 89.110787 141.777625 \nL 89.650424 141.707888 \nL 89.650424 141.638151 \nL 89.830303 141.638151 \nL 89.920243 141.289466 \nL 90.055152 141.219729 \nL 90.100122 141.080255 \nL 90.145092 141.080255 \nL 90.190061 140.940781 \nL 90.36994 140.940781 \nL 90.45988 140.592095 \nL 91.539155 139.755251 \nL 91.719034 139.267092 \nL 91.853943 139.267092 \nL 91.853943 139.197355 \nL 92.078792 138.84867 \nL 92.303641 138.84867 \nL 92.303641 138.778933 \nL 92.348611 138.360511 \nL 92.52849 138.290774 \nL 92.618429 138.011826 \nL 92.843278 137.942089 \nL 93.023157 137.593404 \nL 93.382916 137.314456 \nL 93.697704 136.965771 \nL 93.787644 136.896034 \nL 93.832613 136.75656 \nL 93.877583 136.75656 \nL 93.967523 136.686823 \nL 94.102432 136.617086 \nL 94.102432 136.477612 \nL 94.282311 136.407875 \nL 94.372251 136.128927 \nL 95.226676 135.501294 \nL 95.316616 135.013135 \nL 95.586435 134.943398 \nL 95.721344 134.803924 \nL 95.766314 134.246028 \nL 95.946193 133.897342 \nL 96.171042 133.897342 \nL 96.171042 133.757868 \nL 96.216012 133.757868 \nL 96.665709 133.409183 \nL 96.710679 133.409183 \nL 96.755649 133.130235 \nL 96.890558 132.990761 \nL 96.980498 132.990761 \nL 97.070437 132.711813 \nL 97.160377 132.502602 \nL 97.205347 132.502602 \nL 97.295286 132.153917 \nL 98.059772 131.456547 \nL 98.194682 131.177599 \nL 98.284621 130.759177 \nL 98.329591 130.759177 \nL 98.329591 130.619703 \nL 98.689349 130.549966 \nL 98.779289 130.549966 \nL 99.004138 130.131544 \nL 99.094077 130.131544 \nL 99.453836 129.782859 \nL 99.813594 129.713122 \nL 99.903533 129.364437 \nL 100.038443 129.364437 \nL 100.038443 129.224963 \nL 100.128382 129.224963 \nL 100.398201 129.155226 \nL 100.398201 129.085489 \nL 100.62305 129.085489 \nL 100.62305 129.015752 \nL 100.847899 128.806541 \nL 100.892869 128.806541 \nL 101.027778 128.667067 \nL 101.207657 127.89996 \nL 101.522445 127.830222 \nL 102.017113 127.4118 \nL 102.017113 127.272326 \nL 102.64669 126.923641 \nL 102.69166 126.435482 \nL 103.231297 126.365745 \nL 103.276267 126.226271 \nL 103.321237 126.226271 \nL 103.456146 126.086797 \nL 103.770934 126.086797 \nL 103.770934 125.738112 \nL 104.085723 125.459164 \nL 104.62536 125.249953 \nL 105.704635 123.785476 \nL 107.503426 122.181525 \nL 107.593366 121.972314 \nL 107.818214 121.902577 \nL 107.908154 121.34468 \nL 108.222942 121.274943 \nL 108.267912 121.065732 \nL 109.032398 120.577573 \nL 109.122338 120.577573 \nL 109.302217 120.368362 \nL 109.572036 120.298625 \nL 109.572036 120.228888 \nL 109.841854 120.159151 \nL 109.976764 120.019677 \nL 110.246582 119.810466 \nL 110.291552 119.670992 \nL 110.516401 119.670992 \nL 110.606341 119.461781 \nL 110.65131 119.461781 \nL 110.65131 119.392044 \nL 110.966099 119.113096 \nL 111.011069 118.903885 \nL 111.190948 118.624937 \nL 111.280887 118.345989 \nL 111.640646 118.276252 \nL 111.640646 118.136778 \nL 111.910464 118.067041 \nL 112.135313 117.578882 \nL 112.180283 116.951249 \nL 112.944769 114.928875 \nL 113.619316 114.022294 \nL 113.799195 113.255187 \nL 113.979074 113.18545 \nL 114.518711 112.906502 \nL 114.69859 112.418343 \nL 114.74356 112.418343 \nL 115.103319 111.999921 \nL 115.553016 111.79071 \nL 115.597986 111.302551 \nL 115.867805 111.163077 \nL 115.912775 110.953866 \nL 116.047684 110.953866 \nL 116.047684 110.814392 \nL 116.137623 110.814392 \nL 116.227563 110.814392 \nL 116.407442 110.535444 \nL 116.542351 110.465707 \nL 116.632291 110.117022 \nL 116.90211 110.047285 \nL 116.992049 109.768337 \nL 117.216898 109.768337 \nL 117.306838 109.419652 \nL 119.150599 107.8157 \nL 119.150599 107.745963 \nL 119.195568 107.745963 \nL 119.285508 107.745963 \nL 119.420417 107.536752 \nL 119.960055 107.467015 \nL 120.679571 107.188067 \nL 121.039329 106.560434 \nL 121.533997 106.072275 \nL 121.893755 105.584116 \nL 122.118604 105.584116 \nL 122.118604 105.305168 \nL 122.163574 105.305168 \nL 122.298483 105.02622 \nL 122.478362 104.956483 \nL 122.568302 104.677535 \nL 122.613271 104.677535 \nL 122.88309 104.538061 \nL 122.97303 104.538061 \nL 122.97303 104.189376 \nL 123.062969 104.189376 \nL 123.287818 104.119639 \nL 123.332788 103.910428 \nL 123.422728 103.910428 \nL 123.422728 103.63148 \nL 123.782486 103.561743 \nL 123.872425 103.422269 \nL 124.277153 102.93411 \nL 124.99667 102.167002 \nL 125.131579 101.888054 \nL 125.131579 101.74858 \nL 125.221519 101.74858 \nL 125.626247 101.469632 \nL 125.716186 101.469632 \nL 125.716186 101.330158 \nL 126.075944 101.120947 \nL 126.525642 101.05121 \nL 126.525642 100.841999 \nL 126.615582 100.841999 \nL 126.750491 100.841999 \nL 126.840431 100.632788 \nL 126.97534 100.632788 \nL 127.06528 100.35384 \nL 127.110249 100.35384 \nL 127.290128 99.935418 \nL 127.290128 99.726207 \nL 127.470008 99.726207 \nL 127.514977 99.307785 \nL 127.739826 99.238048 \nL 127.739826 99.168311 \nL 128.369403 99.098574 \nL 128.594252 98.889363 \nL 128.639222 98.889363 \nL 128.819101 98.610415 \nL 129.04395 98.540678 \nL 129.08892 98.401204 \nL 129.583587 98.401204 \nL 129.583587 98.331467 \nL 129.763466 98.191993 \nL 129.853406 98.122256 \nL 130.033285 98.122256 \nL 130.033285 98.052519 \nL 130.078255 97.913045 \nL 130.213164 97.913045 \nL 130.258134 97.634097 \nL 130.348073 97.634097 \nL 130.348073 97.494623 \nL 130.572922 97.424886 \nL 130.752801 97.215675 \nL 131.02262 97.145938 \nL 131.202499 96.86699 \nL 131.247469 96.657779 \nL 131.832076 96.099883 \nL 131.877046 95.890672 \nL 132.326744 95.820934 \nL 132.326744 95.751197 \nL 132.371713 95.751197 \nL 132.596562 95.611723 \nL 132.911351 95.611723 \nL 132.911351 95.402512 \nL 133.1362 95.332775 \nL 133.1362 95.123564 \nL 133.316079 95.123564 \nL 133.675837 94.28672 \nL 133.855716 94.28672 \nL 133.900686 94.147246 \nL 134.395353 94.077509 \nL 134.440323 93.938035 \nL 134.575233 93.938035 \nL 134.620202 93.728824 \nL 135.02493 93.519613 \nL 135.339719 93.519613 \nL 135.609537 93.170928 \nL 135.609537 92.961717 \nL 136.329054 92.89198 \nL 136.329054 92.822243 \nL 136.374024 92.822243 \nL 136.688812 92.822243 \nL 136.688812 92.682769 \nL 136.733782 92.682769 \nL 137.543238 92.613032 \nL 137.813057 92.334084 \nL 138.217785 91.776188 \nL 138.532573 91.706451 \nL 138.802392 91.427503 \nL 139.07221 91.427503 \nL 139.07221 91.357766 \nL 139.252089 91.288029 \nL 139.476938 91.288029 \nL 139.566878 90.869607 \nL 139.746757 90.590659 \nL 139.881666 90.590659 \nL 140.915971 89.963026 \nL 141.050881 89.753815 \nL 141.365669 89.753815 \nL 141.365669 89.684078 \nL 141.590518 89.405129 \nL 141.680458 89.195918 \nL 141.815367 89.195918 \nL 141.815367 89.056444 \nL 141.860337 89.056444 \nL 142.085186 89.056444 \nL 142.130155 88.707759 \nL 142.265065 88.707759 \nL 142.265065 88.568285 \nL 142.849672 88.080126 \nL 143.389309 88.010389 \nL 143.479249 87.731441 \nL 143.524218 87.661704 \nL 144.018886 87.313019 \nL 144.018886 86.964334 \nL 144.108826 86.964334 \nL 144.288705 86.82486 \nL 144.378644 86.82486 \nL 144.648463 86.615649 \nL 144.738402 86.615649 \nL 144.828342 86.336701 \nL 144.963251 86.336701 \nL 145.053191 86.197227 \nL 145.367979 86.12749 \nL 145.412949 85.988016 \nL 145.817677 85.918279 \nL 145.907617 85.709068 \nL 145.997556 85.709068 \nL 145.997556 85.639331 \nL 146.312345 85.499857 \nL 146.402284 85.220909 \nL 146.492224 85.151172 \nL 146.582163 85.011698 \nL 146.672103 84.244591 \nL 146.762042 84.174854 \nL 146.807012 84.105117 \nL 146.941922 84.105117 \nL 146.941922 83.895906 \nL 146.986891 83.895906 \nL 147.076831 83.895906 \nL 147.30168 83.616958 \nL 147.30168 83.477484 \nL 147.34665 83.477484 \nL 147.571498 83.477484 \nL 147.571498 83.407747 \nL 147.931257 82.989324 \nL 148.066166 82.989324 \nL 148.066166 82.919587 \nL 149.190411 82.291954 \nL 149.775018 82.15248 \nL 149.775018 82.013006 \nL 149.864957 82.013006 \nL 150.044836 81.943269 \nL 150.809323 81.734058 \nL 150.944232 81.524847 \nL 151.214051 81.245899 \nL 151.483869 81.106425 \nL 152.518174 80.75774 \nL 152.518174 80.688003 \nL 152.698053 80.688003 \nL 152.743023 80.409055 \nL 152.787993 80.409055 \nL 153.057811 79.641948 \nL 153.41757 79.502474 \nL 153.507509 78.944578 \nL 153.732358 78.874841 \nL 153.822298 78.66563 \nL 153.957207 78.595893 \nL 154.271995 78.386682 \nL 154.631754 78.316945 \nL 154.676723 78.177471 \nL 154.766663 78.177471 \nL 155.3063 77.828786 \nL 155.3063 77.759049 \nL 155.44121 77.759049 \nL 155.44121 77.689312 \nL 157.195031 76.294571 \nL 157.195031 76.015623 \nL 157.284971 76.015623 \nL 157.46485 75.945886 \nL 157.46485 75.736675 \nL 157.554789 75.736675 \nL 158.274306 75.527464 \nL 158.454185 75.527464 \nL 158.454185 75.457727 \nL 158.903883 75.248516 \nL 158.903883 75.039305 \nL 158.948852 75.039305 \nL 159.263641 75.039305 \nL 159.35358 74.760357 \nL 159.44352 74.69062 \nL 159.983157 74.481409 \nL 160.522795 74.202461 \nL 160.927523 74.132724 \nL 160.972492 73.99325 \nL 161.152372 73.923513 \nL 161.287281 73.853776 \nL 162.321586 73.644565 \nL 162.411525 73.365617 \nL 163.53577 72.737984 \nL 163.58074 72.528773 \nL 163.625709 72.528773 \nL 164.075407 72.459036 \nL 164.165347 72.180088 \nL 164.210316 72.040614 \nL 164.570075 71.970877 \nL 164.570075 71.90114 \nL 165.199652 71.831403 \nL 165.199652 71.691929 \nL 165.289591 71.691929 \nL 165.334561 71.552455 \nL 165.874198 71.064296 \nL 165.874198 70.855085 \nL 165.964138 70.855085 \nL 166.009108 70.785348 \nL 166.278926 70.715611 \nL 166.323896 70.436663 \nL 166.548745 70.366926 \nL 166.863533 70.297189 \nL 166.908503 70.157714 \nL 167.043413 70.087977 \nL 167.043413 70.01824 \nL 167.807899 69.809029 \nL 167.807899 69.599818 \nL 167.897838 69.599818 \nL 168.257597 69.530081 \nL 168.662325 69.251133 \nL 168.752264 69.041922 \nL 169.156992 68.972185 \nL 169.696629 68.762974 \nL 169.786569 68.484026 \nL 170.416146 68.274815 \nL 170.416146 68.205078 \nL 170.506085 68.205078 \nL 170.596025 68.205078 \nL 170.640995 67.995867 \nL 170.865844 67.92613 \nL 170.955783 67.856393 \nL 172.080028 67.786656 \nL 172.169967 67.577445 \nL 172.349846 67.507708 \nL 172.754574 67.22876 \nL 172.979423 67.22876 \nL 172.979423 67.159023 \nL 173.294212 66.810338 \nL 173.65397 66.740601 \nL 174.058698 66.182705 \nL 174.328517 66.112968 \nL 174.328517 65.973494 \nL 174.418456 65.973494 \nL 174.688275 65.624809 \nL 174.778214 65.624809 \nL 175.452761 65.066913 \nL 175.902459 64.927439 \nL 176.577006 64.857702 \nL 176.577006 64.718228 \nL 176.666945 64.718228 \nL 176.981734 64.648491 \nL 176.981734 64.509017 \nL 177.026703 64.509017 \nL 177.161613 64.509017 \nL 177.161613 64.43928 \nL 177.386462 64.090595 \nL 177.521371 64.020858 \nL 177.566341 63.881383 \nL 178.150948 63.811646 \nL 178.780525 63.602435 \nL 178.780525 63.462961 \nL 178.825494 63.462961 \nL 178.915434 63.462961 \nL 179.050343 63.25375 \nL 179.140283 63.044539 \nL 179.275192 63.044539 \nL 179.410102 62.695854 \nL 180.354467 61.998484 \nL 180.354467 61.928747 \nL 180.444406 61.928747 \nL 180.759195 61.85901 \nL 181.118953 61.719536 \nL 181.298832 61.719536 \nL 181.298832 61.580062 \nL 181.433742 61.580062 \nL 181.433742 61.510325 \nL 181.65859 61.370851 \nL 181.65859 61.231377 \nL 181.7935 61.231377 \nL 182.108288 61.091903 \nL 182.153258 60.812955 \nL 182.602956 60.743218 \nL 182.692895 60.603744 \nL 182.872775 60.603744 \nL 182.962714 60.255059 \nL 183.142593 60.185322 \nL 183.142593 60.045848 \nL 183.187563 60.045848 \nL 183.77217 59.976111 \nL 183.77217 59.906374 \nL 183.81714 59.906374 \nL 183.997019 59.906374 \nL 183.997019 59.836637 \nL 184.941384 59.627426 \nL 184.941384 59.487952 \nL 185.031324 59.487952 \nL 185.301143 59.418215 \nL 185.301143 59.348478 \nL 186.020659 58.999793 \nL 186.110599 58.930056 \nL 186.830115 58.651108 \nL 186.830115 58.581371 \nL 186.875085 58.581371 \nL 187.234843 58.511634 \nL 187.279813 58.302423 \nL 187.684541 58.302423 \nL 188.538967 57.814264 \nL 188.763815 57.744527 \nL 188.763815 57.67479 \nL 188.943695 57.605053 \nL 188.943695 57.535316 \nL 188.988664 57.535316 \nL 189.258483 57.535316 \nL 189.303453 57.18663 \nL 189.393392 57.18663 \nL 189.483332 56.907682 \nL 189.618241 56.837945 \nL 189.618241 56.768208 \nL 189.708181 56.768208 \nL 190.022969 56.698471 \nL 190.112909 56.419523 \nL 190.292788 56.349786 \nL 190.337758 56.001101 \nL 190.427697 56.001101 \nL 190.472667 55.79189 \nL 190.652546 55.722153 \nL 190.652546 55.652416 \nL 190.742486 55.652416 \nL 191.147214 55.512942 \nL 191.147214 55.303731 \nL 191.192184 55.303731 \nL 191.372063 54.815572 \nL 192.091579 54.815572 \nL 192.091579 54.745835 \nL 192.136549 54.606361 \nL 192.361398 54.536624 \nL 192.406368 54.327413 \nL 192.631216 54.257676 \nL 192.631216 54.118202 \nL 192.901035 54.048465 \nL 192.990975 53.769517 \nL 193.395703 53.69978 \nL 193.395703 53.630043 \nL 193.8454 53.560306 \nL 193.8454 53.490569 \nL 193.89037 53.490569 \nL 194.070249 53.420832 \nL 194.295098 53.351095 \nL 194.385038 53.351095 \nL 194.564917 53.141884 \nL 195.464312 53.072147 \nL 195.644192 52.932673 \nL 195.824071 52.444514 \nL 196.363708 52.374777 \nL 196.543587 52.165566 \nL 197.442983 52.095829 \nL 197.442983 52.026092 \nL 198.432318 52.026092 \nL 198.432318 51.816881 \nL 198.747106 51.747144 \nL 198.837046 51.677407 \nL 198.926985 51.677407 \nL 199.106865 51.537933 \nL 199.241774 51.189248 \nL 199.556562 51.189248 \nL 199.556562 51.119511 \nL 199.691472 50.980036 \nL 200.00626 50.910299 \nL 200.0962 50.910299 \nL 200.0962 50.770825 \nL 200.186139 50.770825 \nL 200.231109 50.770825 \nL 200.276079 50.631351 \nL 200.455958 50.561614 \nL 200.905656 50.352403 \nL 201.894991 50.282666 \nL 201.939961 50.143192 \nL 202.11984 50.143192 \nL 202.11984 49.794507 \nL 203.468933 49.445822 \nL 204.323359 49.166874 \nL 204.997905 49.097137 \nL 204.997905 48.957663 \nL 206.481908 48.33003 \nL 207.786032 47.702397 \nL 207.875971 47.702397 \nL 207.875971 47.63266 \nL 207.920941 47.493186 \nL 208.370639 47.423449 \nL 208.415609 47.283975 \nL 208.730397 47.214238 \nL 208.775367 47.074764 \nL 208.955246 46.93529 \nL 210.07949 46.865553 \nL 210.2144 46.726079 \nL 210.304339 46.726079 \nL 211.653433 46.307657 \nL 212.462889 45.819498 \nL 213.092466 45.749761 \nL 213.137435 45.680024 \nL 213.452224 45.610287 \nL 213.452224 45.54055 \nL 213.497194 45.54055 \nL 213.587133 45.54055 \nL 213.587133 45.470813 \nL 215.071136 44.912917 \nL 215.385924 44.84318 \nL 215.385924 44.633968 \nL 215.475864 44.633968 \nL 216.060471 44.564231 \nL 216.824957 44.076072 \nL 216.824957 44.006335 \nL 216.869927 44.006335 \nL 218.084111 43.936598 \nL 218.174051 43.727387 \nL 218.398899 43.65765 \nL 218.443869 43.378702 \nL 218.713688 43.308965 \nL 218.713688 43.239228 \nL 219.433204 42.96028 \nL 219.433204 42.890543 \nL 219.523144 42.890543 \nL 219.882902 42.820806 \nL 220.872237 42.681332 \nL 221.321935 42.611595 \nL 221.321935 42.541858 \nL 221.411875 42.541858 \nL 222.671028 42.472121 \nL 225.234306 41.983962 \nL 225.504124 41.844488 \nL 225.908852 41.774751 \nL 226.35855 41.495803 \nL 226.943157 41.426066 \nL 226.988127 41.147118 \nL 227.078067 41.147118 \nL 227.887523 40.937907 \nL 228.741948 40.86817 \nL 228.786918 40.728696 \nL 229.641344 40.380011 \nL 229.641344 40.240537 \nL 229.686314 40.240537 \nL 231.620014 40.1708 \nL 231.620014 40.101063 \nL 232.969108 39.752378 \nL 233.598685 39.47343 \nL 233.643654 39.264219 \nL 234.363171 39.194482 \nL 234.857838 38.985271 \nL 234.857838 38.845797 \nL 235.622325 38.77606 \nL 235.712264 38.706323 \nL 236.52172 38.2879 \nL 236.836509 38.2879 \nL 238.725239 37.869478 \nL 238.815179 37.730004 \nL 239.534695 37.660267 \nL 239.624635 37.59053 \nL 240.344151 37.381319 \nL 240.973728 37.032634 \nL 241.378456 36.962897 \nL 241.423426 36.823423 \nL 241.603305 36.823423 \nL 241.603305 36.753686 \nL 242.232882 36.335264 \nL 242.907429 36.265527 \nL 244.931069 35.986579 \nL 245.110948 35.916842 \nL 245.425736 35.847105 \nL 247.764165 35.358946 \nL 247.764165 35.219472 \nL 247.989014 35.149735 \nL 248.033983 35.010261 \nL 248.078953 35.010261 \nL 249.293137 34.940524 \nL 249.293137 34.80105 \nL 250.327442 34.382628 \nL 250.417382 34.312891 \nL 250.462351 34.173417 \nL 251.271807 34.173417 \nL 251.271807 34.10368 \nL 251.496656 34.033943 \nL 252.306112 33.964206 \nL 252.441022 33.894469 \nL 254.284783 33.685258 \nL 255.588906 33.615521 \nL 256.128543 33.476047 \nL 257.027939 33.40631 \nL 257.117879 33.336573 \nL 257.837395 33.127362 \nL 259.411337 32.918151 \nL 259.411337 32.848414 \nL 259.456307 32.848414 \nL 260.085884 32.778677 \nL 260.085884 32.70894 \nL 260.580552 32.70894 \nL 260.580552 32.639203 \nL 260.625521 32.569466 \nL 261.210128 32.499729 \nL 261.210128 32.429992 \nL 261.659826 32.360255 \nL 261.704796 32.220781 \nL 263.233768 32.01157 \nL 263.413648 31.872095 \nL 263.593527 31.872095 \nL 263.593527 31.802358 \nL 264.447952 31.593147 \nL 264.447952 31.52341 \nL 264.537892 31.52341 \nL 267.101169 31.453673 \nL 267.101169 31.383936 \nL 267.146139 31.383936 \nL 268.135474 31.314199 \nL 268.180444 31.244462 \nL 269.439598 30.965514 \nL 269.484568 30.965514 \nL 269.934265 30.686566 \nL 270.698752 30.268144 \nL 270.743721 30.12867 \nL 272.182754 30.058933 \nL 272.272694 29.919459 \nL 272.902271 29.919459 \nL 272.902271 29.849722 \nL 273.217059 29.779985 \nL 273.217059 29.640511 \nL 273.262029 29.640511 \nL 274.521183 29.570774 \nL 274.521183 29.501037 \nL 274.656092 29.501037 \nL 274.925911 29.291826 \nL 279.19804 29.222089 \nL 279.332949 29.152352 \nL 280.771982 28.803667 \nL 280.906891 28.73393 \nL 282.660713 28.664193 \nL 282.705683 28.524719 \nL 283.874897 28.454982 \nL 286.528114 28.176034 \nL 288.551754 28.106297 \nL 289.765938 28.03656 \nL 292.014427 28.03656 \nL 292.014427 27.897086 \nL 292.823883 27.897086 \nL 292.823883 27.827349 \nL 293.093701 27.757612 \nL 293.993097 27.687875 \nL 293.993097 27.548401 \nL 294.038067 27.548401 \nL 296.196616 27.478664 \nL 296.196616 27.408927 \nL 296.691284 27.408927 \nL 296.691284 27.33919 \nL 297.140981 27.199716 \nL 297.140981 26.990505 \nL 297.185951 26.990505 \nL 297.770558 26.711557 \nL 297.770558 26.502346 \nL 298.445105 26.502346 \nL 299.029712 26.362872 \nL 301.50305 26.293135 \nL 301.50305 26.223398 \nL 302.852143 26.153661 \nL 303.346811 26.083924 \nL 304.695904 26.014187 \nL 304.695904 25.94445 \nL 304.740874 25.94445 \nL 304.875783 25.874713 \nL 306.044997 25.874713 \nL 306.044997 25.804976 \nL 306.134937 25.735239 \nL 308.113607 25.735239 \nL 308.113607 25.595765 \nL 308.203547 25.595765 \nL 309.867429 25.526028 \nL 309.867429 25.45629 \nL 309.957368 25.45629 \nL 311.396401 25.386553 \nL 313.869739 25.107605 \nL 314.724165 25.037868 \nL 314.724165 24.968131 \nL 315.173862 24.898394 \nL 315.263802 24.828657 \nL 316.747805 24.828657 \nL 319.535931 24.619446 \nL 322.189148 24.549709 \nL 322.773755 24.340498 \nL 323.313392 24.340498 \nL 324.077879 24.131287 \nL 324.707456 24.06155 \nL 324.707456 23.991813 \nL 325.87667 23.922076 \nL 327.94528 23.712865 \nL 328.529887 23.643128 \nL 328.529887 23.573391 \nL 328.619826 23.573391 \nL 329.429282 23.573391 \nL 330.238738 23.36418 \nL 332.936925 23.294443 \nL 332.981895 23.224706 \nL 333.97123 23.224706 \nL 334.196079 23.085232 \nL 336.714386 23.015495 \nL 336.714386 22.945758 \nL 336.804326 22.945758 \nL 340.806636 22.876021 \nL 343.729672 22.597073 \nL 352.858537 22.527336 \nL 352.858537 22.457599 \nL 375.028638 22.387862 \nL 375.028638 22.318125 \nL 378.58125 22.318125 \nL 378.58125 22.318125 \n\" style=\"fill:none;stroke:#1f77b4;stroke-linecap:square;stroke-width:1.5;\"/>\n   </g>\n   <g id=\"patch_3\">\n    <path d=\"M 43.78125 239.758125 \nL 43.78125 22.318125 \n\" style=\"fill:none;stroke:#000000;stroke-linecap:square;stroke-linejoin:miter;stroke-width:0.8;\"/>\n   </g>\n   <g id=\"patch_4\">\n    <path d=\"M 378.58125 239.758125 \nL 378.58125 22.318125 \n\" style=\"fill:none;stroke:#000000;stroke-linecap:square;stroke-linejoin:miter;stroke-width:0.8;\"/>\n   </g>\n   <g id=\"patch_5\">\n    <path d=\"M 43.78125 239.758125 \nL 378.58125 239.758125 \n\" style=\"fill:none;stroke:#000000;stroke-linecap:square;stroke-linejoin:miter;stroke-width:0.8;\"/>\n   </g>\n   <g id=\"patch_6\">\n    <path d=\"M 43.78125 22.318125 \nL 378.58125 22.318125 \n\" style=\"fill:none;stroke:#000000;stroke-linecap:square;stroke-linejoin:miter;stroke-width:0.8;\"/>\n   </g>\n   <g id=\"text_15\">\n    <!-- ROC curve for SLAFail classifier -->\n    <defs>\n     <path d=\"M 39.40625 66.21875 \nQ 28.65625 66.21875 22.328125 58.203125 \nQ 16.015625 50.203125 16.015625 36.375 \nQ 16.015625 22.609375 22.328125 14.59375 \nQ 28.65625 6.59375 39.40625 6.59375 \nQ 50.140625 6.59375 56.421875 14.59375 \nQ 62.703125 22.609375 62.703125 36.375 \nQ 62.703125 50.203125 56.421875 58.203125 \nQ 50.140625 66.21875 39.40625 66.21875 \nz\nM 39.40625 74.21875 \nQ 54.734375 74.21875 63.90625 63.9375 \nQ 73.09375 53.65625 73.09375 36.375 \nQ 73.09375 19.140625 63.90625 8.859375 \nQ 54.734375 -1.421875 39.40625 -1.421875 \nQ 24.03125 -1.421875 14.8125 8.828125 \nQ 5.609375 19.09375 5.609375 36.375 \nQ 5.609375 53.65625 14.8125 63.9375 \nQ 24.03125 74.21875 39.40625 74.21875 \nz\n\" id=\"DejaVuSans-79\"/>\n     <path d=\"M 64.40625 67.28125 \nL 64.40625 56.890625 \nQ 59.421875 61.53125 53.78125 63.8125 \nQ 48.140625 66.109375 41.796875 66.109375 \nQ 29.296875 66.109375 22.65625 58.46875 \nQ 16.015625 50.828125 16.015625 36.375 \nQ 16.015625 21.96875 22.65625 14.328125 \nQ 29.296875 6.6875 41.796875 6.6875 \nQ 48.140625 6.6875 53.78125 8.984375 \nQ 59.421875 11.28125 64.40625 15.921875 \nL 64.40625 5.609375 \nQ 59.234375 2.09375 53.4375 0.328125 \nQ 47.65625 -1.421875 41.21875 -1.421875 \nQ 24.65625 -1.421875 15.125 8.703125 \nQ 5.609375 18.84375 5.609375 36.375 \nQ 5.609375 53.953125 15.125 64.078125 \nQ 24.65625 74.21875 41.21875 74.21875 \nQ 47.75 74.21875 53.53125 72.484375 \nQ 59.328125 70.75 64.40625 67.28125 \nz\n\" id=\"DejaVuSans-67\"/>\n     <path d=\"M 9.8125 72.90625 \nL 19.671875 72.90625 \nL 19.671875 8.296875 \nL 55.171875 8.296875 \nL 55.171875 0 \nL 9.8125 0 \nz\n\" id=\"DejaVuSans-76\"/>\n     <path d=\"M 34.1875 63.1875 \nL 20.796875 26.90625 \nL 47.609375 26.90625 \nz\nM 28.609375 72.90625 \nL 39.796875 72.90625 \nL 67.578125 0 \nL 57.328125 0 \nL 50.6875 18.703125 \nL 17.828125 18.703125 \nL 11.1875 0 \nL 0.78125 0 \nz\n\" id=\"DejaVuSans-65\"/>\n    </defs>\n    <g transform=\"translate(117.200625 16.318125)scale(0.12 -0.12)\">\n     <use xlink:href=\"#DejaVuSans-82\"/>\n     <use x=\"69.482422\" xlink:href=\"#DejaVuSans-79\"/>\n     <use x=\"148.193359\" xlink:href=\"#DejaVuSans-67\"/>\n     <use x=\"218.017578\" xlink:href=\"#DejaVuSans-32\"/>\n     <use x=\"249.804688\" xlink:href=\"#DejaVuSans-99\"/>\n     <use x=\"304.785156\" xlink:href=\"#DejaVuSans-117\"/>\n     <use x=\"368.164062\" xlink:href=\"#DejaVuSans-114\"/>\n     <use x=\"409.277344\" xlink:href=\"#DejaVuSans-118\"/>\n     <use x=\"468.457031\" xlink:href=\"#DejaVuSans-101\"/>\n     <use x=\"529.980469\" xlink:href=\"#DejaVuSans-32\"/>\n     <use x=\"561.767578\" xlink:href=\"#DejaVuSans-102\"/>\n     <use x=\"596.972656\" xlink:href=\"#DejaVuSans-111\"/>\n     <use x=\"658.154297\" xlink:href=\"#DejaVuSans-114\"/>\n     <use x=\"699.267578\" xlink:href=\"#DejaVuSans-32\"/>\n     <use x=\"731.054688\" xlink:href=\"#DejaVuSans-83\"/>\n     <use x=\"794.53125\" xlink:href=\"#DejaVuSans-76\"/>\n     <use x=\"850.275391\" xlink:href=\"#DejaVuSans-65\"/>\n     <use x=\"918.683594\" xlink:href=\"#DejaVuSans-70\"/>\n     <use x=\"976.0625\" xlink:href=\"#DejaVuSans-97\"/>\n     <use x=\"1037.341797\" xlink:href=\"#DejaVuSans-105\"/>\n     <use x=\"1065.125\" xlink:href=\"#DejaVuSans-108\"/>\n     <use x=\"1092.908203\" xlink:href=\"#DejaVuSans-32\"/>\n     <use x=\"1124.695312\" xlink:href=\"#DejaVuSans-99\"/>\n     <use x=\"1179.675781\" xlink:href=\"#DejaVuSans-108\"/>\n     <use x=\"1207.458984\" xlink:href=\"#DejaVuSans-97\"/>\n     <use x=\"1268.738281\" xlink:href=\"#DejaVuSans-115\"/>\n     <use x=\"1320.837891\" xlink:href=\"#DejaVuSans-115\"/>\n     <use x=\"1372.9375\" xlink:href=\"#DejaVuSans-105\"/>\n     <use x=\"1400.720703\" xlink:href=\"#DejaVuSans-102\"/>\n     <use x=\"1435.925781\" xlink:href=\"#DejaVuSans-105\"/>\n     <use x=\"1463.708984\" xlink:href=\"#DejaVuSans-101\"/>\n     <use x=\"1525.232422\" xlink:href=\"#DejaVuSans-114\"/>\n    </g>\n   </g>\n  </g>\n </g>\n <defs>\n  <clipPath id=\"pef1cca54b1\">\n   <rect height=\"217.44\" width=\"334.8\" x=\"43.78125\" y=\"22.318125\"/>\n  </clipPath>\n </defs>\n</svg>\n",
      "text/plain": "<Figure size 432x288 with 1 Axes>"
     },
     "metadata": {
      "needs_background": "light"
     },
     "output_type": "display_data"
    }
   ],
   "source": [
    "plt.plot(fpr, tpr)\n",
    "plt.xlim([0.0, 1.0])\n",
    "plt.ylim([0.0, 1.0])\n",
    "plt.title('ROC curve for SLAFail classifier')\n",
    "plt.xlabel('False Positive Rate (1 - Specificity)')\n",
    "plt.ylabel('True Positive Rate (Sensitivity)')\n",
    "plt.grid(True)"
   ]
  },
  {
   "cell_type": "markdown",
   "metadata": {},
   "source": [
    "Capture resulting AUC"
   ]
  },
  {
   "cell_type": "code",
   "execution_count": 32,
   "metadata": {},
   "outputs": [
    {
     "name": "stdout",
     "output_type": "stream",
     "text": "Metrics = AUC: 0.777989 \n"
    }
   ],
   "source": [
    "PipeLineMetadata['Metrics - AUC'] = metrics.roc_auc_score(y_test, y_pred_prob)\n",
    "print(\"Metrics = AUC: %f \" % PipeLineMetadata['Metrics - AUC']) "
   ]
  },
  {
   "cell_type": "markdown",
   "metadata": {},
   "source": [
    "## Save Details and Performance Measures for Comparison to other Models\n"
   ]
  },
  {
   "cell_type": "code",
   "execution_count": 33,
   "metadata": {},
   "outputs": [
    {
     "data": {
      "text/plain": "{'Name': 'Feature Selection KBest MI',\n 'Column Transforms': ['woeencoder', 'standardscaler'],\n 'Selector': <bound method BaseEstimator.get_params of SelectKBest(k=10, score_func=<function mutual_info_classif at 0x1a2262fb90>)>,\n 'Classifier': LogisticRegression(C=1.0, class_weight=None, dual=False, fit_intercept=True,\n                    intercept_scaling=1, l1_ratio=None, max_iter=100,\n                    multi_class='auto', n_jobs=None, penalty='l2',\n                    random_state=None, solver='lbfgs', tol=0.0001, verbose=0,\n                    warm_start=False),\n 'Selector - Scores':                               scores\n Count_Related_Interactions  0.003142\n CI_TypeSubType_aff          0.003868\n Open_Time_DayOfWeek         0.004314\n Impact                      0.005336\n Urgency                     0.006595\n Count_Related_Incidents     0.014658\n Count_Related_Changes       0.022491\n Open_Time_HourOfDay         0.024270\n Service_Component_WBS_aff   0.046818\n CI_Name_aff                 0.078864\n KM_number                   0.115640,\n 'Classifier - Intercept': -0.9318808744218925,\n 'Classifier - Coefficients':                                   0\n CI_Name_aff                0.148247\n Service_Component_WBS_aff  0.008230\n Impact                     0.098013\n Urgency                    0.101840\n KM_number                  1.069553\n Count_Related_Incidents    1.242584\n Count_Related_Changes      0.015877\n Open_Time_HourOfDay        0.180741\n Open_Time_DayOfWeek       -0.036609\n CI_TypeSubType_aff         0.000961,\n 'Metrics - Cross Validation Accuracy': 0.7371069182389937,\n 'Metrics - F1 score': 0.6540110604531448,\n 'Metrics - Confusion Matrix Classification Accuracy': 0.7430654170216795,\n 'Metrics - Confusion Matrix Classification Error': 0.2569345829783205,\n 'Metrics - Confusion Matrix True Positive Rate': 0.39929441949967925,\n 'Metrics - Confusion Matrix True Negative Rate': 0.887038280725319,\n 'Metrics - Confusion Matrix False Positive Rate': 0.11296171927468099,\n 'Metrics - Confusion Matrix Precision': 0.5968360498561841,\n 'Metrics - ROC Curve fpr array': array([0.00000000e+00, 0.00000000e+00, 5.37273338e-04, ...,\n        9.98388180e-01, 9.98925453e-01, 1.00000000e+00]),\n 'Metrics - ROC Curve tpr array': array([0.00000000e+00, 3.20718409e-04, 3.20718409e-04, ...,\n        1.00000000e+00, 1.00000000e+00, 1.00000000e+00]),\n 'Metrics - AUC': 0.7779890244947878}"
     },
     "execution_count": 33,
     "metadata": {},
     "output_type": "execute_result"
    }
   ],
   "source": [
    "PipeLineMetadata"
   ]
  },
  {
   "cell_type": "code",
   "execution_count": 34,
   "metadata": {},
   "outputs": [],
   "source": [
    "with open(\"data/05.02.b Feature Select KBest MI.pkl\",'wb') as fo:\n",
    "    pickle.dump(PipeLineMetadata, fo)"
   ]
  },
  {
   "cell_type": "code",
   "execution_count": 35,
   "metadata": {},
   "outputs": [],
   "source": [
    "# with open(\"FILENAME.pkl\", 'rb') as fi:\n",
    "#    BareBonesMetadata = pickle.load(fi)"
   ]
  },
  {
   "cell_type": "code",
   "execution_count": null,
   "metadata": {},
   "outputs": [],
   "source": []
  }
 ]
}