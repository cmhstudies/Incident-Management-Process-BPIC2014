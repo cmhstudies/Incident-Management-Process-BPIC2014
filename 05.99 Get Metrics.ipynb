{
 "nbformat": 4,
 "nbformat_minor": 2,
 "metadata": {
  "language_info": {
   "name": "python",
   "codemirror_mode": {
    "name": "ipython",
    "version": 3
   },
   "version": "3.7.6-final"
  },
  "orig_nbformat": 2,
  "file_extension": ".py",
  "mimetype": "text/x-python",
  "name": "python",
  "npconvert_exporter": "python",
  "pygments_lexer": "ipython3",
  "version": 3,
  "kernelspec": {
   "name": "python3",
   "display_name": "Python 3"
  }
 },
 "cells": [
  {
   "cell_type": "markdown",
   "metadata": {},
   "source": [
    "# 00.01 Get Metrics\n",
    "\n",
    "Goal: identify the factors that most contribute to SLAFail\n",
    "\n",
    "Tuning Adjustments: Focus on finding the most predictive set of predictor variables\n",
    "\n",
    "Compare the results of the following notebooks: \n",
    "\n",
    "\n",
    "\n",
    "\n",
    "\n"
   ]
  },
  {
   "cell_type": "code",
   "execution_count": 1,
   "metadata": {},
   "outputs": [],
   "source": [
    "# Load libraries\n",
    "import pandas as pd\n",
    "import numpy as np\n",
    "import pickle\n"
   ]
  },
  {
   "cell_type": "code",
   "execution_count": 2,
   "metadata": {},
   "outputs": [],
   "source": [
    "data = {}"
   ]
  },
  {
   "cell_type": "code",
   "execution_count": 3,
   "metadata": {},
   "outputs": [],
   "source": [
    "##### Transformation Metrics\n",
    "########### change to code cell to run and back to markdown to 'comment'\n",
    "\n",
    "files = {\"MEstMetadata\" :  \"data/05.01.a BareBones MEst.pkl\",\n",
    "         \"TargetMetadata\" : \"data/05.01.b BareBones Target.pkl\", \n",
    "         \"WOEMetadata\" : \"data/05.01.c BareBones WOE.pkl\", \n",
    "         \"HelmertMetadata\" : \"data/05.01.d BareBones HelmertEncoder.pkl\",\n",
    "         \"RobustMetadata\" : \"data/05.01.e BareBones RobustScaler.pkl\" }\n",
    "         \n",
    "outFilename = \"reports/05.01 Transformation Metrics.csv\""
   ]
  },
  {
   "cell_type": "markdown",
   "metadata": {},
   "source": [
    "##### Feature Selection Metrics\n",
    "\n",
    "########### change to code cell to run and back to markdown to 'comment'\n",
    "\n",
    "files = {\"KBestFMetadata\" :  \"data/05.02.a Feature Select KBest f_classif.pkl\",\n",
    "         \"KBestMIMetadata\" : \"data/05.02.b Feature Select KBest MI.pkl\", \n",
    "         \"RFEMetadata\" : \"data/05.02.c Feature Select RFE.pkl\" }\n",
    "\n",
    "outFilename = \"reports/05.01 Feature Selection Metrics.csv\""
   ]
  },
  {
   "cell_type": "code",
   "execution_count": 4,
   "metadata": {},
   "outputs": [
    {
     "name": "stdout",
     "output_type": "stream",
     "text": "MEstMetadata: data/05.01.a BareBones MEst.pkl\nTargetMetadata: data/05.01.b BareBones Target.pkl\nWOEMetadata: data/05.01.c BareBones WOE.pkl\nHelmertMetadata: data/05.01.d BareBones HelmertEncoder.pkl\nRobustMetadata: data/05.01.e BareBones RobustScaler.pkl\n"
    }
   ],
   "source": [
    "for key, value in files.items():\n",
    "    print(key + \": \" + value)\n",
    "    with open(value, 'rb') as fi:\n",
    "        data[key] = pickle.load(fi)\n",
    "    \n"
   ]
  },
  {
   "cell_type": "code",
   "execution_count": 5,
   "metadata": {},
   "outputs": [
    {
     "data": {
      "text/html": "<div>\n<style scoped>\n    .dataframe tbody tr th:only-of-type {\n        vertical-align: middle;\n    }\n\n    .dataframe tbody tr th {\n        vertical-align: top;\n    }\n\n    .dataframe thead th {\n        text-align: right;\n    }\n</style>\n<table border=\"1\" class=\"dataframe\">\n  <thead>\n    <tr style=\"text-align: right;\">\n      <th></th>\n      <th>MEstMetadata</th>\n      <th>TargetMetadata</th>\n      <th>WOEMetadata</th>\n      <th>HelmertMetadata</th>\n      <th>RobustMetadata</th>\n    </tr>\n  </thead>\n  <tbody>\n    <tr>\n      <th>Name</th>\n      <td>Bare Bones with MEstimate Encoder</td>\n      <td>Bare Bones with Target Encoder</td>\n      <td>Bare Bones with WOE Encoder</td>\n      <td>Bare Bones with Helmert Encoder</td>\n      <td>Bare Bones with WOE and RobustScaler</td>\n    </tr>\n    <tr>\n      <th>Column Transforms</th>\n      <td>[mestimateencoder, standardscaler]</td>\n      <td>[targetencoder, standardscaler]</td>\n      <td>[woeencoder, standardscaler]</td>\n      <td>[helmertencoder, standardscaler]</td>\n      <td>[woeencoder, robustscaler]</td>\n    </tr>\n    <tr>\n      <th>Classifier</th>\n      <td>LogisticRegression(C=1.0, class_weight=None, d...</td>\n      <td>LogisticRegression(C=1.0, class_weight=None, d...</td>\n      <td>LogisticRegression(C=1.0, class_weight=None, d...</td>\n      <td>LogisticRegression(C=1.0, class_weight=None, d...</td>\n      <td>LogisticRegression(C=1.0, class_weight=None, d...</td>\n    </tr>\n    <tr>\n      <th>Classifier - Intercept</th>\n      <td>-6.15202</td>\n      <td>-6.12054</td>\n      <td>-0.937643</td>\n      <td>-0.0121205</td>\n      <td>-0.951911</td>\n    </tr>\n    <tr>\n      <th>Classifier - Coefficients</th>\n      <td>0\nService_C...</td>\n      <td>0\nService_C...</td>\n      <td>0\nService_C...</td>\n      <td>[[-0.01210696645725502, 0.027223999568492727, ...</td>\n      <td>[[0.10361510541039697, 0.18809943442462512, 1....</td>\n    </tr>\n    <tr>\n      <th>Metrics - Cross Validation Accuracy</th>\n      <td>0.730858</td>\n      <td>0.733942</td>\n      <td>0.737756</td>\n      <td>0.736782</td>\n      <td>0.737756</td>\n    </tr>\n    <tr>\n      <th>Metrics - F1 score</th>\n      <td>0.658573</td>\n      <td>0.6568</td>\n      <td>0.661463</td>\n      <td>0.661339</td>\n      <td>0.661463</td>\n    </tr>\n    <tr>\n      <th>Metrics - Confusion Matrix Classification Accuracy</th>\n      <td>0.742497</td>\n      <td>0.743823</td>\n      <td>0.746852</td>\n      <td>0.742781</td>\n      <td>0.746852</td>\n    </tr>\n    <tr>\n      <th>Metrics - Confusion Matrix Classification Error</th>\n      <td>0.257503</td>\n      <td>0.256177</td>\n      <td>0.253148</td>\n      <td>0.257219</td>\n      <td>0.253148</td>\n    </tr>\n    <tr>\n      <th>Metrics - Confusion Matrix True Positive Rate</th>\n      <td>0.417896</td>\n      <td>0.406992</td>\n      <td>0.414368</td>\n      <td>0.427518</td>\n      <td>0.414368</td>\n    </tr>\n    <tr>\n      <th>Metrics - Confusion Matrix True Negative Rate</th>\n      <td>0.878442</td>\n      <td>0.884889</td>\n      <td>0.886098</td>\n      <td>0.874815</td>\n      <td>0.886098</td>\n    </tr>\n    <tr>\n      <th>Metrics - Confusion Matrix False Positive Rate</th>\n      <td>0.121558</td>\n      <td>0.115111</td>\n      <td>0.113902</td>\n      <td>0.125185</td>\n      <td>0.113902</td>\n    </tr>\n    <tr>\n      <th>Metrics - Confusion Matrix Precision</th>\n      <td>0.590127</td>\n      <td>0.596896</td>\n      <td>0.603738</td>\n      <td>0.588521</td>\n      <td>0.603738</td>\n    </tr>\n    <tr>\n      <th>Metrics - ROC Curve fpr array</th>\n      <td>[0.0, 0.0, 0.0, 0.0, 0.00040295500335795837, 0...</td>\n      <td>[0.0, 0.0, 0.0, 0.0, 0.00040295500335795837, 0...</td>\n      <td>[0.0, 0.0, 0.0, 0.0, 0.00040295500335795837, 0...</td>\n      <td>[0.0, 0.0001343183344526528, 0.000268636668905...</td>\n      <td>[0.0, 0.0, 0.0, 0.0, 0.00040295500335795837, 0...</td>\n    </tr>\n    <tr>\n      <th>Metrics - ROC Curve tpr array</th>\n      <td>[0.0, 0.00032071840923669016, 0.00288646568313...</td>\n      <td>[0.0, 0.00032071840923669016, 0.00288646568313...</td>\n      <td>[0.0, 0.00032071840923669016, 0.00288646568313...</td>\n      <td>[0.0, 0.0, 0.0, 0.0009621552277100705, 0.00096...</td>\n      <td>[0.0, 0.00032071840923669016, 0.00288646568313...</td>\n    </tr>\n    <tr>\n      <th>Metrics - AUC</th>\n      <td>0.776684</td>\n      <td>0.776777</td>\n      <td>0.780629</td>\n      <td>0.766496</td>\n      <td>0.780632</td>\n    </tr>\n  </tbody>\n</table>\n</div>",
      "text/plain": "                                                                                         MEstMetadata  \\\nName                                                                Bare Bones with MEstimate Encoder   \nColumn Transforms                                                  [mestimateencoder, standardscaler]   \nClassifier                                          LogisticRegression(C=1.0, class_weight=None, d...   \nClassifier - Intercept                                                                       -6.15202   \nClassifier - Coefficients                                                              0\nService_C...   \nMetrics - Cross Validation Accuracy                                                          0.730858   \nMetrics - F1 score                                                                           0.658573   \nMetrics - Confusion Matrix Classification Accuracy                                           0.742497   \nMetrics - Confusion Matrix Classification Error                                              0.257503   \nMetrics - Confusion Matrix True Positive Rate                                                0.417896   \nMetrics - Confusion Matrix True Negative Rate                                                0.878442   \nMetrics - Confusion Matrix False Positive Rate                                               0.121558   \nMetrics - Confusion Matrix Precision                                                         0.590127   \nMetrics - ROC Curve fpr array                       [0.0, 0.0, 0.0, 0.0, 0.00040295500335795837, 0...   \nMetrics - ROC Curve tpr array                       [0.0, 0.00032071840923669016, 0.00288646568313...   \nMetrics - AUC                                                                                0.776684   \n\n                                                                                       TargetMetadata  \\\nName                                                                   Bare Bones with Target Encoder   \nColumn Transforms                                                     [targetencoder, standardscaler]   \nClassifier                                          LogisticRegression(C=1.0, class_weight=None, d...   \nClassifier - Intercept                                                                       -6.12054   \nClassifier - Coefficients                                                              0\nService_C...   \nMetrics - Cross Validation Accuracy                                                          0.733942   \nMetrics - F1 score                                                                             0.6568   \nMetrics - Confusion Matrix Classification Accuracy                                           0.743823   \nMetrics - Confusion Matrix Classification Error                                              0.256177   \nMetrics - Confusion Matrix True Positive Rate                                                0.406992   \nMetrics - Confusion Matrix True Negative Rate                                                0.884889   \nMetrics - Confusion Matrix False Positive Rate                                               0.115111   \nMetrics - Confusion Matrix Precision                                                         0.596896   \nMetrics - ROC Curve fpr array                       [0.0, 0.0, 0.0, 0.0, 0.00040295500335795837, 0...   \nMetrics - ROC Curve tpr array                       [0.0, 0.00032071840923669016, 0.00288646568313...   \nMetrics - AUC                                                                                0.776777   \n\n                                                                                          WOEMetadata  \\\nName                                                                      Bare Bones with WOE Encoder   \nColumn Transforms                                                        [woeencoder, standardscaler]   \nClassifier                                          LogisticRegression(C=1.0, class_weight=None, d...   \nClassifier - Intercept                                                                      -0.937643   \nClassifier - Coefficients                                                              0\nService_C...   \nMetrics - Cross Validation Accuracy                                                          0.737756   \nMetrics - F1 score                                                                           0.661463   \nMetrics - Confusion Matrix Classification Accuracy                                           0.746852   \nMetrics - Confusion Matrix Classification Error                                              0.253148   \nMetrics - Confusion Matrix True Positive Rate                                                0.414368   \nMetrics - Confusion Matrix True Negative Rate                                                0.886098   \nMetrics - Confusion Matrix False Positive Rate                                               0.113902   \nMetrics - Confusion Matrix Precision                                                         0.603738   \nMetrics - ROC Curve fpr array                       [0.0, 0.0, 0.0, 0.0, 0.00040295500335795837, 0...   \nMetrics - ROC Curve tpr array                       [0.0, 0.00032071840923669016, 0.00288646568313...   \nMetrics - AUC                                                                                0.780629   \n\n                                                                                      HelmertMetadata  \\\nName                                                                  Bare Bones with Helmert Encoder   \nColumn Transforms                                                    [helmertencoder, standardscaler]   \nClassifier                                          LogisticRegression(C=1.0, class_weight=None, d...   \nClassifier - Intercept                                                                     -0.0121205   \nClassifier - Coefficients                           [[-0.01210696645725502, 0.027223999568492727, ...   \nMetrics - Cross Validation Accuracy                                                          0.736782   \nMetrics - F1 score                                                                           0.661339   \nMetrics - Confusion Matrix Classification Accuracy                                           0.742781   \nMetrics - Confusion Matrix Classification Error                                              0.257219   \nMetrics - Confusion Matrix True Positive Rate                                                0.427518   \nMetrics - Confusion Matrix True Negative Rate                                                0.874815   \nMetrics - Confusion Matrix False Positive Rate                                               0.125185   \nMetrics - Confusion Matrix Precision                                                         0.588521   \nMetrics - ROC Curve fpr array                       [0.0, 0.0001343183344526528, 0.000268636668905...   \nMetrics - ROC Curve tpr array                       [0.0, 0.0, 0.0, 0.0009621552277100705, 0.00096...   \nMetrics - AUC                                                                                0.766496   \n\n                                                                                       RobustMetadata  \nName                                                             Bare Bones with WOE and RobustScaler  \nColumn Transforms                                                          [woeencoder, robustscaler]  \nClassifier                                          LogisticRegression(C=1.0, class_weight=None, d...  \nClassifier - Intercept                                                                      -0.951911  \nClassifier - Coefficients                           [[0.10361510541039697, 0.18809943442462512, 1....  \nMetrics - Cross Validation Accuracy                                                          0.737756  \nMetrics - F1 score                                                                           0.661463  \nMetrics - Confusion Matrix Classification Accuracy                                           0.746852  \nMetrics - Confusion Matrix Classification Error                                              0.253148  \nMetrics - Confusion Matrix True Positive Rate                                                0.414368  \nMetrics - Confusion Matrix True Negative Rate                                                0.886098  \nMetrics - Confusion Matrix False Positive Rate                                               0.113902  \nMetrics - Confusion Matrix Precision                                                         0.603738  \nMetrics - ROC Curve fpr array                       [0.0, 0.0, 0.0, 0.0, 0.00040295500335795837, 0...  \nMetrics - ROC Curve tpr array                       [0.0, 0.00032071840923669016, 0.00288646568313...  \nMetrics - AUC                                                                                0.780632  "
     },
     "execution_count": 5,
     "metadata": {},
     "output_type": "execute_result"
    }
   ],
   "source": [
    "df = pd.DataFrame(data)\n",
    "df"
   ]
  },
  {
   "cell_type": "code",
   "execution_count": 6,
   "metadata": {},
   "outputs": [],
   "source": [
    "with open(outFilename, 'w') as fo:\n",
    "    df.to_csv(fo)"
   ]
  },
  {
   "cell_type": "code",
   "execution_count": null,
   "metadata": {},
   "outputs": [],
   "source": []
  }
 ]
}