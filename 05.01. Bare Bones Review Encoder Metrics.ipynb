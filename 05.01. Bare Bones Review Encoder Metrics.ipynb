{
 "nbformat": 4,
 "nbformat_minor": 2,
 "metadata": {
  "language_info": {
   "name": "python",
   "codemirror_mode": {
    "name": "ipython",
    "version": 3
   },
   "version": "3.7.6-final"
  },
  "orig_nbformat": 2,
  "file_extension": ".py",
  "mimetype": "text/x-python",
  "name": "python",
  "npconvert_exporter": "python",
  "pygments_lexer": "ipython3",
  "version": 3,
  "kernelspec": {
   "name": "python3",
   "display_name": "Python 3"
  }
 },
 "cells": [
  {
   "cell_type": "markdown",
   "metadata": {},
   "source": [
    "# 05.01 Bare Bones Review Encoder Metrics\n",
    "\n",
    "Goal: identify the factors that most contribute to SLAFail\n",
    "\n",
    "Tuning Adjustments: Focus on finding the most predictive set of predictor variables\n",
    "\n",
    "Compare the results of the following notebooks: \n",
    "\n",
    "\n",
    "\n",
    "\n",
    "\n"
   ]
  },
  {
   "cell_type": "code",
   "execution_count": 1,
   "metadata": {},
   "outputs": [],
   "source": [
    "# Load libraries\n",
    "import pandas as pd\n",
    "import numpy as np\n",
    "import pickle\n"
   ]
  },
  {
   "cell_type": "code",
   "execution_count": 3,
   "metadata": {},
   "outputs": [
    {
     "data": {
      "text/plain": "{'Name': 'Bare Bones with MEstimate Encoder',\n 'Column Transforms': ['mestimateencoder', 'standardscaler'],\n 'Classifier': LogisticRegression(C=1.0, class_weight=None, dual=False, fit_intercept=True,\n                    intercept_scaling=1, l1_ratio=None, max_iter=100,\n                    multi_class='auto', n_jobs=None, penalty='l2',\n                    random_state=None, solver='lbfgs', tol=0.0001, verbose=0,\n                    warm_start=False),\n 'Classifier - Intercept': -6.232629550822262,\n 'Classifier - Coefficients':                                    0\n CI_Name_aff                 3.836144\n Service_Component_WBS_aff  -1.941077\n Impact                      0.534125\n Urgency                     0.557586\n KM_number                   4.737794\n Count_Related_Interactions  4.476919\n Count_Related_Incidents     5.356005\n Count_Related_Changes      -0.505157\n Open_Time_HourOfDay         0.184350\n Open_Time_DayOfWeek        -0.033200\n CI_TypeSubType_aff         -0.003490,\n 'Metrics - Cross Validation Accuracy': 0.7268411442483262,\n 'Metrics - F1 score': 0.6490218571228781,\n 'Metrics - Confusion Matrix Classification Accuracy': 0.7354918110385307,\n 'Metrics - Confusion Matrix Classification Error': 0.2645081889614693,\n 'Metrics - Confusion Matrix True Positive Rate': 0.4050673508659397,\n 'Metrics - Confusion Matrix True Negative Rate': 0.8738750839489591,\n 'Metrics - Confusion Matrix False Positive Rate': 0.12612491605104098,\n 'Metrics - Confusion Matrix Precision': 0.5735694822888283,\n 'Metrics - ROC Curve fpr array': array([0.        , 0.        , 0.        , ..., 0.99932841, 0.99973136,\n        1.        ]),\n 'Metrics - ROC Curve tpr array': array([0.00000000e+00, 3.20718409e-04, 1.28287364e-03, ...,\n        1.00000000e+00, 1.00000000e+00, 1.00000000e+00]),\n 'Metrics - AUC': 0.7712878190329683}"
     },
     "execution_count": 3,
     "metadata": {},
     "output_type": "execute_result"
    }
   ],
   "source": [
    "with open(\"data/05.01.a BareBones MEst.pkl\", 'rb') as fi:\n",
    "    MEstMetadata = pickle.load(fi)\n",
    "\n",
    "MEstMetadata"
   ]
  },
  {
   "cell_type": "code",
   "execution_count": 13,
   "metadata": {},
   "outputs": [
    {
     "data": {
      "text/plain": "{'Name': 'Bare Bones with Target Encoder',\n 'Column Transforms': ['targetencoder', 'standardscaler'],\n 'Classifier': LogisticRegression(C=1.0, class_weight=None, dual=False, fit_intercept=True,\n                    intercept_scaling=1, l1_ratio=None, max_iter=100,\n                    multi_class='auto', n_jobs=None, penalty='l2',\n                    random_state=None, solver='lbfgs', tol=0.0001, verbose=0,\n                    warm_start=False),\n 'Classifier - Intercept': -6.197930200617626,\n 'Classifier - Coefficients':                                    0\n CI_Name_aff                 1.101768\n Service_Component_WBS_aff  -0.110784\n Impact                      0.548248\n Urgency                     0.591741\n KM_number                   5.129803\n Count_Related_Interactions  4.420245\n Count_Related_Incidents     5.229524\n Count_Related_Changes       0.118130\n Open_Time_HourOfDay         0.190665\n Open_Time_DayOfWeek        -0.033615\n CI_TypeSubType_aff          0.003000,\n 'Metrics - Cross Validation Accuracy': 0.7339013998782715,\n 'Metrics - F1 score': 0.6544454104729959,\n 'Metrics - Confusion Matrix Classification Accuracy': 0.7418347060494178,\n 'Metrics - Confusion Matrix Classification Error': 0.2581652939505822,\n 'Metrics - Confusion Matrix True Positive Rate': 0.404746632456703,\n 'Metrics - Confusion Matrix True Negative Rate': 0.8830087306917395,\n 'Metrics - Confusion Matrix False Positive Rate': 0.11699126930826058,\n 'Metrics - Confusion Matrix Precision': 0.5916549460853259,\n 'Metrics - ROC Curve fpr array': array([0.        , 0.        , 0.        , ..., 0.99905977, 0.99905977,\n        1.        ]),\n 'Metrics - ROC Curve tpr array': array([0.00000000e+00, 3.20718409e-04, 1.28287364e-03, ...,\n        9.99679282e-01, 1.00000000e+00, 1.00000000e+00]),\n 'Metrics - AUC': 0.7771077488927784}"
     },
     "execution_count": 13,
     "metadata": {},
     "output_type": "execute_result"
    }
   ],
   "source": [
    "with open(\"data/05.01.b BareBones Target.pkl\", 'rb') as fi:\n",
    "    TargetMetadata = pickle.load(fi)\n",
    "\n",
    "TargetMetadata"
   ]
  },
  {
   "cell_type": "code",
   "execution_count": 7,
   "metadata": {},
   "outputs": [
    {
     "data": {
      "text/plain": "{'Name': 'Bare Bones with WOE Encoder',\n 'Column Transforms': ['woeencoder', 'standardscaler'],\n 'Classifier': LogisticRegression(C=1.0, class_weight=None, dual=False, fit_intercept=True,\n                    intercept_scaling=1, l1_ratio=None, max_iter=100,\n                    multi_class='auto', n_jobs=None, penalty='l2',\n                    random_state=None, solver='lbfgs', tol=0.0001, verbose=0,\n                    warm_start=False),\n 'Classifier - Intercept': -0.9295458299205809,\n 'Classifier - Coefficients':                                    0\n CI_Name_aff                 0.149429\n Service_Component_WBS_aff   0.020647\n Impact                      0.171251\n Urgency                     0.037602\n KM_number                   1.068385\n Count_Related_Interactions  1.175950\n Count_Related_Incidents     1.246824\n Count_Related_Changes       0.028382\n Open_Time_HourOfDay         0.183388\n Open_Time_DayOfWeek        -0.037186\n CI_TypeSubType_aff          0.003254,\n 'Metrics - Cross Validation Accuracy': 0.737025765875431,\n 'Metrics - F1 score': 0.6580921441143677,\n 'Metrics - Confusion Matrix Classification Accuracy': 0.7442014579191517,\n 'Metrics - Confusion Matrix Classification Error': 0.2557985420808483,\n 'Metrics - Confusion Matrix True Positive Rate': 0.41051956382296345,\n 'Metrics - Confusion Matrix True Negative Rate': 0.883948959032908,\n 'Metrics - Confusion Matrix False Positive Rate': 0.11605104096709201,\n 'Metrics - Confusion Matrix Precision': 0.5970149253731343,\n 'Metrics - ROC Curve fpr array': array([0.        , 0.        , 0.        , ..., 0.99919409, 0.99946273,\n        1.        ]),\n 'Metrics - ROC Curve tpr array': array([0.00000000e+00, 3.20718409e-04, 1.28287364e-03, ...,\n        1.00000000e+00, 1.00000000e+00, 1.00000000e+00]),\n 'Metrics - AUC': 0.7806710618084038}"
     },
     "execution_count": 7,
     "metadata": {},
     "output_type": "execute_result"
    }
   ],
   "source": [
    "with open(\"data/05.01.c BareBones WOE.pkl\", 'rb') as fi:\n",
    "    WOEMetadata = pickle.load(fi)\n",
    "\n",
    "WOEMetadata"
   ]
  },
  {
   "cell_type": "code",
   "execution_count": 6,
   "metadata": {},
   "outputs": [
    {
     "data": {
      "text/plain": "{'Name': 'Bare Bones with Helmert Encoder',\n 'Column Transforms': ['helmertencoder', 'standardscaler'],\n 'Classifier': LogisticRegression(C=1.0, class_weight=None, dual=False, fit_intercept=True,\n                    intercept_scaling=1, l1_ratio=None, max_iter=100,\n                    multi_class='auto', n_jobs=None, penalty='l2',\n                    random_state=None, solver='lbfgs', tol=0.0001, verbose=0,\n                    warm_start=False),\n 'Classifier - Intercept': -0.003607872196270573,\n 'Classifier - Coefficients': array([[-0.00360475,  0.02535751, -0.01717745, ...,  0.1883989 ,\n          0.0070423 ,  0.00773264]]),\n 'Metrics - Cross Validation Accuracy': 0.7332116047879895,\n 'Metrics - F1 score': 0.6622812081089122,\n 'Metrics - Confusion Matrix Classification Accuracy': 0.7371958723847392,\n 'Metrics - Confusion Matrix Classification Error': 0.26280412761526084,\n 'Metrics - Confusion Matrix True Positive Rate': 0.4509300833867864,\n 'Metrics - Confusion Matrix True Negative Rate': 0.8570852921423774,\n 'Metrics - Confusion Matrix False Positive Rate': 0.14291470785762256,\n 'Metrics - Confusion Matrix Precision': 0.5692307692307692,\n 'Metrics - ROC Curve fpr array': array([0.        , 0.        , 0.        , ..., 0.99973136, 0.99973136,\n        1.        ]),\n 'Metrics - ROC Curve tpr array': array([0.00000000e+00, 3.20718409e-04, 9.62155228e-04, ...,\n        9.97754971e-01, 1.00000000e+00, 1.00000000e+00]),\n 'Metrics - AUC': 0.7519641364016041}"
     },
     "execution_count": 6,
     "metadata": {},
     "output_type": "execute_result"
    }
   ],
   "source": [
    "with open(\"data/05.01.d BareBones HelmertEncoder.pkl\", 'rb') as fi:\n",
    "    HelmertMetadata = pickle.load(fi)\n",
    "\n",
    "HelmertMetadata"
   ]
  },
  {
   "cell_type": "code",
   "execution_count": 14,
   "metadata": {},
   "outputs": [],
   "source": [
    "data = { 'Name' : [ MEstMetadata['Name'] , TargetMetadata['Name']  , WOEMetadata['Name'] , HelmertMetadata['Name'] ] ,\n",
    "         'CrossVal Accuracy' : [ MEstMetadata['Metrics - Cross Validation Accuracy'] , TargetMetadata['Metrics - Cross Validation Accuracy']  , WOEMetadata['Metrics - Cross Validation Accuracy'] , HelmertMetadata['Metrics - Cross Validation Accuracy'] ] , \n",
    "         'F1 Score' : [ MEstMetadata['Metrics - F1 score'] , TargetMetadata['Metrics - F1 score']  , WOEMetadata['Metrics - F1 score'] , HelmertMetadata['Metrics - F1 score'] ] ,\n",
    "         'AUC' : [ MEstMetadata['Metrics - AUC'] , TargetMetadata['Metrics - AUC']  , WOEMetadata['Metrics - AUC'] , HelmertMetadata['Metrics - AUC'] ] \n",
    "}"
   ]
  },
  {
   "cell_type": "code",
   "execution_count": 16,
   "metadata": {},
   "outputs": [
    {
     "data": {
      "text/html": "<div>\n<style scoped>\n    .dataframe tbody tr th:only-of-type {\n        vertical-align: middle;\n    }\n\n    .dataframe tbody tr th {\n        vertical-align: top;\n    }\n\n    .dataframe thead th {\n        text-align: right;\n    }\n</style>\n<table border=\"1\" class=\"dataframe\">\n  <thead>\n    <tr style=\"text-align: right;\">\n      <th></th>\n      <th>Name</th>\n      <th>CrossVal Accuracy</th>\n      <th>F1 Score</th>\n      <th>AUC</th>\n    </tr>\n  </thead>\n  <tbody>\n    <tr>\n      <th>0</th>\n      <td>Bare Bones with MEstimate Encoder</td>\n      <td>0.726841</td>\n      <td>0.649022</td>\n      <td>0.771288</td>\n    </tr>\n    <tr>\n      <th>1</th>\n      <td>Bare Bones with Target Encoder</td>\n      <td>0.733901</td>\n      <td>0.654445</td>\n      <td>0.777108</td>\n    </tr>\n    <tr>\n      <th>2</th>\n      <td>Bare Bones with WOE Encoder</td>\n      <td>0.737026</td>\n      <td>0.658092</td>\n      <td>0.780671</td>\n    </tr>\n    <tr>\n      <th>3</th>\n      <td>Bare Bones with Helmert Encoder</td>\n      <td>0.733212</td>\n      <td>0.662281</td>\n      <td>0.751964</td>\n    </tr>\n  </tbody>\n</table>\n</div>",
      "text/plain": "                                Name  CrossVal Accuracy  F1 Score       AUC\n0  Bare Bones with MEstimate Encoder           0.726841  0.649022  0.771288\n1     Bare Bones with Target Encoder           0.733901  0.654445  0.777108\n2        Bare Bones with WOE Encoder           0.737026  0.658092  0.780671\n3    Bare Bones with Helmert Encoder           0.733212  0.662281  0.751964"
     },
     "execution_count": 16,
     "metadata": {},
     "output_type": "execute_result"
    }
   ],
   "source": [
    "df = pd.DataFrame(data)\n",
    "df"
   ]
  },
  {
   "cell_type": "code",
   "execution_count": 18,
   "metadata": {},
   "outputs": [],
   "source": [
    "with open(\"reports/05.01 Encoder Metrics.csv\", 'w') as fo:\n",
    "    df.to_csv(fo)"
   ]
  },
  {
   "cell_type": "code",
   "execution_count": null,
   "metadata": {},
   "outputs": [],
   "source": []
  }
 ]
}