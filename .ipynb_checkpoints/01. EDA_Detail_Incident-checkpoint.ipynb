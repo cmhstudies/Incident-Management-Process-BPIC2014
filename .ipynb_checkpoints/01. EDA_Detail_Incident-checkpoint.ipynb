{
 "cells": [
  {
   "cell_type": "markdown",
   "metadata": {},
   "source": [
    "# 01. Exploratory Data Analysis and Preliminary Cleaning\n"
   ]
  },
  {
   "cell_type": "code",
   "execution_count": 1,
   "metadata": {},
   "outputs": [],
   "source": [
    "import pandas as pd\n",
    "import numpy as np\n",
    "import seaborn as sns\n",
    "import matplotlib\n",
    "from matplotlib import pyplot as plt\n",
    "from pandas_profiling import ProfileReport\n",
    "from pathlib import Path"
   ]
  },
  {
   "cell_type": "code",
   "execution_count": 2,
   "metadata": {},
   "outputs": [],
   "source": [
    "df = pd.read_csv(\"data/Detail_Incident.csv\", sep=\";\", decimal=',')"
   ]
  },
  {
   "cell_type": "code",
   "execution_count": 3,
   "metadata": {},
   "outputs": [
    {
     "data": {
      "text/plain": [
       "Index(['CI Name (aff)', 'CI Type (aff)', 'CI Subtype (aff)',\n",
       "       'Service Component WBS (aff)', 'Incident ID', 'Status', 'Impact',\n",
       "       'Urgency', 'Priority', 'Category', 'KM number', 'Alert Status',\n",
       "       '# Reassignments', 'Open Time', 'Reopen Time', 'Resolved Time',\n",
       "       'Close Time', 'Handle Time (Hours)', 'Closure Code',\n",
       "       '# Related Interactions', 'Related Interaction', '# Related Incidents',\n",
       "       '# Related Changes', 'Related Change', 'CI Name (CBy)', 'CI Type (CBy)',\n",
       "       'CI Subtype (CBy)', 'ServiceComp WBS (CBy)', 'Unnamed: 28',\n",
       "       'Unnamed: 29', 'Unnamed: 30', 'Unnamed: 31', 'Unnamed: 32',\n",
       "       'Unnamed: 33', 'Unnamed: 34', 'Unnamed: 35', 'Unnamed: 36',\n",
       "       'Unnamed: 37', 'Unnamed: 38', 'Unnamed: 39', 'Unnamed: 40',\n",
       "       'Unnamed: 41', 'Unnamed: 42', 'Unnamed: 43', 'Unnamed: 44',\n",
       "       'Unnamed: 45', 'Unnamed: 46', 'Unnamed: 47', 'Unnamed: 48',\n",
       "       'Unnamed: 49', 'Unnamed: 50', 'Unnamed: 51', 'Unnamed: 52',\n",
       "       'Unnamed: 53', 'Unnamed: 54', 'Unnamed: 55', 'Unnamed: 56',\n",
       "       'Unnamed: 57', 'Unnamed: 58', 'Unnamed: 59', 'Unnamed: 60',\n",
       "       'Unnamed: 61', 'Unnamed: 62', 'Unnamed: 63', 'Unnamed: 64',\n",
       "       'Unnamed: 65', 'Unnamed: 66', 'Unnamed: 67', 'Unnamed: 68',\n",
       "       'Unnamed: 69', 'Unnamed: 70', 'Unnamed: 71', 'Unnamed: 72',\n",
       "       'Unnamed: 73', 'Unnamed: 74', 'Unnamed: 75', 'Unnamed: 76',\n",
       "       'Unnamed: 77'],\n",
       "      dtype='object')"
      ]
     },
     "execution_count": 3,
     "metadata": {},
     "output_type": "execute_result"
    }
   ],
   "source": [
    "df.columns"
   ]
  },
  {
   "cell_type": "markdown",
   "metadata": {},
   "source": [
    "Remove empty rows and columns"
   ]
  },
  {
   "cell_type": "code",
   "execution_count": 4,
   "metadata": {},
   "outputs": [],
   "source": [
    "df.dropna(axis='columns', how='all', inplace=True)"
   ]
  },
  {
   "cell_type": "code",
   "execution_count": 5,
   "metadata": {},
   "outputs": [],
   "source": [
    "df.dropna(axis='rows', how='all', inplace=True)"
   ]
  },
  {
   "cell_type": "code",
   "execution_count": 6,
   "metadata": {},
   "outputs": [
    {
     "data": {
      "text/plain": [
       "(46606, 28)"
      ]
     },
     "execution_count": 6,
     "metadata": {},
     "output_type": "execute_result"
    }
   ],
   "source": [
    "df.shape"
   ]
  },
  {
   "cell_type": "markdown",
   "metadata": {},
   "source": [
    "Adjust column names for easier reference"
   ]
  },
  {
   "cell_type": "code",
   "execution_count": 7,
   "metadata": {},
   "outputs": [],
   "source": [
    "df.columns = df.columns.str.replace(' ', '_')\n",
    "df.columns = df.columns.str.replace('(', '')\n",
    "df.columns = df.columns.str.replace(')', '')\n",
    "df.columns = df.columns.str.replace('#', 'Count')"
   ]
  },
  {
   "cell_type": "code",
   "execution_count": 8,
   "metadata": {},
   "outputs": [
    {
     "data": {
      "text/plain": [
       "Index(['CI_Name_aff', 'CI_Type_aff', 'CI_Subtype_aff',\n",
       "       'Service_Component_WBS_aff', 'Incident_ID', 'Status', 'Impact',\n",
       "       'Urgency', 'Priority', 'Category', 'KM_number', 'Alert_Status',\n",
       "       'Count_Reassignments', 'Open_Time', 'Reopen_Time', 'Resolved_Time',\n",
       "       'Close_Time', 'Handle_Time_Hours', 'Closure_Code',\n",
       "       'Count_Related_Interactions', 'Related_Interaction',\n",
       "       'Count_Related_Incidents', 'Count_Related_Changes', 'Related_Change',\n",
       "       'CI_Name_CBy', 'CI_Type_CBy', 'CI_Subtype_CBy', 'ServiceComp_WBS_CBy'],\n",
       "      dtype='object')"
      ]
     },
     "execution_count": 8,
     "metadata": {},
     "output_type": "execute_result"
    }
   ],
   "source": [
    "df.columns"
   ]
  },
  {
   "cell_type": "markdown",
   "metadata": {},
   "source": [
    "Convert date columns to datetime"
   ]
  },
  {
   "cell_type": "code",
   "execution_count": 9,
   "metadata": {},
   "outputs": [],
   "source": [
    "colsDatetime = ['Open_Time', 'Reopen_Time', 'Resolved_Time', 'Close_Time']"
   ]
  },
  {
   "cell_type": "code",
   "execution_count": 10,
   "metadata": {},
   "outputs": [],
   "source": [
    "for i in colsDatetime:\n",
    "    df[i] = pd.to_datetime(df[i], format='%d/%m/%Y %H:%M:%S', errors='coerce' )"
   ]
  },
  {
   "cell_type": "code",
   "execution_count": 11,
   "metadata": {},
   "outputs": [
    {
     "data": {
      "text/plain": [
       "CI_Name_aff                           object\n",
       "CI_Type_aff                           object\n",
       "CI_Subtype_aff                        object\n",
       "Service_Component_WBS_aff             object\n",
       "Incident_ID                           object\n",
       "Status                                object\n",
       "Impact                               float64\n",
       "Urgency                               object\n",
       "Priority                             float64\n",
       "Category                              object\n",
       "KM_number                             object\n",
       "Alert_Status                          object\n",
       "Count_Reassignments                  float64\n",
       "Open_Time                     datetime64[ns]\n",
       "Reopen_Time                   datetime64[ns]\n",
       "Resolved_Time                 datetime64[ns]\n",
       "Close_Time                    datetime64[ns]\n",
       "Handle_Time_Hours                    float64\n",
       "Closure_Code                          object\n",
       "Count_Related_Interactions           float64\n",
       "Related_Interaction                   object\n",
       "Count_Related_Incidents              float64\n",
       "Count_Related_Changes                float64\n",
       "Related_Change                        object\n",
       "CI_Name_CBy                           object\n",
       "CI_Type_CBy                           object\n",
       "CI_Subtype_CBy                        object\n",
       "ServiceComp_WBS_CBy                   object\n",
       "dtype: object"
      ]
     },
     "execution_count": 11,
     "metadata": {},
     "output_type": "execute_result"
    }
   ],
   "source": [
    "df.dtypes"
   ]
  },
  {
   "cell_type": "markdown",
   "metadata": {},
   "source": [
    "Investigate `Urgency` as an object"
   ]
  },
  {
   "cell_type": "code",
   "execution_count": 12,
   "metadata": {},
   "outputs": [
    {
     "data": {
      "text/plain": [
       "4               18349\n",
       "5               14094\n",
       "3                5362\n",
       "4                4239\n",
       "5                2685\n",
       "3                1174\n",
       "2                 607\n",
       "2                  89\n",
       "1                   4\n",
       "1                   2\n",
       "5 - Very Low        1\n",
       "Name: Urgency, dtype: int64"
      ]
     },
     "execution_count": 12,
     "metadata": {},
     "output_type": "execute_result"
    }
   ],
   "source": [
    "df.Urgency.value_counts()"
   ]
  },
  {
   "cell_type": "markdown",
   "metadata": {},
   "source": [
    "Fix `Urgency`, convert it along with `Impact` and `Priority` to string"
   ]
  },
  {
   "cell_type": "code",
   "execution_count": 13,
   "metadata": {},
   "outputs": [],
   "source": [
    "df.Impact = df.Impact.astype(str).str[:1]\n",
    "df.Priority = df.Priority.astype(str).str[:1]\n",
    "df.Urgency = df.Urgency.astype(str).str[:1]"
   ]
  },
  {
   "cell_type": "code",
   "execution_count": 14,
   "metadata": {},
   "outputs": [
    {
     "data": {
      "text/plain": [
       "4    22588\n",
       "5    16780\n",
       "3     6536\n",
       "2      696\n",
       "1        6\n",
       "Name: Urgency, dtype: int64"
      ]
     },
     "execution_count": 14,
     "metadata": {},
     "output_type": "execute_result"
    }
   ],
   "source": [
    "df.Urgency.value_counts()"
   ]
  },
  {
   "cell_type": "code",
   "execution_count": 15,
   "metadata": {},
   "outputs": [
    {
     "data": {
      "text/plain": [
       "CI_Name_aff                           object\n",
       "CI_Type_aff                           object\n",
       "CI_Subtype_aff                        object\n",
       "Service_Component_WBS_aff             object\n",
       "Incident_ID                           object\n",
       "Status                                object\n",
       "Impact                                object\n",
       "Urgency                               object\n",
       "Priority                              object\n",
       "Category                              object\n",
       "KM_number                             object\n",
       "Alert_Status                          object\n",
       "Count_Reassignments                  float64\n",
       "Open_Time                     datetime64[ns]\n",
       "Reopen_Time                   datetime64[ns]\n",
       "Resolved_Time                 datetime64[ns]\n",
       "Close_Time                    datetime64[ns]\n",
       "Handle_Time_Hours                    float64\n",
       "Closure_Code                          object\n",
       "Count_Related_Interactions           float64\n",
       "Related_Interaction                   object\n",
       "Count_Related_Incidents              float64\n",
       "Count_Related_Changes                float64\n",
       "Related_Change                        object\n",
       "CI_Name_CBy                           object\n",
       "CI_Type_CBy                           object\n",
       "CI_Subtype_CBy                        object\n",
       "ServiceComp_WBS_CBy                   object\n",
       "dtype: object"
      ]
     },
     "execution_count": 15,
     "metadata": {},
     "output_type": "execute_result"
    }
   ],
   "source": [
    "df.dtypes\n"
   ]
  },
  {
   "cell_type": "markdown",
   "metadata": {},
   "source": [
    "Output file and create profile report"
   ]
  },
  {
   "cell_type": "code",
   "execution_count": 16,
   "metadata": {},
   "outputs": [],
   "source": [
    "with open(\"data/01.a.Detail_Incident.csv\",'w') as f:\n",
    "    df.to_csv(f, index=False)"
   ]
  },
  {
   "cell_type": "code",
   "execution_count": 17,
   "metadata": {},
   "outputs": [],
   "source": [
    "profile = ProfileReport(df, title=\"Profile of BPIC 2014 Detail_Incident Data after Initial Cleaning\", html={'style': {'full_width': True}})"
   ]
  },
  {
   "cell_type": "code",
   "execution_count": 18,
   "metadata": {},
   "outputs": [],
   "source": [
    "profile.to_file(Path(str(\"reports/01.b.Detail_Incident_Profile.html\")))"
   ]
  },
  {
   "cell_type": "code",
   "execution_count": null,
   "metadata": {},
   "outputs": [],
   "source": []
  }
 ],
 "metadata": {
  "file_extension": ".py",
  "kernelspec": {
   "display_name": "Python 3",
   "language": "python",
   "name": "python3"
  },
  "language_info": {
   "codemirror_mode": {
    "name": "ipython",
    "version": 3
   },
   "file_extension": ".py",
   "mimetype": "text/x-python",
   "name": "python",
   "nbconvert_exporter": "python",
   "pygments_lexer": "ipython3",
   "version": "3.7.6"
  },
  "mimetype": "text/x-python",
  "name": "python",
  "npconvert_exporter": "python",
  "nteract": {
   "version": "0.21.0"
  },
  "pygments_lexer": "ipython3",
  "version": 3
 },
 "nbformat": 4,
 "nbformat_minor": 2
}
