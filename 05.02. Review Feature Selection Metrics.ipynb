{
 "nbformat": 4,
 "nbformat_minor": 2,
 "metadata": {
  "language_info": {
   "name": "python",
   "codemirror_mode": {
    "name": "ipython",
    "version": 3
   },
   "version": "3.7.6-final"
  },
  "orig_nbformat": 2,
  "file_extension": ".py",
  "mimetype": "text/x-python",
  "name": "python",
  "npconvert_exporter": "python",
  "pygments_lexer": "ipython3",
  "version": 3,
  "kernelspec": {
   "name": "python3",
   "display_name": "Python 3"
  }
 },
 "cells": [
  {
   "cell_type": "markdown",
   "metadata": {},
   "source": [
    "# 05.02 Review Feature Selection Metrics\n",
    "\n",
    "Goal: identify the factors that most contribute to SLAFail\n",
    "\n",
    "Tuning Adjustments: Focus on finding the most predictive set of predictor variables\n",
    "\n",
    "Compare the results of the following notebooks: \n",
    "\n",
    "\n",
    "\n",
    "\n",
    "\n"
   ]
  },
  {
   "cell_type": "code",
   "execution_count": 1,
   "metadata": {},
   "outputs": [],
   "source": [
    "# Load libraries\n",
    "import pandas as pd\n",
    "import numpy as np\n",
    "import pickle\n"
   ]
  },
  {
   "cell_type": "code",
   "execution_count": 2,
   "metadata": {},
   "outputs": [
    {
     "data": {
      "text/plain": "{'Name': 'Feature Selection KBest F-Classif',\n 'Column Transforms': ['woeencoder', 'standardscaler'],\n 'Selector': <bound method BaseEstimator.get_params of SelectKBest(k=10, score_func=<function f_classif at 0x1a17581560>)>,\n 'Classifier': LogisticRegression(C=1.0, class_weight=None, dual=False, fit_intercept=True,\n                    intercept_scaling=1, l1_ratio=None, max_iter=100,\n                    multi_class='auto', n_jobs=None, penalty='l2',\n                    random_state=None, solver='lbfgs', tol=0.0001, verbose=0,\n                    warm_start=False),\n 'Selector - Scores':                                  scores        p-value\n CI_Name_aff                 4040.359780   0.000000e+00\n Service_Component_WBS_aff   2626.055718   0.000000e+00\n KM_number                   6104.438394   0.000000e+00\n Count_Related_Changes        902.108720  1.100360e-194\n Count_Related_Incidents      679.762696  7.613825e-148\n Count_Related_Interactions   177.755544   2.068215e-40\n Urgency                      141.583607   1.472826e-32\n Impact                       140.220303   2.914516e-32\n Open_Time_HourOfDay           62.075799   3.440704e-15\n Open_Time_DayOfWeek            5.607222   1.789427e-02\n CI_TypeSubType_aff             0.351935   5.530252e-01,\n 'Classifier - Intercept': -0.9295114210180985,\n 'Classifier - Coefficients':                                    0\n CI_Name_aff                 0.149591\n Service_Component_WBS_aff   0.020888\n Impact                      0.169542\n Urgency                     0.039663\n KM_number                   1.068318\n Count_Related_Interactions  1.176742\n Count_Related_Incidents     1.246995\n Count_Related_Changes       0.027675\n Open_Time_HourOfDay         0.183534\n Open_Time_DayOfWeek        -0.037030,\n 'Metrics - Cross Validation Accuracy': 0.737025765875431,\n 'Metrics - F1 score': 0.6579221552692892,\n 'Metrics - Confusion Matrix Classification Accuracy': 0.7441067878443623,\n 'Metrics - Confusion Matrix Classification Error': 0.25589321215563765,\n 'Metrics - Confusion Matrix True Positive Rate': 0.41019884541372675,\n 'Metrics - Confusion Matrix True Negative Rate': 0.883948959032908,\n 'Metrics - Confusion Matrix False Positive Rate': 0.11605104096709201,\n 'Metrics - Confusion Matrix Precision': 0.5968268782081194,\n 'Metrics - ROC Curve fpr array': array([0.        , 0.        , 0.        , ..., 0.99919409, 0.99946273,\n        1.        ]),\n 'Metrics - ROC Curve tpr array': array([0.00000000e+00, 3.20718409e-04, 1.28287364e-03, ...,\n        1.00000000e+00, 1.00000000e+00, 1.00000000e+00]),\n 'Metrics - AUC': 0.7806984811861712}"
     },
     "execution_count": 2,
     "metadata": {},
     "output_type": "execute_result"
    }
   ],
   "source": [
    "with open(\"data/05.02.a Feature Select KBest f_classif.pkl\", 'rb') as fi:\n",
    "    KBestFMetadata = pickle.load(fi)\n",
    "\n",
    "KBestFMetadata"
   ]
  },
  {
   "cell_type": "code",
   "execution_count": 3,
   "metadata": {},
   "outputs": [
    {
     "data": {
      "text/plain": "{'Name': 'Feature Selection KBest MI',\n 'Column Transforms': ['woeencoder', 'standardscaler'],\n 'Selector': <bound method BaseEstimator.get_params of SelectKBest(k=10, score_func=<function mutual_info_classif at 0x1a17cf3b00>)>,\n 'Classifier': LogisticRegression(C=1.0, class_weight=None, dual=False, fit_intercept=True,\n                    intercept_scaling=1, l1_ratio=None, max_iter=100,\n                    multi_class='auto', n_jobs=None, penalty='l2',\n                    random_state=None, solver='lbfgs', tol=0.0001, verbose=0,\n                    warm_start=False),\n 'Selector - Scores':                               scores\n Count_Related_Interactions  0.003142\n CI_TypeSubType_aff          0.003868\n Open_Time_DayOfWeek         0.004314\n Impact                      0.005336\n Urgency                     0.006595\n Count_Related_Incidents     0.014658\n Count_Related_Changes       0.022491\n Open_Time_HourOfDay         0.024270\n Service_Component_WBS_aff   0.046818\n CI_Name_aff                 0.078864\n KM_number                   0.115640,\n 'Classifier - Intercept': -0.9318808744218925,\n 'Classifier - Coefficients':                                   0\n CI_Name_aff                0.148247\n Service_Component_WBS_aff  0.008230\n Impact                     0.098013\n Urgency                    0.101840\n KM_number                  1.069553\n Count_Related_Incidents    1.242584\n Count_Related_Changes      0.015877\n Open_Time_HourOfDay        0.180741\n Open_Time_DayOfWeek       -0.036609\n CI_TypeSubType_aff         0.000961,\n 'Metrics - Cross Validation Accuracy': 0.7371069182389937,\n 'Metrics - F1 score': 0.6540110604531448,\n 'Metrics - Confusion Matrix Classification Accuracy': 0.7430654170216795,\n 'Metrics - Confusion Matrix Classification Error': 0.2569345829783205,\n 'Metrics - Confusion Matrix True Positive Rate': 0.39929441949967925,\n 'Metrics - Confusion Matrix True Negative Rate': 0.887038280725319,\n 'Metrics - Confusion Matrix False Positive Rate': 0.11296171927468099,\n 'Metrics - Confusion Matrix Precision': 0.5968360498561841,\n 'Metrics - ROC Curve fpr array': array([0.00000000e+00, 0.00000000e+00, 5.37273338e-04, ...,\n        9.98388180e-01, 9.98925453e-01, 1.00000000e+00]),\n 'Metrics - ROC Curve tpr array': array([0.00000000e+00, 3.20718409e-04, 3.20718409e-04, ...,\n        1.00000000e+00, 1.00000000e+00, 1.00000000e+00]),\n 'Metrics - AUC': 0.7779890244947878}"
     },
     "execution_count": 3,
     "metadata": {},
     "output_type": "execute_result"
    }
   ],
   "source": [
    "with open(\"data/05.02.b Feature Select KBest MI.pkl\", 'rb') as fi:\n",
    "    KBestMIMetadata = pickle.load(fi)\n",
    "\n",
    "KBestMIMetadata"
   ]
  },
  {
   "cell_type": "code",
   "execution_count": 4,
   "metadata": {},
   "outputs": [
    {
     "data": {
      "text/plain": "{'Name': 'Feature Selection RFE',\n 'Column Transforms': ['woeencoder', 'standardscaler'],\n 'Selector': RFE(estimator=LogisticRegression(C=1.0, class_weight=None, dual=False,\n                                  fit_intercept=True, intercept_scaling=1,\n                                  l1_ratio=None, max_iter=100,\n                                  multi_class='auto', n_jobs=None, penalty='l2',\n                                  random_state=None, solver='lbfgs', tol=0.0001,\n                                  verbose=0, warm_start=False),\n     n_features_to_select=5, step=1, verbose=0),\n 'Classifier': LogisticRegression(C=1.0, class_weight=None, dual=False, fit_intercept=True,\n                    intercept_scaling=1, l1_ratio=None, max_iter=100,\n                    multi_class='auto', n_jobs=None, penalty='l2',\n                    random_state=None, solver='lbfgs', tol=0.0001, verbose=0,\n                    warm_start=False),\n 'Classifier - Intercept': -0.9405940684422449,\n 'Classifier - Coefficients':                                    0\n Impact                      0.221828\n KM_number                   1.169620\n Count_Related_Interactions  1.152287\n Count_Related_Incidents     1.241007\n Open_Time_HourOfDay         0.162281,\n 'Selector - Ranking':                             ranking\n Impact                            1\n KM_number                         1\n Count_Related_Interactions        1\n Count_Related_Incidents           1\n Open_Time_HourOfDay               1\n CI_Name_aff                       2\n Open_Time_DayOfWeek               3\n Count_Related_Changes             4\n Urgency                           5\n Service_Component_WBS_aff         6\n CI_TypeSubType_aff                7,\n 'Metrics - Cross Validation Accuracy': 0.7351186853317102,\n 'Metrics - F1 score': 0.6565940549462997,\n 'Metrics - Confusion Matrix Classification Accuracy': 0.7443907980687304,\n 'Metrics - Confusion Matrix Classification Error': 0.25560920193126957,\n 'Metrics - Confusion Matrix True Positive Rate': 0.4044259140474663,\n 'Metrics - Confusion Matrix True Negative Rate': 0.8867696440564137,\n 'Metrics - Confusion Matrix False Positive Rate': 0.1132303559435863,\n 'Metrics - Confusion Matrix Precision': 0.5993346007604563,\n 'Metrics - ROC Curve fpr array': array([0.        , 0.        , 0.        , ..., 0.99946273, 0.99973136,\n        1.        ]),\n 'Metrics - ROC Curve tpr array': array([0.00000000e+00, 3.20718409e-04, 2.88646568e-03, ...,\n        1.00000000e+00, 1.00000000e+00, 1.00000000e+00]),\n 'Metrics - AUC': 0.7796129064497355}"
     },
     "execution_count": 4,
     "metadata": {},
     "output_type": "execute_result"
    }
   ],
   "source": [
    "with open(\"data/05.02.c Feature Select RFE.pkl\", 'rb') as fi:\n",
    "    RFEMetadata = pickle.load(fi)\n",
    "\n",
    "RFEMetadata"
   ]
  },
  {
   "cell_type": "code",
   "execution_count": 5,
   "metadata": {},
   "outputs": [],
   "source": [
    "data = { 'Name' : [ KBestFMetadata['Name'] , KBestMIMetadata['Name']  , RFEMetadata['Name'] ] ,\n",
    "         'CrossVal Accuracy' : [ KBestFMetadata['Metrics - Cross Validation Accuracy'] , KBestMIMetadata['Metrics - Cross Validation Accuracy']  , RFEMetadata['Metrics - Cross Validation Accuracy']  ] , \n",
    "         'F1 Score' : [ KBestFMetadata['Metrics - F1 score'] , KBestMIMetadata['Metrics - F1 score']  , RFEMetadata['Metrics - F1 score'] ],\n",
    "         'AUC' : [ KBestFMetadata['Metrics - AUC'] , KBestMIMetadata['Metrics - AUC']  , RFEMetadata['Metrics - AUC']  ] \n",
    "}"
   ]
  },
  {
   "cell_type": "code",
   "execution_count": 6,
   "metadata": {},
   "outputs": [
    {
     "data": {
      "text/html": "<div>\n<style scoped>\n    .dataframe tbody tr th:only-of-type {\n        vertical-align: middle;\n    }\n\n    .dataframe tbody tr th {\n        vertical-align: top;\n    }\n\n    .dataframe thead th {\n        text-align: right;\n    }\n</style>\n<table border=\"1\" class=\"dataframe\">\n  <thead>\n    <tr style=\"text-align: right;\">\n      <th></th>\n      <th>Name</th>\n      <th>CrossVal Accuracy</th>\n      <th>F1 Score</th>\n      <th>AUC</th>\n    </tr>\n  </thead>\n  <tbody>\n    <tr>\n      <th>0</th>\n      <td>Feature Selection KBest F-Classif</td>\n      <td>0.737026</td>\n      <td>0.657922</td>\n      <td>0.780698</td>\n    </tr>\n    <tr>\n      <th>1</th>\n      <td>Feature Selection KBest MI</td>\n      <td>0.737107</td>\n      <td>0.654011</td>\n      <td>0.777989</td>\n    </tr>\n    <tr>\n      <th>2</th>\n      <td>Feature Selection RFE</td>\n      <td>0.735119</td>\n      <td>0.656594</td>\n      <td>0.779613</td>\n    </tr>\n  </tbody>\n</table>\n</div>",
      "text/plain": "                                Name  CrossVal Accuracy  F1 Score       AUC\n0  Feature Selection KBest F-Classif           0.737026  0.657922  0.780698\n1         Feature Selection KBest MI           0.737107  0.654011  0.777989\n2              Feature Selection RFE           0.735119  0.656594  0.779613"
     },
     "execution_count": 6,
     "metadata": {},
     "output_type": "execute_result"
    }
   ],
   "source": [
    "df = pd.DataFrame(data)\n",
    "df"
   ]
  },
  {
   "cell_type": "code",
   "execution_count": 7,
   "metadata": {},
   "outputs": [],
   "source": [
    "with open(\"reports/05.02 Feature Selection Metrics.csv\", 'w') as fo:\n",
    "    df.to_csv(fo)"
   ]
  },
  {
   "cell_type": "code",
   "execution_count": null,
   "metadata": {},
   "outputs": [],
   "source": []
  }
 ]
}