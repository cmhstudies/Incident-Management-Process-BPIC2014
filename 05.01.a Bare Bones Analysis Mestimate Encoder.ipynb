{
 "nbformat": 4,
 "nbformat_minor": 2,
 "metadata": {
  "language_info": {
   "name": "python",
   "codemirror_mode": {
    "name": "ipython",
    "version": 3
   },
   "version": "3.7.6-final"
  },
  "orig_nbformat": 2,
  "file_extension": ".py",
  "mimetype": "text/x-python",
  "name": "python",
  "npconvert_exporter": "python",
  "pygments_lexer": "ipython3",
  "version": 3,
  "kernelspec": {
   "name": "python3",
   "display_name": "Python 3"
  }
 },
 "cells": [
  {
   "cell_type": "markdown",
   "metadata": {},
   "source": [
    "# 05.01.a Bare Bones Analysis with MEstimate Encoder\n",
    "\n",
    "Goal: identify the factors that most contribute to SLAFail\n",
    "\n",
    "Tuning Adjustments: Focus on finding the most predictive set of predictor variables\n",
    "\n",
    "\n",
    "Read Prepared Data  ->  Split Data  -> Develop Pipeline  ->  Evaluate  \n",
    "\n",
    "Split Data using sklearn.model_selection.train_test_split\n",
    "\n",
    "Pipeline includes:\n",
    "\n",
    "- Preprocessing variables\n",
    "    - sklearn.compose.make_column_transformer \n",
    "        - Scale numeric variables: sklearn.preprocessing.StandardScaler\n",
    "        - Encode categorical variables: category_encoders.MEstimateEncoder\n",
    "- Selecting features\n",
    "    - None\n",
    "- Instantiate model\n",
    "    - sklearn.linear_model.LogisticRegression\n",
    "- Fit the model using training data\n",
    "- Cross-validate the model with training data\n",
    "    - sklearn.model_selection.cross_val_score\n",
    "- Output performance measures\n",
    "\n",
    "Evaluate involves running the pipeline with the testing data and capturing metrics\n",
    "\n",
    "\n",
    "\n"
   ]
  },
  {
   "cell_type": "code",
   "execution_count": 36,
   "metadata": {},
   "outputs": [],
   "source": [
    "# Load libraries\n",
    "import pandas as pd\n",
    "import numpy as np\n",
    "import pickle\n",
    "\n",
    "# allow plots to appear in the notebook\n",
    "%matplotlib inline\n",
    "import matplotlib.pyplot as plt\n",
    "\n",
    "from sklearn.model_selection import train_test_split\n",
    "\n",
    "from sklearn.compose import make_column_transformer\n",
    "import category_encoders as ce\n",
    "from sklearn.preprocessing import StandardScaler\n",
    "\n",
    "from sklearn.linear_model import LogisticRegression\n",
    "\n",
    "from sklearn.pipeline import make_pipeline\n",
    "\n",
    "from sklearn.model_selection import cross_val_score\n",
    "\n",
    "from sklearn import metrics"
   ]
  },
  {
   "cell_type": "markdown",
   "metadata": {},
   "source": [
    "## Read Prepared Data"
   ]
  },
  {
   "cell_type": "code",
   "execution_count": 37,
   "metadata": {},
   "outputs": [
    {
     "name": "stdout",
     "output_type": "stream",
     "text": "df.shape: (35208, 10)\ndf.columns: Index(['Service_Component_WBS_aff', 'Urgency', 'KM_number',\n       'Count_Related_Interactions', 'Count_Related_Incidents',\n       'Count_Related_Changes', 'SLAFail', 'Open_Time_HourOfDay',\n       'Open_Time_DayOfWeek', 'CI_TypeSubType_aff'],\n      dtype='object')\ndf.dtypes: \nService_Component_WBS_aff      object\nUrgency                        object\nKM_number                      object\nCount_Related_Interactions    float64\nCount_Related_Incidents       float64\nCount_Related_Changes         float64\nSLAFail                         int64\nOpen_Time_HourOfDay             int64\nOpen_Time_DayOfWeek            object\nCI_TypeSubType_aff             object\ndtype: object\n"
    }
   ],
   "source": [
    "df = pd.read_csv(\"data/05.00 Incident Data.csv\")\n",
    "print(\"df.shape: \" + str(df.shape))\n",
    "print(\"df.columns: \" + str(df.columns))\n",
    "print(\"df.dtypes: \\n\" + str(df.dtypes))"
   ]
  },
  {
   "cell_type": "markdown",
   "metadata": {},
   "source": [
    "#### Set X and y"
   ]
  },
  {
   "cell_type": "code",
   "execution_count": 38,
   "metadata": {},
   "outputs": [
    {
     "data": {
      "text/plain": "(35208,)"
     },
     "execution_count": 38,
     "metadata": {},
     "output_type": "execute_result"
    }
   ],
   "source": [
    "y = df.SLAFail\n",
    "y.shape"
   ]
  },
  {
   "cell_type": "code",
   "execution_count": 39,
   "metadata": {},
   "outputs": [
    {
     "data": {
      "text/plain": "(35208, 9)"
     },
     "execution_count": 39,
     "metadata": {},
     "output_type": "execute_result"
    }
   ],
   "source": [
    "X = df.drop(['SLAFail'], axis='columns')\n",
    "X.shape"
   ]
  },
  {
   "cell_type": "markdown",
   "metadata": {},
   "source": [
    "Set `Open_Time_HourOfDay` for recognition as a Categorical variable"
   ]
  },
  {
   "cell_type": "code",
   "execution_count": 40,
   "metadata": {},
   "outputs": [
    {
     "data": {
      "text/plain": "Service_Component_WBS_aff      object\nUrgency                        object\nKM_number                      object\nCount_Related_Interactions    float64\nCount_Related_Incidents       float64\nCount_Related_Changes         float64\nOpen_Time_HourOfDay            object\nOpen_Time_DayOfWeek            object\nCI_TypeSubType_aff             object\ndtype: object"
     },
     "execution_count": 40,
     "metadata": {},
     "output_type": "execute_result"
    }
   ],
   "source": [
    "X.Open_Time_HourOfDay = X.Open_Time_HourOfDay.astype('object')\n",
    "X.dtypes"
   ]
  },
  {
   "cell_type": "markdown",
   "metadata": {},
   "source": [
    "Create a list of numeric variable column names"
   ]
  },
  {
   "cell_type": "code",
   "execution_count": 41,
   "metadata": {},
   "outputs": [
    {
     "data": {
      "text/plain": "Index(['Count_Related_Interactions', 'Count_Related_Incidents',\n       'Count_Related_Changes'],\n      dtype='object')"
     },
     "execution_count": 41,
     "metadata": {},
     "output_type": "execute_result"
    }
   ],
   "source": [
    "numericVars = X.select_dtypes(include=['float64']).columns\n",
    "numericVars"
   ]
  },
  {
   "cell_type": "markdown",
   "metadata": {},
   "source": [
    "Create a list of categorical variables"
   ]
  },
  {
   "cell_type": "code",
   "execution_count": 42,
   "metadata": {},
   "outputs": [
    {
     "data": {
      "text/plain": "Index(['Service_Component_WBS_aff', 'Urgency', 'KM_number',\n       'Open_Time_HourOfDay', 'Open_Time_DayOfWeek', 'CI_TypeSubType_aff'],\n      dtype='object')"
     },
     "execution_count": 42,
     "metadata": {},
     "output_type": "execute_result"
    }
   ],
   "source": [
    "categoricalVars = X.select_dtypes(include=['object']).columns\n",
    "categoricalVars"
   ]
  },
  {
   "cell_type": "markdown",
   "metadata": {},
   "source": [
    "## Split Data\n",
    "\n",
    "Create Training and Testing Data Sets\n"
   ]
  },
  {
   "cell_type": "code",
   "execution_count": 43,
   "metadata": {},
   "outputs": [],
   "source": [
    "\n",
    "X_train, X_test, y_train, y_test = train_test_split(X, y, test_size=0.3, random_state=2020)\n"
   ]
  },
  {
   "cell_type": "code",
   "execution_count": 44,
   "metadata": {},
   "outputs": [
    {
     "name": "stdout",
     "output_type": "stream",
     "text": "(24645, 9)\nIndex(['Service_Component_WBS_aff', 'Urgency', 'KM_number',\n       'Count_Related_Interactions', 'Count_Related_Incidents',\n       'Count_Related_Changes', 'Open_Time_HourOfDay', 'Open_Time_DayOfWeek',\n       'CI_TypeSubType_aff'],\n      dtype='object')\n"
    }
   ],
   "source": [
    "print(X_train.shape)\n",
    "print(X_train.columns)"
   ]
  },
  {
   "cell_type": "markdown",
   "metadata": {},
   "source": [
    "## Develop Pipeline\n"
   ]
  },
  {
   "cell_type": "code",
   "execution_count": 45,
   "metadata": {},
   "outputs": [],
   "source": [
    "# create dictionary to store information about the pipeline and results for later reporting and review\n",
    "PipeLineMetadata = { \"Name\" : \"Bare Bones with MEstimate Encoder\"}"
   ]
  },
  {
   "cell_type": "markdown",
   "metadata": {},
   "source": [
    "### Encode Variables\n",
    "\n",
    "Numeric and categorical variables require different treatment \n",
    "\n",
    "Set up column transformer for scaling numeric variables and encoding categorical variables\n",
    "\n"
   ]
  },
  {
   "cell_type": "code",
   "execution_count": 46,
   "metadata": {},
   "outputs": [],
   "source": [
    "column_trans = make_column_transformer(\n",
    "    (ce.MEstimateEncoder(), categoricalVars),\n",
    "    (StandardScaler(), numericVars),\n",
    "    remainder='passthrough')"
   ]
  },
  {
   "cell_type": "markdown",
   "metadata": {},
   "source": [
    "Take a peek at the column transformer results"
   ]
  },
  {
   "cell_type": "code",
   "execution_count": 47,
   "metadata": {},
   "outputs": [
    {
     "data": {
      "text/html": "<div>\n<style scoped>\n    .dataframe tbody tr th:only-of-type {\n        vertical-align: middle;\n    }\n\n    .dataframe tbody tr th {\n        vertical-align: top;\n    }\n\n    .dataframe thead th {\n        text-align: right;\n    }\n</style>\n<table border=\"1\" class=\"dataframe\">\n  <thead>\n    <tr style=\"text-align: right;\">\n      <th></th>\n      <th>Service_Component_WBS_aff</th>\n      <th>Urgency</th>\n      <th>KM_number</th>\n      <th>Count_Related_Interactions</th>\n      <th>Count_Related_Incidents</th>\n      <th>Count_Related_Changes</th>\n      <th>Open_Time_HourOfDay</th>\n      <th>Open_Time_DayOfWeek</th>\n      <th>CI_TypeSubType_aff</th>\n    </tr>\n  </thead>\n  <tbody>\n    <tr>\n      <th>count</th>\n      <td>24645.000000</td>\n      <td>24645.000000</td>\n      <td>24645.000000</td>\n      <td>24645.000000</td>\n      <td>24645.000000</td>\n      <td>24645.000000</td>\n      <td>2.464500e+04</td>\n      <td>2.464500e+04</td>\n      <td>2.464500e+04</td>\n    </tr>\n    <tr>\n      <th>mean</th>\n      <td>0.299537</td>\n      <td>0.300249</td>\n      <td>0.297923</td>\n      <td>0.300221</td>\n      <td>0.300244</td>\n      <td>0.300117</td>\n      <td>-2.149281e-16</td>\n      <td>-1.561871e-15</td>\n      <td>1.298863e-15</td>\n    </tr>\n    <tr>\n      <th>std</th>\n      <td>0.141412</td>\n      <td>0.034505</td>\n      <td>0.208419</td>\n      <td>0.038272</td>\n      <td>0.075071</td>\n      <td>0.085922</td>\n      <td>1.000020e+00</td>\n      <td>1.000020e+00</td>\n      <td>1.000020e+00</td>\n    </tr>\n    <tr>\n      <th>min</th>\n      <td>0.020018</td>\n      <td>0.265514</td>\n      <td>0.006005</td>\n      <td>0.027297</td>\n      <td>0.244078</td>\n      <td>0.027297</td>\n      <td>-7.847195e-01</td>\n      <td>-7.808990e-02</td>\n      <td>-1.065131e-01</td>\n    </tr>\n    <tr>\n      <th>25%</th>\n      <td>0.226772</td>\n      <td>0.285793</td>\n      <td>0.101617</td>\n      <td>0.272031</td>\n      <td>0.260109</td>\n      <td>0.274758</td>\n      <td>-9.115287e-02</td>\n      <td>-7.808990e-02</td>\n      <td>-1.065131e-01</td>\n    </tr>\n    <tr>\n      <th>50%</th>\n      <td>0.226772</td>\n      <td>0.285793</td>\n      <td>0.278386</td>\n      <td>0.287285</td>\n      <td>0.260618</td>\n      <td>0.274758</td>\n      <td>-9.115287e-02</td>\n      <td>-7.808990e-02</td>\n      <td>-1.065131e-01</td>\n    </tr>\n    <tr>\n      <th>75%</th>\n      <td>0.418751</td>\n      <td>0.285793</td>\n      <td>0.470371</td>\n      <td>0.312303</td>\n      <td>0.312687</td>\n      <td>0.301969</td>\n      <td>-9.115287e-02</td>\n      <td>-7.808990e-02</td>\n      <td>-1.065131e-01</td>\n    </tr>\n    <tr>\n      <th>max</th>\n      <td>0.930026</td>\n      <td>0.660053</td>\n      <td>0.941689</td>\n      <td>0.710009</td>\n      <td>0.673725</td>\n      <td>0.825066</td>\n      <td>8.105615e+01</td>\n      <td>8.681520e+01</td>\n      <td>6.607034e+01</td>\n    </tr>\n  </tbody>\n</table>\n</div>",
      "text/plain": "       Service_Component_WBS_aff       Urgency     KM_number  \\\ncount               24645.000000  24645.000000  24645.000000   \nmean                    0.299537      0.300249      0.297923   \nstd                     0.141412      0.034505      0.208419   \nmin                     0.020018      0.265514      0.006005   \n25%                     0.226772      0.285793      0.101617   \n50%                     0.226772      0.285793      0.278386   \n75%                     0.418751      0.285793      0.470371   \nmax                     0.930026      0.660053      0.941689   \n\n       Count_Related_Interactions  Count_Related_Incidents  \\\ncount                24645.000000             24645.000000   \nmean                     0.300221                 0.300244   \nstd                      0.038272                 0.075071   \nmin                      0.027297                 0.244078   \n25%                      0.272031                 0.260109   \n50%                      0.287285                 0.260618   \n75%                      0.312303                 0.312687   \nmax                      0.710009                 0.673725   \n\n       Count_Related_Changes  Open_Time_HourOfDay  Open_Time_DayOfWeek  \\\ncount           24645.000000         2.464500e+04         2.464500e+04   \nmean                0.300117        -2.149281e-16        -1.561871e-15   \nstd                 0.085922         1.000020e+00         1.000020e+00   \nmin                 0.027297        -7.847195e-01        -7.808990e-02   \n25%                 0.274758        -9.115287e-02        -7.808990e-02   \n50%                 0.274758        -9.115287e-02        -7.808990e-02   \n75%                 0.301969        -9.115287e-02        -7.808990e-02   \nmax                 0.825066         8.105615e+01         8.681520e+01   \n\n       CI_TypeSubType_aff  \ncount        2.464500e+04  \nmean         1.298863e-15  \nstd          1.000020e+00  \nmin         -1.065131e-01  \n25%         -1.065131e-01  \n50%         -1.065131e-01  \n75%         -1.065131e-01  \nmax          6.607034e+01  "
     },
     "execution_count": 47,
     "metadata": {},
     "output_type": "execute_result"
    }
   ],
   "source": [
    "pd.DataFrame(column_trans.fit_transform(X_train, y_train), columns=X_train.columns).describe()"
   ]
  },
  {
   "cell_type": "code",
   "execution_count": 48,
   "metadata": {},
   "outputs": [
    {
     "data": {
      "text/plain": "ColumnTransformer(n_jobs=None, remainder='passthrough', sparse_threshold=0.3,\n                  transformer_weights=None,\n                  transformers=[('mestimateencoder',\n                                 MEstimateEncoder(cols=None,\n                                                  drop_invariant=False,\n                                                  handle_missing='value',\n                                                  handle_unknown='value', m=1.0,\n                                                  random_state=None,\n                                                  randomized=False,\n                                                  return_df=True, sigma=0.05,\n                                                  verbose=0),\n                                 Index(['Service_Component_WBS_aff', 'Urgency', 'KM_number',\n       'Open_Time_HourOfDay', 'Open_Time_DayOfWeek', 'CI_TypeSubType_aff'],\n      dtype='object')),\n                                ('standardscaler',\n                                 StandardScaler(copy=True, with_mean=True,\n                                                with_std=True),\n                                 Index(['Count_Related_Interactions', 'Count_Related_Incidents',\n       'Count_Related_Changes'],\n      dtype='object'))],\n                  verbose=False)"
     },
     "execution_count": 48,
     "metadata": {},
     "output_type": "execute_result"
    }
   ],
   "source": [
    "column_trans"
   ]
  },
  {
   "cell_type": "markdown",
   "metadata": {},
   "source": [
    "### Feature Selection\n",
    "\n"
   ]
  },
  {
   "cell_type": "code",
   "execution_count": 49,
   "metadata": {},
   "outputs": [],
   "source": [
    "## placeholder: none for Bare Bones"
   ]
  },
  {
   "cell_type": "markdown",
   "metadata": {},
   "source": [
    "### Specify Classifier (Logistic Regression)"
   ]
  },
  {
   "cell_type": "code",
   "execution_count": 50,
   "metadata": {},
   "outputs": [],
   "source": [
    "classifier = LogisticRegression(solver=\"lbfgs\")"
   ]
  },
  {
   "cell_type": "markdown",
   "metadata": {},
   "source": [
    "### Compose Pipeline"
   ]
  },
  {
   "cell_type": "code",
   "execution_count": 51,
   "metadata": {},
   "outputs": [],
   "source": [
    "pipe = make_pipeline(column_trans, \n",
    "                     classifier)"
   ]
  },
  {
   "cell_type": "markdown",
   "metadata": {},
   "source": [
    "### Fit the Model Using the Pipeline"
   ]
  },
  {
   "cell_type": "code",
   "execution_count": 52,
   "metadata": {},
   "outputs": [
    {
     "data": {
      "text/plain": "Pipeline(memory=None,\n         steps=[('columntransformer',\n                 ColumnTransformer(n_jobs=None, remainder='passthrough',\n                                   sparse_threshold=0.3,\n                                   transformer_weights=None,\n                                   transformers=[('mestimateencoder',\n                                                  MEstimateEncoder(cols=None,\n                                                                   drop_invariant=False,\n                                                                   handle_missing='value',\n                                                                   handle_unknown='value',\n                                                                   m=1.0,\n                                                                   random_state=None,\n                                                                   randomized=False,\n                                                                   return_df=True,\n                                                                   sigma=0.05,\n                                                                   verbos...\n                                                  Index(['Count_Related_Interactions', 'Count_Related_Incidents',\n       'Count_Related_Changes'],\n      dtype='object'))],\n                                   verbose=False)),\n                ('logisticregression',\n                 LogisticRegression(C=1.0, class_weight=None, dual=False,\n                                    fit_intercept=True, intercept_scaling=1,\n                                    l1_ratio=None, max_iter=100,\n                                    multi_class='auto', n_jobs=None,\n                                    penalty='l2', random_state=None,\n                                    solver='lbfgs', tol=0.0001, verbose=0,\n                                    warm_start=False))],\n         verbose=False)"
     },
     "execution_count": 52,
     "metadata": {},
     "output_type": "execute_result"
    }
   ],
   "source": [
    "pipe.fit(X_train,y_train)"
   ]
  },
  {
   "cell_type": "markdown",
   "metadata": {},
   "source": [
    "### Capture model  information"
   ]
  },
  {
   "cell_type": "code",
   "execution_count": 53,
   "metadata": {},
   "outputs": [
    {
     "data": {
      "text/plain": "{'Name': 'Bare Bones with MEstimate Encoder',\n 'Column Transforms': ['mestimateencoder', 'standardscaler'],\n 'Classifier': LogisticRegression(C=1.0, class_weight=None, dual=False, fit_intercept=True,\n                    intercept_scaling=1, l1_ratio=None, max_iter=100,\n                    multi_class='auto', n_jobs=None, penalty='l2',\n                    random_state=None, solver='lbfgs', tol=0.0001, verbose=0,\n                    warm_start=False)}"
     },
     "execution_count": 53,
     "metadata": {},
     "output_type": "execute_result"
    }
   ],
   "source": [
    "PipeLineMetadata['Column Transforms'] = list(pipe.named_steps.columntransformer.named_transformers_.keys())\n",
    "PipeLineMetadata['Classifier'] = pipe.named_steps.logisticregression\n",
    "PipeLineMetadata"
   ]
  },
  {
   "cell_type": "code",
   "execution_count": 54,
   "metadata": {},
   "outputs": [
    {
     "data": {
      "text/plain": "{'Name': 'Bare Bones with MEstimate Encoder',\n 'Column Transforms': ['mestimateencoder', 'standardscaler'],\n 'Classifier': LogisticRegression(C=1.0, class_weight=None, dual=False, fit_intercept=True,\n                    intercept_scaling=1, l1_ratio=None, max_iter=100,\n                    multi_class='auto', n_jobs=None, penalty='l2',\n                    random_state=None, solver='lbfgs', tol=0.0001, verbose=0,\n                    warm_start=False),\n 'Classifier - Intercept': -6.152021639324596,\n 'Classifier - Coefficients':                                    0\n Service_Component_WBS_aff   0.176063\n Urgency                     0.789836\n KM_number                   6.032809\n Count_Related_Interactions  4.427685\n Count_Related_Incidents     5.286315\n Count_Related_Changes       0.073164\n Open_Time_HourOfDay         0.184935\n Open_Time_DayOfWeek        -0.031457\n CI_TypeSubType_aff          0.002674}"
     },
     "execution_count": 54,
     "metadata": {},
     "output_type": "execute_result"
    }
   ],
   "source": [
    "PipeLineMetadata['Classifier - Intercept'] = pipe.named_steps.logisticregression.intercept_[0]\n",
    "PipeLineMetadata['Classifier - Coefficients'] = pd.DataFrame(pipe.named_steps.logisticregression.coef_, columns=X_train.columns).transpose()\n",
    "PipeLineMetadata"
   ]
  },
  {
   "cell_type": "markdown",
   "metadata": {},
   "source": [
    "## Cross-validate the Model with Training Data\n"
   ]
  },
  {
   "cell_type": "code",
   "execution_count": 55,
   "metadata": {},
   "outputs": [
    {
     "data": {
      "text/plain": "0.7308581862446744"
     },
     "execution_count": 55,
     "metadata": {},
     "output_type": "execute_result"
    }
   ],
   "source": [
    "PipeLineMetadata['Metrics - Cross Validation Accuracy'] = cross_val_score(pipe, X_train, y_train, cv=5, scoring=\"accuracy\").mean()\n",
    "PipeLineMetadata['Metrics - Cross Validation Accuracy']"
   ]
  },
  {
   "cell_type": "markdown",
   "metadata": {},
   "source": [
    "## Evaluate with Test Data"
   ]
  },
  {
   "cell_type": "markdown",
   "metadata": {},
   "source": [
    "Get predicted classification based on the model"
   ]
  },
  {
   "cell_type": "code",
   "execution_count": 56,
   "metadata": {},
   "outputs": [],
   "source": [
    "y_pred_class = pipe.predict(X_test)\n",
    "y_pred_prob = pipe.predict_proba(X_test)[:,1]"
   ]
  },
  {
   "cell_type": "code",
   "execution_count": 57,
   "metadata": {},
   "outputs": [
    {
     "data": {
      "text/plain": "0.6585729428597232"
     },
     "execution_count": 57,
     "metadata": {},
     "output_type": "execute_result"
    }
   ],
   "source": [
    "PipeLineMetadata['Metrics - F1 score'] = metrics.f1_score(y_test, y_pred_class, average='macro')\n",
    "PipeLineMetadata['Metrics - F1 score']"
   ]
  },
  {
   "cell_type": "markdown",
   "metadata": {},
   "source": [
    "Look at the resulting confusion matrix\n",
    "\n",
    "Save True Positive (TP), True Negative (TN), False Positive(FP), and False Negative (FN) values"
   ]
  },
  {
   "cell_type": "code",
   "execution_count": 58,
   "metadata": {},
   "outputs": [
    {
     "name": "stdout",
     "output_type": "stream",
     "text": "[[6540  905]\n [1815 1303]]\nTN: 6540 \t FP: 905 \nFN: 1815 \t TP: 1303 \n"
    }
   ],
   "source": [
    "confusion = metrics.confusion_matrix(y_test, y_pred_class)\n",
    "TP = confusion[1, 1]\n",
    "TN = confusion[0, 0]\n",
    "FP = confusion[0, 1]\n",
    "FN = confusion[1, 0]\n",
    "print(confusion)\n",
    "print(\"TN: %d \\t FP: %d \\nFN: %d \\t TP: %d \" % (TN, FP, FN, TP))"
   ]
  },
  {
   "cell_type": "markdown",
   "metadata": {},
   "source": [
    "Capture a few classification metrics:\n",
    "* Classification Accuracy: Overall, how often is the classifier correct?\n",
    "* Classification Error: Overall, how often is the classifier incorrect?\n",
    "* True Positive Rate  (Recall, Sensitivity): When the actual value is positive, how often is the prediction correct?\n",
    "* True Negative Rate (Specificity): When the actual value is negative, how often is the prediction correct?\n",
    "* False Positive Rate: When the actual value is negative, how often is the prediction incorrect?\n",
    "* Precision: When a positive value is predicted, how often is the prediction correct?\n"
   ]
  },
  {
   "cell_type": "code",
   "execution_count": 59,
   "metadata": {},
   "outputs": [],
   "source": [
    "PipeLineMetadata['Metrics - Confusion Matrix Classification Accuracy'] = metrics.accuracy_score(y_test,y_pred_class) \n",
    "PipeLineMetadata['Metrics - Confusion Matrix Classification Error'] = 1- metrics.accuracy_score(y_test,y_pred_class)\n",
    "PipeLineMetadata['Metrics - Confusion Matrix True Positive Rate'] = metrics.recall_score(y_test, y_pred_class) \n",
    "PipeLineMetadata['Metrics - Confusion Matrix True Negative Rate'] =  TN / float(TN + FP)\n",
    "PipeLineMetadata['Metrics - Confusion Matrix False Positive Rate'] =  FP / float(TN + FP)\n",
    "PipeLineMetadata['Metrics - Confusion Matrix Precision'] = metrics.precision_score(y_test,y_pred_class)"
   ]
  },
  {
   "cell_type": "code",
   "execution_count": 60,
   "metadata": {},
   "outputs": [
    {
     "data": {
      "text/plain": "{'Name': 'Bare Bones with MEstimate Encoder',\n 'Column Transforms': ['mestimateencoder', 'standardscaler'],\n 'Classifier': LogisticRegression(C=1.0, class_weight=None, dual=False, fit_intercept=True,\n                    intercept_scaling=1, l1_ratio=None, max_iter=100,\n                    multi_class='auto', n_jobs=None, penalty='l2',\n                    random_state=None, solver='lbfgs', tol=0.0001, verbose=0,\n                    warm_start=False),\n 'Classifier - Intercept': -6.152021639324596,\n 'Classifier - Coefficients':                                    0\n Service_Component_WBS_aff   0.176063\n Urgency                     0.789836\n KM_number                   6.032809\n Count_Related_Interactions  4.427685\n Count_Related_Incidents     5.286315\n Count_Related_Changes       0.073164\n Open_Time_HourOfDay         0.184935\n Open_Time_DayOfWeek        -0.031457\n CI_TypeSubType_aff          0.002674,\n 'Metrics - Cross Validation Accuracy': 0.7308581862446744,\n 'Metrics - F1 score': 0.6585729428597232,\n 'Metrics - Confusion Matrix Classification Accuracy': 0.7424973965729433,\n 'Metrics - Confusion Matrix Classification Error': 0.25750260342705666,\n 'Metrics - Confusion Matrix True Positive Rate': 0.41789608723540733,\n 'Metrics - Confusion Matrix True Negative Rate': 0.8784419073203492,\n 'Metrics - Confusion Matrix False Positive Rate': 0.12155809267965077,\n 'Metrics - Confusion Matrix Precision': 0.5901268115942029}"
     },
     "execution_count": 60,
     "metadata": {},
     "output_type": "execute_result"
    }
   ],
   "source": [
    "PipeLineMetadata\n"
   ]
  },
  {
   "cell_type": "markdown",
   "metadata": {},
   "source": [
    "Add some ROC curve information and AUC result\n"
   ]
  },
  {
   "cell_type": "code",
   "execution_count": 61,
   "metadata": {},
   "outputs": [],
   "source": [
    "fpr, tpr, thresholds = metrics.roc_curve(y_test, y_pred_prob)"
   ]
  },
  {
   "cell_type": "code",
   "execution_count": 62,
   "metadata": {},
   "outputs": [],
   "source": [
    "PipeLineMetadata['Metrics - ROC Curve fpr array'] = fpr\n",
    "PipeLineMetadata['Metrics - ROC Curve tpr array'] = tpr"
   ]
  },
  {
   "cell_type": "code",
   "execution_count": 63,
   "metadata": {},
   "outputs": [
    {
     "data": {
      "image/png": "[encoded data removed]",
      "image/svg+xml": "<?xml version=\"1.0\" encoding=\"utf-8\" standalone=\"no\"?>\n<!DOCTYPE svg PUBLIC \"-//W3C//DTD SVG 1.1//EN\"\n  \"http://www.w3.org/Graphics/SVG/1.1/DTD/svg11.dtd\">\n<!-- Created with matplotlib (https://matplotlib.org/) -->\n<svg height=\"277.314375pt\" version=\"1.1\" viewBox=\"0 0 393.732813 277.314375\" width=\"393.732813pt\" xmlns=\"http://www.w3.org/2000/svg\" xmlns:xlink=\"http://www.w3.org/1999/xlink\">\n <defs>\n  <style type=\"text/css\">\n*{stroke-linecap:butt;stroke-linejoin:round;}\n  </style>\n </defs>\n <g id=\"figure_1\">\n  <g id=\"patch_1\">\n   <path d=\"M 0 277.314375 \nL 393.732813 277.314375 \nL 393.732813 0 \nL 0 0 \nz\n\" style=\"fill:none;\"/>\n  </g>\n  <g id=\"axes_1\">\n   <g id=\"patch_2\">\n    <path d=\"M 43.78125 239.758125 \nL 378.58125 239.758125 \nL 378.58125 22.318125 \nL 43.78125 22.318125 \nz\n\" style=\"fill:#ffffff;\"/>\n   </g>\n   <g id=\"matplotlib.axis_1\">\n    <g id=\"xtick_1\">\n     <g id=\"line2d_1\">\n      <path clip-path=\"url(#p6cfd6412b3)\" d=\"M 43.78125 239.758125 \nL 43.78125 22.318125 \n\" style=\"fill:none;stroke:#b0b0b0;stroke-linecap:square;stroke-width:0.8;\"/>\n     </g>\n     <g id=\"line2d_2\">\n      <defs>\n       <path d=\"M 0 0 \nL 0 3.5 \n\" id=\"m95aa0748bd\" style=\"stroke:#000000;stroke-width:0.8;\"/>\n      </defs>\n      <g>\n       <use style=\"stroke:#000000;stroke-width:0.8;\" x=\"43.78125\" xlink:href=\"#m95aa0748bd\" y=\"239.758125\"/>\n      </g>\n     </g>\n     <g id=\"text_1\">\n      <!-- 0.0 -->\n      <defs>\n       <path d=\"M 31.78125 66.40625 \nQ 24.171875 66.40625 20.328125 58.90625 \nQ 16.5 51.421875 16.5 36.375 \nQ 16.5 21.390625 20.328125 13.890625 \nQ 24.171875 6.390625 31.78125 6.390625 \nQ 39.453125 6.390625 43.28125 13.890625 \nQ 47.125 21.390625 47.125 36.375 \nQ 47.125 51.421875 43.28125 58.90625 \nQ 39.453125 66.40625 31.78125 66.40625 \nz\nM 31.78125 74.21875 \nQ 44.046875 74.21875 50.515625 64.515625 \nQ 56.984375 54.828125 56.984375 36.375 \nQ 56.984375 17.96875 50.515625 8.265625 \nQ 44.046875 -1.421875 31.78125 -1.421875 \nQ 19.53125 -1.421875 13.0625 8.265625 \nQ 6.59375 17.96875 6.59375 36.375 \nQ 6.59375 54.828125 13.0625 64.515625 \nQ 19.53125 74.21875 31.78125 74.21875 \nz\n\" id=\"DejaVuSans-48\"/>\n       <path d=\"M 10.6875 12.40625 \nL 21 12.40625 \nL 21 0 \nL 10.6875 0 \nz\n\" id=\"DejaVuSans-46\"/>\n      </defs>\n      <g transform=\"translate(35.829688 254.356562)scale(0.1 -0.1)\">\n       <use xlink:href=\"#DejaVuSans-48\"/>\n       <use x=\"63.623047\" xlink:href=\"#DejaVuSans-46\"/>\n       <use x=\"95.410156\" xlink:href=\"#DejaVuSans-48\"/>\n      </g>\n     </g>\n    </g>\n    <g id=\"xtick_2\">\n     <g id=\"line2d_3\">\n      <path clip-path=\"url(#p6cfd6412b3)\" d=\"M 110.74125 239.758125 \nL 110.74125 22.318125 \n\" style=\"fill:none;stroke:#b0b0b0;stroke-linecap:square;stroke-width:0.8;\"/>\n     </g>\n     <g id=\"line2d_4\">\n      <g>\n       <use style=\"stroke:#000000;stroke-width:0.8;\" x=\"110.74125\" xlink:href=\"#m95aa0748bd\" y=\"239.758125\"/>\n      </g>\n     </g>\n     <g id=\"text_2\">\n      <!-- 0.2 -->\n      <defs>\n       <path d=\"M 19.1875 8.296875 \nL 53.609375 8.296875 \nL 53.609375 0 \nL 7.328125 0 \nL 7.328125 8.296875 \nQ 12.9375 14.109375 22.625 23.890625 \nQ 32.328125 33.6875 34.8125 36.53125 \nQ 39.546875 41.84375 41.421875 45.53125 \nQ 43.3125 49.21875 43.3125 52.78125 \nQ 43.3125 58.59375 39.234375 62.25 \nQ 35.15625 65.921875 28.609375 65.921875 \nQ 23.96875 65.921875 18.8125 64.3125 \nQ 13.671875 62.703125 7.8125 59.421875 \nL 7.8125 69.390625 \nQ 13.765625 71.78125 18.9375 73 \nQ 24.125 74.21875 28.421875 74.21875 \nQ 39.75 74.21875 46.484375 68.546875 \nQ 53.21875 62.890625 53.21875 53.421875 \nQ 53.21875 48.921875 51.53125 44.890625 \nQ 49.859375 40.875 45.40625 35.40625 \nQ 44.1875 33.984375 37.640625 27.21875 \nQ 31.109375 20.453125 19.1875 8.296875 \nz\n\" id=\"DejaVuSans-50\"/>\n      </defs>\n      <g transform=\"translate(102.789688 254.356562)scale(0.1 -0.1)\">\n       <use xlink:href=\"#DejaVuSans-48\"/>\n       <use x=\"63.623047\" xlink:href=\"#DejaVuSans-46\"/>\n       <use x=\"95.410156\" xlink:href=\"#DejaVuSans-50\"/>\n      </g>\n     </g>\n    </g>\n    <g id=\"xtick_3\">\n     <g id=\"line2d_5\">\n      <path clip-path=\"url(#p6cfd6412b3)\" d=\"M 177.70125 239.758125 \nL 177.70125 22.318125 \n\" style=\"fill:none;stroke:#b0b0b0;stroke-linecap:square;stroke-width:0.8;\"/>\n     </g>\n     <g id=\"line2d_6\">\n      <g>\n       <use style=\"stroke:#000000;stroke-width:0.8;\" x=\"177.70125\" xlink:href=\"#m95aa0748bd\" y=\"239.758125\"/>\n      </g>\n     </g>\n     <g id=\"text_3\">\n      <!-- 0.4 -->\n      <defs>\n       <path d=\"M 37.796875 64.3125 \nL 12.890625 25.390625 \nL 37.796875 25.390625 \nz\nM 35.203125 72.90625 \nL 47.609375 72.90625 \nL 47.609375 25.390625 \nL 58.015625 25.390625 \nL 58.015625 17.1875 \nL 47.609375 17.1875 \nL 47.609375 0 \nL 37.796875 0 \nL 37.796875 17.1875 \nL 4.890625 17.1875 \nL 4.890625 26.703125 \nz\n\" id=\"DejaVuSans-52\"/>\n      </defs>\n      <g transform=\"translate(169.749688 254.356562)scale(0.1 -0.1)\">\n       <use xlink:href=\"#DejaVuSans-48\"/>\n       <use x=\"63.623047\" xlink:href=\"#DejaVuSans-46\"/>\n       <use x=\"95.410156\" xlink:href=\"#DejaVuSans-52\"/>\n      </g>\n     </g>\n    </g>\n    <g id=\"xtick_4\">\n     <g id=\"line2d_7\">\n      <path clip-path=\"url(#p6cfd6412b3)\" d=\"M 244.66125 239.758125 \nL 244.66125 22.318125 \n\" style=\"fill:none;stroke:#b0b0b0;stroke-linecap:square;stroke-width:0.8;\"/>\n     </g>\n     <g id=\"line2d_8\">\n      <g>\n       <use style=\"stroke:#000000;stroke-width:0.8;\" x=\"244.66125\" xlink:href=\"#m95aa0748bd\" y=\"239.758125\"/>\n      </g>\n     </g>\n     <g id=\"text_4\">\n      <!-- 0.6 -->\n      <defs>\n       <path d=\"M 33.015625 40.375 \nQ 26.375 40.375 22.484375 35.828125 \nQ 18.609375 31.296875 18.609375 23.390625 \nQ 18.609375 15.53125 22.484375 10.953125 \nQ 26.375 6.390625 33.015625 6.390625 \nQ 39.65625 6.390625 43.53125 10.953125 \nQ 47.40625 15.53125 47.40625 23.390625 \nQ 47.40625 31.296875 43.53125 35.828125 \nQ 39.65625 40.375 33.015625 40.375 \nz\nM 52.59375 71.296875 \nL 52.59375 62.3125 \nQ 48.875 64.0625 45.09375 64.984375 \nQ 41.3125 65.921875 37.59375 65.921875 \nQ 27.828125 65.921875 22.671875 59.328125 \nQ 17.53125 52.734375 16.796875 39.40625 \nQ 19.671875 43.65625 24.015625 45.921875 \nQ 28.375 48.1875 33.59375 48.1875 \nQ 44.578125 48.1875 50.953125 41.515625 \nQ 57.328125 34.859375 57.328125 23.390625 \nQ 57.328125 12.15625 50.6875 5.359375 \nQ 44.046875 -1.421875 33.015625 -1.421875 \nQ 20.359375 -1.421875 13.671875 8.265625 \nQ 6.984375 17.96875 6.984375 36.375 \nQ 6.984375 53.65625 15.1875 63.9375 \nQ 23.390625 74.21875 37.203125 74.21875 \nQ 40.921875 74.21875 44.703125 73.484375 \nQ 48.484375 72.75 52.59375 71.296875 \nz\n\" id=\"DejaVuSans-54\"/>\n      </defs>\n      <g transform=\"translate(236.709688 254.356562)scale(0.1 -0.1)\">\n       <use xlink:href=\"#DejaVuSans-48\"/>\n       <use x=\"63.623047\" xlink:href=\"#DejaVuSans-46\"/>\n       <use x=\"95.410156\" xlink:href=\"#DejaVuSans-54\"/>\n      </g>\n     </g>\n    </g>\n    <g id=\"xtick_5\">\n     <g id=\"line2d_9\">\n      <path clip-path=\"url(#p6cfd6412b3)\" d=\"M 311.62125 239.758125 \nL 311.62125 22.318125 \n\" style=\"fill:none;stroke:#b0b0b0;stroke-linecap:square;stroke-width:0.8;\"/>\n     </g>\n     <g id=\"line2d_10\">\n      <g>\n       <use style=\"stroke:#000000;stroke-width:0.8;\" x=\"311.62125\" xlink:href=\"#m95aa0748bd\" y=\"239.758125\"/>\n      </g>\n     </g>\n     <g id=\"text_5\">\n      <!-- 0.8 -->\n      <defs>\n       <path d=\"M 31.78125 34.625 \nQ 24.75 34.625 20.71875 30.859375 \nQ 16.703125 27.09375 16.703125 20.515625 \nQ 16.703125 13.921875 20.71875 10.15625 \nQ 24.75 6.390625 31.78125 6.390625 \nQ 38.8125 6.390625 42.859375 10.171875 \nQ 46.921875 13.96875 46.921875 20.515625 \nQ 46.921875 27.09375 42.890625 30.859375 \nQ 38.875 34.625 31.78125 34.625 \nz\nM 21.921875 38.8125 \nQ 15.578125 40.375 12.03125 44.71875 \nQ 8.5 49.078125 8.5 55.328125 \nQ 8.5 64.0625 14.71875 69.140625 \nQ 20.953125 74.21875 31.78125 74.21875 \nQ 42.671875 74.21875 48.875 69.140625 \nQ 55.078125 64.0625 55.078125 55.328125 \nQ 55.078125 49.078125 51.53125 44.71875 \nQ 48 40.375 41.703125 38.8125 \nQ 48.828125 37.15625 52.796875 32.3125 \nQ 56.78125 27.484375 56.78125 20.515625 \nQ 56.78125 9.90625 50.3125 4.234375 \nQ 43.84375 -1.421875 31.78125 -1.421875 \nQ 19.734375 -1.421875 13.25 4.234375 \nQ 6.78125 9.90625 6.78125 20.515625 \nQ 6.78125 27.484375 10.78125 32.3125 \nQ 14.796875 37.15625 21.921875 38.8125 \nz\nM 18.3125 54.390625 \nQ 18.3125 48.734375 21.84375 45.5625 \nQ 25.390625 42.390625 31.78125 42.390625 \nQ 38.140625 42.390625 41.71875 45.5625 \nQ 45.3125 48.734375 45.3125 54.390625 \nQ 45.3125 60.0625 41.71875 63.234375 \nQ 38.140625 66.40625 31.78125 66.40625 \nQ 25.390625 66.40625 21.84375 63.234375 \nQ 18.3125 60.0625 18.3125 54.390625 \nz\n\" id=\"DejaVuSans-56\"/>\n      </defs>\n      <g transform=\"translate(303.669688 254.356562)scale(0.1 -0.1)\">\n       <use xlink:href=\"#DejaVuSans-48\"/>\n       <use x=\"63.623047\" xlink:href=\"#DejaVuSans-46\"/>\n       <use x=\"95.410156\" xlink:href=\"#DejaVuSans-56\"/>\n      </g>\n     </g>\n    </g>\n    <g id=\"xtick_6\">\n     <g id=\"line2d_11\">\n      <path clip-path=\"url(#p6cfd6412b3)\" d=\"M 378.58125 239.758125 \nL 378.58125 22.318125 \n\" style=\"fill:none;stroke:#b0b0b0;stroke-linecap:square;stroke-width:0.8;\"/>\n     </g>\n     <g id=\"line2d_12\">\n      <g>\n       <use style=\"stroke:#000000;stroke-width:0.8;\" x=\"378.58125\" xlink:href=\"#m95aa0748bd\" y=\"239.758125\"/>\n      </g>\n     </g>\n     <g id=\"text_6\">\n      <!-- 1.0 -->\n      <defs>\n       <path d=\"M 12.40625 8.296875 \nL 28.515625 8.296875 \nL 28.515625 63.921875 \nL 10.984375 60.40625 \nL 10.984375 69.390625 \nL 28.421875 72.90625 \nL 38.28125 72.90625 \nL 38.28125 8.296875 \nL 54.390625 8.296875 \nL 54.390625 0 \nL 12.40625 0 \nz\n\" id=\"DejaVuSans-49\"/>\n      </defs>\n      <g transform=\"translate(370.629687 254.356562)scale(0.1 -0.1)\">\n       <use xlink:href=\"#DejaVuSans-49\"/>\n       <use x=\"63.623047\" xlink:href=\"#DejaVuSans-46\"/>\n       <use x=\"95.410156\" xlink:href=\"#DejaVuSans-48\"/>\n      </g>\n     </g>\n    </g>\n    <g id=\"text_7\">\n     <!-- False Positive Rate (1 - Specificity) -->\n     <defs>\n      <path d=\"M 9.8125 72.90625 \nL 51.703125 72.90625 \nL 51.703125 64.59375 \nL 19.671875 64.59375 \nL 19.671875 43.109375 \nL 48.578125 43.109375 \nL 48.578125 34.8125 \nL 19.671875 34.8125 \nL 19.671875 0 \nL 9.8125 0 \nz\n\" id=\"DejaVuSans-70\"/>\n      <path d=\"M 34.28125 27.484375 \nQ 23.390625 27.484375 19.1875 25 \nQ 14.984375 22.515625 14.984375 16.5 \nQ 14.984375 11.71875 18.140625 8.90625 \nQ 21.296875 6.109375 26.703125 6.109375 \nQ 34.1875 6.109375 38.703125 11.40625 \nQ 43.21875 16.703125 43.21875 25.484375 \nL 43.21875 27.484375 \nz\nM 52.203125 31.203125 \nL 52.203125 0 \nL 43.21875 0 \nL 43.21875 8.296875 \nQ 40.140625 3.328125 35.546875 0.953125 \nQ 30.953125 -1.421875 24.3125 -1.421875 \nQ 15.921875 -1.421875 10.953125 3.296875 \nQ 6 8.015625 6 15.921875 \nQ 6 25.140625 12.171875 29.828125 \nQ 18.359375 34.515625 30.609375 34.515625 \nL 43.21875 34.515625 \nL 43.21875 35.40625 \nQ 43.21875 41.609375 39.140625 45 \nQ 35.0625 48.390625 27.6875 48.390625 \nQ 23 48.390625 18.546875 47.265625 \nQ 14.109375 46.140625 10.015625 43.890625 \nL 10.015625 52.203125 \nQ 14.9375 54.109375 19.578125 55.046875 \nQ 24.21875 56 28.609375 56 \nQ 40.484375 56 46.34375 49.84375 \nQ 52.203125 43.703125 52.203125 31.203125 \nz\n\" id=\"DejaVuSans-97\"/>\n      <path d=\"M 9.421875 75.984375 \nL 18.40625 75.984375 \nL 18.40625 0 \nL 9.421875 0 \nz\n\" id=\"DejaVuSans-108\"/>\n      <path d=\"M 44.28125 53.078125 \nL 44.28125 44.578125 \nQ 40.484375 46.53125 36.375 47.5 \nQ 32.28125 48.484375 27.875 48.484375 \nQ 21.1875 48.484375 17.84375 46.4375 \nQ 14.5 44.390625 14.5 40.28125 \nQ 14.5 37.15625 16.890625 35.375 \nQ 19.28125 33.59375 26.515625 31.984375 \nL 29.59375 31.296875 \nQ 39.15625 29.25 43.1875 25.515625 \nQ 47.21875 21.78125 47.21875 15.09375 \nQ 47.21875 7.46875 41.1875 3.015625 \nQ 35.15625 -1.421875 24.609375 -1.421875 \nQ 20.21875 -1.421875 15.453125 -0.5625 \nQ 10.6875 0.296875 5.421875 2 \nL 5.421875 11.28125 \nQ 10.40625 8.6875 15.234375 7.390625 \nQ 20.0625 6.109375 24.8125 6.109375 \nQ 31.15625 6.109375 34.5625 8.28125 \nQ 37.984375 10.453125 37.984375 14.40625 \nQ 37.984375 18.0625 35.515625 20.015625 \nQ 33.0625 21.96875 24.703125 23.78125 \nL 21.578125 24.515625 \nQ 13.234375 26.265625 9.515625 29.90625 \nQ 5.8125 33.546875 5.8125 39.890625 \nQ 5.8125 47.609375 11.28125 51.796875 \nQ 16.75 56 26.8125 56 \nQ 31.78125 56 36.171875 55.265625 \nQ 40.578125 54.546875 44.28125 53.078125 \nz\n\" id=\"DejaVuSans-115\"/>\n      <path d=\"M 56.203125 29.59375 \nL 56.203125 25.203125 \nL 14.890625 25.203125 \nQ 15.484375 15.921875 20.484375 11.0625 \nQ 25.484375 6.203125 34.421875 6.203125 \nQ 39.59375 6.203125 44.453125 7.46875 \nQ 49.3125 8.734375 54.109375 11.28125 \nL 54.109375 2.78125 \nQ 49.265625 0.734375 44.1875 -0.34375 \nQ 39.109375 -1.421875 33.890625 -1.421875 \nQ 20.796875 -1.421875 13.15625 6.1875 \nQ 5.515625 13.8125 5.515625 26.8125 \nQ 5.515625 40.234375 12.765625 48.109375 \nQ 20.015625 56 32.328125 56 \nQ 43.359375 56 49.78125 48.890625 \nQ 56.203125 41.796875 56.203125 29.59375 \nz\nM 47.21875 32.234375 \nQ 47.125 39.59375 43.09375 43.984375 \nQ 39.0625 48.390625 32.421875 48.390625 \nQ 24.90625 48.390625 20.390625 44.140625 \nQ 15.875 39.890625 15.1875 32.171875 \nz\n\" id=\"DejaVuSans-101\"/>\n      <path id=\"DejaVuSans-32\"/>\n      <path d=\"M 19.671875 64.796875 \nL 19.671875 37.40625 \nL 32.078125 37.40625 \nQ 38.96875 37.40625 42.71875 40.96875 \nQ 46.484375 44.53125 46.484375 51.125 \nQ 46.484375 57.671875 42.71875 61.234375 \nQ 38.96875 64.796875 32.078125 64.796875 \nz\nM 9.8125 72.90625 \nL 32.078125 72.90625 \nQ 44.34375 72.90625 50.609375 67.359375 \nQ 56.890625 61.8125 56.890625 51.125 \nQ 56.890625 40.328125 50.609375 34.8125 \nQ 44.34375 29.296875 32.078125 29.296875 \nL 19.671875 29.296875 \nL 19.671875 0 \nL 9.8125 0 \nz\n\" id=\"DejaVuSans-80\"/>\n      <path d=\"M 30.609375 48.390625 \nQ 23.390625 48.390625 19.1875 42.75 \nQ 14.984375 37.109375 14.984375 27.296875 \nQ 14.984375 17.484375 19.15625 11.84375 \nQ 23.34375 6.203125 30.609375 6.203125 \nQ 37.796875 6.203125 41.984375 11.859375 \nQ 46.1875 17.53125 46.1875 27.296875 \nQ 46.1875 37.015625 41.984375 42.703125 \nQ 37.796875 48.390625 30.609375 48.390625 \nz\nM 30.609375 56 \nQ 42.328125 56 49.015625 48.375 \nQ 55.71875 40.765625 55.71875 27.296875 \nQ 55.71875 13.875 49.015625 6.21875 \nQ 42.328125 -1.421875 30.609375 -1.421875 \nQ 18.84375 -1.421875 12.171875 6.21875 \nQ 5.515625 13.875 5.515625 27.296875 \nQ 5.515625 40.765625 12.171875 48.375 \nQ 18.84375 56 30.609375 56 \nz\n\" id=\"DejaVuSans-111\"/>\n      <path d=\"M 9.421875 54.6875 \nL 18.40625 54.6875 \nL 18.40625 0 \nL 9.421875 0 \nz\nM 9.421875 75.984375 \nL 18.40625 75.984375 \nL 18.40625 64.59375 \nL 9.421875 64.59375 \nz\n\" id=\"DejaVuSans-105\"/>\n      <path d=\"M 18.3125 70.21875 \nL 18.3125 54.6875 \nL 36.8125 54.6875 \nL 36.8125 47.703125 \nL 18.3125 47.703125 \nL 18.3125 18.015625 \nQ 18.3125 11.328125 20.140625 9.421875 \nQ 21.96875 7.515625 27.59375 7.515625 \nL 36.8125 7.515625 \nL 36.8125 0 \nL 27.59375 0 \nQ 17.1875 0 13.234375 3.875 \nQ 9.28125 7.765625 9.28125 18.015625 \nL 9.28125 47.703125 \nL 2.6875 47.703125 \nL 2.6875 54.6875 \nL 9.28125 54.6875 \nL 9.28125 70.21875 \nz\n\" id=\"DejaVuSans-116\"/>\n      <path d=\"M 2.984375 54.6875 \nL 12.5 54.6875 \nL 29.59375 8.796875 \nL 46.6875 54.6875 \nL 56.203125 54.6875 \nL 35.6875 0 \nL 23.484375 0 \nz\n\" id=\"DejaVuSans-118\"/>\n      <path d=\"M 44.390625 34.1875 \nQ 47.5625 33.109375 50.5625 29.59375 \nQ 53.5625 26.078125 56.59375 19.921875 \nL 66.609375 0 \nL 56 0 \nL 46.6875 18.703125 \nQ 43.0625 26.03125 39.671875 28.421875 \nQ 36.28125 30.8125 30.421875 30.8125 \nL 19.671875 30.8125 \nL 19.671875 0 \nL 9.8125 0 \nL 9.8125 72.90625 \nL 32.078125 72.90625 \nQ 44.578125 72.90625 50.734375 67.671875 \nQ 56.890625 62.453125 56.890625 51.90625 \nQ 56.890625 45.015625 53.6875 40.46875 \nQ 50.484375 35.9375 44.390625 34.1875 \nz\nM 19.671875 64.796875 \nL 19.671875 38.921875 \nL 32.078125 38.921875 \nQ 39.203125 38.921875 42.84375 42.21875 \nQ 46.484375 45.515625 46.484375 51.90625 \nQ 46.484375 58.296875 42.84375 61.546875 \nQ 39.203125 64.796875 32.078125 64.796875 \nz\n\" id=\"DejaVuSans-82\"/>\n      <path d=\"M 31 75.875 \nQ 24.46875 64.65625 21.28125 53.65625 \nQ 18.109375 42.671875 18.109375 31.390625 \nQ 18.109375 20.125 21.3125 9.0625 \nQ 24.515625 -2 31 -13.1875 \nL 23.1875 -13.1875 \nQ 15.875 -1.703125 12.234375 9.375 \nQ 8.59375 20.453125 8.59375 31.390625 \nQ 8.59375 42.28125 12.203125 53.3125 \nQ 15.828125 64.359375 23.1875 75.875 \nz\n\" id=\"DejaVuSans-40\"/>\n      <path d=\"M 4.890625 31.390625 \nL 31.203125 31.390625 \nL 31.203125 23.390625 \nL 4.890625 23.390625 \nz\n\" id=\"DejaVuSans-45\"/>\n      <path d=\"M 53.515625 70.515625 \nL 53.515625 60.890625 \nQ 47.90625 63.578125 42.921875 64.890625 \nQ 37.9375 66.21875 33.296875 66.21875 \nQ 25.25 66.21875 20.875 63.09375 \nQ 16.5 59.96875 16.5 54.203125 \nQ 16.5 49.359375 19.40625 46.890625 \nQ 22.3125 44.4375 30.421875 42.921875 \nL 36.375 41.703125 \nQ 47.40625 39.59375 52.65625 34.296875 \nQ 57.90625 29 57.90625 20.125 \nQ 57.90625 9.515625 50.796875 4.046875 \nQ 43.703125 -1.421875 29.984375 -1.421875 \nQ 24.8125 -1.421875 18.96875 -0.25 \nQ 13.140625 0.921875 6.890625 3.21875 \nL 6.890625 13.375 \nQ 12.890625 10.015625 18.65625 8.296875 \nQ 24.421875 6.59375 29.984375 6.59375 \nQ 38.421875 6.59375 43.015625 9.90625 \nQ 47.609375 13.234375 47.609375 19.390625 \nQ 47.609375 24.75 44.3125 27.78125 \nQ 41.015625 30.8125 33.5 32.328125 \nL 27.484375 33.5 \nQ 16.453125 35.6875 11.515625 40.375 \nQ 6.59375 45.0625 6.59375 53.421875 \nQ 6.59375 63.09375 13.40625 68.65625 \nQ 20.21875 74.21875 32.171875 74.21875 \nQ 37.3125 74.21875 42.625 73.28125 \nQ 47.953125 72.359375 53.515625 70.515625 \nz\n\" id=\"DejaVuSans-83\"/>\n      <path d=\"M 18.109375 8.203125 \nL 18.109375 -20.796875 \nL 9.078125 -20.796875 \nL 9.078125 54.6875 \nL 18.109375 54.6875 \nL 18.109375 46.390625 \nQ 20.953125 51.265625 25.265625 53.625 \nQ 29.59375 56 35.59375 56 \nQ 45.5625 56 51.78125 48.09375 \nQ 58.015625 40.1875 58.015625 27.296875 \nQ 58.015625 14.40625 51.78125 6.484375 \nQ 45.5625 -1.421875 35.59375 -1.421875 \nQ 29.59375 -1.421875 25.265625 0.953125 \nQ 20.953125 3.328125 18.109375 8.203125 \nz\nM 48.6875 27.296875 \nQ 48.6875 37.203125 44.609375 42.84375 \nQ 40.53125 48.484375 33.40625 48.484375 \nQ 26.265625 48.484375 22.1875 42.84375 \nQ 18.109375 37.203125 18.109375 27.296875 \nQ 18.109375 17.390625 22.1875 11.75 \nQ 26.265625 6.109375 33.40625 6.109375 \nQ 40.53125 6.109375 44.609375 11.75 \nQ 48.6875 17.390625 48.6875 27.296875 \nz\n\" id=\"DejaVuSans-112\"/>\n      <path d=\"M 48.78125 52.59375 \nL 48.78125 44.1875 \nQ 44.96875 46.296875 41.140625 47.34375 \nQ 37.3125 48.390625 33.40625 48.390625 \nQ 24.65625 48.390625 19.8125 42.84375 \nQ 14.984375 37.3125 14.984375 27.296875 \nQ 14.984375 17.28125 19.8125 11.734375 \nQ 24.65625 6.203125 33.40625 6.203125 \nQ 37.3125 6.203125 41.140625 7.25 \nQ 44.96875 8.296875 48.78125 10.40625 \nL 48.78125 2.09375 \nQ 45.015625 0.34375 40.984375 -0.53125 \nQ 36.96875 -1.421875 32.421875 -1.421875 \nQ 20.0625 -1.421875 12.78125 6.34375 \nQ 5.515625 14.109375 5.515625 27.296875 \nQ 5.515625 40.671875 12.859375 48.328125 \nQ 20.21875 56 33.015625 56 \nQ 37.15625 56 41.109375 55.140625 \nQ 45.0625 54.296875 48.78125 52.59375 \nz\n\" id=\"DejaVuSans-99\"/>\n      <path d=\"M 37.109375 75.984375 \nL 37.109375 68.5 \nL 28.515625 68.5 \nQ 23.6875 68.5 21.796875 66.546875 \nQ 19.921875 64.59375 19.921875 59.515625 \nL 19.921875 54.6875 \nL 34.71875 54.6875 \nL 34.71875 47.703125 \nL 19.921875 47.703125 \nL 19.921875 0 \nL 10.890625 0 \nL 10.890625 47.703125 \nL 2.296875 47.703125 \nL 2.296875 54.6875 \nL 10.890625 54.6875 \nL 10.890625 58.5 \nQ 10.890625 67.625 15.140625 71.796875 \nQ 19.390625 75.984375 28.609375 75.984375 \nz\n\" id=\"DejaVuSans-102\"/>\n      <path d=\"M 32.171875 -5.078125 \nQ 28.375 -14.84375 24.75 -17.8125 \nQ 21.140625 -20.796875 15.09375 -20.796875 \nL 7.90625 -20.796875 \nL 7.90625 -13.28125 \nL 13.1875 -13.28125 \nQ 16.890625 -13.28125 18.9375 -11.515625 \nQ 21 -9.765625 23.484375 -3.21875 \nL 25.09375 0.875 \nL 2.984375 54.6875 \nL 12.5 54.6875 \nL 29.59375 11.921875 \nL 46.6875 54.6875 \nL 56.203125 54.6875 \nz\n\" id=\"DejaVuSans-121\"/>\n      <path d=\"M 8.015625 75.875 \nL 15.828125 75.875 \nQ 23.140625 64.359375 26.78125 53.3125 \nQ 30.421875 42.28125 30.421875 31.390625 \nQ 30.421875 20.453125 26.78125 9.375 \nQ 23.140625 -1.703125 15.828125 -13.1875 \nL 8.015625 -13.1875 \nQ 14.5 -2 17.703125 9.0625 \nQ 20.90625 20.125 20.90625 31.390625 \nQ 20.90625 42.671875 17.703125 53.65625 \nQ 14.5 64.65625 8.015625 75.875 \nz\n\" id=\"DejaVuSans-41\"/>\n     </defs>\n     <g transform=\"translate(124.551563 268.034687)scale(0.1 -0.1)\">\n      <use xlink:href=\"#DejaVuSans-70\"/>\n      <use x=\"57.378906\" xlink:href=\"#DejaVuSans-97\"/>\n      <use x=\"118.658203\" xlink:href=\"#DejaVuSans-108\"/>\n      <use x=\"146.441406\" xlink:href=\"#DejaVuSans-115\"/>\n      <use x=\"198.541016\" xlink:href=\"#DejaVuSans-101\"/>\n      <use x=\"260.064453\" xlink:href=\"#DejaVuSans-32\"/>\n      <use x=\"291.851562\" xlink:href=\"#DejaVuSans-80\"/>\n      <use x=\"352.107422\" xlink:href=\"#DejaVuSans-111\"/>\n      <use x=\"413.289062\" xlink:href=\"#DejaVuSans-115\"/>\n      <use x=\"465.388672\" xlink:href=\"#DejaVuSans-105\"/>\n      <use x=\"493.171875\" xlink:href=\"#DejaVuSans-116\"/>\n      <use x=\"532.380859\" xlink:href=\"#DejaVuSans-105\"/>\n      <use x=\"560.164062\" xlink:href=\"#DejaVuSans-118\"/>\n      <use x=\"619.34375\" xlink:href=\"#DejaVuSans-101\"/>\n      <use x=\"680.867188\" xlink:href=\"#DejaVuSans-32\"/>\n      <use x=\"712.654297\" xlink:href=\"#DejaVuSans-82\"/>\n      <use x=\"782.105469\" xlink:href=\"#DejaVuSans-97\"/>\n      <use x=\"843.384766\" xlink:href=\"#DejaVuSans-116\"/>\n      <use x=\"882.59375\" xlink:href=\"#DejaVuSans-101\"/>\n      <use x=\"944.117188\" xlink:href=\"#DejaVuSans-32\"/>\n      <use x=\"975.904297\" xlink:href=\"#DejaVuSans-40\"/>\n      <use x=\"1014.917969\" xlink:href=\"#DejaVuSans-49\"/>\n      <use x=\"1078.541016\" xlink:href=\"#DejaVuSans-32\"/>\n      <use x=\"1110.328125\" xlink:href=\"#DejaVuSans-45\"/>\n      <use x=\"1146.412109\" xlink:href=\"#DejaVuSans-32\"/>\n      <use x=\"1178.199219\" xlink:href=\"#DejaVuSans-83\"/>\n      <use x=\"1241.675781\" xlink:href=\"#DejaVuSans-112\"/>\n      <use x=\"1305.152344\" xlink:href=\"#DejaVuSans-101\"/>\n      <use x=\"1366.675781\" xlink:href=\"#DejaVuSans-99\"/>\n      <use x=\"1421.65625\" xlink:href=\"#DejaVuSans-105\"/>\n      <use x=\"1449.439453\" xlink:href=\"#DejaVuSans-102\"/>\n      <use x=\"1484.644531\" xlink:href=\"#DejaVuSans-105\"/>\n      <use x=\"1512.427734\" xlink:href=\"#DejaVuSans-99\"/>\n      <use x=\"1567.408203\" xlink:href=\"#DejaVuSans-105\"/>\n      <use x=\"1595.191406\" xlink:href=\"#DejaVuSans-116\"/>\n      <use x=\"1634.400391\" xlink:href=\"#DejaVuSans-121\"/>\n      <use x=\"1693.580078\" xlink:href=\"#DejaVuSans-41\"/>\n     </g>\n    </g>\n   </g>\n   <g id=\"matplotlib.axis_2\">\n    <g id=\"ytick_1\">\n     <g id=\"line2d_13\">\n      <path clip-path=\"url(#p6cfd6412b3)\" d=\"M 43.78125 239.758125 \nL 378.58125 239.758125 \n\" style=\"fill:none;stroke:#b0b0b0;stroke-linecap:square;stroke-width:0.8;\"/>\n     </g>\n     <g id=\"line2d_14\">\n      <defs>\n       <path d=\"M 0 0 \nL -3.5 0 \n\" id=\"m891852bdb9\" style=\"stroke:#000000;stroke-width:0.8;\"/>\n      </defs>\n      <g>\n       <use style=\"stroke:#000000;stroke-width:0.8;\" x=\"43.78125\" xlink:href=\"#m891852bdb9\" y=\"239.758125\"/>\n      </g>\n     </g>\n     <g id=\"text_8\">\n      <!-- 0.0 -->\n      <g transform=\"translate(20.878125 243.557344)scale(0.1 -0.1)\">\n       <use xlink:href=\"#DejaVuSans-48\"/>\n       <use x=\"63.623047\" xlink:href=\"#DejaVuSans-46\"/>\n       <use x=\"95.410156\" xlink:href=\"#DejaVuSans-48\"/>\n      </g>\n     </g>\n    </g>\n    <g id=\"ytick_2\">\n     <g id=\"line2d_15\">\n      <path clip-path=\"url(#p6cfd6412b3)\" d=\"M 43.78125 196.270125 \nL 378.58125 196.270125 \n\" style=\"fill:none;stroke:#b0b0b0;stroke-linecap:square;stroke-width:0.8;\"/>\n     </g>\n     <g id=\"line2d_16\">\n      <g>\n       <use style=\"stroke:#000000;stroke-width:0.8;\" x=\"43.78125\" xlink:href=\"#m891852bdb9\" y=\"196.270125\"/>\n      </g>\n     </g>\n     <g id=\"text_9\">\n      <!-- 0.2 -->\n      <g transform=\"translate(20.878125 200.069344)scale(0.1 -0.1)\">\n       <use xlink:href=\"#DejaVuSans-48\"/>\n       <use x=\"63.623047\" xlink:href=\"#DejaVuSans-46\"/>\n       <use x=\"95.410156\" xlink:href=\"#DejaVuSans-50\"/>\n      </g>\n     </g>\n    </g>\n    <g id=\"ytick_3\">\n     <g id=\"line2d_17\">\n      <path clip-path=\"url(#p6cfd6412b3)\" d=\"M 43.78125 152.782125 \nL 378.58125 152.782125 \n\" style=\"fill:none;stroke:#b0b0b0;stroke-linecap:square;stroke-width:0.8;\"/>\n     </g>\n     <g id=\"line2d_18\">\n      <g>\n       <use style=\"stroke:#000000;stroke-width:0.8;\" x=\"43.78125\" xlink:href=\"#m891852bdb9\" y=\"152.782125\"/>\n      </g>\n     </g>\n     <g id=\"text_10\">\n      <!-- 0.4 -->\n      <g transform=\"translate(20.878125 156.581344)scale(0.1 -0.1)\">\n       <use xlink:href=\"#DejaVuSans-48\"/>\n       <use x=\"63.623047\" xlink:href=\"#DejaVuSans-46\"/>\n       <use x=\"95.410156\" xlink:href=\"#DejaVuSans-52\"/>\n      </g>\n     </g>\n    </g>\n    <g id=\"ytick_4\">\n     <g id=\"line2d_19\">\n      <path clip-path=\"url(#p6cfd6412b3)\" d=\"M 43.78125 109.294125 \nL 378.58125 109.294125 \n\" style=\"fill:none;stroke:#b0b0b0;stroke-linecap:square;stroke-width:0.8;\"/>\n     </g>\n     <g id=\"line2d_20\">\n      <g>\n       <use style=\"stroke:#000000;stroke-width:0.8;\" x=\"43.78125\" xlink:href=\"#m891852bdb9\" y=\"109.294125\"/>\n      </g>\n     </g>\n     <g id=\"text_11\">\n      <!-- 0.6 -->\n      <g transform=\"translate(20.878125 113.093344)scale(0.1 -0.1)\">\n       <use xlink:href=\"#DejaVuSans-48\"/>\n       <use x=\"63.623047\" xlink:href=\"#DejaVuSans-46\"/>\n       <use x=\"95.410156\" xlink:href=\"#DejaVuSans-54\"/>\n      </g>\n     </g>\n    </g>\n    <g id=\"ytick_5\">\n     <g id=\"line2d_21\">\n      <path clip-path=\"url(#p6cfd6412b3)\" d=\"M 43.78125 65.806125 \nL 378.58125 65.806125 \n\" style=\"fill:none;stroke:#b0b0b0;stroke-linecap:square;stroke-width:0.8;\"/>\n     </g>\n     <g id=\"line2d_22\">\n      <g>\n       <use style=\"stroke:#000000;stroke-width:0.8;\" x=\"43.78125\" xlink:href=\"#m891852bdb9\" y=\"65.806125\"/>\n      </g>\n     </g>\n     <g id=\"text_12\">\n      <!-- 0.8 -->\n      <g transform=\"translate(20.878125 69.605344)scale(0.1 -0.1)\">\n       <use xlink:href=\"#DejaVuSans-48\"/>\n       <use x=\"63.623047\" xlink:href=\"#DejaVuSans-46\"/>\n       <use x=\"95.410156\" xlink:href=\"#DejaVuSans-56\"/>\n      </g>\n     </g>\n    </g>\n    <g id=\"ytick_6\">\n     <g id=\"line2d_23\">\n      <path clip-path=\"url(#p6cfd6412b3)\" d=\"M 43.78125 22.318125 \nL 378.58125 22.318125 \n\" style=\"fill:none;stroke:#b0b0b0;stroke-linecap:square;stroke-width:0.8;\"/>\n     </g>\n     <g id=\"line2d_24\">\n      <g>\n       <use style=\"stroke:#000000;stroke-width:0.8;\" x=\"43.78125\" xlink:href=\"#m891852bdb9\" y=\"22.318125\"/>\n      </g>\n     </g>\n     <g id=\"text_13\">\n      <!-- 1.0 -->\n      <g transform=\"translate(20.878125 26.117344)scale(0.1 -0.1)\">\n       <use xlink:href=\"#DejaVuSans-49\"/>\n       <use x=\"63.623047\" xlink:href=\"#DejaVuSans-46\"/>\n       <use x=\"95.410156\" xlink:href=\"#DejaVuSans-48\"/>\n      </g>\n     </g>\n    </g>\n    <g id=\"text_14\">\n     <!-- True Positive Rate (Sensitivity) -->\n     <defs>\n      <path d=\"M -0.296875 72.90625 \nL 61.375 72.90625 \nL 61.375 64.59375 \nL 35.5 64.59375 \nL 35.5 0 \nL 25.59375 0 \nL 25.59375 64.59375 \nL -0.296875 64.59375 \nz\n\" id=\"DejaVuSans-84\"/>\n      <path d=\"M 41.109375 46.296875 \nQ 39.59375 47.171875 37.8125 47.578125 \nQ 36.03125 48 33.890625 48 \nQ 26.265625 48 22.1875 43.046875 \nQ 18.109375 38.09375 18.109375 28.8125 \nL 18.109375 0 \nL 9.078125 0 \nL 9.078125 54.6875 \nL 18.109375 54.6875 \nL 18.109375 46.1875 \nQ 20.953125 51.171875 25.484375 53.578125 \nQ 30.03125 56 36.53125 56 \nQ 37.453125 56 38.578125 55.875 \nQ 39.703125 55.765625 41.0625 55.515625 \nz\n\" id=\"DejaVuSans-114\"/>\n      <path d=\"M 8.5 21.578125 \nL 8.5 54.6875 \nL 17.484375 54.6875 \nL 17.484375 21.921875 \nQ 17.484375 14.15625 20.5 10.265625 \nQ 23.53125 6.390625 29.59375 6.390625 \nQ 36.859375 6.390625 41.078125 11.03125 \nQ 45.3125 15.671875 45.3125 23.6875 \nL 45.3125 54.6875 \nL 54.296875 54.6875 \nL 54.296875 0 \nL 45.3125 0 \nL 45.3125 8.40625 \nQ 42.046875 3.421875 37.71875 1 \nQ 33.40625 -1.421875 27.6875 -1.421875 \nQ 18.265625 -1.421875 13.375 4.4375 \nQ 8.5 10.296875 8.5 21.578125 \nz\nM 31.109375 56 \nz\n\" id=\"DejaVuSans-117\"/>\n      <path d=\"M 54.890625 33.015625 \nL 54.890625 0 \nL 45.90625 0 \nL 45.90625 32.71875 \nQ 45.90625 40.484375 42.875 44.328125 \nQ 39.84375 48.1875 33.796875 48.1875 \nQ 26.515625 48.1875 22.3125 43.546875 \nQ 18.109375 38.921875 18.109375 30.90625 \nL 18.109375 0 \nL 9.078125 0 \nL 9.078125 54.6875 \nL 18.109375 54.6875 \nL 18.109375 46.1875 \nQ 21.34375 51.125 25.703125 53.5625 \nQ 30.078125 56 35.796875 56 \nQ 45.21875 56 50.046875 50.171875 \nQ 54.890625 44.34375 54.890625 33.015625 \nz\n\" id=\"DejaVuSans-110\"/>\n     </defs>\n     <g transform=\"translate(14.798438 208.105312)rotate(-90)scale(0.1 -0.1)\">\n      <use xlink:href=\"#DejaVuSans-84\"/>\n      <use x=\"60.865234\" xlink:href=\"#DejaVuSans-114\"/>\n      <use x=\"101.978516\" xlink:href=\"#DejaVuSans-117\"/>\n      <use x=\"165.357422\" xlink:href=\"#DejaVuSans-101\"/>\n      <use x=\"226.880859\" xlink:href=\"#DejaVuSans-32\"/>\n      <use x=\"258.667969\" xlink:href=\"#DejaVuSans-80\"/>\n      <use x=\"318.923828\" xlink:href=\"#DejaVuSans-111\"/>\n      <use x=\"380.105469\" xlink:href=\"#DejaVuSans-115\"/>\n      <use x=\"432.205078\" xlink:href=\"#DejaVuSans-105\"/>\n      <use x=\"459.988281\" xlink:href=\"#DejaVuSans-116\"/>\n      <use x=\"499.197266\" xlink:href=\"#DejaVuSans-105\"/>\n      <use x=\"526.980469\" xlink:href=\"#DejaVuSans-118\"/>\n      <use x=\"586.160156\" xlink:href=\"#DejaVuSans-101\"/>\n      <use x=\"647.683594\" xlink:href=\"#DejaVuSans-32\"/>\n      <use x=\"679.470703\" xlink:href=\"#DejaVuSans-82\"/>\n      <use x=\"748.921875\" xlink:href=\"#DejaVuSans-97\"/>\n      <use x=\"810.201172\" xlink:href=\"#DejaVuSans-116\"/>\n      <use x=\"849.410156\" xlink:href=\"#DejaVuSans-101\"/>\n      <use x=\"910.933594\" xlink:href=\"#DejaVuSans-32\"/>\n      <use x=\"942.720703\" xlink:href=\"#DejaVuSans-40\"/>\n      <use x=\"981.734375\" xlink:href=\"#DejaVuSans-83\"/>\n      <use x=\"1045.210938\" xlink:href=\"#DejaVuSans-101\"/>\n      <use x=\"1106.734375\" xlink:href=\"#DejaVuSans-110\"/>\n      <use x=\"1170.113281\" xlink:href=\"#DejaVuSans-115\"/>\n      <use x=\"1222.212891\" xlink:href=\"#DejaVuSans-105\"/>\n      <use x=\"1249.996094\" xlink:href=\"#DejaVuSans-116\"/>\n      <use x=\"1289.205078\" xlink:href=\"#DejaVuSans-105\"/>\n      <use x=\"1316.988281\" xlink:href=\"#DejaVuSans-118\"/>\n      <use x=\"1376.167969\" xlink:href=\"#DejaVuSans-105\"/>\n      <use x=\"1403.951172\" xlink:href=\"#DejaVuSans-116\"/>\n      <use x=\"1443.160156\" xlink:href=\"#DejaVuSans-121\"/>\n      <use x=\"1502.339844\" xlink:href=\"#DejaVuSans-41\"/>\n     </g>\n    </g>\n   </g>\n   <g id=\"line2d_25\">\n    <path clip-path=\"url(#p6cfd6412b3)\" d=\"M 43.78125 239.758125 \nL 43.78125 238.433122 \nL 43.961129 238.363385 \nL 44.051069 237.596278 \nL 44.141008 237.387067 \nL 44.230948 237.038382 \nL 44.275918 237.038382 \nL 44.275918 236.480485 \nL 44.410827 236.480485 \nL 44.410827 236.271274 \nL 44.500766 236.271274 \nL 44.590706 236.201537 \nL 44.680646 235.016008 \nL 44.770585 235.016008 \nL 44.860525 234.73706 \nL 45.220283 234.03969 \nL 45.310222 232.923898 \nL 45.400162 232.854161 \nL 45.490102 232.575213 \nL 45.535071 232.575213 \nL 45.625011 232.017317 \nL 45.75992 232.017317 \nL 45.75992 231.94758 \nL 45.80489 231.598895 \nL 45.89483 231.598895 \nL 45.984769 230.762051 \nL 46.074709 230.692314 \nL 46.164648 229.506784 \nL 46.209618 229.506784 \nL 46.299558 228.460729 \nL 46.389497 228.460729 \nL 46.479437 228.112044 \nL 46.524406 228.112044 \nL 46.524406 228.042307 \nL 46.614346 227.763359 \nL 46.704286 227.763359 \nL 46.794225 227.554148 \nL 46.884165 227.554148 \nL 46.974104 226.926515 \nL 47.019074 226.926515 \nL 47.019074 226.298882 \nL 47.153983 226.298882 \nL 47.243923 225.322564 \nL 47.558711 224.694931 \nL 47.558711 224.415983 \nL 47.73859 224.346246 \nL 47.82853 223.997561 \nL 47.8735 223.997561 \nL 47.91847 223.30019 \nL 48.008409 223.30019 \nL 48.098349 222.951505 \nL 48.143319 222.951505 \nL 48.233258 222.742294 \nL 48.278228 222.742294 \nL 48.368167 221.487028 \nL 48.413137 221.487028 \nL 48.503077 220.929132 \nL 48.593016 220.929132 \nL 48.682956 220.719921 \nL 48.817865 220.092288 \nL 48.862835 219.743603 \nL 48.952775 219.743603 \nL 49.042714 219.11597 \nL 49.222593 219.046233 \nL 49.312533 218.4186 \nL 49.357503 218.4186 \nL 49.357503 218.348863 \nL 49.447442 217.372544 \nL 49.537382 217.302807 \nL 49.537382 217.093596 \nL 49.672291 217.093596 \nL 49.717261 216.5357 \nL 49.85217 216.465963 \nL 49.94211 216.187015 \nL 49.987079 216.187015 \nL 49.987079 216.117278 \nL 50.077019 214.862012 \nL 50.121989 214.862012 \nL 50.211928 214.583064 \nL 50.256898 214.513327 \nL 50.346838 214.094905 \nL 50.571687 214.094905 \nL 50.661626 213.74622 \nL 50.706596 213.74622 \nL 50.796535 213.04885 \nL 51.021384 212.630428 \nL 51.111324 211.514636 \nL 51.246233 211.444899 \nL 51.336173 210.956739 \nL 51.381143 210.956739 \nL 51.381143 210.887002 \nL 51.561022 210.46858 \nL 51.740901 210.398843 \nL 51.785871 210.050158 \nL 51.92078 210.050158 \nL 52.010719 209.561999 \nL 52.055689 209.561999 \nL 52.055689 209.492262 \nL 52.190599 209.213314 \nL 52.280538 208.515944 \nL 52.325508 208.515944 \nL 52.415447 208.097522 \nL 52.460417 208.097522 \nL 52.460417 207.818574 \nL 52.595327 207.818574 \nL 52.640296 207.469889 \nL 52.730236 207.469889 \nL 52.820175 207.051467 \nL 52.865145 207.051467 \nL 52.865145 206.98173 \nL 53.045024 206.842256 \nL 53.134964 206.214623 \nL 53.224903 206.144886 \nL 53.224903 206.005412 \nL 53.314843 206.005412 \nL 53.494722 205.935675 \nL 53.584662 205.377779 \nL 53.764541 205.308042 \nL 53.85448 205.029094 \nL 54.034359 204.959357 \nL 54.034359 204.680409 \nL 54.124299 204.680409 \nL 54.169269 204.610672 \nL 54.214239 204.261986 \nL 54.349148 204.192249 \nL 54.439087 203.843564 \nL 54.529027 203.843564 \nL 54.618967 203.215931 \nL 54.708906 203.215931 \nL 54.798846 202.379087 \nL 54.843815 202.379087 \nL 54.933755 202.030402 \nL 55.293513 201.472506 \nL 55.383453 200.844873 \nL 55.833151 199.310659 \nL 55.87812 198.613289 \nL 55.96806 198.613289 \nL 55.96806 198.543552 \nL 56.057999 198.264604 \nL 56.102969 198.264604 \nL 56.192909 197.985655 \nL 56.327818 197.915918 \nL 56.372788 197.776444 \nL 56.507697 197.776444 \nL 56.597637 197.288285 \nL 56.687576 197.218548 \nL 56.777516 196.590915 \nL 56.822486 196.590915 \nL 57.092304 196.033019 \nL 57.227214 195.823808 \nL 57.317153 195.335649 \nL 57.407093 195.265912 \nL 57.497032 194.986964 \nL 57.631942 194.917227 \nL 57.721881 194.498805 \nL 57.766851 194.498805 \nL 57.811821 194.289594 \nL 57.90176 194.15012 \nL 57.9917 193.871172 \nL 58.171579 193.801435 \nL 58.396428 193.383013 \nL 58.441398 193.034328 \nL 58.531337 193.034328 \nL 58.621277 192.546169 \nL 58.756186 192.546169 \nL 58.846126 192.267221 \nL 58.981035 192.267221 \nL 59.070975 191.779061 \nL 59.205884 191.709324 \nL 59.295824 191.430376 \nL 59.340793 191.430376 \nL 59.430733 190.593532 \nL 59.520672 190.523795 \nL 59.520672 190.454058 \nL 59.835461 190.384321 \nL 59.835461 190.244847 \nL 59.9254 190.244847 \nL 60.06031 189.896162 \nL 60.10528 189.896162 \nL 60.195219 189.686951 \nL 60.285159 189.686951 \nL 60.285159 189.198792 \nL 60.465038 189.198792 \nL 60.510008 188.292211 \nL 60.599947 188.292211 \nL 60.689887 187.664578 \nL 60.779826 187.594841 \nL 60.869766 187.246156 \nL 61.004675 187.246156 \nL 61.004675 187.176419 \nL 61.139584 187.036945 \nL 61.499343 185.851416 \nL 61.634252 185.781679 \nL 61.679222 185.572468 \nL 61.724192 185.572468 \nL 61.904071 185.502731 \nL 61.99401 185.223782 \nL 62.173889 184.80536 \nL 62.578617 184.456675 \nL 62.623587 184.038253 \nL 62.758496 183.968516 \nL 62.803466 183.829042 \nL 62.938376 183.829042 \nL 63.028315 183.480357 \nL 63.073285 183.41062 \nL 63.073285 183.201409 \nL 63.163224 183.201409 \nL 63.208194 183.131672 \nL 63.298134 182.434302 \nL 63.388073 182.364565 \nL 63.478013 181.876406 \nL 63.522983 181.876406 \nL 63.567952 181.388247 \nL 63.702862 181.31851 \nL 64.377408 179.365874 \nL 64.602257 179.296137 \nL 64.692197 179.017189 \nL 64.782137 179.017189 \nL 64.827106 178.529029 \nL 64.872076 178.529029 \nL 65.006985 178.250081 \nL 65.006985 178.110607 \nL 65.231834 178.04087 \nL 65.276804 177.622448 \nL 65.546623 177.552711 \nL 65.591593 177.413237 \nL 65.681532 177.413237 \nL 65.771472 177.134289 \nL 65.861411 177.064552 \nL 65.996321 176.994815 \nL 66.13123 176.925078 \nL 66.221169 176.715867 \nL 66.401049 176.436919 \nL 66.625897 176.367182 \nL 66.670867 176.157971 \nL 67.120565 176.088234 \nL 67.210505 175.809286 \nL 67.390384 175.739549 \nL 67.480323 175.25139 \nL 67.570263 175.181653 \nL 67.660202 175.042179 \nL 67.750142 175.042179 \nL 67.750142 174.763231 \nL 67.795112 174.763231 \nL 68.19984 174.344809 \nL 68.289779 174.135598 \nL 68.424689 174.065861 \nL 68.469658 173.85665 \nL 68.514628 173.85665 \nL 68.604568 173.85665 \nL 68.649537 173.647439 \nL 69.099235 173.577702 \nL 69.099235 173.368491 \nL 69.279114 173.298754 \nL 69.369054 172.950069 \nL 69.414024 172.950069 \nL 69.503963 172.461909 \nL 69.773782 172.392172 \nL 69.863721 172.182961 \nL 69.998631 172.113224 \nL 70.08857 171.694802 \nL 70.17851 171.694802 \nL 70.17851 171.067169 \nL 70.22348 171.067169 \nL 70.718147 170.648747 \nL 70.718147 170.439536 \nL 70.853057 170.439536 \nL 70.853057 170.230325 \nL 70.942996 170.230325 \nL 71.077905 170.021114 \nL 71.212815 169.672429 \nL 71.302754 169.672429 \nL 71.392694 169.044796 \nL 71.707482 168.975059 \nL 71.797422 168.696111 \nL 71.842392 168.696111 \nL 71.932331 168.347426 \nL 72.067241 168.138215 \nL 72.20215 168.138215 \nL 72.20215 168.068478 \nL 72.382029 167.929004 \nL 72.426999 167.929004 \nL 72.606878 167.301371 \nL 72.921666 167.231634 \nL 72.966636 167.022423 \nL 73.191485 166.952686 \nL 73.281425 166.673738 \nL 73.461304 166.604001 \nL 73.461304 166.534264 \nL 73.551243 166.534264 \nL 73.641183 166.464527 \nL 73.731122 165.976367 \nL 73.776092 165.976367 \nL 73.866032 165.627682 \nL 73.911002 165.627682 \nL 73.955971 165.069786 \nL 74.090881 165.000049 \nL 74.090881 164.860575 \nL 74.31573 164.790838 \nL 74.405669 164.232942 \nL 74.585548 164.163205 \nL 74.675488 163.675046 \nL 74.810397 163.605309 \nL 75.125186 163.256624 \nL 75.170155 163.256624 \nL 75.170155 163.186887 \nL 75.305065 163.047413 \nL 75.350034 163.047413 \nL 75.439974 162.41978 \nL 75.484944 162.41978 \nL 75.574883 161.72241 \nL 75.619853 161.582936 \nL 75.754762 161.582936 \nL 75.754762 161.443462 \nL 75.979611 161.373725 \nL 76.024581 161.02504 \nL 76.20446 160.955303 \nL 76.789067 160.746092 \nL 76.879007 160.32767 \nL 77.418644 160.257933 \nL 77.418644 160.188196 \nL 77.508584 160.188196 \nL 77.778402 159.909248 \nL 77.913312 159.839511 \nL 78.003251 159.630299 \nL 78.093191 159.630299 \nL 78.18313 159.351351 \nL 78.27307 159.281614 \nL 78.36301 158.793455 \nL 78.722768 158.375033 \nL 79.217435 157.538189 \nL 79.217435 157.398715 \nL 79.397314 157.328978 \nL 79.442284 157.119767 \nL 79.847012 157.05003 \nL 79.936952 156.771082 \nL 80.026891 156.771082 \nL 80.431619 155.236868 \nL 80.476589 155.236868 \nL 80.476589 154.888183 \nL 80.566529 154.888183 \nL 80.611498 154.888183 \nL 80.611498 154.818446 \nL 80.701438 154.748709 \nL 80.746408 154.469761 \nL 80.836347 154.469761 \nL 80.926287 154.190813 \nL 80.971257 154.190813 \nL 81.061196 153.911865 \nL 81.375985 153.842128 \nL 81.690773 153.353968 \nL 81.690773 153.07502 \nL 81.780713 153.07502 \nL 81.960592 153.005283 \nL 82.050531 152.726335 \nL 82.500229 151.889491 \nL 82.500229 151.819754 \nL 82.725078 151.819754 \nL 82.725078 151.750017 \nL 83.129806 150.703962 \nL 83.264715 150.703962 \nL 83.264715 150.634225 \nL 83.354655 150.076329 \nL 83.489564 150.006592 \nL 83.489564 149.936855 \nL 83.624474 149.936855 \nL 83.624474 149.727644 \nL 83.669443 149.727644 \nL 83.804353 149.657907 \nL 83.849323 149.518433 \nL 84.029202 149.518433 \nL 84.029202 149.448696 \nL 84.119141 149.169748 \nL 84.254051 149.169748 \nL 84.254051 149.030274 \nL 84.34399 149.030274 \nL 84.43393 149.030274 \nL 84.43393 148.960537 \nL 84.838658 148.472378 \nL 84.883627 148.472378 \nL 84.883627 148.402641 \nL 85.153446 147.635534 \nL 85.468235 146.868426 \nL 85.738053 146.659215 \nL 85.738053 146.380267 \nL 85.783023 146.380267 \nL 86.007872 146.031582 \nL 86.547509 146.031582 \nL 86.682419 145.892108 \nL 86.862298 145.892108 \nL 86.952237 145.682897 \nL 87.087147 145.61316 \nL 87.177086 144.985527 \nL 87.267026 144.91579 \nL 87.356965 144.776316 \nL 87.536844 144.706579 \nL 87.626784 144.148683 \nL 87.806663 144.078946 \nL 87.896603 143.451313 \nL 88.076482 143.381576 \nL 88.166421 143.172365 \nL 88.3463 143.102628 \nL 89.065817 141.010518 \nL 89.155756 141.010518 \nL 89.155756 140.871044 \nL 89.245696 140.871044 \nL 89.920243 139.54604 \nL 90.54982 138.988144 \nL 90.54982 138.84867 \nL 90.819638 138.778933 \nL 91.539155 138.1513 \nL 91.808973 137.802615 \nL 92.123762 137.802615 \nL 92.123762 137.663141 \nL 92.213701 137.663141 \nL 92.43855 137.593404 \nL 92.618429 137.314456 \nL 92.843278 137.314456 \nL 93.113097 136.547349 \nL 93.248006 136.477612 \nL 93.337946 135.989453 \nL 93.427885 135.919716 \nL 93.517825 135.640768 \nL 93.832613 135.292083 \nL 93.922553 134.594713 \nL 94.012492 134.524976 \nL 94.057462 134.246028 \nL 94.372251 134.246028 \nL 94.41722 134.036816 \nL 94.50716 134.036816 \nL 94.55213 133.757868 \nL 94.5971 133.757868 \nL 94.866918 133.688131 \nL 95.091767 133.409183 \nL 95.091767 133.269709 \nL 95.181707 133.269709 \nL 95.226676 133.269709 \nL 95.316616 133.060498 \nL 95.766314 132.990761 \nL 95.856253 132.572339 \nL 95.991163 132.502602 \nL 96.126072 132.502602 \nL 96.5308 131.874969 \nL 96.5308 131.665758 \nL 96.755649 131.526284 \nL 96.755649 131.38681 \nL 96.980498 131.107862 \nL 97.025468 130.898651 \nL 97.250316 130.828914 \nL 97.385226 130.619703 \nL 97.744984 130.480229 \nL 97.789954 130.271018 \nL 97.969833 130.201281 \nL 98.014803 129.782859 \nL 98.059772 129.782859 \nL 98.284621 129.364437 \nL 98.284621 128.946015 \nL 98.329591 128.946015 \nL 98.55444 128.876278 \nL 98.55444 128.806541 \nL 98.64438 128.806541 \nL 98.824259 128.736804 \nL 98.914198 128.59733 \nL 99.273957 128.527593 \nL 99.273957 128.318382 \nL 99.453836 128.318382 \nL 99.723654 128.109171 \nL 99.723654 127.830222 \nL 99.903533 127.760485 \nL 99.993473 127.481537 \nL 99.993473 127.342063 \nL 100.038443 127.342063 \nL 100.173352 127.342063 \nL 100.263292 127.063115 \nL 100.57808 126.993378 \nL 100.66802 126.71443 \nL 100.982808 126.644693 \nL 101.027778 126.226271 \nL 101.162687 126.156534 \nL 101.162687 126.01706 \nL 101.612385 125.947323 \nL 101.657355 125.389427 \nL 101.837234 125.31969 \nL 101.837234 125.249953 \nL 101.882204 125.249953 \nL 102.152022 125.180216 \nL 102.241962 124.971005 \nL 102.286932 124.971005 \nL 102.286932 124.901268 \nL 102.466811 124.692057 \nL 104.265602 123.297317 \nL 104.490451 122.948632 \nL 104.62536 122.948632 \nL 104.67033 122.739421 \nL 104.7153 122.739421 \nL 105.569725 121.274943 \nL 105.704635 121.274943 \nL 105.749605 120.926258 \nL 105.884514 120.856521 \nL 106.064393 120.507836 \nL 106.199302 120.438099 \nL 106.244272 120.228888 \nL 106.60403 119.810466 \nL 106.649 119.810466 \nL 106.73894 119.601255 \nL 106.78391 119.601255 \nL 106.78391 119.531518 \nL 106.873849 119.461781 \nL 107.008758 119.461781 \nL 107.008758 119.322307 \nL 107.188638 119.322307 \nL 107.233607 119.113096 \nL 107.593366 119.043359 \nL 107.728275 118.903885 \nL 107.818214 118.903885 \nL 108.447791 118.415726 \nL 108.852519 117.997304 \nL 108.897489 117.578882 \nL 108.987429 117.578882 \nL 109.167308 117.369671 \nL 109.527066 117.299934 \nL 109.617006 117.020986 \nL 109.841854 116.951249 \nL 110.156643 116.672301 \nL 110.156643 116.602564 \nL 110.201613 116.602564 \nL 110.83119 116.184142 \nL 111.820525 115.138087 \nL 111.865494 114.928875 \nL 112.135313 114.859138 \nL 112.135313 114.719664 \nL 112.180283 114.719664 \nL 112.585011 114.649927 \nL 112.67495 114.231505 \nL 112.76489 114.092031 \nL 113.124648 114.022294 \nL 113.169618 113.813083 \nL 113.214588 113.813083 \nL 113.349497 113.743346 \nL 113.439437 113.743346 \nL 113.439437 113.603872 \nL 113.709255 113.534135 \nL 113.709255 113.464398 \nL 114.158953 113.394661 \nL 114.158953 113.045976 \nL 114.383802 112.976239 \nL 114.473742 112.557817 \nL 114.518711 112.48808 \nL 114.563681 112.139395 \nL 114.8335 112.069658 \nL 114.923439 111.860447 \nL 115.193258 111.79071 \nL 115.238228 111.581499 \nL 115.418107 111.581499 \nL 115.508047 111.163077 \nL 115.597986 111.163077 \nL 115.597986 111.023603 \nL 115.912775 110.953866 \nL 116.002714 110.744655 \nL 116.542351 110.186759 \nL 116.632291 110.047285 \nL 116.85714 110.047285 \nL 117.531687 108.931493 \nL 117.576656 108.652544 \nL 117.666596 108.652544 \nL 117.756535 108.024911 \nL 117.846475 107.955174 \nL 117.936415 107.536752 \nL 118.026354 107.467015 \nL 118.026354 107.397278 \nL 118.071324 107.397278 \nL 118.565991 107.11833 \nL 119.060659 106.769645 \nL 119.105629 106.560434 \nL 119.285508 106.490697 \nL 119.330478 106.351223 \nL 119.465387 106.351223 \nL 119.465387 106.142012 \nL 119.735206 106.072275 \nL 119.735206 106.002538 \nL 119.960055 105.932801 \nL 120.544662 105.444642 \nL 120.589631 105.235431 \nL 120.724541 105.02622 \nL 120.724541 104.817009 \nL 120.85945 104.817009 \nL 120.90442 104.607798 \nL 121.129269 104.538061 \nL 121.219208 104.32885 \nL 121.309148 104.259113 \nL 121.309148 104.049902 \nL 121.444057 104.049902 \nL 121.444057 103.910428 \nL 121.489027 103.910428 \nL 121.713876 103.840691 \nL 121.803815 103.492006 \nL 122.073634 103.492006 \nL 122.073634 103.422269 \nL 122.703211 102.93411 \nL 123.017999 102.864373 \nL 123.332788 102.445951 \nL 123.422728 102.445951 \nL 123.467697 102.167002 \nL 123.512667 102.167002 \nL 123.962365 102.097265 \nL 124.052304 101.957791 \nL 124.277153 101.957791 \nL 124.367093 101.469632 \nL 124.457032 101.399895 \nL 124.457032 101.330158 \nL 124.90673 101.260421 \nL 124.99667 101.05121 \nL 125.311458 100.981473 \nL 125.401398 100.772262 \nL 125.806126 100.074892 \nL 126.345763 100.005155 \nL 126.390733 99.865681 \nL 126.525642 99.865681 \nL 126.615582 99.65647 \nL 126.660552 99.65647 \nL 126.705521 99.377522 \nL 126.750491 99.377522 \nL 126.840431 99.377522 \nL 126.8854 99.168311 \nL 127.470008 99.098574 \nL 127.559947 98.889363 \nL 127.604917 98.889363 \nL 127.604917 98.540678 \nL 127.829766 98.470941 \nL 127.919705 98.052519 \nL 128.594252 97.982782 \nL 128.639222 97.913045 \nL 129.403708 97.913045 \nL 129.493648 97.494623 \nL 129.538617 97.494623 \nL 129.538617 97.355149 \nL 129.763466 97.285412 \nL 129.763466 97.215675 \nL 129.853406 97.215675 \nL 129.988315 97.215675 \nL 130.078255 96.936727 \nL 130.482983 96.86699 \nL 130.527952 96.518305 \nL 130.662862 96.448568 \nL 130.752801 96.309094 \nL 130.97765 96.239357 \nL 131.06759 95.820934 \nL 131.562257 95.751197 \nL 131.652197 95.263038 \nL 131.922016 95.193301 \nL 132.011955 94.774879 \nL 132.101895 94.705142 \nL 132.146865 94.565668 \nL 132.551593 94.495931 \nL 132.596562 94.28672 \nL 133.09123 94.216983 \nL 133.09123 94.077509 \nL 133.181169 94.077509 \nL 133.406018 94.007772 \nL 133.495958 93.798561 \nL 134.170505 93.728824 \nL 134.170505 93.58935 \nL 134.350384 93.449876 \nL 134.395353 93.101191 \nL 134.440323 93.101191 \nL 134.620202 92.822243 \nL 134.800081 92.752506 \nL 134.800081 92.682769 \nL 134.890021 92.682769 \nL 135.249779 92.613032 \nL 135.249779 92.543295 \nL 135.609537 92.473558 \nL 135.699477 92.334084 \nL 135.744447 92.334084 \nL 135.744447 92.124873 \nL 135.789417 92.124873 \nL 136.104205 92.055136 \nL 136.104205 91.985399 \nL 136.329054 91.915662 \nL 136.374024 91.566977 \nL 136.508933 91.566977 \nL 136.508933 91.49724 \nL 136.553903 91.357766 \nL 136.823721 91.288029 \nL 136.823721 91.148555 \nL 136.913661 91.148555 \nL 137.363359 91.078818 \nL 137.453298 90.730133 \nL 137.678147 90.660396 \nL 137.678147 90.590659 \nL 139.07221 90.520922 \nL 139.07221 90.451185 \nL 139.342029 90.381448 \nL 139.342029 90.172237 \nL 139.431969 90.172237 \nL 140.151485 90.1025 \nL 140.196455 89.893289 \nL 140.286394 89.893289 \nL 140.376334 89.684078 \nL 140.556213 89.684078 \nL 140.556213 89.614341 \nL 140.781062 89.195918 \nL 141.050881 89.126181 \nL 141.09585 88.568285 \nL 141.18579 88.428811 \nL 141.365669 88.428811 \nL 141.410639 88.2196 \nL 141.860337 88.149863 \nL 141.950276 87.940652 \nL 141.995246 87.940652 \nL 141.995246 87.801178 \nL 142.175125 87.731441 \nL 142.175125 87.243282 \nL 142.265065 87.243282 \nL 142.579853 87.173545 \nL 142.579853 86.894597 \nL 142.669793 86.894597 \nL 142.894642 86.82486 \nL 144.018886 85.918279 \nL 144.378644 85.918279 \nL 144.378644 85.778805 \nL 144.873312 85.709068 \nL 144.918282 85.499857 \nL 145.502889 85.43012 \nL 145.502889 85.360383 \nL 145.547858 85.360383 \nL 145.862647 85.290646 \nL 145.862647 85.220909 \nL 146.312345 85.151172 \nL 146.312345 85.011698 \nL 146.402284 85.011698 \nL 146.492224 84.941961 \nL 146.986891 84.872224 \nL 146.986891 84.802487 \nL 147.391619 84.73275 \nL 147.436589 84.384065 \nL 147.571498 84.314328 \nL 147.571498 84.105117 \nL 147.751378 84.03538 \nL 147.751378 83.965643 \nL 147.796347 83.965643 \nL 148.066166 83.895906 \nL 148.380954 83.616958 \nL 148.425924 83.477484 \nL 148.695743 83.407747 \nL 148.740713 83.198536 \nL 148.785683 83.198536 \nL 148.830652 83.128799 \nL 149.32532 83.059061 \nL 149.415259 82.710376 \nL 149.819987 82.640639 \nL 149.909927 82.501165 \nL 150.224715 82.501165 \nL 150.314655 82.291954 \nL 150.539504 81.943269 \nL 150.719383 81.873532 \nL 150.809323 81.664321 \nL 150.854292 81.664321 \nL 150.854292 81.45511 \nL 151.079141 81.45511 \nL 151.169081 81.176162 \nL 151.618779 81.106425 \nL 151.618779 81.036688 \nL 151.888597 80.966951 \nL 151.978537 80.548529 \nL 152.068476 80.548529 \nL 152.113446 80.339318 \nL 152.248355 80.269581 \nL 152.248355 80.199844 \nL 152.293325 80.199844 \nL 152.428235 80.130107 \nL 152.518174 79.990633 \nL 152.922902 79.920896 \nL 153.3726 79.711685 \nL 153.777328 79.711685 \nL 153.777328 79.502474 \nL 153.957207 79.502474 \nL 154.047147 79.293263 \nL 154.137086 79.293263 \nL 154.227026 79.084052 \nL 154.361935 78.874841 \nL 154.631754 78.874841 \nL 154.631754 78.805104 \nL 154.811633 78.66563 \nL 155.081451 78.595893 \nL 155.800968 78.247208 \nL 155.845938 78.177471 \nL 156.115756 78.107734 \nL 156.250666 78.037997 \nL 156.745333 77.96826 \nL 156.745333 77.898523 \nL 156.790303 77.898523 \nL 157.284971 77.061679 \nL 157.779638 76.991942 \nL 157.869578 76.782731 \nL 158.184366 76.712994 \nL 158.184366 76.643256 \nL 158.409215 76.643256 \nL 158.454185 76.434045 \nL 158.589094 76.434045 \nL 158.589094 76.294571 \nL 158.634064 76.294571 \nL 159.308611 76.224834 \nL 159.35358 76.08536 \nL 159.713339 76.015623 \nL 159.893218 75.876149 \nL 160.208006 75.806412 \nL 160.252976 75.597201 \nL 160.432855 75.527464 \nL 160.432855 75.457727 \nL 160.477825 75.457727 \nL 160.792613 75.38799 \nL 160.882553 75.248516 \nL 160.927523 75.248516 \nL 161.017462 75.039305 \nL 161.37722 74.969568 \nL 161.37722 74.899831 \nL 161.5571 74.830094 \nL 161.5571 74.760357 \nL 161.826918 74.69062 \nL 161.826918 74.620883 \nL 162.186676 74.551146 \nL 162.591404 74.062987 \nL 162.681344 74.062987 \nL 162.771284 73.853776 \nL 163.131042 73.784039 \nL 163.220981 73.644565 \nL 163.355891 73.644565 \nL 163.44583 73.29588 \nL 164.165347 73.226143 \nL 164.165347 73.016932 \nL 164.255286 73.016932 \nL 164.390196 72.947195 \nL 164.570075 72.807721 \nL 165.019772 72.737984 \nL 165.019772 72.668247 \nL 165.064742 72.668247 \nL 165.154682 72.668247 \nL 165.244621 72.459036 \nL 165.289591 72.459036 \nL 165.289591 72.319562 \nL 165.51444 72.249825 \nL 165.784259 72.040614 \nL 165.874198 71.831403 \nL 166.099047 71.761666 \nL 166.233957 71.691929 \nL 166.323896 71.691929 \nL 166.323896 71.552455 \nL 166.413836 71.552455 \nL 166.863533 71.482718 \nL 167.088382 71.273507 \nL 167.313231 71.20377 \nL 167.313231 70.994559 \nL 167.49311 70.924822 \nL 167.58305 70.576137 \nL 167.717959 70.5064 \nL 167.762929 70.366926 \nL 168.032748 70.297189 \nL 168.032748 70.227451 \nL 168.392506 70.157714 \nL 168.392506 70.087977 \nL 168.842204 70.01824 \nL 168.842204 69.809029 \nL 168.932143 69.809029 \nL 169.112022 69.599818 \nL 169.471781 69.599818 \nL 169.56172 69.32087 \nL 169.741599 69.32087 \nL 169.741599 69.181396 \nL 169.786569 69.181396 \nL 169.921478 69.181396 \nL 169.921478 69.041922 \nL 170.416146 68.972185 \nL 170.461116 68.902448 \nL 170.596025 68.902448 \nL 170.596025 68.762974 \nL 170.685965 68.762974 \nL 170.910813 68.693237 \nL 170.955783 68.553763 \nL 171.855179 68.553763 \nL 171.855179 68.274815 \nL 172.035058 68.274815 \nL 172.035058 68.135341 \nL 172.169967 68.135341 \nL 172.169967 68.065604 \nL 172.259907 67.647182 \nL 172.439786 67.577445 \nL 172.484756 67.437971 \nL 172.709605 67.368234 \nL 172.709605 67.298497 \nL 173.339181 67.22876 \nL 173.339181 67.159023 \nL 173.69894 67.089286 \nL 173.69894 67.019549 \nL 173.878819 66.949812 \nL 173.923789 66.880075 \nL 174.103668 66.810338 \nL 174.103668 66.670864 \nL 174.283547 66.601127 \nL 174.283547 66.53139 \nL 174.373486 66.53139 \nL 174.508396 66.461653 \nL 174.598335 66.322179 \nL 174.688275 66.322179 \nL 174.733245 66.043231 \nL 175.003063 65.973494 \nL 175.093003 65.624809 \nL 175.272882 65.624809 \nL 175.272882 65.555072 \nL 175.362822 65.415598 \nL 175.76755 65.345861 \nL 175.76755 65.276124 \nL 175.947429 65.276124 \nL 175.947429 65.13665 \nL 176.127308 65.066913 \nL 176.172278 64.718228 \nL 176.891794 64.648491 \nL 176.891794 64.578754 \nL 177.161613 64.509017 \nL 177.161613 64.43928 \nL 177.296522 64.43928 \nL 177.296522 64.090595 \nL 177.386462 64.090595 \nL 177.926099 64.020858 \nL 177.971069 63.741909 \nL 178.061008 63.741909 \nL 178.061008 63.602435 \nL 178.420766 63.532698 \nL 178.465736 63.393224 \nL 178.960404 63.323487 \nL 178.960404 63.25375 \nL 179.050343 63.25375 \nL 179.185253 63.114276 \nL 179.72489 63.044539 \nL 179.72489 62.974802 \nL 180.084648 62.905065 \nL 180.084648 62.765591 \nL 180.309497 62.695854 \nL 180.309497 62.626117 \nL 180.984044 62.55638 \nL 180.984044 62.416906 \nL 181.298832 62.347169 \nL 181.298832 62.207695 \nL 181.388772 62.207695 \nL 181.70356 62.137958 \nL 181.7935 61.998484 \nL 182.063319 61.928747 \nL 182.153258 61.580062 \nL 182.423077 61.580062 \nL 182.468047 61.301114 \nL 182.602956 61.231377 \nL 182.647926 61.022166 \nL 182.917744 61.022166 \nL 183.007684 60.812955 \nL 183.232533 60.812955 \nL 183.322472 60.603744 \nL 183.592291 60.603744 \nL 183.682231 60.255059 \nL 183.7272 60.255059 \nL 183.7272 60.185322 \nL 183.77217 60.115585 \nL 184.401747 60.045848 \nL 184.851445 59.906374 \nL 184.941384 59.487952 \nL 184.986354 59.487952 \nL 184.986354 59.418215 \nL 185.076294 59.348478 \nL 185.436052 59.278741 \nL 185.436052 59.139267 \nL 185.525991 59.139267 \nL 185.660901 58.860319 \nL 185.75084 58.651108 \nL 185.88575 58.651108 \nL 186.020659 58.511634 \nL 186.605266 58.441897 \nL 186.605266 58.302423 \nL 186.650236 58.302423 \nL 187.504662 58.232686 \nL 187.504662 58.162949 \nL 187.81945 58.162949 \nL 187.90939 57.953738 \nL 188.314118 57.884001 \nL 188.314118 57.814264 \nL 188.404057 57.814264 \nL 188.763815 57.814264 \nL 188.763815 57.67479 \nL 189.303453 57.605053 \nL 189.348423 57.465578 \nL 189.438362 57.465578 \nL 189.438362 57.326104 \nL 189.483332 57.326104 \nL 190.472667 57.256367 \nL 190.472667 57.18663 \nL 190.697516 57.18663 \nL 190.787456 56.907682 \nL 191.282123 56.907682 \nL 191.327093 56.698471 \nL 191.82176 56.628734 \nL 191.95667 56.558997 \nL 192.046609 56.280049 \nL 192.226488 56.140575 \nL 192.586247 56.070838 \nL 192.676186 55.931364 \nL 192.856065 55.861627 \nL 192.901035 55.652416 \nL 193.620552 55.582679 \nL 193.710491 55.443205 \nL 193.800431 55.443205 \nL 193.8454 55.233994 \nL 194.02528 55.164257 \nL 194.02528 55.09452 \nL 194.295098 55.024783 \nL 194.340068 54.885309 \nL 194.699826 54.815572 \nL 194.699826 54.606361 \nL 194.789766 54.606361 \nL 194.879705 54.466887 \nL 195.239464 54.39715 \nL 195.284433 54.327413 \nL 195.689161 54.327413 \nL 195.779101 54.118202 \nL 196.363708 54.048465 \nL 196.363708 53.978728 \nL 196.678496 53.908991 \nL 196.678496 53.839254 \nL 196.903345 53.839254 \nL 196.903345 53.69978 \nL 197.128194 53.630043 \nL 197.128194 53.560306 \nL 197.622862 53.490569 \nL 198.02759 52.932673 \nL 198.387348 52.862936 \nL 198.432318 52.793199 \nL 198.926985 52.723462 \nL 198.926985 52.653725 \nL 199.016925 52.653725 \nL 199.421653 52.583988 \nL 199.421653 52.514251 \nL 199.466623 52.514251 \nL 199.556562 52.514251 \nL 199.736441 52.165566 \nL 199.96129 52.165566 \nL 199.96129 52.026092 \nL 200.00626 52.026092 \nL 200.410988 51.956355 \nL 200.725777 51.816881 \nL 201.355353 51.747144 \nL 201.400323 51.677407 \nL 201.715112 51.60767 \nL 201.715112 51.537933 \nL 201.805051 51.537933 \nL 202.569537 51.468196 \nL 202.569537 51.398459 \nL 202.749417 51.398459 \nL 202.974265 51.049773 \nL 203.199114 51.049773 \nL 203.199114 50.840562 \nL 203.289054 50.840562 \nL 203.603842 50.770825 \nL 203.603842 50.701088 \nL 204.278389 50.631351 \nL 204.323359 50.561614 \nL 204.773057 50.491877 \nL 205.312694 49.794507 \nL 205.537543 49.72477 \nL 205.627482 49.655033 \nL 206.346999 49.585296 \nL 206.346999 49.515559 \nL 206.616817 49.445822 \nL 206.616817 49.306348 \nL 206.886636 49.306348 \nL 206.886636 49.097137 \nL 206.976576 49.097137 \nL 207.201425 49.097137 \nL 207.291364 48.887926 \nL 207.696092 48.818189 \nL 207.786032 48.539241 \nL 207.831002 48.539241 \nL 207.831002 48.469504 \nL 208.460578 48.120819 \nL 209.270034 48.051082 \nL 209.359974 47.911608 \nL 209.809672 47.841871 \nL 209.944581 47.772134 \nL 210.304339 47.702397 \nL 210.349309 47.562923 \nL 210.439249 47.562923 \nL 210.574158 47.423449 \nL 210.799007 47.353712 \nL 210.799007 47.214238 \nL 211.653433 47.144501 \nL 211.653433 47.074764 \nL 211.878282 47.005027 \nL 212.372949 47.005027 \nL 212.372949 46.865553 \nL 212.957556 46.516868 \nL 214.081801 46.447131 \nL 214.351619 46.377394 \nL 215.026166 46.307657 \nL 215.026166 45.958972 \nL 215.071136 45.958972 \nL 215.340954 45.889235 \nL 215.430894 45.749761 \nL 215.790652 45.680024 \nL 215.880592 45.54055 \nL 216.015501 45.54055 \nL 216.060471 45.331339 \nL 216.33029 45.261602 \nL 216.420229 45.122128 \nL 217.499504 45.052391 \nL 217.544474 44.982654 \nL 217.814292 44.912917 \nL 217.814292 44.84318 \nL 217.904232 44.84318 \nL 218.30896 44.773443 \nL 218.938537 44.633968 \nL 219.972842 44.564231 \nL 220.017811 44.424757 \nL 220.692358 44.35502 \nL 220.692358 44.285283 \nL 220.737328 44.285283 \nL 221.276965 44.006335 \nL 221.501814 44.006335 \nL 221.591754 43.587913 \nL 221.636723 43.518176 \nL 222.671028 43.448439 \nL 222.671028 43.378702 \nL 223.390545 43.308965 \nL 223.390545 43.239228 \nL 223.975152 43.169491 \nL 224.065092 43.030017 \nL 225.054427 42.96028 \nL 225.054427 42.820806 \nL 225.099396 42.820806 \nL 225.369215 42.751069 \nL 225.459155 42.541858 \nL 225.953822 42.472121 \nL 226.043762 42.26291 \nL 227.482795 41.635277 \nL 228.33722 41.56554 \nL 228.33722 41.495803 \nL 228.38219 41.495803 \nL 228.562069 41.426066 \nL 228.562069 41.356329 \nL 229.056737 41.286592 \nL 229.056737 41.216855 \nL 229.371525 41.147118 \nL 229.371525 41.007644 \nL 230.765588 41.007644 \nL 230.765588 40.937907 \nL 230.810558 40.86817 \nL 231.575044 40.798433 \nL 231.575044 40.728696 \nL 231.664984 40.728696 \nL 231.844863 40.589222 \nL 232.204621 40.589222 \nL 232.294561 40.380011 \nL 232.744259 40.310274 \nL 232.744259 40.240537 \nL 232.834198 40.240537 \nL 233.014077 40.1708 \nL 233.014077 40.101063 \nL 233.958443 40.031326 \nL 234.048382 39.752378 \nL 234.093352 39.752378 \nL 234.138322 39.543167 \nL 234.902808 39.47343 \nL 235.127657 39.194482 \nL 235.217597 39.194482 \nL 235.217597 38.915534 \nL 235.397476 38.915534 \nL 235.442445 38.566849 \nL 235.757234 38.497112 \nL 235.757234 38.427375 \nL 235.847173 38.427375 \nL 236.431781 38.357638 \nL 236.431781 38.2879 \nL 236.47675 38.2879 \nL 236.971418 38.218163 \nL 236.971418 38.148426 \nL 237.016388 38.148426 \nL 237.915783 38.078689 \nL 237.915783 38.008952 \nL 238.005723 38.008952 \nL 238.50039 37.939215 \nL 238.50039 37.799741 \nL 238.59033 37.799741 \nL 239.669605 37.730004 \nL 239.669605 37.660267 \nL 239.939423 37.660267 \nL 239.939423 37.520793 \nL 239.984393 37.520793 \nL 240.793849 37.451056 \nL 240.838819 37.311582 \nL 242.053003 37.241845 \nL 242.277852 37.032634 \nL 243.222217 36.962897 \nL 243.222217 36.89316 \nL 244.301492 36.823423 \nL 244.301492 36.753686 \nL 244.391431 36.753686 \nL 244.526341 36.683949 \nL 244.796159 36.614212 \nL 245.200887 36.544475 \nL 245.200887 36.474738 \nL 245.290827 36.474738 \nL 245.695555 36.405001 \nL 245.695555 36.335264 \nL 247.044648 36.265527 \nL 247.044648 36.19579 \nL 247.089618 36.19579 \nL 247.854104 36.126053 \nL 247.854104 36.056316 \nL 249.248167 35.986579 \nL 249.248167 35.916842 \nL 249.293137 35.916842 \nL 250.012654 35.847105 \nL 250.012654 35.777368 \nL 250.102593 35.777368 \nL 250.462351 35.707631 \nL 250.507321 35.637894 \nL 252.306112 35.568157 \nL 252.306112 35.49842 \nL 252.485991 35.428683 \nL 252.575931 35.358946 \nL 253.790115 35.289209 \nL 253.790115 35.219472 \nL 253.925024 35.219472 \nL 253.925024 35.079998 \nL 253.969994 35.079998 \nL 255.004299 35.010261 \nL 255.498967 34.80105 \nL 256.263453 34.731313 \nL 256.263453 34.661576 \nL 256.353392 34.661576 \nL 258.422002 34.591839 \nL 258.556912 34.382628 \nL 259.276428 34.312891 \nL 259.276428 34.243154 \nL 259.321398 34.243154 \nL 259.950975 34.173417 \nL 259.950975 34.10368 \nL 260.040914 34.10368 \nL 260.445642 34.033943 \nL 260.445642 33.964206 \nL 261.075219 33.894469 \nL 261.075219 33.824732 \nL 261.165159 33.824732 \nL 261.749766 33.754995 \nL 261.839705 33.615521 \nL 262.109524 33.615521 \nL 262.199464 33.336573 \nL 263.953285 33.266836 \nL 264.178134 33.057625 \nL 265.257408 32.987888 \nL 265.257408 32.918151 \nL 265.347348 32.918151 \nL 266.156804 32.848414 \nL 266.156804 32.778677 \nL 266.741411 32.70894 \nL 267.191109 32.429992 \nL 267.820686 32.360255 \nL 267.820686 32.290518 \nL 268.270384 32.220781 \nL 268.270384 32.081307 \nL 269.529537 32.01157 \nL 269.529537 31.941833 \nL 269.619477 31.941833 \nL 270.204084 31.872095 \nL 270.249054 31.662884 \nL 270.294024 31.662884 \nL 270.743721 31.593147 \nL 270.743721 31.52341 \nL 272.092815 31.453673 \nL 272.092815 31.314199 \nL 272.182754 31.314199 \nL 273.306999 31.244462 \nL 273.306999 31.174725 \nL 273.936576 31.104988 \nL 273.936576 31.035251 \nL 274.880941 30.965514 \nL 274.925911 30.756303 \nL 276.544823 30.686566 \nL 276.544823 30.616829 \nL 276.589793 30.616829 \nL 277.489188 30.547092 \nL 277.489188 30.477355 \nL 277.579128 30.477355 \nL 277.714037 30.477355 \nL 277.759007 30.268144 \nL 278.028826 30.198407 \nL 278.118765 30.058933 \nL 278.658402 30.058933 \nL 278.658402 29.919459 \nL 279.19804 29.849722 \nL 279.19804 29.779985 \nL 280.367254 29.710248 \nL 280.367254 29.640511 \nL 282.031136 29.570774 \nL 282.121075 29.501037 \nL 285.718658 29.4313 \nL 285.763627 29.222089 \nL 286.842902 29.152352 \nL 286.842902 29.082615 \nL 287.112721 29.012878 \nL 287.112721 28.943141 \nL 287.742298 28.873404 \nL 287.742298 28.803667 \nL 287.832237 28.803667 \nL 288.102056 28.803667 \nL 288.281935 28.664193 \nL 288.371875 28.664193 \nL 288.461814 28.454982 \nL 289.810907 28.385245 \nL 289.810907 28.315508 \nL 289.900847 28.315508 \nL 291.38485 28.245771 \nL 291.519759 28.176034 \nL 291.654668 28.106297 \nL 291.654668 28.03656 \nL 293.45346 27.966823 \nL 293.45346 27.897086 \nL 293.948127 27.827349 \nL 293.948127 27.687875 \nL 294.038067 27.687875 \nL 296.151646 27.618138 \nL 296.151646 27.478664 \nL 296.871163 27.408927 \nL 296.871163 27.33919 \nL 299.43444 27.269453 \nL 299.47941 27.199716 \nL 302.177597 27.129979 \nL 302.357476 26.920768 \nL 303.032022 26.851031 \nL 303.706569 26.64182 \nL 305.50536 26.572083 \nL 305.50536 26.502346 \nL 305.55033 26.502346 \nL 306.314816 26.432609 \nL 306.449725 26.362872 \nL 307.888758 26.293135 \nL 307.933728 26.223398 \nL 309.057973 26.153661 \nL 309.057973 26.014187 \nL 311.171552 25.94445 \nL 311.171552 25.874713 \nL 311.216522 25.874713 \nL 313.959678 25.804976 \nL 314.049618 25.735239 \nL 314.229497 25.665502 \nL 314.634225 25.595765 \nL 317.73714 25.526028 \nL 317.73714 25.45629 \nL 317.78211 25.45629 \nL 321.154843 25.386553 \nL 321.154843 25.316816 \nL 321.199813 25.316816 \nL 322.458967 25.247079 \nL 322.503936 25.177342 \nL 323.673151 25.107605 \nL 323.673151 25.037868 \nL 323.76309 25.037868 \nL 324.707456 24.968131 \nL 324.752425 24.898394 \nL 325.696791 24.828657 \nL 325.696791 24.75892 \nL 327.85534 24.689183 \nL 327.90031 24.619446 \nL 328.664796 24.549709 \nL 328.754736 24.479972 \nL 332.172439 24.410235 \nL 332.172439 24.340498 \nL 333.431593 24.270761 \nL 333.431593 24.201024 \nL 334.420928 24.131287 \nL 334.420928 24.06155 \nL 334.465897 24.06155 \nL 337.433903 23.991813 \nL 337.433903 23.922076 \nL 337.478873 23.922076 \nL 338.108449 23.852339 \nL 338.198389 23.782602 \nL 338.468208 23.782602 \nL 338.468208 23.712865 \nL 338.513177 23.643128 \nL 342.830276 23.573391 \nL 342.830276 23.503654 \nL 342.875246 23.503654 \nL 345.078765 23.433917 \nL 345.123735 23.36418 \nL 346.11307 23.294443 \nL 346.11307 23.224706 \nL 346.472828 23.154969 \nL 346.472828 23.085232 \nL 346.517798 23.085232 \nL 350.20532 23.085232 \nL 350.295259 22.945758 \nL 352.498779 22.876021 \nL 352.498779 22.806284 \nL 352.588718 22.806284 \nL 361.088006 22.736547 \nL 361.088006 22.66681 \nL 361.852492 22.597073 \nL 361.852492 22.527336 \nL 375.523305 22.457599 \nL 375.658214 22.387862 \nL 378.58125 22.318125 \nL 378.58125 22.318125 \n\" style=\"fill:none;stroke:#1f77b4;stroke-linecap:square;stroke-width:1.5;\"/>\n   </g>\n   <g id=\"patch_3\">\n    <path d=\"M 43.78125 239.758125 \nL 43.78125 22.318125 \n\" style=\"fill:none;stroke:#000000;stroke-linecap:square;stroke-linejoin:miter;stroke-width:0.8;\"/>\n   </g>\n   <g id=\"patch_4\">\n    <path d=\"M 378.58125 239.758125 \nL 378.58125 22.318125 \n\" style=\"fill:none;stroke:#000000;stroke-linecap:square;stroke-linejoin:miter;stroke-width:0.8;\"/>\n   </g>\n   <g id=\"patch_5\">\n    <path d=\"M 43.78125 239.758125 \nL 378.58125 239.758125 \n\" style=\"fill:none;stroke:#000000;stroke-linecap:square;stroke-linejoin:miter;stroke-width:0.8;\"/>\n   </g>\n   <g id=\"patch_6\">\n    <path d=\"M 43.78125 22.318125 \nL 378.58125 22.318125 \n\" style=\"fill:none;stroke:#000000;stroke-linecap:square;stroke-linejoin:miter;stroke-width:0.8;\"/>\n   </g>\n   <g id=\"text_15\">\n    <!-- ROC curve for SLAFail classifier -->\n    <defs>\n     <path d=\"M 39.40625 66.21875 \nQ 28.65625 66.21875 22.328125 58.203125 \nQ 16.015625 50.203125 16.015625 36.375 \nQ 16.015625 22.609375 22.328125 14.59375 \nQ 28.65625 6.59375 39.40625 6.59375 \nQ 50.140625 6.59375 56.421875 14.59375 \nQ 62.703125 22.609375 62.703125 36.375 \nQ 62.703125 50.203125 56.421875 58.203125 \nQ 50.140625 66.21875 39.40625 66.21875 \nz\nM 39.40625 74.21875 \nQ 54.734375 74.21875 63.90625 63.9375 \nQ 73.09375 53.65625 73.09375 36.375 \nQ 73.09375 19.140625 63.90625 8.859375 \nQ 54.734375 -1.421875 39.40625 -1.421875 \nQ 24.03125 -1.421875 14.8125 8.828125 \nQ 5.609375 19.09375 5.609375 36.375 \nQ 5.609375 53.65625 14.8125 63.9375 \nQ 24.03125 74.21875 39.40625 74.21875 \nz\n\" id=\"DejaVuSans-79\"/>\n     <path d=\"M 64.40625 67.28125 \nL 64.40625 56.890625 \nQ 59.421875 61.53125 53.78125 63.8125 \nQ 48.140625 66.109375 41.796875 66.109375 \nQ 29.296875 66.109375 22.65625 58.46875 \nQ 16.015625 50.828125 16.015625 36.375 \nQ 16.015625 21.96875 22.65625 14.328125 \nQ 29.296875 6.6875 41.796875 6.6875 \nQ 48.140625 6.6875 53.78125 8.984375 \nQ 59.421875 11.28125 64.40625 15.921875 \nL 64.40625 5.609375 \nQ 59.234375 2.09375 53.4375 0.328125 \nQ 47.65625 -1.421875 41.21875 -1.421875 \nQ 24.65625 -1.421875 15.125 8.703125 \nQ 5.609375 18.84375 5.609375 36.375 \nQ 5.609375 53.953125 15.125 64.078125 \nQ 24.65625 74.21875 41.21875 74.21875 \nQ 47.75 74.21875 53.53125 72.484375 \nQ 59.328125 70.75 64.40625 67.28125 \nz\n\" id=\"DejaVuSans-67\"/>\n     <path d=\"M 9.8125 72.90625 \nL 19.671875 72.90625 \nL 19.671875 8.296875 \nL 55.171875 8.296875 \nL 55.171875 0 \nL 9.8125 0 \nz\n\" id=\"DejaVuSans-76\"/>\n     <path d=\"M 34.1875 63.1875 \nL 20.796875 26.90625 \nL 47.609375 26.90625 \nz\nM 28.609375 72.90625 \nL 39.796875 72.90625 \nL 67.578125 0 \nL 57.328125 0 \nL 50.6875 18.703125 \nL 17.828125 18.703125 \nL 11.1875 0 \nL 0.78125 0 \nz\n\" id=\"DejaVuSans-65\"/>\n    </defs>\n    <g transform=\"translate(117.200625 16.318125)scale(0.12 -0.12)\">\n     <use xlink:href=\"#DejaVuSans-82\"/>\n     <use x=\"69.482422\" xlink:href=\"#DejaVuSans-79\"/>\n     <use x=\"148.193359\" xlink:href=\"#DejaVuSans-67\"/>\n     <use x=\"218.017578\" xlink:href=\"#DejaVuSans-32\"/>\n     <use x=\"249.804688\" xlink:href=\"#DejaVuSans-99\"/>\n     <use x=\"304.785156\" xlink:href=\"#DejaVuSans-117\"/>\n     <use x=\"368.164062\" xlink:href=\"#DejaVuSans-114\"/>\n     <use x=\"409.277344\" xlink:href=\"#DejaVuSans-118\"/>\n     <use x=\"468.457031\" xlink:href=\"#DejaVuSans-101\"/>\n     <use x=\"529.980469\" xlink:href=\"#DejaVuSans-32\"/>\n     <use x=\"561.767578\" xlink:href=\"#DejaVuSans-102\"/>\n     <use x=\"596.972656\" xlink:href=\"#DejaVuSans-111\"/>\n     <use x=\"658.154297\" xlink:href=\"#DejaVuSans-114\"/>\n     <use x=\"699.267578\" xlink:href=\"#DejaVuSans-32\"/>\n     <use x=\"731.054688\" xlink:href=\"#DejaVuSans-83\"/>\n     <use x=\"794.53125\" xlink:href=\"#DejaVuSans-76\"/>\n     <use x=\"850.275391\" xlink:href=\"#DejaVuSans-65\"/>\n     <use x=\"918.683594\" xlink:href=\"#DejaVuSans-70\"/>\n     <use x=\"976.0625\" xlink:href=\"#DejaVuSans-97\"/>\n     <use x=\"1037.341797\" xlink:href=\"#DejaVuSans-105\"/>\n     <use x=\"1065.125\" xlink:href=\"#DejaVuSans-108\"/>\n     <use x=\"1092.908203\" xlink:href=\"#DejaVuSans-32\"/>\n     <use x=\"1124.695312\" xlink:href=\"#DejaVuSans-99\"/>\n     <use x=\"1179.675781\" xlink:href=\"#DejaVuSans-108\"/>\n     <use x=\"1207.458984\" xlink:href=\"#DejaVuSans-97\"/>\n     <use x=\"1268.738281\" xlink:href=\"#DejaVuSans-115\"/>\n     <use x=\"1320.837891\" xlink:href=\"#DejaVuSans-115\"/>\n     <use x=\"1372.9375\" xlink:href=\"#DejaVuSans-105\"/>\n     <use x=\"1400.720703\" xlink:href=\"#DejaVuSans-102\"/>\n     <use x=\"1435.925781\" xlink:href=\"#DejaVuSans-105\"/>\n     <use x=\"1463.708984\" xlink:href=\"#DejaVuSans-101\"/>\n     <use x=\"1525.232422\" xlink:href=\"#DejaVuSans-114\"/>\n    </g>\n   </g>\n  </g>\n </g>\n <defs>\n  <clipPath id=\"p6cfd6412b3\">\n   <rect height=\"217.44\" width=\"334.8\" x=\"43.78125\" y=\"22.318125\"/>\n  </clipPath>\n </defs>\n</svg>\n",
      "text/plain": "<Figure size 432x288 with 1 Axes>"
     },
     "metadata": {
      "needs_background": "light"
     },
     "output_type": "display_data"
    }
   ],
   "source": [
    "plt.plot(fpr, tpr)\n",
    "plt.xlim([0.0, 1.0])\n",
    "plt.ylim([0.0, 1.0])\n",
    "plt.title('ROC curve for SLAFail classifier')\n",
    "plt.xlabel('False Positive Rate (1 - Specificity)')\n",
    "plt.ylabel('True Positive Rate (Sensitivity)')\n",
    "plt.grid(True)"
   ]
  },
  {
   "cell_type": "markdown",
   "metadata": {},
   "source": [
    "Capture resulting AUC"
   ]
  },
  {
   "cell_type": "code",
   "execution_count": 64,
   "metadata": {},
   "outputs": [
    {
     "name": "stdout",
     "output_type": "stream",
     "text": "Metrics = AUC: 0.776684 \n"
    }
   ],
   "source": [
    "PipeLineMetadata['Metrics - AUC'] = metrics.roc_auc_score(y_test, y_pred_prob)\n",
    "print(\"Metrics = AUC: %f \" % PipeLineMetadata['Metrics - AUC']) "
   ]
  },
  {
   "cell_type": "markdown",
   "metadata": {},
   "source": [
    "## Save Details and Performance Measures for Comparison to other Models\n"
   ]
  },
  {
   "cell_type": "code",
   "execution_count": 65,
   "metadata": {},
   "outputs": [
    {
     "data": {
      "text/plain": "{'Name': 'Bare Bones with MEstimate Encoder',\n 'Column Transforms': ['mestimateencoder', 'standardscaler'],\n 'Classifier': LogisticRegression(C=1.0, class_weight=None, dual=False, fit_intercept=True,\n                    intercept_scaling=1, l1_ratio=None, max_iter=100,\n                    multi_class='auto', n_jobs=None, penalty='l2',\n                    random_state=None, solver='lbfgs', tol=0.0001, verbose=0,\n                    warm_start=False),\n 'Classifier - Intercept': -6.152021639324596,\n 'Classifier - Coefficients':                                    0\n Service_Component_WBS_aff   0.176063\n Urgency                     0.789836\n KM_number                   6.032809\n Count_Related_Interactions  4.427685\n Count_Related_Incidents     5.286315\n Count_Related_Changes       0.073164\n Open_Time_HourOfDay         0.184935\n Open_Time_DayOfWeek        -0.031457\n CI_TypeSubType_aff          0.002674,\n 'Metrics - Cross Validation Accuracy': 0.7308581862446744,\n 'Metrics - F1 score': 0.6585729428597232,\n 'Metrics - Confusion Matrix Classification Accuracy': 0.7424973965729433,\n 'Metrics - Confusion Matrix Classification Error': 0.25750260342705666,\n 'Metrics - Confusion Matrix True Positive Rate': 0.41789608723540733,\n 'Metrics - Confusion Matrix True Negative Rate': 0.8784419073203492,\n 'Metrics - Confusion Matrix False Positive Rate': 0.12155809267965077,\n 'Metrics - Confusion Matrix Precision': 0.5901268115942029,\n 'Metrics - ROC Curve fpr array': array([0.        , 0.        , 0.        , ..., 0.9985225 , 0.99892545,\n        1.        ]),\n 'Metrics - ROC Curve tpr array': array([0.00000000e+00, 3.20718409e-04, 2.88646568e-03, ...,\n        1.00000000e+00, 1.00000000e+00, 1.00000000e+00]),\n 'Metrics - AUC': 0.7766843316672059}"
     },
     "execution_count": 65,
     "metadata": {},
     "output_type": "execute_result"
    }
   ],
   "source": [
    "PipeLineMetadata"
   ]
  },
  {
   "cell_type": "code",
   "execution_count": 66,
   "metadata": {},
   "outputs": [],
   "source": [
    "with open(\"data/05.01.a BareBones MEst.pkl\",'wb') as fo:\n",
    "    pickle.dump(PipeLineMetadata, fo)"
   ]
  },
  {
   "cell_type": "code",
   "execution_count": 67,
   "metadata": {},
   "outputs": [],
   "source": [
    "# with open(\"data/05.01.a BareBones MEst\", 'rb') as fi:\n",
    "#    BareBonesMetadata = pickle.load(fi)"
   ]
  },
  {
   "cell_type": "code",
   "execution_count": null,
   "metadata": {},
   "outputs": [],
   "source": []
  }
 ]
}