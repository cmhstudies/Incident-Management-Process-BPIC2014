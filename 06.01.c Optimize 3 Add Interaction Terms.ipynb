{
 "nbformat": 4,
 "nbformat_minor": 2,
 "metadata": {
  "language_info": {
   "name": "python",
   "codemirror_mode": {
    "name": "ipython",
    "version": 3
   },
   "version": "3.7.6-final"
  },
  "orig_nbformat": 2,
  "file_extension": ".py",
  "mimetype": "text/x-python",
  "name": "python",
  "npconvert_exporter": "python",
  "pygments_lexer": "ipython3",
  "version": 3,
  "kernelspec": {
   "name": "python3",
   "display_name": "Python 3"
  }
 },
 "cells": [
  {
   "cell_type": "markdown",
   "metadata": {},
   "source": [
    "# 06.01.c Optimize 3: Adding Interaction Terms and Select on KBest\n",
    " \n",
    "Goal: identify the factors that most contribute to SLAFail\n",
    "\n",
    "Tuning Adjustments: Focus on finding the most predictive set of predictor variables\n",
    "\n",
    "Read Prepared Data  ->  Split Data  -> Develop Pipeline  ->  Evaluate  \n",
    "\n"
   ]
  },
  {
   "cell_type": "code",
   "execution_count": 1,
   "metadata": {},
   "outputs": [],
   "source": [
    "# create dictionary to store information about the pipeline and results for later reporting and review\n",
    "PipeLineMetadata = { \"Name\" : \"Optimize Round 3: Adding Interaction Terms\" }"
   ]
  },
  {
   "cell_type": "code",
   "execution_count": 41,
   "metadata": {},
   "outputs": [],
   "source": [
    "outFileName = \"data/06.00.c Add Interaction Terms.pkl\""
   ]
  },
  {
   "cell_type": "code",
   "execution_count": 3,
   "metadata": {},
   "outputs": [],
   "source": [
    "\n",
    "# Load libraries\n",
    "import pandas as pd\n",
    "import numpy as np\n",
    "import pickle\n",
    "pd.options.display.float_format = '{:.7f}'.format\n",
    "\n",
    "# allow plots to appear in the notebook\n",
    "%matplotlib inline\n",
    "import matplotlib.pyplot as plt\n",
    "\n",
    "from sklearn.model_selection import train_test_split\n",
    "\n",
    "from sklearn.compose import make_column_transformer\n",
    "import category_encoders as ce\n",
    "from sklearn.preprocessing import StandardScaler\n",
    "from sklearn.preprocessing import PolynomialFeatures\n",
    "\n",
    "from sklearn.feature_selection import SelectKBest, f_classif\n",
    "from sklearn.feature_selection import SelectFpr\n",
    "\n",
    "\n",
    "from sklearn.linear_model import LogisticRegression\n",
    "from sklearn.pipeline import Pipeline\n",
    "from sklearn.model_selection import GridSearchCV\n",
    "\n",
    "from sklearn.feature_selection import RFE\n",
    "\n",
    "from sklearn import metrics"
   ]
  },
  {
   "cell_type": "markdown",
   "metadata": {},
   "source": [
    "## Read Prepared Data"
   ]
  },
  {
   "cell_type": "code",
   "execution_count": 4,
   "metadata": {},
   "outputs": [
    {
     "name": "stdout",
     "output_type": "stream",
     "text": "df.shape: (35208, 10)\ndf.columns: Index(['Service_Component_WBS_aff', 'Urgency', 'KM_number',\n       'Count_Related_Interactions', 'Count_Related_Incidents',\n       'Count_Related_Changes', 'SLAFail', 'Open_Time_HourOfDay',\n       'Open_Time_DayOfWeek', 'CI_TypeSubType_aff'],\n      dtype='object')\ndf.dtypes: \nService_Component_WBS_aff      object\nUrgency                        object\nKM_number                      object\nCount_Related_Interactions    float64\nCount_Related_Incidents       float64\nCount_Related_Changes         float64\nSLAFail                         int64\nOpen_Time_HourOfDay             int64\nOpen_Time_DayOfWeek            object\nCI_TypeSubType_aff             object\ndtype: object\n"
    }
   ],
   "source": [
    "df = pd.read_csv(\"data/05.00 Incident Data.csv\")\n",
    "print(\"df.shape: \" + str(df.shape))\n",
    "print(\"df.columns: \" + str(df.columns))\n",
    "print(\"df.dtypes: \\n\" + str(df.dtypes))"
   ]
  },
  {
   "cell_type": "markdown",
   "metadata": {},
   "source": [
    "#### Set X and y"
   ]
  },
  {
   "cell_type": "code",
   "execution_count": 5,
   "metadata": {},
   "outputs": [
    {
     "data": {
      "text/plain": "(35208,)"
     },
     "execution_count": 5,
     "metadata": {},
     "output_type": "execute_result"
    }
   ],
   "source": [
    "y = df.SLAFail\n",
    "y.shape"
   ]
  },
  {
   "cell_type": "code",
   "execution_count": 6,
   "metadata": {},
   "outputs": [
    {
     "data": {
      "text/plain": "(35208, 9)"
     },
     "execution_count": 6,
     "metadata": {},
     "output_type": "execute_result"
    }
   ],
   "source": [
    "X = df.drop(['SLAFail'], axis='columns')\n",
    "X.shape"
   ]
  },
  {
   "cell_type": "markdown",
   "metadata": {},
   "source": [
    "Set `Open_Time_HourOfDay` for recognition as a Categorical variable"
   ]
  },
  {
   "cell_type": "code",
   "execution_count": 7,
   "metadata": {},
   "outputs": [
    {
     "data": {
      "text/plain": "Service_Component_WBS_aff      object\nUrgency                        object\nKM_number                      object\nCount_Related_Interactions    float64\nCount_Related_Incidents       float64\nCount_Related_Changes         float64\nOpen_Time_HourOfDay            object\nOpen_Time_DayOfWeek            object\nCI_TypeSubType_aff             object\ndtype: object"
     },
     "execution_count": 7,
     "metadata": {},
     "output_type": "execute_result"
    }
   ],
   "source": [
    "X.Open_Time_HourOfDay = X.Open_Time_HourOfDay.astype('object')\n",
    "X.dtypes"
   ]
  },
  {
   "cell_type": "markdown",
   "metadata": {},
   "source": [
    "Create a list of numeric variable column names"
   ]
  },
  {
   "cell_type": "code",
   "execution_count": 8,
   "metadata": {},
   "outputs": [
    {
     "data": {
      "text/plain": "Index(['Count_Related_Interactions', 'Count_Related_Incidents',\n       'Count_Related_Changes'],\n      dtype='object')"
     },
     "execution_count": 8,
     "metadata": {},
     "output_type": "execute_result"
    }
   ],
   "source": [
    "numericVars = X.select_dtypes(include=['float64']).columns\n",
    "numericVars"
   ]
  },
  {
   "cell_type": "markdown",
   "metadata": {},
   "source": [
    "Create a list of categorical variables"
   ]
  },
  {
   "cell_type": "code",
   "execution_count": 9,
   "metadata": {},
   "outputs": [
    {
     "data": {
      "text/plain": "Index(['Service_Component_WBS_aff', 'Urgency', 'KM_number',\n       'Open_Time_HourOfDay', 'Open_Time_DayOfWeek', 'CI_TypeSubType_aff'],\n      dtype='object')"
     },
     "execution_count": 9,
     "metadata": {},
     "output_type": "execute_result"
    }
   ],
   "source": [
    "categoricalVars = X.select_dtypes(include=['object']).columns\n",
    "categoricalVars"
   ]
  },
  {
   "cell_type": "markdown",
   "metadata": {},
   "source": [
    "## Split Data\n",
    "\n",
    "Create Training and Testing Data Sets\n"
   ]
  },
  {
   "cell_type": "code",
   "execution_count": 10,
   "metadata": {},
   "outputs": [],
   "source": [
    "\n",
    "X_train, X_test, y_train, y_test = train_test_split(X, y, test_size=0.3, random_state=2020)\n"
   ]
  },
  {
   "cell_type": "code",
   "execution_count": 11,
   "metadata": {},
   "outputs": [
    {
     "name": "stdout",
     "output_type": "stream",
     "text": "(24645, 9)\nIndex(['Service_Component_WBS_aff', 'Urgency', 'KM_number',\n       'Count_Related_Interactions', 'Count_Related_Incidents',\n       'Count_Related_Changes', 'Open_Time_HourOfDay', 'Open_Time_DayOfWeek',\n       'CI_TypeSubType_aff'],\n      dtype='object')\n"
    }
   ],
   "source": [
    "print(X_train.shape)\n",
    "print(X_train.columns)"
   ]
  },
  {
   "cell_type": "markdown",
   "metadata": {},
   "source": [
    "## Develop Pipeline\n"
   ]
  },
  {
   "cell_type": "markdown",
   "metadata": {},
   "source": [
    "### Encode Variables\n",
    "\n",
    "Numeric and categorical variables require different treatment \n",
    "\n",
    "Set up column transformer for scaling numeric variables and encoding categorical variables\n",
    "\n"
   ]
  },
  {
   "cell_type": "code",
   "execution_count": 12,
   "metadata": {},
   "outputs": [],
   "source": [
    "column_trans = make_column_transformer(\n",
    "    (ce.WOEEncoder(), categoricalVars),\n",
    "    (StandardScaler(), numericVars),\n",
    "    remainder='passthrough')"
   ]
  },
  {
   "cell_type": "markdown",
   "metadata": {},
   "source": [
    "### Feature Selection\n",
    "\n",
    "\n"
   ]
  },
  {
   "cell_type": "code",
   "execution_count": 13,
   "metadata": {},
   "outputs": [],
   "source": [
    "selector = SelectKBest(score_func=f_classif)"
   ]
  },
  {
   "cell_type": "markdown",
   "metadata": {},
   "source": [
    "### Configure for creating the Interaction Variables using PolynomialFeatures\n"
   ]
  },
  {
   "cell_type": "code",
   "execution_count": 14,
   "metadata": {},
   "outputs": [],
   "source": [
    "poly = PolynomialFeatures(interaction_only=True)"
   ]
  },
  {
   "cell_type": "markdown",
   "metadata": {},
   "source": [
    "### Specify Classifier (Logistic Regression)"
   ]
  },
  {
   "cell_type": "code",
   "execution_count": 15,
   "metadata": {},
   "outputs": [],
   "source": [
    "classifier = LogisticRegression(solver=\"lbfgs\")"
   ]
  },
  {
   "cell_type": "markdown",
   "metadata": {},
   "source": [
    "### Set Parameters for Grid Search Cross Validation"
   ]
  },
  {
   "cell_type": "code",
   "execution_count": 16,
   "metadata": {},
   "outputs": [],
   "source": [
    "# selectKBestRange = list(range(1, len(X_train.columns)+1 ))\n",
    "selectKBestRange = list(range(1, 55))"
   ]
  },
  {
   "cell_type": "markdown",
   "metadata": {},
   "source": [
    "### Compose Pipeline"
   ]
  },
  {
   "cell_type": "code",
   "execution_count": 17,
   "metadata": {},
   "outputs": [],
   "source": [
    "pipe = Pipeline(steps=[('column_trans', column_trans), \n",
    "                        ('poly',  poly),\n",
    "                        ('selector',  selector),\n",
    "                        ('classifier', classifier)\n",
    "                        ])"
   ]
  },
  {
   "cell_type": "markdown",
   "metadata": {},
   "source": [
    "### Create parameter grid\n"
   ]
  },
  {
   "cell_type": "code",
   "execution_count": 18,
   "metadata": {},
   "outputs": [],
   "source": [
    "param_grid = dict(selector__k=selectKBestRange)"
   ]
  },
  {
   "cell_type": "markdown",
   "metadata": {},
   "source": [
    "### Instantiate the search\n"
   ]
  },
  {
   "cell_type": "code",
   "execution_count": 19,
   "metadata": {},
   "outputs": [],
   "source": [
    "search = GridSearchCV(pipe, param_grid, n_jobs=1)"
   ]
  },
  {
   "cell_type": "code",
   "execution_count": 20,
   "metadata": {},
   "outputs": [
    {
     "data": {
      "text/plain": "GridSearchCV(cv=None, error_score=nan,\n             estimator=Pipeline(memory=None,\n                                steps=[('column_trans',\n                                        ColumnTransformer(n_jobs=None,\n                                                          remainder='passthrough',\n                                                          sparse_threshold=0.3,\n                                                          transformer_weights=None,\n                                                          transformers=[('woeencoder',\n                                                                         WOEEncoder(cols=None,\n                                                                                    drop_invariant=False,\n                                                                                    handle_missing='value',\n                                                                                    handle_unknown='value',\n                                                                                    random_state=None,\n                                                                                    randomized=False,\n                                                                                    regulari...\n                                                           multi_class='auto',\n                                                           n_jobs=None,\n                                                           penalty='l2',\n                                                           random_state=None,\n                                                           solver='lbfgs',\n                                                           tol=0.0001,\n                                                           verbose=0,\n                                                           warm_start=False))],\n                                verbose=False),\n             iid='deprecated', n_jobs=1,\n             param_grid={'selector__k': [1, 2, 3, 4, 5, 6, 7, 8, 9, 10, 11, 12,\n                                         13, 14, 15, 16, 17, 18, 19, 20, 21, 22,\n                                         23, 24, 25, 26, 27, 28, 29, 30, ...]},\n             pre_dispatch='2*n_jobs', refit=True, return_train_score=False,\n             scoring=None, verbose=0)"
     },
     "execution_count": 20,
     "metadata": {},
     "output_type": "execute_result"
    }
   ],
   "source": [
    "search.fit(X_train, y_train)"
   ]
  },
  {
   "cell_type": "code",
   "execution_count": 21,
   "metadata": {},
   "outputs": [
    {
     "data": {
      "text/plain": "LogisticRegression(C=1.0, class_weight=None, dual=False, fit_intercept=True,\n                   intercept_scaling=1, l1_ratio=None, max_iter=100,\n                   multi_class='auto', n_jobs=None, penalty='l2',\n                   random_state=None, solver='lbfgs', tol=0.0001, verbose=0,\n                   warm_start=False)"
     },
     "execution_count": 21,
     "metadata": {},
     "output_type": "execute_result"
    }
   ],
   "source": [
    "search.estimator.named_steps.classifier"
   ]
  },
  {
   "cell_type": "code",
   "execution_count": 22,
   "metadata": {},
   "outputs": [
    {
     "data": {
      "text/plain": "array([[ 1.59293354e-01,  2.91368383e-01,  1.11916076e+00,\n         1.35144148e+00,  1.32715945e+00,  5.55074960e-02,\n         6.52223487e-01,  4.12747947e-02, -2.23711213e-02,\n        -7.06769881e-02, -8.62674909e-02,  5.39840844e-01,\n        -1.45471602e-02,  1.39538363e-01,  1.26602364e-01,\n         1.19745197e-01, -4.21114140e-02, -5.79452623e-02,\n        -1.42263843e-01, -1.99340922e-01, -4.80149840e-01,\n         6.53363482e-01, -4.52856027e-02, -4.90327229e-04,\n        -5.64893436e-01, -2.03455219e-01, -7.12555558e-02,\n        -4.06959906e-03, -7.27932745e-02,  5.94271895e-02,\n         1.63117229e+00, -2.67207424e-01,  1.67434428e+00,\n        -4.41346203e-02,  1.62837382e-03,  8.02638862e-02,\n         7.85155008e-01, -1.36917851e-01, -1.42411097e-01,\n         8.68015178e-02,  1.48028904e-01,  8.06941782e-02,\n        -2.01599716e-02, -4.43875605e-02,  1.83345568e-02]])"
     },
     "execution_count": 22,
     "metadata": {},
     "output_type": "execute_result"
    }
   ],
   "source": [
    "search.best_estimator_.named_steps.classifier.coef_"
   ]
  },
  {
   "cell_type": "code",
   "execution_count": 23,
   "metadata": {},
   "outputs": [
    {
     "name": "stdout",
     "output_type": "stream",
     "text": "Best parameter (CV score=0.745): {'selector__k': 45}\n"
    }
   ],
   "source": [
    "print(\"Best parameter (CV score=%0.3f): %s\" % (search.best_score_, search.best_params_))"
   ]
  },
  {
   "cell_type": "code",
   "execution_count": 24,
   "metadata": {},
   "outputs": [
    {
     "data": {
      "text/html": "<div>\n<style scoped>\n    .dataframe tbody tr th:only-of-type {\n        vertical-align: middle;\n    }\n\n    .dataframe tbody tr th {\n        vertical-align: top;\n    }\n\n    .dataframe thead th {\n        text-align: right;\n    }\n</style>\n<table border=\"1\" class=\"dataframe\">\n  <thead>\n    <tr style=\"text-align: right;\">\n      <th></th>\n      <th>mean_test_score</th>\n      <th>std_test_score</th>\n      <th>params</th>\n    </tr>\n  </thead>\n  <tbody>\n    <tr>\n      <th>0</th>\n      <td>0.7148712</td>\n      <td>0.0065384</td>\n      <td>{'selector__k': 1}</td>\n    </tr>\n    <tr>\n      <th>1</th>\n      <td>0.7156827</td>\n      <td>0.0039436</td>\n      <td>{'selector__k': 2}</td>\n    </tr>\n    <tr>\n      <th>2</th>\n      <td>0.7157638</td>\n      <td>0.0039298</td>\n      <td>{'selector__k': 3}</td>\n    </tr>\n    <tr>\n      <th>3</th>\n      <td>0.7332522</td>\n      <td>0.0056609</td>\n      <td>{'selector__k': 4}</td>\n    </tr>\n    <tr>\n      <th>4</th>\n      <td>0.7349158</td>\n      <td>0.0036913</td>\n      <td>{'selector__k': 5}</td>\n    </tr>\n    <tr>\n      <th>5</th>\n      <td>0.7359302</td>\n      <td>0.0027894</td>\n      <td>{'selector__k': 6}</td>\n    </tr>\n    <tr>\n      <th>6</th>\n      <td>0.7353216</td>\n      <td>0.0029220</td>\n      <td>{'selector__k': 7}</td>\n    </tr>\n    <tr>\n      <th>7</th>\n      <td>0.7358491</td>\n      <td>0.0029679</td>\n      <td>{'selector__k': 8}</td>\n    </tr>\n    <tr>\n      <th>8</th>\n      <td>0.7368229</td>\n      <td>0.0028211</td>\n      <td>{'selector__k': 9}</td>\n    </tr>\n    <tr>\n      <th>9</th>\n      <td>0.7373098</td>\n      <td>0.0028241</td>\n      <td>{'selector__k': 10}</td>\n    </tr>\n    <tr>\n      <th>10</th>\n      <td>0.7378373</td>\n      <td>0.0031467</td>\n      <td>{'selector__k': 11}</td>\n    </tr>\n    <tr>\n      <th>11</th>\n      <td>0.7386488</td>\n      <td>0.0031467</td>\n      <td>{'selector__k': 12}</td>\n    </tr>\n    <tr>\n      <th>12</th>\n      <td>0.7387300</td>\n      <td>0.0030130</td>\n      <td>{'selector__k': 13}</td>\n    </tr>\n    <tr>\n      <th>13</th>\n      <td>0.7388111</td>\n      <td>0.0031420</td>\n      <td>{'selector__k': 14}</td>\n    </tr>\n    <tr>\n      <th>14</th>\n      <td>0.7399473</td>\n      <td>0.0017234</td>\n      <td>{'selector__k': 15}</td>\n    </tr>\n    <tr>\n      <th>15</th>\n      <td>0.7397444</td>\n      <td>0.0015578</td>\n      <td>{'selector__k': 16}</td>\n    </tr>\n    <tr>\n      <th>16</th>\n      <td>0.7402719</td>\n      <td>0.0015312</td>\n      <td>{'selector__k': 17}</td>\n    </tr>\n    <tr>\n      <th>17</th>\n      <td>0.7400284</td>\n      <td>0.0022577</td>\n      <td>{'selector__k': 18}</td>\n    </tr>\n    <tr>\n      <th>18</th>\n      <td>0.7397444</td>\n      <td>0.0020223</td>\n      <td>{'selector__k': 19}</td>\n    </tr>\n    <tr>\n      <th>19</th>\n      <td>0.7404342</td>\n      <td>0.0027478</td>\n      <td>{'selector__k': 20}</td>\n    </tr>\n    <tr>\n      <th>20</th>\n      <td>0.7405153</td>\n      <td>0.0021123</td>\n      <td>{'selector__k': 21}</td>\n    </tr>\n    <tr>\n      <th>21</th>\n      <td>0.7412051</td>\n      <td>0.0016057</td>\n      <td>{'selector__k': 22}</td>\n    </tr>\n    <tr>\n      <th>22</th>\n      <td>0.7410428</td>\n      <td>0.0020793</td>\n      <td>{'selector__k': 23}</td>\n    </tr>\n    <tr>\n      <th>23</th>\n      <td>0.7410834</td>\n      <td>0.0022968</td>\n      <td>{'selector__k': 24}</td>\n    </tr>\n    <tr>\n      <th>24</th>\n      <td>0.7412863</td>\n      <td>0.0030185</td>\n      <td>{'selector__k': 25}</td>\n    </tr>\n    <tr>\n      <th>25</th>\n      <td>0.7411240</td>\n      <td>0.0031587</td>\n      <td>{'selector__k': 26}</td>\n    </tr>\n    <tr>\n      <th>26</th>\n      <td>0.7407182</td>\n      <td>0.0036900</td>\n      <td>{'selector__k': 27}</td>\n    </tr>\n    <tr>\n      <th>27</th>\n      <td>0.7408805</td>\n      <td>0.0035406</td>\n      <td>{'selector__k': 28}</td>\n    </tr>\n    <tr>\n      <th>28</th>\n      <td>0.7407182</td>\n      <td>0.0038643</td>\n      <td>{'selector__k': 29}</td>\n    </tr>\n    <tr>\n      <th>29</th>\n      <td>0.7408399</td>\n      <td>0.0039164</td>\n      <td>{'selector__k': 30}</td>\n    </tr>\n    <tr>\n      <th>30</th>\n      <td>0.7413674</td>\n      <td>0.0049917</td>\n      <td>{'selector__k': 31}</td>\n    </tr>\n    <tr>\n      <th>31</th>\n      <td>0.7416109</td>\n      <td>0.0044070</td>\n      <td>{'selector__k': 32}</td>\n    </tr>\n    <tr>\n      <th>32</th>\n      <td>0.7413674</td>\n      <td>0.0045896</td>\n      <td>{'selector__k': 33}</td>\n    </tr>\n    <tr>\n      <th>33</th>\n      <td>0.7421789</td>\n      <td>0.0044696</td>\n      <td>{'selector__k': 34}</td>\n    </tr>\n    <tr>\n      <th>34</th>\n      <td>0.7418543</td>\n      <td>0.0047901</td>\n      <td>{'selector__k': 35}</td>\n    </tr>\n    <tr>\n      <th>35</th>\n      <td>0.7425036</td>\n      <td>0.0046235</td>\n      <td>{'selector__k': 36}</td>\n    </tr>\n    <tr>\n      <th>36</th>\n      <td>0.7421789</td>\n      <td>0.0044178</td>\n      <td>{'selector__k': 37}</td>\n    </tr>\n    <tr>\n      <th>37</th>\n      <td>0.7421384</td>\n      <td>0.0042769</td>\n      <td>{'selector__k': 38}</td>\n    </tr>\n    <tr>\n      <th>38</th>\n      <td>0.7420978</td>\n      <td>0.0046502</td>\n      <td>{'selector__k': 39}</td>\n    </tr>\n    <tr>\n      <th>39</th>\n      <td>0.7430310</td>\n      <td>0.0041332</td>\n      <td>{'selector__k': 40}</td>\n    </tr>\n    <tr>\n      <th>40</th>\n      <td>0.7431528</td>\n      <td>0.0044836</td>\n      <td>{'selector__k': 41}</td>\n    </tr>\n    <tr>\n      <th>41</th>\n      <td>0.7439237</td>\n      <td>0.0050832</td>\n      <td>{'selector__k': 42}</td>\n    </tr>\n    <tr>\n      <th>42</th>\n      <td>0.7440454</td>\n      <td>0.0050265</td>\n      <td>{'selector__k': 43}</td>\n    </tr>\n    <tr>\n      <th>43</th>\n      <td>0.7441266</td>\n      <td>0.0054004</td>\n      <td>{'selector__k': 44}</td>\n    </tr>\n    <tr>\n      <th>44</th>\n      <td>0.7446541</td>\n      <td>0.0055969</td>\n      <td>{'selector__k': 45}</td>\n    </tr>\n    <tr>\n      <th>45</th>\n      <td>0.7443295</td>\n      <td>0.0056142</td>\n      <td>{'selector__k': 46}</td>\n    </tr>\n    <tr>\n      <th>46</th>\n      <td>nan</td>\n      <td>nan</td>\n      <td>{'selector__k': 47}</td>\n    </tr>\n    <tr>\n      <th>47</th>\n      <td>nan</td>\n      <td>nan</td>\n      <td>{'selector__k': 48}</td>\n    </tr>\n    <tr>\n      <th>48</th>\n      <td>nan</td>\n      <td>nan</td>\n      <td>{'selector__k': 49}</td>\n    </tr>\n    <tr>\n      <th>49</th>\n      <td>nan</td>\n      <td>nan</td>\n      <td>{'selector__k': 50}</td>\n    </tr>\n    <tr>\n      <th>50</th>\n      <td>nan</td>\n      <td>nan</td>\n      <td>{'selector__k': 51}</td>\n    </tr>\n    <tr>\n      <th>51</th>\n      <td>nan</td>\n      <td>nan</td>\n      <td>{'selector__k': 52}</td>\n    </tr>\n    <tr>\n      <th>52</th>\n      <td>nan</td>\n      <td>nan</td>\n      <td>{'selector__k': 53}</td>\n    </tr>\n    <tr>\n      <th>53</th>\n      <td>nan</td>\n      <td>nan</td>\n      <td>{'selector__k': 54}</td>\n    </tr>\n  </tbody>\n</table>\n</div>",
      "text/plain": "    mean_test_score  std_test_score               params\n0         0.7148712       0.0065384   {'selector__k': 1}\n1         0.7156827       0.0039436   {'selector__k': 2}\n2         0.7157638       0.0039298   {'selector__k': 3}\n3         0.7332522       0.0056609   {'selector__k': 4}\n4         0.7349158       0.0036913   {'selector__k': 5}\n5         0.7359302       0.0027894   {'selector__k': 6}\n6         0.7353216       0.0029220   {'selector__k': 7}\n7         0.7358491       0.0029679   {'selector__k': 8}\n8         0.7368229       0.0028211   {'selector__k': 9}\n9         0.7373098       0.0028241  {'selector__k': 10}\n10        0.7378373       0.0031467  {'selector__k': 11}\n11        0.7386488       0.0031467  {'selector__k': 12}\n12        0.7387300       0.0030130  {'selector__k': 13}\n13        0.7388111       0.0031420  {'selector__k': 14}\n14        0.7399473       0.0017234  {'selector__k': 15}\n15        0.7397444       0.0015578  {'selector__k': 16}\n16        0.7402719       0.0015312  {'selector__k': 17}\n17        0.7400284       0.0022577  {'selector__k': 18}\n18        0.7397444       0.0020223  {'selector__k': 19}\n19        0.7404342       0.0027478  {'selector__k': 20}\n20        0.7405153       0.0021123  {'selector__k': 21}\n21        0.7412051       0.0016057  {'selector__k': 22}\n22        0.7410428       0.0020793  {'selector__k': 23}\n23        0.7410834       0.0022968  {'selector__k': 24}\n24        0.7412863       0.0030185  {'selector__k': 25}\n25        0.7411240       0.0031587  {'selector__k': 26}\n26        0.7407182       0.0036900  {'selector__k': 27}\n27        0.7408805       0.0035406  {'selector__k': 28}\n28        0.7407182       0.0038643  {'selector__k': 29}\n29        0.7408399       0.0039164  {'selector__k': 30}\n30        0.7413674       0.0049917  {'selector__k': 31}\n31        0.7416109       0.0044070  {'selector__k': 32}\n32        0.7413674       0.0045896  {'selector__k': 33}\n33        0.7421789       0.0044696  {'selector__k': 34}\n34        0.7418543       0.0047901  {'selector__k': 35}\n35        0.7425036       0.0046235  {'selector__k': 36}\n36        0.7421789       0.0044178  {'selector__k': 37}\n37        0.7421384       0.0042769  {'selector__k': 38}\n38        0.7420978       0.0046502  {'selector__k': 39}\n39        0.7430310       0.0041332  {'selector__k': 40}\n40        0.7431528       0.0044836  {'selector__k': 41}\n41        0.7439237       0.0050832  {'selector__k': 42}\n42        0.7440454       0.0050265  {'selector__k': 43}\n43        0.7441266       0.0054004  {'selector__k': 44}\n44        0.7446541       0.0055969  {'selector__k': 45}\n45        0.7443295       0.0056142  {'selector__k': 46}\n46              nan             nan  {'selector__k': 47}\n47              nan             nan  {'selector__k': 48}\n48              nan             nan  {'selector__k': 49}\n49              nan             nan  {'selector__k': 50}\n50              nan             nan  {'selector__k': 51}\n51              nan             nan  {'selector__k': 52}\n52              nan             nan  {'selector__k': 53}\n53              nan             nan  {'selector__k': 54}"
     },
     "execution_count": 24,
     "metadata": {},
     "output_type": "execute_result"
    }
   ],
   "source": [
    "searchCVResults = pd.DataFrame(search.cv_results_)[['mean_test_score', 'std_test_score', 'params']]\n",
    "searchCVResults"
   ]
  },
  {
   "cell_type": "markdown",
   "metadata": {},
   "source": [
    "## Evaluate with Testing Data\n",
    "\n",
    "Get predicted classification and predicted probabilities based on the model"
   ]
  },
  {
   "cell_type": "code",
   "execution_count": 25,
   "metadata": {},
   "outputs": [],
   "source": [
    "y_pred_class = search.predict(X_test)\n"
   ]
  },
  {
   "cell_type": "code",
   "execution_count": 26,
   "metadata": {},
   "outputs": [],
   "source": [
    "y_pred_prob = search.predict_proba(X_test)[:,1]\n",
    "\n"
   ]
  },
  {
   "cell_type": "code",
   "execution_count": 27,
   "metadata": {},
   "outputs": [
    {
     "name": "stdout",
     "output_type": "stream",
     "text": "precision    recall  f1-score   support\n\n           0       0.79      0.89      0.83      7445\n           1       0.62      0.42      0.50      3118\n\n    accuracy                           0.75     10563\n   macro avg       0.70      0.66      0.67     10563\nweighted avg       0.74      0.75      0.74     10563\n\n"
    }
   ],
   "source": [
    "print(metrics.classification_report(y_test, y_pred_class))"
   ]
  },
  {
   "cell_type": "markdown",
   "metadata": {},
   "source": [
    "Look at the resulting confusion matrix\n",
    "\n",
    "Save True Positive (TP), True Negative (TN), False Positive(FP), and False Negative (FN) values"
   ]
  },
  {
   "cell_type": "code",
   "execution_count": 28,
   "metadata": {},
   "outputs": [
    {
     "name": "stdout",
     "output_type": "stream",
     "text": "[[6628  817]\n [1805 1313]]\nTN: 6628 \t FP: 817 \nFN: 1805 \t TP: 1313 \n"
    }
   ],
   "source": [
    "confusion = metrics.confusion_matrix(y_test, y_pred_class)\n",
    "TP = confusion[1, 1]\n",
    "TN = confusion[0, 0]\n",
    "FP = confusion[0, 1]\n",
    "FN = confusion[1, 0]\n",
    "print(confusion)\n",
    "print(\"TN: %d \\t FP: %d \\nFN: %d \\t TP: %d \" % (TN, FP, FN, TP))"
   ]
  },
  {
   "cell_type": "markdown",
   "metadata": {},
   "source": [
    "Capture resulting AUC"
   ]
  },
  {
   "cell_type": "code",
   "execution_count": 29,
   "metadata": {},
   "outputs": [
    {
     "data": {
      "text/plain": "0.7866722869570348"
     },
     "execution_count": 29,
     "metadata": {},
     "output_type": "execute_result"
    }
   ],
   "source": [
    "fpr, tpr, thresholds = metrics.roc_curve(y_test, y_pred_prob)\n",
    "metrics.roc_auc_score(y_test, y_pred_prob)"
   ]
  },
  {
   "cell_type": "code",
   "execution_count": 30,
   "metadata": {},
   "outputs": [
    {
     "data": {
      "image/png": "[encoded data removed]",
      "image/svg+xml": "<?xml version=\"1.0\" encoding=\"utf-8\" standalone=\"no\"?>\n<!DOCTYPE svg PUBLIC \"-//W3C//DTD SVG 1.1//EN\"\n  \"http://www.w3.org/Graphics/SVG/1.1/DTD/svg11.dtd\">\n<!-- Created with matplotlib (https://matplotlib.org/) -->\n<svg height=\"277.314375pt\" version=\"1.1\" viewBox=\"0 0 393.732813 277.314375\" width=\"393.732813pt\" xmlns=\"http://www.w3.org/2000/svg\" xmlns:xlink=\"http://www.w3.org/1999/xlink\">\n <defs>\n  <style type=\"text/css\">\n*{stroke-linecap:butt;stroke-linejoin:round;}\n  </style>\n </defs>\n <g id=\"figure_1\">\n  <g id=\"patch_1\">\n   <path d=\"M 0 277.314375 \nL 393.732813 277.314375 \nL 393.732813 0 \nL 0 0 \nz\n\" style=\"fill:none;\"/>\n  </g>\n  <g id=\"axes_1\">\n   <g id=\"patch_2\">\n    <path d=\"M 43.78125 239.758125 \nL 378.58125 239.758125 \nL 378.58125 22.318125 \nL 43.78125 22.318125 \nz\n\" style=\"fill:#ffffff;\"/>\n   </g>\n   <g id=\"matplotlib.axis_1\">\n    <g id=\"xtick_1\">\n     <g id=\"line2d_1\">\n      <path clip-path=\"url(#pa44b6b48f2)\" d=\"M 43.78125 239.758125 \nL 43.78125 22.318125 \n\" style=\"fill:none;stroke:#b0b0b0;stroke-linecap:square;stroke-width:0.8;\"/>\n     </g>\n     <g id=\"line2d_2\">\n      <defs>\n       <path d=\"M 0 0 \nL 0 3.5 \n\" id=\"m92ec30248a\" style=\"stroke:#000000;stroke-width:0.8;\"/>\n      </defs>\n      <g>\n       <use style=\"stroke:#000000;stroke-width:0.8;\" x=\"43.78125\" xlink:href=\"#m92ec30248a\" y=\"239.758125\"/>\n      </g>\n     </g>\n     <g id=\"text_1\">\n      <!-- 0.0 -->\n      <defs>\n       <path d=\"M 31.78125 66.40625 \nQ 24.171875 66.40625 20.328125 58.90625 \nQ 16.5 51.421875 16.5 36.375 \nQ 16.5 21.390625 20.328125 13.890625 \nQ 24.171875 6.390625 31.78125 6.390625 \nQ 39.453125 6.390625 43.28125 13.890625 \nQ 47.125 21.390625 47.125 36.375 \nQ 47.125 51.421875 43.28125 58.90625 \nQ 39.453125 66.40625 31.78125 66.40625 \nz\nM 31.78125 74.21875 \nQ 44.046875 74.21875 50.515625 64.515625 \nQ 56.984375 54.828125 56.984375 36.375 \nQ 56.984375 17.96875 50.515625 8.265625 \nQ 44.046875 -1.421875 31.78125 -1.421875 \nQ 19.53125 -1.421875 13.0625 8.265625 \nQ 6.59375 17.96875 6.59375 36.375 \nQ 6.59375 54.828125 13.0625 64.515625 \nQ 19.53125 74.21875 31.78125 74.21875 \nz\n\" id=\"DejaVuSans-48\"/>\n       <path d=\"M 10.6875 12.40625 \nL 21 12.40625 \nL 21 0 \nL 10.6875 0 \nz\n\" id=\"DejaVuSans-46\"/>\n      </defs>\n      <g transform=\"translate(35.829688 254.356562)scale(0.1 -0.1)\">\n       <use xlink:href=\"#DejaVuSans-48\"/>\n       <use x=\"63.623047\" xlink:href=\"#DejaVuSans-46\"/>\n       <use x=\"95.410156\" xlink:href=\"#DejaVuSans-48\"/>\n      </g>\n     </g>\n    </g>\n    <g id=\"xtick_2\">\n     <g id=\"line2d_3\">\n      <path clip-path=\"url(#pa44b6b48f2)\" d=\"M 110.74125 239.758125 \nL 110.74125 22.318125 \n\" style=\"fill:none;stroke:#b0b0b0;stroke-linecap:square;stroke-width:0.8;\"/>\n     </g>\n     <g id=\"line2d_4\">\n      <g>\n       <use style=\"stroke:#000000;stroke-width:0.8;\" x=\"110.74125\" xlink:href=\"#m92ec30248a\" y=\"239.758125\"/>\n      </g>\n     </g>\n     <g id=\"text_2\">\n      <!-- 0.2 -->\n      <defs>\n       <path d=\"M 19.1875 8.296875 \nL 53.609375 8.296875 \nL 53.609375 0 \nL 7.328125 0 \nL 7.328125 8.296875 \nQ 12.9375 14.109375 22.625 23.890625 \nQ 32.328125 33.6875 34.8125 36.53125 \nQ 39.546875 41.84375 41.421875 45.53125 \nQ 43.3125 49.21875 43.3125 52.78125 \nQ 43.3125 58.59375 39.234375 62.25 \nQ 35.15625 65.921875 28.609375 65.921875 \nQ 23.96875 65.921875 18.8125 64.3125 \nQ 13.671875 62.703125 7.8125 59.421875 \nL 7.8125 69.390625 \nQ 13.765625 71.78125 18.9375 73 \nQ 24.125 74.21875 28.421875 74.21875 \nQ 39.75 74.21875 46.484375 68.546875 \nQ 53.21875 62.890625 53.21875 53.421875 \nQ 53.21875 48.921875 51.53125 44.890625 \nQ 49.859375 40.875 45.40625 35.40625 \nQ 44.1875 33.984375 37.640625 27.21875 \nQ 31.109375 20.453125 19.1875 8.296875 \nz\n\" id=\"DejaVuSans-50\"/>\n      </defs>\n      <g transform=\"translate(102.789688 254.356562)scale(0.1 -0.1)\">\n       <use xlink:href=\"#DejaVuSans-48\"/>\n       <use x=\"63.623047\" xlink:href=\"#DejaVuSans-46\"/>\n       <use x=\"95.410156\" xlink:href=\"#DejaVuSans-50\"/>\n      </g>\n     </g>\n    </g>\n    <g id=\"xtick_3\">\n     <g id=\"line2d_5\">\n      <path clip-path=\"url(#pa44b6b48f2)\" d=\"M 177.70125 239.758125 \nL 177.70125 22.318125 \n\" style=\"fill:none;stroke:#b0b0b0;stroke-linecap:square;stroke-width:0.8;\"/>\n     </g>\n     <g id=\"line2d_6\">\n      <g>\n       <use style=\"stroke:#000000;stroke-width:0.8;\" x=\"177.70125\" xlink:href=\"#m92ec30248a\" y=\"239.758125\"/>\n      </g>\n     </g>\n     <g id=\"text_3\">\n      <!-- 0.4 -->\n      <defs>\n       <path d=\"M 37.796875 64.3125 \nL 12.890625 25.390625 \nL 37.796875 25.390625 \nz\nM 35.203125 72.90625 \nL 47.609375 72.90625 \nL 47.609375 25.390625 \nL 58.015625 25.390625 \nL 58.015625 17.1875 \nL 47.609375 17.1875 \nL 47.609375 0 \nL 37.796875 0 \nL 37.796875 17.1875 \nL 4.890625 17.1875 \nL 4.890625 26.703125 \nz\n\" id=\"DejaVuSans-52\"/>\n      </defs>\n      <g transform=\"translate(169.749688 254.356562)scale(0.1 -0.1)\">\n       <use xlink:href=\"#DejaVuSans-48\"/>\n       <use x=\"63.623047\" xlink:href=\"#DejaVuSans-46\"/>\n       <use x=\"95.410156\" xlink:href=\"#DejaVuSans-52\"/>\n      </g>\n     </g>\n    </g>\n    <g id=\"xtick_4\">\n     <g id=\"line2d_7\">\n      <path clip-path=\"url(#pa44b6b48f2)\" d=\"M 244.66125 239.758125 \nL 244.66125 22.318125 \n\" style=\"fill:none;stroke:#b0b0b0;stroke-linecap:square;stroke-width:0.8;\"/>\n     </g>\n     <g id=\"line2d_8\">\n      <g>\n       <use style=\"stroke:#000000;stroke-width:0.8;\" x=\"244.66125\" xlink:href=\"#m92ec30248a\" y=\"239.758125\"/>\n      </g>\n     </g>\n     <g id=\"text_4\">\n      <!-- 0.6 -->\n      <defs>\n       <path d=\"M 33.015625 40.375 \nQ 26.375 40.375 22.484375 35.828125 \nQ 18.609375 31.296875 18.609375 23.390625 \nQ 18.609375 15.53125 22.484375 10.953125 \nQ 26.375 6.390625 33.015625 6.390625 \nQ 39.65625 6.390625 43.53125 10.953125 \nQ 47.40625 15.53125 47.40625 23.390625 \nQ 47.40625 31.296875 43.53125 35.828125 \nQ 39.65625 40.375 33.015625 40.375 \nz\nM 52.59375 71.296875 \nL 52.59375 62.3125 \nQ 48.875 64.0625 45.09375 64.984375 \nQ 41.3125 65.921875 37.59375 65.921875 \nQ 27.828125 65.921875 22.671875 59.328125 \nQ 17.53125 52.734375 16.796875 39.40625 \nQ 19.671875 43.65625 24.015625 45.921875 \nQ 28.375 48.1875 33.59375 48.1875 \nQ 44.578125 48.1875 50.953125 41.515625 \nQ 57.328125 34.859375 57.328125 23.390625 \nQ 57.328125 12.15625 50.6875 5.359375 \nQ 44.046875 -1.421875 33.015625 -1.421875 \nQ 20.359375 -1.421875 13.671875 8.265625 \nQ 6.984375 17.96875 6.984375 36.375 \nQ 6.984375 53.65625 15.1875 63.9375 \nQ 23.390625 74.21875 37.203125 74.21875 \nQ 40.921875 74.21875 44.703125 73.484375 \nQ 48.484375 72.75 52.59375 71.296875 \nz\n\" id=\"DejaVuSans-54\"/>\n      </defs>\n      <g transform=\"translate(236.709688 254.356562)scale(0.1 -0.1)\">\n       <use xlink:href=\"#DejaVuSans-48\"/>\n       <use x=\"63.623047\" xlink:href=\"#DejaVuSans-46\"/>\n       <use x=\"95.410156\" xlink:href=\"#DejaVuSans-54\"/>\n      </g>\n     </g>\n    </g>\n    <g id=\"xtick_5\">\n     <g id=\"line2d_9\">\n      <path clip-path=\"url(#pa44b6b48f2)\" d=\"M 311.62125 239.758125 \nL 311.62125 22.318125 \n\" style=\"fill:none;stroke:#b0b0b0;stroke-linecap:square;stroke-width:0.8;\"/>\n     </g>\n     <g id=\"line2d_10\">\n      <g>\n       <use style=\"stroke:#000000;stroke-width:0.8;\" x=\"311.62125\" xlink:href=\"#m92ec30248a\" y=\"239.758125\"/>\n      </g>\n     </g>\n     <g id=\"text_5\">\n      <!-- 0.8 -->\n      <defs>\n       <path d=\"M 31.78125 34.625 \nQ 24.75 34.625 20.71875 30.859375 \nQ 16.703125 27.09375 16.703125 20.515625 \nQ 16.703125 13.921875 20.71875 10.15625 \nQ 24.75 6.390625 31.78125 6.390625 \nQ 38.8125 6.390625 42.859375 10.171875 \nQ 46.921875 13.96875 46.921875 20.515625 \nQ 46.921875 27.09375 42.890625 30.859375 \nQ 38.875 34.625 31.78125 34.625 \nz\nM 21.921875 38.8125 \nQ 15.578125 40.375 12.03125 44.71875 \nQ 8.5 49.078125 8.5 55.328125 \nQ 8.5 64.0625 14.71875 69.140625 \nQ 20.953125 74.21875 31.78125 74.21875 \nQ 42.671875 74.21875 48.875 69.140625 \nQ 55.078125 64.0625 55.078125 55.328125 \nQ 55.078125 49.078125 51.53125 44.71875 \nQ 48 40.375 41.703125 38.8125 \nQ 48.828125 37.15625 52.796875 32.3125 \nQ 56.78125 27.484375 56.78125 20.515625 \nQ 56.78125 9.90625 50.3125 4.234375 \nQ 43.84375 -1.421875 31.78125 -1.421875 \nQ 19.734375 -1.421875 13.25 4.234375 \nQ 6.78125 9.90625 6.78125 20.515625 \nQ 6.78125 27.484375 10.78125 32.3125 \nQ 14.796875 37.15625 21.921875 38.8125 \nz\nM 18.3125 54.390625 \nQ 18.3125 48.734375 21.84375 45.5625 \nQ 25.390625 42.390625 31.78125 42.390625 \nQ 38.140625 42.390625 41.71875 45.5625 \nQ 45.3125 48.734375 45.3125 54.390625 \nQ 45.3125 60.0625 41.71875 63.234375 \nQ 38.140625 66.40625 31.78125 66.40625 \nQ 25.390625 66.40625 21.84375 63.234375 \nQ 18.3125 60.0625 18.3125 54.390625 \nz\n\" id=\"DejaVuSans-56\"/>\n      </defs>\n      <g transform=\"translate(303.669688 254.356562)scale(0.1 -0.1)\">\n       <use xlink:href=\"#DejaVuSans-48\"/>\n       <use x=\"63.623047\" xlink:href=\"#DejaVuSans-46\"/>\n       <use x=\"95.410156\" xlink:href=\"#DejaVuSans-56\"/>\n      </g>\n     </g>\n    </g>\n    <g id=\"xtick_6\">\n     <g id=\"line2d_11\">\n      <path clip-path=\"url(#pa44b6b48f2)\" d=\"M 378.58125 239.758125 \nL 378.58125 22.318125 \n\" style=\"fill:none;stroke:#b0b0b0;stroke-linecap:square;stroke-width:0.8;\"/>\n     </g>\n     <g id=\"line2d_12\">\n      <g>\n       <use style=\"stroke:#000000;stroke-width:0.8;\" x=\"378.58125\" xlink:href=\"#m92ec30248a\" y=\"239.758125\"/>\n      </g>\n     </g>\n     <g id=\"text_6\">\n      <!-- 1.0 -->\n      <defs>\n       <path d=\"M 12.40625 8.296875 \nL 28.515625 8.296875 \nL 28.515625 63.921875 \nL 10.984375 60.40625 \nL 10.984375 69.390625 \nL 28.421875 72.90625 \nL 38.28125 72.90625 \nL 38.28125 8.296875 \nL 54.390625 8.296875 \nL 54.390625 0 \nL 12.40625 0 \nz\n\" id=\"DejaVuSans-49\"/>\n      </defs>\n      <g transform=\"translate(370.629687 254.356562)scale(0.1 -0.1)\">\n       <use xlink:href=\"#DejaVuSans-49\"/>\n       <use x=\"63.623047\" xlink:href=\"#DejaVuSans-46\"/>\n       <use x=\"95.410156\" xlink:href=\"#DejaVuSans-48\"/>\n      </g>\n     </g>\n    </g>\n    <g id=\"text_7\">\n     <!-- False Positive Rate (1 - Specificity) -->\n     <defs>\n      <path d=\"M 9.8125 72.90625 \nL 51.703125 72.90625 \nL 51.703125 64.59375 \nL 19.671875 64.59375 \nL 19.671875 43.109375 \nL 48.578125 43.109375 \nL 48.578125 34.8125 \nL 19.671875 34.8125 \nL 19.671875 0 \nL 9.8125 0 \nz\n\" id=\"DejaVuSans-70\"/>\n      <path d=\"M 34.28125 27.484375 \nQ 23.390625 27.484375 19.1875 25 \nQ 14.984375 22.515625 14.984375 16.5 \nQ 14.984375 11.71875 18.140625 8.90625 \nQ 21.296875 6.109375 26.703125 6.109375 \nQ 34.1875 6.109375 38.703125 11.40625 \nQ 43.21875 16.703125 43.21875 25.484375 \nL 43.21875 27.484375 \nz\nM 52.203125 31.203125 \nL 52.203125 0 \nL 43.21875 0 \nL 43.21875 8.296875 \nQ 40.140625 3.328125 35.546875 0.953125 \nQ 30.953125 -1.421875 24.3125 -1.421875 \nQ 15.921875 -1.421875 10.953125 3.296875 \nQ 6 8.015625 6 15.921875 \nQ 6 25.140625 12.171875 29.828125 \nQ 18.359375 34.515625 30.609375 34.515625 \nL 43.21875 34.515625 \nL 43.21875 35.40625 \nQ 43.21875 41.609375 39.140625 45 \nQ 35.0625 48.390625 27.6875 48.390625 \nQ 23 48.390625 18.546875 47.265625 \nQ 14.109375 46.140625 10.015625 43.890625 \nL 10.015625 52.203125 \nQ 14.9375 54.109375 19.578125 55.046875 \nQ 24.21875 56 28.609375 56 \nQ 40.484375 56 46.34375 49.84375 \nQ 52.203125 43.703125 52.203125 31.203125 \nz\n\" id=\"DejaVuSans-97\"/>\n      <path d=\"M 9.421875 75.984375 \nL 18.40625 75.984375 \nL 18.40625 0 \nL 9.421875 0 \nz\n\" id=\"DejaVuSans-108\"/>\n      <path d=\"M 44.28125 53.078125 \nL 44.28125 44.578125 \nQ 40.484375 46.53125 36.375 47.5 \nQ 32.28125 48.484375 27.875 48.484375 \nQ 21.1875 48.484375 17.84375 46.4375 \nQ 14.5 44.390625 14.5 40.28125 \nQ 14.5 37.15625 16.890625 35.375 \nQ 19.28125 33.59375 26.515625 31.984375 \nL 29.59375 31.296875 \nQ 39.15625 29.25 43.1875 25.515625 \nQ 47.21875 21.78125 47.21875 15.09375 \nQ 47.21875 7.46875 41.1875 3.015625 \nQ 35.15625 -1.421875 24.609375 -1.421875 \nQ 20.21875 -1.421875 15.453125 -0.5625 \nQ 10.6875 0.296875 5.421875 2 \nL 5.421875 11.28125 \nQ 10.40625 8.6875 15.234375 7.390625 \nQ 20.0625 6.109375 24.8125 6.109375 \nQ 31.15625 6.109375 34.5625 8.28125 \nQ 37.984375 10.453125 37.984375 14.40625 \nQ 37.984375 18.0625 35.515625 20.015625 \nQ 33.0625 21.96875 24.703125 23.78125 \nL 21.578125 24.515625 \nQ 13.234375 26.265625 9.515625 29.90625 \nQ 5.8125 33.546875 5.8125 39.890625 \nQ 5.8125 47.609375 11.28125 51.796875 \nQ 16.75 56 26.8125 56 \nQ 31.78125 56 36.171875 55.265625 \nQ 40.578125 54.546875 44.28125 53.078125 \nz\n\" id=\"DejaVuSans-115\"/>\n      <path d=\"M 56.203125 29.59375 \nL 56.203125 25.203125 \nL 14.890625 25.203125 \nQ 15.484375 15.921875 20.484375 11.0625 \nQ 25.484375 6.203125 34.421875 6.203125 \nQ 39.59375 6.203125 44.453125 7.46875 \nQ 49.3125 8.734375 54.109375 11.28125 \nL 54.109375 2.78125 \nQ 49.265625 0.734375 44.1875 -0.34375 \nQ 39.109375 -1.421875 33.890625 -1.421875 \nQ 20.796875 -1.421875 13.15625 6.1875 \nQ 5.515625 13.8125 5.515625 26.8125 \nQ 5.515625 40.234375 12.765625 48.109375 \nQ 20.015625 56 32.328125 56 \nQ 43.359375 56 49.78125 48.890625 \nQ 56.203125 41.796875 56.203125 29.59375 \nz\nM 47.21875 32.234375 \nQ 47.125 39.59375 43.09375 43.984375 \nQ 39.0625 48.390625 32.421875 48.390625 \nQ 24.90625 48.390625 20.390625 44.140625 \nQ 15.875 39.890625 15.1875 32.171875 \nz\n\" id=\"DejaVuSans-101\"/>\n      <path id=\"DejaVuSans-32\"/>\n      <path d=\"M 19.671875 64.796875 \nL 19.671875 37.40625 \nL 32.078125 37.40625 \nQ 38.96875 37.40625 42.71875 40.96875 \nQ 46.484375 44.53125 46.484375 51.125 \nQ 46.484375 57.671875 42.71875 61.234375 \nQ 38.96875 64.796875 32.078125 64.796875 \nz\nM 9.8125 72.90625 \nL 32.078125 72.90625 \nQ 44.34375 72.90625 50.609375 67.359375 \nQ 56.890625 61.8125 56.890625 51.125 \nQ 56.890625 40.328125 50.609375 34.8125 \nQ 44.34375 29.296875 32.078125 29.296875 \nL 19.671875 29.296875 \nL 19.671875 0 \nL 9.8125 0 \nz\n\" id=\"DejaVuSans-80\"/>\n      <path d=\"M 30.609375 48.390625 \nQ 23.390625 48.390625 19.1875 42.75 \nQ 14.984375 37.109375 14.984375 27.296875 \nQ 14.984375 17.484375 19.15625 11.84375 \nQ 23.34375 6.203125 30.609375 6.203125 \nQ 37.796875 6.203125 41.984375 11.859375 \nQ 46.1875 17.53125 46.1875 27.296875 \nQ 46.1875 37.015625 41.984375 42.703125 \nQ 37.796875 48.390625 30.609375 48.390625 \nz\nM 30.609375 56 \nQ 42.328125 56 49.015625 48.375 \nQ 55.71875 40.765625 55.71875 27.296875 \nQ 55.71875 13.875 49.015625 6.21875 \nQ 42.328125 -1.421875 30.609375 -1.421875 \nQ 18.84375 -1.421875 12.171875 6.21875 \nQ 5.515625 13.875 5.515625 27.296875 \nQ 5.515625 40.765625 12.171875 48.375 \nQ 18.84375 56 30.609375 56 \nz\n\" id=\"DejaVuSans-111\"/>\n      <path d=\"M 9.421875 54.6875 \nL 18.40625 54.6875 \nL 18.40625 0 \nL 9.421875 0 \nz\nM 9.421875 75.984375 \nL 18.40625 75.984375 \nL 18.40625 64.59375 \nL 9.421875 64.59375 \nz\n\" id=\"DejaVuSans-105\"/>\n      <path d=\"M 18.3125 70.21875 \nL 18.3125 54.6875 \nL 36.8125 54.6875 \nL 36.8125 47.703125 \nL 18.3125 47.703125 \nL 18.3125 18.015625 \nQ 18.3125 11.328125 20.140625 9.421875 \nQ 21.96875 7.515625 27.59375 7.515625 \nL 36.8125 7.515625 \nL 36.8125 0 \nL 27.59375 0 \nQ 17.1875 0 13.234375 3.875 \nQ 9.28125 7.765625 9.28125 18.015625 \nL 9.28125 47.703125 \nL 2.6875 47.703125 \nL 2.6875 54.6875 \nL 9.28125 54.6875 \nL 9.28125 70.21875 \nz\n\" id=\"DejaVuSans-116\"/>\n      <path d=\"M 2.984375 54.6875 \nL 12.5 54.6875 \nL 29.59375 8.796875 \nL 46.6875 54.6875 \nL 56.203125 54.6875 \nL 35.6875 0 \nL 23.484375 0 \nz\n\" id=\"DejaVuSans-118\"/>\n      <path d=\"M 44.390625 34.1875 \nQ 47.5625 33.109375 50.5625 29.59375 \nQ 53.5625 26.078125 56.59375 19.921875 \nL 66.609375 0 \nL 56 0 \nL 46.6875 18.703125 \nQ 43.0625 26.03125 39.671875 28.421875 \nQ 36.28125 30.8125 30.421875 30.8125 \nL 19.671875 30.8125 \nL 19.671875 0 \nL 9.8125 0 \nL 9.8125 72.90625 \nL 32.078125 72.90625 \nQ 44.578125 72.90625 50.734375 67.671875 \nQ 56.890625 62.453125 56.890625 51.90625 \nQ 56.890625 45.015625 53.6875 40.46875 \nQ 50.484375 35.9375 44.390625 34.1875 \nz\nM 19.671875 64.796875 \nL 19.671875 38.921875 \nL 32.078125 38.921875 \nQ 39.203125 38.921875 42.84375 42.21875 \nQ 46.484375 45.515625 46.484375 51.90625 \nQ 46.484375 58.296875 42.84375 61.546875 \nQ 39.203125 64.796875 32.078125 64.796875 \nz\n\" id=\"DejaVuSans-82\"/>\n      <path d=\"M 31 75.875 \nQ 24.46875 64.65625 21.28125 53.65625 \nQ 18.109375 42.671875 18.109375 31.390625 \nQ 18.109375 20.125 21.3125 9.0625 \nQ 24.515625 -2 31 -13.1875 \nL 23.1875 -13.1875 \nQ 15.875 -1.703125 12.234375 9.375 \nQ 8.59375 20.453125 8.59375 31.390625 \nQ 8.59375 42.28125 12.203125 53.3125 \nQ 15.828125 64.359375 23.1875 75.875 \nz\n\" id=\"DejaVuSans-40\"/>\n      <path d=\"M 4.890625 31.390625 \nL 31.203125 31.390625 \nL 31.203125 23.390625 \nL 4.890625 23.390625 \nz\n\" id=\"DejaVuSans-45\"/>\n      <path d=\"M 53.515625 70.515625 \nL 53.515625 60.890625 \nQ 47.90625 63.578125 42.921875 64.890625 \nQ 37.9375 66.21875 33.296875 66.21875 \nQ 25.25 66.21875 20.875 63.09375 \nQ 16.5 59.96875 16.5 54.203125 \nQ 16.5 49.359375 19.40625 46.890625 \nQ 22.3125 44.4375 30.421875 42.921875 \nL 36.375 41.703125 \nQ 47.40625 39.59375 52.65625 34.296875 \nQ 57.90625 29 57.90625 20.125 \nQ 57.90625 9.515625 50.796875 4.046875 \nQ 43.703125 -1.421875 29.984375 -1.421875 \nQ 24.8125 -1.421875 18.96875 -0.25 \nQ 13.140625 0.921875 6.890625 3.21875 \nL 6.890625 13.375 \nQ 12.890625 10.015625 18.65625 8.296875 \nQ 24.421875 6.59375 29.984375 6.59375 \nQ 38.421875 6.59375 43.015625 9.90625 \nQ 47.609375 13.234375 47.609375 19.390625 \nQ 47.609375 24.75 44.3125 27.78125 \nQ 41.015625 30.8125 33.5 32.328125 \nL 27.484375 33.5 \nQ 16.453125 35.6875 11.515625 40.375 \nQ 6.59375 45.0625 6.59375 53.421875 \nQ 6.59375 63.09375 13.40625 68.65625 \nQ 20.21875 74.21875 32.171875 74.21875 \nQ 37.3125 74.21875 42.625 73.28125 \nQ 47.953125 72.359375 53.515625 70.515625 \nz\n\" id=\"DejaVuSans-83\"/>\n      <path d=\"M 18.109375 8.203125 \nL 18.109375 -20.796875 \nL 9.078125 -20.796875 \nL 9.078125 54.6875 \nL 18.109375 54.6875 \nL 18.109375 46.390625 \nQ 20.953125 51.265625 25.265625 53.625 \nQ 29.59375 56 35.59375 56 \nQ 45.5625 56 51.78125 48.09375 \nQ 58.015625 40.1875 58.015625 27.296875 \nQ 58.015625 14.40625 51.78125 6.484375 \nQ 45.5625 -1.421875 35.59375 -1.421875 \nQ 29.59375 -1.421875 25.265625 0.953125 \nQ 20.953125 3.328125 18.109375 8.203125 \nz\nM 48.6875 27.296875 \nQ 48.6875 37.203125 44.609375 42.84375 \nQ 40.53125 48.484375 33.40625 48.484375 \nQ 26.265625 48.484375 22.1875 42.84375 \nQ 18.109375 37.203125 18.109375 27.296875 \nQ 18.109375 17.390625 22.1875 11.75 \nQ 26.265625 6.109375 33.40625 6.109375 \nQ 40.53125 6.109375 44.609375 11.75 \nQ 48.6875 17.390625 48.6875 27.296875 \nz\n\" id=\"DejaVuSans-112\"/>\n      <path d=\"M 48.78125 52.59375 \nL 48.78125 44.1875 \nQ 44.96875 46.296875 41.140625 47.34375 \nQ 37.3125 48.390625 33.40625 48.390625 \nQ 24.65625 48.390625 19.8125 42.84375 \nQ 14.984375 37.3125 14.984375 27.296875 \nQ 14.984375 17.28125 19.8125 11.734375 \nQ 24.65625 6.203125 33.40625 6.203125 \nQ 37.3125 6.203125 41.140625 7.25 \nQ 44.96875 8.296875 48.78125 10.40625 \nL 48.78125 2.09375 \nQ 45.015625 0.34375 40.984375 -0.53125 \nQ 36.96875 -1.421875 32.421875 -1.421875 \nQ 20.0625 -1.421875 12.78125 6.34375 \nQ 5.515625 14.109375 5.515625 27.296875 \nQ 5.515625 40.671875 12.859375 48.328125 \nQ 20.21875 56 33.015625 56 \nQ 37.15625 56 41.109375 55.140625 \nQ 45.0625 54.296875 48.78125 52.59375 \nz\n\" id=\"DejaVuSans-99\"/>\n      <path d=\"M 37.109375 75.984375 \nL 37.109375 68.5 \nL 28.515625 68.5 \nQ 23.6875 68.5 21.796875 66.546875 \nQ 19.921875 64.59375 19.921875 59.515625 \nL 19.921875 54.6875 \nL 34.71875 54.6875 \nL 34.71875 47.703125 \nL 19.921875 47.703125 \nL 19.921875 0 \nL 10.890625 0 \nL 10.890625 47.703125 \nL 2.296875 47.703125 \nL 2.296875 54.6875 \nL 10.890625 54.6875 \nL 10.890625 58.5 \nQ 10.890625 67.625 15.140625 71.796875 \nQ 19.390625 75.984375 28.609375 75.984375 \nz\n\" id=\"DejaVuSans-102\"/>\n      <path d=\"M 32.171875 -5.078125 \nQ 28.375 -14.84375 24.75 -17.8125 \nQ 21.140625 -20.796875 15.09375 -20.796875 \nL 7.90625 -20.796875 \nL 7.90625 -13.28125 \nL 13.1875 -13.28125 \nQ 16.890625 -13.28125 18.9375 -11.515625 \nQ 21 -9.765625 23.484375 -3.21875 \nL 25.09375 0.875 \nL 2.984375 54.6875 \nL 12.5 54.6875 \nL 29.59375 11.921875 \nL 46.6875 54.6875 \nL 56.203125 54.6875 \nz\n\" id=\"DejaVuSans-121\"/>\n      <path d=\"M 8.015625 75.875 \nL 15.828125 75.875 \nQ 23.140625 64.359375 26.78125 53.3125 \nQ 30.421875 42.28125 30.421875 31.390625 \nQ 30.421875 20.453125 26.78125 9.375 \nQ 23.140625 -1.703125 15.828125 -13.1875 \nL 8.015625 -13.1875 \nQ 14.5 -2 17.703125 9.0625 \nQ 20.90625 20.125 20.90625 31.390625 \nQ 20.90625 42.671875 17.703125 53.65625 \nQ 14.5 64.65625 8.015625 75.875 \nz\n\" id=\"DejaVuSans-41\"/>\n     </defs>\n     <g transform=\"translate(124.551563 268.034687)scale(0.1 -0.1)\">\n      <use xlink:href=\"#DejaVuSans-70\"/>\n      <use x=\"57.378906\" xlink:href=\"#DejaVuSans-97\"/>\n      <use x=\"118.658203\" xlink:href=\"#DejaVuSans-108\"/>\n      <use x=\"146.441406\" xlink:href=\"#DejaVuSans-115\"/>\n      <use x=\"198.541016\" xlink:href=\"#DejaVuSans-101\"/>\n      <use x=\"260.064453\" xlink:href=\"#DejaVuSans-32\"/>\n      <use x=\"291.851562\" xlink:href=\"#DejaVuSans-80\"/>\n      <use x=\"352.107422\" xlink:href=\"#DejaVuSans-111\"/>\n      <use x=\"413.289062\" xlink:href=\"#DejaVuSans-115\"/>\n      <use x=\"465.388672\" xlink:href=\"#DejaVuSans-105\"/>\n      <use x=\"493.171875\" xlink:href=\"#DejaVuSans-116\"/>\n      <use x=\"532.380859\" xlink:href=\"#DejaVuSans-105\"/>\n      <use x=\"560.164062\" xlink:href=\"#DejaVuSans-118\"/>\n      <use x=\"619.34375\" xlink:href=\"#DejaVuSans-101\"/>\n      <use x=\"680.867188\" xlink:href=\"#DejaVuSans-32\"/>\n      <use x=\"712.654297\" xlink:href=\"#DejaVuSans-82\"/>\n      <use x=\"782.105469\" xlink:href=\"#DejaVuSans-97\"/>\n      <use x=\"843.384766\" xlink:href=\"#DejaVuSans-116\"/>\n      <use x=\"882.59375\" xlink:href=\"#DejaVuSans-101\"/>\n      <use x=\"944.117188\" xlink:href=\"#DejaVuSans-32\"/>\n      <use x=\"975.904297\" xlink:href=\"#DejaVuSans-40\"/>\n      <use x=\"1014.917969\" xlink:href=\"#DejaVuSans-49\"/>\n      <use x=\"1078.541016\" xlink:href=\"#DejaVuSans-32\"/>\n      <use x=\"1110.328125\" xlink:href=\"#DejaVuSans-45\"/>\n      <use x=\"1146.412109\" xlink:href=\"#DejaVuSans-32\"/>\n      <use x=\"1178.199219\" xlink:href=\"#DejaVuSans-83\"/>\n      <use x=\"1241.675781\" xlink:href=\"#DejaVuSans-112\"/>\n      <use x=\"1305.152344\" xlink:href=\"#DejaVuSans-101\"/>\n      <use x=\"1366.675781\" xlink:href=\"#DejaVuSans-99\"/>\n      <use x=\"1421.65625\" xlink:href=\"#DejaVuSans-105\"/>\n      <use x=\"1449.439453\" xlink:href=\"#DejaVuSans-102\"/>\n      <use x=\"1484.644531\" xlink:href=\"#DejaVuSans-105\"/>\n      <use x=\"1512.427734\" xlink:href=\"#DejaVuSans-99\"/>\n      <use x=\"1567.408203\" xlink:href=\"#DejaVuSans-105\"/>\n      <use x=\"1595.191406\" xlink:href=\"#DejaVuSans-116\"/>\n      <use x=\"1634.400391\" xlink:href=\"#DejaVuSans-121\"/>\n      <use x=\"1693.580078\" xlink:href=\"#DejaVuSans-41\"/>\n     </g>\n    </g>\n   </g>\n   <g id=\"matplotlib.axis_2\">\n    <g id=\"ytick_1\">\n     <g id=\"line2d_13\">\n      <path clip-path=\"url(#pa44b6b48f2)\" d=\"M 43.78125 239.758125 \nL 378.58125 239.758125 \n\" style=\"fill:none;stroke:#b0b0b0;stroke-linecap:square;stroke-width:0.8;\"/>\n     </g>\n     <g id=\"line2d_14\">\n      <defs>\n       <path d=\"M 0 0 \nL -3.5 0 \n\" id=\"m5d8084cfd2\" style=\"stroke:#000000;stroke-width:0.8;\"/>\n      </defs>\n      <g>\n       <use style=\"stroke:#000000;stroke-width:0.8;\" x=\"43.78125\" xlink:href=\"#m5d8084cfd2\" y=\"239.758125\"/>\n      </g>\n     </g>\n     <g id=\"text_8\">\n      <!-- 0.0 -->\n      <g transform=\"translate(20.878125 243.557344)scale(0.1 -0.1)\">\n       <use xlink:href=\"#DejaVuSans-48\"/>\n       <use x=\"63.623047\" xlink:href=\"#DejaVuSans-46\"/>\n       <use x=\"95.410156\" xlink:href=\"#DejaVuSans-48\"/>\n      </g>\n     </g>\n    </g>\n    <g id=\"ytick_2\">\n     <g id=\"line2d_15\">\n      <path clip-path=\"url(#pa44b6b48f2)\" d=\"M 43.78125 196.270125 \nL 378.58125 196.270125 \n\" style=\"fill:none;stroke:#b0b0b0;stroke-linecap:square;stroke-width:0.8;\"/>\n     </g>\n     <g id=\"line2d_16\">\n      <g>\n       <use style=\"stroke:#000000;stroke-width:0.8;\" x=\"43.78125\" xlink:href=\"#m5d8084cfd2\" y=\"196.270125\"/>\n      </g>\n     </g>\n     <g id=\"text_9\">\n      <!-- 0.2 -->\n      <g transform=\"translate(20.878125 200.069344)scale(0.1 -0.1)\">\n       <use xlink:href=\"#DejaVuSans-48\"/>\n       <use x=\"63.623047\" xlink:href=\"#DejaVuSans-46\"/>\n       <use x=\"95.410156\" xlink:href=\"#DejaVuSans-50\"/>\n      </g>\n     </g>\n    </g>\n    <g id=\"ytick_3\">\n     <g id=\"line2d_17\">\n      <path clip-path=\"url(#pa44b6b48f2)\" d=\"M 43.78125 152.782125 \nL 378.58125 152.782125 \n\" style=\"fill:none;stroke:#b0b0b0;stroke-linecap:square;stroke-width:0.8;\"/>\n     </g>\n     <g id=\"line2d_18\">\n      <g>\n       <use style=\"stroke:#000000;stroke-width:0.8;\" x=\"43.78125\" xlink:href=\"#m5d8084cfd2\" y=\"152.782125\"/>\n      </g>\n     </g>\n     <g id=\"text_10\">\n      <!-- 0.4 -->\n      <g transform=\"translate(20.878125 156.581344)scale(0.1 -0.1)\">\n       <use xlink:href=\"#DejaVuSans-48\"/>\n       <use x=\"63.623047\" xlink:href=\"#DejaVuSans-46\"/>\n       <use x=\"95.410156\" xlink:href=\"#DejaVuSans-52\"/>\n      </g>\n     </g>\n    </g>\n    <g id=\"ytick_4\">\n     <g id=\"line2d_19\">\n      <path clip-path=\"url(#pa44b6b48f2)\" d=\"M 43.78125 109.294125 \nL 378.58125 109.294125 \n\" style=\"fill:none;stroke:#b0b0b0;stroke-linecap:square;stroke-width:0.8;\"/>\n     </g>\n     <g id=\"line2d_20\">\n      <g>\n       <use style=\"stroke:#000000;stroke-width:0.8;\" x=\"43.78125\" xlink:href=\"#m5d8084cfd2\" y=\"109.294125\"/>\n      </g>\n     </g>\n     <g id=\"text_11\">\n      <!-- 0.6 -->\n      <g transform=\"translate(20.878125 113.093344)scale(0.1 -0.1)\">\n       <use xlink:href=\"#DejaVuSans-48\"/>\n       <use x=\"63.623047\" xlink:href=\"#DejaVuSans-46\"/>\n       <use x=\"95.410156\" xlink:href=\"#DejaVuSans-54\"/>\n      </g>\n     </g>\n    </g>\n    <g id=\"ytick_5\">\n     <g id=\"line2d_21\">\n      <path clip-path=\"url(#pa44b6b48f2)\" d=\"M 43.78125 65.806125 \nL 378.58125 65.806125 \n\" style=\"fill:none;stroke:#b0b0b0;stroke-linecap:square;stroke-width:0.8;\"/>\n     </g>\n     <g id=\"line2d_22\">\n      <g>\n       <use style=\"stroke:#000000;stroke-width:0.8;\" x=\"43.78125\" xlink:href=\"#m5d8084cfd2\" y=\"65.806125\"/>\n      </g>\n     </g>\n     <g id=\"text_12\">\n      <!-- 0.8 -->\n      <g transform=\"translate(20.878125 69.605344)scale(0.1 -0.1)\">\n       <use xlink:href=\"#DejaVuSans-48\"/>\n       <use x=\"63.623047\" xlink:href=\"#DejaVuSans-46\"/>\n       <use x=\"95.410156\" xlink:href=\"#DejaVuSans-56\"/>\n      </g>\n     </g>\n    </g>\n    <g id=\"ytick_6\">\n     <g id=\"line2d_23\">\n      <path clip-path=\"url(#pa44b6b48f2)\" d=\"M 43.78125 22.318125 \nL 378.58125 22.318125 \n\" style=\"fill:none;stroke:#b0b0b0;stroke-linecap:square;stroke-width:0.8;\"/>\n     </g>\n     <g id=\"line2d_24\">\n      <g>\n       <use style=\"stroke:#000000;stroke-width:0.8;\" x=\"43.78125\" xlink:href=\"#m5d8084cfd2\" y=\"22.318125\"/>\n      </g>\n     </g>\n     <g id=\"text_13\">\n      <!-- 1.0 -->\n      <g transform=\"translate(20.878125 26.117344)scale(0.1 -0.1)\">\n       <use xlink:href=\"#DejaVuSans-49\"/>\n       <use x=\"63.623047\" xlink:href=\"#DejaVuSans-46\"/>\n       <use x=\"95.410156\" xlink:href=\"#DejaVuSans-48\"/>\n      </g>\n     </g>\n    </g>\n    <g id=\"text_14\">\n     <!-- True Positive Rate (Sensitivity) -->\n     <defs>\n      <path d=\"M -0.296875 72.90625 \nL 61.375 72.90625 \nL 61.375 64.59375 \nL 35.5 64.59375 \nL 35.5 0 \nL 25.59375 0 \nL 25.59375 64.59375 \nL -0.296875 64.59375 \nz\n\" id=\"DejaVuSans-84\"/>\n      <path d=\"M 41.109375 46.296875 \nQ 39.59375 47.171875 37.8125 47.578125 \nQ 36.03125 48 33.890625 48 \nQ 26.265625 48 22.1875 43.046875 \nQ 18.109375 38.09375 18.109375 28.8125 \nL 18.109375 0 \nL 9.078125 0 \nL 9.078125 54.6875 \nL 18.109375 54.6875 \nL 18.109375 46.1875 \nQ 20.953125 51.171875 25.484375 53.578125 \nQ 30.03125 56 36.53125 56 \nQ 37.453125 56 38.578125 55.875 \nQ 39.703125 55.765625 41.0625 55.515625 \nz\n\" id=\"DejaVuSans-114\"/>\n      <path d=\"M 8.5 21.578125 \nL 8.5 54.6875 \nL 17.484375 54.6875 \nL 17.484375 21.921875 \nQ 17.484375 14.15625 20.5 10.265625 \nQ 23.53125 6.390625 29.59375 6.390625 \nQ 36.859375 6.390625 41.078125 11.03125 \nQ 45.3125 15.671875 45.3125 23.6875 \nL 45.3125 54.6875 \nL 54.296875 54.6875 \nL 54.296875 0 \nL 45.3125 0 \nL 45.3125 8.40625 \nQ 42.046875 3.421875 37.71875 1 \nQ 33.40625 -1.421875 27.6875 -1.421875 \nQ 18.265625 -1.421875 13.375 4.4375 \nQ 8.5 10.296875 8.5 21.578125 \nz\nM 31.109375 56 \nz\n\" id=\"DejaVuSans-117\"/>\n      <path d=\"M 54.890625 33.015625 \nL 54.890625 0 \nL 45.90625 0 \nL 45.90625 32.71875 \nQ 45.90625 40.484375 42.875 44.328125 \nQ 39.84375 48.1875 33.796875 48.1875 \nQ 26.515625 48.1875 22.3125 43.546875 \nQ 18.109375 38.921875 18.109375 30.90625 \nL 18.109375 0 \nL 9.078125 0 \nL 9.078125 54.6875 \nL 18.109375 54.6875 \nL 18.109375 46.1875 \nQ 21.34375 51.125 25.703125 53.5625 \nQ 30.078125 56 35.796875 56 \nQ 45.21875 56 50.046875 50.171875 \nQ 54.890625 44.34375 54.890625 33.015625 \nz\n\" id=\"DejaVuSans-110\"/>\n     </defs>\n     <g transform=\"translate(14.798438 208.105312)rotate(-90)scale(0.1 -0.1)\">\n      <use xlink:href=\"#DejaVuSans-84\"/>\n      <use x=\"60.865234\" xlink:href=\"#DejaVuSans-114\"/>\n      <use x=\"101.978516\" xlink:href=\"#DejaVuSans-117\"/>\n      <use x=\"165.357422\" xlink:href=\"#DejaVuSans-101\"/>\n      <use x=\"226.880859\" xlink:href=\"#DejaVuSans-32\"/>\n      <use x=\"258.667969\" xlink:href=\"#DejaVuSans-80\"/>\n      <use x=\"318.923828\" xlink:href=\"#DejaVuSans-111\"/>\n      <use x=\"380.105469\" xlink:href=\"#DejaVuSans-115\"/>\n      <use x=\"432.205078\" xlink:href=\"#DejaVuSans-105\"/>\n      <use x=\"459.988281\" xlink:href=\"#DejaVuSans-116\"/>\n      <use x=\"499.197266\" xlink:href=\"#DejaVuSans-105\"/>\n      <use x=\"526.980469\" xlink:href=\"#DejaVuSans-118\"/>\n      <use x=\"586.160156\" xlink:href=\"#DejaVuSans-101\"/>\n      <use x=\"647.683594\" xlink:href=\"#DejaVuSans-32\"/>\n      <use x=\"679.470703\" xlink:href=\"#DejaVuSans-82\"/>\n      <use x=\"748.921875\" xlink:href=\"#DejaVuSans-97\"/>\n      <use x=\"810.201172\" xlink:href=\"#DejaVuSans-116\"/>\n      <use x=\"849.410156\" xlink:href=\"#DejaVuSans-101\"/>\n      <use x=\"910.933594\" xlink:href=\"#DejaVuSans-32\"/>\n      <use x=\"942.720703\" xlink:href=\"#DejaVuSans-40\"/>\n      <use x=\"981.734375\" xlink:href=\"#DejaVuSans-83\"/>\n      <use x=\"1045.210938\" xlink:href=\"#DejaVuSans-101\"/>\n      <use x=\"1106.734375\" xlink:href=\"#DejaVuSans-110\"/>\n      <use x=\"1170.113281\" xlink:href=\"#DejaVuSans-115\"/>\n      <use x=\"1222.212891\" xlink:href=\"#DejaVuSans-105\"/>\n      <use x=\"1249.996094\" xlink:href=\"#DejaVuSans-116\"/>\n      <use x=\"1289.205078\" xlink:href=\"#DejaVuSans-105\"/>\n      <use x=\"1316.988281\" xlink:href=\"#DejaVuSans-118\"/>\n      <use x=\"1376.167969\" xlink:href=\"#DejaVuSans-105\"/>\n      <use x=\"1403.951172\" xlink:href=\"#DejaVuSans-116\"/>\n      <use x=\"1443.160156\" xlink:href=\"#DejaVuSans-121\"/>\n      <use x=\"1502.339844\" xlink:href=\"#DejaVuSans-41\"/>\n     </g>\n    </g>\n   </g>\n   <g id=\"line2d_25\">\n    <path clip-path=\"url(#pa44b6b48f2)\" d=\"M 43.78125 239.758125 \nL 43.916159 239.688388 \nL 43.916159 238.293648 \nL 44.185978 238.223911 \nL 44.230948 237.805489 \nL 44.320887 237.805489 \nL 44.410827 236.829171 \nL 44.455797 236.759434 \nL 44.545736 235.713378 \nL 44.590706 235.713378 \nL 44.680646 235.43443 \nL 44.725615 235.43443 \nL 44.815555 234.73706 \nL 44.905494 234.73706 \nL 44.905494 234.667323 \nL 44.905494 233.760742 \nL 45.175313 233.691005 \nL 45.265253 231.598895 \nL 45.310222 231.598895 \nL 45.400162 230.831788 \nL 45.445132 230.831788 \nL 45.445132 230.762051 \nL 45.535071 230.204155 \nL 45.580041 230.204155 \nL 45.669981 229.646258 \nL 45.71495 229.646258 \nL 45.80489 228.879151 \nL 45.89483 228.879151 \nL 45.89483 228.530466 \nL 46.119678 228.460729 \nL 46.209618 227.902833 \nL 46.344527 227.833096 \nL 46.434467 226.298882 \nL 46.614346 226.298882 \nL 46.704286 225.462038 \nL 46.749255 225.462038 \nL 46.839195 224.973879 \nL 46.884165 224.973879 \nL 46.974104 224.346246 \nL 47.153983 224.276509 \nL 47.243923 223.509401 \nL 47.288893 223.509401 \nL 47.288893 223.439664 \nL 47.333862 223.369927 \nL 47.513742 223.30019 \nL 47.603681 222.60282 \nL 47.648651 222.60282 \nL 47.73859 221.835713 \nL 47.78356 221.835713 \nL 47.8735 221.417291 \nL 47.963439 221.347554 \nL 48.053379 220.092288 \nL 48.143319 220.022551 \nL 48.233258 219.394918 \nL 48.323198 219.325181 \nL 48.368167 219.11597 \nL 48.458107 219.11597 \nL 48.458107 219.046233 \nL 48.503077 218.209389 \nL 48.593016 218.209389 \nL 48.682956 217.930441 \nL 48.727926 217.790967 \nL 48.817865 217.023859 \nL 48.907805 217.023859 \nL 48.997744 215.698856 \nL 49.087684 215.698856 \nL 49.132654 215.489645 \nL 49.312533 215.419908 \nL 49.402472 214.792275 \nL 49.537382 214.722538 \nL 49.627321 213.815957 \nL 49.8072 213.74622 \nL 49.89714 213.188324 \nL 49.987079 213.118587 \nL 50.032049 212.839639 \nL 50.121989 212.839639 \nL 50.211928 211.305425 \nL 50.256898 211.235688 \nL 50.346838 210.398843 \nL 50.526717 210.329106 \nL 50.571687 209.352788 \nL 50.706596 209.283051 \nL 50.751566 208.725155 \nL 50.886475 208.725155 \nL 50.931445 208.306733 \nL 51.111324 208.306733 \nL 51.201263 207.958048 \nL 51.291203 207.958048 \nL 51.381143 207.609363 \nL 51.471082 207.539626 \nL 51.561022 207.400152 \nL 51.605991 207.400152 \nL 51.785871 206.633045 \nL 51.87581 205.796201 \nL 52.100659 205.517253 \nL 52.190599 204.680409 \nL 52.325508 204.680409 \nL 52.415447 204.261986 \nL 52.505387 204.192249 \nL 52.595327 203.285668 \nL 52.640296 203.285668 \nL 52.730236 202.867246 \nL 52.775206 202.867246 \nL 52.865145 202.379087 \nL 53.089994 202.30935 \nL 53.134964 201.960665 \nL 53.314843 201.960665 \nL 53.404783 201.542243 \nL 53.494722 201.472506 \nL 53.584662 201.263295 \nL 53.809511 201.193558 \nL 53.94442 200.91461 \nL 54.034359 200.077766 \nL 54.439087 199.310659 \nL 54.529027 199.171185 \nL 54.753876 199.101448 \nL 54.843815 198.683026 \nL 54.978725 198.543552 \nL 55.338483 197.148811 \nL 55.428423 195.823808 \nL 55.608302 195.335649 \nL 55.833151 195.335649 \nL 55.92309 194.498805 \nL 56.192909 194.010646 \nL 56.372788 193.731698 \nL 56.417758 193.731698 \nL 56.417758 193.522487 \nL 56.462728 193.522487 \nL 57.047335 193.173802 \nL 57.137274 192.267221 \nL 57.227214 192.267221 \nL 57.317153 191.709324 \nL 57.452063 191.56985 \nL 57.542002 190.87248 \nL 57.721881 190.87248 \nL 57.811821 190.384321 \nL 57.90176 190.384321 \nL 57.9917 189.617214 \nL 58.126609 189.617214 \nL 58.216549 189.268529 \nL 58.306488 189.268529 \nL 58.396428 189.059318 \nL 58.441398 189.059318 \nL 58.441398 188.989581 \nL 58.756186 188.501422 \nL 58.846126 188.083 \nL 58.891096 188.083 \nL 58.981035 187.664578 \nL 59.026005 187.664578 \nL 59.026005 187.594841 \nL 59.070975 187.176419 \nL 59.115944 187.176419 \nL 59.160914 187.106682 \nL 59.250854 186.618523 \nL 59.295824 186.618523 \nL 59.295824 186.409312 \nL 59.430733 186.409312 \nL 59.475703 185.99089 \nL 59.565642 185.99089 \nL 59.610612 185.711942 \nL 59.655582 185.711942 \nL 59.790491 185.432994 \nL 59.835461 184.944834 \nL 59.97037 184.875097 \nL 59.97037 184.665886 \nL 60.06031 184.665886 \nL 60.10528 184.526412 \nL 60.330128 184.456675 \nL 60.375098 184.038253 \nL 60.510008 184.038253 \nL 61.319464 181.806669 \nL 61.409403 181.736932 \nL 61.409403 181.597458 \nL 61.679222 181.597458 \nL 61.769161 181.109299 \nL 61.904071 181.039562 \nL 61.99401 180.62114 \nL 62.03898 180.62114 \nL 62.12892 180.132981 \nL 62.308799 180.063244 \nL 62.353768 179.784296 \nL 62.443708 179.784296 \nL 62.533648 179.296137 \nL 62.578617 179.296137 \nL 62.578617 179.156663 \nL 63.073285 179.086926 \nL 63.073285 178.598766 \nL 63.118255 178.598766 \nL 63.208194 178.598766 \nL 63.298134 178.319818 \nL 63.343104 178.319818 \nL 63.388073 177.3435 \nL 63.657892 177.273763 \nL 63.747832 176.994815 \nL 63.837771 176.715867 \nL 64.06262 176.64613 \nL 64.10759 176.506656 \nL 64.242499 176.436919 \nL 64.287469 176.157971 \nL 64.377408 176.157971 \nL 64.467348 175.460601 \nL 64.557288 175.460601 \nL 64.647227 175.111916 \nL 64.737167 175.111916 \nL 64.827106 174.693494 \nL 64.917046 174.623757 \nL 65.006985 174.414546 \nL 65.141895 174.344809 \nL 65.141895 174.135598 \nL 65.186865 174.135598 \nL 65.456683 173.85665 \nL 65.681532 173.229017 \nL 65.861411 173.15928 \nL 66.13123 172.740858 \nL 66.221169 172.043487 \nL 66.311109 171.97375 \nL 66.356079 171.834276 \nL 66.401049 171.834276 \nL 66.625897 171.346117 \nL 67.120565 170.857958 \nL 67.120565 170.648747 \nL 67.210505 170.648747 \nL 67.615233 170.090851 \nL 67.795112 170.021114 \nL 67.840081 169.393481 \nL 67.974991 169.323744 \nL 68.019961 169.044796 \nL 68.06493 169.044796 \nL 68.424689 168.207952 \nL 68.469658 168.207952 \nL 68.559598 167.78953 \nL 68.694507 167.719793 \nL 68.874386 167.440845 \nL 68.919356 167.161897 \nL 69.054265 167.09216 \nL 69.099235 166.743475 \nL 69.279114 166.743475 \nL 69.369054 166.464527 \nL 69.638873 166.39479 \nL 69.728812 166.115841 \nL 69.998631 166.046104 \nL 70.08857 165.90663 \nL 70.358389 165.836893 \nL 70.538268 165.348734 \nL 70.673177 165.139523 \nL 70.808087 165.069786 \nL 70.898026 164.930312 \nL 71.122875 164.860575 \nL 71.212815 164.372416 \nL 71.617543 164.302679 \nL 71.662513 164.163205 \nL 72.11221 164.163205 \nL 72.11221 164.023731 \nL 72.24712 164.023731 \nL 72.292089 163.047413 \nL 72.426999 163.047413 \nL 72.426999 162.907939 \nL 72.471969 162.907939 \nL 72.696817 162.838202 \nL 72.696817 162.698728 \nL 72.786757 162.698728 \nL 72.831727 162.698728 \nL 72.831727 162.559254 \nL 72.966636 162.559254 \nL 72.966636 162.489517 \nL 72.966636 162.280306 \nL 73.101546 162.280306 \nL 73.191485 161.792147 \nL 73.236455 161.792147 \nL 73.326394 161.443462 \nL 73.461304 161.373725 \nL 73.686153 161.094777 \nL 73.731122 160.885566 \nL 74.000941 160.885566 \nL 74.000941 160.815829 \nL 74.360699 160.606618 \nL 74.360699 160.467144 \nL 74.405669 160.467144 \nL 74.585548 160.397407 \nL 74.630518 159.909248 \nL 74.810397 159.839511 \nL 74.900337 159.560562 \nL 75.035246 159.560562 \nL 75.125186 158.793455 \nL 75.439974 158.165822 \nL 75.664823 158.165822 \nL 75.664823 158.026348 \nL 75.754762 158.026348 \nL 75.844702 157.817137 \nL 75.934642 157.468452 \nL 76.024581 157.468452 \nL 76.069551 157.189504 \nL 76.114521 157.189504 \nL 76.519249 156.422397 \nL 76.744098 156.35266 \nL 76.834037 156.003975 \nL 76.879007 156.003975 \nL 76.923977 155.725027 \nL 77.058886 155.725027 \nL 77.058886 155.65529 \nL 77.283735 155.167131 \nL 77.328705 154.888183 \nL 77.508584 154.469761 \nL 77.643493 154.469761 \nL 77.733433 154.190813 \nL 77.913312 154.121076 \nL 77.958282 153.842128 \nL 78.003251 153.842128 \nL 78.27307 153.353968 \nL 78.36301 152.726335 \nL 78.587858 152.447387 \nL 78.677798 152.028965 \nL 78.902647 152.028965 \nL 78.992586 150.913173 \nL 79.037556 150.913173 \nL 79.037556 150.703962 \nL 79.217435 150.634225 \nL 79.307375 150.146066 \nL 79.442284 150.146066 \nL 79.667133 149.867118 \nL 79.757073 149.378959 \nL 79.847012 149.309222 \nL 79.891982 149.100011 \nL 79.936952 149.100011 \nL 80.566529 148.123693 \nL 80.881317 148.123693 \nL 80.881317 147.914482 \nL 81.331015 147.286849 \nL 81.331015 146.868426 \nL 81.510894 146.868426 \nL 81.510894 146.798689 \nL 81.510894 146.589478 \nL 81.600834 146.589478 \nL 81.645803 146.589478 \nL 81.690773 146.031582 \nL 81.825683 145.961845 \nL 81.825683 145.61316 \nL 81.960592 145.61316 \nL 81.960592 145.473686 \nL 82.185441 145.473686 \nL 82.27538 145.055264 \nL 82.36532 144.985527 \nL 82.455259 144.567105 \nL 82.859987 144.497368 \nL 82.904957 144.148683 \nL 83.174776 144.078946 \nL 83.219746 143.730261 \nL 83.489564 143.660524 \nL 83.579504 143.311839 \nL 83.714413 143.242102 \nL 83.759383 142.893417 \nL 84.029202 142.82368 \nL 84.074171 142.544732 \nL 84.164111 142.544732 \nL 84.209081 142.265784 \nL 84.254051 142.265784 \nL 84.29902 142.12631 \nL 84.523869 142.056573 \nL 84.613809 141.777625 \nL 84.973567 141.707888 \nL 84.973567 141.638151 \nL 85.153446 141.638151 \nL 85.243386 141.149992 \nL 85.468235 141.080255 \nL 85.648114 140.801307 \nL 85.827993 140.801307 \nL 85.917932 140.592095 \nL 86.097811 140.24341 \nL 86.32266 140.24341 \nL 86.4126 139.755251 \nL 86.592479 139.755251 \nL 86.592479 139.615777 \nL 87.222056 138.709196 \nL 87.311995 138.430248 \nL 87.356965 138.430248 \nL 87.401935 138.1513 \nL 87.536844 138.081563 \nL 87.581814 137.802615 \nL 87.716723 137.732878 \nL 87.761693 137.244719 \nL 87.806663 137.244719 \nL 87.851633 137.174982 \nL 88.031512 137.105245 \nL 88.256361 136.826297 \nL 88.571149 136.75656 \nL 88.571149 136.686823 \nL 88.751028 136.686823 \nL 88.795998 136.477612 \nL 89.020847 136.407875 \nL 89.020847 136.338138 \nL 89.380605 136.268401 \nL 89.425575 136.05919 \nL 89.650424 136.05919 \nL 89.650424 135.710505 \nL 89.920243 135.640768 \nL 90.235031 134.943398 \nL 90.45988 134.873661 \nL 90.45988 134.803924 \nL 90.54982 134.803924 \nL 90.684729 134.734187 \nL 90.684729 134.594713 \nL 90.729699 134.594713 \nL 90.909578 134.385502 \nL 90.999517 133.757868 \nL 91.224366 133.688131 \nL 91.269336 133.409183 \nL 91.404245 133.409183 \nL 91.404245 133.269709 \nL 91.629094 133.199972 \nL 91.808973 132.990761 \nL 91.988852 132.921024 \nL 92.078792 132.502602 \nL 92.303641 132.432865 \nL 92.39358 132.223654 \nL 92.43855 132.223654 \nL 92.52849 131.526284 \nL 92.708369 131.456547 \nL 92.798308 130.968388 \nL 93.113097 130.968388 \nL 93.113097 130.898651 \nL 93.472855 129.99207 \nL 93.517825 129.434174 \nL 93.787644 129.364437 \nL 93.967523 129.085489 \nL 94.057462 129.085489 \nL 94.147402 128.736804 \nL 94.282311 128.736804 \nL 94.282311 128.59733 \nL 94.327281 128.59733 \nL 94.911888 128.109171 \nL 94.911888 127.969697 \nL 95.136737 127.690748 \nL 95.226676 127.481537 \nL 95.271646 127.481537 \nL 95.271646 127.342063 \nL 95.361586 127.342063 \nL 95.631404 126.923641 \nL 95.631404 126.71443 \nL 95.946193 126.644693 \nL 95.991163 126.365745 \nL 96.216012 126.296008 \nL 96.305951 126.086797 \nL 96.48583 126.01706 \nL 96.48583 125.947323 \nL 96.890558 125.877586 \nL 96.980498 125.668375 \nL 97.070437 125.668375 \nL 97.070437 125.598638 \nL 97.834924 125.110479 \nL 97.969833 124.971005 \nL 98.059772 124.971005 \nL 98.64438 123.92495 \nL 98.64438 123.785476 \nL 99.049108 123.715739 \nL 99.049108 123.646002 \nL 99.094077 123.646002 \nL 99.408866 123.646002 \nL 99.453836 123.157843 \nL 99.543775 123.157843 \nL 99.543775 123.018369 \nL 99.813594 122.948632 \nL 99.903533 122.390736 \nL 99.993473 122.320999 \nL 100.083413 122.042051 \nL 100.398201 121.763103 \nL 100.802929 121.205206 \nL 100.982808 121.135469 \nL 100.982808 120.995995 \nL 101.342566 120.577573 \nL 101.432506 120.298625 \nL 101.972143 120.228888 \nL 101.972143 120.159151 \nL 102.331901 120.089414 \nL 102.376871 119.94994 \nL 102.511781 119.94994 \nL 102.511781 119.810466 \nL 102.60172 119.810466 \nL 102.69166 119.740729 \nL 102.69166 119.670992 \nL 102.781599 119.670992 \nL 102.916509 119.601255 \nL 102.916509 119.531518 \nL 103.141357 119.461781 \nL 103.456146 118.903885 \nL 103.546085 118.415726 \nL 103.770934 118.345989 \nL 103.905844 117.927567 \nL 104.220632 117.85783 \nL 104.265602 117.578882 \nL 104.62536 117.509145 \nL 104.760269 117.369671 \nL 105.164997 117.299934 \nL 105.164997 117.230197 \nL 105.749605 116.672301 \nL 106.334212 116.46309 \nL 106.379181 116.184142 \nL 106.514091 116.184142 \nL 106.559061 115.835457 \nL 106.649 115.835457 \nL 106.649 115.695983 \nL 106.78391 115.695983 \nL 106.78391 115.626246 \nL 106.828879 115.556509 \nL 106.918819 115.207824 \nL 107.233607 115.138087 \nL 107.323547 114.998612 \nL 107.503426 114.928875 \nL 107.728275 114.510453 \nL 107.863184 114.510453 \nL 107.998094 114.301242 \nL 108.088033 114.301242 \nL 108.088033 114.161768 \nL 108.312882 114.092031 \nL 108.357852 114.022294 \nL 108.582701 113.952557 \nL 108.582701 113.88282 \nL 108.67264 113.88282 \nL 108.897489 113.813083 \nL 108.897489 113.743346 \nL 109.032398 113.743346 \nL 109.122338 113.324924 \nL 110.066703 113.255187 \nL 110.111673 113.115713 \nL 110.471431 113.045976 \nL 110.561371 112.906502 \nL 111.011069 112.836765 \nL 111.011069 112.767028 \nL 111.101008 112.767028 \nL 111.145978 112.767028 \nL 111.235918 112.48808 \nL 111.865494 110.953866 \nL 111.955434 110.744655 \nL 113.349497 109.559126 \nL 113.439437 109.419652 \nL 113.574346 109.349915 \nL 113.574346 109.280178 \nL 113.664286 109.280178 \nL 113.934104 109.210441 \nL 113.934104 109.00123 \nL 113.979074 109.00123 \nL 114.158953 109.00123 \nL 114.158953 108.861756 \nL 114.293862 108.861756 \nL 114.383802 108.582807 \nL 114.518711 108.582807 \nL 114.608651 108.234122 \nL 114.74356 108.234122 \nL 114.74356 108.164385 \nL 114.8335 108.094648 \nL 115.193258 108.024911 \nL 115.238228 107.8157 \nL 115.283198 107.8157 \nL 115.328167 107.745963 \nL 115.328167 107.467015 \nL 115.418107 107.467015 \nL 115.642956 107.397278 \nL 115.732895 107.188067 \nL 116.137623 106.630171 \nL 116.407442 106.490697 \nL 116.497382 106.142012 \nL 116.947079 106.072275 \nL 116.992049 105.863064 \nL 117.081989 105.653853 \nL 117.216898 105.653853 \nL 117.666596 105.444642 \nL 117.801505 105.444642 \nL 117.801505 105.235431 \nL 117.891445 105.235431 \nL 118.610961 104.468324 \nL 118.610961 104.32885 \nL 118.745871 104.32885 \nL 119.195568 103.492006 \nL 120.094964 102.655162 \nL 120.184903 102.655162 \nL 120.184903 102.515688 \nL 120.679571 102.515688 \nL 120.724541 102.306477 \nL 120.769511 102.306477 \nL 120.94939 102.306477 \nL 121.039329 101.888054 \nL 121.219208 101.818317 \nL 121.354118 101.74858 \nL 121.533997 101.74858 \nL 121.578967 101.539369 \nL 121.668906 101.539369 \nL 121.668906 101.469632 \nL 121.938725 101.120947 \nL 122.298483 101.05121 \nL 122.388423 100.841999 \nL 122.433392 100.841999 \nL 122.523332 100.35384 \nL 122.658241 100.284103 \nL 123.467697 99.865681 \nL 123.467697 99.586733 \nL 123.557637 99.586733 \nL 123.737516 99.307785 \nL 124.367093 99.238048 \nL 124.367093 99.168311 \nL 124.636912 99.098574 \nL 124.726851 98.889363 \nL 124.90673 98.889363 \nL 125.311458 98.331467 \nL 125.761156 98.26173 \nL 125.761156 98.191993 \nL 125.806126 98.191993 \nL 126.030975 98.191993 \nL 126.120914 97.913045 \nL 126.165884 97.913045 \nL 126.210854 97.773571 \nL 126.525642 97.773571 \nL 127.06528 97.285412 \nL 127.380068 96.448568 \nL 127.784796 96.378831 \nL 127.874736 96.239357 \nL 128.144554 96.239357 \nL 128.95401 95.751197 \nL 129.223829 95.68146 \nL 129.223829 95.611723 \nL 129.583587 95.541986 \nL 129.583587 95.402512 \nL 129.763466 95.332775 \nL 129.763466 95.263038 \nL 130.348073 95.263038 \nL 130.393043 95.053827 \nL 130.482983 95.053827 \nL 130.482983 94.98409 \nL 130.93268 94.426194 \nL 131.02262 94.356457 \nL 131.11256 94.007772 \nL 131.607227 93.938035 \nL 131.607227 93.868298 \nL 131.832076 93.798561 \nL 131.966985 93.659087 \nL 132.236804 93.58935 \nL 132.236804 93.449876 \nL 132.686502 93.380139 \nL 132.686502 93.310402 \nL 132.866381 93.240665 \nL 132.956321 92.961717 \nL 133.226139 92.682769 \nL 133.271109 92.264347 \nL 133.495958 92.19461 \nL 133.495958 92.055136 \nL 133.540928 92.055136 \nL 133.720807 91.985399 \nL 133.810746 91.636714 \nL 133.945656 91.566977 \nL 134.215474 91.49724 \nL 134.440323 91.427503 \nL 134.530263 90.939344 \nL 134.845051 90.869607 \nL 134.845051 90.79987 \nL 134.934991 90.79987 \nL 135.02493 90.79987 \nL 135.02493 90.660396 \nL 135.11487 90.660396 \nL 135.15984 90.590659 \nL 135.384689 90.520922 \nL 135.384689 90.451185 \nL 135.654507 90.381448 \nL 135.654507 90.311711 \nL 135.744447 90.311711 \nL 135.834386 90.241974 \nL 135.879356 90.032763 \nL 136.239114 90.032763 \nL 136.329054 89.684078 \nL 136.598873 89.684078 \nL 136.598873 89.544604 \nL 136.688812 89.544604 \nL 136.868691 89.544604 \nL 136.868691 89.474867 \nL 136.913661 89.405129 \nL 137.408329 89.405129 \nL 137.408329 89.265655 \nL 137.858026 89.195918 \nL 137.858026 88.91697 \nL 137.947966 88.91697 \nL 137.992936 88.847233 \nL 138.487603 88.777496 \nL 138.487603 88.707759 \nL 138.892331 88.638022 \nL 138.982271 88.359074 \nL 139.11718 88.359074 \nL 139.20712 88.080126 \nL 139.566878 88.080126 \nL 139.566878 87.940652 \nL 139.656817 87.940652 \nL 139.926636 87.870915 \nL 139.971606 87.591967 \nL 140.016576 87.591967 \nL 140.241425 87.382756 \nL 140.511243 87.382756 \nL 140.511243 87.173545 \nL 140.691122 87.103808 \nL 140.781062 86.82486 \nL 140.826032 86.82486 \nL 141.005911 86.545912 \nL 141.14082 86.476175 \nL 141.365669 86.197227 \nL 141.770397 86.197227 \nL 141.860337 85.778805 \nL 142.310034 85.709068 \nL 142.355004 85.569594 \nL 142.894642 85.499857 \nL 142.984581 85.360383 \nL 143.2544 85.290646 \nL 143.344339 84.872224 \nL 143.839007 84.802487 \nL 143.839007 84.73275 \nL 143.928946 84.73275 \nL 144.198765 84.453802 \nL 144.288705 84.384065 \nL 144.333674 84.105117 \nL 144.423614 84.105117 \nL 144.423614 84.03538 \nL 144.828342 83.477484 \nL 145.14313 83.407747 \nL 145.637798 82.780113 \nL 146.177435 82.710376 \nL 146.267375 82.570902 \nL 146.537194 82.501165 \nL 146.627133 82.361691 \nL 146.672103 82.361691 \nL 146.672103 82.222217 \nL 147.076831 82.15248 \nL 147.076831 81.943269 \nL 147.16677 81.943269 \nL 147.25671 81.943269 \nL 147.30168 81.734058 \nL 147.391619 81.734058 \nL 147.391619 81.524847 \nL 147.436589 81.524847 \nL 147.526529 81.45511 \nL 147.751378 81.45511 \nL 147.796347 81.106425 \nL 147.886287 81.106425 \nL 147.886287 80.966951 \nL 148.021196 80.966951 \nL 148.021196 80.897214 \nL 148.111136 80.618266 \nL 148.470894 80.548529 \nL 148.560834 80.269581 \nL 148.785683 80.199844 \nL 148.785683 80.130107 \nL 149.23538 80.06037 \nL 149.37029 79.920896 \nL 149.550169 79.851159 \nL 149.595139 79.781422 \nL 149.775018 79.711685 \nL 149.864957 79.432737 \nL 150.224715 79.363 \nL 150.269685 79.084052 \nL 150.314655 79.084052 \nL 150.449564 79.084052 \nL 150.449564 78.805104 \nL 150.944232 78.735367 \nL 151.034171 78.386682 \nL 151.169081 78.386682 \nL 151.25902 78.037997 \nL 152.113446 77.96826 \nL 152.113446 77.828786 \nL 152.203386 77.828786 \nL 152.428235 77.480101 \nL 152.787993 77.410364 \nL 152.787993 77.27089 \nL 152.967872 77.201153 \nL 153.192721 76.922205 \nL 153.552479 76.852468 \nL 153.552479 76.782731 \nL 153.912237 76.712994 \nL 154.002177 76.503782 \nL 154.316965 76.434045 \nL 154.406905 76.294571 \nL 154.631754 76.224834 \nL 154.676723 76.08536 \nL 154.991512 76.015623 \nL 155.081451 75.806412 \nL 155.216361 75.736675 \nL 155.3063 75.527464 \nL 155.621089 75.527464 \nL 155.711028 75.248516 \nL 155.935877 75.039305 \nL 156.385575 74.969568 \nL 156.475515 74.830094 \nL 156.700363 74.760357 \nL 156.700363 74.69062 \nL 156.835273 74.69062 \nL 156.835273 74.551146 \nL 157.41988 74.481409 \nL 157.734668 74.062987 \nL 157.914548 74.062987 \nL 158.004487 73.784039 \nL 158.094427 73.714302 \nL 158.094427 73.644565 \nL 158.813943 73.574828 \nL 158.813943 73.29588 \nL 158.903883 73.29588 \nL 159.308611 73.226143 \nL 159.308611 73.156406 \nL 159.53346 73.086669 \nL 159.53346 72.947195 \nL 159.713339 72.877458 \nL 159.758308 72.807721 \nL 159.848248 72.459036 \nL 160.208006 72.389299 \nL 160.208006 72.249825 \nL 160.522795 72.180088 \nL 160.612734 72.040614 \nL 161.062432 71.691929 \nL 161.37722 71.622192 \nL 161.42219 71.412981 \nL 162.096737 71.343244 \nL 162.186676 71.20377 \nL 162.546435 71.134033 \nL 162.681344 71.064296 \nL 162.996132 71.064296 \nL 162.996132 70.924822 \nL 163.310921 70.855085 \nL 163.310921 70.785348 \nL 164.210316 70.715611 \nL 164.390196 70.5064 \nL 164.749954 70.436663 \nL 164.749954 70.297189 \nL 164.794924 70.297189 \nL 165.199652 70.227451 \nL 165.289591 70.01824 \nL 165.379531 69.948503 \nL 165.46947 69.599818 \nL 165.51444 69.530081 \nL 165.739289 69.460344 \nL 165.739289 69.32087 \nL 166.413836 69.251133 \nL 166.413836 69.111659 \nL 166.728624 69.041922 \nL 166.818564 68.484026 \nL 167.088382 68.414289 \nL 167.088382 68.274815 \nL 167.358201 68.205078 \nL 167.58305 68.205078 \nL 167.672989 67.995867 \nL 167.942808 67.92613 \nL 168.257597 67.716919 \nL 168.527415 67.647182 \nL 168.527415 67.577445 \nL 168.617355 67.577445 \nL 168.887173 67.507708 \nL 168.887173 67.437971 \nL 169.246932 67.368234 \nL 169.336871 67.019549 \nL 169.786569 66.949812 \nL 169.831539 66.810338 \nL 170.011418 66.740601 \nL 170.281237 66.391916 \nL 170.371176 66.252442 \nL 170.461116 66.252442 \nL 170.506085 65.973494 \nL 170.955783 65.903757 \nL 171.045723 65.764283 \nL 171.315541 65.485335 \nL 171.58536 65.415598 \nL 171.58536 65.345861 \nL 171.855179 65.276124 \nL 171.855179 65.206387 \nL 171.945118 65.206387 \nL 172.169967 65.206387 \nL 172.169967 65.13665 \nL 172.709605 64.718228 \nL 173.204272 64.648491 \nL 173.294212 64.43928 \nL 173.65397 64.369543 \nL 173.65397 64.230069 \nL 173.788879 64.230069 \nL 173.788879 64.090595 \nL 173.878819 64.090595 \nL 174.058698 64.090595 \nL 174.148638 63.672172 \nL 174.598335 63.602435 \nL 174.643305 63.462961 \nL 174.868154 63.462961 \nL 174.868154 63.393224 \nL 174.913124 63.323487 \nL 175.407791 63.25375 \nL 175.497731 62.974802 \nL 175.857489 62.905065 \nL 175.857489 62.835328 \nL 176.352157 62.765591 \nL 176.666945 62.277432 \nL 177.116643 62.207695 \nL 177.116643 62.068221 \nL 178.105978 61.998484 \nL 178.195918 61.649799 \nL 178.330827 61.580062 \nL 178.330827 61.370851 \nL 178.420766 61.370851 \nL 178.555676 61.370851 \nL 178.555676 61.231377 \nL 178.735555 61.231377 \nL 178.780525 60.743218 \nL 178.825494 60.743218 \nL 179.230222 60.673481 \nL 179.230222 60.603744 \nL 179.275192 60.603744 \nL 179.67992 60.534007 \nL 179.67992 60.46427 \nL 179.76986 60.46427 \nL 180.084648 60.394533 \nL 180.129618 60.185322 \nL 180.264527 60.115585 \nL 180.264527 59.7669 \nL 180.444406 59.7669 \nL 180.444406 59.697163 \nL 180.579316 59.557689 \nL 181.883439 59.487952 \nL 181.928409 59.348478 \nL 182.513016 59.278741 \nL 182.513016 59.209004 \nL 182.782835 59.209004 \nL 182.782835 58.930056 \nL 182.962714 58.860319 \nL 182.962714 58.790582 \nL 183.232533 58.790582 \nL 183.232533 58.651108 \nL 183.502351 58.581371 \nL 183.547321 58.441897 \nL 183.81714 58.37216 \nL 183.81714 58.302423 \nL 183.86211 58.302423 \nL 184.491687 57.953738 \nL 185.570961 57.884001 \nL 185.570961 57.814264 \nL 186.245508 57.744527 \nL 186.335447 57.67479 \nL 186.425387 57.18663 \nL 186.785145 57.116893 \nL 187.234843 56.907682 \nL 187.324783 56.698471 \nL 187.459692 56.628734 \nL 187.639571 56.558997 \nL 187.639571 56.419523 \nL 187.729511 56.419523 \nL 187.90939 56.210312 \nL 188.224178 56.140575 \nL 188.314118 55.931364 \nL 188.718846 55.931364 \nL 188.718846 55.722153 \nL 188.808785 55.722153 \nL 189.258483 55.722153 \nL 189.303453 55.512942 \nL 189.573271 55.443205 \nL 189.573271 55.373468 \nL 189.708181 55.303731 \nL 190.112909 55.303731 \nL 190.157879 55.09452 \nL 190.562607 55.024783 \nL 190.607576 54.885309 \nL 191.372063 54.885309 \nL 191.417032 54.606361 \nL 191.686851 54.536624 \nL 191.731821 54.327413 \nL 192.361398 54.257676 \nL 192.406368 54.048465 \nL 192.451337 54.048465 \nL 193.395703 53.560306 \nL 193.395703 53.420832 \nL 193.665521 53.420832 \nL 193.755461 53.211621 \nL 194.385038 53.141884 \nL 194.430008 53.00241 \nL 194.654856 52.932673 \nL 194.654856 52.862936 \nL 195.104554 52.793199 \nL 195.194494 52.514251 \nL 195.644192 52.444514 \nL 195.734131 52.235303 \nL 196.138859 52.165566 \nL 196.138859 52.095829 \nL 196.228799 52.095829 \nL 196.948315 52.026092 \nL 196.948315 51.956355 \nL 197.487952 51.886618 \nL 197.532922 51.537933 \nL 198.117529 51.468196 \nL 198.387348 51.189248 \nL 198.567227 51.189248 \nL 198.567227 51.119511 \nL 199.511593 50.770825 \nL 199.511593 50.631351 \nL 199.556562 50.631351 \nL 199.736441 50.631351 \nL 199.826381 50.42214 \nL 200.0962 50.352403 \nL 200.0962 50.282666 \nL 200.635837 50.212929 \nL 200.725777 49.933981 \nL 200.995595 49.933981 \nL 201.085535 49.655033 \nL 201.355353 49.585296 \nL 201.490263 49.445822 \nL 201.670142 49.376085 \nL 201.715112 49.166874 \nL 201.98493 49.097137 \nL 202.0299 48.957663 \nL 202.794386 48.887926 \nL 202.884326 48.818189 \nL 204.09851 48.608978 \nL 204.14348 48.260293 \nL 204.323359 48.190556 \nL 204.323359 48.120819 \nL 204.683117 48.051082 \nL 204.728087 47.981345 \nL 205.222754 47.911608 \nL 205.222754 47.841871 \nL 205.807361 47.772134 \nL 205.807361 47.702397 \nL 205.897301 47.702397 \nL 206.616817 47.63266 \nL 206.706757 47.493186 \nL 207.021546 47.423449 \nL 207.066515 47.283975 \nL 207.381304 47.283975 \nL 207.381304 47.214238 \nL 207.516213 47.005027 \nL 208.550518 46.93529 \nL 208.595488 46.795816 \nL 209.359974 46.726079 \nL 209.359974 46.656342 \nL 209.944581 46.447131 \nL 210.034521 46.447131 \nL 210.034521 46.307657 \nL 210.12446 46.307657 \nL 210.25937 46.168183 \nL 210.709067 46.098446 \nL 210.888946 45.889235 \nL 210.933916 45.819498 \nL 211.293674 45.819498 \nL 211.293674 45.680024 \nL 212.462889 45.610287 \nL 213.092466 45.261602 \nL 213.317314 45.191865 \nL 213.407254 45.052391 \nL 214.30665 44.982654 \nL 214.30665 44.912917 \nL 215.026166 44.84318 \nL 215.206045 44.703706 \nL 215.970531 44.633968 \nL 216.28532 44.564231 \nL 216.600108 44.564231 \nL 216.690048 44.285283 \nL 217.139746 44.145809 \nL 217.364595 44.076072 \nL 217.364595 44.006335 \nL 218.488839 43.936598 \nL 218.488839 43.866861 \nL 218.578779 43.866861 \nL 218.668718 43.797124 \nL 219.028476 43.65765 \nL 219.298295 43.65765 \nL 219.298295 43.587913 \nL 219.792963 43.448439 \nL 219.972842 43.448439 \nL 220.017811 43.169491 \nL 220.28763 43.169491 \nL 220.37757 43.030017 \nL 221.276965 42.96028 \nL 221.366905 42.820806 \nL 221.411875 42.820806 \nL 221.456844 42.611595 \nL 221.636723 42.611595 \nL 221.636723 42.541858 \nL 221.771633 42.472121 \nL 221.771633 42.332647 \nL 222.041451 42.26291 \nL 222.041451 42.193173 \nL 222.131391 42.193173 \nL 222.176361 42.123436 \nL 223.120726 42.123436 \nL 223.210666 41.844488 \nL 224.065092 41.774751 \nL 224.28994 41.56554 \nL 224.919517 41.495803 \nL 225.009457 41.286592 \nL 225.459155 41.216855 \nL 225.459155 41.147118 \nL 225.684004 41.077381 \nL 225.728973 41.007644 \nL 226.133701 40.937907 \nL 226.133701 40.86817 \nL 226.223641 40.86817 \nL 226.583399 40.86817 \nL 226.628369 40.519485 \nL 227.392855 40.449748 \nL 227.392855 40.310274 \nL 227.482795 40.310274 \nL 227.707644 40.240537 \nL 227.797583 40.101063 \nL 228.112372 40.031326 \nL 228.112372 39.961589 \nL 228.157341 39.961589 \nL 228.42716 39.891852 \nL 228.876858 39.822115 \nL 228.966797 39.682641 \nL 229.101707 39.682641 \nL 229.101707 39.47343 \nL 229.641344 39.403693 \nL 229.641344 39.333956 \nL 230.046072 39.264219 \nL 230.136012 39.055008 \nL 230.945468 38.985271 \nL 230.945468 38.915534 \nL 231.035407 38.915534 \nL 231.664984 38.845797 \nL 231.754924 38.77606 \nL 232.42947 38.706323 \nL 232.609349 38.566849 \nL 233.463775 38.497112 \nL 233.463775 38.427375 \nL 233.508745 38.427375 \nL 233.688624 38.357638 \nL 233.688624 38.218163 \nL 234.003413 38.148426 \nL 234.048382 37.939215 \nL 234.273231 37.869478 \nL 234.273231 37.799741 \nL 234.363171 37.799741 \nL 234.722929 37.730004 \nL 234.722929 37.660267 \nL 234.812869 37.660267 \nL 234.857838 37.520793 \nL 235.082687 37.520793 \nL 235.082687 37.381319 \nL 235.172627 37.381319 \nL 235.217597 37.311582 \nL 235.487415 37.241845 \nL 235.487415 37.172108 \nL 235.577355 37.172108 \nL 237.600995 37.172108 \nL 237.600995 37.032634 \nL 238.005723 36.962897 \nL 238.005723 36.89316 \nL 238.050693 36.89316 \nL 238.455421 36.823423 \nL 238.455421 36.753686 \nL 238.725239 36.683949 \nL 238.725239 36.614212 \nL 238.770209 36.614212 \nL 239.129967 36.544475 \nL 239.174937 36.474738 \nL 239.669605 36.474738 \nL 239.759544 36.265527 \nL 239.984393 36.19579 \nL 240.074333 36.056316 \nL 240.389121 36.056316 \nL 240.389121 35.986579 \nL 240.61397 35.916842 \nL 241.783184 35.847105 \nL 241.873124 35.707631 \nL 242.63761 35.637894 \nL 242.68258 35.358946 \nL 243.042338 35.358946 \nL 243.042338 35.219472 \nL 243.492036 35.149735 \nL 243.492036 35.079998 \nL 243.581975 35.079998 \nL 244.166582 35.010261 \nL 244.436401 34.940524 \nL 245.470706 34.870787 \nL 245.875434 34.591839 \nL 246.145253 34.591839 \nL 246.145253 34.522102 \nL 246.190222 34.452365 \nL 246.325132 34.452365 \nL 246.460041 34.312891 \nL 246.999678 34.243154 \nL 246.999678 34.173417 \nL 247.089618 34.173417 \nL 247.989014 34.173417 \nL 248.168893 34.033943 \nL 249.428047 33.964206 \nL 249.428047 33.824732 \nL 250.462351 33.754995 \nL 250.462351 33.615521 \nL 251.631566 33.545784 \nL 251.631566 33.476047 \nL 252.935689 33.40631 \nL 252.935689 33.336573 \nL 253.025629 33.336573 \nL 253.610236 33.266836 \nL 253.655206 33.127362 \nL 254.509631 33.057625 \nL 254.509631 32.987888 \nL 255.004299 32.918151 \nL 255.004299 32.848414 \nL 255.139208 32.848414 \nL 255.139208 32.639203 \nL 256.128543 32.569466 \nL 256.128543 32.499729 \nL 257.387697 32.429992 \nL 257.432667 32.290518 \nL 258.107214 32.290518 \nL 258.107214 32.220781 \nL 258.332063 32.151044 \nL 259.366368 32.081307 \nL 259.366368 32.01157 \nL 259.456307 32.01157 \nL 259.636186 31.941833 \nL 259.636186 31.872095 \nL 259.726126 31.872095 \nL 260.265763 31.802358 \nL 260.310733 31.662884 \nL 260.670491 31.593147 \nL 260.670491 31.52341 \nL 263.593527 31.453673 \nL 263.593527 31.383936 \nL 263.638496 31.383936 \nL 264.492922 31.314199 \nL 264.582862 31.244462 \nL 264.89765 31.174725 \nL 264.89765 31.104988 \nL 264.94262 31.104988 \nL 265.976925 31.035251 \nL 266.066865 30.82604 \nL 266.246744 30.82604 \nL 266.246744 30.686566 \nL 266.831351 30.616829 \nL 266.831351 30.547092 \nL 266.876321 30.547092 \nL 268.450263 30.477355 \nL 268.630142 30.407618 \nL 269.889296 30.337881 \nL 269.934265 30.268144 \nL 270.653782 30.198407 \nL 270.923601 29.919459 \nL 271.553177 29.849722 \nL 271.553177 29.779985 \nL 272.137785 29.710248 \nL 272.182754 29.570774 \nL 272.947241 29.501037 \nL 272.947241 29.4313 \nL 273.486878 29.361563 \nL 273.531848 29.222089 \nL 273.576817 29.222089 \nL 275.690397 29.152352 \nL 275.690397 29.082615 \nL 276.589793 29.012878 \nL 276.634762 28.873404 \nL 277.803977 28.873404 \nL 277.803977 28.73393 \nL 277.848946 28.73393 \nL 279.018161 28.664193 \nL 279.018161 28.594456 \nL 279.1081 28.594456 \nL 279.647738 28.524719 \nL 279.692707 28.385245 \nL 280.367254 28.315508 \nL 280.367254 28.245771 \nL 280.457194 28.245771 \nL 282.480834 28.245771 \nL 282.480834 28.176034 \nL 282.615743 28.03656 \nL 284.369564 27.966823 \nL 284.414534 27.897086 \nL 285.583748 27.827349 \nL 285.583748 27.618138 \nL 285.898537 27.548401 \nL 285.898537 27.478664 \nL 286.168355 27.408927 \nL 286.168355 27.33919 \nL 286.258295 27.33919 \nL 287.652358 27.269453 \nL 287.652358 27.199716 \nL 287.742298 27.199716 \nL 289.001451 27.129979 \nL 289.091391 26.851031 \nL 290.665333 26.781294 \nL 290.665333 26.711557 \nL 290.755273 26.711557 \nL 292.059396 26.64182 \nL 292.149336 26.572083 \nL 295.567039 26.502346 \nL 295.567039 26.432609 \nL 295.612009 26.432609 \nL 300.019047 26.362872 \nL 300.064017 26.293135 \nL 301.682929 26.223398 \nL 301.682929 26.153661 \nL 303.616629 26.083924 \nL 303.706569 25.874713 \nL 305.325481 25.804976 \nL 305.325481 25.735239 \nL 306.224877 25.665502 \nL 306.224877 25.595765 \nL 306.269846 25.595765 \nL 307.214212 25.595765 \nL 307.304151 25.386553 \nL 309.372761 25.316816 \nL 309.417731 25.247079 \nL 310.182217 25.177342 \nL 310.227187 25.107605 \nL 312.970343 25.037868 \nL 312.970343 24.968131 \nL 313.914709 24.898394 \nL 313.914709 24.828657 \nL 314.004648 24.828657 \nL 316.612895 24.75892 \nL 316.612895 24.689183 \nL 316.657865 24.689183 \nL 318.591566 24.619446 \nL 318.906354 24.549709 \nL 321.874359 24.479972 \nL 321.919329 24.410235 \nL 322.998604 24.340498 \nL 322.998604 24.270761 \nL 323.088543 24.270761 \nL 325.516912 24.201024 \nL 325.651821 24.131287 \nL 328.529887 24.06155 \nL 328.574856 23.991813 \nL 329.384312 23.922076 \nL 329.384312 23.852339 \nL 329.474252 23.852339 \nL 330.148799 23.782602 \nL 330.283708 23.712865 \nL 331.183104 23.643128 \nL 331.183104 23.573391 \nL 332.442257 23.503654 \nL 332.442257 23.433917 \nL 332.532197 23.433917 \nL 332.622137 23.36418 \nL 333.341653 23.294443 \nL 333.341653 23.224706 \nL 345.348584 23.154969 \nL 345.348584 23.085232 \nL 349.980471 23.085232 \nL 350.070411 22.945758 \nL 350.655018 22.876021 \nL 350.655018 22.806284 \nL 350.744957 22.806284 \nL 357.400484 22.736547 \nL 357.400484 22.66681 \nL 357.445454 22.66681 \nL 363.021707 22.597073 \nL 363.021707 22.527336 \nL 363.066676 22.527336 \nL 377.636885 22.457599 \nL 377.636885 22.387862 \nL 378.58125 22.318125 \nL 378.58125 22.318125 \n\" style=\"fill:none;stroke:#1f77b4;stroke-linecap:square;stroke-width:1.5;\"/>\n   </g>\n   <g id=\"patch_3\">\n    <path d=\"M 43.78125 239.758125 \nL 43.78125 22.318125 \n\" style=\"fill:none;stroke:#000000;stroke-linecap:square;stroke-linejoin:miter;stroke-width:0.8;\"/>\n   </g>\n   <g id=\"patch_4\">\n    <path d=\"M 378.58125 239.758125 \nL 378.58125 22.318125 \n\" style=\"fill:none;stroke:#000000;stroke-linecap:square;stroke-linejoin:miter;stroke-width:0.8;\"/>\n   </g>\n   <g id=\"patch_5\">\n    <path d=\"M 43.78125 239.758125 \nL 378.58125 239.758125 \n\" style=\"fill:none;stroke:#000000;stroke-linecap:square;stroke-linejoin:miter;stroke-width:0.8;\"/>\n   </g>\n   <g id=\"patch_6\">\n    <path d=\"M 43.78125 22.318125 \nL 378.58125 22.318125 \n\" style=\"fill:none;stroke:#000000;stroke-linecap:square;stroke-linejoin:miter;stroke-width:0.8;\"/>\n   </g>\n   <g id=\"text_15\">\n    <!-- ROC curve for SLAFail classifier -->\n    <defs>\n     <path d=\"M 39.40625 66.21875 \nQ 28.65625 66.21875 22.328125 58.203125 \nQ 16.015625 50.203125 16.015625 36.375 \nQ 16.015625 22.609375 22.328125 14.59375 \nQ 28.65625 6.59375 39.40625 6.59375 \nQ 50.140625 6.59375 56.421875 14.59375 \nQ 62.703125 22.609375 62.703125 36.375 \nQ 62.703125 50.203125 56.421875 58.203125 \nQ 50.140625 66.21875 39.40625 66.21875 \nz\nM 39.40625 74.21875 \nQ 54.734375 74.21875 63.90625 63.9375 \nQ 73.09375 53.65625 73.09375 36.375 \nQ 73.09375 19.140625 63.90625 8.859375 \nQ 54.734375 -1.421875 39.40625 -1.421875 \nQ 24.03125 -1.421875 14.8125 8.828125 \nQ 5.609375 19.09375 5.609375 36.375 \nQ 5.609375 53.65625 14.8125 63.9375 \nQ 24.03125 74.21875 39.40625 74.21875 \nz\n\" id=\"DejaVuSans-79\"/>\n     <path d=\"M 64.40625 67.28125 \nL 64.40625 56.890625 \nQ 59.421875 61.53125 53.78125 63.8125 \nQ 48.140625 66.109375 41.796875 66.109375 \nQ 29.296875 66.109375 22.65625 58.46875 \nQ 16.015625 50.828125 16.015625 36.375 \nQ 16.015625 21.96875 22.65625 14.328125 \nQ 29.296875 6.6875 41.796875 6.6875 \nQ 48.140625 6.6875 53.78125 8.984375 \nQ 59.421875 11.28125 64.40625 15.921875 \nL 64.40625 5.609375 \nQ 59.234375 2.09375 53.4375 0.328125 \nQ 47.65625 -1.421875 41.21875 -1.421875 \nQ 24.65625 -1.421875 15.125 8.703125 \nQ 5.609375 18.84375 5.609375 36.375 \nQ 5.609375 53.953125 15.125 64.078125 \nQ 24.65625 74.21875 41.21875 74.21875 \nQ 47.75 74.21875 53.53125 72.484375 \nQ 59.328125 70.75 64.40625 67.28125 \nz\n\" id=\"DejaVuSans-67\"/>\n     <path d=\"M 9.8125 72.90625 \nL 19.671875 72.90625 \nL 19.671875 8.296875 \nL 55.171875 8.296875 \nL 55.171875 0 \nL 9.8125 0 \nz\n\" id=\"DejaVuSans-76\"/>\n     <path d=\"M 34.1875 63.1875 \nL 20.796875 26.90625 \nL 47.609375 26.90625 \nz\nM 28.609375 72.90625 \nL 39.796875 72.90625 \nL 67.578125 0 \nL 57.328125 0 \nL 50.6875 18.703125 \nL 17.828125 18.703125 \nL 11.1875 0 \nL 0.78125 0 \nz\n\" id=\"DejaVuSans-65\"/>\n    </defs>\n    <g transform=\"translate(117.200625 16.318125)scale(0.12 -0.12)\">\n     <use xlink:href=\"#DejaVuSans-82\"/>\n     <use x=\"69.482422\" xlink:href=\"#DejaVuSans-79\"/>\n     <use x=\"148.193359\" xlink:href=\"#DejaVuSans-67\"/>\n     <use x=\"218.017578\" xlink:href=\"#DejaVuSans-32\"/>\n     <use x=\"249.804688\" xlink:href=\"#DejaVuSans-99\"/>\n     <use x=\"304.785156\" xlink:href=\"#DejaVuSans-117\"/>\n     <use x=\"368.164062\" xlink:href=\"#DejaVuSans-114\"/>\n     <use x=\"409.277344\" xlink:href=\"#DejaVuSans-118\"/>\n     <use x=\"468.457031\" xlink:href=\"#DejaVuSans-101\"/>\n     <use x=\"529.980469\" xlink:href=\"#DejaVuSans-32\"/>\n     <use x=\"561.767578\" xlink:href=\"#DejaVuSans-102\"/>\n     <use x=\"596.972656\" xlink:href=\"#DejaVuSans-111\"/>\n     <use x=\"658.154297\" xlink:href=\"#DejaVuSans-114\"/>\n     <use x=\"699.267578\" xlink:href=\"#DejaVuSans-32\"/>\n     <use x=\"731.054688\" xlink:href=\"#DejaVuSans-83\"/>\n     <use x=\"794.53125\" xlink:href=\"#DejaVuSans-76\"/>\n     <use x=\"850.275391\" xlink:href=\"#DejaVuSans-65\"/>\n     <use x=\"918.683594\" xlink:href=\"#DejaVuSans-70\"/>\n     <use x=\"976.0625\" xlink:href=\"#DejaVuSans-97\"/>\n     <use x=\"1037.341797\" xlink:href=\"#DejaVuSans-105\"/>\n     <use x=\"1065.125\" xlink:href=\"#DejaVuSans-108\"/>\n     <use x=\"1092.908203\" xlink:href=\"#DejaVuSans-32\"/>\n     <use x=\"1124.695312\" xlink:href=\"#DejaVuSans-99\"/>\n     <use x=\"1179.675781\" xlink:href=\"#DejaVuSans-108\"/>\n     <use x=\"1207.458984\" xlink:href=\"#DejaVuSans-97\"/>\n     <use x=\"1268.738281\" xlink:href=\"#DejaVuSans-115\"/>\n     <use x=\"1320.837891\" xlink:href=\"#DejaVuSans-115\"/>\n     <use x=\"1372.9375\" xlink:href=\"#DejaVuSans-105\"/>\n     <use x=\"1400.720703\" xlink:href=\"#DejaVuSans-102\"/>\n     <use x=\"1435.925781\" xlink:href=\"#DejaVuSans-105\"/>\n     <use x=\"1463.708984\" xlink:href=\"#DejaVuSans-101\"/>\n     <use x=\"1525.232422\" xlink:href=\"#DejaVuSans-114\"/>\n    </g>\n   </g>\n  </g>\n </g>\n <defs>\n  <clipPath id=\"pa44b6b48f2\">\n   <rect height=\"217.44\" width=\"334.8\" x=\"43.78125\" y=\"22.318125\"/>\n  </clipPath>\n </defs>\n</svg>\n",
      "text/plain": "<Figure size 432x288 with 1 Axes>"
     },
     "metadata": {
      "needs_background": "light"
     },
     "output_type": "display_data"
    }
   ],
   "source": [
    "plt.plot(fpr, tpr)\n",
    "plt.xlim([0.0, 1.0])\n",
    "plt.ylim([0.0, 1.0])\n",
    "plt.title('ROC curve for SLAFail classifier')\n",
    "plt.xlabel('False Positive Rate (1 - Specificity)')\n",
    "plt.ylabel('True Positive Rate (Sensitivity)')\n",
    "plt.grid(True)"
   ]
  },
  {
   "cell_type": "markdown",
   "metadata": {},
   "source": [
    "## Save Details and Performance Measures for Comparison to other Models\n"
   ]
  },
  {
   "cell_type": "code",
   "execution_count": 31,
   "metadata": {},
   "outputs": [
    {
     "data": {
      "text/plain": "{'Name': 'Optimize Round 3: Adding Interaction Terms',\n 'Best Estimator Classification Intercept': array([-0.90415783]),\n 'Best Estimator Classification Coefficients': array([[ 1.59293354e-01,  2.91368383e-01,  1.11916076e+00,\n          1.35144148e+00,  1.32715945e+00,  5.55074960e-02,\n          6.52223487e-01,  4.12747947e-02, -2.23711213e-02,\n         -7.06769881e-02, -8.62674909e-02,  5.39840844e-01,\n         -1.45471602e-02,  1.39538363e-01,  1.26602364e-01,\n          1.19745197e-01, -4.21114140e-02, -5.79452623e-02,\n         -1.42263843e-01, -1.99340922e-01, -4.80149840e-01,\n          6.53363482e-01, -4.52856027e-02, -4.90327229e-04,\n         -5.64893436e-01, -2.03455219e-01, -7.12555558e-02,\n         -4.06959906e-03, -7.27932745e-02,  5.94271895e-02,\n          1.63117229e+00, -2.67207424e-01,  1.67434428e+00,\n         -4.41346203e-02,  1.62837382e-03,  8.02638862e-02,\n          7.85155008e-01, -1.36917851e-01, -1.42411097e-01,\n          8.68015178e-02,  1.48028904e-01,  8.06941782e-02,\n         -2.01599716e-02, -4.43875605e-02,  1.83345568e-02]])}"
     },
     "execution_count": 31,
     "metadata": {},
     "output_type": "execute_result"
    }
   ],
   "source": [
    "PipeLineMetadata['Best Estimator Classification Intercept'] = search.best_estimator_.named_steps.classifier.intercept_\n",
    "PipeLineMetadata['Best Estimator Classification Coefficients'] = search.best_estimator_.named_steps.classifier.coef_\n",
    "PipeLineMetadata"
   ]
  },
  {
   "cell_type": "code",
   "execution_count": 32,
   "metadata": {},
   "outputs": [],
   "source": [
    "PipeLineMetadata['Column Transforms'] = search.best_estimator_.named_steps.column_trans.transformers\n",
    "PipeLineMetadata['Best SearchGridCV score'] = search.best_score_\n",
    "PipeLineMetadata['Best SearchGridCV parameters'] = search.best_params_"
   ]
  },
  {
   "cell_type": "code",
   "execution_count": 33,
   "metadata": {},
   "outputs": [],
   "source": [
    "PipeLineMetadata['Selector'] = search.best_estimator_.named_steps.selector\n",
    "PipeLineMetadata['Classifier'] = search.best_estimator_.named_steps.classifier\n",
    "PipeLineMetadata['PolynomialFeatures'] = search.best_estimator_.named_steps.poly"
   ]
  },
  {
   "cell_type": "code",
   "execution_count": 34,
   "metadata": {},
   "outputs": [
    {
     "data": {
      "text/plain": "{'Name': 'Optimize Round 3: Adding Interaction Terms',\n 'Best Estimator Classification Intercept': array([-0.90415783]),\n 'Best Estimator Classification Coefficients': array([[ 1.59293354e-01,  2.91368383e-01,  1.11916076e+00,\n          1.35144148e+00,  1.32715945e+00,  5.55074960e-02,\n          6.52223487e-01,  4.12747947e-02, -2.23711213e-02,\n         -7.06769881e-02, -8.62674909e-02,  5.39840844e-01,\n         -1.45471602e-02,  1.39538363e-01,  1.26602364e-01,\n          1.19745197e-01, -4.21114140e-02, -5.79452623e-02,\n         -1.42263843e-01, -1.99340922e-01, -4.80149840e-01,\n          6.53363482e-01, -4.52856027e-02, -4.90327229e-04,\n         -5.64893436e-01, -2.03455219e-01, -7.12555558e-02,\n         -4.06959906e-03, -7.27932745e-02,  5.94271895e-02,\n          1.63117229e+00, -2.67207424e-01,  1.67434428e+00,\n         -4.41346203e-02,  1.62837382e-03,  8.02638862e-02,\n          7.85155008e-01, -1.36917851e-01, -1.42411097e-01,\n          8.68015178e-02,  1.48028904e-01,  8.06941782e-02,\n         -2.01599716e-02, -4.43875605e-02,  1.83345568e-02]]),\n 'Column Transforms': [('woeencoder',\n   WOEEncoder(cols=None, drop_invariant=False, handle_missing='value',\n              handle_unknown='value', random_state=None, randomized=False,\n              regularization=1.0, return_df=True, sigma=0.05, verbose=0),\n   Index(['Service_Component_WBS_aff', 'Urgency', 'KM_number',\n          'Open_Time_HourOfDay', 'Open_Time_DayOfWeek', 'CI_TypeSubType_aff'],\n         dtype='object')),\n  ('standardscaler',\n   StandardScaler(copy=True, with_mean=True, with_std=True),\n   Index(['Count_Related_Interactions', 'Count_Related_Incidents',\n          'Count_Related_Changes'],\n         dtype='object'))],\n 'Best SearchGridCV score': 0.7446540880503145,\n 'Best SearchGridCV parameters': {'selector__k': 45},\n 'Selector': SelectKBest(k=45, score_func=<function f_classif at 0x1a1e4a58c0>),\n 'Classifier': LogisticRegression(C=1.0, class_weight=None, dual=False, fit_intercept=True,\n                    intercept_scaling=1, l1_ratio=None, max_iter=100,\n                    multi_class='auto', n_jobs=None, penalty='l2',\n                    random_state=None, solver='lbfgs', tol=0.0001, verbose=0,\n                    warm_start=False),\n 'PolynomialFeatures': PolynomialFeatures(degree=2, include_bias=True, interaction_only=True,\n                    order='C'),\n 'Selector - Scores':                                         feature names       scores   p-value\n 0                           Service_Component_WBS_aff 2626.0557182 0.0000000\n 1                                             Urgency  141.5836070 0.0000000\n 2                                           KM_number 6104.4383936 0.0000000\n 3                          Count_Related_Interactions  177.7555436 0.0000000\n 4                             Count_Related_Incidents  679.7626961 0.0000000\n 5                               Count_Related_Changes  902.1087202 0.0000000\n 6                                 Open_Time_HourOfDay   62.0757993 0.0000000\n 7                                 Open_Time_DayOfWeek    5.6072217 0.0178943\n 8                                  CI_TypeSubType_aff    0.3519352 0.5530252\n 9                   Service_Component_WBS_aff Urgency   10.1816329 0.0014202\n 10                Service_Component_WBS_aff KM_number   61.0097157 0.0000000\n 11  Service_Component_WBS_aff Count_Related_Intera...   23.3589971 0.0000014\n 12  Service_Component_WBS_aff Count_Related_Incidents    6.6168327 0.0101077\n 13    Service_Component_WBS_aff Count_Related_Changes    0.7630328 0.3823896\n 14      Service_Component_WBS_aff Open_Time_HourOfDay   14.0491364 0.0001785\n 15      Service_Component_WBS_aff Open_Time_DayOfWeek    3.9304157 0.0474313\n 16       Service_Component_WBS_aff CI_TypeSubType_aff    0.0114426 0.9148134\n 17                                  Urgency KM_number   77.5772795 0.0000000\n 18                 Urgency Count_Related_Interactions    1.5861137 0.2078942\n 19                    Urgency Count_Related_Incidents    1.4111859 0.2348711\n 20                      Urgency Count_Related_Changes    2.8049567 0.0939861\n 21                        Urgency Open_Time_HourOfDay    0.0231707 0.8790153\n 22                        Urgency Open_Time_DayOfWeek    1.5019556 0.2203824\n 23                         Urgency CI_TypeSubType_aff    1.7282448 0.1886474\n 24               KM_number Count_Related_Interactions    6.8929046 0.0086592\n 25                  KM_number Count_Related_Incidents    6.3521121 0.0117304\n 26                    KM_number Count_Related_Changes  177.0139338 0.0000000\n 27                      KM_number Open_Time_HourOfDay   10.8814357 0.0009727\n 28                      KM_number Open_Time_DayOfWeek    0.8727419 0.3502065\n 29                       KM_number CI_TypeSubType_aff    0.9092303 0.3403281\n 30  Count_Related_Interactions Count_Related_Incid...  126.4500112 0.0000000\n 31   Count_Related_Interactions Count_Related_Changes    7.8195531 0.0051724\n 32     Count_Related_Interactions Open_Time_HourOfDay    0.5628389 0.4531258\n 33     Count_Related_Interactions Open_Time_DayOfWeek    0.0910199 0.7628871\n 34      Count_Related_Interactions CI_TypeSubType_aff    0.6614483 0.4160569\n 35      Count_Related_Incidents Count_Related_Changes    2.6112044 0.1061239\n 36        Count_Related_Incidents Open_Time_HourOfDay    1.8163793 0.1777573\n 37        Count_Related_Incidents Open_Time_DayOfWeek    0.4733233 0.4914687\n 38         Count_Related_Incidents CI_TypeSubType_aff    7.3458392 0.0067265\n 39          Count_Related_Changes Open_Time_HourOfDay    8.6250419 0.0033188\n 40          Count_Related_Changes Open_Time_DayOfWeek   10.6134424 0.0011242\n 41           Count_Related_Changes CI_TypeSubType_aff   16.8176562 0.0000413\n 42            Open_Time_HourOfDay Open_Time_DayOfWeek    0.5447173 0.4604913\n 43             Open_Time_HourOfDay CI_TypeSubType_aff    0.3106481 0.5772878\n 44             Open_Time_DayOfWeek CI_TypeSubType_aff    3.5047868 0.0612036}"
     },
     "execution_count": 34,
     "metadata": {},
     "output_type": "execute_result"
    }
   ],
   "source": [
    "PipeLineMetadata['Selector - Scores'] = pd.DataFrame( \n",
    "    [ search.best_estimator_.named_steps.poly.get_feature_names(X_test.columns)[1:], \n",
    "      search.best_estimator_.named_steps.selector.scores_[1:], \n",
    "      search.best_estimator_.named_steps.selector.pvalues_[1:] \n",
    "    ], \n",
    "    index=['feature names', 'scores','p-value'] \n",
    "    ).transpose()\n",
    "PipeLineMetadata  "
   ]
  },
  {
   "cell_type": "code",
   "execution_count": 35,
   "metadata": {},
   "outputs": [
    {
     "data": {
      "text/html": "<div>\n<style scoped>\n    .dataframe tbody tr th:only-of-type {\n        vertical-align: middle;\n    }\n\n    .dataframe tbody tr th {\n        vertical-align: top;\n    }\n\n    .dataframe thead th {\n        text-align: right;\n    }\n</style>\n<table border=\"1\" class=\"dataframe\">\n  <thead>\n    <tr style=\"text-align: right;\">\n      <th></th>\n      <th>feature names</th>\n      <th>scores</th>\n      <th>p-value</th>\n    </tr>\n  </thead>\n  <tbody>\n    <tr>\n      <th>0</th>\n      <td>Service_Component_WBS_aff</td>\n      <td>2626.0557182</td>\n      <td>0.0000000</td>\n    </tr>\n    <tr>\n      <th>2</th>\n      <td>KM_number</td>\n      <td>6104.4383936</td>\n      <td>0.0000000</td>\n    </tr>\n    <tr>\n      <th>5</th>\n      <td>Count_Related_Changes</td>\n      <td>902.1087202</td>\n      <td>0.0000000</td>\n    </tr>\n    <tr>\n      <th>4</th>\n      <td>Count_Related_Incidents</td>\n      <td>679.7626961</td>\n      <td>0.0000000</td>\n    </tr>\n    <tr>\n      <th>3</th>\n      <td>Count_Related_Interactions</td>\n      <td>177.7555436</td>\n      <td>0.0000000</td>\n    </tr>\n    <tr>\n      <th>26</th>\n      <td>KM_number Count_Related_Changes</td>\n      <td>177.0139338</td>\n      <td>0.0000000</td>\n    </tr>\n    <tr>\n      <th>1</th>\n      <td>Urgency</td>\n      <td>141.5836070</td>\n      <td>0.0000000</td>\n    </tr>\n    <tr>\n      <th>30</th>\n      <td>Count_Related_Interactions Count_Related_Incid...</td>\n      <td>126.4500112</td>\n      <td>0.0000000</td>\n    </tr>\n    <tr>\n      <th>17</th>\n      <td>Urgency KM_number</td>\n      <td>77.5772795</td>\n      <td>0.0000000</td>\n    </tr>\n    <tr>\n      <th>6</th>\n      <td>Open_Time_HourOfDay</td>\n      <td>62.0757993</td>\n      <td>0.0000000</td>\n    </tr>\n    <tr>\n      <th>10</th>\n      <td>Service_Component_WBS_aff KM_number</td>\n      <td>61.0097157</td>\n      <td>0.0000000</td>\n    </tr>\n    <tr>\n      <th>11</th>\n      <td>Service_Component_WBS_aff Count_Related_Intera...</td>\n      <td>23.3589971</td>\n      <td>0.0000014</td>\n    </tr>\n    <tr>\n      <th>41</th>\n      <td>Count_Related_Changes CI_TypeSubType_aff</td>\n      <td>16.8176562</td>\n      <td>0.0000413</td>\n    </tr>\n    <tr>\n      <th>14</th>\n      <td>Service_Component_WBS_aff Open_Time_HourOfDay</td>\n      <td>14.0491364</td>\n      <td>0.0001785</td>\n    </tr>\n    <tr>\n      <th>27</th>\n      <td>KM_number Open_Time_HourOfDay</td>\n      <td>10.8814357</td>\n      <td>0.0009727</td>\n    </tr>\n    <tr>\n      <th>40</th>\n      <td>Count_Related_Changes Open_Time_DayOfWeek</td>\n      <td>10.6134424</td>\n      <td>0.0011242</td>\n    </tr>\n    <tr>\n      <th>9</th>\n      <td>Service_Component_WBS_aff Urgency</td>\n      <td>10.1816329</td>\n      <td>0.0014202</td>\n    </tr>\n    <tr>\n      <th>39</th>\n      <td>Count_Related_Changes Open_Time_HourOfDay</td>\n      <td>8.6250419</td>\n      <td>0.0033188</td>\n    </tr>\n    <tr>\n      <th>31</th>\n      <td>Count_Related_Interactions Count_Related_Changes</td>\n      <td>7.8195531</td>\n      <td>0.0051724</td>\n    </tr>\n    <tr>\n      <th>38</th>\n      <td>Count_Related_Incidents CI_TypeSubType_aff</td>\n      <td>7.3458392</td>\n      <td>0.0067265</td>\n    </tr>\n    <tr>\n      <th>24</th>\n      <td>KM_number Count_Related_Interactions</td>\n      <td>6.8929046</td>\n      <td>0.0086592</td>\n    </tr>\n    <tr>\n      <th>12</th>\n      <td>Service_Component_WBS_aff Count_Related_Incidents</td>\n      <td>6.6168327</td>\n      <td>0.0101077</td>\n    </tr>\n    <tr>\n      <th>25</th>\n      <td>KM_number Count_Related_Incidents</td>\n      <td>6.3521121</td>\n      <td>0.0117304</td>\n    </tr>\n    <tr>\n      <th>7</th>\n      <td>Open_Time_DayOfWeek</td>\n      <td>5.6072217</td>\n      <td>0.0178943</td>\n    </tr>\n    <tr>\n      <th>15</th>\n      <td>Service_Component_WBS_aff Open_Time_DayOfWeek</td>\n      <td>3.9304157</td>\n      <td>0.0474313</td>\n    </tr>\n  </tbody>\n</table>\n</div>",
      "text/plain": "                                        feature names       scores   p-value\n0                           Service_Component_WBS_aff 2626.0557182 0.0000000\n2                                           KM_number 6104.4383936 0.0000000\n5                               Count_Related_Changes  902.1087202 0.0000000\n4                             Count_Related_Incidents  679.7626961 0.0000000\n3                          Count_Related_Interactions  177.7555436 0.0000000\n26                    KM_number Count_Related_Changes  177.0139338 0.0000000\n1                                             Urgency  141.5836070 0.0000000\n30  Count_Related_Interactions Count_Related_Incid...  126.4500112 0.0000000\n17                                  Urgency KM_number   77.5772795 0.0000000\n6                                 Open_Time_HourOfDay   62.0757993 0.0000000\n10                Service_Component_WBS_aff KM_number   61.0097157 0.0000000\n11  Service_Component_WBS_aff Count_Related_Intera...   23.3589971 0.0000014\n41           Count_Related_Changes CI_TypeSubType_aff   16.8176562 0.0000413\n14      Service_Component_WBS_aff Open_Time_HourOfDay   14.0491364 0.0001785\n27                      KM_number Open_Time_HourOfDay   10.8814357 0.0009727\n40          Count_Related_Changes Open_Time_DayOfWeek   10.6134424 0.0011242\n9                   Service_Component_WBS_aff Urgency   10.1816329 0.0014202\n39          Count_Related_Changes Open_Time_HourOfDay    8.6250419 0.0033188\n31   Count_Related_Interactions Count_Related_Changes    7.8195531 0.0051724\n38         Count_Related_Incidents CI_TypeSubType_aff    7.3458392 0.0067265\n24               KM_number Count_Related_Interactions    6.8929046 0.0086592\n12  Service_Component_WBS_aff Count_Related_Incidents    6.6168327 0.0101077\n25                  KM_number Count_Related_Incidents    6.3521121 0.0117304\n7                                 Open_Time_DayOfWeek    5.6072217 0.0178943\n15      Service_Component_WBS_aff Open_Time_DayOfWeek    3.9304157 0.0474313"
     },
     "execution_count": 35,
     "metadata": {},
     "output_type": "execute_result"
    }
   ],
   "source": [
    "#pipenew.estimator.named_steps.poly.get_feature_names(X_train.columns)\n",
    "PipeLineMetadata['Selector - Scores'].loc[ PipeLineMetadata['Selector - Scores']['p-value'] <= 0.05 ].sort_values('p-value')"
   ]
  },
  {
   "cell_type": "markdown",
   "metadata": {},
   "source": [
    "Capture a few classification metrics:\n",
    "* Classification Accuracy: Overall, how often is the classifier correct?\n",
    "* Classification Error: Overall, how often is the classifier incorrect?\n",
    "* True Positive Rate  (Recall, Sensitivity): When the actual value is positive, how often is the prediction correct?\n",
    "* True Negative Rate (Specificity): When the actual value is negative, how often is the prediction correct?\n",
    "* False Positive Rate: When the actual value is negative, how often is the prediction incorrect?\n",
    "* Precision: When a positive value is predicted, how often is the prediction correct?\n"
   ]
  },
  {
   "cell_type": "code",
   "execution_count": 36,
   "metadata": {},
   "outputs": [],
   "source": [
    "PipeLineMetadata['Metrics - Classification Report'] = metrics.classification_report(y_test, y_pred_class)\n",
    "PipeLineMetadata['Metrics - Confusion Matrix'] =metrics.confusion_matrix(y_test, y_pred_class)\n",
    "PipeLineMetadata['Metrics - Confusion Matrix Classification Accuracy'] = metrics.accuracy_score(y_test,y_pred_class) \n",
    "PipeLineMetadata['Metrics - Confusion Matrix Classification Error'] = 1- metrics.accuracy_score(y_test,y_pred_class)\n",
    "PipeLineMetadata['Metrics - Confusion Matrix True Positive Rate'] = metrics.recall_score(y_test, y_pred_class) \n",
    "PipeLineMetadata['Metrics - Confusion Matrix True Negative Rate'] =  TN / float(TN + FP)\n",
    "PipeLineMetadata['Metrics - Confusion Matrix False Positive Rate'] =  FP / float(TN + FP)\n",
    "PipeLineMetadata['Metrics - Confusion Matrix Precision'] = metrics.precision_score(y_test,y_pred_class)\n"
   ]
  },
  {
   "cell_type": "code",
   "execution_count": 37,
   "metadata": {},
   "outputs": [],
   "source": [
    "PipeLineMetadata['Metrics - AUC'] = metrics.roc_auc_score(y_test, y_pred_prob)"
   ]
  },
  {
   "cell_type": "code",
   "execution_count": 38,
   "metadata": {},
   "outputs": [],
   "source": [
    "PipeLineMetadata['Metrics - ROC Curve fpr array'] = fpr\n",
    "PipeLineMetadata['Metrics - ROC Curve tpr array'] = tpr"
   ]
  },
  {
   "cell_type": "code",
   "execution_count": 39,
   "metadata": {},
   "outputs": [
    {
     "data": {
      "text/plain": "{'Name': 'Optimize Round 3: Adding Interaction Terms',\n 'Best Estimator Classification Intercept': array([-0.90415783]),\n 'Best Estimator Classification Coefficients': array([[ 1.59293354e-01,  2.91368383e-01,  1.11916076e+00,\n          1.35144148e+00,  1.32715945e+00,  5.55074960e-02,\n          6.52223487e-01,  4.12747947e-02, -2.23711213e-02,\n         -7.06769881e-02, -8.62674909e-02,  5.39840844e-01,\n         -1.45471602e-02,  1.39538363e-01,  1.26602364e-01,\n          1.19745197e-01, -4.21114140e-02, -5.79452623e-02,\n         -1.42263843e-01, -1.99340922e-01, -4.80149840e-01,\n          6.53363482e-01, -4.52856027e-02, -4.90327229e-04,\n         -5.64893436e-01, -2.03455219e-01, -7.12555558e-02,\n         -4.06959906e-03, -7.27932745e-02,  5.94271895e-02,\n          1.63117229e+00, -2.67207424e-01,  1.67434428e+00,\n         -4.41346203e-02,  1.62837382e-03,  8.02638862e-02,\n          7.85155008e-01, -1.36917851e-01, -1.42411097e-01,\n          8.68015178e-02,  1.48028904e-01,  8.06941782e-02,\n         -2.01599716e-02, -4.43875605e-02,  1.83345568e-02]]),\n 'Column Transforms': [('woeencoder',\n   WOEEncoder(cols=None, drop_invariant=False, handle_missing='value',\n              handle_unknown='value', random_state=None, randomized=False,\n              regularization=1.0, return_df=True, sigma=0.05, verbose=0),\n   Index(['Service_Component_WBS_aff', 'Urgency', 'KM_number',\n          'Open_Time_HourOfDay', 'Open_Time_DayOfWeek', 'CI_TypeSubType_aff'],\n         dtype='object')),\n  ('standardscaler',\n   StandardScaler(copy=True, with_mean=True, with_std=True),\n   Index(['Count_Related_Interactions', 'Count_Related_Incidents',\n          'Count_Related_Changes'],\n         dtype='object'))],\n 'Best SearchGridCV score': 0.7446540880503145,\n 'Best SearchGridCV parameters': {'selector__k': 45},\n 'Selector': SelectKBest(k=45, score_func=<function f_classif at 0x1a1e4a58c0>),\n 'Classifier': LogisticRegression(C=1.0, class_weight=None, dual=False, fit_intercept=True,\n                    intercept_scaling=1, l1_ratio=None, max_iter=100,\n                    multi_class='auto', n_jobs=None, penalty='l2',\n                    random_state=None, solver='lbfgs', tol=0.0001, verbose=0,\n                    warm_start=False),\n 'PolynomialFeatures': PolynomialFeatures(degree=2, include_bias=True, interaction_only=True,\n                    order='C'),\n 'Selector - Scores':                                         feature names       scores   p-value\n 0                           Service_Component_WBS_aff 2626.0557182 0.0000000\n 1                                             Urgency  141.5836070 0.0000000\n 2                                           KM_number 6104.4383936 0.0000000\n 3                          Count_Related_Interactions  177.7555436 0.0000000\n 4                             Count_Related_Incidents  679.7626961 0.0000000\n 5                               Count_Related_Changes  902.1087202 0.0000000\n 6                                 Open_Time_HourOfDay   62.0757993 0.0000000\n 7                                 Open_Time_DayOfWeek    5.6072217 0.0178943\n 8                                  CI_TypeSubType_aff    0.3519352 0.5530252\n 9                   Service_Component_WBS_aff Urgency   10.1816329 0.0014202\n 10                Service_Component_WBS_aff KM_number   61.0097157 0.0000000\n 11  Service_Component_WBS_aff Count_Related_Intera...   23.3589971 0.0000014\n 12  Service_Component_WBS_aff Count_Related_Incidents    6.6168327 0.0101077\n 13    Service_Component_WBS_aff Count_Related_Changes    0.7630328 0.3823896\n 14      Service_Component_WBS_aff Open_Time_HourOfDay   14.0491364 0.0001785\n 15      Service_Component_WBS_aff Open_Time_DayOfWeek    3.9304157 0.0474313\n 16       Service_Component_WBS_aff CI_TypeSubType_aff    0.0114426 0.9148134\n 17                                  Urgency KM_number   77.5772795 0.0000000\n 18                 Urgency Count_Related_Interactions    1.5861137 0.2078942\n 19                    Urgency Count_Related_Incidents    1.4111859 0.2348711\n 20                      Urgency Count_Related_Changes    2.8049567 0.0939861\n 21                        Urgency Open_Time_HourOfDay    0.0231707 0.8790153\n 22                        Urgency Open_Time_DayOfWeek    1.5019556 0.2203824\n 23                         Urgency CI_TypeSubType_aff    1.7282448 0.1886474\n 24               KM_number Count_Related_Interactions    6.8929046 0.0086592\n 25                  KM_number Count_Related_Incidents    6.3521121 0.0117304\n 26                    KM_number Count_Related_Changes  177.0139338 0.0000000\n 27                      KM_number Open_Time_HourOfDay   10.8814357 0.0009727\n 28                      KM_number Open_Time_DayOfWeek    0.8727419 0.3502065\n 29                       KM_number CI_TypeSubType_aff    0.9092303 0.3403281\n 30  Count_Related_Interactions Count_Related_Incid...  126.4500112 0.0000000\n 31   Count_Related_Interactions Count_Related_Changes    7.8195531 0.0051724\n 32     Count_Related_Interactions Open_Time_HourOfDay    0.5628389 0.4531258\n 33     Count_Related_Interactions Open_Time_DayOfWeek    0.0910199 0.7628871\n 34      Count_Related_Interactions CI_TypeSubType_aff    0.6614483 0.4160569\n 35      Count_Related_Incidents Count_Related_Changes    2.6112044 0.1061239\n 36        Count_Related_Incidents Open_Time_HourOfDay    1.8163793 0.1777573\n 37        Count_Related_Incidents Open_Time_DayOfWeek    0.4733233 0.4914687\n 38         Count_Related_Incidents CI_TypeSubType_aff    7.3458392 0.0067265\n 39          Count_Related_Changes Open_Time_HourOfDay    8.6250419 0.0033188\n 40          Count_Related_Changes Open_Time_DayOfWeek   10.6134424 0.0011242\n 41           Count_Related_Changes CI_TypeSubType_aff   16.8176562 0.0000413\n 42            Open_Time_HourOfDay Open_Time_DayOfWeek    0.5447173 0.4604913\n 43             Open_Time_HourOfDay CI_TypeSubType_aff    0.3106481 0.5772878\n 44             Open_Time_DayOfWeek CI_TypeSubType_aff    3.5047868 0.0612036,\n 'Metrics - Classification Report': '              precision    recall  f1-score   support\\n\\n           0       0.79      0.89      0.83      7445\\n           1       0.62      0.42      0.50      3118\\n\\n    accuracy                           0.75     10563\\n   macro avg       0.70      0.66      0.67     10563\\nweighted avg       0.74      0.75      0.74     10563\\n',\n 'Metrics - Confusion Matrix': array([[6628,  817],\n        [1805, 1313]]),\n 'Metrics - Confusion Matrix Classification Accuracy': 0.7517750639023005,\n 'Metrics - Confusion Matrix Classification Error': 0.24822493609769947,\n 'Metrics - Confusion Matrix True Positive Rate': 0.4211032713277742,\n 'Metrics - Confusion Matrix True Negative Rate': 0.8902619207521827,\n 'Metrics - Confusion Matrix False Positive Rate': 0.10973807924781732,\n 'Metrics - Confusion Matrix Precision': 0.6164319248826291,\n 'Metrics - AUC': 0.7866722869570348,\n 'Metrics - ROC Curve fpr array': array([0.00000000e+00, 1.34318334e-04, 2.68636669e-04, ...,\n        9.99731363e-01, 9.99731363e-01, 1.00000000e+00]),\n 'Metrics - ROC Curve tpr array': array([0.        , 0.        , 0.        , ..., 0.99967928, 1.        ,\n        1.        ])}"
     },
     "execution_count": 39,
     "metadata": {},
     "output_type": "execute_result"
    }
   ],
   "source": [
    "PipeLineMetadata"
   ]
  },
  {
   "cell_type": "code",
   "execution_count": 40,
   "metadata": {},
   "outputs": [],
   "source": [
    "with open(outFileName,'wb') as fo:\n",
    "    pickle.dump(PipeLineMetadata, fo)"
   ]
  },
  {
   "cell_type": "code",
   "execution_count": null,
   "metadata": {},
   "outputs": [],
   "source": []
  }
 ]
}