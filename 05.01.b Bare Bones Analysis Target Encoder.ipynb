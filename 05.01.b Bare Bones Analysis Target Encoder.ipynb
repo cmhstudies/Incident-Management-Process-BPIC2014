{
 "nbformat": 4,
 "nbformat_minor": 2,
 "metadata": {
  "language_info": {
   "name": "python",
   "codemirror_mode": {
    "name": "ipython",
    "version": 3
   },
   "version": "3.7.6-final"
  },
  "orig_nbformat": 2,
  "file_extension": ".py",
  "mimetype": "text/x-python",
  "name": "python",
  "npconvert_exporter": "python",
  "pygments_lexer": "ipython3",
  "version": 3,
  "kernelspec": {
   "name": "python3",
   "display_name": "Python 3"
  }
 },
 "cells": [
  {
   "cell_type": "markdown",
   "metadata": {},
   "source": [
    "# 05.01.b Bare Bones Analysis with Target Encoder\n",
    "\n",
    "Goal: identify the factors that most contribute to SLAFail\n",
    "\n",
    "Tuning Adjustments: Focus on finding the most predictive set of predictor variables\n",
    "\n",
    "\n",
    "Read Prepared Data  ->  Split Data  -> Develop Pipeline  ->  Evaluate  \n",
    "\n",
    "Split Data using sklearn.model_selection.train_test_split\n",
    "\n",
    "Pipeline includes:\n",
    "\n",
    "- Preprocessing variables\n",
    "    - sklearn.compose.make_column_transformer \n",
    "        - Scale numeric variables: sklearn.preprocessing.StandardScaler\n",
    "        - Encode categorical variables: category_encoders.TargetEncoder\n",
    "- Selecting features\n",
    "    - None\n",
    "- Instantiate model\n",
    "    - sklearn.linear_model.LogisticRegression\n",
    "- Fit the model using training data\n",
    "- Cross-validate the model with training data\n",
    "    - sklearn.model_selection.cross_val_score\n",
    "- Output performance measures\n",
    "\n",
    "Evaluate involves running the pipeline with the testing data and capturing metrics\n",
    "\n",
    "\n",
    "\n"
   ]
  },
  {
   "cell_type": "code",
   "execution_count": 1,
   "metadata": {},
   "outputs": [],
   "source": [
    "# Load libraries\n",
    "import pandas as pd\n",
    "import numpy as np\n",
    "import pickle\n",
    "\n",
    "# allow plots to appear in the notebook\n",
    "%matplotlib inline\n",
    "import matplotlib.pyplot as plt\n",
    "\n",
    "from sklearn.model_selection import train_test_split\n",
    "\n",
    "from sklearn.compose import make_column_transformer\n",
    "import category_encoders as ce\n",
    "from sklearn.preprocessing import StandardScaler\n",
    "\n",
    "from sklearn.linear_model import LogisticRegression\n",
    "\n",
    "from sklearn.pipeline import make_pipeline\n",
    "\n",
    "from sklearn.model_selection import cross_val_score\n",
    "\n",
    "from sklearn import metrics"
   ]
  },
  {
   "cell_type": "markdown",
   "metadata": {},
   "source": [
    "## Read Prepared Data"
   ]
  },
  {
   "cell_type": "code",
   "execution_count": 2,
   "metadata": {},
   "outputs": [
    {
     "name": "stdout",
     "output_type": "stream",
     "text": "df.shape: (35208, 10)\ndf.columns: Index(['Service_Component_WBS_aff', 'Urgency', 'KM_number',\n       'Count_Related_Interactions', 'Count_Related_Incidents',\n       'Count_Related_Changes', 'SLAFail', 'Open_Time_HourOfDay',\n       'Open_Time_DayOfWeek', 'CI_TypeSubType_aff'],\n      dtype='object')\ndf.dtypes: \nService_Component_WBS_aff      object\nUrgency                        object\nKM_number                      object\nCount_Related_Interactions    float64\nCount_Related_Incidents       float64\nCount_Related_Changes         float64\nSLAFail                         int64\nOpen_Time_HourOfDay             int64\nOpen_Time_DayOfWeek            object\nCI_TypeSubType_aff             object\ndtype: object\n"
    }
   ],
   "source": [
    "df = pd.read_csv(\"data/05.00 Incident Data.csv\")\n",
    "print(\"df.shape: \" + str(df.shape))\n",
    "print(\"df.columns: \" + str(df.columns))\n",
    "print(\"df.dtypes: \\n\" + str(df.dtypes))"
   ]
  },
  {
   "cell_type": "markdown",
   "metadata": {},
   "source": [
    "#### Set X and y"
   ]
  },
  {
   "cell_type": "code",
   "execution_count": 3,
   "metadata": {},
   "outputs": [
    {
     "data": {
      "text/plain": "(35208,)"
     },
     "execution_count": 3,
     "metadata": {},
     "output_type": "execute_result"
    }
   ],
   "source": [
    "y = df.SLAFail\n",
    "y.shape"
   ]
  },
  {
   "cell_type": "code",
   "execution_count": 4,
   "metadata": {},
   "outputs": [
    {
     "data": {
      "text/plain": "(35208, 9)"
     },
     "execution_count": 4,
     "metadata": {},
     "output_type": "execute_result"
    }
   ],
   "source": [
    "X = df.drop(['SLAFail'], axis='columns')\n",
    "X.shape"
   ]
  },
  {
   "cell_type": "markdown",
   "metadata": {},
   "source": [
    "Set `Open_Time_HourOfDay` for recognition as a Categorical variable"
   ]
  },
  {
   "cell_type": "code",
   "execution_count": 5,
   "metadata": {},
   "outputs": [
    {
     "data": {
      "text/plain": "Service_Component_WBS_aff      object\nUrgency                        object\nKM_number                      object\nCount_Related_Interactions    float64\nCount_Related_Incidents       float64\nCount_Related_Changes         float64\nOpen_Time_HourOfDay            object\nOpen_Time_DayOfWeek            object\nCI_TypeSubType_aff             object\ndtype: object"
     },
     "execution_count": 5,
     "metadata": {},
     "output_type": "execute_result"
    }
   ],
   "source": [
    "X.Open_Time_HourOfDay = X.Open_Time_HourOfDay.astype('object')\n",
    "X.dtypes"
   ]
  },
  {
   "cell_type": "markdown",
   "metadata": {},
   "source": [
    "Create a list of numeric variable column names"
   ]
  },
  {
   "cell_type": "code",
   "execution_count": 6,
   "metadata": {},
   "outputs": [
    {
     "data": {
      "text/plain": "Index(['Count_Related_Interactions', 'Count_Related_Incidents',\n       'Count_Related_Changes'],\n      dtype='object')"
     },
     "execution_count": 6,
     "metadata": {},
     "output_type": "execute_result"
    }
   ],
   "source": [
    "numericVars = X.select_dtypes(include=['float64']).columns\n",
    "numericVars"
   ]
  },
  {
   "cell_type": "markdown",
   "metadata": {},
   "source": [
    "Create a list of categorical variables"
   ]
  },
  {
   "cell_type": "code",
   "execution_count": 7,
   "metadata": {},
   "outputs": [
    {
     "data": {
      "text/plain": "Index(['Service_Component_WBS_aff', 'Urgency', 'KM_number',\n       'Open_Time_HourOfDay', 'Open_Time_DayOfWeek', 'CI_TypeSubType_aff'],\n      dtype='object')"
     },
     "execution_count": 7,
     "metadata": {},
     "output_type": "execute_result"
    }
   ],
   "source": [
    "categoricalVars = X.select_dtypes(include=['object']).columns\n",
    "categoricalVars"
   ]
  },
  {
   "cell_type": "markdown",
   "metadata": {},
   "source": [
    "## Split Data\n",
    "\n",
    "Create Training and Testing Data Sets\n"
   ]
  },
  {
   "cell_type": "code",
   "execution_count": 8,
   "metadata": {},
   "outputs": [],
   "source": [
    "\n",
    "X_train, X_test, y_train, y_test = train_test_split(X, y, test_size=0.3, random_state=2020)\n"
   ]
  },
  {
   "cell_type": "code",
   "execution_count": 9,
   "metadata": {},
   "outputs": [
    {
     "name": "stdout",
     "output_type": "stream",
     "text": "(24645, 9)\nIndex(['Service_Component_WBS_aff', 'Urgency', 'KM_number',\n       'Count_Related_Interactions', 'Count_Related_Incidents',\n       'Count_Related_Changes', 'Open_Time_HourOfDay', 'Open_Time_DayOfWeek',\n       'CI_TypeSubType_aff'],\n      dtype='object')\n"
    }
   ],
   "source": [
    "print(X_train.shape)\n",
    "print(X_train.columns)"
   ]
  },
  {
   "cell_type": "markdown",
   "metadata": {},
   "source": [
    "## Develop Pipeline\n"
   ]
  },
  {
   "cell_type": "code",
   "execution_count": 10,
   "metadata": {},
   "outputs": [],
   "source": [
    "# create dictionary to store information about the pipeline and results for later reporting and review\n",
    "PipeLineMetadata = { \"Name\" : \"Bare Bones with Target Encoder\"}"
   ]
  },
  {
   "cell_type": "markdown",
   "metadata": {},
   "source": [
    "### Encode Variables\n",
    "\n",
    "Numeric and categorical variables require different treatment \n",
    "\n",
    "Set up column transformer for scaling numeric variables and encoding categorical variables\n",
    "\n"
   ]
  },
  {
   "cell_type": "code",
   "execution_count": 11,
   "metadata": {},
   "outputs": [],
   "source": [
    "column_trans = make_column_transformer(\n",
    "    (ce.TargetEncoder(), categoricalVars),\n",
    "    (StandardScaler(), numericVars),\n",
    "    remainder='passthrough')"
   ]
  },
  {
   "cell_type": "markdown",
   "metadata": {},
   "source": [
    "Take a peek at the column transformer results"
   ]
  },
  {
   "cell_type": "code",
   "execution_count": 12,
   "metadata": {},
   "outputs": [
    {
     "data": {
      "text/html": "<div>\n<style scoped>\n    .dataframe tbody tr th:only-of-type {\n        vertical-align: middle;\n    }\n\n    .dataframe tbody tr th {\n        vertical-align: top;\n    }\n\n    .dataframe thead th {\n        text-align: right;\n    }\n</style>\n<table border=\"1\" class=\"dataframe\">\n  <thead>\n    <tr style=\"text-align: right;\">\n      <th></th>\n      <th>Service_Component_WBS_aff</th>\n      <th>Urgency</th>\n      <th>KM_number</th>\n      <th>Count_Related_Interactions</th>\n      <th>Count_Related_Incidents</th>\n      <th>Count_Related_Changes</th>\n      <th>Open_Time_HourOfDay</th>\n      <th>Open_Time_DayOfWeek</th>\n      <th>CI_TypeSubType_aff</th>\n    </tr>\n  </thead>\n  <tbody>\n    <tr>\n      <th>count</th>\n      <td>2.464500e+04</td>\n      <td>24645.000000</td>\n      <td>24645.000000</td>\n      <td>24645.000000</td>\n      <td>24645.000000</td>\n      <td>24645.000000</td>\n      <td>2.464500e+04</td>\n      <td>2.464500e+04</td>\n      <td>2.464500e+04</td>\n    </tr>\n    <tr>\n      <th>mean</th>\n      <td>2.998200e-01</td>\n      <td>0.300260</td>\n      <td>0.297916</td>\n      <td>0.300264</td>\n      <td>0.300264</td>\n      <td>0.300181</td>\n      <td>-2.149281e-16</td>\n      <td>-1.561871e-15</td>\n      <td>1.298863e-15</td>\n    </tr>\n    <tr>\n      <th>std</th>\n      <td>1.434264e-01</td>\n      <td>0.034638</td>\n      <td>0.214322</td>\n      <td>0.038897</td>\n      <td>0.075166</td>\n      <td>0.086459</td>\n      <td>1.000020e+00</td>\n      <td>1.000020e+00</td>\n      <td>1.000020e+00</td>\n    </tr>\n    <tr>\n      <th>min</th>\n      <td>6.786934e-07</td>\n      <td>0.265505</td>\n      <td>0.000000</td>\n      <td>0.000037</td>\n      <td>0.244068</td>\n      <td>0.000037</td>\n      <td>-7.847195e-01</td>\n      <td>-7.808990e-02</td>\n      <td>-1.065131e-01</td>\n    </tr>\n    <tr>\n      <th>25%</th>\n      <td>2.267637e-01</td>\n      <td>0.285792</td>\n      <td>0.096774</td>\n      <td>0.272022</td>\n      <td>0.260101</td>\n      <td>0.274755</td>\n      <td>-9.115287e-02</td>\n      <td>-7.808990e-02</td>\n      <td>-1.065131e-01</td>\n    </tr>\n    <tr>\n      <th>50%</th>\n      <td>2.267637e-01</td>\n      <td>0.285792</td>\n      <td>0.280374</td>\n      <td>0.287281</td>\n      <td>0.260609</td>\n      <td>0.274755</td>\n      <td>-9.115287e-02</td>\n      <td>-7.808990e-02</td>\n      <td>-1.065131e-01</td>\n    </tr>\n    <tr>\n      <th>75%</th>\n      <td>4.190065e-01</td>\n      <td>0.285792</td>\n      <td>0.470703</td>\n      <td>0.312308</td>\n      <td>0.312689</td>\n      <td>0.301970</td>\n      <td>-9.115287e-02</td>\n      <td>-7.808990e-02</td>\n      <td>-1.065131e-01</td>\n    </tr>\n    <tr>\n      <th>max</th>\n      <td>9.997653e-01</td>\n      <td>0.728671</td>\n      <td>0.999968</td>\n      <td>0.724138</td>\n      <td>0.676471</td>\n      <td>0.916589</td>\n      <td>8.105615e+01</td>\n      <td>8.681520e+01</td>\n      <td>6.607034e+01</td>\n    </tr>\n  </tbody>\n</table>\n</div>",
      "text/plain": "       Service_Component_WBS_aff       Urgency     KM_number  \\\ncount               2.464500e+04  24645.000000  24645.000000   \nmean                2.998200e-01      0.300260      0.297916   \nstd                 1.434264e-01      0.034638      0.214322   \nmin                 6.786934e-07      0.265505      0.000000   \n25%                 2.267637e-01      0.285792      0.096774   \n50%                 2.267637e-01      0.285792      0.280374   \n75%                 4.190065e-01      0.285792      0.470703   \nmax                 9.997653e-01      0.728671      0.999968   \n\n       Count_Related_Interactions  Count_Related_Incidents  \\\ncount                24645.000000             24645.000000   \nmean                     0.300264                 0.300264   \nstd                      0.038897                 0.075166   \nmin                      0.000037                 0.244068   \n25%                      0.272022                 0.260101   \n50%                      0.287281                 0.260609   \n75%                      0.312308                 0.312689   \nmax                      0.724138                 0.676471   \n\n       Count_Related_Changes  Open_Time_HourOfDay  Open_Time_DayOfWeek  \\\ncount           24645.000000         2.464500e+04         2.464500e+04   \nmean                0.300181        -2.149281e-16        -1.561871e-15   \nstd                 0.086459         1.000020e+00         1.000020e+00   \nmin                 0.000037        -7.847195e-01        -7.808990e-02   \n25%                 0.274755        -9.115287e-02        -7.808990e-02   \n50%                 0.274755        -9.115287e-02        -7.808990e-02   \n75%                 0.301970        -9.115287e-02        -7.808990e-02   \nmax                 0.916589         8.105615e+01         8.681520e+01   \n\n       CI_TypeSubType_aff  \ncount        2.464500e+04  \nmean         1.298863e-15  \nstd          1.000020e+00  \nmin         -1.065131e-01  \n25%         -1.065131e-01  \n50%         -1.065131e-01  \n75%         -1.065131e-01  \nmax          6.607034e+01  "
     },
     "execution_count": 12,
     "metadata": {},
     "output_type": "execute_result"
    }
   ],
   "source": [
    "pd.DataFrame(column_trans.fit_transform(X_train, y_train), columns=X_train.columns).describe()"
   ]
  },
  {
   "cell_type": "code",
   "execution_count": 13,
   "metadata": {},
   "outputs": [
    {
     "data": {
      "text/plain": "ColumnTransformer(n_jobs=None, remainder='passthrough', sparse_threshold=0.3,\n                  transformer_weights=None,\n                  transformers=[('targetencoder',\n                                 TargetEncoder(cols=None, drop_invariant=False,\n                                               handle_missing='value',\n                                               handle_unknown='value',\n                                               min_samples_leaf=1,\n                                               return_df=True, smoothing=1.0,\n                                               verbose=0),\n                                 Index(['Service_Component_WBS_aff', 'Urgency', 'KM_number',\n       'Open_Time_HourOfDay', 'Open_Time_DayOfWeek', 'CI_TypeSubType_aff'],\n      dtype='object')),\n                                ('standardscaler',\n                                 StandardScaler(copy=True, with_mean=True,\n                                                with_std=True),\n                                 Index(['Count_Related_Interactions', 'Count_Related_Incidents',\n       'Count_Related_Changes'],\n      dtype='object'))],\n                  verbose=False)"
     },
     "execution_count": 13,
     "metadata": {},
     "output_type": "execute_result"
    }
   ],
   "source": [
    "column_trans"
   ]
  },
  {
   "cell_type": "markdown",
   "metadata": {},
   "source": [
    "### Feature Selection\n",
    "\n"
   ]
  },
  {
   "cell_type": "code",
   "execution_count": 14,
   "metadata": {},
   "outputs": [],
   "source": [
    "## placeholder: none for Bare Bones"
   ]
  },
  {
   "cell_type": "markdown",
   "metadata": {},
   "source": [
    "### Specify Classifier (Logistic Regression)"
   ]
  },
  {
   "cell_type": "code",
   "execution_count": 15,
   "metadata": {},
   "outputs": [],
   "source": [
    "classifier = LogisticRegression(solver=\"lbfgs\")"
   ]
  },
  {
   "cell_type": "markdown",
   "metadata": {},
   "source": [
    "### Compose Pipeline"
   ]
  },
  {
   "cell_type": "code",
   "execution_count": 16,
   "metadata": {},
   "outputs": [],
   "source": [
    "pipe = make_pipeline(column_trans, \n",
    "                     classifier)"
   ]
  },
  {
   "cell_type": "markdown",
   "metadata": {},
   "source": [
    "### Fit the Model Using the Pipeline"
   ]
  },
  {
   "cell_type": "code",
   "execution_count": 17,
   "metadata": {},
   "outputs": [
    {
     "data": {
      "text/plain": "Pipeline(memory=None,\n         steps=[('columntransformer',\n                 ColumnTransformer(n_jobs=None, remainder='passthrough',\n                                   sparse_threshold=0.3,\n                                   transformer_weights=None,\n                                   transformers=[('targetencoder',\n                                                  TargetEncoder(cols=None,\n                                                                drop_invariant=False,\n                                                                handle_missing='value',\n                                                                handle_unknown='value',\n                                                                min_samples_leaf=1,\n                                                                return_df=True,\n                                                                smoothing=1.0,\n                                                                verbose=0),\n                                                  Index(['Service_Comp...\n                                                  Index(['Count_Related_Interactions', 'Count_Related_Incidents',\n       'Count_Related_Changes'],\n      dtype='object'))],\n                                   verbose=False)),\n                ('logisticregression',\n                 LogisticRegression(C=1.0, class_weight=None, dual=False,\n                                    fit_intercept=True, intercept_scaling=1,\n                                    l1_ratio=None, max_iter=100,\n                                    multi_class='auto', n_jobs=None,\n                                    penalty='l2', random_state=None,\n                                    solver='lbfgs', tol=0.0001, verbose=0,\n                                    warm_start=False))],\n         verbose=False)"
     },
     "execution_count": 17,
     "metadata": {},
     "output_type": "execute_result"
    }
   ],
   "source": [
    "pipe.fit(X_train,y_train)"
   ]
  },
  {
   "cell_type": "markdown",
   "metadata": {},
   "source": [
    "### Capture model  information"
   ]
  },
  {
   "cell_type": "code",
   "execution_count": 18,
   "metadata": {},
   "outputs": [
    {
     "data": {
      "text/plain": "{'Name': 'Bare Bones with Target Encoder',\n 'Column Transforms': ['targetencoder', 'standardscaler'],\n 'Classifier': LogisticRegression(C=1.0, class_weight=None, dual=False, fit_intercept=True,\n                    intercept_scaling=1, l1_ratio=None, max_iter=100,\n                    multi_class='auto', n_jobs=None, penalty='l2',\n                    random_state=None, solver='lbfgs', tol=0.0001, verbose=0,\n                    warm_start=False)}"
     },
     "execution_count": 18,
     "metadata": {},
     "output_type": "execute_result"
    }
   ],
   "source": [
    "PipeLineMetadata['Column Transforms'] = list(pipe.named_steps.columntransformer.named_transformers_.keys())\n",
    "PipeLineMetadata['Classifier'] = pipe.named_steps.logisticregression\n",
    "PipeLineMetadata"
   ]
  },
  {
   "cell_type": "code",
   "execution_count": 19,
   "metadata": {},
   "outputs": [
    {
     "data": {
      "text/plain": "{'Name': 'Bare Bones with Target Encoder',\n 'Column Transforms': ['targetencoder', 'standardscaler'],\n 'Classifier': LogisticRegression(C=1.0, class_weight=None, dual=False, fit_intercept=True,\n                    intercept_scaling=1, l1_ratio=None, max_iter=100,\n                    multi_class='auto', n_jobs=None, penalty='l2',\n                    random_state=None, solver='lbfgs', tol=0.0001, verbose=0,\n                    warm_start=False),\n 'Classifier - Intercept': -6.120540673257555,\n 'Classifier - Coefficients':                                    0\n Service_Component_WBS_aff   0.465650\n Urgency                     0.936344\n KM_number                   5.528813\n Count_Related_Interactions  4.423700\n Count_Related_Incidents     5.229369\n Count_Related_Changes       0.158573\n Open_Time_HourOfDay         0.189712\n Open_Time_DayOfWeek        -0.032066\n CI_TypeSubType_aff          0.004637}"
     },
     "execution_count": 19,
     "metadata": {},
     "output_type": "execute_result"
    }
   ],
   "source": [
    "PipeLineMetadata['Classifier - Intercept'] = pipe.named_steps.logisticregression.intercept_[0]\n",
    "PipeLineMetadata['Classifier - Coefficients'] = pd.DataFrame(pipe.named_steps.logisticregression.coef_, columns=X_train.columns).transpose()\n",
    "PipeLineMetadata"
   ]
  },
  {
   "cell_type": "markdown",
   "metadata": {},
   "source": [
    "## Cross-validate the Model with Training Data\n"
   ]
  },
  {
   "cell_type": "code",
   "execution_count": 20,
   "metadata": {},
   "outputs": [
    {
     "data": {
      "text/plain": "0.7339419760600527"
     },
     "execution_count": 20,
     "metadata": {},
     "output_type": "execute_result"
    }
   ],
   "source": [
    "PipeLineMetadata['Metrics - Cross Validation Accuracy'] = cross_val_score(pipe, X_train, y_train, cv=5, scoring=\"accuracy\").mean()\n",
    "PipeLineMetadata['Metrics - Cross Validation Accuracy']"
   ]
  },
  {
   "cell_type": "markdown",
   "metadata": {},
   "source": [
    "## Evaluate with Test Data"
   ]
  },
  {
   "cell_type": "markdown",
   "metadata": {},
   "source": [
    "Get predicted classification based on the model"
   ]
  },
  {
   "cell_type": "code",
   "execution_count": 21,
   "metadata": {},
   "outputs": [],
   "source": [
    "y_pred_class = pipe.predict(X_test)\n",
    "y_pred_prob = pipe.predict_proba(X_test)[:,1]"
   ]
  },
  {
   "cell_type": "code",
   "execution_count": 22,
   "metadata": {},
   "outputs": [
    {
     "data": {
      "text/plain": "0.656800064664544"
     },
     "execution_count": 22,
     "metadata": {},
     "output_type": "execute_result"
    }
   ],
   "source": [
    "PipeLineMetadata['Metrics - F1 score'] = metrics.f1_score(y_test, y_pred_class, average='macro')\n",
    "PipeLineMetadata['Metrics - F1 score']"
   ]
  },
  {
   "cell_type": "markdown",
   "metadata": {},
   "source": [
    "Look at the resulting confusion matrix\n",
    "\n",
    "Save True Positive (TP), True Negative (TN), False Positive(FP), and False Negative (FN) values"
   ]
  },
  {
   "cell_type": "code",
   "execution_count": 23,
   "metadata": {},
   "outputs": [
    {
     "name": "stdout",
     "output_type": "stream",
     "text": "[[6588  857]\n [1849 1269]]\nTN: 6588 \t FP: 857 \nFN: 1849 \t TP: 1269 \n"
    }
   ],
   "source": [
    "confusion = metrics.confusion_matrix(y_test, y_pred_class)\n",
    "TP = confusion[1, 1]\n",
    "TN = confusion[0, 0]\n",
    "FP = confusion[0, 1]\n",
    "FN = confusion[1, 0]\n",
    "print(confusion)\n",
    "print(\"TN: %d \\t FP: %d \\nFN: %d \\t TP: %d \" % (TN, FP, FN, TP))"
   ]
  },
  {
   "cell_type": "markdown",
   "metadata": {},
   "source": [
    "Capture a few classification metrics:\n",
    "* Classification Accuracy: Overall, how often is the classifier correct?\n",
    "* Classification Error: Overall, how often is the classifier incorrect?\n",
    "* True Positive Rate  (Recall, Sensitivity): When the actual value is positive, how often is the prediction correct?\n",
    "* True Negative Rate (Specificity): When the actual value is negative, how often is the prediction correct?\n",
    "* False Positive Rate: When the actual value is negative, how often is the prediction incorrect?\n",
    "* Precision: When a positive value is predicted, how often is the prediction correct?\n"
   ]
  },
  {
   "cell_type": "code",
   "execution_count": 24,
   "metadata": {},
   "outputs": [],
   "source": [
    "PipeLineMetadata['Metrics - Confusion Matrix Classification Accuracy'] = metrics.accuracy_score(y_test,y_pred_class) \n",
    "PipeLineMetadata['Metrics - Confusion Matrix Classification Error'] = 1- metrics.accuracy_score(y_test,y_pred_class)\n",
    "PipeLineMetadata['Metrics - Confusion Matrix True Positive Rate'] = metrics.recall_score(y_test, y_pred_class) \n",
    "PipeLineMetadata['Metrics - Confusion Matrix True Negative Rate'] =  TN / float(TN + FP)\n",
    "PipeLineMetadata['Metrics - Confusion Matrix False Positive Rate'] =  FP / float(TN + FP)\n",
    "PipeLineMetadata['Metrics - Confusion Matrix Precision'] = metrics.precision_score(y_test,y_pred_class)"
   ]
  },
  {
   "cell_type": "code",
   "execution_count": 25,
   "metadata": {},
   "outputs": [
    {
     "data": {
      "text/plain": "{'Name': 'Bare Bones with Target Encoder',\n 'Column Transforms': ['targetencoder', 'standardscaler'],\n 'Classifier': LogisticRegression(C=1.0, class_weight=None, dual=False, fit_intercept=True,\n                    intercept_scaling=1, l1_ratio=None, max_iter=100,\n                    multi_class='auto', n_jobs=None, penalty='l2',\n                    random_state=None, solver='lbfgs', tol=0.0001, verbose=0,\n                    warm_start=False),\n 'Classifier - Intercept': -6.120540673257555,\n 'Classifier - Coefficients':                                    0\n Service_Component_WBS_aff   0.465650\n Urgency                     0.936344\n KM_number                   5.528813\n Count_Related_Interactions  4.423700\n Count_Related_Incidents     5.229369\n Count_Related_Changes       0.158573\n Open_Time_HourOfDay         0.189712\n Open_Time_DayOfWeek        -0.032066\n CI_TypeSubType_aff          0.004637,\n 'Metrics - Cross Validation Accuracy': 0.7339419760600527,\n 'Metrics - F1 score': 0.656800064664544,\n 'Metrics - Confusion Matrix Classification Accuracy': 0.7438227776199943,\n 'Metrics - Confusion Matrix Classification Error': 0.25617722238000573,\n 'Metrics - Confusion Matrix True Positive Rate': 0.40699166132135983,\n 'Metrics - Confusion Matrix True Negative Rate': 0.8848891873740765,\n 'Metrics - Confusion Matrix False Positive Rate': 0.11511081262592344,\n 'Metrics - Confusion Matrix Precision': 0.59689557855127}"
     },
     "execution_count": 25,
     "metadata": {},
     "output_type": "execute_result"
    }
   ],
   "source": [
    "PipeLineMetadata\n"
   ]
  },
  {
   "cell_type": "markdown",
   "metadata": {},
   "source": [
    "Add some ROC curve information and AUC result\n"
   ]
  },
  {
   "cell_type": "code",
   "execution_count": 26,
   "metadata": {},
   "outputs": [],
   "source": [
    "fpr, tpr, thresholds = metrics.roc_curve(y_test, y_pred_prob)"
   ]
  },
  {
   "cell_type": "code",
   "execution_count": 27,
   "metadata": {},
   "outputs": [],
   "source": [
    "PipeLineMetadata['Metrics - ROC Curve fpr array'] = fpr\n",
    "PipeLineMetadata['Metrics - ROC Curve tpr array'] = tpr"
   ]
  },
  {
   "cell_type": "code",
   "execution_count": 28,
   "metadata": {},
   "outputs": [
    {
     "data": {
      "image/png": "[encoded data removed]",
      "image/svg+xml": "<?xml version=\"1.0\" encoding=\"utf-8\" standalone=\"no\"?>\n<!DOCTYPE svg PUBLIC \"-//W3C//DTD SVG 1.1//EN\"\n  \"http://www.w3.org/Graphics/SVG/1.1/DTD/svg11.dtd\">\n<!-- Created with matplotlib (https://matplotlib.org/) -->\n<svg height=\"277.314375pt\" version=\"1.1\" viewBox=\"0 0 393.732813 277.314375\" width=\"393.732813pt\" xmlns=\"http://www.w3.org/2000/svg\" xmlns:xlink=\"http://www.w3.org/1999/xlink\">\n <defs>\n  <style type=\"text/css\">\n*{stroke-linecap:butt;stroke-linejoin:round;}\n  </style>\n </defs>\n <g id=\"figure_1\">\n  <g id=\"patch_1\">\n   <path d=\"M 0 277.314375 \nL 393.732813 277.314375 \nL 393.732813 0 \nL 0 0 \nz\n\" style=\"fill:none;\"/>\n  </g>\n  <g id=\"axes_1\">\n   <g id=\"patch_2\">\n    <path d=\"M 43.78125 239.758125 \nL 378.58125 239.758125 \nL 378.58125 22.318125 \nL 43.78125 22.318125 \nz\n\" style=\"fill:#ffffff;\"/>\n   </g>\n   <g id=\"matplotlib.axis_1\">\n    <g id=\"xtick_1\">\n     <g id=\"line2d_1\">\n      <path clip-path=\"url(#p17f83a5aab)\" d=\"M 43.78125 239.758125 \nL 43.78125 22.318125 \n\" style=\"fill:none;stroke:#b0b0b0;stroke-linecap:square;stroke-width:0.8;\"/>\n     </g>\n     <g id=\"line2d_2\">\n      <defs>\n       <path d=\"M 0 0 \nL 0 3.5 \n\" id=\"m2f874f348d\" style=\"stroke:#000000;stroke-width:0.8;\"/>\n      </defs>\n      <g>\n       <use style=\"stroke:#000000;stroke-width:0.8;\" x=\"43.78125\" xlink:href=\"#m2f874f348d\" y=\"239.758125\"/>\n      </g>\n     </g>\n     <g id=\"text_1\">\n      <!-- 0.0 -->\n      <defs>\n       <path d=\"M 31.78125 66.40625 \nQ 24.171875 66.40625 20.328125 58.90625 \nQ 16.5 51.421875 16.5 36.375 \nQ 16.5 21.390625 20.328125 13.890625 \nQ 24.171875 6.390625 31.78125 6.390625 \nQ 39.453125 6.390625 43.28125 13.890625 \nQ 47.125 21.390625 47.125 36.375 \nQ 47.125 51.421875 43.28125 58.90625 \nQ 39.453125 66.40625 31.78125 66.40625 \nz\nM 31.78125 74.21875 \nQ 44.046875 74.21875 50.515625 64.515625 \nQ 56.984375 54.828125 56.984375 36.375 \nQ 56.984375 17.96875 50.515625 8.265625 \nQ 44.046875 -1.421875 31.78125 -1.421875 \nQ 19.53125 -1.421875 13.0625 8.265625 \nQ 6.59375 17.96875 6.59375 36.375 \nQ 6.59375 54.828125 13.0625 64.515625 \nQ 19.53125 74.21875 31.78125 74.21875 \nz\n\" id=\"DejaVuSans-48\"/>\n       <path d=\"M 10.6875 12.40625 \nL 21 12.40625 \nL 21 0 \nL 10.6875 0 \nz\n\" id=\"DejaVuSans-46\"/>\n      </defs>\n      <g transform=\"translate(35.829688 254.356562)scale(0.1 -0.1)\">\n       <use xlink:href=\"#DejaVuSans-48\"/>\n       <use x=\"63.623047\" xlink:href=\"#DejaVuSans-46\"/>\n       <use x=\"95.410156\" xlink:href=\"#DejaVuSans-48\"/>\n      </g>\n     </g>\n    </g>\n    <g id=\"xtick_2\">\n     <g id=\"line2d_3\">\n      <path clip-path=\"url(#p17f83a5aab)\" d=\"M 110.74125 239.758125 \nL 110.74125 22.318125 \n\" style=\"fill:none;stroke:#b0b0b0;stroke-linecap:square;stroke-width:0.8;\"/>\n     </g>\n     <g id=\"line2d_4\">\n      <g>\n       <use style=\"stroke:#000000;stroke-width:0.8;\" x=\"110.74125\" xlink:href=\"#m2f874f348d\" y=\"239.758125\"/>\n      </g>\n     </g>\n     <g id=\"text_2\">\n      <!-- 0.2 -->\n      <defs>\n       <path d=\"M 19.1875 8.296875 \nL 53.609375 8.296875 \nL 53.609375 0 \nL 7.328125 0 \nL 7.328125 8.296875 \nQ 12.9375 14.109375 22.625 23.890625 \nQ 32.328125 33.6875 34.8125 36.53125 \nQ 39.546875 41.84375 41.421875 45.53125 \nQ 43.3125 49.21875 43.3125 52.78125 \nQ 43.3125 58.59375 39.234375 62.25 \nQ 35.15625 65.921875 28.609375 65.921875 \nQ 23.96875 65.921875 18.8125 64.3125 \nQ 13.671875 62.703125 7.8125 59.421875 \nL 7.8125 69.390625 \nQ 13.765625 71.78125 18.9375 73 \nQ 24.125 74.21875 28.421875 74.21875 \nQ 39.75 74.21875 46.484375 68.546875 \nQ 53.21875 62.890625 53.21875 53.421875 \nQ 53.21875 48.921875 51.53125 44.890625 \nQ 49.859375 40.875 45.40625 35.40625 \nQ 44.1875 33.984375 37.640625 27.21875 \nQ 31.109375 20.453125 19.1875 8.296875 \nz\n\" id=\"DejaVuSans-50\"/>\n      </defs>\n      <g transform=\"translate(102.789688 254.356562)scale(0.1 -0.1)\">\n       <use xlink:href=\"#DejaVuSans-48\"/>\n       <use x=\"63.623047\" xlink:href=\"#DejaVuSans-46\"/>\n       <use x=\"95.410156\" xlink:href=\"#DejaVuSans-50\"/>\n      </g>\n     </g>\n    </g>\n    <g id=\"xtick_3\">\n     <g id=\"line2d_5\">\n      <path clip-path=\"url(#p17f83a5aab)\" d=\"M 177.70125 239.758125 \nL 177.70125 22.318125 \n\" style=\"fill:none;stroke:#b0b0b0;stroke-linecap:square;stroke-width:0.8;\"/>\n     </g>\n     <g id=\"line2d_6\">\n      <g>\n       <use style=\"stroke:#000000;stroke-width:0.8;\" x=\"177.70125\" xlink:href=\"#m2f874f348d\" y=\"239.758125\"/>\n      </g>\n     </g>\n     <g id=\"text_3\">\n      <!-- 0.4 -->\n      <defs>\n       <path d=\"M 37.796875 64.3125 \nL 12.890625 25.390625 \nL 37.796875 25.390625 \nz\nM 35.203125 72.90625 \nL 47.609375 72.90625 \nL 47.609375 25.390625 \nL 58.015625 25.390625 \nL 58.015625 17.1875 \nL 47.609375 17.1875 \nL 47.609375 0 \nL 37.796875 0 \nL 37.796875 17.1875 \nL 4.890625 17.1875 \nL 4.890625 26.703125 \nz\n\" id=\"DejaVuSans-52\"/>\n      </defs>\n      <g transform=\"translate(169.749688 254.356562)scale(0.1 -0.1)\">\n       <use xlink:href=\"#DejaVuSans-48\"/>\n       <use x=\"63.623047\" xlink:href=\"#DejaVuSans-46\"/>\n       <use x=\"95.410156\" xlink:href=\"#DejaVuSans-52\"/>\n      </g>\n     </g>\n    </g>\n    <g id=\"xtick_4\">\n     <g id=\"line2d_7\">\n      <path clip-path=\"url(#p17f83a5aab)\" d=\"M 244.66125 239.758125 \nL 244.66125 22.318125 \n\" style=\"fill:none;stroke:#b0b0b0;stroke-linecap:square;stroke-width:0.8;\"/>\n     </g>\n     <g id=\"line2d_8\">\n      <g>\n       <use style=\"stroke:#000000;stroke-width:0.8;\" x=\"244.66125\" xlink:href=\"#m2f874f348d\" y=\"239.758125\"/>\n      </g>\n     </g>\n     <g id=\"text_4\">\n      <!-- 0.6 -->\n      <defs>\n       <path d=\"M 33.015625 40.375 \nQ 26.375 40.375 22.484375 35.828125 \nQ 18.609375 31.296875 18.609375 23.390625 \nQ 18.609375 15.53125 22.484375 10.953125 \nQ 26.375 6.390625 33.015625 6.390625 \nQ 39.65625 6.390625 43.53125 10.953125 \nQ 47.40625 15.53125 47.40625 23.390625 \nQ 47.40625 31.296875 43.53125 35.828125 \nQ 39.65625 40.375 33.015625 40.375 \nz\nM 52.59375 71.296875 \nL 52.59375 62.3125 \nQ 48.875 64.0625 45.09375 64.984375 \nQ 41.3125 65.921875 37.59375 65.921875 \nQ 27.828125 65.921875 22.671875 59.328125 \nQ 17.53125 52.734375 16.796875 39.40625 \nQ 19.671875 43.65625 24.015625 45.921875 \nQ 28.375 48.1875 33.59375 48.1875 \nQ 44.578125 48.1875 50.953125 41.515625 \nQ 57.328125 34.859375 57.328125 23.390625 \nQ 57.328125 12.15625 50.6875 5.359375 \nQ 44.046875 -1.421875 33.015625 -1.421875 \nQ 20.359375 -1.421875 13.671875 8.265625 \nQ 6.984375 17.96875 6.984375 36.375 \nQ 6.984375 53.65625 15.1875 63.9375 \nQ 23.390625 74.21875 37.203125 74.21875 \nQ 40.921875 74.21875 44.703125 73.484375 \nQ 48.484375 72.75 52.59375 71.296875 \nz\n\" id=\"DejaVuSans-54\"/>\n      </defs>\n      <g transform=\"translate(236.709688 254.356562)scale(0.1 -0.1)\">\n       <use xlink:href=\"#DejaVuSans-48\"/>\n       <use x=\"63.623047\" xlink:href=\"#DejaVuSans-46\"/>\n       <use x=\"95.410156\" xlink:href=\"#DejaVuSans-54\"/>\n      </g>\n     </g>\n    </g>\n    <g id=\"xtick_5\">\n     <g id=\"line2d_9\">\n      <path clip-path=\"url(#p17f83a5aab)\" d=\"M 311.62125 239.758125 \nL 311.62125 22.318125 \n\" style=\"fill:none;stroke:#b0b0b0;stroke-linecap:square;stroke-width:0.8;\"/>\n     </g>\n     <g id=\"line2d_10\">\n      <g>\n       <use style=\"stroke:#000000;stroke-width:0.8;\" x=\"311.62125\" xlink:href=\"#m2f874f348d\" y=\"239.758125\"/>\n      </g>\n     </g>\n     <g id=\"text_5\">\n      <!-- 0.8 -->\n      <defs>\n       <path d=\"M 31.78125 34.625 \nQ 24.75 34.625 20.71875 30.859375 \nQ 16.703125 27.09375 16.703125 20.515625 \nQ 16.703125 13.921875 20.71875 10.15625 \nQ 24.75 6.390625 31.78125 6.390625 \nQ 38.8125 6.390625 42.859375 10.171875 \nQ 46.921875 13.96875 46.921875 20.515625 \nQ 46.921875 27.09375 42.890625 30.859375 \nQ 38.875 34.625 31.78125 34.625 \nz\nM 21.921875 38.8125 \nQ 15.578125 40.375 12.03125 44.71875 \nQ 8.5 49.078125 8.5 55.328125 \nQ 8.5 64.0625 14.71875 69.140625 \nQ 20.953125 74.21875 31.78125 74.21875 \nQ 42.671875 74.21875 48.875 69.140625 \nQ 55.078125 64.0625 55.078125 55.328125 \nQ 55.078125 49.078125 51.53125 44.71875 \nQ 48 40.375 41.703125 38.8125 \nQ 48.828125 37.15625 52.796875 32.3125 \nQ 56.78125 27.484375 56.78125 20.515625 \nQ 56.78125 9.90625 50.3125 4.234375 \nQ 43.84375 -1.421875 31.78125 -1.421875 \nQ 19.734375 -1.421875 13.25 4.234375 \nQ 6.78125 9.90625 6.78125 20.515625 \nQ 6.78125 27.484375 10.78125 32.3125 \nQ 14.796875 37.15625 21.921875 38.8125 \nz\nM 18.3125 54.390625 \nQ 18.3125 48.734375 21.84375 45.5625 \nQ 25.390625 42.390625 31.78125 42.390625 \nQ 38.140625 42.390625 41.71875 45.5625 \nQ 45.3125 48.734375 45.3125 54.390625 \nQ 45.3125 60.0625 41.71875 63.234375 \nQ 38.140625 66.40625 31.78125 66.40625 \nQ 25.390625 66.40625 21.84375 63.234375 \nQ 18.3125 60.0625 18.3125 54.390625 \nz\n\" id=\"DejaVuSans-56\"/>\n      </defs>\n      <g transform=\"translate(303.669688 254.356562)scale(0.1 -0.1)\">\n       <use xlink:href=\"#DejaVuSans-48\"/>\n       <use x=\"63.623047\" xlink:href=\"#DejaVuSans-46\"/>\n       <use x=\"95.410156\" xlink:href=\"#DejaVuSans-56\"/>\n      </g>\n     </g>\n    </g>\n    <g id=\"xtick_6\">\n     <g id=\"line2d_11\">\n      <path clip-path=\"url(#p17f83a5aab)\" d=\"M 378.58125 239.758125 \nL 378.58125 22.318125 \n\" style=\"fill:none;stroke:#b0b0b0;stroke-linecap:square;stroke-width:0.8;\"/>\n     </g>\n     <g id=\"line2d_12\">\n      <g>\n       <use style=\"stroke:#000000;stroke-width:0.8;\" x=\"378.58125\" xlink:href=\"#m2f874f348d\" y=\"239.758125\"/>\n      </g>\n     </g>\n     <g id=\"text_6\">\n      <!-- 1.0 -->\n      <defs>\n       <path d=\"M 12.40625 8.296875 \nL 28.515625 8.296875 \nL 28.515625 63.921875 \nL 10.984375 60.40625 \nL 10.984375 69.390625 \nL 28.421875 72.90625 \nL 38.28125 72.90625 \nL 38.28125 8.296875 \nL 54.390625 8.296875 \nL 54.390625 0 \nL 12.40625 0 \nz\n\" id=\"DejaVuSans-49\"/>\n      </defs>\n      <g transform=\"translate(370.629687 254.356562)scale(0.1 -0.1)\">\n       <use xlink:href=\"#DejaVuSans-49\"/>\n       <use x=\"63.623047\" xlink:href=\"#DejaVuSans-46\"/>\n       <use x=\"95.410156\" xlink:href=\"#DejaVuSans-48\"/>\n      </g>\n     </g>\n    </g>\n    <g id=\"text_7\">\n     <!-- False Positive Rate (1 - Specificity) -->\n     <defs>\n      <path d=\"M 9.8125 72.90625 \nL 51.703125 72.90625 \nL 51.703125 64.59375 \nL 19.671875 64.59375 \nL 19.671875 43.109375 \nL 48.578125 43.109375 \nL 48.578125 34.8125 \nL 19.671875 34.8125 \nL 19.671875 0 \nL 9.8125 0 \nz\n\" id=\"DejaVuSans-70\"/>\n      <path d=\"M 34.28125 27.484375 \nQ 23.390625 27.484375 19.1875 25 \nQ 14.984375 22.515625 14.984375 16.5 \nQ 14.984375 11.71875 18.140625 8.90625 \nQ 21.296875 6.109375 26.703125 6.109375 \nQ 34.1875 6.109375 38.703125 11.40625 \nQ 43.21875 16.703125 43.21875 25.484375 \nL 43.21875 27.484375 \nz\nM 52.203125 31.203125 \nL 52.203125 0 \nL 43.21875 0 \nL 43.21875 8.296875 \nQ 40.140625 3.328125 35.546875 0.953125 \nQ 30.953125 -1.421875 24.3125 -1.421875 \nQ 15.921875 -1.421875 10.953125 3.296875 \nQ 6 8.015625 6 15.921875 \nQ 6 25.140625 12.171875 29.828125 \nQ 18.359375 34.515625 30.609375 34.515625 \nL 43.21875 34.515625 \nL 43.21875 35.40625 \nQ 43.21875 41.609375 39.140625 45 \nQ 35.0625 48.390625 27.6875 48.390625 \nQ 23 48.390625 18.546875 47.265625 \nQ 14.109375 46.140625 10.015625 43.890625 \nL 10.015625 52.203125 \nQ 14.9375 54.109375 19.578125 55.046875 \nQ 24.21875 56 28.609375 56 \nQ 40.484375 56 46.34375 49.84375 \nQ 52.203125 43.703125 52.203125 31.203125 \nz\n\" id=\"DejaVuSans-97\"/>\n      <path d=\"M 9.421875 75.984375 \nL 18.40625 75.984375 \nL 18.40625 0 \nL 9.421875 0 \nz\n\" id=\"DejaVuSans-108\"/>\n      <path d=\"M 44.28125 53.078125 \nL 44.28125 44.578125 \nQ 40.484375 46.53125 36.375 47.5 \nQ 32.28125 48.484375 27.875 48.484375 \nQ 21.1875 48.484375 17.84375 46.4375 \nQ 14.5 44.390625 14.5 40.28125 \nQ 14.5 37.15625 16.890625 35.375 \nQ 19.28125 33.59375 26.515625 31.984375 \nL 29.59375 31.296875 \nQ 39.15625 29.25 43.1875 25.515625 \nQ 47.21875 21.78125 47.21875 15.09375 \nQ 47.21875 7.46875 41.1875 3.015625 \nQ 35.15625 -1.421875 24.609375 -1.421875 \nQ 20.21875 -1.421875 15.453125 -0.5625 \nQ 10.6875 0.296875 5.421875 2 \nL 5.421875 11.28125 \nQ 10.40625 8.6875 15.234375 7.390625 \nQ 20.0625 6.109375 24.8125 6.109375 \nQ 31.15625 6.109375 34.5625 8.28125 \nQ 37.984375 10.453125 37.984375 14.40625 \nQ 37.984375 18.0625 35.515625 20.015625 \nQ 33.0625 21.96875 24.703125 23.78125 \nL 21.578125 24.515625 \nQ 13.234375 26.265625 9.515625 29.90625 \nQ 5.8125 33.546875 5.8125 39.890625 \nQ 5.8125 47.609375 11.28125 51.796875 \nQ 16.75 56 26.8125 56 \nQ 31.78125 56 36.171875 55.265625 \nQ 40.578125 54.546875 44.28125 53.078125 \nz\n\" id=\"DejaVuSans-115\"/>\n      <path d=\"M 56.203125 29.59375 \nL 56.203125 25.203125 \nL 14.890625 25.203125 \nQ 15.484375 15.921875 20.484375 11.0625 \nQ 25.484375 6.203125 34.421875 6.203125 \nQ 39.59375 6.203125 44.453125 7.46875 \nQ 49.3125 8.734375 54.109375 11.28125 \nL 54.109375 2.78125 \nQ 49.265625 0.734375 44.1875 -0.34375 \nQ 39.109375 -1.421875 33.890625 -1.421875 \nQ 20.796875 -1.421875 13.15625 6.1875 \nQ 5.515625 13.8125 5.515625 26.8125 \nQ 5.515625 40.234375 12.765625 48.109375 \nQ 20.015625 56 32.328125 56 \nQ 43.359375 56 49.78125 48.890625 \nQ 56.203125 41.796875 56.203125 29.59375 \nz\nM 47.21875 32.234375 \nQ 47.125 39.59375 43.09375 43.984375 \nQ 39.0625 48.390625 32.421875 48.390625 \nQ 24.90625 48.390625 20.390625 44.140625 \nQ 15.875 39.890625 15.1875 32.171875 \nz\n\" id=\"DejaVuSans-101\"/>\n      <path id=\"DejaVuSans-32\"/>\n      <path d=\"M 19.671875 64.796875 \nL 19.671875 37.40625 \nL 32.078125 37.40625 \nQ 38.96875 37.40625 42.71875 40.96875 \nQ 46.484375 44.53125 46.484375 51.125 \nQ 46.484375 57.671875 42.71875 61.234375 \nQ 38.96875 64.796875 32.078125 64.796875 \nz\nM 9.8125 72.90625 \nL 32.078125 72.90625 \nQ 44.34375 72.90625 50.609375 67.359375 \nQ 56.890625 61.8125 56.890625 51.125 \nQ 56.890625 40.328125 50.609375 34.8125 \nQ 44.34375 29.296875 32.078125 29.296875 \nL 19.671875 29.296875 \nL 19.671875 0 \nL 9.8125 0 \nz\n\" id=\"DejaVuSans-80\"/>\n      <path d=\"M 30.609375 48.390625 \nQ 23.390625 48.390625 19.1875 42.75 \nQ 14.984375 37.109375 14.984375 27.296875 \nQ 14.984375 17.484375 19.15625 11.84375 \nQ 23.34375 6.203125 30.609375 6.203125 \nQ 37.796875 6.203125 41.984375 11.859375 \nQ 46.1875 17.53125 46.1875 27.296875 \nQ 46.1875 37.015625 41.984375 42.703125 \nQ 37.796875 48.390625 30.609375 48.390625 \nz\nM 30.609375 56 \nQ 42.328125 56 49.015625 48.375 \nQ 55.71875 40.765625 55.71875 27.296875 \nQ 55.71875 13.875 49.015625 6.21875 \nQ 42.328125 -1.421875 30.609375 -1.421875 \nQ 18.84375 -1.421875 12.171875 6.21875 \nQ 5.515625 13.875 5.515625 27.296875 \nQ 5.515625 40.765625 12.171875 48.375 \nQ 18.84375 56 30.609375 56 \nz\n\" id=\"DejaVuSans-111\"/>\n      <path d=\"M 9.421875 54.6875 \nL 18.40625 54.6875 \nL 18.40625 0 \nL 9.421875 0 \nz\nM 9.421875 75.984375 \nL 18.40625 75.984375 \nL 18.40625 64.59375 \nL 9.421875 64.59375 \nz\n\" id=\"DejaVuSans-105\"/>\n      <path d=\"M 18.3125 70.21875 \nL 18.3125 54.6875 \nL 36.8125 54.6875 \nL 36.8125 47.703125 \nL 18.3125 47.703125 \nL 18.3125 18.015625 \nQ 18.3125 11.328125 20.140625 9.421875 \nQ 21.96875 7.515625 27.59375 7.515625 \nL 36.8125 7.515625 \nL 36.8125 0 \nL 27.59375 0 \nQ 17.1875 0 13.234375 3.875 \nQ 9.28125 7.765625 9.28125 18.015625 \nL 9.28125 47.703125 \nL 2.6875 47.703125 \nL 2.6875 54.6875 \nL 9.28125 54.6875 \nL 9.28125 70.21875 \nz\n\" id=\"DejaVuSans-116\"/>\n      <path d=\"M 2.984375 54.6875 \nL 12.5 54.6875 \nL 29.59375 8.796875 \nL 46.6875 54.6875 \nL 56.203125 54.6875 \nL 35.6875 0 \nL 23.484375 0 \nz\n\" id=\"DejaVuSans-118\"/>\n      <path d=\"M 44.390625 34.1875 \nQ 47.5625 33.109375 50.5625 29.59375 \nQ 53.5625 26.078125 56.59375 19.921875 \nL 66.609375 0 \nL 56 0 \nL 46.6875 18.703125 \nQ 43.0625 26.03125 39.671875 28.421875 \nQ 36.28125 30.8125 30.421875 30.8125 \nL 19.671875 30.8125 \nL 19.671875 0 \nL 9.8125 0 \nL 9.8125 72.90625 \nL 32.078125 72.90625 \nQ 44.578125 72.90625 50.734375 67.671875 \nQ 56.890625 62.453125 56.890625 51.90625 \nQ 56.890625 45.015625 53.6875 40.46875 \nQ 50.484375 35.9375 44.390625 34.1875 \nz\nM 19.671875 64.796875 \nL 19.671875 38.921875 \nL 32.078125 38.921875 \nQ 39.203125 38.921875 42.84375 42.21875 \nQ 46.484375 45.515625 46.484375 51.90625 \nQ 46.484375 58.296875 42.84375 61.546875 \nQ 39.203125 64.796875 32.078125 64.796875 \nz\n\" id=\"DejaVuSans-82\"/>\n      <path d=\"M 31 75.875 \nQ 24.46875 64.65625 21.28125 53.65625 \nQ 18.109375 42.671875 18.109375 31.390625 \nQ 18.109375 20.125 21.3125 9.0625 \nQ 24.515625 -2 31 -13.1875 \nL 23.1875 -13.1875 \nQ 15.875 -1.703125 12.234375 9.375 \nQ 8.59375 20.453125 8.59375 31.390625 \nQ 8.59375 42.28125 12.203125 53.3125 \nQ 15.828125 64.359375 23.1875 75.875 \nz\n\" id=\"DejaVuSans-40\"/>\n      <path d=\"M 4.890625 31.390625 \nL 31.203125 31.390625 \nL 31.203125 23.390625 \nL 4.890625 23.390625 \nz\n\" id=\"DejaVuSans-45\"/>\n      <path d=\"M 53.515625 70.515625 \nL 53.515625 60.890625 \nQ 47.90625 63.578125 42.921875 64.890625 \nQ 37.9375 66.21875 33.296875 66.21875 \nQ 25.25 66.21875 20.875 63.09375 \nQ 16.5 59.96875 16.5 54.203125 \nQ 16.5 49.359375 19.40625 46.890625 \nQ 22.3125 44.4375 30.421875 42.921875 \nL 36.375 41.703125 \nQ 47.40625 39.59375 52.65625 34.296875 \nQ 57.90625 29 57.90625 20.125 \nQ 57.90625 9.515625 50.796875 4.046875 \nQ 43.703125 -1.421875 29.984375 -1.421875 \nQ 24.8125 -1.421875 18.96875 -0.25 \nQ 13.140625 0.921875 6.890625 3.21875 \nL 6.890625 13.375 \nQ 12.890625 10.015625 18.65625 8.296875 \nQ 24.421875 6.59375 29.984375 6.59375 \nQ 38.421875 6.59375 43.015625 9.90625 \nQ 47.609375 13.234375 47.609375 19.390625 \nQ 47.609375 24.75 44.3125 27.78125 \nQ 41.015625 30.8125 33.5 32.328125 \nL 27.484375 33.5 \nQ 16.453125 35.6875 11.515625 40.375 \nQ 6.59375 45.0625 6.59375 53.421875 \nQ 6.59375 63.09375 13.40625 68.65625 \nQ 20.21875 74.21875 32.171875 74.21875 \nQ 37.3125 74.21875 42.625 73.28125 \nQ 47.953125 72.359375 53.515625 70.515625 \nz\n\" id=\"DejaVuSans-83\"/>\n      <path d=\"M 18.109375 8.203125 \nL 18.109375 -20.796875 \nL 9.078125 -20.796875 \nL 9.078125 54.6875 \nL 18.109375 54.6875 \nL 18.109375 46.390625 \nQ 20.953125 51.265625 25.265625 53.625 \nQ 29.59375 56 35.59375 56 \nQ 45.5625 56 51.78125 48.09375 \nQ 58.015625 40.1875 58.015625 27.296875 \nQ 58.015625 14.40625 51.78125 6.484375 \nQ 45.5625 -1.421875 35.59375 -1.421875 \nQ 29.59375 -1.421875 25.265625 0.953125 \nQ 20.953125 3.328125 18.109375 8.203125 \nz\nM 48.6875 27.296875 \nQ 48.6875 37.203125 44.609375 42.84375 \nQ 40.53125 48.484375 33.40625 48.484375 \nQ 26.265625 48.484375 22.1875 42.84375 \nQ 18.109375 37.203125 18.109375 27.296875 \nQ 18.109375 17.390625 22.1875 11.75 \nQ 26.265625 6.109375 33.40625 6.109375 \nQ 40.53125 6.109375 44.609375 11.75 \nQ 48.6875 17.390625 48.6875 27.296875 \nz\n\" id=\"DejaVuSans-112\"/>\n      <path d=\"M 48.78125 52.59375 \nL 48.78125 44.1875 \nQ 44.96875 46.296875 41.140625 47.34375 \nQ 37.3125 48.390625 33.40625 48.390625 \nQ 24.65625 48.390625 19.8125 42.84375 \nQ 14.984375 37.3125 14.984375 27.296875 \nQ 14.984375 17.28125 19.8125 11.734375 \nQ 24.65625 6.203125 33.40625 6.203125 \nQ 37.3125 6.203125 41.140625 7.25 \nQ 44.96875 8.296875 48.78125 10.40625 \nL 48.78125 2.09375 \nQ 45.015625 0.34375 40.984375 -0.53125 \nQ 36.96875 -1.421875 32.421875 -1.421875 \nQ 20.0625 -1.421875 12.78125 6.34375 \nQ 5.515625 14.109375 5.515625 27.296875 \nQ 5.515625 40.671875 12.859375 48.328125 \nQ 20.21875 56 33.015625 56 \nQ 37.15625 56 41.109375 55.140625 \nQ 45.0625 54.296875 48.78125 52.59375 \nz\n\" id=\"DejaVuSans-99\"/>\n      <path d=\"M 37.109375 75.984375 \nL 37.109375 68.5 \nL 28.515625 68.5 \nQ 23.6875 68.5 21.796875 66.546875 \nQ 19.921875 64.59375 19.921875 59.515625 \nL 19.921875 54.6875 \nL 34.71875 54.6875 \nL 34.71875 47.703125 \nL 19.921875 47.703125 \nL 19.921875 0 \nL 10.890625 0 \nL 10.890625 47.703125 \nL 2.296875 47.703125 \nL 2.296875 54.6875 \nL 10.890625 54.6875 \nL 10.890625 58.5 \nQ 10.890625 67.625 15.140625 71.796875 \nQ 19.390625 75.984375 28.609375 75.984375 \nz\n\" id=\"DejaVuSans-102\"/>\n      <path d=\"M 32.171875 -5.078125 \nQ 28.375 -14.84375 24.75 -17.8125 \nQ 21.140625 -20.796875 15.09375 -20.796875 \nL 7.90625 -20.796875 \nL 7.90625 -13.28125 \nL 13.1875 -13.28125 \nQ 16.890625 -13.28125 18.9375 -11.515625 \nQ 21 -9.765625 23.484375 -3.21875 \nL 25.09375 0.875 \nL 2.984375 54.6875 \nL 12.5 54.6875 \nL 29.59375 11.921875 \nL 46.6875 54.6875 \nL 56.203125 54.6875 \nz\n\" id=\"DejaVuSans-121\"/>\n      <path d=\"M 8.015625 75.875 \nL 15.828125 75.875 \nQ 23.140625 64.359375 26.78125 53.3125 \nQ 30.421875 42.28125 30.421875 31.390625 \nQ 30.421875 20.453125 26.78125 9.375 \nQ 23.140625 -1.703125 15.828125 -13.1875 \nL 8.015625 -13.1875 \nQ 14.5 -2 17.703125 9.0625 \nQ 20.90625 20.125 20.90625 31.390625 \nQ 20.90625 42.671875 17.703125 53.65625 \nQ 14.5 64.65625 8.015625 75.875 \nz\n\" id=\"DejaVuSans-41\"/>\n     </defs>\n     <g transform=\"translate(124.551563 268.034687)scale(0.1 -0.1)\">\n      <use xlink:href=\"#DejaVuSans-70\"/>\n      <use x=\"57.378906\" xlink:href=\"#DejaVuSans-97\"/>\n      <use x=\"118.658203\" xlink:href=\"#DejaVuSans-108\"/>\n      <use x=\"146.441406\" xlink:href=\"#DejaVuSans-115\"/>\n      <use x=\"198.541016\" xlink:href=\"#DejaVuSans-101\"/>\n      <use x=\"260.064453\" xlink:href=\"#DejaVuSans-32\"/>\n      <use x=\"291.851562\" xlink:href=\"#DejaVuSans-80\"/>\n      <use x=\"352.107422\" xlink:href=\"#DejaVuSans-111\"/>\n      <use x=\"413.289062\" xlink:href=\"#DejaVuSans-115\"/>\n      <use x=\"465.388672\" xlink:href=\"#DejaVuSans-105\"/>\n      <use x=\"493.171875\" xlink:href=\"#DejaVuSans-116\"/>\n      <use x=\"532.380859\" xlink:href=\"#DejaVuSans-105\"/>\n      <use x=\"560.164062\" xlink:href=\"#DejaVuSans-118\"/>\n      <use x=\"619.34375\" xlink:href=\"#DejaVuSans-101\"/>\n      <use x=\"680.867188\" xlink:href=\"#DejaVuSans-32\"/>\n      <use x=\"712.654297\" xlink:href=\"#DejaVuSans-82\"/>\n      <use x=\"782.105469\" xlink:href=\"#DejaVuSans-97\"/>\n      <use x=\"843.384766\" xlink:href=\"#DejaVuSans-116\"/>\n      <use x=\"882.59375\" xlink:href=\"#DejaVuSans-101\"/>\n      <use x=\"944.117188\" xlink:href=\"#DejaVuSans-32\"/>\n      <use x=\"975.904297\" xlink:href=\"#DejaVuSans-40\"/>\n      <use x=\"1014.917969\" xlink:href=\"#DejaVuSans-49\"/>\n      <use x=\"1078.541016\" xlink:href=\"#DejaVuSans-32\"/>\n      <use x=\"1110.328125\" xlink:href=\"#DejaVuSans-45\"/>\n      <use x=\"1146.412109\" xlink:href=\"#DejaVuSans-32\"/>\n      <use x=\"1178.199219\" xlink:href=\"#DejaVuSans-83\"/>\n      <use x=\"1241.675781\" xlink:href=\"#DejaVuSans-112\"/>\n      <use x=\"1305.152344\" xlink:href=\"#DejaVuSans-101\"/>\n      <use x=\"1366.675781\" xlink:href=\"#DejaVuSans-99\"/>\n      <use x=\"1421.65625\" xlink:href=\"#DejaVuSans-105\"/>\n      <use x=\"1449.439453\" xlink:href=\"#DejaVuSans-102\"/>\n      <use x=\"1484.644531\" xlink:href=\"#DejaVuSans-105\"/>\n      <use x=\"1512.427734\" xlink:href=\"#DejaVuSans-99\"/>\n      <use x=\"1567.408203\" xlink:href=\"#DejaVuSans-105\"/>\n      <use x=\"1595.191406\" xlink:href=\"#DejaVuSans-116\"/>\n      <use x=\"1634.400391\" xlink:href=\"#DejaVuSans-121\"/>\n      <use x=\"1693.580078\" xlink:href=\"#DejaVuSans-41\"/>\n     </g>\n    </g>\n   </g>\n   <g id=\"matplotlib.axis_2\">\n    <g id=\"ytick_1\">\n     <g id=\"line2d_13\">\n      <path clip-path=\"url(#p17f83a5aab)\" d=\"M 43.78125 239.758125 \nL 378.58125 239.758125 \n\" style=\"fill:none;stroke:#b0b0b0;stroke-linecap:square;stroke-width:0.8;\"/>\n     </g>\n     <g id=\"line2d_14\">\n      <defs>\n       <path d=\"M 0 0 \nL -3.5 0 \n\" id=\"m0ee6fbf39b\" style=\"stroke:#000000;stroke-width:0.8;\"/>\n      </defs>\n      <g>\n       <use style=\"stroke:#000000;stroke-width:0.8;\" x=\"43.78125\" xlink:href=\"#m0ee6fbf39b\" y=\"239.758125\"/>\n      </g>\n     </g>\n     <g id=\"text_8\">\n      <!-- 0.0 -->\n      <g transform=\"translate(20.878125 243.557344)scale(0.1 -0.1)\">\n       <use xlink:href=\"#DejaVuSans-48\"/>\n       <use x=\"63.623047\" xlink:href=\"#DejaVuSans-46\"/>\n       <use x=\"95.410156\" xlink:href=\"#DejaVuSans-48\"/>\n      </g>\n     </g>\n    </g>\n    <g id=\"ytick_2\">\n     <g id=\"line2d_15\">\n      <path clip-path=\"url(#p17f83a5aab)\" d=\"M 43.78125 196.270125 \nL 378.58125 196.270125 \n\" style=\"fill:none;stroke:#b0b0b0;stroke-linecap:square;stroke-width:0.8;\"/>\n     </g>\n     <g id=\"line2d_16\">\n      <g>\n       <use style=\"stroke:#000000;stroke-width:0.8;\" x=\"43.78125\" xlink:href=\"#m0ee6fbf39b\" y=\"196.270125\"/>\n      </g>\n     </g>\n     <g id=\"text_9\">\n      <!-- 0.2 -->\n      <g transform=\"translate(20.878125 200.069344)scale(0.1 -0.1)\">\n       <use xlink:href=\"#DejaVuSans-48\"/>\n       <use x=\"63.623047\" xlink:href=\"#DejaVuSans-46\"/>\n       <use x=\"95.410156\" xlink:href=\"#DejaVuSans-50\"/>\n      </g>\n     </g>\n    </g>\n    <g id=\"ytick_3\">\n     <g id=\"line2d_17\">\n      <path clip-path=\"url(#p17f83a5aab)\" d=\"M 43.78125 152.782125 \nL 378.58125 152.782125 \n\" style=\"fill:none;stroke:#b0b0b0;stroke-linecap:square;stroke-width:0.8;\"/>\n     </g>\n     <g id=\"line2d_18\">\n      <g>\n       <use style=\"stroke:#000000;stroke-width:0.8;\" x=\"43.78125\" xlink:href=\"#m0ee6fbf39b\" y=\"152.782125\"/>\n      </g>\n     </g>\n     <g id=\"text_10\">\n      <!-- 0.4 -->\n      <g transform=\"translate(20.878125 156.581344)scale(0.1 -0.1)\">\n       <use xlink:href=\"#DejaVuSans-48\"/>\n       <use x=\"63.623047\" xlink:href=\"#DejaVuSans-46\"/>\n       <use x=\"95.410156\" xlink:href=\"#DejaVuSans-52\"/>\n      </g>\n     </g>\n    </g>\n    <g id=\"ytick_4\">\n     <g id=\"line2d_19\">\n      <path clip-path=\"url(#p17f83a5aab)\" d=\"M 43.78125 109.294125 \nL 378.58125 109.294125 \n\" style=\"fill:none;stroke:#b0b0b0;stroke-linecap:square;stroke-width:0.8;\"/>\n     </g>\n     <g id=\"line2d_20\">\n      <g>\n       <use style=\"stroke:#000000;stroke-width:0.8;\" x=\"43.78125\" xlink:href=\"#m0ee6fbf39b\" y=\"109.294125\"/>\n      </g>\n     </g>\n     <g id=\"text_11\">\n      <!-- 0.6 -->\n      <g transform=\"translate(20.878125 113.093344)scale(0.1 -0.1)\">\n       <use xlink:href=\"#DejaVuSans-48\"/>\n       <use x=\"63.623047\" xlink:href=\"#DejaVuSans-46\"/>\n       <use x=\"95.410156\" xlink:href=\"#DejaVuSans-54\"/>\n      </g>\n     </g>\n    </g>\n    <g id=\"ytick_5\">\n     <g id=\"line2d_21\">\n      <path clip-path=\"url(#p17f83a5aab)\" d=\"M 43.78125 65.806125 \nL 378.58125 65.806125 \n\" style=\"fill:none;stroke:#b0b0b0;stroke-linecap:square;stroke-width:0.8;\"/>\n     </g>\n     <g id=\"line2d_22\">\n      <g>\n       <use style=\"stroke:#000000;stroke-width:0.8;\" x=\"43.78125\" xlink:href=\"#m0ee6fbf39b\" y=\"65.806125\"/>\n      </g>\n     </g>\n     <g id=\"text_12\">\n      <!-- 0.8 -->\n      <g transform=\"translate(20.878125 69.605344)scale(0.1 -0.1)\">\n       <use xlink:href=\"#DejaVuSans-48\"/>\n       <use x=\"63.623047\" xlink:href=\"#DejaVuSans-46\"/>\n       <use x=\"95.410156\" xlink:href=\"#DejaVuSans-56\"/>\n      </g>\n     </g>\n    </g>\n    <g id=\"ytick_6\">\n     <g id=\"line2d_23\">\n      <path clip-path=\"url(#p17f83a5aab)\" d=\"M 43.78125 22.318125 \nL 378.58125 22.318125 \n\" style=\"fill:none;stroke:#b0b0b0;stroke-linecap:square;stroke-width:0.8;\"/>\n     </g>\n     <g id=\"line2d_24\">\n      <g>\n       <use style=\"stroke:#000000;stroke-width:0.8;\" x=\"43.78125\" xlink:href=\"#m0ee6fbf39b\" y=\"22.318125\"/>\n      </g>\n     </g>\n     <g id=\"text_13\">\n      <!-- 1.0 -->\n      <g transform=\"translate(20.878125 26.117344)scale(0.1 -0.1)\">\n       <use xlink:href=\"#DejaVuSans-49\"/>\n       <use x=\"63.623047\" xlink:href=\"#DejaVuSans-46\"/>\n       <use x=\"95.410156\" xlink:href=\"#DejaVuSans-48\"/>\n      </g>\n     </g>\n    </g>\n    <g id=\"text_14\">\n     <!-- True Positive Rate (Sensitivity) -->\n     <defs>\n      <path d=\"M -0.296875 72.90625 \nL 61.375 72.90625 \nL 61.375 64.59375 \nL 35.5 64.59375 \nL 35.5 0 \nL 25.59375 0 \nL 25.59375 64.59375 \nL -0.296875 64.59375 \nz\n\" id=\"DejaVuSans-84\"/>\n      <path d=\"M 41.109375 46.296875 \nQ 39.59375 47.171875 37.8125 47.578125 \nQ 36.03125 48 33.890625 48 \nQ 26.265625 48 22.1875 43.046875 \nQ 18.109375 38.09375 18.109375 28.8125 \nL 18.109375 0 \nL 9.078125 0 \nL 9.078125 54.6875 \nL 18.109375 54.6875 \nL 18.109375 46.1875 \nQ 20.953125 51.171875 25.484375 53.578125 \nQ 30.03125 56 36.53125 56 \nQ 37.453125 56 38.578125 55.875 \nQ 39.703125 55.765625 41.0625 55.515625 \nz\n\" id=\"DejaVuSans-114\"/>\n      <path d=\"M 8.5 21.578125 \nL 8.5 54.6875 \nL 17.484375 54.6875 \nL 17.484375 21.921875 \nQ 17.484375 14.15625 20.5 10.265625 \nQ 23.53125 6.390625 29.59375 6.390625 \nQ 36.859375 6.390625 41.078125 11.03125 \nQ 45.3125 15.671875 45.3125 23.6875 \nL 45.3125 54.6875 \nL 54.296875 54.6875 \nL 54.296875 0 \nL 45.3125 0 \nL 45.3125 8.40625 \nQ 42.046875 3.421875 37.71875 1 \nQ 33.40625 -1.421875 27.6875 -1.421875 \nQ 18.265625 -1.421875 13.375 4.4375 \nQ 8.5 10.296875 8.5 21.578125 \nz\nM 31.109375 56 \nz\n\" id=\"DejaVuSans-117\"/>\n      <path d=\"M 54.890625 33.015625 \nL 54.890625 0 \nL 45.90625 0 \nL 45.90625 32.71875 \nQ 45.90625 40.484375 42.875 44.328125 \nQ 39.84375 48.1875 33.796875 48.1875 \nQ 26.515625 48.1875 22.3125 43.546875 \nQ 18.109375 38.921875 18.109375 30.90625 \nL 18.109375 0 \nL 9.078125 0 \nL 9.078125 54.6875 \nL 18.109375 54.6875 \nL 18.109375 46.1875 \nQ 21.34375 51.125 25.703125 53.5625 \nQ 30.078125 56 35.796875 56 \nQ 45.21875 56 50.046875 50.171875 \nQ 54.890625 44.34375 54.890625 33.015625 \nz\n\" id=\"DejaVuSans-110\"/>\n     </defs>\n     <g transform=\"translate(14.798438 208.105312)rotate(-90)scale(0.1 -0.1)\">\n      <use xlink:href=\"#DejaVuSans-84\"/>\n      <use x=\"60.865234\" xlink:href=\"#DejaVuSans-114\"/>\n      <use x=\"101.978516\" xlink:href=\"#DejaVuSans-117\"/>\n      <use x=\"165.357422\" xlink:href=\"#DejaVuSans-101\"/>\n      <use x=\"226.880859\" xlink:href=\"#DejaVuSans-32\"/>\n      <use x=\"258.667969\" xlink:href=\"#DejaVuSans-80\"/>\n      <use x=\"318.923828\" xlink:href=\"#DejaVuSans-111\"/>\n      <use x=\"380.105469\" xlink:href=\"#DejaVuSans-115\"/>\n      <use x=\"432.205078\" xlink:href=\"#DejaVuSans-105\"/>\n      <use x=\"459.988281\" xlink:href=\"#DejaVuSans-116\"/>\n      <use x=\"499.197266\" xlink:href=\"#DejaVuSans-105\"/>\n      <use x=\"526.980469\" xlink:href=\"#DejaVuSans-118\"/>\n      <use x=\"586.160156\" xlink:href=\"#DejaVuSans-101\"/>\n      <use x=\"647.683594\" xlink:href=\"#DejaVuSans-32\"/>\n      <use x=\"679.470703\" xlink:href=\"#DejaVuSans-82\"/>\n      <use x=\"748.921875\" xlink:href=\"#DejaVuSans-97\"/>\n      <use x=\"810.201172\" xlink:href=\"#DejaVuSans-116\"/>\n      <use x=\"849.410156\" xlink:href=\"#DejaVuSans-101\"/>\n      <use x=\"910.933594\" xlink:href=\"#DejaVuSans-32\"/>\n      <use x=\"942.720703\" xlink:href=\"#DejaVuSans-40\"/>\n      <use x=\"981.734375\" xlink:href=\"#DejaVuSans-83\"/>\n      <use x=\"1045.210938\" xlink:href=\"#DejaVuSans-101\"/>\n      <use x=\"1106.734375\" xlink:href=\"#DejaVuSans-110\"/>\n      <use x=\"1170.113281\" xlink:href=\"#DejaVuSans-115\"/>\n      <use x=\"1222.212891\" xlink:href=\"#DejaVuSans-105\"/>\n      <use x=\"1249.996094\" xlink:href=\"#DejaVuSans-116\"/>\n      <use x=\"1289.205078\" xlink:href=\"#DejaVuSans-105\"/>\n      <use x=\"1316.988281\" xlink:href=\"#DejaVuSans-118\"/>\n      <use x=\"1376.167969\" xlink:href=\"#DejaVuSans-105\"/>\n      <use x=\"1403.951172\" xlink:href=\"#DejaVuSans-116\"/>\n      <use x=\"1443.160156\" xlink:href=\"#DejaVuSans-121\"/>\n      <use x=\"1502.339844\" xlink:href=\"#DejaVuSans-41\"/>\n     </g>\n    </g>\n   </g>\n   <g id=\"line2d_25\">\n    <path clip-path=\"url(#p17f83a5aab)\" d=\"M 43.78125 239.758125 \nL 43.78125 238.433122 \nL 43.961129 238.363385 \nL 44.051069 237.456804 \nL 44.096038 237.456804 \nL 44.185978 237.177856 \nL 44.365857 237.108119 \nL 44.410827 236.61996 \nL 44.500766 236.61996 \nL 44.545736 236.062063 \nL 44.725615 235.992326 \nL 44.815555 235.783115 \nL 44.950464 235.713378 \nL 45.220283 235.225219 \nL 45.310222 234.458112 \nL 45.355192 234.458112 \nL 45.445132 233.412057 \nL 45.490102 233.412057 \nL 45.580041 232.854161 \nL 45.669981 232.854161 \nL 45.71495 232.505476 \nL 45.84986 232.505476 \nL 45.84986 232.435739 \nL 45.89483 231.877843 \nL 46.029739 231.877843 \nL 46.119678 230.971262 \nL 46.209618 230.901525 \nL 46.299558 230.06468 \nL 46.434467 229.994943 \nL 46.434467 229.576521 \nL 46.569376 229.576521 \nL 46.614346 228.460729 \nL 46.704286 228.460729 \nL 46.794225 227.763359 \nL 46.884165 227.205463 \nL 46.974104 226.926515 \nL 47.153983 226.856778 \nL 47.243923 226.229145 \nL 47.288893 226.229145 \nL 47.378832 225.392301 \nL 47.423802 225.392301 \nL 47.423802 225.322564 \nL 47.513742 224.067298 \nL 47.558711 224.067298 \nL 47.648651 223.30019 \nL 47.78356 223.021242 \nL 47.78356 222.881768 \nL 47.91847 222.881768 \nL 48.008409 222.114661 \nL 48.098349 222.044924 \nL 48.143319 221.765976 \nL 48.233258 221.765976 \nL 48.233258 221.556765 \nL 48.368167 221.556765 \nL 48.458107 220.719921 \nL 48.593016 220.092288 \nL 48.682956 219.394918 \nL 48.952775 219.325181 \nL 48.997744 219.11597 \nL 49.087684 219.11597 \nL 49.177623 218.348863 \nL 49.222593 218.348863 \nL 49.312533 218.000178 \nL 49.357503 218.000178 \nL 49.447442 217.163333 \nL 49.537382 217.163333 \nL 49.627321 216.744911 \nL 49.672291 216.744911 \nL 49.762231 216.465963 \nL 49.89714 216.396226 \nL 49.94211 215.698856 \nL 50.032049 215.698856 \nL 50.121989 214.44359 \nL 50.211928 214.44359 \nL 50.211928 214.373853 \nL 50.256898 213.467272 \nL 50.346838 213.467272 \nL 50.391807 212.630428 \nL 50.481747 212.630428 \nL 50.571687 212.421217 \nL 50.751566 212.35148 \nL 50.751566 212.142269 \nL 50.886475 212.142269 \nL 50.976415 211.584373 \nL 51.066354 211.584373 \nL 51.066354 211.444899 \nL 51.246233 211.375162 \nL 51.336173 210.608054 \nL 51.381143 210.608054 \nL 51.471082 209.910684 \nL 51.516052 209.910684 \nL 51.605991 209.213314 \nL 51.785871 209.143577 \nL 51.87581 208.446207 \nL 52.415447 207.051467 \nL 52.685266 206.911993 \nL 52.730236 206.563308 \nL 52.820175 206.563308 \nL 52.910115 206.144886 \nL 52.955085 206.144886 \nL 52.955085 206.005412 \nL 53.000055 206.005412 \nL 53.134964 205.935675 \nL 53.134964 205.58699 \nL 53.494722 205.447516 \nL 53.584662 204.610672 \nL 54.259208 202.658035 \nL 54.349148 202.658035 \nL 54.439087 202.30935 \nL 54.708906 201.61198 \nL 54.798846 201.61198 \nL 54.798846 201.263295 \nL 55.068664 201.263295 \nL 55.158604 200.844873 \nL 55.248543 200.775136 \nL 55.338483 200.426451 \nL 55.833151 198.264604 \nL 56.057999 198.194867 \nL 56.147939 198.055392 \nL 56.237879 197.985655 \nL 56.327818 197.427759 \nL 56.372788 197.427759 \nL 56.462728 197.009337 \nL 56.552667 196.9396 \nL 56.552667 196.800126 \nL 56.642607 196.800126 \nL 56.732546 196.521178 \nL 56.777516 196.172493 \nL 57.137274 195.335649 \nL 57.407093 195.335649 \nL 57.497032 195.126438 \nL 57.586972 194.84749 \nL 57.676912 194.429068 \nL 57.94673 194.359331 \nL 57.94673 194.289594 \nL 58.08164 194.289594 \nL 58.08164 194.080383 \nL 58.306488 194.080383 \nL 58.396428 193.383013 \nL 58.441398 193.383013 \nL 58.441398 193.313276 \nL 59.295824 190.663269 \nL 59.565642 190.593532 \nL 59.610612 190.314584 \nL 59.790491 190.244847 \nL 59.880431 189.47774 \nL 60.10528 189.408003 \nL 60.10528 189.268529 \nL 60.150249 189.268529 \nL 60.375098 189.059318 \nL 60.554977 188.501422 \nL 60.644917 188.501422 \nL 60.824796 188.222474 \nL 60.869766 188.222474 \nL 60.959705 187.734315 \nL 61.004675 187.734315 \nL 61.094615 187.036945 \nL 61.184554 187.036945 \nL 61.274494 186.339575 \nL 61.319464 186.339575 \nL 61.409403 185.781679 \nL 61.634252 185.711942 \nL 61.634252 185.642205 \nL 61.859101 185.223782 \nL 62.443708 184.665886 \nL 62.533648 184.317201 \nL 62.578617 184.247464 \nL 62.668557 183.968516 \nL 62.713527 183.968516 \nL 62.803466 183.201409 \nL 62.893406 183.201409 \nL 62.893406 183.131672 \nL 63.208194 182.71325 \nL 63.343104 182.71325 \nL 63.343104 182.643513 \nL 63.612922 182.225091 \nL 63.702862 181.667195 \nL 63.792801 181.597458 \nL 63.882741 181.109299 \nL 64.06262 181.109299 \nL 64.06262 180.900088 \nL 64.197529 180.900088 \nL 64.287469 180.272455 \nL 64.377408 180.202718 \nL 64.467348 179.644822 \nL 64.512318 179.644822 \nL 64.512318 179.365874 \nL 64.647227 179.365874 \nL 64.737167 178.947451 \nL 64.827106 178.947451 \nL 64.872076 178.529029 \nL 65.006985 178.459292 \nL 65.006985 178.389555 \nL 65.411713 178.389555 \nL 65.501653 178.180344 \nL 65.546623 178.180344 \nL 65.636562 177.901396 \nL 65.906381 177.831659 \nL 66.08626 177.622448 \nL 66.1762 177.622448 \nL 66.1762 177.413237 \nL 66.446018 177.3435 \nL 66.446018 177.134289 \nL 66.625897 177.134289 \nL 66.625897 176.994815 \nL 66.985656 176.925078 \nL 67.075595 176.576393 \nL 67.165535 176.506656 \nL 67.255474 176.157971 \nL 67.345414 176.088234 \nL 67.435353 176.018497 \nL 67.525293 175.390864 \nL 67.750142 175.321127 \nL 67.795112 174.972442 \nL 68.1099 174.902705 \nL 68.19984 174.763231 \nL 68.289779 174.693494 \nL 68.334749 174.205335 \nL 68.559598 174.135598 \nL 68.604568 173.926387 \nL 68.694507 173.926387 \nL 68.784447 173.577702 \nL 68.874386 173.577702 \nL 68.919356 173.298754 \nL 69.009296 173.298754 \nL 69.054265 173.089543 \nL 69.144205 173.089543 \nL 69.234145 172.531646 \nL 69.369054 172.531646 \nL 69.369054 172.461909 \nL 69.458993 172.392172 \nL 69.593903 172.043487 \nL 69.863721 171.97375 \nL 69.953661 171.834276 \nL 70.268449 171.764539 \nL 70.358389 171.555328 \nL 70.538268 171.485591 \nL 70.628208 171.136906 \nL 70.673177 171.136906 \nL 70.673177 170.788221 \nL 70.718147 170.788221 \nL 71.032936 170.718484 \nL 71.032936 170.648747 \nL 71.257785 170.57901 \nL 71.347724 170.369799 \nL 71.482633 170.300062 \nL 71.527603 169.88164 \nL 71.707482 169.88164 \nL 71.797422 169.602692 \nL 71.887361 169.463218 \nL 71.977301 168.765848 \nL 72.15718 168.4869 \nL 72.24712 167.998741 \nL 72.651848 167.929004 \nL 72.741787 167.510582 \nL 72.831727 167.440845 \nL 72.876697 166.952686 \nL 72.966636 166.952686 \nL 73.011606 166.534264 \nL 73.146515 166.464527 \nL 73.191485 166.115841 \nL 73.371364 166.046104 \nL 73.866032 165.139523 \nL 74.000941 164.930312 \nL 74.090881 164.651364 \nL 74.13585 164.651364 \nL 74.22579 164.442153 \nL 74.31573 164.442153 \nL 74.31573 164.372416 \nL 74.360699 164.302679 \nL 74.450639 163.884257 \nL 74.540578 163.884257 \nL 74.540578 163.744783 \nL 74.630518 163.744783 \nL 74.810397 162.977676 \nL 75.170155 162.907939 \nL 75.260095 162.41978 \nL 75.664823 161.861884 \nL 75.934642 161.72241 \nL 75.979611 161.443462 \nL 76.069551 161.443462 \nL 76.114521 161.164514 \nL 76.33937 160.885566 \nL 76.519249 160.885566 \nL 76.519249 160.746092 \nL 76.609188 160.746092 \nL 76.789067 160.746092 \nL 76.923977 160.606618 \nL 76.968946 160.606618 \nL 77.193795 160.118459 \nL 77.283735 160.118459 \nL 77.373674 159.560562 \nL 77.463614 159.560562 \nL 77.463614 159.14214 \nL 77.778402 159.072403 \nL 77.778402 159.002666 \nL 77.868342 159.002666 \nL 78.18313 158.932929 \nL 78.27307 158.584244 \nL 78.36301 158.584244 \nL 78.542889 158.305296 \nL 78.587858 158.096085 \nL 78.632828 157.7474 \nL 78.767738 157.7474 \nL 78.812707 157.538189 \nL 78.857677 157.538189 \nL 78.902647 157.468452 \nL 78.992586 157.05003 \nL 79.217435 157.05003 \nL 79.307375 156.771082 \nL 79.352345 156.771082 \nL 79.352345 156.631608 \nL 79.487254 156.631608 \nL 79.577194 156.282923 \nL 79.802042 156.213186 \nL 79.936952 155.934238 \nL 79.936952 155.794764 \nL 80.116831 155.585553 \nL 80.25174 155.446079 \nL 80.25174 154.748709 \nL 80.38665 154.748709 \nL 80.476589 154.26055 \nL 80.971257 153.772391 \nL 80.971257 153.632917 \nL 81.016226 153.632917 \nL 81.106166 153.632917 \nL 81.151136 153.353968 \nL 81.241075 153.353968 \nL 81.286045 152.865809 \nL 81.645803 152.168439 \nL 81.735743 151.959228 \nL 81.825683 151.959228 \nL 81.825683 151.889491 \nL 82.140471 151.471069 \nL 82.185441 151.261858 \nL 82.500229 151.261858 \nL 82.590169 150.913173 \nL 82.635139 150.913173 \nL 82.725078 150.494751 \nL 82.859987 150.494751 \nL 82.904957 149.936855 \nL 83.264715 149.867118 \nL 83.264715 149.657907 \nL 83.444595 149.58817 \nL 83.534534 149.239485 \nL 83.759383 148.542115 \nL 84.38896 148.472378 \nL 84.38896 148.123693 \nL 84.478899 148.123693 \nL 84.568839 148.053956 \nL 84.748718 147.705271 \nL 84.838658 147.286849 \nL 85.198416 147.217112 \nL 85.198416 147.147375 \nL 85.288355 147.147375 \nL 85.333325 146.938163 \nL 85.648114 146.938163 \nL 85.738053 146.798689 \nL 85.872963 146.798689 \nL 86.007872 146.450004 \nL 86.142781 146.380267 \nL 86.727388 145.055264 \nL 86.862298 145.055264 \nL 86.862298 144.985527 \nL 86.952237 144.846053 \nL 87.177086 144.776316 \nL 87.267026 144.497368 \nL 87.581814 144.427631 \nL 87.581814 144.357894 \nL 87.761693 144.148683 \nL 87.896603 143.869735 \nL 88.166421 143.869735 \nL 88.166421 143.799998 \nL 88.211391 143.730261 \nL 88.3463 143.730261 \nL 88.43624 143.451313 \nL 88.48121 143.451313 \nL 88.48121 143.311839 \nL 88.571149 143.311839 \nL 88.616119 143.242102 \nL 88.975877 143.172365 \nL 89.065817 142.474995 \nL 89.110787 142.12631 \nL 89.470545 142.056573 \nL 89.560484 141.917099 \nL 89.605454 141.917099 \nL 89.605454 141.847362 \nL 89.650424 141.568414 \nL 89.875273 141.568414 \nL 90.324971 140.73157 \nL 90.36994 140.452621 \nL 90.41491 140.452621 \nL 90.639759 139.964462 \nL 90.729699 139.755251 \nL 90.774668 139.755251 \nL 91.179396 139.336829 \nL 91.224366 138.988144 \nL 91.359276 138.778933 \nL 91.539155 138.778933 \nL 91.898913 137.872352 \nL 91.988852 137.872352 \nL 92.213701 137.384193 \nL 92.52849 137.174982 \nL 92.618429 136.268401 \nL 92.753339 136.198664 \nL 92.798308 135.989453 \nL 92.888248 135.989453 \nL 92.888248 135.849979 \nL 92.978188 135.849979 \nL 93.248006 135.780242 \nL 93.248006 135.710505 \nL 93.337946 135.710505 \nL 93.742674 135.292083 \nL 93.742674 134.943398 \nL 94.192372 134.873661 \nL 94.282311 134.385502 \nL 94.372251 134.385502 \nL 94.41722 134.106553 \nL 94.642069 134.106553 \nL 94.642069 134.036816 \nL 95.001828 133.618394 \nL 95.226676 133.618394 \nL 95.316616 133.199972 \nL 95.676374 132.572339 \nL 95.766314 132.153917 \nL 95.991163 132.08418 \nL 95.991163 131.874969 \nL 96.171042 131.735495 \nL 96.800619 130.759177 \nL 96.980498 130.68944 \nL 97.025468 130.549966 \nL 97.115407 130.549966 \nL 97.115407 130.480229 \nL 97.744984 130.061807 \nL 98.55444 128.736804 \nL 98.64438 128.388119 \nL 98.779289 128.318382 \nL 98.779289 128.178908 \nL 99.184017 128.109171 \nL 99.184017 128.039434 \nL 99.768624 127.969697 \nL 99.768624 127.89996 \nL 99.858564 127.89996 \nL 99.993473 127.89996 \nL 100.128382 127.621011 \nL 100.308261 127.551274 \nL 101.387536 126.644693 \nL 101.612385 126.574956 \nL 101.702325 126.365745 \nL 101.792264 125.668375 \nL 101.927173 125.668375 \nL 101.972143 125.459164 \nL 102.196992 125.389427 \nL 102.331901 125.180216 \nL 102.376871 124.831531 \nL 102.60172 124.761794 \nL 102.69166 124.343372 \nL 102.871539 124.343372 \nL 102.961478 123.994687 \nL 103.051418 123.92495 \nL 103.501116 123.506528 \nL 103.591055 123.297317 \nL 103.950813 123.22758 \nL 103.995783 122.948632 \nL 104.445481 122.878895 \nL 104.445481 122.809158 \nL 104.535421 122.809158 \nL 104.58039 122.739421 \nL 104.805239 122.669684 \nL 104.805239 122.599947 \nL 104.940149 122.320999 \nL 105.209967 122.251262 \nL 105.524756 121.553892 \nL 105.749605 121.553892 \nL 105.749605 121.484155 \nL 105.884514 121.414417 \nL 105.974453 121.414417 \nL 106.73894 120.856521 \nL 107.098698 120.577573 \nL 107.188638 120.019677 \nL 107.278577 120.019677 \nL 107.458456 119.670992 \nL 107.593366 119.670992 \nL 107.683305 119.392044 \nL 107.863184 119.322307 \nL 108.222942 118.834148 \nL 108.357852 118.834148 \nL 108.67264 118.624937 \nL 108.67264 118.485463 \nL 108.71761 118.485463 \nL 109.032398 118.415726 \nL 109.122338 118.276252 \nL 109.392157 118.206515 \nL 109.392157 118.136778 \nL 109.572036 118.136778 \nL 109.661975 117.997304 \nL 109.661975 117.718356 \nL 109.796885 117.718356 \nL 109.796885 117.648619 \nL 109.931794 117.369671 \nL 110.111673 117.299934 \nL 110.201613 117.16046 \nL 110.471431 117.090723 \nL 110.516401 116.951249 \nL 110.65131 116.881512 \nL 110.69628 116.742038 \nL 110.921129 116.672301 \nL 110.921129 116.46309 \nL 111.056038 116.46309 \nL 111.145978 116.253879 \nL 111.415797 115.835457 \nL 111.460766 115.417035 \nL 111.550706 115.417035 \nL 111.550706 115.277561 \nL 111.595676 115.277561 \nL 111.865494 114.928875 \nL 112.000404 114.928875 \nL 112.585011 114.301242 \nL 112.585011 113.88282 \nL 112.944769 113.813083 \nL 113.034709 113.534135 \nL 113.304527 113.464398 \nL 113.304527 113.324924 \nL 113.799195 113.255187 \nL 114.203923 112.976239 \nL 114.248893 112.697291 \nL 114.428772 112.627554 \nL 114.428772 112.48808 \nL 114.518711 112.48808 \nL 114.74356 112.48808 \nL 115.463077 111.79071 \nL 115.463077 111.720973 \nL 115.642956 111.720973 \nL 115.957744 110.884129 \nL 116.092654 110.884129 \nL 116.137623 110.535444 \nL 116.227563 110.535444 \nL 116.317503 110.256496 \nL 116.497382 110.256496 \nL 116.497382 110.186759 \nL 116.632291 110.047285 \nL 116.722231 109.628863 \nL 116.85714 109.559126 \nL 116.90211 109.280178 \nL 117.037019 109.210441 \nL 117.171928 109.00123 \nL 117.261868 108.373596 \nL 117.306838 108.373596 \nL 117.351807 108.094648 \nL 117.576656 108.094648 \nL 117.576656 107.955174 \nL 117.891445 107.885437 \nL 117.891445 107.745963 \nL 117.936415 107.745963 \nL 118.341143 107.676226 \nL 118.431082 107.397278 \nL 118.476052 107.257804 \nL 118.700901 107.257804 \nL 118.700901 107.11833 \nL 119.870115 106.351223 \nL 120.049994 106.351223 \nL 120.049994 106.281486 \nL 120.589631 105.584116 \nL 120.724541 105.514379 \nL 120.769511 105.374905 \nL 120.81448 105.374905 \nL 120.94939 105.235431 \nL 121.174239 105.165694 \nL 121.219208 105.02622 \nL 121.444057 104.956483 \nL 121.533997 104.817009 \nL 121.713876 104.747272 \nL 121.803815 104.398587 \nL 121.893755 104.32885 \nL 121.983695 104.189376 \nL 122.208543 104.189376 \nL 122.253513 103.910428 \nL 122.298483 103.910428 \nL 122.478362 103.840691 \nL 122.748181 103.561743 \nL 122.83812 103.561743 \nL 122.83812 103.492006 \nL 123.062969 103.282795 \nL 123.242848 103.213058 \nL 123.332788 103.003847 \nL 123.422728 102.93411 \nL 123.422728 102.864373 \nL 123.602607 102.864373 \nL 123.647576 102.655162 \nL 123.872425 102.585425 \nL 123.917395 102.445951 \nL 124.142244 102.445951 \nL 124.142244 102.376214 \nL 124.412063 101.957791 \nL 124.546972 101.957791 \nL 124.636912 101.678843 \nL 124.9517 101.678843 \nL 124.99667 101.399895 \nL 125.04164 101.399895 \nL 125.221519 101.190684 \nL 125.356428 101.190684 \nL 125.401398 100.981473 \nL 125.446368 100.981473 \nL 125.581277 100.772262 \nL 125.761156 100.772262 \nL 125.761156 100.632788 \nL 125.896065 100.632788 \nL 125.941035 100.35384 \nL 126.030975 100.35384 \nL 126.075944 100.005155 \nL 126.120914 100.005155 \nL 126.525642 99.935418 \nL 126.525642 99.865681 \nL 126.8854 99.795944 \nL 126.93037 99.65647 \nL 127.335098 99.586733 \nL 127.604917 99.098574 \nL 127.784796 99.098574 \nL 127.874736 98.749889 \nL 128.324433 98.680152 \nL 128.414373 98.401204 \nL 128.95401 98.331467 \nL 128.95401 98.191993 \nL 128.99898 98.191993 \nL 129.403708 98.122256 \nL 129.403708 98.052519 \nL 129.493648 98.052519 \nL 129.763466 97.982782 \nL 129.853406 97.703834 \nL 129.988315 97.634097 \nL 130.078255 97.634097 \nL 130.123224 97.355149 \nL 130.348073 97.285412 \nL 130.438013 97.145938 \nL 130.797771 97.145938 \nL 130.887711 96.797253 \nL 131.06759 96.797253 \nL 131.11256 96.588042 \nL 131.337408 96.588042 \nL 131.337408 96.518305 \nL 132.416683 94.914353 \nL 132.686502 94.844616 \nL 132.686502 94.774879 \nL 132.731472 94.774879 \nL 132.821411 94.774879 \nL 132.821411 94.635405 \nL 132.956321 94.635405 \nL 132.956321 94.495931 \nL 133.04626 94.495931 \nL 133.361049 94.426194 \nL 133.450988 94.077509 \nL 133.585897 94.077509 \nL 133.585897 94.007772 \nL 133.675837 93.938035 \nL 133.990625 93.938035 \nL 134.035595 93.659087 \nL 134.125535 93.659087 \nL 134.125535 93.519613 \nL 134.215474 93.519613 \nL 134.395353 93.449876 \nL 134.395353 93.380139 \nL 134.845051 93.310402 \nL 134.890021 93.101191 \nL 134.934991 93.101191 \nL 135.15984 93.101191 \nL 135.15984 93.031454 \nL 135.384689 92.752506 \nL 136.059235 92.403821 \nL 136.059235 92.264347 \nL 136.239114 92.264347 \nL 136.239114 92.055136 \nL 136.823721 91.985399 \nL 136.868691 91.845925 \nL 137.04857 91.776188 \nL 137.04857 91.706451 \nL 137.13851 91.706451 \nL 137.453298 91.636714 \nL 137.453298 91.49724 \nL 137.768087 91.427503 \nL 137.947966 91.218292 \nL 138.532573 91.148555 \nL 138.532573 91.078818 \nL 138.622513 91.078818 \nL 138.757422 91.078818 \nL 138.757422 90.451185 \nL 138.847361 90.451185 \nL 138.892331 90.451185 \nL 138.892331 90.381448 \nL 139.027241 90.172237 \nL 139.386999 90.172237 \nL 139.386999 90.1025 \nL 139.566878 89.823552 \nL 139.971606 89.753815 \nL 139.971606 89.684078 \nL 140.016576 89.684078 \nL 140.196455 89.614341 \nL 140.196455 89.474867 \nL 140.376334 89.405129 \nL 140.376334 89.335392 \nL 140.826032 89.265655 \nL 140.915971 89.056444 \nL 141.005911 88.986707 \nL 141.050881 88.91697 \nL 141.365669 88.91697 \nL 141.365669 88.777496 \nL 141.455609 88.777496 \nL 141.635488 88.568285 \nL 141.905306 88.568285 \nL 141.995246 88.149863 \nL 142.265065 88.080126 \nL 142.265065 88.010389 \nL 142.489914 88.010389 \nL 142.489914 87.940652 \nL 142.489914 87.731441 \nL 142.669793 87.731441 \nL 142.714762 87.313019 \nL 142.804702 87.313019 \nL 142.894642 86.964334 \nL 143.344339 86.894597 \nL 143.389309 86.685386 \nL 143.524218 86.615649 \nL 143.524218 86.545912 \nL 143.614158 86.545912 \nL 143.973916 86.476175 \nL 143.973916 86.406438 \nL 144.198765 86.406438 \nL 144.288705 86.197227 \nL 144.423614 86.12749 \nL 144.423614 86.057753 \nL 144.828342 85.988016 \nL 144.828342 85.848542 \nL 144.873312 85.848542 \nL 145.14313 85.778805 \nL 145.1881 85.499857 \nL 145.682768 85.151172 \nL 145.772707 85.011698 \nL 145.997556 85.011698 \nL 146.042526 84.802487 \nL 146.222405 84.73275 \nL 146.222405 84.663013 \nL 146.762042 84.593276 \nL 146.762042 84.384065 \nL 147.16677 84.314328 \nL 147.16677 84.244591 \nL 147.25671 84.244591 \nL 147.796347 84.174854 \nL 147.841317 84.105117 \nL 147.931257 83.756432 \nL 148.111136 83.686695 \nL 148.246045 83.547221 \nL 148.515864 83.477484 \nL 148.515864 83.268273 \nL 148.785683 83.268273 \nL 148.785683 83.059061 \nL 148.875622 83.059061 \nL 148.920592 83.059061 \nL 149.010531 82.710376 \nL 149.460229 82.640639 \nL 149.505199 82.501165 \nL 149.640108 82.431428 \nL 149.730048 82.291954 \nL 149.864957 82.222217 \nL 149.909927 82.082743 \nL 150.089806 82.013006 \nL 150.089806 81.943269 \nL 150.494534 81.873532 \nL 150.539504 81.664321 \nL 150.809323 81.594584 \nL 150.899262 81.385373 \nL 151.079141 81.315636 \nL 151.079141 81.245899 \nL 151.169081 81.245899 \nL 151.39393 81.176162 \nL 151.39393 81.106425 \nL 151.888597 81.036688 \nL 151.933567 80.897214 \nL 152.473204 80.827477 \nL 152.563144 80.688003 \nL 152.787993 80.618266 \nL 152.877932 80.478792 \nL 153.102781 80.478792 \nL 153.102781 80.339318 \nL 153.147751 80.339318 \nL 154.002177 79.920896 \nL 154.047147 79.711685 \nL 154.271995 79.641948 \nL 154.361935 79.502474 \nL 154.541814 79.223526 \nL 154.946542 79.153789 \nL 155.3063 78.735367 \nL 155.3063 78.386682 \nL 155.39624 78.386682 \nL 155.755998 78.316945 \nL 155.755998 78.107734 \nL 156.205696 78.037997 \nL 156.205696 77.96826 \nL 156.295635 77.96826 \nL 156.565454 77.898523 \nL 156.565454 77.828786 \nL 156.925212 77.759049 \nL 156.925212 77.689312 \nL 157.015152 77.689312 \nL 157.195031 77.619575 \nL 157.195031 77.480101 \nL 157.240001 77.480101 \nL 157.32994 77.340627 \nL 157.41988 76.991942 \nL 157.689699 76.922205 \nL 157.779638 76.712994 \nL 158.229336 76.643256 \nL 158.274306 76.434045 \nL 158.544124 76.364308 \nL 158.634064 76.294571 \nL 158.858913 76.224834 \nL 158.903883 75.945886 \nL 159.35358 75.876149 \nL 159.35358 75.666938 \nL 159.623399 75.666938 \nL 159.623399 75.457727 \nL 159.848248 75.38799 \nL 159.938188 75.248516 \nL 160.118067 75.248516 \nL 160.387885 75.039305 \nL 160.837583 74.969568 \nL 161.152372 74.69062 \nL 161.152372 74.551146 \nL 161.781948 74.481409 \nL 161.871888 74.202461 \nL 161.961828 74.202461 \nL 162.051767 73.784039 \nL 162.141707 73.784039 \nL 162.141707 73.505091 \nL 162.456495 73.435354 \nL 162.456495 73.29588 \nL 163.176012 73.226143 \nL 163.176012 73.156406 \nL 163.44583 73.086669 \nL 163.44583 72.947195 \nL 163.670679 72.947195 \nL 163.670679 72.807721 \nL 163.715649 72.807721 \nL 163.850558 72.807721 \nL 163.940498 72.319562 \nL 164.165347 72.249825 \nL 164.210316 72.110351 \nL 164.300256 71.90114 \nL 164.660014 71.831403 \nL 164.660014 71.691929 \nL 164.839893 71.691929 \nL 164.929833 71.343244 \nL 165.46947 71.273507 \nL 165.46947 71.20377 \nL 165.51444 71.20377 \nL 166.278926 70.924822 \nL 166.548745 70.855085 \nL 166.593715 70.715611 \nL 167.088382 70.645874 \nL 167.133352 70.436663 \nL 167.223292 70.157714 \nL 167.49311 70.087977 \nL 167.53808 69.948503 \nL 167.717959 69.948503 \nL 167.717959 69.809029 \nL 167.807899 69.809029 \nL 168.032748 69.739292 \nL 168.032748 69.599818 \nL 168.122687 69.599818 \nL 168.347536 69.390607 \nL 168.572385 69.32087 \nL 168.572385 69.251133 \nL 168.662325 69.251133 \nL 169.471781 69.181396 \nL 169.51675 68.902448 \nL 169.60669 68.902448 \nL 169.60669 68.762974 \nL 170.146327 68.693237 \nL 170.191297 68.6235 \nL 170.461116 68.553763 \nL 170.461116 68.484026 \nL 170.820874 68.414289 \nL 170.820874 68.344552 \nL 171.58536 68.274815 \nL 171.63033 67.995867 \nL 171.855179 67.92613 \nL 171.855179 67.786656 \nL 171.990088 67.786656 \nL 171.990088 67.716919 \nL 171.990088 67.507708 \nL 172.080028 67.507708 \nL 172.124997 67.437971 \nL 172.394816 67.437971 \nL 172.394816 67.22876 \nL 172.619665 67.22876 \nL 172.664635 66.949812 \nL 172.889484 66.880075 \nL 172.979423 66.670864 \nL 173.204272 66.601127 \nL 173.204272 66.53139 \nL 173.429121 66.461653 \nL 173.429121 66.252442 \nL 173.69894 66.182705 \nL 173.74391 66.043231 \nL 173.788879 66.043231 \nL 174.193607 65.973494 \nL 174.238577 65.764283 \nL 174.553366 65.764283 \nL 174.553366 65.624809 \nL 174.733245 65.624809 \nL 174.733245 65.485335 \nL 174.823184 65.485335 \nL 174.868154 65.485335 \nL 174.913124 65.13665 \nL 175.048033 65.066913 \nL 175.048033 64.927439 \nL 175.093003 64.927439 \nL 175.452761 64.927439 \nL 175.452761 64.857702 \nL 175.72258 64.509017 \nL 176.172278 64.43928 \nL 176.172278 64.369543 \nL 176.487066 64.369543 \nL 176.487066 64.230069 \nL 176.532036 64.230069 \nL 176.846824 64.160332 \nL 176.846824 64.090595 \nL 177.026703 64.090595 \nL 177.116643 63.881383 \nL 177.341492 63.811646 \nL 177.431431 63.462961 \nL 177.521371 63.462961 \nL 177.521371 63.323487 \nL 177.836159 63.25375 \nL 177.881129 63.114276 \nL 178.150948 63.044539 \nL 178.150948 62.835328 \nL 178.555676 62.765591 \nL 178.645615 62.416906 \nL 178.690585 62.416906 \nL 178.780525 62.068221 \nL 178.825494 62.068221 \nL 178.825494 61.928747 \nL 179.140283 61.85901 \nL 179.185253 61.649799 \nL 179.455071 61.580062 \nL 179.72489 61.510325 \nL 180.309497 61.440588 \nL 180.399437 61.301114 \nL 180.714225 61.231377 \nL 180.804165 60.952429 \nL 181.163923 60.952429 \nL 181.163923 60.812955 \nL 181.208893 60.812955 \nL 181.343802 60.743218 \nL 181.433742 60.673481 \nL 182.153258 60.603744 \nL 182.153258 60.534007 \nL 182.243198 60.534007 \nL 182.468047 60.534007 \nL 182.468047 60.394533 \nL 182.782835 60.324796 \nL 183.457382 60.045848 \nL 183.547321 59.627426 \nL 183.86211 59.557689 \nL 183.86211 59.487952 \nL 183.952049 59.487952 \nL 184.221868 59.418215 \nL 184.221868 59.348478 \nL 184.581626 59.278741 \nL 185.076294 59.139267 \nL 185.076294 59.06953 \nL 185.121263 59.06953 \nL 185.570961 59.06953 \nL 185.570961 58.930056 \nL 186.110599 58.860319 \nL 186.335447 58.581371 \nL 186.875085 58.511634 \nL 186.965024 57.953738 \nL 187.009994 57.953738 \nL 187.099934 57.67479 \nL 187.279813 57.605053 \nL 189.033634 56.698471 \nL 189.033634 56.558997 \nL 189.123574 56.558997 \nL 189.213513 56.558997 \nL 189.213513 56.419523 \nL 189.753151 56.349786 \nL 189.753151 56.280049 \nL 189.79812 56.280049 \nL 190.427697 56.210312 \nL 190.922365 55.931364 \nL 191.012304 55.652416 \nL 191.237153 55.582679 \nL 191.237153 55.512942 \nL 191.327093 55.512942 \nL 192.631216 55.443205 \nL 192.631216 55.233994 \nL 192.811096 55.164257 \nL 192.856065 54.955046 \nL 193.125884 54.885309 \nL 193.125884 54.815572 \nL 193.350733 54.745835 \nL 193.350733 54.676098 \nL 193.575582 54.606361 \nL 193.89037 54.536624 \nL 193.98031 54.536624 \nL 194.070249 54.257676 \nL 194.160189 54.257676 \nL 194.250128 54.048465 \nL 194.430008 53.978728 \nL 194.519947 53.839254 \nL 194.654856 53.769517 \nL 194.654856 53.69978 \nL 194.924675 53.630043 \nL 194.924675 53.351095 \nL 194.969645 53.351095 \nL 195.464312 53.281358 \nL 195.554252 53.072147 \nL 195.689161 53.072147 \nL 195.734131 52.862936 \nL 196.453648 52.793199 \nL 196.453648 52.723462 \nL 196.678496 52.653725 \nL 197.173164 52.514251 \nL 197.487952 52.444514 \nL 197.577892 52.30504 \nL 197.712801 52.095829 \nL 197.93765 52.095829 \nL 197.93765 51.886618 \nL 198.252439 51.886618 \nL 198.297408 51.677407 \nL 199.196804 51.60767 \nL 199.196804 51.537933 \nL 199.241774 51.537933 \nL 199.691472 51.468196 \nL 199.691472 51.398459 \nL 200.545897 51.398459 \nL 200.545897 51.328722 \nL 200.680807 51.119511 \nL 201.130505 51.049773 \nL 201.265414 50.910299 \nL 202.0299 50.840562 \nL 202.07487 50.701088 \nL 202.569537 50.631351 \nL 202.659477 50.491877 \nL 202.749417 50.491877 \nL 202.749417 50.352403 \nL 202.839356 50.352403 \nL 203.019235 50.143192 \nL 203.423963 50.073455 \nL 203.423963 50.003718 \nL 203.468933 50.003718 \nL 203.558873 50.003718 \nL 203.558873 49.864244 \nL 203.828691 49.864244 \nL 203.918631 49.585296 \nL 204.233419 49.585296 \nL 204.278389 49.236611 \nL 204.503238 49.236611 \nL 204.503238 49.0274 \nL 204.952936 48.957663 \nL 204.952936 48.887926 \nL 205.897301 48.818189 \nL 205.897301 48.748452 \nL 205.987241 48.748452 \nL 206.03221 48.608978 \nL 206.212089 48.608978 \nL 206.212089 48.539241 \nL 206.391969 48.190556 \nL 206.796697 48.051082 \nL 207.246394 47.981345 \nL 207.336334 47.841871 \nL 208.325669 47.772134 \nL 208.685427 47.702397 \nL 208.730397 47.702397 \nL 208.730397 47.562923 \nL 209.539853 47.493186 \nL 209.719732 47.283975 \nL 209.764702 47.283975 \nL 209.764702 47.214238 \nL 210.12446 47.074764 \nL 210.2144 46.865553 \nL 210.843977 46.795816 \nL 210.843977 46.726079 \nL 211.293674 46.726079 \nL 211.293674 46.656342 \nL 211.968221 46.377394 \nL 212.912586 46.307657 \nL 212.957556 46.098446 \nL 213.047496 46.098446 \nL 213.317314 45.958972 \nL 213.991861 45.889235 \nL 213.991861 45.819498 \nL 214.846287 45.749761 \nL 214.981196 45.610287 \nL 215.116106 45.470813 \nL 216.015501 45.122128 \nL 216.28532 45.052391 \nL 216.33029 44.912917 \nL 216.375259 44.912917 \nL 216.914897 44.84318 \nL 217.274655 44.703706 \nL 217.949202 44.633968 \nL 217.949202 44.564231 \nL 217.994171 44.564231 \nL 218.938537 44.494494 \nL 219.343265 44.285283 \nL 219.523144 44.215546 \nL 219.837932 43.866861 \nL 220.24266 43.797124 \nL 220.24266 43.65765 \nL 220.737328 43.448439 \nL 220.737328 43.378702 \nL 220.782298 43.378702 \nL 221.456844 43.308965 \nL 221.501814 43.169491 \nL 221.546784 43.169491 \nL 222.086421 43.099754 \nL 222.086421 43.030017 \nL 222.40121 42.96028 \nL 222.40121 42.890543 \nL 223.525454 42.820806 \nL 223.615394 42.681332 \nL 224.739638 42.611595 \nL 224.829578 42.472121 \nL 225.144366 42.472121 \nL 225.144366 42.332647 \nL 225.189336 42.332647 \nL 225.639034 42.123436 \nL 225.863883 42.053699 \nL 225.863883 41.774751 \nL 227.752613 41.705014 \nL 227.752613 41.635277 \nL 227.887523 41.635277 \nL 228.292251 41.286592 \nL 228.38219 41.286592 \nL 228.38219 41.147118 \nL 229.281586 41.077381 \nL 229.281586 41.007644 \nL 229.596374 41.007644 \nL 229.596374 40.86817 \nL 229.686314 40.86817 \nL 229.821223 40.86817 \nL 230.046072 40.658959 \nL 230.585709 40.589222 \nL 230.765588 40.449748 \nL 230.990437 40.380011 \nL 230.990437 40.310274 \nL 231.664984 40.240537 \nL 231.709954 40.031326 \nL 231.754924 40.031326 \nL 231.799893 39.961589 \nL 233.193957 39.891852 \nL 233.463775 39.752378 \nL 234.093352 39.682641 \nL 234.093352 39.612904 \nL 235.307536 39.543167 \nL 235.307536 39.47343 \nL 236.116992 39.403693 \nL 236.116992 39.333956 \nL 236.206932 39.333956 \nL 236.431781 39.264219 \nL 236.431781 39.194482 \nL 236.52172 39.194482 \nL 236.56669 39.194482 \nL 236.56669 39.055008 \nL 236.836509 38.985271 \nL 236.881478 38.636586 \nL 237.151297 38.636586 \nL 237.151297 38.497112 \nL 237.870813 38.497112 \nL 237.870813 38.357638 \nL 237.960753 38.357638 \nL 238.230572 38.357638 \nL 238.365481 38.218163 \nL 238.680269 38.148426 \nL 238.680269 38.078689 \nL 238.770209 38.078689 \nL 238.995058 38.008952 \nL 239.084997 37.799741 \nL 240.119302 37.730004 \nL 240.119302 37.660267 \nL 240.389121 37.59053 \nL 240.569 37.381319 \nL 241.153607 37.311582 \nL 241.153607 37.241845 \nL 241.243547 37.241845 \nL 241.603305 37.172108 \nL 241.603305 37.102371 \nL 242.322822 37.032634 \nL 242.322822 36.962897 \nL 242.907429 36.962897 \nL 242.997368 36.683949 \nL 243.581975 36.614212 \nL 243.581975 36.544475 \nL 243.671915 36.544475 \nL 244.61628 36.474738 \nL 244.61628 36.405001 \nL 244.70622 36.405001 \nL 244.75119 36.335264 \nL 244.931069 36.265527 \nL 245.110948 36.19579 \nL 246.325132 36.19579 \nL 246.325132 36.056316 \nL 247.449376 35.986579 \nL 247.449376 35.847105 \nL 247.494346 35.847105 \nL 247.944044 35.777368 \nL 247.944044 35.637894 \nL 251.901384 35.568157 \nL 251.901384 35.49842 \nL 251.991324 35.49842 \nL 252.890719 35.428683 \nL 253.025629 35.289209 \nL 253.790115 35.219472 \nL 253.790115 35.149735 \nL 254.014964 35.079998 \nL 254.014964 35.010261 \nL 254.374722 34.940524 \nL 254.509631 34.870787 \nL 255.364057 34.80105 \nL 255.364057 34.731313 \nL 255.588906 34.731313 \nL 255.588906 34.591839 \nL 255.633876 34.591839 \nL 255.768785 34.522102 \nL 256.533271 34.452365 \nL 256.533271 34.382628 \nL 257.342728 34.312891 \nL 257.342728 34.243154 \nL 257.387697 34.243154 \nL 257.882365 34.173417 \nL 257.882365 34.033943 \nL 258.556912 33.964206 \nL 258.601881 33.894469 \nL 260.310733 33.824732 \nL 260.310733 33.754995 \nL 260.355703 33.754995 \nL 261.749766 33.685258 \nL 261.839705 33.476047 \nL 262.424312 33.40631 \nL 262.424312 33.266836 \nL 262.514252 33.266836 \nL 263.143829 33.197099 \nL 263.143829 33.057625 \nL 263.233768 33.057625 \nL 263.773406 32.987888 \nL 263.773406 32.918151 \nL 263.863345 32.918151 \nL 265.572197 32.848414 \nL 265.617167 32.778677 \nL 266.066865 32.70894 \nL 266.156804 32.569466 \nL 266.651472 32.499729 \nL 266.876321 32.360255 \nL 267.460928 32.290518 \nL 267.460928 32.151044 \nL 267.550867 32.151044 \nL 268.360323 32.081307 \nL 268.360323 32.01157 \nL 268.450263 32.01157 \nL 269.03487 31.941833 \nL 269.03487 31.872095 \nL 269.979235 31.802358 \nL 269.979235 31.593147 \nL 271.238389 31.52341 \nL 271.328329 31.383936 \nL 271.912936 31.314199 \nL 271.912936 31.174725 \nL 273.217059 31.104988 \nL 273.217059 30.965514 \nL 273.306999 30.965514 \nL 274.476213 30.895777 \nL 274.566153 30.756303 \nL 276.859611 30.686566 \nL 276.904581 30.547092 \nL 277.21937 30.477355 \nL 277.21937 30.407618 \nL 277.489188 30.337881 \nL 277.489188 30.268144 \nL 277.579128 30.268144 \nL 278.793312 30.198407 \nL 278.793312 30.12867 \nL 278.883251 30.12867 \nL 280.367254 30.058933 \nL 280.367254 29.989196 \nL 281.311619 29.919459 \nL 281.356589 29.849722 \nL 282.885562 29.779985 \nL 282.885562 29.710248 \nL 282.975501 29.710248 \nL 283.874897 29.640511 \nL 283.964836 29.501037 \nL 285.134051 29.4313 \nL 285.134051 29.361563 \nL 286.078416 29.291826 \nL 286.078416 29.222089 \nL 286.123386 29.222089 \nL 287.832237 29.152352 \nL 287.832237 29.082615 \nL 288.147026 29.082615 \nL 288.147026 28.943141 \nL 288.326905 28.943141 \nL 288.326905 28.873404 \nL 288.416844 28.73393 \nL 289.990787 28.664193 \nL 289.990787 28.594456 \nL 290.890182 28.524719 \nL 290.890182 28.454982 \nL 292.059396 28.454982 \nL 292.059396 28.315508 \nL 292.778913 28.245771 \nL 292.778913 28.176034 \nL 292.823883 28.176034 \nL 295.836858 28.106297 \nL 295.836858 28.03656 \nL 297.815528 27.966823 \nL 297.950437 27.897086 \nL 298.939772 27.827349 \nL 298.984742 27.757612 \nL 299.254561 27.687875 \nL 299.254561 27.618138 \nL 299.569349 27.548401 \nL 299.569349 27.478664 \nL 299.659289 27.478664 \nL 301.952748 27.408927 \nL 301.997717 27.269453 \nL 302.312506 27.199716 \nL 302.402445 27.129979 \nL 304.650934 27.060242 \nL 304.830813 26.920768 \nL 307.66391 26.851031 \nL 307.66391 26.781294 \nL 307.753849 26.781294 \nL 309.417731 26.711557 \nL 309.867429 26.64182 \nL 311.486341 26.572083 \nL 311.486341 26.502346 \nL 311.57628 26.502346 \nL 312.070948 26.502346 \nL 312.070948 26.362872 \nL 312.115918 26.362872 \nL 314.634225 26.293135 \nL 314.814104 26.153661 \nL 315.803439 26.083924 \nL 315.803439 26.014187 \nL 317.872049 25.94445 \nL 317.872049 25.874713 \nL 317.917019 25.874713 \nL 318.951324 25.804976 \nL 318.951324 25.735239 \nL 322.369027 25.665502 \nL 322.503936 25.526028 \nL 324.572546 25.45629 \nL 324.572546 25.386553 \nL 324.662486 25.386553 \nL 326.326368 25.316816 \nL 326.326368 25.247079 \nL 327.045884 25.177342 \nL 327.045884 25.107605 \nL 327.135824 25.107605 \nL 328.889645 25.037868 \nL 328.934615 24.968131 \nL 329.384312 24.898394 \nL 329.519222 24.828657 \nL 332.622137 24.75892 \nL 332.757046 24.689183 \nL 333.431593 24.619446 \nL 333.431593 24.549709 \nL 335.275353 24.479972 \nL 335.275353 24.410235 \nL 337.298993 24.340498 \nL 337.298993 24.201024 \nL 340.222029 24.131287 \nL 340.222029 24.06155 \nL 341.481183 23.991813 \nL 341.481183 23.922076 \nL 341.526153 23.922076 \nL 344.719007 23.852339 \nL 344.719007 23.782602 \nL 353.398174 23.712865 \nL 353.398174 23.643128 \nL 353.488114 23.643128 \nL 354.16266 23.643128 \nL 354.29757 23.503654 \nL 354.792237 23.433917 \nL 354.792237 23.36418 \nL 356.546059 23.294443 \nL 356.546059 23.224706 \nL 356.635998 23.224706 \nL 363.291525 23.154969 \nL 363.291525 23.085232 \nL 365.944742 23.015495 \nL 366.079652 22.945758 \nL 367.428745 22.876021 \nL 367.428745 22.806284 \nL 367.518685 22.806284 \nL 369.812143 22.736547 \nL 369.812143 22.66681 \nL 373.094937 22.597073 \nL 373.094937 22.527336 \nL 373.184877 22.527336 \nL 376.51264 22.457599 \nL 376.51264 22.387862 \nL 378.58125 22.318125 \nL 378.58125 22.318125 \n\" style=\"fill:none;stroke:#1f77b4;stroke-linecap:square;stroke-width:1.5;\"/>\n   </g>\n   <g id=\"patch_3\">\n    <path d=\"M 43.78125 239.758125 \nL 43.78125 22.318125 \n\" style=\"fill:none;stroke:#000000;stroke-linecap:square;stroke-linejoin:miter;stroke-width:0.8;\"/>\n   </g>\n   <g id=\"patch_4\">\n    <path d=\"M 378.58125 239.758125 \nL 378.58125 22.318125 \n\" style=\"fill:none;stroke:#000000;stroke-linecap:square;stroke-linejoin:miter;stroke-width:0.8;\"/>\n   </g>\n   <g id=\"patch_5\">\n    <path d=\"M 43.78125 239.758125 \nL 378.58125 239.758125 \n\" style=\"fill:none;stroke:#000000;stroke-linecap:square;stroke-linejoin:miter;stroke-width:0.8;\"/>\n   </g>\n   <g id=\"patch_6\">\n    <path d=\"M 43.78125 22.318125 \nL 378.58125 22.318125 \n\" style=\"fill:none;stroke:#000000;stroke-linecap:square;stroke-linejoin:miter;stroke-width:0.8;\"/>\n   </g>\n   <g id=\"text_15\">\n    <!-- ROC curve for SLAFail classifier -->\n    <defs>\n     <path d=\"M 39.40625 66.21875 \nQ 28.65625 66.21875 22.328125 58.203125 \nQ 16.015625 50.203125 16.015625 36.375 \nQ 16.015625 22.609375 22.328125 14.59375 \nQ 28.65625 6.59375 39.40625 6.59375 \nQ 50.140625 6.59375 56.421875 14.59375 \nQ 62.703125 22.609375 62.703125 36.375 \nQ 62.703125 50.203125 56.421875 58.203125 \nQ 50.140625 66.21875 39.40625 66.21875 \nz\nM 39.40625 74.21875 \nQ 54.734375 74.21875 63.90625 63.9375 \nQ 73.09375 53.65625 73.09375 36.375 \nQ 73.09375 19.140625 63.90625 8.859375 \nQ 54.734375 -1.421875 39.40625 -1.421875 \nQ 24.03125 -1.421875 14.8125 8.828125 \nQ 5.609375 19.09375 5.609375 36.375 \nQ 5.609375 53.65625 14.8125 63.9375 \nQ 24.03125 74.21875 39.40625 74.21875 \nz\n\" id=\"DejaVuSans-79\"/>\n     <path d=\"M 64.40625 67.28125 \nL 64.40625 56.890625 \nQ 59.421875 61.53125 53.78125 63.8125 \nQ 48.140625 66.109375 41.796875 66.109375 \nQ 29.296875 66.109375 22.65625 58.46875 \nQ 16.015625 50.828125 16.015625 36.375 \nQ 16.015625 21.96875 22.65625 14.328125 \nQ 29.296875 6.6875 41.796875 6.6875 \nQ 48.140625 6.6875 53.78125 8.984375 \nQ 59.421875 11.28125 64.40625 15.921875 \nL 64.40625 5.609375 \nQ 59.234375 2.09375 53.4375 0.328125 \nQ 47.65625 -1.421875 41.21875 -1.421875 \nQ 24.65625 -1.421875 15.125 8.703125 \nQ 5.609375 18.84375 5.609375 36.375 \nQ 5.609375 53.953125 15.125 64.078125 \nQ 24.65625 74.21875 41.21875 74.21875 \nQ 47.75 74.21875 53.53125 72.484375 \nQ 59.328125 70.75 64.40625 67.28125 \nz\n\" id=\"DejaVuSans-67\"/>\n     <path d=\"M 9.8125 72.90625 \nL 19.671875 72.90625 \nL 19.671875 8.296875 \nL 55.171875 8.296875 \nL 55.171875 0 \nL 9.8125 0 \nz\n\" id=\"DejaVuSans-76\"/>\n     <path d=\"M 34.1875 63.1875 \nL 20.796875 26.90625 \nL 47.609375 26.90625 \nz\nM 28.609375 72.90625 \nL 39.796875 72.90625 \nL 67.578125 0 \nL 57.328125 0 \nL 50.6875 18.703125 \nL 17.828125 18.703125 \nL 11.1875 0 \nL 0.78125 0 \nz\n\" id=\"DejaVuSans-65\"/>\n    </defs>\n    <g transform=\"translate(117.200625 16.318125)scale(0.12 -0.12)\">\n     <use xlink:href=\"#DejaVuSans-82\"/>\n     <use x=\"69.482422\" xlink:href=\"#DejaVuSans-79\"/>\n     <use x=\"148.193359\" xlink:href=\"#DejaVuSans-67\"/>\n     <use x=\"218.017578\" xlink:href=\"#DejaVuSans-32\"/>\n     <use x=\"249.804688\" xlink:href=\"#DejaVuSans-99\"/>\n     <use x=\"304.785156\" xlink:href=\"#DejaVuSans-117\"/>\n     <use x=\"368.164062\" xlink:href=\"#DejaVuSans-114\"/>\n     <use x=\"409.277344\" xlink:href=\"#DejaVuSans-118\"/>\n     <use x=\"468.457031\" xlink:href=\"#DejaVuSans-101\"/>\n     <use x=\"529.980469\" xlink:href=\"#DejaVuSans-32\"/>\n     <use x=\"561.767578\" xlink:href=\"#DejaVuSans-102\"/>\n     <use x=\"596.972656\" xlink:href=\"#DejaVuSans-111\"/>\n     <use x=\"658.154297\" xlink:href=\"#DejaVuSans-114\"/>\n     <use x=\"699.267578\" xlink:href=\"#DejaVuSans-32\"/>\n     <use x=\"731.054688\" xlink:href=\"#DejaVuSans-83\"/>\n     <use x=\"794.53125\" xlink:href=\"#DejaVuSans-76\"/>\n     <use x=\"850.275391\" xlink:href=\"#DejaVuSans-65\"/>\n     <use x=\"918.683594\" xlink:href=\"#DejaVuSans-70\"/>\n     <use x=\"976.0625\" xlink:href=\"#DejaVuSans-97\"/>\n     <use x=\"1037.341797\" xlink:href=\"#DejaVuSans-105\"/>\n     <use x=\"1065.125\" xlink:href=\"#DejaVuSans-108\"/>\n     <use x=\"1092.908203\" xlink:href=\"#DejaVuSans-32\"/>\n     <use x=\"1124.695312\" xlink:href=\"#DejaVuSans-99\"/>\n     <use x=\"1179.675781\" xlink:href=\"#DejaVuSans-108\"/>\n     <use x=\"1207.458984\" xlink:href=\"#DejaVuSans-97\"/>\n     <use x=\"1268.738281\" xlink:href=\"#DejaVuSans-115\"/>\n     <use x=\"1320.837891\" xlink:href=\"#DejaVuSans-115\"/>\n     <use x=\"1372.9375\" xlink:href=\"#DejaVuSans-105\"/>\n     <use x=\"1400.720703\" xlink:href=\"#DejaVuSans-102\"/>\n     <use x=\"1435.925781\" xlink:href=\"#DejaVuSans-105\"/>\n     <use x=\"1463.708984\" xlink:href=\"#DejaVuSans-101\"/>\n     <use x=\"1525.232422\" xlink:href=\"#DejaVuSans-114\"/>\n    </g>\n   </g>\n  </g>\n </g>\n <defs>\n  <clipPath id=\"p17f83a5aab\">\n   <rect height=\"217.44\" width=\"334.8\" x=\"43.78125\" y=\"22.318125\"/>\n  </clipPath>\n </defs>\n</svg>\n",
      "text/plain": "<Figure size 432x288 with 1 Axes>"
     },
     "metadata": {
      "needs_background": "light"
     },
     "output_type": "display_data"
    }
   ],
   "source": [
    "plt.plot(fpr, tpr)\n",
    "plt.xlim([0.0, 1.0])\n",
    "plt.ylim([0.0, 1.0])\n",
    "plt.title('ROC curve for SLAFail classifier')\n",
    "plt.xlabel('False Positive Rate (1 - Specificity)')\n",
    "plt.ylabel('True Positive Rate (Sensitivity)')\n",
    "plt.grid(True)"
   ]
  },
  {
   "cell_type": "markdown",
   "metadata": {},
   "source": [
    "Capture resulting AUC"
   ]
  },
  {
   "cell_type": "code",
   "execution_count": 29,
   "metadata": {},
   "outputs": [
    {
     "name": "stdout",
     "output_type": "stream",
     "text": "Metrics = AUC: 0.776777 \n"
    }
   ],
   "source": [
    "PipeLineMetadata['Metrics - AUC'] = metrics.roc_auc_score(y_test, y_pred_prob)\n",
    "print(\"Metrics = AUC: %f \" % PipeLineMetadata['Metrics - AUC']) "
   ]
  },
  {
   "cell_type": "markdown",
   "metadata": {},
   "source": [
    "## Save Details and Performance Measures for Comparison to other Models\n"
   ]
  },
  {
   "cell_type": "code",
   "execution_count": 30,
   "metadata": {},
   "outputs": [
    {
     "data": {
      "text/plain": "{'Name': 'Bare Bones with Target Encoder',\n 'Column Transforms': ['targetencoder', 'standardscaler'],\n 'Classifier': LogisticRegression(C=1.0, class_weight=None, dual=False, fit_intercept=True,\n                    intercept_scaling=1, l1_ratio=None, max_iter=100,\n                    multi_class='auto', n_jobs=None, penalty='l2',\n                    random_state=None, solver='lbfgs', tol=0.0001, verbose=0,\n                    warm_start=False),\n 'Classifier - Intercept': -6.120540673257555,\n 'Classifier - Coefficients':                                    0\n Service_Component_WBS_aff   0.465650\n Urgency                     0.936344\n KM_number                   5.528813\n Count_Related_Interactions  4.423700\n Count_Related_Incidents     5.229369\n Count_Related_Changes       0.158573\n Open_Time_HourOfDay         0.189712\n Open_Time_DayOfWeek        -0.032066\n CI_TypeSubType_aff          0.004637,\n 'Metrics - Cross Validation Accuracy': 0.7339419760600527,\n 'Metrics - F1 score': 0.656800064664544,\n 'Metrics - Confusion Matrix Classification Accuracy': 0.7438227776199943,\n 'Metrics - Confusion Matrix Classification Error': 0.25617722238000573,\n 'Metrics - Confusion Matrix True Positive Rate': 0.40699166132135983,\n 'Metrics - Confusion Matrix True Negative Rate': 0.8848891873740765,\n 'Metrics - Confusion Matrix False Positive Rate': 0.11511081262592344,\n 'Metrics - Confusion Matrix Precision': 0.59689557855127,\n 'Metrics - ROC Curve fpr array': array([0.        , 0.        , 0.        , ..., 0.99892545, 0.99892545,\n        1.        ]),\n 'Metrics - ROC Curve tpr array': array([0.00000000e+00, 3.20718409e-04, 2.88646568e-03, ...,\n        9.99679282e-01, 1.00000000e+00, 1.00000000e+00]),\n 'Metrics - AUC': 0.7767767132157093}"
     },
     "execution_count": 30,
     "metadata": {},
     "output_type": "execute_result"
    }
   ],
   "source": [
    "PipeLineMetadata"
   ]
  },
  {
   "cell_type": "code",
   "execution_count": 31,
   "metadata": {},
   "outputs": [],
   "source": [
    "with open(\"data/05.01.b BareBones Target.pkl\",'wb') as fo:\n",
    "    pickle.dump(PipeLineMetadata, fo)"
   ]
  },
  {
   "cell_type": "code",
   "execution_count": 32,
   "metadata": {},
   "outputs": [],
   "source": [
    "# with open(\"data/05.01.BareBones.pkl\", 'rb') as fi:\n",
    "#    BareBonesMetadata = pickle.load(fi)"
   ]
  },
  {
   "cell_type": "code",
   "execution_count": null,
   "metadata": {},
   "outputs": [],
   "source": []
  }
 ]
}