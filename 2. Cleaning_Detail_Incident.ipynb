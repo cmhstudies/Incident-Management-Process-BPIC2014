{
 "nbformat": 4,
 "nbformat_minor": 2,
 "metadata": {
  "language_info": {
   "name": "python",
   "codemirror_mode": {
    "name": "ipython",
    "version": 3
   },
   "version": "3.7.4-final"
  },
  "orig_nbformat": 2,
  "file_extension": ".py",
  "mimetype": "text/x-python",
  "name": "python",
  "npconvert_exporter": "python",
  "pygments_lexer": "ipython3",
  "version": 3,
  "kernelspec": {
   "name": "python37464bitairbaseconda19ea8b859f254c1ab8191ac96e72d02e",
   "display_name": "Python 3.7.4 64-bit ('air-base': conda)"
  }
 },
 "cells": [
  {
   "cell_type": "markdown",
   "metadata": {},
   "source": [
    "# Cleaning the Source Data Set"
   ]
  },
  {
   "cell_type": "code",
   "execution_count": 2,
   "metadata": {},
   "outputs": [],
   "source": [
    "import pandas as pd\n",
    "import numpy as np\n",
    "import seaborn as sns\n",
    "import matplotlib\n",
    "from matplotlib import pyplot as plt\n",
    "from pandas_profiling import ProfileReport\n",
    "from pathlib import Path"
   ]
  },
  {
   "cell_type": "code",
   "execution_count": 3,
   "metadata": {},
   "outputs": [],
   "source": [
    "pd.set_option('display.max_rows', None)\n",
    "pd.set_option('display.max_columns', None)\n",
    "pd.set_option('display.width', None)"
   ]
  },
  {
   "cell_type": "code",
   "execution_count": 4,
   "metadata": {},
   "outputs": [],
   "source": [
    "df = pd.read_csv(\"1.a.Detail_Incident.csv\", parse_dates=['Open_Time', 'Reopen_Time', 'Resolved_Time','Close_Time', ])"
   ]
  },
  {
   "cell_type": "code",
   "execution_count": 5,
   "metadata": {},
   "outputs": [
    {
     "data": {
      "text/plain": "CI_Name_aff                           object\nCI_Type_aff                           object\nCI_Subtype_aff                        object\nService_Component_WBS_aff             object\nIncident_ID                           object\nStatus                                object\nImpact                                 int64\nUrgency                                int64\nPriority                               int64\nCategory                              object\nKM_number                             object\nAlert_Status                          object\nCount_Reassignments                  float64\nOpen_Time                     datetime64[ns]\nReopen_Time                   datetime64[ns]\nResolved_Time                 datetime64[ns]\nClose_Time                    datetime64[ns]\nHandle_Time_Hours                    float64\nClosure_Code                          object\nCount_Related_Interactions           float64\nRelated_Interaction                   object\nCount_Related_Incidents              float64\nCount_Related_Changes                float64\nRelated_Change                        object\nCI_Name_CBy                           object\nCI_Type_CBy                           object\nCI_Subtype_CBy                        object\nServiceComp_WBS_CBy                   object\ndtype: object"
     },
     "execution_count": 5,
     "metadata": {},
     "output_type": "execute_result"
    }
   ],
   "source": [
    "df.dtypes"
   ]
  },
  {
   "cell_type": "markdown",
   "metadata": {},
   "source": [
    "## Drop Records where Resolved_Time is Missing"
   ]
  },
  {
   "cell_type": "code",
   "execution_count": 6,
   "metadata": {},
   "outputs": [
    {
     "data": {
      "text/plain": "Open_Time            0\nReopen_Time      44322\nResolved_Time     1780\nClose_Time           0\ndtype: int64"
     },
     "execution_count": 6,
     "metadata": {},
     "output_type": "execute_result"
    }
   ],
   "source": [
    "df.iloc[:,13:17].isnull().sum()"
   ]
  },
  {
   "cell_type": "code",
   "execution_count": 7,
   "metadata": {},
   "outputs": [],
   "source": [
    "df = df.dropna(subset=['Resolved_Time'])"
   ]
  },
  {
   "cell_type": "code",
   "execution_count": 8,
   "metadata": {},
   "outputs": [
    {
     "data": {
      "text/plain": "Open_Time            0\nReopen_Time      42607\nResolved_Time        0\nClose_Time           0\ndtype: int64"
     },
     "execution_count": 8,
     "metadata": {},
     "output_type": "execute_result"
    }
   ],
   "source": [
    "df.iloc[:,13:17].isnull().sum()"
   ]
  },
  {
   "cell_type": "markdown",
   "metadata": {},
   "source": [
    "## Limit timeframe of all records\n",
    "\n",
    "greater than 1 october 2013\n",
    "\n",
    "less than 31 march 2014\n"
   ]
  },
  {
   "cell_type": "code",
   "execution_count": 9,
   "metadata": {},
   "outputs": [],
   "source": [
    "df = df[df['Open_Time'] >= pd.to_datetime('10-01-2013')]"
   ]
  },
  {
   "cell_type": "code",
   "execution_count": 10,
   "metadata": {},
   "outputs": [
    {
     "data": {
      "text/html": "<div>\n<style scoped>\n    .dataframe tbody tr th:only-of-type {\n        vertical-align: middle;\n    }\n\n    .dataframe tbody tr th {\n        vertical-align: top;\n    }\n\n    .dataframe thead th {\n        text-align: right;\n    }\n</style>\n<table border=\"1\" class=\"dataframe\">\n  <thead>\n    <tr style=\"text-align: right;\">\n      <th></th>\n      <th>Open_Time</th>\n      <th>Reopen_Time</th>\n      <th>Resolved_Time</th>\n      <th>Close_Time</th>\n    </tr>\n  </thead>\n  <tbody>\n    <tr>\n      <td>count</td>\n      <td>43709</td>\n      <td>2038</td>\n      <td>43709</td>\n      <td>43709</td>\n    </tr>\n    <tr>\n      <td>unique</td>\n      <td>43455</td>\n      <td>2036</td>\n      <td>43496</td>\n      <td>43500</td>\n    </tr>\n    <tr>\n      <td>top</td>\n      <td>2014-01-22 15:46:06</td>\n      <td>2013-11-12 10:36:33</td>\n      <td>2013-11-22 16:34:33</td>\n      <td>2014-02-27 15:04:32</td>\n    </tr>\n    <tr>\n      <td>freq</td>\n      <td>3</td>\n      <td>2</td>\n      <td>3</td>\n      <td>3</td>\n    </tr>\n    <tr>\n      <td>first</td>\n      <td>2013-10-01 07:33:21</td>\n      <td>2013-10-01 11:43:47</td>\n      <td>2013-10-01 08:18:27</td>\n      <td>2013-10-01 08:18:30</td>\n    </tr>\n    <tr>\n      <td>last</td>\n      <td>2014-03-31 17:24:49</td>\n      <td>2014-03-31 16:21:15</td>\n      <td>2014-03-31 22:47:29</td>\n      <td>2014-03-31 22:47:32</td>\n    </tr>\n  </tbody>\n</table>\n</div>",
      "text/plain": "                  Open_Time          Reopen_Time        Resolved_Time  \\\ncount                 43709                 2038                43709   \nunique                43455                 2036                43496   \ntop     2014-01-22 15:46:06  2013-11-12 10:36:33  2013-11-22 16:34:33   \nfreq                      3                    2                    3   \nfirst   2013-10-01 07:33:21  2013-10-01 11:43:47  2013-10-01 08:18:27   \nlast    2014-03-31 17:24:49  2014-03-31 16:21:15  2014-03-31 22:47:29   \n\n                 Close_Time  \ncount                 43709  \nunique                43500  \ntop     2014-02-27 15:04:32  \nfreq                      3  \nfirst   2013-10-01 08:18:30  \nlast    2014-03-31 22:47:32  "
     },
     "execution_count": 10,
     "metadata": {},
     "output_type": "execute_result"
    }
   ],
   "source": [
    "df.iloc[:,13:17].describe()"
   ]
  },
  {
   "cell_type": "markdown",
   "metadata": {},
   "source": [
    "## Deal with Status of 'work in progress'"
   ]
  },
  {
   "cell_type": "code",
   "execution_count": 11,
   "metadata": {},
   "outputs": [
    {
     "data": {
      "text/plain": "Closed              43700\nWork in progress        9\nName: Status, dtype: int64"
     },
     "execution_count": 11,
     "metadata": {},
     "output_type": "execute_result"
    }
   ],
   "source": [
    "df.Status.value_counts()"
   ]
  },
  {
   "cell_type": "code",
   "execution_count": 12,
   "metadata": {},
   "outputs": [],
   "source": [
    "df = df[ df['Status'] == 'Closed' ]"
   ]
  },
  {
   "cell_type": "code",
   "execution_count": 13,
   "metadata": {},
   "outputs": [
    {
     "data": {
      "text/plain": "Closed    43700\nName: Status, dtype: int64"
     },
     "execution_count": 13,
     "metadata": {},
     "output_type": "execute_result"
    }
   ],
   "source": [
    "df.Status.value_counts()"
   ]
  },
  {
   "cell_type": "markdown",
   "metadata": {},
   "source": [
    "## Remove non-incident records"
   ]
  },
  {
   "cell_type": "code",
   "execution_count": 14,
   "metadata": {},
   "outputs": [
    {
     "name": "stdout",
     "output_type": "stream",
     "text": "incident                   35208\nrequest for information     8482\ncomplaint                      9\nrequest for change             1\nName: Category, dtype: int64\n"
    }
   ],
   "source": [
    "print(df.Category.value_counts())"
   ]
  },
  {
   "cell_type": "code",
   "execution_count": 15,
   "metadata": {},
   "outputs": [],
   "source": [
    "df = df[ df['Category'] == 'incident' ]"
   ]
  },
  {
   "cell_type": "code",
   "execution_count": 16,
   "metadata": {},
   "outputs": [
    {
     "name": "stdout",
     "output_type": "stream",
     "text": "incident    35208\nName: Category, dtype: int64\nClosed    35208\nName: Status, dtype: int64\nclosed    35208\nName: Alert_Status, dtype: int64\n"
    }
   ],
   "source": [
    "print(df.Category.value_counts())\n",
    "print(df.Status.value_counts())\n",
    "print(df.Alert_Status.value_counts())"
   ]
  },
  {
   "cell_type": "markdown",
   "metadata": {},
   "source": [
    "## Deal with Reopen_Time Missing Values\n"
   ]
  },
  {
   "cell_type": "code",
   "execution_count": 17,
   "metadata": {},
   "outputs": [
    {
     "data": {
      "text/plain": "33782"
     },
     "execution_count": 17,
     "metadata": {},
     "output_type": "execute_result"
    }
   ],
   "source": [
    "df.Reopen_Time.isnull().sum()"
   ]
  },
  {
   "cell_type": "code",
   "execution_count": 18,
   "metadata": {},
   "outputs": [],
   "source": [
    "df['ReopenedFlag'] = ~ df.Reopen_Time.isnull()"
   ]
  },
  {
   "cell_type": "code",
   "execution_count": 19,
   "metadata": {},
   "outputs": [],
   "source": [
    "df['ReopenedFlag'] = df['ReopenedFlag'].astype(int)"
   ]
  },
  {
   "cell_type": "code",
   "execution_count": 20,
   "metadata": {},
   "outputs": [
    {
     "data": {
      "text/plain": "0    33782\n1     1426\nName: ReopenedFlag, dtype: int64"
     },
     "execution_count": 20,
     "metadata": {},
     "output_type": "execute_result"
    }
   ],
   "source": [
    "df['ReopenedFlag'].value_counts()"
   ]
  },
  {
   "cell_type": "markdown",
   "metadata": {},
   "source": [
    "## Set Missing to Zero for `Count_Related_Changes`, `Count_Related_Incidents`, and `Count_Related_Interactions` "
   ]
  },
  {
   "cell_type": "code",
   "execution_count": 22,
   "metadata": {},
   "outputs": [
    {
     "name": "stdout",
     "output_type": "stream",
     "text": "34732\n34164\n111\n"
    }
   ],
   "source": [
    "print(df['Count_Related_Changes'].isnull().sum())\n",
    "print(df['Count_Related_Incidents'].isnull().sum())\n",
    "print(df['Count_Related_Interactions'].isnull().sum())\n"
   ]
  },
  {
   "cell_type": "code",
   "execution_count": 23,
   "metadata": {},
   "outputs": [],
   "source": [
    "df['Count_Related_Changes'] = df['Count_Related_Changes'].fillna(0)\n",
    "df['Count_Related_Incidents'] = df['Count_Related_Incidents'].fillna(0)\n",
    "df['Count_Related_Interactions'] = df['Count_Related_Interactions'].fillna(0)\n"
   ]
  },
  {
   "cell_type": "code",
   "execution_count": 24,
   "metadata": {},
   "outputs": [
    {
     "name": "stdout",
     "output_type": "stream",
     "text": "0\n0\n0\n"
    }
   ],
   "source": [
    "print(df['Count_Related_Changes'].isnull().sum())\n",
    "print(df['Count_Related_Incidents'].isnull().sum())\n",
    "print(df['Count_Related_Interactions'].isnull().sum())"
   ]
  },
  {
   "cell_type": "markdown",
   "metadata": {},
   "source": [
    "## Set Missing to \"Not Applicable\" for `Related_Change`"
   ]
  },
  {
   "cell_type": "code",
   "execution_count": 25,
   "metadata": {},
   "outputs": [
    {
     "data": {
      "text/plain": "476"
     },
     "execution_count": 25,
     "metadata": {},
     "output_type": "execute_result"
    }
   ],
   "source": [
    "df['Related_Change'].value_counts().sum()"
   ]
  },
  {
   "cell_type": "code",
   "execution_count": 26,
   "metadata": {},
   "outputs": [],
   "source": [
    "df['Related_Change'] = df['Related_Change'].fillna(\"Not Applicable\")"
   ]
  },
  {
   "cell_type": "code",
   "execution_count": 27,
   "metadata": {},
   "outputs": [
    {
     "data": {
      "text/plain": "Not Applicable    34732\nC00003013           110\nC00014762            78\n#MULTIVALUE          18\nC00001012            10\nC00012714            10\nC00000713             9\nC00009165             7\nC00009722             7\nC00008750             5\nC00017302             5\nC00014221             5\nC00006833             4\nC00001807             3\nC00015613             3\nC00004344             3\nC00001026             3\nC00000829             3\nC00009821             3\nC00012116             2\nC00008442             2\nC00013454             2\nC00000527             2\nC00013072             2\nC00003404             2\nC00016781             2\nC00014458             2\nC00002268             2\nC00006448             2\nC00001507             2\nC00012545             2\nC00008222             2\nC00004294             2\nC00007098             2\nC00001250             2\nC00008726             2\nC00002389             2\nC00016192             2\nC00004739             2\nC00005261             2\nC00001549             2\nC00005866             2\nC00007015             2\nC00011501             2\nC00005110             1\nC00017553             1\nC00008467             1\nC00000122             1\nC00010941             1\nC00001667             1\nC00014876             1\nC00006824             1\nC00000050             1\nC00004994             1\nC00014622             1\nC00007202             1\nC00002337             1\nC00018403             1\nC00000360             1\nC00014360             1\nC00014296             1\nC00009563             1\nC00004549             1\nC00004493             1\nC00017594             1\nC00012923             1\nC00003040             1\nC00011366             1\nC00016689             1\nC00015758             1\nC00010740             1\nC00005456             1\nC00014075             1\nC00012038             1\nC00008486             1\nC00002375             1\nC00002378             1\nC00013064             1\nC00014624             1\nC00007092             1\nC00018435             1\nC00015544             1\nC00017031             1\nC00010749             1\nC00005847             1\nC00005369             1\nC00003468             1\nC00004384             1\nC00013104             1\nC00010182             1\nC00004044             1\nC00015923             1\nC00015140             1\nC00002007             1\nC00017321             1\nC00001831             1\nC00001455             1\nC00004090             1\nC00000596             1\nC00009025             1\nC00013595             1\nC00017230             1\nC00001062             1\nC00010379             1\nC00005858             1\nC00013125             1\nC00010785             1\nC00010314             1\nC00014981             1\nC00011858             1\nC00008356             1\nC00004679             1\nC00000633             1\nC00018421             1\nC00009966             1\nC00013867             1\nC00011591             1\nC00003624             1\nC00001137             1\nC00017136             1\nC00015776             1\nC00007263             1\nC00010344             1\nC00011406             1\nC00007572             1\nC00012062             1\nC00004385             1\nC00001215             1\nC00005050             1\nC00009567             1\nC00006401             1\nC00000385             1\nC00004854             1\nC00016295             1\nC00013740             1\nC00005815             1\nC00015047             1\nC00007983             1\nC00000600             1\nC00016153             1\nC00018549             1\nC00014707             1\nC00009947             1\nC00006302             1\nC00006599             1\nC00009069             1\nC00015040             1\nC00018267             1\nC00018294             1\nC00010259             1\nC00015025             1\nC00011170             1\nC00007055             1\nC00002178             1\nC00000589             1\nC00013982             1\nC00011182             1\nC00004950             1\nC00008787             1\nC00014375             1\nC00001730             1\nC00014475             1\nC00016233             1\nC00006745             1\nC00013273             1\nC00004614             1\nC00013379             1\nC00006823             1\nC00007747             1\nC00014122             1\nC00007161             1\nC00014661             1\nC00017161             1\nC00006422             1\nC00004490             1\nC00008054             1\nC00007099             1\nC00007132             1\nC00013606             1\nC00008700             1\nC00016571             1\nC00015609             1\nC00015705             1\nC00009448             1\nName: Related_Change, dtype: int64"
     },
     "execution_count": 27,
     "metadata": {},
     "output_type": "execute_result"
    }
   ],
   "source": [
    "df['Related_Change'].value_counts()"
   ]
  },
  {
   "cell_type": "markdown",
   "metadata": {},
   "source": [
    "## Drop columns \n",
    "\n",
    "with constant values,   \n",
    "\n",
    "and no longer needed, `Reopen_Time`\n"
   ]
  },
  {
   "cell_type": "code",
   "execution_count": 28,
   "metadata": {},
   "outputs": [],
   "source": [
    "df = df.drop(['Category', 'Status', 'Alert_Status', 'Reopen_Time'], axis='columns')"
   ]
  },
  {
   "cell_type": "code",
   "execution_count": 29,
   "metadata": {},
   "outputs": [
    {
     "data": {
      "text/plain": "Index(['CI_Name_aff', 'CI_Type_aff', 'CI_Subtype_aff',\n       'Service_Component_WBS_aff', 'Incident_ID', 'Impact', 'Urgency',\n       'Priority', 'KM_number', 'Count_Reassignments', 'Open_Time',\n       'Resolved_Time', 'Close_Time', 'Handle_Time_Hours', 'Closure_Code',\n       'Count_Related_Interactions', 'Related_Interaction',\n       'Count_Related_Incidents', 'Count_Related_Changes', 'Related_Change',\n       'CI_Name_CBy', 'CI_Type_CBy', 'CI_Subtype_CBy', 'ServiceComp_WBS_CBy',\n       'ReopenedFlag'],\n      dtype='object')"
     },
     "execution_count": 29,
     "metadata": {},
     "output_type": "execute_result"
    }
   ],
   "source": [
    "df.columns"
   ]
  },
  {
   "cell_type": "markdown",
   "metadata": {},
   "source": [
    "## END and OUTPUT"
   ]
  },
  {
   "cell_type": "code",
   "execution_count": 30,
   "metadata": {},
   "outputs": [],
   "source": [
    "with open(\"2.a.Detail_Incident.csv\",'w') as f:\n",
    "    df.to_csv(f, index=False)"
   ]
  },
  {
   "cell_type": "code",
   "execution_count": 31,
   "metadata": {},
   "outputs": [],
   "source": [
    "df.reset_index(drop=True, inplace=True)\n",
    "profile = ProfileReport(df, title=\"Profile of BPIC 2014 Detail_Incident Data after Secondary Cleaning\", html={'style': {'full_width': True}})"
   ]
  },
  {
   "cell_type": "code",
   "execution_count": 32,
   "metadata": {},
   "outputs": [],
   "source": [
    "profile.to_file(Path(str(\"2.b.Detail_Incident_Profile.html\")))"
   ]
  },
  {
   "cell_type": "code",
   "execution_count": null,
   "metadata": {},
   "outputs": [],
   "source": []
  }
 ]
}