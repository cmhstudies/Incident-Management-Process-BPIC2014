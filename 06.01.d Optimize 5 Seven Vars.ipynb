{
 "nbformat": 4,
 "nbformat_minor": 2,
 "metadata": {
  "language_info": {
   "name": "python",
   "codemirror_mode": {
    "name": "ipython",
    "version": 3
   },
   "version": "3.7.6-final"
  },
  "orig_nbformat": 2,
  "file_extension": ".py",
  "mimetype": "text/x-python",
  "name": "python",
  "npconvert_exporter": "python",
  "pygments_lexer": "ipython3",
  "version": 3,
  "kernelspec": {
   "name": "python3",
   "display_name": "Python 3"
  }
 },
 "cells": [
  {
   "cell_type": "markdown",
   "metadata": {},
   "source": [
    "# 06.01.e Optimize 5: Only Seven Vars\n",
    " \n",
    "Goal: identify the factors that most contribute to SLAFail\n",
    "\n",
    "Tuning Adjustments: Focus on finding the most predictive set of predictor variables\n",
    "\n",
    "Read Prepared Data  ->  Split Data  -> Develop Pipeline  ->  Evaluate  \n",
    "\n"
   ]
  },
  {
   "cell_type": "code",
   "execution_count": 29,
   "metadata": {},
   "outputs": [],
   "source": [
    "# create dictionary to store information about the pipeline and results for later reporting and review\n",
    "PipeLineMetadata = { \"Name\" : \"Optimize Round 5: Only Seven Vars\" }"
   ]
  },
  {
   "cell_type": "code",
   "execution_count": 30,
   "metadata": {},
   "outputs": [],
   "source": [
    "outFileName = \"data/06.00.e Only Seven Vars.pkl\""
   ]
  },
  {
   "cell_type": "code",
   "execution_count": 31,
   "metadata": {},
   "outputs": [],
   "source": [
    "\n",
    "# Load libraries\n",
    "import pandas as pd\n",
    "import numpy as np\n",
    "import pickle\n",
    "pd.options.display.float_format = '{:.7f}'.format\n",
    "\n",
    "# allow plots to appear in the notebook\n",
    "%matplotlib inline\n",
    "import matplotlib.pyplot as plt\n",
    "\n",
    "from sklearn.model_selection import train_test_split\n",
    "\n",
    "from sklearn.compose import make_column_transformer\n",
    "import category_encoders as ce\n",
    "from sklearn.preprocessing import StandardScaler\n",
    "\n",
    "from sklearn.pipeline import Pipeline\n",
    "\n",
    "from sklearn.linear_model import LogisticRegression\n",
    "from sklearn import metrics"
   ]
  },
  {
   "cell_type": "markdown",
   "metadata": {},
   "source": [
    "## Read Prepared Data"
   ]
  },
  {
   "cell_type": "code",
   "execution_count": 42,
   "metadata": {},
   "outputs": [
    {
     "name": "stdout",
     "output_type": "stream",
     "text": "df.shape: (35208, 10)\ndf.columns: Index(['Service_Component_WBS_aff', 'Urgency', 'KM_number',\n       'Count_Related_Interactions', 'Count_Related_Incidents',\n       'Count_Related_Changes', 'SLAFail', 'Open_Time_HourOfDay',\n       'Open_Time_DayOfWeek', 'CI_TypeSubType_aff'],\n      dtype='object')\ndf.dtypes: \nService_Component_WBS_aff      object\nUrgency                        object\nKM_number                      object\nCount_Related_Interactions    float64\nCount_Related_Incidents       float64\nCount_Related_Changes         float64\nSLAFail                         int64\nOpen_Time_HourOfDay             int64\nOpen_Time_DayOfWeek            object\nCI_TypeSubType_aff             object\ndtype: object\n"
    }
   ],
   "source": [
    "df = pd.read_csv(\"data/05.00 Incident Data.csv\")\n",
    "print(\"df.shape: \" + str(df.shape))\n",
    "print(\"df.columns: \" + str(df.columns))\n",
    "print(\"df.dtypes: \\n\" + str(df.dtypes))"
   ]
  },
  {
   "cell_type": "markdown",
   "metadata": {},
   "source": [
    "#### Set X and y"
   ]
  },
  {
   "cell_type": "code",
   "execution_count": 43,
   "metadata": {},
   "outputs": [
    {
     "data": {
      "text/plain": "(35208,)"
     },
     "execution_count": 43,
     "metadata": {},
     "output_type": "execute_result"
    }
   ],
   "source": [
    "y = df.SLAFail\n",
    "y.shape"
   ]
  },
  {
   "cell_type": "code",
   "execution_count": 44,
   "metadata": {},
   "outputs": [
    {
     "data": {
      "text/plain": "(35208, 9)"
     },
     "execution_count": 44,
     "metadata": {},
     "output_type": "execute_result"
    }
   ],
   "source": [
    "X = df.drop(['SLAFail'], axis='columns')\n",
    "X.shape"
   ]
  },
  {
   "cell_type": "markdown",
   "metadata": {},
   "source": [
    "Set `Open_Time_HourOfDay` for recognition as a Categorical variable"
   ]
  },
  {
   "cell_type": "code",
   "execution_count": 45,
   "metadata": {},
   "outputs": [
    {
     "data": {
      "text/plain": "Service_Component_WBS_aff      object\nUrgency                        object\nKM_number                      object\nCount_Related_Interactions    float64\nCount_Related_Incidents       float64\nCount_Related_Changes         float64\nOpen_Time_HourOfDay            object\nOpen_Time_DayOfWeek            object\nCI_TypeSubType_aff             object\ndtype: object"
     },
     "execution_count": 45,
     "metadata": {},
     "output_type": "execute_result"
    }
   ],
   "source": [
    "X.Open_Time_HourOfDay = X.Open_Time_HourOfDay.astype('object')\n",
    "X.dtypes"
   ]
  },
  {
   "cell_type": "markdown",
   "metadata": {},
   "source": [
    "Drop 'insignificant' variable"
   ]
  },
  {
   "cell_type": "code",
   "execution_count": 46,
   "metadata": {},
   "outputs": [
    {
     "data": {
      "text/plain": "Index(['Service_Component_WBS_aff', 'Urgency', 'KM_number',\n       'Count_Related_Interactions', 'Count_Related_Incidents',\n       'Count_Related_Changes', 'Open_Time_HourOfDay', 'CI_TypeSubType_aff'],\n      dtype='object')"
     },
     "execution_count": 46,
     "metadata": {},
     "output_type": "execute_result"
    }
   ],
   "source": [
    "X = X.drop(['Open_Time_DayOfWeek'], axis='columns')\n",
    "X.columns"
   ]
  },
  {
   "cell_type": "markdown",
   "metadata": {},
   "source": [
    "Create a list of numeric variable column names"
   ]
  },
  {
   "cell_type": "code",
   "execution_count": 48,
   "metadata": {},
   "outputs": [
    {
     "data": {
      "text/plain": "Index(['Count_Related_Interactions', 'Count_Related_Incidents',\n       'Count_Related_Changes'],\n      dtype='object')"
     },
     "execution_count": 48,
     "metadata": {},
     "output_type": "execute_result"
    }
   ],
   "source": [
    "numericVars = X.select_dtypes(include=['float64']).columns\n",
    "numericVars"
   ]
  },
  {
   "cell_type": "markdown",
   "metadata": {},
   "source": [
    "Create a list of categorical variables"
   ]
  },
  {
   "cell_type": "code",
   "execution_count": 49,
   "metadata": {},
   "outputs": [
    {
     "data": {
      "text/plain": "Index(['Service_Component_WBS_aff', 'Urgency', 'KM_number',\n       'Open_Time_HourOfDay', 'CI_TypeSubType_aff'],\n      dtype='object')"
     },
     "execution_count": 49,
     "metadata": {},
     "output_type": "execute_result"
    }
   ],
   "source": [
    "categoricalVars = X.select_dtypes(include=['object']).columns\n",
    "categoricalVars"
   ]
  },
  {
   "cell_type": "markdown",
   "metadata": {},
   "source": [
    "## Split Data\n",
    "\n",
    "Create Training and Testing Data Sets\n"
   ]
  },
  {
   "cell_type": "code",
   "execution_count": 50,
   "metadata": {},
   "outputs": [],
   "source": [
    "\n",
    "X_train, X_test, y_train, y_test = train_test_split(X, y, test_size=0.3, random_state=2020)\n"
   ]
  },
  {
   "cell_type": "code",
   "execution_count": 51,
   "metadata": {},
   "outputs": [
    {
     "name": "stdout",
     "output_type": "stream",
     "text": "(24645, 8)\nIndex(['Service_Component_WBS_aff', 'Urgency', 'KM_number',\n       'Count_Related_Interactions', 'Count_Related_Incidents',\n       'Count_Related_Changes', 'Open_Time_HourOfDay', 'CI_TypeSubType_aff'],\n      dtype='object')\n"
    }
   ],
   "source": [
    "print(X_train.shape)\n",
    "print(X_train.columns)"
   ]
  },
  {
   "cell_type": "markdown",
   "metadata": {},
   "source": [
    "## Develop Pipeline\n"
   ]
  },
  {
   "cell_type": "markdown",
   "metadata": {},
   "source": [
    "### Encode Variables\n",
    "\n",
    "Numeric and categorical variables require different treatment \n",
    "\n",
    "Set up column transformer for scaling numeric variables and encoding categorical variables\n",
    "\n"
   ]
  },
  {
   "cell_type": "code",
   "execution_count": 52,
   "metadata": {},
   "outputs": [],
   "source": [
    "column_trans = make_column_transformer(\n",
    "    (ce.WOEEncoder(), categoricalVars),\n",
    "    (StandardScaler(), numericVars),\n",
    "    remainder='passthrough')"
   ]
  },
  {
   "cell_type": "markdown",
   "metadata": {},
   "source": [
    "### Specify Classifier (Logistic Regression)"
   ]
  },
  {
   "cell_type": "code",
   "execution_count": 53,
   "metadata": {},
   "outputs": [],
   "source": [
    "classifier = LogisticRegression(solver=\"lbfgs\")"
   ]
  },
  {
   "cell_type": "markdown",
   "metadata": {},
   "source": [
    "### Compose Pipeline"
   ]
  },
  {
   "cell_type": "code",
   "execution_count": 54,
   "metadata": {},
   "outputs": [],
   "source": [
    "pipe = Pipeline(steps=[('column_trans', column_trans), \n",
    "                        ('classifier', classifier)\n",
    "                        ])"
   ]
  },
  {
   "cell_type": "code",
   "execution_count": 55,
   "metadata": {},
   "outputs": [
    {
     "data": {
      "text/plain": "Pipeline(memory=None,\n         steps=[('column_trans',\n                 ColumnTransformer(n_jobs=None, remainder='passthrough',\n                                   sparse_threshold=0.3,\n                                   transformer_weights=None,\n                                   transformers=[('woeencoder',\n                                                  WOEEncoder(cols=None,\n                                                             drop_invariant=False,\n                                                             handle_missing='value',\n                                                             handle_unknown='value',\n                                                             random_state=None,\n                                                             randomized=False,\n                                                             regularization=1.0,\n                                                             return_df=True,\n                                                             sigma=0.05,\n                                                             verbose=0)...\n                                                  Index(['Count_Related_Interactions', 'Count_Related_Incidents',\n       'Count_Related_Changes'],\n      dtype='object'))],\n                                   verbose=False)),\n                ('classifier',\n                 LogisticRegression(C=1.0, class_weight=None, dual=False,\n                                    fit_intercept=True, intercept_scaling=1,\n                                    l1_ratio=None, max_iter=100,\n                                    multi_class='auto', n_jobs=None,\n                                    penalty='l2', random_state=None,\n                                    solver='lbfgs', tol=0.0001, verbose=0,\n                                    warm_start=False))],\n         verbose=False)"
     },
     "execution_count": 55,
     "metadata": {},
     "output_type": "execute_result"
    }
   ],
   "source": [
    "pipe.fit(X_train, y_train)"
   ]
  },
  {
   "cell_type": "code",
   "execution_count": 56,
   "metadata": {},
   "outputs": [
    {
     "data": {
      "text/plain": "LogisticRegression(C=1.0, class_weight=None, dual=False, fit_intercept=True,\n                   intercept_scaling=1, l1_ratio=None, max_iter=100,\n                   multi_class='auto', n_jobs=None, penalty='l2',\n                   random_state=None, solver='lbfgs', tol=0.0001, verbose=0,\n                   warm_start=False)"
     },
     "execution_count": 56,
     "metadata": {},
     "output_type": "execute_result"
    }
   ],
   "source": [
    "pipe.named_steps.classifier"
   ]
  },
  {
   "cell_type": "markdown",
   "metadata": {},
   "source": [
    "## Evaluate with Testing Data\n",
    "\n",
    "Get predicted classification and predicted probabilities based on the model"
   ]
  },
  {
   "cell_type": "code",
   "execution_count": 57,
   "metadata": {},
   "outputs": [],
   "source": [
    "y_pred_class = pipe.predict(X_test)\n"
   ]
  },
  {
   "cell_type": "code",
   "execution_count": 58,
   "metadata": {},
   "outputs": [],
   "source": [
    "y_pred_prob = pipe.predict_proba(X_test)[:,1]\n",
    "\n"
   ]
  },
  {
   "cell_type": "code",
   "execution_count": 59,
   "metadata": {},
   "outputs": [
    {
     "name": "stdout",
     "output_type": "stream",
     "text": "precision    recall  f1-score   support\n\n           0       0.77      0.88      0.82      7445\n           1       0.57      0.37      0.45      3118\n\n    accuracy                           0.73     10563\n   macro avg       0.67      0.63      0.64     10563\nweighted avg       0.71      0.73      0.71     10563\n\n"
    }
   ],
   "source": [
    "print(metrics.classification_report(y_test, y_pred_class))"
   ]
  },
  {
   "cell_type": "markdown",
   "metadata": {},
   "source": [
    "Look at the resulting confusion matrix\n",
    "\n",
    "Save True Positive (TP), True Negative (TN), False Positive(FP), and False Negative (FN) values"
   ]
  },
  {
   "cell_type": "code",
   "execution_count": 60,
   "metadata": {},
   "outputs": [
    {
     "name": "stdout",
     "output_type": "stream",
     "text": "[[6572  873]\n [1960 1158]]\nTN: 6572 \t FP: 873 \nFN: 1960 \t TP: 1158 \n"
    }
   ],
   "source": [
    "confusion = metrics.confusion_matrix(y_test, y_pred_class)\n",
    "TP = confusion[1, 1]\n",
    "TN = confusion[0, 0]\n",
    "FP = confusion[0, 1]\n",
    "FN = confusion[1, 0]\n",
    "print(confusion)\n",
    "print(\"TN: %d \\t FP: %d \\nFN: %d \\t TP: %d \" % (TN, FP, FN, TP))"
   ]
  },
  {
   "cell_type": "markdown",
   "metadata": {},
   "source": [
    "Capture resulting AUC"
   ]
  },
  {
   "cell_type": "code",
   "execution_count": 61,
   "metadata": {},
   "outputs": [
    {
     "data": {
      "text/plain": "0.766148419605652"
     },
     "execution_count": 61,
     "metadata": {},
     "output_type": "execute_result"
    }
   ],
   "source": [
    "fpr, tpr, thresholds = metrics.roc_curve(y_test, y_pred_prob)\n",
    "metrics.roc_auc_score(y_test, y_pred_prob)"
   ]
  },
  {
   "cell_type": "code",
   "execution_count": 63,
   "metadata": {},
   "outputs": [
    {
     "data": {
      "image/png": "[encoded data removed]",
      "image/svg+xml": "<?xml version=\"1.0\" encoding=\"utf-8\" standalone=\"no\"?>\n<!DOCTYPE svg PUBLIC \"-//W3C//DTD SVG 1.1//EN\"\n  \"http://www.w3.org/Graphics/SVG/1.1/DTD/svg11.dtd\">\n<!-- Created with matplotlib (https://matplotlib.org/) -->\n<svg height=\"277.314375pt\" version=\"1.1\" viewBox=\"0 0 393.732813 277.314375\" width=\"393.732813pt\" xmlns=\"http://www.w3.org/2000/svg\" xmlns:xlink=\"http://www.w3.org/1999/xlink\">\n <defs>\n  <style type=\"text/css\">\n*{stroke-linecap:butt;stroke-linejoin:round;}\n  </style>\n </defs>\n <g id=\"figure_1\">\n  <g id=\"patch_1\">\n   <path d=\"M 0 277.314375 \nL 393.732813 277.314375 \nL 393.732813 0 \nL 0 0 \nz\n\" style=\"fill:none;\"/>\n  </g>\n  <g id=\"axes_1\">\n   <g id=\"patch_2\">\n    <path d=\"M 43.78125 239.758125 \nL 378.58125 239.758125 \nL 378.58125 22.318125 \nL 43.78125 22.318125 \nz\n\" style=\"fill:#ffffff;\"/>\n   </g>\n   <g id=\"matplotlib.axis_1\">\n    <g id=\"xtick_1\">\n     <g id=\"line2d_1\">\n      <path clip-path=\"url(#p25aacb9f00)\" d=\"M 43.78125 239.758125 \nL 43.78125 22.318125 \n\" style=\"fill:none;stroke:#b0b0b0;stroke-linecap:square;stroke-width:0.8;\"/>\n     </g>\n     <g id=\"line2d_2\">\n      <defs>\n       <path d=\"M 0 0 \nL 0 3.5 \n\" id=\"m2e623ced61\" style=\"stroke:#000000;stroke-width:0.8;\"/>\n      </defs>\n      <g>\n       <use style=\"stroke:#000000;stroke-width:0.8;\" x=\"43.78125\" xlink:href=\"#m2e623ced61\" y=\"239.758125\"/>\n      </g>\n     </g>\n     <g id=\"text_1\">\n      <!-- 0.0 -->\n      <defs>\n       <path d=\"M 31.78125 66.40625 \nQ 24.171875 66.40625 20.328125 58.90625 \nQ 16.5 51.421875 16.5 36.375 \nQ 16.5 21.390625 20.328125 13.890625 \nQ 24.171875 6.390625 31.78125 6.390625 \nQ 39.453125 6.390625 43.28125 13.890625 \nQ 47.125 21.390625 47.125 36.375 \nQ 47.125 51.421875 43.28125 58.90625 \nQ 39.453125 66.40625 31.78125 66.40625 \nz\nM 31.78125 74.21875 \nQ 44.046875 74.21875 50.515625 64.515625 \nQ 56.984375 54.828125 56.984375 36.375 \nQ 56.984375 17.96875 50.515625 8.265625 \nQ 44.046875 -1.421875 31.78125 -1.421875 \nQ 19.53125 -1.421875 13.0625 8.265625 \nQ 6.59375 17.96875 6.59375 36.375 \nQ 6.59375 54.828125 13.0625 64.515625 \nQ 19.53125 74.21875 31.78125 74.21875 \nz\n\" id=\"DejaVuSans-48\"/>\n       <path d=\"M 10.6875 12.40625 \nL 21 12.40625 \nL 21 0 \nL 10.6875 0 \nz\n\" id=\"DejaVuSans-46\"/>\n      </defs>\n      <g transform=\"translate(35.829688 254.356562)scale(0.1 -0.1)\">\n       <use xlink:href=\"#DejaVuSans-48\"/>\n       <use x=\"63.623047\" xlink:href=\"#DejaVuSans-46\"/>\n       <use x=\"95.410156\" xlink:href=\"#DejaVuSans-48\"/>\n      </g>\n     </g>\n    </g>\n    <g id=\"xtick_2\">\n     <g id=\"line2d_3\">\n      <path clip-path=\"url(#p25aacb9f00)\" d=\"M 110.74125 239.758125 \nL 110.74125 22.318125 \n\" style=\"fill:none;stroke:#b0b0b0;stroke-linecap:square;stroke-width:0.8;\"/>\n     </g>\n     <g id=\"line2d_4\">\n      <g>\n       <use style=\"stroke:#000000;stroke-width:0.8;\" x=\"110.74125\" xlink:href=\"#m2e623ced61\" y=\"239.758125\"/>\n      </g>\n     </g>\n     <g id=\"text_2\">\n      <!-- 0.2 -->\n      <defs>\n       <path d=\"M 19.1875 8.296875 \nL 53.609375 8.296875 \nL 53.609375 0 \nL 7.328125 0 \nL 7.328125 8.296875 \nQ 12.9375 14.109375 22.625 23.890625 \nQ 32.328125 33.6875 34.8125 36.53125 \nQ 39.546875 41.84375 41.421875 45.53125 \nQ 43.3125 49.21875 43.3125 52.78125 \nQ 43.3125 58.59375 39.234375 62.25 \nQ 35.15625 65.921875 28.609375 65.921875 \nQ 23.96875 65.921875 18.8125 64.3125 \nQ 13.671875 62.703125 7.8125 59.421875 \nL 7.8125 69.390625 \nQ 13.765625 71.78125 18.9375 73 \nQ 24.125 74.21875 28.421875 74.21875 \nQ 39.75 74.21875 46.484375 68.546875 \nQ 53.21875 62.890625 53.21875 53.421875 \nQ 53.21875 48.921875 51.53125 44.890625 \nQ 49.859375 40.875 45.40625 35.40625 \nQ 44.1875 33.984375 37.640625 27.21875 \nQ 31.109375 20.453125 19.1875 8.296875 \nz\n\" id=\"DejaVuSans-50\"/>\n      </defs>\n      <g transform=\"translate(102.789688 254.356562)scale(0.1 -0.1)\">\n       <use xlink:href=\"#DejaVuSans-48\"/>\n       <use x=\"63.623047\" xlink:href=\"#DejaVuSans-46\"/>\n       <use x=\"95.410156\" xlink:href=\"#DejaVuSans-50\"/>\n      </g>\n     </g>\n    </g>\n    <g id=\"xtick_3\">\n     <g id=\"line2d_5\">\n      <path clip-path=\"url(#p25aacb9f00)\" d=\"M 177.70125 239.758125 \nL 177.70125 22.318125 \n\" style=\"fill:none;stroke:#b0b0b0;stroke-linecap:square;stroke-width:0.8;\"/>\n     </g>\n     <g id=\"line2d_6\">\n      <g>\n       <use style=\"stroke:#000000;stroke-width:0.8;\" x=\"177.70125\" xlink:href=\"#m2e623ced61\" y=\"239.758125\"/>\n      </g>\n     </g>\n     <g id=\"text_3\">\n      <!-- 0.4 -->\n      <defs>\n       <path d=\"M 37.796875 64.3125 \nL 12.890625 25.390625 \nL 37.796875 25.390625 \nz\nM 35.203125 72.90625 \nL 47.609375 72.90625 \nL 47.609375 25.390625 \nL 58.015625 25.390625 \nL 58.015625 17.1875 \nL 47.609375 17.1875 \nL 47.609375 0 \nL 37.796875 0 \nL 37.796875 17.1875 \nL 4.890625 17.1875 \nL 4.890625 26.703125 \nz\n\" id=\"DejaVuSans-52\"/>\n      </defs>\n      <g transform=\"translate(169.749688 254.356562)scale(0.1 -0.1)\">\n       <use xlink:href=\"#DejaVuSans-48\"/>\n       <use x=\"63.623047\" xlink:href=\"#DejaVuSans-46\"/>\n       <use x=\"95.410156\" xlink:href=\"#DejaVuSans-52\"/>\n      </g>\n     </g>\n    </g>\n    <g id=\"xtick_4\">\n     <g id=\"line2d_7\">\n      <path clip-path=\"url(#p25aacb9f00)\" d=\"M 244.66125 239.758125 \nL 244.66125 22.318125 \n\" style=\"fill:none;stroke:#b0b0b0;stroke-linecap:square;stroke-width:0.8;\"/>\n     </g>\n     <g id=\"line2d_8\">\n      <g>\n       <use style=\"stroke:#000000;stroke-width:0.8;\" x=\"244.66125\" xlink:href=\"#m2e623ced61\" y=\"239.758125\"/>\n      </g>\n     </g>\n     <g id=\"text_4\">\n      <!-- 0.6 -->\n      <defs>\n       <path d=\"M 33.015625 40.375 \nQ 26.375 40.375 22.484375 35.828125 \nQ 18.609375 31.296875 18.609375 23.390625 \nQ 18.609375 15.53125 22.484375 10.953125 \nQ 26.375 6.390625 33.015625 6.390625 \nQ 39.65625 6.390625 43.53125 10.953125 \nQ 47.40625 15.53125 47.40625 23.390625 \nQ 47.40625 31.296875 43.53125 35.828125 \nQ 39.65625 40.375 33.015625 40.375 \nz\nM 52.59375 71.296875 \nL 52.59375 62.3125 \nQ 48.875 64.0625 45.09375 64.984375 \nQ 41.3125 65.921875 37.59375 65.921875 \nQ 27.828125 65.921875 22.671875 59.328125 \nQ 17.53125 52.734375 16.796875 39.40625 \nQ 19.671875 43.65625 24.015625 45.921875 \nQ 28.375 48.1875 33.59375 48.1875 \nQ 44.578125 48.1875 50.953125 41.515625 \nQ 57.328125 34.859375 57.328125 23.390625 \nQ 57.328125 12.15625 50.6875 5.359375 \nQ 44.046875 -1.421875 33.015625 -1.421875 \nQ 20.359375 -1.421875 13.671875 8.265625 \nQ 6.984375 17.96875 6.984375 36.375 \nQ 6.984375 53.65625 15.1875 63.9375 \nQ 23.390625 74.21875 37.203125 74.21875 \nQ 40.921875 74.21875 44.703125 73.484375 \nQ 48.484375 72.75 52.59375 71.296875 \nz\n\" id=\"DejaVuSans-54\"/>\n      </defs>\n      <g transform=\"translate(236.709688 254.356562)scale(0.1 -0.1)\">\n       <use xlink:href=\"#DejaVuSans-48\"/>\n       <use x=\"63.623047\" xlink:href=\"#DejaVuSans-46\"/>\n       <use x=\"95.410156\" xlink:href=\"#DejaVuSans-54\"/>\n      </g>\n     </g>\n    </g>\n    <g id=\"xtick_5\">\n     <g id=\"line2d_9\">\n      <path clip-path=\"url(#p25aacb9f00)\" d=\"M 311.62125 239.758125 \nL 311.62125 22.318125 \n\" style=\"fill:none;stroke:#b0b0b0;stroke-linecap:square;stroke-width:0.8;\"/>\n     </g>\n     <g id=\"line2d_10\">\n      <g>\n       <use style=\"stroke:#000000;stroke-width:0.8;\" x=\"311.62125\" xlink:href=\"#m2e623ced61\" y=\"239.758125\"/>\n      </g>\n     </g>\n     <g id=\"text_5\">\n      <!-- 0.8 -->\n      <defs>\n       <path d=\"M 31.78125 34.625 \nQ 24.75 34.625 20.71875 30.859375 \nQ 16.703125 27.09375 16.703125 20.515625 \nQ 16.703125 13.921875 20.71875 10.15625 \nQ 24.75 6.390625 31.78125 6.390625 \nQ 38.8125 6.390625 42.859375 10.171875 \nQ 46.921875 13.96875 46.921875 20.515625 \nQ 46.921875 27.09375 42.890625 30.859375 \nQ 38.875 34.625 31.78125 34.625 \nz\nM 21.921875 38.8125 \nQ 15.578125 40.375 12.03125 44.71875 \nQ 8.5 49.078125 8.5 55.328125 \nQ 8.5 64.0625 14.71875 69.140625 \nQ 20.953125 74.21875 31.78125 74.21875 \nQ 42.671875 74.21875 48.875 69.140625 \nQ 55.078125 64.0625 55.078125 55.328125 \nQ 55.078125 49.078125 51.53125 44.71875 \nQ 48 40.375 41.703125 38.8125 \nQ 48.828125 37.15625 52.796875 32.3125 \nQ 56.78125 27.484375 56.78125 20.515625 \nQ 56.78125 9.90625 50.3125 4.234375 \nQ 43.84375 -1.421875 31.78125 -1.421875 \nQ 19.734375 -1.421875 13.25 4.234375 \nQ 6.78125 9.90625 6.78125 20.515625 \nQ 6.78125 27.484375 10.78125 32.3125 \nQ 14.796875 37.15625 21.921875 38.8125 \nz\nM 18.3125 54.390625 \nQ 18.3125 48.734375 21.84375 45.5625 \nQ 25.390625 42.390625 31.78125 42.390625 \nQ 38.140625 42.390625 41.71875 45.5625 \nQ 45.3125 48.734375 45.3125 54.390625 \nQ 45.3125 60.0625 41.71875 63.234375 \nQ 38.140625 66.40625 31.78125 66.40625 \nQ 25.390625 66.40625 21.84375 63.234375 \nQ 18.3125 60.0625 18.3125 54.390625 \nz\n\" id=\"DejaVuSans-56\"/>\n      </defs>\n      <g transform=\"translate(303.669688 254.356562)scale(0.1 -0.1)\">\n       <use xlink:href=\"#DejaVuSans-48\"/>\n       <use x=\"63.623047\" xlink:href=\"#DejaVuSans-46\"/>\n       <use x=\"95.410156\" xlink:href=\"#DejaVuSans-56\"/>\n      </g>\n     </g>\n    </g>\n    <g id=\"xtick_6\">\n     <g id=\"line2d_11\">\n      <path clip-path=\"url(#p25aacb9f00)\" d=\"M 378.58125 239.758125 \nL 378.58125 22.318125 \n\" style=\"fill:none;stroke:#b0b0b0;stroke-linecap:square;stroke-width:0.8;\"/>\n     </g>\n     <g id=\"line2d_12\">\n      <g>\n       <use style=\"stroke:#000000;stroke-width:0.8;\" x=\"378.58125\" xlink:href=\"#m2e623ced61\" y=\"239.758125\"/>\n      </g>\n     </g>\n     <g id=\"text_6\">\n      <!-- 1.0 -->\n      <defs>\n       <path d=\"M 12.40625 8.296875 \nL 28.515625 8.296875 \nL 28.515625 63.921875 \nL 10.984375 60.40625 \nL 10.984375 69.390625 \nL 28.421875 72.90625 \nL 38.28125 72.90625 \nL 38.28125 8.296875 \nL 54.390625 8.296875 \nL 54.390625 0 \nL 12.40625 0 \nz\n\" id=\"DejaVuSans-49\"/>\n      </defs>\n      <g transform=\"translate(370.629687 254.356562)scale(0.1 -0.1)\">\n       <use xlink:href=\"#DejaVuSans-49\"/>\n       <use x=\"63.623047\" xlink:href=\"#DejaVuSans-46\"/>\n       <use x=\"95.410156\" xlink:href=\"#DejaVuSans-48\"/>\n      </g>\n     </g>\n    </g>\n    <g id=\"text_7\">\n     <!-- False Positive Rate (1 - Specificity) -->\n     <defs>\n      <path d=\"M 9.8125 72.90625 \nL 51.703125 72.90625 \nL 51.703125 64.59375 \nL 19.671875 64.59375 \nL 19.671875 43.109375 \nL 48.578125 43.109375 \nL 48.578125 34.8125 \nL 19.671875 34.8125 \nL 19.671875 0 \nL 9.8125 0 \nz\n\" id=\"DejaVuSans-70\"/>\n      <path d=\"M 34.28125 27.484375 \nQ 23.390625 27.484375 19.1875 25 \nQ 14.984375 22.515625 14.984375 16.5 \nQ 14.984375 11.71875 18.140625 8.90625 \nQ 21.296875 6.109375 26.703125 6.109375 \nQ 34.1875 6.109375 38.703125 11.40625 \nQ 43.21875 16.703125 43.21875 25.484375 \nL 43.21875 27.484375 \nz\nM 52.203125 31.203125 \nL 52.203125 0 \nL 43.21875 0 \nL 43.21875 8.296875 \nQ 40.140625 3.328125 35.546875 0.953125 \nQ 30.953125 -1.421875 24.3125 -1.421875 \nQ 15.921875 -1.421875 10.953125 3.296875 \nQ 6 8.015625 6 15.921875 \nQ 6 25.140625 12.171875 29.828125 \nQ 18.359375 34.515625 30.609375 34.515625 \nL 43.21875 34.515625 \nL 43.21875 35.40625 \nQ 43.21875 41.609375 39.140625 45 \nQ 35.0625 48.390625 27.6875 48.390625 \nQ 23 48.390625 18.546875 47.265625 \nQ 14.109375 46.140625 10.015625 43.890625 \nL 10.015625 52.203125 \nQ 14.9375 54.109375 19.578125 55.046875 \nQ 24.21875 56 28.609375 56 \nQ 40.484375 56 46.34375 49.84375 \nQ 52.203125 43.703125 52.203125 31.203125 \nz\n\" id=\"DejaVuSans-97\"/>\n      <path d=\"M 9.421875 75.984375 \nL 18.40625 75.984375 \nL 18.40625 0 \nL 9.421875 0 \nz\n\" id=\"DejaVuSans-108\"/>\n      <path d=\"M 44.28125 53.078125 \nL 44.28125 44.578125 \nQ 40.484375 46.53125 36.375 47.5 \nQ 32.28125 48.484375 27.875 48.484375 \nQ 21.1875 48.484375 17.84375 46.4375 \nQ 14.5 44.390625 14.5 40.28125 \nQ 14.5 37.15625 16.890625 35.375 \nQ 19.28125 33.59375 26.515625 31.984375 \nL 29.59375 31.296875 \nQ 39.15625 29.25 43.1875 25.515625 \nQ 47.21875 21.78125 47.21875 15.09375 \nQ 47.21875 7.46875 41.1875 3.015625 \nQ 35.15625 -1.421875 24.609375 -1.421875 \nQ 20.21875 -1.421875 15.453125 -0.5625 \nQ 10.6875 0.296875 5.421875 2 \nL 5.421875 11.28125 \nQ 10.40625 8.6875 15.234375 7.390625 \nQ 20.0625 6.109375 24.8125 6.109375 \nQ 31.15625 6.109375 34.5625 8.28125 \nQ 37.984375 10.453125 37.984375 14.40625 \nQ 37.984375 18.0625 35.515625 20.015625 \nQ 33.0625 21.96875 24.703125 23.78125 \nL 21.578125 24.515625 \nQ 13.234375 26.265625 9.515625 29.90625 \nQ 5.8125 33.546875 5.8125 39.890625 \nQ 5.8125 47.609375 11.28125 51.796875 \nQ 16.75 56 26.8125 56 \nQ 31.78125 56 36.171875 55.265625 \nQ 40.578125 54.546875 44.28125 53.078125 \nz\n\" id=\"DejaVuSans-115\"/>\n      <path d=\"M 56.203125 29.59375 \nL 56.203125 25.203125 \nL 14.890625 25.203125 \nQ 15.484375 15.921875 20.484375 11.0625 \nQ 25.484375 6.203125 34.421875 6.203125 \nQ 39.59375 6.203125 44.453125 7.46875 \nQ 49.3125 8.734375 54.109375 11.28125 \nL 54.109375 2.78125 \nQ 49.265625 0.734375 44.1875 -0.34375 \nQ 39.109375 -1.421875 33.890625 -1.421875 \nQ 20.796875 -1.421875 13.15625 6.1875 \nQ 5.515625 13.8125 5.515625 26.8125 \nQ 5.515625 40.234375 12.765625 48.109375 \nQ 20.015625 56 32.328125 56 \nQ 43.359375 56 49.78125 48.890625 \nQ 56.203125 41.796875 56.203125 29.59375 \nz\nM 47.21875 32.234375 \nQ 47.125 39.59375 43.09375 43.984375 \nQ 39.0625 48.390625 32.421875 48.390625 \nQ 24.90625 48.390625 20.390625 44.140625 \nQ 15.875 39.890625 15.1875 32.171875 \nz\n\" id=\"DejaVuSans-101\"/>\n      <path id=\"DejaVuSans-32\"/>\n      <path d=\"M 19.671875 64.796875 \nL 19.671875 37.40625 \nL 32.078125 37.40625 \nQ 38.96875 37.40625 42.71875 40.96875 \nQ 46.484375 44.53125 46.484375 51.125 \nQ 46.484375 57.671875 42.71875 61.234375 \nQ 38.96875 64.796875 32.078125 64.796875 \nz\nM 9.8125 72.90625 \nL 32.078125 72.90625 \nQ 44.34375 72.90625 50.609375 67.359375 \nQ 56.890625 61.8125 56.890625 51.125 \nQ 56.890625 40.328125 50.609375 34.8125 \nQ 44.34375 29.296875 32.078125 29.296875 \nL 19.671875 29.296875 \nL 19.671875 0 \nL 9.8125 0 \nz\n\" id=\"DejaVuSans-80\"/>\n      <path d=\"M 30.609375 48.390625 \nQ 23.390625 48.390625 19.1875 42.75 \nQ 14.984375 37.109375 14.984375 27.296875 \nQ 14.984375 17.484375 19.15625 11.84375 \nQ 23.34375 6.203125 30.609375 6.203125 \nQ 37.796875 6.203125 41.984375 11.859375 \nQ 46.1875 17.53125 46.1875 27.296875 \nQ 46.1875 37.015625 41.984375 42.703125 \nQ 37.796875 48.390625 30.609375 48.390625 \nz\nM 30.609375 56 \nQ 42.328125 56 49.015625 48.375 \nQ 55.71875 40.765625 55.71875 27.296875 \nQ 55.71875 13.875 49.015625 6.21875 \nQ 42.328125 -1.421875 30.609375 -1.421875 \nQ 18.84375 -1.421875 12.171875 6.21875 \nQ 5.515625 13.875 5.515625 27.296875 \nQ 5.515625 40.765625 12.171875 48.375 \nQ 18.84375 56 30.609375 56 \nz\n\" id=\"DejaVuSans-111\"/>\n      <path d=\"M 9.421875 54.6875 \nL 18.40625 54.6875 \nL 18.40625 0 \nL 9.421875 0 \nz\nM 9.421875 75.984375 \nL 18.40625 75.984375 \nL 18.40625 64.59375 \nL 9.421875 64.59375 \nz\n\" id=\"DejaVuSans-105\"/>\n      <path d=\"M 18.3125 70.21875 \nL 18.3125 54.6875 \nL 36.8125 54.6875 \nL 36.8125 47.703125 \nL 18.3125 47.703125 \nL 18.3125 18.015625 \nQ 18.3125 11.328125 20.140625 9.421875 \nQ 21.96875 7.515625 27.59375 7.515625 \nL 36.8125 7.515625 \nL 36.8125 0 \nL 27.59375 0 \nQ 17.1875 0 13.234375 3.875 \nQ 9.28125 7.765625 9.28125 18.015625 \nL 9.28125 47.703125 \nL 2.6875 47.703125 \nL 2.6875 54.6875 \nL 9.28125 54.6875 \nL 9.28125 70.21875 \nz\n\" id=\"DejaVuSans-116\"/>\n      <path d=\"M 2.984375 54.6875 \nL 12.5 54.6875 \nL 29.59375 8.796875 \nL 46.6875 54.6875 \nL 56.203125 54.6875 \nL 35.6875 0 \nL 23.484375 0 \nz\n\" id=\"DejaVuSans-118\"/>\n      <path d=\"M 44.390625 34.1875 \nQ 47.5625 33.109375 50.5625 29.59375 \nQ 53.5625 26.078125 56.59375 19.921875 \nL 66.609375 0 \nL 56 0 \nL 46.6875 18.703125 \nQ 43.0625 26.03125 39.671875 28.421875 \nQ 36.28125 30.8125 30.421875 30.8125 \nL 19.671875 30.8125 \nL 19.671875 0 \nL 9.8125 0 \nL 9.8125 72.90625 \nL 32.078125 72.90625 \nQ 44.578125 72.90625 50.734375 67.671875 \nQ 56.890625 62.453125 56.890625 51.90625 \nQ 56.890625 45.015625 53.6875 40.46875 \nQ 50.484375 35.9375 44.390625 34.1875 \nz\nM 19.671875 64.796875 \nL 19.671875 38.921875 \nL 32.078125 38.921875 \nQ 39.203125 38.921875 42.84375 42.21875 \nQ 46.484375 45.515625 46.484375 51.90625 \nQ 46.484375 58.296875 42.84375 61.546875 \nQ 39.203125 64.796875 32.078125 64.796875 \nz\n\" id=\"DejaVuSans-82\"/>\n      <path d=\"M 31 75.875 \nQ 24.46875 64.65625 21.28125 53.65625 \nQ 18.109375 42.671875 18.109375 31.390625 \nQ 18.109375 20.125 21.3125 9.0625 \nQ 24.515625 -2 31 -13.1875 \nL 23.1875 -13.1875 \nQ 15.875 -1.703125 12.234375 9.375 \nQ 8.59375 20.453125 8.59375 31.390625 \nQ 8.59375 42.28125 12.203125 53.3125 \nQ 15.828125 64.359375 23.1875 75.875 \nz\n\" id=\"DejaVuSans-40\"/>\n      <path d=\"M 4.890625 31.390625 \nL 31.203125 31.390625 \nL 31.203125 23.390625 \nL 4.890625 23.390625 \nz\n\" id=\"DejaVuSans-45\"/>\n      <path d=\"M 53.515625 70.515625 \nL 53.515625 60.890625 \nQ 47.90625 63.578125 42.921875 64.890625 \nQ 37.9375 66.21875 33.296875 66.21875 \nQ 25.25 66.21875 20.875 63.09375 \nQ 16.5 59.96875 16.5 54.203125 \nQ 16.5 49.359375 19.40625 46.890625 \nQ 22.3125 44.4375 30.421875 42.921875 \nL 36.375 41.703125 \nQ 47.40625 39.59375 52.65625 34.296875 \nQ 57.90625 29 57.90625 20.125 \nQ 57.90625 9.515625 50.796875 4.046875 \nQ 43.703125 -1.421875 29.984375 -1.421875 \nQ 24.8125 -1.421875 18.96875 -0.25 \nQ 13.140625 0.921875 6.890625 3.21875 \nL 6.890625 13.375 \nQ 12.890625 10.015625 18.65625 8.296875 \nQ 24.421875 6.59375 29.984375 6.59375 \nQ 38.421875 6.59375 43.015625 9.90625 \nQ 47.609375 13.234375 47.609375 19.390625 \nQ 47.609375 24.75 44.3125 27.78125 \nQ 41.015625 30.8125 33.5 32.328125 \nL 27.484375 33.5 \nQ 16.453125 35.6875 11.515625 40.375 \nQ 6.59375 45.0625 6.59375 53.421875 \nQ 6.59375 63.09375 13.40625 68.65625 \nQ 20.21875 74.21875 32.171875 74.21875 \nQ 37.3125 74.21875 42.625 73.28125 \nQ 47.953125 72.359375 53.515625 70.515625 \nz\n\" id=\"DejaVuSans-83\"/>\n      <path d=\"M 18.109375 8.203125 \nL 18.109375 -20.796875 \nL 9.078125 -20.796875 \nL 9.078125 54.6875 \nL 18.109375 54.6875 \nL 18.109375 46.390625 \nQ 20.953125 51.265625 25.265625 53.625 \nQ 29.59375 56 35.59375 56 \nQ 45.5625 56 51.78125 48.09375 \nQ 58.015625 40.1875 58.015625 27.296875 \nQ 58.015625 14.40625 51.78125 6.484375 \nQ 45.5625 -1.421875 35.59375 -1.421875 \nQ 29.59375 -1.421875 25.265625 0.953125 \nQ 20.953125 3.328125 18.109375 8.203125 \nz\nM 48.6875 27.296875 \nQ 48.6875 37.203125 44.609375 42.84375 \nQ 40.53125 48.484375 33.40625 48.484375 \nQ 26.265625 48.484375 22.1875 42.84375 \nQ 18.109375 37.203125 18.109375 27.296875 \nQ 18.109375 17.390625 22.1875 11.75 \nQ 26.265625 6.109375 33.40625 6.109375 \nQ 40.53125 6.109375 44.609375 11.75 \nQ 48.6875 17.390625 48.6875 27.296875 \nz\n\" id=\"DejaVuSans-112\"/>\n      <path d=\"M 48.78125 52.59375 \nL 48.78125 44.1875 \nQ 44.96875 46.296875 41.140625 47.34375 \nQ 37.3125 48.390625 33.40625 48.390625 \nQ 24.65625 48.390625 19.8125 42.84375 \nQ 14.984375 37.3125 14.984375 27.296875 \nQ 14.984375 17.28125 19.8125 11.734375 \nQ 24.65625 6.203125 33.40625 6.203125 \nQ 37.3125 6.203125 41.140625 7.25 \nQ 44.96875 8.296875 48.78125 10.40625 \nL 48.78125 2.09375 \nQ 45.015625 0.34375 40.984375 -0.53125 \nQ 36.96875 -1.421875 32.421875 -1.421875 \nQ 20.0625 -1.421875 12.78125 6.34375 \nQ 5.515625 14.109375 5.515625 27.296875 \nQ 5.515625 40.671875 12.859375 48.328125 \nQ 20.21875 56 33.015625 56 \nQ 37.15625 56 41.109375 55.140625 \nQ 45.0625 54.296875 48.78125 52.59375 \nz\n\" id=\"DejaVuSans-99\"/>\n      <path d=\"M 37.109375 75.984375 \nL 37.109375 68.5 \nL 28.515625 68.5 \nQ 23.6875 68.5 21.796875 66.546875 \nQ 19.921875 64.59375 19.921875 59.515625 \nL 19.921875 54.6875 \nL 34.71875 54.6875 \nL 34.71875 47.703125 \nL 19.921875 47.703125 \nL 19.921875 0 \nL 10.890625 0 \nL 10.890625 47.703125 \nL 2.296875 47.703125 \nL 2.296875 54.6875 \nL 10.890625 54.6875 \nL 10.890625 58.5 \nQ 10.890625 67.625 15.140625 71.796875 \nQ 19.390625 75.984375 28.609375 75.984375 \nz\n\" id=\"DejaVuSans-102\"/>\n      <path d=\"M 32.171875 -5.078125 \nQ 28.375 -14.84375 24.75 -17.8125 \nQ 21.140625 -20.796875 15.09375 -20.796875 \nL 7.90625 -20.796875 \nL 7.90625 -13.28125 \nL 13.1875 -13.28125 \nQ 16.890625 -13.28125 18.9375 -11.515625 \nQ 21 -9.765625 23.484375 -3.21875 \nL 25.09375 0.875 \nL 2.984375 54.6875 \nL 12.5 54.6875 \nL 29.59375 11.921875 \nL 46.6875 54.6875 \nL 56.203125 54.6875 \nz\n\" id=\"DejaVuSans-121\"/>\n      <path d=\"M 8.015625 75.875 \nL 15.828125 75.875 \nQ 23.140625 64.359375 26.78125 53.3125 \nQ 30.421875 42.28125 30.421875 31.390625 \nQ 30.421875 20.453125 26.78125 9.375 \nQ 23.140625 -1.703125 15.828125 -13.1875 \nL 8.015625 -13.1875 \nQ 14.5 -2 17.703125 9.0625 \nQ 20.90625 20.125 20.90625 31.390625 \nQ 20.90625 42.671875 17.703125 53.65625 \nQ 14.5 64.65625 8.015625 75.875 \nz\n\" id=\"DejaVuSans-41\"/>\n     </defs>\n     <g transform=\"translate(124.551563 268.034687)scale(0.1 -0.1)\">\n      <use xlink:href=\"#DejaVuSans-70\"/>\n      <use x=\"57.378906\" xlink:href=\"#DejaVuSans-97\"/>\n      <use x=\"118.658203\" xlink:href=\"#DejaVuSans-108\"/>\n      <use x=\"146.441406\" xlink:href=\"#DejaVuSans-115\"/>\n      <use x=\"198.541016\" xlink:href=\"#DejaVuSans-101\"/>\n      <use x=\"260.064453\" xlink:href=\"#DejaVuSans-32\"/>\n      <use x=\"291.851562\" xlink:href=\"#DejaVuSans-80\"/>\n      <use x=\"352.107422\" xlink:href=\"#DejaVuSans-111\"/>\n      <use x=\"413.289062\" xlink:href=\"#DejaVuSans-115\"/>\n      <use x=\"465.388672\" xlink:href=\"#DejaVuSans-105\"/>\n      <use x=\"493.171875\" xlink:href=\"#DejaVuSans-116\"/>\n      <use x=\"532.380859\" xlink:href=\"#DejaVuSans-105\"/>\n      <use x=\"560.164062\" xlink:href=\"#DejaVuSans-118\"/>\n      <use x=\"619.34375\" xlink:href=\"#DejaVuSans-101\"/>\n      <use x=\"680.867188\" xlink:href=\"#DejaVuSans-32\"/>\n      <use x=\"712.654297\" xlink:href=\"#DejaVuSans-82\"/>\n      <use x=\"782.105469\" xlink:href=\"#DejaVuSans-97\"/>\n      <use x=\"843.384766\" xlink:href=\"#DejaVuSans-116\"/>\n      <use x=\"882.59375\" xlink:href=\"#DejaVuSans-101\"/>\n      <use x=\"944.117188\" xlink:href=\"#DejaVuSans-32\"/>\n      <use x=\"975.904297\" xlink:href=\"#DejaVuSans-40\"/>\n      <use x=\"1014.917969\" xlink:href=\"#DejaVuSans-49\"/>\n      <use x=\"1078.541016\" xlink:href=\"#DejaVuSans-32\"/>\n      <use x=\"1110.328125\" xlink:href=\"#DejaVuSans-45\"/>\n      <use x=\"1146.412109\" xlink:href=\"#DejaVuSans-32\"/>\n      <use x=\"1178.199219\" xlink:href=\"#DejaVuSans-83\"/>\n      <use x=\"1241.675781\" xlink:href=\"#DejaVuSans-112\"/>\n      <use x=\"1305.152344\" xlink:href=\"#DejaVuSans-101\"/>\n      <use x=\"1366.675781\" xlink:href=\"#DejaVuSans-99\"/>\n      <use x=\"1421.65625\" xlink:href=\"#DejaVuSans-105\"/>\n      <use x=\"1449.439453\" xlink:href=\"#DejaVuSans-102\"/>\n      <use x=\"1484.644531\" xlink:href=\"#DejaVuSans-105\"/>\n      <use x=\"1512.427734\" xlink:href=\"#DejaVuSans-99\"/>\n      <use x=\"1567.408203\" xlink:href=\"#DejaVuSans-105\"/>\n      <use x=\"1595.191406\" xlink:href=\"#DejaVuSans-116\"/>\n      <use x=\"1634.400391\" xlink:href=\"#DejaVuSans-121\"/>\n      <use x=\"1693.580078\" xlink:href=\"#DejaVuSans-41\"/>\n     </g>\n    </g>\n   </g>\n   <g id=\"matplotlib.axis_2\">\n    <g id=\"ytick_1\">\n     <g id=\"line2d_13\">\n      <path clip-path=\"url(#p25aacb9f00)\" d=\"M 43.78125 239.758125 \nL 378.58125 239.758125 \n\" style=\"fill:none;stroke:#b0b0b0;stroke-linecap:square;stroke-width:0.8;\"/>\n     </g>\n     <g id=\"line2d_14\">\n      <defs>\n       <path d=\"M 0 0 \nL -3.5 0 \n\" id=\"m714fa80529\" style=\"stroke:#000000;stroke-width:0.8;\"/>\n      </defs>\n      <g>\n       <use style=\"stroke:#000000;stroke-width:0.8;\" x=\"43.78125\" xlink:href=\"#m714fa80529\" y=\"239.758125\"/>\n      </g>\n     </g>\n     <g id=\"text_8\">\n      <!-- 0.0 -->\n      <g transform=\"translate(20.878125 243.557344)scale(0.1 -0.1)\">\n       <use xlink:href=\"#DejaVuSans-48\"/>\n       <use x=\"63.623047\" xlink:href=\"#DejaVuSans-46\"/>\n       <use x=\"95.410156\" xlink:href=\"#DejaVuSans-48\"/>\n      </g>\n     </g>\n    </g>\n    <g id=\"ytick_2\">\n     <g id=\"line2d_15\">\n      <path clip-path=\"url(#p25aacb9f00)\" d=\"M 43.78125 196.270125 \nL 378.58125 196.270125 \n\" style=\"fill:none;stroke:#b0b0b0;stroke-linecap:square;stroke-width:0.8;\"/>\n     </g>\n     <g id=\"line2d_16\">\n      <g>\n       <use style=\"stroke:#000000;stroke-width:0.8;\" x=\"43.78125\" xlink:href=\"#m714fa80529\" y=\"196.270125\"/>\n      </g>\n     </g>\n     <g id=\"text_9\">\n      <!-- 0.2 -->\n      <g transform=\"translate(20.878125 200.069344)scale(0.1 -0.1)\">\n       <use xlink:href=\"#DejaVuSans-48\"/>\n       <use x=\"63.623047\" xlink:href=\"#DejaVuSans-46\"/>\n       <use x=\"95.410156\" xlink:href=\"#DejaVuSans-50\"/>\n      </g>\n     </g>\n    </g>\n    <g id=\"ytick_3\">\n     <g id=\"line2d_17\">\n      <path clip-path=\"url(#p25aacb9f00)\" d=\"M 43.78125 152.782125 \nL 378.58125 152.782125 \n\" style=\"fill:none;stroke:#b0b0b0;stroke-linecap:square;stroke-width:0.8;\"/>\n     </g>\n     <g id=\"line2d_18\">\n      <g>\n       <use style=\"stroke:#000000;stroke-width:0.8;\" x=\"43.78125\" xlink:href=\"#m714fa80529\" y=\"152.782125\"/>\n      </g>\n     </g>\n     <g id=\"text_10\">\n      <!-- 0.4 -->\n      <g transform=\"translate(20.878125 156.581344)scale(0.1 -0.1)\">\n       <use xlink:href=\"#DejaVuSans-48\"/>\n       <use x=\"63.623047\" xlink:href=\"#DejaVuSans-46\"/>\n       <use x=\"95.410156\" xlink:href=\"#DejaVuSans-52\"/>\n      </g>\n     </g>\n    </g>\n    <g id=\"ytick_4\">\n     <g id=\"line2d_19\">\n      <path clip-path=\"url(#p25aacb9f00)\" d=\"M 43.78125 109.294125 \nL 378.58125 109.294125 \n\" style=\"fill:none;stroke:#b0b0b0;stroke-linecap:square;stroke-width:0.8;\"/>\n     </g>\n     <g id=\"line2d_20\">\n      <g>\n       <use style=\"stroke:#000000;stroke-width:0.8;\" x=\"43.78125\" xlink:href=\"#m714fa80529\" y=\"109.294125\"/>\n      </g>\n     </g>\n     <g id=\"text_11\">\n      <!-- 0.6 -->\n      <g transform=\"translate(20.878125 113.093344)scale(0.1 -0.1)\">\n       <use xlink:href=\"#DejaVuSans-48\"/>\n       <use x=\"63.623047\" xlink:href=\"#DejaVuSans-46\"/>\n       <use x=\"95.410156\" xlink:href=\"#DejaVuSans-54\"/>\n      </g>\n     </g>\n    </g>\n    <g id=\"ytick_5\">\n     <g id=\"line2d_21\">\n      <path clip-path=\"url(#p25aacb9f00)\" d=\"M 43.78125 65.806125 \nL 378.58125 65.806125 \n\" style=\"fill:none;stroke:#b0b0b0;stroke-linecap:square;stroke-width:0.8;\"/>\n     </g>\n     <g id=\"line2d_22\">\n      <g>\n       <use style=\"stroke:#000000;stroke-width:0.8;\" x=\"43.78125\" xlink:href=\"#m714fa80529\" y=\"65.806125\"/>\n      </g>\n     </g>\n     <g id=\"text_12\">\n      <!-- 0.8 -->\n      <g transform=\"translate(20.878125 69.605344)scale(0.1 -0.1)\">\n       <use xlink:href=\"#DejaVuSans-48\"/>\n       <use x=\"63.623047\" xlink:href=\"#DejaVuSans-46\"/>\n       <use x=\"95.410156\" xlink:href=\"#DejaVuSans-56\"/>\n      </g>\n     </g>\n    </g>\n    <g id=\"ytick_6\">\n     <g id=\"line2d_23\">\n      <path clip-path=\"url(#p25aacb9f00)\" d=\"M 43.78125 22.318125 \nL 378.58125 22.318125 \n\" style=\"fill:none;stroke:#b0b0b0;stroke-linecap:square;stroke-width:0.8;\"/>\n     </g>\n     <g id=\"line2d_24\">\n      <g>\n       <use style=\"stroke:#000000;stroke-width:0.8;\" x=\"43.78125\" xlink:href=\"#m714fa80529\" y=\"22.318125\"/>\n      </g>\n     </g>\n     <g id=\"text_13\">\n      <!-- 1.0 -->\n      <g transform=\"translate(20.878125 26.117344)scale(0.1 -0.1)\">\n       <use xlink:href=\"#DejaVuSans-49\"/>\n       <use x=\"63.623047\" xlink:href=\"#DejaVuSans-46\"/>\n       <use x=\"95.410156\" xlink:href=\"#DejaVuSans-48\"/>\n      </g>\n     </g>\n    </g>\n    <g id=\"text_14\">\n     <!-- True Positive Rate (Sensitivity) -->\n     <defs>\n      <path d=\"M -0.296875 72.90625 \nL 61.375 72.90625 \nL 61.375 64.59375 \nL 35.5 64.59375 \nL 35.5 0 \nL 25.59375 0 \nL 25.59375 64.59375 \nL -0.296875 64.59375 \nz\n\" id=\"DejaVuSans-84\"/>\n      <path d=\"M 41.109375 46.296875 \nQ 39.59375 47.171875 37.8125 47.578125 \nQ 36.03125 48 33.890625 48 \nQ 26.265625 48 22.1875 43.046875 \nQ 18.109375 38.09375 18.109375 28.8125 \nL 18.109375 0 \nL 9.078125 0 \nL 9.078125 54.6875 \nL 18.109375 54.6875 \nL 18.109375 46.1875 \nQ 20.953125 51.171875 25.484375 53.578125 \nQ 30.03125 56 36.53125 56 \nQ 37.453125 56 38.578125 55.875 \nQ 39.703125 55.765625 41.0625 55.515625 \nz\n\" id=\"DejaVuSans-114\"/>\n      <path d=\"M 8.5 21.578125 \nL 8.5 54.6875 \nL 17.484375 54.6875 \nL 17.484375 21.921875 \nQ 17.484375 14.15625 20.5 10.265625 \nQ 23.53125 6.390625 29.59375 6.390625 \nQ 36.859375 6.390625 41.078125 11.03125 \nQ 45.3125 15.671875 45.3125 23.6875 \nL 45.3125 54.6875 \nL 54.296875 54.6875 \nL 54.296875 0 \nL 45.3125 0 \nL 45.3125 8.40625 \nQ 42.046875 3.421875 37.71875 1 \nQ 33.40625 -1.421875 27.6875 -1.421875 \nQ 18.265625 -1.421875 13.375 4.4375 \nQ 8.5 10.296875 8.5 21.578125 \nz\nM 31.109375 56 \nz\n\" id=\"DejaVuSans-117\"/>\n      <path d=\"M 54.890625 33.015625 \nL 54.890625 0 \nL 45.90625 0 \nL 45.90625 32.71875 \nQ 45.90625 40.484375 42.875 44.328125 \nQ 39.84375 48.1875 33.796875 48.1875 \nQ 26.515625 48.1875 22.3125 43.546875 \nQ 18.109375 38.921875 18.109375 30.90625 \nL 18.109375 0 \nL 9.078125 0 \nL 9.078125 54.6875 \nL 18.109375 54.6875 \nL 18.109375 46.1875 \nQ 21.34375 51.125 25.703125 53.5625 \nQ 30.078125 56 35.796875 56 \nQ 45.21875 56 50.046875 50.171875 \nQ 54.890625 44.34375 54.890625 33.015625 \nz\n\" id=\"DejaVuSans-110\"/>\n     </defs>\n     <g transform=\"translate(14.798438 208.105312)rotate(-90)scale(0.1 -0.1)\">\n      <use xlink:href=\"#DejaVuSans-84\"/>\n      <use x=\"60.865234\" xlink:href=\"#DejaVuSans-114\"/>\n      <use x=\"101.978516\" xlink:href=\"#DejaVuSans-117\"/>\n      <use x=\"165.357422\" xlink:href=\"#DejaVuSans-101\"/>\n      <use x=\"226.880859\" xlink:href=\"#DejaVuSans-32\"/>\n      <use x=\"258.667969\" xlink:href=\"#DejaVuSans-80\"/>\n      <use x=\"318.923828\" xlink:href=\"#DejaVuSans-111\"/>\n      <use x=\"380.105469\" xlink:href=\"#DejaVuSans-115\"/>\n      <use x=\"432.205078\" xlink:href=\"#DejaVuSans-105\"/>\n      <use x=\"459.988281\" xlink:href=\"#DejaVuSans-116\"/>\n      <use x=\"499.197266\" xlink:href=\"#DejaVuSans-105\"/>\n      <use x=\"526.980469\" xlink:href=\"#DejaVuSans-118\"/>\n      <use x=\"586.160156\" xlink:href=\"#DejaVuSans-101\"/>\n      <use x=\"647.683594\" xlink:href=\"#DejaVuSans-32\"/>\n      <use x=\"679.470703\" xlink:href=\"#DejaVuSans-82\"/>\n      <use x=\"748.921875\" xlink:href=\"#DejaVuSans-97\"/>\n      <use x=\"810.201172\" xlink:href=\"#DejaVuSans-116\"/>\n      <use x=\"849.410156\" xlink:href=\"#DejaVuSans-101\"/>\n      <use x=\"910.933594\" xlink:href=\"#DejaVuSans-32\"/>\n      <use x=\"942.720703\" xlink:href=\"#DejaVuSans-40\"/>\n      <use x=\"981.734375\" xlink:href=\"#DejaVuSans-83\"/>\n      <use x=\"1045.210938\" xlink:href=\"#DejaVuSans-101\"/>\n      <use x=\"1106.734375\" xlink:href=\"#DejaVuSans-110\"/>\n      <use x=\"1170.113281\" xlink:href=\"#DejaVuSans-115\"/>\n      <use x=\"1222.212891\" xlink:href=\"#DejaVuSans-105\"/>\n      <use x=\"1249.996094\" xlink:href=\"#DejaVuSans-116\"/>\n      <use x=\"1289.205078\" xlink:href=\"#DejaVuSans-105\"/>\n      <use x=\"1316.988281\" xlink:href=\"#DejaVuSans-118\"/>\n      <use x=\"1376.167969\" xlink:href=\"#DejaVuSans-105\"/>\n      <use x=\"1403.951172\" xlink:href=\"#DejaVuSans-116\"/>\n      <use x=\"1443.160156\" xlink:href=\"#DejaVuSans-121\"/>\n      <use x=\"1502.339844\" xlink:href=\"#DejaVuSans-41\"/>\n     </g>\n    </g>\n   </g>\n   <g id=\"line2d_25\">\n    <path clip-path=\"url(#p25aacb9f00)\" d=\"M 43.78125 239.758125 \nL 43.78125 239.688388 \nL 43.916159 239.688388 \nL 43.961129 238.0147 \nL 44.096038 237.944963 \nL 44.185978 237.735752 \nL 44.230948 237.735752 \nL 44.320887 236.480485 \nL 44.410827 236.410748 \nL 44.410827 236.341011 \nL 44.455797 236.341011 \nL 44.815555 235.294956 \nL 44.815555 235.016008 \nL 45.085374 233.691005 \nL 45.220283 232.854161 \nL 45.265253 232.854161 \nL 45.310222 232.017317 \nL 45.355192 232.017317 \nL 45.535071 231.808106 \nL 45.625011 230.692314 \nL 45.669981 230.692314 \nL 45.669981 230.622577 \nL 45.89483 230.343629 \nL 45.939799 229.855469 \nL 46.119678 229.785732 \nL 46.209618 229.36731 \nL 46.344527 229.088362 \nL 46.344527 228.879151 \nL 46.434467 228.879151 \nL 46.479437 228.879151 \nL 46.569376 228.181781 \nL 46.749255 227.97257 \nL 46.794225 227.344937 \nL 46.839195 227.344937 \nL 47.064044 226.856778 \nL 47.153983 226.856778 \nL 47.243923 226.019934 \nL 47.468772 225.531775 \nL 47.558711 224.904142 \nL 47.603681 224.904142 \nL 47.693621 224.694931 \nL 47.73859 224.694931 \nL 47.91847 224.206772 \nL 48.008409 224.206772 \nL 48.053379 223.579138 \nL 48.233258 223.579138 \nL 48.233258 223.509401 \nL 48.323198 223.230453 \nL 48.323198 223.160716 \nL 48.413137 223.160716 \nL 48.817865 221.347554 \nL 48.952775 221.347554 \nL 49.042714 220.859395 \nL 49.357503 219.81334 \nL 49.447442 219.534392 \nL 49.672291 219.464655 \nL 49.762231 218.906759 \nL 49.8072 218.906759 \nL 49.89714 218.069915 \nL 49.94211 218.069915 \nL 50.032049 217.790967 \nL 50.166959 217.72123 \nL 50.391807 216.5357 \nL 50.481747 216.5357 \nL 50.571687 215.489645 \nL 50.616656 215.489645 \nL 50.616656 215.419908 \nL 50.706596 215.001486 \nL 50.931445 214.234379 \nL 51.021384 214.234379 \nL 51.021384 214.164642 \nL 51.291203 213.885694 \nL 51.695931 212.700165 \nL 51.785871 211.933058 \nL 51.96575 211.863321 \nL 52.055689 211.65411 \nL 52.100659 211.65411 \nL 52.190599 211.375162 \nL 52.325508 211.305425 \nL 52.415447 210.677791 \nL 52.460417 210.46858 \nL 52.685266 210.119895 \nL 52.730236 210.119895 \nL 52.775206 209.492262 \nL 53.000055 209.422525 \nL 53.045024 209.283051 \nL 53.179934 209.213314 \nL 53.224903 208.655418 \nL 53.359813 208.585681 \nL 53.449752 208.306733 \nL 53.719571 208.236996 \nL 53.809511 207.818574 \nL 53.85448 207.818574 \nL 53.85448 207.6791 \nL 53.94442 207.6791 \nL 54.169269 207.400152 \nL 54.169269 207.190941 \nL 54.394118 207.121204 \nL 54.484057 206.633045 \nL 55.023695 205.238305 \nL 55.203574 205.168568 \nL 55.293513 204.88962 \nL 55.473392 204.819883 \nL 55.563332 204.680409 \nL 55.653271 204.331723 \nL 55.698241 204.331723 \nL 55.96806 203.983038 \nL 56.057999 203.494879 \nL 56.102969 203.494879 \nL 56.192909 202.658035 \nL 56.237879 202.658035 \nL 56.282848 202.448824 \nL 56.372788 202.448824 \nL 56.462728 202.100139 \nL 56.507697 202.100139 \nL 56.552667 201.61198 \nL 56.642607 201.61198 \nL 56.732546 201.123821 \nL 57.227214 200.496188 \nL 57.272184 200.496188 \nL 57.272184 200.147503 \nL 57.362123 200.147503 \nL 57.452063 199.938292 \nL 57.542002 199.729081 \nL 57.631942 199.729081 \nL 57.631942 199.659344 \nL 58.171579 198.752763 \nL 58.171579 198.613289 \nL 58.441398 198.613289 \nL 58.441398 198.334341 \nL 58.531337 198.334341 \nL 58.801156 198.334341 \nL 59.070975 197.567233 \nL 59.250854 197.567233 \nL 59.250854 197.427759 \nL 59.385763 197.427759 \nL 59.385763 197.358022 \nL 59.385763 197.218548 \nL 59.430733 197.218548 \nL 59.520672 197.218548 \nL 59.610612 196.869863 \nL 60.01534 196.172493 \nL 60.10528 195.614597 \nL 60.420068 195.54486 \nL 60.465038 195.196175 \nL 60.599947 195.126438 \nL 60.689887 194.429068 \nL 60.869766 193.731698 \nL 61.094615 193.592224 \nL 61.139584 192.894854 \nL 61.589282 192.615906 \nL 61.769161 192.336958 \nL 61.904071 192.336958 \nL 61.99401 192.05801 \nL 62.173889 191.988273 \nL 62.173889 191.709324 \nL 62.218859 191.709324 \nL 62.398738 191.709324 \nL 62.488678 191.500113 \nL 62.623587 191.500113 \nL 63.298134 190.733006 \nL 63.388073 190.244847 \nL 63.522983 190.17511 \nL 63.612922 189.965899 \nL 63.702862 189.896162 \nL 63.792801 189.617214 \nL 63.882741 189.617214 \nL 64.10759 189.198792 \nL 64.377408 189.129055 \nL 64.422378 188.78037 \nL 64.557288 188.710633 \nL 64.647227 188.501422 \nL 64.917046 188.431685 \nL 65.006985 188.222474 \nL 65.186865 188.152737 \nL 65.546623 187.664578 \nL 65.771472 186.548786 \nL 65.951351 186.269838 \nL 66.04129 185.502731 \nL 66.13123 185.363256 \nL 66.221169 184.596149 \nL 66.266139 184.596149 \nL 66.311109 184.456675 \nL 66.715837 183.689568 \nL 66.805777 182.992198 \nL 67.165535 182.643513 \nL 67.345414 182.364565 \nL 67.435353 181.806669 \nL 67.615233 181.527721 \nL 67.705172 181.179036 \nL 67.795112 181.179036 \nL 67.795112 181.039562 \nL 68.469658 180.551403 \nL 68.559598 180.342192 \nL 68.649537 180.342192 \nL 68.784447 179.92377 \nL 68.829417 179.086926 \nL 68.874386 179.086926 \nL 68.964326 178.877714 \nL 69.009296 178.529029 \nL 69.054265 178.529029 \nL 69.189175 178.389555 \nL 69.189175 178.180344 \nL 69.234145 178.180344 \nL 69.503963 177.831659 \nL 69.728812 177.552711 \nL 69.953661 176.925078 \nL 70.313419 176.227708 \nL 70.358389 175.879023 \nL 70.493298 175.809286 \nL 70.898026 175.460601 \nL 70.987966 175.042179 \nL 71.122875 174.972442 \nL 71.212815 174.832968 \nL 71.257785 174.832968 \nL 71.302754 174.414546 \nL 71.662513 174.344809 \nL 71.752452 174.135598 \nL 71.977301 174.065861 \nL 72.067241 173.577702 \nL 72.516938 172.880332 \nL 72.561908 172.601383 \nL 72.786757 172.322435 \nL 72.786757 172.252698 \nL 73.011606 172.252698 \nL 73.101546 171.904013 \nL 73.191485 171.834276 \nL 73.236455 171.694802 \nL 73.326394 171.694802 \nL 73.506274 171.415854 \nL 73.821062 170.857958 \nL 74.810397 169.811903 \nL 74.810397 169.742166 \nL 75.439974 169.323744 \nL 75.619853 169.044796 \nL 75.844702 168.905322 \nL 76.069551 168.905322 \nL 76.384339 168.417163 \nL 76.474279 168.417163 \nL 76.474279 168.347426 \nL 77.373674 166.115841 \nL 77.688463 165.976367 \nL 78.003251 165.348734 \nL 78.048221 165.20926 \nL 78.18313 165.139523 \nL 78.27307 164.930312 \nL 78.407979 164.930312 \nL 78.497919 164.581627 \nL 78.722768 164.51189 \nL 78.722768 164.442153 \nL 78.812707 164.442153 \nL 78.902647 164.302679 \nL 79.127496 164.163205 \nL 79.127496 163.884257 \nL 79.172466 163.884257 \nL 79.307375 163.675046 \nL 79.847012 162.977676 \nL 80.071861 162.838202 \nL 80.071861 162.768465 \nL 80.116831 162.768465 \nL 80.34168 162.628991 \nL 80.431619 162.350043 \nL 80.476589 162.350043 \nL 80.476589 162.280306 \nL 81.196106 161.303988 \nL 81.331015 161.234251 \nL 82.32035 159.700036 \nL 82.770048 159.560562 \nL 82.770048 159.421088 \nL 83.399625 158.584244 \nL 83.804353 157.607926 \nL 83.894292 157.607926 \nL 83.894292 157.538189 \nL 84.658779 156.840819 \nL 84.748718 156.631608 \nL 84.838658 156.35266 \nL 85.063507 156.35266 \nL 85.558174 155.65529 \nL 85.648114 155.65529 \nL 85.648114 155.446079 \nL 85.827993 155.446079 \nL 85.827993 155.306605 \nL 85.872963 155.306605 \nL 86.142781 154.818446 \nL 86.232721 154.400024 \nL 86.32266 154.400024 \nL 86.4126 154.051339 \nL 86.502539 154.051339 \nL 86.682419 153.493443 \nL 86.817328 153.423706 \nL 86.952237 153.144757 \nL 87.132116 153.144757 \nL 87.267026 152.865809 \nL 89.380605 149.936855 \nL 89.515515 149.797381 \nL 89.605454 149.518433 \nL 89.695394 149.169748 \nL 89.965212 149.169748 \nL 89.965212 149.030274 \nL 90.010182 149.030274 \nL 90.45988 148.542115 \nL 90.45988 148.472378 \nL 90.54982 148.472378 \nL 90.684729 148.402641 \nL 90.774668 147.775008 \nL 90.819638 147.775008 \nL 90.864608 147.565797 \nL 90.909578 147.565797 \nL 90.954548 147.49606 \nL 90.999517 147.217112 \nL 91.089457 147.217112 \nL 91.179396 146.659215 \nL 91.449215 145.822371 \nL 91.584124 145.682897 \nL 92.843278 144.636842 \nL 92.888248 144.636842 \nL 92.888248 144.567105 \nL 92.933218 144.427631 \nL 93.382916 143.730261 \nL 93.382916 143.590787 \nL 93.427885 143.590787 \nL 93.562795 143.590787 \nL 93.562795 143.451313 \nL 93.652734 143.451313 \nL 93.787644 143.381576 \nL 93.922553 143.102628 \nL 94.147402 143.032891 \nL 94.147402 142.963154 \nL 94.192372 142.963154 \nL 94.5971 142.893417 \nL 94.5971 142.82368 \nL 94.776979 142.753943 \nL 94.776979 142.684206 \nL 94.866918 142.684206 \nL 95.001828 142.684206 \nL 95.001828 142.614469 \nL 95.046797 142.474995 \nL 95.136737 142.265784 \nL 95.316616 142.056573 \nL 95.316616 141.917099 \nL 95.586435 141.707888 \nL 95.721344 141.707888 \nL 96.755649 140.103936 \nL 96.845588 140.103936 \nL 97.610075 139.406566 \nL 97.700014 138.918407 \nL 97.744984 138.918407 \nL 97.969833 138.569722 \nL 98.464501 138.081563 \nL 98.55444 137.732878 \nL 98.64438 137.732878 \nL 98.779289 137.523667 \nL 98.959168 137.314456 \nL 99.139047 136.896034 \nL 99.228987 136.896034 \nL 99.228987 136.617086 \nL 99.543775 136.198664 \nL 99.543775 136.128927 \nL 99.813594 136.128927 \nL 100.038443 135.849979 \nL 100.443171 135.640768 \nL 100.802929 134.803924 \nL 100.847899 134.803924 \nL 101.207657 134.315765 \nL 101.522445 134.246028 \nL 101.612385 134.106553 \nL 101.882204 133.618394 \nL 101.882204 133.409183 \nL 102.062083 133.339446 \nL 102.107053 133.130235 \nL 102.916509 132.363128 \nL 103.725965 131.107862 \nL 103.860874 131.107862 \nL 103.860874 131.038125 \nL 103.950813 130.898651 \nL 104.130693 130.828914 \nL 104.130693 130.759177 \nL 104.7153 129.224963 \nL 104.805239 129.224963 \nL 104.805239 129.155226 \nL 105.075058 128.667067 \nL 105.479786 128.109171 \nL 105.614695 127.760485 \nL 105.794574 127.760485 \nL 105.884514 127.342063 \nL 105.929484 127.342063 \nL 106.73894 126.296008 \nL 107.953124 125.180216 \nL 108.043063 124.901268 \nL 108.133003 124.901268 \nL 108.222942 124.761794 \nL 108.67264 124.62232 \nL 108.71761 124.343372 \nL 108.852519 124.343372 \nL 108.897489 123.92495 \nL 108.942459 123.92495 \nL 109.032398 123.715739 \nL 109.302217 123.646002 \nL 109.302217 123.576265 \nL 109.572036 123.367054 \nL 109.572036 123.297317 \nL 109.706945 123.297317 \nL 109.931794 123.157843 \nL 110.291552 123.088106 \nL 110.291552 122.599947 \nL 110.65131 122.599947 \nL 110.876159 122.251262 \nL 111.101008 122.251262 \nL 111.190948 121.623629 \nL 111.370827 121.484155 \nL 111.595676 121.34468 \nL 111.775555 120.995995 \nL 112.67495 120.926258 \nL 112.71992 120.786784 \nL 112.85483 120.786784 \nL 113.214588 120.438099 \nL 113.304527 120.438099 \nL 113.304527 120.368362 \nL 113.484406 119.94994 \nL 113.529376 119.461781 \nL 113.619316 119.322307 \nL 113.664286 119.043359 \nL 113.799195 119.043359 \nL 113.844165 118.834148 \nL 113.934104 118.834148 \nL 113.934104 118.764411 \nL 114.608651 117.85783 \nL 115.058349 117.788093 \nL 115.058349 117.718356 \nL 115.193258 117.718356 \nL 115.283198 117.299934 \nL 115.328167 117.299934 \nL 115.328167 117.16046 \nL 115.418107 117.16046 \nL 115.553016 117.16046 \nL 115.553016 117.020986 \nL 115.822835 116.881512 \nL 115.822835 116.742038 \nL 116.002714 116.672301 \nL 116.272533 116.532827 \nL 116.362472 116.393353 \nL 116.632291 116.323616 \nL 116.85714 116.253879 \nL 116.947079 115.974931 \nL 117.171928 115.905194 \nL 117.216898 115.835457 \nL 117.306838 115.486772 \nL 117.486717 115.417035 \nL 117.576656 114.998612 \nL 117.621626 114.998612 \nL 117.981384 114.370979 \nL 118.341143 114.370979 \nL 118.431082 114.161768 \nL 118.83581 114.092031 \nL 118.88078 113.603872 \nL 118.92575 113.603872 \nL 119.015689 113.603872 \nL 119.015689 113.534135 \nL 119.060659 113.464398 \nL 119.330478 113.394661 \nL 119.645266 112.976239 \nL 119.825145 112.906502 \nL 119.915085 112.557817 \nL 120.364783 112.48808 \nL 120.454722 112.209132 \nL 120.634601 112.209132 \nL 120.634601 111.860447 \nL 120.724541 111.860447 \nL 120.769511 111.860447 \nL 120.769511 111.79071 \nL 120.769511 111.651236 \nL 121.084299 111.511762 \nL 121.623936 111.442025 \nL 121.623936 111.372288 \nL 121.893755 111.302551 \nL 122.343453 111.232814 \nL 122.523332 111.023603 \nL 122.83812 110.953866 \nL 122.92806 110.605181 \nL 123.062969 110.465707 \nL 123.152909 110.256496 \nL 123.512667 110.256496 \nL 123.512667 110.186759 \nL 123.692546 109.838074 \nL 123.872425 109.559126 \nL 123.962365 109.210441 \nL 124.052304 109.210441 \nL 124.052304 109.070967 \nL 124.681881 108.722282 \nL 124.9517 108.652544 \nL 124.99667 108.51307 \nL 125.086609 108.51307 \nL 125.401398 107.955174 \nL 126.120914 107.676226 \nL 126.255824 107.606489 \nL 126.255824 107.536752 \nL 126.525642 107.257804 \nL 126.615582 106.699908 \nL 126.795461 106.630171 \nL 126.93037 106.351223 \nL 127.06528 106.072275 \nL 127.200189 106.002538 \nL 127.559947 105.863064 \nL 127.559947 105.72359 \nL 127.739826 105.653853 \nL 127.739826 105.374905 \nL 128.234494 105.235431 \nL 128.459343 105.165694 \nL 128.864071 104.747272 \nL 128.90904 104.32885 \nL 129.04395 104.32885 \nL 129.133889 103.840691 \nL 129.448678 103.770954 \nL 129.583587 103.701217 \nL 129.673527 103.282795 \nL 130.078255 103.213058 \nL 130.168194 103.003847 \nL 130.348073 103.003847 \nL 130.348073 102.93411 \nL 130.97765 101.957791 \nL 131.337408 101.609106 \nL 131.472318 101.469632 \nL 131.607227 101.399895 \nL 131.607227 101.190684 \nL 131.652197 101.190684 \nL 132.101895 100.911736 \nL 132.281774 100.423577 \nL 132.416683 100.423577 \nL 132.461653 99.935418 \nL 132.641532 99.865681 \nL 132.821411 99.65647 \nL 133.630867 99.586733 \nL 133.720807 99.307785 \nL 133.765777 99.307785 \nL 134.035595 99.028837 \nL 134.125535 99.028837 \nL 134.125535 98.819626 \nL 134.395353 98.540678 \nL 134.395353 98.401204 \nL 134.440323 98.401204 \nL 134.665172 98.331467 \nL 134.800081 98.052519 \nL 135.11487 97.913045 \nL 135.11487 97.773571 \nL 135.519598 97.773571 \nL 135.519598 97.634097 \nL 135.744447 97.56436 \nL 136.374024 97.145938 \nL 136.508933 96.86699 \nL 136.598873 96.518305 \nL 136.958631 96.448568 \nL 137.003601 96.309094 \nL 137.992936 95.472249 \nL 138.082875 95.193301 \nL 138.127845 95.193301 \nL 138.487603 94.98409 \nL 139.342029 94.914353 \nL 139.656817 94.426194 \nL 139.926636 94.356457 \nL 139.971606 94.147246 \nL 140.016576 94.147246 \nL 140.286394 94.147246 \nL 140.286394 94.077509 \nL 140.556213 93.728824 \nL 140.736092 93.659087 \nL 140.915971 93.449876 \nL 141.14082 93.380139 \nL 141.23076 93.240665 \nL 141.500578 93.170928 \nL 141.545548 93.031454 \nL 141.590518 93.031454 \nL 141.995246 92.961717 \nL 142.085186 92.752506 \nL 142.399974 92.543295 \nL 142.984581 92.473558 \nL 143.659128 92.055136 \nL 143.659128 91.985399 \nL 143.883977 91.915662 \nL 143.928946 91.636714 \nL 144.108826 91.566977 \nL 144.108826 91.49724 \nL 144.423614 91.427503 \nL 144.423614 91.148555 \nL 144.513554 91.148555 \nL 144.918282 90.869607 \nL 145.23307 90.520922 \nL 145.367979 90.451185 \nL 145.412949 90.241974 \nL 145.772707 90.241974 \nL 145.772707 90.1025 \nL 146.717073 89.265655 \nL 146.717073 89.126181 \nL 146.986891 89.056444 \nL 147.25671 88.847233 \nL 147.34665 88.498548 \nL 147.481559 88.428811 \nL 147.526529 88.2196 \nL 147.571498 88.2196 \nL 147.706408 88.080126 \nL 148.066166 87.801178 \nL 148.920592 87.313019 \nL 149.010531 86.755123 \nL 149.685078 86.685386 \nL 150.044836 86.406438 \nL 150.089806 86.266964 \nL 150.224715 86.266964 \nL 150.359625 86.057753 \nL 150.584474 85.988016 \nL 150.674413 85.778805 \nL 150.719383 85.778805 \nL 150.719383 85.709068 \nL 150.989202 85.569594 \nL 151.079141 85.360383 \nL 151.483869 85.360383 \nL 151.528839 85.011698 \nL 152.023507 84.802487 \nL 152.023507 84.663013 \nL 152.113446 84.663013 \nL 152.338295 84.453802 \nL 152.698053 84.384065 \nL 153.237691 83.895906 \nL 153.552479 83.686695 \nL 153.642419 83.616958 \nL 153.777328 83.616958 \nL 153.777328 83.407747 \nL 153.867267 83.407747 \nL 153.957207 83.198536 \nL 154.137086 83.198536 \nL 154.227026 82.989324 \nL 154.361935 82.919587 \nL 154.361935 82.780113 \nL 154.946542 82.431428 \nL 155.036482 82.15248 \nL 155.711028 82.15248 \nL 155.980847 82.013006 \nL 156.295635 81.943269 \nL 157.195031 81.106425 \nL 157.195031 80.966951 \nL 157.240001 80.966951 \nL 157.554789 80.897214 \nL 157.554789 80.827477 \nL 157.599759 80.827477 \nL 157.689699 80.75774 \nL 157.959517 80.688003 \nL 157.959517 80.618266 \nL 158.319276 80.548529 \nL 158.364245 80.409055 \nL 158.544124 80.409055 \nL 158.858913 79.990633 \nL 159.218671 79.990633 \nL 159.218671 79.711685 \nL 159.263641 79.711685 \nL 159.44352 79.711685 \nL 159.803278 79.432737 \nL 159.983157 79.363 \nL 160.028127 79.084052 \nL 160.477825 79.084052 \nL 160.522795 78.805104 \nL 160.612734 78.805104 \nL 160.837583 78.456419 \nL 161.42219 78.456419 \nL 161.51213 78.177471 \nL 161.5571 78.177471 \nL 162.051767 78.037997 \nL 162.141707 77.759049 \nL 162.501465 77.340627 \nL 162.771284 76.852468 \nL 162.816253 76.712994 \nL 162.861223 76.434045 \nL 163.131042 76.364308 \nL 163.220981 76.015623 \nL 164.255286 75.597201 \nL 164.570075 75.527464 \nL 164.570075 75.248516 \nL 164.660014 75.248516 \nL 164.704984 75.178779 \nL 165.019772 75.039305 \nL 165.154682 74.830094 \nL 165.199652 74.620883 \nL 165.55941 74.551146 \nL 165.649349 74.341935 \nL 165.694319 74.341935 \nL 165.784259 73.99325 \nL 166.144017 73.923513 \nL 166.144017 73.853776 \nL 166.593715 73.365617 \nL 166.998443 73.365617 \nL 166.998443 73.29588 \nL 167.088382 73.016932 \nL 167.358201 72.947195 \nL 167.58305 72.459036 \nL 167.852869 72.389299 \nL 167.852869 72.249825 \nL 168.122687 72.180088 \nL 168.482445 71.761666 \nL 168.887173 71.691929 \nL 168.887173 71.552455 \nL 169.291901 71.482718 \nL 169.336871 71.343244 \nL 169.696629 71.273507 \nL 169.786569 70.994559 \nL 170.056388 70.576137 \nL 170.416146 70.5064 \nL 170.685965 70.366926 \nL 170.685965 70.157714 \nL 170.820874 70.157714 \nL 170.865844 69.948503 \nL 170.910813 69.948503 \nL 170.955783 69.878766 \nL 171.225602 69.878766 \nL 171.315541 69.530081 \nL 171.63033 69.460344 \nL 171.720269 69.390607 \nL 172.574695 69.32087 \nL 172.619665 69.251133 \nL 172.754574 69.251133 \nL 172.799544 69.041922 \nL 173.204272 69.041922 \nL 173.74391 68.832711 \nL 173.788879 68.6235 \nL 173.833849 68.6235 \nL 174.823184 67.995867 \nL 175.317852 67.507708 \nL 176.082338 66.810338 \nL 176.082338 66.740601 \nL 176.487066 66.740601 \nL 176.487066 66.601127 \nL 177.65628 66.252442 \nL 178.240887 65.973494 \nL 178.285857 65.83402 \nL 178.465736 65.764283 \nL 178.510706 65.624809 \nL 179.589981 65.13665 \nL 179.81483 64.718228 \nL 180.174588 64.648491 \nL 180.264527 64.509017 \nL 180.939074 64.43928 \nL 180.939074 64.369543 \nL 180.984044 64.369543 \nL 181.163923 64.369543 \nL 181.163923 64.090595 \nL 181.253862 64.090595 \nL 181.388772 64.090595 \nL 181.523681 63.741909 \nL 181.613621 63.741909 \nL 181.613621 63.672172 \nL 182.378107 63.044539 \nL 182.423077 62.835328 \nL 182.513016 62.835328 \nL 183.232533 62.416906 \nL 183.457382 62.347169 \nL 183.457382 62.137958 \nL 183.502351 62.137958 \nL 183.77217 62.137958 \nL 183.81714 61.998484 \nL 184.176898 61.998484 \nL 185.076294 61.580062 \nL 185.166233 61.440588 \nL 185.301143 61.370851 \nL 185.301143 61.301114 \nL 185.79581 61.231377 \nL 186.065629 61.022166 \nL 186.425387 60.952429 \nL 186.470357 60.673481 \nL 186.560296 60.673481 \nL 186.560296 60.603744 \nL 187.594601 60.185322 \nL 187.90939 60.115585 \nL 187.90939 60.045848 \nL 188.763815 59.976111 \nL 188.853755 59.697163 \nL 188.898725 59.697163 \nL 188.898725 59.627426 \nL 188.943695 59.557689 \nL 189.258483 59.487952 \nL 189.303453 59.418215 \nL 189.79812 59.418215 \nL 190.112909 59.139267 \nL 190.382728 59.139267 \nL 190.382728 59.06953 \nL 190.787456 58.790582 \nL 191.012304 58.37216 \nL 191.686851 58.302423 \nL 191.686851 58.232686 \nL 191.731821 58.232686 \nL 192.451337 57.67479 \nL 192.766126 57.605053 \nL 192.766126 57.465578 \nL 192.856065 57.465578 \nL 193.620552 57.395841 \nL 193.665521 57.256367 \nL 194.340068 56.628734 \nL 194.340068 56.419523 \nL 194.474977 56.419523 \nL 194.564917 56.070838 \nL 194.654856 56.070838 \nL 195.104554 55.861627 \nL 195.824071 55.861627 \nL 195.824071 55.79189 \nL 196.318738 55.582679 \nL 196.318738 55.512942 \nL 196.408678 55.512942 \nL 196.588557 55.443205 \nL 197.218134 55.024783 \nL 197.667832 54.536624 \nL 197.98262 54.466887 \nL 197.98262 54.39715 \nL 198.02759 54.39715 \nL 198.702137 54.327413 \nL 198.926985 54.118202 \nL 199.601532 54.048465 \nL 199.646502 53.839254 \nL 199.96129 53.769517 \nL 200.05123 53.630043 \nL 200.635837 53.560306 \nL 200.635837 53.490569 \nL 201.400323 53.420832 \nL 201.400323 53.351095 \nL 201.445293 53.351095 \nL 201.535233 53.211621 \nL 202.164809 53.141884 \nL 202.254749 52.862936 \nL 202.344689 52.862936 \nL 202.929296 52.165566 \nL 203.334024 51.956355 \nL 203.648812 51.886618 \nL 203.783721 51.747144 \nL 204.14348 51.747144 \nL 204.188449 51.468196 \nL 204.233419 51.468196 \nL 204.593177 51.398459 \nL 204.593177 51.258985 \nL 204.638147 51.258985 \nL 204.773057 51.258985 \nL 205.087845 50.980036 \nL 205.312694 50.910299 \nL 205.312694 50.840562 \nL 205.627482 50.840562 \nL 205.627482 50.770825 \nL 206.526878 50.073455 \nL 206.976576 50.003718 \nL 206.976576 49.933981 \nL 207.651122 49.864244 \nL 207.741062 49.585296 \nL 208.505548 49.515559 \nL 208.505548 49.445822 \nL 209.135125 49.376085 \nL 209.899611 48.887926 \nL 210.25937 48.818189 \nL 210.574158 48.469504 \nL 210.574158 48.399767 \nL 210.978886 48.33003 \nL 211.968221 47.911608 \nL 212.23804 47.841871 \nL 212.23804 47.772134 \nL 212.552828 47.702397 \nL 212.552828 47.562923 \nL 212.642768 47.562923 \nL 213.002526 47.423449 \nL 213.272345 47.423449 \nL 213.362284 47.283975 \nL 213.767012 47.214238 \nL 213.856952 47.074764 \nL 214.036831 47.005027 \nL 214.801317 46.93529 \nL 214.801317 46.726079 \nL 214.891257 46.726079 \nL 216.420229 46.447131 \nL 216.510169 46.307657 \nL 216.600108 46.307657 \nL 216.600108 46.168183 \nL 216.690048 46.168183 \nL 217.049806 46.098446 \nL 217.139746 45.958972 \nL 217.274655 45.958972 \nL 217.274655 45.889235 \nL 217.454534 45.749761 \nL 217.634413 45.680024 \nL 217.814292 45.401076 \nL 218.533809 45.331339 \nL 218.668718 45.191865 \nL 218.893567 45.191865 \nL 218.893567 45.122128 \nL 219.792963 44.982654 \nL 219.972842 44.703706 \nL 220.24266 44.703706 \nL 220.24266 44.633968 \nL 220.557449 44.424757 \nL 220.917207 44.145809 \nL 221.321935 44.076072 \nL 222.131391 43.866861 \nL 222.626059 43.587913 \nL 223.435515 43.518176 \nL 223.435515 43.448439 \nL 223.525454 43.448439 \nL 224.020122 43.378702 \nL 224.110061 43.239228 \nL 224.28994 43.239228 \nL 224.37988 43.099754 \nL 225.504124 43.030017 \nL 226.35855 42.611595 \nL 226.853218 42.541858 \nL 226.943157 42.26291 \nL 228.157341 42.193173 \nL 228.157341 42.123436 \nL 228.876858 42.053699 \nL 229.011767 41.983962 \nL 229.056737 41.983962 \nL 229.056737 41.914225 \nL 229.461465 41.56554 \nL 230.046072 41.495803 \nL 230.091042 41.356329 \nL 230.136012 41.356329 \nL 230.40583 41.077381 \nL 230.585709 41.077381 \nL 230.585709 41.007644 \nL 231.979772 40.658959 \nL 231.979772 40.449748 \nL 232.069712 40.449748 \nL 232.294561 40.449748 \nL 232.42947 40.240537 \nL 233.014077 40.240537 \nL 233.643654 40.031326 \nL 234.273231 39.961589 \nL 234.273231 39.891852 \nL 235.712264 39.822115 \nL 235.847173 39.752378 \nL 235.892143 39.752378 \nL 235.892143 39.612904 \nL 235.982083 39.612904 \nL 236.61166 39.612904 \nL 236.701599 39.403693 \nL 236.746569 39.403693 \nL 236.746569 39.264219 \nL 237.870813 39.194482 \nL 239.399786 38.77606 \nL 239.579665 38.636586 \nL 240.029363 38.566849 \nL 240.119302 38.427375 \nL 240.61397 38.427375 \nL 241.063668 38.148426 \nL 241.063668 38.008952 \nL 241.153607 38.008952 \nL 241.603305 37.939215 \nL 241.603305 37.799741 \nL 241.648275 37.799741 \nL 242.008033 37.730004 \nL 242.68258 37.660267 \nL 242.817489 37.59053 \nL 243.581975 37.59053 \nL 243.626945 37.381319 \nL 244.076643 37.311582 \nL 244.076643 37.241845 \nL 244.121613 37.241845 \nL 244.841129 37.172108 \nL 244.931069 37.032634 \nL 245.290827 36.962897 \nL 245.380766 36.89316 \nL 246.280162 36.823423 \nL 246.325132 36.683949 \nL 246.68489 36.614212 \nL 247.179558 36.544475 \nL 247.179558 36.474738 \nL 247.314467 36.474738 \nL 247.314467 36.405001 \nL 247.539316 36.19579 \nL 248.66356 36.126053 \nL 248.79847 36.056316 \nL 249.787805 35.986579 \nL 249.832775 35.916842 \nL 250.012654 35.777368 \nL 250.282472 35.49842 \nL 251.136898 35.428683 \nL 251.226838 35.358946 \nL 251.676535 35.289209 \nL 251.676535 35.219472 \nL 251.766475 35.219472 \nL 252.485991 35.149735 \nL 253.250478 35.079998 \nL 254.464662 35.010261 \nL 254.509631 34.870787 \nL 255.274118 34.80105 \nL 255.364057 34.661576 \nL 256.578241 34.591839 \nL 256.713151 34.522102 \nL 259.051579 34.522102 \nL 259.051579 34.382628 \nL 259.096549 34.382628 \nL 259.321398 34.382628 \nL 259.321398 34.243154 \nL 259.366368 34.243154 \nL 259.591216 34.173417 \nL 259.591216 34.10368 \nL 260.040914 34.10368 \nL 260.040914 34.033943 \nL 260.310733 33.964206 \nL 261.030249 33.894469 \nL 261.030249 33.824732 \nL 262.334373 33.754995 \nL 262.514252 33.615521 \nL 263.413648 33.545784 \nL 263.413648 33.476047 \nL 264.268073 33.40631 \nL 264.268073 33.336573 \nL 264.447952 33.336573 \nL 264.447952 33.266836 \nL 264.582862 33.127362 \nL 265.167469 33.057625 \nL 265.527227 32.848414 \nL 266.066865 32.778677 \nL 266.246744 32.639203 \nL 268.630142 32.569466 \nL 268.630142 32.499729 \nL 268.675112 32.499729 \nL 268.94493 32.429992 \nL 269.439598 32.290518 \nL 270.473903 31.941833 \nL 270.698752 31.941833 \nL 270.698752 31.872095 \nL 270.788691 31.732621 \nL 271.10348 31.662884 \nL 271.328329 31.593147 \nL 271.733057 31.52341 \nL 271.957905 31.244462 \nL 272.227724 31.174725 \nL 272.227724 31.104988 \nL 272.542513 31.035251 \nL 273.12712 30.965514 \nL 273.262029 30.82604 \nL 273.576817 30.756303 \nL 273.711727 30.616829 \nL 274.880941 30.547092 \nL 275.375609 30.407618 \nL 277.03949 30.337881 \nL 277.354279 30.268144 \nL 278.523493 30.198407 \nL 278.793312 29.989196 \nL 278.793312 29.919459 \nL 278.883251 29.919459 \nL 279.06313 29.849722 \nL 279.06313 29.779985 \nL 279.1081 29.779985 \nL 279.827617 29.710248 \nL 279.827617 29.570774 \nL 280.232345 29.501037 \nL 280.232345 29.4313 \nL 280.277314 29.4313 \nL 281.311619 29.361563 \nL 281.671378 29.291826 \nL 283.695018 29.222089 \nL 283.739987 29.152352 \nL 286.033446 29.082615 \nL 286.033446 29.012878 \nL 286.932842 28.943141 \nL 286.932842 28.873404 \nL 286.977811 28.873404 \nL 287.157691 28.803667 \nL 287.157691 28.73393 \nL 288.371875 28.664193 \nL 289.496119 28.315508 \nL 290.440484 28.315508 \nL 290.440484 28.176034 \nL 290.485454 28.176034 \nL 291.070061 28.106297 \nL 291.38485 28.03656 \nL 292.778913 27.966823 \nL 292.778913 27.897086 \nL 292.868852 27.897086 \nL 294.532734 27.827349 \nL 294.622674 27.687875 \nL 295.027402 27.618138 \nL 297.006072 27.548401 \nL 297.006072 27.478664 \nL 297.096012 27.478664 \nL 297.590679 27.408927 \nL 297.590679 27.33919 \nL 298.939772 27.269453 \nL 298.939772 27.199716 \nL 299.119652 27.199716 \nL 299.209591 26.990505 \nL 301.278201 26.920768 \nL 301.278201 26.851031 \nL 301.368141 26.851031 \nL 301.592989 26.851031 \nL 301.592989 26.781294 \nL 301.637959 26.711557 \nL 302.312506 26.572083 \nL 303.032022 26.432609 \nL 304.875783 26.362872 \nL 304.920753 26.293135 \nL 306.809484 26.293135 \nL 307.124272 26.014187 \nL 307.843789 25.874713 \nL 312.070948 25.386553 \nL 313.824769 25.316816 \nL 313.824769 25.247079 \nL 313.914709 25.247079 \nL 315.398711 25.177342 \nL 316.388047 25.037868 \nL 318.006959 24.968131 \nL 318.006959 24.898394 \nL 318.051928 24.898394 \nL 318.141868 24.898394 \nL 318.141868 24.828657 \nL 318.231807 24.689183 \nL 319.71581 24.619446 \nL 320.075568 24.549709 \nL 322.099208 24.479972 \nL 322.099208 24.410235 \nL 322.593876 24.131287 \nL 330.193768 24.06155 \nL 330.193768 23.991813 \nL 330.733406 23.922076 \nL 331.632801 23.643128 \nL 333.251713 23.573391 \nL 333.296683 23.503654 \nL 334.151109 23.433917 \nL 334.151109 23.36418 \nL 335.320323 23.294443 \nL 335.320323 23.224706 \nL 335.410263 23.224706 \nL 338.243359 23.154969 \nL 338.468208 23.085232 \nL 346.02313 23.015495 \nL 346.02313 22.945758 \nL 353.218295 22.876021 \nL 353.667993 22.806284 \nL 361.357825 22.736547 \nL 361.357825 22.66681 \nL 370.801478 22.597073 \nL 370.801478 22.527336 \nL 376.017973 22.457599 \nL 376.197852 22.387862 \nL 378.58125 22.318125 \nL 378.58125 22.318125 \n\" style=\"fill:none;stroke:#1f77b4;stroke-linecap:square;stroke-width:1.5;\"/>\n   </g>\n   <g id=\"patch_3\">\n    <path d=\"M 43.78125 239.758125 \nL 43.78125 22.318125 \n\" style=\"fill:none;stroke:#000000;stroke-linecap:square;stroke-linejoin:miter;stroke-width:0.8;\"/>\n   </g>\n   <g id=\"patch_4\">\n    <path d=\"M 378.58125 239.758125 \nL 378.58125 22.318125 \n\" style=\"fill:none;stroke:#000000;stroke-linecap:square;stroke-linejoin:miter;stroke-width:0.8;\"/>\n   </g>\n   <g id=\"patch_5\">\n    <path d=\"M 43.78125 239.758125 \nL 378.58125 239.758125 \n\" style=\"fill:none;stroke:#000000;stroke-linecap:square;stroke-linejoin:miter;stroke-width:0.8;\"/>\n   </g>\n   <g id=\"patch_6\">\n    <path d=\"M 43.78125 22.318125 \nL 378.58125 22.318125 \n\" style=\"fill:none;stroke:#000000;stroke-linecap:square;stroke-linejoin:miter;stroke-width:0.8;\"/>\n   </g>\n   <g id=\"text_15\">\n    <!-- ROC curve for SLAFail classifier -->\n    <defs>\n     <path d=\"M 39.40625 66.21875 \nQ 28.65625 66.21875 22.328125 58.203125 \nQ 16.015625 50.203125 16.015625 36.375 \nQ 16.015625 22.609375 22.328125 14.59375 \nQ 28.65625 6.59375 39.40625 6.59375 \nQ 50.140625 6.59375 56.421875 14.59375 \nQ 62.703125 22.609375 62.703125 36.375 \nQ 62.703125 50.203125 56.421875 58.203125 \nQ 50.140625 66.21875 39.40625 66.21875 \nz\nM 39.40625 74.21875 \nQ 54.734375 74.21875 63.90625 63.9375 \nQ 73.09375 53.65625 73.09375 36.375 \nQ 73.09375 19.140625 63.90625 8.859375 \nQ 54.734375 -1.421875 39.40625 -1.421875 \nQ 24.03125 -1.421875 14.8125 8.828125 \nQ 5.609375 19.09375 5.609375 36.375 \nQ 5.609375 53.65625 14.8125 63.9375 \nQ 24.03125 74.21875 39.40625 74.21875 \nz\n\" id=\"DejaVuSans-79\"/>\n     <path d=\"M 64.40625 67.28125 \nL 64.40625 56.890625 \nQ 59.421875 61.53125 53.78125 63.8125 \nQ 48.140625 66.109375 41.796875 66.109375 \nQ 29.296875 66.109375 22.65625 58.46875 \nQ 16.015625 50.828125 16.015625 36.375 \nQ 16.015625 21.96875 22.65625 14.328125 \nQ 29.296875 6.6875 41.796875 6.6875 \nQ 48.140625 6.6875 53.78125 8.984375 \nQ 59.421875 11.28125 64.40625 15.921875 \nL 64.40625 5.609375 \nQ 59.234375 2.09375 53.4375 0.328125 \nQ 47.65625 -1.421875 41.21875 -1.421875 \nQ 24.65625 -1.421875 15.125 8.703125 \nQ 5.609375 18.84375 5.609375 36.375 \nQ 5.609375 53.953125 15.125 64.078125 \nQ 24.65625 74.21875 41.21875 74.21875 \nQ 47.75 74.21875 53.53125 72.484375 \nQ 59.328125 70.75 64.40625 67.28125 \nz\n\" id=\"DejaVuSans-67\"/>\n     <path d=\"M 9.8125 72.90625 \nL 19.671875 72.90625 \nL 19.671875 8.296875 \nL 55.171875 8.296875 \nL 55.171875 0 \nL 9.8125 0 \nz\n\" id=\"DejaVuSans-76\"/>\n     <path d=\"M 34.1875 63.1875 \nL 20.796875 26.90625 \nL 47.609375 26.90625 \nz\nM 28.609375 72.90625 \nL 39.796875 72.90625 \nL 67.578125 0 \nL 57.328125 0 \nL 50.6875 18.703125 \nL 17.828125 18.703125 \nL 11.1875 0 \nL 0.78125 0 \nz\n\" id=\"DejaVuSans-65\"/>\n    </defs>\n    <g transform=\"translate(117.200625 16.318125)scale(0.12 -0.12)\">\n     <use xlink:href=\"#DejaVuSans-82\"/>\n     <use x=\"69.482422\" xlink:href=\"#DejaVuSans-79\"/>\n     <use x=\"148.193359\" xlink:href=\"#DejaVuSans-67\"/>\n     <use x=\"218.017578\" xlink:href=\"#DejaVuSans-32\"/>\n     <use x=\"249.804688\" xlink:href=\"#DejaVuSans-99\"/>\n     <use x=\"304.785156\" xlink:href=\"#DejaVuSans-117\"/>\n     <use x=\"368.164062\" xlink:href=\"#DejaVuSans-114\"/>\n     <use x=\"409.277344\" xlink:href=\"#DejaVuSans-118\"/>\n     <use x=\"468.457031\" xlink:href=\"#DejaVuSans-101\"/>\n     <use x=\"529.980469\" xlink:href=\"#DejaVuSans-32\"/>\n     <use x=\"561.767578\" xlink:href=\"#DejaVuSans-102\"/>\n     <use x=\"596.972656\" xlink:href=\"#DejaVuSans-111\"/>\n     <use x=\"658.154297\" xlink:href=\"#DejaVuSans-114\"/>\n     <use x=\"699.267578\" xlink:href=\"#DejaVuSans-32\"/>\n     <use x=\"731.054688\" xlink:href=\"#DejaVuSans-83\"/>\n     <use x=\"794.53125\" xlink:href=\"#DejaVuSans-76\"/>\n     <use x=\"850.275391\" xlink:href=\"#DejaVuSans-65\"/>\n     <use x=\"918.683594\" xlink:href=\"#DejaVuSans-70\"/>\n     <use x=\"976.0625\" xlink:href=\"#DejaVuSans-97\"/>\n     <use x=\"1037.341797\" xlink:href=\"#DejaVuSans-105\"/>\n     <use x=\"1065.125\" xlink:href=\"#DejaVuSans-108\"/>\n     <use x=\"1092.908203\" xlink:href=\"#DejaVuSans-32\"/>\n     <use x=\"1124.695312\" xlink:href=\"#DejaVuSans-99\"/>\n     <use x=\"1179.675781\" xlink:href=\"#DejaVuSans-108\"/>\n     <use x=\"1207.458984\" xlink:href=\"#DejaVuSans-97\"/>\n     <use x=\"1268.738281\" xlink:href=\"#DejaVuSans-115\"/>\n     <use x=\"1320.837891\" xlink:href=\"#DejaVuSans-115\"/>\n     <use x=\"1372.9375\" xlink:href=\"#DejaVuSans-105\"/>\n     <use x=\"1400.720703\" xlink:href=\"#DejaVuSans-102\"/>\n     <use x=\"1435.925781\" xlink:href=\"#DejaVuSans-105\"/>\n     <use x=\"1463.708984\" xlink:href=\"#DejaVuSans-101\"/>\n     <use x=\"1525.232422\" xlink:href=\"#DejaVuSans-114\"/>\n    </g>\n   </g>\n  </g>\n </g>\n <defs>\n  <clipPath id=\"p25aacb9f00\">\n   <rect height=\"217.44\" width=\"334.8\" x=\"43.78125\" y=\"22.318125\"/>\n  </clipPath>\n </defs>\n</svg>\n",
      "text/plain": "<Figure size 432x288 with 1 Axes>"
     },
     "metadata": {
      "needs_background": "light"
     },
     "output_type": "display_data"
    }
   ],
   "source": [
    "plt.plot(fpr, tpr)\n",
    "plt.xlim([0.0, 1.0])\n",
    "plt.ylim([0.0, 1.0])\n",
    "plt.title('ROC curve for SLAFail classifier')\n",
    "plt.xlabel('False Positive Rate (1 - Specificity)')\n",
    "plt.ylabel('True Positive Rate (Sensitivity)')\n",
    "plt.grid(True)"
   ]
  },
  {
   "cell_type": "markdown",
   "metadata": {},
   "source": [
    "## Save Details and Performance Measures for Comparison to other Models\n"
   ]
  },
  {
   "cell_type": "code",
   "execution_count": 64,
   "metadata": {},
   "outputs": [
    {
     "data": {
      "text/plain": "{'column_trans': ColumnTransformer(n_jobs=None, remainder='passthrough', sparse_threshold=0.3,\n                   transformer_weights=None,\n                   transformers=[('woeencoder',\n                                  WOEEncoder(cols=None, drop_invariant=False,\n                                             handle_missing='value',\n                                             handle_unknown='value',\n                                             random_state=None, randomized=False,\n                                             regularization=1.0, return_df=True,\n                                             sigma=0.05, verbose=0),\n                                  Index(['Service_Component_WBS_aff', 'Urgency', 'KM_number',\n        'Open_Time_HourOfDay', 'CI_TypeSubType_aff'],\n       dtype='object')),\n                                 ('standardscaler',\n                                  StandardScaler(copy=True, with_mean=True,\n                                                 with_std=True),\n                                  Index(['Count_Related_Interactions', 'Count_Related_Incidents',\n        'Count_Related_Changes'],\n       dtype='object'))],\n                   verbose=False),\n 'classifier': LogisticRegression(C=1.0, class_weight=None, dual=False, fit_intercept=True,\n                    intercept_scaling=1, l1_ratio=None, max_iter=100,\n                    multi_class='auto', n_jobs=None, penalty='l2',\n                    random_state=None, solver='lbfgs', tol=0.0001, verbose=0,\n                    warm_start=False)}"
     },
     "execution_count": 64,
     "metadata": {},
     "output_type": "execute_result"
    }
   ],
   "source": [
    "pipe.named_steps"
   ]
  },
  {
   "cell_type": "code",
   "execution_count": 67,
   "metadata": {},
   "outputs": [
    {
     "data": {
      "text/plain": "{'Name': 'Optimize Round 5: Only Seven Vars',\n 'Column Transforms': [('woeencoder',\n   WOEEncoder(cols=None, drop_invariant=False, handle_missing='value',\n              handle_unknown='value', random_state=None, randomized=False,\n              regularization=1.0, return_df=True, sigma=0.05, verbose=0),\n   Index(['Service_Component_WBS_aff', 'Urgency', 'KM_number',\n          'Open_Time_HourOfDay', 'CI_TypeSubType_aff'],\n         dtype='object')),\n  ('standardscaler',\n   StandardScaler(copy=True, with_mean=True, with_std=True),\n   Index(['Count_Related_Interactions', 'Count_Related_Incidents',\n          'Count_Related_Changes'],\n         dtype='object'))],\n 'Classifier': LogisticRegression(C=1.0, class_weight=None, dual=False, fit_intercept=True,\n                    intercept_scaling=1, l1_ratio=None, max_iter=100,\n                    multi_class='auto', n_jobs=None, penalty='l2',\n                    random_state=None, solver='lbfgs', tol=0.0001, verbose=0,\n                    warm_start=False)}"
     },
     "execution_count": 67,
     "metadata": {},
     "output_type": "execute_result"
    }
   ],
   "source": [
    "PipeLineMetadata['Column Transforms'] = pipe.named_steps.column_trans.transformers\n",
    "PipeLineMetadata['Classifier'] = pipe.named_steps.classifier\n",
    "PipeLineMetadata"
   ]
  },
  {
   "cell_type": "code",
   "execution_count": 68,
   "metadata": {},
   "outputs": [],
   "source": [
    "PipeLineMetadata['Classifier - Intercept'] = pipe.named_steps.classifier.intercept_[0]\n",
    "PipeLineMetadata['Classifier - Coefficients'] = pipe.named_steps.classifier.coef_[0]"
   ]
  },
  {
   "cell_type": "code",
   "execution_count": 69,
   "metadata": {},
   "outputs": [
    {
     "data": {
      "text/plain": "{'Name': 'Optimize Round 5: Only Seven Vars',\n 'Column Transforms': [('woeencoder',\n   WOEEncoder(cols=None, drop_invariant=False, handle_missing='value',\n              handle_unknown='value', random_state=None, randomized=False,\n              regularization=1.0, return_df=True, sigma=0.05, verbose=0),\n   Index(['Service_Component_WBS_aff', 'Urgency', 'KM_number',\n          'Open_Time_HourOfDay', 'CI_TypeSubType_aff'],\n         dtype='object')),\n  ('standardscaler',\n   StandardScaler(copy=True, with_mean=True, with_std=True),\n   Index(['Count_Related_Interactions', 'Count_Related_Incidents',\n          'Count_Related_Changes'],\n         dtype='object'))],\n 'Classifier': LogisticRegression(C=1.0, class_weight=None, dual=False, fit_intercept=True,\n                    intercept_scaling=1, l1_ratio=None, max_iter=100,\n                    multi_class='auto', n_jobs=None, penalty='l2',\n                    random_state=None, solver='lbfgs', tol=0.0001, verbose=0,\n                    warm_start=False),\n 'Classifier - Intercept': -0.9421108335251702,\n 'Classifier - Coefficients': array([ 9.77881839e-02,  1.12794108e-01,  1.10162204e+00,  1.15606132e+00,\n         2.23528529e-02,  1.73844672e-01, -2.88016502e-02, -1.09145629e-03])}"
     },
     "execution_count": 69,
     "metadata": {},
     "output_type": "execute_result"
    }
   ],
   "source": [
    "PipeLineMetadata"
   ]
  },
  {
   "cell_type": "markdown",
   "metadata": {},
   "source": [
    "Capture a few classification metrics:\n",
    "* Classification Accuracy: Overall, how often is the classifier correct?\n",
    "* Classification Error: Overall, how often is the classifier incorrect?\n",
    "* True Positive Rate  (Recall, Sensitivity): When the actual value is positive, how often is the prediction correct?\n",
    "* True Negative Rate (Specificity): When the actual value is negative, how often is the prediction correct?\n",
    "* False Positive Rate: When the actual value is negative, how often is the prediction incorrect?\n",
    "* Precision: When a positive value is predicted, how often is the prediction correct?\n"
   ]
  },
  {
   "cell_type": "code",
   "execution_count": 70,
   "metadata": {},
   "outputs": [],
   "source": [
    "PipeLineMetadata['Metrics - Classification Report'] = metrics.classification_report(y_test, y_pred_class)\n",
    "PipeLineMetadata['Metrics - Confusion Matrix'] =metrics.confusion_matrix(y_test, y_pred_class)\n",
    "PipeLineMetadata['Metrics - Confusion Matrix Classification Accuracy'] = metrics.accuracy_score(y_test,y_pred_class) \n",
    "PipeLineMetadata['Metrics - Confusion Matrix Classification Error'] = 1- metrics.accuracy_score(y_test,y_pred_class)\n",
    "PipeLineMetadata['Metrics - Confusion Matrix True Positive Rate'] = metrics.recall_score(y_test, y_pred_class) \n",
    "PipeLineMetadata['Metrics - Confusion Matrix True Negative Rate'] =  TN / float(TN + FP)\n",
    "PipeLineMetadata['Metrics - Confusion Matrix False Positive Rate'] =  FP / float(TN + FP)\n",
    "PipeLineMetadata['Metrics - Confusion Matrix Precision'] = metrics.precision_score(y_test,y_pred_class)\n"
   ]
  },
  {
   "cell_type": "code",
   "execution_count": 71,
   "metadata": {},
   "outputs": [],
   "source": [
    "PipeLineMetadata['Metrics - AUC'] = metrics.roc_auc_score(y_test, y_pred_prob)"
   ]
  },
  {
   "cell_type": "code",
   "execution_count": 72,
   "metadata": {},
   "outputs": [],
   "source": [
    "PipeLineMetadata['Metrics - ROC Curve fpr array'] = fpr\n",
    "PipeLineMetadata['Metrics - ROC Curve tpr array'] = tpr"
   ]
  },
  {
   "cell_type": "code",
   "execution_count": 73,
   "metadata": {},
   "outputs": [
    {
     "data": {
      "text/plain": "{'Name': 'Optimize Round 5: Only Seven Vars',\n 'Column Transforms': [('woeencoder',\n   WOEEncoder(cols=None, drop_invariant=False, handle_missing='value',\n              handle_unknown='value', random_state=None, randomized=False,\n              regularization=1.0, return_df=True, sigma=0.05, verbose=0),\n   Index(['Service_Component_WBS_aff', 'Urgency', 'KM_number',\n          'Open_Time_HourOfDay', 'CI_TypeSubType_aff'],\n         dtype='object')),\n  ('standardscaler',\n   StandardScaler(copy=True, with_mean=True, with_std=True),\n   Index(['Count_Related_Interactions', 'Count_Related_Incidents',\n          'Count_Related_Changes'],\n         dtype='object'))],\n 'Classifier': LogisticRegression(C=1.0, class_weight=None, dual=False, fit_intercept=True,\n                    intercept_scaling=1, l1_ratio=None, max_iter=100,\n                    multi_class='auto', n_jobs=None, penalty='l2',\n                    random_state=None, solver='lbfgs', tol=0.0001, verbose=0,\n                    warm_start=False),\n 'Classifier - Intercept': -0.9421108335251702,\n 'Classifier - Coefficients': array([ 9.77881839e-02,  1.12794108e-01,  1.10162204e+00,  1.15606132e+00,\n         2.23528529e-02,  1.73844672e-01, -2.88016502e-02, -1.09145629e-03]),\n 'Metrics - Classification Report': '              precision    recall  f1-score   support\\n\\n           0       0.77      0.88      0.82      7445\\n           1       0.57      0.37      0.45      3118\\n\\n    accuracy                           0.73     10563\\n   macro avg       0.67      0.63      0.64     10563\\nweighted avg       0.71      0.73      0.71     10563\\n',\n 'Metrics - Confusion Matrix': array([[6572,  873],\n        [1960, 1158]]),\n 'Metrics - Confusion Matrix Classification Accuracy': 0.7317996781217457,\n 'Metrics - Confusion Matrix Classification Error': 0.26820032187825427,\n 'Metrics - Confusion Matrix True Positive Rate': 0.3713919178960872,\n 'Metrics - Confusion Matrix True Negative Rate': 0.8827400940228342,\n 'Metrics - Confusion Matrix False Positive Rate': 0.11725990597716589,\n 'Metrics - Confusion Matrix Precision': 0.5701624815361891,\n 'Metrics - AUC': 0.766148419605652,\n 'Metrics - ROC Curve fpr array': array([0.00000000e+00, 0.00000000e+00, 4.02955003e-04, ...,\n        9.98791135e-01, 9.99597045e-01, 1.00000000e+00]),\n 'Metrics - ROC Curve tpr array': array([0.00000000e+00, 3.20718409e-04, 3.20718409e-04, ...,\n        1.00000000e+00, 1.00000000e+00, 1.00000000e+00])}"
     },
     "execution_count": 73,
     "metadata": {},
     "output_type": "execute_result"
    }
   ],
   "source": [
    "PipeLineMetadata"
   ]
  },
  {
   "cell_type": "code",
   "execution_count": 74,
   "metadata": {},
   "outputs": [],
   "source": [
    "with open(outFileName,'wb') as fo:\n",
    "    pickle.dump(PipeLineMetadata, fo)"
   ]
  },
  {
   "cell_type": "code",
   "execution_count": null,
   "metadata": {},
   "outputs": [],
   "source": []
  }
 ]
}