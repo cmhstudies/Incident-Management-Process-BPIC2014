{
 "nbformat": 4,
 "nbformat_minor": 2,
 "metadata": {
  "language_info": {
   "name": "python",
   "codemirror_mode": {
    "name": "ipython",
    "version": 3
   },
   "version": "3.7.6-final"
  },
  "orig_nbformat": 2,
  "file_extension": ".py",
  "mimetype": "text/x-python",
  "name": "python",
  "npconvert_exporter": "python",
  "pygments_lexer": "ipython3",
  "version": 3,
  "kernelspec": {
   "name": "python3",
   "display_name": "Python 3"
  }
 },
 "cells": [
  {
   "cell_type": "markdown",
   "metadata": {},
   "source": [
    "# 05.01.d Bare Bones Analysis Using a Helmert Encoder\n",
    "\n",
    "Goal: identify the factors that most contribute to SLAFail\n",
    "\n",
    "Tuning Adjustments: Focus on finding the most predictive set of predictor variables\n",
    "\n",
    "\n",
    "Read Prepared Data  ->  Split Data  -> Develop Pipeline  ->  Evaluate  \n",
    "\n",
    "Split Data using sklearn.model_selection.train_test_split\n",
    "\n",
    "Pipeline includes:\n",
    "\n",
    "- Preprocessing variables\n",
    "    - sklearn.compose.make_column_transformer \n",
    "        - Scale numeric variables: sklearn.preprocessing.StandardScaler\n",
    "        - Encode categorical variables: category_encoders.HelmertEncoder\n",
    "- Selecting features\n",
    "    - None\n",
    "- Instantiate model\n",
    "    - sklearn.linear_model.LogisticRegression\n",
    "- Fit the model using training data\n",
    "- Cross-validate the model with training data\n",
    "    - sklearn.model_selection.cross_val_score\n",
    "- Output performance measures\n",
    "\n",
    "Evaluate involves running the pipeline with the testing data and capturing metrics\n",
    "\n",
    "\n",
    "\n"
   ]
  },
  {
   "cell_type": "code",
   "execution_count": 1,
   "metadata": {},
   "outputs": [],
   "source": [
    "# Load libraries\n",
    "import pandas as pd\n",
    "import numpy as np\n",
    "import pickle\n",
    "\n",
    "# allow plots to appear in the notebook\n",
    "%matplotlib inline\n",
    "import matplotlib.pyplot as plt\n",
    "\n",
    "from sklearn.model_selection import train_test_split\n",
    "\n",
    "from sklearn.compose import make_column_transformer\n",
    "import category_encoders as ce\n",
    "from sklearn.preprocessing import StandardScaler\n",
    "\n",
    "from sklearn.linear_model import LogisticRegression\n",
    "\n",
    "from sklearn.pipeline import make_pipeline\n",
    "\n",
    "from sklearn.model_selection import cross_val_score\n",
    "\n",
    "from sklearn import metrics"
   ]
  },
  {
   "cell_type": "markdown",
   "metadata": {},
   "source": [
    "## Read Prepared Data"
   ]
  },
  {
   "cell_type": "code",
   "execution_count": 2,
   "metadata": {},
   "outputs": [
    {
     "name": "stdout",
     "output_type": "stream",
     "text": "df.shape: (35208, 10)\ndf.columns: Index(['Service_Component_WBS_aff', 'Urgency', 'KM_number',\n       'Count_Related_Interactions', 'Count_Related_Incidents',\n       'Count_Related_Changes', 'SLAFail', 'Open_Time_HourOfDay',\n       'Open_Time_DayOfWeek', 'CI_TypeSubType_aff'],\n      dtype='object')\ndf.dtypes: \nService_Component_WBS_aff      object\nUrgency                        object\nKM_number                      object\nCount_Related_Interactions    float64\nCount_Related_Incidents       float64\nCount_Related_Changes         float64\nSLAFail                         int64\nOpen_Time_HourOfDay             int64\nOpen_Time_DayOfWeek            object\nCI_TypeSubType_aff             object\ndtype: object\n"
    }
   ],
   "source": [
    "df = pd.read_csv(\"data/05.00 Incident Data.csv\")\n",
    "print(\"df.shape: \" + str(df.shape))\n",
    "print(\"df.columns: \" + str(df.columns))\n",
    "print(\"df.dtypes: \\n\" + str(df.dtypes))"
   ]
  },
  {
   "cell_type": "markdown",
   "metadata": {},
   "source": [
    "#### Set X and y"
   ]
  },
  {
   "cell_type": "code",
   "execution_count": 3,
   "metadata": {},
   "outputs": [
    {
     "data": {
      "text/plain": "(35208,)"
     },
     "execution_count": 3,
     "metadata": {},
     "output_type": "execute_result"
    }
   ],
   "source": [
    "y = df.SLAFail\n",
    "y.shape"
   ]
  },
  {
   "cell_type": "code",
   "execution_count": 4,
   "metadata": {},
   "outputs": [
    {
     "data": {
      "text/plain": "(35208, 9)"
     },
     "execution_count": 4,
     "metadata": {},
     "output_type": "execute_result"
    }
   ],
   "source": [
    "X = df.drop(['SLAFail'], axis='columns')\n",
    "X.shape"
   ]
  },
  {
   "cell_type": "markdown",
   "metadata": {},
   "source": [
    "Set `Open_Time_HourOfDay` for recognition as a Categorical variable"
   ]
  },
  {
   "cell_type": "code",
   "execution_count": 5,
   "metadata": {},
   "outputs": [
    {
     "data": {
      "text/plain": "Service_Component_WBS_aff      object\nUrgency                        object\nKM_number                      object\nCount_Related_Interactions    float64\nCount_Related_Incidents       float64\nCount_Related_Changes         float64\nOpen_Time_HourOfDay            object\nOpen_Time_DayOfWeek            object\nCI_TypeSubType_aff             object\ndtype: object"
     },
     "execution_count": 5,
     "metadata": {},
     "output_type": "execute_result"
    }
   ],
   "source": [
    "X.Open_Time_HourOfDay = X.Open_Time_HourOfDay.astype('object')\n",
    "X.dtypes"
   ]
  },
  {
   "cell_type": "markdown",
   "metadata": {},
   "source": [
    "Create a list of numeric variable column names"
   ]
  },
  {
   "cell_type": "code",
   "execution_count": 6,
   "metadata": {},
   "outputs": [
    {
     "data": {
      "text/plain": "Index(['Count_Related_Interactions', 'Count_Related_Incidents',\n       'Count_Related_Changes'],\n      dtype='object')"
     },
     "execution_count": 6,
     "metadata": {},
     "output_type": "execute_result"
    }
   ],
   "source": [
    "numericVars = X.select_dtypes(include=['float64']).columns\n",
    "numericVars"
   ]
  },
  {
   "cell_type": "markdown",
   "metadata": {},
   "source": [
    "Create a list of categorical variables"
   ]
  },
  {
   "cell_type": "code",
   "execution_count": 7,
   "metadata": {},
   "outputs": [
    {
     "data": {
      "text/plain": "Index(['Service_Component_WBS_aff', 'Urgency', 'KM_number',\n       'Open_Time_HourOfDay', 'Open_Time_DayOfWeek', 'CI_TypeSubType_aff'],\n      dtype='object')"
     },
     "execution_count": 7,
     "metadata": {},
     "output_type": "execute_result"
    }
   ],
   "source": [
    "categoricalVars = X.select_dtypes(include=['object']).columns\n",
    "categoricalVars"
   ]
  },
  {
   "cell_type": "markdown",
   "metadata": {},
   "source": [
    "## Split Data\n",
    "\n",
    "Create Training and Testing Data Sets\n"
   ]
  },
  {
   "cell_type": "code",
   "execution_count": 8,
   "metadata": {},
   "outputs": [],
   "source": [
    "\n",
    "X_train, X_test, y_train, y_test = train_test_split(X, y, test_size=0.3, random_state=2020)\n"
   ]
  },
  {
   "cell_type": "code",
   "execution_count": 9,
   "metadata": {},
   "outputs": [
    {
     "name": "stdout",
     "output_type": "stream",
     "text": "(24645, 9)\nIndex(['Service_Component_WBS_aff', 'Urgency', 'KM_number',\n       'Count_Related_Interactions', 'Count_Related_Incidents',\n       'Count_Related_Changes', 'Open_Time_HourOfDay', 'Open_Time_DayOfWeek',\n       'CI_TypeSubType_aff'],\n      dtype='object')\n"
    }
   ],
   "source": [
    "print(X_train.shape)\n",
    "print(X_train.columns)"
   ]
  },
  {
   "cell_type": "markdown",
   "metadata": {},
   "source": [
    "## Develop Pipeline\n"
   ]
  },
  {
   "cell_type": "code",
   "execution_count": 10,
   "metadata": {},
   "outputs": [],
   "source": [
    "# create dictionary to store information about the pipeline and results for later reporting and review\n",
    "PipeLineMetadata = { \"Name\" : \"Bare Bones with Helmert Encoder\" }"
   ]
  },
  {
   "cell_type": "markdown",
   "metadata": {},
   "source": [
    "### Encode Variables\n",
    "\n",
    "Numeric and categorical variables require different treatment \n",
    "\n",
    "Set up column transformer for scaling numeric variables and encoding categorical variables\n",
    "\n"
   ]
  },
  {
   "cell_type": "code",
   "execution_count": 11,
   "metadata": {},
   "outputs": [],
   "source": [
    "column_trans = make_column_transformer(\n",
    "    (ce.HelmertEncoder(), categoricalVars),\n",
    "    (StandardScaler(), numericVars),\n",
    "    remainder='passthrough')"
   ]
  },
  {
   "cell_type": "code",
   "execution_count": 12,
   "metadata": {},
   "outputs": [
    {
     "data": {
      "text/plain": "ColumnTransformer(n_jobs=None, remainder='passthrough', sparse_threshold=0.3,\n                  transformer_weights=None,\n                  transformers=[('helmertencoder',\n                                 HelmertEncoder(cols=None, drop_invariant=False,\n                                                handle_missing='value',\n                                                handle_unknown='value',\n                                                mapping=None, return_df=True,\n                                                verbose=0),\n                                 Index(['Service_Component_WBS_aff', 'Urgency', 'KM_number',\n       'Open_Time_HourOfDay', 'Open_Time_DayOfWeek', 'CI_TypeSubType_aff'],\n      dtype='object')),\n                                ('standardscaler',\n                                 StandardScaler(copy=True, with_mean=True,\n                                                with_std=True),\n                                 Index(['Count_Related_Interactions', 'Count_Related_Incidents',\n       'Count_Related_Changes'],\n      dtype='object'))],\n                  verbose=False)"
     },
     "execution_count": 12,
     "metadata": {},
     "output_type": "execute_result"
    }
   ],
   "source": [
    "column_trans"
   ]
  },
  {
   "cell_type": "markdown",
   "metadata": {},
   "source": [
    "### Feature Selection\n",
    "\n"
   ]
  },
  {
   "cell_type": "code",
   "execution_count": 13,
   "metadata": {},
   "outputs": [],
   "source": [
    "## placeholder: none for Bare Bones"
   ]
  },
  {
   "cell_type": "markdown",
   "metadata": {},
   "source": [
    "### Specify Classifier (Logistic Regression)"
   ]
  },
  {
   "cell_type": "code",
   "execution_count": 14,
   "metadata": {},
   "outputs": [],
   "source": [
    "classifier = LogisticRegression(solver=\"lbfgs\")"
   ]
  },
  {
   "cell_type": "markdown",
   "metadata": {},
   "source": [
    "### Compose Pipeline"
   ]
  },
  {
   "cell_type": "code",
   "execution_count": 15,
   "metadata": {},
   "outputs": [],
   "source": [
    "pipe = make_pipeline(column_trans, \n",
    "                     classifier)"
   ]
  },
  {
   "cell_type": "markdown",
   "metadata": {},
   "source": [
    "### Fit the Model Using the Pipeline"
   ]
  },
  {
   "cell_type": "code",
   "execution_count": 16,
   "metadata": {},
   "outputs": [
    {
     "data": {
      "text/plain": "Pipeline(memory=None,\n         steps=[('columntransformer',\n                 ColumnTransformer(n_jobs=None, remainder='passthrough',\n                                   sparse_threshold=0.3,\n                                   transformer_weights=None,\n                                   transformers=[('helmertencoder',\n                                                  HelmertEncoder(cols=None,\n                                                                 drop_invariant=False,\n                                                                 handle_missing='value',\n                                                                 handle_unknown='value',\n                                                                 mapping=None,\n                                                                 return_df=True,\n                                                                 verbose=0),\n                                                  Index(['Service_Component_WBS_aff', 'Ur...\n                                                  Index(['Count_Related_Interactions', 'Count_Related_Incidents',\n       'Count_Related_Changes'],\n      dtype='object'))],\n                                   verbose=False)),\n                ('logisticregression',\n                 LogisticRegression(C=1.0, class_weight=None, dual=False,\n                                    fit_intercept=True, intercept_scaling=1,\n                                    l1_ratio=None, max_iter=100,\n                                    multi_class='auto', n_jobs=None,\n                                    penalty='l2', random_state=None,\n                                    solver='lbfgs', tol=0.0001, verbose=0,\n                                    warm_start=False))],\n         verbose=False)"
     },
     "execution_count": 16,
     "metadata": {},
     "output_type": "execute_result"
    }
   ],
   "source": [
    "pipe.fit(X_train,y_train)"
   ]
  },
  {
   "cell_type": "markdown",
   "metadata": {},
   "source": [
    "### Capture model  information"
   ]
  },
  {
   "cell_type": "code",
   "execution_count": 17,
   "metadata": {},
   "outputs": [
    {
     "data": {
      "text/plain": "{'Name': 'Bare Bones with Helmert Encoder',\n 'Column Transforms': ['helmertencoder', 'standardscaler'],\n 'Classifier': LogisticRegression(C=1.0, class_weight=None, dual=False, fit_intercept=True,\n                    intercept_scaling=1, l1_ratio=None, max_iter=100,\n                    multi_class='auto', n_jobs=None, penalty='l2',\n                    random_state=None, solver='lbfgs', tol=0.0001, verbose=0,\n                    warm_start=False)}"
     },
     "execution_count": 17,
     "metadata": {},
     "output_type": "execute_result"
    }
   ],
   "source": [
    "PipeLineMetadata['Column Transforms'] = list(pipe.named_steps.columntransformer.named_transformers_.keys())\n",
    "PipeLineMetadata['Classifier'] = pipe.named_steps.logisticregression\n",
    "PipeLineMetadata"
   ]
  },
  {
   "cell_type": "code",
   "execution_count": 18,
   "metadata": {},
   "outputs": [
    {
     "data": {
      "text/plain": "1762"
     },
     "execution_count": 18,
     "metadata": {},
     "output_type": "execute_result"
    }
   ],
   "source": [
    "len(pipe.named_steps.logisticregression.coef_[0])"
   ]
  },
  {
   "cell_type": "code",
   "execution_count": 19,
   "metadata": {},
   "outputs": [
    {
     "data": {
      "text/plain": "{'Name': 'Bare Bones with Helmert Encoder',\n 'Column Transforms': ['helmertencoder', 'standardscaler'],\n 'Classifier': LogisticRegression(C=1.0, class_weight=None, dual=False, fit_intercept=True,\n                    intercept_scaling=1, l1_ratio=None, max_iter=100,\n                    multi_class='auto', n_jobs=None, penalty='l2',\n                    random_state=None, solver='lbfgs', tol=0.0001, verbose=0,\n                    warm_start=False),\n 'Classifier - Intercept': -0.012120483118861172,\n 'Classifier - Coefficients': array([[-0.01210697,  0.027224  , -0.0264269 , ...,  0.20972854,\n         -0.00088431,  0.00249929]])}"
     },
     "execution_count": 19,
     "metadata": {},
     "output_type": "execute_result"
    }
   ],
   "source": [
    "PipeLineMetadata['Classifier - Intercept'] = pipe.named_steps.logisticregression.intercept_[0]\n",
    "PipeLineMetadata['Classifier - Coefficients'] = pipe.named_steps.logisticregression.coef_\n",
    "PipeLineMetadata"
   ]
  },
  {
   "cell_type": "markdown",
   "metadata": {},
   "source": [
    "## Cross-validate the Model with Training Data\n"
   ]
  },
  {
   "cell_type": "code",
   "execution_count": 20,
   "metadata": {},
   "outputs": [
    {
     "data": {
      "text/plain": "0.7367823087847434"
     },
     "execution_count": 20,
     "metadata": {},
     "output_type": "execute_result"
    }
   ],
   "source": [
    "PipeLineMetadata['Metrics - Cross Validation Accuracy'] = cross_val_score(pipe, X_train, y_train, cv=5, scoring=\"accuracy\").mean()\n",
    "PipeLineMetadata['Metrics - Cross Validation Accuracy']"
   ]
  },
  {
   "cell_type": "markdown",
   "metadata": {},
   "source": [
    "## Evaluate with Test Data"
   ]
  },
  {
   "cell_type": "markdown",
   "metadata": {},
   "source": [
    "Get predicted classification based on the model"
   ]
  },
  {
   "cell_type": "code",
   "execution_count": 21,
   "metadata": {},
   "outputs": [],
   "source": [
    "y_pred_class = pipe.predict(X_test)\n",
    "y_pred_prob = pipe.predict_proba(X_test)[:,1]"
   ]
  },
  {
   "cell_type": "code",
   "execution_count": 22,
   "metadata": {},
   "outputs": [
    {
     "data": {
      "text/plain": "0.6613391118904624"
     },
     "execution_count": 22,
     "metadata": {},
     "output_type": "execute_result"
    }
   ],
   "source": [
    "PipeLineMetadata['Metrics - F1 score'] = metrics.f1_score(y_test, y_pred_class, average='macro')\n",
    "PipeLineMetadata['Metrics - F1 score']"
   ]
  },
  {
   "cell_type": "markdown",
   "metadata": {},
   "source": [
    "Look at the resulting confusion matrix\n",
    "\n",
    "Save True Positive (TP), True Negative (TN), False Positive(FP), and False Negative (FN) values"
   ]
  },
  {
   "cell_type": "code",
   "execution_count": 23,
   "metadata": {},
   "outputs": [
    {
     "name": "stdout",
     "output_type": "stream",
     "text": "[[6513  932]\n [1785 1333]]\nTN: 6513 \t FP: 932 \nFN: 1785 \t TP: 1333 \n"
    }
   ],
   "source": [
    "confusion = metrics.confusion_matrix(y_test, y_pred_class)\n",
    "TP = confusion[1, 1]\n",
    "TN = confusion[0, 0]\n",
    "FP = confusion[0, 1]\n",
    "FN = confusion[1, 0]\n",
    "print(confusion)\n",
    "print(\"TN: %d \\t FP: %d \\nFN: %d \\t TP: %d \" % (TN, FP, FN, TP))"
   ]
  },
  {
   "cell_type": "markdown",
   "metadata": {},
   "source": [
    "Capture a few classification metrics:\n",
    "* Classification Accuracy: Overall, how often is the classifier correct?\n",
    "* Classification Error: Overall, how often is the classifier incorrect?\n",
    "* True Positive Rate  (Recall, Sensitivity): When the actual value is positive, how often is the prediction correct?\n",
    "* True Negative Rate (Specificity): When the actual value is negative, how often is the prediction correct?\n",
    "* False Positive Rate: When the actual value is negative, how often is the prediction incorrect?\n",
    "* Precision: When a positive value is predicted, how often is the prediction correct?\n"
   ]
  },
  {
   "cell_type": "code",
   "execution_count": 24,
   "metadata": {},
   "outputs": [],
   "source": [
    "PipeLineMetadata['Metrics - Confusion Matrix Classification Accuracy'] = metrics.accuracy_score(y_test,y_pred_class) \n",
    "PipeLineMetadata['Metrics - Confusion Matrix Classification Error'] = 1- metrics.accuracy_score(y_test,y_pred_class)\n",
    "PipeLineMetadata['Metrics - Confusion Matrix True Positive Rate'] = metrics.recall_score(y_test, y_pred_class) \n",
    "PipeLineMetadata['Metrics - Confusion Matrix True Negative Rate'] =  TN / float(TN + FP)\n",
    "PipeLineMetadata['Metrics - Confusion Matrix False Positive Rate'] =  FP / float(TN + FP)\n",
    "PipeLineMetadata['Metrics - Confusion Matrix Precision'] = metrics.precision_score(y_test,y_pred_class)"
   ]
  },
  {
   "cell_type": "code",
   "execution_count": 25,
   "metadata": {},
   "outputs": [
    {
     "data": {
      "text/plain": "{'Name': 'Bare Bones with Helmert Encoder',\n 'Column Transforms': ['helmertencoder', 'standardscaler'],\n 'Classifier': LogisticRegression(C=1.0, class_weight=None, dual=False, fit_intercept=True,\n                    intercept_scaling=1, l1_ratio=None, max_iter=100,\n                    multi_class='auto', n_jobs=None, penalty='l2',\n                    random_state=None, solver='lbfgs', tol=0.0001, verbose=0,\n                    warm_start=False),\n 'Classifier - Intercept': -0.012120483118861172,\n 'Classifier - Coefficients': array([[-0.01210697,  0.027224  , -0.0264269 , ...,  0.20972854,\n         -0.00088431,  0.00249929]]),\n 'Metrics - Cross Validation Accuracy': 0.7367823087847434,\n 'Metrics - F1 score': 0.6613391118904624,\n 'Metrics - Confusion Matrix Classification Accuracy': 0.7427814067973114,\n 'Metrics - Confusion Matrix Classification Error': 0.2572185932026886,\n 'Metrics - Confusion Matrix True Positive Rate': 0.42751763951250804,\n 'Metrics - Confusion Matrix True Negative Rate': 0.8748153122901277,\n 'Metrics - Confusion Matrix False Positive Rate': 0.1251846877098724,\n 'Metrics - Confusion Matrix Precision': 0.5885209713024283}"
     },
     "execution_count": 25,
     "metadata": {},
     "output_type": "execute_result"
    }
   ],
   "source": [
    "PipeLineMetadata\n"
   ]
  },
  {
   "cell_type": "markdown",
   "metadata": {},
   "source": [
    "Add some ROC curve information and AUC result\n"
   ]
  },
  {
   "cell_type": "code",
   "execution_count": 26,
   "metadata": {},
   "outputs": [],
   "source": [
    "fpr, tpr, thresholds = metrics.roc_curve(y_test, y_pred_prob)"
   ]
  },
  {
   "cell_type": "code",
   "execution_count": 27,
   "metadata": {},
   "outputs": [],
   "source": [
    "PipeLineMetadata['Metrics - ROC Curve fpr array'] = fpr\n",
    "PipeLineMetadata['Metrics - ROC Curve tpr array'] = tpr"
   ]
  },
  {
   "cell_type": "code",
   "execution_count": 28,
   "metadata": {},
   "outputs": [
    {
     "data": {
      "image/png": "[encoded data removed]",
      "image/svg+xml": "<?xml version=\"1.0\" encoding=\"utf-8\" standalone=\"no\"?>\n<!DOCTYPE svg PUBLIC \"-//W3C//DTD SVG 1.1//EN\"\n  \"http://www.w3.org/Graphics/SVG/1.1/DTD/svg11.dtd\">\n<!-- Created with matplotlib (https://matplotlib.org/) -->\n<svg height=\"277.314375pt\" version=\"1.1\" viewBox=\"0 0 393.732813 277.314375\" width=\"393.732813pt\" xmlns=\"http://www.w3.org/2000/svg\" xmlns:xlink=\"http://www.w3.org/1999/xlink\">\n <defs>\n  <style type=\"text/css\">\n*{stroke-linecap:butt;stroke-linejoin:round;}\n  </style>\n </defs>\n <g id=\"figure_1\">\n  <g id=\"patch_1\">\n   <path d=\"M 0 277.314375 \nL 393.732813 277.314375 \nL 393.732813 0 \nL 0 0 \nz\n\" style=\"fill:none;\"/>\n  </g>\n  <g id=\"axes_1\">\n   <g id=\"patch_2\">\n    <path d=\"M 43.78125 239.758125 \nL 378.58125 239.758125 \nL 378.58125 22.318125 \nL 43.78125 22.318125 \nz\n\" style=\"fill:#ffffff;\"/>\n   </g>\n   <g id=\"matplotlib.axis_1\">\n    <g id=\"xtick_1\">\n     <g id=\"line2d_1\">\n      <path clip-path=\"url(#paf5cda446d)\" d=\"M 43.78125 239.758125 \nL 43.78125 22.318125 \n\" style=\"fill:none;stroke:#b0b0b0;stroke-linecap:square;stroke-width:0.8;\"/>\n     </g>\n     <g id=\"line2d_2\">\n      <defs>\n       <path d=\"M 0 0 \nL 0 3.5 \n\" id=\"mc033ce62fc\" style=\"stroke:#000000;stroke-width:0.8;\"/>\n      </defs>\n      <g>\n       <use style=\"stroke:#000000;stroke-width:0.8;\" x=\"43.78125\" xlink:href=\"#mc033ce62fc\" y=\"239.758125\"/>\n      </g>\n     </g>\n     <g id=\"text_1\">\n      <!-- 0.0 -->\n      <defs>\n       <path d=\"M 31.78125 66.40625 \nQ 24.171875 66.40625 20.328125 58.90625 \nQ 16.5 51.421875 16.5 36.375 \nQ 16.5 21.390625 20.328125 13.890625 \nQ 24.171875 6.390625 31.78125 6.390625 \nQ 39.453125 6.390625 43.28125 13.890625 \nQ 47.125 21.390625 47.125 36.375 \nQ 47.125 51.421875 43.28125 58.90625 \nQ 39.453125 66.40625 31.78125 66.40625 \nz\nM 31.78125 74.21875 \nQ 44.046875 74.21875 50.515625 64.515625 \nQ 56.984375 54.828125 56.984375 36.375 \nQ 56.984375 17.96875 50.515625 8.265625 \nQ 44.046875 -1.421875 31.78125 -1.421875 \nQ 19.53125 -1.421875 13.0625 8.265625 \nQ 6.59375 17.96875 6.59375 36.375 \nQ 6.59375 54.828125 13.0625 64.515625 \nQ 19.53125 74.21875 31.78125 74.21875 \nz\n\" id=\"DejaVuSans-48\"/>\n       <path d=\"M 10.6875 12.40625 \nL 21 12.40625 \nL 21 0 \nL 10.6875 0 \nz\n\" id=\"DejaVuSans-46\"/>\n      </defs>\n      <g transform=\"translate(35.829688 254.356562)scale(0.1 -0.1)\">\n       <use xlink:href=\"#DejaVuSans-48\"/>\n       <use x=\"63.623047\" xlink:href=\"#DejaVuSans-46\"/>\n       <use x=\"95.410156\" xlink:href=\"#DejaVuSans-48\"/>\n      </g>\n     </g>\n    </g>\n    <g id=\"xtick_2\">\n     <g id=\"line2d_3\">\n      <path clip-path=\"url(#paf5cda446d)\" d=\"M 110.74125 239.758125 \nL 110.74125 22.318125 \n\" style=\"fill:none;stroke:#b0b0b0;stroke-linecap:square;stroke-width:0.8;\"/>\n     </g>\n     <g id=\"line2d_4\">\n      <g>\n       <use style=\"stroke:#000000;stroke-width:0.8;\" x=\"110.74125\" xlink:href=\"#mc033ce62fc\" y=\"239.758125\"/>\n      </g>\n     </g>\n     <g id=\"text_2\">\n      <!-- 0.2 -->\n      <defs>\n       <path d=\"M 19.1875 8.296875 \nL 53.609375 8.296875 \nL 53.609375 0 \nL 7.328125 0 \nL 7.328125 8.296875 \nQ 12.9375 14.109375 22.625 23.890625 \nQ 32.328125 33.6875 34.8125 36.53125 \nQ 39.546875 41.84375 41.421875 45.53125 \nQ 43.3125 49.21875 43.3125 52.78125 \nQ 43.3125 58.59375 39.234375 62.25 \nQ 35.15625 65.921875 28.609375 65.921875 \nQ 23.96875 65.921875 18.8125 64.3125 \nQ 13.671875 62.703125 7.8125 59.421875 \nL 7.8125 69.390625 \nQ 13.765625 71.78125 18.9375 73 \nQ 24.125 74.21875 28.421875 74.21875 \nQ 39.75 74.21875 46.484375 68.546875 \nQ 53.21875 62.890625 53.21875 53.421875 \nQ 53.21875 48.921875 51.53125 44.890625 \nQ 49.859375 40.875 45.40625 35.40625 \nQ 44.1875 33.984375 37.640625 27.21875 \nQ 31.109375 20.453125 19.1875 8.296875 \nz\n\" id=\"DejaVuSans-50\"/>\n      </defs>\n      <g transform=\"translate(102.789688 254.356562)scale(0.1 -0.1)\">\n       <use xlink:href=\"#DejaVuSans-48\"/>\n       <use x=\"63.623047\" xlink:href=\"#DejaVuSans-46\"/>\n       <use x=\"95.410156\" xlink:href=\"#DejaVuSans-50\"/>\n      </g>\n     </g>\n    </g>\n    <g id=\"xtick_3\">\n     <g id=\"line2d_5\">\n      <path clip-path=\"url(#paf5cda446d)\" d=\"M 177.70125 239.758125 \nL 177.70125 22.318125 \n\" style=\"fill:none;stroke:#b0b0b0;stroke-linecap:square;stroke-width:0.8;\"/>\n     </g>\n     <g id=\"line2d_6\">\n      <g>\n       <use style=\"stroke:#000000;stroke-width:0.8;\" x=\"177.70125\" xlink:href=\"#mc033ce62fc\" y=\"239.758125\"/>\n      </g>\n     </g>\n     <g id=\"text_3\">\n      <!-- 0.4 -->\n      <defs>\n       <path d=\"M 37.796875 64.3125 \nL 12.890625 25.390625 \nL 37.796875 25.390625 \nz\nM 35.203125 72.90625 \nL 47.609375 72.90625 \nL 47.609375 25.390625 \nL 58.015625 25.390625 \nL 58.015625 17.1875 \nL 47.609375 17.1875 \nL 47.609375 0 \nL 37.796875 0 \nL 37.796875 17.1875 \nL 4.890625 17.1875 \nL 4.890625 26.703125 \nz\n\" id=\"DejaVuSans-52\"/>\n      </defs>\n      <g transform=\"translate(169.749688 254.356562)scale(0.1 -0.1)\">\n       <use xlink:href=\"#DejaVuSans-48\"/>\n       <use x=\"63.623047\" xlink:href=\"#DejaVuSans-46\"/>\n       <use x=\"95.410156\" xlink:href=\"#DejaVuSans-52\"/>\n      </g>\n     </g>\n    </g>\n    <g id=\"xtick_4\">\n     <g id=\"line2d_7\">\n      <path clip-path=\"url(#paf5cda446d)\" d=\"M 244.66125 239.758125 \nL 244.66125 22.318125 \n\" style=\"fill:none;stroke:#b0b0b0;stroke-linecap:square;stroke-width:0.8;\"/>\n     </g>\n     <g id=\"line2d_8\">\n      <g>\n       <use style=\"stroke:#000000;stroke-width:0.8;\" x=\"244.66125\" xlink:href=\"#mc033ce62fc\" y=\"239.758125\"/>\n      </g>\n     </g>\n     <g id=\"text_4\">\n      <!-- 0.6 -->\n      <defs>\n       <path d=\"M 33.015625 40.375 \nQ 26.375 40.375 22.484375 35.828125 \nQ 18.609375 31.296875 18.609375 23.390625 \nQ 18.609375 15.53125 22.484375 10.953125 \nQ 26.375 6.390625 33.015625 6.390625 \nQ 39.65625 6.390625 43.53125 10.953125 \nQ 47.40625 15.53125 47.40625 23.390625 \nQ 47.40625 31.296875 43.53125 35.828125 \nQ 39.65625 40.375 33.015625 40.375 \nz\nM 52.59375 71.296875 \nL 52.59375 62.3125 \nQ 48.875 64.0625 45.09375 64.984375 \nQ 41.3125 65.921875 37.59375 65.921875 \nQ 27.828125 65.921875 22.671875 59.328125 \nQ 17.53125 52.734375 16.796875 39.40625 \nQ 19.671875 43.65625 24.015625 45.921875 \nQ 28.375 48.1875 33.59375 48.1875 \nQ 44.578125 48.1875 50.953125 41.515625 \nQ 57.328125 34.859375 57.328125 23.390625 \nQ 57.328125 12.15625 50.6875 5.359375 \nQ 44.046875 -1.421875 33.015625 -1.421875 \nQ 20.359375 -1.421875 13.671875 8.265625 \nQ 6.984375 17.96875 6.984375 36.375 \nQ 6.984375 53.65625 15.1875 63.9375 \nQ 23.390625 74.21875 37.203125 74.21875 \nQ 40.921875 74.21875 44.703125 73.484375 \nQ 48.484375 72.75 52.59375 71.296875 \nz\n\" id=\"DejaVuSans-54\"/>\n      </defs>\n      <g transform=\"translate(236.709688 254.356562)scale(0.1 -0.1)\">\n       <use xlink:href=\"#DejaVuSans-48\"/>\n       <use x=\"63.623047\" xlink:href=\"#DejaVuSans-46\"/>\n       <use x=\"95.410156\" xlink:href=\"#DejaVuSans-54\"/>\n      </g>\n     </g>\n    </g>\n    <g id=\"xtick_5\">\n     <g id=\"line2d_9\">\n      <path clip-path=\"url(#paf5cda446d)\" d=\"M 311.62125 239.758125 \nL 311.62125 22.318125 \n\" style=\"fill:none;stroke:#b0b0b0;stroke-linecap:square;stroke-width:0.8;\"/>\n     </g>\n     <g id=\"line2d_10\">\n      <g>\n       <use style=\"stroke:#000000;stroke-width:0.8;\" x=\"311.62125\" xlink:href=\"#mc033ce62fc\" y=\"239.758125\"/>\n      </g>\n     </g>\n     <g id=\"text_5\">\n      <!-- 0.8 -->\n      <defs>\n       <path d=\"M 31.78125 34.625 \nQ 24.75 34.625 20.71875 30.859375 \nQ 16.703125 27.09375 16.703125 20.515625 \nQ 16.703125 13.921875 20.71875 10.15625 \nQ 24.75 6.390625 31.78125 6.390625 \nQ 38.8125 6.390625 42.859375 10.171875 \nQ 46.921875 13.96875 46.921875 20.515625 \nQ 46.921875 27.09375 42.890625 30.859375 \nQ 38.875 34.625 31.78125 34.625 \nz\nM 21.921875 38.8125 \nQ 15.578125 40.375 12.03125 44.71875 \nQ 8.5 49.078125 8.5 55.328125 \nQ 8.5 64.0625 14.71875 69.140625 \nQ 20.953125 74.21875 31.78125 74.21875 \nQ 42.671875 74.21875 48.875 69.140625 \nQ 55.078125 64.0625 55.078125 55.328125 \nQ 55.078125 49.078125 51.53125 44.71875 \nQ 48 40.375 41.703125 38.8125 \nQ 48.828125 37.15625 52.796875 32.3125 \nQ 56.78125 27.484375 56.78125 20.515625 \nQ 56.78125 9.90625 50.3125 4.234375 \nQ 43.84375 -1.421875 31.78125 -1.421875 \nQ 19.734375 -1.421875 13.25 4.234375 \nQ 6.78125 9.90625 6.78125 20.515625 \nQ 6.78125 27.484375 10.78125 32.3125 \nQ 14.796875 37.15625 21.921875 38.8125 \nz\nM 18.3125 54.390625 \nQ 18.3125 48.734375 21.84375 45.5625 \nQ 25.390625 42.390625 31.78125 42.390625 \nQ 38.140625 42.390625 41.71875 45.5625 \nQ 45.3125 48.734375 45.3125 54.390625 \nQ 45.3125 60.0625 41.71875 63.234375 \nQ 38.140625 66.40625 31.78125 66.40625 \nQ 25.390625 66.40625 21.84375 63.234375 \nQ 18.3125 60.0625 18.3125 54.390625 \nz\n\" id=\"DejaVuSans-56\"/>\n      </defs>\n      <g transform=\"translate(303.669688 254.356562)scale(0.1 -0.1)\">\n       <use xlink:href=\"#DejaVuSans-48\"/>\n       <use x=\"63.623047\" xlink:href=\"#DejaVuSans-46\"/>\n       <use x=\"95.410156\" xlink:href=\"#DejaVuSans-56\"/>\n      </g>\n     </g>\n    </g>\n    <g id=\"xtick_6\">\n     <g id=\"line2d_11\">\n      <path clip-path=\"url(#paf5cda446d)\" d=\"M 378.58125 239.758125 \nL 378.58125 22.318125 \n\" style=\"fill:none;stroke:#b0b0b0;stroke-linecap:square;stroke-width:0.8;\"/>\n     </g>\n     <g id=\"line2d_12\">\n      <g>\n       <use style=\"stroke:#000000;stroke-width:0.8;\" x=\"378.58125\" xlink:href=\"#mc033ce62fc\" y=\"239.758125\"/>\n      </g>\n     </g>\n     <g id=\"text_6\">\n      <!-- 1.0 -->\n      <defs>\n       <path d=\"M 12.40625 8.296875 \nL 28.515625 8.296875 \nL 28.515625 63.921875 \nL 10.984375 60.40625 \nL 10.984375 69.390625 \nL 28.421875 72.90625 \nL 38.28125 72.90625 \nL 38.28125 8.296875 \nL 54.390625 8.296875 \nL 54.390625 0 \nL 12.40625 0 \nz\n\" id=\"DejaVuSans-49\"/>\n      </defs>\n      <g transform=\"translate(370.629687 254.356562)scale(0.1 -0.1)\">\n       <use xlink:href=\"#DejaVuSans-49\"/>\n       <use x=\"63.623047\" xlink:href=\"#DejaVuSans-46\"/>\n       <use x=\"95.410156\" xlink:href=\"#DejaVuSans-48\"/>\n      </g>\n     </g>\n    </g>\n    <g id=\"text_7\">\n     <!-- False Positive Rate (1 - Specificity) -->\n     <defs>\n      <path d=\"M 9.8125 72.90625 \nL 51.703125 72.90625 \nL 51.703125 64.59375 \nL 19.671875 64.59375 \nL 19.671875 43.109375 \nL 48.578125 43.109375 \nL 48.578125 34.8125 \nL 19.671875 34.8125 \nL 19.671875 0 \nL 9.8125 0 \nz\n\" id=\"DejaVuSans-70\"/>\n      <path d=\"M 34.28125 27.484375 \nQ 23.390625 27.484375 19.1875 25 \nQ 14.984375 22.515625 14.984375 16.5 \nQ 14.984375 11.71875 18.140625 8.90625 \nQ 21.296875 6.109375 26.703125 6.109375 \nQ 34.1875 6.109375 38.703125 11.40625 \nQ 43.21875 16.703125 43.21875 25.484375 \nL 43.21875 27.484375 \nz\nM 52.203125 31.203125 \nL 52.203125 0 \nL 43.21875 0 \nL 43.21875 8.296875 \nQ 40.140625 3.328125 35.546875 0.953125 \nQ 30.953125 -1.421875 24.3125 -1.421875 \nQ 15.921875 -1.421875 10.953125 3.296875 \nQ 6 8.015625 6 15.921875 \nQ 6 25.140625 12.171875 29.828125 \nQ 18.359375 34.515625 30.609375 34.515625 \nL 43.21875 34.515625 \nL 43.21875 35.40625 \nQ 43.21875 41.609375 39.140625 45 \nQ 35.0625 48.390625 27.6875 48.390625 \nQ 23 48.390625 18.546875 47.265625 \nQ 14.109375 46.140625 10.015625 43.890625 \nL 10.015625 52.203125 \nQ 14.9375 54.109375 19.578125 55.046875 \nQ 24.21875 56 28.609375 56 \nQ 40.484375 56 46.34375 49.84375 \nQ 52.203125 43.703125 52.203125 31.203125 \nz\n\" id=\"DejaVuSans-97\"/>\n      <path d=\"M 9.421875 75.984375 \nL 18.40625 75.984375 \nL 18.40625 0 \nL 9.421875 0 \nz\n\" id=\"DejaVuSans-108\"/>\n      <path d=\"M 44.28125 53.078125 \nL 44.28125 44.578125 \nQ 40.484375 46.53125 36.375 47.5 \nQ 32.28125 48.484375 27.875 48.484375 \nQ 21.1875 48.484375 17.84375 46.4375 \nQ 14.5 44.390625 14.5 40.28125 \nQ 14.5 37.15625 16.890625 35.375 \nQ 19.28125 33.59375 26.515625 31.984375 \nL 29.59375 31.296875 \nQ 39.15625 29.25 43.1875 25.515625 \nQ 47.21875 21.78125 47.21875 15.09375 \nQ 47.21875 7.46875 41.1875 3.015625 \nQ 35.15625 -1.421875 24.609375 -1.421875 \nQ 20.21875 -1.421875 15.453125 -0.5625 \nQ 10.6875 0.296875 5.421875 2 \nL 5.421875 11.28125 \nQ 10.40625 8.6875 15.234375 7.390625 \nQ 20.0625 6.109375 24.8125 6.109375 \nQ 31.15625 6.109375 34.5625 8.28125 \nQ 37.984375 10.453125 37.984375 14.40625 \nQ 37.984375 18.0625 35.515625 20.015625 \nQ 33.0625 21.96875 24.703125 23.78125 \nL 21.578125 24.515625 \nQ 13.234375 26.265625 9.515625 29.90625 \nQ 5.8125 33.546875 5.8125 39.890625 \nQ 5.8125 47.609375 11.28125 51.796875 \nQ 16.75 56 26.8125 56 \nQ 31.78125 56 36.171875 55.265625 \nQ 40.578125 54.546875 44.28125 53.078125 \nz\n\" id=\"DejaVuSans-115\"/>\n      <path d=\"M 56.203125 29.59375 \nL 56.203125 25.203125 \nL 14.890625 25.203125 \nQ 15.484375 15.921875 20.484375 11.0625 \nQ 25.484375 6.203125 34.421875 6.203125 \nQ 39.59375 6.203125 44.453125 7.46875 \nQ 49.3125 8.734375 54.109375 11.28125 \nL 54.109375 2.78125 \nQ 49.265625 0.734375 44.1875 -0.34375 \nQ 39.109375 -1.421875 33.890625 -1.421875 \nQ 20.796875 -1.421875 13.15625 6.1875 \nQ 5.515625 13.8125 5.515625 26.8125 \nQ 5.515625 40.234375 12.765625 48.109375 \nQ 20.015625 56 32.328125 56 \nQ 43.359375 56 49.78125 48.890625 \nQ 56.203125 41.796875 56.203125 29.59375 \nz\nM 47.21875 32.234375 \nQ 47.125 39.59375 43.09375 43.984375 \nQ 39.0625 48.390625 32.421875 48.390625 \nQ 24.90625 48.390625 20.390625 44.140625 \nQ 15.875 39.890625 15.1875 32.171875 \nz\n\" id=\"DejaVuSans-101\"/>\n      <path id=\"DejaVuSans-32\"/>\n      <path d=\"M 19.671875 64.796875 \nL 19.671875 37.40625 \nL 32.078125 37.40625 \nQ 38.96875 37.40625 42.71875 40.96875 \nQ 46.484375 44.53125 46.484375 51.125 \nQ 46.484375 57.671875 42.71875 61.234375 \nQ 38.96875 64.796875 32.078125 64.796875 \nz\nM 9.8125 72.90625 \nL 32.078125 72.90625 \nQ 44.34375 72.90625 50.609375 67.359375 \nQ 56.890625 61.8125 56.890625 51.125 \nQ 56.890625 40.328125 50.609375 34.8125 \nQ 44.34375 29.296875 32.078125 29.296875 \nL 19.671875 29.296875 \nL 19.671875 0 \nL 9.8125 0 \nz\n\" id=\"DejaVuSans-80\"/>\n      <path d=\"M 30.609375 48.390625 \nQ 23.390625 48.390625 19.1875 42.75 \nQ 14.984375 37.109375 14.984375 27.296875 \nQ 14.984375 17.484375 19.15625 11.84375 \nQ 23.34375 6.203125 30.609375 6.203125 \nQ 37.796875 6.203125 41.984375 11.859375 \nQ 46.1875 17.53125 46.1875 27.296875 \nQ 46.1875 37.015625 41.984375 42.703125 \nQ 37.796875 48.390625 30.609375 48.390625 \nz\nM 30.609375 56 \nQ 42.328125 56 49.015625 48.375 \nQ 55.71875 40.765625 55.71875 27.296875 \nQ 55.71875 13.875 49.015625 6.21875 \nQ 42.328125 -1.421875 30.609375 -1.421875 \nQ 18.84375 -1.421875 12.171875 6.21875 \nQ 5.515625 13.875 5.515625 27.296875 \nQ 5.515625 40.765625 12.171875 48.375 \nQ 18.84375 56 30.609375 56 \nz\n\" id=\"DejaVuSans-111\"/>\n      <path d=\"M 9.421875 54.6875 \nL 18.40625 54.6875 \nL 18.40625 0 \nL 9.421875 0 \nz\nM 9.421875 75.984375 \nL 18.40625 75.984375 \nL 18.40625 64.59375 \nL 9.421875 64.59375 \nz\n\" id=\"DejaVuSans-105\"/>\n      <path d=\"M 18.3125 70.21875 \nL 18.3125 54.6875 \nL 36.8125 54.6875 \nL 36.8125 47.703125 \nL 18.3125 47.703125 \nL 18.3125 18.015625 \nQ 18.3125 11.328125 20.140625 9.421875 \nQ 21.96875 7.515625 27.59375 7.515625 \nL 36.8125 7.515625 \nL 36.8125 0 \nL 27.59375 0 \nQ 17.1875 0 13.234375 3.875 \nQ 9.28125 7.765625 9.28125 18.015625 \nL 9.28125 47.703125 \nL 2.6875 47.703125 \nL 2.6875 54.6875 \nL 9.28125 54.6875 \nL 9.28125 70.21875 \nz\n\" id=\"DejaVuSans-116\"/>\n      <path d=\"M 2.984375 54.6875 \nL 12.5 54.6875 \nL 29.59375 8.796875 \nL 46.6875 54.6875 \nL 56.203125 54.6875 \nL 35.6875 0 \nL 23.484375 0 \nz\n\" id=\"DejaVuSans-118\"/>\n      <path d=\"M 44.390625 34.1875 \nQ 47.5625 33.109375 50.5625 29.59375 \nQ 53.5625 26.078125 56.59375 19.921875 \nL 66.609375 0 \nL 56 0 \nL 46.6875 18.703125 \nQ 43.0625 26.03125 39.671875 28.421875 \nQ 36.28125 30.8125 30.421875 30.8125 \nL 19.671875 30.8125 \nL 19.671875 0 \nL 9.8125 0 \nL 9.8125 72.90625 \nL 32.078125 72.90625 \nQ 44.578125 72.90625 50.734375 67.671875 \nQ 56.890625 62.453125 56.890625 51.90625 \nQ 56.890625 45.015625 53.6875 40.46875 \nQ 50.484375 35.9375 44.390625 34.1875 \nz\nM 19.671875 64.796875 \nL 19.671875 38.921875 \nL 32.078125 38.921875 \nQ 39.203125 38.921875 42.84375 42.21875 \nQ 46.484375 45.515625 46.484375 51.90625 \nQ 46.484375 58.296875 42.84375 61.546875 \nQ 39.203125 64.796875 32.078125 64.796875 \nz\n\" id=\"DejaVuSans-82\"/>\n      <path d=\"M 31 75.875 \nQ 24.46875 64.65625 21.28125 53.65625 \nQ 18.109375 42.671875 18.109375 31.390625 \nQ 18.109375 20.125 21.3125 9.0625 \nQ 24.515625 -2 31 -13.1875 \nL 23.1875 -13.1875 \nQ 15.875 -1.703125 12.234375 9.375 \nQ 8.59375 20.453125 8.59375 31.390625 \nQ 8.59375 42.28125 12.203125 53.3125 \nQ 15.828125 64.359375 23.1875 75.875 \nz\n\" id=\"DejaVuSans-40\"/>\n      <path d=\"M 4.890625 31.390625 \nL 31.203125 31.390625 \nL 31.203125 23.390625 \nL 4.890625 23.390625 \nz\n\" id=\"DejaVuSans-45\"/>\n      <path d=\"M 53.515625 70.515625 \nL 53.515625 60.890625 \nQ 47.90625 63.578125 42.921875 64.890625 \nQ 37.9375 66.21875 33.296875 66.21875 \nQ 25.25 66.21875 20.875 63.09375 \nQ 16.5 59.96875 16.5 54.203125 \nQ 16.5 49.359375 19.40625 46.890625 \nQ 22.3125 44.4375 30.421875 42.921875 \nL 36.375 41.703125 \nQ 47.40625 39.59375 52.65625 34.296875 \nQ 57.90625 29 57.90625 20.125 \nQ 57.90625 9.515625 50.796875 4.046875 \nQ 43.703125 -1.421875 29.984375 -1.421875 \nQ 24.8125 -1.421875 18.96875 -0.25 \nQ 13.140625 0.921875 6.890625 3.21875 \nL 6.890625 13.375 \nQ 12.890625 10.015625 18.65625 8.296875 \nQ 24.421875 6.59375 29.984375 6.59375 \nQ 38.421875 6.59375 43.015625 9.90625 \nQ 47.609375 13.234375 47.609375 19.390625 \nQ 47.609375 24.75 44.3125 27.78125 \nQ 41.015625 30.8125 33.5 32.328125 \nL 27.484375 33.5 \nQ 16.453125 35.6875 11.515625 40.375 \nQ 6.59375 45.0625 6.59375 53.421875 \nQ 6.59375 63.09375 13.40625 68.65625 \nQ 20.21875 74.21875 32.171875 74.21875 \nQ 37.3125 74.21875 42.625 73.28125 \nQ 47.953125 72.359375 53.515625 70.515625 \nz\n\" id=\"DejaVuSans-83\"/>\n      <path d=\"M 18.109375 8.203125 \nL 18.109375 -20.796875 \nL 9.078125 -20.796875 \nL 9.078125 54.6875 \nL 18.109375 54.6875 \nL 18.109375 46.390625 \nQ 20.953125 51.265625 25.265625 53.625 \nQ 29.59375 56 35.59375 56 \nQ 45.5625 56 51.78125 48.09375 \nQ 58.015625 40.1875 58.015625 27.296875 \nQ 58.015625 14.40625 51.78125 6.484375 \nQ 45.5625 -1.421875 35.59375 -1.421875 \nQ 29.59375 -1.421875 25.265625 0.953125 \nQ 20.953125 3.328125 18.109375 8.203125 \nz\nM 48.6875 27.296875 \nQ 48.6875 37.203125 44.609375 42.84375 \nQ 40.53125 48.484375 33.40625 48.484375 \nQ 26.265625 48.484375 22.1875 42.84375 \nQ 18.109375 37.203125 18.109375 27.296875 \nQ 18.109375 17.390625 22.1875 11.75 \nQ 26.265625 6.109375 33.40625 6.109375 \nQ 40.53125 6.109375 44.609375 11.75 \nQ 48.6875 17.390625 48.6875 27.296875 \nz\n\" id=\"DejaVuSans-112\"/>\n      <path d=\"M 48.78125 52.59375 \nL 48.78125 44.1875 \nQ 44.96875 46.296875 41.140625 47.34375 \nQ 37.3125 48.390625 33.40625 48.390625 \nQ 24.65625 48.390625 19.8125 42.84375 \nQ 14.984375 37.3125 14.984375 27.296875 \nQ 14.984375 17.28125 19.8125 11.734375 \nQ 24.65625 6.203125 33.40625 6.203125 \nQ 37.3125 6.203125 41.140625 7.25 \nQ 44.96875 8.296875 48.78125 10.40625 \nL 48.78125 2.09375 \nQ 45.015625 0.34375 40.984375 -0.53125 \nQ 36.96875 -1.421875 32.421875 -1.421875 \nQ 20.0625 -1.421875 12.78125 6.34375 \nQ 5.515625 14.109375 5.515625 27.296875 \nQ 5.515625 40.671875 12.859375 48.328125 \nQ 20.21875 56 33.015625 56 \nQ 37.15625 56 41.109375 55.140625 \nQ 45.0625 54.296875 48.78125 52.59375 \nz\n\" id=\"DejaVuSans-99\"/>\n      <path d=\"M 37.109375 75.984375 \nL 37.109375 68.5 \nL 28.515625 68.5 \nQ 23.6875 68.5 21.796875 66.546875 \nQ 19.921875 64.59375 19.921875 59.515625 \nL 19.921875 54.6875 \nL 34.71875 54.6875 \nL 34.71875 47.703125 \nL 19.921875 47.703125 \nL 19.921875 0 \nL 10.890625 0 \nL 10.890625 47.703125 \nL 2.296875 47.703125 \nL 2.296875 54.6875 \nL 10.890625 54.6875 \nL 10.890625 58.5 \nQ 10.890625 67.625 15.140625 71.796875 \nQ 19.390625 75.984375 28.609375 75.984375 \nz\n\" id=\"DejaVuSans-102\"/>\n      <path d=\"M 32.171875 -5.078125 \nQ 28.375 -14.84375 24.75 -17.8125 \nQ 21.140625 -20.796875 15.09375 -20.796875 \nL 7.90625 -20.796875 \nL 7.90625 -13.28125 \nL 13.1875 -13.28125 \nQ 16.890625 -13.28125 18.9375 -11.515625 \nQ 21 -9.765625 23.484375 -3.21875 \nL 25.09375 0.875 \nL 2.984375 54.6875 \nL 12.5 54.6875 \nL 29.59375 11.921875 \nL 46.6875 54.6875 \nL 56.203125 54.6875 \nz\n\" id=\"DejaVuSans-121\"/>\n      <path d=\"M 8.015625 75.875 \nL 15.828125 75.875 \nQ 23.140625 64.359375 26.78125 53.3125 \nQ 30.421875 42.28125 30.421875 31.390625 \nQ 30.421875 20.453125 26.78125 9.375 \nQ 23.140625 -1.703125 15.828125 -13.1875 \nL 8.015625 -13.1875 \nQ 14.5 -2 17.703125 9.0625 \nQ 20.90625 20.125 20.90625 31.390625 \nQ 20.90625 42.671875 17.703125 53.65625 \nQ 14.5 64.65625 8.015625 75.875 \nz\n\" id=\"DejaVuSans-41\"/>\n     </defs>\n     <g transform=\"translate(124.551563 268.034687)scale(0.1 -0.1)\">\n      <use xlink:href=\"#DejaVuSans-70\"/>\n      <use x=\"57.378906\" xlink:href=\"#DejaVuSans-97\"/>\n      <use x=\"118.658203\" xlink:href=\"#DejaVuSans-108\"/>\n      <use x=\"146.441406\" xlink:href=\"#DejaVuSans-115\"/>\n      <use x=\"198.541016\" xlink:href=\"#DejaVuSans-101\"/>\n      <use x=\"260.064453\" xlink:href=\"#DejaVuSans-32\"/>\n      <use x=\"291.851562\" xlink:href=\"#DejaVuSans-80\"/>\n      <use x=\"352.107422\" xlink:href=\"#DejaVuSans-111\"/>\n      <use x=\"413.289062\" xlink:href=\"#DejaVuSans-115\"/>\n      <use x=\"465.388672\" xlink:href=\"#DejaVuSans-105\"/>\n      <use x=\"493.171875\" xlink:href=\"#DejaVuSans-116\"/>\n      <use x=\"532.380859\" xlink:href=\"#DejaVuSans-105\"/>\n      <use x=\"560.164062\" xlink:href=\"#DejaVuSans-118\"/>\n      <use x=\"619.34375\" xlink:href=\"#DejaVuSans-101\"/>\n      <use x=\"680.867188\" xlink:href=\"#DejaVuSans-32\"/>\n      <use x=\"712.654297\" xlink:href=\"#DejaVuSans-82\"/>\n      <use x=\"782.105469\" xlink:href=\"#DejaVuSans-97\"/>\n      <use x=\"843.384766\" xlink:href=\"#DejaVuSans-116\"/>\n      <use x=\"882.59375\" xlink:href=\"#DejaVuSans-101\"/>\n      <use x=\"944.117188\" xlink:href=\"#DejaVuSans-32\"/>\n      <use x=\"975.904297\" xlink:href=\"#DejaVuSans-40\"/>\n      <use x=\"1014.917969\" xlink:href=\"#DejaVuSans-49\"/>\n      <use x=\"1078.541016\" xlink:href=\"#DejaVuSans-32\"/>\n      <use x=\"1110.328125\" xlink:href=\"#DejaVuSans-45\"/>\n      <use x=\"1146.412109\" xlink:href=\"#DejaVuSans-32\"/>\n      <use x=\"1178.199219\" xlink:href=\"#DejaVuSans-83\"/>\n      <use x=\"1241.675781\" xlink:href=\"#DejaVuSans-112\"/>\n      <use x=\"1305.152344\" xlink:href=\"#DejaVuSans-101\"/>\n      <use x=\"1366.675781\" xlink:href=\"#DejaVuSans-99\"/>\n      <use x=\"1421.65625\" xlink:href=\"#DejaVuSans-105\"/>\n      <use x=\"1449.439453\" xlink:href=\"#DejaVuSans-102\"/>\n      <use x=\"1484.644531\" xlink:href=\"#DejaVuSans-105\"/>\n      <use x=\"1512.427734\" xlink:href=\"#DejaVuSans-99\"/>\n      <use x=\"1567.408203\" xlink:href=\"#DejaVuSans-105\"/>\n      <use x=\"1595.191406\" xlink:href=\"#DejaVuSans-116\"/>\n      <use x=\"1634.400391\" xlink:href=\"#DejaVuSans-121\"/>\n      <use x=\"1693.580078\" xlink:href=\"#DejaVuSans-41\"/>\n     </g>\n    </g>\n   </g>\n   <g id=\"matplotlib.axis_2\">\n    <g id=\"ytick_1\">\n     <g id=\"line2d_13\">\n      <path clip-path=\"url(#paf5cda446d)\" d=\"M 43.78125 239.758125 \nL 378.58125 239.758125 \n\" style=\"fill:none;stroke:#b0b0b0;stroke-linecap:square;stroke-width:0.8;\"/>\n     </g>\n     <g id=\"line2d_14\">\n      <defs>\n       <path d=\"M 0 0 \nL -3.5 0 \n\" id=\"m5ff3da9067\" style=\"stroke:#000000;stroke-width:0.8;\"/>\n      </defs>\n      <g>\n       <use style=\"stroke:#000000;stroke-width:0.8;\" x=\"43.78125\" xlink:href=\"#m5ff3da9067\" y=\"239.758125\"/>\n      </g>\n     </g>\n     <g id=\"text_8\">\n      <!-- 0.0 -->\n      <g transform=\"translate(20.878125 243.557344)scale(0.1 -0.1)\">\n       <use xlink:href=\"#DejaVuSans-48\"/>\n       <use x=\"63.623047\" xlink:href=\"#DejaVuSans-46\"/>\n       <use x=\"95.410156\" xlink:href=\"#DejaVuSans-48\"/>\n      </g>\n     </g>\n    </g>\n    <g id=\"ytick_2\">\n     <g id=\"line2d_15\">\n      <path clip-path=\"url(#paf5cda446d)\" d=\"M 43.78125 196.270125 \nL 378.58125 196.270125 \n\" style=\"fill:none;stroke:#b0b0b0;stroke-linecap:square;stroke-width:0.8;\"/>\n     </g>\n     <g id=\"line2d_16\">\n      <g>\n       <use style=\"stroke:#000000;stroke-width:0.8;\" x=\"43.78125\" xlink:href=\"#m5ff3da9067\" y=\"196.270125\"/>\n      </g>\n     </g>\n     <g id=\"text_9\">\n      <!-- 0.2 -->\n      <g transform=\"translate(20.878125 200.069344)scale(0.1 -0.1)\">\n       <use xlink:href=\"#DejaVuSans-48\"/>\n       <use x=\"63.623047\" xlink:href=\"#DejaVuSans-46\"/>\n       <use x=\"95.410156\" xlink:href=\"#DejaVuSans-50\"/>\n      </g>\n     </g>\n    </g>\n    <g id=\"ytick_3\">\n     <g id=\"line2d_17\">\n      <path clip-path=\"url(#paf5cda446d)\" d=\"M 43.78125 152.782125 \nL 378.58125 152.782125 \n\" style=\"fill:none;stroke:#b0b0b0;stroke-linecap:square;stroke-width:0.8;\"/>\n     </g>\n     <g id=\"line2d_18\">\n      <g>\n       <use style=\"stroke:#000000;stroke-width:0.8;\" x=\"43.78125\" xlink:href=\"#m5ff3da9067\" y=\"152.782125\"/>\n      </g>\n     </g>\n     <g id=\"text_10\">\n      <!-- 0.4 -->\n      <g transform=\"translate(20.878125 156.581344)scale(0.1 -0.1)\">\n       <use xlink:href=\"#DejaVuSans-48\"/>\n       <use x=\"63.623047\" xlink:href=\"#DejaVuSans-46\"/>\n       <use x=\"95.410156\" xlink:href=\"#DejaVuSans-52\"/>\n      </g>\n     </g>\n    </g>\n    <g id=\"ytick_4\">\n     <g id=\"line2d_19\">\n      <path clip-path=\"url(#paf5cda446d)\" d=\"M 43.78125 109.294125 \nL 378.58125 109.294125 \n\" style=\"fill:none;stroke:#b0b0b0;stroke-linecap:square;stroke-width:0.8;\"/>\n     </g>\n     <g id=\"line2d_20\">\n      <g>\n       <use style=\"stroke:#000000;stroke-width:0.8;\" x=\"43.78125\" xlink:href=\"#m5ff3da9067\" y=\"109.294125\"/>\n      </g>\n     </g>\n     <g id=\"text_11\">\n      <!-- 0.6 -->\n      <g transform=\"translate(20.878125 113.093344)scale(0.1 -0.1)\">\n       <use xlink:href=\"#DejaVuSans-48\"/>\n       <use x=\"63.623047\" xlink:href=\"#DejaVuSans-46\"/>\n       <use x=\"95.410156\" xlink:href=\"#DejaVuSans-54\"/>\n      </g>\n     </g>\n    </g>\n    <g id=\"ytick_5\">\n     <g id=\"line2d_21\">\n      <path clip-path=\"url(#paf5cda446d)\" d=\"M 43.78125 65.806125 \nL 378.58125 65.806125 \n\" style=\"fill:none;stroke:#b0b0b0;stroke-linecap:square;stroke-width:0.8;\"/>\n     </g>\n     <g id=\"line2d_22\">\n      <g>\n       <use style=\"stroke:#000000;stroke-width:0.8;\" x=\"43.78125\" xlink:href=\"#m5ff3da9067\" y=\"65.806125\"/>\n      </g>\n     </g>\n     <g id=\"text_12\">\n      <!-- 0.8 -->\n      <g transform=\"translate(20.878125 69.605344)scale(0.1 -0.1)\">\n       <use xlink:href=\"#DejaVuSans-48\"/>\n       <use x=\"63.623047\" xlink:href=\"#DejaVuSans-46\"/>\n       <use x=\"95.410156\" xlink:href=\"#DejaVuSans-56\"/>\n      </g>\n     </g>\n    </g>\n    <g id=\"ytick_6\">\n     <g id=\"line2d_23\">\n      <path clip-path=\"url(#paf5cda446d)\" d=\"M 43.78125 22.318125 \nL 378.58125 22.318125 \n\" style=\"fill:none;stroke:#b0b0b0;stroke-linecap:square;stroke-width:0.8;\"/>\n     </g>\n     <g id=\"line2d_24\">\n      <g>\n       <use style=\"stroke:#000000;stroke-width:0.8;\" x=\"43.78125\" xlink:href=\"#m5ff3da9067\" y=\"22.318125\"/>\n      </g>\n     </g>\n     <g id=\"text_13\">\n      <!-- 1.0 -->\n      <g transform=\"translate(20.878125 26.117344)scale(0.1 -0.1)\">\n       <use xlink:href=\"#DejaVuSans-49\"/>\n       <use x=\"63.623047\" xlink:href=\"#DejaVuSans-46\"/>\n       <use x=\"95.410156\" xlink:href=\"#DejaVuSans-48\"/>\n      </g>\n     </g>\n    </g>\n    <g id=\"text_14\">\n     <!-- True Positive Rate (Sensitivity) -->\n     <defs>\n      <path d=\"M -0.296875 72.90625 \nL 61.375 72.90625 \nL 61.375 64.59375 \nL 35.5 64.59375 \nL 35.5 0 \nL 25.59375 0 \nL 25.59375 64.59375 \nL -0.296875 64.59375 \nz\n\" id=\"DejaVuSans-84\"/>\n      <path d=\"M 41.109375 46.296875 \nQ 39.59375 47.171875 37.8125 47.578125 \nQ 36.03125 48 33.890625 48 \nQ 26.265625 48 22.1875 43.046875 \nQ 18.109375 38.09375 18.109375 28.8125 \nL 18.109375 0 \nL 9.078125 0 \nL 9.078125 54.6875 \nL 18.109375 54.6875 \nL 18.109375 46.1875 \nQ 20.953125 51.171875 25.484375 53.578125 \nQ 30.03125 56 36.53125 56 \nQ 37.453125 56 38.578125 55.875 \nQ 39.703125 55.765625 41.0625 55.515625 \nz\n\" id=\"DejaVuSans-114\"/>\n      <path d=\"M 8.5 21.578125 \nL 8.5 54.6875 \nL 17.484375 54.6875 \nL 17.484375 21.921875 \nQ 17.484375 14.15625 20.5 10.265625 \nQ 23.53125 6.390625 29.59375 6.390625 \nQ 36.859375 6.390625 41.078125 11.03125 \nQ 45.3125 15.671875 45.3125 23.6875 \nL 45.3125 54.6875 \nL 54.296875 54.6875 \nL 54.296875 0 \nL 45.3125 0 \nL 45.3125 8.40625 \nQ 42.046875 3.421875 37.71875 1 \nQ 33.40625 -1.421875 27.6875 -1.421875 \nQ 18.265625 -1.421875 13.375 4.4375 \nQ 8.5 10.296875 8.5 21.578125 \nz\nM 31.109375 56 \nz\n\" id=\"DejaVuSans-117\"/>\n      <path d=\"M 54.890625 33.015625 \nL 54.890625 0 \nL 45.90625 0 \nL 45.90625 32.71875 \nQ 45.90625 40.484375 42.875 44.328125 \nQ 39.84375 48.1875 33.796875 48.1875 \nQ 26.515625 48.1875 22.3125 43.546875 \nQ 18.109375 38.921875 18.109375 30.90625 \nL 18.109375 0 \nL 9.078125 0 \nL 9.078125 54.6875 \nL 18.109375 54.6875 \nL 18.109375 46.1875 \nQ 21.34375 51.125 25.703125 53.5625 \nQ 30.078125 56 35.796875 56 \nQ 45.21875 56 50.046875 50.171875 \nQ 54.890625 44.34375 54.890625 33.015625 \nz\n\" id=\"DejaVuSans-110\"/>\n     </defs>\n     <g transform=\"translate(14.798438 208.105312)rotate(-90)scale(0.1 -0.1)\">\n      <use xlink:href=\"#DejaVuSans-84\"/>\n      <use x=\"60.865234\" xlink:href=\"#DejaVuSans-114\"/>\n      <use x=\"101.978516\" xlink:href=\"#DejaVuSans-117\"/>\n      <use x=\"165.357422\" xlink:href=\"#DejaVuSans-101\"/>\n      <use x=\"226.880859\" xlink:href=\"#DejaVuSans-32\"/>\n      <use x=\"258.667969\" xlink:href=\"#DejaVuSans-80\"/>\n      <use x=\"318.923828\" xlink:href=\"#DejaVuSans-111\"/>\n      <use x=\"380.105469\" xlink:href=\"#DejaVuSans-115\"/>\n      <use x=\"432.205078\" xlink:href=\"#DejaVuSans-105\"/>\n      <use x=\"459.988281\" xlink:href=\"#DejaVuSans-116\"/>\n      <use x=\"499.197266\" xlink:href=\"#DejaVuSans-105\"/>\n      <use x=\"526.980469\" xlink:href=\"#DejaVuSans-118\"/>\n      <use x=\"586.160156\" xlink:href=\"#DejaVuSans-101\"/>\n      <use x=\"647.683594\" xlink:href=\"#DejaVuSans-32\"/>\n      <use x=\"679.470703\" xlink:href=\"#DejaVuSans-82\"/>\n      <use x=\"748.921875\" xlink:href=\"#DejaVuSans-97\"/>\n      <use x=\"810.201172\" xlink:href=\"#DejaVuSans-116\"/>\n      <use x=\"849.410156\" xlink:href=\"#DejaVuSans-101\"/>\n      <use x=\"910.933594\" xlink:href=\"#DejaVuSans-32\"/>\n      <use x=\"942.720703\" xlink:href=\"#DejaVuSans-40\"/>\n      <use x=\"981.734375\" xlink:href=\"#DejaVuSans-83\"/>\n      <use x=\"1045.210938\" xlink:href=\"#DejaVuSans-101\"/>\n      <use x=\"1106.734375\" xlink:href=\"#DejaVuSans-110\"/>\n      <use x=\"1170.113281\" xlink:href=\"#DejaVuSans-115\"/>\n      <use x=\"1222.212891\" xlink:href=\"#DejaVuSans-105\"/>\n      <use x=\"1249.996094\" xlink:href=\"#DejaVuSans-116\"/>\n      <use x=\"1289.205078\" xlink:href=\"#DejaVuSans-105\"/>\n      <use x=\"1316.988281\" xlink:href=\"#DejaVuSans-118\"/>\n      <use x=\"1376.167969\" xlink:href=\"#DejaVuSans-105\"/>\n      <use x=\"1403.951172\" xlink:href=\"#DejaVuSans-116\"/>\n      <use x=\"1443.160156\" xlink:href=\"#DejaVuSans-121\"/>\n      <use x=\"1502.339844\" xlink:href=\"#DejaVuSans-41\"/>\n     </g>\n    </g>\n   </g>\n   <g id=\"line2d_25\">\n    <path clip-path=\"url(#paf5cda446d)\" d=\"M 43.78125 239.758125 \nL 43.87119 239.758125 \nL 43.916159 239.200229 \nL 44.051069 239.130492 \nL 44.141008 238.781807 \nL 44.185978 238.781807 \nL 44.275918 238.433122 \nL 44.365857 238.363385 \nL 44.365857 238.293648 \nL 44.545736 238.293648 \nL 44.635676 238.0147 \nL 44.680646 238.0147 \nL 44.725615 237.666015 \nL 44.860525 237.666015 \nL 44.905494 237.177856 \nL 45.130343 237.108119 \nL 45.220283 236.898908 \nL 45.310222 236.898908 \nL 45.355192 236.480485 \nL 45.445132 236.480485 \nL 45.490102 236.271274 \nL 45.580041 236.271274 \nL 45.669981 236.062063 \nL 45.80489 236.062063 \nL 45.84986 235.713378 \nL 46.029739 235.643641 \nL 46.119678 235.294956 \nL 46.164648 235.294956 \nL 46.254588 233.691005 \nL 46.299558 233.691005 \nL 46.299558 233.621268 \nL 46.344527 233.551531 \nL 46.479437 233.551531 \nL 46.569376 232.366002 \nL 46.614346 232.366002 \nL 46.704286 230.483103 \nL 46.794225 230.413366 \nL 46.884165 229.297573 \nL 46.929134 229.297573 \nL 47.019074 228.809414 \nL 47.153983 228.809414 \nL 47.243923 228.181781 \nL 47.288893 228.181781 \nL 47.333862 227.763359 \nL 47.468772 227.763359 \nL 47.558711 227.344937 \nL 47.603681 227.344937 \nL 47.693621 226.019934 \nL 47.73859 226.019934 \nL 47.73859 225.740986 \nL 47.8735 225.740986 \nL 47.963439 224.904142 \nL 48.053379 224.834405 \nL 48.143319 223.927824 \nL 48.233258 223.927824 \nL 48.323198 223.30019 \nL 48.368167 223.30019 \nL 48.368167 223.160716 \nL 48.503077 223.160716 \nL 48.503077 223.021242 \nL 48.637986 222.951505 \nL 48.727926 221.975187 \nL 48.817865 221.90545 \nL 48.907805 221.277817 \nL 49.087684 221.20808 \nL 49.132654 220.650184 \nL 49.267563 220.650184 \nL 49.357503 220.162025 \nL 49.492412 220.092288 \nL 49.582351 219.604129 \nL 49.717261 219.604129 \nL 49.717261 219.534392 \nL 49.8072 219.11597 \nL 49.85217 219.11597 \nL 49.987079 218.767285 \nL 50.077019 217.442282 \nL 50.121989 217.442282 \nL 50.211928 216.465963 \nL 50.301868 216.465963 \nL 50.391807 214.025168 \nL 50.436777 214.025168 \nL 50.526717 213.815957 \nL 50.706596 213.74622 \nL 50.751566 213.327798 \nL 50.796535 213.327798 \nL 50.886475 213.258061 \nL 50.976415 212.700165 \nL 51.021384 212.700165 \nL 51.111324 212.281743 \nL 51.156294 211.933058 \nL 51.246233 210.608054 \nL 51.516052 210.189632 \nL 51.605991 209.701473 \nL 51.740901 209.701473 \nL 51.83084 209.213314 \nL 51.96575 209.143577 \nL 52.055689 208.585681 \nL 52.100659 208.585681 \nL 52.190599 208.236996 \nL 52.325508 208.167259 \nL 52.415447 207.958048 \nL 54.079329 203.00672 \nL 54.259208 202.936983 \nL 54.259208 202.518561 \nL 54.484057 202.169876 \nL 54.618967 202.169876 \nL 54.708906 201.542243 \nL 54.753876 201.542243 \nL 54.753876 201.402769 \nL 54.888785 201.402769 \nL 54.978725 200.635662 \nL 55.113634 200.635662 \nL 55.158604 200.147503 \nL 55.248543 200.147503 \nL 55.338483 199.450133 \nL 55.383453 199.450133 \nL 55.383453 199.240922 \nL 55.608302 199.240922 \nL 55.653271 198.892237 \nL 56.102969 198.543552 \nL 56.147939 198.125129 \nL 56.237879 198.125129 \nL 56.282848 197.915918 \nL 56.327818 197.915918 \nL 56.462728 197.776444 \nL 56.552667 196.800126 \nL 56.597637 196.800126 \nL 56.687576 196.311967 \nL 56.732546 196.311967 \nL 56.822486 195.54486 \nL 56.912425 195.475123 \nL 57.002365 194.289594 \nL 57.137274 194.289594 \nL 57.272184 194.15012 \nL 57.362123 193.383013 \nL 57.542002 193.383013 \nL 57.631942 193.034328 \nL 57.766851 192.964591 \nL 57.766851 192.825117 \nL 57.90176 192.825117 \nL 57.94673 192.546169 \nL 58.126609 192.476432 \nL 58.171579 192.267221 \nL 58.261519 192.267221 \nL 58.261519 192.05801 \nL 58.396428 192.05801 \nL 58.396428 191.918536 \nL 58.531337 191.918536 \nL 58.531337 191.779061 \nL 58.666247 191.779061 \nL 58.666247 191.639587 \nL 58.711216 191.639587 \nL 58.801156 191.639587 \nL 58.891096 191.290902 \nL 58.936065 191.290902 \nL 58.936065 191.151428 \nL 59.070975 191.151428 \nL 59.160914 190.87248 \nL 59.250854 190.802743 \nL 59.250854 190.593532 \nL 59.430733 190.593532 \nL 59.520672 190.105373 \nL 59.655582 190.105373 \nL 60.01534 189.756688 \nL 60.06031 189.268529 \nL 60.285159 189.129055 \nL 60.285159 188.919844 \nL 60.644917 188.292211 \nL 60.689887 188.292211 \nL 60.689887 188.013263 \nL 60.869766 187.943526 \nL 60.914736 187.38563 \nL 61.094615 187.315893 \nL 61.139584 186.967208 \nL 61.229524 186.967208 \nL 61.904071 185.154045 \nL 62.08395 185.084308 \nL 62.12892 184.80536 \nL 62.308799 184.735623 \nL 62.398738 184.317201 \nL 62.443708 184.317201 \nL 62.533648 183.968516 \nL 62.668557 183.968516 \nL 62.758496 183.759305 \nL 63.118255 183.201409 \nL 63.298134 183.201409 \nL 63.298134 182.71325 \nL 63.388073 182.71325 \nL 63.522983 182.434302 \nL 63.657892 182.434302 \nL 63.792801 182.225091 \nL 64.197529 181.876406 \nL 64.242499 181.527721 \nL 64.422378 181.388247 \nL 64.422378 181.039562 \nL 64.647227 180.969825 \nL 64.692197 180.830351 \nL 64.782137 180.830351 \nL 64.917046 180.481666 \nL 64.962016 180.481666 \nL 64.962016 180.411929 \nL 65.186865 180.132981 \nL 65.321774 180.063244 \nL 65.321774 179.92377 \nL 65.456683 179.92377 \nL 65.456683 179.854033 \nL 65.636562 179.575085 \nL 65.726502 179.505348 \nL 65.816441 179.156663 \nL 65.861411 179.156663 \nL 65.861411 178.877714 \nL 66.08626 178.807977 \nL 66.1762 178.459292 \nL 66.356079 178.389555 \nL 66.401049 177.971133 \nL 66.490988 177.971133 \nL 67.300444 176.297445 \nL 67.435353 176.227708 \nL 67.525293 175.879023 \nL 67.660202 175.809286 \nL 67.660202 175.600075 \nL 67.885051 175.530338 \nL 67.974991 174.902705 \nL 68.1099 174.902705 \nL 68.19984 174.484283 \nL 68.244809 174.484283 \nL 68.334749 173.996124 \nL 68.424689 173.926387 \nL 68.514628 173.786913 \nL 68.559598 173.786913 \nL 68.649537 173.647439 \nL 68.739477 173.229017 \nL 68.829417 173.15928 \nL 68.919356 172.880332 \nL 69.099235 172.810595 \nL 69.099235 172.740858 \nL 69.369054 172.671121 \nL 69.458993 172.322435 \nL 69.638873 172.252698 \nL 69.728812 171.834276 \nL 69.818752 171.834276 \nL 69.908691 171.485591 \nL 69.953661 171.485591 \nL 69.998631 171.136906 \nL 70.08857 171.136906 \nL 70.17851 170.857958 \nL 70.22348 170.857958 \nL 70.313419 170.439536 \nL 70.448329 170.439536 \nL 70.538268 169.88164 \nL 70.628208 169.88164 \nL 70.718147 169.532955 \nL 70.942996 169.463218 \nL 71.077905 169.18427 \nL 71.257785 169.114533 \nL 71.347724 168.765848 \nL 71.527603 168.626374 \nL 71.617543 168.626374 \nL 71.842392 168.068478 \nL 72.022271 168.068478 \nL 72.067241 167.719793 \nL 72.11221 167.719793 \nL 72.696817 167.161897 \nL 72.696817 167.022423 \nL 72.786757 167.022423 \nL 73.056576 166.952686 \nL 73.146515 165.976367 \nL 73.191485 165.976367 \nL 73.191485 165.90663 \nL 73.371364 165.697419 \nL 73.461304 165.278997 \nL 74.000941 163.81452 \nL 74.090881 163.81452 \nL 74.090881 163.675046 \nL 74.18082 163.675046 \nL 74.360699 163.605309 \nL 74.450639 163.186887 \nL 74.585548 163.11715 \nL 74.630518 162.907939 \nL 74.855367 162.838202 \nL 74.945306 162.41978 \nL 75.305065 162.350043 \nL 75.350034 161.931621 \nL 75.574883 161.861884 \nL 75.574883 161.792147 \nL 75.709793 161.443462 \nL 75.934642 161.443462 \nL 76.024581 161.02504 \nL 76.24943 160.955303 \nL 76.879007 160.536881 \nL 76.879007 160.397407 \nL 77.238765 160.32767 \nL 77.328705 160.118459 \nL 77.508584 160.048722 \nL 77.598523 159.769773 \nL 77.643493 159.769773 \nL 77.688463 159.490825 \nL 77.868342 159.421088 \nL 77.868342 159.351351 \nL 77.913312 159.351351 \nL 78.003251 159.351351 \nL 78.003251 159.281614 \nL 78.18313 158.793455 \nL 78.31804 158.793455 \nL 78.36301 158.44477 \nL 78.452949 158.44477 \nL 78.542889 157.677663 \nL 78.767738 157.607926 \nL 78.767738 157.538189 \nL 78.902647 157.538189 \nL 78.992586 156.910556 \nL 79.082526 156.910556 \nL 79.172466 156.561871 \nL 79.487254 156.492134 \nL 79.577194 155.934238 \nL 80.071861 155.097394 \nL 80.161801 154.818446 \nL 80.20677 154.818446 \nL 80.29671 154.469761 \nL 80.38665 154.469761 \nL 80.38665 154.400024 \nL 80.38665 154.26055 \nL 80.476589 154.26055 \nL 80.746408 154.190813 \nL 81.375985 153.353968 \nL 81.420954 152.865809 \nL 81.555864 152.865809 \nL 81.600834 152.586861 \nL 81.690773 152.586861 \nL 81.690773 152.238176 \nL 81.780713 152.238176 \nL 81.870652 152.168439 \nL 82.050531 151.750017 \nL 82.32035 151.261858 \nL 82.32035 151.122384 \nL 82.455259 151.122384 \nL 82.545199 150.843436 \nL 82.725078 150.843436 \nL 82.725078 150.634225 \nL 82.904957 150.564488 \nL 82.904957 150.425014 \nL 83.084836 150.355277 \nL 83.174776 149.867118 \nL 83.264715 149.727644 \nL 83.489564 149.727644 \nL 83.534534 149.378959 \nL 83.714413 149.309222 \nL 83.804353 149.100011 \nL 83.894292 148.751326 \nL 84.29902 148.681589 \nL 84.38896 148.402641 \nL 84.613809 148.332904 \nL 84.703748 147.984219 \nL 84.838658 147.635534 \nL 85.108476 147.635534 \nL 85.333325 147.217112 \nL 85.648114 146.868426 \nL 85.693083 146.728952 \nL 85.917932 146.659215 \nL 86.547509 146.031582 \nL 86.637449 145.543423 \nL 86.817328 145.473686 \nL 86.907267 145.334212 \nL 87.536844 143.52105 \nL 87.626784 143.52105 \nL 87.626784 143.381576 \nL 87.896603 143.311839 \nL 87.896603 142.963154 \nL 87.941572 142.963154 \nL 88.256361 142.893417 \nL 88.3463 142.474995 \nL 88.526179 142.474995 \nL 88.526179 142.196047 \nL 88.571149 142.196047 \nL 89.020847 141.080255 \nL 89.155756 141.080255 \nL 89.155756 140.940781 \nL 89.200726 140.940781 \nL 89.695394 140.034199 \nL 89.785333 139.755251 \nL 89.785333 139.476303 \nL 89.920243 139.476303 \nL 89.965212 139.197355 \nL 90.54982 139.197355 \nL 90.639759 138.569722 \nL 90.684729 138.569722 \nL 90.684729 138.360511 \nL 90.774668 138.360511 \nL 90.909578 138.1513 \nL 90.999517 137.872352 \nL 91.044487 137.872352 \nL 91.044487 137.802615 \nL 91.179396 137.732878 \nL 91.269336 137.314456 \nL 91.314306 137.314456 \nL 91.449215 136.896034 \nL 91.629094 136.826297 \nL 91.674064 136.617086 \nL 91.898913 136.547349 \nL 91.988852 136.407875 \nL 92.123762 136.338138 \nL 92.123762 136.268401 \nL 92.213701 136.268401 \nL 92.348611 136.198664 \nL 92.39358 135.919716 \nL 92.663399 135.849979 \nL 92.933218 135.36182 \nL 93.023157 135.082872 \nL 93.113097 135.013135 \nL 93.248006 134.734187 \nL 93.472855 134.734187 \nL 93.607764 134.594713 \nL 93.787644 134.524976 \nL 93.787644 134.455239 \nL 94.192372 133.967079 \nL 94.372251 133.967079 \nL 94.372251 133.827605 \nL 94.50716 133.827605 \nL 94.55213 133.548657 \nL 94.732009 133.409183 \nL 94.732009 133.130235 \nL 95.001828 133.130235 \nL 95.091767 132.572339 \nL 95.181707 132.572339 \nL 95.901223 130.898651 \nL 96.395891 130.828914 \nL 96.44086 130.549966 \nL 96.48583 130.549966 \nL 96.890558 130.271018 \nL 96.935528 130.131544 \nL 97.250316 129.852596 \nL 97.340256 129.573648 \nL 97.385226 129.573648 \nL 97.475165 129.155226 \nL 97.924863 129.155226 \nL 97.924863 128.946015 \nL 98.014803 128.946015 \nL 98.284621 128.876278 \nL 98.374561 128.59733 \nL 98.689349 128.527593 \nL 98.779289 128.318382 \nL 98.779289 128.178908 \nL 98.914198 128.178908 \nL 98.914198 128.109171 \nL 99.004138 127.89996 \nL 99.273957 127.830222 \nL 99.273957 127.760485 \nL 99.318926 127.760485 \nL 99.453836 127.760485 \nL 99.453836 127.621011 \nL 99.633715 127.551274 \nL 99.858564 127.342063 \nL 100.398201 127.272326 \nL 100.398201 127.202589 \nL 100.57808 127.132852 \nL 100.62305 127.063115 \nL 100.712989 126.574956 \nL 100.847899 126.574956 \nL 100.937838 126.226271 \nL 101.207657 126.156534 \nL 101.297597 125.807849 \nL 101.387536 125.738112 \nL 101.837234 125.31969 \nL 101.837234 125.110479 \nL 102.017113 125.040742 \nL 102.017113 124.761794 \nL 102.062083 124.761794 \nL 102.286932 124.692057 \nL 102.376871 124.413109 \nL 102.961478 124.343372 \nL 103.006448 124.064424 \nL 103.276267 123.994687 \nL 103.276267 123.855213 \nL 103.725965 123.785476 \nL 103.725965 123.646002 \nL 103.950813 123.576265 \nL 104.040753 123.367054 \nL 104.130693 123.297317 \nL 104.130693 123.088106 \nL 104.445481 122.878895 \nL 104.445481 122.739421 \nL 104.490451 122.739421 \nL 104.850209 122.390736 \nL 104.895179 122.042051 \nL 104.985118 122.042051 \nL 105.075058 121.414417 \nL 105.209967 121.34468 \nL 105.299907 120.926258 \nL 105.524756 120.856521 \nL 105.614695 120.438099 \nL 105.659665 120.438099 \nL 105.749605 120.228888 \nL 105.839544 120.228888 \nL 105.929484 120.019677 \nL 106.019423 119.94994 \nL 106.019423 119.880203 \nL 106.73894 119.182833 \nL 106.828879 118.973622 \nL 106.918819 118.973622 \nL 106.918819 118.624937 \nL 107.143668 118.415726 \nL 107.188638 117.997304 \nL 107.368517 117.997304 \nL 107.368517 117.927567 \nL 107.548396 117.788093 \nL 108.043063 117.718356 \nL 108.133003 117.578882 \nL 108.62767 117.578882 \nL 108.62767 117.509145 \nL 108.852519 117.299934 \nL 108.942459 117.230197 \nL 108.942459 117.16046 \nL 108.987429 117.16046 \nL 109.257247 116.951249 \nL 109.257247 116.881512 \nL 109.437126 116.881512 \nL 109.706945 116.393353 \nL 110.381492 116.114405 \nL 110.69628 116.044668 \nL 110.74125 115.835457 \nL 110.876159 115.835457 \nL 110.876159 115.76572 \nL 111.101008 115.417035 \nL 111.505736 115.347298 \nL 111.505736 114.789401 \nL 111.775555 114.719664 \nL 111.865494 114.58019 \nL 112.090343 114.58019 \nL 112.135313 114.301242 \nL 112.360162 114.231505 \nL 112.450102 113.952557 \nL 112.495071 113.952557 \nL 112.495071 113.673609 \nL 112.585011 113.673609 \nL 112.629981 113.673609 \nL 112.629981 113.534135 \nL 112.80986 113.464398 \nL 112.899799 113.255187 \nL 112.944769 113.255187 \nL 113.034709 113.045976 \nL 113.079678 113.045976 \nL 113.169618 112.557817 \nL 113.574346 112.48808 \nL 113.574346 112.348606 \nL 113.664286 112.348606 \nL 113.889134 112.278869 \nL 113.934104 112.139395 \nL 113.979074 112.139395 \nL 114.248893 111.581499 \nL 114.428772 111.511762 \nL 114.74356 110.814392 \nL 115.013379 110.744655 \nL 115.013379 110.674918 \nL 115.283198 110.674918 \nL 115.328167 110.39597 \nL 115.597986 110.326233 \nL 115.642956 109.977548 \nL 115.687926 109.977548 \nL 115.867805 109.907811 \nL 116.722231 109.349915 \nL 116.85714 109.280178 \nL 116.85714 109.210441 \nL 116.90211 109.210441 \nL 116.992049 109.210441 \nL 116.992049 109.070967 \nL 117.126959 109.070967 \nL 117.216898 108.792019 \nL 117.351807 108.722282 \nL 117.351807 108.652544 \nL 117.891445 108.164385 \nL 118.251203 107.955174 \nL 118.655931 107.397278 \nL 118.79084 107.327541 \nL 118.83581 107.048593 \nL 118.92575 107.048593 \nL 118.92575 106.978856 \nL 119.150599 106.560434 \nL 119.195568 106.281486 \nL 119.375447 106.211749 \nL 119.420417 106.142012 \nL 119.690236 106.072275 \nL 119.690236 106.002538 \nL 119.735206 106.002538 \nL 120.005024 105.932801 \nL 120.589631 105.514379 \nL 120.85945 105.444642 \nL 120.94939 105.305168 \nL 121.084299 105.235431 \nL 121.129269 105.165694 \nL 121.219208 104.747272 \nL 121.489027 104.677535 \nL 121.489027 104.607798 \nL 121.578967 104.607798 \nL 121.623936 104.607798 \nL 121.713876 104.119639 \nL 121.893755 104.049902 \nL 121.893755 103.840691 \nL 121.983695 103.840691 \nL 122.118604 103.840691 \nL 122.208543 103.492006 \nL 122.298483 103.492006 \nL 122.388423 103.143321 \nL 122.433392 103.143321 \nL 122.433392 103.073584 \nL 122.613271 102.794636 \nL 122.88309 102.724899 \nL 122.88309 102.655162 \nL 122.97303 102.655162 \nL 123.152909 102.585425 \nL 123.197879 102.236739 \nL 123.512667 102.027528 \nL 123.962365 101.957791 \nL 124.052304 101.678843 \nL 124.367093 101.609106 \nL 124.367093 101.539369 \nL 124.412063 101.539369 \nL 124.681881 101.469632 \nL 124.771821 101.260421 \nL 124.816791 101.260421 \nL 124.86176 101.05121 \nL 125.086609 101.05121 \nL 125.311458 100.632788 \nL 125.446368 100.563051 \nL 125.536307 100.423577 \nL 125.941035 100.35384 \nL 126.210854 100.074892 \nL 126.570612 100.005155 \nL 127.02031 99.65647 \nL 127.155219 99.586733 \nL 127.155219 99.516996 \nL 127.290128 99.516996 \nL 127.514977 99.377522 \nL 127.784796 99.377522 \nL 127.784796 99.238048 \nL 128.009645 99.238048 \nL 128.009645 99.028837 \nL 128.324433 98.9591 \nL 128.324433 98.889363 \nL 128.864071 98.819626 \nL 128.99898 98.749889 \nL 129.04395 98.401204 \nL 129.08892 98.401204 \nL 129.223829 98.401204 \nL 129.493648 98.052519 \nL 129.583587 97.634097 \nL 129.628557 97.634097 \nL 129.763466 97.355149 \nL 130.168194 97.215675 \nL 130.168194 97.006464 \nL 130.527952 96.936727 \nL 130.572922 96.797253 \nL 131.11256 96.727516 \nL 131.157529 96.588042 \nL 131.292439 96.518305 \nL 131.337408 96.239357 \nL 131.652197 96.239357 \nL 132.416683 95.611723 \nL 132.776441 95.611723 \nL 132.866381 95.263038 \nL 132.911351 95.193301 \nL 133.09123 95.193301 \nL 133.09123 95.053827 \nL 133.1362 95.053827 \nL 133.271109 95.053827 \nL 133.271109 94.914353 \nL 133.406018 94.914353 \nL 133.945656 94.565668 \nL 134.260444 94.565668 \nL 134.305414 94.356457 \nL 134.440323 94.356457 \nL 134.710142 93.868298 \nL 134.800081 93.798561 \nL 134.890021 93.519613 \nL 134.979961 93.519613 \nL 135.15984 93.101191 \nL 135.699477 93.101191 \nL 135.969296 92.473558 \nL 136.104205 92.403821 \nL 136.194145 92.264347 \nL 136.508933 92.19461 \nL 136.508933 92.055136 \nL 136.598873 92.055136 \nL 137.09354 91.776188 \nL 137.408329 91.706451 \nL 137.408329 91.636714 \nL 137.498268 91.636714 \nL 137.588208 91.566977 \nL 137.588208 91.49724 \nL 137.768087 91.49724 \nL 137.902996 91.357766 \nL 137.902996 91.078818 \nL 138.307724 91.078818 \nL 138.307724 91.009081 \nL 138.667482 90.590659 \nL 138.802392 90.590659 \nL 138.802392 90.381448 \nL 138.892331 90.381448 \nL 139.027241 90.381448 \nL 139.11718 90.1025 \nL 139.16215 90.1025 \nL 139.20712 89.823552 \nL 139.611848 89.753815 \nL 139.701787 89.544604 \nL 139.836697 89.544604 \nL 139.836697 89.405129 \nL 140.376334 89.335392 \nL 140.421304 89.195918 \nL 140.915971 89.126181 \nL 140.915971 89.056444 \nL 141.14082 88.986707 \nL 141.23076 88.847233 \nL 141.770397 88.777496 \nL 142.040216 88.638022 \nL 142.310034 88.638022 \nL 142.310034 88.498548 \nL 143.074521 88.428811 \nL 143.11949 88.289337 \nL 143.16446 88.289337 \nL 143.434279 87.870915 \nL 143.524218 87.801178 \nL 143.524218 87.731441 \nL 143.569188 87.731441 \nL 143.794037 87.731441 \nL 143.794037 87.661704 \nL 144.108826 87.313019 \nL 144.153795 87.173545 \nL 144.378644 87.103808 \nL 144.378644 87.034071 \nL 144.738402 86.964334 \nL 144.738402 86.894597 \nL 144.873312 86.894597 \nL 144.918282 86.685386 \nL 145.32301 86.615649 \nL 145.637798 86.266964 \nL 145.772707 86.266964 \nL 145.772707 86.197227 \nL 146.312345 85.848542 \nL 146.762042 84.802487 \nL 146.986891 84.802487 \nL 147.076831 84.593276 \nL 147.16677 84.593276 \nL 147.25671 84.453802 \nL 147.661438 84.384065 \nL 147.706408 84.03538 \nL 147.886287 83.965643 \nL 147.886287 83.826169 \nL 147.976226 83.826169 \nL 148.650773 83.756432 \nL 148.650773 83.477484 \nL 148.920592 83.407747 \nL 148.920592 83.33801 \nL 149.190411 83.059061 \nL 149.28035 82.989324 \nL 149.28035 82.919587 \nL 149.640108 82.84985 \nL 149.640108 82.710376 \nL 149.954897 82.640639 \nL 149.999867 82.501165 \nL 150.044836 82.501165 \nL 150.224715 82.291954 \nL 150.359625 82.222217 \nL 150.494534 82.15248 \nL 150.719383 82.082743 \nL 150.944232 81.803795 \nL 151.25902 81.734058 \nL 151.34896 81.524847 \nL 151.483869 81.45511 \nL 151.528839 81.106425 \nL 151.618779 81.106425 \nL 151.618779 80.897214 \nL 152.473204 80.827477 \nL 152.518174 80.688003 \nL 152.698053 80.618266 \nL 152.743023 80.478792 \nL 152.787993 80.478792 \nL 152.877932 80.269581 \nL 153.057811 80.269581 \nL 153.102781 80.06037 \nL 153.552479 79.990633 \nL 153.597449 79.920896 \nL 153.912237 79.920896 \nL 153.912237 79.781422 \nL 154.137086 79.711685 \nL 154.137086 79.572211 \nL 154.227026 79.572211 \nL 154.316965 79.572211 \nL 154.361935 79.363 \nL 154.406905 79.363 \nL 154.721693 79.293263 \nL 154.721693 79.084052 \nL 154.811633 79.084052 \nL 154.856603 79.014315 \nL 155.036482 78.944578 \nL 155.081451 78.805104 \nL 155.216361 78.805104 \nL 155.216361 78.66563 \nL 155.261331 78.66563 \nL 155.35127 78.66563 \nL 155.44121 78.456419 \nL 155.935877 78.386682 \nL 156.025817 77.96826 \nL 156.250666 77.898523 \nL 156.250666 77.689312 \nL 156.835273 77.619575 \nL 156.835273 77.549838 \nL 157.060122 77.480101 \nL 157.060122 77.410364 \nL 157.644729 77.340627 \nL 157.734668 77.131416 \nL 159.083762 77.061679 \nL 159.083762 76.991942 \nL 159.173701 76.991942 \nL 159.308611 76.922205 \nL 159.48849 76.852468 \nL 159.578429 76.712994 \nL 160.252976 76.643256 \nL 160.297946 76.503782 \nL 160.702674 76.434045 \nL 160.747644 76.224834 \nL 161.062432 76.155097 \nL 161.062432 76.08536 \nL 161.332251 76.015623 \nL 161.332251 75.945886 \nL 161.692009 75.876149 \nL 161.692009 75.806412 \nL 161.736979 75.806412 \nL 162.051767 75.736675 \nL 162.051767 75.666938 \nL 162.231646 75.666938 \nL 162.231646 75.597201 \nL 163.041102 75.109042 \nL 163.355891 75.039305 \nL 163.355891 74.969568 \nL 163.625709 74.899831 \nL 163.625709 74.760357 \nL 163.670679 74.760357 \nL 163.940498 74.69062 \nL 164.075407 74.551146 \nL 164.480135 74.481409 \nL 164.525105 74.272198 \nL 164.704984 74.272198 \nL 164.704984 74.132724 \nL 164.794924 74.132724 \nL 165.109712 74.062987 \nL 165.199652 73.644565 \nL 165.51444 73.574828 \nL 165.51444 73.505091 \nL 165.60438 73.505091 \nL 165.874198 73.505091 \nL 165.919168 73.156406 \nL 166.188987 73.156406 \nL 166.188987 72.807721 \nL 166.278926 72.807721 \nL 166.593715 72.807721 \nL 167.043413 72.319562 \nL 167.133352 71.970877 \nL 167.358201 71.90114 \nL 167.53808 71.691929 \nL 167.62802 71.691929 \nL 167.62802 71.552455 \nL 167.717959 71.552455 \nL 168.032748 71.482718 \nL 168.122687 71.343244 \nL 168.212627 71.343244 \nL 168.212627 71.20377 \nL 168.437476 71.20377 \nL 168.527415 70.855085 \nL 168.707294 70.855085 \nL 168.752264 70.645874 \nL 169.246932 70.576137 \nL 169.336871 70.366926 \nL 169.471781 70.366926 \nL 169.471781 70.157714 \nL 170.551055 69.530081 \nL 170.596025 69.251133 \nL 170.775904 69.251133 \nL 170.775904 69.111659 \nL 171.54039 69.041922 \nL 171.54039 68.902448 \nL 171.945118 68.832711 \nL 171.945118 68.762974 \nL 172.574695 68.693237 \nL 172.754574 68.414289 \nL 172.844514 67.995867 \nL 173.249242 67.92613 \nL 174.193607 67.22876 \nL 174.553366 67.159023 \nL 174.553366 67.089286 \nL 174.598335 67.089286 \nL 174.778214 67.089286 \nL 174.778214 67.019549 \nL 174.913124 66.880075 \nL 175.272882 66.810338 \nL 175.272882 66.740601 \nL 175.542701 66.670864 \nL 175.63264 66.322179 \nL 175.72258 66.322179 \nL 176.172278 65.903757 \nL 176.487066 65.83402 \nL 176.487066 65.694546 \nL 176.532036 65.694546 \nL 176.711915 65.624809 \nL 176.936764 65.555072 \nL 177.881129 65.485335 \nL 177.881129 65.415598 \nL 177.926099 65.415598 \nL 178.105978 65.345861 \nL 178.150948 65.13665 \nL 178.195918 65.13665 \nL 178.870464 65.066913 \nL 178.870464 64.997176 \nL 179.185253 64.927439 \nL 179.185253 64.648491 \nL 179.455071 64.578754 \nL 179.500041 64.369543 \nL 179.545011 64.369543 \nL 180.489376 64.299806 \nL 180.534346 64.160332 \nL 180.984044 64.090595 \nL 181.029014 63.951121 \nL 181.388772 63.881383 \nL 181.83847 63.532698 \nL 181.883439 63.393224 \nL 182.063319 63.323487 \nL 182.063319 63.25375 \nL 182.153258 63.25375 \nL 182.378107 63.184013 \nL 182.962714 63.114276 \nL 183.457382 63.114276 \nL 183.547321 62.974802 \nL 184.311807 62.905065 \nL 184.806475 62.486643 \nL 185.75084 62.416906 \nL 185.75084 62.347169 \nL 185.79581 62.347169 \nL 186.065629 62.347169 \nL 186.110599 62.068221 \nL 186.695206 61.998484 \nL 186.695206 61.789273 \nL 186.785145 61.789273 \nL 187.189873 61.719536 \nL 187.234843 61.580062 \nL 187.549631 61.580062 \nL 187.549631 61.510325 \nL 187.77448 61.16164 \nL 188.493997 61.091903 \nL 188.538967 60.882692 \nL 188.808785 60.812955 \nL 188.808785 60.603744 \nL 188.853755 60.603744 \nL 189.168543 60.46427 \nL 189.88806 60.394533 \nL 189.88806 60.324796 \nL 189.93303 60.324796 \nL 190.382728 60.255059 \nL 190.382728 60.185322 \nL 191.327093 60.115585 \nL 191.462002 59.836637 \nL 192.181519 59.836637 \nL 192.226488 59.627426 \nL 192.316428 59.627426 \nL 192.316428 59.487952 \nL 192.406368 59.487952 \nL 192.631216 59.487952 \nL 192.721156 59.139267 \nL 192.901035 59.139267 \nL 192.990975 58.860319 \nL 193.215824 58.790582 \nL 193.755461 58.511634 \nL 193.755461 58.441897 \nL 193.98031 58.37216 \nL 194.070249 58.232686 \nL 194.789766 58.162949 \nL 194.789766 58.093212 \nL 194.879705 58.093212 \nL 195.239464 58.093212 \nL 195.239464 57.953738 \nL 195.824071 57.953738 \nL 195.824071 57.884001 \nL 196.138859 57.535316 \nL 196.633527 57.465578 \nL 196.633527 57.395841 \nL 196.678496 57.395841 \nL 196.858376 57.326104 \nL 196.948315 57.047156 \nL 197.083224 56.977419 \nL 197.083224 56.907682 \nL 197.442983 56.837945 \nL 197.442983 56.698471 \nL 197.487952 56.698471 \nL 197.757771 56.698471 \nL 197.757771 56.558997 \nL 197.847711 56.558997 \nL 198.477288 56.48926 \nL 198.837046 56.280049 \nL 198.926985 55.931364 \nL 198.971955 55.931364 \nL 198.971955 55.861627 \nL 199.286744 55.722153 \nL 199.601532 55.652416 \nL 199.601532 55.582679 \nL 199.96129 55.512942 \nL 200.05123 55.164257 \nL 200.500928 55.09452 \nL 200.590867 55.024783 \nL 200.725777 55.024783 \nL 200.725777 54.885309 \nL 200.905656 54.885309 \nL 200.905656 54.745835 \nL 201.310384 54.676098 \nL 201.310384 54.536624 \nL 201.894991 54.466887 \nL 202.389658 54.118202 \nL 202.389658 54.048465 \nL 202.434628 54.048465 \nL 202.704447 54.048465 \nL 202.704447 53.908991 \nL 202.794386 53.908991 \nL 202.839356 53.908991 \nL 202.839356 53.769517 \nL 203.963601 53.69978 \nL 203.963601 53.630043 \nL 204.00857 53.630043 \nL 204.862996 53.560306 \nL 204.907966 53.351095 \nL 204.952936 53.351095 \nL 205.087845 53.351095 \nL 205.087845 53.211621 \nL 205.132815 53.211621 \nL 205.357664 53.211621 \nL 205.447603 53.072147 \nL 205.447603 52.862936 \nL 205.807361 52.793199 \nL 205.987241 52.653725 \nL 206.257059 52.583988 \nL 206.346999 52.514251 \nL 206.841666 52.514251 \nL 206.841666 52.374777 \nL 207.156455 52.374777 \nL 207.201425 52.165566 \nL 207.246394 52.165566 \nL 207.606153 52.095829 \nL 208.19076 51.956355 \nL 209.225065 51.886618 \nL 209.225065 51.816881 \nL 209.315004 51.816881 \nL 209.809672 51.60767 \nL 209.854642 51.398459 \nL 210.16943 51.328722 \nL 210.2144 50.980036 \nL 210.664098 50.910299 \nL 210.664098 50.770825 \nL 211.518523 50.701088 \nL 211.518523 50.631351 \nL 211.878282 50.561614 \nL 211.878282 50.491877 \nL 212.19307 50.491877 \nL 212.28301 50.143192 \nL 212.777677 50.143192 \nL 212.777677 50.003718 \nL 213.227375 49.933981 \nL 213.227375 49.864244 \nL 213.272345 49.864244 \nL 213.587133 49.794507 \nL 213.587133 49.72477 \nL 213.677073 49.72477 \nL 213.991861 49.655033 \nL 214.036831 49.515559 \nL 214.081801 49.515559 \nL 214.621438 49.445822 \nL 214.666408 49.306348 \nL 215.161075 49.236611 \nL 215.161075 49.166874 \nL 215.206045 49.166874 \nL 216.19538 49.097137 \nL 216.28532 48.887926 \nL 216.600108 48.818189 \nL 217.319625 48.539241 \nL 218.26399 48.469504 \nL 218.30896 48.33003 \nL 218.758658 48.260293 \nL 218.758658 48.120819 \nL 218.803627 48.120819 \nL 220.24266 48.051082 \nL 220.24266 47.981345 \nL 220.3326 47.981345 \nL 220.737328 47.981345 \nL 220.872237 47.772134 \nL 221.052116 47.702397 \nL 221.052116 47.63266 \nL 221.726663 47.562923 \nL 222.581089 47.005027 \nL 222.940847 46.93529 \nL 222.940847 46.865553 \nL 223.255635 46.865553 \nL 223.255635 46.726079 \nL 224.200001 46.656342 \nL 224.33491 46.447131 \nL 224.559759 46.447131 \nL 224.559759 46.307657 \nL 224.604729 46.307657 \nL 225.054427 46.23792 \nL 225.144366 45.819498 \nL 225.773943 45.749761 \nL 225.773943 45.680024 \nL 226.49346 45.610287 \nL 226.583399 45.331339 \nL 226.763278 45.261602 \nL 226.898188 45.191865 \nL 227.302916 45.122128 \nL 227.302916 45.052391 \nL 227.842553 44.982654 \nL 228.022432 44.773443 \nL 228.202311 44.773443 \nL 228.202311 44.703706 \nL 228.247281 44.633968 \nL 228.5171 44.564231 \nL 228.607039 44.35502 \nL 229.416495 44.285283 \nL 229.416495 44.145809 \nL 229.506435 44.145809 \nL 230.630679 44.076072 \nL 230.630679 44.006335 \nL 230.675649 44.006335 \nL 231.799893 43.936598 \nL 231.799893 43.866861 \nL 231.844863 43.866861 \nL 232.204621 43.797124 \nL 232.609349 43.727387 \nL 232.609349 43.65765 \nL 233.688624 43.587913 \nL 233.688624 43.518176 \nL 234.632989 43.448439 \nL 234.812869 43.308965 \nL 235.172627 43.308965 \nL 235.172627 43.239228 \nL 235.262566 43.169491 \nL 235.847173 43.099754 \nL 236.116992 42.890543 \nL 236.746569 42.890543 \nL 236.746569 42.751069 \nL 236.881478 42.751069 \nL 236.881478 42.611595 \nL 236.971418 42.611595 \nL 237.196267 42.611595 \nL 237.286206 42.402384 \nL 237.556025 42.332647 \nL 237.556025 42.193173 \nL 238.050693 42.193173 \nL 238.050693 42.053699 \nL 238.185602 42.053699 \nL 238.185602 41.983962 \nL 238.230572 41.844488 \nL 239.579665 41.774751 \nL 239.579665 41.705014 \nL 239.849484 41.635277 \nL 239.849484 41.56554 \nL 240.748879 41.495803 \nL 240.748879 41.426066 \nL 240.838819 41.426066 \nL 240.928758 41.426066 \nL 240.928758 41.216855 \nL 241.018698 41.216855 \nL 241.513366 41.147118 \nL 241.648275 41.077381 \nL 242.952398 41.007644 \nL 242.952398 40.937907 \nL 243.447066 40.937907 \nL 243.447066 40.798433 \nL 243.896764 40.728696 \nL 244.166582 40.658959 \nL 244.346462 40.589222 \nL 244.346462 40.519485 \nL 245.470706 40.449748 \nL 245.560646 40.380011 \nL 246.370102 40.310274 \nL 246.370102 40.240537 \nL 246.864769 40.1708 \nL 246.909739 40.031326 \nL 248.213862 39.961589 \nL 248.213862 39.891852 \nL 248.258832 39.891852 \nL 248.70853 39.891852 \nL 248.7535 39.543167 \nL 249.203198 39.47343 \nL 249.203198 39.403693 \nL 249.248167 39.403693 \nL 249.473016 39.333956 \nL 249.473016 39.264219 \nL 249.517986 39.264219 \nL 249.697865 39.194482 \nL 249.697865 39.124745 \nL 251.406717 39.055008 \nL 251.406717 38.985271 \nL 251.496656 38.985271 \nL 252.036294 38.915534 \nL 252.081263 38.77606 \nL 252.980659 38.77606 \nL 252.980659 38.636586 \nL 253.025629 38.636586 \nL 253.790115 38.566849 \nL 253.790115 38.427375 \nL 253.835085 38.427375 \nL 254.059934 38.427375 \nL 254.059934 38.357638 \nL 254.194843 38.078689 \nL 254.86939 38.008952 \nL 255.004299 37.939215 \nL 255.498967 37.869478 \nL 255.588906 37.730004 \nL 256.308423 37.660267 \nL 256.308423 37.520793 \nL 257.072909 37.451056 \nL 257.117879 37.311582 \nL 257.162848 37.311582 \nL 257.927335 37.241845 \nL 257.927335 37.102371 \nL 258.287093 37.102371 \nL 258.287093 36.962897 \nL 258.377032 36.962897 \nL 258.8717 36.962897 \nL 258.91667 36.753686 \nL 259.771096 36.683949 \nL 259.861035 36.544475 \nL 260.130854 36.474738 \nL 260.130854 36.405001 \nL 261.569887 36.335264 \nL 261.569887 36.265527 \nL 261.749766 36.265527 \nL 261.794736 35.986579 \nL 262.019584 35.916842 \nL 262.019584 35.847105 \nL 262.109524 35.847105 \nL 262.469282 35.777368 \nL 262.604192 35.707631 \nL 263.998255 35.637894 \nL 263.998255 35.568157 \nL 264.94262 35.49842 \nL 264.98759 35.428683 \nL 267.236079 35.358946 \nL 267.236079 35.219472 \nL 271.688087 35.149735 \nL 271.733057 35.079998 \nL 272.452573 35.079998 \nL 272.632452 34.940524 \nL 273.711727 34.870787 \nL 273.711727 34.80105 \nL 273.891606 34.731313 \nL 273.891606 34.661576 \nL 273.936576 34.661576 \nL 274.431243 34.591839 \nL 274.431243 34.522102 \nL 274.835971 34.452365 \nL 274.925911 34.382628 \nL 275.915246 34.312891 \nL 276.005186 34.243154 \nL 276.679732 34.173417 \nL 276.679732 34.10368 \nL 278.613433 34.033943 \nL 278.613433 33.964206 \nL 278.703372 33.964206 \nL 279.647738 33.894469 \nL 279.782647 33.824732 \nL 280.277314 33.754995 \nL 280.277314 33.685258 \nL 280.367254 33.685258 \nL 281.311619 33.615521 \nL 281.311619 33.545784 \nL 281.356589 33.545784 \nL 281.941196 33.476047 \nL 281.941196 33.40631 \nL 282.031136 33.40631 \nL 285.17902 33.336573 \nL 285.17902 33.266836 \nL 285.22399 33.266836 \nL 286.393204 33.197099 \nL 286.483144 33.057625 \nL 289.136361 32.987888 \nL 289.136361 32.918151 \nL 290.125696 32.848414 \nL 290.125696 32.778677 \nL 290.755273 32.70894 \nL 290.755273 32.639203 \nL 290.845212 32.639203 \nL 291.115031 32.569466 \nL 291.160001 32.429992 \nL 291.474789 32.429992 \nL 291.654668 32.290518 \nL 292.014427 32.220781 \nL 292.014427 32.151044 \nL 295.027402 32.081307 \nL 295.072372 31.872095 \nL 296.916132 31.802358 \nL 297.006072 31.662884 \nL 300.378805 31.593147 \nL 300.378805 31.453673 \nL 300.423775 31.453673 \nL 300.783533 31.314199 \nL 301.233231 31.244462 \nL 301.41311 31.174725 \nL 302.402445 31.104988 \nL 302.402445 31.035251 \nL 302.492385 31.035251 \nL 305.325481 30.965514 \nL 305.415421 30.895777 \nL 306.764514 30.82604 \nL 306.764514 30.756303 \nL 306.854453 30.756303 \nL 308.113607 30.686566 \nL 308.203547 30.547092 \nL 309.372761 30.477355 \nL 309.372761 30.407618 \nL 309.417731 30.407618 \nL 310.407066 30.337881 \nL 310.407066 30.268144 \nL 310.766824 30.268144 \nL 310.946703 30.058933 \nL 313.060283 29.989196 \nL 313.375071 29.849722 \nL 314.184527 29.779985 \nL 314.184527 29.710248 \nL 314.274467 29.710248 \nL 316.433016 29.640511 \nL 316.433016 29.570774 \nL 316.522956 29.570774 \nL 329.339343 29.501037 \nL 329.339343 29.4313 \nL 331.99256 29.361563 \nL 331.99256 29.291826 \nL 332.082499 29.291826 \nL 332.757046 29.222089 \nL 332.757046 29.152352 \nL 332.802016 29.152352 \nL 341.481183 29.082615 \nL 341.481183 29.012878 \nL 341.526153 29.012878 \nL 343.504823 28.943141 \nL 343.504823 28.873404 \nL 352.22896 28.803667 \nL 352.27393 28.73393 \nL 353.353204 28.664193 \nL 353.398174 28.454982 \nL 353.667993 28.385245 \nL 353.667993 28.245771 \nL 354.027751 28.245771 \nL 354.117691 28.03656 \nL 354.612358 27.966823 \nL 354.612358 27.897086 \nL 354.927147 27.827349 \nL 355.017086 27.687875 \nL 355.331875 27.618138 \nL 355.331875 27.478664 \nL 355.871512 27.408927 \nL 355.961451 27.269453 \nL 356.27624 27.199716 \nL 356.27624 27.129979 \nL 356.366179 27.129979 \nL 356.770907 27.060242 \nL 356.815877 26.920768 \nL 357.580363 26.851031 \nL 357.670303 26.64182 \nL 358.164971 26.572083 \nL 358.164971 26.502346 \nL 358.524729 26.432609 \nL 358.614668 26.293135 \nL 358.794548 26.223398 \nL 358.839517 26.153661 \nL 358.974427 26.153661 \nL 359.064366 25.94445 \nL 359.244245 25.874713 \nL 359.244245 25.804976 \nL 359.289215 25.804976 \nL 359.828852 25.735239 \nL 359.918792 25.45629 \nL 360.143641 25.386553 \nL 360.23358 25.247079 \nL 360.863157 25.247079 \nL 360.863157 25.107605 \nL 360.953097 25.107605 \nL 361.177946 25.037868 \nL 361.177946 24.968131 \nL 361.627644 24.898394 \nL 361.627644 24.828657 \nL 361.717583 24.828657 \nL 362.34716 24.75892 \nL 362.34716 24.619446 \nL 362.931767 24.549709 \nL 362.976737 24.410235 \nL 363.156616 24.340498 \nL 363.201586 24.201024 \nL 363.606314 24.131287 \nL 363.606314 24.06155 \nL 365.674924 23.991813 \nL 365.764863 23.852339 \nL 366.39444 23.782602 \nL 366.39444 23.712865 \nL 366.48438 23.712865 \nL 366.664259 23.643128 \nL 366.664259 23.573391 \nL 369.002687 23.503654 \nL 369.002687 23.433917 \nL 369.407415 23.36418 \nL 369.407415 23.294443 \nL 369.497355 23.294443 \nL 370.576629 23.224706 \nL 370.666569 23.085232 \nL 371.251176 23.085232 \nL 371.251176 22.945758 \nL 372.915058 22.876021 \nL 372.915058 22.806284 \nL 373.994333 22.736547 \nL 373.994333 22.66681 \nL 376.64755 22.597073 \nL 376.64755 22.527336 \nL 378.446341 22.457599 \nL 378.53628 22.318125 \nL 378.58125 22.318125 \nL 378.58125 22.318125 \n\" style=\"fill:none;stroke:#1f77b4;stroke-linecap:square;stroke-width:1.5;\"/>\n   </g>\n   <g id=\"patch_3\">\n    <path d=\"M 43.78125 239.758125 \nL 43.78125 22.318125 \n\" style=\"fill:none;stroke:#000000;stroke-linecap:square;stroke-linejoin:miter;stroke-width:0.8;\"/>\n   </g>\n   <g id=\"patch_4\">\n    <path d=\"M 378.58125 239.758125 \nL 378.58125 22.318125 \n\" style=\"fill:none;stroke:#000000;stroke-linecap:square;stroke-linejoin:miter;stroke-width:0.8;\"/>\n   </g>\n   <g id=\"patch_5\">\n    <path d=\"M 43.78125 239.758125 \nL 378.58125 239.758125 \n\" style=\"fill:none;stroke:#000000;stroke-linecap:square;stroke-linejoin:miter;stroke-width:0.8;\"/>\n   </g>\n   <g id=\"patch_6\">\n    <path d=\"M 43.78125 22.318125 \nL 378.58125 22.318125 \n\" style=\"fill:none;stroke:#000000;stroke-linecap:square;stroke-linejoin:miter;stroke-width:0.8;\"/>\n   </g>\n   <g id=\"text_15\">\n    <!-- ROC curve for SLAFail classifier -->\n    <defs>\n     <path d=\"M 39.40625 66.21875 \nQ 28.65625 66.21875 22.328125 58.203125 \nQ 16.015625 50.203125 16.015625 36.375 \nQ 16.015625 22.609375 22.328125 14.59375 \nQ 28.65625 6.59375 39.40625 6.59375 \nQ 50.140625 6.59375 56.421875 14.59375 \nQ 62.703125 22.609375 62.703125 36.375 \nQ 62.703125 50.203125 56.421875 58.203125 \nQ 50.140625 66.21875 39.40625 66.21875 \nz\nM 39.40625 74.21875 \nQ 54.734375 74.21875 63.90625 63.9375 \nQ 73.09375 53.65625 73.09375 36.375 \nQ 73.09375 19.140625 63.90625 8.859375 \nQ 54.734375 -1.421875 39.40625 -1.421875 \nQ 24.03125 -1.421875 14.8125 8.828125 \nQ 5.609375 19.09375 5.609375 36.375 \nQ 5.609375 53.65625 14.8125 63.9375 \nQ 24.03125 74.21875 39.40625 74.21875 \nz\n\" id=\"DejaVuSans-79\"/>\n     <path d=\"M 64.40625 67.28125 \nL 64.40625 56.890625 \nQ 59.421875 61.53125 53.78125 63.8125 \nQ 48.140625 66.109375 41.796875 66.109375 \nQ 29.296875 66.109375 22.65625 58.46875 \nQ 16.015625 50.828125 16.015625 36.375 \nQ 16.015625 21.96875 22.65625 14.328125 \nQ 29.296875 6.6875 41.796875 6.6875 \nQ 48.140625 6.6875 53.78125 8.984375 \nQ 59.421875 11.28125 64.40625 15.921875 \nL 64.40625 5.609375 \nQ 59.234375 2.09375 53.4375 0.328125 \nQ 47.65625 -1.421875 41.21875 -1.421875 \nQ 24.65625 -1.421875 15.125 8.703125 \nQ 5.609375 18.84375 5.609375 36.375 \nQ 5.609375 53.953125 15.125 64.078125 \nQ 24.65625 74.21875 41.21875 74.21875 \nQ 47.75 74.21875 53.53125 72.484375 \nQ 59.328125 70.75 64.40625 67.28125 \nz\n\" id=\"DejaVuSans-67\"/>\n     <path d=\"M 9.8125 72.90625 \nL 19.671875 72.90625 \nL 19.671875 8.296875 \nL 55.171875 8.296875 \nL 55.171875 0 \nL 9.8125 0 \nz\n\" id=\"DejaVuSans-76\"/>\n     <path d=\"M 34.1875 63.1875 \nL 20.796875 26.90625 \nL 47.609375 26.90625 \nz\nM 28.609375 72.90625 \nL 39.796875 72.90625 \nL 67.578125 0 \nL 57.328125 0 \nL 50.6875 18.703125 \nL 17.828125 18.703125 \nL 11.1875 0 \nL 0.78125 0 \nz\n\" id=\"DejaVuSans-65\"/>\n    </defs>\n    <g transform=\"translate(117.200625 16.318125)scale(0.12 -0.12)\">\n     <use xlink:href=\"#DejaVuSans-82\"/>\n     <use x=\"69.482422\" xlink:href=\"#DejaVuSans-79\"/>\n     <use x=\"148.193359\" xlink:href=\"#DejaVuSans-67\"/>\n     <use x=\"218.017578\" xlink:href=\"#DejaVuSans-32\"/>\n     <use x=\"249.804688\" xlink:href=\"#DejaVuSans-99\"/>\n     <use x=\"304.785156\" xlink:href=\"#DejaVuSans-117\"/>\n     <use x=\"368.164062\" xlink:href=\"#DejaVuSans-114\"/>\n     <use x=\"409.277344\" xlink:href=\"#DejaVuSans-118\"/>\n     <use x=\"468.457031\" xlink:href=\"#DejaVuSans-101\"/>\n     <use x=\"529.980469\" xlink:href=\"#DejaVuSans-32\"/>\n     <use x=\"561.767578\" xlink:href=\"#DejaVuSans-102\"/>\n     <use x=\"596.972656\" xlink:href=\"#DejaVuSans-111\"/>\n     <use x=\"658.154297\" xlink:href=\"#DejaVuSans-114\"/>\n     <use x=\"699.267578\" xlink:href=\"#DejaVuSans-32\"/>\n     <use x=\"731.054688\" xlink:href=\"#DejaVuSans-83\"/>\n     <use x=\"794.53125\" xlink:href=\"#DejaVuSans-76\"/>\n     <use x=\"850.275391\" xlink:href=\"#DejaVuSans-65\"/>\n     <use x=\"918.683594\" xlink:href=\"#DejaVuSans-70\"/>\n     <use x=\"976.0625\" xlink:href=\"#DejaVuSans-97\"/>\n     <use x=\"1037.341797\" xlink:href=\"#DejaVuSans-105\"/>\n     <use x=\"1065.125\" xlink:href=\"#DejaVuSans-108\"/>\n     <use x=\"1092.908203\" xlink:href=\"#DejaVuSans-32\"/>\n     <use x=\"1124.695312\" xlink:href=\"#DejaVuSans-99\"/>\n     <use x=\"1179.675781\" xlink:href=\"#DejaVuSans-108\"/>\n     <use x=\"1207.458984\" xlink:href=\"#DejaVuSans-97\"/>\n     <use x=\"1268.738281\" xlink:href=\"#DejaVuSans-115\"/>\n     <use x=\"1320.837891\" xlink:href=\"#DejaVuSans-115\"/>\n     <use x=\"1372.9375\" xlink:href=\"#DejaVuSans-105\"/>\n     <use x=\"1400.720703\" xlink:href=\"#DejaVuSans-102\"/>\n     <use x=\"1435.925781\" xlink:href=\"#DejaVuSans-105\"/>\n     <use x=\"1463.708984\" xlink:href=\"#DejaVuSans-101\"/>\n     <use x=\"1525.232422\" xlink:href=\"#DejaVuSans-114\"/>\n    </g>\n   </g>\n  </g>\n </g>\n <defs>\n  <clipPath id=\"paf5cda446d\">\n   <rect height=\"217.44\" width=\"334.8\" x=\"43.78125\" y=\"22.318125\"/>\n  </clipPath>\n </defs>\n</svg>\n",
      "text/plain": "<Figure size 432x288 with 1 Axes>"
     },
     "metadata": {
      "needs_background": "light"
     },
     "output_type": "display_data"
    }
   ],
   "source": [
    "plt.plot(fpr, tpr)\n",
    "plt.xlim([0.0, 1.0])\n",
    "plt.ylim([0.0, 1.0])\n",
    "plt.title('ROC curve for SLAFail classifier')\n",
    "plt.xlabel('False Positive Rate (1 - Specificity)')\n",
    "plt.ylabel('True Positive Rate (Sensitivity)')\n",
    "plt.grid(True)"
   ]
  },
  {
   "cell_type": "markdown",
   "metadata": {},
   "source": [
    "Capture resulting AUC"
   ]
  },
  {
   "cell_type": "code",
   "execution_count": 29,
   "metadata": {},
   "outputs": [
    {
     "name": "stdout",
     "output_type": "stream",
     "text": "Metrics = AUC: 0.766496 \n"
    }
   ],
   "source": [
    "PipeLineMetadata['Metrics - AUC'] = metrics.roc_auc_score(y_test, y_pred_prob)\n",
    "print(\"Metrics = AUC: %f \" % PipeLineMetadata['Metrics - AUC']) "
   ]
  },
  {
   "cell_type": "markdown",
   "metadata": {},
   "source": [
    "## Save Details and Performance Measures for Comparison to other Models\n"
   ]
  },
  {
   "cell_type": "code",
   "execution_count": 30,
   "metadata": {},
   "outputs": [
    {
     "data": {
      "text/plain": "{'Name': 'Bare Bones with Helmert Encoder',\n 'Column Transforms': ['helmertencoder', 'standardscaler'],\n 'Classifier': LogisticRegression(C=1.0, class_weight=None, dual=False, fit_intercept=True,\n                    intercept_scaling=1, l1_ratio=None, max_iter=100,\n                    multi_class='auto', n_jobs=None, penalty='l2',\n                    random_state=None, solver='lbfgs', tol=0.0001, verbose=0,\n                    warm_start=False),\n 'Classifier - Intercept': -0.012120483118861172,\n 'Classifier - Coefficients': array([[-0.01210697,  0.027224  , -0.0264269 , ...,  0.20972854,\n         -0.00088431,  0.00249929]]),\n 'Metrics - Cross Validation Accuracy': 0.7367823087847434,\n 'Metrics - F1 score': 0.6613391118904624,\n 'Metrics - Confusion Matrix Classification Accuracy': 0.7427814067973114,\n 'Metrics - Confusion Matrix Classification Error': 0.2572185932026886,\n 'Metrics - Confusion Matrix True Positive Rate': 0.42751763951250804,\n 'Metrics - Confusion Matrix True Negative Rate': 0.8748153122901277,\n 'Metrics - Confusion Matrix False Positive Rate': 0.1251846877098724,\n 'Metrics - Confusion Matrix Precision': 0.5885209713024283,\n 'Metrics - ROC Curve fpr array': array([0.00000000e+00, 1.34318334e-04, 2.68636669e-04, ...,\n        9.99865682e-01, 9.99865682e-01, 1.00000000e+00]),\n 'Metrics - ROC Curve tpr array': array([0.        , 0.        , 0.        , ..., 0.99967928, 1.        ,\n        1.        ]),\n 'Metrics - AUC': 0.766496385079206}"
     },
     "execution_count": 30,
     "metadata": {},
     "output_type": "execute_result"
    }
   ],
   "source": [
    "PipeLineMetadata"
   ]
  },
  {
   "cell_type": "code",
   "execution_count": 31,
   "metadata": {},
   "outputs": [],
   "source": [
    "with open(\"data/05.01.d BareBones HelmertEncoder.pkl\",'wb') as fo:\n",
    "    pickle.dump(PipeLineMetadata, fo)"
   ]
  },
  {
   "cell_type": "code",
   "execution_count": 32,
   "metadata": {},
   "outputs": [],
   "source": [
    "# with open(\"data/05.01.BareBones.pkl\", 'rb') as fi:\n",
    "#    BareBonesMetadata = pickle.load(fi)"
   ]
  },
  {
   "cell_type": "code",
   "execution_count": null,
   "metadata": {},
   "outputs": [],
   "source": []
  }
 ]
}