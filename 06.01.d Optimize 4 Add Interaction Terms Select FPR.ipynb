{
 "nbformat": 4,
 "nbformat_minor": 2,
 "metadata": {
  "language_info": {
   "name": "python",
   "codemirror_mode": {
    "name": "ipython",
    "version": 3
   },
   "version": "3.7.6-final"
  },
  "orig_nbformat": 2,
  "file_extension": ".py",
  "mimetype": "text/x-python",
  "name": "python",
  "npconvert_exporter": "python",
  "pygments_lexer": "ipython3",
  "version": 3,
  "kernelspec": {
   "name": "python3",
   "display_name": "Python 3"
  }
 },
 "cells": [
  {
   "cell_type": "markdown",
   "metadata": {},
   "source": [
    "# 06.01.d Optimize 4: Adding Interaction Terms and Select Based on False Positive Rate\n",
    " \n",
    "Goal: identify the factors that most contribute to SLAFail\n",
    "\n",
    "Tuning Adjustments: Focus on finding the most predictive set of predictor variables\n",
    "\n",
    "Read Prepared Data  ->  Split Data  -> Develop Pipeline  ->  Evaluate  \n",
    "\n"
   ]
  },
  {
   "cell_type": "code",
   "execution_count": 63,
   "metadata": {},
   "outputs": [],
   "source": [
    "# create dictionary to store information about the pipeline and results for later reporting and review\n",
    "PipeLineMetadata = { \"Name\" : \"Optimize Round 4: Adding Interaction Terms with SelectFpr\" }"
   ]
  },
  {
   "cell_type": "code",
   "execution_count": 64,
   "metadata": {},
   "outputs": [],
   "source": [
    "outFileName = \"data/06.00.d Add Interaction Terms Select FPR.pkl\""
   ]
  },
  {
   "cell_type": "code",
   "execution_count": 65,
   "metadata": {},
   "outputs": [],
   "source": [
    "\n",
    "# Load libraries\n",
    "import pandas as pd\n",
    "import numpy as np\n",
    "import pickle\n",
    "pd.options.display.float_format = '{:.7f}'.format\n",
    "\n",
    "# allow plots to appear in the notebook\n",
    "%matplotlib inline\n",
    "import matplotlib.pyplot as plt\n",
    "\n",
    "from sklearn.model_selection import train_test_split\n",
    "\n",
    "from sklearn.compose import make_column_transformer\n",
    "import category_encoders as ce\n",
    "from sklearn.preprocessing import StandardScaler\n",
    "from sklearn.preprocessing import PolynomialFeatures\n",
    "\n",
    "from sklearn.feature_selection import SelectKBest, f_classif\n",
    "from sklearn.feature_selection import SelectFpr\n",
    "\n",
    "\n",
    "from sklearn.linear_model import LogisticRegression\n",
    "from sklearn.pipeline import Pipeline\n",
    "from sklearn.model_selection import GridSearchCV\n",
    "\n",
    "from sklearn.feature_selection import RFE\n",
    "\n",
    "from sklearn import metrics"
   ]
  },
  {
   "cell_type": "markdown",
   "metadata": {},
   "source": [
    "## Read Prepared Data"
   ]
  },
  {
   "cell_type": "code",
   "execution_count": 66,
   "metadata": {},
   "outputs": [
    {
     "name": "stdout",
     "output_type": "stream",
     "text": "df.shape: (35208, 10)\ndf.columns: Index(['Service_Component_WBS_aff', 'Urgency', 'KM_number',\n       'Count_Related_Interactions', 'Count_Related_Incidents',\n       'Count_Related_Changes', 'SLAFail', 'Open_Time_HourOfDay',\n       'Open_Time_DayOfWeek', 'CI_TypeSubType_aff'],\n      dtype='object')\ndf.dtypes: \nService_Component_WBS_aff      object\nUrgency                        object\nKM_number                      object\nCount_Related_Interactions    float64\nCount_Related_Incidents       float64\nCount_Related_Changes         float64\nSLAFail                         int64\nOpen_Time_HourOfDay             int64\nOpen_Time_DayOfWeek            object\nCI_TypeSubType_aff             object\ndtype: object\n"
    }
   ],
   "source": [
    "df = pd.read_csv(\"data/05.00 Incident Data.csv\")\n",
    "print(\"df.shape: \" + str(df.shape))\n",
    "print(\"df.columns: \" + str(df.columns))\n",
    "print(\"df.dtypes: \\n\" + str(df.dtypes))"
   ]
  },
  {
   "cell_type": "markdown",
   "metadata": {},
   "source": [
    "#### Set X and y"
   ]
  },
  {
   "cell_type": "code",
   "execution_count": 67,
   "metadata": {},
   "outputs": [
    {
     "data": {
      "text/plain": "(35208,)"
     },
     "execution_count": 67,
     "metadata": {},
     "output_type": "execute_result"
    }
   ],
   "source": [
    "y = df.SLAFail\n",
    "y.shape"
   ]
  },
  {
   "cell_type": "code",
   "execution_count": 68,
   "metadata": {},
   "outputs": [
    {
     "data": {
      "text/plain": "(35208, 9)"
     },
     "execution_count": 68,
     "metadata": {},
     "output_type": "execute_result"
    }
   ],
   "source": [
    "X = df.drop(['SLAFail'], axis='columns')\n",
    "X.shape"
   ]
  },
  {
   "cell_type": "markdown",
   "metadata": {},
   "source": [
    "Set `Open_Time_HourOfDay` for recognition as a Categorical variable"
   ]
  },
  {
   "cell_type": "code",
   "execution_count": 69,
   "metadata": {},
   "outputs": [
    {
     "data": {
      "text/plain": "Service_Component_WBS_aff      object\nUrgency                        object\nKM_number                      object\nCount_Related_Interactions    float64\nCount_Related_Incidents       float64\nCount_Related_Changes         float64\nOpen_Time_HourOfDay            object\nOpen_Time_DayOfWeek            object\nCI_TypeSubType_aff             object\ndtype: object"
     },
     "execution_count": 69,
     "metadata": {},
     "output_type": "execute_result"
    }
   ],
   "source": [
    "X.Open_Time_HourOfDay = X.Open_Time_HourOfDay.astype('object')\n",
    "X.dtypes"
   ]
  },
  {
   "cell_type": "markdown",
   "metadata": {},
   "source": [
    "Create a list of numeric variable column names"
   ]
  },
  {
   "cell_type": "code",
   "execution_count": 70,
   "metadata": {},
   "outputs": [
    {
     "data": {
      "text/plain": "Index(['Count_Related_Interactions', 'Count_Related_Incidents',\n       'Count_Related_Changes'],\n      dtype='object')"
     },
     "execution_count": 70,
     "metadata": {},
     "output_type": "execute_result"
    }
   ],
   "source": [
    "numericVars = X.select_dtypes(include=['float64']).columns\n",
    "numericVars"
   ]
  },
  {
   "cell_type": "markdown",
   "metadata": {},
   "source": [
    "Create a list of categorical variables"
   ]
  },
  {
   "cell_type": "code",
   "execution_count": 71,
   "metadata": {},
   "outputs": [
    {
     "data": {
      "text/plain": "Index(['Service_Component_WBS_aff', 'Urgency', 'KM_number',\n       'Open_Time_HourOfDay', 'Open_Time_DayOfWeek', 'CI_TypeSubType_aff'],\n      dtype='object')"
     },
     "execution_count": 71,
     "metadata": {},
     "output_type": "execute_result"
    }
   ],
   "source": [
    "categoricalVars = X.select_dtypes(include=['object']).columns\n",
    "categoricalVars"
   ]
  },
  {
   "cell_type": "markdown",
   "metadata": {},
   "source": [
    "## Split Data\n",
    "\n",
    "Create Training and Testing Data Sets\n"
   ]
  },
  {
   "cell_type": "code",
   "execution_count": 72,
   "metadata": {},
   "outputs": [],
   "source": [
    "\n",
    "X_train, X_test, y_train, y_test = train_test_split(X, y, test_size=0.3, random_state=2020)\n"
   ]
  },
  {
   "cell_type": "code",
   "execution_count": 73,
   "metadata": {},
   "outputs": [
    {
     "name": "stdout",
     "output_type": "stream",
     "text": "(24645, 9)\nIndex(['Service_Component_WBS_aff', 'Urgency', 'KM_number',\n       'Count_Related_Interactions', 'Count_Related_Incidents',\n       'Count_Related_Changes', 'Open_Time_HourOfDay', 'Open_Time_DayOfWeek',\n       'CI_TypeSubType_aff'],\n      dtype='object')\n"
    }
   ],
   "source": [
    "print(X_train.shape)\n",
    "print(X_train.columns)"
   ]
  },
  {
   "cell_type": "markdown",
   "metadata": {},
   "source": [
    "## Develop Pipeline\n"
   ]
  },
  {
   "cell_type": "markdown",
   "metadata": {},
   "source": [
    "### Encode Variables\n",
    "\n",
    "Numeric and categorical variables require different treatment \n",
    "\n",
    "Set up column transformer for scaling numeric variables and encoding categorical variables\n",
    "\n"
   ]
  },
  {
   "cell_type": "code",
   "execution_count": 74,
   "metadata": {},
   "outputs": [],
   "source": [
    "column_trans = make_column_transformer(\n",
    "    (ce.WOEEncoder(), categoricalVars),\n",
    "    (StandardScaler(), numericVars),\n",
    "    remainder='passthrough')"
   ]
  },
  {
   "cell_type": "markdown",
   "metadata": {},
   "source": [
    "### Feature Selection\n",
    "\n",
    "\n"
   ]
  },
  {
   "cell_type": "code",
   "execution_count": 75,
   "metadata": {},
   "outputs": [],
   "source": [
    "selector = SelectFpr()"
   ]
  },
  {
   "cell_type": "markdown",
   "metadata": {},
   "source": [
    "### Configure for creating the Interaction Variables using PolynomialFeatures\n"
   ]
  },
  {
   "cell_type": "code",
   "execution_count": 76,
   "metadata": {},
   "outputs": [],
   "source": [
    "poly = PolynomialFeatures(interaction_only=True)"
   ]
  },
  {
   "cell_type": "markdown",
   "metadata": {},
   "source": [
    "### Specify Classifier (Logistic Regression)"
   ]
  },
  {
   "cell_type": "code",
   "execution_count": 77,
   "metadata": {},
   "outputs": [],
   "source": [
    "classifier = LogisticRegression(solver=\"lbfgs\")"
   ]
  },
  {
   "cell_type": "markdown",
   "metadata": {},
   "source": [
    "### Compose Pipeline"
   ]
  },
  {
   "cell_type": "code",
   "execution_count": 78,
   "metadata": {},
   "outputs": [],
   "source": [
    "pipe = Pipeline(steps=[('column_trans', column_trans), \n",
    "                        ('poly',  poly),\n",
    "                        ('selector',  selector),\n",
    "                        ('classifier', classifier)\n",
    "                        ])"
   ]
  },
  {
   "cell_type": "code",
   "execution_count": 79,
   "metadata": {},
   "outputs": [
    {
     "data": {
      "text/plain": "Pipeline(memory=None,\n         steps=[('column_trans',\n                 ColumnTransformer(n_jobs=None, remainder='passthrough',\n                                   sparse_threshold=0.3,\n                                   transformer_weights=None,\n                                   transformers=[('woeencoder',\n                                                  WOEEncoder(cols=None,\n                                                             drop_invariant=False,\n                                                             handle_missing='value',\n                                                             handle_unknown='value',\n                                                             random_state=None,\n                                                             randomized=False,\n                                                             regularization=1.0,\n                                                             return_df=True,\n                                                             sigma=0.05,\n                                                             verbose=0)...\n                                    interaction_only=True, order='C')),\n                ('selector',\n                 SelectFpr(alpha=0.05,\n                           score_func=<function f_classif at 0x1a1d8548c0>)),\n                ('classifier',\n                 LogisticRegression(C=1.0, class_weight=None, dual=False,\n                                    fit_intercept=True, intercept_scaling=1,\n                                    l1_ratio=None, max_iter=100,\n                                    multi_class='auto', n_jobs=None,\n                                    penalty='l2', random_state=None,\n                                    solver='lbfgs', tol=0.0001, verbose=0,\n                                    warm_start=False))],\n         verbose=False)"
     },
     "execution_count": 79,
     "metadata": {},
     "output_type": "execute_result"
    }
   ],
   "source": [
    "pipe.fit(X_train, y_train)"
   ]
  },
  {
   "cell_type": "code",
   "execution_count": 80,
   "metadata": {},
   "outputs": [
    {
     "data": {
      "text/plain": "LogisticRegression(C=1.0, class_weight=None, dual=False, fit_intercept=True,\n                   intercept_scaling=1, l1_ratio=None, max_iter=100,\n                   multi_class='auto', n_jobs=None, penalty='l2',\n                   random_state=None, solver='lbfgs', tol=0.0001, verbose=0,\n                   warm_start=False)"
     },
     "execution_count": 80,
     "metadata": {},
     "output_type": "execute_result"
    }
   ],
   "source": [
    "pipe.named_steps.classifier"
   ]
  },
  {
   "cell_type": "markdown",
   "metadata": {},
   "source": [
    "## Evaluate with Testing Data\n",
    "\n",
    "Get predicted classification and predicted probabilities based on the model"
   ]
  },
  {
   "cell_type": "code",
   "execution_count": 81,
   "metadata": {},
   "outputs": [],
   "source": [
    "y_pred_class = pipe.predict(X_test)\n"
   ]
  },
  {
   "cell_type": "code",
   "execution_count": 82,
   "metadata": {},
   "outputs": [],
   "source": [
    "y_pred_prob = pipe.predict_proba(X_test)[:,1]\n",
    "\n"
   ]
  },
  {
   "cell_type": "code",
   "execution_count": 83,
   "metadata": {},
   "outputs": [
    {
     "name": "stdout",
     "output_type": "stream",
     "text": "precision    recall  f1-score   support\n\n           0       0.78      0.89      0.83      7445\n           1       0.61      0.42      0.49      3118\n\n    accuracy                           0.75     10563\n   macro avg       0.70      0.65      0.66     10563\nweighted avg       0.73      0.75      0.73     10563\n\n"
    }
   ],
   "source": [
    "print(metrics.classification_report(y_test, y_pred_class))"
   ]
  },
  {
   "cell_type": "markdown",
   "metadata": {},
   "source": [
    "Look at the resulting confusion matrix\n",
    "\n",
    "Save True Positive (TP), True Negative (TN), False Positive(FP), and False Negative (FN) values"
   ]
  },
  {
   "cell_type": "code",
   "execution_count": 84,
   "metadata": {},
   "outputs": [
    {
     "name": "stdout",
     "output_type": "stream",
     "text": "[[6607  838]\n [1822 1296]]\nTN: 6607 \t FP: 838 \nFN: 1822 \t TP: 1296 \n"
    }
   ],
   "source": [
    "confusion = metrics.confusion_matrix(y_test, y_pred_class)\n",
    "TP = confusion[1, 1]\n",
    "TN = confusion[0, 0]\n",
    "FP = confusion[0, 1]\n",
    "FN = confusion[1, 0]\n",
    "print(confusion)\n",
    "print(\"TN: %d \\t FP: %d \\nFN: %d \\t TP: %d \" % (TN, FP, FN, TP))"
   ]
  },
  {
   "cell_type": "markdown",
   "metadata": {},
   "source": [
    "Capture resulting AUC"
   ]
  },
  {
   "cell_type": "code",
   "execution_count": 85,
   "metadata": {},
   "outputs": [
    {
     "data": {
      "text/plain": "0.782094823230093"
     },
     "execution_count": 85,
     "metadata": {},
     "output_type": "execute_result"
    }
   ],
   "source": [
    "fpr, tpr, thresholds = metrics.roc_curve(y_test, y_pred_prob)\n",
    "metrics.roc_auc_score(y_test, y_pred_prob)"
   ]
  },
  {
   "cell_type": "code",
   "execution_count": 86,
   "metadata": {},
   "outputs": [
    {
     "data": {
      "image/png": "[encoded data removed]",
      "image/svg+xml": "<?xml version=\"1.0\" encoding=\"utf-8\" standalone=\"no\"?>\n<!DOCTYPE svg PUBLIC \"-//W3C//DTD SVG 1.1//EN\"\n  \"http://www.w3.org/Graphics/SVG/1.1/DTD/svg11.dtd\">\n<!-- Created with matplotlib (https://matplotlib.org/) -->\n<svg height=\"277.314375pt\" version=\"1.1\" viewBox=\"0 0 393.732813 277.314375\" width=\"393.732813pt\" xmlns=\"http://www.w3.org/2000/svg\" xmlns:xlink=\"http://www.w3.org/1999/xlink\">\n <defs>\n  <style type=\"text/css\">\n*{stroke-linecap:butt;stroke-linejoin:round;}\n  </style>\n </defs>\n <g id=\"figure_1\">\n  <g id=\"patch_1\">\n   <path d=\"M 0 277.314375 \nL 393.732813 277.314375 \nL 393.732813 0 \nL 0 0 \nz\n\" style=\"fill:none;\"/>\n  </g>\n  <g id=\"axes_1\">\n   <g id=\"patch_2\">\n    <path d=\"M 43.78125 239.758125 \nL 378.58125 239.758125 \nL 378.58125 22.318125 \nL 43.78125 22.318125 \nz\n\" style=\"fill:#ffffff;\"/>\n   </g>\n   <g id=\"matplotlib.axis_1\">\n    <g id=\"xtick_1\">\n     <g id=\"line2d_1\">\n      <path clip-path=\"url(#p34ef45cc25)\" d=\"M 43.78125 239.758125 \nL 43.78125 22.318125 \n\" style=\"fill:none;stroke:#b0b0b0;stroke-linecap:square;stroke-width:0.8;\"/>\n     </g>\n     <g id=\"line2d_2\">\n      <defs>\n       <path d=\"M 0 0 \nL 0 3.5 \n\" id=\"m3f8613d4b4\" style=\"stroke:#000000;stroke-width:0.8;\"/>\n      </defs>\n      <g>\n       <use style=\"stroke:#000000;stroke-width:0.8;\" x=\"43.78125\" xlink:href=\"#m3f8613d4b4\" y=\"239.758125\"/>\n      </g>\n     </g>\n     <g id=\"text_1\">\n      <!-- 0.0 -->\n      <defs>\n       <path d=\"M 31.78125 66.40625 \nQ 24.171875 66.40625 20.328125 58.90625 \nQ 16.5 51.421875 16.5 36.375 \nQ 16.5 21.390625 20.328125 13.890625 \nQ 24.171875 6.390625 31.78125 6.390625 \nQ 39.453125 6.390625 43.28125 13.890625 \nQ 47.125 21.390625 47.125 36.375 \nQ 47.125 51.421875 43.28125 58.90625 \nQ 39.453125 66.40625 31.78125 66.40625 \nz\nM 31.78125 74.21875 \nQ 44.046875 74.21875 50.515625 64.515625 \nQ 56.984375 54.828125 56.984375 36.375 \nQ 56.984375 17.96875 50.515625 8.265625 \nQ 44.046875 -1.421875 31.78125 -1.421875 \nQ 19.53125 -1.421875 13.0625 8.265625 \nQ 6.59375 17.96875 6.59375 36.375 \nQ 6.59375 54.828125 13.0625 64.515625 \nQ 19.53125 74.21875 31.78125 74.21875 \nz\n\" id=\"DejaVuSans-48\"/>\n       <path d=\"M 10.6875 12.40625 \nL 21 12.40625 \nL 21 0 \nL 10.6875 0 \nz\n\" id=\"DejaVuSans-46\"/>\n      </defs>\n      <g transform=\"translate(35.829688 254.356562)scale(0.1 -0.1)\">\n       <use xlink:href=\"#DejaVuSans-48\"/>\n       <use x=\"63.623047\" xlink:href=\"#DejaVuSans-46\"/>\n       <use x=\"95.410156\" xlink:href=\"#DejaVuSans-48\"/>\n      </g>\n     </g>\n    </g>\n    <g id=\"xtick_2\">\n     <g id=\"line2d_3\">\n      <path clip-path=\"url(#p34ef45cc25)\" d=\"M 110.74125 239.758125 \nL 110.74125 22.318125 \n\" style=\"fill:none;stroke:#b0b0b0;stroke-linecap:square;stroke-width:0.8;\"/>\n     </g>\n     <g id=\"line2d_4\">\n      <g>\n       <use style=\"stroke:#000000;stroke-width:0.8;\" x=\"110.74125\" xlink:href=\"#m3f8613d4b4\" y=\"239.758125\"/>\n      </g>\n     </g>\n     <g id=\"text_2\">\n      <!-- 0.2 -->\n      <defs>\n       <path d=\"M 19.1875 8.296875 \nL 53.609375 8.296875 \nL 53.609375 0 \nL 7.328125 0 \nL 7.328125 8.296875 \nQ 12.9375 14.109375 22.625 23.890625 \nQ 32.328125 33.6875 34.8125 36.53125 \nQ 39.546875 41.84375 41.421875 45.53125 \nQ 43.3125 49.21875 43.3125 52.78125 \nQ 43.3125 58.59375 39.234375 62.25 \nQ 35.15625 65.921875 28.609375 65.921875 \nQ 23.96875 65.921875 18.8125 64.3125 \nQ 13.671875 62.703125 7.8125 59.421875 \nL 7.8125 69.390625 \nQ 13.765625 71.78125 18.9375 73 \nQ 24.125 74.21875 28.421875 74.21875 \nQ 39.75 74.21875 46.484375 68.546875 \nQ 53.21875 62.890625 53.21875 53.421875 \nQ 53.21875 48.921875 51.53125 44.890625 \nQ 49.859375 40.875 45.40625 35.40625 \nQ 44.1875 33.984375 37.640625 27.21875 \nQ 31.109375 20.453125 19.1875 8.296875 \nz\n\" id=\"DejaVuSans-50\"/>\n      </defs>\n      <g transform=\"translate(102.789688 254.356562)scale(0.1 -0.1)\">\n       <use xlink:href=\"#DejaVuSans-48\"/>\n       <use x=\"63.623047\" xlink:href=\"#DejaVuSans-46\"/>\n       <use x=\"95.410156\" xlink:href=\"#DejaVuSans-50\"/>\n      </g>\n     </g>\n    </g>\n    <g id=\"xtick_3\">\n     <g id=\"line2d_5\">\n      <path clip-path=\"url(#p34ef45cc25)\" d=\"M 177.70125 239.758125 \nL 177.70125 22.318125 \n\" style=\"fill:none;stroke:#b0b0b0;stroke-linecap:square;stroke-width:0.8;\"/>\n     </g>\n     <g id=\"line2d_6\">\n      <g>\n       <use style=\"stroke:#000000;stroke-width:0.8;\" x=\"177.70125\" xlink:href=\"#m3f8613d4b4\" y=\"239.758125\"/>\n      </g>\n     </g>\n     <g id=\"text_3\">\n      <!-- 0.4 -->\n      <defs>\n       <path d=\"M 37.796875 64.3125 \nL 12.890625 25.390625 \nL 37.796875 25.390625 \nz\nM 35.203125 72.90625 \nL 47.609375 72.90625 \nL 47.609375 25.390625 \nL 58.015625 25.390625 \nL 58.015625 17.1875 \nL 47.609375 17.1875 \nL 47.609375 0 \nL 37.796875 0 \nL 37.796875 17.1875 \nL 4.890625 17.1875 \nL 4.890625 26.703125 \nz\n\" id=\"DejaVuSans-52\"/>\n      </defs>\n      <g transform=\"translate(169.749688 254.356562)scale(0.1 -0.1)\">\n       <use xlink:href=\"#DejaVuSans-48\"/>\n       <use x=\"63.623047\" xlink:href=\"#DejaVuSans-46\"/>\n       <use x=\"95.410156\" xlink:href=\"#DejaVuSans-52\"/>\n      </g>\n     </g>\n    </g>\n    <g id=\"xtick_4\">\n     <g id=\"line2d_7\">\n      <path clip-path=\"url(#p34ef45cc25)\" d=\"M 244.66125 239.758125 \nL 244.66125 22.318125 \n\" style=\"fill:none;stroke:#b0b0b0;stroke-linecap:square;stroke-width:0.8;\"/>\n     </g>\n     <g id=\"line2d_8\">\n      <g>\n       <use style=\"stroke:#000000;stroke-width:0.8;\" x=\"244.66125\" xlink:href=\"#m3f8613d4b4\" y=\"239.758125\"/>\n      </g>\n     </g>\n     <g id=\"text_4\">\n      <!-- 0.6 -->\n      <defs>\n       <path d=\"M 33.015625 40.375 \nQ 26.375 40.375 22.484375 35.828125 \nQ 18.609375 31.296875 18.609375 23.390625 \nQ 18.609375 15.53125 22.484375 10.953125 \nQ 26.375 6.390625 33.015625 6.390625 \nQ 39.65625 6.390625 43.53125 10.953125 \nQ 47.40625 15.53125 47.40625 23.390625 \nQ 47.40625 31.296875 43.53125 35.828125 \nQ 39.65625 40.375 33.015625 40.375 \nz\nM 52.59375 71.296875 \nL 52.59375 62.3125 \nQ 48.875 64.0625 45.09375 64.984375 \nQ 41.3125 65.921875 37.59375 65.921875 \nQ 27.828125 65.921875 22.671875 59.328125 \nQ 17.53125 52.734375 16.796875 39.40625 \nQ 19.671875 43.65625 24.015625 45.921875 \nQ 28.375 48.1875 33.59375 48.1875 \nQ 44.578125 48.1875 50.953125 41.515625 \nQ 57.328125 34.859375 57.328125 23.390625 \nQ 57.328125 12.15625 50.6875 5.359375 \nQ 44.046875 -1.421875 33.015625 -1.421875 \nQ 20.359375 -1.421875 13.671875 8.265625 \nQ 6.984375 17.96875 6.984375 36.375 \nQ 6.984375 53.65625 15.1875 63.9375 \nQ 23.390625 74.21875 37.203125 74.21875 \nQ 40.921875 74.21875 44.703125 73.484375 \nQ 48.484375 72.75 52.59375 71.296875 \nz\n\" id=\"DejaVuSans-54\"/>\n      </defs>\n      <g transform=\"translate(236.709688 254.356562)scale(0.1 -0.1)\">\n       <use xlink:href=\"#DejaVuSans-48\"/>\n       <use x=\"63.623047\" xlink:href=\"#DejaVuSans-46\"/>\n       <use x=\"95.410156\" xlink:href=\"#DejaVuSans-54\"/>\n      </g>\n     </g>\n    </g>\n    <g id=\"xtick_5\">\n     <g id=\"line2d_9\">\n      <path clip-path=\"url(#p34ef45cc25)\" d=\"M 311.62125 239.758125 \nL 311.62125 22.318125 \n\" style=\"fill:none;stroke:#b0b0b0;stroke-linecap:square;stroke-width:0.8;\"/>\n     </g>\n     <g id=\"line2d_10\">\n      <g>\n       <use style=\"stroke:#000000;stroke-width:0.8;\" x=\"311.62125\" xlink:href=\"#m3f8613d4b4\" y=\"239.758125\"/>\n      </g>\n     </g>\n     <g id=\"text_5\">\n      <!-- 0.8 -->\n      <defs>\n       <path d=\"M 31.78125 34.625 \nQ 24.75 34.625 20.71875 30.859375 \nQ 16.703125 27.09375 16.703125 20.515625 \nQ 16.703125 13.921875 20.71875 10.15625 \nQ 24.75 6.390625 31.78125 6.390625 \nQ 38.8125 6.390625 42.859375 10.171875 \nQ 46.921875 13.96875 46.921875 20.515625 \nQ 46.921875 27.09375 42.890625 30.859375 \nQ 38.875 34.625 31.78125 34.625 \nz\nM 21.921875 38.8125 \nQ 15.578125 40.375 12.03125 44.71875 \nQ 8.5 49.078125 8.5 55.328125 \nQ 8.5 64.0625 14.71875 69.140625 \nQ 20.953125 74.21875 31.78125 74.21875 \nQ 42.671875 74.21875 48.875 69.140625 \nQ 55.078125 64.0625 55.078125 55.328125 \nQ 55.078125 49.078125 51.53125 44.71875 \nQ 48 40.375 41.703125 38.8125 \nQ 48.828125 37.15625 52.796875 32.3125 \nQ 56.78125 27.484375 56.78125 20.515625 \nQ 56.78125 9.90625 50.3125 4.234375 \nQ 43.84375 -1.421875 31.78125 -1.421875 \nQ 19.734375 -1.421875 13.25 4.234375 \nQ 6.78125 9.90625 6.78125 20.515625 \nQ 6.78125 27.484375 10.78125 32.3125 \nQ 14.796875 37.15625 21.921875 38.8125 \nz\nM 18.3125 54.390625 \nQ 18.3125 48.734375 21.84375 45.5625 \nQ 25.390625 42.390625 31.78125 42.390625 \nQ 38.140625 42.390625 41.71875 45.5625 \nQ 45.3125 48.734375 45.3125 54.390625 \nQ 45.3125 60.0625 41.71875 63.234375 \nQ 38.140625 66.40625 31.78125 66.40625 \nQ 25.390625 66.40625 21.84375 63.234375 \nQ 18.3125 60.0625 18.3125 54.390625 \nz\n\" id=\"DejaVuSans-56\"/>\n      </defs>\n      <g transform=\"translate(303.669688 254.356562)scale(0.1 -0.1)\">\n       <use xlink:href=\"#DejaVuSans-48\"/>\n       <use x=\"63.623047\" xlink:href=\"#DejaVuSans-46\"/>\n       <use x=\"95.410156\" xlink:href=\"#DejaVuSans-56\"/>\n      </g>\n     </g>\n    </g>\n    <g id=\"xtick_6\">\n     <g id=\"line2d_11\">\n      <path clip-path=\"url(#p34ef45cc25)\" d=\"M 378.58125 239.758125 \nL 378.58125 22.318125 \n\" style=\"fill:none;stroke:#b0b0b0;stroke-linecap:square;stroke-width:0.8;\"/>\n     </g>\n     <g id=\"line2d_12\">\n      <g>\n       <use style=\"stroke:#000000;stroke-width:0.8;\" x=\"378.58125\" xlink:href=\"#m3f8613d4b4\" y=\"239.758125\"/>\n      </g>\n     </g>\n     <g id=\"text_6\">\n      <!-- 1.0 -->\n      <defs>\n       <path d=\"M 12.40625 8.296875 \nL 28.515625 8.296875 \nL 28.515625 63.921875 \nL 10.984375 60.40625 \nL 10.984375 69.390625 \nL 28.421875 72.90625 \nL 38.28125 72.90625 \nL 38.28125 8.296875 \nL 54.390625 8.296875 \nL 54.390625 0 \nL 12.40625 0 \nz\n\" id=\"DejaVuSans-49\"/>\n      </defs>\n      <g transform=\"translate(370.629687 254.356562)scale(0.1 -0.1)\">\n       <use xlink:href=\"#DejaVuSans-49\"/>\n       <use x=\"63.623047\" xlink:href=\"#DejaVuSans-46\"/>\n       <use x=\"95.410156\" xlink:href=\"#DejaVuSans-48\"/>\n      </g>\n     </g>\n    </g>\n    <g id=\"text_7\">\n     <!-- False Positive Rate (1 - Specificity) -->\n     <defs>\n      <path d=\"M 9.8125 72.90625 \nL 51.703125 72.90625 \nL 51.703125 64.59375 \nL 19.671875 64.59375 \nL 19.671875 43.109375 \nL 48.578125 43.109375 \nL 48.578125 34.8125 \nL 19.671875 34.8125 \nL 19.671875 0 \nL 9.8125 0 \nz\n\" id=\"DejaVuSans-70\"/>\n      <path d=\"M 34.28125 27.484375 \nQ 23.390625 27.484375 19.1875 25 \nQ 14.984375 22.515625 14.984375 16.5 \nQ 14.984375 11.71875 18.140625 8.90625 \nQ 21.296875 6.109375 26.703125 6.109375 \nQ 34.1875 6.109375 38.703125 11.40625 \nQ 43.21875 16.703125 43.21875 25.484375 \nL 43.21875 27.484375 \nz\nM 52.203125 31.203125 \nL 52.203125 0 \nL 43.21875 0 \nL 43.21875 8.296875 \nQ 40.140625 3.328125 35.546875 0.953125 \nQ 30.953125 -1.421875 24.3125 -1.421875 \nQ 15.921875 -1.421875 10.953125 3.296875 \nQ 6 8.015625 6 15.921875 \nQ 6 25.140625 12.171875 29.828125 \nQ 18.359375 34.515625 30.609375 34.515625 \nL 43.21875 34.515625 \nL 43.21875 35.40625 \nQ 43.21875 41.609375 39.140625 45 \nQ 35.0625 48.390625 27.6875 48.390625 \nQ 23 48.390625 18.546875 47.265625 \nQ 14.109375 46.140625 10.015625 43.890625 \nL 10.015625 52.203125 \nQ 14.9375 54.109375 19.578125 55.046875 \nQ 24.21875 56 28.609375 56 \nQ 40.484375 56 46.34375 49.84375 \nQ 52.203125 43.703125 52.203125 31.203125 \nz\n\" id=\"DejaVuSans-97\"/>\n      <path d=\"M 9.421875 75.984375 \nL 18.40625 75.984375 \nL 18.40625 0 \nL 9.421875 0 \nz\n\" id=\"DejaVuSans-108\"/>\n      <path d=\"M 44.28125 53.078125 \nL 44.28125 44.578125 \nQ 40.484375 46.53125 36.375 47.5 \nQ 32.28125 48.484375 27.875 48.484375 \nQ 21.1875 48.484375 17.84375 46.4375 \nQ 14.5 44.390625 14.5 40.28125 \nQ 14.5 37.15625 16.890625 35.375 \nQ 19.28125 33.59375 26.515625 31.984375 \nL 29.59375 31.296875 \nQ 39.15625 29.25 43.1875 25.515625 \nQ 47.21875 21.78125 47.21875 15.09375 \nQ 47.21875 7.46875 41.1875 3.015625 \nQ 35.15625 -1.421875 24.609375 -1.421875 \nQ 20.21875 -1.421875 15.453125 -0.5625 \nQ 10.6875 0.296875 5.421875 2 \nL 5.421875 11.28125 \nQ 10.40625 8.6875 15.234375 7.390625 \nQ 20.0625 6.109375 24.8125 6.109375 \nQ 31.15625 6.109375 34.5625 8.28125 \nQ 37.984375 10.453125 37.984375 14.40625 \nQ 37.984375 18.0625 35.515625 20.015625 \nQ 33.0625 21.96875 24.703125 23.78125 \nL 21.578125 24.515625 \nQ 13.234375 26.265625 9.515625 29.90625 \nQ 5.8125 33.546875 5.8125 39.890625 \nQ 5.8125 47.609375 11.28125 51.796875 \nQ 16.75 56 26.8125 56 \nQ 31.78125 56 36.171875 55.265625 \nQ 40.578125 54.546875 44.28125 53.078125 \nz\n\" id=\"DejaVuSans-115\"/>\n      <path d=\"M 56.203125 29.59375 \nL 56.203125 25.203125 \nL 14.890625 25.203125 \nQ 15.484375 15.921875 20.484375 11.0625 \nQ 25.484375 6.203125 34.421875 6.203125 \nQ 39.59375 6.203125 44.453125 7.46875 \nQ 49.3125 8.734375 54.109375 11.28125 \nL 54.109375 2.78125 \nQ 49.265625 0.734375 44.1875 -0.34375 \nQ 39.109375 -1.421875 33.890625 -1.421875 \nQ 20.796875 -1.421875 13.15625 6.1875 \nQ 5.515625 13.8125 5.515625 26.8125 \nQ 5.515625 40.234375 12.765625 48.109375 \nQ 20.015625 56 32.328125 56 \nQ 43.359375 56 49.78125 48.890625 \nQ 56.203125 41.796875 56.203125 29.59375 \nz\nM 47.21875 32.234375 \nQ 47.125 39.59375 43.09375 43.984375 \nQ 39.0625 48.390625 32.421875 48.390625 \nQ 24.90625 48.390625 20.390625 44.140625 \nQ 15.875 39.890625 15.1875 32.171875 \nz\n\" id=\"DejaVuSans-101\"/>\n      <path id=\"DejaVuSans-32\"/>\n      <path d=\"M 19.671875 64.796875 \nL 19.671875 37.40625 \nL 32.078125 37.40625 \nQ 38.96875 37.40625 42.71875 40.96875 \nQ 46.484375 44.53125 46.484375 51.125 \nQ 46.484375 57.671875 42.71875 61.234375 \nQ 38.96875 64.796875 32.078125 64.796875 \nz\nM 9.8125 72.90625 \nL 32.078125 72.90625 \nQ 44.34375 72.90625 50.609375 67.359375 \nQ 56.890625 61.8125 56.890625 51.125 \nQ 56.890625 40.328125 50.609375 34.8125 \nQ 44.34375 29.296875 32.078125 29.296875 \nL 19.671875 29.296875 \nL 19.671875 0 \nL 9.8125 0 \nz\n\" id=\"DejaVuSans-80\"/>\n      <path d=\"M 30.609375 48.390625 \nQ 23.390625 48.390625 19.1875 42.75 \nQ 14.984375 37.109375 14.984375 27.296875 \nQ 14.984375 17.484375 19.15625 11.84375 \nQ 23.34375 6.203125 30.609375 6.203125 \nQ 37.796875 6.203125 41.984375 11.859375 \nQ 46.1875 17.53125 46.1875 27.296875 \nQ 46.1875 37.015625 41.984375 42.703125 \nQ 37.796875 48.390625 30.609375 48.390625 \nz\nM 30.609375 56 \nQ 42.328125 56 49.015625 48.375 \nQ 55.71875 40.765625 55.71875 27.296875 \nQ 55.71875 13.875 49.015625 6.21875 \nQ 42.328125 -1.421875 30.609375 -1.421875 \nQ 18.84375 -1.421875 12.171875 6.21875 \nQ 5.515625 13.875 5.515625 27.296875 \nQ 5.515625 40.765625 12.171875 48.375 \nQ 18.84375 56 30.609375 56 \nz\n\" id=\"DejaVuSans-111\"/>\n      <path d=\"M 9.421875 54.6875 \nL 18.40625 54.6875 \nL 18.40625 0 \nL 9.421875 0 \nz\nM 9.421875 75.984375 \nL 18.40625 75.984375 \nL 18.40625 64.59375 \nL 9.421875 64.59375 \nz\n\" id=\"DejaVuSans-105\"/>\n      <path d=\"M 18.3125 70.21875 \nL 18.3125 54.6875 \nL 36.8125 54.6875 \nL 36.8125 47.703125 \nL 18.3125 47.703125 \nL 18.3125 18.015625 \nQ 18.3125 11.328125 20.140625 9.421875 \nQ 21.96875 7.515625 27.59375 7.515625 \nL 36.8125 7.515625 \nL 36.8125 0 \nL 27.59375 0 \nQ 17.1875 0 13.234375 3.875 \nQ 9.28125 7.765625 9.28125 18.015625 \nL 9.28125 47.703125 \nL 2.6875 47.703125 \nL 2.6875 54.6875 \nL 9.28125 54.6875 \nL 9.28125 70.21875 \nz\n\" id=\"DejaVuSans-116\"/>\n      <path d=\"M 2.984375 54.6875 \nL 12.5 54.6875 \nL 29.59375 8.796875 \nL 46.6875 54.6875 \nL 56.203125 54.6875 \nL 35.6875 0 \nL 23.484375 0 \nz\n\" id=\"DejaVuSans-118\"/>\n      <path d=\"M 44.390625 34.1875 \nQ 47.5625 33.109375 50.5625 29.59375 \nQ 53.5625 26.078125 56.59375 19.921875 \nL 66.609375 0 \nL 56 0 \nL 46.6875 18.703125 \nQ 43.0625 26.03125 39.671875 28.421875 \nQ 36.28125 30.8125 30.421875 30.8125 \nL 19.671875 30.8125 \nL 19.671875 0 \nL 9.8125 0 \nL 9.8125 72.90625 \nL 32.078125 72.90625 \nQ 44.578125 72.90625 50.734375 67.671875 \nQ 56.890625 62.453125 56.890625 51.90625 \nQ 56.890625 45.015625 53.6875 40.46875 \nQ 50.484375 35.9375 44.390625 34.1875 \nz\nM 19.671875 64.796875 \nL 19.671875 38.921875 \nL 32.078125 38.921875 \nQ 39.203125 38.921875 42.84375 42.21875 \nQ 46.484375 45.515625 46.484375 51.90625 \nQ 46.484375 58.296875 42.84375 61.546875 \nQ 39.203125 64.796875 32.078125 64.796875 \nz\n\" id=\"DejaVuSans-82\"/>\n      <path d=\"M 31 75.875 \nQ 24.46875 64.65625 21.28125 53.65625 \nQ 18.109375 42.671875 18.109375 31.390625 \nQ 18.109375 20.125 21.3125 9.0625 \nQ 24.515625 -2 31 -13.1875 \nL 23.1875 -13.1875 \nQ 15.875 -1.703125 12.234375 9.375 \nQ 8.59375 20.453125 8.59375 31.390625 \nQ 8.59375 42.28125 12.203125 53.3125 \nQ 15.828125 64.359375 23.1875 75.875 \nz\n\" id=\"DejaVuSans-40\"/>\n      <path d=\"M 4.890625 31.390625 \nL 31.203125 31.390625 \nL 31.203125 23.390625 \nL 4.890625 23.390625 \nz\n\" id=\"DejaVuSans-45\"/>\n      <path d=\"M 53.515625 70.515625 \nL 53.515625 60.890625 \nQ 47.90625 63.578125 42.921875 64.890625 \nQ 37.9375 66.21875 33.296875 66.21875 \nQ 25.25 66.21875 20.875 63.09375 \nQ 16.5 59.96875 16.5 54.203125 \nQ 16.5 49.359375 19.40625 46.890625 \nQ 22.3125 44.4375 30.421875 42.921875 \nL 36.375 41.703125 \nQ 47.40625 39.59375 52.65625 34.296875 \nQ 57.90625 29 57.90625 20.125 \nQ 57.90625 9.515625 50.796875 4.046875 \nQ 43.703125 -1.421875 29.984375 -1.421875 \nQ 24.8125 -1.421875 18.96875 -0.25 \nQ 13.140625 0.921875 6.890625 3.21875 \nL 6.890625 13.375 \nQ 12.890625 10.015625 18.65625 8.296875 \nQ 24.421875 6.59375 29.984375 6.59375 \nQ 38.421875 6.59375 43.015625 9.90625 \nQ 47.609375 13.234375 47.609375 19.390625 \nQ 47.609375 24.75 44.3125 27.78125 \nQ 41.015625 30.8125 33.5 32.328125 \nL 27.484375 33.5 \nQ 16.453125 35.6875 11.515625 40.375 \nQ 6.59375 45.0625 6.59375 53.421875 \nQ 6.59375 63.09375 13.40625 68.65625 \nQ 20.21875 74.21875 32.171875 74.21875 \nQ 37.3125 74.21875 42.625 73.28125 \nQ 47.953125 72.359375 53.515625 70.515625 \nz\n\" id=\"DejaVuSans-83\"/>\n      <path d=\"M 18.109375 8.203125 \nL 18.109375 -20.796875 \nL 9.078125 -20.796875 \nL 9.078125 54.6875 \nL 18.109375 54.6875 \nL 18.109375 46.390625 \nQ 20.953125 51.265625 25.265625 53.625 \nQ 29.59375 56 35.59375 56 \nQ 45.5625 56 51.78125 48.09375 \nQ 58.015625 40.1875 58.015625 27.296875 \nQ 58.015625 14.40625 51.78125 6.484375 \nQ 45.5625 -1.421875 35.59375 -1.421875 \nQ 29.59375 -1.421875 25.265625 0.953125 \nQ 20.953125 3.328125 18.109375 8.203125 \nz\nM 48.6875 27.296875 \nQ 48.6875 37.203125 44.609375 42.84375 \nQ 40.53125 48.484375 33.40625 48.484375 \nQ 26.265625 48.484375 22.1875 42.84375 \nQ 18.109375 37.203125 18.109375 27.296875 \nQ 18.109375 17.390625 22.1875 11.75 \nQ 26.265625 6.109375 33.40625 6.109375 \nQ 40.53125 6.109375 44.609375 11.75 \nQ 48.6875 17.390625 48.6875 27.296875 \nz\n\" id=\"DejaVuSans-112\"/>\n      <path d=\"M 48.78125 52.59375 \nL 48.78125 44.1875 \nQ 44.96875 46.296875 41.140625 47.34375 \nQ 37.3125 48.390625 33.40625 48.390625 \nQ 24.65625 48.390625 19.8125 42.84375 \nQ 14.984375 37.3125 14.984375 27.296875 \nQ 14.984375 17.28125 19.8125 11.734375 \nQ 24.65625 6.203125 33.40625 6.203125 \nQ 37.3125 6.203125 41.140625 7.25 \nQ 44.96875 8.296875 48.78125 10.40625 \nL 48.78125 2.09375 \nQ 45.015625 0.34375 40.984375 -0.53125 \nQ 36.96875 -1.421875 32.421875 -1.421875 \nQ 20.0625 -1.421875 12.78125 6.34375 \nQ 5.515625 14.109375 5.515625 27.296875 \nQ 5.515625 40.671875 12.859375 48.328125 \nQ 20.21875 56 33.015625 56 \nQ 37.15625 56 41.109375 55.140625 \nQ 45.0625 54.296875 48.78125 52.59375 \nz\n\" id=\"DejaVuSans-99\"/>\n      <path d=\"M 37.109375 75.984375 \nL 37.109375 68.5 \nL 28.515625 68.5 \nQ 23.6875 68.5 21.796875 66.546875 \nQ 19.921875 64.59375 19.921875 59.515625 \nL 19.921875 54.6875 \nL 34.71875 54.6875 \nL 34.71875 47.703125 \nL 19.921875 47.703125 \nL 19.921875 0 \nL 10.890625 0 \nL 10.890625 47.703125 \nL 2.296875 47.703125 \nL 2.296875 54.6875 \nL 10.890625 54.6875 \nL 10.890625 58.5 \nQ 10.890625 67.625 15.140625 71.796875 \nQ 19.390625 75.984375 28.609375 75.984375 \nz\n\" id=\"DejaVuSans-102\"/>\n      <path d=\"M 32.171875 -5.078125 \nQ 28.375 -14.84375 24.75 -17.8125 \nQ 21.140625 -20.796875 15.09375 -20.796875 \nL 7.90625 -20.796875 \nL 7.90625 -13.28125 \nL 13.1875 -13.28125 \nQ 16.890625 -13.28125 18.9375 -11.515625 \nQ 21 -9.765625 23.484375 -3.21875 \nL 25.09375 0.875 \nL 2.984375 54.6875 \nL 12.5 54.6875 \nL 29.59375 11.921875 \nL 46.6875 54.6875 \nL 56.203125 54.6875 \nz\n\" id=\"DejaVuSans-121\"/>\n      <path d=\"M 8.015625 75.875 \nL 15.828125 75.875 \nQ 23.140625 64.359375 26.78125 53.3125 \nQ 30.421875 42.28125 30.421875 31.390625 \nQ 30.421875 20.453125 26.78125 9.375 \nQ 23.140625 -1.703125 15.828125 -13.1875 \nL 8.015625 -13.1875 \nQ 14.5 -2 17.703125 9.0625 \nQ 20.90625 20.125 20.90625 31.390625 \nQ 20.90625 42.671875 17.703125 53.65625 \nQ 14.5 64.65625 8.015625 75.875 \nz\n\" id=\"DejaVuSans-41\"/>\n     </defs>\n     <g transform=\"translate(124.551563 268.034687)scale(0.1 -0.1)\">\n      <use xlink:href=\"#DejaVuSans-70\"/>\n      <use x=\"57.378906\" xlink:href=\"#DejaVuSans-97\"/>\n      <use x=\"118.658203\" xlink:href=\"#DejaVuSans-108\"/>\n      <use x=\"146.441406\" xlink:href=\"#DejaVuSans-115\"/>\n      <use x=\"198.541016\" xlink:href=\"#DejaVuSans-101\"/>\n      <use x=\"260.064453\" xlink:href=\"#DejaVuSans-32\"/>\n      <use x=\"291.851562\" xlink:href=\"#DejaVuSans-80\"/>\n      <use x=\"352.107422\" xlink:href=\"#DejaVuSans-111\"/>\n      <use x=\"413.289062\" xlink:href=\"#DejaVuSans-115\"/>\n      <use x=\"465.388672\" xlink:href=\"#DejaVuSans-105\"/>\n      <use x=\"493.171875\" xlink:href=\"#DejaVuSans-116\"/>\n      <use x=\"532.380859\" xlink:href=\"#DejaVuSans-105\"/>\n      <use x=\"560.164062\" xlink:href=\"#DejaVuSans-118\"/>\n      <use x=\"619.34375\" xlink:href=\"#DejaVuSans-101\"/>\n      <use x=\"680.867188\" xlink:href=\"#DejaVuSans-32\"/>\n      <use x=\"712.654297\" xlink:href=\"#DejaVuSans-82\"/>\n      <use x=\"782.105469\" xlink:href=\"#DejaVuSans-97\"/>\n      <use x=\"843.384766\" xlink:href=\"#DejaVuSans-116\"/>\n      <use x=\"882.59375\" xlink:href=\"#DejaVuSans-101\"/>\n      <use x=\"944.117188\" xlink:href=\"#DejaVuSans-32\"/>\n      <use x=\"975.904297\" xlink:href=\"#DejaVuSans-40\"/>\n      <use x=\"1014.917969\" xlink:href=\"#DejaVuSans-49\"/>\n      <use x=\"1078.541016\" xlink:href=\"#DejaVuSans-32\"/>\n      <use x=\"1110.328125\" xlink:href=\"#DejaVuSans-45\"/>\n      <use x=\"1146.412109\" xlink:href=\"#DejaVuSans-32\"/>\n      <use x=\"1178.199219\" xlink:href=\"#DejaVuSans-83\"/>\n      <use x=\"1241.675781\" xlink:href=\"#DejaVuSans-112\"/>\n      <use x=\"1305.152344\" xlink:href=\"#DejaVuSans-101\"/>\n      <use x=\"1366.675781\" xlink:href=\"#DejaVuSans-99\"/>\n      <use x=\"1421.65625\" xlink:href=\"#DejaVuSans-105\"/>\n      <use x=\"1449.439453\" xlink:href=\"#DejaVuSans-102\"/>\n      <use x=\"1484.644531\" xlink:href=\"#DejaVuSans-105\"/>\n      <use x=\"1512.427734\" xlink:href=\"#DejaVuSans-99\"/>\n      <use x=\"1567.408203\" xlink:href=\"#DejaVuSans-105\"/>\n      <use x=\"1595.191406\" xlink:href=\"#DejaVuSans-116\"/>\n      <use x=\"1634.400391\" xlink:href=\"#DejaVuSans-121\"/>\n      <use x=\"1693.580078\" xlink:href=\"#DejaVuSans-41\"/>\n     </g>\n    </g>\n   </g>\n   <g id=\"matplotlib.axis_2\">\n    <g id=\"ytick_1\">\n     <g id=\"line2d_13\">\n      <path clip-path=\"url(#p34ef45cc25)\" d=\"M 43.78125 239.758125 \nL 378.58125 239.758125 \n\" style=\"fill:none;stroke:#b0b0b0;stroke-linecap:square;stroke-width:0.8;\"/>\n     </g>\n     <g id=\"line2d_14\">\n      <defs>\n       <path d=\"M 0 0 \nL -3.5 0 \n\" id=\"m927b313854\" style=\"stroke:#000000;stroke-width:0.8;\"/>\n      </defs>\n      <g>\n       <use style=\"stroke:#000000;stroke-width:0.8;\" x=\"43.78125\" xlink:href=\"#m927b313854\" y=\"239.758125\"/>\n      </g>\n     </g>\n     <g id=\"text_8\">\n      <!-- 0.0 -->\n      <g transform=\"translate(20.878125 243.557344)scale(0.1 -0.1)\">\n       <use xlink:href=\"#DejaVuSans-48\"/>\n       <use x=\"63.623047\" xlink:href=\"#DejaVuSans-46\"/>\n       <use x=\"95.410156\" xlink:href=\"#DejaVuSans-48\"/>\n      </g>\n     </g>\n    </g>\n    <g id=\"ytick_2\">\n     <g id=\"line2d_15\">\n      <path clip-path=\"url(#p34ef45cc25)\" d=\"M 43.78125 196.270125 \nL 378.58125 196.270125 \n\" style=\"fill:none;stroke:#b0b0b0;stroke-linecap:square;stroke-width:0.8;\"/>\n     </g>\n     <g id=\"line2d_16\">\n      <g>\n       <use style=\"stroke:#000000;stroke-width:0.8;\" x=\"43.78125\" xlink:href=\"#m927b313854\" y=\"196.270125\"/>\n      </g>\n     </g>\n     <g id=\"text_9\">\n      <!-- 0.2 -->\n      <g transform=\"translate(20.878125 200.069344)scale(0.1 -0.1)\">\n       <use xlink:href=\"#DejaVuSans-48\"/>\n       <use x=\"63.623047\" xlink:href=\"#DejaVuSans-46\"/>\n       <use x=\"95.410156\" xlink:href=\"#DejaVuSans-50\"/>\n      </g>\n     </g>\n    </g>\n    <g id=\"ytick_3\">\n     <g id=\"line2d_17\">\n      <path clip-path=\"url(#p34ef45cc25)\" d=\"M 43.78125 152.782125 \nL 378.58125 152.782125 \n\" style=\"fill:none;stroke:#b0b0b0;stroke-linecap:square;stroke-width:0.8;\"/>\n     </g>\n     <g id=\"line2d_18\">\n      <g>\n       <use style=\"stroke:#000000;stroke-width:0.8;\" x=\"43.78125\" xlink:href=\"#m927b313854\" y=\"152.782125\"/>\n      </g>\n     </g>\n     <g id=\"text_10\">\n      <!-- 0.4 -->\n      <g transform=\"translate(20.878125 156.581344)scale(0.1 -0.1)\">\n       <use xlink:href=\"#DejaVuSans-48\"/>\n       <use x=\"63.623047\" xlink:href=\"#DejaVuSans-46\"/>\n       <use x=\"95.410156\" xlink:href=\"#DejaVuSans-52\"/>\n      </g>\n     </g>\n    </g>\n    <g id=\"ytick_4\">\n     <g id=\"line2d_19\">\n      <path clip-path=\"url(#p34ef45cc25)\" d=\"M 43.78125 109.294125 \nL 378.58125 109.294125 \n\" style=\"fill:none;stroke:#b0b0b0;stroke-linecap:square;stroke-width:0.8;\"/>\n     </g>\n     <g id=\"line2d_20\">\n      <g>\n       <use style=\"stroke:#000000;stroke-width:0.8;\" x=\"43.78125\" xlink:href=\"#m927b313854\" y=\"109.294125\"/>\n      </g>\n     </g>\n     <g id=\"text_11\">\n      <!-- 0.6 -->\n      <g transform=\"translate(20.878125 113.093344)scale(0.1 -0.1)\">\n       <use xlink:href=\"#DejaVuSans-48\"/>\n       <use x=\"63.623047\" xlink:href=\"#DejaVuSans-46\"/>\n       <use x=\"95.410156\" xlink:href=\"#DejaVuSans-54\"/>\n      </g>\n     </g>\n    </g>\n    <g id=\"ytick_5\">\n     <g id=\"line2d_21\">\n      <path clip-path=\"url(#p34ef45cc25)\" d=\"M 43.78125 65.806125 \nL 378.58125 65.806125 \n\" style=\"fill:none;stroke:#b0b0b0;stroke-linecap:square;stroke-width:0.8;\"/>\n     </g>\n     <g id=\"line2d_22\">\n      <g>\n       <use style=\"stroke:#000000;stroke-width:0.8;\" x=\"43.78125\" xlink:href=\"#m927b313854\" y=\"65.806125\"/>\n      </g>\n     </g>\n     <g id=\"text_12\">\n      <!-- 0.8 -->\n      <g transform=\"translate(20.878125 69.605344)scale(0.1 -0.1)\">\n       <use xlink:href=\"#DejaVuSans-48\"/>\n       <use x=\"63.623047\" xlink:href=\"#DejaVuSans-46\"/>\n       <use x=\"95.410156\" xlink:href=\"#DejaVuSans-56\"/>\n      </g>\n     </g>\n    </g>\n    <g id=\"ytick_6\">\n     <g id=\"line2d_23\">\n      <path clip-path=\"url(#p34ef45cc25)\" d=\"M 43.78125 22.318125 \nL 378.58125 22.318125 \n\" style=\"fill:none;stroke:#b0b0b0;stroke-linecap:square;stroke-width:0.8;\"/>\n     </g>\n     <g id=\"line2d_24\">\n      <g>\n       <use style=\"stroke:#000000;stroke-width:0.8;\" x=\"43.78125\" xlink:href=\"#m927b313854\" y=\"22.318125\"/>\n      </g>\n     </g>\n     <g id=\"text_13\">\n      <!-- 1.0 -->\n      <g transform=\"translate(20.878125 26.117344)scale(0.1 -0.1)\">\n       <use xlink:href=\"#DejaVuSans-49\"/>\n       <use x=\"63.623047\" xlink:href=\"#DejaVuSans-46\"/>\n       <use x=\"95.410156\" xlink:href=\"#DejaVuSans-48\"/>\n      </g>\n     </g>\n    </g>\n    <g id=\"text_14\">\n     <!-- True Positive Rate (Sensitivity) -->\n     <defs>\n      <path d=\"M -0.296875 72.90625 \nL 61.375 72.90625 \nL 61.375 64.59375 \nL 35.5 64.59375 \nL 35.5 0 \nL 25.59375 0 \nL 25.59375 64.59375 \nL -0.296875 64.59375 \nz\n\" id=\"DejaVuSans-84\"/>\n      <path d=\"M 41.109375 46.296875 \nQ 39.59375 47.171875 37.8125 47.578125 \nQ 36.03125 48 33.890625 48 \nQ 26.265625 48 22.1875 43.046875 \nQ 18.109375 38.09375 18.109375 28.8125 \nL 18.109375 0 \nL 9.078125 0 \nL 9.078125 54.6875 \nL 18.109375 54.6875 \nL 18.109375 46.1875 \nQ 20.953125 51.171875 25.484375 53.578125 \nQ 30.03125 56 36.53125 56 \nQ 37.453125 56 38.578125 55.875 \nQ 39.703125 55.765625 41.0625 55.515625 \nz\n\" id=\"DejaVuSans-114\"/>\n      <path d=\"M 8.5 21.578125 \nL 8.5 54.6875 \nL 17.484375 54.6875 \nL 17.484375 21.921875 \nQ 17.484375 14.15625 20.5 10.265625 \nQ 23.53125 6.390625 29.59375 6.390625 \nQ 36.859375 6.390625 41.078125 11.03125 \nQ 45.3125 15.671875 45.3125 23.6875 \nL 45.3125 54.6875 \nL 54.296875 54.6875 \nL 54.296875 0 \nL 45.3125 0 \nL 45.3125 8.40625 \nQ 42.046875 3.421875 37.71875 1 \nQ 33.40625 -1.421875 27.6875 -1.421875 \nQ 18.265625 -1.421875 13.375 4.4375 \nQ 8.5 10.296875 8.5 21.578125 \nz\nM 31.109375 56 \nz\n\" id=\"DejaVuSans-117\"/>\n      <path d=\"M 54.890625 33.015625 \nL 54.890625 0 \nL 45.90625 0 \nL 45.90625 32.71875 \nQ 45.90625 40.484375 42.875 44.328125 \nQ 39.84375 48.1875 33.796875 48.1875 \nQ 26.515625 48.1875 22.3125 43.546875 \nQ 18.109375 38.921875 18.109375 30.90625 \nL 18.109375 0 \nL 9.078125 0 \nL 9.078125 54.6875 \nL 18.109375 54.6875 \nL 18.109375 46.1875 \nQ 21.34375 51.125 25.703125 53.5625 \nQ 30.078125 56 35.796875 56 \nQ 45.21875 56 50.046875 50.171875 \nQ 54.890625 44.34375 54.890625 33.015625 \nz\n\" id=\"DejaVuSans-110\"/>\n     </defs>\n     <g transform=\"translate(14.798438 208.105312)rotate(-90)scale(0.1 -0.1)\">\n      <use xlink:href=\"#DejaVuSans-84\"/>\n      <use x=\"60.865234\" xlink:href=\"#DejaVuSans-114\"/>\n      <use x=\"101.978516\" xlink:href=\"#DejaVuSans-117\"/>\n      <use x=\"165.357422\" xlink:href=\"#DejaVuSans-101\"/>\n      <use x=\"226.880859\" xlink:href=\"#DejaVuSans-32\"/>\n      <use x=\"258.667969\" xlink:href=\"#DejaVuSans-80\"/>\n      <use x=\"318.923828\" xlink:href=\"#DejaVuSans-111\"/>\n      <use x=\"380.105469\" xlink:href=\"#DejaVuSans-115\"/>\n      <use x=\"432.205078\" xlink:href=\"#DejaVuSans-105\"/>\n      <use x=\"459.988281\" xlink:href=\"#DejaVuSans-116\"/>\n      <use x=\"499.197266\" xlink:href=\"#DejaVuSans-105\"/>\n      <use x=\"526.980469\" xlink:href=\"#DejaVuSans-118\"/>\n      <use x=\"586.160156\" xlink:href=\"#DejaVuSans-101\"/>\n      <use x=\"647.683594\" xlink:href=\"#DejaVuSans-32\"/>\n      <use x=\"679.470703\" xlink:href=\"#DejaVuSans-82\"/>\n      <use x=\"748.921875\" xlink:href=\"#DejaVuSans-97\"/>\n      <use x=\"810.201172\" xlink:href=\"#DejaVuSans-116\"/>\n      <use x=\"849.410156\" xlink:href=\"#DejaVuSans-101\"/>\n      <use x=\"910.933594\" xlink:href=\"#DejaVuSans-32\"/>\n      <use x=\"942.720703\" xlink:href=\"#DejaVuSans-40\"/>\n      <use x=\"981.734375\" xlink:href=\"#DejaVuSans-83\"/>\n      <use x=\"1045.210938\" xlink:href=\"#DejaVuSans-101\"/>\n      <use x=\"1106.734375\" xlink:href=\"#DejaVuSans-110\"/>\n      <use x=\"1170.113281\" xlink:href=\"#DejaVuSans-115\"/>\n      <use x=\"1222.212891\" xlink:href=\"#DejaVuSans-105\"/>\n      <use x=\"1249.996094\" xlink:href=\"#DejaVuSans-116\"/>\n      <use x=\"1289.205078\" xlink:href=\"#DejaVuSans-105\"/>\n      <use x=\"1316.988281\" xlink:href=\"#DejaVuSans-118\"/>\n      <use x=\"1376.167969\" xlink:href=\"#DejaVuSans-105\"/>\n      <use x=\"1403.951172\" xlink:href=\"#DejaVuSans-116\"/>\n      <use x=\"1443.160156\" xlink:href=\"#DejaVuSans-121\"/>\n      <use x=\"1502.339844\" xlink:href=\"#DejaVuSans-41\"/>\n     </g>\n    </g>\n   </g>\n   <g id=\"line2d_25\">\n    <path clip-path=\"url(#p34ef45cc25)\" d=\"M 43.78125 239.758125 \nL 43.916159 239.758125 \nL 44.006099 238.154174 \nL 44.096038 238.154174 \nL 44.096038 238.084437 \nL 44.185978 237.526541 \nL 44.365857 237.456804 \nL 44.455797 237.177856 \nL 44.500766 237.177856 \nL 44.590706 236.689697 \nL 44.635676 236.689697 \nL 44.725615 235.43443 \nL 44.770585 235.43443 \nL 44.860525 234.946271 \nL 44.905494 234.946271 \nL 44.950464 234.03969 \nL 44.995434 234.03969 \nL 45.040404 233.969953 \nL 45.130343 233.412057 \nL 45.310222 233.34232 \nL 45.400162 232.366002 \nL 45.535071 232.366002 \nL 45.580041 232.156791 \nL 45.89483 232.156791 \nL 45.984769 231.459421 \nL 46.029739 231.459421 \nL 46.029739 231.389684 \nL 46.119678 229.646258 \nL 46.164648 229.646258 \nL 46.254588 228.948888 \nL 46.344527 228.879151 \nL 46.389497 228.530466 \nL 46.479437 228.530466 \nL 46.524406 227.484411 \nL 46.614346 227.484411 \nL 46.659316 227.135726 \nL 46.794225 227.065989 \nL 46.839195 226.717304 \nL 47.019074 226.717304 \nL 47.109014 225.88046 \nL 47.198953 225.88046 \nL 47.288893 225.252827 \nL 47.423802 225.252827 \nL 47.513742 224.625194 \nL 47.558711 224.625194 \nL 47.558711 224.555457 \nL 47.603681 224.346246 \nL 47.693621 223.30019 \nL 47.73859 223.30019 \nL 47.73859 223.230453 \nL 47.82853 222.672557 \nL 48.008409 222.60282 \nL 48.098349 221.765976 \nL 48.143319 221.765976 \nL 48.233258 221.277817 \nL 48.278228 221.277817 \nL 48.368167 220.51071 \nL 48.458107 220.440973 \nL 48.503077 219.883077 \nL 48.637986 219.883077 \nL 48.727926 219.325181 \nL 48.772895 219.325181 \nL 48.862835 218.348863 \nL 48.907805 218.348863 \nL 48.997744 217.930441 \nL 49.042714 217.930441 \nL 49.132654 217.442282 \nL 49.177623 217.442282 \nL 49.267563 216.5357 \nL 49.402472 216.396226 \nL 49.492412 216.396226 \nL 49.582351 215.698856 \nL 49.627321 215.698856 \nL 49.717261 214.304116 \nL 49.762231 214.304116 \nL 49.85217 214.025168 \nL 49.987079 213.955431 \nL 50.166959 213.676483 \nL 50.211928 213.258061 \nL 50.301868 213.258061 \nL 50.391807 212.490954 \nL 50.841505 210.817265 \nL 50.931445 209.980421 \nL 51.201263 209.910684 \nL 51.246233 209.77121 \nL 51.336173 209.77121 \nL 51.426112 209.352788 \nL 51.516052 209.283051 \nL 51.605991 208.934366 \nL 51.695931 208.934366 \nL 51.740901 208.027785 \nL 51.83084 208.027785 \nL 51.87581 207.818574 \nL 52.055689 207.748837 \nL 52.145629 207.609363 \nL 52.235568 206.842256 \nL 52.505387 206.842256 \nL 52.595327 206.075149 \nL 52.685266 206.005412 \nL 52.775206 205.726464 \nL 52.820175 205.726464 \nL 52.955085 205.517253 \nL 53.045024 204.88962 \nL 53.224903 204.819883 \nL 53.314843 204.680409 \nL 53.359813 204.680409 \nL 53.449752 204.122512 \nL 53.494722 204.122512 \nL 53.494722 204.052775 \nL 53.494722 203.425142 \nL 53.674601 203.355405 \nL 53.719571 203.00672 \nL 53.764541 203.00672 \nL 53.94442 203.00672 \nL 53.94442 202.518561 \nL 54.034359 202.518561 \nL 54.169269 202.448824 \nL 54.214239 202.239613 \nL 54.259208 202.239613 \nL 54.394118 202.239613 \nL 54.484057 201.333032 \nL 54.573997 201.333032 \nL 54.753876 200.844873 \nL 54.888785 200.775136 \nL 54.978725 200.356714 \nL 55.113634 200.147503 \nL 55.158604 199.868555 \nL 55.293513 199.798818 \nL 55.383453 199.101448 \nL 55.428423 199.101448 \nL 55.428423 199.031711 \nL 55.608302 198.613289 \nL 55.653271 198.404078 \nL 55.698241 198.404078 \nL 55.87812 197.915918 \nL 55.96806 197.427759 \nL 56.057999 197.358022 \nL 56.147939 196.730389 \nL 56.192909 196.590915 \nL 56.507697 195.893545 \nL 56.642607 195.893545 \nL 56.642607 195.823808 \nL 56.687576 194.986964 \nL 56.777516 194.986964 \nL 56.867456 194.498805 \nL 57.002365 194.429068 \nL 57.092304 194.219857 \nL 57.227214 194.219857 \nL 57.272184 193.940909 \nL 57.362123 193.940909 \nL 57.362123 193.661961 \nL 57.452063 193.661961 \nL 57.497032 193.661961 \nL 57.586972 193.383013 \nL 57.721881 192.894854 \nL 57.94673 192.825117 \nL 58.03667 192.336958 \nL 58.08164 192.336958 \nL 58.171579 191.848799 \nL 58.216549 191.848799 \nL 58.306488 191.430376 \nL 58.351458 191.430376 \nL 58.351458 191.360639 \nL 58.441398 191.011954 \nL 58.531337 190.454058 \nL 58.621277 190.035636 \nL 58.666247 190.035636 \nL 58.756186 189.617214 \nL 58.846126 189.547477 \nL 58.846126 189.338266 \nL 59.026005 189.338266 \nL 59.115944 188.850107 \nL 59.160914 188.850107 \nL 59.250854 188.571159 \nL 59.340793 188.501422 \nL 59.430733 187.804052 \nL 59.655582 187.734315 \nL 59.655582 187.664578 \nL 59.745521 187.664578 \nL 60.420068 185.99089 \nL 60.420068 185.572468 \nL 60.599947 185.572468 \nL 60.689887 185.084308 \nL 60.734856 185.084308 \nL 60.824796 184.456675 \nL 61.004675 184.456675 \nL 61.004675 183.968516 \nL 61.094615 183.968516 \nL 61.364433 183.898779 \nL 61.454373 183.340883 \nL 61.544312 183.271146 \nL 61.634252 182.852724 \nL 61.814131 182.782987 \nL 61.859101 182.294828 \nL 62.12892 182.225091 \nL 62.218859 181.946143 \nL 62.353768 181.876406 \nL 62.353768 181.736932 \nL 62.578617 181.736932 \nL 62.623587 181.388247 \nL 62.893406 181.31851 \nL 62.983345 181.109299 \nL 63.163224 180.969825 \nL 63.388073 180.342192 \nL 63.433043 180.342192 \nL 63.522983 179.993507 \nL 63.747832 179.575085 \nL 63.792801 179.575085 \nL 64.10759 178.529029 \nL 64.15256 177.971133 \nL 64.242499 177.971133 \nL 64.242499 177.901396 \nL 64.512318 177.413237 \nL 64.602257 176.925078 \nL 64.692197 176.855341 \nL 64.692197 176.785604 \nL 64.827106 176.785604 \nL 65.051955 176.367182 \nL 65.456683 175.879023 \nL 65.546623 175.530338 \nL 65.951351 174.484283 \nL 66.04129 174.484283 \nL 66.04129 174.344809 \nL 66.221169 174.275072 \nL 66.311109 174.135598 \nL 66.401049 174.135598 \nL 66.490988 173.438228 \nL 66.535958 173.438228 \nL 66.535958 173.15928 \nL 66.760807 173.089543 \nL 66.850746 172.740858 \nL 66.895716 172.740858 \nL 66.940686 172.461909 \nL 67.030625 172.461909 \nL 67.030625 172.392172 \nL 67.120565 171.834276 \nL 67.255474 171.834276 \nL 67.345414 171.625065 \nL 67.840081 171.555328 \nL 68.1099 171.206643 \nL 68.244809 171.206643 \nL 68.334749 170.997432 \nL 68.469658 170.997432 \nL 68.514628 170.788221 \nL 68.694507 170.718484 \nL 68.694507 170.648747 \nL 68.784447 170.648747 \nL 68.919356 170.57901 \nL 69.009296 170.090851 \nL 69.054265 170.090851 \nL 69.144205 169.742166 \nL 69.638873 168.905322 \nL 69.908691 168.835585 \nL 69.998631 168.4869 \nL 70.13354 168.417163 \nL 70.22348 168.207952 \nL 70.268449 168.207952 \nL 70.268449 167.998741 \nL 70.358389 167.998741 \nL 70.583238 167.929004 \nL 70.583238 167.859267 \nL 70.673177 167.859267 \nL 70.853057 167.022423 \nL 71.032936 166.952686 \nL 71.122875 166.534264 \nL 71.302754 166.464527 \nL 71.392694 166.255316 \nL 71.482633 166.255316 \nL 71.482633 165.976367 \nL 72.067241 165.627682 \nL 72.067241 165.348734 \nL 72.15718 165.348734 \nL 72.292089 165.278997 \nL 72.471969 165.000049 \nL 72.471969 164.790838 \nL 72.696817 164.721101 \nL 72.921666 164.232942 \nL 73.281425 164.163205 \nL 73.281425 164.023731 \nL 73.326394 164.023731 \nL 73.416334 164.023731 \nL 73.416334 163.884257 \nL 73.911002 163.81452 \nL 74.000941 163.326361 \nL 74.405669 162.280306 \nL 74.495609 162.280306 \nL 74.495609 162.210569 \nL 74.540578 161.792147 \nL 74.585548 161.792147 \nL 74.720458 161.72241 \nL 74.810397 161.094777 \nL 74.855367 161.094777 \nL 74.900337 160.815829 \nL 75.035246 160.746092 \nL 75.035246 160.676355 \nL 75.080216 160.676355 \nL 75.305065 160.606618 \nL 75.395004 159.909248 \nL 75.574883 159.490825 \nL 75.574883 159.421088 \nL 75.664823 159.421088 \nL 75.709793 159.421088 \nL 75.799732 158.863192 \nL 75.889672 158.793455 \nL 75.934642 158.584244 \nL 76.114521 158.514507 \nL 76.24943 158.026348 \nL 76.564218 158.026348 \nL 76.564218 157.817137 \nL 76.654158 157.817137 \nL 76.789067 157.328978 \nL 76.923977 157.119767 \nL 76.923977 156.771082 \nL 77.103856 156.771082 \nL 77.103856 156.631608 \nL 77.193795 156.631608 \nL 77.373674 156.35266 \nL 77.508584 156.35266 \nL 77.508584 156.213186 \nL 77.598523 156.213186 \nL 77.778402 156.003975 \nL 78.003251 155.934238 \nL 78.003251 155.794764 \nL 78.138161 155.794764 \nL 78.18313 155.446079 \nL 78.36301 155.446079 \nL 78.36301 155.306605 \nL 78.542889 155.306605 \nL 78.587858 155.097394 \nL 78.632828 155.097394 \nL 78.902647 154.678972 \nL 78.902647 154.400024 \nL 79.037556 154.400024 \nL 79.037556 154.330287 \nL 79.262405 154.121076 \nL 79.442284 154.051339 \nL 79.442284 153.911865 \nL 79.577194 153.911865 \nL 79.622163 153.493443 \nL 79.757073 153.423706 \nL 79.802042 153.005283 \nL 80.026891 152.935546 \nL 80.116831 152.656598 \nL 80.611498 151.889491 \nL 80.836347 151.819754 \nL 80.926287 150.98291 \nL 80.971257 150.98291 \nL 81.061196 150.28554 \nL 81.375985 149.727644 \nL 81.465924 149.239485 \nL 81.690773 149.169748 \nL 81.735743 148.542115 \nL 81.825683 148.542115 \nL 81.915622 148.123693 \nL 82.005562 148.123693 \nL 82.005562 148.053956 \nL 82.27538 147.49606 \nL 82.36532 147.49606 \nL 82.455259 147.217112 \nL 82.680108 147.147375 \nL 82.725078 146.868426 \nL 82.859987 146.868426 \nL 83.354655 146.171056 \nL 83.444595 145.892108 \nL 83.669443 145.822371 \nL 83.759383 145.403949 \nL 83.894292 145.403949 \nL 83.984232 144.706579 \nL 84.164111 144.636842 \nL 84.164111 144.567105 \nL 84.254051 144.567105 \nL 84.478899 144.078946 \nL 84.658779 144.078946 \nL 84.748718 143.451313 \nL 84.928597 143.451313 \nL 84.928597 143.381576 \nL 85.243386 142.544732 \nL 85.603144 142.474995 \nL 85.827993 142.196047 \nL 85.917932 141.638151 \nL 86.232721 141.568414 \nL 86.36763 141.359203 \nL 86.637449 141.359203 \nL 86.637449 141.219729 \nL 86.727388 141.219729 \nL 86.907267 140.940781 \nL 86.907267 140.592095 \nL 87.132116 140.522358 \nL 87.177086 140.313147 \nL 87.761693 140.24341 \nL 87.761693 140.173673 \nL 87.851633 140.173673 \nL 88.121451 140.173673 \nL 88.166421 139.894725 \nL 88.43624 139.824988 \nL 88.43624 139.755251 \nL 88.526179 139.755251 \nL 88.885938 139.267092 \nL 88.975877 139.267092 \nL 88.975877 139.197355 \nL 89.155756 138.988144 \nL 89.425575 138.988144 \nL 89.515515 138.221037 \nL 89.560484 138.221037 \nL 89.830303 137.732878 \nL 90.055152 137.663141 \nL 90.145092 137.244719 \nL 90.190061 137.244719 \nL 90.190061 137.105245 \nL 90.36994 137.105245 \nL 90.45988 136.617086 \nL 90.864608 136.547349 \nL 90.864608 136.407875 \nL 90.954548 136.407875 \nL 91.044487 136.338138 \nL 91.269336 136.338138 \nL 91.404245 136.128927 \nL 92.123762 135.571031 \nL 92.213701 135.222346 \nL 92.43855 135.222346 \nL 92.43855 135.152609 \nL 92.708369 134.734187 \nL 92.708369 134.524976 \nL 92.843278 134.524976 \nL 92.933218 134.315765 \nL 92.978188 134.315765 \nL 92.978188 134.246028 \nL 93.158067 133.967079 \nL 93.203036 133.688131 \nL 93.517825 133.618394 \nL 93.517825 133.548657 \nL 94.012492 133.47892 \nL 94.102432 133.269709 \nL 94.147402 133.269709 \nL 94.147402 133.130235 \nL 94.642069 133.060498 \nL 94.732009 132.572339 \nL 94.821948 132.502602 \nL 94.956858 132.363128 \nL 94.956858 131.944706 \nL 95.001828 131.944706 \nL 95.631404 131.526284 \nL 95.631404 131.38681 \nL 95.811284 131.317073 \nL 95.901223 130.68944 \nL 95.946193 130.68944 \nL 95.991163 130.340755 \nL 96.036132 130.340755 \nL 96.48583 129.713122 \nL 96.57577 129.713122 \nL 96.665709 129.434174 \nL 96.890558 129.434174 \nL 97.025468 129.155226 \nL 97.160377 129.085489 \nL 97.250316 128.806541 \nL 97.295286 128.806541 \nL 97.565105 128.039434 \nL 97.924863 127.969697 \nL 98.059772 127.760485 \nL 98.284621 127.690748 \nL 98.374561 127.481537 \nL 98.689349 127.4118 \nL 98.779289 127.202589 \nL 98.869229 127.132852 \nL 98.959168 126.784167 \nL 99.004138 126.784167 \nL 99.094077 126.226271 \nL 99.228987 126.156534 \nL 99.318926 125.947323 \nL 99.408866 125.947323 \nL 99.453836 125.528901 \nL 99.813594 125.459164 \nL 99.813594 125.389427 \nL 99.993473 125.31969 \nL 99.993473 125.040742 \nL 100.083413 125.040742 \nL 100.308261 125.040742 \nL 100.443171 124.692057 \nL 100.62305 124.62232 \nL 100.847899 124.413109 \nL 100.892869 124.064424 \nL 100.982808 124.064424 \nL 100.982808 123.92495 \nL 101.297597 123.92495 \nL 101.342566 123.646002 \nL 101.567415 123.646002 \nL 101.657355 123.018369 \nL 102.331901 122.042051 \nL 102.466811 122.042051 \nL 102.466811 121.902577 \nL 102.511781 121.902577 \nL 102.60172 121.763103 \nL 102.916509 121.763103 \nL 102.916509 121.414417 \nL 102.961478 121.414417 \nL 103.321237 120.856521 \nL 103.546085 120.786784 \nL 103.636025 120.577573 \nL 103.950813 120.507836 \nL 104.040753 120.298625 \nL 104.130693 120.298625 \nL 104.130693 120.228888 \nL 104.535421 119.740729 \nL 104.895179 119.670992 \nL 104.985118 119.322307 \nL 105.299907 119.25257 \nL 105.389846 118.764411 \nL 105.524756 118.694674 \nL 105.524756 118.5552 \nL 105.974453 118.485463 \nL 106.019423 118.206515 \nL 106.199302 118.136778 \nL 106.199302 118.067041 \nL 106.289242 118.067041 \nL 106.73894 117.997304 \nL 106.828879 117.718356 \nL 107.053728 117.718356 \nL 107.053728 117.578882 \nL 107.098698 117.578882 \nL 107.368517 117.230197 \nL 107.458456 117.020986 \nL 108.133003 116.602564 \nL 108.133003 116.46309 \nL 108.537731 116.393353 \nL 108.537731 116.323616 \nL 108.80755 116.253879 \nL 108.897489 116.114405 \nL 109.347187 116.044668 \nL 109.392157 115.905194 \nL 109.617006 115.835457 \nL 109.706945 115.486772 \nL 109.931794 115.417035 \nL 110.021734 115.277561 \nL 110.291552 115.207824 \nL 110.336522 115.138087 \nL 110.426462 114.928875 \nL 110.74125 114.510453 \nL 111.101008 113.952557 \nL 111.235918 113.88282 \nL 111.505736 113.534135 \nL 112.405132 112.976239 \nL 112.405132 112.767028 \nL 112.80986 112.418343 \nL 112.80986 112.348606 \nL 112.85483 112.348606 \nL 113.529376 111.511762 \nL 113.889134 110.884129 \nL 114.113983 110.814392 \nL 114.158953 110.674918 \nL 114.338832 110.605181 \nL 114.338832 110.535444 \nL 114.8335 110.465707 \nL 114.968409 110.39597 \nL 115.238228 110.256496 \nL 115.463077 110.256496 \nL 115.553016 109.977548 \nL 115.687926 109.977548 \nL 115.867805 109.838074 \nL 115.957744 109.838074 \nL 116.407442 109.070967 \nL 116.452412 108.792019 \nL 116.587321 108.792019 \nL 116.587321 108.722282 \nL 116.677261 108.652544 \nL 116.7672 108.652544 \nL 116.7672 108.51307 \nL 116.85714 108.51307 \nL 117.126959 108.164385 \nL 117.351807 108.094648 \nL 117.531687 107.885437 \nL 117.756535 107.8157 \nL 117.756535 107.536752 \nL 117.801505 107.536752 \nL 117.936415 107.467015 \nL 118.026354 107.257804 \nL 118.565991 106.909119 \nL 118.610961 106.769645 \nL 118.655931 106.769645 \nL 118.970719 106.142012 \nL 119.555327 105.514379 \nL 119.555327 105.305168 \nL 119.915085 104.886746 \nL 119.915085 104.747272 \nL 120.094964 104.677535 \nL 120.094964 104.607798 \nL 120.499692 104.538061 \nL 120.589631 104.259113 \nL 120.724541 104.189376 \nL 120.769511 104.049902 \nL 121.174239 103.980165 \nL 121.174239 103.840691 \nL 121.219208 103.840691 \nL 121.399087 103.840691 \nL 121.668906 103.282795 \nL 122.073634 103.143321 \nL 122.073634 103.003847 \nL 122.118604 103.003847 \nL 122.478362 102.93411 \nL 122.523332 102.794636 \nL 122.568302 102.794636 \nL 123.152909 102.306477 \nL 123.152909 102.167002 \nL 123.647576 100.981473 \nL 123.782486 100.981473 \nL 123.872425 100.772262 \nL 124.187214 100.772262 \nL 124.232184 100.563051 \nL 124.277153 100.563051 \nL 124.412063 100.284103 \nL 124.502002 100.284103 \nL 124.502002 100.005155 \nL 125.086609 99.935418 \nL 125.086609 99.865681 \nL 125.401398 99.795944 \nL 125.446368 99.65647 \nL 125.671216 99.65647 \nL 125.671216 99.586733 \nL 125.761156 99.447259 \nL 125.986005 99.377522 \nL 126.030975 99.168311 \nL 126.300793 99.098574 \nL 126.345763 98.9591 \nL 126.525642 98.889363 \nL 126.615582 98.680152 \nL 126.93037 98.680152 \nL 128.504312 97.424886 \nL 128.864071 97.355149 \nL 128.864071 97.285412 \nL 128.95401 97.285412 \nL 129.583587 97.215675 \nL 129.718496 97.145938 \nL 130.033285 97.076201 \nL 130.033285 97.006464 \nL 130.303104 96.936727 \nL 130.303104 96.86699 \nL 130.707832 96.797253 \nL 130.752801 96.448568 \nL 130.97765 96.378831 \nL 131.06759 96.099883 \nL 131.11256 96.099883 \nL 131.157529 95.751197 \nL 131.382378 95.68146 \nL 131.382378 95.541986 \nL 131.472318 95.541986 \nL 131.562257 95.472249 \nL 131.562257 95.263038 \nL 131.877046 95.193301 \nL 131.877046 95.123564 \nL 132.056925 95.053827 \nL 132.056925 94.844616 \nL 132.101895 94.844616 \nL 132.461653 94.774879 \nL 132.461653 94.705142 \nL 132.506623 94.705142 \nL 132.911351 94.426194 \nL 132.956321 94.216983 \nL 133.226139 94.147246 \nL 133.316079 94.007772 \nL 133.406018 94.007772 \nL 133.495958 93.58935 \nL 133.765777 93.519613 \nL 133.855716 93.240665 \nL 134.215474 93.240665 \nL 134.215474 93.170928 \nL 134.440323 92.89198 \nL 134.620202 92.822243 \nL 134.665172 92.613032 \nL 135.294749 92.543295 \nL 135.519598 92.124873 \nL 135.699477 92.055136 \nL 135.789417 91.845925 \nL 135.924326 91.845925 \nL 136.014265 91.566977 \nL 136.194145 91.49724 \nL 136.239114 91.357766 \nL 136.598873 91.288029 \nL 136.688812 91.078818 \nL 137.09354 91.009081 \nL 137.543238 90.311711 \nL 138.037905 90.241974 \nL 138.127845 90.1025 \nL 138.262754 90.1025 \nL 138.352694 89.684078 \nL 138.442633 89.614341 \nL 138.532573 89.335392 \nL 138.577543 89.335392 \nL 138.577543 89.195918 \nL 138.982271 89.126181 \nL 138.982271 89.056444 \nL 139.386999 88.986707 \nL 139.656817 88.638022 \nL 139.926636 88.638022 \nL 140.016576 88.149863 \nL 140.196455 88.149863 \nL 140.286394 87.870915 \nL 140.421304 87.870915 \nL 140.556213 87.661704 \nL 140.646153 87.243282 \nL 140.736092 87.173545 \nL 140.826032 86.964334 \nL 141.23076 86.964334 \nL 141.320699 86.476175 \nL 141.410639 86.476175 \nL 141.455609 86.057753 \nL 141.950276 85.988016 \nL 142.040216 85.848542 \nL 142.265065 85.778805 \nL 142.310034 85.569594 \nL 142.714762 85.499857 \nL 142.759732 85.290646 \nL 143.479249 85.220909 \nL 143.479249 85.081435 \nL 143.569188 85.081435 \nL 143.614158 85.081435 \nL 143.614158 84.941961 \nL 144.018886 84.872224 \nL 144.063856 84.73275 \nL 144.378644 84.73275 \nL 144.378644 84.663013 \nL 144.558523 84.384065 \nL 144.738402 84.384065 \nL 144.738402 84.314328 \nL 144.738402 84.174854 \nL 145.098161 84.105117 \nL 145.098161 84.03538 \nL 145.14313 84.03538 \nL 145.367979 83.965643 \nL 145.367979 83.895906 \nL 145.592828 83.826169 \nL 145.862647 83.407747 \nL 146.087496 83.407747 \nL 146.087496 83.33801 \nL 146.177435 83.198536 \nL 146.177435 82.989324 \nL 146.267375 82.989324 \nL 146.851982 82.431428 \nL 146.851982 82.222217 \nL 147.391619 82.15248 \nL 147.391619 82.013006 \nL 147.751378 81.943269 \nL 147.841317 81.524847 \nL 147.886287 81.524847 \nL 147.886287 81.385373 \nL 148.111136 81.315636 \nL 148.201075 81.106425 \nL 148.246045 81.106425 \nL 148.335985 80.75774 \nL 148.605803 80.688003 \nL 148.605803 80.548529 \nL 148.695743 80.548529 \nL 149.23538 80.548529 \nL 149.28035 80.339318 \nL 149.32532 80.339318 \nL 149.550169 80.269581 \nL 149.595139 80.130107 \nL 149.954897 80.06037 \nL 150.089806 79.920896 \nL 150.359625 79.851159 \nL 150.449564 79.711685 \nL 150.494534 79.711685 \nL 150.494534 79.572211 \nL 150.629443 79.572211 \nL 150.719383 79.363 \nL 150.944232 79.363 \nL 151.214051 78.874841 \nL 151.483869 78.805104 \nL 151.483869 78.735367 \nL 151.528839 78.735367 \nL 151.663748 78.66563 \nL 151.663748 78.595893 \nL 151.798658 78.595893 \nL 151.843627 78.386682 \nL 152.068476 78.316945 \nL 152.158416 78.037997 \nL 152.473204 77.96826 \nL 152.608114 77.828786 \nL 153.237691 77.759049 \nL 153.28266 77.619575 \nL 153.507509 77.619575 \nL 153.597449 77.410364 \nL 154.047147 77.340627 \nL 154.092116 77.201153 \nL 154.227026 77.131416 \nL 154.227026 76.991942 \nL 154.316965 76.991942 \nL 154.496844 76.922205 \nL 154.496844 76.852468 \nL 154.586784 76.852468 \nL 154.811633 76.782731 \nL 154.856603 76.643256 \nL 155.3063 76.573519 \nL 155.39624 76.364308 \nL 155.576119 76.294571 \nL 155.890907 76.08536 \nL 156.700363 76.015623 \nL 156.700363 75.945886 \nL 156.790303 75.945886 \nL 157.644729 75.38799 \nL 158.139396 75.318253 \nL 158.184366 75.109042 \nL 158.319276 75.109042 \nL 158.319276 74.969568 \nL 158.544124 74.969568 \nL 158.544124 74.830094 \nL 158.589094 74.830094 \nL 158.724004 74.760357 \nL 158.813943 74.620883 \nL 158.948852 74.620883 \nL 159.038792 74.411672 \nL 159.173701 74.341935 \nL 159.218671 74.202461 \nL 159.263641 74.202461 \nL 159.893218 74.132724 \nL 159.893218 74.062987 \nL 160.297946 73.99325 \nL 160.342916 73.784039 \nL 160.612734 73.714302 \nL 160.702674 73.574828 \nL 161.37722 73.505091 \nL 161.46716 73.29588 \nL 161.647039 73.29588 \nL 161.736979 73.086669 \nL 161.781948 73.086669 \nL 161.871888 72.807721 \nL 161.961828 72.737984 \nL 161.961828 72.668247 \nL 162.141707 72.668247 \nL 162.186676 72.459036 \nL 162.591404 72.389299 \nL 162.591404 72.319562 \nL 162.636374 72.319562 \nL 163.086072 72.249825 \nL 163.086072 72.180088 \nL 163.58074 72.110351 \nL 163.850558 71.831403 \nL 164.210316 71.761666 \nL 164.300256 71.482718 \nL 164.480135 71.412981 \nL 164.480135 71.343244 \nL 164.660014 71.273507 \nL 165.064742 70.715611 \nL 165.244621 70.645874 \nL 165.289591 70.5064 \nL 165.424501 70.436663 \nL 165.829229 70.366926 \nL 165.919168 70.227451 \nL 166.054077 70.157714 \nL 166.144017 69.809029 \nL 166.278926 69.739292 \nL 166.278926 69.599818 \nL 166.548745 69.599818 \nL 166.548745 69.460344 \nL 166.638685 69.460344 \nL 166.683654 69.460344 \nL 166.953473 69.32087 \nL 167.268261 69.251133 \nL 167.313231 69.111659 \nL 167.762929 69.111659 \nL 167.762929 69.041922 \nL 168.122687 68.762974 \nL 168.212627 68.6235 \nL 168.302566 68.6235 \nL 168.302566 68.484026 \nL 168.752264 68.414289 \nL 168.797234 68.274815 \nL 168.977113 68.205078 \nL 169.022083 68.065604 \nL 169.201962 67.995867 \nL 169.201962 67.92613 \nL 169.56172 67.856393 \nL 169.741599 67.716919 \nL 170.056388 67.647182 \nL 170.101357 67.577445 \nL 170.326206 67.577445 \nL 170.326206 67.437971 \nL 170.506085 67.437971 \nL 170.506085 67.298497 \nL 170.685965 67.298497 \nL 170.730934 66.949812 \nL 171.180632 66.880075 \nL 171.270572 66.740601 \nL 171.58536 66.391916 \nL 171.63033 66.391916 \nL 171.63033 66.252442 \nL 171.855179 66.252442 \nL 171.855179 65.973494 \nL 171.945118 65.973494 \nL 172.169967 65.764283 \nL 172.169967 65.624809 \nL 173.069363 65.555072 \nL 173.069363 65.415598 \nL 173.159302 65.415598 \nL 173.474091 65.345861 \nL 173.474091 65.276124 \nL 174.013728 65.206387 \nL 174.058698 65.13665 \nL 174.508396 65.13665 \nL 174.508396 65.066913 \nL 174.958094 64.718228 \nL 174.958094 64.509017 \nL 175.137973 64.43928 \nL 175.137973 64.369543 \nL 175.182942 64.369543 \nL 175.497731 64.299806 \nL 175.542701 64.160332 \nL 175.812519 64.090595 \nL 175.902459 63.951121 \nL 176.891794 63.881383 \nL 176.981734 63.672172 \nL 177.386462 63.672172 \nL 177.386462 63.462961 \nL 177.70125 63.393224 \nL 177.79119 63.25375 \nL 178.061008 63.184013 \nL 178.061008 63.044539 \nL 178.600646 63.044539 \nL 178.645615 62.835328 \nL 178.780525 62.835328 \nL 178.780525 62.695854 \nL 178.915434 62.695854 \nL 178.915434 62.55638 \nL 179.185253 62.486643 \nL 179.185253 62.416906 \nL 179.230222 62.416906 \nL 179.365132 62.416906 \nL 179.365132 62.137958 \nL 179.455071 62.137958 \nL 179.500041 62.137958 \nL 179.500041 61.998484 \nL 180.174588 61.928747 \nL 180.264527 61.649799 \nL 180.309497 61.580062 \nL 180.534346 61.580062 \nL 180.579316 61.370851 \nL 181.073983 61.301114 \nL 181.073983 61.16164 \nL 181.163923 61.16164 \nL 181.298832 61.16164 \nL 181.298832 61.022166 \nL 182.288167 60.952429 \nL 182.288167 60.812955 \nL 182.692895 60.743218 \nL 182.782835 60.673481 \nL 183.142593 60.673481 \nL 183.142593 60.534007 \nL 183.367442 60.534007 \nL 183.367442 60.324796 \nL 183.637261 60.255059 \nL 183.7272 60.115585 \nL 183.77217 60.115585 \nL 183.86211 59.836637 \nL 184.086959 59.7669 \nL 184.086959 59.697163 \nL 184.266838 59.697163 \nL 184.266838 59.627426 \nL 185.256173 58.790582 \nL 185.301143 58.511634 \nL 185.705871 58.441897 \nL 185.705871 58.37216 \nL 186.110599 58.302423 \nL 186.605266 57.605053 \nL 187.279813 57.395841 \nL 187.279813 57.256367 \nL 187.549631 57.18663 \nL 187.549631 56.977419 \nL 188.673876 56.907682 \nL 188.673876 56.837945 \nL 188.808785 56.837945 \nL 188.808785 56.698471 \nL 189.168543 56.628734 \nL 189.213513 56.558997 \nL 189.753151 56.48926 \nL 189.79812 56.280049 \nL 190.112909 56.210312 \nL 190.202848 56.070838 \nL 190.472667 56.070838 \nL 190.517637 55.652416 \nL 190.562607 55.652416 \nL 191.417032 55.582679 \nL 191.417032 55.512942 \nL 191.506972 55.512942 \nL 191.731821 55.512942 \nL 191.731821 55.443205 \nL 191.776791 55.303731 \nL 192.00164 55.233994 \nL 192.091579 55.024783 \nL 192.811096 54.955046 \nL 192.856065 54.815572 \nL 193.170854 54.745835 \nL 193.170854 54.606361 \nL 193.260793 54.606361 \nL 193.89037 54.187939 \nL 194.02528 54.048465 \nL 194.385038 54.048465 \nL 194.385038 53.69978 \nL 194.474977 53.69978 \nL 194.564917 53.69978 \nL 194.609887 53.490569 \nL 194.924675 53.420832 \nL 195.014615 53.351095 \nL 195.374373 53.281358 \nL 195.374373 53.211621 \nL 195.554252 53.141884 \nL 195.734131 52.932673 \nL 195.779101 52.932673 \nL 195.824071 52.723462 \nL 195.91401 52.723462 \nL 196.228799 52.514251 \nL 196.453648 52.444514 \nL 197.038255 52.235303 \nL 197.038255 52.095829 \nL 197.577892 52.026092 \nL 197.622862 51.886618 \nL 197.667832 51.886618 \nL 198.07256 51.886618 \nL 198.162499 51.398459 \nL 198.432318 51.328722 \nL 198.432318 51.258985 \nL 198.522257 51.258985 \nL 198.792076 51.189248 \nL 198.792076 51.049773 \nL 198.882016 51.049773 \nL 199.061895 50.980036 \nL 199.061895 50.910299 \nL 199.556562 50.840562 \nL 199.556562 50.770825 \nL 200.276079 50.701088 \nL 200.321049 50.561614 \nL 200.815716 50.42214 \nL 201.490263 50.352403 \nL 201.580202 50.212929 \nL 202.164809 50.143192 \nL 202.164809 50.073455 \nL 202.254749 50.073455 \nL 202.614507 50.003718 \nL 202.614507 49.933981 \nL 202.974265 49.933981 \nL 202.974265 49.794507 \nL 203.513903 49.72477 \nL 203.513903 49.655033 \nL 203.873661 49.585296 \nL 203.873661 49.445822 \nL 204.233419 49.376085 \nL 204.233419 49.306348 \nL 204.997905 49.236611 \nL 205.042875 49.097137 \nL 205.177785 49.0274 \nL 205.177785 48.957663 \nL 205.357664 48.887926 \nL 205.357664 48.818189 \nL 205.402633 48.818189 \nL 205.672452 48.748452 \nL 205.987241 48.678715 \nL 205.987241 48.539241 \nL 206.07718 48.539241 \nL 206.346999 48.469504 \nL 206.436938 48.33003 \nL 206.571848 48.33003 \nL 206.571848 48.260293 \nL 206.616817 48.190556 \nL 206.976576 48.120819 \nL 207.021546 48.051082 \nL 207.291364 47.981345 \nL 207.291364 47.911608 \nL 207.381304 47.911608 \nL 207.606153 47.841871 \nL 207.696092 47.63266 \nL 208.280699 47.562923 \nL 208.280699 47.493186 \nL 208.640458 47.214238 \nL 208.685427 47.074764 \nL 209.045186 47.005027 \nL 209.045186 46.93529 \nL 209.944581 46.865553 \nL 210.799007 46.447131 \nL 210.843977 46.307657 \nL 211.293674 46.23792 \nL 211.428584 46.028709 \nL 212.507858 45.958972 \nL 212.687738 45.749761 \nL 213.002526 45.680024 \nL 213.002526 45.610287 \nL 213.587133 45.54055 \nL 213.587133 45.470813 \nL 214.26168 45.401076 \nL 214.30665 45.261602 \nL 214.711378 45.191865 \nL 214.711378 45.122128 \nL 214.756347 45.122128 \nL 215.206045 44.912917 \nL 215.655743 44.912917 \nL 216.015501 44.773443 \nL 216.645078 44.703706 \nL 216.779987 44.633968 \nL 217.049806 44.633968 \nL 217.049806 44.564231 \nL 217.139746 44.494494 \nL 217.499504 44.424757 \nL 217.544474 44.285283 \nL 217.724353 44.285283 \nL 217.724353 44.215546 \nL 217.949202 44.076072 \nL 217.994171 43.936598 \nL 218.039141 43.936598 \nL 218.35393 43.866861 \nL 219.388235 43.797124 \nL 219.388235 43.727387 \nL 219.568114 43.65765 \nL 219.568114 43.587913 \nL 219.613083 43.587913 \nL 219.747993 43.587913 \nL 219.747993 43.518176 \nL 219.927872 43.378702 \nL 220.422539 43.308965 \nL 220.422539 43.239228 \nL 220.782298 43.169491 \nL 220.827267 43.030017 \nL 221.231995 42.96028 \nL 221.366905 42.751069 \nL 221.591754 42.681332 \nL 221.636723 42.541858 \nL 221.951512 42.541858 \nL 221.951512 42.472121 \nL 222.626059 42.123436 \nL 224.065092 42.053699 \nL 224.065092 41.983962 \nL 224.604729 41.914225 \nL 224.694668 41.844488 \nL 224.919517 41.774751 \nL 224.964487 41.705014 \nL 225.099396 41.705014 \nL 225.099396 41.56554 \nL 225.504124 41.56554 \nL 225.504124 41.495803 \nL 226.49346 41.286592 \nL 226.808248 41.216855 \nL 226.898188 41.077381 \nL 227.078067 41.007644 \nL 227.212976 40.937907 \nL 227.752613 40.937907 \nL 227.752613 40.86817 \nL 227.887523 40.798433 \nL 227.887523 40.658959 \nL 228.202311 40.589222 \nL 228.202311 40.519485 \nL 229.911163 40.449748 \nL 230.046072 40.380011 \nL 230.40583 40.310274 \nL 230.49577 40.1708 \nL 230.855528 40.101063 \nL 230.855528 40.031326 \nL 230.900498 40.031326 \nL 231.080377 39.961589 \nL 231.125347 39.822115 \nL 232.204621 39.752378 \nL 232.204621 39.682641 \nL 232.789229 39.682641 \nL 232.789229 39.612904 \nL 233.508745 39.333956 \nL 233.868503 39.264219 \nL 233.958443 39.124745 \nL 234.632989 39.055008 \nL 234.677959 38.915534 \nL 235.172627 38.845797 \nL 235.217597 38.636586 \nL 235.532385 38.566849 \nL 235.532385 38.497112 \nL 235.622325 38.497112 \nL 236.386811 38.427375 \nL 236.386811 38.357638 \nL 236.836509 38.2879 \nL 236.836509 38.218163 \nL 238.005723 38.148426 \nL 238.005723 38.008952 \nL 238.050693 38.008952 \nL 238.455421 37.939215 \nL 238.455421 37.869478 \nL 238.54536 37.869478 \nL 239.174937 37.799741 \nL 239.174937 37.730004 \nL 239.579665 37.660267 \nL 239.669605 37.381319 \nL 240.029363 37.311582 \nL 240.029363 37.241845 \nL 240.344151 37.172108 \nL 240.389121 37.102371 \nL 240.748879 37.032634 \nL 240.748879 36.962897 \nL 240.793849 36.962897 \nL 241.243547 36.89316 \nL 241.243547 36.823423 \nL 241.783184 36.823423 \nL 241.783184 36.683949 \nL 242.142942 36.614212 \nL 242.142942 36.544475 \nL 242.367791 36.474738 \nL 242.367791 36.405001 \nL 242.457731 36.405001 \nL 242.68258 36.335264 \nL 242.68258 36.265527 \nL 243.447066 36.19579 \nL 243.537006 36.056316 \nL 243.851794 35.986579 \nL 244.301492 35.916842 \nL 244.61628 35.847105 \nL 244.66125 35.707631 \nL 245.515676 35.637894 \nL 245.695555 35.49842 \nL 246.370102 35.428683 \nL 246.505011 35.289209 \nL 247.179558 35.219472 \nL 247.224527 35.079998 \nL 247.359437 35.010261 \nL 247.359437 34.940524 \nL 247.449376 34.940524 \nL 247.539316 34.80105 \nL 249.922714 34.731313 \nL 249.922714 34.661576 \nL 249.967684 34.661576 \nL 251.136898 34.591839 \nL 251.136898 34.522102 \nL 251.226838 34.522102 \nL 251.316777 34.522102 \nL 251.316777 34.312891 \nL 251.856415 34.243154 \nL 251.856415 34.033943 \nL 252.485991 34.033943 \nL 252.485991 33.964206 \nL 252.575931 33.894469 \nL 253.025629 33.824732 \nL 253.250478 33.754995 \nL 254.554601 33.754995 \nL 254.554601 33.615521 \nL 255.543936 33.545784 \nL 255.633876 33.40631 \nL 255.813755 33.197099 \nL 256.398362 33.127362 \nL 256.398362 33.057625 \nL 258.062244 32.987888 \nL 258.062244 32.918151 \nL 259.231458 32.848414 \nL 259.231458 32.70894 \nL 259.276428 32.70894 \nL 259.906005 32.639203 \nL 259.906005 32.569466 \nL 260.040914 32.569466 \nL 260.040914 32.499729 \nL 260.175824 32.360255 \nL 260.580552 32.290518 \nL 260.580552 32.220781 \nL 262.694131 32.151044 \nL 262.694131 32.081307 \nL 262.96395 32.01157 \nL 262.96395 31.941833 \nL 263.053889 31.941833 \nL 263.413648 31.872095 \nL 263.413648 31.802358 \nL 264.223104 31.732621 \nL 264.223104 31.662884 \nL 264.268073 31.662884 \nL 265.617167 31.593147 \nL 265.617167 31.52341 \nL 266.426623 31.453673 \nL 266.606502 31.383936 \nL 267.01123 31.314199 \nL 267.01123 31.244462 \nL 267.101169 31.244462 \nL 268.045535 31.174725 \nL 268.045535 31.104988 \nL 268.135474 31.104988 \nL 268.9899 31.035251 \nL 268.9899 30.965514 \nL 269.07984 30.965514 \nL 269.349658 30.895777 \nL 269.349658 30.82604 \nL 269.574507 30.756303 \nL 269.619477 30.686566 \nL 270.428933 30.616829 \nL 270.428933 30.547092 \nL 272.182754 30.477355 \nL 272.182754 30.407618 \nL 272.272694 30.407618 \nL 272.812331 30.337881 \nL 272.857301 30.268144 \nL 273.262029 30.198407 \nL 273.262029 30.12867 \nL 273.666757 30.058933 \nL 273.666757 29.989196 \nL 273.711727 29.989196 \nL 273.846636 29.919459 \nL 274.116455 29.779985 \nL 274.611122 29.710248 \nL 274.656092 29.640511 \nL 275.10579 29.570774 \nL 275.240699 29.501037 \nL 276.230034 29.4313 \nL 276.230034 29.361563 \nL 276.275004 29.361563 \nL 278.253674 29.291826 \nL 278.253674 29.222089 \nL 280.457194 29.152352 \nL 280.457194 29.082615 \nL 281.581438 29.012878 \nL 281.626408 28.943141 \nL 282.615743 28.873404 \nL 282.615743 28.803667 \nL 282.660713 28.803667 \nL 284.099746 28.73393 \nL 284.189685 28.594456 \nL 284.774292 28.524719 \nL 284.774292 28.454982 \nL 285.31393 28.385245 \nL 285.31393 28.315508 \nL 285.403869 28.315508 \nL 286.573083 28.245771 \nL 286.707993 28.176034 \nL 287.157691 28.106297 \nL 287.157691 27.966823 \nL 287.24763 27.966823 \nL 288.057086 27.966823 \nL 288.057086 27.827349 \nL 288.506784 27.827349 \nL 288.506784 27.687875 \nL 288.686663 27.687875 \nL 288.686663 27.548401 \nL 289.451149 27.548401 \nL 289.451149 27.33919 \nL 289.496119 27.33919 \nL 289.720968 27.269453 \nL 289.720968 27.199716 \nL 293.498429 27.129979 \nL 293.498429 27.060242 \nL 294.442795 26.990505 \nL 294.442795 26.920768 \nL 294.532734 26.920768 \nL 297.950437 26.851031 \nL 297.950437 26.781294 \nL 300.153957 26.711557 \nL 300.153957 26.64182 \nL 301.637959 26.572083 \nL 301.727899 26.432609 \nL 302.942083 26.362872 \nL 302.942083 26.293135 \nL 303.032022 26.293135 \nL 303.931418 26.223398 \nL 303.931418 26.153661 \nL 305.325481 26.083924 \nL 305.325481 26.014187 \nL 305.415421 26.014187 \nL 307.753849 25.94445 \nL 307.933728 25.804976 \nL 308.428396 25.804976 \nL 308.518335 25.526028 \nL 308.743184 25.45629 \nL 308.743184 25.386553 \nL 308.833124 25.386553 \nL 309.147912 25.316816 \nL 309.147912 25.177342 \nL 310.991673 25.107605 \nL 311.126582 25.037868 \nL 315.803439 24.968131 \nL 315.848409 24.828657 \nL 317.197503 24.75892 \nL 317.197503 24.689183 \nL 317.242472 24.689183 \nL 317.557261 24.619446 \nL 323.628181 24.549709 \nL 323.628181 24.479972 \nL 324.032909 24.410235 \nL 324.032909 24.340498 \nL 324.122848 24.340498 \nL 326.731096 24.270761 \nL 326.866005 24.201024 \nL 327.585521 24.131287 \nL 327.675461 23.991813 \nL 328.439947 23.922076 \nL 328.484917 23.852339 \nL 331.90262 23.782602 \nL 331.99256 23.712865 \nL 332.622137 23.643128 \nL 332.622137 23.573391 \nL 335.050505 23.503654 \nL 335.095474 23.433917 \nL 337.97354 23.36418 \nL 337.97354 23.294443 \nL 342.200699 23.224706 \nL 342.200699 23.154969 \nL 355.691633 23.085232 \nL 355.781572 22.945758 \nL 360.188611 22.876021 \nL 360.36849 22.806284 \nL 363.921102 22.736547 \nL 364.056012 22.66681 \nL 366.529349 22.597073 \nL 366.529349 22.527336 \nL 377.906703 22.457599 \nL 377.996643 22.387862 \nL 378.58125 22.318125 \nL 378.58125 22.318125 \n\" style=\"fill:none;stroke:#1f77b4;stroke-linecap:square;stroke-width:1.5;\"/>\n   </g>\n   <g id=\"patch_3\">\n    <path d=\"M 43.78125 239.758125 \nL 43.78125 22.318125 \n\" style=\"fill:none;stroke:#000000;stroke-linecap:square;stroke-linejoin:miter;stroke-width:0.8;\"/>\n   </g>\n   <g id=\"patch_4\">\n    <path d=\"M 378.58125 239.758125 \nL 378.58125 22.318125 \n\" style=\"fill:none;stroke:#000000;stroke-linecap:square;stroke-linejoin:miter;stroke-width:0.8;\"/>\n   </g>\n   <g id=\"patch_5\">\n    <path d=\"M 43.78125 239.758125 \nL 378.58125 239.758125 \n\" style=\"fill:none;stroke:#000000;stroke-linecap:square;stroke-linejoin:miter;stroke-width:0.8;\"/>\n   </g>\n   <g id=\"patch_6\">\n    <path d=\"M 43.78125 22.318125 \nL 378.58125 22.318125 \n\" style=\"fill:none;stroke:#000000;stroke-linecap:square;stroke-linejoin:miter;stroke-width:0.8;\"/>\n   </g>\n   <g id=\"text_15\">\n    <!-- ROC curve for SLAFail classifier -->\n    <defs>\n     <path d=\"M 39.40625 66.21875 \nQ 28.65625 66.21875 22.328125 58.203125 \nQ 16.015625 50.203125 16.015625 36.375 \nQ 16.015625 22.609375 22.328125 14.59375 \nQ 28.65625 6.59375 39.40625 6.59375 \nQ 50.140625 6.59375 56.421875 14.59375 \nQ 62.703125 22.609375 62.703125 36.375 \nQ 62.703125 50.203125 56.421875 58.203125 \nQ 50.140625 66.21875 39.40625 66.21875 \nz\nM 39.40625 74.21875 \nQ 54.734375 74.21875 63.90625 63.9375 \nQ 73.09375 53.65625 73.09375 36.375 \nQ 73.09375 19.140625 63.90625 8.859375 \nQ 54.734375 -1.421875 39.40625 -1.421875 \nQ 24.03125 -1.421875 14.8125 8.828125 \nQ 5.609375 19.09375 5.609375 36.375 \nQ 5.609375 53.65625 14.8125 63.9375 \nQ 24.03125 74.21875 39.40625 74.21875 \nz\n\" id=\"DejaVuSans-79\"/>\n     <path d=\"M 64.40625 67.28125 \nL 64.40625 56.890625 \nQ 59.421875 61.53125 53.78125 63.8125 \nQ 48.140625 66.109375 41.796875 66.109375 \nQ 29.296875 66.109375 22.65625 58.46875 \nQ 16.015625 50.828125 16.015625 36.375 \nQ 16.015625 21.96875 22.65625 14.328125 \nQ 29.296875 6.6875 41.796875 6.6875 \nQ 48.140625 6.6875 53.78125 8.984375 \nQ 59.421875 11.28125 64.40625 15.921875 \nL 64.40625 5.609375 \nQ 59.234375 2.09375 53.4375 0.328125 \nQ 47.65625 -1.421875 41.21875 -1.421875 \nQ 24.65625 -1.421875 15.125 8.703125 \nQ 5.609375 18.84375 5.609375 36.375 \nQ 5.609375 53.953125 15.125 64.078125 \nQ 24.65625 74.21875 41.21875 74.21875 \nQ 47.75 74.21875 53.53125 72.484375 \nQ 59.328125 70.75 64.40625 67.28125 \nz\n\" id=\"DejaVuSans-67\"/>\n     <path d=\"M 9.8125 72.90625 \nL 19.671875 72.90625 \nL 19.671875 8.296875 \nL 55.171875 8.296875 \nL 55.171875 0 \nL 9.8125 0 \nz\n\" id=\"DejaVuSans-76\"/>\n     <path d=\"M 34.1875 63.1875 \nL 20.796875 26.90625 \nL 47.609375 26.90625 \nz\nM 28.609375 72.90625 \nL 39.796875 72.90625 \nL 67.578125 0 \nL 57.328125 0 \nL 50.6875 18.703125 \nL 17.828125 18.703125 \nL 11.1875 0 \nL 0.78125 0 \nz\n\" id=\"DejaVuSans-65\"/>\n    </defs>\n    <g transform=\"translate(117.200625 16.318125)scale(0.12 -0.12)\">\n     <use xlink:href=\"#DejaVuSans-82\"/>\n     <use x=\"69.482422\" xlink:href=\"#DejaVuSans-79\"/>\n     <use x=\"148.193359\" xlink:href=\"#DejaVuSans-67\"/>\n     <use x=\"218.017578\" xlink:href=\"#DejaVuSans-32\"/>\n     <use x=\"249.804688\" xlink:href=\"#DejaVuSans-99\"/>\n     <use x=\"304.785156\" xlink:href=\"#DejaVuSans-117\"/>\n     <use x=\"368.164062\" xlink:href=\"#DejaVuSans-114\"/>\n     <use x=\"409.277344\" xlink:href=\"#DejaVuSans-118\"/>\n     <use x=\"468.457031\" xlink:href=\"#DejaVuSans-101\"/>\n     <use x=\"529.980469\" xlink:href=\"#DejaVuSans-32\"/>\n     <use x=\"561.767578\" xlink:href=\"#DejaVuSans-102\"/>\n     <use x=\"596.972656\" xlink:href=\"#DejaVuSans-111\"/>\n     <use x=\"658.154297\" xlink:href=\"#DejaVuSans-114\"/>\n     <use x=\"699.267578\" xlink:href=\"#DejaVuSans-32\"/>\n     <use x=\"731.054688\" xlink:href=\"#DejaVuSans-83\"/>\n     <use x=\"794.53125\" xlink:href=\"#DejaVuSans-76\"/>\n     <use x=\"850.275391\" xlink:href=\"#DejaVuSans-65\"/>\n     <use x=\"918.683594\" xlink:href=\"#DejaVuSans-70\"/>\n     <use x=\"976.0625\" xlink:href=\"#DejaVuSans-97\"/>\n     <use x=\"1037.341797\" xlink:href=\"#DejaVuSans-105\"/>\n     <use x=\"1065.125\" xlink:href=\"#DejaVuSans-108\"/>\n     <use x=\"1092.908203\" xlink:href=\"#DejaVuSans-32\"/>\n     <use x=\"1124.695312\" xlink:href=\"#DejaVuSans-99\"/>\n     <use x=\"1179.675781\" xlink:href=\"#DejaVuSans-108\"/>\n     <use x=\"1207.458984\" xlink:href=\"#DejaVuSans-97\"/>\n     <use x=\"1268.738281\" xlink:href=\"#DejaVuSans-115\"/>\n     <use x=\"1320.837891\" xlink:href=\"#DejaVuSans-115\"/>\n     <use x=\"1372.9375\" xlink:href=\"#DejaVuSans-105\"/>\n     <use x=\"1400.720703\" xlink:href=\"#DejaVuSans-102\"/>\n     <use x=\"1435.925781\" xlink:href=\"#DejaVuSans-105\"/>\n     <use x=\"1463.708984\" xlink:href=\"#DejaVuSans-101\"/>\n     <use x=\"1525.232422\" xlink:href=\"#DejaVuSans-114\"/>\n    </g>\n   </g>\n  </g>\n </g>\n <defs>\n  <clipPath id=\"p34ef45cc25\">\n   <rect height=\"217.44\" width=\"334.8\" x=\"43.78125\" y=\"22.318125\"/>\n  </clipPath>\n </defs>\n</svg>\n",
      "text/plain": "<Figure size 432x288 with 1 Axes>"
     },
     "metadata": {
      "needs_background": "light"
     },
     "output_type": "display_data"
    }
   ],
   "source": [
    "plt.plot(fpr, tpr)\n",
    "plt.xlim([0.0, 1.0])\n",
    "plt.ylim([0.0, 1.0])\n",
    "plt.title('ROC curve for SLAFail classifier')\n",
    "plt.xlabel('False Positive Rate (1 - Specificity)')\n",
    "plt.ylabel('True Positive Rate (Sensitivity)')\n",
    "plt.grid(True)"
   ]
  },
  {
   "cell_type": "markdown",
   "metadata": {},
   "source": [
    "## Save Details and Performance Measures for Comparison to other Models\n"
   ]
  },
  {
   "cell_type": "code",
   "execution_count": 87,
   "metadata": {},
   "outputs": [
    {
     "data": {
      "text/plain": "{'column_trans': ColumnTransformer(n_jobs=None, remainder='passthrough', sparse_threshold=0.3,\n                   transformer_weights=None,\n                   transformers=[('woeencoder',\n                                  WOEEncoder(cols=None, drop_invariant=False,\n                                             handle_missing='value',\n                                             handle_unknown='value',\n                                             random_state=None, randomized=False,\n                                             regularization=1.0, return_df=True,\n                                             sigma=0.05, verbose=0),\n                                  Index(['Service_Component_WBS_aff', 'Urgency', 'KM_number',\n        'Open_Time_HourOfDay', 'Open_Time_DayOfWeek', 'CI_TypeSubType_aff'],\n       dtype='object')),\n                                 ('standardscaler',\n                                  StandardScaler(copy=True, with_mean=True,\n                                                 with_std=True),\n                                  Index(['Count_Related_Interactions', 'Count_Related_Incidents',\n        'Count_Related_Changes'],\n       dtype='object'))],\n                   verbose=False),\n 'poly': PolynomialFeatures(degree=2, include_bias=True, interaction_only=True,\n                    order='C'),\n 'selector': SelectFpr(alpha=0.05, score_func=<function f_classif at 0x1a1d8548c0>),\n 'classifier': LogisticRegression(C=1.0, class_weight=None, dual=False, fit_intercept=True,\n                    intercept_scaling=1, l1_ratio=None, max_iter=100,\n                    multi_class='auto', n_jobs=None, penalty='l2',\n                    random_state=None, solver='lbfgs', tol=0.0001, verbose=0,\n                    warm_start=False)}"
     },
     "execution_count": 87,
     "metadata": {},
     "output_type": "execute_result"
    }
   ],
   "source": [
    "pipe.named_steps"
   ]
  },
  {
   "cell_type": "code",
   "execution_count": 88,
   "metadata": {},
   "outputs": [
    {
     "data": {
      "text/plain": "{'Name': 'Optimize Round 4: Adding Interaction Terms with SelectFpr',\n 'Column Transforms': [('woeencoder',\n   WOEEncoder(cols=None, drop_invariant=False, handle_missing='value',\n              handle_unknown='value', random_state=None, randomized=False,\n              regularization=1.0, return_df=True, sigma=0.05, verbose=0),\n   Index(['Service_Component_WBS_aff', 'Urgency', 'KM_number',\n          'Open_Time_HourOfDay', 'Open_Time_DayOfWeek', 'CI_TypeSubType_aff'],\n         dtype='object')),\n  ('standardscaler',\n   StandardScaler(copy=True, with_mean=True, with_std=True),\n   Index(['Count_Related_Interactions', 'Count_Related_Incidents',\n          'Count_Related_Changes'],\n         dtype='object'))],\n 'PolynomialFeatures': PolynomialFeatures(degree=2, include_bias=True, interaction_only=True,\n                    order='C'),\n 'Selector': SelectFpr(alpha=0.05, score_func=<function f_classif at 0x1a1d8548c0>),\n 'Classifier': LogisticRegression(C=1.0, class_weight=None, dual=False, fit_intercept=True,\n                    intercept_scaling=1, l1_ratio=None, max_iter=100,\n                    multi_class='auto', n_jobs=None, penalty='l2',\n                    random_state=None, solver='lbfgs', tol=0.0001, verbose=0,\n                    warm_start=False)}"
     },
     "execution_count": 88,
     "metadata": {},
     "output_type": "execute_result"
    }
   ],
   "source": [
    "PipeLineMetadata['Column Transforms'] = pipe.named_steps.column_trans.transformers\n",
    "PipeLineMetadata['PolynomialFeatures'] = pipe.named_steps.poly\n",
    "PipeLineMetadata['Selector'] = pipe.named_steps.selector\n",
    "PipeLineMetadata['Classifier'] = pipe.named_steps.classifier\n",
    "PipeLineMetadata"
   ]
  },
  {
   "cell_type": "code",
   "execution_count": 89,
   "metadata": {},
   "outputs": [],
   "source": [
    "featureNames = pipe.named_steps.poly.get_feature_names(X_test.columns)[1:]"
   ]
  },
  {
   "cell_type": "code",
   "execution_count": 90,
   "metadata": {},
   "outputs": [
    {
     "data": {
      "text/plain": "array([2.62605572e+03, 1.41583607e+02, 6.10443839e+03, 1.77755544e+02,\n       6.79762696e+02, 9.02108720e+02, 6.20757993e+01, 5.60722172e+00,\n       3.51935177e-01, 1.01816329e+01, 6.10097157e+01, 2.33589971e+01,\n       6.61683269e+00, 7.63032789e-01, 1.40491364e+01, 3.93041574e+00,\n       1.14426497e-02, 7.75772795e+01, 1.58611367e+00, 1.41118592e+00,\n       2.80495674e+00, 2.31706898e-02, 1.50195561e+00, 1.72824480e+00,\n       6.89290456e+00, 6.35211209e+00, 1.77013934e+02, 1.08814357e+01,\n       8.72741891e-01, 9.09230268e-01, 1.26450011e+02, 7.81955313e+00,\n       5.62838857e-01, 9.10198721e-02, 6.61448337e-01, 2.61120440e+00,\n       1.81637927e+00, 4.73323269e-01, 7.34583916e+00, 8.62504186e+00,\n       1.06134424e+01, 1.68176562e+01, 5.44717325e-01, 3.10648117e-01,\n       3.50478681e+00])"
     },
     "execution_count": 90,
     "metadata": {},
     "output_type": "execute_result"
    }
   ],
   "source": [
    "pipe.named_steps.selector.scores_[1:]"
   ]
  },
  {
   "cell_type": "code",
   "execution_count": 91,
   "metadata": {},
   "outputs": [],
   "source": [
    "PipeLineMetadata['Selector - Scores'] = pd.DataFrame( \n",
    "    [ pipe.named_steps.poly.get_feature_names(X_test.columns)[1:], pipe.named_steps.selector.scores_[1:], pipe.named_steps.selector.pvalues_[1:] ], \n",
    "    index=['feature names', 'scores','p-value'] \n",
    "    ).transpose()\n",
    "    "
   ]
  },
  {
   "cell_type": "code",
   "execution_count": 92,
   "metadata": {},
   "outputs": [
    {
     "data": {
      "text/html": "<div>\n<style scoped>\n    .dataframe tbody tr th:only-of-type {\n        vertical-align: middle;\n    }\n\n    .dataframe tbody tr th {\n        vertical-align: top;\n    }\n\n    .dataframe thead th {\n        text-align: right;\n    }\n</style>\n<table border=\"1\" class=\"dataframe\">\n  <thead>\n    <tr style=\"text-align: right;\">\n      <th></th>\n      <th>feature names</th>\n      <th>scores</th>\n      <th>p-value</th>\n    </tr>\n  </thead>\n  <tbody>\n    <tr>\n      <th>0</th>\n      <td>Service_Component_WBS_aff</td>\n      <td>2626.0557182</td>\n      <td>0.0000000</td>\n    </tr>\n    <tr>\n      <th>1</th>\n      <td>Urgency</td>\n      <td>141.5836070</td>\n      <td>0.0000000</td>\n    </tr>\n    <tr>\n      <th>2</th>\n      <td>KM_number</td>\n      <td>6104.4383936</td>\n      <td>0.0000000</td>\n    </tr>\n    <tr>\n      <th>3</th>\n      <td>Count_Related_Interactions</td>\n      <td>177.7555436</td>\n      <td>0.0000000</td>\n    </tr>\n    <tr>\n      <th>4</th>\n      <td>Count_Related_Incidents</td>\n      <td>679.7626961</td>\n      <td>0.0000000</td>\n    </tr>\n    <tr>\n      <th>5</th>\n      <td>Count_Related_Changes</td>\n      <td>902.1087202</td>\n      <td>0.0000000</td>\n    </tr>\n    <tr>\n      <th>6</th>\n      <td>Open_Time_HourOfDay</td>\n      <td>62.0757993</td>\n      <td>0.0000000</td>\n    </tr>\n    <tr>\n      <th>7</th>\n      <td>Open_Time_DayOfWeek</td>\n      <td>5.6072217</td>\n      <td>0.0178943</td>\n    </tr>\n    <tr>\n      <th>9</th>\n      <td>Service_Component_WBS_aff Urgency</td>\n      <td>10.1816329</td>\n      <td>0.0014202</td>\n    </tr>\n    <tr>\n      <th>10</th>\n      <td>Service_Component_WBS_aff KM_number</td>\n      <td>61.0097157</td>\n      <td>0.0000000</td>\n    </tr>\n    <tr>\n      <th>11</th>\n      <td>Service_Component_WBS_aff Count_Related_Intera...</td>\n      <td>23.3589971</td>\n      <td>0.0000014</td>\n    </tr>\n    <tr>\n      <th>12</th>\n      <td>Service_Component_WBS_aff Count_Related_Incidents</td>\n      <td>6.6168327</td>\n      <td>0.0101077</td>\n    </tr>\n    <tr>\n      <th>14</th>\n      <td>Service_Component_WBS_aff Open_Time_HourOfDay</td>\n      <td>14.0491364</td>\n      <td>0.0001785</td>\n    </tr>\n    <tr>\n      <th>15</th>\n      <td>Service_Component_WBS_aff Open_Time_DayOfWeek</td>\n      <td>3.9304157</td>\n      <td>0.0474313</td>\n    </tr>\n    <tr>\n      <th>17</th>\n      <td>Urgency KM_number</td>\n      <td>77.5772795</td>\n      <td>0.0000000</td>\n    </tr>\n    <tr>\n      <th>24</th>\n      <td>KM_number Count_Related_Interactions</td>\n      <td>6.8929046</td>\n      <td>0.0086592</td>\n    </tr>\n    <tr>\n      <th>25</th>\n      <td>KM_number Count_Related_Incidents</td>\n      <td>6.3521121</td>\n      <td>0.0117304</td>\n    </tr>\n    <tr>\n      <th>26</th>\n      <td>KM_number Count_Related_Changes</td>\n      <td>177.0139338</td>\n      <td>0.0000000</td>\n    </tr>\n    <tr>\n      <th>27</th>\n      <td>KM_number Open_Time_HourOfDay</td>\n      <td>10.8814357</td>\n      <td>0.0009727</td>\n    </tr>\n    <tr>\n      <th>30</th>\n      <td>Count_Related_Interactions Count_Related_Incid...</td>\n      <td>126.4500112</td>\n      <td>0.0000000</td>\n    </tr>\n    <tr>\n      <th>31</th>\n      <td>Count_Related_Interactions Count_Related_Changes</td>\n      <td>7.8195531</td>\n      <td>0.0051724</td>\n    </tr>\n    <tr>\n      <th>38</th>\n      <td>Count_Related_Incidents CI_TypeSubType_aff</td>\n      <td>7.3458392</td>\n      <td>0.0067265</td>\n    </tr>\n    <tr>\n      <th>39</th>\n      <td>Count_Related_Changes Open_Time_HourOfDay</td>\n      <td>8.6250419</td>\n      <td>0.0033188</td>\n    </tr>\n    <tr>\n      <th>40</th>\n      <td>Count_Related_Changes Open_Time_DayOfWeek</td>\n      <td>10.6134424</td>\n      <td>0.0011242</td>\n    </tr>\n    <tr>\n      <th>41</th>\n      <td>Count_Related_Changes CI_TypeSubType_aff</td>\n      <td>16.8176562</td>\n      <td>0.0000413</td>\n    </tr>\n  </tbody>\n</table>\n</div>",
      "text/plain": "                                        feature names       scores   p-value\n0                           Service_Component_WBS_aff 2626.0557182 0.0000000\n1                                             Urgency  141.5836070 0.0000000\n2                                           KM_number 6104.4383936 0.0000000\n3                          Count_Related_Interactions  177.7555436 0.0000000\n4                             Count_Related_Incidents  679.7626961 0.0000000\n5                               Count_Related_Changes  902.1087202 0.0000000\n6                                 Open_Time_HourOfDay   62.0757993 0.0000000\n7                                 Open_Time_DayOfWeek    5.6072217 0.0178943\n9                   Service_Component_WBS_aff Urgency   10.1816329 0.0014202\n10                Service_Component_WBS_aff KM_number   61.0097157 0.0000000\n11  Service_Component_WBS_aff Count_Related_Intera...   23.3589971 0.0000014\n12  Service_Component_WBS_aff Count_Related_Incidents    6.6168327 0.0101077\n14      Service_Component_WBS_aff Open_Time_HourOfDay   14.0491364 0.0001785\n15      Service_Component_WBS_aff Open_Time_DayOfWeek    3.9304157 0.0474313\n17                                  Urgency KM_number   77.5772795 0.0000000\n24               KM_number Count_Related_Interactions    6.8929046 0.0086592\n25                  KM_number Count_Related_Incidents    6.3521121 0.0117304\n26                    KM_number Count_Related_Changes  177.0139338 0.0000000\n27                      KM_number Open_Time_HourOfDay   10.8814357 0.0009727\n30  Count_Related_Interactions Count_Related_Incid...  126.4500112 0.0000000\n31   Count_Related_Interactions Count_Related_Changes    7.8195531 0.0051724\n38         Count_Related_Incidents CI_TypeSubType_aff    7.3458392 0.0067265\n39          Count_Related_Changes Open_Time_HourOfDay    8.6250419 0.0033188\n40          Count_Related_Changes Open_Time_DayOfWeek   10.6134424 0.0011242\n41           Count_Related_Changes CI_TypeSubType_aff   16.8176562 0.0000413"
     },
     "execution_count": 92,
     "metadata": {},
     "output_type": "execute_result"
    }
   ],
   "source": [
    "#pipenew.estimator.named_steps.poly.get_feature_names(X_train.columns)\n",
    "PipeLineMetadata['Selector - Scores'].loc[ PipeLineMetadata['Selector - Scores']['p-value'] <= 0.05 ]\n",
    "#PipeLineMetadata['Selector - Scores'].loc[ PipeLineMetadata['Selector - Scores']['p-value'] <= 0.05 ].sort_values('p-value')"
   ]
  },
  {
   "cell_type": "code",
   "execution_count": 93,
   "metadata": {},
   "outputs": [],
   "source": [
    "PipeLineMetadata['Classifier - Intercept'] = pipe.named_steps.classifier.intercept_[0]\n",
    "PipeLineMetadata['Classifier - Coefficients'] = pipe.named_steps.classifier.coef_[0]"
   ]
  },
  {
   "cell_type": "code",
   "execution_count": 94,
   "metadata": {},
   "outputs": [
    {
     "data": {
      "text/plain": "{'Name': 'Optimize Round 4: Adding Interaction Terms with SelectFpr',\n 'Column Transforms': [('woeencoder',\n   WOEEncoder(cols=None, drop_invariant=False, handle_missing='value',\n              handle_unknown='value', random_state=None, randomized=False,\n              regularization=1.0, return_df=True, sigma=0.05, verbose=0),\n   Index(['Service_Component_WBS_aff', 'Urgency', 'KM_number',\n          'Open_Time_HourOfDay', 'Open_Time_DayOfWeek', 'CI_TypeSubType_aff'],\n         dtype='object')),\n  ('standardscaler',\n   StandardScaler(copy=True, with_mean=True, with_std=True),\n   Index(['Count_Related_Interactions', 'Count_Related_Incidents',\n          'Count_Related_Changes'],\n         dtype='object'))],\n 'PolynomialFeatures': PolynomialFeatures(degree=2, include_bias=True, interaction_only=True,\n                    order='C'),\n 'Selector': SelectFpr(alpha=0.05, score_func=<function f_classif at 0x1a1d8548c0>),\n 'Classifier': LogisticRegression(C=1.0, class_weight=None, dual=False, fit_intercept=True,\n                    intercept_scaling=1, l1_ratio=None, max_iter=100,\n                    multi_class='auto', n_jobs=None, penalty='l2',\n                    random_state=None, solver='lbfgs', tol=0.0001, verbose=0,\n                    warm_start=False),\n 'Selector - Scores':                                         feature names       scores   p-value\n 0                           Service_Component_WBS_aff 2626.0557182 0.0000000\n 1                                             Urgency  141.5836070 0.0000000\n 2                                           KM_number 6104.4383936 0.0000000\n 3                          Count_Related_Interactions  177.7555436 0.0000000\n 4                             Count_Related_Incidents  679.7626961 0.0000000\n 5                               Count_Related_Changes  902.1087202 0.0000000\n 6                                 Open_Time_HourOfDay   62.0757993 0.0000000\n 7                                 Open_Time_DayOfWeek    5.6072217 0.0178943\n 8                                  CI_TypeSubType_aff    0.3519352 0.5530252\n 9                   Service_Component_WBS_aff Urgency   10.1816329 0.0014202\n 10                Service_Component_WBS_aff KM_number   61.0097157 0.0000000\n 11  Service_Component_WBS_aff Count_Related_Intera...   23.3589971 0.0000014\n 12  Service_Component_WBS_aff Count_Related_Incidents    6.6168327 0.0101077\n 13    Service_Component_WBS_aff Count_Related_Changes    0.7630328 0.3823896\n 14      Service_Component_WBS_aff Open_Time_HourOfDay   14.0491364 0.0001785\n 15      Service_Component_WBS_aff Open_Time_DayOfWeek    3.9304157 0.0474313\n 16       Service_Component_WBS_aff CI_TypeSubType_aff    0.0114426 0.9148134\n 17                                  Urgency KM_number   77.5772795 0.0000000\n 18                 Urgency Count_Related_Interactions    1.5861137 0.2078942\n 19                    Urgency Count_Related_Incidents    1.4111859 0.2348711\n 20                      Urgency Count_Related_Changes    2.8049567 0.0939861\n 21                        Urgency Open_Time_HourOfDay    0.0231707 0.8790153\n 22                        Urgency Open_Time_DayOfWeek    1.5019556 0.2203824\n 23                         Urgency CI_TypeSubType_aff    1.7282448 0.1886474\n 24               KM_number Count_Related_Interactions    6.8929046 0.0086592\n 25                  KM_number Count_Related_Incidents    6.3521121 0.0117304\n 26                    KM_number Count_Related_Changes  177.0139338 0.0000000\n 27                      KM_number Open_Time_HourOfDay   10.8814357 0.0009727\n 28                      KM_number Open_Time_DayOfWeek    0.8727419 0.3502065\n 29                       KM_number CI_TypeSubType_aff    0.9092303 0.3403281\n 30  Count_Related_Interactions Count_Related_Incid...  126.4500112 0.0000000\n 31   Count_Related_Interactions Count_Related_Changes    7.8195531 0.0051724\n 32     Count_Related_Interactions Open_Time_HourOfDay    0.5628389 0.4531258\n 33     Count_Related_Interactions Open_Time_DayOfWeek    0.0910199 0.7628871\n 34      Count_Related_Interactions CI_TypeSubType_aff    0.6614483 0.4160569\n 35      Count_Related_Incidents Count_Related_Changes    2.6112044 0.1061239\n 36        Count_Related_Incidents Open_Time_HourOfDay    1.8163793 0.1777573\n 37        Count_Related_Incidents Open_Time_DayOfWeek    0.4733233 0.4914687\n 38         Count_Related_Incidents CI_TypeSubType_aff    7.3458392 0.0067265\n 39          Count_Related_Changes Open_Time_HourOfDay    8.6250419 0.0033188\n 40          Count_Related_Changes Open_Time_DayOfWeek   10.6134424 0.0011242\n 41           Count_Related_Changes CI_TypeSubType_aff   16.8176562 0.0000413\n 42            Open_Time_HourOfDay Open_Time_DayOfWeek    0.5447173 0.4604913\n 43             Open_Time_HourOfDay CI_TypeSubType_aff    0.3106481 0.5772878\n 44             Open_Time_DayOfWeek CI_TypeSubType_aff    3.5047868 0.0612036,\n 'Classifier - Intercept': -0.9161546666017198,\n 'Classifier - Coefficients': array([ 0.15531191,  0.2640625 ,  1.12477936,  1.30657131,  1.2914163 ,\n         0.04352038,  0.2637966 , -0.01366535, -0.17283283, -0.09059925,\n         0.41040724, -0.01682171,  0.09571744,  0.02808663, -0.09640587,\n        -0.53453846, -0.18849206, -0.01286896,  0.11783178,  1.69698495,\n        -0.32302769, -0.13315008, -0.00987757,  0.04285507,  0.03881677])}"
     },
     "execution_count": 94,
     "metadata": {},
     "output_type": "execute_result"
    }
   ],
   "source": [
    "PipeLineMetadata"
   ]
  },
  {
   "cell_type": "markdown",
   "metadata": {},
   "source": [
    "Capture a few classification metrics:\n",
    "* Classification Accuracy: Overall, how often is the classifier correct?\n",
    "* Classification Error: Overall, how often is the classifier incorrect?\n",
    "* True Positive Rate  (Recall, Sensitivity): When the actual value is positive, how often is the prediction correct?\n",
    "* True Negative Rate (Specificity): When the actual value is negative, how often is the prediction correct?\n",
    "* False Positive Rate: When the actual value is negative, how often is the prediction incorrect?\n",
    "* Precision: When a positive value is predicted, how often is the prediction correct?\n"
   ]
  },
  {
   "cell_type": "code",
   "execution_count": 95,
   "metadata": {},
   "outputs": [],
   "source": [
    "PipeLineMetadata['Metrics - Classification Report'] = metrics.classification_report(y_test, y_pred_class)\n",
    "PipeLineMetadata['Metrics - Confusion Matrix'] =metrics.confusion_matrix(y_test, y_pred_class)\n",
    "PipeLineMetadata['Metrics - Confusion Matrix Classification Accuracy'] = metrics.accuracy_score(y_test,y_pred_class) \n",
    "PipeLineMetadata['Metrics - Confusion Matrix Classification Error'] = 1- metrics.accuracy_score(y_test,y_pred_class)\n",
    "PipeLineMetadata['Metrics - Confusion Matrix True Positive Rate'] = metrics.recall_score(y_test, y_pred_class) \n",
    "PipeLineMetadata['Metrics - Confusion Matrix True Negative Rate'] =  TN / float(TN + FP)\n",
    "PipeLineMetadata['Metrics - Confusion Matrix False Positive Rate'] =  FP / float(TN + FP)\n",
    "PipeLineMetadata['Metrics - Confusion Matrix Precision'] = metrics.precision_score(y_test,y_pred_class)\n"
   ]
  },
  {
   "cell_type": "code",
   "execution_count": 96,
   "metadata": {},
   "outputs": [],
   "source": [
    "PipeLineMetadata['Metrics - AUC'] = metrics.roc_auc_score(y_test, y_pred_prob)"
   ]
  },
  {
   "cell_type": "code",
   "execution_count": 97,
   "metadata": {},
   "outputs": [],
   "source": [
    "PipeLineMetadata['Metrics - ROC Curve fpr array'] = fpr\n",
    "PipeLineMetadata['Metrics - ROC Curve tpr array'] = tpr"
   ]
  },
  {
   "cell_type": "code",
   "execution_count": 98,
   "metadata": {},
   "outputs": [
    {
     "data": {
      "text/plain": "{'Name': 'Optimize Round 4: Adding Interaction Terms with SelectFpr',\n 'Column Transforms': [('woeencoder',\n   WOEEncoder(cols=None, drop_invariant=False, handle_missing='value',\n              handle_unknown='value', random_state=None, randomized=False,\n              regularization=1.0, return_df=True, sigma=0.05, verbose=0),\n   Index(['Service_Component_WBS_aff', 'Urgency', 'KM_number',\n          'Open_Time_HourOfDay', 'Open_Time_DayOfWeek', 'CI_TypeSubType_aff'],\n         dtype='object')),\n  ('standardscaler',\n   StandardScaler(copy=True, with_mean=True, with_std=True),\n   Index(['Count_Related_Interactions', 'Count_Related_Incidents',\n          'Count_Related_Changes'],\n         dtype='object'))],\n 'PolynomialFeatures': PolynomialFeatures(degree=2, include_bias=True, interaction_only=True,\n                    order='C'),\n 'Selector': SelectFpr(alpha=0.05, score_func=<function f_classif at 0x1a1d8548c0>),\n 'Classifier': LogisticRegression(C=1.0, class_weight=None, dual=False, fit_intercept=True,\n                    intercept_scaling=1, l1_ratio=None, max_iter=100,\n                    multi_class='auto', n_jobs=None, penalty='l2',\n                    random_state=None, solver='lbfgs', tol=0.0001, verbose=0,\n                    warm_start=False),\n 'Selector - Scores':                                         feature names       scores   p-value\n 0                           Service_Component_WBS_aff 2626.0557182 0.0000000\n 1                                             Urgency  141.5836070 0.0000000\n 2                                           KM_number 6104.4383936 0.0000000\n 3                          Count_Related_Interactions  177.7555436 0.0000000\n 4                             Count_Related_Incidents  679.7626961 0.0000000\n 5                               Count_Related_Changes  902.1087202 0.0000000\n 6                                 Open_Time_HourOfDay   62.0757993 0.0000000\n 7                                 Open_Time_DayOfWeek    5.6072217 0.0178943\n 8                                  CI_TypeSubType_aff    0.3519352 0.5530252\n 9                   Service_Component_WBS_aff Urgency   10.1816329 0.0014202\n 10                Service_Component_WBS_aff KM_number   61.0097157 0.0000000\n 11  Service_Component_WBS_aff Count_Related_Intera...   23.3589971 0.0000014\n 12  Service_Component_WBS_aff Count_Related_Incidents    6.6168327 0.0101077\n 13    Service_Component_WBS_aff Count_Related_Changes    0.7630328 0.3823896\n 14      Service_Component_WBS_aff Open_Time_HourOfDay   14.0491364 0.0001785\n 15      Service_Component_WBS_aff Open_Time_DayOfWeek    3.9304157 0.0474313\n 16       Service_Component_WBS_aff CI_TypeSubType_aff    0.0114426 0.9148134\n 17                                  Urgency KM_number   77.5772795 0.0000000\n 18                 Urgency Count_Related_Interactions    1.5861137 0.2078942\n 19                    Urgency Count_Related_Incidents    1.4111859 0.2348711\n 20                      Urgency Count_Related_Changes    2.8049567 0.0939861\n 21                        Urgency Open_Time_HourOfDay    0.0231707 0.8790153\n 22                        Urgency Open_Time_DayOfWeek    1.5019556 0.2203824\n 23                         Urgency CI_TypeSubType_aff    1.7282448 0.1886474\n 24               KM_number Count_Related_Interactions    6.8929046 0.0086592\n 25                  KM_number Count_Related_Incidents    6.3521121 0.0117304\n 26                    KM_number Count_Related_Changes  177.0139338 0.0000000\n 27                      KM_number Open_Time_HourOfDay   10.8814357 0.0009727\n 28                      KM_number Open_Time_DayOfWeek    0.8727419 0.3502065\n 29                       KM_number CI_TypeSubType_aff    0.9092303 0.3403281\n 30  Count_Related_Interactions Count_Related_Incid...  126.4500112 0.0000000\n 31   Count_Related_Interactions Count_Related_Changes    7.8195531 0.0051724\n 32     Count_Related_Interactions Open_Time_HourOfDay    0.5628389 0.4531258\n 33     Count_Related_Interactions Open_Time_DayOfWeek    0.0910199 0.7628871\n 34      Count_Related_Interactions CI_TypeSubType_aff    0.6614483 0.4160569\n 35      Count_Related_Incidents Count_Related_Changes    2.6112044 0.1061239\n 36        Count_Related_Incidents Open_Time_HourOfDay    1.8163793 0.1777573\n 37        Count_Related_Incidents Open_Time_DayOfWeek    0.4733233 0.4914687\n 38         Count_Related_Incidents CI_TypeSubType_aff    7.3458392 0.0067265\n 39          Count_Related_Changes Open_Time_HourOfDay    8.6250419 0.0033188\n 40          Count_Related_Changes Open_Time_DayOfWeek   10.6134424 0.0011242\n 41           Count_Related_Changes CI_TypeSubType_aff   16.8176562 0.0000413\n 42            Open_Time_HourOfDay Open_Time_DayOfWeek    0.5447173 0.4604913\n 43             Open_Time_HourOfDay CI_TypeSubType_aff    0.3106481 0.5772878\n 44             Open_Time_DayOfWeek CI_TypeSubType_aff    3.5047868 0.0612036,\n 'Classifier - Intercept': -0.9161546666017198,\n 'Classifier - Coefficients': array([ 0.15531191,  0.2640625 ,  1.12477936,  1.30657131,  1.2914163 ,\n         0.04352038,  0.2637966 , -0.01366535, -0.17283283, -0.09059925,\n         0.41040724, -0.01682171,  0.09571744,  0.02808663, -0.09640587,\n        -0.53453846, -0.18849206, -0.01286896,  0.11783178,  1.69698495,\n        -0.32302769, -0.13315008, -0.00987757,  0.04285507,  0.03881677]),\n 'Metrics - Classification Report': '              precision    recall  f1-score   support\\n\\n           0       0.78      0.89      0.83      7445\\n           1       0.61      0.42      0.49      3118\\n\\n    accuracy                           0.75     10563\\n   macro avg       0.70      0.65      0.66     10563\\nweighted avg       0.73      0.75      0.73     10563\\n',\n 'Metrics - Confusion Matrix': array([[6607,  838],\n        [1822, 1296]]),\n 'Metrics - Confusion Matrix Classification Accuracy': 0.7481776010603048,\n 'Metrics - Confusion Matrix Classification Error': 0.25182239893969516,\n 'Metrics - Confusion Matrix True Positive Rate': 0.4156510583707505,\n 'Metrics - Confusion Matrix True Negative Rate': 0.887441235728677,\n 'Metrics - Confusion Matrix False Positive Rate': 0.11255876427132304,\n 'Metrics - Confusion Matrix Precision': 0.6073102155576382,\n 'Metrics - AUC': 0.782094823230093,\n 'Metrics - ROC Curve fpr array': array([0.00000000e+00, 1.34318334e-04, 4.02955003e-04, ...,\n        9.99731363e-01, 9.99731363e-01, 1.00000000e+00]),\n 'Metrics - ROC Curve tpr array': array([0.        , 0.        , 0.        , ..., 0.99967928, 1.        ,\n        1.        ])}"
     },
     "execution_count": 98,
     "metadata": {},
     "output_type": "execute_result"
    }
   ],
   "source": [
    "PipeLineMetadata"
   ]
  },
  {
   "cell_type": "code",
   "execution_count": 99,
   "metadata": {},
   "outputs": [],
   "source": [
    "with open(outFileName,'wb') as fo:\n",
    "    pickle.dump(PipeLineMetadata, fo)"
   ]
  },
  {
   "cell_type": "code",
   "execution_count": null,
   "metadata": {},
   "outputs": [],
   "source": []
  }
 ]
}