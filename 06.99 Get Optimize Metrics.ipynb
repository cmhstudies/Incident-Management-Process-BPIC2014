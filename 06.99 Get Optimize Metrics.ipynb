{
 "nbformat": 4,
 "nbformat_minor": 2,
 "metadata": {
  "language_info": {
   "name": "python",
   "codemirror_mode": {
    "name": "ipython",
    "version": 3
   },
   "version": "3.7.6-final"
  },
  "orig_nbformat": 2,
  "file_extension": ".py",
  "mimetype": "text/x-python",
  "name": "python",
  "npconvert_exporter": "python",
  "pygments_lexer": "ipython3",
  "version": 3,
  "kernelspec": {
   "name": "python3",
   "display_name": "Python 3"
  }
 },
 "cells": [
  {
   "cell_type": "markdown",
   "metadata": {},
   "source": [
    "# 00.01 Get Metrics\n",
    "\n",
    "Goal: identify the factors that most contribute to SLAFail\n",
    "\n",
    "Tuning Adjustments: Focus on finding the most predictive set of predictor variables\n",
    "\n",
    "Compare the results of the following notebooks: \n",
    "\n",
    "\n",
    "\n",
    "\n",
    "\n"
   ]
  },
  {
   "cell_type": "code",
   "execution_count": 1,
   "metadata": {},
   "outputs": [],
   "source": [
    "# Load libraries\n",
    "import pandas as pd\n",
    "import numpy as np\n",
    "import pickle\n"
   ]
  },
  {
   "cell_type": "code",
   "execution_count": 2,
   "metadata": {},
   "outputs": [],
   "source": [
    "data = {}"
   ]
  },
  {
   "cell_type": "code",
   "execution_count": 3,
   "metadata": {},
   "outputs": [],
   "source": [
    "##### Transformation Metrics\n",
    "########### change to code cell to run and back to markdown to 'comment'\n",
    "\n",
    "files = {\"Optimize 1\" :  \"data/06.00.a Optimize with SelectKBest.pkl\",\n",
    "         \"Optimize 2\" : \"data/06.00.b Optimize 2 Select FPR.pkl\", \n",
    "         \"Optimize 3\" : \"data/06.00.c Add Interaction Terms.pkl\", \n",
    "         \"Optimize 4\" : \"data/06.00.d Add Interaction Terms Select FPR.pkl\" }\n",
    "         \n",
    "outFilename = \"reports/06.00 Optimization Metrics.csv\""
   ]
  },
  {
   "cell_type": "code",
   "execution_count": 4,
   "metadata": {},
   "outputs": [
    {
     "name": "stdout",
     "output_type": "stream",
     "text": "Optimize 1: data/06.00.a Optimize with SelectKBest.pkl\nOptimize 2: data/06.00.b Optimize 2 Select FPR.pkl\nOptimize 3: data/06.00.c Add Interaction Terms.pkl\nOptimize 4: data/06.00.d Add Interaction Terms Select FPR.pkl\n"
    }
   ],
   "source": [
    "for key, value in files.items():\n",
    "    print(key + \": \" + value)\n",
    "    with open(value, 'rb') as fi:\n",
    "        data[key] = pickle.load(fi)\n",
    "    \n"
   ]
  },
  {
   "cell_type": "code",
   "execution_count": 5,
   "metadata": {},
   "outputs": [
    {
     "data": {
      "text/html": "<div>\n<style scoped>\n    .dataframe tbody tr th:only-of-type {\n        vertical-align: middle;\n    }\n\n    .dataframe tbody tr th {\n        vertical-align: top;\n    }\n\n    .dataframe thead th {\n        text-align: right;\n    }\n</style>\n<table border=\"1\" class=\"dataframe\">\n  <thead>\n    <tr style=\"text-align: right;\">\n      <th></th>\n      <th>Optimize 1</th>\n      <th>Optimize 2</th>\n      <th>Optimize 3</th>\n      <th>Optimize 4</th>\n    </tr>\n  </thead>\n  <tbody>\n    <tr>\n      <th>Null Accuracy</th>\n      <td>0.704819</td>\n      <td>0.704819</td>\n      <td>NaN</td>\n      <td>NaN</td>\n    </tr>\n    <tr>\n      <th>Metrics - Classification Report</th>\n      <td>precision    recall  f1-score   ...</td>\n      <td>precision    recall  f1-score   ...</td>\n      <td>precision    recall  f1-score   ...</td>\n      <td>precision    recall  f1-score   ...</td>\n    </tr>\n    <tr>\n      <th>Metrics - Confusion Matrix</th>\n      <td>[[6597, 848], [1826, 1292]]</td>\n      <td>[[6597, 848], [1827, 1291]]</td>\n      <td>[[6628, 817], [1805, 1313]]</td>\n      <td>[[6607, 838], [1822, 1296]]</td>\n    </tr>\n    <tr>\n      <th>Metrics - Confusion Matrix Classification Accuracy</th>\n      <td>0.746852</td>\n      <td>0.746758</td>\n      <td>0.751775</td>\n      <td>0.748178</td>\n    </tr>\n    <tr>\n      <th>Metrics - Confusion Matrix Classification Error</th>\n      <td>0.253148</td>\n      <td>0.253242</td>\n      <td>0.248225</td>\n      <td>0.251822</td>\n    </tr>\n    <tr>\n      <th>Metrics - Confusion Matrix True Positive Rate</th>\n      <td>0.414368</td>\n      <td>0.414047</td>\n      <td>0.421103</td>\n      <td>0.415651</td>\n    </tr>\n    <tr>\n      <th>Metrics - Confusion Matrix True Negative Rate</th>\n      <td>0.886098</td>\n      <td>0.886098</td>\n      <td>0.890262</td>\n      <td>0.887441</td>\n    </tr>\n    <tr>\n      <th>Metrics - Confusion Matrix False Positive Rate</th>\n      <td>0.113902</td>\n      <td>0.113902</td>\n      <td>0.109738</td>\n      <td>0.112559</td>\n    </tr>\n    <tr>\n      <th>Metrics - Confusion Matrix Precision</th>\n      <td>0.603738</td>\n      <td>0.603553</td>\n      <td>0.616432</td>\n      <td>0.60731</td>\n    </tr>\n    <tr>\n      <th>Metrics - AUC</th>\n      <td>0.780629</td>\n      <td>0.780663</td>\n      <td>0.786672</td>\n      <td>0.782095</td>\n    </tr>\n    <tr>\n      <th>Metrics - ROC Curve fpr array</th>\n      <td>[0.0, 0.0, 0.0, 0.0, 0.00040295500335795837, 0...</td>\n      <td>[0.0, 0.0, 0.0, 0.0, 0.00040295500335795837, 0...</td>\n      <td>[0.0, 0.0001343183344526528, 0.000268636668905...</td>\n      <td>[0.0, 0.0001343183344526528, 0.000402955003357...</td>\n    </tr>\n    <tr>\n      <th>Metrics - ROC Curve tpr array</th>\n      <td>[0.0, 0.00032071840923669016, 0.00288646568313...</td>\n      <td>[0.0, 0.00032071840923669016, 0.00288646568313...</td>\n      <td>[0.0, 0.0, 0.0, 0.00032071840923669016, 0.0003...</td>\n      <td>[0.0, 0.0, 0.0, 0.0025657472738935213, 0.00577...</td>\n    </tr>\n    <tr>\n      <th>Column Transforms</th>\n      <td>NaN</td>\n      <td>[woeencoder, standardscaler]</td>\n      <td>[(woeencoder, WOEEncoder(cols=None, drop_invar...</td>\n      <td>[(woeencoder, WOEEncoder(cols=None, drop_invar...</td>\n    </tr>\n    <tr>\n      <th>Selector</th>\n      <td>NaN</td>\n      <td>SelectFpr(alpha=0.05, score_func=&lt;function f_c...</td>\n      <td>SelectKBest(k=45, score_func=&lt;function f_class...</td>\n      <td>SelectFpr(alpha=0.05, score_func=&lt;function f_c...</td>\n    </tr>\n    <tr>\n      <th>Classifier</th>\n      <td>NaN</td>\n      <td>LogisticRegression(C=1.0, class_weight=None, d...</td>\n      <td>LogisticRegression(C=1.0, class_weight=None, d...</td>\n      <td>LogisticRegression(C=1.0, class_weight=None, d...</td>\n    </tr>\n    <tr>\n      <th>Classifier - Intercept</th>\n      <td>NaN</td>\n      <td>-0.937609</td>\n      <td>NaN</td>\n      <td>-0.916155</td>\n    </tr>\n    <tr>\n      <th>Classifier - Coefficients</th>\n      <td>NaN</td>\n      <td>0\nService_C...</td>\n      <td>NaN</td>\n      <td>[0.15531191243029088, 0.26406249809720145, 1.1...</td>\n    </tr>\n    <tr>\n      <th>Selector - Scores</th>\n      <td>NaN</td>\n      <td>feature names    scores       ...</td>\n      <td>featur...</td>\n      <td>featur...</td>\n    </tr>\n    <tr>\n      <th>Name</th>\n      <td>NaN</td>\n      <td>NaN</td>\n      <td>Optimize Round 3: Adding Interaction Terms</td>\n      <td>Optimize Round 4: Adding Interaction Terms wit...</td>\n    </tr>\n    <tr>\n      <th>Best Estimator Classification Intercept</th>\n      <td>NaN</td>\n      <td>NaN</td>\n      <td>[-0.9041578254341254]</td>\n      <td>NaN</td>\n    </tr>\n    <tr>\n      <th>Best Estimator Classification Coefficients</th>\n      <td>NaN</td>\n      <td>NaN</td>\n      <td>[[0.15929335396359168, 0.2913683828023847, 1.1...</td>\n      <td>NaN</td>\n    </tr>\n    <tr>\n      <th>Best SearchGridCV score</th>\n      <td>NaN</td>\n      <td>NaN</td>\n      <td>0.744654</td>\n      <td>NaN</td>\n    </tr>\n    <tr>\n      <th>Best SearchGridCV parameters</th>\n      <td>NaN</td>\n      <td>NaN</td>\n      <td>{'selector__k': 45}</td>\n      <td>NaN</td>\n    </tr>\n    <tr>\n      <th>PolynomialFeatures</th>\n      <td>NaN</td>\n      <td>NaN</td>\n      <td>PolynomialFeatures(degree=2, include_bias=True...</td>\n      <td>PolynomialFeatures(degree=2, include_bias=True...</td>\n    </tr>\n  </tbody>\n</table>\n</div>",
      "text/plain": "                                                                                           Optimize 1  \\\nNull Accuracy                                                                                0.704819   \nMetrics - Classification Report                                   precision    recall  f1-score   ...   \nMetrics - Confusion Matrix                                                [[6597, 848], [1826, 1292]]   \nMetrics - Confusion Matrix Classification Accuracy                                           0.746852   \nMetrics - Confusion Matrix Classification Error                                              0.253148   \nMetrics - Confusion Matrix True Positive Rate                                                0.414368   \nMetrics - Confusion Matrix True Negative Rate                                                0.886098   \nMetrics - Confusion Matrix False Positive Rate                                               0.113902   \nMetrics - Confusion Matrix Precision                                                         0.603738   \nMetrics - AUC                                                                                0.780629   \nMetrics - ROC Curve fpr array                       [0.0, 0.0, 0.0, 0.0, 0.00040295500335795837, 0...   \nMetrics - ROC Curve tpr array                       [0.0, 0.00032071840923669016, 0.00288646568313...   \nColumn Transforms                                                                                 NaN   \nSelector                                                                                          NaN   \nClassifier                                                                                        NaN   \nClassifier - Intercept                                                                            NaN   \nClassifier - Coefficients                                                                         NaN   \nSelector - Scores                                                                                 NaN   \nName                                                                                              NaN   \nBest Estimator Classification Intercept                                                           NaN   \nBest Estimator Classification Coefficients                                                        NaN   \nBest SearchGridCV score                                                                           NaN   \nBest SearchGridCV parameters                                                                      NaN   \nPolynomialFeatures                                                                                NaN   \n\n                                                                                           Optimize 2  \\\nNull Accuracy                                                                                0.704819   \nMetrics - Classification Report                                   precision    recall  f1-score   ...   \nMetrics - Confusion Matrix                                                [[6597, 848], [1827, 1291]]   \nMetrics - Confusion Matrix Classification Accuracy                                           0.746758   \nMetrics - Confusion Matrix Classification Error                                              0.253242   \nMetrics - Confusion Matrix True Positive Rate                                                0.414047   \nMetrics - Confusion Matrix True Negative Rate                                                0.886098   \nMetrics - Confusion Matrix False Positive Rate                                               0.113902   \nMetrics - Confusion Matrix Precision                                                         0.603553   \nMetrics - AUC                                                                                0.780663   \nMetrics - ROC Curve fpr array                       [0.0, 0.0, 0.0, 0.0, 0.00040295500335795837, 0...   \nMetrics - ROC Curve tpr array                       [0.0, 0.00032071840923669016, 0.00288646568313...   \nColumn Transforms                                                        [woeencoder, standardscaler]   \nSelector                                            SelectFpr(alpha=0.05, score_func=<function f_c...   \nClassifier                                          LogisticRegression(C=1.0, class_weight=None, d...   \nClassifier - Intercept                                                                      -0.937609   \nClassifier - Coefficients                                                              0\nService_C...   \nSelector - Scores                                                   feature names    scores       ...   \nName                                                                                              NaN   \nBest Estimator Classification Intercept                                                           NaN   \nBest Estimator Classification Coefficients                                                        NaN   \nBest SearchGridCV score                                                                           NaN   \nBest SearchGridCV parameters                                                                      NaN   \nPolynomialFeatures                                                                                NaN   \n\n                                                                                           Optimize 3  \\\nNull Accuracy                                                                                     NaN   \nMetrics - Classification Report                                   precision    recall  f1-score   ...   \nMetrics - Confusion Matrix                                                [[6628, 817], [1805, 1313]]   \nMetrics - Confusion Matrix Classification Accuracy                                           0.751775   \nMetrics - Confusion Matrix Classification Error                                              0.248225   \nMetrics - Confusion Matrix True Positive Rate                                                0.421103   \nMetrics - Confusion Matrix True Negative Rate                                                0.890262   \nMetrics - Confusion Matrix False Positive Rate                                               0.109738   \nMetrics - Confusion Matrix Precision                                                         0.616432   \nMetrics - AUC                                                                                0.786672   \nMetrics - ROC Curve fpr array                       [0.0, 0.0001343183344526528, 0.000268636668905...   \nMetrics - ROC Curve tpr array                       [0.0, 0.0, 0.0, 0.00032071840923669016, 0.0003...   \nColumn Transforms                                   [(woeencoder, WOEEncoder(cols=None, drop_invar...   \nSelector                                            SelectKBest(k=45, score_func=<function f_class...   \nClassifier                                          LogisticRegression(C=1.0, class_weight=None, d...   \nClassifier - Intercept                                                                            NaN   \nClassifier - Coefficients                                                                         NaN   \nSelector - Scores                                                                           featur...   \nName                                                       Optimize Round 3: Adding Interaction Terms   \nBest Estimator Classification Intercept                                         [-0.9041578254341254]   \nBest Estimator Classification Coefficients          [[0.15929335396359168, 0.2913683828023847, 1.1...   \nBest SearchGridCV score                                                                      0.744654   \nBest SearchGridCV parameters                                                      {'selector__k': 45}   \nPolynomialFeatures                                  PolynomialFeatures(degree=2, include_bias=True...   \n\n                                                                                           Optimize 4  \nNull Accuracy                                                                                     NaN  \nMetrics - Classification Report                                   precision    recall  f1-score   ...  \nMetrics - Confusion Matrix                                                [[6607, 838], [1822, 1296]]  \nMetrics - Confusion Matrix Classification Accuracy                                           0.748178  \nMetrics - Confusion Matrix Classification Error                                              0.251822  \nMetrics - Confusion Matrix True Positive Rate                                                0.415651  \nMetrics - Confusion Matrix True Negative Rate                                                0.887441  \nMetrics - Confusion Matrix False Positive Rate                                               0.112559  \nMetrics - Confusion Matrix Precision                                                          0.60731  \nMetrics - AUC                                                                                0.782095  \nMetrics - ROC Curve fpr array                       [0.0, 0.0001343183344526528, 0.000402955003357...  \nMetrics - ROC Curve tpr array                       [0.0, 0.0, 0.0, 0.0025657472738935213, 0.00577...  \nColumn Transforms                                   [(woeencoder, WOEEncoder(cols=None, drop_invar...  \nSelector                                            SelectFpr(alpha=0.05, score_func=<function f_c...  \nClassifier                                          LogisticRegression(C=1.0, class_weight=None, d...  \nClassifier - Intercept                                                                      -0.916155  \nClassifier - Coefficients                           [0.15531191243029088, 0.26406249809720145, 1.1...  \nSelector - Scores                                                                           featur...  \nName                                                Optimize Round 4: Adding Interaction Terms wit...  \nBest Estimator Classification Intercept                                                           NaN  \nBest Estimator Classification Coefficients                                                        NaN  \nBest SearchGridCV score                                                                           NaN  \nBest SearchGridCV parameters                                                                      NaN  \nPolynomialFeatures                                  PolynomialFeatures(degree=2, include_bias=True...  "
     },
     "execution_count": 5,
     "metadata": {},
     "output_type": "execute_result"
    }
   ],
   "source": [
    "df = pd.DataFrame(data)\n",
    "df"
   ]
  },
  {
   "cell_type": "code",
   "execution_count": 6,
   "metadata": {},
   "outputs": [],
   "source": [
    "with open(outFilename, 'w') as fo:\n",
    "    df.to_csv(fo)"
   ]
  },
  {
   "cell_type": "code",
   "execution_count": 7,
   "metadata": {},
   "outputs": [
    {
     "data": {
      "text/html": "<div>\n<style scoped>\n    .dataframe tbody tr th:only-of-type {\n        vertical-align: middle;\n    }\n\n    .dataframe tbody tr th {\n        vertical-align: top;\n    }\n\n    .dataframe thead th {\n        text-align: right;\n    }\n</style>\n<table border=\"1\" class=\"dataframe\">\n  <thead>\n    <tr style=\"text-align: right;\">\n      <th></th>\n      <th>0</th>\n    </tr>\n  </thead>\n  <tbody>\n    <tr>\n      <th>Service_Component_WBS_aff</th>\n      <td>0.104001</td>\n    </tr>\n    <tr>\n      <th>Urgency</th>\n      <td>0.188064</td>\n    </tr>\n    <tr>\n      <th>KM_number</th>\n      <td>1.121735</td>\n    </tr>\n    <tr>\n      <th>Count_Related_Interactions</th>\n      <td>1.172629</td>\n    </tr>\n    <tr>\n      <th>Count_Related_Incidents</th>\n      <td>1.245934</td>\n    </tr>\n    <tr>\n      <th>Count_Related_Changes</th>\n      <td>0.038820</td>\n    </tr>\n    <tr>\n      <th>Open_Time_HourOfDay</th>\n      <td>0.182436</td>\n    </tr>\n    <tr>\n      <th>Open_Time_DayOfWeek</th>\n      <td>-0.035750</td>\n    </tr>\n  </tbody>\n</table>\n</div>",
      "text/plain": "                                   0\nService_Component_WBS_aff   0.104001\nUrgency                     0.188064\nKM_number                   1.121735\nCount_Related_Interactions  1.172629\nCount_Related_Incidents     1.245934\nCount_Related_Changes       0.038820\nOpen_Time_HourOfDay         0.182436\nOpen_Time_DayOfWeek        -0.035750"
     },
     "execution_count": 7,
     "metadata": {},
     "output_type": "execute_result"
    }
   ],
   "source": [
    "df.loc['Classifier - Coefficients', 'Optimize 2']"
   ]
  },
  {
   "cell_type": "code",
   "execution_count": 8,
   "metadata": {},
   "outputs": [
    {
     "data": {
      "text/html": "<div>\n<style scoped>\n    .dataframe tbody tr th:only-of-type {\n        vertical-align: middle;\n    }\n\n    .dataframe tbody tr th {\n        vertical-align: top;\n    }\n\n    .dataframe thead th {\n        text-align: right;\n    }\n</style>\n<table border=\"1\" class=\"dataframe\">\n  <thead>\n    <tr style=\"text-align: right;\">\n      <th></th>\n      <th>feature names</th>\n      <th>scores</th>\n      <th>p-value</th>\n    </tr>\n  </thead>\n  <tbody>\n    <tr>\n      <th>0</th>\n      <td>Service_Component_WBS_aff</td>\n      <td>141.584</td>\n      <td>1.47283e-32</td>\n    </tr>\n    <tr>\n      <th>1</th>\n      <td>Urgency</td>\n      <td>6104.44</td>\n      <td>0</td>\n    </tr>\n    <tr>\n      <th>2</th>\n      <td>KM_number</td>\n      <td>177.756</td>\n      <td>2.06821e-40</td>\n    </tr>\n    <tr>\n      <th>3</th>\n      <td>Count_Related_Interactions</td>\n      <td>679.763</td>\n      <td>7.61382e-148</td>\n    </tr>\n    <tr>\n      <th>4</th>\n      <td>Count_Related_Incidents</td>\n      <td>902.109</td>\n      <td>1.10036e-194</td>\n    </tr>\n    <tr>\n      <th>5</th>\n      <td>Count_Related_Changes</td>\n      <td>62.0758</td>\n      <td>3.4407e-15</td>\n    </tr>\n    <tr>\n      <th>6</th>\n      <td>Open_Time_HourOfDay</td>\n      <td>5.60722</td>\n      <td>0.0178943</td>\n    </tr>\n    <tr>\n      <th>7</th>\n      <td>Open_Time_DayOfWeek</td>\n      <td>0.351935</td>\n      <td>0.553025</td>\n    </tr>\n  </tbody>\n</table>\n</div>",
      "text/plain": "                feature names    scores       p-value\n0   Service_Component_WBS_aff   141.584   1.47283e-32\n1                     Urgency   6104.44             0\n2                   KM_number   177.756   2.06821e-40\n3  Count_Related_Interactions   679.763  7.61382e-148\n4     Count_Related_Incidents   902.109  1.10036e-194\n5       Count_Related_Changes   62.0758    3.4407e-15\n6         Open_Time_HourOfDay   5.60722     0.0178943\n7         Open_Time_DayOfWeek  0.351935      0.553025"
     },
     "execution_count": 8,
     "metadata": {},
     "output_type": "execute_result"
    }
   ],
   "source": [
    "df.loc['Selector - Scores', 'Optimize 2']"
   ]
  },
  {
   "cell_type": "code",
   "execution_count": null,
   "metadata": {},
   "outputs": [],
   "source": []
  }
 ]
}