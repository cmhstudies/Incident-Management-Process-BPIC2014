{
 "cells": [
  {
   "cell_type": "markdown",
   "metadata": {},
   "source": [
    "# 02. Cleaning the Source Data Set"
   ]
  },
  {
   "cell_type": "code",
   "execution_count": 28,
   "metadata": {},
   "outputs": [],
   "source": [
    "import pandas as pd\n",
    "import numpy as np\n",
    "import seaborn as sns\n",
    "import matplotlib\n",
    "from matplotlib import pyplot as plt\n",
    "from pandas_profiling import ProfileReport\n",
    "from pathlib import Path"
   ]
  },
  {
   "cell_type": "code",
   "execution_count": 29,
   "metadata": {},
   "outputs": [],
   "source": [
    "df = pd.read_csv(\"data/01.a.Detail_Incident.csv\", parse_dates=['Open_Time', 'Reopen_Time', 'Resolved_Time','Close_Time', ])"
   ]
  },
  {
   "cell_type": "code",
   "execution_count": 30,
   "metadata": {},
   "outputs": [
    {
     "data": {
      "text/plain": [
       "CI_Name_aff                           object\n",
       "CI_Type_aff                           object\n",
       "CI_Subtype_aff                        object\n",
       "Service_Component_WBS_aff             object\n",
       "Incident_ID                           object\n",
       "Status                                object\n",
       "Impact                                 int64\n",
       "Urgency                                int64\n",
       "Priority                               int64\n",
       "Category                              object\n",
       "KM_number                             object\n",
       "Alert_Status                          object\n",
       "Count_Reassignments                  float64\n",
       "Open_Time                     datetime64[ns]\n",
       "Reopen_Time                   datetime64[ns]\n",
       "Resolved_Time                 datetime64[ns]\n",
       "Close_Time                    datetime64[ns]\n",
       "Handle_Time_Hours                    float64\n",
       "Closure_Code                          object\n",
       "Count_Related_Interactions           float64\n",
       "Related_Interaction                   object\n",
       "Count_Related_Incidents              float64\n",
       "Count_Related_Changes                float64\n",
       "Related_Change                        object\n",
       "CI_Name_CBy                           object\n",
       "CI_Type_CBy                           object\n",
       "CI_Subtype_CBy                        object\n",
       "ServiceComp_WBS_CBy                   object\n",
       "dtype: object"
      ]
     },
     "execution_count": 30,
     "metadata": {},
     "output_type": "execute_result"
    }
   ],
   "source": [
    "df.dtypes"
   ]
  },
  {
   "cell_type": "markdown",
   "metadata": {},
   "source": [
    "## Drop Records where Resolved_Time is Missing"
   ]
  },
  {
   "cell_type": "code",
   "execution_count": 31,
   "metadata": {},
   "outputs": [
    {
     "data": {
      "text/plain": [
       "Open_Time            0\n",
       "Reopen_Time      44322\n",
       "Resolved_Time     1780\n",
       "Close_Time           0\n",
       "dtype: int64"
      ]
     },
     "execution_count": 31,
     "metadata": {},
     "output_type": "execute_result"
    }
   ],
   "source": [
    "df.iloc[:,13:17].isnull().sum()"
   ]
  },
  {
   "cell_type": "code",
   "execution_count": 32,
   "metadata": {},
   "outputs": [],
   "source": [
    "df = df.dropna(subset=['Resolved_Time'])"
   ]
  },
  {
   "cell_type": "code",
   "execution_count": 33,
   "metadata": {},
   "outputs": [
    {
     "data": {
      "text/plain": [
       "Open_Time            0\n",
       "Reopen_Time      42607\n",
       "Resolved_Time        0\n",
       "Close_Time           0\n",
       "dtype: int64"
      ]
     },
     "execution_count": 33,
     "metadata": {},
     "output_type": "execute_result"
    }
   ],
   "source": [
    "df.iloc[:,13:17].isnull().sum()"
   ]
  },
  {
   "cell_type": "markdown",
   "metadata": {},
   "source": [
    "## Limit timeframe of all records\n",
    "\n",
    "greater than 1 october 2013\n",
    "\n",
    "less than 31 march 2014\n"
   ]
  },
  {
   "cell_type": "code",
   "execution_count": 34,
   "metadata": {},
   "outputs": [],
   "source": [
    "df = df[df['Open_Time'] >= pd.to_datetime('10-01-2013')]"
   ]
  },
  {
   "cell_type": "code",
   "execution_count": 35,
   "metadata": {},
   "outputs": [
    {
     "data": {
      "text/html": [
       "<div>\n",
       "<style scoped>\n",
       "    .dataframe tbody tr th:only-of-type {\n",
       "        vertical-align: middle;\n",
       "    }\n",
       "\n",
       "    .dataframe tbody tr th {\n",
       "        vertical-align: top;\n",
       "    }\n",
       "\n",
       "    .dataframe thead th {\n",
       "        text-align: right;\n",
       "    }\n",
       "</style>\n",
       "<table border=\"1\" class=\"dataframe\">\n",
       "  <thead>\n",
       "    <tr style=\"text-align: right;\">\n",
       "      <th></th>\n",
       "      <th>Open_Time</th>\n",
       "      <th>Reopen_Time</th>\n",
       "      <th>Resolved_Time</th>\n",
       "      <th>Close_Time</th>\n",
       "    </tr>\n",
       "  </thead>\n",
       "  <tbody>\n",
       "    <tr>\n",
       "      <th>count</th>\n",
       "      <td>43709</td>\n",
       "      <td>2038</td>\n",
       "      <td>43709</td>\n",
       "      <td>43709</td>\n",
       "    </tr>\n",
       "    <tr>\n",
       "      <th>unique</th>\n",
       "      <td>43455</td>\n",
       "      <td>2036</td>\n",
       "      <td>43496</td>\n",
       "      <td>43500</td>\n",
       "    </tr>\n",
       "    <tr>\n",
       "      <th>top</th>\n",
       "      <td>2014-01-22 15:46:06</td>\n",
       "      <td>2013-11-12 10:36:33</td>\n",
       "      <td>2013-11-22 16:34:33</td>\n",
       "      <td>2014-02-27 15:04:32</td>\n",
       "    </tr>\n",
       "    <tr>\n",
       "      <th>freq</th>\n",
       "      <td>3</td>\n",
       "      <td>2</td>\n",
       "      <td>3</td>\n",
       "      <td>3</td>\n",
       "    </tr>\n",
       "    <tr>\n",
       "      <th>first</th>\n",
       "      <td>2013-10-01 07:33:21</td>\n",
       "      <td>2013-10-01 11:43:47</td>\n",
       "      <td>2013-10-01 08:18:27</td>\n",
       "      <td>2013-10-01 08:18:30</td>\n",
       "    </tr>\n",
       "    <tr>\n",
       "      <th>last</th>\n",
       "      <td>2014-03-31 17:24:49</td>\n",
       "      <td>2014-03-31 16:21:15</td>\n",
       "      <td>2014-03-31 22:47:29</td>\n",
       "      <td>2014-03-31 22:47:32</td>\n",
       "    </tr>\n",
       "  </tbody>\n",
       "</table>\n",
       "</div>"
      ],
      "text/plain": [
       "                  Open_Time          Reopen_Time        Resolved_Time  \\\n",
       "count                 43709                 2038                43709   \n",
       "unique                43455                 2036                43496   \n",
       "top     2014-01-22 15:46:06  2013-11-12 10:36:33  2013-11-22 16:34:33   \n",
       "freq                      3                    2                    3   \n",
       "first   2013-10-01 07:33:21  2013-10-01 11:43:47  2013-10-01 08:18:27   \n",
       "last    2014-03-31 17:24:49  2014-03-31 16:21:15  2014-03-31 22:47:29   \n",
       "\n",
       "                 Close_Time  \n",
       "count                 43709  \n",
       "unique                43500  \n",
       "top     2014-02-27 15:04:32  \n",
       "freq                      3  \n",
       "first   2013-10-01 08:18:30  \n",
       "last    2014-03-31 22:47:32  "
      ]
     },
     "execution_count": 35,
     "metadata": {},
     "output_type": "execute_result"
    }
   ],
   "source": [
    "df.iloc[:,13:17].describe()"
   ]
  },
  {
   "cell_type": "markdown",
   "metadata": {},
   "source": [
    "## Deal with Status of 'work in progress'"
   ]
  },
  {
   "cell_type": "code",
   "execution_count": 36,
   "metadata": {},
   "outputs": [
    {
     "data": {
      "text/plain": [
       "Closed              43700\n",
       "Work in progress        9\n",
       "Name: Status, dtype: int64"
      ]
     },
     "execution_count": 36,
     "metadata": {},
     "output_type": "execute_result"
    }
   ],
   "source": [
    "df.Status.value_counts()"
   ]
  },
  {
   "cell_type": "code",
   "execution_count": 37,
   "metadata": {},
   "outputs": [],
   "source": [
    "df = df[ df['Status'] == 'Closed' ]"
   ]
  },
  {
   "cell_type": "code",
   "execution_count": 38,
   "metadata": {},
   "outputs": [
    {
     "data": {
      "text/plain": [
       "Closed    43700\n",
       "Name: Status, dtype: int64"
      ]
     },
     "execution_count": 38,
     "metadata": {},
     "output_type": "execute_result"
    }
   ],
   "source": [
    "df.Status.value_counts()"
   ]
  },
  {
   "cell_type": "markdown",
   "metadata": {},
   "source": [
    "## Remove non-incident records"
   ]
  },
  {
   "cell_type": "code",
   "execution_count": 39,
   "metadata": {},
   "outputs": [
    {
     "name": "stdout",
     "output_type": "stream",
     "text": [
      "incident                   35208\n",
      "request for information     8482\n",
      "complaint                      9\n",
      "request for change             1\n",
      "Name: Category, dtype: int64\n"
     ]
    }
   ],
   "source": [
    "print(df.Category.value_counts())"
   ]
  },
  {
   "cell_type": "code",
   "execution_count": 40,
   "metadata": {},
   "outputs": [],
   "source": [
    "df = df[ df['Category'] == 'incident' ]"
   ]
  },
  {
   "cell_type": "code",
   "execution_count": 41,
   "metadata": {},
   "outputs": [
    {
     "name": "stdout",
     "output_type": "stream",
     "text": [
      "incident    35208\n",
      "Name: Category, dtype: int64\n",
      "Closed    35208\n",
      "Name: Status, dtype: int64\n",
      "closed    35208\n",
      "Name: Alert_Status, dtype: int64\n"
     ]
    }
   ],
   "source": [
    "print(df.Category.value_counts())\n",
    "print(df.Status.value_counts())\n",
    "print(df.Alert_Status.value_counts())"
   ]
  },
  {
   "cell_type": "markdown",
   "metadata": {},
   "source": [
    "## Deal with Reopen_Time Missing Values\n"
   ]
  },
  {
   "cell_type": "code",
   "execution_count": 42,
   "metadata": {},
   "outputs": [
    {
     "data": {
      "text/plain": [
       "33782"
      ]
     },
     "execution_count": 42,
     "metadata": {},
     "output_type": "execute_result"
    }
   ],
   "source": [
    "df.Reopen_Time.isnull().sum()"
   ]
  },
  {
   "cell_type": "code",
   "execution_count": 43,
   "metadata": {},
   "outputs": [],
   "source": [
    "df['ReopenedFlag'] = ~ df.Reopen_Time.isnull()"
   ]
  },
  {
   "cell_type": "code",
   "execution_count": 44,
   "metadata": {},
   "outputs": [],
   "source": [
    "df['ReopenedFlag'] = df['ReopenedFlag'].astype(int)"
   ]
  },
  {
   "cell_type": "code",
   "execution_count": 45,
   "metadata": {},
   "outputs": [
    {
     "data": {
      "text/plain": [
       "0    33782\n",
       "1     1426\n",
       "Name: ReopenedFlag, dtype: int64"
      ]
     },
     "execution_count": 45,
     "metadata": {},
     "output_type": "execute_result"
    }
   ],
   "source": [
    "df['ReopenedFlag'].value_counts()"
   ]
  },
  {
   "cell_type": "markdown",
   "metadata": {},
   "source": [
    "## Set Missing to Zero for `Count_Related_Changes`, `Count_Related_Incidents`, and `Count_Related_Interactions` "
   ]
  },
  {
   "cell_type": "code",
   "execution_count": 46,
   "metadata": {},
   "outputs": [
    {
     "name": "stdout",
     "output_type": "stream",
     "text": [
      "34732\n",
      "34164\n",
      "111\n"
     ]
    }
   ],
   "source": [
    "print(df['Count_Related_Changes'].isnull().sum())\n",
    "print(df['Count_Related_Incidents'].isnull().sum())\n",
    "print(df['Count_Related_Interactions'].isnull().sum())\n"
   ]
  },
  {
   "cell_type": "code",
   "execution_count": 47,
   "metadata": {},
   "outputs": [],
   "source": [
    "df['Count_Related_Changes'] = df['Count_Related_Changes'].fillna(0)\n",
    "df['Count_Related_Incidents'] = df['Count_Related_Incidents'].fillna(0)\n",
    "df['Count_Related_Interactions'] = df['Count_Related_Interactions'].fillna(0)\n"
   ]
  },
  {
   "cell_type": "code",
   "execution_count": 48,
   "metadata": {},
   "outputs": [
    {
     "name": "stdout",
     "output_type": "stream",
     "text": [
      "0\n",
      "0\n",
      "0\n"
     ]
    }
   ],
   "source": [
    "print(df['Count_Related_Changes'].isnull().sum())\n",
    "print(df['Count_Related_Incidents'].isnull().sum())\n",
    "print(df['Count_Related_Interactions'].isnull().sum())"
   ]
  },
  {
   "cell_type": "markdown",
   "metadata": {},
   "source": [
    "## Set Missing to \"Not Applicable\" for `Related_Change`"
   ]
  },
  {
   "cell_type": "code",
   "execution_count": 49,
   "metadata": {},
   "outputs": [
    {
     "data": {
      "text/plain": [
       "476"
      ]
     },
     "execution_count": 49,
     "metadata": {},
     "output_type": "execute_result"
    }
   ],
   "source": [
    "df['Related_Change'].value_counts().sum()"
   ]
  },
  {
   "cell_type": "code",
   "execution_count": 50,
   "metadata": {},
   "outputs": [],
   "source": [
    "df['Related_Change'] = df['Related_Change'].fillna(\"Not Applicable\")"
   ]
  },
  {
   "cell_type": "code",
   "execution_count": 51,
   "metadata": {},
   "outputs": [
    {
     "data": {
      "text/plain": [
       "Not Applicable    34732\n",
       "C00003013           110\n",
       "C00014762            78\n",
       "#MULTIVALUE          18\n",
       "C00001012            10\n",
       "C00012714            10\n",
       "C00000713             9\n",
       "C00009165             7\n",
       "C00009722             7\n",
       "C00017302             5\n",
       "C00008750             5\n",
       "C00014221             5\n",
       "C00006833             4\n",
       "C00004344             3\n",
       "C00015613             3\n",
       "C00009821             3\n",
       "C00000829             3\n",
       "C00001807             3\n",
       "C00001026             3\n",
       "C00006448             2\n",
       "C00012545             2\n",
       "C00011501             2\n",
       "C00013454             2\n",
       "C00012116             2\n",
       "C00002389             2\n",
       "C00014458             2\n",
       "C00003404             2\n",
       "C00002268             2\n",
       "C00016781             2\n",
       "C00000527             2\n",
       "C00007098             2\n",
       "C00001250             2\n",
       "C00016192             2\n",
       "C00001507             2\n",
       "C00001549             2\n",
       "C00005866             2\n",
       "C00004739             2\n",
       "C00008442             2\n",
       "C00013072             2\n",
       "C00008726             2\n",
       "C00008222             2\n",
       "C00004294             2\n",
       "C00007015             2\n",
       "C00005261             2\n",
       "C00011591             1\n",
       "C00001137             1\n",
       "C00016571             1\n",
       "C00012062             1\n",
       "C00013379             1\n",
       "C00015705             1\n",
       "C00007202             1\n",
       "C00010941             1\n",
       "C00004044             1\n",
       "C00006401             1\n",
       "C00006599             1\n",
       "C00001730             1\n",
       "C00004090             1\n",
       "C00000360             1\n",
       "C00015923             1\n",
       "C00004994             1\n",
       "C00007161             1\n",
       "C00006745             1\n",
       "C00001831             1\n",
       "C00009025             1\n",
       "C00010379             1\n",
       "C00008467             1\n",
       "C00007055             1\n",
       "C00004385             1\n",
       "C00017230             1\n",
       "C00001062             1\n",
       "C00006823             1\n",
       "C00013606             1\n",
       "C00006824             1\n",
       "C00008356             1\n",
       "C00015758             1\n",
       "C00002378             1\n",
       "C00014707             1\n",
       "C00008486             1\n",
       "C00005050             1\n",
       "C00016689             1\n",
       "C00010182             1\n",
       "C00000385             1\n",
       "C00015776             1\n",
       "C00004490             1\n",
       "C00015609             1\n",
       "C00008700             1\n",
       "C00009448             1\n",
       "C00009947             1\n",
       "C00014475             1\n",
       "C00009567             1\n",
       "C00011182             1\n",
       "C00013064             1\n",
       "C00014075             1\n",
       "C00014624             1\n",
       "C00000589             1\n",
       "C00000600             1\n",
       "C00007747             1\n",
       "C00003040             1\n",
       "C00009563             1\n",
       "C00005456             1\n",
       "C00007132             1\n",
       "C00014360             1\n",
       "C00010785             1\n",
       "C00013595             1\n",
       "C00016295             1\n",
       "C00014661             1\n",
       "C00018294             1\n",
       "C00014375             1\n",
       "C00014122             1\n",
       "C00004950             1\n",
       "C00014622             1\n",
       "C00018435             1\n",
       "C00004493             1\n",
       "C00016153             1\n",
       "C00011170             1\n",
       "C00012038             1\n",
       "C00004854             1\n",
       "C00008054             1\n",
       "C00000122             1\n",
       "C00018267             1\n",
       "C00015544             1\n",
       "C00015025             1\n",
       "C00010344             1\n",
       "C00018403             1\n",
       "C00011406             1\n",
       "C00015140             1\n",
       "C00011858             1\n",
       "C00014296             1\n",
       "C00001455             1\n",
       "C00002178             1\n",
       "C00017553             1\n",
       "C00013740             1\n",
       "C00009966             1\n",
       "C00001667             1\n",
       "C00014876             1\n",
       "C00014981             1\n",
       "C00007983             1\n",
       "C00005369             1\n",
       "C00004384             1\n",
       "C00017136             1\n",
       "C00018421             1\n",
       "C00017031             1\n",
       "C00017321             1\n",
       "C00008787             1\n",
       "C00006302             1\n",
       "C00004614             1\n",
       "C00015047             1\n",
       "C00010749             1\n",
       "C00010740             1\n",
       "C00010259             1\n",
       "C00013104             1\n",
       "C00013982             1\n",
       "C00009069             1\n",
       "C00016233             1\n",
       "C00011366             1\n",
       "C00004679             1\n",
       "C00007092             1\n",
       "C00000596             1\n",
       "C00013273             1\n",
       "C00013125             1\n",
       "C00005110             1\n",
       "C00004549             1\n",
       "C00007263             1\n",
       "C00001215             1\n",
       "C00017594             1\n",
       "C00000633             1\n",
       "C00005847             1\n",
       "C00012923             1\n",
       "C00005815             1\n",
       "C00013867             1\n",
       "C00003624             1\n",
       "C00002337             1\n",
       "C00018549             1\n",
       "C00010314             1\n",
       "C00017161             1\n",
       "C00005858             1\n",
       "C00007572             1\n",
       "C00002375             1\n",
       "C00007099             1\n",
       "C00000050             1\n",
       "C00003468             1\n",
       "C00002007             1\n",
       "C00006422             1\n",
       "C00015040             1\n",
       "Name: Related_Change, dtype: int64"
      ]
     },
     "execution_count": 51,
     "metadata": {},
     "output_type": "execute_result"
    }
   ],
   "source": [
    "df['Related_Change'].value_counts()"
   ]
  },
  {
   "cell_type": "markdown",
   "metadata": {},
   "source": [
    "## Drop columns \n",
    "\n",
    "* with constant values,   \n",
    "\n",
    "* longer needed (`Reopen_Time`)\n",
    "\n"
   ]
  },
  {
   "cell_type": "code",
   "execution_count": 52,
   "metadata": {},
   "outputs": [],
   "source": [
    "df = df.drop(['Category', 'Status', 'Alert_Status', 'Reopen_Time'], axis='columns')"
   ]
  },
  {
   "cell_type": "code",
   "execution_count": 53,
   "metadata": {},
   "outputs": [
    {
     "data": {
      "text/plain": [
       "Index(['CI_Name_aff', 'CI_Type_aff', 'CI_Subtype_aff',\n",
       "       'Service_Component_WBS_aff', 'Incident_ID', 'Impact', 'Urgency',\n",
       "       'Priority', 'KM_number', 'Count_Reassignments', 'Open_Time',\n",
       "       'Resolved_Time', 'Close_Time', 'Handle_Time_Hours', 'Closure_Code',\n",
       "       'Count_Related_Interactions', 'Related_Interaction',\n",
       "       'Count_Related_Incidents', 'Count_Related_Changes', 'Related_Change',\n",
       "       'CI_Name_CBy', 'CI_Type_CBy', 'CI_Subtype_CBy', 'ServiceComp_WBS_CBy',\n",
       "       'ReopenedFlag'],\n",
       "      dtype='object')"
      ]
     },
     "execution_count": 53,
     "metadata": {},
     "output_type": "execute_result"
    }
   ],
   "source": [
    "df.columns"
   ]
  },
  {
   "cell_type": "markdown",
   "metadata": {},
   "source": [
    "## END and OUTPUT"
   ]
  },
  {
   "cell_type": "code",
   "execution_count": 54,
   "metadata": {},
   "outputs": [],
   "source": [
    "with open(\"data/02.a.Detail_Incident.csv\",'w') as f:\n",
    "    df.to_csv(f, index=False)"
   ]
  },
  {
   "cell_type": "code",
   "execution_count": 55,
   "metadata": {},
   "outputs": [],
   "source": [
    "df.reset_index(drop=True, inplace=True)\n",
    "profile = ProfileReport(df, title=\"Profile of BPIC 2014 Detail_Incident Data after Secondary Cleaning\", html={'style': {'full_width': True}})"
   ]
  },
  {
   "cell_type": "code",
   "execution_count": 56,
   "metadata": {},
   "outputs": [],
   "source": [
    "profile.to_file(Path(str(\"reports/02.b.Detail_Incident_Profile.html\")))"
   ]
  },
  {
   "cell_type": "code",
   "execution_count": null,
   "metadata": {},
   "outputs": [],
   "source": []
  }
 ],
 "metadata": {
  "file_extension": ".py",
  "kernelspec": {
   "display_name": "Python 3",
   "language": "python",
   "name": "python3"
  },
  "language_info": {
   "codemirror_mode": {
    "name": "ipython",
    "version": 3
   },
   "file_extension": ".py",
   "mimetype": "text/x-python",
   "name": "python",
   "nbconvert_exporter": "python",
   "pygments_lexer": "ipython3",
   "version": "3.7.6"
  },
  "mimetype": "text/x-python",
  "name": "python",
  "npconvert_exporter": "python",
  "pygments_lexer": "ipython3",
  "version": 3
 },
 "nbformat": 4,
 "nbformat_minor": 2
}
