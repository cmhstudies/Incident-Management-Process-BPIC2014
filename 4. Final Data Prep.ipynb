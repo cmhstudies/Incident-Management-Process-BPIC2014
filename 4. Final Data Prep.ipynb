{
 "nbformat": 4,
 "nbformat_minor": 2,
 "metadata": {
  "language_info": {
   "name": "python",
   "codemirror_mode": {
    "name": "ipython",
    "version": 3
   },
   "version": "3.7.4-final"
  },
  "orig_nbformat": 2,
  "file_extension": ".py",
  "mimetype": "text/x-python",
  "name": "python",
  "npconvert_exporter": "python",
  "pygments_lexer": "ipython3",
  "version": 3,
  "kernelspec": {
   "name": "python37464bitairbaseconda19ea8b859f254c1ab8191ac96e72d02e",
   "display_name": "Python 3.7.4 64-bit ('air-base': conda)"
  }
 },
 "cells": [
  {
   "cell_type": "code",
   "execution_count": 1,
   "metadata": {},
   "outputs": [],
   "source": [
    "import pandas as pd\n",
    "import numpy as np\n",
    "import seaborn as sns\n",
    "import matplotlib\n",
    "from matplotlib import pyplot as plt\n",
    "from pandas_profiling import ProfileReport\n",
    "from pathlib import Path\n"
   ]
  },
  {
   "cell_type": "code",
   "execution_count": 2,
   "metadata": {},
   "outputs": [],
   "source": [
    "pd.set_option('display.max_rows', None)\n",
    "pd.set_option('display.max_columns', None)\n",
    "pd.set_option('display.width', None)"
   ]
  },
  {
   "cell_type": "code",
   "execution_count": 3,
   "metadata": {},
   "outputs": [],
   "source": [
    "df = pd.read_csv(\"3.a.Detail_Incident.csv\", parse_dates=['Open_Time',  'Resolved_Time','Close_Time'])"
   ]
  },
  {
   "cell_type": "code",
   "execution_count": 4,
   "metadata": {},
   "outputs": [
    {
     "data": {
      "text/plain": "CI_Name_aff                           object\nCI_Type_aff                           object\nCI_Subtype_aff                        object\nService_Component_WBS_aff             object\nIncident_ID                           object\nImpact                                 int64\nUrgency                                int64\nPriority                               int64\nKM_number                             object\nCount_Reassignments                  float64\nOpen_Time                     datetime64[ns]\nResolved_Time                 datetime64[ns]\nClose_Time                    datetime64[ns]\nHandle_Time_Hours                    float64\nClosure_Code                          object\nCount_Related_Interactions           float64\nRelated_Interaction                   object\nCount_Related_Incidents              float64\nCount_Related_Changes                float64\nRelated_Change                        object\nCI_Name_CBy                           object\nCI_Type_CBy                           object\nCI_Subtype_CBy                        object\nServiceComp_WBS_CBy                   object\nReopenedFlag                           int64\nTimeToResolve_Minutes                float64\nSLAFail                                int64\ndtype: object"
     },
     "execution_count": 4,
     "metadata": {},
     "output_type": "execute_result"
    }
   ],
   "source": [
    "df.dtypes"
   ]
  },
  {
   "cell_type": "code",
   "execution_count": 5,
   "metadata": {},
   "outputs": [
    {
     "data": {
      "text/html": "<div>\n<style scoped>\n    .dataframe tbody tr th:only-of-type {\n        vertical-align: middle;\n    }\n\n    .dataframe tbody tr th {\n        vertical-align: top;\n    }\n\n    .dataframe thead th {\n        text-align: right;\n    }\n</style>\n<table border=\"1\" class=\"dataframe\">\n  <thead>\n    <tr style=\"text-align: right;\">\n      <th></th>\n      <th>CI_Name_aff</th>\n      <th>CI_Type_aff</th>\n      <th>CI_Subtype_aff</th>\n      <th>Service_Component_WBS_aff</th>\n      <th>Incident_ID</th>\n      <th>Impact</th>\n      <th>Urgency</th>\n      <th>Priority</th>\n      <th>KM_number</th>\n      <th>Count_Reassignments</th>\n      <th>Open_Time</th>\n      <th>Resolved_Time</th>\n      <th>Close_Time</th>\n      <th>Handle_Time_Hours</th>\n      <th>Closure_Code</th>\n      <th>Count_Related_Interactions</th>\n      <th>Related_Interaction</th>\n      <th>Count_Related_Incidents</th>\n      <th>Count_Related_Changes</th>\n      <th>Related_Change</th>\n      <th>CI_Name_CBy</th>\n      <th>CI_Type_CBy</th>\n      <th>CI_Subtype_CBy</th>\n      <th>ServiceComp_WBS_CBy</th>\n      <th>ReopenedFlag</th>\n      <th>TimeToResolve_Minutes</th>\n      <th>SLAFail</th>\n    </tr>\n  </thead>\n  <tbody>\n    <tr>\n      <td>0</td>\n      <td>APP000005</td>\n      <td>application</td>\n      <td>Citrix</td>\n      <td>WBS000292</td>\n      <td>IM0001224</td>\n      <td>4</td>\n      <td>4</td>\n      <td>4</td>\n      <td>KM0001060</td>\n      <td>0.0</td>\n      <td>2013-10-01 07:33:21</td>\n      <td>2013-10-01 08:36:09</td>\n      <td>2013-10-01 08:37:28</td>\n      <td>1.068611</td>\n      <td>Software</td>\n      <td>1.0</td>\n      <td>SD0001630</td>\n      <td>0.0</td>\n      <td>0.0</td>\n      <td>Not Applicable</td>\n      <td>APP000005</td>\n      <td>application</td>\n      <td>Citrix</td>\n      <td>WBS000292</td>\n      <td>0</td>\n      <td>62.800000</td>\n      <td>0</td>\n    </tr>\n    <tr>\n      <td>1</td>\n      <td>DSK000457</td>\n      <td>computer</td>\n      <td>Desktop</td>\n      <td>WBS000187</td>\n      <td>IM0001226</td>\n      <td>5</td>\n      <td>5</td>\n      <td>5</td>\n      <td>KM0001446</td>\n      <td>2.0</td>\n      <td>2013-10-01 08:18:38</td>\n      <td>2013-10-07 11:51:53</td>\n      <td>2013-10-07 11:52:00</td>\n      <td>45.556111</td>\n      <td>Hardware</td>\n      <td>1.0</td>\n      <td>SD0001635</td>\n      <td>0.0</td>\n      <td>0.0</td>\n      <td>Not Applicable</td>\n      <td>DSK000457</td>\n      <td>computer</td>\n      <td>Desktop</td>\n      <td>WBS000187</td>\n      <td>0</td>\n      <td>8853.250000</td>\n      <td>1</td>\n    </tr>\n    <tr>\n      <td>2</td>\n      <td>SBA000263</td>\n      <td>application</td>\n      <td>Server Based Application</td>\n      <td>WBS000072</td>\n      <td>IM0001229</td>\n      <td>5</td>\n      <td>5</td>\n      <td>5</td>\n      <td>KM0000644</td>\n      <td>12.0</td>\n      <td>2013-10-01 08:36:09</td>\n      <td>2013-10-07 16:55:08</td>\n      <td>2013-10-07 16:55:38</td>\n      <td>50.324722</td>\n      <td>Other</td>\n      <td>1.0</td>\n      <td>SD0001644</td>\n      <td>0.0</td>\n      <td>0.0</td>\n      <td>Not Applicable</td>\n      <td>#N/B</td>\n      <td>#N/B</td>\n      <td>#N/B</td>\n      <td>#N/B</td>\n      <td>0</td>\n      <td>9138.983333</td>\n      <td>1</td>\n    </tr>\n    <tr>\n      <td>3</td>\n      <td>SBA000154</td>\n      <td>application</td>\n      <td>Server Based Application</td>\n      <td>WBS000027</td>\n      <td>IM0001230</td>\n      <td>5</td>\n      <td>5</td>\n      <td>5</td>\n      <td>KM0001291</td>\n      <td>1.0</td>\n      <td>2013-10-01 08:39:37</td>\n      <td>2013-10-01 15:39:47</td>\n      <td>2013-10-01 15:39:51</td>\n      <td>7.003889</td>\n      <td>Other</td>\n      <td>1.0</td>\n      <td>SD0001640</td>\n      <td>0.0</td>\n      <td>0.0</td>\n      <td>Not Applicable</td>\n      <td>SBA000154</td>\n      <td>application</td>\n      <td>Server Based Application</td>\n      <td>WBS000027</td>\n      <td>0</td>\n      <td>420.166667</td>\n      <td>0</td>\n    </tr>\n    <tr>\n      <td>4</td>\n      <td>LAP000019</td>\n      <td>computer</td>\n      <td>Laptop</td>\n      <td>WBS000091</td>\n      <td>IM0001231</td>\n      <td>5</td>\n      <td>5</td>\n      <td>5</td>\n      <td>KM0000315</td>\n      <td>0.0</td>\n      <td>2013-10-01 08:40:00</td>\n      <td>2013-10-02 11:30:13</td>\n      <td>2013-10-02 11:30:19</td>\n      <td>0.020278</td>\n      <td>Other</td>\n      <td>1.0</td>\n      <td>SD0001638</td>\n      <td>0.0</td>\n      <td>0.0</td>\n      <td>Not Applicable</td>\n      <td>KYB000001</td>\n      <td>hardware</td>\n      <td>Keyboard</td>\n      <td>WBS000091</td>\n      <td>0</td>\n      <td>1610.216667</td>\n      <td>0</td>\n    </tr>\n  </tbody>\n</table>\n</div>",
      "text/plain": "  CI_Name_aff  CI_Type_aff            CI_Subtype_aff  \\\n0   APP000005  application                    Citrix   \n1   DSK000457     computer                   Desktop   \n2   SBA000263  application  Server Based Application   \n3   SBA000154  application  Server Based Application   \n4   LAP000019     computer                    Laptop   \n\n  Service_Component_WBS_aff Incident_ID  Impact  Urgency  Priority  KM_number  \\\n0                 WBS000292   IM0001224       4        4         4  KM0001060   \n1                 WBS000187   IM0001226       5        5         5  KM0001446   \n2                 WBS000072   IM0001229       5        5         5  KM0000644   \n3                 WBS000027   IM0001230       5        5         5  KM0001291   \n4                 WBS000091   IM0001231       5        5         5  KM0000315   \n\n   Count_Reassignments           Open_Time       Resolved_Time  \\\n0                  0.0 2013-10-01 07:33:21 2013-10-01 08:36:09   \n1                  2.0 2013-10-01 08:18:38 2013-10-07 11:51:53   \n2                 12.0 2013-10-01 08:36:09 2013-10-07 16:55:08   \n3                  1.0 2013-10-01 08:39:37 2013-10-01 15:39:47   \n4                  0.0 2013-10-01 08:40:00 2013-10-02 11:30:13   \n\n           Close_Time  Handle_Time_Hours Closure_Code  \\\n0 2013-10-01 08:37:28           1.068611     Software   \n1 2013-10-07 11:52:00          45.556111     Hardware   \n2 2013-10-07 16:55:38          50.324722        Other   \n3 2013-10-01 15:39:51           7.003889        Other   \n4 2013-10-02 11:30:19           0.020278        Other   \n\n   Count_Related_Interactions Related_Interaction  Count_Related_Incidents  \\\n0                         1.0           SD0001630                      0.0   \n1                         1.0           SD0001635                      0.0   \n2                         1.0           SD0001644                      0.0   \n3                         1.0           SD0001640                      0.0   \n4                         1.0           SD0001638                      0.0   \n\n   Count_Related_Changes  Related_Change CI_Name_CBy  CI_Type_CBy  \\\n0                    0.0  Not Applicable   APP000005  application   \n1                    0.0  Not Applicable   DSK000457     computer   \n2                    0.0  Not Applicable        #N/B         #N/B   \n3                    0.0  Not Applicable   SBA000154  application   \n4                    0.0  Not Applicable   KYB000001     hardware   \n\n             CI_Subtype_CBy ServiceComp_WBS_CBy  ReopenedFlag  \\\n0                    Citrix           WBS000292             0   \n1                   Desktop           WBS000187             0   \n2                      #N/B                #N/B             0   \n3  Server Based Application           WBS000027             0   \n4                  Keyboard           WBS000091             0   \n\n   TimeToResolve_Minutes  SLAFail  \n0              62.800000        0  \n1            8853.250000        1  \n2            9138.983333        1  \n3             420.166667        0  \n4            1610.216667        0  "
     },
     "execution_count": 5,
     "metadata": {},
     "output_type": "execute_result"
    }
   ],
   "source": [
    "df.head()"
   ]
  },
  {
   "cell_type": "code",
   "execution_count": 6,
   "metadata": {},
   "outputs": [
    {
     "data": {
      "text/plain": "4    21120\n5     7962\n3     5721\n2      402\n1        3\nName: Priority, dtype: int64"
     },
     "execution_count": 6,
     "metadata": {},
     "output_type": "execute_result"
    }
   ],
   "source": [
    "df.Priority.value_counts()"
   ]
  },
  {
   "cell_type": "code",
   "execution_count": 7,
   "metadata": {},
   "outputs": [],
   "source": [
    "df[\"Priority\"] = pd.cut(x=df['Priority'], bins=[-1,1,2,3,4,5], labels=[\"1 Very High\", \"2 High\", \"3 Medium\", \"4 Low\", \"5 Very Low\"])\n",
    "\n"
   ]
  },
  {
   "cell_type": "code",
   "execution_count": 8,
   "metadata": {},
   "outputs": [
    {
     "data": {
      "text/plain": "4 Low          21120\n5 Very Low      7962\n3 Medium        5721\n2 High           402\n1 Very High        3\nName: Priority, dtype: int64"
     },
     "execution_count": 8,
     "metadata": {},
     "output_type": "execute_result"
    }
   ],
   "source": [
    "df.Priority.value_counts()"
   ]
  },
  {
   "cell_type": "code",
   "execution_count": 9,
   "metadata": {},
   "outputs": [],
   "source": [
    "df['Open_Time_HourOfDay'] = df.Open_Time.dt.hour\n",
    "df['Resolved_Time_HourOfDay'] = df.Resolved_Time.dt.hour\n",
    "df['Close_Time_HourOfDay'] = df.Close_Time.dt.hour"
   ]
  },
  {
   "cell_type": "code",
   "execution_count": 10,
   "metadata": {},
   "outputs": [
    {
     "data": {
      "text/html": "<div>\n<style scoped>\n    .dataframe tbody tr th:only-of-type {\n        vertical-align: middle;\n    }\n\n    .dataframe tbody tr th {\n        vertical-align: top;\n    }\n\n    .dataframe thead th {\n        text-align: right;\n    }\n</style>\n<table border=\"1\" class=\"dataframe\">\n  <thead>\n    <tr style=\"text-align: right;\">\n      <th></th>\n      <th>CI_Name_aff</th>\n      <th>CI_Type_aff</th>\n      <th>CI_Subtype_aff</th>\n      <th>Service_Component_WBS_aff</th>\n      <th>Incident_ID</th>\n      <th>Impact</th>\n      <th>Urgency</th>\n      <th>Priority</th>\n      <th>KM_number</th>\n      <th>Count_Reassignments</th>\n      <th>Open_Time</th>\n      <th>Resolved_Time</th>\n      <th>Close_Time</th>\n      <th>Handle_Time_Hours</th>\n      <th>Closure_Code</th>\n      <th>Count_Related_Interactions</th>\n      <th>Related_Interaction</th>\n      <th>Count_Related_Incidents</th>\n      <th>Count_Related_Changes</th>\n      <th>Related_Change</th>\n      <th>CI_Name_CBy</th>\n      <th>CI_Type_CBy</th>\n      <th>CI_Subtype_CBy</th>\n      <th>ServiceComp_WBS_CBy</th>\n      <th>ReopenedFlag</th>\n      <th>TimeToResolve_Minutes</th>\n      <th>SLAFail</th>\n      <th>Open_Time_HourOfDay</th>\n      <th>Resolved_Time_HourOfDay</th>\n      <th>Close_Time_HourOfDay</th>\n    </tr>\n  </thead>\n  <tbody>\n    <tr>\n      <td>0</td>\n      <td>APP000005</td>\n      <td>application</td>\n      <td>Citrix</td>\n      <td>WBS000292</td>\n      <td>IM0001224</td>\n      <td>4</td>\n      <td>4</td>\n      <td>4 Low</td>\n      <td>KM0001060</td>\n      <td>0.0</td>\n      <td>2013-10-01 07:33:21</td>\n      <td>2013-10-01 08:36:09</td>\n      <td>2013-10-01 08:37:28</td>\n      <td>1.068611</td>\n      <td>Software</td>\n      <td>1.0</td>\n      <td>SD0001630</td>\n      <td>0.0</td>\n      <td>0.0</td>\n      <td>Not Applicable</td>\n      <td>APP000005</td>\n      <td>application</td>\n      <td>Citrix</td>\n      <td>WBS000292</td>\n      <td>0</td>\n      <td>62.800000</td>\n      <td>0</td>\n      <td>7</td>\n      <td>8</td>\n      <td>8</td>\n    </tr>\n    <tr>\n      <td>1</td>\n      <td>DSK000457</td>\n      <td>computer</td>\n      <td>Desktop</td>\n      <td>WBS000187</td>\n      <td>IM0001226</td>\n      <td>5</td>\n      <td>5</td>\n      <td>5 Very Low</td>\n      <td>KM0001446</td>\n      <td>2.0</td>\n      <td>2013-10-01 08:18:38</td>\n      <td>2013-10-07 11:51:53</td>\n      <td>2013-10-07 11:52:00</td>\n      <td>45.556111</td>\n      <td>Hardware</td>\n      <td>1.0</td>\n      <td>SD0001635</td>\n      <td>0.0</td>\n      <td>0.0</td>\n      <td>Not Applicable</td>\n      <td>DSK000457</td>\n      <td>computer</td>\n      <td>Desktop</td>\n      <td>WBS000187</td>\n      <td>0</td>\n      <td>8853.250000</td>\n      <td>1</td>\n      <td>8</td>\n      <td>11</td>\n      <td>11</td>\n    </tr>\n    <tr>\n      <td>2</td>\n      <td>SBA000263</td>\n      <td>application</td>\n      <td>Server Based Application</td>\n      <td>WBS000072</td>\n      <td>IM0001229</td>\n      <td>5</td>\n      <td>5</td>\n      <td>5 Very Low</td>\n      <td>KM0000644</td>\n      <td>12.0</td>\n      <td>2013-10-01 08:36:09</td>\n      <td>2013-10-07 16:55:08</td>\n      <td>2013-10-07 16:55:38</td>\n      <td>50.324722</td>\n      <td>Other</td>\n      <td>1.0</td>\n      <td>SD0001644</td>\n      <td>0.0</td>\n      <td>0.0</td>\n      <td>Not Applicable</td>\n      <td>#N/B</td>\n      <td>#N/B</td>\n      <td>#N/B</td>\n      <td>#N/B</td>\n      <td>0</td>\n      <td>9138.983333</td>\n      <td>1</td>\n      <td>8</td>\n      <td>16</td>\n      <td>16</td>\n    </tr>\n    <tr>\n      <td>3</td>\n      <td>SBA000154</td>\n      <td>application</td>\n      <td>Server Based Application</td>\n      <td>WBS000027</td>\n      <td>IM0001230</td>\n      <td>5</td>\n      <td>5</td>\n      <td>5 Very Low</td>\n      <td>KM0001291</td>\n      <td>1.0</td>\n      <td>2013-10-01 08:39:37</td>\n      <td>2013-10-01 15:39:47</td>\n      <td>2013-10-01 15:39:51</td>\n      <td>7.003889</td>\n      <td>Other</td>\n      <td>1.0</td>\n      <td>SD0001640</td>\n      <td>0.0</td>\n      <td>0.0</td>\n      <td>Not Applicable</td>\n      <td>SBA000154</td>\n      <td>application</td>\n      <td>Server Based Application</td>\n      <td>WBS000027</td>\n      <td>0</td>\n      <td>420.166667</td>\n      <td>0</td>\n      <td>8</td>\n      <td>15</td>\n      <td>15</td>\n    </tr>\n    <tr>\n      <td>4</td>\n      <td>LAP000019</td>\n      <td>computer</td>\n      <td>Laptop</td>\n      <td>WBS000091</td>\n      <td>IM0001231</td>\n      <td>5</td>\n      <td>5</td>\n      <td>5 Very Low</td>\n      <td>KM0000315</td>\n      <td>0.0</td>\n      <td>2013-10-01 08:40:00</td>\n      <td>2013-10-02 11:30:13</td>\n      <td>2013-10-02 11:30:19</td>\n      <td>0.020278</td>\n      <td>Other</td>\n      <td>1.0</td>\n      <td>SD0001638</td>\n      <td>0.0</td>\n      <td>0.0</td>\n      <td>Not Applicable</td>\n      <td>KYB000001</td>\n      <td>hardware</td>\n      <td>Keyboard</td>\n      <td>WBS000091</td>\n      <td>0</td>\n      <td>1610.216667</td>\n      <td>0</td>\n      <td>8</td>\n      <td>11</td>\n      <td>11</td>\n    </tr>\n  </tbody>\n</table>\n</div>",
      "text/plain": "  CI_Name_aff  CI_Type_aff            CI_Subtype_aff  \\\n0   APP000005  application                    Citrix   \n1   DSK000457     computer                   Desktop   \n2   SBA000263  application  Server Based Application   \n3   SBA000154  application  Server Based Application   \n4   LAP000019     computer                    Laptop   \n\n  Service_Component_WBS_aff Incident_ID  Impact  Urgency    Priority  \\\n0                 WBS000292   IM0001224       4        4       4 Low   \n1                 WBS000187   IM0001226       5        5  5 Very Low   \n2                 WBS000072   IM0001229       5        5  5 Very Low   \n3                 WBS000027   IM0001230       5        5  5 Very Low   \n4                 WBS000091   IM0001231       5        5  5 Very Low   \n\n   KM_number  Count_Reassignments           Open_Time       Resolved_Time  \\\n0  KM0001060                  0.0 2013-10-01 07:33:21 2013-10-01 08:36:09   \n1  KM0001446                  2.0 2013-10-01 08:18:38 2013-10-07 11:51:53   \n2  KM0000644                 12.0 2013-10-01 08:36:09 2013-10-07 16:55:08   \n3  KM0001291                  1.0 2013-10-01 08:39:37 2013-10-01 15:39:47   \n4  KM0000315                  0.0 2013-10-01 08:40:00 2013-10-02 11:30:13   \n\n           Close_Time  Handle_Time_Hours Closure_Code  \\\n0 2013-10-01 08:37:28           1.068611     Software   \n1 2013-10-07 11:52:00          45.556111     Hardware   \n2 2013-10-07 16:55:38          50.324722        Other   \n3 2013-10-01 15:39:51           7.003889        Other   \n4 2013-10-02 11:30:19           0.020278        Other   \n\n   Count_Related_Interactions Related_Interaction  Count_Related_Incidents  \\\n0                         1.0           SD0001630                      0.0   \n1                         1.0           SD0001635                      0.0   \n2                         1.0           SD0001644                      0.0   \n3                         1.0           SD0001640                      0.0   \n4                         1.0           SD0001638                      0.0   \n\n   Count_Related_Changes  Related_Change CI_Name_CBy  CI_Type_CBy  \\\n0                    0.0  Not Applicable   APP000005  application   \n1                    0.0  Not Applicable   DSK000457     computer   \n2                    0.0  Not Applicable        #N/B         #N/B   \n3                    0.0  Not Applicable   SBA000154  application   \n4                    0.0  Not Applicable   KYB000001     hardware   \n\n             CI_Subtype_CBy ServiceComp_WBS_CBy  ReopenedFlag  \\\n0                    Citrix           WBS000292             0   \n1                   Desktop           WBS000187             0   \n2                      #N/B                #N/B             0   \n3  Server Based Application           WBS000027             0   \n4                  Keyboard           WBS000091             0   \n\n   TimeToResolve_Minutes  SLAFail  Open_Time_HourOfDay  \\\n0              62.800000        0                    7   \n1            8853.250000        1                    8   \n2            9138.983333        1                    8   \n3             420.166667        0                    8   \n4            1610.216667        0                    8   \n\n   Resolved_Time_HourOfDay  Close_Time_HourOfDay  \n0                        8                     8  \n1                       11                    11  \n2                       16                    16  \n3                       15                    15  \n4                       11                    11  "
     },
     "execution_count": 10,
     "metadata": {},
     "output_type": "execute_result"
    }
   ],
   "source": [
    "df.head()"
   ]
  },
  {
   "cell_type": "code",
   "execution_count": 11,
   "metadata": {},
   "outputs": [],
   "source": [
    "df['Open_Time_DayOfWeek'] = df.Open_Time.dt.day_name()\n",
    "df['Resolved_Time_DayOfWeek'] = df.Resolved_Time.dt.day_name()\n",
    "df['Close_Time_DayOfWeek'] = df.Close_Time.dt.day_name()"
   ]
  },
  {
   "cell_type": "code",
   "execution_count": 12,
   "metadata": {},
   "outputs": [
    {
     "data": {
      "text/html": "<div>\n<style scoped>\n    .dataframe tbody tr th:only-of-type {\n        vertical-align: middle;\n    }\n\n    .dataframe tbody tr th {\n        vertical-align: top;\n    }\n\n    .dataframe thead th {\n        text-align: right;\n    }\n</style>\n<table border=\"1\" class=\"dataframe\">\n  <thead>\n    <tr style=\"text-align: right;\">\n      <th></th>\n      <th>CI_Name_aff</th>\n      <th>CI_Type_aff</th>\n      <th>CI_Subtype_aff</th>\n      <th>Service_Component_WBS_aff</th>\n      <th>Incident_ID</th>\n      <th>Impact</th>\n      <th>Urgency</th>\n      <th>Priority</th>\n      <th>KM_number</th>\n      <th>Count_Reassignments</th>\n      <th>Open_Time</th>\n      <th>Resolved_Time</th>\n      <th>Close_Time</th>\n      <th>Handle_Time_Hours</th>\n      <th>Closure_Code</th>\n      <th>Count_Related_Interactions</th>\n      <th>Related_Interaction</th>\n      <th>Count_Related_Incidents</th>\n      <th>Count_Related_Changes</th>\n      <th>Related_Change</th>\n      <th>CI_Name_CBy</th>\n      <th>CI_Type_CBy</th>\n      <th>CI_Subtype_CBy</th>\n      <th>ServiceComp_WBS_CBy</th>\n      <th>ReopenedFlag</th>\n      <th>TimeToResolve_Minutes</th>\n      <th>SLAFail</th>\n      <th>Open_Time_HourOfDay</th>\n      <th>Resolved_Time_HourOfDay</th>\n      <th>Close_Time_HourOfDay</th>\n      <th>Open_Time_DayOfWeek</th>\n      <th>Resolved_Time_DayOfWeek</th>\n      <th>Close_Time_DayOfWeek</th>\n    </tr>\n  </thead>\n  <tbody>\n    <tr>\n      <td>0</td>\n      <td>APP000005</td>\n      <td>application</td>\n      <td>Citrix</td>\n      <td>WBS000292</td>\n      <td>IM0001224</td>\n      <td>4</td>\n      <td>4</td>\n      <td>4 Low</td>\n      <td>KM0001060</td>\n      <td>0.0</td>\n      <td>2013-10-01 07:33:21</td>\n      <td>2013-10-01 08:36:09</td>\n      <td>2013-10-01 08:37:28</td>\n      <td>1.068611</td>\n      <td>Software</td>\n      <td>1.0</td>\n      <td>SD0001630</td>\n      <td>0.0</td>\n      <td>0.0</td>\n      <td>Not Applicable</td>\n      <td>APP000005</td>\n      <td>application</td>\n      <td>Citrix</td>\n      <td>WBS000292</td>\n      <td>0</td>\n      <td>62.800000</td>\n      <td>0</td>\n      <td>7</td>\n      <td>8</td>\n      <td>8</td>\n      <td>Tuesday</td>\n      <td>Tuesday</td>\n      <td>Tuesday</td>\n    </tr>\n    <tr>\n      <td>1</td>\n      <td>DSK000457</td>\n      <td>computer</td>\n      <td>Desktop</td>\n      <td>WBS000187</td>\n      <td>IM0001226</td>\n      <td>5</td>\n      <td>5</td>\n      <td>5 Very Low</td>\n      <td>KM0001446</td>\n      <td>2.0</td>\n      <td>2013-10-01 08:18:38</td>\n      <td>2013-10-07 11:51:53</td>\n      <td>2013-10-07 11:52:00</td>\n      <td>45.556111</td>\n      <td>Hardware</td>\n      <td>1.0</td>\n      <td>SD0001635</td>\n      <td>0.0</td>\n      <td>0.0</td>\n      <td>Not Applicable</td>\n      <td>DSK000457</td>\n      <td>computer</td>\n      <td>Desktop</td>\n      <td>WBS000187</td>\n      <td>0</td>\n      <td>8853.250000</td>\n      <td>1</td>\n      <td>8</td>\n      <td>11</td>\n      <td>11</td>\n      <td>Tuesday</td>\n      <td>Monday</td>\n      <td>Monday</td>\n    </tr>\n    <tr>\n      <td>2</td>\n      <td>SBA000263</td>\n      <td>application</td>\n      <td>Server Based Application</td>\n      <td>WBS000072</td>\n      <td>IM0001229</td>\n      <td>5</td>\n      <td>5</td>\n      <td>5 Very Low</td>\n      <td>KM0000644</td>\n      <td>12.0</td>\n      <td>2013-10-01 08:36:09</td>\n      <td>2013-10-07 16:55:08</td>\n      <td>2013-10-07 16:55:38</td>\n      <td>50.324722</td>\n      <td>Other</td>\n      <td>1.0</td>\n      <td>SD0001644</td>\n      <td>0.0</td>\n      <td>0.0</td>\n      <td>Not Applicable</td>\n      <td>#N/B</td>\n      <td>#N/B</td>\n      <td>#N/B</td>\n      <td>#N/B</td>\n      <td>0</td>\n      <td>9138.983333</td>\n      <td>1</td>\n      <td>8</td>\n      <td>16</td>\n      <td>16</td>\n      <td>Tuesday</td>\n      <td>Monday</td>\n      <td>Monday</td>\n    </tr>\n    <tr>\n      <td>3</td>\n      <td>SBA000154</td>\n      <td>application</td>\n      <td>Server Based Application</td>\n      <td>WBS000027</td>\n      <td>IM0001230</td>\n      <td>5</td>\n      <td>5</td>\n      <td>5 Very Low</td>\n      <td>KM0001291</td>\n      <td>1.0</td>\n      <td>2013-10-01 08:39:37</td>\n      <td>2013-10-01 15:39:47</td>\n      <td>2013-10-01 15:39:51</td>\n      <td>7.003889</td>\n      <td>Other</td>\n      <td>1.0</td>\n      <td>SD0001640</td>\n      <td>0.0</td>\n      <td>0.0</td>\n      <td>Not Applicable</td>\n      <td>SBA000154</td>\n      <td>application</td>\n      <td>Server Based Application</td>\n      <td>WBS000027</td>\n      <td>0</td>\n      <td>420.166667</td>\n      <td>0</td>\n      <td>8</td>\n      <td>15</td>\n      <td>15</td>\n      <td>Tuesday</td>\n      <td>Tuesday</td>\n      <td>Tuesday</td>\n    </tr>\n    <tr>\n      <td>4</td>\n      <td>LAP000019</td>\n      <td>computer</td>\n      <td>Laptop</td>\n      <td>WBS000091</td>\n      <td>IM0001231</td>\n      <td>5</td>\n      <td>5</td>\n      <td>5 Very Low</td>\n      <td>KM0000315</td>\n      <td>0.0</td>\n      <td>2013-10-01 08:40:00</td>\n      <td>2013-10-02 11:30:13</td>\n      <td>2013-10-02 11:30:19</td>\n      <td>0.020278</td>\n      <td>Other</td>\n      <td>1.0</td>\n      <td>SD0001638</td>\n      <td>0.0</td>\n      <td>0.0</td>\n      <td>Not Applicable</td>\n      <td>KYB000001</td>\n      <td>hardware</td>\n      <td>Keyboard</td>\n      <td>WBS000091</td>\n      <td>0</td>\n      <td>1610.216667</td>\n      <td>0</td>\n      <td>8</td>\n      <td>11</td>\n      <td>11</td>\n      <td>Tuesday</td>\n      <td>Wednesday</td>\n      <td>Wednesday</td>\n    </tr>\n  </tbody>\n</table>\n</div>",
      "text/plain": "  CI_Name_aff  CI_Type_aff            CI_Subtype_aff  \\\n0   APP000005  application                    Citrix   \n1   DSK000457     computer                   Desktop   \n2   SBA000263  application  Server Based Application   \n3   SBA000154  application  Server Based Application   \n4   LAP000019     computer                    Laptop   \n\n  Service_Component_WBS_aff Incident_ID  Impact  Urgency    Priority  \\\n0                 WBS000292   IM0001224       4        4       4 Low   \n1                 WBS000187   IM0001226       5        5  5 Very Low   \n2                 WBS000072   IM0001229       5        5  5 Very Low   \n3                 WBS000027   IM0001230       5        5  5 Very Low   \n4                 WBS000091   IM0001231       5        5  5 Very Low   \n\n   KM_number  Count_Reassignments           Open_Time       Resolved_Time  \\\n0  KM0001060                  0.0 2013-10-01 07:33:21 2013-10-01 08:36:09   \n1  KM0001446                  2.0 2013-10-01 08:18:38 2013-10-07 11:51:53   \n2  KM0000644                 12.0 2013-10-01 08:36:09 2013-10-07 16:55:08   \n3  KM0001291                  1.0 2013-10-01 08:39:37 2013-10-01 15:39:47   \n4  KM0000315                  0.0 2013-10-01 08:40:00 2013-10-02 11:30:13   \n\n           Close_Time  Handle_Time_Hours Closure_Code  \\\n0 2013-10-01 08:37:28           1.068611     Software   \n1 2013-10-07 11:52:00          45.556111     Hardware   \n2 2013-10-07 16:55:38          50.324722        Other   \n3 2013-10-01 15:39:51           7.003889        Other   \n4 2013-10-02 11:30:19           0.020278        Other   \n\n   Count_Related_Interactions Related_Interaction  Count_Related_Incidents  \\\n0                         1.0           SD0001630                      0.0   \n1                         1.0           SD0001635                      0.0   \n2                         1.0           SD0001644                      0.0   \n3                         1.0           SD0001640                      0.0   \n4                         1.0           SD0001638                      0.0   \n\n   Count_Related_Changes  Related_Change CI_Name_CBy  CI_Type_CBy  \\\n0                    0.0  Not Applicable   APP000005  application   \n1                    0.0  Not Applicable   DSK000457     computer   \n2                    0.0  Not Applicable        #N/B         #N/B   \n3                    0.0  Not Applicable   SBA000154  application   \n4                    0.0  Not Applicable   KYB000001     hardware   \n\n             CI_Subtype_CBy ServiceComp_WBS_CBy  ReopenedFlag  \\\n0                    Citrix           WBS000292             0   \n1                   Desktop           WBS000187             0   \n2                      #N/B                #N/B             0   \n3  Server Based Application           WBS000027             0   \n4                  Keyboard           WBS000091             0   \n\n   TimeToResolve_Minutes  SLAFail  Open_Time_HourOfDay  \\\n0              62.800000        0                    7   \n1            8853.250000        1                    8   \n2            9138.983333        1                    8   \n3             420.166667        0                    8   \n4            1610.216667        0                    8   \n\n   Resolved_Time_HourOfDay  Close_Time_HourOfDay Open_Time_DayOfWeek  \\\n0                        8                     8             Tuesday   \n1                       11                    11             Tuesday   \n2                       16                    16             Tuesday   \n3                       15                    15             Tuesday   \n4                       11                    11             Tuesday   \n\n  Resolved_Time_DayOfWeek Close_Time_DayOfWeek  \n0                 Tuesday              Tuesday  \n1                  Monday               Monday  \n2                  Monday               Monday  \n3                 Tuesday              Tuesday  \n4               Wednesday            Wednesday  "
     },
     "execution_count": 12,
     "metadata": {},
     "output_type": "execute_result"
    }
   ],
   "source": [
    "df.head()"
   ]
  },
  {
   "cell_type": "code",
   "execution_count": 13,
   "metadata": {},
   "outputs": [],
   "source": [
    "df['OpenShift'] = pd.cut(x=df['Open_Time_HourOfDay'], bins=[-1, 8, 16, 25], labels=['Night','Day','Evening'])\n",
    "df['ResolvedShift'] = pd.cut(x=df['Resolved_Time_HourOfDay'], bins=[-1, 8, 16, 25], labels=['Night','Day','Evening'])\n",
    "df['CloseShift'] = pd.cut(x=df['Close_Time_HourOfDay'], bins=[-1, 8, 16, 25], labels=['Night','Day','Evening'])"
   ]
  },
  {
   "cell_type": "code",
   "execution_count": 14,
   "metadata": {},
   "outputs": [
    {
     "data": {
      "text/html": "<div>\n<style scoped>\n    .dataframe tbody tr th:only-of-type {\n        vertical-align: middle;\n    }\n\n    .dataframe tbody tr th {\n        vertical-align: top;\n    }\n\n    .dataframe thead th {\n        text-align: right;\n    }\n</style>\n<table border=\"1\" class=\"dataframe\">\n  <thead>\n    <tr style=\"text-align: right;\">\n      <th></th>\n      <th>CI_Name_aff</th>\n      <th>CI_Type_aff</th>\n      <th>CI_Subtype_aff</th>\n      <th>Service_Component_WBS_aff</th>\n      <th>Incident_ID</th>\n      <th>Impact</th>\n      <th>Urgency</th>\n      <th>Priority</th>\n      <th>KM_number</th>\n      <th>Count_Reassignments</th>\n      <th>Open_Time</th>\n      <th>Resolved_Time</th>\n      <th>Close_Time</th>\n      <th>Handle_Time_Hours</th>\n      <th>Closure_Code</th>\n      <th>Count_Related_Interactions</th>\n      <th>Related_Interaction</th>\n      <th>Count_Related_Incidents</th>\n      <th>Count_Related_Changes</th>\n      <th>Related_Change</th>\n      <th>CI_Name_CBy</th>\n      <th>CI_Type_CBy</th>\n      <th>CI_Subtype_CBy</th>\n      <th>ServiceComp_WBS_CBy</th>\n      <th>ReopenedFlag</th>\n      <th>TimeToResolve_Minutes</th>\n      <th>SLAFail</th>\n      <th>Open_Time_HourOfDay</th>\n      <th>Resolved_Time_HourOfDay</th>\n      <th>Close_Time_HourOfDay</th>\n      <th>Open_Time_DayOfWeek</th>\n      <th>Resolved_Time_DayOfWeek</th>\n      <th>Close_Time_DayOfWeek</th>\n      <th>OpenShift</th>\n      <th>ResolvedShift</th>\n      <th>CloseShift</th>\n    </tr>\n  </thead>\n  <tbody>\n    <tr>\n      <td>0</td>\n      <td>APP000005</td>\n      <td>application</td>\n      <td>Citrix</td>\n      <td>WBS000292</td>\n      <td>IM0001224</td>\n      <td>4</td>\n      <td>4</td>\n      <td>4 Low</td>\n      <td>KM0001060</td>\n      <td>0.0</td>\n      <td>2013-10-01 07:33:21</td>\n      <td>2013-10-01 08:36:09</td>\n      <td>2013-10-01 08:37:28</td>\n      <td>1.068611</td>\n      <td>Software</td>\n      <td>1.0</td>\n      <td>SD0001630</td>\n      <td>0.0</td>\n      <td>0.0</td>\n      <td>Not Applicable</td>\n      <td>APP000005</td>\n      <td>application</td>\n      <td>Citrix</td>\n      <td>WBS000292</td>\n      <td>0</td>\n      <td>62.800000</td>\n      <td>0</td>\n      <td>7</td>\n      <td>8</td>\n      <td>8</td>\n      <td>Tuesday</td>\n      <td>Tuesday</td>\n      <td>Tuesday</td>\n      <td>Night</td>\n      <td>Night</td>\n      <td>Night</td>\n    </tr>\n    <tr>\n      <td>1</td>\n      <td>DSK000457</td>\n      <td>computer</td>\n      <td>Desktop</td>\n      <td>WBS000187</td>\n      <td>IM0001226</td>\n      <td>5</td>\n      <td>5</td>\n      <td>5 Very Low</td>\n      <td>KM0001446</td>\n      <td>2.0</td>\n      <td>2013-10-01 08:18:38</td>\n      <td>2013-10-07 11:51:53</td>\n      <td>2013-10-07 11:52:00</td>\n      <td>45.556111</td>\n      <td>Hardware</td>\n      <td>1.0</td>\n      <td>SD0001635</td>\n      <td>0.0</td>\n      <td>0.0</td>\n      <td>Not Applicable</td>\n      <td>DSK000457</td>\n      <td>computer</td>\n      <td>Desktop</td>\n      <td>WBS000187</td>\n      <td>0</td>\n      <td>8853.250000</td>\n      <td>1</td>\n      <td>8</td>\n      <td>11</td>\n      <td>11</td>\n      <td>Tuesday</td>\n      <td>Monday</td>\n      <td>Monday</td>\n      <td>Night</td>\n      <td>Day</td>\n      <td>Day</td>\n    </tr>\n    <tr>\n      <td>2</td>\n      <td>SBA000263</td>\n      <td>application</td>\n      <td>Server Based Application</td>\n      <td>WBS000072</td>\n      <td>IM0001229</td>\n      <td>5</td>\n      <td>5</td>\n      <td>5 Very Low</td>\n      <td>KM0000644</td>\n      <td>12.0</td>\n      <td>2013-10-01 08:36:09</td>\n      <td>2013-10-07 16:55:08</td>\n      <td>2013-10-07 16:55:38</td>\n      <td>50.324722</td>\n      <td>Other</td>\n      <td>1.0</td>\n      <td>SD0001644</td>\n      <td>0.0</td>\n      <td>0.0</td>\n      <td>Not Applicable</td>\n      <td>#N/B</td>\n      <td>#N/B</td>\n      <td>#N/B</td>\n      <td>#N/B</td>\n      <td>0</td>\n      <td>9138.983333</td>\n      <td>1</td>\n      <td>8</td>\n      <td>16</td>\n      <td>16</td>\n      <td>Tuesday</td>\n      <td>Monday</td>\n      <td>Monday</td>\n      <td>Night</td>\n      <td>Day</td>\n      <td>Day</td>\n    </tr>\n    <tr>\n      <td>3</td>\n      <td>SBA000154</td>\n      <td>application</td>\n      <td>Server Based Application</td>\n      <td>WBS000027</td>\n      <td>IM0001230</td>\n      <td>5</td>\n      <td>5</td>\n      <td>5 Very Low</td>\n      <td>KM0001291</td>\n      <td>1.0</td>\n      <td>2013-10-01 08:39:37</td>\n      <td>2013-10-01 15:39:47</td>\n      <td>2013-10-01 15:39:51</td>\n      <td>7.003889</td>\n      <td>Other</td>\n      <td>1.0</td>\n      <td>SD0001640</td>\n      <td>0.0</td>\n      <td>0.0</td>\n      <td>Not Applicable</td>\n      <td>SBA000154</td>\n      <td>application</td>\n      <td>Server Based Application</td>\n      <td>WBS000027</td>\n      <td>0</td>\n      <td>420.166667</td>\n      <td>0</td>\n      <td>8</td>\n      <td>15</td>\n      <td>15</td>\n      <td>Tuesday</td>\n      <td>Tuesday</td>\n      <td>Tuesday</td>\n      <td>Night</td>\n      <td>Day</td>\n      <td>Day</td>\n    </tr>\n    <tr>\n      <td>4</td>\n      <td>LAP000019</td>\n      <td>computer</td>\n      <td>Laptop</td>\n      <td>WBS000091</td>\n      <td>IM0001231</td>\n      <td>5</td>\n      <td>5</td>\n      <td>5 Very Low</td>\n      <td>KM0000315</td>\n      <td>0.0</td>\n      <td>2013-10-01 08:40:00</td>\n      <td>2013-10-02 11:30:13</td>\n      <td>2013-10-02 11:30:19</td>\n      <td>0.020278</td>\n      <td>Other</td>\n      <td>1.0</td>\n      <td>SD0001638</td>\n      <td>0.0</td>\n      <td>0.0</td>\n      <td>Not Applicable</td>\n      <td>KYB000001</td>\n      <td>hardware</td>\n      <td>Keyboard</td>\n      <td>WBS000091</td>\n      <td>0</td>\n      <td>1610.216667</td>\n      <td>0</td>\n      <td>8</td>\n      <td>11</td>\n      <td>11</td>\n      <td>Tuesday</td>\n      <td>Wednesday</td>\n      <td>Wednesday</td>\n      <td>Night</td>\n      <td>Day</td>\n      <td>Day</td>\n    </tr>\n  </tbody>\n</table>\n</div>",
      "text/plain": "  CI_Name_aff  CI_Type_aff            CI_Subtype_aff  \\\n0   APP000005  application                    Citrix   \n1   DSK000457     computer                   Desktop   \n2   SBA000263  application  Server Based Application   \n3   SBA000154  application  Server Based Application   \n4   LAP000019     computer                    Laptop   \n\n  Service_Component_WBS_aff Incident_ID  Impact  Urgency    Priority  \\\n0                 WBS000292   IM0001224       4        4       4 Low   \n1                 WBS000187   IM0001226       5        5  5 Very Low   \n2                 WBS000072   IM0001229       5        5  5 Very Low   \n3                 WBS000027   IM0001230       5        5  5 Very Low   \n4                 WBS000091   IM0001231       5        5  5 Very Low   \n\n   KM_number  Count_Reassignments           Open_Time       Resolved_Time  \\\n0  KM0001060                  0.0 2013-10-01 07:33:21 2013-10-01 08:36:09   \n1  KM0001446                  2.0 2013-10-01 08:18:38 2013-10-07 11:51:53   \n2  KM0000644                 12.0 2013-10-01 08:36:09 2013-10-07 16:55:08   \n3  KM0001291                  1.0 2013-10-01 08:39:37 2013-10-01 15:39:47   \n4  KM0000315                  0.0 2013-10-01 08:40:00 2013-10-02 11:30:13   \n\n           Close_Time  Handle_Time_Hours Closure_Code  \\\n0 2013-10-01 08:37:28           1.068611     Software   \n1 2013-10-07 11:52:00          45.556111     Hardware   \n2 2013-10-07 16:55:38          50.324722        Other   \n3 2013-10-01 15:39:51           7.003889        Other   \n4 2013-10-02 11:30:19           0.020278        Other   \n\n   Count_Related_Interactions Related_Interaction  Count_Related_Incidents  \\\n0                         1.0           SD0001630                      0.0   \n1                         1.0           SD0001635                      0.0   \n2                         1.0           SD0001644                      0.0   \n3                         1.0           SD0001640                      0.0   \n4                         1.0           SD0001638                      0.0   \n\n   Count_Related_Changes  Related_Change CI_Name_CBy  CI_Type_CBy  \\\n0                    0.0  Not Applicable   APP000005  application   \n1                    0.0  Not Applicable   DSK000457     computer   \n2                    0.0  Not Applicable        #N/B         #N/B   \n3                    0.0  Not Applicable   SBA000154  application   \n4                    0.0  Not Applicable   KYB000001     hardware   \n\n             CI_Subtype_CBy ServiceComp_WBS_CBy  ReopenedFlag  \\\n0                    Citrix           WBS000292             0   \n1                   Desktop           WBS000187             0   \n2                      #N/B                #N/B             0   \n3  Server Based Application           WBS000027             0   \n4                  Keyboard           WBS000091             0   \n\n   TimeToResolve_Minutes  SLAFail  Open_Time_HourOfDay  \\\n0              62.800000        0                    7   \n1            8853.250000        1                    8   \n2            9138.983333        1                    8   \n3             420.166667        0                    8   \n4            1610.216667        0                    8   \n\n   Resolved_Time_HourOfDay  Close_Time_HourOfDay Open_Time_DayOfWeek  \\\n0                        8                     8             Tuesday   \n1                       11                    11             Tuesday   \n2                       16                    16             Tuesday   \n3                       15                    15             Tuesday   \n4                       11                    11             Tuesday   \n\n  Resolved_Time_DayOfWeek Close_Time_DayOfWeek OpenShift ResolvedShift  \\\n0                 Tuesday              Tuesday     Night         Night   \n1                  Monday               Monday     Night           Day   \n2                  Monday               Monday     Night           Day   \n3                 Tuesday              Tuesday     Night           Day   \n4               Wednesday            Wednesday     Night           Day   \n\n  CloseShift  \n0      Night  \n1        Day  \n2        Day  \n3        Day  \n4        Day  "
     },
     "execution_count": 14,
     "metadata": {},
     "output_type": "execute_result"
    }
   ],
   "source": [
    "df.head()"
   ]
  },
  {
   "cell_type": "code",
   "execution_count": 15,
   "metadata": {},
   "outputs": [
    {
     "data": {
      "text/plain": "Index(['CI_Name_aff', 'CI_Type_aff', 'CI_Subtype_aff',\n       'Service_Component_WBS_aff', 'Incident_ID', 'Impact', 'Urgency',\n       'Priority', 'KM_number', 'Count_Reassignments', 'Open_Time',\n       'Resolved_Time', 'Close_Time', 'Handle_Time_Hours', 'Closure_Code',\n       'Count_Related_Interactions', 'Related_Interaction',\n       'Count_Related_Incidents', 'Count_Related_Changes', 'Related_Change',\n       'CI_Name_CBy', 'CI_Type_CBy', 'CI_Subtype_CBy', 'ServiceComp_WBS_CBy',\n       'ReopenedFlag', 'TimeToResolve_Minutes', 'SLAFail',\n       'Open_Time_HourOfDay', 'Resolved_Time_HourOfDay',\n       'Close_Time_HourOfDay', 'Open_Time_DayOfWeek',\n       'Resolved_Time_DayOfWeek', 'Close_Time_DayOfWeek', 'OpenShift',\n       'ResolvedShift', 'CloseShift'],\n      dtype='object')"
     },
     "execution_count": 15,
     "metadata": {},
     "output_type": "execute_result"
    }
   ],
   "source": [
    "df.columns"
   ]
  },
  {
   "cell_type": "code",
   "execution_count": 16,
   "metadata": {},
   "outputs": [],
   "source": [
    "df['CI_TypeSubType_aff'] = df.CI_Type_aff + \"-\" + df.CI_Subtype_aff\n",
    "df['CI_TypeSubType_CBy'] = df.CI_Type_CBy + \"-\" + df.CI_Subtype_CBy"
   ]
  },
  {
   "cell_type": "code",
   "execution_count": 17,
   "metadata": {},
   "outputs": [
    {
     "data": {
      "text/html": "<div>\n<style scoped>\n    .dataframe tbody tr th:only-of-type {\n        vertical-align: middle;\n    }\n\n    .dataframe tbody tr th {\n        vertical-align: top;\n    }\n\n    .dataframe thead th {\n        text-align: right;\n    }\n</style>\n<table border=\"1\" class=\"dataframe\">\n  <thead>\n    <tr style=\"text-align: right;\">\n      <th></th>\n      <th>CI_Name_aff</th>\n      <th>CI_Type_aff</th>\n      <th>CI_Subtype_aff</th>\n      <th>Service_Component_WBS_aff</th>\n      <th>Incident_ID</th>\n      <th>Impact</th>\n      <th>Urgency</th>\n      <th>Priority</th>\n      <th>KM_number</th>\n      <th>Count_Reassignments</th>\n      <th>Open_Time</th>\n      <th>Resolved_Time</th>\n      <th>Close_Time</th>\n      <th>Handle_Time_Hours</th>\n      <th>Closure_Code</th>\n      <th>Count_Related_Interactions</th>\n      <th>Related_Interaction</th>\n      <th>Count_Related_Incidents</th>\n      <th>Count_Related_Changes</th>\n      <th>Related_Change</th>\n      <th>CI_Name_CBy</th>\n      <th>CI_Type_CBy</th>\n      <th>CI_Subtype_CBy</th>\n      <th>ServiceComp_WBS_CBy</th>\n      <th>ReopenedFlag</th>\n      <th>TimeToResolve_Minutes</th>\n      <th>SLAFail</th>\n      <th>Open_Time_HourOfDay</th>\n      <th>Resolved_Time_HourOfDay</th>\n      <th>Close_Time_HourOfDay</th>\n      <th>Open_Time_DayOfWeek</th>\n      <th>Resolved_Time_DayOfWeek</th>\n      <th>Close_Time_DayOfWeek</th>\n      <th>OpenShift</th>\n      <th>ResolvedShift</th>\n      <th>CloseShift</th>\n      <th>CI_TypeSubType_aff</th>\n      <th>CI_TypeSubType_CBy</th>\n    </tr>\n  </thead>\n  <tbody>\n    <tr>\n      <td>0</td>\n      <td>APP000005</td>\n      <td>application</td>\n      <td>Citrix</td>\n      <td>WBS000292</td>\n      <td>IM0001224</td>\n      <td>4</td>\n      <td>4</td>\n      <td>4 Low</td>\n      <td>KM0001060</td>\n      <td>0.0</td>\n      <td>2013-10-01 07:33:21</td>\n      <td>2013-10-01 08:36:09</td>\n      <td>2013-10-01 08:37:28</td>\n      <td>1.068611</td>\n      <td>Software</td>\n      <td>1.0</td>\n      <td>SD0001630</td>\n      <td>0.0</td>\n      <td>0.0</td>\n      <td>Not Applicable</td>\n      <td>APP000005</td>\n      <td>application</td>\n      <td>Citrix</td>\n      <td>WBS000292</td>\n      <td>0</td>\n      <td>62.800000</td>\n      <td>0</td>\n      <td>7</td>\n      <td>8</td>\n      <td>8</td>\n      <td>Tuesday</td>\n      <td>Tuesday</td>\n      <td>Tuesday</td>\n      <td>Night</td>\n      <td>Night</td>\n      <td>Night</td>\n      <td>application-Citrix</td>\n      <td>application-Citrix</td>\n    </tr>\n    <tr>\n      <td>1</td>\n      <td>DSK000457</td>\n      <td>computer</td>\n      <td>Desktop</td>\n      <td>WBS000187</td>\n      <td>IM0001226</td>\n      <td>5</td>\n      <td>5</td>\n      <td>5 Very Low</td>\n      <td>KM0001446</td>\n      <td>2.0</td>\n      <td>2013-10-01 08:18:38</td>\n      <td>2013-10-07 11:51:53</td>\n      <td>2013-10-07 11:52:00</td>\n      <td>45.556111</td>\n      <td>Hardware</td>\n      <td>1.0</td>\n      <td>SD0001635</td>\n      <td>0.0</td>\n      <td>0.0</td>\n      <td>Not Applicable</td>\n      <td>DSK000457</td>\n      <td>computer</td>\n      <td>Desktop</td>\n      <td>WBS000187</td>\n      <td>0</td>\n      <td>8853.250000</td>\n      <td>1</td>\n      <td>8</td>\n      <td>11</td>\n      <td>11</td>\n      <td>Tuesday</td>\n      <td>Monday</td>\n      <td>Monday</td>\n      <td>Night</td>\n      <td>Day</td>\n      <td>Day</td>\n      <td>computer-Desktop</td>\n      <td>computer-Desktop</td>\n    </tr>\n    <tr>\n      <td>2</td>\n      <td>SBA000263</td>\n      <td>application</td>\n      <td>Server Based Application</td>\n      <td>WBS000072</td>\n      <td>IM0001229</td>\n      <td>5</td>\n      <td>5</td>\n      <td>5 Very Low</td>\n      <td>KM0000644</td>\n      <td>12.0</td>\n      <td>2013-10-01 08:36:09</td>\n      <td>2013-10-07 16:55:08</td>\n      <td>2013-10-07 16:55:38</td>\n      <td>50.324722</td>\n      <td>Other</td>\n      <td>1.0</td>\n      <td>SD0001644</td>\n      <td>0.0</td>\n      <td>0.0</td>\n      <td>Not Applicable</td>\n      <td>#N/B</td>\n      <td>#N/B</td>\n      <td>#N/B</td>\n      <td>#N/B</td>\n      <td>0</td>\n      <td>9138.983333</td>\n      <td>1</td>\n      <td>8</td>\n      <td>16</td>\n      <td>16</td>\n      <td>Tuesday</td>\n      <td>Monday</td>\n      <td>Monday</td>\n      <td>Night</td>\n      <td>Day</td>\n      <td>Day</td>\n      <td>application-Server Based Application</td>\n      <td>#N/B-#N/B</td>\n    </tr>\n    <tr>\n      <td>3</td>\n      <td>SBA000154</td>\n      <td>application</td>\n      <td>Server Based Application</td>\n      <td>WBS000027</td>\n      <td>IM0001230</td>\n      <td>5</td>\n      <td>5</td>\n      <td>5 Very Low</td>\n      <td>KM0001291</td>\n      <td>1.0</td>\n      <td>2013-10-01 08:39:37</td>\n      <td>2013-10-01 15:39:47</td>\n      <td>2013-10-01 15:39:51</td>\n      <td>7.003889</td>\n      <td>Other</td>\n      <td>1.0</td>\n      <td>SD0001640</td>\n      <td>0.0</td>\n      <td>0.0</td>\n      <td>Not Applicable</td>\n      <td>SBA000154</td>\n      <td>application</td>\n      <td>Server Based Application</td>\n      <td>WBS000027</td>\n      <td>0</td>\n      <td>420.166667</td>\n      <td>0</td>\n      <td>8</td>\n      <td>15</td>\n      <td>15</td>\n      <td>Tuesday</td>\n      <td>Tuesday</td>\n      <td>Tuesday</td>\n      <td>Night</td>\n      <td>Day</td>\n      <td>Day</td>\n      <td>application-Server Based Application</td>\n      <td>application-Server Based Application</td>\n    </tr>\n    <tr>\n      <td>4</td>\n      <td>LAP000019</td>\n      <td>computer</td>\n      <td>Laptop</td>\n      <td>WBS000091</td>\n      <td>IM0001231</td>\n      <td>5</td>\n      <td>5</td>\n      <td>5 Very Low</td>\n      <td>KM0000315</td>\n      <td>0.0</td>\n      <td>2013-10-01 08:40:00</td>\n      <td>2013-10-02 11:30:13</td>\n      <td>2013-10-02 11:30:19</td>\n      <td>0.020278</td>\n      <td>Other</td>\n      <td>1.0</td>\n      <td>SD0001638</td>\n      <td>0.0</td>\n      <td>0.0</td>\n      <td>Not Applicable</td>\n      <td>KYB000001</td>\n      <td>hardware</td>\n      <td>Keyboard</td>\n      <td>WBS000091</td>\n      <td>0</td>\n      <td>1610.216667</td>\n      <td>0</td>\n      <td>8</td>\n      <td>11</td>\n      <td>11</td>\n      <td>Tuesday</td>\n      <td>Wednesday</td>\n      <td>Wednesday</td>\n      <td>Night</td>\n      <td>Day</td>\n      <td>Day</td>\n      <td>computer-Laptop</td>\n      <td>hardware-Keyboard</td>\n    </tr>\n  </tbody>\n</table>\n</div>",
      "text/plain": "  CI_Name_aff  CI_Type_aff            CI_Subtype_aff  \\\n0   APP000005  application                    Citrix   \n1   DSK000457     computer                   Desktop   \n2   SBA000263  application  Server Based Application   \n3   SBA000154  application  Server Based Application   \n4   LAP000019     computer                    Laptop   \n\n  Service_Component_WBS_aff Incident_ID  Impact  Urgency    Priority  \\\n0                 WBS000292   IM0001224       4        4       4 Low   \n1                 WBS000187   IM0001226       5        5  5 Very Low   \n2                 WBS000072   IM0001229       5        5  5 Very Low   \n3                 WBS000027   IM0001230       5        5  5 Very Low   \n4                 WBS000091   IM0001231       5        5  5 Very Low   \n\n   KM_number  Count_Reassignments           Open_Time       Resolved_Time  \\\n0  KM0001060                  0.0 2013-10-01 07:33:21 2013-10-01 08:36:09   \n1  KM0001446                  2.0 2013-10-01 08:18:38 2013-10-07 11:51:53   \n2  KM0000644                 12.0 2013-10-01 08:36:09 2013-10-07 16:55:08   \n3  KM0001291                  1.0 2013-10-01 08:39:37 2013-10-01 15:39:47   \n4  KM0000315                  0.0 2013-10-01 08:40:00 2013-10-02 11:30:13   \n\n           Close_Time  Handle_Time_Hours Closure_Code  \\\n0 2013-10-01 08:37:28           1.068611     Software   \n1 2013-10-07 11:52:00          45.556111     Hardware   \n2 2013-10-07 16:55:38          50.324722        Other   \n3 2013-10-01 15:39:51           7.003889        Other   \n4 2013-10-02 11:30:19           0.020278        Other   \n\n   Count_Related_Interactions Related_Interaction  Count_Related_Incidents  \\\n0                         1.0           SD0001630                      0.0   \n1                         1.0           SD0001635                      0.0   \n2                         1.0           SD0001644                      0.0   \n3                         1.0           SD0001640                      0.0   \n4                         1.0           SD0001638                      0.0   \n\n   Count_Related_Changes  Related_Change CI_Name_CBy  CI_Type_CBy  \\\n0                    0.0  Not Applicable   APP000005  application   \n1                    0.0  Not Applicable   DSK000457     computer   \n2                    0.0  Not Applicable        #N/B         #N/B   \n3                    0.0  Not Applicable   SBA000154  application   \n4                    0.0  Not Applicable   KYB000001     hardware   \n\n             CI_Subtype_CBy ServiceComp_WBS_CBy  ReopenedFlag  \\\n0                    Citrix           WBS000292             0   \n1                   Desktop           WBS000187             0   \n2                      #N/B                #N/B             0   \n3  Server Based Application           WBS000027             0   \n4                  Keyboard           WBS000091             0   \n\n   TimeToResolve_Minutes  SLAFail  Open_Time_HourOfDay  \\\n0              62.800000        0                    7   \n1            8853.250000        1                    8   \n2            9138.983333        1                    8   \n3             420.166667        0                    8   \n4            1610.216667        0                    8   \n\n   Resolved_Time_HourOfDay  Close_Time_HourOfDay Open_Time_DayOfWeek  \\\n0                        8                     8             Tuesday   \n1                       11                    11             Tuesday   \n2                       16                    16             Tuesday   \n3                       15                    15             Tuesday   \n4                       11                    11             Tuesday   \n\n  Resolved_Time_DayOfWeek Close_Time_DayOfWeek OpenShift ResolvedShift  \\\n0                 Tuesday              Tuesday     Night         Night   \n1                  Monday               Monday     Night           Day   \n2                  Monday               Monday     Night           Day   \n3                 Tuesday              Tuesday     Night           Day   \n4               Wednesday            Wednesday     Night           Day   \n\n  CloseShift                    CI_TypeSubType_aff  \\\n0      Night                    application-Citrix   \n1        Day                      computer-Desktop   \n2        Day  application-Server Based Application   \n3        Day  application-Server Based Application   \n4        Day                       computer-Laptop   \n\n                     CI_TypeSubType_CBy  \n0                    application-Citrix  \n1                      computer-Desktop  \n2                             #N/B-#N/B  \n3  application-Server Based Application  \n4                     hardware-Keyboard  "
     },
     "execution_count": 17,
     "metadata": {},
     "output_type": "execute_result"
    }
   ],
   "source": [
    "df.head()"
   ]
  },
  {
   "cell_type": "code",
   "execution_count": 18,
   "metadata": {},
   "outputs": [],
   "source": [
    "df = df.drop(['Impact','Urgency', \"CI_Type_aff\", \"CI_Subtype_aff\", \"CI_Type_CBy\", \"CI_Subtype_CBy\"], axis='columns')"
   ]
  },
  {
   "cell_type": "code",
   "execution_count": 19,
   "metadata": {},
   "outputs": [],
   "source": [
    "df = df.drop(['Incident_ID', \"Related_Interaction\",  \"Related_Change\"], axis='columns')"
   ]
  },
  {
   "cell_type": "code",
   "execution_count": 20,
   "metadata": {},
   "outputs": [
    {
     "data": {
      "text/plain": "Index(['CI_Name_aff', 'Service_Component_WBS_aff', 'Priority', 'KM_number',\n       'Count_Reassignments', 'Open_Time', 'Resolved_Time', 'Close_Time',\n       'Handle_Time_Hours', 'Closure_Code', 'Count_Related_Interactions',\n       'Count_Related_Incidents', 'Count_Related_Changes', 'CI_Name_CBy',\n       'ServiceComp_WBS_CBy', 'ReopenedFlag', 'TimeToResolve_Minutes',\n       'SLAFail', 'Open_Time_HourOfDay', 'Resolved_Time_HourOfDay',\n       'Close_Time_HourOfDay', 'Open_Time_DayOfWeek',\n       'Resolved_Time_DayOfWeek', 'Close_Time_DayOfWeek', 'OpenShift',\n       'ResolvedShift', 'CloseShift', 'CI_TypeSubType_aff',\n       'CI_TypeSubType_CBy'],\n      dtype='object')"
     },
     "execution_count": 20,
     "metadata": {},
     "output_type": "execute_result"
    }
   ],
   "source": [
    "df.columns\n"
   ]
  },
  {
   "cell_type": "code",
   "execution_count": 21,
   "metadata": {},
   "outputs": [
    {
     "data": {
      "text/plain": "CI_Name_aff                           object\nService_Component_WBS_aff             object\nPriority                            category\nKM_number                             object\nCount_Reassignments                  float64\nOpen_Time                     datetime64[ns]\nResolved_Time                 datetime64[ns]\nClose_Time                    datetime64[ns]\nHandle_Time_Hours                    float64\nClosure_Code                          object\nCount_Related_Interactions           float64\nCount_Related_Incidents              float64\nCount_Related_Changes                float64\nCI_Name_CBy                           object\nServiceComp_WBS_CBy                   object\nReopenedFlag                           int64\nTimeToResolve_Minutes                float64\nSLAFail                                int64\nOpen_Time_HourOfDay                    int64\nResolved_Time_HourOfDay                int64\nClose_Time_HourOfDay                   int64\nOpen_Time_DayOfWeek                   object\nResolved_Time_DayOfWeek               object\nClose_Time_DayOfWeek                  object\nOpenShift                           category\nResolvedShift                       category\nCloseShift                          category\nCI_TypeSubType_aff                    object\nCI_TypeSubType_CBy                    object\ndtype: object"
     },
     "execution_count": 21,
     "metadata": {},
     "output_type": "execute_result"
    }
   ],
   "source": [
    "df.dtypes"
   ]
  },
  {
   "cell_type": "markdown",
   "metadata": {},
   "source": [
    "## END and OUTPUT"
   ]
  },
  {
   "cell_type": "code",
   "execution_count": 22,
   "metadata": {},
   "outputs": [],
   "source": [
    "with open(\"4.a.Detail_Incident.csv\",'w') as f:\n",
    "    df.to_csv(f, index=False)"
   ]
  },
  {
   "cell_type": "code",
   "execution_count": 23,
   "metadata": {},
   "outputs": [],
   "source": [
    "df.reset_index(drop=True, inplace=True)\n",
    "profile = ProfileReport(df, title=\"Profile of Final BPIC 2014 Detail Incident Data\", html={'style': {'full_width': True}})"
   ]
  },
  {
   "cell_type": "code",
   "execution_count": 24,
   "metadata": {},
   "outputs": [],
   "source": [
    "profile.to_file(Path(str(\"4.b.Detail_Incident_Profile.html\")))"
   ]
  },
  {
   "cell_type": "code",
   "execution_count": null,
   "metadata": {},
   "outputs": [],
   "source": []
  }
 ]
}