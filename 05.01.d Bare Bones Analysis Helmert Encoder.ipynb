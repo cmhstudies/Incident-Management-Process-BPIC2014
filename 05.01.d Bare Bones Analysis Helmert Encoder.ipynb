{
 "nbformat": 4,
 "nbformat_minor": 2,
 "metadata": {
  "language_info": {
   "name": "python",
   "codemirror_mode": {
    "name": "ipython",
    "version": 3
   },
   "version": "3.7.6-final"
  },
  "orig_nbformat": 2,
  "file_extension": ".py",
  "mimetype": "text/x-python",
  "name": "python",
  "npconvert_exporter": "python",
  "pygments_lexer": "ipython3",
  "version": 3,
  "kernelspec": {
   "name": "python3",
   "display_name": "Python 3"
  }
 },
 "cells": [
  {
   "cell_type": "markdown",
   "metadata": {},
   "source": [
    "# 05.01.d Bare Bones Analysis Using a Helmert Encoder\n",
    "\n",
    "Goal: identify the factors that most contribute to SLAFail\n",
    "\n",
    "Tuning Adjustments: Focus on finding the most predictive set of predictor variables\n",
    "\n",
    "\n",
    "Read Prepared Data  ->  Split Data  -> Develop Pipeline  ->  Evaluate  \n",
    "\n",
    "Split Data using sklearn.model_selection.train_test_split\n",
    "\n",
    "Pipeline includes:\n",
    "\n",
    "- Preprocessing variables\n",
    "    - sklearn.compose.make_column_transformer \n",
    "        - Scale numeric variables: sklearn.preprocessing.StandardScaler\n",
    "        - Encode categorical variables: category_encoders.HelmertEncoder\n",
    "- Selecting features\n",
    "    - None\n",
    "- Instantiate model\n",
    "    - sklearn.linear_model.LogisticRegression\n",
    "- Fit the model using training data\n",
    "- Cross-validate the model with training data\n",
    "    - sklearn.model_selection.cross_val_score\n",
    "- Output performance measures\n",
    "\n",
    "Evaluate involves running the pipeline with the testing data and capturing metrics\n",
    "\n",
    "\n",
    "\n"
   ]
  },
  {
   "cell_type": "code",
   "execution_count": 3,
   "metadata": {},
   "outputs": [],
   "source": [
    "# Load libraries\n",
    "import pandas as pd\n",
    "import numpy as np\n",
    "import pickle\n",
    "\n",
    "# allow plots to appear in the notebook\n",
    "%matplotlib inline\n",
    "import matplotlib.pyplot as plt\n",
    "\n",
    "from sklearn.model_selection import train_test_split\n",
    "\n",
    "from sklearn.compose import make_column_transformer\n",
    "import category_encoders as ce\n",
    "from sklearn.preprocessing import StandardScaler\n",
    "\n",
    "from sklearn.linear_model import LogisticRegression\n",
    "\n",
    "from sklearn.pipeline import make_pipeline\n",
    "\n",
    "from sklearn.model_selection import cross_val_score\n",
    "\n",
    "from sklearn import metrics"
   ]
  },
  {
   "cell_type": "markdown",
   "metadata": {},
   "source": [
    "## Read Prepared Data"
   ]
  },
  {
   "cell_type": "code",
   "execution_count": 4,
   "metadata": {},
   "outputs": [
    {
     "name": "stdout",
     "output_type": "stream",
     "text": "df.shape: (35208, 12)\ndf.columns: Index(['CI_Name_aff', 'Service_Component_WBS_aff', 'Impact', 'Urgency',\n       'KM_number', 'Count_Related_Interactions', 'Count_Related_Incidents',\n       'Count_Related_Changes', 'SLAFail', 'Open_Time_HourOfDay',\n       'Open_Time_DayOfWeek', 'CI_TypeSubType_aff'],\n      dtype='object')\ndf.dtypes: \nCI_Name_aff                    object\nService_Component_WBS_aff      object\nImpact                         object\nUrgency                        object\nKM_number                      object\nCount_Related_Interactions    float64\nCount_Related_Incidents       float64\nCount_Related_Changes         float64\nSLAFail                         int64\nOpen_Time_HourOfDay             int64\nOpen_Time_DayOfWeek            object\nCI_TypeSubType_aff             object\ndtype: object\n"
    }
   ],
   "source": [
    "df = pd.read_csv(\"data/04.a.Detail_Incident_AtOpen.csv\")\n",
    "print(\"df.shape: \" + str(df.shape))\n",
    "print(\"df.columns: \" + str(df.columns))\n",
    "print(\"df.dtypes: \\n\" + str(df.dtypes))"
   ]
  },
  {
   "cell_type": "markdown",
   "metadata": {},
   "source": [
    "#### Set X and y"
   ]
  },
  {
   "cell_type": "code",
   "execution_count": 5,
   "metadata": {},
   "outputs": [
    {
     "data": {
      "text/plain": "(35208,)"
     },
     "execution_count": 5,
     "metadata": {},
     "output_type": "execute_result"
    }
   ],
   "source": [
    "y = df.SLAFail\n",
    "y.shape"
   ]
  },
  {
   "cell_type": "code",
   "execution_count": 6,
   "metadata": {},
   "outputs": [
    {
     "data": {
      "text/plain": "(35208, 11)"
     },
     "execution_count": 6,
     "metadata": {},
     "output_type": "execute_result"
    }
   ],
   "source": [
    "X = df.drop(['SLAFail'], axis='columns')\n",
    "X.shape"
   ]
  },
  {
   "cell_type": "markdown",
   "metadata": {},
   "source": [
    "Set `Open_Time_HourOfDay` for recognition as a Categorical variable"
   ]
  },
  {
   "cell_type": "code",
   "execution_count": 7,
   "metadata": {},
   "outputs": [
    {
     "data": {
      "text/plain": "CI_Name_aff                    object\nService_Component_WBS_aff      object\nImpact                         object\nUrgency                        object\nKM_number                      object\nCount_Related_Interactions    float64\nCount_Related_Incidents       float64\nCount_Related_Changes         float64\nOpen_Time_HourOfDay            object\nOpen_Time_DayOfWeek            object\nCI_TypeSubType_aff             object\ndtype: object"
     },
     "execution_count": 7,
     "metadata": {},
     "output_type": "execute_result"
    }
   ],
   "source": [
    "X.Open_Time_HourOfDay = X.Open_Time_HourOfDay.astype('object')\n",
    "X.dtypes"
   ]
  },
  {
   "cell_type": "markdown",
   "metadata": {},
   "source": [
    "Create a list of numeric variable column names"
   ]
  },
  {
   "cell_type": "code",
   "execution_count": 8,
   "metadata": {},
   "outputs": [
    {
     "data": {
      "text/plain": "Index(['Count_Related_Interactions', 'Count_Related_Incidents',\n       'Count_Related_Changes'],\n      dtype='object')"
     },
     "execution_count": 8,
     "metadata": {},
     "output_type": "execute_result"
    }
   ],
   "source": [
    "numericVars = X.select_dtypes(include=['float64']).columns\n",
    "numericVars"
   ]
  },
  {
   "cell_type": "markdown",
   "metadata": {},
   "source": [
    "Create a list of categorical variables"
   ]
  },
  {
   "cell_type": "code",
   "execution_count": 9,
   "metadata": {},
   "outputs": [
    {
     "data": {
      "text/plain": "Index(['CI_Name_aff', 'Service_Component_WBS_aff', 'Impact', 'Urgency',\n       'KM_number', 'Open_Time_HourOfDay', 'Open_Time_DayOfWeek',\n       'CI_TypeSubType_aff'],\n      dtype='object')"
     },
     "execution_count": 9,
     "metadata": {},
     "output_type": "execute_result"
    }
   ],
   "source": [
    "categoricalVars = X.select_dtypes(include=['object']).columns\n",
    "categoricalVars"
   ]
  },
  {
   "cell_type": "markdown",
   "metadata": {},
   "source": [
    "## Split Data\n",
    "\n",
    "Create Training and Testing Data Sets\n"
   ]
  },
  {
   "cell_type": "code",
   "execution_count": 10,
   "metadata": {},
   "outputs": [],
   "source": [
    "\n",
    "X_train, X_test, y_train, y_test = train_test_split(X, y, test_size=0.3, random_state=2020)\n"
   ]
  },
  {
   "cell_type": "code",
   "execution_count": 11,
   "metadata": {},
   "outputs": [
    {
     "name": "stdout",
     "output_type": "stream",
     "text": "(24645, 11)\nIndex(['CI_Name_aff', 'Service_Component_WBS_aff', 'Impact', 'Urgency',\n       'KM_number', 'Count_Related_Interactions', 'Count_Related_Incidents',\n       'Count_Related_Changes', 'Open_Time_HourOfDay', 'Open_Time_DayOfWeek',\n       'CI_TypeSubType_aff'],\n      dtype='object')\n"
    }
   ],
   "source": [
    "print(X_train.shape)\n",
    "print(X_train.columns)"
   ]
  },
  {
   "cell_type": "markdown",
   "metadata": {},
   "source": [
    "## Develop Pipeline\n"
   ]
  },
  {
   "cell_type": "code",
   "execution_count": 12,
   "metadata": {},
   "outputs": [],
   "source": [
    "# create dictionary to store information about the pipeline and results for later reporting and review\n",
    "PipeLineMetadata = { \"Name\" : \"Bare Bones with Helmert Encoder\" }"
   ]
  },
  {
   "cell_type": "markdown",
   "metadata": {},
   "source": [
    "### Encode Variables\n",
    "\n",
    "Numeric and categorical variables require different treatment \n",
    "\n",
    "Set up column transformer for scaling numeric variables and encoding categorical variables\n",
    "\n"
   ]
  },
  {
   "cell_type": "code",
   "execution_count": 13,
   "metadata": {},
   "outputs": [],
   "source": [
    "column_trans = make_column_transformer(\n",
    "    (ce.HelmertEncoder(), categoricalVars),\n",
    "    (StandardScaler(), numericVars),\n",
    "    remainder='passthrough')"
   ]
  },
  {
   "cell_type": "code",
   "execution_count": 14,
   "metadata": {},
   "outputs": [
    {
     "data": {
      "text/plain": "ColumnTransformer(n_jobs=None, remainder='passthrough', sparse_threshold=0.3,\n                  transformer_weights=None,\n                  transformers=[('helmertencoder',\n                                 HelmertEncoder(cols=None, drop_invariant=False,\n                                                handle_missing='value',\n                                                handle_unknown='value',\n                                                mapping=None, return_df=True,\n                                                verbose=0),\n                                 Index(['CI_Name_aff', 'Service_Component_WBS_aff', 'Impact', 'Urgency',\n       'KM_number', 'Open_Time_HourOfDay', 'Open_Time_DayOfWeek',\n       'CI_TypeSubType_aff'],\n      dtype='object')),\n                                ('standardscaler',\n                                 StandardScaler(copy=True, with_mean=True,\n                                                with_std=True),\n                                 Index(['Count_Related_Interactions', 'Count_Related_Incidents',\n       'Count_Related_Changes'],\n      dtype='object'))],\n                  verbose=False)"
     },
     "execution_count": 14,
     "metadata": {},
     "output_type": "execute_result"
    }
   ],
   "source": [
    "column_trans"
   ]
  },
  {
   "cell_type": "markdown",
   "metadata": {},
   "source": [
    "### Feature Selection\n",
    "\n"
   ]
  },
  {
   "cell_type": "code",
   "execution_count": 15,
   "metadata": {},
   "outputs": [],
   "source": [
    "## placeholder: none for Bare Bones"
   ]
  },
  {
   "cell_type": "markdown",
   "metadata": {},
   "source": [
    "### Specify Classifier (Logistic Regression)"
   ]
  },
  {
   "cell_type": "code",
   "execution_count": 16,
   "metadata": {},
   "outputs": [],
   "source": [
    "classifier = LogisticRegression(solver=\"lbfgs\")"
   ]
  },
  {
   "cell_type": "markdown",
   "metadata": {},
   "source": [
    "### Compose Pipeline"
   ]
  },
  {
   "cell_type": "code",
   "execution_count": 17,
   "metadata": {},
   "outputs": [],
   "source": [
    "pipe = make_pipeline(column_trans, \n",
    "                     classifier)"
   ]
  },
  {
   "cell_type": "markdown",
   "metadata": {},
   "source": [
    "### Fit the Model Using the Pipeline"
   ]
  },
  {
   "cell_type": "code",
   "execution_count": 18,
   "metadata": {},
   "outputs": [
    {
     "data": {
      "text/plain": "Pipeline(memory=None,\n         steps=[('columntransformer',\n                 ColumnTransformer(n_jobs=None, remainder='passthrough',\n                                   sparse_threshold=0.3,\n                                   transformer_weights=None,\n                                   transformers=[('helmertencoder',\n                                                  HelmertEncoder(cols=None,\n                                                                 drop_invariant=False,\n                                                                 handle_missing='value',\n                                                                 handle_unknown='value',\n                                                                 mapping=None,\n                                                                 return_df=True,\n                                                                 verbose=0),\n                                                  Index(['CI_Name_aff', 'Service_Componen...\n                                                  Index(['Count_Related_Interactions', 'Count_Related_Incidents',\n       'Count_Related_Changes'],\n      dtype='object'))],\n                                   verbose=False)),\n                ('logisticregression',\n                 LogisticRegression(C=1.0, class_weight=None, dual=False,\n                                    fit_intercept=True, intercept_scaling=1,\n                                    l1_ratio=None, max_iter=100,\n                                    multi_class='auto', n_jobs=None,\n                                    penalty='l2', random_state=None,\n                                    solver='lbfgs', tol=0.0001, verbose=0,\n                                    warm_start=False))],\n         verbose=False)"
     },
     "execution_count": 18,
     "metadata": {},
     "output_type": "execute_result"
    }
   ],
   "source": [
    "pipe.fit(X_train,y_train)"
   ]
  },
  {
   "cell_type": "markdown",
   "metadata": {},
   "source": [
    "### Capture model  information"
   ]
  },
  {
   "cell_type": "code",
   "execution_count": 19,
   "metadata": {},
   "outputs": [
    {
     "data": {
      "text/plain": "{'Name': 'Bare Bones with Helmert Encoder',\n 'Column Transforms': ['helmertencoder', 'standardscaler'],\n 'Classifier': LogisticRegression(C=1.0, class_weight=None, dual=False, fit_intercept=True,\n                    intercept_scaling=1, l1_ratio=None, max_iter=100,\n                    multi_class='auto', n_jobs=None, penalty='l2',\n                    random_state=None, solver='lbfgs', tol=0.0001, verbose=0,\n                    warm_start=False)}"
     },
     "execution_count": 19,
     "metadata": {},
     "output_type": "execute_result"
    }
   ],
   "source": [
    "PipeLineMetadata['Column Transforms'] = list(pipe.named_steps.columntransformer.named_transformers_.keys())\n",
    "PipeLineMetadata['Classifier'] = pipe.named_steps.logisticregression\n",
    "PipeLineMetadata"
   ]
  },
  {
   "cell_type": "code",
   "execution_count": 20,
   "metadata": {},
   "outputs": [
    {
     "data": {
      "text/plain": "3712"
     },
     "execution_count": 20,
     "metadata": {},
     "output_type": "execute_result"
    }
   ],
   "source": [
    "len(pipe.named_steps.logisticregression.coef_[0])"
   ]
  },
  {
   "cell_type": "code",
   "execution_count": 21,
   "metadata": {},
   "outputs": [
    {
     "data": {
      "text/plain": "{'Name': 'Bare Bones with Helmert Encoder',\n 'Column Transforms': ['helmertencoder', 'standardscaler'],\n 'Classifier': LogisticRegression(C=1.0, class_weight=None, dual=False, fit_intercept=True,\n                    intercept_scaling=1, l1_ratio=None, max_iter=100,\n                    multi_class='auto', n_jobs=None, penalty='l2',\n                    random_state=None, solver='lbfgs', tol=0.0001, verbose=0,\n                    warm_start=False),\n 'Classifier - Intercept': -0.003607872196270573,\n 'Classifier - Coefficients': array([[-0.00360475,  0.02535751, -0.01717745, ...,  0.1883989 ,\n          0.0070423 ,  0.00773264]])}"
     },
     "execution_count": 21,
     "metadata": {},
     "output_type": "execute_result"
    }
   ],
   "source": [
    "PipeLineMetadata['Classifier - Intercept'] = pipe.named_steps.logisticregression.intercept_[0]\n",
    "PipeLineMetadata['Classifier - Coefficients'] = pipe.named_steps.logisticregression.coef_\n",
    "PipeLineMetadata"
   ]
  },
  {
   "cell_type": "markdown",
   "metadata": {},
   "source": [
    "## Cross-validate the Model with Training Data\n"
   ]
  },
  {
   "cell_type": "code",
   "execution_count": 22,
   "metadata": {},
   "outputs": [
    {
     "data": {
      "text/plain": "0.7332116047879895"
     },
     "execution_count": 22,
     "metadata": {},
     "output_type": "execute_result"
    }
   ],
   "source": [
    "PipeLineMetadata['Metrics - Cross Validation Accuracy'] = cross_val_score(pipe, X_train, y_train, cv=5, scoring=\"accuracy\").mean()\n",
    "PipeLineMetadata['Metrics - Cross Validation Accuracy']"
   ]
  },
  {
   "cell_type": "markdown",
   "metadata": {},
   "source": [
    "## Evaluate with Test Data"
   ]
  },
  {
   "cell_type": "markdown",
   "metadata": {},
   "source": [
    "Get predicted classification based on the model"
   ]
  },
  {
   "cell_type": "code",
   "execution_count": 23,
   "metadata": {},
   "outputs": [],
   "source": [
    "y_pred_class = pipe.predict(X_test)\n",
    "y_pred_prob = pipe.predict_proba(X_test)[:,1]"
   ]
  },
  {
   "cell_type": "code",
   "execution_count": 24,
   "metadata": {},
   "outputs": [
    {
     "data": {
      "text/plain": "0.6622812081089122"
     },
     "execution_count": 24,
     "metadata": {},
     "output_type": "execute_result"
    }
   ],
   "source": [
    "PipeLineMetadata['Metrics - F1 score'] = metrics.f1_score(y_test, y_pred_class, average='macro')\n",
    "PipeLineMetadata['Metrics - F1 score']"
   ]
  },
  {
   "cell_type": "markdown",
   "metadata": {},
   "source": [
    "Look at the resulting confusion matrix\n",
    "\n",
    "Save True Positive (TP), True Negative (TN), False Positive(FP), and False Negative (FN) values"
   ]
  },
  {
   "cell_type": "code",
   "execution_count": 25,
   "metadata": {},
   "outputs": [
    {
     "name": "stdout",
     "output_type": "stream",
     "text": "[[6381 1064]\n [1712 1406]]\nTN: 6381 \t FP: 1064 \nFN: 1712 \t TP: 1406 \n"
    }
   ],
   "source": [
    "confusion = metrics.confusion_matrix(y_test, y_pred_class)\n",
    "TP = confusion[1, 1]\n",
    "TN = confusion[0, 0]\n",
    "FP = confusion[0, 1]\n",
    "FN = confusion[1, 0]\n",
    "print(confusion)\n",
    "print(\"TN: %d \\t FP: %d \\nFN: %d \\t TP: %d \" % (TN, FP, FN, TP))"
   ]
  },
  {
   "cell_type": "markdown",
   "metadata": {},
   "source": [
    "Capture a few classification metrics:\n",
    "* Classification Accuracy: Overall, how often is the classifier correct?\n",
    "* Classification Error: Overall, how often is the classifier incorrect?\n",
    "* True Positive Rate  (Recall, Sensitivity): When the actual value is positive, how often is the prediction correct?\n",
    "* True Negative Rate (Specificity): When the actual value is negative, how often is the prediction correct?\n",
    "* False Positive Rate: When the actual value is negative, how often is the prediction incorrect?\n",
    "* Precision: When a positive value is predicted, how often is the prediction correct?\n"
   ]
  },
  {
   "cell_type": "code",
   "execution_count": 26,
   "metadata": {},
   "outputs": [],
   "source": [
    "PipeLineMetadata['Metrics - Confusion Matrix Classification Accuracy'] = metrics.accuracy_score(y_test,y_pred_class) \n",
    "PipeLineMetadata['Metrics - Confusion Matrix Classification Error'] = 1- metrics.accuracy_score(y_test,y_pred_class)\n",
    "PipeLineMetadata['Metrics - Confusion Matrix True Positive Rate'] = metrics.recall_score(y_test, y_pred_class) \n",
    "PipeLineMetadata['Metrics - Confusion Matrix True Negative Rate'] =  TN / float(TN + FP)\n",
    "PipeLineMetadata['Metrics - Confusion Matrix False Positive Rate'] =  FP / float(TN + FP)\n",
    "PipeLineMetadata['Metrics - Confusion Matrix Precision'] = metrics.precision_score(y_test,y_pred_class)"
   ]
  },
  {
   "cell_type": "code",
   "execution_count": 27,
   "metadata": {},
   "outputs": [
    {
     "data": {
      "text/plain": "{'Name': 'Bare Bones with Helmert Encoder',\n 'Column Transforms': ['helmertencoder', 'standardscaler'],\n 'Classifier': LogisticRegression(C=1.0, class_weight=None, dual=False, fit_intercept=True,\n                    intercept_scaling=1, l1_ratio=None, max_iter=100,\n                    multi_class='auto', n_jobs=None, penalty='l2',\n                    random_state=None, solver='lbfgs', tol=0.0001, verbose=0,\n                    warm_start=False),\n 'Classifier - Intercept': -0.003607872196270573,\n 'Classifier - Coefficients': array([[-0.00360475,  0.02535751, -0.01717745, ...,  0.1883989 ,\n          0.0070423 ,  0.00773264]]),\n 'Metrics - Cross Validation Accuracy': 0.7332116047879895,\n 'Metrics - F1 score': 0.6622812081089122,\n 'Metrics - Confusion Matrix Classification Accuracy': 0.7371958723847392,\n 'Metrics - Confusion Matrix Classification Error': 0.26280412761526084,\n 'Metrics - Confusion Matrix True Positive Rate': 0.4509300833867864,\n 'Metrics - Confusion Matrix True Negative Rate': 0.8570852921423774,\n 'Metrics - Confusion Matrix False Positive Rate': 0.14291470785762256,\n 'Metrics - Confusion Matrix Precision': 0.5692307692307692}"
     },
     "execution_count": 27,
     "metadata": {},
     "output_type": "execute_result"
    }
   ],
   "source": [
    "PipeLineMetadata\n"
   ]
  },
  {
   "cell_type": "markdown",
   "metadata": {},
   "source": [
    "Add some ROC curve information and AUC result\n"
   ]
  },
  {
   "cell_type": "code",
   "execution_count": 28,
   "metadata": {},
   "outputs": [],
   "source": [
    "fpr, tpr, thresholds = metrics.roc_curve(y_test, y_pred_prob)"
   ]
  },
  {
   "cell_type": "code",
   "execution_count": 29,
   "metadata": {},
   "outputs": [],
   "source": [
    "PipeLineMetadata['Metrics - ROC Curve fpr array'] = fpr\n",
    "PipeLineMetadata['Metrics - ROC Curve tpr array'] = tpr"
   ]
  },
  {
   "cell_type": "code",
   "execution_count": 30,
   "metadata": {},
   "outputs": [
    {
     "data": {
      "image/png": "[encoded data removed]",
      "image/svg+xml": "<?xml version=\"1.0\" encoding=\"utf-8\" standalone=\"no\"?>\n<!DOCTYPE svg PUBLIC \"-//W3C//DTD SVG 1.1//EN\"\n  \"http://www.w3.org/Graphics/SVG/1.1/DTD/svg11.dtd\">\n<!-- Created with matplotlib (https://matplotlib.org/) -->\n<svg height=\"277.314375pt\" version=\"1.1\" viewBox=\"0 0 393.732813 277.314375\" width=\"393.732813pt\" xmlns=\"http://www.w3.org/2000/svg\" xmlns:xlink=\"http://www.w3.org/1999/xlink\">\n <defs>\n  <style type=\"text/css\">\n*{stroke-linecap:butt;stroke-linejoin:round;}\n  </style>\n </defs>\n <g id=\"figure_1\">\n  <g id=\"patch_1\">\n   <path d=\"M 0 277.314375 \nL 393.732813 277.314375 \nL 393.732813 0 \nL 0 0 \nz\n\" style=\"fill:none;\"/>\n  </g>\n  <g id=\"axes_1\">\n   <g id=\"patch_2\">\n    <path d=\"M 43.78125 239.758125 \nL 378.58125 239.758125 \nL 378.58125 22.318125 \nL 43.78125 22.318125 \nz\n\" style=\"fill:#ffffff;\"/>\n   </g>\n   <g id=\"matplotlib.axis_1\">\n    <g id=\"xtick_1\">\n     <g id=\"line2d_1\">\n      <path clip-path=\"url(#p728bfc12b0)\" d=\"M 43.78125 239.758125 \nL 43.78125 22.318125 \n\" style=\"fill:none;stroke:#b0b0b0;stroke-linecap:square;stroke-width:0.8;\"/>\n     </g>\n     <g id=\"line2d_2\">\n      <defs>\n       <path d=\"M 0 0 \nL 0 3.5 \n\" id=\"m77897d8046\" style=\"stroke:#000000;stroke-width:0.8;\"/>\n      </defs>\n      <g>\n       <use style=\"stroke:#000000;stroke-width:0.8;\" x=\"43.78125\" xlink:href=\"#m77897d8046\" y=\"239.758125\"/>\n      </g>\n     </g>\n     <g id=\"text_1\">\n      <!-- 0.0 -->\n      <defs>\n       <path d=\"M 31.78125 66.40625 \nQ 24.171875 66.40625 20.328125 58.90625 \nQ 16.5 51.421875 16.5 36.375 \nQ 16.5 21.390625 20.328125 13.890625 \nQ 24.171875 6.390625 31.78125 6.390625 \nQ 39.453125 6.390625 43.28125 13.890625 \nQ 47.125 21.390625 47.125 36.375 \nQ 47.125 51.421875 43.28125 58.90625 \nQ 39.453125 66.40625 31.78125 66.40625 \nz\nM 31.78125 74.21875 \nQ 44.046875 74.21875 50.515625 64.515625 \nQ 56.984375 54.828125 56.984375 36.375 \nQ 56.984375 17.96875 50.515625 8.265625 \nQ 44.046875 -1.421875 31.78125 -1.421875 \nQ 19.53125 -1.421875 13.0625 8.265625 \nQ 6.59375 17.96875 6.59375 36.375 \nQ 6.59375 54.828125 13.0625 64.515625 \nQ 19.53125 74.21875 31.78125 74.21875 \nz\n\" id=\"DejaVuSans-48\"/>\n       <path d=\"M 10.6875 12.40625 \nL 21 12.40625 \nL 21 0 \nL 10.6875 0 \nz\n\" id=\"DejaVuSans-46\"/>\n      </defs>\n      <g transform=\"translate(35.829688 254.356562)scale(0.1 -0.1)\">\n       <use xlink:href=\"#DejaVuSans-48\"/>\n       <use x=\"63.623047\" xlink:href=\"#DejaVuSans-46\"/>\n       <use x=\"95.410156\" xlink:href=\"#DejaVuSans-48\"/>\n      </g>\n     </g>\n    </g>\n    <g id=\"xtick_2\">\n     <g id=\"line2d_3\">\n      <path clip-path=\"url(#p728bfc12b0)\" d=\"M 110.74125 239.758125 \nL 110.74125 22.318125 \n\" style=\"fill:none;stroke:#b0b0b0;stroke-linecap:square;stroke-width:0.8;\"/>\n     </g>\n     <g id=\"line2d_4\">\n      <g>\n       <use style=\"stroke:#000000;stroke-width:0.8;\" x=\"110.74125\" xlink:href=\"#m77897d8046\" y=\"239.758125\"/>\n      </g>\n     </g>\n     <g id=\"text_2\">\n      <!-- 0.2 -->\n      <defs>\n       <path d=\"M 19.1875 8.296875 \nL 53.609375 8.296875 \nL 53.609375 0 \nL 7.328125 0 \nL 7.328125 8.296875 \nQ 12.9375 14.109375 22.625 23.890625 \nQ 32.328125 33.6875 34.8125 36.53125 \nQ 39.546875 41.84375 41.421875 45.53125 \nQ 43.3125 49.21875 43.3125 52.78125 \nQ 43.3125 58.59375 39.234375 62.25 \nQ 35.15625 65.921875 28.609375 65.921875 \nQ 23.96875 65.921875 18.8125 64.3125 \nQ 13.671875 62.703125 7.8125 59.421875 \nL 7.8125 69.390625 \nQ 13.765625 71.78125 18.9375 73 \nQ 24.125 74.21875 28.421875 74.21875 \nQ 39.75 74.21875 46.484375 68.546875 \nQ 53.21875 62.890625 53.21875 53.421875 \nQ 53.21875 48.921875 51.53125 44.890625 \nQ 49.859375 40.875 45.40625 35.40625 \nQ 44.1875 33.984375 37.640625 27.21875 \nQ 31.109375 20.453125 19.1875 8.296875 \nz\n\" id=\"DejaVuSans-50\"/>\n      </defs>\n      <g transform=\"translate(102.789688 254.356562)scale(0.1 -0.1)\">\n       <use xlink:href=\"#DejaVuSans-48\"/>\n       <use x=\"63.623047\" xlink:href=\"#DejaVuSans-46\"/>\n       <use x=\"95.410156\" xlink:href=\"#DejaVuSans-50\"/>\n      </g>\n     </g>\n    </g>\n    <g id=\"xtick_3\">\n     <g id=\"line2d_5\">\n      <path clip-path=\"url(#p728bfc12b0)\" d=\"M 177.70125 239.758125 \nL 177.70125 22.318125 \n\" style=\"fill:none;stroke:#b0b0b0;stroke-linecap:square;stroke-width:0.8;\"/>\n     </g>\n     <g id=\"line2d_6\">\n      <g>\n       <use style=\"stroke:#000000;stroke-width:0.8;\" x=\"177.70125\" xlink:href=\"#m77897d8046\" y=\"239.758125\"/>\n      </g>\n     </g>\n     <g id=\"text_3\">\n      <!-- 0.4 -->\n      <defs>\n       <path d=\"M 37.796875 64.3125 \nL 12.890625 25.390625 \nL 37.796875 25.390625 \nz\nM 35.203125 72.90625 \nL 47.609375 72.90625 \nL 47.609375 25.390625 \nL 58.015625 25.390625 \nL 58.015625 17.1875 \nL 47.609375 17.1875 \nL 47.609375 0 \nL 37.796875 0 \nL 37.796875 17.1875 \nL 4.890625 17.1875 \nL 4.890625 26.703125 \nz\n\" id=\"DejaVuSans-52\"/>\n      </defs>\n      <g transform=\"translate(169.749688 254.356562)scale(0.1 -0.1)\">\n       <use xlink:href=\"#DejaVuSans-48\"/>\n       <use x=\"63.623047\" xlink:href=\"#DejaVuSans-46\"/>\n       <use x=\"95.410156\" xlink:href=\"#DejaVuSans-52\"/>\n      </g>\n     </g>\n    </g>\n    <g id=\"xtick_4\">\n     <g id=\"line2d_7\">\n      <path clip-path=\"url(#p728bfc12b0)\" d=\"M 244.66125 239.758125 \nL 244.66125 22.318125 \n\" style=\"fill:none;stroke:#b0b0b0;stroke-linecap:square;stroke-width:0.8;\"/>\n     </g>\n     <g id=\"line2d_8\">\n      <g>\n       <use style=\"stroke:#000000;stroke-width:0.8;\" x=\"244.66125\" xlink:href=\"#m77897d8046\" y=\"239.758125\"/>\n      </g>\n     </g>\n     <g id=\"text_4\">\n      <!-- 0.6 -->\n      <defs>\n       <path d=\"M 33.015625 40.375 \nQ 26.375 40.375 22.484375 35.828125 \nQ 18.609375 31.296875 18.609375 23.390625 \nQ 18.609375 15.53125 22.484375 10.953125 \nQ 26.375 6.390625 33.015625 6.390625 \nQ 39.65625 6.390625 43.53125 10.953125 \nQ 47.40625 15.53125 47.40625 23.390625 \nQ 47.40625 31.296875 43.53125 35.828125 \nQ 39.65625 40.375 33.015625 40.375 \nz\nM 52.59375 71.296875 \nL 52.59375 62.3125 \nQ 48.875 64.0625 45.09375 64.984375 \nQ 41.3125 65.921875 37.59375 65.921875 \nQ 27.828125 65.921875 22.671875 59.328125 \nQ 17.53125 52.734375 16.796875 39.40625 \nQ 19.671875 43.65625 24.015625 45.921875 \nQ 28.375 48.1875 33.59375 48.1875 \nQ 44.578125 48.1875 50.953125 41.515625 \nQ 57.328125 34.859375 57.328125 23.390625 \nQ 57.328125 12.15625 50.6875 5.359375 \nQ 44.046875 -1.421875 33.015625 -1.421875 \nQ 20.359375 -1.421875 13.671875 8.265625 \nQ 6.984375 17.96875 6.984375 36.375 \nQ 6.984375 53.65625 15.1875 63.9375 \nQ 23.390625 74.21875 37.203125 74.21875 \nQ 40.921875 74.21875 44.703125 73.484375 \nQ 48.484375 72.75 52.59375 71.296875 \nz\n\" id=\"DejaVuSans-54\"/>\n      </defs>\n      <g transform=\"translate(236.709688 254.356562)scale(0.1 -0.1)\">\n       <use xlink:href=\"#DejaVuSans-48\"/>\n       <use x=\"63.623047\" xlink:href=\"#DejaVuSans-46\"/>\n       <use x=\"95.410156\" xlink:href=\"#DejaVuSans-54\"/>\n      </g>\n     </g>\n    </g>\n    <g id=\"xtick_5\">\n     <g id=\"line2d_9\">\n      <path clip-path=\"url(#p728bfc12b0)\" d=\"M 311.62125 239.758125 \nL 311.62125 22.318125 \n\" style=\"fill:none;stroke:#b0b0b0;stroke-linecap:square;stroke-width:0.8;\"/>\n     </g>\n     <g id=\"line2d_10\">\n      <g>\n       <use style=\"stroke:#000000;stroke-width:0.8;\" x=\"311.62125\" xlink:href=\"#m77897d8046\" y=\"239.758125\"/>\n      </g>\n     </g>\n     <g id=\"text_5\">\n      <!-- 0.8 -->\n      <defs>\n       <path d=\"M 31.78125 34.625 \nQ 24.75 34.625 20.71875 30.859375 \nQ 16.703125 27.09375 16.703125 20.515625 \nQ 16.703125 13.921875 20.71875 10.15625 \nQ 24.75 6.390625 31.78125 6.390625 \nQ 38.8125 6.390625 42.859375 10.171875 \nQ 46.921875 13.96875 46.921875 20.515625 \nQ 46.921875 27.09375 42.890625 30.859375 \nQ 38.875 34.625 31.78125 34.625 \nz\nM 21.921875 38.8125 \nQ 15.578125 40.375 12.03125 44.71875 \nQ 8.5 49.078125 8.5 55.328125 \nQ 8.5 64.0625 14.71875 69.140625 \nQ 20.953125 74.21875 31.78125 74.21875 \nQ 42.671875 74.21875 48.875 69.140625 \nQ 55.078125 64.0625 55.078125 55.328125 \nQ 55.078125 49.078125 51.53125 44.71875 \nQ 48 40.375 41.703125 38.8125 \nQ 48.828125 37.15625 52.796875 32.3125 \nQ 56.78125 27.484375 56.78125 20.515625 \nQ 56.78125 9.90625 50.3125 4.234375 \nQ 43.84375 -1.421875 31.78125 -1.421875 \nQ 19.734375 -1.421875 13.25 4.234375 \nQ 6.78125 9.90625 6.78125 20.515625 \nQ 6.78125 27.484375 10.78125 32.3125 \nQ 14.796875 37.15625 21.921875 38.8125 \nz\nM 18.3125 54.390625 \nQ 18.3125 48.734375 21.84375 45.5625 \nQ 25.390625 42.390625 31.78125 42.390625 \nQ 38.140625 42.390625 41.71875 45.5625 \nQ 45.3125 48.734375 45.3125 54.390625 \nQ 45.3125 60.0625 41.71875 63.234375 \nQ 38.140625 66.40625 31.78125 66.40625 \nQ 25.390625 66.40625 21.84375 63.234375 \nQ 18.3125 60.0625 18.3125 54.390625 \nz\n\" id=\"DejaVuSans-56\"/>\n      </defs>\n      <g transform=\"translate(303.669688 254.356562)scale(0.1 -0.1)\">\n       <use xlink:href=\"#DejaVuSans-48\"/>\n       <use x=\"63.623047\" xlink:href=\"#DejaVuSans-46\"/>\n       <use x=\"95.410156\" xlink:href=\"#DejaVuSans-56\"/>\n      </g>\n     </g>\n    </g>\n    <g id=\"xtick_6\">\n     <g id=\"line2d_11\">\n      <path clip-path=\"url(#p728bfc12b0)\" d=\"M 378.58125 239.758125 \nL 378.58125 22.318125 \n\" style=\"fill:none;stroke:#b0b0b0;stroke-linecap:square;stroke-width:0.8;\"/>\n     </g>\n     <g id=\"line2d_12\">\n      <g>\n       <use style=\"stroke:#000000;stroke-width:0.8;\" x=\"378.58125\" xlink:href=\"#m77897d8046\" y=\"239.758125\"/>\n      </g>\n     </g>\n     <g id=\"text_6\">\n      <!-- 1.0 -->\n      <defs>\n       <path d=\"M 12.40625 8.296875 \nL 28.515625 8.296875 \nL 28.515625 63.921875 \nL 10.984375 60.40625 \nL 10.984375 69.390625 \nL 28.421875 72.90625 \nL 38.28125 72.90625 \nL 38.28125 8.296875 \nL 54.390625 8.296875 \nL 54.390625 0 \nL 12.40625 0 \nz\n\" id=\"DejaVuSans-49\"/>\n      </defs>\n      <g transform=\"translate(370.629687 254.356562)scale(0.1 -0.1)\">\n       <use xlink:href=\"#DejaVuSans-49\"/>\n       <use x=\"63.623047\" xlink:href=\"#DejaVuSans-46\"/>\n       <use x=\"95.410156\" xlink:href=\"#DejaVuSans-48\"/>\n      </g>\n     </g>\n    </g>\n    <g id=\"text_7\">\n     <!-- False Positive Rate (1 - Specificity) -->\n     <defs>\n      <path d=\"M 9.8125 72.90625 \nL 51.703125 72.90625 \nL 51.703125 64.59375 \nL 19.671875 64.59375 \nL 19.671875 43.109375 \nL 48.578125 43.109375 \nL 48.578125 34.8125 \nL 19.671875 34.8125 \nL 19.671875 0 \nL 9.8125 0 \nz\n\" id=\"DejaVuSans-70\"/>\n      <path d=\"M 34.28125 27.484375 \nQ 23.390625 27.484375 19.1875 25 \nQ 14.984375 22.515625 14.984375 16.5 \nQ 14.984375 11.71875 18.140625 8.90625 \nQ 21.296875 6.109375 26.703125 6.109375 \nQ 34.1875 6.109375 38.703125 11.40625 \nQ 43.21875 16.703125 43.21875 25.484375 \nL 43.21875 27.484375 \nz\nM 52.203125 31.203125 \nL 52.203125 0 \nL 43.21875 0 \nL 43.21875 8.296875 \nQ 40.140625 3.328125 35.546875 0.953125 \nQ 30.953125 -1.421875 24.3125 -1.421875 \nQ 15.921875 -1.421875 10.953125 3.296875 \nQ 6 8.015625 6 15.921875 \nQ 6 25.140625 12.171875 29.828125 \nQ 18.359375 34.515625 30.609375 34.515625 \nL 43.21875 34.515625 \nL 43.21875 35.40625 \nQ 43.21875 41.609375 39.140625 45 \nQ 35.0625 48.390625 27.6875 48.390625 \nQ 23 48.390625 18.546875 47.265625 \nQ 14.109375 46.140625 10.015625 43.890625 \nL 10.015625 52.203125 \nQ 14.9375 54.109375 19.578125 55.046875 \nQ 24.21875 56 28.609375 56 \nQ 40.484375 56 46.34375 49.84375 \nQ 52.203125 43.703125 52.203125 31.203125 \nz\n\" id=\"DejaVuSans-97\"/>\n      <path d=\"M 9.421875 75.984375 \nL 18.40625 75.984375 \nL 18.40625 0 \nL 9.421875 0 \nz\n\" id=\"DejaVuSans-108\"/>\n      <path d=\"M 44.28125 53.078125 \nL 44.28125 44.578125 \nQ 40.484375 46.53125 36.375 47.5 \nQ 32.28125 48.484375 27.875 48.484375 \nQ 21.1875 48.484375 17.84375 46.4375 \nQ 14.5 44.390625 14.5 40.28125 \nQ 14.5 37.15625 16.890625 35.375 \nQ 19.28125 33.59375 26.515625 31.984375 \nL 29.59375 31.296875 \nQ 39.15625 29.25 43.1875 25.515625 \nQ 47.21875 21.78125 47.21875 15.09375 \nQ 47.21875 7.46875 41.1875 3.015625 \nQ 35.15625 -1.421875 24.609375 -1.421875 \nQ 20.21875 -1.421875 15.453125 -0.5625 \nQ 10.6875 0.296875 5.421875 2 \nL 5.421875 11.28125 \nQ 10.40625 8.6875 15.234375 7.390625 \nQ 20.0625 6.109375 24.8125 6.109375 \nQ 31.15625 6.109375 34.5625 8.28125 \nQ 37.984375 10.453125 37.984375 14.40625 \nQ 37.984375 18.0625 35.515625 20.015625 \nQ 33.0625 21.96875 24.703125 23.78125 \nL 21.578125 24.515625 \nQ 13.234375 26.265625 9.515625 29.90625 \nQ 5.8125 33.546875 5.8125 39.890625 \nQ 5.8125 47.609375 11.28125 51.796875 \nQ 16.75 56 26.8125 56 \nQ 31.78125 56 36.171875 55.265625 \nQ 40.578125 54.546875 44.28125 53.078125 \nz\n\" id=\"DejaVuSans-115\"/>\n      <path d=\"M 56.203125 29.59375 \nL 56.203125 25.203125 \nL 14.890625 25.203125 \nQ 15.484375 15.921875 20.484375 11.0625 \nQ 25.484375 6.203125 34.421875 6.203125 \nQ 39.59375 6.203125 44.453125 7.46875 \nQ 49.3125 8.734375 54.109375 11.28125 \nL 54.109375 2.78125 \nQ 49.265625 0.734375 44.1875 -0.34375 \nQ 39.109375 -1.421875 33.890625 -1.421875 \nQ 20.796875 -1.421875 13.15625 6.1875 \nQ 5.515625 13.8125 5.515625 26.8125 \nQ 5.515625 40.234375 12.765625 48.109375 \nQ 20.015625 56 32.328125 56 \nQ 43.359375 56 49.78125 48.890625 \nQ 56.203125 41.796875 56.203125 29.59375 \nz\nM 47.21875 32.234375 \nQ 47.125 39.59375 43.09375 43.984375 \nQ 39.0625 48.390625 32.421875 48.390625 \nQ 24.90625 48.390625 20.390625 44.140625 \nQ 15.875 39.890625 15.1875 32.171875 \nz\n\" id=\"DejaVuSans-101\"/>\n      <path id=\"DejaVuSans-32\"/>\n      <path d=\"M 19.671875 64.796875 \nL 19.671875 37.40625 \nL 32.078125 37.40625 \nQ 38.96875 37.40625 42.71875 40.96875 \nQ 46.484375 44.53125 46.484375 51.125 \nQ 46.484375 57.671875 42.71875 61.234375 \nQ 38.96875 64.796875 32.078125 64.796875 \nz\nM 9.8125 72.90625 \nL 32.078125 72.90625 \nQ 44.34375 72.90625 50.609375 67.359375 \nQ 56.890625 61.8125 56.890625 51.125 \nQ 56.890625 40.328125 50.609375 34.8125 \nQ 44.34375 29.296875 32.078125 29.296875 \nL 19.671875 29.296875 \nL 19.671875 0 \nL 9.8125 0 \nz\n\" id=\"DejaVuSans-80\"/>\n      <path d=\"M 30.609375 48.390625 \nQ 23.390625 48.390625 19.1875 42.75 \nQ 14.984375 37.109375 14.984375 27.296875 \nQ 14.984375 17.484375 19.15625 11.84375 \nQ 23.34375 6.203125 30.609375 6.203125 \nQ 37.796875 6.203125 41.984375 11.859375 \nQ 46.1875 17.53125 46.1875 27.296875 \nQ 46.1875 37.015625 41.984375 42.703125 \nQ 37.796875 48.390625 30.609375 48.390625 \nz\nM 30.609375 56 \nQ 42.328125 56 49.015625 48.375 \nQ 55.71875 40.765625 55.71875 27.296875 \nQ 55.71875 13.875 49.015625 6.21875 \nQ 42.328125 -1.421875 30.609375 -1.421875 \nQ 18.84375 -1.421875 12.171875 6.21875 \nQ 5.515625 13.875 5.515625 27.296875 \nQ 5.515625 40.765625 12.171875 48.375 \nQ 18.84375 56 30.609375 56 \nz\n\" id=\"DejaVuSans-111\"/>\n      <path d=\"M 9.421875 54.6875 \nL 18.40625 54.6875 \nL 18.40625 0 \nL 9.421875 0 \nz\nM 9.421875 75.984375 \nL 18.40625 75.984375 \nL 18.40625 64.59375 \nL 9.421875 64.59375 \nz\n\" id=\"DejaVuSans-105\"/>\n      <path d=\"M 18.3125 70.21875 \nL 18.3125 54.6875 \nL 36.8125 54.6875 \nL 36.8125 47.703125 \nL 18.3125 47.703125 \nL 18.3125 18.015625 \nQ 18.3125 11.328125 20.140625 9.421875 \nQ 21.96875 7.515625 27.59375 7.515625 \nL 36.8125 7.515625 \nL 36.8125 0 \nL 27.59375 0 \nQ 17.1875 0 13.234375 3.875 \nQ 9.28125 7.765625 9.28125 18.015625 \nL 9.28125 47.703125 \nL 2.6875 47.703125 \nL 2.6875 54.6875 \nL 9.28125 54.6875 \nL 9.28125 70.21875 \nz\n\" id=\"DejaVuSans-116\"/>\n      <path d=\"M 2.984375 54.6875 \nL 12.5 54.6875 \nL 29.59375 8.796875 \nL 46.6875 54.6875 \nL 56.203125 54.6875 \nL 35.6875 0 \nL 23.484375 0 \nz\n\" id=\"DejaVuSans-118\"/>\n      <path d=\"M 44.390625 34.1875 \nQ 47.5625 33.109375 50.5625 29.59375 \nQ 53.5625 26.078125 56.59375 19.921875 \nL 66.609375 0 \nL 56 0 \nL 46.6875 18.703125 \nQ 43.0625 26.03125 39.671875 28.421875 \nQ 36.28125 30.8125 30.421875 30.8125 \nL 19.671875 30.8125 \nL 19.671875 0 \nL 9.8125 0 \nL 9.8125 72.90625 \nL 32.078125 72.90625 \nQ 44.578125 72.90625 50.734375 67.671875 \nQ 56.890625 62.453125 56.890625 51.90625 \nQ 56.890625 45.015625 53.6875 40.46875 \nQ 50.484375 35.9375 44.390625 34.1875 \nz\nM 19.671875 64.796875 \nL 19.671875 38.921875 \nL 32.078125 38.921875 \nQ 39.203125 38.921875 42.84375 42.21875 \nQ 46.484375 45.515625 46.484375 51.90625 \nQ 46.484375 58.296875 42.84375 61.546875 \nQ 39.203125 64.796875 32.078125 64.796875 \nz\n\" id=\"DejaVuSans-82\"/>\n      <path d=\"M 31 75.875 \nQ 24.46875 64.65625 21.28125 53.65625 \nQ 18.109375 42.671875 18.109375 31.390625 \nQ 18.109375 20.125 21.3125 9.0625 \nQ 24.515625 -2 31 -13.1875 \nL 23.1875 -13.1875 \nQ 15.875 -1.703125 12.234375 9.375 \nQ 8.59375 20.453125 8.59375 31.390625 \nQ 8.59375 42.28125 12.203125 53.3125 \nQ 15.828125 64.359375 23.1875 75.875 \nz\n\" id=\"DejaVuSans-40\"/>\n      <path d=\"M 4.890625 31.390625 \nL 31.203125 31.390625 \nL 31.203125 23.390625 \nL 4.890625 23.390625 \nz\n\" id=\"DejaVuSans-45\"/>\n      <path d=\"M 53.515625 70.515625 \nL 53.515625 60.890625 \nQ 47.90625 63.578125 42.921875 64.890625 \nQ 37.9375 66.21875 33.296875 66.21875 \nQ 25.25 66.21875 20.875 63.09375 \nQ 16.5 59.96875 16.5 54.203125 \nQ 16.5 49.359375 19.40625 46.890625 \nQ 22.3125 44.4375 30.421875 42.921875 \nL 36.375 41.703125 \nQ 47.40625 39.59375 52.65625 34.296875 \nQ 57.90625 29 57.90625 20.125 \nQ 57.90625 9.515625 50.796875 4.046875 \nQ 43.703125 -1.421875 29.984375 -1.421875 \nQ 24.8125 -1.421875 18.96875 -0.25 \nQ 13.140625 0.921875 6.890625 3.21875 \nL 6.890625 13.375 \nQ 12.890625 10.015625 18.65625 8.296875 \nQ 24.421875 6.59375 29.984375 6.59375 \nQ 38.421875 6.59375 43.015625 9.90625 \nQ 47.609375 13.234375 47.609375 19.390625 \nQ 47.609375 24.75 44.3125 27.78125 \nQ 41.015625 30.8125 33.5 32.328125 \nL 27.484375 33.5 \nQ 16.453125 35.6875 11.515625 40.375 \nQ 6.59375 45.0625 6.59375 53.421875 \nQ 6.59375 63.09375 13.40625 68.65625 \nQ 20.21875 74.21875 32.171875 74.21875 \nQ 37.3125 74.21875 42.625 73.28125 \nQ 47.953125 72.359375 53.515625 70.515625 \nz\n\" id=\"DejaVuSans-83\"/>\n      <path d=\"M 18.109375 8.203125 \nL 18.109375 -20.796875 \nL 9.078125 -20.796875 \nL 9.078125 54.6875 \nL 18.109375 54.6875 \nL 18.109375 46.390625 \nQ 20.953125 51.265625 25.265625 53.625 \nQ 29.59375 56 35.59375 56 \nQ 45.5625 56 51.78125 48.09375 \nQ 58.015625 40.1875 58.015625 27.296875 \nQ 58.015625 14.40625 51.78125 6.484375 \nQ 45.5625 -1.421875 35.59375 -1.421875 \nQ 29.59375 -1.421875 25.265625 0.953125 \nQ 20.953125 3.328125 18.109375 8.203125 \nz\nM 48.6875 27.296875 \nQ 48.6875 37.203125 44.609375 42.84375 \nQ 40.53125 48.484375 33.40625 48.484375 \nQ 26.265625 48.484375 22.1875 42.84375 \nQ 18.109375 37.203125 18.109375 27.296875 \nQ 18.109375 17.390625 22.1875 11.75 \nQ 26.265625 6.109375 33.40625 6.109375 \nQ 40.53125 6.109375 44.609375 11.75 \nQ 48.6875 17.390625 48.6875 27.296875 \nz\n\" id=\"DejaVuSans-112\"/>\n      <path d=\"M 48.78125 52.59375 \nL 48.78125 44.1875 \nQ 44.96875 46.296875 41.140625 47.34375 \nQ 37.3125 48.390625 33.40625 48.390625 \nQ 24.65625 48.390625 19.8125 42.84375 \nQ 14.984375 37.3125 14.984375 27.296875 \nQ 14.984375 17.28125 19.8125 11.734375 \nQ 24.65625 6.203125 33.40625 6.203125 \nQ 37.3125 6.203125 41.140625 7.25 \nQ 44.96875 8.296875 48.78125 10.40625 \nL 48.78125 2.09375 \nQ 45.015625 0.34375 40.984375 -0.53125 \nQ 36.96875 -1.421875 32.421875 -1.421875 \nQ 20.0625 -1.421875 12.78125 6.34375 \nQ 5.515625 14.109375 5.515625 27.296875 \nQ 5.515625 40.671875 12.859375 48.328125 \nQ 20.21875 56 33.015625 56 \nQ 37.15625 56 41.109375 55.140625 \nQ 45.0625 54.296875 48.78125 52.59375 \nz\n\" id=\"DejaVuSans-99\"/>\n      <path d=\"M 37.109375 75.984375 \nL 37.109375 68.5 \nL 28.515625 68.5 \nQ 23.6875 68.5 21.796875 66.546875 \nQ 19.921875 64.59375 19.921875 59.515625 \nL 19.921875 54.6875 \nL 34.71875 54.6875 \nL 34.71875 47.703125 \nL 19.921875 47.703125 \nL 19.921875 0 \nL 10.890625 0 \nL 10.890625 47.703125 \nL 2.296875 47.703125 \nL 2.296875 54.6875 \nL 10.890625 54.6875 \nL 10.890625 58.5 \nQ 10.890625 67.625 15.140625 71.796875 \nQ 19.390625 75.984375 28.609375 75.984375 \nz\n\" id=\"DejaVuSans-102\"/>\n      <path d=\"M 32.171875 -5.078125 \nQ 28.375 -14.84375 24.75 -17.8125 \nQ 21.140625 -20.796875 15.09375 -20.796875 \nL 7.90625 -20.796875 \nL 7.90625 -13.28125 \nL 13.1875 -13.28125 \nQ 16.890625 -13.28125 18.9375 -11.515625 \nQ 21 -9.765625 23.484375 -3.21875 \nL 25.09375 0.875 \nL 2.984375 54.6875 \nL 12.5 54.6875 \nL 29.59375 11.921875 \nL 46.6875 54.6875 \nL 56.203125 54.6875 \nz\n\" id=\"DejaVuSans-121\"/>\n      <path d=\"M 8.015625 75.875 \nL 15.828125 75.875 \nQ 23.140625 64.359375 26.78125 53.3125 \nQ 30.421875 42.28125 30.421875 31.390625 \nQ 30.421875 20.453125 26.78125 9.375 \nQ 23.140625 -1.703125 15.828125 -13.1875 \nL 8.015625 -13.1875 \nQ 14.5 -2 17.703125 9.0625 \nQ 20.90625 20.125 20.90625 31.390625 \nQ 20.90625 42.671875 17.703125 53.65625 \nQ 14.5 64.65625 8.015625 75.875 \nz\n\" id=\"DejaVuSans-41\"/>\n     </defs>\n     <g transform=\"translate(124.551563 268.034687)scale(0.1 -0.1)\">\n      <use xlink:href=\"#DejaVuSans-70\"/>\n      <use x=\"57.378906\" xlink:href=\"#DejaVuSans-97\"/>\n      <use x=\"118.658203\" xlink:href=\"#DejaVuSans-108\"/>\n      <use x=\"146.441406\" xlink:href=\"#DejaVuSans-115\"/>\n      <use x=\"198.541016\" xlink:href=\"#DejaVuSans-101\"/>\n      <use x=\"260.064453\" xlink:href=\"#DejaVuSans-32\"/>\n      <use x=\"291.851562\" xlink:href=\"#DejaVuSans-80\"/>\n      <use x=\"352.107422\" xlink:href=\"#DejaVuSans-111\"/>\n      <use x=\"413.289062\" xlink:href=\"#DejaVuSans-115\"/>\n      <use x=\"465.388672\" xlink:href=\"#DejaVuSans-105\"/>\n      <use x=\"493.171875\" xlink:href=\"#DejaVuSans-116\"/>\n      <use x=\"532.380859\" xlink:href=\"#DejaVuSans-105\"/>\n      <use x=\"560.164062\" xlink:href=\"#DejaVuSans-118\"/>\n      <use x=\"619.34375\" xlink:href=\"#DejaVuSans-101\"/>\n      <use x=\"680.867188\" xlink:href=\"#DejaVuSans-32\"/>\n      <use x=\"712.654297\" xlink:href=\"#DejaVuSans-82\"/>\n      <use x=\"782.105469\" xlink:href=\"#DejaVuSans-97\"/>\n      <use x=\"843.384766\" xlink:href=\"#DejaVuSans-116\"/>\n      <use x=\"882.59375\" xlink:href=\"#DejaVuSans-101\"/>\n      <use x=\"944.117188\" xlink:href=\"#DejaVuSans-32\"/>\n      <use x=\"975.904297\" xlink:href=\"#DejaVuSans-40\"/>\n      <use x=\"1014.917969\" xlink:href=\"#DejaVuSans-49\"/>\n      <use x=\"1078.541016\" xlink:href=\"#DejaVuSans-32\"/>\n      <use x=\"1110.328125\" xlink:href=\"#DejaVuSans-45\"/>\n      <use x=\"1146.412109\" xlink:href=\"#DejaVuSans-32\"/>\n      <use x=\"1178.199219\" xlink:href=\"#DejaVuSans-83\"/>\n      <use x=\"1241.675781\" xlink:href=\"#DejaVuSans-112\"/>\n      <use x=\"1305.152344\" xlink:href=\"#DejaVuSans-101\"/>\n      <use x=\"1366.675781\" xlink:href=\"#DejaVuSans-99\"/>\n      <use x=\"1421.65625\" xlink:href=\"#DejaVuSans-105\"/>\n      <use x=\"1449.439453\" xlink:href=\"#DejaVuSans-102\"/>\n      <use x=\"1484.644531\" xlink:href=\"#DejaVuSans-105\"/>\n      <use x=\"1512.427734\" xlink:href=\"#DejaVuSans-99\"/>\n      <use x=\"1567.408203\" xlink:href=\"#DejaVuSans-105\"/>\n      <use x=\"1595.191406\" xlink:href=\"#DejaVuSans-116\"/>\n      <use x=\"1634.400391\" xlink:href=\"#DejaVuSans-121\"/>\n      <use x=\"1693.580078\" xlink:href=\"#DejaVuSans-41\"/>\n     </g>\n    </g>\n   </g>\n   <g id=\"matplotlib.axis_2\">\n    <g id=\"ytick_1\">\n     <g id=\"line2d_13\">\n      <path clip-path=\"url(#p728bfc12b0)\" d=\"M 43.78125 239.758125 \nL 378.58125 239.758125 \n\" style=\"fill:none;stroke:#b0b0b0;stroke-linecap:square;stroke-width:0.8;\"/>\n     </g>\n     <g id=\"line2d_14\">\n      <defs>\n       <path d=\"M 0 0 \nL -3.5 0 \n\" id=\"md21737edf4\" style=\"stroke:#000000;stroke-width:0.8;\"/>\n      </defs>\n      <g>\n       <use style=\"stroke:#000000;stroke-width:0.8;\" x=\"43.78125\" xlink:href=\"#md21737edf4\" y=\"239.758125\"/>\n      </g>\n     </g>\n     <g id=\"text_8\">\n      <!-- 0.0 -->\n      <g transform=\"translate(20.878125 243.557344)scale(0.1 -0.1)\">\n       <use xlink:href=\"#DejaVuSans-48\"/>\n       <use x=\"63.623047\" xlink:href=\"#DejaVuSans-46\"/>\n       <use x=\"95.410156\" xlink:href=\"#DejaVuSans-48\"/>\n      </g>\n     </g>\n    </g>\n    <g id=\"ytick_2\">\n     <g id=\"line2d_15\">\n      <path clip-path=\"url(#p728bfc12b0)\" d=\"M 43.78125 196.270125 \nL 378.58125 196.270125 \n\" style=\"fill:none;stroke:#b0b0b0;stroke-linecap:square;stroke-width:0.8;\"/>\n     </g>\n     <g id=\"line2d_16\">\n      <g>\n       <use style=\"stroke:#000000;stroke-width:0.8;\" x=\"43.78125\" xlink:href=\"#md21737edf4\" y=\"196.270125\"/>\n      </g>\n     </g>\n     <g id=\"text_9\">\n      <!-- 0.2 -->\n      <g transform=\"translate(20.878125 200.069344)scale(0.1 -0.1)\">\n       <use xlink:href=\"#DejaVuSans-48\"/>\n       <use x=\"63.623047\" xlink:href=\"#DejaVuSans-46\"/>\n       <use x=\"95.410156\" xlink:href=\"#DejaVuSans-50\"/>\n      </g>\n     </g>\n    </g>\n    <g id=\"ytick_3\">\n     <g id=\"line2d_17\">\n      <path clip-path=\"url(#p728bfc12b0)\" d=\"M 43.78125 152.782125 \nL 378.58125 152.782125 \n\" style=\"fill:none;stroke:#b0b0b0;stroke-linecap:square;stroke-width:0.8;\"/>\n     </g>\n     <g id=\"line2d_18\">\n      <g>\n       <use style=\"stroke:#000000;stroke-width:0.8;\" x=\"43.78125\" xlink:href=\"#md21737edf4\" y=\"152.782125\"/>\n      </g>\n     </g>\n     <g id=\"text_10\">\n      <!-- 0.4 -->\n      <g transform=\"translate(20.878125 156.581344)scale(0.1 -0.1)\">\n       <use xlink:href=\"#DejaVuSans-48\"/>\n       <use x=\"63.623047\" xlink:href=\"#DejaVuSans-46\"/>\n       <use x=\"95.410156\" xlink:href=\"#DejaVuSans-52\"/>\n      </g>\n     </g>\n    </g>\n    <g id=\"ytick_4\">\n     <g id=\"line2d_19\">\n      <path clip-path=\"url(#p728bfc12b0)\" d=\"M 43.78125 109.294125 \nL 378.58125 109.294125 \n\" style=\"fill:none;stroke:#b0b0b0;stroke-linecap:square;stroke-width:0.8;\"/>\n     </g>\n     <g id=\"line2d_20\">\n      <g>\n       <use style=\"stroke:#000000;stroke-width:0.8;\" x=\"43.78125\" xlink:href=\"#md21737edf4\" y=\"109.294125\"/>\n      </g>\n     </g>\n     <g id=\"text_11\">\n      <!-- 0.6 -->\n      <g transform=\"translate(20.878125 113.093344)scale(0.1 -0.1)\">\n       <use xlink:href=\"#DejaVuSans-48\"/>\n       <use x=\"63.623047\" xlink:href=\"#DejaVuSans-46\"/>\n       <use x=\"95.410156\" xlink:href=\"#DejaVuSans-54\"/>\n      </g>\n     </g>\n    </g>\n    <g id=\"ytick_5\">\n     <g id=\"line2d_21\">\n      <path clip-path=\"url(#p728bfc12b0)\" d=\"M 43.78125 65.806125 \nL 378.58125 65.806125 \n\" style=\"fill:none;stroke:#b0b0b0;stroke-linecap:square;stroke-width:0.8;\"/>\n     </g>\n     <g id=\"line2d_22\">\n      <g>\n       <use style=\"stroke:#000000;stroke-width:0.8;\" x=\"43.78125\" xlink:href=\"#md21737edf4\" y=\"65.806125\"/>\n      </g>\n     </g>\n     <g id=\"text_12\">\n      <!-- 0.8 -->\n      <g transform=\"translate(20.878125 69.605344)scale(0.1 -0.1)\">\n       <use xlink:href=\"#DejaVuSans-48\"/>\n       <use x=\"63.623047\" xlink:href=\"#DejaVuSans-46\"/>\n       <use x=\"95.410156\" xlink:href=\"#DejaVuSans-56\"/>\n      </g>\n     </g>\n    </g>\n    <g id=\"ytick_6\">\n     <g id=\"line2d_23\">\n      <path clip-path=\"url(#p728bfc12b0)\" d=\"M 43.78125 22.318125 \nL 378.58125 22.318125 \n\" style=\"fill:none;stroke:#b0b0b0;stroke-linecap:square;stroke-width:0.8;\"/>\n     </g>\n     <g id=\"line2d_24\">\n      <g>\n       <use style=\"stroke:#000000;stroke-width:0.8;\" x=\"43.78125\" xlink:href=\"#md21737edf4\" y=\"22.318125\"/>\n      </g>\n     </g>\n     <g id=\"text_13\">\n      <!-- 1.0 -->\n      <g transform=\"translate(20.878125 26.117344)scale(0.1 -0.1)\">\n       <use xlink:href=\"#DejaVuSans-49\"/>\n       <use x=\"63.623047\" xlink:href=\"#DejaVuSans-46\"/>\n       <use x=\"95.410156\" xlink:href=\"#DejaVuSans-48\"/>\n      </g>\n     </g>\n    </g>\n    <g id=\"text_14\">\n     <!-- True Positive Rate (Sensitivity) -->\n     <defs>\n      <path d=\"M -0.296875 72.90625 \nL 61.375 72.90625 \nL 61.375 64.59375 \nL 35.5 64.59375 \nL 35.5 0 \nL 25.59375 0 \nL 25.59375 64.59375 \nL -0.296875 64.59375 \nz\n\" id=\"DejaVuSans-84\"/>\n      <path d=\"M 41.109375 46.296875 \nQ 39.59375 47.171875 37.8125 47.578125 \nQ 36.03125 48 33.890625 48 \nQ 26.265625 48 22.1875 43.046875 \nQ 18.109375 38.09375 18.109375 28.8125 \nL 18.109375 0 \nL 9.078125 0 \nL 9.078125 54.6875 \nL 18.109375 54.6875 \nL 18.109375 46.1875 \nQ 20.953125 51.171875 25.484375 53.578125 \nQ 30.03125 56 36.53125 56 \nQ 37.453125 56 38.578125 55.875 \nQ 39.703125 55.765625 41.0625 55.515625 \nz\n\" id=\"DejaVuSans-114\"/>\n      <path d=\"M 8.5 21.578125 \nL 8.5 54.6875 \nL 17.484375 54.6875 \nL 17.484375 21.921875 \nQ 17.484375 14.15625 20.5 10.265625 \nQ 23.53125 6.390625 29.59375 6.390625 \nQ 36.859375 6.390625 41.078125 11.03125 \nQ 45.3125 15.671875 45.3125 23.6875 \nL 45.3125 54.6875 \nL 54.296875 54.6875 \nL 54.296875 0 \nL 45.3125 0 \nL 45.3125 8.40625 \nQ 42.046875 3.421875 37.71875 1 \nQ 33.40625 -1.421875 27.6875 -1.421875 \nQ 18.265625 -1.421875 13.375 4.4375 \nQ 8.5 10.296875 8.5 21.578125 \nz\nM 31.109375 56 \nz\n\" id=\"DejaVuSans-117\"/>\n      <path d=\"M 54.890625 33.015625 \nL 54.890625 0 \nL 45.90625 0 \nL 45.90625 32.71875 \nQ 45.90625 40.484375 42.875 44.328125 \nQ 39.84375 48.1875 33.796875 48.1875 \nQ 26.515625 48.1875 22.3125 43.546875 \nQ 18.109375 38.921875 18.109375 30.90625 \nL 18.109375 0 \nL 9.078125 0 \nL 9.078125 54.6875 \nL 18.109375 54.6875 \nL 18.109375 46.1875 \nQ 21.34375 51.125 25.703125 53.5625 \nQ 30.078125 56 35.796875 56 \nQ 45.21875 56 50.046875 50.171875 \nQ 54.890625 44.34375 54.890625 33.015625 \nz\n\" id=\"DejaVuSans-110\"/>\n     </defs>\n     <g transform=\"translate(14.798438 208.105312)rotate(-90)scale(0.1 -0.1)\">\n      <use xlink:href=\"#DejaVuSans-84\"/>\n      <use x=\"60.865234\" xlink:href=\"#DejaVuSans-114\"/>\n      <use x=\"101.978516\" xlink:href=\"#DejaVuSans-117\"/>\n      <use x=\"165.357422\" xlink:href=\"#DejaVuSans-101\"/>\n      <use x=\"226.880859\" xlink:href=\"#DejaVuSans-32\"/>\n      <use x=\"258.667969\" xlink:href=\"#DejaVuSans-80\"/>\n      <use x=\"318.923828\" xlink:href=\"#DejaVuSans-111\"/>\n      <use x=\"380.105469\" xlink:href=\"#DejaVuSans-115\"/>\n      <use x=\"432.205078\" xlink:href=\"#DejaVuSans-105\"/>\n      <use x=\"459.988281\" xlink:href=\"#DejaVuSans-116\"/>\n      <use x=\"499.197266\" xlink:href=\"#DejaVuSans-105\"/>\n      <use x=\"526.980469\" xlink:href=\"#DejaVuSans-118\"/>\n      <use x=\"586.160156\" xlink:href=\"#DejaVuSans-101\"/>\n      <use x=\"647.683594\" xlink:href=\"#DejaVuSans-32\"/>\n      <use x=\"679.470703\" xlink:href=\"#DejaVuSans-82\"/>\n      <use x=\"748.921875\" xlink:href=\"#DejaVuSans-97\"/>\n      <use x=\"810.201172\" xlink:href=\"#DejaVuSans-116\"/>\n      <use x=\"849.410156\" xlink:href=\"#DejaVuSans-101\"/>\n      <use x=\"910.933594\" xlink:href=\"#DejaVuSans-32\"/>\n      <use x=\"942.720703\" xlink:href=\"#DejaVuSans-40\"/>\n      <use x=\"981.734375\" xlink:href=\"#DejaVuSans-83\"/>\n      <use x=\"1045.210938\" xlink:href=\"#DejaVuSans-101\"/>\n      <use x=\"1106.734375\" xlink:href=\"#DejaVuSans-110\"/>\n      <use x=\"1170.113281\" xlink:href=\"#DejaVuSans-115\"/>\n      <use x=\"1222.212891\" xlink:href=\"#DejaVuSans-105\"/>\n      <use x=\"1249.996094\" xlink:href=\"#DejaVuSans-116\"/>\n      <use x=\"1289.205078\" xlink:href=\"#DejaVuSans-105\"/>\n      <use x=\"1316.988281\" xlink:href=\"#DejaVuSans-118\"/>\n      <use x=\"1376.167969\" xlink:href=\"#DejaVuSans-105\"/>\n      <use x=\"1403.951172\" xlink:href=\"#DejaVuSans-116\"/>\n      <use x=\"1443.160156\" xlink:href=\"#DejaVuSans-121\"/>\n      <use x=\"1502.339844\" xlink:href=\"#DejaVuSans-41\"/>\n     </g>\n    </g>\n   </g>\n   <g id=\"line2d_25\">\n    <path clip-path=\"url(#p728bfc12b0)\" d=\"M 43.78125 239.758125 \nL 43.87119 239.339703 \nL 43.961129 239.269966 \nL 44.006099 239.130492 \nL 44.096038 239.130492 \nL 44.185978 238.363385 \nL 44.230948 238.363385 \nL 44.275918 238.0147 \nL 44.410827 237.944963 \nL 44.500766 237.735752 \nL 44.860525 237.666015 \nL 44.860525 237.526541 \nL 45.040404 237.526541 \nL 45.130343 236.898908 \nL 45.310222 236.829171 \nL 45.355192 236.410748 \nL 45.490102 236.341011 \nL 45.580041 236.062063 \nL 45.669981 236.062063 \nL 45.669981 235.852852 \nL 45.984769 235.783115 \nL 46.074709 235.573904 \nL 46.164648 235.504167 \nL 46.254588 234.73706 \nL 46.299558 234.73706 \nL 46.389497 234.179164 \nL 46.524406 234.179164 \nL 46.614346 233.691005 \nL 46.794225 233.691005 \nL 46.794225 233.551531 \nL 47.019074 233.481794 \nL 47.064044 233.133109 \nL 47.243923 233.133109 \nL 47.288893 232.714687 \nL 47.423802 232.64495 \nL 47.423802 232.505476 \nL 47.558711 232.505476 \nL 47.648651 232.156791 \nL 47.963439 232.087054 \nL 47.963439 232.017317 \nL 48.143319 231.94758 \nL 48.233258 231.529158 \nL 48.458107 231.459421 \nL 48.548047 230.901525 \nL 48.593016 230.901525 \nL 48.682956 230.343629 \nL 48.727926 230.343629 \nL 48.817865 229.855469 \nL 48.907805 229.785732 \nL 48.952775 229.36731 \nL 48.997744 229.36731 \nL 49.132654 229.227836 \nL 49.267563 229.227836 \nL 49.357503 228.042307 \nL 49.447442 228.042307 \nL 49.537382 227.623885 \nL 49.627321 227.554148 \nL 49.672291 226.368619 \nL 49.762231 226.368619 \nL 49.85217 225.88046 \nL 49.987079 225.810723 \nL 50.077019 225.043616 \nL 50.121989 225.043616 \nL 50.211928 223.648875 \nL 50.256898 223.509401 \nL 50.256898 222.812031 \nL 50.346838 222.812031 \nL 50.436777 222.742294 \nL 50.526717 221.835713 \nL 50.571687 221.835713 \nL 50.616656 221.20808 \nL 50.706596 221.20808 \nL 50.796535 220.371236 \nL 51.021384 220.301499 \nL 51.021384 220.162025 \nL 51.066354 220.162025 \nL 51.246233 220.092288 \nL 51.336173 219.255444 \nL 51.516052 219.255444 \nL 51.605991 218.348863 \nL 51.785871 218.279126 \nL 51.87581 217.581756 \nL 51.92078 217.581756 \nL 52.010719 217.023859 \nL 52.100659 216.954122 \nL 52.145629 216.465963 \nL 52.190599 216.465963 \nL 52.415447 216.326489 \nL 52.460417 215.629119 \nL 52.550357 215.629119 \nL 52.640296 215.350171 \nL 52.685266 215.350171 \nL 52.775206 214.304116 \nL 52.865145 214.304116 \nL 53.314843 212.072532 \nL 53.449752 212.002795 \nL 53.539692 211.793584 \nL 53.629631 211.723847 \nL 53.719571 211.165951 \nL 53.809511 211.096214 \nL 53.85448 210.747528 \nL 53.98939 210.747528 \nL 53.98939 210.677791 \nL 54.079329 209.492262 \nL 54.124299 209.492262 \nL 54.214239 208.934366 \nL 54.349148 208.934366 \nL 54.439087 207.400152 \nL 54.484057 207.400152 \nL 54.573997 206.563308 \nL 54.708906 206.493571 \nL 54.798846 206.144886 \nL 54.843815 206.144886 \nL 54.933755 205.238305 \nL 54.978725 205.238305 \nL 54.978725 205.168568 \nL 55.068664 204.540934 \nL 55.113634 204.540934 \nL 55.203574 203.843564 \nL 55.293513 203.773827 \nL 55.338483 203.564616 \nL 55.383453 203.564616 \nL 55.518362 203.355405 \nL 55.608302 202.727772 \nL 55.653271 202.518561 \nL 55.87812 202.448824 \nL 55.92309 202.169876 \nL 56.01303 202.169876 \nL 56.057999 201.890928 \nL 56.147939 201.890928 \nL 56.237879 200.844873 \nL 56.372788 200.775136 \nL 56.462728 200.635662 \nL 56.507697 200.635662 \nL 56.597637 200.077766 \nL 56.687576 200.077766 \nL 56.687576 200.008029 \nL 56.777516 199.798818 \nL 56.867456 198.404078 \nL 56.912425 198.404078 \nL 57.002365 198.055392 \nL 57.137274 198.055392 \nL 57.182244 197.706707 \nL 57.362123 197.706707 \nL 57.452063 197.427759 \nL 57.676912 197.358022 \nL 57.676912 196.730389 \nL 57.856791 196.660652 \nL 57.94673 196.521178 \nL 58.216549 196.451441 \nL 58.216549 196.381704 \nL 58.261519 196.381704 \nL 58.711216 194.777753 \nL 58.846126 194.777753 \nL 58.846126 194.708016 \nL 59.475703 193.661961 \nL 59.565642 193.243539 \nL 59.745521 193.173802 \nL 59.835461 192.894854 \nL 59.880431 192.894854 \nL 59.880431 192.825117 \nL 59.97037 192.546169 \nL 60.06031 192.546169 \nL 60.06031 192.476432 \nL 60.240189 192.267221 \nL 60.330128 192.267221 \nL 60.330128 192.197484 \nL 61.184554 189.826425 \nL 61.274494 189.826425 \nL 61.724192 189.338266 \nL 61.769161 188.989581 \nL 61.904071 188.989581 \nL 61.99401 188.361948 \nL 62.08395 188.292211 \nL 62.308799 187.804052 \nL 62.533648 187.734315 \nL 62.623587 187.176419 \nL 62.668557 187.176419 \nL 62.668557 187.036945 \nL 62.713527 187.036945 \nL 62.938376 186.548786 \nL 63.028315 186.339575 \nL 63.163224 186.269838 \nL 63.208194 186.130364 \nL 63.343104 186.060627 \nL 63.343104 185.851416 \nL 63.567952 185.781679 \nL 63.657892 185.293519 \nL 63.837771 185.223782 \nL 63.882741 184.665886 \nL 63.927711 184.665886 \nL 64.242499 184.177727 \nL 64.602257 184.10799 \nL 64.602257 183.968516 \nL 64.782137 183.898779 \nL 64.782137 183.619831 \nL 65.006985 183.619831 \nL 65.051955 183.061935 \nL 65.186865 182.992198 \nL 65.186865 182.922461 \nL 65.321774 182.922461 \nL 65.321774 182.782987 \nL 65.546623 182.71325 \nL 65.591593 182.364565 \nL 65.726502 182.294828 \nL 65.816441 182.085617 \nL 65.861411 182.085617 \nL 65.906381 181.736932 \nL 66.401049 181.248773 \nL 66.446018 180.900088 \nL 66.670867 180.272455 \nL 66.760807 179.714559 \nL 66.805777 179.714559 \nL 66.805777 179.644822 \nL 66.850746 179.365874 \nL 67.075595 179.296137 \nL 67.165535 179.017189 \nL 67.345414 179.017189 \nL 67.435353 178.668503 \nL 67.480323 178.668503 \nL 67.525293 178.389555 \nL 68.19984 176.994815 \nL 68.514628 176.925078 \nL 68.964326 175.739549 \nL 69.099235 175.669812 \nL 69.144205 175.600075 \nL 69.279114 175.600075 \nL 69.279114 174.902705 \nL 69.548933 174.832968 \nL 69.593903 174.623757 \nL 69.728812 174.55402 \nL 69.728812 174.414546 \nL 69.818752 174.414546 \nL 69.998631 174.344809 \nL 70.08857 174.205335 \nL 70.268449 174.135598 \nL 70.268449 173.996124 \nL 70.358389 173.996124 \nL 70.448329 173.717176 \nL 70.538268 173.368491 \nL 70.583238 173.368491 \nL 70.808087 172.880332 \nL 71.077905 172.810595 \nL 71.122875 172.671121 \nL 71.392694 172.601383 \nL 71.437664 172.043487 \nL 71.662513 171.97375 \nL 71.662513 171.834276 \nL 71.842392 171.834276 \nL 71.932331 171.346117 \nL 72.15718 171.27638 \nL 72.24712 170.439536 \nL 72.292089 170.439536 \nL 72.471969 170.160588 \nL 72.606878 170.160588 \nL 72.606878 170.090851 \nL 72.696817 169.88164 \nL 72.696817 169.742166 \nL 72.921666 169.672429 \nL 72.966636 169.323744 \nL 73.056576 169.323744 \nL 73.056576 169.254007 \nL 73.146515 168.835585 \nL 73.236455 168.765848 \nL 73.326394 168.4869 \nL 73.416334 168.4869 \nL 73.506274 167.78953 \nL 73.551243 167.78953 \nL 73.641183 167.580319 \nL 73.821062 167.371108 \nL 73.955971 167.371108 \nL 74.045911 167.09216 \nL 74.31573 167.09216 \nL 74.405669 166.604001 \nL 74.675488 166.115841 \nL 75.484944 164.860575 \nL 75.484944 164.51189 \nL 75.529914 164.51189 \nL 75.844702 164.442153 \nL 75.844702 164.302679 \nL 75.934642 164.302679 \nL 76.15949 164.232942 \nL 77.193795 162.698728 \nL 77.283735 162.698728 \nL 77.373674 162.071095 \nL 77.508584 162.001358 \nL 77.598523 161.792147 \nL 77.733433 161.792147 \nL 77.823372 161.373725 \nL 77.958282 161.303988 \nL 78.003251 160.955303 \nL 78.2281 160.885566 \nL 78.27307 160.397407 \nL 78.36301 160.397407 \nL 78.407979 159.909248 \nL 78.452949 159.909248 \nL 78.497919 159.839511 \nL 78.542889 159.421088 \nL 78.767738 159.351351 \nL 78.857677 159.072403 \nL 78.947617 159.072403 \nL 78.992586 158.863192 \nL 79.037556 158.863192 \nL 79.082526 158.793455 \nL 79.172466 158.165822 \nL 79.307375 158.096085 \nL 79.352345 157.956611 \nL 79.577194 157.956611 \nL 79.622163 157.538189 \nL 79.802042 157.538189 \nL 79.802042 157.259241 \nL 80.071861 157.189504 \nL 80.071861 157.119767 \nL 80.25174 157.119767 \nL 80.34168 156.492134 \nL 80.566529 156.422397 \nL 80.656468 156.213186 \nL 80.881317 156.143449 \nL 80.971257 155.864501 \nL 81.151136 155.794764 \nL 81.241075 155.585553 \nL 81.286045 155.585553 \nL 81.375985 155.167131 \nL 81.465924 155.097394 \nL 81.510894 154.609235 \nL 81.735743 154.539498 \nL 81.825683 154.121076 \nL 81.870652 154.121076 \nL 81.870652 153.911865 \nL 82.095501 153.911865 \nL 82.095501 153.772391 \nL 82.140471 153.772391 \nL 82.635139 153.702654 \nL 82.725078 153.493443 \nL 82.904957 153.214494 \nL 83.129806 153.144757 \nL 83.759383 152.586861 \nL 83.759383 152.447387 \nL 84.074171 152.37765 \nL 84.164111 152.168439 \nL 84.254051 152.098702 \nL 84.254051 152.028965 \nL 84.43393 151.959228 \nL 84.523869 151.889491 \nL 84.613809 151.331595 \nL 84.658779 151.331595 \nL 84.658779 151.261858 \nL 84.793688 151.052647 \nL 84.973567 150.98291 \nL 84.973567 150.843436 \nL 85.288355 150.773699 \nL 85.378295 150.355277 \nL 85.468235 150.355277 \nL 85.513204 150.146066 \nL 85.603144 150.146066 \nL 85.648114 149.727644 \nL 85.872963 149.657907 \nL 85.917932 149.169748 \nL 86.052842 149.100011 \nL 86.097811 148.8908 \nL 86.32266 148.821063 \nL 86.36763 148.611852 \nL 86.4126 148.611852 \nL 86.592479 148.611852 \nL 86.592479 148.542115 \nL 86.592479 148.123693 \nL 86.817328 148.053956 \nL 86.862298 147.914482 \nL 87.177086 147.844745 \nL 87.311995 147.426323 \nL 87.446905 147.426323 \nL 87.896603 146.589478 \nL 87.896603 146.519741 \nL 88.256361 146.519741 \nL 88.3463 146.031582 \nL 88.571149 145.961845 \nL 88.616119 145.61316 \nL 89.065817 145.543423 \nL 89.065817 145.473686 \nL 89.290666 145.403949 \nL 89.380605 145.125001 \nL 89.425575 145.125001 \nL 89.425575 145.055264 \nL 89.515515 144.706579 \nL 89.560484 144.706579 \nL 89.650424 144.427631 \nL 89.830303 144.427631 \nL 89.920243 144.21842 \nL 90.010182 144.148683 \nL 90.010182 144.078946 \nL 90.145092 144.078946 \nL 90.235031 143.660524 \nL 90.36994 143.660524 \nL 90.36994 143.52105 \nL 90.54982 143.52105 \nL 90.54982 143.242102 \nL 90.594789 143.242102 \nL 90.729699 143.172365 \nL 90.729699 143.102628 \nL 90.774668 143.102628 \nL 91.089457 142.893417 \nL 91.359276 142.82368 \nL 91.449215 141.917099 \nL 91.584124 141.847362 \nL 91.629094 141.707888 \nL 91.764004 141.638151 \nL 91.853943 141.42894 \nL 91.988852 141.359203 \nL 92.078792 141.010518 \nL 92.168732 140.801307 \nL 92.168732 140.522358 \nL 92.348611 140.452621 \nL 92.843278 138.988144 \nL 93.158067 138.988144 \nL 93.158067 138.569722 \nL 93.292976 138.569722 \nL 93.382916 138.081563 \nL 93.517825 138.011826 \nL 93.607764 137.732878 \nL 93.877583 137.663141 \nL 94.057462 137.523667 \nL 94.327281 137.45393 \nL 94.41722 137.105245 \nL 94.50716 137.035508 \nL 94.5971 136.686823 \nL 94.687039 136.617086 \nL 94.732009 136.407875 \nL 94.821948 136.407875 \nL 94.956858 136.268401 \nL 95.136737 136.268401 \nL 95.136737 136.128927 \nL 95.271646 136.128927 \nL 95.271646 136.05919 \nL 95.676374 135.780242 \nL 95.766314 135.152609 \nL 95.856253 135.152609 \nL 95.901223 134.734187 \nL 96.036132 134.66445 \nL 96.126072 134.385502 \nL 96.350921 134.315765 \nL 96.395891 134.036816 \nL 96.710679 133.688131 \nL 96.845588 133.618394 \nL 96.845588 133.47892 \nL 96.980498 133.47892 \nL 96.980498 133.339446 \nL 97.160377 133.339446 \nL 97.340256 133.060498 \nL 97.700014 132.921024 \nL 97.744984 132.432865 \nL 97.879893 132.432865 \nL 97.924863 132.153917 \nL 98.014803 132.153917 \nL 98.014803 132.08418 \nL 98.104742 131.805232 \nL 98.284621 131.735495 \nL 98.374561 131.317073 \nL 98.50947 131.247336 \nL 98.59941 130.898651 \nL 98.959168 130.68944 \nL 99.184017 130.619703 \nL 99.184017 130.549966 \nL 99.228987 130.549966 \nL 99.453836 130.549966 \nL 99.543775 130.340755 \nL 99.768624 130.340755 \nL 99.858564 130.131544 \nL 100.083413 130.061807 \nL 100.173352 129.852596 \nL 100.443171 129.782859 \nL 100.53311 129.2947 \nL 100.66802 129.224963 \nL 100.712989 128.876278 \nL 100.847899 128.876278 \nL 100.847899 128.736804 \nL 100.892869 128.736804 \nL 101.027778 128.667067 \nL 101.117717 128.457856 \nL 101.162687 128.457856 \nL 101.477476 128.039434 \nL 101.612385 128.039434 \nL 101.612385 127.969697 \nL 102.062083 127.481537 \nL 102.107053 127.4118 \nL 102.421841 127.342063 \nL 102.511781 127.132852 \nL 102.511781 126.993378 \nL 102.55675 126.993378 \nL 102.826569 126.923641 \nL 102.916509 126.435482 \nL 103.006448 126.435482 \nL 103.096388 126.086797 \nL 103.366206 126.01706 \nL 103.366206 125.877586 \nL 103.591055 125.807849 \nL 103.680995 125.528901 \nL 103.950813 125.459164 \nL 104.040753 125.110479 \nL 104.400511 125.040742 \nL 104.400511 124.971005 \nL 104.490451 124.971005 \nL 104.58039 124.831531 \nL 104.940149 124.761794 \nL 105.030088 124.482846 \nL 105.120028 124.482846 \nL 105.164997 124.203898 \nL 105.344877 124.134161 \nL 105.344877 124.064424 \nL 105.569725 123.994687 \nL 105.659665 123.646002 \nL 105.839544 123.576265 \nL 105.884514 123.297317 \nL 106.019423 123.297317 \nL 106.064393 123.088106 \nL 106.244272 123.018369 \nL 106.289242 122.739421 \nL 106.69397 122.669684 \nL 106.873849 122.390736 \nL 107.278577 122.320999 \nL 107.413486 122.111788 \nL 107.413486 121.902577 \nL 107.548396 121.902577 \nL 107.638335 121.484155 \nL 107.998094 121.414417 \nL 108.088033 121.205206 \nL 108.267912 121.135469 \nL 108.267912 121.065732 \nL 108.402822 121.065732 \nL 108.492761 120.64731 \nL 108.62767 120.577573 \nL 108.62767 120.507836 \nL 108.897489 120.507836 \nL 108.942459 120.228888 \nL 109.032398 120.228888 \nL 109.032398 120.159151 \nL 109.167308 120.019677 \nL 109.302217 119.94994 \nL 109.302217 119.880203 \nL 109.392157 119.880203 \nL 109.482096 119.810466 \nL 109.482096 119.531518 \nL 109.841854 119.322307 \nL 109.931794 119.113096 \nL 110.111673 119.043359 \nL 110.156643 118.694674 \nL 110.69628 118.485463 \nL 110.69628 118.206515 \nL 110.876159 118.206515 \nL 110.966099 117.927567 \nL 111.190948 117.927567 \nL 111.235918 117.578882 \nL 111.460766 117.578882 \nL 111.460766 117.369671 \nL 111.685615 117.299934 \nL 111.865494 117.020986 \nL 111.865494 116.742038 \nL 111.955434 116.742038 \nL 112.090343 116.602564 \nL 112.315192 116.602564 \nL 112.315192 116.393353 \nL 112.405132 116.393353 \nL 112.450102 116.393353 \nL 112.450102 116.253879 \nL 112.585011 116.253879 \nL 112.629981 115.835457 \nL 112.85483 115.76572 \nL 113.079678 115.76572 \nL 113.169618 115.556509 \nL 113.214588 115.556509 \nL 113.214588 115.417035 \nL 113.439437 115.417035 \nL 113.439437 115.347298 \nL 113.754225 114.928875 \nL 113.844165 114.928875 \nL 113.889134 114.510453 \nL 114.069014 114.440716 \nL 114.069014 114.370979 \nL 114.473742 114.301242 \nL 114.563681 114.161768 \nL 114.608651 114.161768 \nL 114.608651 114.022294 \nL 115.058349 113.952557 \nL 115.103319 113.813083 \nL 115.597986 113.743346 \nL 115.642956 113.603872 \nL 116.002714 113.324924 \nL 116.137623 113.324924 \nL 116.452412 112.976239 \nL 116.542351 112.767028 \nL 116.90211 112.697291 \nL 116.90211 112.557817 \nL 117.261868 112.069658 \nL 117.531687 112.069658 \nL 117.531687 111.930184 \nL 117.576656 111.930184 \nL 117.666596 111.860447 \nL 117.756535 111.442025 \nL 117.801505 111.442025 \nL 118.116294 111.023603 \nL 118.296173 110.953866 \nL 118.341143 110.744655 \nL 118.610961 110.674918 \nL 118.610961 110.535444 \nL 118.700901 110.535444 \nL 119.375447 109.349915 \nL 119.375447 109.140704 \nL 119.465387 109.140704 \nL 119.735206 109.070967 \nL 119.825145 108.931493 \nL 120.005024 108.861756 \nL 120.049994 108.443333 \nL 120.274843 108.443333 \nL 120.364783 108.024911 \nL 120.544662 107.955174 \nL 120.634601 107.745963 \nL 120.90442 107.676226 \nL 120.94939 107.536752 \nL 120.994359 107.536752 \nL 121.399087 106.978856 \nL 121.489027 106.978856 \nL 121.489027 106.839382 \nL 121.623936 106.839382 \nL 121.713876 106.490697 \nL 121.803815 106.490697 \nL 121.803815 106.351223 \nL 121.938725 106.351223 \nL 121.938725 106.281486 \nL 122.028664 105.793327 \nL 122.298483 105.72359 \nL 122.388423 105.584116 \nL 122.748181 105.514379 \nL 122.83812 105.165694 \nL 122.97303 105.095957 \nL 123.017999 105.02622 \nL 123.152909 105.02622 \nL 123.242848 104.886746 \nL 123.512667 104.817009 \nL 123.827456 104.32885 \nL 123.962365 104.259113 \nL 123.962365 104.119639 \nL 124.187214 104.049902 \nL 124.457032 103.980165 \nL 124.457032 103.840691 \nL 124.546972 103.840691 \nL 124.86176 103.770954 \nL 124.86176 103.701217 \nL 125.131579 103.63148 \nL 125.176549 103.492006 \nL 125.311458 103.422269 \nL 125.401398 103.213058 \nL 125.491337 103.143321 \nL 125.491337 102.93411 \nL 126.120914 102.864373 \nL 126.165884 102.655162 \nL 126.300793 102.655162 \nL 126.345763 102.445951 \nL 126.525642 102.376214 \nL 126.615582 102.097265 \nL 126.795461 102.027528 \nL 126.795461 101.957791 \nL 126.97534 101.888054 \nL 126.97534 101.818317 \nL 127.02031 101.818317 \nL 127.425038 101.539369 \nL 127.604917 101.469632 \nL 127.694856 101.120947 \nL 127.739826 101.05121 \nL 127.874736 101.05121 \nL 127.874736 100.981473 \nL 128.054615 100.772262 \nL 128.189524 100.772262 \nL 128.189524 100.702525 \nL 128.459343 100.423577 \nL 128.549282 100.35384 \nL 128.639222 100.074892 \nL 128.90904 100.005155 \nL 128.90904 99.865681 \nL 128.99898 99.865681 \nL 129.178859 99.795944 \nL 129.178859 99.726207 \nL 129.448678 99.65647 \nL 129.448678 99.586733 \nL 129.718496 99.586733 \nL 129.718496 99.238048 \nL 129.763466 99.238048 \nL 129.943345 99.168311 \nL 130.033285 98.9591 \nL 130.662862 98.889363 \nL 130.752801 98.749889 \nL 130.842741 98.749889 \nL 131.06759 98.470941 \nL 131.427348 98.470941 \nL 131.517288 98.122256 \nL 131.742137 98.052519 \nL 131.832076 97.843308 \nL 132.056925 97.843308 \nL 132.146865 97.424886 \nL 132.281774 97.424886 \nL 132.371713 97.076201 \nL 132.596562 97.006464 \nL 132.956321 96.727516 \nL 133.361049 96.727516 \nL 133.765777 96.448568 \nL 133.765777 96.309094 \nL 134.170505 96.309094 \nL 134.260444 95.890672 \nL 134.845051 95.820934 \nL 134.890021 95.751197 \nL 135.204809 95.751197 \nL 135.204809 95.611723 \nL 135.294749 95.611723 \nL 135.699477 95.541986 \nL 135.699477 95.402512 \nL 135.744447 95.402512 \nL 135.834386 95.402512 \nL 135.834386 95.263038 \nL 136.149175 95.193301 \nL 136.239114 94.774879 \nL 136.508933 94.705142 \nL 136.508933 94.635405 \nL 136.778752 94.565668 \nL 136.913661 94.356457 \nL 137.363359 94.356457 \nL 137.543238 94.007772 \nL 137.947966 93.798561 \nL 138.217785 93.728824 \nL 138.217785 93.58935 \nL 138.442633 93.519613 \nL 138.487603 93.310402 \nL 138.532573 93.310402 \nL 139.386999 93.240665 \nL 139.386999 93.170928 \nL 139.476938 93.170928 \nL 139.881666 93.101191 \nL 139.881666 92.961717 \nL 140.151485 92.961717 \nL 140.151485 92.89198 \nL 140.286394 92.752506 \nL 140.826032 92.682769 \nL 140.871002 92.334084 \nL 141.005911 92.334084 \nL 141.09585 91.706451 \nL 141.14082 91.706451 \nL 141.14082 91.566977 \nL 141.410639 91.49724 \nL 141.455609 91.357766 \nL 141.545548 91.357766 \nL 141.545548 91.218292 \nL 141.590518 91.218292 \nL 141.680458 91.218292 \nL 141.680458 91.148555 \nL 141.860337 90.939344 \nL 142.265065 90.869607 \nL 142.310034 90.79987 \nL 142.444944 90.79987 \nL 142.444944 90.730133 \nL 142.624823 90.520922 \nL 143.749067 90.451185 \nL 143.749067 90.311711 \nL 144.333674 90.241974 \nL 144.378644 90.1025 \nL 144.423614 90.1025 \nL 144.468584 90.032763 \nL 144.963251 89.963026 \nL 145.008221 89.684078 \nL 145.23307 89.684078 \nL 145.27804 89.544604 \nL 145.412949 89.544604 \nL 145.412949 89.474867 \nL 146.177435 88.91697 \nL 146.267375 88.428811 \nL 146.717073 88.359074 \nL 146.717073 88.2196 \nL 146.807012 88.2196 \nL 146.851982 88.2196 \nL 146.941922 87.940652 \nL 147.121801 87.870915 \nL 147.21174 87.52223 \nL 147.34665 87.452493 \nL 147.34665 87.382756 \nL 147.616468 87.313019 \nL 147.706408 87.103808 \nL 147.796347 87.103808 \nL 147.796347 86.964334 \nL 147.931257 86.964334 \nL 147.931257 86.894597 \nL 148.021196 86.615649 \nL 148.425924 86.545912 \nL 148.425924 86.476175 \nL 148.515864 86.476175 \nL 148.650773 86.476175 \nL 148.650773 86.406438 \nL 149.010531 85.848542 \nL 149.010531 85.639331 \nL 149.37029 85.569594 \nL 149.460229 85.220909 \nL 149.595139 85.151172 \nL 149.640108 85.011698 \nL 150.044836 84.941961 \nL 150.179746 84.73275 \nL 150.179746 84.384065 \nL 150.224715 84.384065 \nL 150.404595 84.314328 \nL 150.404595 84.244591 \nL 150.494534 84.244591 \nL 150.719383 84.244591 \nL 150.719383 84.174854 \nL 150.764353 84.03538 \nL 151.30399 83.965643 \nL 151.34896 83.756432 \nL 151.663748 83.686695 \nL 151.753688 83.547221 \nL 151.933567 83.477484 \nL 151.978537 83.268273 \nL 152.248355 83.198536 \nL 152.248355 83.128799 \nL 152.338295 83.128799 \nL 152.473204 83.128799 \nL 152.518174 82.919587 \nL 153.147751 82.84985 \nL 153.462539 82.361691 \nL 153.597449 82.361691 \nL 153.597449 82.222217 \nL 154.002177 82.15248 \nL 154.002177 82.013006 \nL 154.047147 82.013006 \nL 154.137086 82.013006 \nL 154.227026 81.803795 \nL 154.676723 81.734058 \nL 154.766663 81.315636 \nL 154.856603 81.315636 \nL 154.856603 81.036688 \nL 154.901572 81.036688 \nL 155.39624 80.966951 \nL 155.44121 80.618266 \nL 155.845938 80.548529 \nL 155.890907 80.199844 \nL 156.070787 80.130107 \nL 156.070787 80.06037 \nL 156.160726 80.06037 \nL 156.295635 79.990633 \nL 156.340605 79.711685 \nL 156.520484 79.641948 \nL 156.520484 79.572211 \nL 156.565454 79.572211 \nL 157.015152 79.502474 \nL 157.015152 79.432737 \nL 157.240001 79.363 \nL 157.240001 79.293263 \nL 157.284971 79.293263 \nL 157.959517 78.805104 \nL 158.229336 78.735367 \nL 158.409215 78.595893 \nL 158.768973 78.526156 \nL 159.173701 78.316945 \nL 159.308611 78.316945 \nL 159.308611 78.177471 \nL 159.668369 78.107734 \nL 159.713339 77.96826 \nL 159.848248 77.898523 \nL 159.848248 77.759049 \nL 159.983157 77.759049 \nL 160.073097 77.480101 \nL 160.297946 77.410364 \nL 160.387885 77.27089 \nL 160.477825 77.201153 \nL 160.612734 77.061679 \nL 160.972492 76.991942 \nL 160.972492 76.922205 \nL 161.197341 76.922205 \nL 161.242311 76.712994 \nL 161.602069 76.643256 \nL 161.647039 76.503782 \nL 161.871888 76.434045 \nL 161.961828 76.294571 \nL 162.186676 76.294571 \nL 162.231646 76.08536 \nL 162.546435 76.015623 \nL 162.591404 75.806412 \nL 162.726314 75.736675 \nL 162.906193 75.318253 \nL 163.220981 75.248516 \nL 163.310921 74.969568 \nL 163.58074 74.899831 \nL 163.670679 74.551146 \nL 164.075407 74.551146 \nL 164.075407 74.411672 \nL 164.345226 74.341935 \nL 164.345226 74.272198 \nL 164.525105 74.202461 \nL 164.615044 74.062987 \nL 164.884863 73.99325 \nL 164.884863 73.853776 \nL 165.154682 73.853776 \nL 165.244621 73.574828 \nL 165.46947 73.505091 \nL 165.46947 73.435354 \nL 165.829229 73.365617 \nL 165.829229 73.29588 \nL 165.919168 73.29588 \nL 166.233957 73.226143 \nL 166.413836 73.016932 \nL 167.133352 72.947195 \nL 167.133352 72.877458 \nL 167.448141 72.807721 \nL 167.53808 72.59851 \nL 168.122687 72.528773 \nL 168.167657 72.389299 \nL 168.437476 72.389299 \nL 168.527415 72.180088 \nL 169.022083 72.110351 \nL 169.022083 72.040614 \nL 169.336871 71.970877 \nL 169.336871 71.831403 \nL 169.876509 71.761666 \nL 170.281237 71.482718 \nL 170.371176 71.482718 \nL 170.371176 71.343244 \nL 170.461116 71.343244 \nL 170.596025 71.273507 \nL 170.685965 71.134033 \nL 171.135662 71.134033 \nL 171.180632 70.855085 \nL 171.450451 70.855085 \nL 171.450451 70.715611 \nL 171.495421 70.715611 \nL 171.810209 70.645874 \nL 171.900149 70.436663 \nL 171.945118 70.436663 \nL 172.035058 70.087977 \nL 172.304877 70.01824 \nL 172.349846 69.878766 \nL 172.484756 69.809029 \nL 172.529725 69.599818 \nL 172.664635 69.530081 \nL 172.709605 69.390607 \nL 172.844514 69.390607 \nL 172.889484 69.111659 \nL 173.294212 69.041922 \nL 173.339181 68.902448 \nL 174.058698 68.832711 \nL 174.148638 68.693237 \nL 174.328517 68.693237 \nL 174.328517 68.553763 \nL 174.823184 68.484026 \nL 174.868154 68.344552 \nL 174.913124 68.344552 \nL 175.72258 67.786656 \nL 175.992398 67.786656 \nL 175.992398 67.647182 \nL 176.082338 67.647182 \nL 176.756885 67.577445 \nL 177.431431 67.298497 \nL 178.735555 67.22876 \nL 178.825494 67.019549 \nL 178.915434 66.949812 \nL 178.915434 66.880075 \nL 179.67992 66.810338 \nL 179.76986 66.670864 \nL 180.399437 66.601127 \nL 180.714225 66.322179 \nL 181.523681 66.252442 \nL 181.523681 66.112968 \nL 182.288167 66.043231 \nL 182.288167 65.973494 \nL 182.872775 65.903757 \nL 182.962714 65.694546 \nL 183.7272 65.624809 \nL 183.81714 65.555072 \nL 184.401747 65.485335 \nL 184.401747 65.415598 \nL 184.536656 65.415598 \nL 184.536656 64.787965 \nL 184.806475 64.718228 \nL 184.896415 64.509017 \nL 185.076294 64.43928 \nL 185.166233 64.299806 \nL 185.525991 64.230069 \nL 185.660901 64.090595 \nL 185.79581 64.090595 \nL 185.79581 63.811646 \nL 186.515327 63.741909 \nL 186.515327 63.672172 \nL 187.054964 63.672172 \nL 187.144903 63.25375 \nL 188.044299 63.184013 \nL 188.044299 63.114276 \nL 188.134239 63.114276 \nL 188.808785 63.044539 \nL 188.808785 62.974802 \nL 188.898725 62.974802 \nL 189.078604 62.765591 \nL 189.708181 62.695854 \nL 189.753151 62.626117 \nL 190.427697 62.55638 \nL 190.427697 62.486643 \nL 190.967335 62.416906 \nL 190.967335 62.347169 \nL 191.462002 62.277432 \nL 191.462002 62.207695 \nL 191.506972 62.207695 \nL 191.86673 62.137958 \nL 191.86673 62.068221 \nL 193.080914 61.510325 \nL 193.755461 61.440588 \nL 193.755461 61.370851 \nL 194.295098 61.301114 \nL 194.519947 60.952429 \nL 195.059584 60.603744 \nL 195.059584 60.46427 \nL 195.104554 60.46427 \nL 196.04892 60.394533 \nL 196.228799 60.185322 \nL 196.903345 60.115585 \nL 197.083224 59.836637 \nL 197.308073 59.7669 \nL 197.308073 59.697163 \nL 197.353043 59.697163 \nL 197.98262 59.627426 \nL 197.98262 59.557689 \nL 198.297408 59.418215 \nL 198.837046 59.348478 \nL 198.926985 59.209004 \nL 199.106865 59.139267 \nL 199.106865 59.06953 \nL 199.196804 59.06953 \nL 199.241774 58.999793 \nL 199.511593 58.930056 \nL 199.781411 58.581371 \nL 200.455958 58.581371 \nL 200.770746 58.162949 \nL 201.715112 58.093212 \nL 201.715112 57.953738 \nL 202.209779 57.884001 \nL 202.254749 57.744527 \nL 202.749417 57.67479 \nL 202.749417 57.605053 \nL 202.794386 57.605053 \nL 203.199114 57.326104 \nL 203.603842 57.256367 \nL 203.603842 57.18663 \nL 203.648812 57.18663 \nL 204.458268 57.116893 \nL 204.593177 56.977419 \nL 204.773057 56.977419 \nL 204.773057 56.837945 \nL 205.312694 56.768208 \nL 205.357664 56.628734 \nL 205.447603 56.628734 \nL 205.582513 56.419523 \nL 205.762392 56.349786 \nL 205.762392 56.280049 \nL 205.852331 56.280049 \nL 206.212089 56.210312 \nL 206.212089 56.140575 \nL 206.886636 56.070838 \nL 206.886636 55.861627 \nL 206.976576 55.861627 \nL 208.10082 55.79189 \nL 208.10082 55.582679 \nL 208.415609 55.512942 \nL 208.415609 55.443205 \nL 208.730397 55.373468 \nL 208.730397 55.303731 \nL 208.955246 55.233994 \nL 208.955246 55.164257 \nL 210.25937 55.09452 \nL 211.158765 54.745835 \nL 211.563493 54.676098 \nL 211.563493 54.606361 \nL 211.608463 54.606361 \nL 212.058161 54.536624 \nL 212.058161 54.466887 \nL 212.10313 54.466887 \nL 212.372949 54.466887 \nL 212.372949 54.327413 \nL 212.642768 54.257676 \nL 212.642768 54.118202 \nL 212.687738 54.118202 \nL 212.777677 54.118202 \nL 212.777677 53.908991 \nL 212.867617 53.908991 \nL 213.137435 53.908991 \nL 213.137435 53.769517 \nL 213.227375 53.769517 \nL 213.587133 53.69978 \nL 213.587133 53.490569 \nL 213.632103 53.490569 \nL 213.991861 53.420832 \nL 213.991861 53.351095 \nL 214.17174 53.281358 \nL 214.801317 53.211621 \nL 214.801317 53.072147 \nL 214.846287 53.072147 \nL 215.655743 53.00241 \nL 215.700713 52.862936 \nL 216.060471 52.793199 \nL 216.105441 52.583988 \nL 216.28532 52.514251 \nL 216.28532 52.444514 \nL 216.375259 52.444514 \nL 216.735018 52.374777 \nL 217.049806 52.165566 \nL 217.274655 52.095829 \nL 217.274655 51.956355 \nL 217.364595 51.956355 \nL 217.679383 51.816881 \nL 217.994171 51.816881 \nL 218.084111 51.60767 \nL 218.713688 51.537933 \nL 218.713688 51.398459 \nL 219.703023 51.328722 \nL 219.792963 51.049773 \nL 219.927872 50.980036 \nL 220.062781 50.910299 \nL 220.107751 50.42214 \nL 220.467509 50.352403 \nL 220.557449 50.212929 \nL 221.097086 50.143192 \nL 221.187026 49.933981 \nL 221.366905 49.933981 \nL 221.366905 49.794507 \nL 221.771633 49.72477 \nL 221.771633 49.655033 \nL 221.816603 49.655033 \nL 222.35624 49.585296 \nL 222.35624 49.515559 \nL 222.626059 49.445822 \nL 222.626059 49.376085 \nL 222.715998 49.376085 \nL 222.850907 49.306348 \nL 222.850907 49.236611 \nL 223.795273 49.166874 \nL 223.885212 49.0274 \nL 224.42485 49.0274 \nL 224.514789 48.818189 \nL 225.414185 48.748452 \nL 225.414185 48.678715 \nL 225.459155 48.678715 \nL 227.302916 48.608978 \nL 227.302916 48.539241 \nL 227.392855 48.539241 \nL 227.527764 48.539241 \nL 227.527764 48.399767 \nL 228.202311 48.33003 \nL 228.202311 48.260293 \nL 228.292251 48.260293 \nL 228.5171 48.190556 \nL 228.5171 48.051082 \nL 229.146676 47.981345 \nL 229.191646 47.841871 \nL 229.776253 47.772134 \nL 229.776253 47.702397 \nL 229.821223 47.702397 \nL 230.855528 47.63266 \nL 230.855528 47.562923 \nL 230.945468 47.562923 \nL 231.889833 47.493186 \nL 231.889833 47.423449 \nL 231.979772 47.423449 \nL 232.114682 47.353712 \nL 232.114682 47.283975 \nL 232.56438 47.214238 \nL 232.699289 47.144501 \nL 233.913473 47.074764 \nL 233.958443 46.93529 \nL 234.003413 46.93529 \nL 235.397476 46.865553 \nL 235.622325 46.726079 \nL 235.982083 46.656342 \nL 236.072022 46.447131 \nL 236.746569 46.377394 \nL 236.791539 46.168183 \nL 236.926448 46.098446 \nL 236.971418 45.958972 \nL 237.556025 45.889235 \nL 237.556025 45.819498 \nL 237.600995 45.819498 \nL 238.725239 45.749761 \nL 238.860149 45.680024 \nL 239.264877 45.610287 \nL 239.264877 45.470813 \nL 239.939423 45.401076 \nL 240.344151 45.191865 \nL 240.70391 45.122128 \nL 240.70391 45.052391 \nL 240.793849 45.052391 \nL 241.018698 44.982654 \nL 241.018698 44.912917 \nL 241.108638 44.912917 \nL 241.918094 44.84318 \nL 241.918094 44.703706 \nL 242.54767 44.633968 \nL 242.54767 44.564231 \nL 242.997368 44.564231 \nL 242.997368 44.424757 \nL 244.61628 44.35502 \nL 244.61628 44.285283 \nL 245.380766 44.215546 \nL 245.380766 44.145809 \nL 245.470706 44.145809 \nL 246.190222 44.076072 \nL 246.370102 43.866861 \nL 247.269497 43.797124 \nL 247.269497 43.727387 \nL 248.303802 43.65765 \nL 248.303802 43.587913 \nL 248.888409 43.518176 \nL 248.978349 43.378702 \nL 249.383077 43.378702 \nL 249.383077 43.239228 \nL 249.473016 43.239228 \nL 249.742835 43.169491 \nL 249.787805 43.030017 \nL 251.001989 43.030017 \nL 251.001989 42.96028 \nL 251.091928 42.751069 \nL 251.721505 42.681332 \nL 251.766475 42.541858 \nL 252.261143 42.472121 \nL 252.261143 42.402384 \nL 253.250478 42.332647 \nL 253.250478 42.26291 \nL 254.149873 42.193173 \nL 254.374722 42.123436 \nL 255.049269 42.053699 \nL 255.049269 41.983962 \nL 255.139208 41.983962 \nL 255.903695 41.914225 \nL 255.903695 41.844488 \nL 256.937999 41.774751 \nL 256.937999 41.705014 \nL 258.601881 41.635277 \nL 258.646851 41.56554 \nL 259.501277 41.495803 \nL 259.501277 41.426066 \nL 259.591216 41.426066 \nL 260.94031 41.356329 \nL 261.030249 41.216855 \nL 261.749766 41.216855 \nL 261.749766 41.147118 \nL 261.839705 40.937907 \nL 262.739101 40.86817 \nL 262.739101 40.798433 \nL 262.82904 40.798433 \nL 263.143829 40.728696 \nL 263.143829 40.658959 \nL 265.302378 40.589222 \nL 265.347348 40.519485 \nL 266.291713 40.449748 \nL 266.291713 40.380011 \nL 268.135474 40.310274 \nL 268.180444 40.1708 \nL 271.508208 40.101063 \nL 271.508208 40.031326 \nL 272.902271 39.961589 \nL 272.947241 39.822115 \nL 273.172089 39.822115 \nL 273.172089 39.682641 \nL 273.981546 39.612904 \nL 273.981546 39.47343 \nL 274.071485 39.47343 \nL 274.701062 39.403693 \nL 274.701062 39.333956 \nL 275.240699 39.264219 \nL 275.240699 39.194482 \nL 275.330639 39.194482 \nL 277.08446 39.194482 \nL 277.08446 39.055008 \nL 277.848946 39.055008 \nL 277.848946 38.915534 \nL 277.893916 38.915534 \nL 278.658402 38.845797 \nL 278.658402 38.77606 \nL 279.467858 38.77606 \nL 279.467858 38.636586 \nL 280.637073 38.566849 \nL 280.682042 38.497112 \nL 282.076106 38.427375 \nL 282.076106 38.357638 \nL 282.300954 38.357638 \nL 282.300954 38.218163 \nL 282.390894 38.218163 \nL 283.605078 38.218163 \nL 283.605078 38.078689 \nL 284.729323 38.078689 \nL 284.999141 37.799741 \nL 286.168355 37.730004 \nL 286.213325 37.59053 \nL 286.797932 37.59053 \nL 286.797932 37.381319 \nL 286.887872 37.381319 \nL 287.157691 37.311582 \nL 287.157691 37.241845 \nL 287.24763 37.241845 \nL 287.607388 37.032634 \nL 287.697328 36.89316 \nL 289.091391 36.823423 \nL 289.091391 36.753686 \nL 289.136361 36.753686 \nL 290.035756 36.683949 \nL 290.080726 36.544475 \nL 290.125696 36.544475 \nL 291.38485 36.474738 \nL 291.42982 36.335264 \nL 292.239276 36.265527 \nL 292.239276 36.19579 \nL 292.329215 36.19579 \nL 292.958792 36.126053 \nL 293.048732 36.056316 \nL 294.532734 35.986579 \nL 294.532734 35.916842 \nL 294.622674 35.916842 \nL 294.712613 35.847105 \nL 294.937462 35.777368 \nL 294.937462 35.707631 \nL 295.43213 35.637894 \nL 295.43213 35.568157 \nL 295.522069 35.568157 \nL 295.791888 35.49842 \nL 295.791888 35.358946 \nL 295.881828 35.358946 \nL 297.051042 35.289209 \nL 297.185951 35.219472 \nL 298.984742 35.149735 \nL 298.984742 35.079998 \nL 300.064017 35.010261 \nL 300.108987 34.940524 \nL 301.233231 34.870787 \nL 301.233231 34.80105 \nL 301.952748 34.80105 \nL 301.952748 34.661576 \nL 302.852143 34.591839 \nL 302.852143 34.522102 \nL 302.897113 34.522102 \nL 307.66391 34.452365 \nL 307.66391 34.382628 \nL 307.753849 34.382628 \nL 308.653245 34.382628 \nL 308.653245 34.243154 \nL 310.317126 34.173417 \nL 310.317126 34.10368 \nL 310.407066 34.10368 \nL 311.351431 34.033943 \nL 311.396401 33.964206 \nL 313.869739 33.894469 \nL 313.869739 33.824732 \nL 313.959678 33.824732 \nL 317.197503 33.754995 \nL 317.197503 33.685258 \nL 317.242472 33.685258 \nL 318.546596 33.615521 \nL 318.546596 33.545784 \nL 318.636535 33.545784 \nL 325.112184 33.476047 \nL 325.112184 33.40631 \nL 332.262378 33.336573 \nL 332.262378 33.266836 \nL 337.613782 33.197099 \nL 337.613782 33.127362 \nL 337.703721 33.127362 \nL 341.795971 33.057625 \nL 341.795971 32.987888 \nL 341.885911 32.987888 \nL 343.414883 32.918151 \nL 343.414883 32.848414 \nL 344.404218 32.778677 \nL 344.404218 32.70894 \nL 344.449188 32.70894 \nL 345.708342 32.639203 \nL 345.798282 32.429992 \nL 346.20301 32.360255 \nL 346.247979 32.290518 \nL 346.382889 32.290518 \nL 346.427858 32.01157 \nL 346.787617 31.941833 \nL 346.787617 31.872095 \nL 346.832586 31.872095 \nL 349.395864 31.802358 \nL 349.485803 31.52341 \nL 349.755622 31.453673 \nL 349.755622 31.383936 \nL 349.845562 31.383936 \nL 349.935501 31.314199 \nL 349.935501 31.244462 \nL 350.385199 31.174725 \nL 350.385199 31.104988 \nL 350.610048 31.104988 \nL 350.610048 30.965514 \nL 351.059746 30.895777 \nL 351.059746 30.686566 \nL 351.374534 30.616829 \nL 351.374534 30.547092 \nL 351.689323 30.547092 \nL 351.734292 30.268144 \nL 352.094051 30.198407 \nL 352.18399 29.989196 \nL 352.363869 29.919459 \nL 352.363869 29.849722 \nL 352.408839 29.849722 \nL 352.948476 29.779985 \nL 352.948476 29.710248 \nL 353.623023 29.640511 \nL 353.623023 29.501037 \nL 353.892842 29.4313 \nL 353.892842 29.361563 \nL 354.612358 29.291826 \nL 354.612358 29.222089 \nL 355.196965 29.152352 \nL 355.196965 29.082615 \nL 356.1863 29.012878 \nL 356.1863 28.943141 \nL 356.23127 28.943141 \nL 357.400484 28.873404 \nL 357.400484 28.73393 \nL 357.490424 28.73393 \nL 359.154306 28.664193 \nL 359.199276 28.385245 \nL 359.424124 28.315508 \nL 359.514064 28.176034 \nL 359.604004 28.106297 \nL 359.604004 28.03656 \nL 359.963762 28.03656 \nL 360.053701 27.687875 \nL 361.088006 27.618138 \nL 361.177946 27.478664 \nL 361.627644 27.478664 \nL 361.672613 27.269453 \nL 361.762553 27.269453 \nL 361.762553 27.129979 \nL 361.987402 27.060242 \nL 362.077341 26.781294 \nL 362.122311 26.781294 \nL 362.122311 26.64182 \nL 362.39213 26.572083 \nL 362.39213 26.502346 \nL 362.482069 26.502346 \nL 362.706918 26.432609 \nL 362.706918 26.362872 \nL 362.931767 26.362872 \nL 362.931767 26.223398 \nL 362.976737 26.223398 \nL 363.471404 26.153661 \nL 363.471404 26.083924 \nL 363.651284 26.014187 \nL 363.651284 25.94445 \nL 364.3708 25.874713 \nL 364.3708 25.804976 \nL 365.225226 25.735239 \nL 365.225226 25.665502 \nL 365.540014 25.595765 \nL 365.540014 25.526028 \nL 365.989712 25.45629 \nL 365.989712 25.386553 \nL 366.709229 25.316816 \nL 366.709229 25.247079 \nL 368.148261 25.177342 \nL 368.193231 25.037868 \nL 368.732869 24.968131 \nL 368.732869 24.828657 \nL 369.047657 24.75892 \nL 369.047657 24.619446 \nL 370.39675 24.549709 \nL 370.44172 24.270761 \nL 371.925723 24.201024 \nL 371.925723 24.131287 \nL 372.870088 24.06155 \nL 372.870088 23.991813 \nL 373.724514 23.922076 \nL 373.769484 23.852339 \nL 374.309121 23.852339 \nL 374.309121 23.712865 \nL 374.44403 23.712865 \nL 374.44403 23.573391 \nL 375.523305 23.503654 \nL 375.523305 23.433917 \nL 376.377731 23.36418 \nL 376.377731 23.294443 \nL 377.457006 23.224706 \nL 377.457006 23.154969 \nL 378.266462 23.085232 \nL 378.266462 22.876021 \nL 378.49131 22.806284 \nL 378.49131 22.318125 \nL 378.58125 22.318125 \n\" style=\"fill:none;stroke:#1f77b4;stroke-linecap:square;stroke-width:1.5;\"/>\n   </g>\n   <g id=\"patch_3\">\n    <path d=\"M 43.78125 239.758125 \nL 43.78125 22.318125 \n\" style=\"fill:none;stroke:#000000;stroke-linecap:square;stroke-linejoin:miter;stroke-width:0.8;\"/>\n   </g>\n   <g id=\"patch_4\">\n    <path d=\"M 378.58125 239.758125 \nL 378.58125 22.318125 \n\" style=\"fill:none;stroke:#000000;stroke-linecap:square;stroke-linejoin:miter;stroke-width:0.8;\"/>\n   </g>\n   <g id=\"patch_5\">\n    <path d=\"M 43.78125 239.758125 \nL 378.58125 239.758125 \n\" style=\"fill:none;stroke:#000000;stroke-linecap:square;stroke-linejoin:miter;stroke-width:0.8;\"/>\n   </g>\n   <g id=\"patch_6\">\n    <path d=\"M 43.78125 22.318125 \nL 378.58125 22.318125 \n\" style=\"fill:none;stroke:#000000;stroke-linecap:square;stroke-linejoin:miter;stroke-width:0.8;\"/>\n   </g>\n   <g id=\"text_15\">\n    <!-- ROC curve for SLAFail classifier -->\n    <defs>\n     <path d=\"M 39.40625 66.21875 \nQ 28.65625 66.21875 22.328125 58.203125 \nQ 16.015625 50.203125 16.015625 36.375 \nQ 16.015625 22.609375 22.328125 14.59375 \nQ 28.65625 6.59375 39.40625 6.59375 \nQ 50.140625 6.59375 56.421875 14.59375 \nQ 62.703125 22.609375 62.703125 36.375 \nQ 62.703125 50.203125 56.421875 58.203125 \nQ 50.140625 66.21875 39.40625 66.21875 \nz\nM 39.40625 74.21875 \nQ 54.734375 74.21875 63.90625 63.9375 \nQ 73.09375 53.65625 73.09375 36.375 \nQ 73.09375 19.140625 63.90625 8.859375 \nQ 54.734375 -1.421875 39.40625 -1.421875 \nQ 24.03125 -1.421875 14.8125 8.828125 \nQ 5.609375 19.09375 5.609375 36.375 \nQ 5.609375 53.65625 14.8125 63.9375 \nQ 24.03125 74.21875 39.40625 74.21875 \nz\n\" id=\"DejaVuSans-79\"/>\n     <path d=\"M 64.40625 67.28125 \nL 64.40625 56.890625 \nQ 59.421875 61.53125 53.78125 63.8125 \nQ 48.140625 66.109375 41.796875 66.109375 \nQ 29.296875 66.109375 22.65625 58.46875 \nQ 16.015625 50.828125 16.015625 36.375 \nQ 16.015625 21.96875 22.65625 14.328125 \nQ 29.296875 6.6875 41.796875 6.6875 \nQ 48.140625 6.6875 53.78125 8.984375 \nQ 59.421875 11.28125 64.40625 15.921875 \nL 64.40625 5.609375 \nQ 59.234375 2.09375 53.4375 0.328125 \nQ 47.65625 -1.421875 41.21875 -1.421875 \nQ 24.65625 -1.421875 15.125 8.703125 \nQ 5.609375 18.84375 5.609375 36.375 \nQ 5.609375 53.953125 15.125 64.078125 \nQ 24.65625 74.21875 41.21875 74.21875 \nQ 47.75 74.21875 53.53125 72.484375 \nQ 59.328125 70.75 64.40625 67.28125 \nz\n\" id=\"DejaVuSans-67\"/>\n     <path d=\"M 9.8125 72.90625 \nL 19.671875 72.90625 \nL 19.671875 8.296875 \nL 55.171875 8.296875 \nL 55.171875 0 \nL 9.8125 0 \nz\n\" id=\"DejaVuSans-76\"/>\n     <path d=\"M 34.1875 63.1875 \nL 20.796875 26.90625 \nL 47.609375 26.90625 \nz\nM 28.609375 72.90625 \nL 39.796875 72.90625 \nL 67.578125 0 \nL 57.328125 0 \nL 50.6875 18.703125 \nL 17.828125 18.703125 \nL 11.1875 0 \nL 0.78125 0 \nz\n\" id=\"DejaVuSans-65\"/>\n    </defs>\n    <g transform=\"translate(117.200625 16.318125)scale(0.12 -0.12)\">\n     <use xlink:href=\"#DejaVuSans-82\"/>\n     <use x=\"69.482422\" xlink:href=\"#DejaVuSans-79\"/>\n     <use x=\"148.193359\" xlink:href=\"#DejaVuSans-67\"/>\n     <use x=\"218.017578\" xlink:href=\"#DejaVuSans-32\"/>\n     <use x=\"249.804688\" xlink:href=\"#DejaVuSans-99\"/>\n     <use x=\"304.785156\" xlink:href=\"#DejaVuSans-117\"/>\n     <use x=\"368.164062\" xlink:href=\"#DejaVuSans-114\"/>\n     <use x=\"409.277344\" xlink:href=\"#DejaVuSans-118\"/>\n     <use x=\"468.457031\" xlink:href=\"#DejaVuSans-101\"/>\n     <use x=\"529.980469\" xlink:href=\"#DejaVuSans-32\"/>\n     <use x=\"561.767578\" xlink:href=\"#DejaVuSans-102\"/>\n     <use x=\"596.972656\" xlink:href=\"#DejaVuSans-111\"/>\n     <use x=\"658.154297\" xlink:href=\"#DejaVuSans-114\"/>\n     <use x=\"699.267578\" xlink:href=\"#DejaVuSans-32\"/>\n     <use x=\"731.054688\" xlink:href=\"#DejaVuSans-83\"/>\n     <use x=\"794.53125\" xlink:href=\"#DejaVuSans-76\"/>\n     <use x=\"850.275391\" xlink:href=\"#DejaVuSans-65\"/>\n     <use x=\"918.683594\" xlink:href=\"#DejaVuSans-70\"/>\n     <use x=\"976.0625\" xlink:href=\"#DejaVuSans-97\"/>\n     <use x=\"1037.341797\" xlink:href=\"#DejaVuSans-105\"/>\n     <use x=\"1065.125\" xlink:href=\"#DejaVuSans-108\"/>\n     <use x=\"1092.908203\" xlink:href=\"#DejaVuSans-32\"/>\n     <use x=\"1124.695312\" xlink:href=\"#DejaVuSans-99\"/>\n     <use x=\"1179.675781\" xlink:href=\"#DejaVuSans-108\"/>\n     <use x=\"1207.458984\" xlink:href=\"#DejaVuSans-97\"/>\n     <use x=\"1268.738281\" xlink:href=\"#DejaVuSans-115\"/>\n     <use x=\"1320.837891\" xlink:href=\"#DejaVuSans-115\"/>\n     <use x=\"1372.9375\" xlink:href=\"#DejaVuSans-105\"/>\n     <use x=\"1400.720703\" xlink:href=\"#DejaVuSans-102\"/>\n     <use x=\"1435.925781\" xlink:href=\"#DejaVuSans-105\"/>\n     <use x=\"1463.708984\" xlink:href=\"#DejaVuSans-101\"/>\n     <use x=\"1525.232422\" xlink:href=\"#DejaVuSans-114\"/>\n    </g>\n   </g>\n  </g>\n </g>\n <defs>\n  <clipPath id=\"p728bfc12b0\">\n   <rect height=\"217.44\" width=\"334.8\" x=\"43.78125\" y=\"22.318125\"/>\n  </clipPath>\n </defs>\n</svg>\n",
      "text/plain": "<Figure size 432x288 with 1 Axes>"
     },
     "metadata": {
      "needs_background": "light"
     },
     "output_type": "display_data"
    }
   ],
   "source": [
    "plt.plot(fpr, tpr)\n",
    "plt.xlim([0.0, 1.0])\n",
    "plt.ylim([0.0, 1.0])\n",
    "plt.title('ROC curve for SLAFail classifier')\n",
    "plt.xlabel('False Positive Rate (1 - Specificity)')\n",
    "plt.ylabel('True Positive Rate (Sensitivity)')\n",
    "plt.grid(True)"
   ]
  },
  {
   "cell_type": "markdown",
   "metadata": {},
   "source": [
    "Capture resulting AUC"
   ]
  },
  {
   "cell_type": "code",
   "execution_count": 31,
   "metadata": {},
   "outputs": [
    {
     "name": "stdout",
     "output_type": "stream",
     "text": "Metrics = AUC: 0.751964 \n"
    }
   ],
   "source": [
    "PipeLineMetadata['Metrics - AUC'] = metrics.roc_auc_score(y_test, y_pred_prob)\n",
    "print(\"Metrics = AUC: %f \" % PipeLineMetadata['Metrics - AUC']) "
   ]
  },
  {
   "cell_type": "markdown",
   "metadata": {},
   "source": [
    "## Save Details and Performance Measures for Comparison to other Models\n"
   ]
  },
  {
   "cell_type": "code",
   "execution_count": 32,
   "metadata": {},
   "outputs": [
    {
     "data": {
      "text/plain": "{'Name': 'Bare Bones with Helmert Encoder',\n 'Column Transforms': ['helmertencoder', 'standardscaler'],\n 'Classifier': LogisticRegression(C=1.0, class_weight=None, dual=False, fit_intercept=True,\n                    intercept_scaling=1, l1_ratio=None, max_iter=100,\n                    multi_class='auto', n_jobs=None, penalty='l2',\n                    random_state=None, solver='lbfgs', tol=0.0001, verbose=0,\n                    warm_start=False),\n 'Classifier - Intercept': -0.003607872196270573,\n 'Classifier - Coefficients': array([[-0.00360475,  0.02535751, -0.01717745, ...,  0.1883989 ,\n          0.0070423 ,  0.00773264]]),\n 'Metrics - Cross Validation Accuracy': 0.7332116047879895,\n 'Metrics - F1 score': 0.6622812081089122,\n 'Metrics - Confusion Matrix Classification Accuracy': 0.7371958723847392,\n 'Metrics - Confusion Matrix Classification Error': 0.26280412761526084,\n 'Metrics - Confusion Matrix True Positive Rate': 0.4509300833867864,\n 'Metrics - Confusion Matrix True Negative Rate': 0.8570852921423774,\n 'Metrics - Confusion Matrix False Positive Rate': 0.14291470785762256,\n 'Metrics - Confusion Matrix Precision': 0.5692307692307692,\n 'Metrics - ROC Curve fpr array': array([0.        , 0.        , 0.        , ..., 0.99973136, 0.99973136,\n        1.        ]),\n 'Metrics - ROC Curve tpr array': array([0.00000000e+00, 3.20718409e-04, 9.62155228e-04, ...,\n        9.97754971e-01, 1.00000000e+00, 1.00000000e+00]),\n 'Metrics - AUC': 0.7519641364016041}"
     },
     "execution_count": 32,
     "metadata": {},
     "output_type": "execute_result"
    }
   ],
   "source": [
    "PipeLineMetadata"
   ]
  },
  {
   "cell_type": "code",
   "execution_count": 33,
   "metadata": {},
   "outputs": [],
   "source": [
    "with open(\"data/05.01.d BareBones HelmertEncoder.pkl\",'wb') as fo:\n",
    "    pickle.dump(PipeLineMetadata, fo)"
   ]
  },
  {
   "cell_type": "code",
   "execution_count": 34,
   "metadata": {},
   "outputs": [],
   "source": [
    "# with open(\"data/05.01.BareBones.pkl\", 'rb') as fi:\n",
    "#    BareBonesMetadata = pickle.load(fi)"
   ]
  },
  {
   "cell_type": "code",
   "execution_count": null,
   "metadata": {},
   "outputs": [],
   "source": []
  }
 ]
}