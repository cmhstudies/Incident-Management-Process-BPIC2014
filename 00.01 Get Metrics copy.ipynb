{
 "nbformat": 4,
 "nbformat_minor": 2,
 "metadata": {
  "language_info": {
   "name": "python",
   "codemirror_mode": {
    "name": "ipython",
    "version": 3
   },
   "version": "3.7.6-final"
  },
  "orig_nbformat": 2,
  "file_extension": ".py",
  "mimetype": "text/x-python",
  "name": "python",
  "npconvert_exporter": "python",
  "pygments_lexer": "ipython3",
  "version": 3,
  "kernelspec": {
   "name": "python3",
   "display_name": "Python 3"
  }
 },
 "cells": [
  {
   "cell_type": "markdown",
   "metadata": {},
   "source": [
    "# 06.00 Get and Report on Optimize Metrics\n",
    "\n",
    "Goal: identify the factors that most contribute to SLAFail\n",
    "\n",
    "Tuning Adjustments: Focus on finding the most predictive set of predictor variables\n",
    "\n",
    "Compare the results of the following notebooks: \n",
    "\n",
    "\n",
    "\n",
    "\n",
    "\n"
   ]
  },
  {
   "cell_type": "code",
   "execution_count": 5,
   "metadata": {},
   "outputs": [],
   "source": [
    "# Load libraries\n",
    "import pandas as pd\n",
    "import numpy as np\n",
    "import pickle\n"
   ]
  },
  {
   "cell_type": "code",
   "execution_count": 6,
   "metadata": {},
   "outputs": [],
   "source": [
    "data = {}"
   ]
  },
  {
   "cell_type": "code",
   "execution_count": 7,
   "metadata": {},
   "outputs": [],
   "source": [
    "\n",
    "\n",
    "files = {\"1 SelectKBest\" :  \"data/06.00.a Optimize with SelectKBest.pkl\",\n",
    "         \"2 SelectFPR\" : \"data/06.00.b Optimize 2 Select FPR.pkl\", \n",
    "         \"3 Interaction Terms SelectKBest\" : \"data/06.00.c Add Interaction Terms.pkl\", \n",
    "         \"4 Interaction Terms SelectFPR\" : \"data/06.00.d Add Interaction Terms Select FPR.pkl\",\n",
    "         }\n",
    "         \n",
    "outFilename = \"reports/06.00 Optimization Metrics.csv\""
   ]
  },
  {
   "cell_type": "code",
   "execution_count": 8,
   "metadata": {},
   "outputs": [
    {
     "name": "stdout",
     "output_type": "stream",
     "text": "1 SelectKBest: data/06.00.a Optimize with SelectKBest.pkl\n2 SelectFPR: data/06.00.b Optimize 2 Select FPR.pkl\n3 Interaction Terms SelectKBest: data/06.00.c Add Interaction Terms.pkl\n4 Interaction Terms SelectFPR: data/06.00.d Add Interaction Terms Select FPR.pkl\n"
    }
   ],
   "source": [
    "for key, value in files.items():\n",
    "    print(key + \": \" + value)\n",
    "    with open(value, 'rb') as fi:\n",
    "        data[key] = pickle.load(fi)\n",
    "    \n"
   ]
  },
  {
   "cell_type": "code",
   "execution_count": 9,
   "metadata": {},
   "outputs": [
    {
     "data": {
      "text/html": "<div>\n<style scoped>\n    .dataframe tbody tr th:only-of-type {\n        vertical-align: middle;\n    }\n\n    .dataframe tbody tr th {\n        vertical-align: top;\n    }\n\n    .dataframe thead th {\n        text-align: right;\n    }\n</style>\n<table border=\"1\" class=\"dataframe\">\n  <thead>\n    <tr style=\"text-align: right;\">\n      <th></th>\n      <th>1 SelectKBest</th>\n      <th>2 SelectFPR</th>\n      <th>3 Interaction Terms SelectKBest</th>\n      <th>4 Interaction Terms SelectFPR</th>\n    </tr>\n  </thead>\n  <tbody>\n    <tr>\n      <th>Null Accuracy</th>\n      <td>0.704819</td>\n      <td>0.704819</td>\n      <td>NaN</td>\n      <td>NaN</td>\n    </tr>\n    <tr>\n      <th>Metrics - Classification Report</th>\n      <td>precision    recall  f1-score   ...</td>\n      <td>precision    recall  f1-score   ...</td>\n      <td>precision    recall  f1-score   ...</td>\n      <td>precision    recall  f1-score   ...</td>\n    </tr>\n    <tr>\n      <th>Metrics - Confusion Matrix</th>\n      <td>[[6597, 848], [1826, 1292]]</td>\n      <td>[[6597, 848], [1827, 1291]]</td>\n      <td>[[6628, 817], [1805, 1313]]</td>\n      <td>[[6607, 838], [1822, 1296]]</td>\n    </tr>\n    <tr>\n      <th>Metrics - Confusion Matrix Classification Accuracy</th>\n      <td>0.746852</td>\n      <td>0.746758</td>\n      <td>0.751775</td>\n      <td>0.748178</td>\n    </tr>\n    <tr>\n      <th>Metrics - Confusion Matrix Classification Error</th>\n      <td>0.253148</td>\n      <td>0.253242</td>\n      <td>0.248225</td>\n      <td>0.251822</td>\n    </tr>\n    <tr>\n      <th>Metrics - Confusion Matrix True Positive Rate</th>\n      <td>0.414368</td>\n      <td>0.414047</td>\n      <td>0.421103</td>\n      <td>0.415651</td>\n    </tr>\n    <tr>\n      <th>Metrics - Confusion Matrix True Negative Rate</th>\n      <td>0.886098</td>\n      <td>0.886098</td>\n      <td>0.890262</td>\n      <td>0.887441</td>\n    </tr>\n    <tr>\n      <th>Metrics - Confusion Matrix False Positive Rate</th>\n      <td>0.113902</td>\n      <td>0.113902</td>\n      <td>0.109738</td>\n      <td>0.112559</td>\n    </tr>\n    <tr>\n      <th>Metrics - Confusion Matrix Precision</th>\n      <td>0.603738</td>\n      <td>0.603553</td>\n      <td>0.616432</td>\n      <td>0.60731</td>\n    </tr>\n    <tr>\n      <th>Metrics - AUC</th>\n      <td>0.780629</td>\n      <td>0.780663</td>\n      <td>0.786672</td>\n      <td>0.782095</td>\n    </tr>\n    <tr>\n      <th>Metrics - ROC Curve fpr array</th>\n      <td>[0.0, 0.0, 0.0, 0.0, 0.00040295500335795837, 0...</td>\n      <td>[0.0, 0.0, 0.0, 0.0, 0.00040295500335795837, 0...</td>\n      <td>[0.0, 0.0001343183344526528, 0.000268636668905...</td>\n      <td>[0.0, 0.0001343183344526528, 0.000402955003357...</td>\n    </tr>\n    <tr>\n      <th>Metrics - ROC Curve tpr array</th>\n      <td>[0.0, 0.00032071840923669016, 0.00288646568313...</td>\n      <td>[0.0, 0.00032071840923669016, 0.00288646568313...</td>\n      <td>[0.0, 0.0, 0.0, 0.00032071840923669016, 0.0003...</td>\n      <td>[0.0, 0.0, 0.0, 0.0025657472738935213, 0.00577...</td>\n    </tr>\n    <tr>\n      <th>Column Transforms</th>\n      <td>NaN</td>\n      <td>[woeencoder, standardscaler]</td>\n      <td>[(woeencoder, WOEEncoder(cols=None, drop_invar...</td>\n      <td>[(woeencoder, WOEEncoder(cols=None, drop_invar...</td>\n    </tr>\n    <tr>\n      <th>Selector</th>\n      <td>NaN</td>\n      <td>SelectFpr(alpha=0.05, score_func=&lt;function f_c...</td>\n      <td>SelectKBest(k=45, score_func=&lt;function f_class...</td>\n      <td>SelectFpr(alpha=0.05, score_func=&lt;function f_c...</td>\n    </tr>\n    <tr>\n      <th>Classifier</th>\n      <td>NaN</td>\n      <td>LogisticRegression(C=1.0, class_weight=None, d...</td>\n      <td>LogisticRegression(C=1.0, class_weight=None, d...</td>\n      <td>LogisticRegression(C=1.0, class_weight=None, d...</td>\n    </tr>\n    <tr>\n      <th>Classifier - Intercept</th>\n      <td>NaN</td>\n      <td>-0.937609</td>\n      <td>NaN</td>\n      <td>-0.916155</td>\n    </tr>\n    <tr>\n      <th>Classifier - Coefficients</th>\n      <td>NaN</td>\n      <td>0\nService_C...</td>\n      <td>NaN</td>\n      <td>[0.15531191243029088, 0.26406249809720145, 1.1...</td>\n    </tr>\n    <tr>\n      <th>Name</th>\n      <td>NaN</td>\n      <td>NaN</td>\n      <td>Optimize Round 3: Adding Interaction Terms</td>\n      <td>Optimize Round 4: Adding Interaction Terms wit...</td>\n    </tr>\n    <tr>\n      <th>Best Estimator Classification Intercept</th>\n      <td>NaN</td>\n      <td>NaN</td>\n      <td>[-0.9041578254341254]</td>\n      <td>NaN</td>\n    </tr>\n    <tr>\n      <th>Best Estimator Classification Coefficients</th>\n      <td>NaN</td>\n      <td>NaN</td>\n      <td>[[0.15929335396359168, 0.2913683828023847, 1.1...</td>\n      <td>NaN</td>\n    </tr>\n    <tr>\n      <th>Best SearchGridCV score</th>\n      <td>NaN</td>\n      <td>NaN</td>\n      <td>0.744654</td>\n      <td>NaN</td>\n    </tr>\n    <tr>\n      <th>Best SearchGridCV parameters</th>\n      <td>NaN</td>\n      <td>NaN</td>\n      <td>{'selector__k': 45}</td>\n      <td>NaN</td>\n    </tr>\n    <tr>\n      <th>PolynomialFeatures</th>\n      <td>NaN</td>\n      <td>NaN</td>\n      <td>PolynomialFeatures(degree=2, include_bias=True...</td>\n      <td>PolynomialFeatures(degree=2, include_bias=True...</td>\n    </tr>\n    <tr>\n      <th>Selector - Scores</th>\n      <td>NaN</td>\n      <td>NaN</td>\n      <td>featur...</td>\n      <td>featur...</td>\n    </tr>\n  </tbody>\n</table>\n</div>",
      "text/plain": "                                                                                        1 SelectKBest  \\\nNull Accuracy                                                                                0.704819   \nMetrics - Classification Report                                   precision    recall  f1-score   ...   \nMetrics - Confusion Matrix                                                [[6597, 848], [1826, 1292]]   \nMetrics - Confusion Matrix Classification Accuracy                                           0.746852   \nMetrics - Confusion Matrix Classification Error                                              0.253148   \nMetrics - Confusion Matrix True Positive Rate                                                0.414368   \nMetrics - Confusion Matrix True Negative Rate                                                0.886098   \nMetrics - Confusion Matrix False Positive Rate                                               0.113902   \nMetrics - Confusion Matrix Precision                                                         0.603738   \nMetrics - AUC                                                                                0.780629   \nMetrics - ROC Curve fpr array                       [0.0, 0.0, 0.0, 0.0, 0.00040295500335795837, 0...   \nMetrics - ROC Curve tpr array                       [0.0, 0.00032071840923669016, 0.00288646568313...   \nColumn Transforms                                                                                 NaN   \nSelector                                                                                          NaN   \nClassifier                                                                                        NaN   \nClassifier - Intercept                                                                            NaN   \nClassifier - Coefficients                                                                         NaN   \nName                                                                                              NaN   \nBest Estimator Classification Intercept                                                           NaN   \nBest Estimator Classification Coefficients                                                        NaN   \nBest SearchGridCV score                                                                           NaN   \nBest SearchGridCV parameters                                                                      NaN   \nPolynomialFeatures                                                                                NaN   \nSelector - Scores                                                                                 NaN   \n\n                                                                                          2 SelectFPR  \\\nNull Accuracy                                                                                0.704819   \nMetrics - Classification Report                                   precision    recall  f1-score   ...   \nMetrics - Confusion Matrix                                                [[6597, 848], [1827, 1291]]   \nMetrics - Confusion Matrix Classification Accuracy                                           0.746758   \nMetrics - Confusion Matrix Classification Error                                              0.253242   \nMetrics - Confusion Matrix True Positive Rate                                                0.414047   \nMetrics - Confusion Matrix True Negative Rate                                                0.886098   \nMetrics - Confusion Matrix False Positive Rate                                               0.113902   \nMetrics - Confusion Matrix Precision                                                         0.603553   \nMetrics - AUC                                                                                0.780663   \nMetrics - ROC Curve fpr array                       [0.0, 0.0, 0.0, 0.0, 0.00040295500335795837, 0...   \nMetrics - ROC Curve tpr array                       [0.0, 0.00032071840923669016, 0.00288646568313...   \nColumn Transforms                                                        [woeencoder, standardscaler]   \nSelector                                            SelectFpr(alpha=0.05, score_func=<function f_c...   \nClassifier                                          LogisticRegression(C=1.0, class_weight=None, d...   \nClassifier - Intercept                                                                      -0.937609   \nClassifier - Coefficients                                                              0\nService_C...   \nName                                                                                              NaN   \nBest Estimator Classification Intercept                                                           NaN   \nBest Estimator Classification Coefficients                                                        NaN   \nBest SearchGridCV score                                                                           NaN   \nBest SearchGridCV parameters                                                                      NaN   \nPolynomialFeatures                                                                                NaN   \nSelector - Scores                                                                                 NaN   \n\n                                                                      3 Interaction Terms SelectKBest  \\\nNull Accuracy                                                                                     NaN   \nMetrics - Classification Report                                   precision    recall  f1-score   ...   \nMetrics - Confusion Matrix                                                [[6628, 817], [1805, 1313]]   \nMetrics - Confusion Matrix Classification Accuracy                                           0.751775   \nMetrics - Confusion Matrix Classification Error                                              0.248225   \nMetrics - Confusion Matrix True Positive Rate                                                0.421103   \nMetrics - Confusion Matrix True Negative Rate                                                0.890262   \nMetrics - Confusion Matrix False Positive Rate                                               0.109738   \nMetrics - Confusion Matrix Precision                                                         0.616432   \nMetrics - AUC                                                                                0.786672   \nMetrics - ROC Curve fpr array                       [0.0, 0.0001343183344526528, 0.000268636668905...   \nMetrics - ROC Curve tpr array                       [0.0, 0.0, 0.0, 0.00032071840923669016, 0.0003...   \nColumn Transforms                                   [(woeencoder, WOEEncoder(cols=None, drop_invar...   \nSelector                                            SelectKBest(k=45, score_func=<function f_class...   \nClassifier                                          LogisticRegression(C=1.0, class_weight=None, d...   \nClassifier - Intercept                                                                            NaN   \nClassifier - Coefficients                                                                         NaN   \nName                                                       Optimize Round 3: Adding Interaction Terms   \nBest Estimator Classification Intercept                                         [-0.9041578254341254]   \nBest Estimator Classification Coefficients          [[0.15929335396359168, 0.2913683828023847, 1.1...   \nBest SearchGridCV score                                                                      0.744654   \nBest SearchGridCV parameters                                                      {'selector__k': 45}   \nPolynomialFeatures                                  PolynomialFeatures(degree=2, include_bias=True...   \nSelector - Scores                                                                           featur...   \n\n                                                                        4 Interaction Terms SelectFPR  \nNull Accuracy                                                                                     NaN  \nMetrics - Classification Report                                   precision    recall  f1-score   ...  \nMetrics - Confusion Matrix                                                [[6607, 838], [1822, 1296]]  \nMetrics - Confusion Matrix Classification Accuracy                                           0.748178  \nMetrics - Confusion Matrix Classification Error                                              0.251822  \nMetrics - Confusion Matrix True Positive Rate                                                0.415651  \nMetrics - Confusion Matrix True Negative Rate                                                0.887441  \nMetrics - Confusion Matrix False Positive Rate                                               0.112559  \nMetrics - Confusion Matrix Precision                                                          0.60731  \nMetrics - AUC                                                                                0.782095  \nMetrics - ROC Curve fpr array                       [0.0, 0.0001343183344526528, 0.000402955003357...  \nMetrics - ROC Curve tpr array                       [0.0, 0.0, 0.0, 0.0025657472738935213, 0.00577...  \nColumn Transforms                                   [(woeencoder, WOEEncoder(cols=None, drop_invar...  \nSelector                                            SelectFpr(alpha=0.05, score_func=<function f_c...  \nClassifier                                          LogisticRegression(C=1.0, class_weight=None, d...  \nClassifier - Intercept                                                                      -0.916155  \nClassifier - Coefficients                           [0.15531191243029088, 0.26406249809720145, 1.1...  \nName                                                Optimize Round 4: Adding Interaction Terms wit...  \nBest Estimator Classification Intercept                                                           NaN  \nBest Estimator Classification Coefficients                                                        NaN  \nBest SearchGridCV score                                                                           NaN  \nBest SearchGridCV parameters                                                                      NaN  \nPolynomialFeatures                                  PolynomialFeatures(degree=2, include_bias=True...  \nSelector - Scores                                                                           featur...  "
     },
     "execution_count": 9,
     "metadata": {},
     "output_type": "execute_result"
    }
   ],
   "source": [
    "df = pd.DataFrame(data)\n",
    "df"
   ]
  },
  {
   "cell_type": "code",
   "execution_count": 10,
   "metadata": {},
   "outputs": [],
   "source": [
    "with open(outFilename, 'w') as fo:\n",
    "    df.to_csv(fo)"
   ]
  },
  {
   "cell_type": "code",
   "execution_count": null,
   "metadata": {},
   "outputs": [],
   "source": []
  }
 ]
}