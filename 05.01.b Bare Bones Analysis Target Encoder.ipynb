{
 "nbformat": 4,
 "nbformat_minor": 2,
 "metadata": {
  "language_info": {
   "name": "python",
   "codemirror_mode": {
    "name": "ipython",
    "version": 3
   },
   "version": "3.7.6-final"
  },
  "orig_nbformat": 2,
  "file_extension": ".py",
  "mimetype": "text/x-python",
  "name": "python",
  "npconvert_exporter": "python",
  "pygments_lexer": "ipython3",
  "version": 3,
  "kernelspec": {
   "name": "python3",
   "display_name": "Python 3"
  }
 },
 "cells": [
  {
   "cell_type": "markdown",
   "metadata": {},
   "source": [
    "# 05.01.b Bare Bones Analysis with Target Encoder\n",
    "\n",
    "Goal: identify the factors that most contribute to SLAFail\n",
    "\n",
    "Tuning Adjustments: Focus on finding the most predictive set of predictor variables\n",
    "\n",
    "\n",
    "Read Prepared Data  ->  Split Data  -> Develop Pipeline  ->  Evaluate  \n",
    "\n",
    "Split Data using sklearn.model_selection.train_test_split\n",
    "\n",
    "Pipeline includes:\n",
    "\n",
    "- Preprocessing variables\n",
    "    - sklearn.compose.make_column_transformer \n",
    "        - Scale numeric variables: sklearn.preprocessing.StandardScaler\n",
    "        - Encode categorical variables: category_encoders.TargetEncoder\n",
    "- Selecting features\n",
    "    - None\n",
    "- Instantiate model\n",
    "    - sklearn.linear_model.LogisticRegression\n",
    "- Fit the model using training data\n",
    "- Cross-validate the model with training data\n",
    "    - sklearn.model_selection.cross_val_score\n",
    "- Output performance measures\n",
    "\n",
    "Evaluate involves running the pipeline with the testing data and capturing metrics\n",
    "\n",
    "\n",
    "\n"
   ]
  },
  {
   "cell_type": "code",
   "execution_count": 1,
   "metadata": {},
   "outputs": [],
   "source": [
    "# Load libraries\n",
    "import pandas as pd\n",
    "import numpy as np\n",
    "import pickle\n",
    "\n",
    "# allow plots to appear in the notebook\n",
    "%matplotlib inline\n",
    "import matplotlib.pyplot as plt\n",
    "\n",
    "from sklearn.model_selection import train_test_split\n",
    "\n",
    "from sklearn.compose import make_column_transformer\n",
    "import category_encoders as ce\n",
    "from sklearn.preprocessing import StandardScaler\n",
    "\n",
    "from sklearn.linear_model import LogisticRegression\n",
    "\n",
    "from sklearn.pipeline import make_pipeline\n",
    "\n",
    "from sklearn.model_selection import cross_val_score\n",
    "\n",
    "from sklearn import metrics"
   ]
  },
  {
   "cell_type": "markdown",
   "metadata": {},
   "source": [
    "## Read Prepared Data"
   ]
  },
  {
   "cell_type": "code",
   "execution_count": 2,
   "metadata": {},
   "outputs": [
    {
     "name": "stdout",
     "output_type": "stream",
     "text": "df.shape: (35208, 12)\ndf.columns: Index(['CI_Name_aff', 'Service_Component_WBS_aff', 'Impact', 'Urgency',\n       'KM_number', 'Count_Related_Interactions', 'Count_Related_Incidents',\n       'Count_Related_Changes', 'SLAFail', 'Open_Time_HourOfDay',\n       'Open_Time_DayOfWeek', 'CI_TypeSubType_aff'],\n      dtype='object')\ndf.dtypes: \nCI_Name_aff                    object\nService_Component_WBS_aff      object\nImpact                         object\nUrgency                        object\nKM_number                      object\nCount_Related_Interactions    float64\nCount_Related_Incidents       float64\nCount_Related_Changes         float64\nSLAFail                         int64\nOpen_Time_HourOfDay             int64\nOpen_Time_DayOfWeek            object\nCI_TypeSubType_aff             object\ndtype: object\n"
    }
   ],
   "source": [
    "df = pd.read_csv(\"data/04.a.Detail_Incident_AtOpen.csv\")\n",
    "print(\"df.shape: \" + str(df.shape))\n",
    "print(\"df.columns: \" + str(df.columns))\n",
    "print(\"df.dtypes: \\n\" + str(df.dtypes))"
   ]
  },
  {
   "cell_type": "markdown",
   "metadata": {},
   "source": [
    "#### Set X and y"
   ]
  },
  {
   "cell_type": "code",
   "execution_count": 3,
   "metadata": {},
   "outputs": [
    {
     "data": {
      "text/plain": "(35208,)"
     },
     "execution_count": 3,
     "metadata": {},
     "output_type": "execute_result"
    }
   ],
   "source": [
    "y = df.SLAFail\n",
    "y.shape"
   ]
  },
  {
   "cell_type": "code",
   "execution_count": 4,
   "metadata": {},
   "outputs": [
    {
     "data": {
      "text/plain": "(35208, 11)"
     },
     "execution_count": 4,
     "metadata": {},
     "output_type": "execute_result"
    }
   ],
   "source": [
    "X = df.drop(['SLAFail'], axis='columns')\n",
    "X.shape"
   ]
  },
  {
   "cell_type": "markdown",
   "metadata": {},
   "source": [
    "Set `Open_Time_HourOfDay` for recognition as a Categorical variable"
   ]
  },
  {
   "cell_type": "code",
   "execution_count": 5,
   "metadata": {},
   "outputs": [
    {
     "data": {
      "text/plain": "CI_Name_aff                    object\nService_Component_WBS_aff      object\nImpact                         object\nUrgency                        object\nKM_number                      object\nCount_Related_Interactions    float64\nCount_Related_Incidents       float64\nCount_Related_Changes         float64\nOpen_Time_HourOfDay            object\nOpen_Time_DayOfWeek            object\nCI_TypeSubType_aff             object\ndtype: object"
     },
     "execution_count": 5,
     "metadata": {},
     "output_type": "execute_result"
    }
   ],
   "source": [
    "X.Open_Time_HourOfDay = X.Open_Time_HourOfDay.astype('object')\n",
    "X.dtypes"
   ]
  },
  {
   "cell_type": "markdown",
   "metadata": {},
   "source": [
    "Create a list of numeric variable column names"
   ]
  },
  {
   "cell_type": "code",
   "execution_count": 6,
   "metadata": {},
   "outputs": [
    {
     "data": {
      "text/plain": "Index(['Count_Related_Interactions', 'Count_Related_Incidents',\n       'Count_Related_Changes'],\n      dtype='object')"
     },
     "execution_count": 6,
     "metadata": {},
     "output_type": "execute_result"
    }
   ],
   "source": [
    "numericVars = X.select_dtypes(include=['float64']).columns\n",
    "numericVars"
   ]
  },
  {
   "cell_type": "markdown",
   "metadata": {},
   "source": [
    "Create a list of categorical variables"
   ]
  },
  {
   "cell_type": "code",
   "execution_count": 7,
   "metadata": {},
   "outputs": [
    {
     "data": {
      "text/plain": "Index(['CI_Name_aff', 'Service_Component_WBS_aff', 'Impact', 'Urgency',\n       'KM_number', 'Open_Time_HourOfDay', 'Open_Time_DayOfWeek',\n       'CI_TypeSubType_aff'],\n      dtype='object')"
     },
     "execution_count": 7,
     "metadata": {},
     "output_type": "execute_result"
    }
   ],
   "source": [
    "categoricalVars = X.select_dtypes(include=['object']).columns\n",
    "categoricalVars"
   ]
  },
  {
   "cell_type": "markdown",
   "metadata": {},
   "source": [
    "## Split Data\n",
    "\n",
    "Create Training and Testing Data Sets\n"
   ]
  },
  {
   "cell_type": "code",
   "execution_count": 8,
   "metadata": {},
   "outputs": [],
   "source": [
    "\n",
    "X_train, X_test, y_train, y_test = train_test_split(X, y, test_size=0.3, random_state=2020)\n"
   ]
  },
  {
   "cell_type": "code",
   "execution_count": 9,
   "metadata": {},
   "outputs": [
    {
     "name": "stdout",
     "output_type": "stream",
     "text": "(24645, 11)\nIndex(['CI_Name_aff', 'Service_Component_WBS_aff', 'Impact', 'Urgency',\n       'KM_number', 'Count_Related_Interactions', 'Count_Related_Incidents',\n       'Count_Related_Changes', 'Open_Time_HourOfDay', 'Open_Time_DayOfWeek',\n       'CI_TypeSubType_aff'],\n      dtype='object')\n"
    }
   ],
   "source": [
    "print(X_train.shape)\n",
    "print(X_train.columns)"
   ]
  },
  {
   "cell_type": "markdown",
   "metadata": {},
   "source": [
    "## Develop Pipeline\n"
   ]
  },
  {
   "cell_type": "code",
   "execution_count": 10,
   "metadata": {},
   "outputs": [],
   "source": [
    "# create dictionary to store information about the pipeline and results for later reporting and review\n",
    "PipeLineMetadata = { \"Name\" : \"Bare Bones with Target Encoder\"}"
   ]
  },
  {
   "cell_type": "markdown",
   "metadata": {},
   "source": [
    "### Encode Variables\n",
    "\n",
    "Numeric and categorical variables require different treatment \n",
    "\n",
    "Set up column transformer for scaling numeric variables and encoding categorical variables\n",
    "\n"
   ]
  },
  {
   "cell_type": "code",
   "execution_count": 11,
   "metadata": {},
   "outputs": [],
   "source": [
    "column_trans = make_column_transformer(\n",
    "    (ce.TargetEncoder(), categoricalVars),\n",
    "    (StandardScaler(), numericVars),\n",
    "    remainder='passthrough')"
   ]
  },
  {
   "cell_type": "markdown",
   "metadata": {},
   "source": [
    "Take a peek at the column transformer results"
   ]
  },
  {
   "cell_type": "code",
   "execution_count": 12,
   "metadata": {},
   "outputs": [
    {
     "data": {
      "text/html": "<div>\n<style scoped>\n    .dataframe tbody tr th:only-of-type {\n        vertical-align: middle;\n    }\n\n    .dataframe tbody tr th {\n        vertical-align: top;\n    }\n\n    .dataframe thead th {\n        text-align: right;\n    }\n</style>\n<table border=\"1\" class=\"dataframe\">\n  <thead>\n    <tr style=\"text-align: right;\">\n      <th></th>\n      <th>CI_Name_aff</th>\n      <th>Service_Component_WBS_aff</th>\n      <th>Impact</th>\n      <th>Urgency</th>\n      <th>KM_number</th>\n      <th>Count_Related_Interactions</th>\n      <th>Count_Related_Incidents</th>\n      <th>Count_Related_Changes</th>\n      <th>Open_Time_HourOfDay</th>\n      <th>Open_Time_DayOfWeek</th>\n      <th>CI_TypeSubType_aff</th>\n    </tr>\n  </thead>\n  <tbody>\n    <tr>\n      <th>count</th>\n      <td>2.464500e+04</td>\n      <td>2.464500e+04</td>\n      <td>24645.000000</td>\n      <td>24645.000000</td>\n      <td>24645.000000</td>\n      <td>24645.000000</td>\n      <td>24645.000000</td>\n      <td>24645.000000</td>\n      <td>2.464500e+04</td>\n      <td>2.464500e+04</td>\n      <td>2.464500e+04</td>\n    </tr>\n    <tr>\n      <th>mean</th>\n      <td>2.896919e-01</td>\n      <td>2.998200e-01</td>\n      <td>0.300254</td>\n      <td>0.300260</td>\n      <td>0.297916</td>\n      <td>0.300264</td>\n      <td>0.300264</td>\n      <td>0.300181</td>\n      <td>-2.149281e-16</td>\n      <td>-1.561871e-15</td>\n      <td>1.298863e-15</td>\n    </tr>\n    <tr>\n      <th>std</th>\n      <td>1.714120e-01</td>\n      <td>1.434264e-01</td>\n      <td>0.034377</td>\n      <td>0.034638</td>\n      <td>0.214322</td>\n      <td>0.038897</td>\n      <td>0.075166</td>\n      <td>0.086459</td>\n      <td>1.000020e+00</td>\n      <td>1.000020e+00</td>\n      <td>1.000020e+00</td>\n    </tr>\n    <tr>\n      <th>min</th>\n      <td>2.496777e-07</td>\n      <td>6.786934e-07</td>\n      <td>0.261046</td>\n      <td>0.265505</td>\n      <td>0.000000</td>\n      <td>0.000037</td>\n      <td>0.244068</td>\n      <td>0.000037</td>\n      <td>-7.847195e-01</td>\n      <td>-7.808990e-02</td>\n      <td>-1.065131e-01</td>\n    </tr>\n    <tr>\n      <th>25%</th>\n      <td>1.270670e-01</td>\n      <td>2.267637e-01</td>\n      <td>0.287959</td>\n      <td>0.285792</td>\n      <td>0.096774</td>\n      <td>0.272022</td>\n      <td>0.260101</td>\n      <td>0.274755</td>\n      <td>-9.115287e-02</td>\n      <td>-7.808990e-02</td>\n      <td>-1.065131e-01</td>\n    </tr>\n    <tr>\n      <th>50%</th>\n      <td>2.784810e-01</td>\n      <td>2.267637e-01</td>\n      <td>0.287959</td>\n      <td>0.285792</td>\n      <td>0.280374</td>\n      <td>0.287281</td>\n      <td>0.260609</td>\n      <td>0.274755</td>\n      <td>-9.115287e-02</td>\n      <td>-7.808990e-02</td>\n      <td>-1.065131e-01</td>\n    </tr>\n    <tr>\n      <th>75%</th>\n      <td>4.385965e-01</td>\n      <td>4.190065e-01</td>\n      <td>0.287959</td>\n      <td>0.285792</td>\n      <td>0.470703</td>\n      <td>0.312308</td>\n      <td>0.312689</td>\n      <td>0.301970</td>\n      <td>-9.115287e-02</td>\n      <td>-7.808990e-02</td>\n      <td>-1.065131e-01</td>\n    </tr>\n    <tr>\n      <th>max</th>\n      <td>9.874144e-01</td>\n      <td>9.997653e-01</td>\n      <td>0.916589</td>\n      <td>0.728671</td>\n      <td>0.999968</td>\n      <td>0.724138</td>\n      <td>0.676471</td>\n      <td>0.916589</td>\n      <td>8.105615e+01</td>\n      <td>8.681520e+01</td>\n      <td>6.607034e+01</td>\n    </tr>\n  </tbody>\n</table>\n</div>",
      "text/plain": "        CI_Name_aff  Service_Component_WBS_aff        Impact       Urgency  \\\ncount  2.464500e+04               2.464500e+04  24645.000000  24645.000000   \nmean   2.896919e-01               2.998200e-01      0.300254      0.300260   \nstd    1.714120e-01               1.434264e-01      0.034377      0.034638   \nmin    2.496777e-07               6.786934e-07      0.261046      0.265505   \n25%    1.270670e-01               2.267637e-01      0.287959      0.285792   \n50%    2.784810e-01               2.267637e-01      0.287959      0.285792   \n75%    4.385965e-01               4.190065e-01      0.287959      0.285792   \nmax    9.874144e-01               9.997653e-01      0.916589      0.728671   \n\n          KM_number  Count_Related_Interactions  Count_Related_Incidents  \\\ncount  24645.000000                24645.000000             24645.000000   \nmean       0.297916                    0.300264                 0.300264   \nstd        0.214322                    0.038897                 0.075166   \nmin        0.000000                    0.000037                 0.244068   \n25%        0.096774                    0.272022                 0.260101   \n50%        0.280374                    0.287281                 0.260609   \n75%        0.470703                    0.312308                 0.312689   \nmax        0.999968                    0.724138                 0.676471   \n\n       Count_Related_Changes  Open_Time_HourOfDay  Open_Time_DayOfWeek  \\\ncount           24645.000000         2.464500e+04         2.464500e+04   \nmean                0.300181        -2.149281e-16        -1.561871e-15   \nstd                 0.086459         1.000020e+00         1.000020e+00   \nmin                 0.000037        -7.847195e-01        -7.808990e-02   \n25%                 0.274755        -9.115287e-02        -7.808990e-02   \n50%                 0.274755        -9.115287e-02        -7.808990e-02   \n75%                 0.301970        -9.115287e-02        -7.808990e-02   \nmax                 0.916589         8.105615e+01         8.681520e+01   \n\n       CI_TypeSubType_aff  \ncount        2.464500e+04  \nmean         1.298863e-15  \nstd          1.000020e+00  \nmin         -1.065131e-01  \n25%         -1.065131e-01  \n50%         -1.065131e-01  \n75%         -1.065131e-01  \nmax          6.607034e+01  "
     },
     "execution_count": 12,
     "metadata": {},
     "output_type": "execute_result"
    }
   ],
   "source": [
    "pd.DataFrame(column_trans.fit_transform(X_train, y_train), columns=X_train.columns).describe()"
   ]
  },
  {
   "cell_type": "code",
   "execution_count": 13,
   "metadata": {},
   "outputs": [
    {
     "data": {
      "text/plain": "ColumnTransformer(n_jobs=None, remainder='passthrough', sparse_threshold=0.3,\n                  transformer_weights=None,\n                  transformers=[('targetencoder',\n                                 TargetEncoder(cols=None, drop_invariant=False,\n                                               handle_missing='value',\n                                               handle_unknown='value',\n                                               min_samples_leaf=1,\n                                               return_df=True, smoothing=1.0,\n                                               verbose=0),\n                                 Index(['CI_Name_aff', 'Service_Component_WBS_aff', 'Impact', 'Urgency',\n       'KM_number', 'Open_Time_HourOfDay', 'Open_Time_DayOfWeek',\n       'CI_TypeSubType_aff'],\n      dtype='object')),\n                                ('standardscaler',\n                                 StandardScaler(copy=True, with_mean=True,\n                                                with_std=True),\n                                 Index(['Count_Related_Interactions', 'Count_Related_Incidents',\n       'Count_Related_Changes'],\n      dtype='object'))],\n                  verbose=False)"
     },
     "execution_count": 13,
     "metadata": {},
     "output_type": "execute_result"
    }
   ],
   "source": [
    "column_trans"
   ]
  },
  {
   "cell_type": "markdown",
   "metadata": {},
   "source": [
    "### Feature Selection\n",
    "\n"
   ]
  },
  {
   "cell_type": "code",
   "execution_count": 14,
   "metadata": {},
   "outputs": [],
   "source": [
    "## placeholder: none for Bare Bones"
   ]
  },
  {
   "cell_type": "markdown",
   "metadata": {},
   "source": [
    "### Specify Classifier (Logistic Regression)"
   ]
  },
  {
   "cell_type": "code",
   "execution_count": 15,
   "metadata": {},
   "outputs": [],
   "source": [
    "classifier = LogisticRegression(solver=\"lbfgs\")"
   ]
  },
  {
   "cell_type": "markdown",
   "metadata": {},
   "source": [
    "### Compose Pipeline"
   ]
  },
  {
   "cell_type": "code",
   "execution_count": 16,
   "metadata": {},
   "outputs": [],
   "source": [
    "pipe = make_pipeline(column_trans, \n",
    "                     classifier)"
   ]
  },
  {
   "cell_type": "markdown",
   "metadata": {},
   "source": [
    "### Fit the Model Using the Pipeline"
   ]
  },
  {
   "cell_type": "code",
   "execution_count": 17,
   "metadata": {},
   "outputs": [
    {
     "data": {
      "text/plain": "Pipeline(memory=None,\n         steps=[('columntransformer',\n                 ColumnTransformer(n_jobs=None, remainder='passthrough',\n                                   sparse_threshold=0.3,\n                                   transformer_weights=None,\n                                   transformers=[('targetencoder',\n                                                  TargetEncoder(cols=None,\n                                                                drop_invariant=False,\n                                                                handle_missing='value',\n                                                                handle_unknown='value',\n                                                                min_samples_leaf=1,\n                                                                return_df=True,\n                                                                smoothing=1.0,\n                                                                verbose=0),\n                                                  Index(['CI_Name_aff'...\n                                                  Index(['Count_Related_Interactions', 'Count_Related_Incidents',\n       'Count_Related_Changes'],\n      dtype='object'))],\n                                   verbose=False)),\n                ('logisticregression',\n                 LogisticRegression(C=1.0, class_weight=None, dual=False,\n                                    fit_intercept=True, intercept_scaling=1,\n                                    l1_ratio=None, max_iter=100,\n                                    multi_class='auto', n_jobs=None,\n                                    penalty='l2', random_state=None,\n                                    solver='lbfgs', tol=0.0001, verbose=0,\n                                    warm_start=False))],\n         verbose=False)"
     },
     "execution_count": 17,
     "metadata": {},
     "output_type": "execute_result"
    }
   ],
   "source": [
    "pipe.fit(X_train,y_train)"
   ]
  },
  {
   "cell_type": "markdown",
   "metadata": {},
   "source": [
    "### Capture model  information"
   ]
  },
  {
   "cell_type": "code",
   "execution_count": 18,
   "metadata": {},
   "outputs": [
    {
     "data": {
      "text/plain": "{'Name': 'Bare Bones with Target Encoder',\n 'Column Transforms': ['targetencoder', 'standardscaler'],\n 'Classifier': LogisticRegression(C=1.0, class_weight=None, dual=False, fit_intercept=True,\n                    intercept_scaling=1, l1_ratio=None, max_iter=100,\n                    multi_class='auto', n_jobs=None, penalty='l2',\n                    random_state=None, solver='lbfgs', tol=0.0001, verbose=0,\n                    warm_start=False)}"
     },
     "execution_count": 18,
     "metadata": {},
     "output_type": "execute_result"
    }
   ],
   "source": [
    "PipeLineMetadata['Column Transforms'] = list(pipe.named_steps.columntransformer.named_transformers_.keys())\n",
    "PipeLineMetadata['Classifier'] = pipe.named_steps.logisticregression\n",
    "PipeLineMetadata"
   ]
  },
  {
   "cell_type": "code",
   "execution_count": 19,
   "metadata": {},
   "outputs": [
    {
     "data": {
      "text/plain": "{'Name': 'Bare Bones with Target Encoder',\n 'Column Transforms': ['targetencoder', 'standardscaler'],\n 'Classifier': LogisticRegression(C=1.0, class_weight=None, dual=False, fit_intercept=True,\n                    intercept_scaling=1, l1_ratio=None, max_iter=100,\n                    multi_class='auto', n_jobs=None, penalty='l2',\n                    random_state=None, solver='lbfgs', tol=0.0001, verbose=0,\n                    warm_start=False),\n 'Classifier - Intercept': -6.197930200617626,\n 'Classifier - Coefficients':                                    0\n CI_Name_aff                 1.101768\n Service_Component_WBS_aff  -0.110784\n Impact                      0.548248\n Urgency                     0.591741\n KM_number                   5.129803\n Count_Related_Interactions  4.420245\n Count_Related_Incidents     5.229524\n Count_Related_Changes       0.118130\n Open_Time_HourOfDay         0.190665\n Open_Time_DayOfWeek        -0.033615\n CI_TypeSubType_aff          0.003000}"
     },
     "execution_count": 19,
     "metadata": {},
     "output_type": "execute_result"
    }
   ],
   "source": [
    "PipeLineMetadata['Classifier - Intercept'] = pipe.named_steps.logisticregression.intercept_[0]\n",
    "PipeLineMetadata['Classifier - Coefficients'] = pd.DataFrame(pipe.named_steps.logisticregression.coef_, columns=X_train.columns).transpose()\n",
    "PipeLineMetadata"
   ]
  },
  {
   "cell_type": "markdown",
   "metadata": {},
   "source": [
    "## Cross-validate the Model with Training Data\n"
   ]
  },
  {
   "cell_type": "code",
   "execution_count": 20,
   "metadata": {},
   "outputs": [
    {
     "data": {
      "text/plain": "0.7339013998782715"
     },
     "execution_count": 20,
     "metadata": {},
     "output_type": "execute_result"
    }
   ],
   "source": [
    "PipeLineMetadata['Metrics - Cross Validation Accuracy'] = cross_val_score(pipe, X_train, y_train, cv=5, scoring=\"accuracy\").mean()\n",
    "PipeLineMetadata['Metrics - Cross Validation Accuracy']"
   ]
  },
  {
   "cell_type": "markdown",
   "metadata": {},
   "source": [
    "## Evaluate with Test Data"
   ]
  },
  {
   "cell_type": "markdown",
   "metadata": {},
   "source": [
    "Get predicted classification based on the model"
   ]
  },
  {
   "cell_type": "code",
   "execution_count": 21,
   "metadata": {},
   "outputs": [],
   "source": [
    "y_pred_class = pipe.predict(X_test)\n",
    "y_pred_prob = pipe.predict_proba(X_test)[:,1]"
   ]
  },
  {
   "cell_type": "code",
   "execution_count": 22,
   "metadata": {},
   "outputs": [
    {
     "data": {
      "text/plain": "0.6544454104729959"
     },
     "execution_count": 22,
     "metadata": {},
     "output_type": "execute_result"
    }
   ],
   "source": [
    "PipeLineMetadata['Metrics - F1 score'] = metrics.f1_score(y_test, y_pred_class, average='macro')\n",
    "PipeLineMetadata['Metrics - F1 score']"
   ]
  },
  {
   "cell_type": "markdown",
   "metadata": {},
   "source": [
    "Look at the resulting confusion matrix\n",
    "\n",
    "Save True Positive (TP), True Negative (TN), False Positive(FP), and False Negative (FN) values"
   ]
  },
  {
   "cell_type": "code",
   "execution_count": 23,
   "metadata": {},
   "outputs": [
    {
     "name": "stdout",
     "output_type": "stream",
     "text": "[[6574  871]\n [1856 1262]]\nTN: 6574 \t FP: 871 \nFN: 1856 \t TP: 1262 \n"
    }
   ],
   "source": [
    "confusion = metrics.confusion_matrix(y_test, y_pred_class)\n",
    "TP = confusion[1, 1]\n",
    "TN = confusion[0, 0]\n",
    "FP = confusion[0, 1]\n",
    "FN = confusion[1, 0]\n",
    "print(confusion)\n",
    "print(\"TN: %d \\t FP: %d \\nFN: %d \\t TP: %d \" % (TN, FP, FN, TP))"
   ]
  },
  {
   "cell_type": "markdown",
   "metadata": {},
   "source": [
    "Capture a few classification metrics:\n",
    "* Classification Accuracy: Overall, how often is the classifier correct?\n",
    "* Classification Error: Overall, how often is the classifier incorrect?\n",
    "* True Positive Rate  (Recall, Sensitivity): When the actual value is positive, how often is the prediction correct?\n",
    "* True Negative Rate (Specificity): When the actual value is negative, how often is the prediction correct?\n",
    "* False Positive Rate: When the actual value is negative, how often is the prediction incorrect?\n",
    "* Precision: When a positive value is predicted, how often is the prediction correct?\n"
   ]
  },
  {
   "cell_type": "code",
   "execution_count": 24,
   "metadata": {},
   "outputs": [],
   "source": [
    "PipeLineMetadata['Metrics - Confusion Matrix Classification Accuracy'] = metrics.accuracy_score(y_test,y_pred_class) \n",
    "PipeLineMetadata['Metrics - Confusion Matrix Classification Error'] = 1- metrics.accuracy_score(y_test,y_pred_class)\n",
    "PipeLineMetadata['Metrics - Confusion Matrix True Positive Rate'] = metrics.recall_score(y_test, y_pred_class) \n",
    "PipeLineMetadata['Metrics - Confusion Matrix True Negative Rate'] =  TN / float(TN + FP)\n",
    "PipeLineMetadata['Metrics - Confusion Matrix False Positive Rate'] =  FP / float(TN + FP)\n",
    "PipeLineMetadata['Metrics - Confusion Matrix Precision'] = metrics.precision_score(y_test,y_pred_class)"
   ]
  },
  {
   "cell_type": "code",
   "execution_count": 25,
   "metadata": {},
   "outputs": [
    {
     "data": {
      "text/plain": "{'Name': 'Bare Bones with Target Encoder',\n 'Column Transforms': ['targetencoder', 'standardscaler'],\n 'Classifier': LogisticRegression(C=1.0, class_weight=None, dual=False, fit_intercept=True,\n                    intercept_scaling=1, l1_ratio=None, max_iter=100,\n                    multi_class='auto', n_jobs=None, penalty='l2',\n                    random_state=None, solver='lbfgs', tol=0.0001, verbose=0,\n                    warm_start=False),\n 'Classifier - Intercept': -6.197930200617626,\n 'Classifier - Coefficients':                                    0\n CI_Name_aff                 1.101768\n Service_Component_WBS_aff  -0.110784\n Impact                      0.548248\n Urgency                     0.591741\n KM_number                   5.129803\n Count_Related_Interactions  4.420245\n Count_Related_Incidents     5.229524\n Count_Related_Changes       0.118130\n Open_Time_HourOfDay         0.190665\n Open_Time_DayOfWeek        -0.033615\n CI_TypeSubType_aff          0.003000,\n 'Metrics - Cross Validation Accuracy': 0.7339013998782715,\n 'Metrics - F1 score': 0.6544454104729959,\n 'Metrics - Confusion Matrix Classification Accuracy': 0.7418347060494178,\n 'Metrics - Confusion Matrix Classification Error': 0.2581652939505822,\n 'Metrics - Confusion Matrix True Positive Rate': 0.404746632456703,\n 'Metrics - Confusion Matrix True Negative Rate': 0.8830087306917395,\n 'Metrics - Confusion Matrix False Positive Rate': 0.11699126930826058,\n 'Metrics - Confusion Matrix Precision': 0.5916549460853259}"
     },
     "execution_count": 25,
     "metadata": {},
     "output_type": "execute_result"
    }
   ],
   "source": [
    "PipeLineMetadata\n"
   ]
  },
  {
   "cell_type": "markdown",
   "metadata": {},
   "source": [
    "Add some ROC curve information and AUC result\n"
   ]
  },
  {
   "cell_type": "code",
   "execution_count": 26,
   "metadata": {},
   "outputs": [],
   "source": [
    "fpr, tpr, thresholds = metrics.roc_curve(y_test, y_pred_prob)"
   ]
  },
  {
   "cell_type": "code",
   "execution_count": 27,
   "metadata": {},
   "outputs": [],
   "source": [
    "PipeLineMetadata['Metrics - ROC Curve fpr array'] = fpr\n",
    "PipeLineMetadata['Metrics - ROC Curve tpr array'] = tpr"
   ]
  },
  {
   "cell_type": "code",
   "execution_count": 28,
   "metadata": {},
   "outputs": [
    {
     "data": {
      "image/png": "[encoded data removed]",
      "image/svg+xml": "<?xml version=\"1.0\" encoding=\"utf-8\" standalone=\"no\"?>\n<!DOCTYPE svg PUBLIC \"-//W3C//DTD SVG 1.1//EN\"\n  \"http://www.w3.org/Graphics/SVG/1.1/DTD/svg11.dtd\">\n<!-- Created with matplotlib (https://matplotlib.org/) -->\n<svg height=\"277.314375pt\" version=\"1.1\" viewBox=\"0 0 393.732813 277.314375\" width=\"393.732813pt\" xmlns=\"http://www.w3.org/2000/svg\" xmlns:xlink=\"http://www.w3.org/1999/xlink\">\n <defs>\n  <style type=\"text/css\">\n*{stroke-linecap:butt;stroke-linejoin:round;}\n  </style>\n </defs>\n <g id=\"figure_1\">\n  <g id=\"patch_1\">\n   <path d=\"M 0 277.314375 \nL 393.732813 277.314375 \nL 393.732813 0 \nL 0 0 \nz\n\" style=\"fill:none;\"/>\n  </g>\n  <g id=\"axes_1\">\n   <g id=\"patch_2\">\n    <path d=\"M 43.78125 239.758125 \nL 378.58125 239.758125 \nL 378.58125 22.318125 \nL 43.78125 22.318125 \nz\n\" style=\"fill:#ffffff;\"/>\n   </g>\n   <g id=\"matplotlib.axis_1\">\n    <g id=\"xtick_1\">\n     <g id=\"line2d_1\">\n      <path clip-path=\"url(#p83b7edae9e)\" d=\"M 43.78125 239.758125 \nL 43.78125 22.318125 \n\" style=\"fill:none;stroke:#b0b0b0;stroke-linecap:square;stroke-width:0.8;\"/>\n     </g>\n     <g id=\"line2d_2\">\n      <defs>\n       <path d=\"M 0 0 \nL 0 3.5 \n\" id=\"m08f826044b\" style=\"stroke:#000000;stroke-width:0.8;\"/>\n      </defs>\n      <g>\n       <use style=\"stroke:#000000;stroke-width:0.8;\" x=\"43.78125\" xlink:href=\"#m08f826044b\" y=\"239.758125\"/>\n      </g>\n     </g>\n     <g id=\"text_1\">\n      <!-- 0.0 -->\n      <defs>\n       <path d=\"M 31.78125 66.40625 \nQ 24.171875 66.40625 20.328125 58.90625 \nQ 16.5 51.421875 16.5 36.375 \nQ 16.5 21.390625 20.328125 13.890625 \nQ 24.171875 6.390625 31.78125 6.390625 \nQ 39.453125 6.390625 43.28125 13.890625 \nQ 47.125 21.390625 47.125 36.375 \nQ 47.125 51.421875 43.28125 58.90625 \nQ 39.453125 66.40625 31.78125 66.40625 \nz\nM 31.78125 74.21875 \nQ 44.046875 74.21875 50.515625 64.515625 \nQ 56.984375 54.828125 56.984375 36.375 \nQ 56.984375 17.96875 50.515625 8.265625 \nQ 44.046875 -1.421875 31.78125 -1.421875 \nQ 19.53125 -1.421875 13.0625 8.265625 \nQ 6.59375 17.96875 6.59375 36.375 \nQ 6.59375 54.828125 13.0625 64.515625 \nQ 19.53125 74.21875 31.78125 74.21875 \nz\n\" id=\"DejaVuSans-48\"/>\n       <path d=\"M 10.6875 12.40625 \nL 21 12.40625 \nL 21 0 \nL 10.6875 0 \nz\n\" id=\"DejaVuSans-46\"/>\n      </defs>\n      <g transform=\"translate(35.829688 254.356562)scale(0.1 -0.1)\">\n       <use xlink:href=\"#DejaVuSans-48\"/>\n       <use x=\"63.623047\" xlink:href=\"#DejaVuSans-46\"/>\n       <use x=\"95.410156\" xlink:href=\"#DejaVuSans-48\"/>\n      </g>\n     </g>\n    </g>\n    <g id=\"xtick_2\">\n     <g id=\"line2d_3\">\n      <path clip-path=\"url(#p83b7edae9e)\" d=\"M 110.74125 239.758125 \nL 110.74125 22.318125 \n\" style=\"fill:none;stroke:#b0b0b0;stroke-linecap:square;stroke-width:0.8;\"/>\n     </g>\n     <g id=\"line2d_4\">\n      <g>\n       <use style=\"stroke:#000000;stroke-width:0.8;\" x=\"110.74125\" xlink:href=\"#m08f826044b\" y=\"239.758125\"/>\n      </g>\n     </g>\n     <g id=\"text_2\">\n      <!-- 0.2 -->\n      <defs>\n       <path d=\"M 19.1875 8.296875 \nL 53.609375 8.296875 \nL 53.609375 0 \nL 7.328125 0 \nL 7.328125 8.296875 \nQ 12.9375 14.109375 22.625 23.890625 \nQ 32.328125 33.6875 34.8125 36.53125 \nQ 39.546875 41.84375 41.421875 45.53125 \nQ 43.3125 49.21875 43.3125 52.78125 \nQ 43.3125 58.59375 39.234375 62.25 \nQ 35.15625 65.921875 28.609375 65.921875 \nQ 23.96875 65.921875 18.8125 64.3125 \nQ 13.671875 62.703125 7.8125 59.421875 \nL 7.8125 69.390625 \nQ 13.765625 71.78125 18.9375 73 \nQ 24.125 74.21875 28.421875 74.21875 \nQ 39.75 74.21875 46.484375 68.546875 \nQ 53.21875 62.890625 53.21875 53.421875 \nQ 53.21875 48.921875 51.53125 44.890625 \nQ 49.859375 40.875 45.40625 35.40625 \nQ 44.1875 33.984375 37.640625 27.21875 \nQ 31.109375 20.453125 19.1875 8.296875 \nz\n\" id=\"DejaVuSans-50\"/>\n      </defs>\n      <g transform=\"translate(102.789688 254.356562)scale(0.1 -0.1)\">\n       <use xlink:href=\"#DejaVuSans-48\"/>\n       <use x=\"63.623047\" xlink:href=\"#DejaVuSans-46\"/>\n       <use x=\"95.410156\" xlink:href=\"#DejaVuSans-50\"/>\n      </g>\n     </g>\n    </g>\n    <g id=\"xtick_3\">\n     <g id=\"line2d_5\">\n      <path clip-path=\"url(#p83b7edae9e)\" d=\"M 177.70125 239.758125 \nL 177.70125 22.318125 \n\" style=\"fill:none;stroke:#b0b0b0;stroke-linecap:square;stroke-width:0.8;\"/>\n     </g>\n     <g id=\"line2d_6\">\n      <g>\n       <use style=\"stroke:#000000;stroke-width:0.8;\" x=\"177.70125\" xlink:href=\"#m08f826044b\" y=\"239.758125\"/>\n      </g>\n     </g>\n     <g id=\"text_3\">\n      <!-- 0.4 -->\n      <defs>\n       <path d=\"M 37.796875 64.3125 \nL 12.890625 25.390625 \nL 37.796875 25.390625 \nz\nM 35.203125 72.90625 \nL 47.609375 72.90625 \nL 47.609375 25.390625 \nL 58.015625 25.390625 \nL 58.015625 17.1875 \nL 47.609375 17.1875 \nL 47.609375 0 \nL 37.796875 0 \nL 37.796875 17.1875 \nL 4.890625 17.1875 \nL 4.890625 26.703125 \nz\n\" id=\"DejaVuSans-52\"/>\n      </defs>\n      <g transform=\"translate(169.749688 254.356562)scale(0.1 -0.1)\">\n       <use xlink:href=\"#DejaVuSans-48\"/>\n       <use x=\"63.623047\" xlink:href=\"#DejaVuSans-46\"/>\n       <use x=\"95.410156\" xlink:href=\"#DejaVuSans-52\"/>\n      </g>\n     </g>\n    </g>\n    <g id=\"xtick_4\">\n     <g id=\"line2d_7\">\n      <path clip-path=\"url(#p83b7edae9e)\" d=\"M 244.66125 239.758125 \nL 244.66125 22.318125 \n\" style=\"fill:none;stroke:#b0b0b0;stroke-linecap:square;stroke-width:0.8;\"/>\n     </g>\n     <g id=\"line2d_8\">\n      <g>\n       <use style=\"stroke:#000000;stroke-width:0.8;\" x=\"244.66125\" xlink:href=\"#m08f826044b\" y=\"239.758125\"/>\n      </g>\n     </g>\n     <g id=\"text_4\">\n      <!-- 0.6 -->\n      <defs>\n       <path d=\"M 33.015625 40.375 \nQ 26.375 40.375 22.484375 35.828125 \nQ 18.609375 31.296875 18.609375 23.390625 \nQ 18.609375 15.53125 22.484375 10.953125 \nQ 26.375 6.390625 33.015625 6.390625 \nQ 39.65625 6.390625 43.53125 10.953125 \nQ 47.40625 15.53125 47.40625 23.390625 \nQ 47.40625 31.296875 43.53125 35.828125 \nQ 39.65625 40.375 33.015625 40.375 \nz\nM 52.59375 71.296875 \nL 52.59375 62.3125 \nQ 48.875 64.0625 45.09375 64.984375 \nQ 41.3125 65.921875 37.59375 65.921875 \nQ 27.828125 65.921875 22.671875 59.328125 \nQ 17.53125 52.734375 16.796875 39.40625 \nQ 19.671875 43.65625 24.015625 45.921875 \nQ 28.375 48.1875 33.59375 48.1875 \nQ 44.578125 48.1875 50.953125 41.515625 \nQ 57.328125 34.859375 57.328125 23.390625 \nQ 57.328125 12.15625 50.6875 5.359375 \nQ 44.046875 -1.421875 33.015625 -1.421875 \nQ 20.359375 -1.421875 13.671875 8.265625 \nQ 6.984375 17.96875 6.984375 36.375 \nQ 6.984375 53.65625 15.1875 63.9375 \nQ 23.390625 74.21875 37.203125 74.21875 \nQ 40.921875 74.21875 44.703125 73.484375 \nQ 48.484375 72.75 52.59375 71.296875 \nz\n\" id=\"DejaVuSans-54\"/>\n      </defs>\n      <g transform=\"translate(236.709688 254.356562)scale(0.1 -0.1)\">\n       <use xlink:href=\"#DejaVuSans-48\"/>\n       <use x=\"63.623047\" xlink:href=\"#DejaVuSans-46\"/>\n       <use x=\"95.410156\" xlink:href=\"#DejaVuSans-54\"/>\n      </g>\n     </g>\n    </g>\n    <g id=\"xtick_5\">\n     <g id=\"line2d_9\">\n      <path clip-path=\"url(#p83b7edae9e)\" d=\"M 311.62125 239.758125 \nL 311.62125 22.318125 \n\" style=\"fill:none;stroke:#b0b0b0;stroke-linecap:square;stroke-width:0.8;\"/>\n     </g>\n     <g id=\"line2d_10\">\n      <g>\n       <use style=\"stroke:#000000;stroke-width:0.8;\" x=\"311.62125\" xlink:href=\"#m08f826044b\" y=\"239.758125\"/>\n      </g>\n     </g>\n     <g id=\"text_5\">\n      <!-- 0.8 -->\n      <defs>\n       <path d=\"M 31.78125 34.625 \nQ 24.75 34.625 20.71875 30.859375 \nQ 16.703125 27.09375 16.703125 20.515625 \nQ 16.703125 13.921875 20.71875 10.15625 \nQ 24.75 6.390625 31.78125 6.390625 \nQ 38.8125 6.390625 42.859375 10.171875 \nQ 46.921875 13.96875 46.921875 20.515625 \nQ 46.921875 27.09375 42.890625 30.859375 \nQ 38.875 34.625 31.78125 34.625 \nz\nM 21.921875 38.8125 \nQ 15.578125 40.375 12.03125 44.71875 \nQ 8.5 49.078125 8.5 55.328125 \nQ 8.5 64.0625 14.71875 69.140625 \nQ 20.953125 74.21875 31.78125 74.21875 \nQ 42.671875 74.21875 48.875 69.140625 \nQ 55.078125 64.0625 55.078125 55.328125 \nQ 55.078125 49.078125 51.53125 44.71875 \nQ 48 40.375 41.703125 38.8125 \nQ 48.828125 37.15625 52.796875 32.3125 \nQ 56.78125 27.484375 56.78125 20.515625 \nQ 56.78125 9.90625 50.3125 4.234375 \nQ 43.84375 -1.421875 31.78125 -1.421875 \nQ 19.734375 -1.421875 13.25 4.234375 \nQ 6.78125 9.90625 6.78125 20.515625 \nQ 6.78125 27.484375 10.78125 32.3125 \nQ 14.796875 37.15625 21.921875 38.8125 \nz\nM 18.3125 54.390625 \nQ 18.3125 48.734375 21.84375 45.5625 \nQ 25.390625 42.390625 31.78125 42.390625 \nQ 38.140625 42.390625 41.71875 45.5625 \nQ 45.3125 48.734375 45.3125 54.390625 \nQ 45.3125 60.0625 41.71875 63.234375 \nQ 38.140625 66.40625 31.78125 66.40625 \nQ 25.390625 66.40625 21.84375 63.234375 \nQ 18.3125 60.0625 18.3125 54.390625 \nz\n\" id=\"DejaVuSans-56\"/>\n      </defs>\n      <g transform=\"translate(303.669688 254.356562)scale(0.1 -0.1)\">\n       <use xlink:href=\"#DejaVuSans-48\"/>\n       <use x=\"63.623047\" xlink:href=\"#DejaVuSans-46\"/>\n       <use x=\"95.410156\" xlink:href=\"#DejaVuSans-56\"/>\n      </g>\n     </g>\n    </g>\n    <g id=\"xtick_6\">\n     <g id=\"line2d_11\">\n      <path clip-path=\"url(#p83b7edae9e)\" d=\"M 378.58125 239.758125 \nL 378.58125 22.318125 \n\" style=\"fill:none;stroke:#b0b0b0;stroke-linecap:square;stroke-width:0.8;\"/>\n     </g>\n     <g id=\"line2d_12\">\n      <g>\n       <use style=\"stroke:#000000;stroke-width:0.8;\" x=\"378.58125\" xlink:href=\"#m08f826044b\" y=\"239.758125\"/>\n      </g>\n     </g>\n     <g id=\"text_6\">\n      <!-- 1.0 -->\n      <defs>\n       <path d=\"M 12.40625 8.296875 \nL 28.515625 8.296875 \nL 28.515625 63.921875 \nL 10.984375 60.40625 \nL 10.984375 69.390625 \nL 28.421875 72.90625 \nL 38.28125 72.90625 \nL 38.28125 8.296875 \nL 54.390625 8.296875 \nL 54.390625 0 \nL 12.40625 0 \nz\n\" id=\"DejaVuSans-49\"/>\n      </defs>\n      <g transform=\"translate(370.629687 254.356562)scale(0.1 -0.1)\">\n       <use xlink:href=\"#DejaVuSans-49\"/>\n       <use x=\"63.623047\" xlink:href=\"#DejaVuSans-46\"/>\n       <use x=\"95.410156\" xlink:href=\"#DejaVuSans-48\"/>\n      </g>\n     </g>\n    </g>\n    <g id=\"text_7\">\n     <!-- False Positive Rate (1 - Specificity) -->\n     <defs>\n      <path d=\"M 9.8125 72.90625 \nL 51.703125 72.90625 \nL 51.703125 64.59375 \nL 19.671875 64.59375 \nL 19.671875 43.109375 \nL 48.578125 43.109375 \nL 48.578125 34.8125 \nL 19.671875 34.8125 \nL 19.671875 0 \nL 9.8125 0 \nz\n\" id=\"DejaVuSans-70\"/>\n      <path d=\"M 34.28125 27.484375 \nQ 23.390625 27.484375 19.1875 25 \nQ 14.984375 22.515625 14.984375 16.5 \nQ 14.984375 11.71875 18.140625 8.90625 \nQ 21.296875 6.109375 26.703125 6.109375 \nQ 34.1875 6.109375 38.703125 11.40625 \nQ 43.21875 16.703125 43.21875 25.484375 \nL 43.21875 27.484375 \nz\nM 52.203125 31.203125 \nL 52.203125 0 \nL 43.21875 0 \nL 43.21875 8.296875 \nQ 40.140625 3.328125 35.546875 0.953125 \nQ 30.953125 -1.421875 24.3125 -1.421875 \nQ 15.921875 -1.421875 10.953125 3.296875 \nQ 6 8.015625 6 15.921875 \nQ 6 25.140625 12.171875 29.828125 \nQ 18.359375 34.515625 30.609375 34.515625 \nL 43.21875 34.515625 \nL 43.21875 35.40625 \nQ 43.21875 41.609375 39.140625 45 \nQ 35.0625 48.390625 27.6875 48.390625 \nQ 23 48.390625 18.546875 47.265625 \nQ 14.109375 46.140625 10.015625 43.890625 \nL 10.015625 52.203125 \nQ 14.9375 54.109375 19.578125 55.046875 \nQ 24.21875 56 28.609375 56 \nQ 40.484375 56 46.34375 49.84375 \nQ 52.203125 43.703125 52.203125 31.203125 \nz\n\" id=\"DejaVuSans-97\"/>\n      <path d=\"M 9.421875 75.984375 \nL 18.40625 75.984375 \nL 18.40625 0 \nL 9.421875 0 \nz\n\" id=\"DejaVuSans-108\"/>\n      <path d=\"M 44.28125 53.078125 \nL 44.28125 44.578125 \nQ 40.484375 46.53125 36.375 47.5 \nQ 32.28125 48.484375 27.875 48.484375 \nQ 21.1875 48.484375 17.84375 46.4375 \nQ 14.5 44.390625 14.5 40.28125 \nQ 14.5 37.15625 16.890625 35.375 \nQ 19.28125 33.59375 26.515625 31.984375 \nL 29.59375 31.296875 \nQ 39.15625 29.25 43.1875 25.515625 \nQ 47.21875 21.78125 47.21875 15.09375 \nQ 47.21875 7.46875 41.1875 3.015625 \nQ 35.15625 -1.421875 24.609375 -1.421875 \nQ 20.21875 -1.421875 15.453125 -0.5625 \nQ 10.6875 0.296875 5.421875 2 \nL 5.421875 11.28125 \nQ 10.40625 8.6875 15.234375 7.390625 \nQ 20.0625 6.109375 24.8125 6.109375 \nQ 31.15625 6.109375 34.5625 8.28125 \nQ 37.984375 10.453125 37.984375 14.40625 \nQ 37.984375 18.0625 35.515625 20.015625 \nQ 33.0625 21.96875 24.703125 23.78125 \nL 21.578125 24.515625 \nQ 13.234375 26.265625 9.515625 29.90625 \nQ 5.8125 33.546875 5.8125 39.890625 \nQ 5.8125 47.609375 11.28125 51.796875 \nQ 16.75 56 26.8125 56 \nQ 31.78125 56 36.171875 55.265625 \nQ 40.578125 54.546875 44.28125 53.078125 \nz\n\" id=\"DejaVuSans-115\"/>\n      <path d=\"M 56.203125 29.59375 \nL 56.203125 25.203125 \nL 14.890625 25.203125 \nQ 15.484375 15.921875 20.484375 11.0625 \nQ 25.484375 6.203125 34.421875 6.203125 \nQ 39.59375 6.203125 44.453125 7.46875 \nQ 49.3125 8.734375 54.109375 11.28125 \nL 54.109375 2.78125 \nQ 49.265625 0.734375 44.1875 -0.34375 \nQ 39.109375 -1.421875 33.890625 -1.421875 \nQ 20.796875 -1.421875 13.15625 6.1875 \nQ 5.515625 13.8125 5.515625 26.8125 \nQ 5.515625 40.234375 12.765625 48.109375 \nQ 20.015625 56 32.328125 56 \nQ 43.359375 56 49.78125 48.890625 \nQ 56.203125 41.796875 56.203125 29.59375 \nz\nM 47.21875 32.234375 \nQ 47.125 39.59375 43.09375 43.984375 \nQ 39.0625 48.390625 32.421875 48.390625 \nQ 24.90625 48.390625 20.390625 44.140625 \nQ 15.875 39.890625 15.1875 32.171875 \nz\n\" id=\"DejaVuSans-101\"/>\n      <path id=\"DejaVuSans-32\"/>\n      <path d=\"M 19.671875 64.796875 \nL 19.671875 37.40625 \nL 32.078125 37.40625 \nQ 38.96875 37.40625 42.71875 40.96875 \nQ 46.484375 44.53125 46.484375 51.125 \nQ 46.484375 57.671875 42.71875 61.234375 \nQ 38.96875 64.796875 32.078125 64.796875 \nz\nM 9.8125 72.90625 \nL 32.078125 72.90625 \nQ 44.34375 72.90625 50.609375 67.359375 \nQ 56.890625 61.8125 56.890625 51.125 \nQ 56.890625 40.328125 50.609375 34.8125 \nQ 44.34375 29.296875 32.078125 29.296875 \nL 19.671875 29.296875 \nL 19.671875 0 \nL 9.8125 0 \nz\n\" id=\"DejaVuSans-80\"/>\n      <path d=\"M 30.609375 48.390625 \nQ 23.390625 48.390625 19.1875 42.75 \nQ 14.984375 37.109375 14.984375 27.296875 \nQ 14.984375 17.484375 19.15625 11.84375 \nQ 23.34375 6.203125 30.609375 6.203125 \nQ 37.796875 6.203125 41.984375 11.859375 \nQ 46.1875 17.53125 46.1875 27.296875 \nQ 46.1875 37.015625 41.984375 42.703125 \nQ 37.796875 48.390625 30.609375 48.390625 \nz\nM 30.609375 56 \nQ 42.328125 56 49.015625 48.375 \nQ 55.71875 40.765625 55.71875 27.296875 \nQ 55.71875 13.875 49.015625 6.21875 \nQ 42.328125 -1.421875 30.609375 -1.421875 \nQ 18.84375 -1.421875 12.171875 6.21875 \nQ 5.515625 13.875 5.515625 27.296875 \nQ 5.515625 40.765625 12.171875 48.375 \nQ 18.84375 56 30.609375 56 \nz\n\" id=\"DejaVuSans-111\"/>\n      <path d=\"M 9.421875 54.6875 \nL 18.40625 54.6875 \nL 18.40625 0 \nL 9.421875 0 \nz\nM 9.421875 75.984375 \nL 18.40625 75.984375 \nL 18.40625 64.59375 \nL 9.421875 64.59375 \nz\n\" id=\"DejaVuSans-105\"/>\n      <path d=\"M 18.3125 70.21875 \nL 18.3125 54.6875 \nL 36.8125 54.6875 \nL 36.8125 47.703125 \nL 18.3125 47.703125 \nL 18.3125 18.015625 \nQ 18.3125 11.328125 20.140625 9.421875 \nQ 21.96875 7.515625 27.59375 7.515625 \nL 36.8125 7.515625 \nL 36.8125 0 \nL 27.59375 0 \nQ 17.1875 0 13.234375 3.875 \nQ 9.28125 7.765625 9.28125 18.015625 \nL 9.28125 47.703125 \nL 2.6875 47.703125 \nL 2.6875 54.6875 \nL 9.28125 54.6875 \nL 9.28125 70.21875 \nz\n\" id=\"DejaVuSans-116\"/>\n      <path d=\"M 2.984375 54.6875 \nL 12.5 54.6875 \nL 29.59375 8.796875 \nL 46.6875 54.6875 \nL 56.203125 54.6875 \nL 35.6875 0 \nL 23.484375 0 \nz\n\" id=\"DejaVuSans-118\"/>\n      <path d=\"M 44.390625 34.1875 \nQ 47.5625 33.109375 50.5625 29.59375 \nQ 53.5625 26.078125 56.59375 19.921875 \nL 66.609375 0 \nL 56 0 \nL 46.6875 18.703125 \nQ 43.0625 26.03125 39.671875 28.421875 \nQ 36.28125 30.8125 30.421875 30.8125 \nL 19.671875 30.8125 \nL 19.671875 0 \nL 9.8125 0 \nL 9.8125 72.90625 \nL 32.078125 72.90625 \nQ 44.578125 72.90625 50.734375 67.671875 \nQ 56.890625 62.453125 56.890625 51.90625 \nQ 56.890625 45.015625 53.6875 40.46875 \nQ 50.484375 35.9375 44.390625 34.1875 \nz\nM 19.671875 64.796875 \nL 19.671875 38.921875 \nL 32.078125 38.921875 \nQ 39.203125 38.921875 42.84375 42.21875 \nQ 46.484375 45.515625 46.484375 51.90625 \nQ 46.484375 58.296875 42.84375 61.546875 \nQ 39.203125 64.796875 32.078125 64.796875 \nz\n\" id=\"DejaVuSans-82\"/>\n      <path d=\"M 31 75.875 \nQ 24.46875 64.65625 21.28125 53.65625 \nQ 18.109375 42.671875 18.109375 31.390625 \nQ 18.109375 20.125 21.3125 9.0625 \nQ 24.515625 -2 31 -13.1875 \nL 23.1875 -13.1875 \nQ 15.875 -1.703125 12.234375 9.375 \nQ 8.59375 20.453125 8.59375 31.390625 \nQ 8.59375 42.28125 12.203125 53.3125 \nQ 15.828125 64.359375 23.1875 75.875 \nz\n\" id=\"DejaVuSans-40\"/>\n      <path d=\"M 4.890625 31.390625 \nL 31.203125 31.390625 \nL 31.203125 23.390625 \nL 4.890625 23.390625 \nz\n\" id=\"DejaVuSans-45\"/>\n      <path d=\"M 53.515625 70.515625 \nL 53.515625 60.890625 \nQ 47.90625 63.578125 42.921875 64.890625 \nQ 37.9375 66.21875 33.296875 66.21875 \nQ 25.25 66.21875 20.875 63.09375 \nQ 16.5 59.96875 16.5 54.203125 \nQ 16.5 49.359375 19.40625 46.890625 \nQ 22.3125 44.4375 30.421875 42.921875 \nL 36.375 41.703125 \nQ 47.40625 39.59375 52.65625 34.296875 \nQ 57.90625 29 57.90625 20.125 \nQ 57.90625 9.515625 50.796875 4.046875 \nQ 43.703125 -1.421875 29.984375 -1.421875 \nQ 24.8125 -1.421875 18.96875 -0.25 \nQ 13.140625 0.921875 6.890625 3.21875 \nL 6.890625 13.375 \nQ 12.890625 10.015625 18.65625 8.296875 \nQ 24.421875 6.59375 29.984375 6.59375 \nQ 38.421875 6.59375 43.015625 9.90625 \nQ 47.609375 13.234375 47.609375 19.390625 \nQ 47.609375 24.75 44.3125 27.78125 \nQ 41.015625 30.8125 33.5 32.328125 \nL 27.484375 33.5 \nQ 16.453125 35.6875 11.515625 40.375 \nQ 6.59375 45.0625 6.59375 53.421875 \nQ 6.59375 63.09375 13.40625 68.65625 \nQ 20.21875 74.21875 32.171875 74.21875 \nQ 37.3125 74.21875 42.625 73.28125 \nQ 47.953125 72.359375 53.515625 70.515625 \nz\n\" id=\"DejaVuSans-83\"/>\n      <path d=\"M 18.109375 8.203125 \nL 18.109375 -20.796875 \nL 9.078125 -20.796875 \nL 9.078125 54.6875 \nL 18.109375 54.6875 \nL 18.109375 46.390625 \nQ 20.953125 51.265625 25.265625 53.625 \nQ 29.59375 56 35.59375 56 \nQ 45.5625 56 51.78125 48.09375 \nQ 58.015625 40.1875 58.015625 27.296875 \nQ 58.015625 14.40625 51.78125 6.484375 \nQ 45.5625 -1.421875 35.59375 -1.421875 \nQ 29.59375 -1.421875 25.265625 0.953125 \nQ 20.953125 3.328125 18.109375 8.203125 \nz\nM 48.6875 27.296875 \nQ 48.6875 37.203125 44.609375 42.84375 \nQ 40.53125 48.484375 33.40625 48.484375 \nQ 26.265625 48.484375 22.1875 42.84375 \nQ 18.109375 37.203125 18.109375 27.296875 \nQ 18.109375 17.390625 22.1875 11.75 \nQ 26.265625 6.109375 33.40625 6.109375 \nQ 40.53125 6.109375 44.609375 11.75 \nQ 48.6875 17.390625 48.6875 27.296875 \nz\n\" id=\"DejaVuSans-112\"/>\n      <path d=\"M 48.78125 52.59375 \nL 48.78125 44.1875 \nQ 44.96875 46.296875 41.140625 47.34375 \nQ 37.3125 48.390625 33.40625 48.390625 \nQ 24.65625 48.390625 19.8125 42.84375 \nQ 14.984375 37.3125 14.984375 27.296875 \nQ 14.984375 17.28125 19.8125 11.734375 \nQ 24.65625 6.203125 33.40625 6.203125 \nQ 37.3125 6.203125 41.140625 7.25 \nQ 44.96875 8.296875 48.78125 10.40625 \nL 48.78125 2.09375 \nQ 45.015625 0.34375 40.984375 -0.53125 \nQ 36.96875 -1.421875 32.421875 -1.421875 \nQ 20.0625 -1.421875 12.78125 6.34375 \nQ 5.515625 14.109375 5.515625 27.296875 \nQ 5.515625 40.671875 12.859375 48.328125 \nQ 20.21875 56 33.015625 56 \nQ 37.15625 56 41.109375 55.140625 \nQ 45.0625 54.296875 48.78125 52.59375 \nz\n\" id=\"DejaVuSans-99\"/>\n      <path d=\"M 37.109375 75.984375 \nL 37.109375 68.5 \nL 28.515625 68.5 \nQ 23.6875 68.5 21.796875 66.546875 \nQ 19.921875 64.59375 19.921875 59.515625 \nL 19.921875 54.6875 \nL 34.71875 54.6875 \nL 34.71875 47.703125 \nL 19.921875 47.703125 \nL 19.921875 0 \nL 10.890625 0 \nL 10.890625 47.703125 \nL 2.296875 47.703125 \nL 2.296875 54.6875 \nL 10.890625 54.6875 \nL 10.890625 58.5 \nQ 10.890625 67.625 15.140625 71.796875 \nQ 19.390625 75.984375 28.609375 75.984375 \nz\n\" id=\"DejaVuSans-102\"/>\n      <path d=\"M 32.171875 -5.078125 \nQ 28.375 -14.84375 24.75 -17.8125 \nQ 21.140625 -20.796875 15.09375 -20.796875 \nL 7.90625 -20.796875 \nL 7.90625 -13.28125 \nL 13.1875 -13.28125 \nQ 16.890625 -13.28125 18.9375 -11.515625 \nQ 21 -9.765625 23.484375 -3.21875 \nL 25.09375 0.875 \nL 2.984375 54.6875 \nL 12.5 54.6875 \nL 29.59375 11.921875 \nL 46.6875 54.6875 \nL 56.203125 54.6875 \nz\n\" id=\"DejaVuSans-121\"/>\n      <path d=\"M 8.015625 75.875 \nL 15.828125 75.875 \nQ 23.140625 64.359375 26.78125 53.3125 \nQ 30.421875 42.28125 30.421875 31.390625 \nQ 30.421875 20.453125 26.78125 9.375 \nQ 23.140625 -1.703125 15.828125 -13.1875 \nL 8.015625 -13.1875 \nQ 14.5 -2 17.703125 9.0625 \nQ 20.90625 20.125 20.90625 31.390625 \nQ 20.90625 42.671875 17.703125 53.65625 \nQ 14.5 64.65625 8.015625 75.875 \nz\n\" id=\"DejaVuSans-41\"/>\n     </defs>\n     <g transform=\"translate(124.551563 268.034687)scale(0.1 -0.1)\">\n      <use xlink:href=\"#DejaVuSans-70\"/>\n      <use x=\"57.378906\" xlink:href=\"#DejaVuSans-97\"/>\n      <use x=\"118.658203\" xlink:href=\"#DejaVuSans-108\"/>\n      <use x=\"146.441406\" xlink:href=\"#DejaVuSans-115\"/>\n      <use x=\"198.541016\" xlink:href=\"#DejaVuSans-101\"/>\n      <use x=\"260.064453\" xlink:href=\"#DejaVuSans-32\"/>\n      <use x=\"291.851562\" xlink:href=\"#DejaVuSans-80\"/>\n      <use x=\"352.107422\" xlink:href=\"#DejaVuSans-111\"/>\n      <use x=\"413.289062\" xlink:href=\"#DejaVuSans-115\"/>\n      <use x=\"465.388672\" xlink:href=\"#DejaVuSans-105\"/>\n      <use x=\"493.171875\" xlink:href=\"#DejaVuSans-116\"/>\n      <use x=\"532.380859\" xlink:href=\"#DejaVuSans-105\"/>\n      <use x=\"560.164062\" xlink:href=\"#DejaVuSans-118\"/>\n      <use x=\"619.34375\" xlink:href=\"#DejaVuSans-101\"/>\n      <use x=\"680.867188\" xlink:href=\"#DejaVuSans-32\"/>\n      <use x=\"712.654297\" xlink:href=\"#DejaVuSans-82\"/>\n      <use x=\"782.105469\" xlink:href=\"#DejaVuSans-97\"/>\n      <use x=\"843.384766\" xlink:href=\"#DejaVuSans-116\"/>\n      <use x=\"882.59375\" xlink:href=\"#DejaVuSans-101\"/>\n      <use x=\"944.117188\" xlink:href=\"#DejaVuSans-32\"/>\n      <use x=\"975.904297\" xlink:href=\"#DejaVuSans-40\"/>\n      <use x=\"1014.917969\" xlink:href=\"#DejaVuSans-49\"/>\n      <use x=\"1078.541016\" xlink:href=\"#DejaVuSans-32\"/>\n      <use x=\"1110.328125\" xlink:href=\"#DejaVuSans-45\"/>\n      <use x=\"1146.412109\" xlink:href=\"#DejaVuSans-32\"/>\n      <use x=\"1178.199219\" xlink:href=\"#DejaVuSans-83\"/>\n      <use x=\"1241.675781\" xlink:href=\"#DejaVuSans-112\"/>\n      <use x=\"1305.152344\" xlink:href=\"#DejaVuSans-101\"/>\n      <use x=\"1366.675781\" xlink:href=\"#DejaVuSans-99\"/>\n      <use x=\"1421.65625\" xlink:href=\"#DejaVuSans-105\"/>\n      <use x=\"1449.439453\" xlink:href=\"#DejaVuSans-102\"/>\n      <use x=\"1484.644531\" xlink:href=\"#DejaVuSans-105\"/>\n      <use x=\"1512.427734\" xlink:href=\"#DejaVuSans-99\"/>\n      <use x=\"1567.408203\" xlink:href=\"#DejaVuSans-105\"/>\n      <use x=\"1595.191406\" xlink:href=\"#DejaVuSans-116\"/>\n      <use x=\"1634.400391\" xlink:href=\"#DejaVuSans-121\"/>\n      <use x=\"1693.580078\" xlink:href=\"#DejaVuSans-41\"/>\n     </g>\n    </g>\n   </g>\n   <g id=\"matplotlib.axis_2\">\n    <g id=\"ytick_1\">\n     <g id=\"line2d_13\">\n      <path clip-path=\"url(#p83b7edae9e)\" d=\"M 43.78125 239.758125 \nL 378.58125 239.758125 \n\" style=\"fill:none;stroke:#b0b0b0;stroke-linecap:square;stroke-width:0.8;\"/>\n     </g>\n     <g id=\"line2d_14\">\n      <defs>\n       <path d=\"M 0 0 \nL -3.5 0 \n\" id=\"m892224d4ef\" style=\"stroke:#000000;stroke-width:0.8;\"/>\n      </defs>\n      <g>\n       <use style=\"stroke:#000000;stroke-width:0.8;\" x=\"43.78125\" xlink:href=\"#m892224d4ef\" y=\"239.758125\"/>\n      </g>\n     </g>\n     <g id=\"text_8\">\n      <!-- 0.0 -->\n      <g transform=\"translate(20.878125 243.557344)scale(0.1 -0.1)\">\n       <use xlink:href=\"#DejaVuSans-48\"/>\n       <use x=\"63.623047\" xlink:href=\"#DejaVuSans-46\"/>\n       <use x=\"95.410156\" xlink:href=\"#DejaVuSans-48\"/>\n      </g>\n     </g>\n    </g>\n    <g id=\"ytick_2\">\n     <g id=\"line2d_15\">\n      <path clip-path=\"url(#p83b7edae9e)\" d=\"M 43.78125 196.270125 \nL 378.58125 196.270125 \n\" style=\"fill:none;stroke:#b0b0b0;stroke-linecap:square;stroke-width:0.8;\"/>\n     </g>\n     <g id=\"line2d_16\">\n      <g>\n       <use style=\"stroke:#000000;stroke-width:0.8;\" x=\"43.78125\" xlink:href=\"#m892224d4ef\" y=\"196.270125\"/>\n      </g>\n     </g>\n     <g id=\"text_9\">\n      <!-- 0.2 -->\n      <g transform=\"translate(20.878125 200.069344)scale(0.1 -0.1)\">\n       <use xlink:href=\"#DejaVuSans-48\"/>\n       <use x=\"63.623047\" xlink:href=\"#DejaVuSans-46\"/>\n       <use x=\"95.410156\" xlink:href=\"#DejaVuSans-50\"/>\n      </g>\n     </g>\n    </g>\n    <g id=\"ytick_3\">\n     <g id=\"line2d_17\">\n      <path clip-path=\"url(#p83b7edae9e)\" d=\"M 43.78125 152.782125 \nL 378.58125 152.782125 \n\" style=\"fill:none;stroke:#b0b0b0;stroke-linecap:square;stroke-width:0.8;\"/>\n     </g>\n     <g id=\"line2d_18\">\n      <g>\n       <use style=\"stroke:#000000;stroke-width:0.8;\" x=\"43.78125\" xlink:href=\"#m892224d4ef\" y=\"152.782125\"/>\n      </g>\n     </g>\n     <g id=\"text_10\">\n      <!-- 0.4 -->\n      <g transform=\"translate(20.878125 156.581344)scale(0.1 -0.1)\">\n       <use xlink:href=\"#DejaVuSans-48\"/>\n       <use x=\"63.623047\" xlink:href=\"#DejaVuSans-46\"/>\n       <use x=\"95.410156\" xlink:href=\"#DejaVuSans-52\"/>\n      </g>\n     </g>\n    </g>\n    <g id=\"ytick_4\">\n     <g id=\"line2d_19\">\n      <path clip-path=\"url(#p83b7edae9e)\" d=\"M 43.78125 109.294125 \nL 378.58125 109.294125 \n\" style=\"fill:none;stroke:#b0b0b0;stroke-linecap:square;stroke-width:0.8;\"/>\n     </g>\n     <g id=\"line2d_20\">\n      <g>\n       <use style=\"stroke:#000000;stroke-width:0.8;\" x=\"43.78125\" xlink:href=\"#m892224d4ef\" y=\"109.294125\"/>\n      </g>\n     </g>\n     <g id=\"text_11\">\n      <!-- 0.6 -->\n      <g transform=\"translate(20.878125 113.093344)scale(0.1 -0.1)\">\n       <use xlink:href=\"#DejaVuSans-48\"/>\n       <use x=\"63.623047\" xlink:href=\"#DejaVuSans-46\"/>\n       <use x=\"95.410156\" xlink:href=\"#DejaVuSans-54\"/>\n      </g>\n     </g>\n    </g>\n    <g id=\"ytick_5\">\n     <g id=\"line2d_21\">\n      <path clip-path=\"url(#p83b7edae9e)\" d=\"M 43.78125 65.806125 \nL 378.58125 65.806125 \n\" style=\"fill:none;stroke:#b0b0b0;stroke-linecap:square;stroke-width:0.8;\"/>\n     </g>\n     <g id=\"line2d_22\">\n      <g>\n       <use style=\"stroke:#000000;stroke-width:0.8;\" x=\"43.78125\" xlink:href=\"#m892224d4ef\" y=\"65.806125\"/>\n      </g>\n     </g>\n     <g id=\"text_12\">\n      <!-- 0.8 -->\n      <g transform=\"translate(20.878125 69.605344)scale(0.1 -0.1)\">\n       <use xlink:href=\"#DejaVuSans-48\"/>\n       <use x=\"63.623047\" xlink:href=\"#DejaVuSans-46\"/>\n       <use x=\"95.410156\" xlink:href=\"#DejaVuSans-56\"/>\n      </g>\n     </g>\n    </g>\n    <g id=\"ytick_6\">\n     <g id=\"line2d_23\">\n      <path clip-path=\"url(#p83b7edae9e)\" d=\"M 43.78125 22.318125 \nL 378.58125 22.318125 \n\" style=\"fill:none;stroke:#b0b0b0;stroke-linecap:square;stroke-width:0.8;\"/>\n     </g>\n     <g id=\"line2d_24\">\n      <g>\n       <use style=\"stroke:#000000;stroke-width:0.8;\" x=\"43.78125\" xlink:href=\"#m892224d4ef\" y=\"22.318125\"/>\n      </g>\n     </g>\n     <g id=\"text_13\">\n      <!-- 1.0 -->\n      <g transform=\"translate(20.878125 26.117344)scale(0.1 -0.1)\">\n       <use xlink:href=\"#DejaVuSans-49\"/>\n       <use x=\"63.623047\" xlink:href=\"#DejaVuSans-46\"/>\n       <use x=\"95.410156\" xlink:href=\"#DejaVuSans-48\"/>\n      </g>\n     </g>\n    </g>\n    <g id=\"text_14\">\n     <!-- True Positive Rate (Sensitivity) -->\n     <defs>\n      <path d=\"M -0.296875 72.90625 \nL 61.375 72.90625 \nL 61.375 64.59375 \nL 35.5 64.59375 \nL 35.5 0 \nL 25.59375 0 \nL 25.59375 64.59375 \nL -0.296875 64.59375 \nz\n\" id=\"DejaVuSans-84\"/>\n      <path d=\"M 41.109375 46.296875 \nQ 39.59375 47.171875 37.8125 47.578125 \nQ 36.03125 48 33.890625 48 \nQ 26.265625 48 22.1875 43.046875 \nQ 18.109375 38.09375 18.109375 28.8125 \nL 18.109375 0 \nL 9.078125 0 \nL 9.078125 54.6875 \nL 18.109375 54.6875 \nL 18.109375 46.1875 \nQ 20.953125 51.171875 25.484375 53.578125 \nQ 30.03125 56 36.53125 56 \nQ 37.453125 56 38.578125 55.875 \nQ 39.703125 55.765625 41.0625 55.515625 \nz\n\" id=\"DejaVuSans-114\"/>\n      <path d=\"M 8.5 21.578125 \nL 8.5 54.6875 \nL 17.484375 54.6875 \nL 17.484375 21.921875 \nQ 17.484375 14.15625 20.5 10.265625 \nQ 23.53125 6.390625 29.59375 6.390625 \nQ 36.859375 6.390625 41.078125 11.03125 \nQ 45.3125 15.671875 45.3125 23.6875 \nL 45.3125 54.6875 \nL 54.296875 54.6875 \nL 54.296875 0 \nL 45.3125 0 \nL 45.3125 8.40625 \nQ 42.046875 3.421875 37.71875 1 \nQ 33.40625 -1.421875 27.6875 -1.421875 \nQ 18.265625 -1.421875 13.375 4.4375 \nQ 8.5 10.296875 8.5 21.578125 \nz\nM 31.109375 56 \nz\n\" id=\"DejaVuSans-117\"/>\n      <path d=\"M 54.890625 33.015625 \nL 54.890625 0 \nL 45.90625 0 \nL 45.90625 32.71875 \nQ 45.90625 40.484375 42.875 44.328125 \nQ 39.84375 48.1875 33.796875 48.1875 \nQ 26.515625 48.1875 22.3125 43.546875 \nQ 18.109375 38.921875 18.109375 30.90625 \nL 18.109375 0 \nL 9.078125 0 \nL 9.078125 54.6875 \nL 18.109375 54.6875 \nL 18.109375 46.1875 \nQ 21.34375 51.125 25.703125 53.5625 \nQ 30.078125 56 35.796875 56 \nQ 45.21875 56 50.046875 50.171875 \nQ 54.890625 44.34375 54.890625 33.015625 \nz\n\" id=\"DejaVuSans-110\"/>\n     </defs>\n     <g transform=\"translate(14.798438 208.105312)rotate(-90)scale(0.1 -0.1)\">\n      <use xlink:href=\"#DejaVuSans-84\"/>\n      <use x=\"60.865234\" xlink:href=\"#DejaVuSans-114\"/>\n      <use x=\"101.978516\" xlink:href=\"#DejaVuSans-117\"/>\n      <use x=\"165.357422\" xlink:href=\"#DejaVuSans-101\"/>\n      <use x=\"226.880859\" xlink:href=\"#DejaVuSans-32\"/>\n      <use x=\"258.667969\" xlink:href=\"#DejaVuSans-80\"/>\n      <use x=\"318.923828\" xlink:href=\"#DejaVuSans-111\"/>\n      <use x=\"380.105469\" xlink:href=\"#DejaVuSans-115\"/>\n      <use x=\"432.205078\" xlink:href=\"#DejaVuSans-105\"/>\n      <use x=\"459.988281\" xlink:href=\"#DejaVuSans-116\"/>\n      <use x=\"499.197266\" xlink:href=\"#DejaVuSans-105\"/>\n      <use x=\"526.980469\" xlink:href=\"#DejaVuSans-118\"/>\n      <use x=\"586.160156\" xlink:href=\"#DejaVuSans-101\"/>\n      <use x=\"647.683594\" xlink:href=\"#DejaVuSans-32\"/>\n      <use x=\"679.470703\" xlink:href=\"#DejaVuSans-82\"/>\n      <use x=\"748.921875\" xlink:href=\"#DejaVuSans-97\"/>\n      <use x=\"810.201172\" xlink:href=\"#DejaVuSans-116\"/>\n      <use x=\"849.410156\" xlink:href=\"#DejaVuSans-101\"/>\n      <use x=\"910.933594\" xlink:href=\"#DejaVuSans-32\"/>\n      <use x=\"942.720703\" xlink:href=\"#DejaVuSans-40\"/>\n      <use x=\"981.734375\" xlink:href=\"#DejaVuSans-83\"/>\n      <use x=\"1045.210938\" xlink:href=\"#DejaVuSans-101\"/>\n      <use x=\"1106.734375\" xlink:href=\"#DejaVuSans-110\"/>\n      <use x=\"1170.113281\" xlink:href=\"#DejaVuSans-115\"/>\n      <use x=\"1222.212891\" xlink:href=\"#DejaVuSans-105\"/>\n      <use x=\"1249.996094\" xlink:href=\"#DejaVuSans-116\"/>\n      <use x=\"1289.205078\" xlink:href=\"#DejaVuSans-105\"/>\n      <use x=\"1316.988281\" xlink:href=\"#DejaVuSans-118\"/>\n      <use x=\"1376.167969\" xlink:href=\"#DejaVuSans-105\"/>\n      <use x=\"1403.951172\" xlink:href=\"#DejaVuSans-116\"/>\n      <use x=\"1443.160156\" xlink:href=\"#DejaVuSans-121\"/>\n      <use x=\"1502.339844\" xlink:href=\"#DejaVuSans-41\"/>\n     </g>\n    </g>\n   </g>\n   <g id=\"line2d_25\">\n    <path clip-path=\"url(#p83b7edae9e)\" d=\"M 43.78125 239.758125 \nL 43.87119 238.433122 \nL 43.961129 238.433122 \nL 44.051069 237.456804 \nL 44.185978 237.387067 \nL 44.320887 237.038382 \nL 44.365857 236.341011 \nL 44.545736 236.271274 \nL 44.635676 236.062063 \nL 44.770585 236.062063 \nL 44.815555 235.504167 \nL 44.950464 235.43443 \nL 45.040404 234.527849 \nL 45.175313 234.527849 \nL 45.265253 234.03969 \nL 45.625011 233.969953 \nL 45.71495 232.784424 \nL 45.75992 232.784424 \nL 45.84986 232.226528 \nL 45.89483 232.226528 \nL 45.89483 232.156791 \nL 45.984769 231.808106 \nL 46.119678 231.738369 \nL 46.209618 231.459421 \nL 46.299558 231.389684 \nL 46.389497 229.994943 \nL 46.434467 229.994943 \nL 46.524406 228.530466 \nL 46.614346 228.530466 \nL 46.614346 228.460729 \nL 46.974104 227.135726 \nL 47.064044 225.601512 \nL 47.243923 225.252827 \nL 47.288893 224.834405 \nL 47.558711 224.764668 \nL 47.648651 223.78835 \nL 47.82853 223.78835 \nL 47.91847 223.579138 \nL 47.963439 223.579138 \nL 48.008409 223.230453 \nL 48.188288 223.230453 \nL 48.278228 222.393609 \nL 48.323198 222.393609 \nL 48.413137 222.044924 \nL 48.458107 222.044924 \nL 48.503077 221.20808 \nL 48.727926 221.138343 \nL 48.817865 219.604129 \nL 48.862835 219.604129 \nL 48.862835 219.394918 \nL 48.997744 219.394918 \nL 49.087684 218.837022 \nL 49.132654 218.837022 \nL 49.177623 217.930441 \nL 49.267563 217.930441 \nL 49.312533 217.581756 \nL 49.402472 217.581756 \nL 49.492412 217.023859 \nL 49.582351 216.954122 \nL 49.627321 216.675174 \nL 49.717261 216.675174 \nL 49.8072 215.489645 \nL 49.85217 215.489645 \nL 49.85217 215.280434 \nL 49.987079 215.280434 \nL 49.987079 215.14096 \nL 50.256898 214.931749 \nL 50.346838 214.792275 \nL 50.436777 214.792275 \nL 50.526717 213.537009 \nL 50.571687 213.537009 \nL 50.661626 212.979113 \nL 50.751566 212.909376 \nL 50.841505 212.560691 \nL 50.886475 212.560691 \nL 50.886475 212.212006 \nL 51.021384 212.212006 \nL 51.021384 211.723847 \nL 51.111324 211.723847 \nL 51.156294 211.65411 \nL 51.246233 210.747528 \nL 51.336173 210.677791 \nL 51.426112 209.980421 \nL 51.471082 209.980421 \nL 51.471082 209.77121 \nL 51.605991 209.701473 \nL 51.695931 209.352788 \nL 51.740901 209.352788 \nL 51.83084 208.655418 \nL 51.87581 208.655418 \nL 51.96575 208.236996 \nL 52.280538 207.260678 \nL 52.415447 207.260678 \nL 52.415447 207.190941 \nL 52.685266 206.772519 \nL 52.775206 206.702782 \nL 52.775206 206.633045 \nL 52.865145 206.633045 \nL 53.089994 206.633045 \nL 53.134964 206.214623 \nL 53.224903 206.214623 \nL 53.314843 205.865938 \nL 53.674601 205.865938 \nL 53.764541 205.447516 \nL 53.809511 205.447516 \nL 53.809511 205.377779 \nL 54.079329 204.331723 \nL 54.169269 203.634353 \nL 54.214239 203.634353 \nL 54.214239 203.564616 \nL 54.259208 203.215931 \nL 54.394118 203.146194 \nL 54.439087 203.076457 \nL 54.529027 202.518561 \nL 54.573997 202.518561 \nL 54.663936 201.821191 \nL 54.843815 201.751454 \nL 54.933755 201.472506 \nL 54.978725 201.472506 \nL 54.978725 201.402769 \nL 55.068664 201.333032 \nL 55.068664 201.123821 \nL 55.248543 201.123821 \nL 55.248543 201.054084 \nL 55.473392 200.286977 \nL 55.698241 200.21724 \nL 55.788181 199.938292 \nL 55.833151 199.938292 \nL 55.87812 199.729081 \nL 55.96806 199.729081 \nL 56.057999 199.240922 \nL 56.147939 199.171185 \nL 56.192909 198.473815 \nL 56.282848 198.473815 \nL 56.372788 198.194867 \nL 56.417758 198.194867 \nL 56.462728 197.985655 \nL 56.687576 197.915918 \nL 56.732546 197.706707 \nL 56.822486 197.706707 \nL 56.912425 196.9396 \nL 57.586972 195.963282 \nL 57.676912 195.475123 \nL 57.766851 195.475123 \nL 57.766851 195.405386 \nL 57.9917 194.708016 \nL 58.08164 194.010646 \nL 58.261519 194.010646 \nL 58.351458 193.661961 \nL 58.396428 193.661961 \nL 58.396428 193.313276 \nL 58.531337 193.313276 \nL 58.576307 192.546169 \nL 58.711216 192.546169 \nL 58.711216 192.197484 \nL 58.891096 192.127747 \nL 58.891096 191.848799 \nL 58.981035 191.848799 \nL 59.115944 191.56985 \nL 59.115944 191.360639 \nL 59.385763 191.290902 \nL 59.475703 190.663269 \nL 59.655582 190.105373 \nL 59.745521 190.035636 \nL 59.790491 189.826425 \nL 59.835461 189.826425 \nL 59.9254 189.686951 \nL 59.9254 189.268529 \nL 60.150249 189.198792 \nL 60.195219 188.989581 \nL 60.420068 188.919844 \nL 60.510008 188.571159 \nL 60.824796 188.013263 \nL 60.914736 187.664578 \nL 61.004675 187.594841 \nL 61.094615 187.38563 \nL 61.229524 187.315893 \nL 61.319464 187.176419 \nL 61.499343 186.757997 \nL 61.859101 186.409312 \nL 61.94904 186.130364 \nL 62.03898 186.130364 \nL 62.12892 185.502731 \nL 62.173889 185.502731 \nL 62.578617 184.386938 \nL 62.713527 184.317201 \nL 62.758496 184.10799 \nL 62.893406 184.10799 \nL 62.983345 183.689568 \nL 63.163224 183.619831 \nL 63.208194 183.41062 \nL 63.298134 183.41062 \nL 63.343104 182.992198 \nL 63.522983 182.922461 \nL 63.612922 182.364565 \nL 63.657892 182.225091 \nL 63.747832 181.248773 \nL 63.837771 181.248773 \nL 63.927711 180.900088 \nL 64.15256 180.900088 \nL 64.242499 180.62114 \nL 64.332439 180.62114 \nL 64.422378 180.202718 \nL 64.512318 180.202718 \nL 64.512318 180.132981 \nL 64.557288 179.993507 \nL 64.827106 179.92377 \nL 65.051955 179.435611 \nL 65.141895 179.435611 \nL 65.231834 179.017189 \nL 65.501653 178.947451 \nL 65.546623 178.807977 \nL 65.726502 178.73824 \nL 65.771472 178.459292 \nL 65.951351 178.389555 \nL 66.04129 178.319818 \nL 66.04129 177.901396 \nL 66.490988 177.831659 \nL 66.490988 177.761922 \nL 66.535958 177.761922 \nL 66.670867 177.692185 \nL 66.760807 176.994815 \nL 66.805777 176.994815 \nL 66.805777 176.855341 \nL 67.165535 176.785604 \nL 67.255474 176.297445 \nL 67.345414 176.227708 \nL 67.390384 175.739549 \nL 67.750142 175.669812 \nL 67.840081 175.460601 \nL 67.930021 175.460601 \nL 67.974991 175.042179 \nL 68.019961 175.042179 \nL 68.289779 174.972442 \nL 68.379719 174.414546 \nL 68.424689 174.414546 \nL 68.469658 174.205335 \nL 68.694507 174.205335 \nL 68.694507 174.135598 \nL 68.739477 173.717176 \nL 68.919356 173.717176 \nL 69.009296 173.229017 \nL 69.054265 173.229017 \nL 69.054265 172.950069 \nL 69.099235 172.950069 \nL 69.189175 172.950069 \nL 69.234145 172.531646 \nL 69.369054 172.531646 \nL 69.458993 172.113224 \nL 69.683842 172.043487 \nL 69.728812 171.834276 \nL 70.043601 171.625065 \nL 70.13354 171.067169 \nL 70.17851 170.997432 \nL 70.493298 170.927695 \nL 70.583238 170.648747 \nL 70.718147 170.57901 \nL 70.763117 170.230325 \nL 70.808087 170.230325 \nL 71.077905 169.742166 \nL 71.167845 169.393481 \nL 71.392694 169.323744 \nL 71.482633 169.114533 \nL 71.527603 169.114533 \nL 71.572573 168.626374 \nL 71.752452 168.556637 \nL 71.842392 168.138215 \nL 72.15718 168.138215 \nL 72.24712 167.859267 \nL 72.876697 166.882949 \nL 73.011606 166.882949 \nL 73.101546 166.534264 \nL 73.236455 166.464527 \nL 73.326394 166.325053 \nL 73.416334 166.115841 \nL 73.416334 165.976367 \nL 73.551243 165.976367 \nL 73.596213 165.627682 \nL 73.731122 165.627682 \nL 73.821062 165.278997 \nL 73.911002 165.278997 \nL 74.000941 165.000049 \nL 74.090881 165.000049 \nL 74.18082 164.651364 \nL 74.31573 164.581627 \nL 74.360699 164.442153 \nL 74.765427 164.372416 \nL 74.900337 164.163205 \nL 75.170155 164.093468 \nL 75.215125 163.884257 \nL 75.305065 163.884257 \nL 75.395004 163.396098 \nL 75.484944 163.396098 \nL 75.484944 163.326361 \nL 75.844702 163.047413 \nL 75.934642 162.350043 \nL 76.15949 162.280306 \nL 76.24943 161.931621 \nL 76.384339 161.931621 \nL 76.384339 161.861884 \nL 76.429309 161.792147 \nL 76.699128 161.792147 \nL 76.789067 161.582936 \nL 77.013916 161.513199 \nL 77.013916 161.303988 \nL 77.283735 161.234251 \nL 77.283735 161.164514 \nL 77.463614 161.164514 \nL 77.463614 161.02504 \nL 77.553554 161.02504 \nL 77.868342 160.955303 \nL 78.18313 160.536881 \nL 78.27307 160.536881 \nL 78.27307 160.467144 \nL 78.767738 159.769773 \nL 78.857677 159.211877 \nL 78.992586 159.14214 \nL 79.082526 158.653981 \nL 79.352345 158.44477 \nL 79.397314 157.956611 \nL 79.487254 157.956611 \nL 79.487254 157.886874 \nL 79.532224 157.677663 \nL 79.622163 157.677663 \nL 79.622163 157.468452 \nL 79.712103 157.468452 \nL 79.802042 157.468452 \nL 79.891982 157.05003 \nL 80.026891 156.980293 \nL 80.071861 156.840819 \nL 80.20677 156.771082 \nL 80.29671 156.35266 \nL 80.34168 156.35266 \nL 80.431619 156.073712 \nL 80.476589 156.073712 \nL 80.566529 155.725027 \nL 80.746408 155.65529 \nL 81.331015 154.609235 \nL 81.331015 154.400024 \nL 81.420954 154.400024 \nL 81.645803 154.330287 \nL 81.735743 153.842128 \nL 81.825683 153.842128 \nL 81.915622 153.423706 \nL 81.960592 153.423706 \nL 82.005562 153.214494 \nL 82.050531 153.214494 \nL 82.140471 153.144757 \nL 82.27538 153.07502 \nL 82.36532 152.796072 \nL 82.41029 152.796072 \nL 82.41029 152.726335 \nL 82.500229 152.656598 \nL 82.590169 152.238176 \nL 82.680108 152.168439 \nL 82.770048 151.750017 \nL 83.219746 151.68028 \nL 83.264715 151.192121 \nL 83.309685 151.192121 \nL 83.534534 151.122384 \nL 83.624474 150.843436 \nL 83.669443 150.843436 \nL 83.714413 150.355277 \nL 83.804353 150.355277 \nL 83.804353 150.146066 \nL 83.894292 150.146066 \nL 84.029202 150.006592 \nL 84.34399 149.936855 \nL 84.38896 149.797381 \nL 84.658779 149.727644 \nL 84.658779 149.518433 \nL 84.793688 149.518433 \nL 84.883627 149.169748 \nL 84.973567 149.100011 \nL 84.973567 148.960537 \nL 85.063507 148.960537 \nL 85.423265 147.914482 \nL 85.738053 147.844745 \nL 85.783023 147.705271 \nL 86.097811 147.635534 \nL 86.637449 147.286849 \nL 86.727388 146.798689 \nL 86.862298 146.798689 \nL 86.862298 146.380267 \nL 87.132116 146.31053 \nL 87.177086 146.031582 \nL 87.267026 146.031582 \nL 87.267026 145.961845 \nL 87.356965 145.543423 \nL 87.401935 145.543423 \nL 87.491875 145.264475 \nL 87.626784 145.194738 \nL 88.031512 145.125001 \nL 88.166421 144.91579 \nL 88.301331 144.91579 \nL 88.301331 144.776316 \nL 88.3463 144.776316 \nL 89.335635 143.939472 \nL 89.425575 143.660524 \nL 89.560484 143.590787 \nL 89.650424 143.451313 \nL 89.740363 143.451313 \nL 89.830303 142.753943 \nL 89.920243 142.684206 \nL 90.010182 142.056573 \nL 90.100122 142.056573 \nL 90.324971 141.707888 \nL 90.684729 141.568414 \nL 90.729699 141.219729 \nL 90.954548 141.219729 \nL 91.044487 140.382884 \nL 91.134427 140.313147 \nL 91.224366 139.476303 \nL 91.404245 139.406566 \nL 91.494185 138.918407 \nL 91.539155 138.918407 \nL 91.584124 138.639459 \nL 91.764004 138.569722 \nL 91.853943 138.221037 \nL 92.348611 138.1513 \nL 92.348611 138.011826 \nL 92.48352 138.011826 \nL 92.618429 137.244719 \nL 92.708369 136.896034 \nL 92.843278 136.826297 \nL 92.888248 136.547349 \nL 93.023157 136.477612 \nL 93.292976 136.05919 \nL 93.382916 135.501294 \nL 93.652734 135.431557 \nL 93.652734 135.36182 \nL 93.922553 135.292083 \nL 94.282311 134.803924 \nL 94.866918 134.17629 \nL 94.956858 134.036816 \nL 95.046797 133.967079 \nL 95.046797 133.827605 \nL 95.136737 133.827605 \nL 95.406556 133.757868 \nL 95.406556 133.618394 \nL 95.451525 133.618394 \nL 95.541465 133.618394 \nL 95.541465 133.548657 \nL 95.991163 132.432865 \nL 96.171042 132.432865 \nL 96.260981 132.153917 \nL 96.48583 132.08418 \nL 96.48583 132.014443 \nL 96.755649 131.944706 \nL 96.800619 131.596021 \nL 96.890558 131.596021 \nL 96.890558 131.526284 \nL 97.070437 131.317073 \nL 97.115407 130.898651 \nL 97.340256 130.619703 \nL 97.340256 130.480229 \nL 97.520135 130.480229 \nL 97.565105 130.271018 \nL 97.655044 130.271018 \nL 97.655044 130.131544 \nL 97.969833 130.061807 \nL 98.194682 129.852596 \nL 98.59941 129.782859 \nL 98.689349 129.2947 \nL 98.734319 129.2947 \nL 98.824259 128.806541 \nL 98.959168 128.736804 \nL 99.004138 128.527593 \nL 99.049108 128.527593 \nL 99.453836 128.527593 \nL 99.498805 128.248645 \nL 99.543775 128.248645 \nL 99.723654 128.178908 \nL 99.768624 127.89996 \nL 99.858564 127.89996 \nL 99.948503 127.551274 \nL 100.218322 127.481537 \nL 100.218322 127.4118 \nL 100.66802 127.342063 \nL 100.66802 127.272326 \nL 101.072748 127.202589 \nL 101.117717 126.923641 \nL 101.162687 126.923641 \nL 101.567415 126.226271 \nL 101.657355 126.01706 \nL 101.927173 125.598638 \nL 102.062083 125.598638 \nL 102.062083 125.528901 \nL 102.196992 125.389427 \nL 102.286932 125.040742 \nL 102.60172 125.040742 \nL 102.60172 124.831531 \nL 102.826569 124.831531 \nL 102.871539 124.62232 \nL 102.916509 124.62232 \nL 103.141357 124.552583 \nL 103.186327 124.413109 \nL 103.321237 124.343372 \nL 103.411176 123.994687 \nL 104.085723 122.809158 \nL 104.085723 122.739421 \nL 104.175662 122.739421 \nL 104.220632 122.669684 \nL 104.265602 122.460473 \nL 105.120028 121.763103 \nL 105.209967 121.553892 \nL 105.659665 121.484155 \nL 105.704635 121.34468 \nL 105.929484 121.34468 \nL 105.974453 121.065732 \nL 106.019423 121.065732 \nL 106.379181 120.507836 \nL 106.514091 120.507836 \nL 106.514091 120.438099 \nL 106.559061 120.089414 \nL 106.69397 120.019677 \nL 106.78391 119.880203 \nL 107.053728 119.810466 \nL 107.143668 119.461781 \nL 107.368517 119.392044 \nL 107.458456 119.182833 \nL 107.638335 119.113096 \nL 107.683305 118.694674 \nL 107.908154 118.624937 \nL 107.998094 118.415726 \nL 108.043063 118.345989 \nL 108.582701 118.345989 \nL 108.582701 118.206515 \nL 108.76258 118.136778 \nL 108.942459 117.997304 \nL 109.032398 117.927567 \nL 109.122338 117.788093 \nL 109.661975 117.090723 \nL 110.201613 116.602564 \nL 110.291552 116.044668 \nL 110.74125 115.974931 \nL 110.74125 115.905194 \nL 110.83119 115.905194 \nL 111.011069 115.695983 \nL 111.056038 115.695983 \nL 111.145978 115.207824 \nL 111.280887 115.138087 \nL 112.000404 114.859138 \nL 112.090343 114.301242 \nL 112.270222 114.231505 \nL 112.270222 114.161768 \nL 112.495071 114.092031 \nL 112.540041 113.88282 \nL 112.989739 113.813083 \nL 113.034709 113.673609 \nL 113.124648 113.673609 \nL 113.169618 113.394661 \nL 113.214588 113.394661 \nL 113.574346 113.045976 \nL 113.574346 112.836765 \nL 113.889134 112.767028 \nL 113.889134 112.697291 \nL 114.113983 112.697291 \nL 114.203923 111.79071 \nL 114.338832 111.720973 \nL 114.428772 111.442025 \nL 114.518711 111.372288 \nL 114.608651 111.163077 \nL 114.8335 111.163077 \nL 114.87847 110.814392 \nL 114.968409 110.814392 \nL 114.968409 110.674918 \nL 115.013379 110.674918 \nL 115.148288 110.674918 \nL 115.148288 110.535444 \nL 115.687926 110.465707 \nL 115.912775 110.047285 \nL 116.092654 110.047285 \nL 116.092654 109.977548 \nL 116.182593 109.838074 \nL 116.947079 109.140704 \nL 116.947079 109.070967 \nL 117.351807 109.00123 \nL 117.351807 108.722282 \nL 117.441747 108.722282 \nL 117.576656 108.234122 \nL 117.756535 108.234122 \nL 117.981384 107.955174 \nL 118.161263 107.955174 \nL 118.251203 107.606489 \nL 118.431082 107.606489 \nL 118.431082 107.467015 \nL 118.476052 107.467015 \nL 119.150599 106.560434 \nL 119.645266 106.142012 \nL 119.645266 106.002538 \nL 119.780175 106.002538 \nL 119.780175 105.863064 \nL 119.825145 105.863064 \nL 119.960055 105.793327 \nL 120.049994 105.653853 \nL 120.094964 105.653853 \nL 120.229873 105.444642 \nL 120.589631 105.374905 \nL 120.724541 105.235431 \nL 120.81448 105.235431 \nL 120.81448 105.165694 \nL 120.994359 104.886746 \nL 120.994359 104.747272 \nL 121.129269 104.747272 \nL 121.219208 104.538061 \nL 121.623936 104.468324 \nL 121.623936 104.32885 \nL 121.758846 104.32885 \nL 121.803815 104.119639 \nL 121.893755 104.119639 \nL 121.893755 103.980165 \nL 122.073634 103.910428 \nL 122.118604 103.701217 \nL 122.343453 103.63148 \nL 122.343453 103.561743 \nL 122.748181 103.492006 \nL 122.83812 103.073584 \nL 123.242848 103.003847 \nL 123.242848 102.93411 \nL 123.782486 102.864373 \nL 123.827456 102.585425 \nL 124.322123 102.515688 \nL 124.412063 102.376214 \nL 124.726851 102.306477 \nL 124.726851 102.236739 \nL 124.816791 102.236739 \nL 124.9517 102.236739 \nL 124.99667 102.027528 \nL 125.04164 102.027528 \nL 125.176549 101.888054 \nL 125.491337 101.678843 \nL 125.716186 101.609106 \nL 125.716186 101.539369 \nL 125.806126 101.539369 \nL 125.851096 101.469632 \nL 126.030975 100.911736 \nL 126.075944 100.911736 \nL 126.165884 100.493314 \nL 126.210854 100.493314 \nL 126.300793 100.144629 \nL 126.390733 100.074892 \nL 126.435703 99.935418 \nL 126.615582 99.865681 \nL 126.615582 99.726207 \nL 126.840431 99.65647 \nL 126.840431 99.586733 \nL 126.97534 99.586733 \nL 127.06528 99.168311 \nL 127.290128 99.098574 \nL 127.335098 98.819626 \nL 127.559947 98.540678 \nL 127.739826 98.470941 \nL 127.964675 98.122256 \nL 128.279464 98.052519 \nL 128.414373 97.913045 \nL 129.08892 97.843308 \nL 129.178859 97.703834 \nL 129.313768 97.634097 \nL 129.403708 97.285412 \nL 129.673527 97.215675 \nL 129.763466 96.936727 \nL 130.078255 96.936727 \nL 130.078255 96.797253 \nL 130.123224 96.797253 \nL 130.258134 96.727516 \nL 130.348073 96.239357 \nL 130.527952 96.16962 \nL 130.617892 95.820934 \nL 131.02262 95.263038 \nL 131.337408 95.193301 \nL 131.382378 94.98409 \nL 131.787106 94.914353 \nL 131.877046 94.774879 \nL 132.191834 94.705142 \nL 132.191834 94.635405 \nL 132.281774 94.635405 \nL 132.506623 94.565668 \nL 132.506623 94.495931 \nL 132.551593 94.495931 \nL 132.911351 94.426194 \nL 132.911351 94.356457 \nL 133.00129 94.356457 \nL 134.215474 93.449876 \nL 134.395353 93.449876 \nL 134.395353 93.310402 \nL 134.665172 93.310402 \nL 134.710142 93.101191 \nL 134.934991 93.031454 \nL 135.0699 92.822243 \nL 135.429658 92.752506 \nL 135.429658 92.613032 \nL 135.744447 92.543295 \nL 135.744447 92.473558 \nL 135.789417 92.473558 \nL 135.924326 92.403821 \nL 135.969296 92.334084 \nL 136.104205 92.334084 \nL 136.149175 92.124873 \nL 136.463963 92.055136 \nL 136.553903 91.706451 \nL 136.778752 91.636714 \nL 136.823721 91.357766 \nL 136.913661 91.357766 \nL 137.003601 91.009081 \nL 137.318389 90.939344 \nL 137.363359 90.79987 \nL 137.588208 90.730133 \nL 137.588208 90.520922 \nL 137.678147 90.520922 \nL 137.858026 90.520922 \nL 137.902996 90.311711 \nL 138.127845 90.241974 \nL 138.127845 90.172237 \nL 138.172815 90.172237 \nL 138.397664 90.1025 \nL 138.487603 89.753815 \nL 138.532573 89.753815 \nL 138.532573 89.614341 \nL 138.802392 89.544604 \nL 138.847361 89.265655 \nL 139.16215 89.195918 \nL 139.20712 89.056444 \nL 139.611848 88.986707 \nL 139.611848 88.91697 \nL 139.701787 88.91697 \nL 139.926636 88.847233 \nL 139.971606 88.707759 \nL 140.151485 88.707759 \nL 140.151485 88.638022 \nL 140.196455 88.498548 \nL 140.331364 88.498548 \nL 140.331364 88.359074 \nL 140.376334 88.359074 \nL 140.736092 88.289337 \nL 140.826032 88.149863 \nL 141.005911 88.080126 \nL 141.09585 87.940652 \nL 141.320699 87.870915 \nL 141.320699 87.801178 \nL 141.815367 87.801178 \nL 141.815367 87.661704 \nL 142.040216 87.591967 \nL 142.040216 87.52223 \nL 142.220095 87.52223 \nL 142.220095 87.382756 \nL 142.444944 87.382756 \nL 142.534883 87.173545 \nL 143.479249 87.103808 \nL 143.569188 86.964334 \nL 143.704098 86.894597 \nL 143.794037 86.615649 \nL 143.928946 86.545912 \nL 144.018886 86.406438 \nL 144.243735 86.336701 \nL 144.288705 86.266964 \nL 144.513554 86.266964 \nL 144.558523 86.057753 \nL 144.648463 86.057753 \nL 144.648463 85.918279 \nL 144.873312 85.848542 \nL 144.963251 85.569594 \nL 145.367979 85.499857 \nL 145.502889 85.43012 \nL 146.042526 85.360383 \nL 146.042526 85.220909 \nL 146.312345 85.151172 \nL 146.402284 84.663013 \nL 146.582163 84.593276 \nL 146.627133 84.384065 \nL 146.986891 84.314328 \nL 146.986891 84.244591 \nL 147.16677 84.244591 \nL 147.25671 83.895906 \nL 147.34665 83.895906 \nL 147.391619 83.686695 \nL 147.571498 83.616958 \nL 147.616468 83.477484 \nL 147.841317 83.407747 \nL 147.886287 83.268273 \nL 147.976226 83.268273 \nL 147.976226 83.128799 \nL 148.111136 83.128799 \nL 148.201075 82.919587 \nL 148.560834 82.84985 \nL 148.650773 82.710376 \nL 149.100471 82.640639 \nL 149.28035 82.431428 \nL 149.505199 82.431428 \nL 149.550169 82.222217 \nL 149.999867 82.222217 \nL 149.999867 82.082743 \nL 150.134776 82.082743 \nL 150.134776 82.013006 \nL 150.359625 81.734058 \nL 150.584474 81.664321 \nL 150.629443 81.594584 \nL 150.629443 81.245899 \nL 151.034171 81.176162 \nL 151.079141 80.966951 \nL 151.39393 80.897214 \nL 151.978537 80.548529 \nL 152.113446 80.478792 \nL 152.203386 80.130107 \nL 152.338295 80.06037 \nL 152.338295 79.920896 \nL 152.518174 79.920896 \nL 152.518174 79.781422 \nL 152.743023 79.711685 \nL 153.732358 79.432737 \nL 153.822298 79.432737 \nL 153.822298 79.223526 \nL 153.912237 79.223526 \nL 153.957207 79.153789 \nL 154.271995 79.084052 \nL 154.271995 79.014315 \nL 154.676723 78.944578 \nL 154.676723 78.735367 \nL 155.216361 78.66563 \nL 155.216361 78.526156 \nL 155.3063 78.526156 \nL 155.531149 78.247208 \nL 155.890907 78.177471 \nL 156.115756 77.898523 \nL 156.205696 77.549838 \nL 156.250666 77.549838 \nL 156.250666 77.410364 \nL 156.430545 77.340627 \nL 156.430545 77.27089 \nL 156.700363 77.201153 \nL 156.790303 77.061679 \nL 156.925212 76.782731 \nL 156.925212 76.643256 \nL 157.150061 76.643256 \nL 157.240001 76.224834 \nL 157.284971 76.224834 \nL 157.284971 76.015623 \nL 158.319276 75.945886 \nL 158.319276 75.876149 \nL 158.499155 75.806412 \nL 158.544124 75.666938 \nL 158.589094 75.666938 \nL 158.768973 75.666938 \nL 158.813943 75.38799 \nL 158.903883 75.38799 \nL 158.993822 75.178779 \nL 159.263641 75.039305 \nL 159.35358 74.760357 \nL 159.44352 74.551146 \nL 159.713339 74.481409 \nL 159.803278 74.272198 \nL 159.848248 74.272198 \nL 159.848248 74.132724 \nL 159.938188 74.132724 \nL 160.073097 74.132724 \nL 160.432855 73.714302 \nL 161.287281 73.644565 \nL 161.287281 73.505091 \nL 162.096737 73.505091 \nL 162.096737 73.435354 \nL 162.231646 73.365617 \nL 162.591404 73.226143 \nL 162.726314 73.226143 \nL 162.726314 73.086669 \nL 162.951163 73.016932 \nL 162.996132 72.877458 \nL 163.53577 72.807721 \nL 163.625709 72.59851 \nL 163.895528 72.528773 \nL 163.940498 72.389299 \nL 164.345226 72.319562 \nL 164.390196 72.180088 \nL 164.615044 72.110351 \nL 164.615044 72.040614 \nL 164.704984 72.040614 \nL 164.884863 71.970877 \nL 164.974803 71.691929 \nL 165.064742 71.691929 \nL 165.109712 71.412981 \nL 165.154682 71.412981 \nL 165.289591 71.412981 \nL 165.289591 71.273507 \nL 165.379531 71.273507 \nL 165.739289 71.20377 \nL 165.919168 71.134033 \nL 166.323896 71.134033 \nL 166.413836 70.785348 \nL 166.458805 70.785348 \nL 166.458805 70.645874 \nL 167.268261 70.576137 \nL 167.268261 70.5064 \nL 167.313231 70.5064 \nL 167.58305 70.436663 \nL 167.62802 70.01824 \nL 167.762929 69.948503 \nL 167.762929 69.878766 \nL 168.347536 69.809029 \nL 168.347536 69.669555 \nL 168.617355 69.599818 \nL 168.707294 69.390607 \nL 169.246932 69.32087 \nL 169.291901 69.111659 \nL 169.921478 69.041922 \nL 169.966448 68.762974 \nL 170.281237 68.693237 \nL 170.281237 68.6235 \nL 170.371176 68.6235 \nL 170.416146 68.484026 \nL 170.775904 68.414289 \nL 170.775904 68.344552 \nL 171.045723 68.344552 \nL 171.045723 68.135341 \nL 171.360511 68.065604 \nL 171.450451 67.856393 \nL 171.720269 67.856393 \nL 171.720269 67.716919 \nL 171.810209 67.716919 \nL 172.124997 67.647182 \nL 172.124997 67.577445 \nL 172.259907 67.577445 \nL 172.349846 67.368234 \nL 172.484756 67.368234 \nL 172.484756 67.22876 \nL 172.709605 67.159023 \nL 172.709605 66.949812 \nL 172.799544 66.949812 \nL 172.934453 66.949812 \nL 172.934453 66.880075 \nL 172.979423 66.810338 \nL 173.474091 66.740601 \nL 173.474091 66.601127 \nL 173.56403 66.601127 \nL 174.058698 66.53139 \nL 174.103668 66.391916 \nL 174.148638 66.391916 \nL 174.508396 66.322179 \nL 174.553366 66.182705 \nL 174.823184 66.112968 \nL 174.913124 65.555072 \nL 175.048033 65.485335 \nL 175.048033 65.345861 \nL 175.093003 65.345861 \nL 175.272882 65.276124 \nL 175.317852 65.066913 \nL 175.72258 64.997176 \nL 175.76755 64.857702 \nL 175.902459 64.787965 \nL 175.902459 64.648491 \nL 176.127308 64.578754 \nL 176.217247 64.369543 \nL 176.532036 64.369543 \nL 176.532036 64.230069 \nL 176.801854 64.230069 \nL 176.891794 63.881383 \nL 176.936764 63.881383 \nL 176.936764 63.741909 \nL 177.521371 63.672172 \nL 177.61131 63.393224 \nL 178.105978 63.323487 \nL 178.105978 63.25375 \nL 178.465736 63.184013 \nL 178.600646 63.044539 \nL 179.185253 62.974802 \nL 179.230222 62.835328 \nL 179.545011 62.765591 \nL 179.589981 62.626117 \nL 179.63495 62.626117 \nL 180.174588 62.55638 \nL 180.219558 62.416906 \nL 180.669255 62.416906 \nL 180.714225 62.137958 \nL 180.984044 62.068221 \nL 181.073983 61.789273 \nL 181.298832 61.719536 \nL 181.388772 61.301114 \nL 181.523681 61.301114 \nL 181.523681 61.16164 \nL 181.83847 61.16164 \nL 181.928409 60.812955 \nL 182.288167 60.743218 \nL 182.378107 60.46427 \nL 182.468047 60.46427 \nL 182.557986 59.976111 \nL 183.142593 59.906374 \nL 183.142593 59.836637 \nL 183.502351 59.836637 \nL 183.547321 59.627426 \nL 183.77217 59.557689 \nL 183.86211 59.418215 \nL 184.041989 59.348478 \nL 184.131928 59.139267 \nL 184.356777 59.06953 \nL 184.671566 58.930056 \nL 185.076294 58.930056 \nL 185.076294 58.860319 \nL 185.660901 58.720845 \nL 185.75084 58.511634 \nL 185.930719 58.441897 \nL 185.930719 58.302423 \nL 186.020659 58.302423 \nL 186.560296 58.232686 \nL 186.560296 58.093212 \nL 186.830115 58.023475 \nL 186.875085 57.884001 \nL 187.009994 57.884001 \nL 187.099934 57.535316 \nL 187.414722 57.465578 \nL 187.639571 57.256367 \nL 188.224178 57.18663 \nL 188.314118 57.047156 \nL 188.583936 56.977419 \nL 188.583936 56.768208 \nL 188.808785 56.698471 \nL 188.808785 56.628734 \nL 188.853755 56.628734 \nL 189.93303 55.931364 \nL 190.382728 55.861627 \nL 190.382728 55.79189 \nL 190.607576 55.722153 \nL 190.697516 55.582679 \nL 190.742486 55.512942 \nL 190.787456 55.233994 \nL 190.832425 55.233994 \nL 191.012304 55.164257 \nL 191.012304 55.09452 \nL 191.462002 54.745835 \nL 191.641881 54.745835 \nL 191.641881 54.606361 \nL 192.136549 54.536624 \nL 192.136549 54.466887 \nL 192.181519 54.466887 \nL 192.496307 54.327413 \nL 192.856065 54.327413 \nL 192.946005 54.118202 \nL 193.215824 54.048465 \nL 193.215824 53.908991 \nL 193.710491 53.839254 \nL 193.710491 53.769517 \nL 194.160189 53.69978 \nL 194.160189 53.630043 \nL 194.250128 53.630043 \nL 194.385038 53.560306 \nL 195.284433 53.490569 \nL 195.329403 53.420832 \nL 195.734131 53.351095 \nL 196.093889 53.281358 \nL 196.633527 53.211621 \nL 196.678496 53.072147 \nL 196.723466 53.072147 \nL 196.768436 53.00241 \nL 197.038255 53.00241 \nL 197.038255 52.793199 \nL 197.353043 52.793199 \nL 197.353043 52.514251 \nL 197.442983 52.514251 \nL 198.02759 52.444514 \nL 198.02759 52.374777 \nL 198.297408 52.30504 \nL 198.387348 52.235303 \nL 198.747106 52.165566 \nL 198.747106 51.886618 \nL 198.792076 51.886618 \nL 199.151834 51.677407 \nL 199.646502 51.60767 \nL 199.646502 51.537933 \nL 200.366018 51.468196 \nL 200.366018 51.398459 \nL 200.995595 51.328722 \nL 200.995595 51.258985 \nL 201.490263 51.189248 \nL 201.535233 50.980036 \nL 201.580202 50.980036 \nL 201.670142 50.980036 \nL 201.760081 50.631351 \nL 201.894991 50.561614 \nL 201.98493 50.491877 \nL 202.254749 50.491877 \nL 202.254749 50.352403 \nL 202.569537 50.352403 \nL 202.569537 50.143192 \nL 202.839356 50.143192 \nL 202.839356 50.073455 \nL 202.974265 49.933981 \nL 203.154145 49.864244 \nL 203.199114 49.72477 \nL 203.918631 49.655033 \nL 203.963601 49.515559 \nL 204.14348 49.445822 \nL 204.323359 49.097137 \nL 204.458268 49.0274 \nL 204.458268 48.957663 \nL 205.402633 48.887926 \nL 205.717422 48.608978 \nL 205.807361 48.33003 \nL 206.07718 48.33003 \nL 206.16712 48.120819 \nL 206.391969 48.120819 \nL 206.391969 47.981345 \nL 206.526878 47.981345 \nL 206.526878 47.911608 \nL 206.661787 47.841871 \nL 207.111485 47.772134 \nL 207.156455 47.63266 \nL 207.696092 47.562923 \nL 207.696092 47.493186 \nL 208.23573 47.423449 \nL 208.415609 47.005027 \nL 209.135125 46.93529 \nL 209.180095 46.865553 \nL 209.359974 46.865553 \nL 209.359974 46.726079 \nL 209.404944 46.726079 \nL 210.843977 46.656342 \nL 210.933916 46.586605 \nL 211.968221 46.098446 \nL 212.28301 46.098446 \nL 212.28301 45.958972 \nL 212.642768 45.958972 \nL 212.642768 45.819498 \nL 213.047496 45.749761 \nL 213.047496 45.680024 \nL 213.317314 45.680024 \nL 213.317314 45.54055 \nL 213.946891 45.470813 \nL 214.036831 45.261602 \nL 214.936226 45.191865 \nL 215.206045 45.122128 \nL 215.700713 45.052391 \nL 215.790652 44.982654 \nL 216.465199 44.912917 \nL 216.600108 44.773443 \nL 216.869927 44.703706 \nL 216.959867 44.564231 \nL 217.094776 44.564231 \nL 217.094776 44.494494 \nL 217.319625 44.285283 \nL 217.814292 44.215546 \nL 218.35393 44.145809 \nL 218.398899 44.076072 \nL 218.983507 44.006335 \nL 218.983507 43.797124 \nL 219.073446 43.797124 \nL 219.433204 43.727387 \nL 220.28763 43.65765 \nL 220.28763 43.587913 \nL 220.512479 43.587913 \nL 220.512479 43.448439 \nL 221.546784 43.448439 \nL 221.546784 43.308965 \nL 221.591754 43.308965 \nL 221.861572 43.308965 \nL 221.861572 43.169491 \nL 222.176361 43.099754 \nL 222.176361 43.030017 \nL 222.805938 42.96028 \nL 222.850907 42.681332 \nL 223.120726 42.611595 \nL 223.210666 42.472121 \nL 223.390545 42.402384 \nL 223.435515 42.332647 \nL 224.200001 42.26291 \nL 224.200001 42.193173 \nL 225.189336 42.123436 \nL 225.234306 41.983962 \nL 226.088732 41.914225 \nL 226.088732 41.844488 \nL 226.178671 41.844488 \nL 226.628369 41.774751 \nL 227.168006 41.56554 \nL 228.786918 41.495803 \nL 228.786918 41.356329 \nL 230.091042 41.286592 \nL 230.270921 41.147118 \nL 230.630679 41.077381 \nL 230.675649 40.937907 \nL 230.720619 40.937907 \nL 230.900498 40.798433 \nL 232.294561 40.728696 \nL 232.51941 40.589222 \nL 232.834198 40.519485 \nL 232.834198 40.449748 \nL 233.238926 40.380011 \nL 233.328866 40.101063 \nL 233.688624 40.031326 \nL 233.688624 39.961589 \nL 233.733594 39.961589 \nL 234.048382 39.961589 \nL 234.048382 39.752378 \nL 234.138322 39.752378 \nL 234.183292 39.752378 \nL 234.183292 39.682641 \nL 234.228261 39.612904 \nL 234.812869 39.543167 \nL 234.812869 39.47343 \nL 234.902808 39.47343 \nL 235.217597 39.403693 \nL 235.217597 39.333956 \nL 235.532385 39.264219 \nL 235.532385 39.194482 \nL 236.701599 39.124745 \nL 236.881478 39.055008 \nL 237.960753 38.985271 \nL 237.960753 38.915534 \nL 238.050693 38.915534 \nL 238.275541 38.845797 \nL 238.275541 38.77606 \nL 238.365481 38.77606 \nL 238.50039 38.77606 \nL 238.50039 38.636586 \nL 239.669605 38.566849 \nL 239.669605 38.497112 \nL 240.299181 38.427375 \nL 240.299181 38.357638 \nL 240.569 38.2879 \nL 240.61397 38.078689 \nL 242.008033 38.078689 \nL 242.097973 37.799741 \nL 242.277852 37.799741 \nL 242.367791 37.59053 \nL 242.502701 37.520793 \nL 242.502701 37.311582 \nL 243.581975 37.241845 \nL 243.581975 37.172108 \nL 243.671915 37.172108 \nL 244.526341 37.102371 \nL 244.526341 36.962897 \nL 244.70622 36.89316 \nL 244.70622 36.753686 \nL 245.425736 36.683949 \nL 245.425736 36.614212 \nL 245.965374 36.405001 \nL 246.59495 36.335264 \nL 246.63992 36.19579 \nL 246.68489 36.19579 \nL 248.258832 36.126053 \nL 248.258832 35.986579 \nL 248.303802 35.986579 \nL 249.203198 35.916842 \nL 249.338107 35.777368 \nL 250.282472 35.707631 \nL 250.327442 35.568157 \nL 250.597261 35.49842 \nL 250.597261 35.428683 \nL 251.271807 35.428683 \nL 251.271807 35.289209 \nL 251.361747 35.289209 \nL 252.441022 35.219472 \nL 252.665871 35.149735 \nL 253.025629 35.079998 \nL 253.025629 35.010261 \nL 253.565266 34.940524 \nL 253.565266 34.870787 \nL 253.610236 34.870787 \nL 254.509631 34.80105 \nL 254.509631 34.731313 \nL 254.599571 34.731313 \nL 255.004299 34.731313 \nL 255.004299 34.591839 \nL 255.409027 34.522102 \nL 255.453997 34.312891 \nL 255.498967 34.312891 \nL 255.993634 34.243154 \nL 255.993634 34.173417 \nL 256.80309 34.10368 \nL 256.80309 34.033943 \nL 256.84806 34.033943 \nL 257.252788 33.964206 \nL 257.252788 33.894469 \nL 257.792425 33.894469 \nL 257.837395 33.685258 \nL 257.882365 33.685258 \nL 259.321398 33.615521 \nL 259.456307 33.476047 \nL 259.950975 33.476047 \nL 260.040914 33.266836 \nL 261.569887 33.197099 \nL 261.659826 33.057625 \nL 262.514252 32.987888 \nL 262.514252 32.918151 \nL 262.784071 32.918151 \nL 262.784071 32.778677 \nL 263.233768 32.70894 \nL 263.233768 32.639203 \nL 264.178134 32.569466 \nL 264.178134 32.499729 \nL 264.268073 32.499729 \nL 265.482257 32.429992 \nL 265.527227 32.360255 \nL 266.111834 32.290518 \nL 266.111834 32.220781 \nL 266.156804 32.220781 \nL 267.236079 32.151044 \nL 267.236079 32.081307 \nL 267.730746 32.01157 \nL 267.865656 31.941833 \nL 268.540202 31.872095 \nL 268.585172 31.802358 \nL 268.9899 31.732621 \nL 268.9899 31.662884 \nL 269.07984 31.662884 \nL 269.619477 31.593147 \nL 269.844326 31.52341 \nL 271.10348 31.453673 \nL 271.10348 31.383936 \nL 271.148449 31.383936 \nL 271.822996 31.314199 \nL 271.822996 31.244462 \nL 272.362633 31.174725 \nL 272.362633 31.104988 \nL 272.857301 31.104988 \nL 272.857301 31.035251 \nL 273.12712 30.895777 \nL 275.690397 30.82604 \nL 275.825306 30.756303 \nL 276.275004 30.686566 \nL 276.275004 30.616829 \nL 276.319974 30.616829 \nL 276.724702 30.547092 \nL 276.814642 30.407618 \nL 277.264339 30.337881 \nL 277.264339 30.268144 \nL 277.803977 30.198407 \nL 277.893916 29.919459 \nL 279.1081 29.849722 \nL 279.1081 29.779985 \nL 279.422889 29.710248 \nL 279.422889 29.640511 \nL 279.467858 29.640511 \nL 280.906891 29.570774 \nL 281.041801 29.361563 \nL 281.536468 29.291826 \nL 281.671378 29.082615 \nL 282.121075 29.012878 \nL 282.121075 28.943141 \nL 283.695018 28.873404 \nL 283.695018 28.73393 \nL 284.774292 28.664193 \nL 284.819262 28.524719 \nL 285.628718 28.454982 \nL 285.628718 28.385245 \nL 286.887872 28.385245 \nL 286.887872 28.245771 \nL 288.102056 28.176034 \nL 288.102056 28.106297 \nL 288.191995 28.106297 \nL 288.596723 28.106297 \nL 288.596723 27.897086 \nL 288.686663 27.897086 \nL 290.620363 27.827349 \nL 290.620363 27.757612 \nL 292.059396 27.687875 \nL 292.599034 27.548401 \nL 294.622674 27.478664 \nL 294.622674 27.408927 \nL 296.826193 27.33919 \nL 296.826193 27.199716 \nL 302.042687 27.129979 \nL 302.357476 27.060242 \nL 303.706569 26.990505 \nL 303.751539 26.851031 \nL 304.740874 26.781294 \nL 304.785844 26.711557 \nL 305.46039 26.64182 \nL 305.55033 26.502346 \nL 307.708879 26.432609 \nL 307.708879 26.362872 \nL 310.631915 26.293135 \nL 310.631915 26.223398 \nL 311.801129 26.153661 \nL 311.801129 26.083924 \nL 311.846099 26.083924 \nL 313.64489 26.014187 \nL 313.68986 25.94445 \nL 314.949014 25.874713 \nL 314.949014 25.804976 \nL 315.488651 25.735239 \nL 315.62356 25.665502 \nL 315.75847 25.665502 \nL 315.75847 25.526028 \nL 317.73714 25.45629 \nL 317.78211 25.386553 \nL 319.985629 25.316816 \nL 319.985629 25.247079 \nL 320.030599 25.247079 \nL 320.165508 25.177342 \nL 320.165508 25.107605 \nL 320.210478 25.107605 \nL 323.358362 25.037868 \nL 323.358362 24.968131 \nL 323.448302 24.968131 \nL 328.170128 24.898394 \nL 328.170128 24.828657 \nL 328.215098 24.828657 \nL 328.799705 24.75892 \nL 328.844675 24.689183 \nL 329.474252 24.619446 \nL 329.519222 24.479972 \nL 333.656441 24.410235 \nL 333.656441 24.340498 \nL 337.568812 24.270761 \nL 337.568812 24.201024 \nL 338.513177 24.131287 \nL 338.513177 24.06155 \nL 340.311969 23.991813 \nL 340.356938 23.922076 \nL 342.425548 23.852339 \nL 342.425548 23.782602 \nL 342.515488 23.782602 \nL 344.494158 23.712865 \nL 344.494158 23.643128 \nL 344.584098 23.643128 \nL 348.766287 23.573391 \nL 348.811257 23.503654 \nL 350.610048 23.433917 \nL 350.610048 23.36418 \nL 353.623023 23.36418 \nL 353.757932 23.224706 \nL 359.064366 23.154969 \nL 359.064366 23.085232 \nL 361.537704 23.015495 \nL 361.537704 22.945758 \nL 361.627644 22.945758 \nL 368.732869 22.876021 \nL 368.732869 22.806284 \nL 370.621599 22.736547 \nL 370.621599 22.66681 \nL 375.298456 22.597073 \nL 375.298456 22.527336 \nL 377.457006 22.457599 \nL 377.457006 22.387862 \nL 378.58125 22.318125 \nL 378.58125 22.318125 \n\" style=\"fill:none;stroke:#1f77b4;stroke-linecap:square;stroke-width:1.5;\"/>\n   </g>\n   <g id=\"patch_3\">\n    <path d=\"M 43.78125 239.758125 \nL 43.78125 22.318125 \n\" style=\"fill:none;stroke:#000000;stroke-linecap:square;stroke-linejoin:miter;stroke-width:0.8;\"/>\n   </g>\n   <g id=\"patch_4\">\n    <path d=\"M 378.58125 239.758125 \nL 378.58125 22.318125 \n\" style=\"fill:none;stroke:#000000;stroke-linecap:square;stroke-linejoin:miter;stroke-width:0.8;\"/>\n   </g>\n   <g id=\"patch_5\">\n    <path d=\"M 43.78125 239.758125 \nL 378.58125 239.758125 \n\" style=\"fill:none;stroke:#000000;stroke-linecap:square;stroke-linejoin:miter;stroke-width:0.8;\"/>\n   </g>\n   <g id=\"patch_6\">\n    <path d=\"M 43.78125 22.318125 \nL 378.58125 22.318125 \n\" style=\"fill:none;stroke:#000000;stroke-linecap:square;stroke-linejoin:miter;stroke-width:0.8;\"/>\n   </g>\n   <g id=\"text_15\">\n    <!-- ROC curve for SLAFail classifier -->\n    <defs>\n     <path d=\"M 39.40625 66.21875 \nQ 28.65625 66.21875 22.328125 58.203125 \nQ 16.015625 50.203125 16.015625 36.375 \nQ 16.015625 22.609375 22.328125 14.59375 \nQ 28.65625 6.59375 39.40625 6.59375 \nQ 50.140625 6.59375 56.421875 14.59375 \nQ 62.703125 22.609375 62.703125 36.375 \nQ 62.703125 50.203125 56.421875 58.203125 \nQ 50.140625 66.21875 39.40625 66.21875 \nz\nM 39.40625 74.21875 \nQ 54.734375 74.21875 63.90625 63.9375 \nQ 73.09375 53.65625 73.09375 36.375 \nQ 73.09375 19.140625 63.90625 8.859375 \nQ 54.734375 -1.421875 39.40625 -1.421875 \nQ 24.03125 -1.421875 14.8125 8.828125 \nQ 5.609375 19.09375 5.609375 36.375 \nQ 5.609375 53.65625 14.8125 63.9375 \nQ 24.03125 74.21875 39.40625 74.21875 \nz\n\" id=\"DejaVuSans-79\"/>\n     <path d=\"M 64.40625 67.28125 \nL 64.40625 56.890625 \nQ 59.421875 61.53125 53.78125 63.8125 \nQ 48.140625 66.109375 41.796875 66.109375 \nQ 29.296875 66.109375 22.65625 58.46875 \nQ 16.015625 50.828125 16.015625 36.375 \nQ 16.015625 21.96875 22.65625 14.328125 \nQ 29.296875 6.6875 41.796875 6.6875 \nQ 48.140625 6.6875 53.78125 8.984375 \nQ 59.421875 11.28125 64.40625 15.921875 \nL 64.40625 5.609375 \nQ 59.234375 2.09375 53.4375 0.328125 \nQ 47.65625 -1.421875 41.21875 -1.421875 \nQ 24.65625 -1.421875 15.125 8.703125 \nQ 5.609375 18.84375 5.609375 36.375 \nQ 5.609375 53.953125 15.125 64.078125 \nQ 24.65625 74.21875 41.21875 74.21875 \nQ 47.75 74.21875 53.53125 72.484375 \nQ 59.328125 70.75 64.40625 67.28125 \nz\n\" id=\"DejaVuSans-67\"/>\n     <path d=\"M 9.8125 72.90625 \nL 19.671875 72.90625 \nL 19.671875 8.296875 \nL 55.171875 8.296875 \nL 55.171875 0 \nL 9.8125 0 \nz\n\" id=\"DejaVuSans-76\"/>\n     <path d=\"M 34.1875 63.1875 \nL 20.796875 26.90625 \nL 47.609375 26.90625 \nz\nM 28.609375 72.90625 \nL 39.796875 72.90625 \nL 67.578125 0 \nL 57.328125 0 \nL 50.6875 18.703125 \nL 17.828125 18.703125 \nL 11.1875 0 \nL 0.78125 0 \nz\n\" id=\"DejaVuSans-65\"/>\n    </defs>\n    <g transform=\"translate(117.200625 16.318125)scale(0.12 -0.12)\">\n     <use xlink:href=\"#DejaVuSans-82\"/>\n     <use x=\"69.482422\" xlink:href=\"#DejaVuSans-79\"/>\n     <use x=\"148.193359\" xlink:href=\"#DejaVuSans-67\"/>\n     <use x=\"218.017578\" xlink:href=\"#DejaVuSans-32\"/>\n     <use x=\"249.804688\" xlink:href=\"#DejaVuSans-99\"/>\n     <use x=\"304.785156\" xlink:href=\"#DejaVuSans-117\"/>\n     <use x=\"368.164062\" xlink:href=\"#DejaVuSans-114\"/>\n     <use x=\"409.277344\" xlink:href=\"#DejaVuSans-118\"/>\n     <use x=\"468.457031\" xlink:href=\"#DejaVuSans-101\"/>\n     <use x=\"529.980469\" xlink:href=\"#DejaVuSans-32\"/>\n     <use x=\"561.767578\" xlink:href=\"#DejaVuSans-102\"/>\n     <use x=\"596.972656\" xlink:href=\"#DejaVuSans-111\"/>\n     <use x=\"658.154297\" xlink:href=\"#DejaVuSans-114\"/>\n     <use x=\"699.267578\" xlink:href=\"#DejaVuSans-32\"/>\n     <use x=\"731.054688\" xlink:href=\"#DejaVuSans-83\"/>\n     <use x=\"794.53125\" xlink:href=\"#DejaVuSans-76\"/>\n     <use x=\"850.275391\" xlink:href=\"#DejaVuSans-65\"/>\n     <use x=\"918.683594\" xlink:href=\"#DejaVuSans-70\"/>\n     <use x=\"976.0625\" xlink:href=\"#DejaVuSans-97\"/>\n     <use x=\"1037.341797\" xlink:href=\"#DejaVuSans-105\"/>\n     <use x=\"1065.125\" xlink:href=\"#DejaVuSans-108\"/>\n     <use x=\"1092.908203\" xlink:href=\"#DejaVuSans-32\"/>\n     <use x=\"1124.695312\" xlink:href=\"#DejaVuSans-99\"/>\n     <use x=\"1179.675781\" xlink:href=\"#DejaVuSans-108\"/>\n     <use x=\"1207.458984\" xlink:href=\"#DejaVuSans-97\"/>\n     <use x=\"1268.738281\" xlink:href=\"#DejaVuSans-115\"/>\n     <use x=\"1320.837891\" xlink:href=\"#DejaVuSans-115\"/>\n     <use x=\"1372.9375\" xlink:href=\"#DejaVuSans-105\"/>\n     <use x=\"1400.720703\" xlink:href=\"#DejaVuSans-102\"/>\n     <use x=\"1435.925781\" xlink:href=\"#DejaVuSans-105\"/>\n     <use x=\"1463.708984\" xlink:href=\"#DejaVuSans-101\"/>\n     <use x=\"1525.232422\" xlink:href=\"#DejaVuSans-114\"/>\n    </g>\n   </g>\n  </g>\n </g>\n <defs>\n  <clipPath id=\"p83b7edae9e\">\n   <rect height=\"217.44\" width=\"334.8\" x=\"43.78125\" y=\"22.318125\"/>\n  </clipPath>\n </defs>\n</svg>\n",
      "text/plain": "<Figure size 432x288 with 1 Axes>"
     },
     "metadata": {
      "needs_background": "light"
     },
     "output_type": "display_data"
    }
   ],
   "source": [
    "plt.plot(fpr, tpr)\n",
    "plt.xlim([0.0, 1.0])\n",
    "plt.ylim([0.0, 1.0])\n",
    "plt.title('ROC curve for SLAFail classifier')\n",
    "plt.xlabel('False Positive Rate (1 - Specificity)')\n",
    "plt.ylabel('True Positive Rate (Sensitivity)')\n",
    "plt.grid(True)"
   ]
  },
  {
   "cell_type": "markdown",
   "metadata": {},
   "source": [
    "Capture resulting AUC"
   ]
  },
  {
   "cell_type": "code",
   "execution_count": 29,
   "metadata": {},
   "outputs": [
    {
     "name": "stdout",
     "output_type": "stream",
     "text": "Metrics = AUC: 0.777108 \n"
    }
   ],
   "source": [
    "PipeLineMetadata['Metrics - AUC'] = metrics.roc_auc_score(y_test, y_pred_prob)\n",
    "print(\"Metrics = AUC: %f \" % PipeLineMetadata['Metrics - AUC']) "
   ]
  },
  {
   "cell_type": "markdown",
   "metadata": {},
   "source": [
    "## Save Details and Performance Measures for Comparison to other Models\n"
   ]
  },
  {
   "cell_type": "code",
   "execution_count": 30,
   "metadata": {},
   "outputs": [
    {
     "data": {
      "text/plain": "{'Name': 'Bare Bones with Target Encoder',\n 'Column Transforms': ['targetencoder', 'standardscaler'],\n 'Classifier': LogisticRegression(C=1.0, class_weight=None, dual=False, fit_intercept=True,\n                    intercept_scaling=1, l1_ratio=None, max_iter=100,\n                    multi_class='auto', n_jobs=None, penalty='l2',\n                    random_state=None, solver='lbfgs', tol=0.0001, verbose=0,\n                    warm_start=False),\n 'Classifier - Intercept': -6.197930200617626,\n 'Classifier - Coefficients':                                    0\n CI_Name_aff                 1.101768\n Service_Component_WBS_aff  -0.110784\n Impact                      0.548248\n Urgency                     0.591741\n KM_number                   5.129803\n Count_Related_Interactions  4.420245\n Count_Related_Incidents     5.229524\n Count_Related_Changes       0.118130\n Open_Time_HourOfDay         0.190665\n Open_Time_DayOfWeek        -0.033615\n CI_TypeSubType_aff          0.003000,\n 'Metrics - Cross Validation Accuracy': 0.7339013998782715,\n 'Metrics - F1 score': 0.6544454104729959,\n 'Metrics - Confusion Matrix Classification Accuracy': 0.7418347060494178,\n 'Metrics - Confusion Matrix Classification Error': 0.2581652939505822,\n 'Metrics - Confusion Matrix True Positive Rate': 0.404746632456703,\n 'Metrics - Confusion Matrix True Negative Rate': 0.8830087306917395,\n 'Metrics - Confusion Matrix False Positive Rate': 0.11699126930826058,\n 'Metrics - Confusion Matrix Precision': 0.5916549460853259,\n 'Metrics - ROC Curve fpr array': array([0.        , 0.        , 0.        , ..., 0.99905977, 0.99905977,\n        1.        ]),\n 'Metrics - ROC Curve tpr array': array([0.00000000e+00, 3.20718409e-04, 1.28287364e-03, ...,\n        9.99679282e-01, 1.00000000e+00, 1.00000000e+00]),\n 'Metrics - AUC': 0.7771077488927784}"
     },
     "execution_count": 30,
     "metadata": {},
     "output_type": "execute_result"
    }
   ],
   "source": [
    "PipeLineMetadata"
   ]
  },
  {
   "cell_type": "code",
   "execution_count": 31,
   "metadata": {},
   "outputs": [],
   "source": [
    "with open(\"data/05.01.b BareBones Target.pkl\",'wb') as fo:\n",
    "    pickle.dump(PipeLineMetadata, fo)"
   ]
  },
  {
   "cell_type": "code",
   "execution_count": 32,
   "metadata": {},
   "outputs": [],
   "source": [
    "# with open(\"data/05.01.BareBones.pkl\", 'rb') as fi:\n",
    "#    BareBonesMetadata = pickle.load(fi)"
   ]
  },
  {
   "cell_type": "code",
   "execution_count": null,
   "metadata": {},
   "outputs": [],
   "source": []
  }
 ]
}