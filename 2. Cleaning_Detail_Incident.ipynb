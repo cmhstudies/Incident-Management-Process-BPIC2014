{
 "nbformat": 4,
 "nbformat_minor": 2,
 "metadata": {
  "language_info": {
   "name": "python",
   "codemirror_mode": {
    "name": "ipython",
    "version": 3
   },
   "version": "3.7.4-final"
  },
  "orig_nbformat": 2,
  "file_extension": ".py",
  "mimetype": "text/x-python",
  "name": "python",
  "npconvert_exporter": "python",
  "pygments_lexer": "ipython3",
  "version": 3,
  "kernelspec": {
   "name": "python37464bitairbaseconda19ea8b859f254c1ab8191ac96e72d02e",
   "display_name": "Python 3.7.4 64-bit ('air-base': conda)"
  }
 },
 "cells": [
  {
   "cell_type": "code",
   "execution_count": null,
   "metadata": {},
   "outputs": [],
   "source": []
  },
  {
   "cell_type": "code",
   "execution_count": 45,
   "metadata": {},
   "outputs": [],
   "source": [
    "import pandas as pd\n",
    "import numpy as np\n",
    "import seaborn as sns\n",
    "import matplotlib\n",
    "from matplotlib import pyplot as plt\n",
    "from pandas_profiling import ProfileReport\n",
    "from pathlib import Path"
   ]
  },
  {
   "cell_type": "code",
   "execution_count": 46,
   "metadata": {},
   "outputs": [],
   "source": [
    "pd.set_option('display.max_rows', None)\n",
    "pd.set_option('display.max_columns', None)\n",
    "pd.set_option('display.width', None)"
   ]
  },
  {
   "cell_type": "code",
   "execution_count": 47,
   "metadata": {},
   "outputs": [],
   "source": [
    "df = pd.read_csv(\"1.a.Detail_Incident.csv\", parse_dates=['Open_Time', 'Reopen_Time', 'Resolved_Time','Close_Time', ])"
   ]
  },
  {
   "cell_type": "code",
   "execution_count": 48,
   "metadata": {},
   "outputs": [
    {
     "data": {
      "text/plain": "CI_Name_aff                           object\nCI_Type_aff                           object\nCI_Subtype_aff                        object\nService_Component_WBS_aff             object\nIncident_ID                           object\nStatus                                object\nImpact                                 int64\nUrgency                                int64\nPriority                               int64\nCategory                              object\nKM_number                             object\nAlert_Status                          object\nCount_Reassignments                  float64\nOpen_Time                     datetime64[ns]\nReopen_Time                   datetime64[ns]\nResolved_Time                 datetime64[ns]\nClose_Time                    datetime64[ns]\nHandle_Time_Hours                    float64\nClosure_Code                          object\nCount_Related_Interactions           float64\nRelated_Interaction                   object\nCount_Related_Incidents              float64\nCount_Related_Changes                float64\nRelated_Change                        object\nCI_Name_CBy                           object\nCI_Type_CBy                           object\nCI_Subtype_CBy                        object\nServiceComp_WBS_CBy                   object\ndtype: object"
     },
     "execution_count": 48,
     "metadata": {},
     "output_type": "execute_result"
    }
   ],
   "source": [
    "df.dtypes"
   ]
  },
  {
   "cell_type": "markdown",
   "metadata": {},
   "source": [
    "## Drop Records where Resolved_Time is Missing"
   ]
  },
  {
   "cell_type": "code",
   "execution_count": 49,
   "metadata": {},
   "outputs": [
    {
     "data": {
      "text/plain": "Open_Time            0\nReopen_Time      44322\nResolved_Time     1780\nClose_Time           0\ndtype: int64"
     },
     "execution_count": 49,
     "metadata": {},
     "output_type": "execute_result"
    }
   ],
   "source": [
    "df.iloc[:,13:17].isnull().sum()"
   ]
  },
  {
   "cell_type": "code",
   "execution_count": 50,
   "metadata": {},
   "outputs": [],
   "source": [
    "df = df.dropna(subset=['Resolved_Time'])"
   ]
  },
  {
   "cell_type": "code",
   "execution_count": 51,
   "metadata": {},
   "outputs": [
    {
     "data": {
      "text/plain": "Open_Time            0\nReopen_Time      42607\nResolved_Time        0\nClose_Time           0\ndtype: int64"
     },
     "execution_count": 51,
     "metadata": {},
     "output_type": "execute_result"
    }
   ],
   "source": [
    "df.iloc[:,13:17].isnull().sum()"
   ]
  },
  {
   "cell_type": "markdown",
   "metadata": {},
   "source": [
    "## Limit timeframe of all records\n",
    "\n",
    "greater than 1 october 2013\n",
    "\n",
    "less than 31 march 2014\n"
   ]
  },
  {
   "cell_type": "code",
   "execution_count": 52,
   "metadata": {},
   "outputs": [],
   "source": [
    "df = df[df['Open_Time'] >= pd.to_datetime('10-01-2013')]"
   ]
  },
  {
   "cell_type": "code",
   "execution_count": 53,
   "metadata": {},
   "outputs": [
    {
     "data": {
      "text/html": "<div>\n<style scoped>\n    .dataframe tbody tr th:only-of-type {\n        vertical-align: middle;\n    }\n\n    .dataframe tbody tr th {\n        vertical-align: top;\n    }\n\n    .dataframe thead th {\n        text-align: right;\n    }\n</style>\n<table border=\"1\" class=\"dataframe\">\n  <thead>\n    <tr style=\"text-align: right;\">\n      <th></th>\n      <th>Open_Time</th>\n      <th>Reopen_Time</th>\n      <th>Resolved_Time</th>\n      <th>Close_Time</th>\n    </tr>\n  </thead>\n  <tbody>\n    <tr>\n      <td>count</td>\n      <td>43709</td>\n      <td>2038</td>\n      <td>43709</td>\n      <td>43709</td>\n    </tr>\n    <tr>\n      <td>unique</td>\n      <td>43455</td>\n      <td>2036</td>\n      <td>43496</td>\n      <td>43500</td>\n    </tr>\n    <tr>\n      <td>top</td>\n      <td>2014-01-22 15:46:06</td>\n      <td>2013-11-12 10:36:33</td>\n      <td>2013-11-22 16:34:33</td>\n      <td>2014-02-27 15:04:32</td>\n    </tr>\n    <tr>\n      <td>freq</td>\n      <td>3</td>\n      <td>2</td>\n      <td>3</td>\n      <td>3</td>\n    </tr>\n    <tr>\n      <td>first</td>\n      <td>2013-10-01 07:33:21</td>\n      <td>2013-10-01 11:43:47</td>\n      <td>2013-10-01 08:18:27</td>\n      <td>2013-10-01 08:18:30</td>\n    </tr>\n    <tr>\n      <td>last</td>\n      <td>2014-03-31 17:24:49</td>\n      <td>2014-03-31 16:21:15</td>\n      <td>2014-03-31 22:47:29</td>\n      <td>2014-03-31 22:47:32</td>\n    </tr>\n  </tbody>\n</table>\n</div>",
      "text/plain": "                  Open_Time          Reopen_Time        Resolved_Time  \\\ncount                 43709                 2038                43709   \nunique                43455                 2036                43496   \ntop     2014-01-22 15:46:06  2013-11-12 10:36:33  2013-11-22 16:34:33   \nfreq                      3                    2                    3   \nfirst   2013-10-01 07:33:21  2013-10-01 11:43:47  2013-10-01 08:18:27   \nlast    2014-03-31 17:24:49  2014-03-31 16:21:15  2014-03-31 22:47:29   \n\n                 Close_Time  \ncount                 43709  \nunique                43500  \ntop     2014-02-27 15:04:32  \nfreq                      3  \nfirst   2013-10-01 08:18:30  \nlast    2014-03-31 22:47:32  "
     },
     "execution_count": 53,
     "metadata": {},
     "output_type": "execute_result"
    }
   ],
   "source": [
    "df.iloc[:,13:17].describe()"
   ]
  },
  {
   "cell_type": "markdown",
   "metadata": {},
   "source": [
    "## Determine if 'work in progress' remains"
   ]
  },
  {
   "cell_type": "code",
   "execution_count": 54,
   "metadata": {},
   "outputs": [
    {
     "data": {
      "text/plain": "Closed              43700\nWork in progress        9\nName: Status, dtype: int64"
     },
     "execution_count": 54,
     "metadata": {},
     "output_type": "execute_result"
    }
   ],
   "source": [
    "df.Status.value_counts()"
   ]
  },
  {
   "cell_type": "markdown",
   "metadata": {},
   "source": [
    "It does, remove those records"
   ]
  },
  {
   "cell_type": "code",
   "execution_count": 55,
   "metadata": {},
   "outputs": [],
   "source": [
    "df = df[ df['Status'] == 'Closed' ]"
   ]
  },
  {
   "cell_type": "markdown",
   "metadata": {},
   "source": [
    "## Remove non-incident records"
   ]
  },
  {
   "cell_type": "code",
   "execution_count": 56,
   "metadata": {},
   "outputs": [
    {
     "data": {
      "text/plain": "incident                   35208\nrequest for information     8482\ncomplaint                      9\nrequest for change             1\nName: Category, dtype: int64"
     },
     "execution_count": 56,
     "metadata": {},
     "output_type": "execute_result"
    }
   ],
   "source": [
    "df.Category.value_counts()"
   ]
  },
  {
   "cell_type": "code",
   "execution_count": 57,
   "metadata": {},
   "outputs": [],
   "source": [
    "df = df[ df['Category'] == 'incident' ]"
   ]
  },
  {
   "cell_type": "code",
   "execution_count": 58,
   "metadata": {},
   "outputs": [
    {
     "name": "stdout",
     "output_type": "stream",
     "text": "incident    35208\nName: Category, dtype: int64\nClosed    35208\nName: Status, dtype: int64\nclosed    35208\nName: Alert_Status, dtype: int64\n"
    }
   ],
   "source": [
    "print(df.Category.value_counts())\n",
    "print(df.Status.value_counts())\n",
    "print(df.Alert_Status.value_counts())"
   ]
  },
  {
   "cell_type": "markdown",
   "metadata": {},
   "source": [
    "## Drop the columns with constant values"
   ]
  },
  {
   "cell_type": "code",
   "execution_count": 59,
   "metadata": {},
   "outputs": [],
   "source": [
    "df = df.drop(['Category', 'Status', 'Alert_Status'], axis='columns')"
   ]
  },
  {
   "cell_type": "code",
   "execution_count": 60,
   "metadata": {},
   "outputs": [
    {
     "data": {
      "text/html": "<div>\n<style scoped>\n    .dataframe tbody tr th:only-of-type {\n        vertical-align: middle;\n    }\n\n    .dataframe tbody tr th {\n        vertical-align: top;\n    }\n\n    .dataframe thead th {\n        text-align: right;\n    }\n</style>\n<table border=\"1\" class=\"dataframe\">\n  <thead>\n    <tr style=\"text-align: right;\">\n      <th></th>\n      <th>CI_Name_aff</th>\n      <th>CI_Type_aff</th>\n      <th>CI_Subtype_aff</th>\n      <th>Service_Component_WBS_aff</th>\n      <th>Incident_ID</th>\n      <th>Impact</th>\n      <th>Urgency</th>\n      <th>Priority</th>\n      <th>KM_number</th>\n      <th>Count_Reassignments</th>\n      <th>Open_Time</th>\n      <th>Reopen_Time</th>\n      <th>Resolved_Time</th>\n      <th>Close_Time</th>\n      <th>Handle_Time_Hours</th>\n      <th>Closure_Code</th>\n      <th>Count_Related_Interactions</th>\n      <th>Related_Interaction</th>\n      <th>Count_Related_Incidents</th>\n      <th>Count_Related_Changes</th>\n      <th>Related_Change</th>\n      <th>CI_Name_CBy</th>\n      <th>CI_Type_CBy</th>\n      <th>CI_Subtype_CBy</th>\n      <th>ServiceComp_WBS_CBy</th>\n    </tr>\n  </thead>\n  <tbody>\n    <tr>\n      <td>1125</td>\n      <td>APP000005</td>\n      <td>application</td>\n      <td>Citrix</td>\n      <td>WBS000292</td>\n      <td>IM0001224</td>\n      <td>4</td>\n      <td>4</td>\n      <td>4</td>\n      <td>KM0001060</td>\n      <td>0.0</td>\n      <td>2013-10-01 07:33:21</td>\n      <td>NaT</td>\n      <td>2013-10-01 08:36:09</td>\n      <td>2013-10-01 08:37:28</td>\n      <td>1.068611</td>\n      <td>Software</td>\n      <td>1.0</td>\n      <td>SD0001630</td>\n      <td>NaN</td>\n      <td>NaN</td>\n      <td>NaN</td>\n      <td>APP000005</td>\n      <td>application</td>\n      <td>Citrix</td>\n      <td>WBS000292</td>\n    </tr>\n    <tr>\n      <td>1127</td>\n      <td>DSK000457</td>\n      <td>computer</td>\n      <td>Desktop</td>\n      <td>WBS000187</td>\n      <td>IM0001226</td>\n      <td>5</td>\n      <td>5</td>\n      <td>5</td>\n      <td>KM0001446</td>\n      <td>2.0</td>\n      <td>2013-10-01 08:18:38</td>\n      <td>NaT</td>\n      <td>2013-10-07 11:51:53</td>\n      <td>2013-10-07 11:52:00</td>\n      <td>45.556111</td>\n      <td>Hardware</td>\n      <td>1.0</td>\n      <td>SD0001635</td>\n      <td>NaN</td>\n      <td>NaN</td>\n      <td>NaN</td>\n      <td>DSK000457</td>\n      <td>computer</td>\n      <td>Desktop</td>\n      <td>WBS000187</td>\n    </tr>\n    <tr>\n      <td>1130</td>\n      <td>SBA000263</td>\n      <td>application</td>\n      <td>Server Based Application</td>\n      <td>WBS000072</td>\n      <td>IM0001229</td>\n      <td>5</td>\n      <td>5</td>\n      <td>5</td>\n      <td>KM0000644</td>\n      <td>12.0</td>\n      <td>2013-10-01 08:36:09</td>\n      <td>NaT</td>\n      <td>2013-10-07 16:55:08</td>\n      <td>2013-10-07 16:55:38</td>\n      <td>50.324722</td>\n      <td>Other</td>\n      <td>1.0</td>\n      <td>SD0001644</td>\n      <td>NaN</td>\n      <td>NaN</td>\n      <td>NaN</td>\n      <td>#N/B</td>\n      <td>#N/B</td>\n      <td>#N/B</td>\n      <td>#N/B</td>\n    </tr>\n    <tr>\n      <td>1131</td>\n      <td>SBA000154</td>\n      <td>application</td>\n      <td>Server Based Application</td>\n      <td>WBS000027</td>\n      <td>IM0001230</td>\n      <td>5</td>\n      <td>5</td>\n      <td>5</td>\n      <td>KM0001291</td>\n      <td>1.0</td>\n      <td>2013-10-01 08:39:37</td>\n      <td>NaT</td>\n      <td>2013-10-01 15:39:47</td>\n      <td>2013-10-01 15:39:51</td>\n      <td>7.003889</td>\n      <td>Other</td>\n      <td>1.0</td>\n      <td>SD0001640</td>\n      <td>NaN</td>\n      <td>NaN</td>\n      <td>NaN</td>\n      <td>SBA000154</td>\n      <td>application</td>\n      <td>Server Based Application</td>\n      <td>WBS000027</td>\n    </tr>\n    <tr>\n      <td>1132</td>\n      <td>LAP000019</td>\n      <td>computer</td>\n      <td>Laptop</td>\n      <td>WBS000091</td>\n      <td>IM0001231</td>\n      <td>5</td>\n      <td>5</td>\n      <td>5</td>\n      <td>KM0000315</td>\n      <td>0.0</td>\n      <td>2013-10-01 08:40:00</td>\n      <td>NaT</td>\n      <td>2013-10-02 11:30:13</td>\n      <td>2013-10-02 11:30:19</td>\n      <td>0.020278</td>\n      <td>Other</td>\n      <td>1.0</td>\n      <td>SD0001638</td>\n      <td>NaN</td>\n      <td>NaN</td>\n      <td>NaN</td>\n      <td>KYB000001</td>\n      <td>hardware</td>\n      <td>Keyboard</td>\n      <td>WBS000091</td>\n    </tr>\n  </tbody>\n</table>\n</div>",
      "text/plain": "     CI_Name_aff  CI_Type_aff            CI_Subtype_aff  \\\n1125   APP000005  application                    Citrix   \n1127   DSK000457     computer                   Desktop   \n1130   SBA000263  application  Server Based Application   \n1131   SBA000154  application  Server Based Application   \n1132   LAP000019     computer                    Laptop   \n\n     Service_Component_WBS_aff Incident_ID  Impact  Urgency  Priority  \\\n1125                 WBS000292   IM0001224       4        4         4   \n1127                 WBS000187   IM0001226       5        5         5   \n1130                 WBS000072   IM0001229       5        5         5   \n1131                 WBS000027   IM0001230       5        5         5   \n1132                 WBS000091   IM0001231       5        5         5   \n\n      KM_number  Count_Reassignments           Open_Time Reopen_Time  \\\n1125  KM0001060                  0.0 2013-10-01 07:33:21         NaT   \n1127  KM0001446                  2.0 2013-10-01 08:18:38         NaT   \n1130  KM0000644                 12.0 2013-10-01 08:36:09         NaT   \n1131  KM0001291                  1.0 2013-10-01 08:39:37         NaT   \n1132  KM0000315                  0.0 2013-10-01 08:40:00         NaT   \n\n           Resolved_Time          Close_Time  Handle_Time_Hours Closure_Code  \\\n1125 2013-10-01 08:36:09 2013-10-01 08:37:28           1.068611     Software   \n1127 2013-10-07 11:51:53 2013-10-07 11:52:00          45.556111     Hardware   \n1130 2013-10-07 16:55:08 2013-10-07 16:55:38          50.324722        Other   \n1131 2013-10-01 15:39:47 2013-10-01 15:39:51           7.003889        Other   \n1132 2013-10-02 11:30:13 2013-10-02 11:30:19           0.020278        Other   \n\n      Count_Related_Interactions Related_Interaction  Count_Related_Incidents  \\\n1125                         1.0           SD0001630                      NaN   \n1127                         1.0           SD0001635                      NaN   \n1130                         1.0           SD0001644                      NaN   \n1131                         1.0           SD0001640                      NaN   \n1132                         1.0           SD0001638                      NaN   \n\n      Count_Related_Changes Related_Change CI_Name_CBy  CI_Type_CBy  \\\n1125                    NaN            NaN   APP000005  application   \n1127                    NaN            NaN   DSK000457     computer   \n1130                    NaN            NaN        #N/B         #N/B   \n1131                    NaN            NaN   SBA000154  application   \n1132                    NaN            NaN   KYB000001     hardware   \n\n                CI_Subtype_CBy ServiceComp_WBS_CBy  \n1125                    Citrix           WBS000292  \n1127                   Desktop           WBS000187  \n1130                      #N/B                #N/B  \n1131  Server Based Application           WBS000027  \n1132                  Keyboard           WBS000091  "
     },
     "execution_count": 60,
     "metadata": {},
     "output_type": "execute_result"
    }
   ],
   "source": [
    "df.head()"
   ]
  },
  {
   "cell_type": "markdown",
   "metadata": {},
   "source": [
    "## END and OUTPUT"
   ]
  },
  {
   "cell_type": "code",
   "execution_count": 61,
   "metadata": {},
   "outputs": [],
   "source": [
    "with open(\"2.a.Detail_Incident.csv\",'w') as f:\n",
    "    df.to_csv(f, index=False)"
   ]
  },
  {
   "cell_type": "code",
   "execution_count": 62,
   "metadata": {},
   "outputs": [],
   "source": [
    "df.reset_index(drop=True, inplace=True)\n",
    "profile = ProfileReport(df, title=\"Profile of BPIC 2014 Detail_Incident Data after Secondary Cleaning\", html={'style': {'full_width': True}})"
   ]
  },
  {
   "cell_type": "code",
   "execution_count": 63,
   "metadata": {},
   "outputs": [],
   "source": [
    "profile.to_file(Path(str(\"2.b.Detail_Incident_Profile.html\")))"
   ]
  },
  {
   "cell_type": "code",
   "execution_count": null,
   "metadata": {},
   "outputs": [],
   "source": []
  }
 ]
}