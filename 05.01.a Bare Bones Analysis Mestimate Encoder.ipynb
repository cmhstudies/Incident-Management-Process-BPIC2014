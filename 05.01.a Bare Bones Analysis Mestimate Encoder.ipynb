{
 "nbformat": 4,
 "nbformat_minor": 2,
 "metadata": {
  "language_info": {
   "name": "python",
   "codemirror_mode": {
    "name": "ipython",
    "version": 3
   },
   "version": "3.7.6-final"
  },
  "orig_nbformat": 2,
  "file_extension": ".py",
  "mimetype": "text/x-python",
  "name": "python",
  "npconvert_exporter": "python",
  "pygments_lexer": "ipython3",
  "version": 3,
  "kernelspec": {
   "name": "python3",
   "display_name": "Python 3"
  }
 },
 "cells": [
  {
   "cell_type": "markdown",
   "metadata": {},
   "source": [
    "# 05.01.a Bare Bones Analysis with MEstimate Encoder\n",
    "\n",
    "Goal: identify the factors that most contribute to SLAFail\n",
    "\n",
    "Tuning Adjustments: Focus on finding the most predictive set of predictor variables\n",
    "\n",
    "\n",
    "Read Prepared Data  ->  Split Data  -> Develop Pipeline  ->  Evaluate  \n",
    "\n",
    "Split Data using sklearn.model_selection.train_test_split\n",
    "\n",
    "Pipeline includes:\n",
    "\n",
    "- Preprocessing variables\n",
    "    - sklearn.compose.make_column_transformer \n",
    "        - Scale numeric variables: sklearn.preprocessing.StandardScaler\n",
    "        - Encode categorical variables: category_encoders.MEstimateEncoder\n",
    "- Selecting features\n",
    "    - None\n",
    "- Instantiate model\n",
    "    - sklearn.linear_model.LogisticRegression\n",
    "- Fit the model using training data\n",
    "- Cross-validate the model with training data\n",
    "    - sklearn.model_selection.cross_val_score\n",
    "- Output performance measures\n",
    "\n",
    "Evaluate involves running the pipeline with the testing data and capturing metrics\n",
    "\n",
    "\n",
    "\n"
   ]
  },
  {
   "cell_type": "code",
   "execution_count": 21,
   "metadata": {},
   "outputs": [],
   "source": [
    "# Load libraries\n",
    "import pandas as pd\n",
    "import numpy as np\n",
    "import pickle\n",
    "\n",
    "# allow plots to appear in the notebook\n",
    "%matplotlib inline\n",
    "import matplotlib.pyplot as plt\n",
    "\n",
    "from sklearn.model_selection import train_test_split\n",
    "\n",
    "from sklearn.compose import make_column_transformer\n",
    "import category_encoders as ce\n",
    "from sklearn.preprocessing import StandardScaler\n",
    "\n",
    "from sklearn.linear_model import LogisticRegression\n",
    "\n",
    "from sklearn.pipeline import make_pipeline\n",
    "\n",
    "from sklearn.model_selection import cross_val_score\n",
    "\n",
    "from sklearn import metrics"
   ]
  },
  {
   "cell_type": "markdown",
   "metadata": {},
   "source": [
    "## Read Prepared Data"
   ]
  },
  {
   "cell_type": "code",
   "execution_count": 22,
   "metadata": {},
   "outputs": [
    {
     "name": "stdout",
     "output_type": "stream",
     "text": "df.shape: (35208, 12)\ndf.columns: Index(['CI_Name_aff', 'Service_Component_WBS_aff', 'Impact', 'Urgency',\n       'KM_number', 'Count_Related_Interactions', 'Count_Related_Incidents',\n       'Count_Related_Changes', 'SLAFail', 'Open_Time_HourOfDay',\n       'Open_Time_DayOfWeek', 'CI_TypeSubType_aff'],\n      dtype='object')\ndf.dtypes: \nCI_Name_aff                    object\nService_Component_WBS_aff      object\nImpact                         object\nUrgency                        object\nKM_number                      object\nCount_Related_Interactions    float64\nCount_Related_Incidents       float64\nCount_Related_Changes         float64\nSLAFail                         int64\nOpen_Time_HourOfDay             int64\nOpen_Time_DayOfWeek            object\nCI_TypeSubType_aff             object\ndtype: object\n"
    }
   ],
   "source": [
    "df = pd.read_csv(\"data/04.a.Detail_Incident_AtOpen.csv\")\n",
    "print(\"df.shape: \" + str(df.shape))\n",
    "print(\"df.columns: \" + str(df.columns))\n",
    "print(\"df.dtypes: \\n\" + str(df.dtypes))"
   ]
  },
  {
   "cell_type": "markdown",
   "metadata": {},
   "source": [
    "#### Set X and y"
   ]
  },
  {
   "cell_type": "code",
   "execution_count": 23,
   "metadata": {},
   "outputs": [
    {
     "data": {
      "text/plain": "(35208,)"
     },
     "execution_count": 23,
     "metadata": {},
     "output_type": "execute_result"
    }
   ],
   "source": [
    "y = df.SLAFail\n",
    "y.shape"
   ]
  },
  {
   "cell_type": "code",
   "execution_count": 24,
   "metadata": {},
   "outputs": [
    {
     "data": {
      "text/plain": "(35208, 11)"
     },
     "execution_count": 24,
     "metadata": {},
     "output_type": "execute_result"
    }
   ],
   "source": [
    "X = df.drop(['SLAFail'], axis='columns')\n",
    "X.shape"
   ]
  },
  {
   "cell_type": "markdown",
   "metadata": {},
   "source": [
    "Set `Open_Time_HourOfDay` for recognition as a Categorical variable"
   ]
  },
  {
   "cell_type": "code",
   "execution_count": 25,
   "metadata": {},
   "outputs": [
    {
     "data": {
      "text/plain": "CI_Name_aff                    object\nService_Component_WBS_aff      object\nImpact                         object\nUrgency                        object\nKM_number                      object\nCount_Related_Interactions    float64\nCount_Related_Incidents       float64\nCount_Related_Changes         float64\nOpen_Time_HourOfDay            object\nOpen_Time_DayOfWeek            object\nCI_TypeSubType_aff             object\ndtype: object"
     },
     "execution_count": 25,
     "metadata": {},
     "output_type": "execute_result"
    }
   ],
   "source": [
    "X.Open_Time_HourOfDay = X.Open_Time_HourOfDay.astype('object')\n",
    "X.dtypes"
   ]
  },
  {
   "cell_type": "markdown",
   "metadata": {},
   "source": [
    "Create a list of numeric variable column names"
   ]
  },
  {
   "cell_type": "code",
   "execution_count": 26,
   "metadata": {},
   "outputs": [
    {
     "data": {
      "text/plain": "Index(['Count_Related_Interactions', 'Count_Related_Incidents',\n       'Count_Related_Changes'],\n      dtype='object')"
     },
     "execution_count": 26,
     "metadata": {},
     "output_type": "execute_result"
    }
   ],
   "source": [
    "numericVars = X.select_dtypes(include=['float64']).columns\n",
    "numericVars"
   ]
  },
  {
   "cell_type": "markdown",
   "metadata": {},
   "source": [
    "Create a list of categorical variables"
   ]
  },
  {
   "cell_type": "code",
   "execution_count": 27,
   "metadata": {},
   "outputs": [
    {
     "data": {
      "text/plain": "Index(['CI_Name_aff', 'Service_Component_WBS_aff', 'Impact', 'Urgency',\n       'KM_number', 'Open_Time_HourOfDay', 'Open_Time_DayOfWeek',\n       'CI_TypeSubType_aff'],\n      dtype='object')"
     },
     "execution_count": 27,
     "metadata": {},
     "output_type": "execute_result"
    }
   ],
   "source": [
    "categoricalVars = X.select_dtypes(include=['object']).columns\n",
    "categoricalVars"
   ]
  },
  {
   "cell_type": "markdown",
   "metadata": {},
   "source": [
    "## Split Data\n",
    "\n",
    "Create Training and Testing Data Sets\n"
   ]
  },
  {
   "cell_type": "code",
   "execution_count": 28,
   "metadata": {},
   "outputs": [],
   "source": [
    "\n",
    "X_train, X_test, y_train, y_test = train_test_split(X, y, test_size=0.3, random_state=2020)\n"
   ]
  },
  {
   "cell_type": "code",
   "execution_count": 29,
   "metadata": {},
   "outputs": [
    {
     "name": "stdout",
     "output_type": "stream",
     "text": "(24645, 11)\nIndex(['CI_Name_aff', 'Service_Component_WBS_aff', 'Impact', 'Urgency',\n       'KM_number', 'Count_Related_Interactions', 'Count_Related_Incidents',\n       'Count_Related_Changes', 'Open_Time_HourOfDay', 'Open_Time_DayOfWeek',\n       'CI_TypeSubType_aff'],\n      dtype='object')\n"
    }
   ],
   "source": [
    "print(X_train.shape)\n",
    "print(X_train.columns)"
   ]
  },
  {
   "cell_type": "markdown",
   "metadata": {},
   "source": [
    "## Develop Pipeline\n"
   ]
  },
  {
   "cell_type": "code",
   "execution_count": 30,
   "metadata": {},
   "outputs": [],
   "source": [
    "# create dictionary to store information about the pipeline and results for later reporting and review\n",
    "PipeLineMetadata = { \"Name\" : \"Bare Bones with MEstimate Encoder\"}"
   ]
  },
  {
   "cell_type": "markdown",
   "metadata": {},
   "source": [
    "### Encode Variables\n",
    "\n",
    "Numeric and categorical variables require different treatment \n",
    "\n",
    "Set up column transformer for scaling numeric variables and encoding categorical variables\n",
    "\n"
   ]
  },
  {
   "cell_type": "code",
   "execution_count": 31,
   "metadata": {},
   "outputs": [],
   "source": [
    "column_trans = make_column_transformer(\n",
    "    (ce.MEstimateEncoder(), categoricalVars),\n",
    "    (StandardScaler(), numericVars),\n",
    "    remainder='passthrough')"
   ]
  },
  {
   "cell_type": "markdown",
   "metadata": {},
   "source": [
    "Take a peek at the column transformer results"
   ]
  },
  {
   "cell_type": "code",
   "execution_count": 32,
   "metadata": {},
   "outputs": [
    {
     "data": {
      "text/html": "<div>\n<style scoped>\n    .dataframe tbody tr th:only-of-type {\n        vertical-align: middle;\n    }\n\n    .dataframe tbody tr th {\n        vertical-align: top;\n    }\n\n    .dataframe thead th {\n        text-align: right;\n    }\n</style>\n<table border=\"1\" class=\"dataframe\">\n  <thead>\n    <tr style=\"text-align: right;\">\n      <th></th>\n      <th>CI_Name_aff</th>\n      <th>Service_Component_WBS_aff</th>\n      <th>Impact</th>\n      <th>Urgency</th>\n      <th>KM_number</th>\n      <th>Count_Related_Interactions</th>\n      <th>Count_Related_Incidents</th>\n      <th>Count_Related_Changes</th>\n      <th>Open_Time_HourOfDay</th>\n      <th>Open_Time_DayOfWeek</th>\n      <th>CI_TypeSubType_aff</th>\n    </tr>\n  </thead>\n  <tbody>\n    <tr>\n      <th>count</th>\n      <td>24645.000000</td>\n      <td>24645.000000</td>\n      <td>24645.000000</td>\n      <td>24645.000000</td>\n      <td>24645.000000</td>\n      <td>24645.000000</td>\n      <td>24645.000000</td>\n      <td>24645.000000</td>\n      <td>2.464500e+04</td>\n      <td>2.464500e+04</td>\n      <td>2.464500e+04</td>\n    </tr>\n    <tr>\n      <th>mean</th>\n      <td>0.293642</td>\n      <td>0.299537</td>\n      <td>0.300242</td>\n      <td>0.300249</td>\n      <td>0.297923</td>\n      <td>0.300221</td>\n      <td>0.300244</td>\n      <td>0.300117</td>\n      <td>-2.149281e-16</td>\n      <td>-1.561871e-15</td>\n      <td>1.298863e-15</td>\n    </tr>\n    <tr>\n      <th>std</th>\n      <td>0.177873</td>\n      <td>0.141412</td>\n      <td>0.034185</td>\n      <td>0.034505</td>\n      <td>0.208419</td>\n      <td>0.038272</td>\n      <td>0.075071</td>\n      <td>0.085922</td>\n      <td>1.000020e+00</td>\n      <td>1.000020e+00</td>\n      <td>1.000020e+00</td>\n    </tr>\n    <tr>\n      <th>min</th>\n      <td>0.018766</td>\n      <td>0.020018</td>\n      <td>0.261056</td>\n      <td>0.265514</td>\n      <td>0.006005</td>\n      <td>0.027297</td>\n      <td>0.244078</td>\n      <td>0.027297</td>\n      <td>-7.847195e-01</td>\n      <td>-7.808990e-02</td>\n      <td>-1.065131e-01</td>\n    </tr>\n    <tr>\n      <th>25%</th>\n      <td>0.127816</td>\n      <td>0.226772</td>\n      <td>0.287960</td>\n      <td>0.285793</td>\n      <td>0.101617</td>\n      <td>0.272031</td>\n      <td>0.260109</td>\n      <td>0.274758</td>\n      <td>-9.115287e-02</td>\n      <td>-7.808990e-02</td>\n      <td>-1.065131e-01</td>\n    </tr>\n    <tr>\n      <th>50%</th>\n      <td>0.251026</td>\n      <td>0.226772</td>\n      <td>0.287960</td>\n      <td>0.285793</td>\n      <td>0.278386</td>\n      <td>0.287285</td>\n      <td>0.260618</td>\n      <td>0.274758</td>\n      <td>-9.115287e-02</td>\n      <td>-7.808990e-02</td>\n      <td>-1.065131e-01</td>\n    </tr>\n    <tr>\n      <th>75%</th>\n      <td>0.441683</td>\n      <td>0.418751</td>\n      <td>0.287960</td>\n      <td>0.285793</td>\n      <td>0.470371</td>\n      <td>0.312303</td>\n      <td>0.312687</td>\n      <td>0.301969</td>\n      <td>-9.115287e-02</td>\n      <td>-7.808990e-02</td>\n      <td>-1.065131e-01</td>\n    </tr>\n    <tr>\n      <th>max</th>\n      <td>0.900016</td>\n      <td>0.930026</td>\n      <td>0.825066</td>\n      <td>0.660053</td>\n      <td>0.941689</td>\n      <td>0.710009</td>\n      <td>0.673725</td>\n      <td>0.825066</td>\n      <td>8.105615e+01</td>\n      <td>8.681520e+01</td>\n      <td>6.607034e+01</td>\n    </tr>\n  </tbody>\n</table>\n</div>",
      "text/plain": "        CI_Name_aff  Service_Component_WBS_aff        Impact       Urgency  \\\ncount  24645.000000               24645.000000  24645.000000  24645.000000   \nmean       0.293642                   0.299537      0.300242      0.300249   \nstd        0.177873                   0.141412      0.034185      0.034505   \nmin        0.018766                   0.020018      0.261056      0.265514   \n25%        0.127816                   0.226772      0.287960      0.285793   \n50%        0.251026                   0.226772      0.287960      0.285793   \n75%        0.441683                   0.418751      0.287960      0.285793   \nmax        0.900016                   0.930026      0.825066      0.660053   \n\n          KM_number  Count_Related_Interactions  Count_Related_Incidents  \\\ncount  24645.000000                24645.000000             24645.000000   \nmean       0.297923                    0.300221                 0.300244   \nstd        0.208419                    0.038272                 0.075071   \nmin        0.006005                    0.027297                 0.244078   \n25%        0.101617                    0.272031                 0.260109   \n50%        0.278386                    0.287285                 0.260618   \n75%        0.470371                    0.312303                 0.312687   \nmax        0.941689                    0.710009                 0.673725   \n\n       Count_Related_Changes  Open_Time_HourOfDay  Open_Time_DayOfWeek  \\\ncount           24645.000000         2.464500e+04         2.464500e+04   \nmean                0.300117        -2.149281e-16        -1.561871e-15   \nstd                 0.085922         1.000020e+00         1.000020e+00   \nmin                 0.027297        -7.847195e-01        -7.808990e-02   \n25%                 0.274758        -9.115287e-02        -7.808990e-02   \n50%                 0.274758        -9.115287e-02        -7.808990e-02   \n75%                 0.301969        -9.115287e-02        -7.808990e-02   \nmax                 0.825066         8.105615e+01         8.681520e+01   \n\n       CI_TypeSubType_aff  \ncount        2.464500e+04  \nmean         1.298863e-15  \nstd          1.000020e+00  \nmin         -1.065131e-01  \n25%         -1.065131e-01  \n50%         -1.065131e-01  \n75%         -1.065131e-01  \nmax          6.607034e+01  "
     },
     "execution_count": 32,
     "metadata": {},
     "output_type": "execute_result"
    }
   ],
   "source": [
    "pd.DataFrame(column_trans.fit_transform(X_train, y_train), columns=X_train.columns).describe()"
   ]
  },
  {
   "cell_type": "code",
   "execution_count": 33,
   "metadata": {},
   "outputs": [
    {
     "data": {
      "text/plain": "ColumnTransformer(n_jobs=None, remainder='passthrough', sparse_threshold=0.3,\n                  transformer_weights=None,\n                  transformers=[('mestimateencoder',\n                                 MEstimateEncoder(cols=None,\n                                                  drop_invariant=False,\n                                                  handle_missing='value',\n                                                  handle_unknown='value', m=1.0,\n                                                  random_state=None,\n                                                  randomized=False,\n                                                  return_df=True, sigma=0.05,\n                                                  verbose=0),\n                                 Index(['CI_Name_aff', 'Service_Component_WBS_aff', 'Impact', 'Urgency',\n       'KM_number', 'Open_Time_HourOfDay', 'Open_Time_DayOfWeek',\n       'CI_TypeSubType_aff'],\n      dtype='object')),\n                                ('standardscaler',\n                                 StandardScaler(copy=True, with_mean=True,\n                                                with_std=True),\n                                 Index(['Count_Related_Interactions', 'Count_Related_Incidents',\n       'Count_Related_Changes'],\n      dtype='object'))],\n                  verbose=False)"
     },
     "execution_count": 33,
     "metadata": {},
     "output_type": "execute_result"
    }
   ],
   "source": [
    "column_trans"
   ]
  },
  {
   "cell_type": "markdown",
   "metadata": {},
   "source": [
    "### Feature Selection\n",
    "\n"
   ]
  },
  {
   "cell_type": "code",
   "execution_count": 34,
   "metadata": {},
   "outputs": [],
   "source": [
    "## placeholder: none for Bare Bones"
   ]
  },
  {
   "cell_type": "markdown",
   "metadata": {},
   "source": [
    "### Specify Classifier (Logistic Regression)"
   ]
  },
  {
   "cell_type": "code",
   "execution_count": 35,
   "metadata": {},
   "outputs": [],
   "source": [
    "classifier = LogisticRegression(solver=\"lbfgs\")"
   ]
  },
  {
   "cell_type": "markdown",
   "metadata": {},
   "source": [
    "### Compose Pipeline"
   ]
  },
  {
   "cell_type": "code",
   "execution_count": 36,
   "metadata": {},
   "outputs": [],
   "source": [
    "pipe = make_pipeline(column_trans, \n",
    "                     classifier)"
   ]
  },
  {
   "cell_type": "markdown",
   "metadata": {},
   "source": [
    "### Fit the Model Using the Pipeline"
   ]
  },
  {
   "cell_type": "code",
   "execution_count": 37,
   "metadata": {},
   "outputs": [
    {
     "data": {
      "text/plain": "Pipeline(memory=None,\n         steps=[('columntransformer',\n                 ColumnTransformer(n_jobs=None, remainder='passthrough',\n                                   sparse_threshold=0.3,\n                                   transformer_weights=None,\n                                   transformers=[('mestimateencoder',\n                                                  MEstimateEncoder(cols=None,\n                                                                   drop_invariant=False,\n                                                                   handle_missing='value',\n                                                                   handle_unknown='value',\n                                                                   m=1.0,\n                                                                   random_state=None,\n                                                                   randomized=False,\n                                                                   return_df=True,\n                                                                   sigma=0.05,\n                                                                   verbos...\n                                                  Index(['Count_Related_Interactions', 'Count_Related_Incidents',\n       'Count_Related_Changes'],\n      dtype='object'))],\n                                   verbose=False)),\n                ('logisticregression',\n                 LogisticRegression(C=1.0, class_weight=None, dual=False,\n                                    fit_intercept=True, intercept_scaling=1,\n                                    l1_ratio=None, max_iter=100,\n                                    multi_class='auto', n_jobs=None,\n                                    penalty='l2', random_state=None,\n                                    solver='lbfgs', tol=0.0001, verbose=0,\n                                    warm_start=False))],\n         verbose=False)"
     },
     "execution_count": 37,
     "metadata": {},
     "output_type": "execute_result"
    }
   ],
   "source": [
    "pipe.fit(X_train,y_train)"
   ]
  },
  {
   "cell_type": "markdown",
   "metadata": {},
   "source": [
    "### Capture model  information"
   ]
  },
  {
   "cell_type": "code",
   "execution_count": 38,
   "metadata": {},
   "outputs": [
    {
     "data": {
      "text/plain": "{'Name': 'Bare Bones with MEstimate Encoder',\n 'Column Transforms': ['mestimateencoder', 'standardscaler'],\n 'Classifier': LogisticRegression(C=1.0, class_weight=None, dual=False, fit_intercept=True,\n                    intercept_scaling=1, l1_ratio=None, max_iter=100,\n                    multi_class='auto', n_jobs=None, penalty='l2',\n                    random_state=None, solver='lbfgs', tol=0.0001, verbose=0,\n                    warm_start=False)}"
     },
     "execution_count": 38,
     "metadata": {},
     "output_type": "execute_result"
    }
   ],
   "source": [
    "PipeLineMetadata['Column Transforms'] = list(pipe.named_steps.columntransformer.named_transformers_.keys())\n",
    "PipeLineMetadata['Classifier'] = pipe.named_steps.logisticregression\n",
    "PipeLineMetadata"
   ]
  },
  {
   "cell_type": "code",
   "execution_count": 39,
   "metadata": {},
   "outputs": [
    {
     "data": {
      "text/plain": "{'Name': 'Bare Bones with MEstimate Encoder',\n 'Column Transforms': ['mestimateencoder', 'standardscaler'],\n 'Classifier': LogisticRegression(C=1.0, class_weight=None, dual=False, fit_intercept=True,\n                    intercept_scaling=1, l1_ratio=None, max_iter=100,\n                    multi_class='auto', n_jobs=None, penalty='l2',\n                    random_state=None, solver='lbfgs', tol=0.0001, verbose=0,\n                    warm_start=False),\n 'Classifier - Intercept': -6.232629550822262,\n 'Classifier - Coefficients':                                    0\n CI_Name_aff                 3.836144\n Service_Component_WBS_aff  -1.941077\n Impact                      0.534125\n Urgency                     0.557586\n KM_number                   4.737794\n Count_Related_Interactions  4.476919\n Count_Related_Incidents     5.356005\n Count_Related_Changes      -0.505157\n Open_Time_HourOfDay         0.184350\n Open_Time_DayOfWeek        -0.033200\n CI_TypeSubType_aff         -0.003490}"
     },
     "execution_count": 39,
     "metadata": {},
     "output_type": "execute_result"
    }
   ],
   "source": [
    "PipeLineMetadata['Classifier - Intercept'] = pipe.named_steps.logisticregression.intercept_[0]\n",
    "PipeLineMetadata['Classifier - Coefficients'] = pd.DataFrame(pipe.named_steps.logisticregression.coef_, columns=X_train.columns).transpose()\n",
    "PipeLineMetadata"
   ]
  },
  {
   "cell_type": "markdown",
   "metadata": {},
   "source": [
    "## Cross-validate the Model with Training Data\n"
   ]
  },
  {
   "cell_type": "code",
   "execution_count": 40,
   "metadata": {},
   "outputs": [
    {
     "data": {
      "text/plain": "0.7268411442483262"
     },
     "execution_count": 40,
     "metadata": {},
     "output_type": "execute_result"
    }
   ],
   "source": [
    "PipeLineMetadata['Metrics - Cross Validation Accuracy'] = cross_val_score(pipe, X_train, y_train, cv=5, scoring=\"accuracy\").mean()\n",
    "PipeLineMetadata['Metrics - Cross Validation Accuracy']"
   ]
  },
  {
   "cell_type": "markdown",
   "metadata": {},
   "source": [
    "## Evaluate with Test Data"
   ]
  },
  {
   "cell_type": "markdown",
   "metadata": {},
   "source": [
    "Get predicted classification based on the model"
   ]
  },
  {
   "cell_type": "code",
   "execution_count": 41,
   "metadata": {},
   "outputs": [],
   "source": [
    "y_pred_class = pipe.predict(X_test)\n",
    "y_pred_prob = pipe.predict_proba(X_test)[:,1]"
   ]
  },
  {
   "cell_type": "code",
   "execution_count": 43,
   "metadata": {},
   "outputs": [
    {
     "data": {
      "text/plain": "0.6490218571228781"
     },
     "execution_count": 43,
     "metadata": {},
     "output_type": "execute_result"
    }
   ],
   "source": [
    "PipeLineMetadata['Metrics - F1 score'] = metrics.f1_score(y_test, y_pred_class, average='macro')\n",
    "PipeLineMetadata['Metrics - F1 score']"
   ]
  },
  {
   "cell_type": "markdown",
   "metadata": {},
   "source": [
    "Look at the resulting confusion matrix\n",
    "\n",
    "Save True Positive (TP), True Negative (TN), False Positive(FP), and False Negative (FN) values"
   ]
  },
  {
   "cell_type": "code",
   "execution_count": 44,
   "metadata": {},
   "outputs": [
    {
     "name": "stdout",
     "output_type": "stream",
     "text": "[[6506  939]\n [1855 1263]]\nTN: 6506 \t FP: 939 \nFN: 1855 \t TP: 1263 \n"
    }
   ],
   "source": [
    "confusion = metrics.confusion_matrix(y_test, y_pred_class)\n",
    "TP = confusion[1, 1]\n",
    "TN = confusion[0, 0]\n",
    "FP = confusion[0, 1]\n",
    "FN = confusion[1, 0]\n",
    "print(confusion)\n",
    "print(\"TN: %d \\t FP: %d \\nFN: %d \\t TP: %d \" % (TN, FP, FN, TP))"
   ]
  },
  {
   "cell_type": "markdown",
   "metadata": {},
   "source": [
    "Capture a few classification metrics:\n",
    "* Classification Accuracy: Overall, how often is the classifier correct?\n",
    "* Classification Error: Overall, how often is the classifier incorrect?\n",
    "* True Positive Rate  (Recall, Sensitivity): When the actual value is positive, how often is the prediction correct?\n",
    "* True Negative Rate (Specificity): When the actual value is negative, how often is the prediction correct?\n",
    "* False Positive Rate: When the actual value is negative, how often is the prediction incorrect?\n",
    "* Precision: When a positive value is predicted, how often is the prediction correct?\n"
   ]
  },
  {
   "cell_type": "code",
   "execution_count": 45,
   "metadata": {},
   "outputs": [],
   "source": [
    "PipeLineMetadata['Metrics - Confusion Matrix Classification Accuracy'] = metrics.accuracy_score(y_test,y_pred_class) \n",
    "PipeLineMetadata['Metrics - Confusion Matrix Classification Error'] = 1- metrics.accuracy_score(y_test,y_pred_class)\n",
    "PipeLineMetadata['Metrics - Confusion Matrix True Positive Rate'] = metrics.recall_score(y_test, y_pred_class) \n",
    "PipeLineMetadata['Metrics - Confusion Matrix True Negative Rate'] =  TN / float(TN + FP)\n",
    "PipeLineMetadata['Metrics - Confusion Matrix False Positive Rate'] =  FP / float(TN + FP)\n",
    "PipeLineMetadata['Metrics - Confusion Matrix Precision'] = metrics.precision_score(y_test,y_pred_class)"
   ]
  },
  {
   "cell_type": "code",
   "execution_count": 46,
   "metadata": {},
   "outputs": [
    {
     "data": {
      "text/plain": "{'Name': 'Bare Bones with MEstimate Encoder',\n 'Column Transforms': ['mestimateencoder', 'standardscaler'],\n 'Classifier': LogisticRegression(C=1.0, class_weight=None, dual=False, fit_intercept=True,\n                    intercept_scaling=1, l1_ratio=None, max_iter=100,\n                    multi_class='auto', n_jobs=None, penalty='l2',\n                    random_state=None, solver='lbfgs', tol=0.0001, verbose=0,\n                    warm_start=False),\n 'Classifier - Intercept': -6.232629550822262,\n 'Classifier - Coefficients':                                    0\n CI_Name_aff                 3.836144\n Service_Component_WBS_aff  -1.941077\n Impact                      0.534125\n Urgency                     0.557586\n KM_number                   4.737794\n Count_Related_Interactions  4.476919\n Count_Related_Incidents     5.356005\n Count_Related_Changes      -0.505157\n Open_Time_HourOfDay         0.184350\n Open_Time_DayOfWeek        -0.033200\n CI_TypeSubType_aff         -0.003490,\n 'Metrics - Cross Validation Accuracy': 0.7268411442483262,\n 'Metrics - F1 score': 0.6490218571228781,\n 'Metrics - Confusion Matrix Classification Accuracy': 0.7354918110385307,\n 'Metrics - Confusion Matrix Classification Error': 0.2645081889614693,\n 'Metrics - Confusion Matrix True Positive Rate': 0.4050673508659397,\n 'Metrics - Confusion Matrix True Negative Rate': 0.8738750839489591,\n 'Metrics - Confusion Matrix False Positive Rate': 0.12612491605104098,\n 'Metrics - Confusion Matrix Precision': 0.5735694822888283}"
     },
     "execution_count": 46,
     "metadata": {},
     "output_type": "execute_result"
    }
   ],
   "source": [
    "PipeLineMetadata\n"
   ]
  },
  {
   "cell_type": "markdown",
   "metadata": {},
   "source": [
    "Add some ROC curve information and AUC result\n"
   ]
  },
  {
   "cell_type": "code",
   "execution_count": 47,
   "metadata": {},
   "outputs": [],
   "source": [
    "fpr, tpr, thresholds = metrics.roc_curve(y_test, y_pred_prob)"
   ]
  },
  {
   "cell_type": "code",
   "execution_count": 48,
   "metadata": {},
   "outputs": [],
   "source": [
    "PipeLineMetadata['Metrics - ROC Curve fpr array'] = fpr\n",
    "PipeLineMetadata['Metrics - ROC Curve tpr array'] = tpr"
   ]
  },
  {
   "cell_type": "code",
   "execution_count": 49,
   "metadata": {},
   "outputs": [
    {
     "data": {
      "image/png": "[encoded data removed]",
      "image/svg+xml": "<?xml version=\"1.0\" encoding=\"utf-8\" standalone=\"no\"?>\n<!DOCTYPE svg PUBLIC \"-//W3C//DTD SVG 1.1//EN\"\n  \"http://www.w3.org/Graphics/SVG/1.1/DTD/svg11.dtd\">\n<!-- Created with matplotlib (https://matplotlib.org/) -->\n<svg height=\"277.314375pt\" version=\"1.1\" viewBox=\"0 0 393.732813 277.314375\" width=\"393.732813pt\" xmlns=\"http://www.w3.org/2000/svg\" xmlns:xlink=\"http://www.w3.org/1999/xlink\">\n <defs>\n  <style type=\"text/css\">\n*{stroke-linecap:butt;stroke-linejoin:round;}\n  </style>\n </defs>\n <g id=\"figure_1\">\n  <g id=\"patch_1\">\n   <path d=\"M 0 277.314375 \nL 393.732813 277.314375 \nL 393.732813 0 \nL 0 0 \nz\n\" style=\"fill:none;\"/>\n  </g>\n  <g id=\"axes_1\">\n   <g id=\"patch_2\">\n    <path d=\"M 43.78125 239.758125 \nL 378.58125 239.758125 \nL 378.58125 22.318125 \nL 43.78125 22.318125 \nz\n\" style=\"fill:#ffffff;\"/>\n   </g>\n   <g id=\"matplotlib.axis_1\">\n    <g id=\"xtick_1\">\n     <g id=\"line2d_1\">\n      <path clip-path=\"url(#pda255cff0d)\" d=\"M 43.78125 239.758125 \nL 43.78125 22.318125 \n\" style=\"fill:none;stroke:#b0b0b0;stroke-linecap:square;stroke-width:0.8;\"/>\n     </g>\n     <g id=\"line2d_2\">\n      <defs>\n       <path d=\"M 0 0 \nL 0 3.5 \n\" id=\"maa2e062877\" style=\"stroke:#000000;stroke-width:0.8;\"/>\n      </defs>\n      <g>\n       <use style=\"stroke:#000000;stroke-width:0.8;\" x=\"43.78125\" xlink:href=\"#maa2e062877\" y=\"239.758125\"/>\n      </g>\n     </g>\n     <g id=\"text_1\">\n      <!-- 0.0 -->\n      <defs>\n       <path d=\"M 31.78125 66.40625 \nQ 24.171875 66.40625 20.328125 58.90625 \nQ 16.5 51.421875 16.5 36.375 \nQ 16.5 21.390625 20.328125 13.890625 \nQ 24.171875 6.390625 31.78125 6.390625 \nQ 39.453125 6.390625 43.28125 13.890625 \nQ 47.125 21.390625 47.125 36.375 \nQ 47.125 51.421875 43.28125 58.90625 \nQ 39.453125 66.40625 31.78125 66.40625 \nz\nM 31.78125 74.21875 \nQ 44.046875 74.21875 50.515625 64.515625 \nQ 56.984375 54.828125 56.984375 36.375 \nQ 56.984375 17.96875 50.515625 8.265625 \nQ 44.046875 -1.421875 31.78125 -1.421875 \nQ 19.53125 -1.421875 13.0625 8.265625 \nQ 6.59375 17.96875 6.59375 36.375 \nQ 6.59375 54.828125 13.0625 64.515625 \nQ 19.53125 74.21875 31.78125 74.21875 \nz\n\" id=\"DejaVuSans-48\"/>\n       <path d=\"M 10.6875 12.40625 \nL 21 12.40625 \nL 21 0 \nL 10.6875 0 \nz\n\" id=\"DejaVuSans-46\"/>\n      </defs>\n      <g transform=\"translate(35.829688 254.356562)scale(0.1 -0.1)\">\n       <use xlink:href=\"#DejaVuSans-48\"/>\n       <use x=\"63.623047\" xlink:href=\"#DejaVuSans-46\"/>\n       <use x=\"95.410156\" xlink:href=\"#DejaVuSans-48\"/>\n      </g>\n     </g>\n    </g>\n    <g id=\"xtick_2\">\n     <g id=\"line2d_3\">\n      <path clip-path=\"url(#pda255cff0d)\" d=\"M 110.74125 239.758125 \nL 110.74125 22.318125 \n\" style=\"fill:none;stroke:#b0b0b0;stroke-linecap:square;stroke-width:0.8;\"/>\n     </g>\n     <g id=\"line2d_4\">\n      <g>\n       <use style=\"stroke:#000000;stroke-width:0.8;\" x=\"110.74125\" xlink:href=\"#maa2e062877\" y=\"239.758125\"/>\n      </g>\n     </g>\n     <g id=\"text_2\">\n      <!-- 0.2 -->\n      <defs>\n       <path d=\"M 19.1875 8.296875 \nL 53.609375 8.296875 \nL 53.609375 0 \nL 7.328125 0 \nL 7.328125 8.296875 \nQ 12.9375 14.109375 22.625 23.890625 \nQ 32.328125 33.6875 34.8125 36.53125 \nQ 39.546875 41.84375 41.421875 45.53125 \nQ 43.3125 49.21875 43.3125 52.78125 \nQ 43.3125 58.59375 39.234375 62.25 \nQ 35.15625 65.921875 28.609375 65.921875 \nQ 23.96875 65.921875 18.8125 64.3125 \nQ 13.671875 62.703125 7.8125 59.421875 \nL 7.8125 69.390625 \nQ 13.765625 71.78125 18.9375 73 \nQ 24.125 74.21875 28.421875 74.21875 \nQ 39.75 74.21875 46.484375 68.546875 \nQ 53.21875 62.890625 53.21875 53.421875 \nQ 53.21875 48.921875 51.53125 44.890625 \nQ 49.859375 40.875 45.40625 35.40625 \nQ 44.1875 33.984375 37.640625 27.21875 \nQ 31.109375 20.453125 19.1875 8.296875 \nz\n\" id=\"DejaVuSans-50\"/>\n      </defs>\n      <g transform=\"translate(102.789688 254.356562)scale(0.1 -0.1)\">\n       <use xlink:href=\"#DejaVuSans-48\"/>\n       <use x=\"63.623047\" xlink:href=\"#DejaVuSans-46\"/>\n       <use x=\"95.410156\" xlink:href=\"#DejaVuSans-50\"/>\n      </g>\n     </g>\n    </g>\n    <g id=\"xtick_3\">\n     <g id=\"line2d_5\">\n      <path clip-path=\"url(#pda255cff0d)\" d=\"M 177.70125 239.758125 \nL 177.70125 22.318125 \n\" style=\"fill:none;stroke:#b0b0b0;stroke-linecap:square;stroke-width:0.8;\"/>\n     </g>\n     <g id=\"line2d_6\">\n      <g>\n       <use style=\"stroke:#000000;stroke-width:0.8;\" x=\"177.70125\" xlink:href=\"#maa2e062877\" y=\"239.758125\"/>\n      </g>\n     </g>\n     <g id=\"text_3\">\n      <!-- 0.4 -->\n      <defs>\n       <path d=\"M 37.796875 64.3125 \nL 12.890625 25.390625 \nL 37.796875 25.390625 \nz\nM 35.203125 72.90625 \nL 47.609375 72.90625 \nL 47.609375 25.390625 \nL 58.015625 25.390625 \nL 58.015625 17.1875 \nL 47.609375 17.1875 \nL 47.609375 0 \nL 37.796875 0 \nL 37.796875 17.1875 \nL 4.890625 17.1875 \nL 4.890625 26.703125 \nz\n\" id=\"DejaVuSans-52\"/>\n      </defs>\n      <g transform=\"translate(169.749688 254.356562)scale(0.1 -0.1)\">\n       <use xlink:href=\"#DejaVuSans-48\"/>\n       <use x=\"63.623047\" xlink:href=\"#DejaVuSans-46\"/>\n       <use x=\"95.410156\" xlink:href=\"#DejaVuSans-52\"/>\n      </g>\n     </g>\n    </g>\n    <g id=\"xtick_4\">\n     <g id=\"line2d_7\">\n      <path clip-path=\"url(#pda255cff0d)\" d=\"M 244.66125 239.758125 \nL 244.66125 22.318125 \n\" style=\"fill:none;stroke:#b0b0b0;stroke-linecap:square;stroke-width:0.8;\"/>\n     </g>\n     <g id=\"line2d_8\">\n      <g>\n       <use style=\"stroke:#000000;stroke-width:0.8;\" x=\"244.66125\" xlink:href=\"#maa2e062877\" y=\"239.758125\"/>\n      </g>\n     </g>\n     <g id=\"text_4\">\n      <!-- 0.6 -->\n      <defs>\n       <path d=\"M 33.015625 40.375 \nQ 26.375 40.375 22.484375 35.828125 \nQ 18.609375 31.296875 18.609375 23.390625 \nQ 18.609375 15.53125 22.484375 10.953125 \nQ 26.375 6.390625 33.015625 6.390625 \nQ 39.65625 6.390625 43.53125 10.953125 \nQ 47.40625 15.53125 47.40625 23.390625 \nQ 47.40625 31.296875 43.53125 35.828125 \nQ 39.65625 40.375 33.015625 40.375 \nz\nM 52.59375 71.296875 \nL 52.59375 62.3125 \nQ 48.875 64.0625 45.09375 64.984375 \nQ 41.3125 65.921875 37.59375 65.921875 \nQ 27.828125 65.921875 22.671875 59.328125 \nQ 17.53125 52.734375 16.796875 39.40625 \nQ 19.671875 43.65625 24.015625 45.921875 \nQ 28.375 48.1875 33.59375 48.1875 \nQ 44.578125 48.1875 50.953125 41.515625 \nQ 57.328125 34.859375 57.328125 23.390625 \nQ 57.328125 12.15625 50.6875 5.359375 \nQ 44.046875 -1.421875 33.015625 -1.421875 \nQ 20.359375 -1.421875 13.671875 8.265625 \nQ 6.984375 17.96875 6.984375 36.375 \nQ 6.984375 53.65625 15.1875 63.9375 \nQ 23.390625 74.21875 37.203125 74.21875 \nQ 40.921875 74.21875 44.703125 73.484375 \nQ 48.484375 72.75 52.59375 71.296875 \nz\n\" id=\"DejaVuSans-54\"/>\n      </defs>\n      <g transform=\"translate(236.709688 254.356562)scale(0.1 -0.1)\">\n       <use xlink:href=\"#DejaVuSans-48\"/>\n       <use x=\"63.623047\" xlink:href=\"#DejaVuSans-46\"/>\n       <use x=\"95.410156\" xlink:href=\"#DejaVuSans-54\"/>\n      </g>\n     </g>\n    </g>\n    <g id=\"xtick_5\">\n     <g id=\"line2d_9\">\n      <path clip-path=\"url(#pda255cff0d)\" d=\"M 311.62125 239.758125 \nL 311.62125 22.318125 \n\" style=\"fill:none;stroke:#b0b0b0;stroke-linecap:square;stroke-width:0.8;\"/>\n     </g>\n     <g id=\"line2d_10\">\n      <g>\n       <use style=\"stroke:#000000;stroke-width:0.8;\" x=\"311.62125\" xlink:href=\"#maa2e062877\" y=\"239.758125\"/>\n      </g>\n     </g>\n     <g id=\"text_5\">\n      <!-- 0.8 -->\n      <defs>\n       <path d=\"M 31.78125 34.625 \nQ 24.75 34.625 20.71875 30.859375 \nQ 16.703125 27.09375 16.703125 20.515625 \nQ 16.703125 13.921875 20.71875 10.15625 \nQ 24.75 6.390625 31.78125 6.390625 \nQ 38.8125 6.390625 42.859375 10.171875 \nQ 46.921875 13.96875 46.921875 20.515625 \nQ 46.921875 27.09375 42.890625 30.859375 \nQ 38.875 34.625 31.78125 34.625 \nz\nM 21.921875 38.8125 \nQ 15.578125 40.375 12.03125 44.71875 \nQ 8.5 49.078125 8.5 55.328125 \nQ 8.5 64.0625 14.71875 69.140625 \nQ 20.953125 74.21875 31.78125 74.21875 \nQ 42.671875 74.21875 48.875 69.140625 \nQ 55.078125 64.0625 55.078125 55.328125 \nQ 55.078125 49.078125 51.53125 44.71875 \nQ 48 40.375 41.703125 38.8125 \nQ 48.828125 37.15625 52.796875 32.3125 \nQ 56.78125 27.484375 56.78125 20.515625 \nQ 56.78125 9.90625 50.3125 4.234375 \nQ 43.84375 -1.421875 31.78125 -1.421875 \nQ 19.734375 -1.421875 13.25 4.234375 \nQ 6.78125 9.90625 6.78125 20.515625 \nQ 6.78125 27.484375 10.78125 32.3125 \nQ 14.796875 37.15625 21.921875 38.8125 \nz\nM 18.3125 54.390625 \nQ 18.3125 48.734375 21.84375 45.5625 \nQ 25.390625 42.390625 31.78125 42.390625 \nQ 38.140625 42.390625 41.71875 45.5625 \nQ 45.3125 48.734375 45.3125 54.390625 \nQ 45.3125 60.0625 41.71875 63.234375 \nQ 38.140625 66.40625 31.78125 66.40625 \nQ 25.390625 66.40625 21.84375 63.234375 \nQ 18.3125 60.0625 18.3125 54.390625 \nz\n\" id=\"DejaVuSans-56\"/>\n      </defs>\n      <g transform=\"translate(303.669688 254.356562)scale(0.1 -0.1)\">\n       <use xlink:href=\"#DejaVuSans-48\"/>\n       <use x=\"63.623047\" xlink:href=\"#DejaVuSans-46\"/>\n       <use x=\"95.410156\" xlink:href=\"#DejaVuSans-56\"/>\n      </g>\n     </g>\n    </g>\n    <g id=\"xtick_6\">\n     <g id=\"line2d_11\">\n      <path clip-path=\"url(#pda255cff0d)\" d=\"M 378.58125 239.758125 \nL 378.58125 22.318125 \n\" style=\"fill:none;stroke:#b0b0b0;stroke-linecap:square;stroke-width:0.8;\"/>\n     </g>\n     <g id=\"line2d_12\">\n      <g>\n       <use style=\"stroke:#000000;stroke-width:0.8;\" x=\"378.58125\" xlink:href=\"#maa2e062877\" y=\"239.758125\"/>\n      </g>\n     </g>\n     <g id=\"text_6\">\n      <!-- 1.0 -->\n      <defs>\n       <path d=\"M 12.40625 8.296875 \nL 28.515625 8.296875 \nL 28.515625 63.921875 \nL 10.984375 60.40625 \nL 10.984375 69.390625 \nL 28.421875 72.90625 \nL 38.28125 72.90625 \nL 38.28125 8.296875 \nL 54.390625 8.296875 \nL 54.390625 0 \nL 12.40625 0 \nz\n\" id=\"DejaVuSans-49\"/>\n      </defs>\n      <g transform=\"translate(370.629687 254.356562)scale(0.1 -0.1)\">\n       <use xlink:href=\"#DejaVuSans-49\"/>\n       <use x=\"63.623047\" xlink:href=\"#DejaVuSans-46\"/>\n       <use x=\"95.410156\" xlink:href=\"#DejaVuSans-48\"/>\n      </g>\n     </g>\n    </g>\n    <g id=\"text_7\">\n     <!-- False Positive Rate (1 - Specificity) -->\n     <defs>\n      <path d=\"M 9.8125 72.90625 \nL 51.703125 72.90625 \nL 51.703125 64.59375 \nL 19.671875 64.59375 \nL 19.671875 43.109375 \nL 48.578125 43.109375 \nL 48.578125 34.8125 \nL 19.671875 34.8125 \nL 19.671875 0 \nL 9.8125 0 \nz\n\" id=\"DejaVuSans-70\"/>\n      <path d=\"M 34.28125 27.484375 \nQ 23.390625 27.484375 19.1875 25 \nQ 14.984375 22.515625 14.984375 16.5 \nQ 14.984375 11.71875 18.140625 8.90625 \nQ 21.296875 6.109375 26.703125 6.109375 \nQ 34.1875 6.109375 38.703125 11.40625 \nQ 43.21875 16.703125 43.21875 25.484375 \nL 43.21875 27.484375 \nz\nM 52.203125 31.203125 \nL 52.203125 0 \nL 43.21875 0 \nL 43.21875 8.296875 \nQ 40.140625 3.328125 35.546875 0.953125 \nQ 30.953125 -1.421875 24.3125 -1.421875 \nQ 15.921875 -1.421875 10.953125 3.296875 \nQ 6 8.015625 6 15.921875 \nQ 6 25.140625 12.171875 29.828125 \nQ 18.359375 34.515625 30.609375 34.515625 \nL 43.21875 34.515625 \nL 43.21875 35.40625 \nQ 43.21875 41.609375 39.140625 45 \nQ 35.0625 48.390625 27.6875 48.390625 \nQ 23 48.390625 18.546875 47.265625 \nQ 14.109375 46.140625 10.015625 43.890625 \nL 10.015625 52.203125 \nQ 14.9375 54.109375 19.578125 55.046875 \nQ 24.21875 56 28.609375 56 \nQ 40.484375 56 46.34375 49.84375 \nQ 52.203125 43.703125 52.203125 31.203125 \nz\n\" id=\"DejaVuSans-97\"/>\n      <path d=\"M 9.421875 75.984375 \nL 18.40625 75.984375 \nL 18.40625 0 \nL 9.421875 0 \nz\n\" id=\"DejaVuSans-108\"/>\n      <path d=\"M 44.28125 53.078125 \nL 44.28125 44.578125 \nQ 40.484375 46.53125 36.375 47.5 \nQ 32.28125 48.484375 27.875 48.484375 \nQ 21.1875 48.484375 17.84375 46.4375 \nQ 14.5 44.390625 14.5 40.28125 \nQ 14.5 37.15625 16.890625 35.375 \nQ 19.28125 33.59375 26.515625 31.984375 \nL 29.59375 31.296875 \nQ 39.15625 29.25 43.1875 25.515625 \nQ 47.21875 21.78125 47.21875 15.09375 \nQ 47.21875 7.46875 41.1875 3.015625 \nQ 35.15625 -1.421875 24.609375 -1.421875 \nQ 20.21875 -1.421875 15.453125 -0.5625 \nQ 10.6875 0.296875 5.421875 2 \nL 5.421875 11.28125 \nQ 10.40625 8.6875 15.234375 7.390625 \nQ 20.0625 6.109375 24.8125 6.109375 \nQ 31.15625 6.109375 34.5625 8.28125 \nQ 37.984375 10.453125 37.984375 14.40625 \nQ 37.984375 18.0625 35.515625 20.015625 \nQ 33.0625 21.96875 24.703125 23.78125 \nL 21.578125 24.515625 \nQ 13.234375 26.265625 9.515625 29.90625 \nQ 5.8125 33.546875 5.8125 39.890625 \nQ 5.8125 47.609375 11.28125 51.796875 \nQ 16.75 56 26.8125 56 \nQ 31.78125 56 36.171875 55.265625 \nQ 40.578125 54.546875 44.28125 53.078125 \nz\n\" id=\"DejaVuSans-115\"/>\n      <path d=\"M 56.203125 29.59375 \nL 56.203125 25.203125 \nL 14.890625 25.203125 \nQ 15.484375 15.921875 20.484375 11.0625 \nQ 25.484375 6.203125 34.421875 6.203125 \nQ 39.59375 6.203125 44.453125 7.46875 \nQ 49.3125 8.734375 54.109375 11.28125 \nL 54.109375 2.78125 \nQ 49.265625 0.734375 44.1875 -0.34375 \nQ 39.109375 -1.421875 33.890625 -1.421875 \nQ 20.796875 -1.421875 13.15625 6.1875 \nQ 5.515625 13.8125 5.515625 26.8125 \nQ 5.515625 40.234375 12.765625 48.109375 \nQ 20.015625 56 32.328125 56 \nQ 43.359375 56 49.78125 48.890625 \nQ 56.203125 41.796875 56.203125 29.59375 \nz\nM 47.21875 32.234375 \nQ 47.125 39.59375 43.09375 43.984375 \nQ 39.0625 48.390625 32.421875 48.390625 \nQ 24.90625 48.390625 20.390625 44.140625 \nQ 15.875 39.890625 15.1875 32.171875 \nz\n\" id=\"DejaVuSans-101\"/>\n      <path id=\"DejaVuSans-32\"/>\n      <path d=\"M 19.671875 64.796875 \nL 19.671875 37.40625 \nL 32.078125 37.40625 \nQ 38.96875 37.40625 42.71875 40.96875 \nQ 46.484375 44.53125 46.484375 51.125 \nQ 46.484375 57.671875 42.71875 61.234375 \nQ 38.96875 64.796875 32.078125 64.796875 \nz\nM 9.8125 72.90625 \nL 32.078125 72.90625 \nQ 44.34375 72.90625 50.609375 67.359375 \nQ 56.890625 61.8125 56.890625 51.125 \nQ 56.890625 40.328125 50.609375 34.8125 \nQ 44.34375 29.296875 32.078125 29.296875 \nL 19.671875 29.296875 \nL 19.671875 0 \nL 9.8125 0 \nz\n\" id=\"DejaVuSans-80\"/>\n      <path d=\"M 30.609375 48.390625 \nQ 23.390625 48.390625 19.1875 42.75 \nQ 14.984375 37.109375 14.984375 27.296875 \nQ 14.984375 17.484375 19.15625 11.84375 \nQ 23.34375 6.203125 30.609375 6.203125 \nQ 37.796875 6.203125 41.984375 11.859375 \nQ 46.1875 17.53125 46.1875 27.296875 \nQ 46.1875 37.015625 41.984375 42.703125 \nQ 37.796875 48.390625 30.609375 48.390625 \nz\nM 30.609375 56 \nQ 42.328125 56 49.015625 48.375 \nQ 55.71875 40.765625 55.71875 27.296875 \nQ 55.71875 13.875 49.015625 6.21875 \nQ 42.328125 -1.421875 30.609375 -1.421875 \nQ 18.84375 -1.421875 12.171875 6.21875 \nQ 5.515625 13.875 5.515625 27.296875 \nQ 5.515625 40.765625 12.171875 48.375 \nQ 18.84375 56 30.609375 56 \nz\n\" id=\"DejaVuSans-111\"/>\n      <path d=\"M 9.421875 54.6875 \nL 18.40625 54.6875 \nL 18.40625 0 \nL 9.421875 0 \nz\nM 9.421875 75.984375 \nL 18.40625 75.984375 \nL 18.40625 64.59375 \nL 9.421875 64.59375 \nz\n\" id=\"DejaVuSans-105\"/>\n      <path d=\"M 18.3125 70.21875 \nL 18.3125 54.6875 \nL 36.8125 54.6875 \nL 36.8125 47.703125 \nL 18.3125 47.703125 \nL 18.3125 18.015625 \nQ 18.3125 11.328125 20.140625 9.421875 \nQ 21.96875 7.515625 27.59375 7.515625 \nL 36.8125 7.515625 \nL 36.8125 0 \nL 27.59375 0 \nQ 17.1875 0 13.234375 3.875 \nQ 9.28125 7.765625 9.28125 18.015625 \nL 9.28125 47.703125 \nL 2.6875 47.703125 \nL 2.6875 54.6875 \nL 9.28125 54.6875 \nL 9.28125 70.21875 \nz\n\" id=\"DejaVuSans-116\"/>\n      <path d=\"M 2.984375 54.6875 \nL 12.5 54.6875 \nL 29.59375 8.796875 \nL 46.6875 54.6875 \nL 56.203125 54.6875 \nL 35.6875 0 \nL 23.484375 0 \nz\n\" id=\"DejaVuSans-118\"/>\n      <path d=\"M 44.390625 34.1875 \nQ 47.5625 33.109375 50.5625 29.59375 \nQ 53.5625 26.078125 56.59375 19.921875 \nL 66.609375 0 \nL 56 0 \nL 46.6875 18.703125 \nQ 43.0625 26.03125 39.671875 28.421875 \nQ 36.28125 30.8125 30.421875 30.8125 \nL 19.671875 30.8125 \nL 19.671875 0 \nL 9.8125 0 \nL 9.8125 72.90625 \nL 32.078125 72.90625 \nQ 44.578125 72.90625 50.734375 67.671875 \nQ 56.890625 62.453125 56.890625 51.90625 \nQ 56.890625 45.015625 53.6875 40.46875 \nQ 50.484375 35.9375 44.390625 34.1875 \nz\nM 19.671875 64.796875 \nL 19.671875 38.921875 \nL 32.078125 38.921875 \nQ 39.203125 38.921875 42.84375 42.21875 \nQ 46.484375 45.515625 46.484375 51.90625 \nQ 46.484375 58.296875 42.84375 61.546875 \nQ 39.203125 64.796875 32.078125 64.796875 \nz\n\" id=\"DejaVuSans-82\"/>\n      <path d=\"M 31 75.875 \nQ 24.46875 64.65625 21.28125 53.65625 \nQ 18.109375 42.671875 18.109375 31.390625 \nQ 18.109375 20.125 21.3125 9.0625 \nQ 24.515625 -2 31 -13.1875 \nL 23.1875 -13.1875 \nQ 15.875 -1.703125 12.234375 9.375 \nQ 8.59375 20.453125 8.59375 31.390625 \nQ 8.59375 42.28125 12.203125 53.3125 \nQ 15.828125 64.359375 23.1875 75.875 \nz\n\" id=\"DejaVuSans-40\"/>\n      <path d=\"M 4.890625 31.390625 \nL 31.203125 31.390625 \nL 31.203125 23.390625 \nL 4.890625 23.390625 \nz\n\" id=\"DejaVuSans-45\"/>\n      <path d=\"M 53.515625 70.515625 \nL 53.515625 60.890625 \nQ 47.90625 63.578125 42.921875 64.890625 \nQ 37.9375 66.21875 33.296875 66.21875 \nQ 25.25 66.21875 20.875 63.09375 \nQ 16.5 59.96875 16.5 54.203125 \nQ 16.5 49.359375 19.40625 46.890625 \nQ 22.3125 44.4375 30.421875 42.921875 \nL 36.375 41.703125 \nQ 47.40625 39.59375 52.65625 34.296875 \nQ 57.90625 29 57.90625 20.125 \nQ 57.90625 9.515625 50.796875 4.046875 \nQ 43.703125 -1.421875 29.984375 -1.421875 \nQ 24.8125 -1.421875 18.96875 -0.25 \nQ 13.140625 0.921875 6.890625 3.21875 \nL 6.890625 13.375 \nQ 12.890625 10.015625 18.65625 8.296875 \nQ 24.421875 6.59375 29.984375 6.59375 \nQ 38.421875 6.59375 43.015625 9.90625 \nQ 47.609375 13.234375 47.609375 19.390625 \nQ 47.609375 24.75 44.3125 27.78125 \nQ 41.015625 30.8125 33.5 32.328125 \nL 27.484375 33.5 \nQ 16.453125 35.6875 11.515625 40.375 \nQ 6.59375 45.0625 6.59375 53.421875 \nQ 6.59375 63.09375 13.40625 68.65625 \nQ 20.21875 74.21875 32.171875 74.21875 \nQ 37.3125 74.21875 42.625 73.28125 \nQ 47.953125 72.359375 53.515625 70.515625 \nz\n\" id=\"DejaVuSans-83\"/>\n      <path d=\"M 18.109375 8.203125 \nL 18.109375 -20.796875 \nL 9.078125 -20.796875 \nL 9.078125 54.6875 \nL 18.109375 54.6875 \nL 18.109375 46.390625 \nQ 20.953125 51.265625 25.265625 53.625 \nQ 29.59375 56 35.59375 56 \nQ 45.5625 56 51.78125 48.09375 \nQ 58.015625 40.1875 58.015625 27.296875 \nQ 58.015625 14.40625 51.78125 6.484375 \nQ 45.5625 -1.421875 35.59375 -1.421875 \nQ 29.59375 -1.421875 25.265625 0.953125 \nQ 20.953125 3.328125 18.109375 8.203125 \nz\nM 48.6875 27.296875 \nQ 48.6875 37.203125 44.609375 42.84375 \nQ 40.53125 48.484375 33.40625 48.484375 \nQ 26.265625 48.484375 22.1875 42.84375 \nQ 18.109375 37.203125 18.109375 27.296875 \nQ 18.109375 17.390625 22.1875 11.75 \nQ 26.265625 6.109375 33.40625 6.109375 \nQ 40.53125 6.109375 44.609375 11.75 \nQ 48.6875 17.390625 48.6875 27.296875 \nz\n\" id=\"DejaVuSans-112\"/>\n      <path d=\"M 48.78125 52.59375 \nL 48.78125 44.1875 \nQ 44.96875 46.296875 41.140625 47.34375 \nQ 37.3125 48.390625 33.40625 48.390625 \nQ 24.65625 48.390625 19.8125 42.84375 \nQ 14.984375 37.3125 14.984375 27.296875 \nQ 14.984375 17.28125 19.8125 11.734375 \nQ 24.65625 6.203125 33.40625 6.203125 \nQ 37.3125 6.203125 41.140625 7.25 \nQ 44.96875 8.296875 48.78125 10.40625 \nL 48.78125 2.09375 \nQ 45.015625 0.34375 40.984375 -0.53125 \nQ 36.96875 -1.421875 32.421875 -1.421875 \nQ 20.0625 -1.421875 12.78125 6.34375 \nQ 5.515625 14.109375 5.515625 27.296875 \nQ 5.515625 40.671875 12.859375 48.328125 \nQ 20.21875 56 33.015625 56 \nQ 37.15625 56 41.109375 55.140625 \nQ 45.0625 54.296875 48.78125 52.59375 \nz\n\" id=\"DejaVuSans-99\"/>\n      <path d=\"M 37.109375 75.984375 \nL 37.109375 68.5 \nL 28.515625 68.5 \nQ 23.6875 68.5 21.796875 66.546875 \nQ 19.921875 64.59375 19.921875 59.515625 \nL 19.921875 54.6875 \nL 34.71875 54.6875 \nL 34.71875 47.703125 \nL 19.921875 47.703125 \nL 19.921875 0 \nL 10.890625 0 \nL 10.890625 47.703125 \nL 2.296875 47.703125 \nL 2.296875 54.6875 \nL 10.890625 54.6875 \nL 10.890625 58.5 \nQ 10.890625 67.625 15.140625 71.796875 \nQ 19.390625 75.984375 28.609375 75.984375 \nz\n\" id=\"DejaVuSans-102\"/>\n      <path d=\"M 32.171875 -5.078125 \nQ 28.375 -14.84375 24.75 -17.8125 \nQ 21.140625 -20.796875 15.09375 -20.796875 \nL 7.90625 -20.796875 \nL 7.90625 -13.28125 \nL 13.1875 -13.28125 \nQ 16.890625 -13.28125 18.9375 -11.515625 \nQ 21 -9.765625 23.484375 -3.21875 \nL 25.09375 0.875 \nL 2.984375 54.6875 \nL 12.5 54.6875 \nL 29.59375 11.921875 \nL 46.6875 54.6875 \nL 56.203125 54.6875 \nz\n\" id=\"DejaVuSans-121\"/>\n      <path d=\"M 8.015625 75.875 \nL 15.828125 75.875 \nQ 23.140625 64.359375 26.78125 53.3125 \nQ 30.421875 42.28125 30.421875 31.390625 \nQ 30.421875 20.453125 26.78125 9.375 \nQ 23.140625 -1.703125 15.828125 -13.1875 \nL 8.015625 -13.1875 \nQ 14.5 -2 17.703125 9.0625 \nQ 20.90625 20.125 20.90625 31.390625 \nQ 20.90625 42.671875 17.703125 53.65625 \nQ 14.5 64.65625 8.015625 75.875 \nz\n\" id=\"DejaVuSans-41\"/>\n     </defs>\n     <g transform=\"translate(124.551563 268.034687)scale(0.1 -0.1)\">\n      <use xlink:href=\"#DejaVuSans-70\"/>\n      <use x=\"57.378906\" xlink:href=\"#DejaVuSans-97\"/>\n      <use x=\"118.658203\" xlink:href=\"#DejaVuSans-108\"/>\n      <use x=\"146.441406\" xlink:href=\"#DejaVuSans-115\"/>\n      <use x=\"198.541016\" xlink:href=\"#DejaVuSans-101\"/>\n      <use x=\"260.064453\" xlink:href=\"#DejaVuSans-32\"/>\n      <use x=\"291.851562\" xlink:href=\"#DejaVuSans-80\"/>\n      <use x=\"352.107422\" xlink:href=\"#DejaVuSans-111\"/>\n      <use x=\"413.289062\" xlink:href=\"#DejaVuSans-115\"/>\n      <use x=\"465.388672\" xlink:href=\"#DejaVuSans-105\"/>\n      <use x=\"493.171875\" xlink:href=\"#DejaVuSans-116\"/>\n      <use x=\"532.380859\" xlink:href=\"#DejaVuSans-105\"/>\n      <use x=\"560.164062\" xlink:href=\"#DejaVuSans-118\"/>\n      <use x=\"619.34375\" xlink:href=\"#DejaVuSans-101\"/>\n      <use x=\"680.867188\" xlink:href=\"#DejaVuSans-32\"/>\n      <use x=\"712.654297\" xlink:href=\"#DejaVuSans-82\"/>\n      <use x=\"782.105469\" xlink:href=\"#DejaVuSans-97\"/>\n      <use x=\"843.384766\" xlink:href=\"#DejaVuSans-116\"/>\n      <use x=\"882.59375\" xlink:href=\"#DejaVuSans-101\"/>\n      <use x=\"944.117188\" xlink:href=\"#DejaVuSans-32\"/>\n      <use x=\"975.904297\" xlink:href=\"#DejaVuSans-40\"/>\n      <use x=\"1014.917969\" xlink:href=\"#DejaVuSans-49\"/>\n      <use x=\"1078.541016\" xlink:href=\"#DejaVuSans-32\"/>\n      <use x=\"1110.328125\" xlink:href=\"#DejaVuSans-45\"/>\n      <use x=\"1146.412109\" xlink:href=\"#DejaVuSans-32\"/>\n      <use x=\"1178.199219\" xlink:href=\"#DejaVuSans-83\"/>\n      <use x=\"1241.675781\" xlink:href=\"#DejaVuSans-112\"/>\n      <use x=\"1305.152344\" xlink:href=\"#DejaVuSans-101\"/>\n      <use x=\"1366.675781\" xlink:href=\"#DejaVuSans-99\"/>\n      <use x=\"1421.65625\" xlink:href=\"#DejaVuSans-105\"/>\n      <use x=\"1449.439453\" xlink:href=\"#DejaVuSans-102\"/>\n      <use x=\"1484.644531\" xlink:href=\"#DejaVuSans-105\"/>\n      <use x=\"1512.427734\" xlink:href=\"#DejaVuSans-99\"/>\n      <use x=\"1567.408203\" xlink:href=\"#DejaVuSans-105\"/>\n      <use x=\"1595.191406\" xlink:href=\"#DejaVuSans-116\"/>\n      <use x=\"1634.400391\" xlink:href=\"#DejaVuSans-121\"/>\n      <use x=\"1693.580078\" xlink:href=\"#DejaVuSans-41\"/>\n     </g>\n    </g>\n   </g>\n   <g id=\"matplotlib.axis_2\">\n    <g id=\"ytick_1\">\n     <g id=\"line2d_13\">\n      <path clip-path=\"url(#pda255cff0d)\" d=\"M 43.78125 239.758125 \nL 378.58125 239.758125 \n\" style=\"fill:none;stroke:#b0b0b0;stroke-linecap:square;stroke-width:0.8;\"/>\n     </g>\n     <g id=\"line2d_14\">\n      <defs>\n       <path d=\"M 0 0 \nL -3.5 0 \n\" id=\"m95a9a66648\" style=\"stroke:#000000;stroke-width:0.8;\"/>\n      </defs>\n      <g>\n       <use style=\"stroke:#000000;stroke-width:0.8;\" x=\"43.78125\" xlink:href=\"#m95a9a66648\" y=\"239.758125\"/>\n      </g>\n     </g>\n     <g id=\"text_8\">\n      <!-- 0.0 -->\n      <g transform=\"translate(20.878125 243.557344)scale(0.1 -0.1)\">\n       <use xlink:href=\"#DejaVuSans-48\"/>\n       <use x=\"63.623047\" xlink:href=\"#DejaVuSans-46\"/>\n       <use x=\"95.410156\" xlink:href=\"#DejaVuSans-48\"/>\n      </g>\n     </g>\n    </g>\n    <g id=\"ytick_2\">\n     <g id=\"line2d_15\">\n      <path clip-path=\"url(#pda255cff0d)\" d=\"M 43.78125 196.270125 \nL 378.58125 196.270125 \n\" style=\"fill:none;stroke:#b0b0b0;stroke-linecap:square;stroke-width:0.8;\"/>\n     </g>\n     <g id=\"line2d_16\">\n      <g>\n       <use style=\"stroke:#000000;stroke-width:0.8;\" x=\"43.78125\" xlink:href=\"#m95a9a66648\" y=\"196.270125\"/>\n      </g>\n     </g>\n     <g id=\"text_9\">\n      <!-- 0.2 -->\n      <g transform=\"translate(20.878125 200.069344)scale(0.1 -0.1)\">\n       <use xlink:href=\"#DejaVuSans-48\"/>\n       <use x=\"63.623047\" xlink:href=\"#DejaVuSans-46\"/>\n       <use x=\"95.410156\" xlink:href=\"#DejaVuSans-50\"/>\n      </g>\n     </g>\n    </g>\n    <g id=\"ytick_3\">\n     <g id=\"line2d_17\">\n      <path clip-path=\"url(#pda255cff0d)\" d=\"M 43.78125 152.782125 \nL 378.58125 152.782125 \n\" style=\"fill:none;stroke:#b0b0b0;stroke-linecap:square;stroke-width:0.8;\"/>\n     </g>\n     <g id=\"line2d_18\">\n      <g>\n       <use style=\"stroke:#000000;stroke-width:0.8;\" x=\"43.78125\" xlink:href=\"#m95a9a66648\" y=\"152.782125\"/>\n      </g>\n     </g>\n     <g id=\"text_10\">\n      <!-- 0.4 -->\n      <g transform=\"translate(20.878125 156.581344)scale(0.1 -0.1)\">\n       <use xlink:href=\"#DejaVuSans-48\"/>\n       <use x=\"63.623047\" xlink:href=\"#DejaVuSans-46\"/>\n       <use x=\"95.410156\" xlink:href=\"#DejaVuSans-52\"/>\n      </g>\n     </g>\n    </g>\n    <g id=\"ytick_4\">\n     <g id=\"line2d_19\">\n      <path clip-path=\"url(#pda255cff0d)\" d=\"M 43.78125 109.294125 \nL 378.58125 109.294125 \n\" style=\"fill:none;stroke:#b0b0b0;stroke-linecap:square;stroke-width:0.8;\"/>\n     </g>\n     <g id=\"line2d_20\">\n      <g>\n       <use style=\"stroke:#000000;stroke-width:0.8;\" x=\"43.78125\" xlink:href=\"#m95a9a66648\" y=\"109.294125\"/>\n      </g>\n     </g>\n     <g id=\"text_11\">\n      <!-- 0.6 -->\n      <g transform=\"translate(20.878125 113.093344)scale(0.1 -0.1)\">\n       <use xlink:href=\"#DejaVuSans-48\"/>\n       <use x=\"63.623047\" xlink:href=\"#DejaVuSans-46\"/>\n       <use x=\"95.410156\" xlink:href=\"#DejaVuSans-54\"/>\n      </g>\n     </g>\n    </g>\n    <g id=\"ytick_5\">\n     <g id=\"line2d_21\">\n      <path clip-path=\"url(#pda255cff0d)\" d=\"M 43.78125 65.806125 \nL 378.58125 65.806125 \n\" style=\"fill:none;stroke:#b0b0b0;stroke-linecap:square;stroke-width:0.8;\"/>\n     </g>\n     <g id=\"line2d_22\">\n      <g>\n       <use style=\"stroke:#000000;stroke-width:0.8;\" x=\"43.78125\" xlink:href=\"#m95a9a66648\" y=\"65.806125\"/>\n      </g>\n     </g>\n     <g id=\"text_12\">\n      <!-- 0.8 -->\n      <g transform=\"translate(20.878125 69.605344)scale(0.1 -0.1)\">\n       <use xlink:href=\"#DejaVuSans-48\"/>\n       <use x=\"63.623047\" xlink:href=\"#DejaVuSans-46\"/>\n       <use x=\"95.410156\" xlink:href=\"#DejaVuSans-56\"/>\n      </g>\n     </g>\n    </g>\n    <g id=\"ytick_6\">\n     <g id=\"line2d_23\">\n      <path clip-path=\"url(#pda255cff0d)\" d=\"M 43.78125 22.318125 \nL 378.58125 22.318125 \n\" style=\"fill:none;stroke:#b0b0b0;stroke-linecap:square;stroke-width:0.8;\"/>\n     </g>\n     <g id=\"line2d_24\">\n      <g>\n       <use style=\"stroke:#000000;stroke-width:0.8;\" x=\"43.78125\" xlink:href=\"#m95a9a66648\" y=\"22.318125\"/>\n      </g>\n     </g>\n     <g id=\"text_13\">\n      <!-- 1.0 -->\n      <g transform=\"translate(20.878125 26.117344)scale(0.1 -0.1)\">\n       <use xlink:href=\"#DejaVuSans-49\"/>\n       <use x=\"63.623047\" xlink:href=\"#DejaVuSans-46\"/>\n       <use x=\"95.410156\" xlink:href=\"#DejaVuSans-48\"/>\n      </g>\n     </g>\n    </g>\n    <g id=\"text_14\">\n     <!-- True Positive Rate (Sensitivity) -->\n     <defs>\n      <path d=\"M -0.296875 72.90625 \nL 61.375 72.90625 \nL 61.375 64.59375 \nL 35.5 64.59375 \nL 35.5 0 \nL 25.59375 0 \nL 25.59375 64.59375 \nL -0.296875 64.59375 \nz\n\" id=\"DejaVuSans-84\"/>\n      <path d=\"M 41.109375 46.296875 \nQ 39.59375 47.171875 37.8125 47.578125 \nQ 36.03125 48 33.890625 48 \nQ 26.265625 48 22.1875 43.046875 \nQ 18.109375 38.09375 18.109375 28.8125 \nL 18.109375 0 \nL 9.078125 0 \nL 9.078125 54.6875 \nL 18.109375 54.6875 \nL 18.109375 46.1875 \nQ 20.953125 51.171875 25.484375 53.578125 \nQ 30.03125 56 36.53125 56 \nQ 37.453125 56 38.578125 55.875 \nQ 39.703125 55.765625 41.0625 55.515625 \nz\n\" id=\"DejaVuSans-114\"/>\n      <path d=\"M 8.5 21.578125 \nL 8.5 54.6875 \nL 17.484375 54.6875 \nL 17.484375 21.921875 \nQ 17.484375 14.15625 20.5 10.265625 \nQ 23.53125 6.390625 29.59375 6.390625 \nQ 36.859375 6.390625 41.078125 11.03125 \nQ 45.3125 15.671875 45.3125 23.6875 \nL 45.3125 54.6875 \nL 54.296875 54.6875 \nL 54.296875 0 \nL 45.3125 0 \nL 45.3125 8.40625 \nQ 42.046875 3.421875 37.71875 1 \nQ 33.40625 -1.421875 27.6875 -1.421875 \nQ 18.265625 -1.421875 13.375 4.4375 \nQ 8.5 10.296875 8.5 21.578125 \nz\nM 31.109375 56 \nz\n\" id=\"DejaVuSans-117\"/>\n      <path d=\"M 54.890625 33.015625 \nL 54.890625 0 \nL 45.90625 0 \nL 45.90625 32.71875 \nQ 45.90625 40.484375 42.875 44.328125 \nQ 39.84375 48.1875 33.796875 48.1875 \nQ 26.515625 48.1875 22.3125 43.546875 \nQ 18.109375 38.921875 18.109375 30.90625 \nL 18.109375 0 \nL 9.078125 0 \nL 9.078125 54.6875 \nL 18.109375 54.6875 \nL 18.109375 46.1875 \nQ 21.34375 51.125 25.703125 53.5625 \nQ 30.078125 56 35.796875 56 \nQ 45.21875 56 50.046875 50.171875 \nQ 54.890625 44.34375 54.890625 33.015625 \nz\n\" id=\"DejaVuSans-110\"/>\n     </defs>\n     <g transform=\"translate(14.798438 208.105312)rotate(-90)scale(0.1 -0.1)\">\n      <use xlink:href=\"#DejaVuSans-84\"/>\n      <use x=\"60.865234\" xlink:href=\"#DejaVuSans-114\"/>\n      <use x=\"101.978516\" xlink:href=\"#DejaVuSans-117\"/>\n      <use x=\"165.357422\" xlink:href=\"#DejaVuSans-101\"/>\n      <use x=\"226.880859\" xlink:href=\"#DejaVuSans-32\"/>\n      <use x=\"258.667969\" xlink:href=\"#DejaVuSans-80\"/>\n      <use x=\"318.923828\" xlink:href=\"#DejaVuSans-111\"/>\n      <use x=\"380.105469\" xlink:href=\"#DejaVuSans-115\"/>\n      <use x=\"432.205078\" xlink:href=\"#DejaVuSans-105\"/>\n      <use x=\"459.988281\" xlink:href=\"#DejaVuSans-116\"/>\n      <use x=\"499.197266\" xlink:href=\"#DejaVuSans-105\"/>\n      <use x=\"526.980469\" xlink:href=\"#DejaVuSans-118\"/>\n      <use x=\"586.160156\" xlink:href=\"#DejaVuSans-101\"/>\n      <use x=\"647.683594\" xlink:href=\"#DejaVuSans-32\"/>\n      <use x=\"679.470703\" xlink:href=\"#DejaVuSans-82\"/>\n      <use x=\"748.921875\" xlink:href=\"#DejaVuSans-97\"/>\n      <use x=\"810.201172\" xlink:href=\"#DejaVuSans-116\"/>\n      <use x=\"849.410156\" xlink:href=\"#DejaVuSans-101\"/>\n      <use x=\"910.933594\" xlink:href=\"#DejaVuSans-32\"/>\n      <use x=\"942.720703\" xlink:href=\"#DejaVuSans-40\"/>\n      <use x=\"981.734375\" xlink:href=\"#DejaVuSans-83\"/>\n      <use x=\"1045.210938\" xlink:href=\"#DejaVuSans-101\"/>\n      <use x=\"1106.734375\" xlink:href=\"#DejaVuSans-110\"/>\n      <use x=\"1170.113281\" xlink:href=\"#DejaVuSans-115\"/>\n      <use x=\"1222.212891\" xlink:href=\"#DejaVuSans-105\"/>\n      <use x=\"1249.996094\" xlink:href=\"#DejaVuSans-116\"/>\n      <use x=\"1289.205078\" xlink:href=\"#DejaVuSans-105\"/>\n      <use x=\"1316.988281\" xlink:href=\"#DejaVuSans-118\"/>\n      <use x=\"1376.167969\" xlink:href=\"#DejaVuSans-105\"/>\n      <use x=\"1403.951172\" xlink:href=\"#DejaVuSans-116\"/>\n      <use x=\"1443.160156\" xlink:href=\"#DejaVuSans-121\"/>\n      <use x=\"1502.339844\" xlink:href=\"#DejaVuSans-41\"/>\n     </g>\n    </g>\n   </g>\n   <g id=\"line2d_25\">\n    <path clip-path=\"url(#pda255cff0d)\" d=\"M 43.78125 239.758125 \nL 43.78125 238.572596 \nL 43.961129 238.502859 \nL 44.051069 237.735752 \nL 44.275918 237.31733 \nL 44.365857 236.1318 \nL 44.500766 236.062063 \nL 44.500766 235.852852 \nL 44.860525 235.783115 \nL 44.950464 234.597586 \nL 44.995434 234.597586 \nL 44.995434 234.179164 \nL 45.130343 234.179164 \nL 45.220283 233.691005 \nL 45.265253 233.691005 \nL 45.355192 232.505476 \nL 45.400162 232.366002 \nL 45.490102 231.529158 \nL 45.535071 231.529158 \nL 45.625011 230.831788 \nL 45.669981 230.831788 \nL 45.669981 230.622577 \nL 45.80489 230.622577 \nL 45.80489 230.55284 \nL 45.80489 230.06468 \nL 45.89483 230.06468 \nL 46.209618 229.506784 \nL 46.299558 228.66994 \nL 46.344527 228.66994 \nL 46.434467 228.251518 \nL 46.524406 228.181781 \nL 46.614346 227.623885 \nL 46.659316 227.623885 \nL 46.749255 227.344937 \nL 46.794225 227.344937 \nL 46.794225 226.57783 \nL 46.929134 226.57783 \nL 46.974104 226.368619 \nL 47.288893 226.298882 \nL 47.513742 226.229145 \nL 47.603681 225.671249 \nL 47.693621 225.601512 \nL 47.78356 225.322564 \nL 47.82853 225.322564 \nL 47.91847 225.043616 \nL 47.963439 225.043616 \nL 48.053379 224.764668 \nL 48.188288 224.694931 \nL 48.278228 223.439664 \nL 48.368167 223.439664 \nL 48.368167 223.160716 \nL 48.458107 223.160716 \nL 48.907805 221.835713 \nL 48.997744 221.138343 \nL 49.087684 221.138343 \nL 49.087684 220.719921 \nL 49.267563 220.719921 \nL 49.312533 220.231762 \nL 49.402472 220.231762 \nL 49.492412 219.394918 \nL 49.582351 219.394918 \nL 49.582351 219.325181 \nL 49.672291 218.976496 \nL 49.717261 218.976496 \nL 49.762231 218.697548 \nL 49.85217 218.697548 \nL 49.94211 218.348863 \nL 50.077019 218.348863 \nL 50.166959 217.72123 \nL 50.211928 217.72123 \nL 50.211928 217.442282 \nL 50.436777 217.372544 \nL 50.436777 217.163333 \nL 50.661626 217.163333 \nL 50.751566 216.187015 \nL 50.796535 216.187015 \nL 50.886475 214.931749 \nL 50.931445 214.931749 \nL 50.931445 214.792275 \nL 51.066354 214.792275 \nL 51.156294 213.885694 \nL 51.201263 213.885694 \nL 51.291203 212.979113 \nL 51.381143 212.979113 \nL 51.471082 212.212006 \nL 51.92078 212.142269 \nL 51.96575 211.584373 \nL 52.145629 211.514636 \nL 52.190599 211.305425 \nL 52.415447 211.235688 \nL 52.460417 210.747528 \nL 52.550357 210.747528 \nL 52.640296 210.329106 \nL 52.685266 210.329106 \nL 52.775206 209.980421 \nL 53.089994 209.352788 \nL 53.134964 209.213314 \nL 53.179934 209.213314 \nL 53.269873 209.213314 \nL 53.359813 208.794892 \nL 53.404783 208.794892 \nL 53.494722 208.585681 \nL 53.584662 208.37647 \nL 53.584662 208.027785 \nL 53.719571 208.027785 \nL 53.809511 207.748837 \nL 53.89945 207.748837 \nL 53.98939 206.911993 \nL 54.034359 206.911993 \nL 54.034359 206.702782 \nL 54.169269 206.702782 \nL 54.259208 206.144886 \nL 54.439087 205.726464 \nL 54.529027 205.447516 \nL 54.663936 205.377779 \nL 54.708906 205.168568 \nL 54.798846 205.168568 \nL 54.888785 204.680409 \nL 54.933755 204.680409 \nL 55.023695 204.052775 \nL 55.293513 203.634353 \nL 55.518362 203.564616 \nL 55.608302 203.285668 \nL 55.743211 203.285668 \nL 55.833151 202.936983 \nL 55.87812 202.936983 \nL 55.92309 202.727772 \nL 56.057999 202.727772 \nL 56.102969 202.518561 \nL 56.282848 202.448824 \nL 56.372788 201.751454 \nL 56.462728 201.751454 \nL 56.507697 200.844873 \nL 56.867456 200.775136 \nL 56.957395 200.356714 \nL 57.002365 200.356714 \nL 57.092304 199.729081 \nL 57.182244 199.729081 \nL 57.227214 199.240922 \nL 57.317153 199.240922 \nL 57.317153 199.101448 \nL 57.497032 199.101448 \nL 57.766851 198.613289 \nL 57.811821 198.264604 \nL 57.90176 198.264604 \nL 57.9917 197.846181 \nL 58.03667 197.846181 \nL 58.126609 197.427759 \nL 58.216549 197.427759 \nL 58.261519 197.148811 \nL 58.306488 197.148811 \nL 58.531337 197.079074 \nL 58.576307 196.800126 \nL 58.801156 196.730389 \nL 58.846126 196.521178 \nL 58.981035 196.451441 \nL 59.070975 195.893545 \nL 59.115944 195.893545 \nL 59.205884 195.196175 \nL 59.250854 195.196175 \nL 59.340793 194.219857 \nL 59.385763 194.219857 \nL 59.385763 193.801435 \nL 59.745521 193.731698 \nL 59.835461 193.104065 \nL 59.9254 193.034328 \nL 59.9254 192.964591 \nL 60.06031 192.964591 \nL 60.150249 192.406695 \nL 60.195219 192.406695 \nL 60.285159 192.127747 \nL 60.420068 192.127747 \nL 60.465038 191.779061 \nL 60.554977 191.779061 \nL 60.554977 191.639587 \nL 60.779826 191.56985 \nL 60.869766 191.151428 \nL 60.959705 191.081691 \nL 60.959705 191.011954 \nL 61.139584 191.011954 \nL 61.229524 190.17511 \nL 62.218859 188.501422 \nL 62.488678 187.664578 \nL 62.758496 187.664578 \nL 62.803466 187.38563 \nL 62.938376 187.315893 \nL 63.028315 187.036945 \nL 63.073285 187.036945 \nL 63.118255 186.68826 \nL 63.208194 186.68826 \nL 63.208194 186.479049 \nL 63.253164 186.479049 \nL 63.433043 186.409312 \nL 63.478013 186.269838 \nL 63.567952 186.269838 \nL 63.657892 185.99089 \nL 63.837771 185.99089 \nL 63.837771 185.921153 \nL 63.927711 185.432994 \nL 63.97268 185.432994 \nL 63.97268 185.363256 \nL 64.10759 185.154045 \nL 64.197529 184.665886 \nL 64.332439 184.596149 \nL 64.332439 184.456675 \nL 64.422378 184.456675 \nL 64.557288 184.10799 \nL 64.647227 183.550094 \nL 64.782137 183.480357 \nL 64.872076 183.340883 \nL 64.962016 183.271146 \nL 64.962016 183.201409 \nL 65.096925 183.201409 \nL 65.141895 182.852724 \nL 65.366744 182.782987 \nL 65.411713 182.573776 \nL 65.456683 182.573776 \nL 65.681532 182.225091 \nL 65.861411 182.225091 \nL 65.951351 181.457984 \nL 66.1762 181.31851 \nL 66.1762 181.109299 \nL 66.490988 181.039562 \nL 66.490988 180.900088 \nL 66.580928 180.900088 \nL 66.760807 180.830351 \nL 66.850746 180.411929 \nL 66.985656 180.411929 \nL 67.075595 179.575085 \nL 67.165535 179.575085 \nL 67.255474 179.017189 \nL 67.390384 178.947451 \nL 67.435353 178.807977 \nL 67.615233 178.807977 \nL 67.705172 178.180344 \nL 67.885051 178.180344 \nL 67.885051 178.04087 \nL 68.1099 178.04087 \nL 68.1099 177.831659 \nL 68.424689 177.761922 \nL 68.424689 177.692185 \nL 68.559598 177.692185 \nL 68.604568 177.204026 \nL 68.784447 176.994815 \nL 68.829417 176.506656 \nL 69.144205 176.436919 \nL 69.189175 176.227708 \nL 69.279114 176.227708 \nL 69.279114 176.157971 \nL 69.324084 175.530338 \nL 69.548933 175.530338 \nL 69.638873 174.972442 \nL 69.863721 174.972442 \nL 69.908691 174.693494 \nL 70.08857 174.623757 \nL 70.08857 174.55402 \nL 70.22348 174.55402 \nL 70.313419 173.996124 \nL 70.403359 173.926387 \nL 70.403359 173.85665 \nL 70.493298 173.85665 \nL 70.628208 173.507965 \nL 70.718147 173.298754 \nL 70.763117 173.298754 \nL 70.853057 173.089543 \nL 70.898026 173.089543 \nL 70.987966 172.601383 \nL 71.122875 172.392172 \nL 71.572573 172.322435 \nL 71.572573 172.043487 \nL 71.797422 171.97375 \nL 71.797422 171.904013 \nL 72.15718 171.834276 \nL 72.24712 171.555328 \nL 72.471969 171.485591 \nL 72.516938 171.136906 \nL 72.561908 171.136906 \nL 72.786757 171.067169 \nL 72.876697 170.788221 \nL 72.921666 170.788221 \nL 73.101546 170.648747 \nL 73.146515 170.648747 \nL 73.191485 170.439536 \nL 73.326394 170.369799 \nL 73.416334 169.811903 \nL 73.596213 169.811903 \nL 73.686153 169.463218 \nL 73.911002 169.463218 \nL 74.000941 169.114533 \nL 74.585548 169.044796 \nL 74.810397 168.835585 \nL 74.945306 168.765848 \nL 75.035246 168.417163 \nL 75.125186 168.347426 \nL 75.215125 168.068478 \nL 75.439974 167.998741 \nL 75.439974 167.859267 \nL 75.574883 167.859267 \nL 75.619853 167.161897 \nL 75.709793 167.161897 \nL 75.799732 166.882949 \nL 75.934642 166.813212 \nL 76.024581 166.255316 \nL 76.069551 166.255316 \nL 76.069551 166.185578 \nL 76.114521 166.115841 \nL 76.20446 165.418471 \nL 76.2944 165.418471 \nL 76.384339 165.000049 \nL 76.519249 164.930312 \nL 76.519249 164.790838 \nL 76.564218 164.790838 \nL 76.699128 164.721101 \nL 76.699128 164.51189 \nL 77.193795 164.232942 \nL 77.283735 163.81452 \nL 77.328705 163.81452 \nL 77.418644 163.465835 \nL 77.463614 163.465835 \nL 77.508584 162.768465 \nL 77.733433 162.698728 \nL 77.823372 162.350043 \nL 78.497919 161.373725 \nL 78.677798 161.303988 \nL 79.037556 160.885566 \nL 79.127496 160.815829 \nL 79.217435 160.397407 \nL 79.262405 160.397407 \nL 79.487254 159.769773 \nL 79.577194 159.769773 \nL 79.577194 159.630299 \nL 79.847012 159.560562 \nL 79.891982 159.421088 \nL 79.981922 159.421088 \nL 80.071861 158.863192 \nL 80.476589 158.793455 \nL 80.566529 158.584244 \nL 80.656468 158.584244 \nL 80.656468 158.514507 \nL 80.656468 158.165822 \nL 80.836347 158.165822 \nL 80.836347 157.886874 \nL 80.926287 157.886874 \nL 80.971257 157.817137 \nL 81.061196 157.259241 \nL 81.286045 157.189504 \nL 81.286045 157.119767 \nL 81.600834 156.631608 \nL 81.600834 156.282923 \nL 81.735743 156.282923 \nL 81.825683 156.073712 \nL 82.095501 156.073712 \nL 82.185441 155.794764 \nL 82.500229 155.725027 \nL 82.545199 155.446079 \nL 82.590169 155.446079 \nL 83.444595 154.678972 \nL 83.534534 154.469761 \nL 83.624474 154.400024 \nL 83.714413 154.330287 \nL 83.894292 154.26055 \nL 83.894292 153.981602 \nL 84.074171 153.981602 \nL 84.074171 153.842128 \nL 84.209081 153.842128 \nL 84.43393 153.423706 \nL 84.658779 153.423706 \nL 84.658779 153.353968 \nL 84.703748 153.214494 \nL 84.838658 153.214494 \nL 84.928597 152.796072 \nL 85.198416 152.726335 \nL 85.288355 152.517124 \nL 85.468235 152.447387 \nL 85.513204 152.168439 \nL 85.558174 152.168439 \nL 85.603144 152.098702 \nL 85.693083 151.819754 \nL 85.783023 151.750017 \nL 85.783023 151.68028 \nL 86.052842 151.610543 \nL 86.142781 151.261858 \nL 86.232721 151.192121 \nL 86.277691 151.052647 \nL 86.4126 150.98291 \nL 86.4126 150.843436 \nL 86.682419 150.773699 \nL 86.682419 150.703962 \nL 86.907267 150.703962 \nL 86.952237 150.494751 \nL 87.042177 150.494751 \nL 87.132116 150.215803 \nL 87.267026 150.215803 \nL 87.311995 149.657907 \nL 87.401935 149.657907 \nL 87.401935 149.58817 \nL 87.851633 148.960537 \nL 87.941572 148.960537 \nL 88.031512 148.263167 \nL 88.211391 148.19343 \nL 88.39127 147.914482 \nL 88.39127 147.635534 \nL 88.616119 147.565797 \nL 88.795998 147.426323 \nL 89.110787 147.147375 \nL 89.155756 146.659215 \nL 89.380605 146.450004 \nL 89.380605 146.101319 \nL 89.470545 146.101319 \nL 89.785333 146.031582 \nL 89.875273 145.334212 \nL 89.965212 145.334212 \nL 89.965212 145.194738 \nL 90.055152 145.194738 \nL 90.639759 144.846053 \nL 90.729699 144.427631 \nL 90.774668 144.427631 \nL 90.864608 143.869735 \nL 90.999517 143.799998 \nL 90.999517 143.730261 \nL 91.224366 143.660524 \nL 91.224366 143.590787 \nL 91.404245 143.590787 \nL 91.449215 143.172365 \nL 91.584124 143.102628 \nL 91.584124 143.032891 \nL 91.629094 143.032891 \nL 91.808973 142.963154 \nL 91.853943 142.684206 \nL 91.898913 142.684206 \nL 92.033822 142.544732 \nL 92.123762 142.544732 \nL 92.213701 142.265784 \nL 92.258671 142.265784 \nL 92.348611 141.917099 \nL 92.48352 141.847362 \nL 92.52849 141.498677 \nL 92.753339 141.42894 \nL 92.843278 141.149992 \nL 93.023157 141.149992 \nL 93.023157 140.871044 \nL 93.158067 140.871044 \nL 93.158067 140.522358 \nL 93.203036 140.522358 \nL 93.607764 140.313147 \nL 93.607764 140.24341 \nL 93.877583 140.034199 \nL 93.967523 139.685514 \nL 94.147402 139.615777 \nL 94.687039 139.476303 \nL 94.687039 139.336829 \nL 94.821948 139.336829 \nL 94.911888 138.918407 \nL 95.046797 138.84867 \nL 95.136737 138.709196 \nL 95.406556 138.639459 \nL 95.406556 138.499985 \nL 95.451525 138.499985 \nL 95.586435 138.430248 \nL 95.586435 138.360511 \nL 95.766314 138.360511 \nL 95.766314 137.942089 \nL 95.946193 137.872352 \nL 96.036132 137.523667 \nL 96.126072 137.45393 \nL 96.44086 137.174982 \nL 96.48583 136.965771 \nL 96.800619 136.617086 \nL 96.890558 136.128927 \nL 96.980498 136.128927 \nL 97.070437 135.780242 \nL 97.115407 135.780242 \nL 97.430196 135.36182 \nL 97.565105 135.36182 \nL 97.565105 135.222346 \nL 97.700014 135.222346 \nL 97.744984 134.943398 \nL 97.789954 134.943398 \nL 97.924863 134.734187 \nL 98.149712 134.66445 \nL 98.194682 134.246028 \nL 98.374561 134.246028 \nL 98.374561 134.106553 \nL 98.419531 134.106553 \nL 98.59941 133.688131 \nL 98.734319 133.688131 \nL 98.824259 133.339446 \nL 98.959168 133.269709 \nL 98.959168 133.130235 \nL 99.184017 133.060498 \nL 99.273957 132.711813 \nL 99.318926 132.642076 \nL 99.408866 132.363128 \nL 99.633715 132.293391 \nL 99.678685 132.08418 \nL 99.858564 132.014443 \nL 99.903533 131.805232 \nL 100.62305 130.410492 \nL 100.757959 130.340755 \nL 100.847899 130.201281 \nL 100.937838 130.201281 \nL 101.027778 129.852596 \nL 101.072748 129.852596 \nL 101.072748 129.155226 \nL 101.207657 129.155226 \nL 101.207657 129.015752 \nL 101.252627 129.015752 \nL 102.017113 127.830222 \nL 102.107053 127.481537 \nL 102.241962 127.481537 \nL 102.241962 127.342063 \nL 102.421841 127.272326 \nL 102.511781 127.132852 \nL 102.55675 127.132852 \nL 102.60172 126.923641 \nL 102.736629 126.853904 \nL 102.826569 126.71443 \nL 102.961478 126.644693 \nL 103.051418 126.365745 \nL 103.141357 126.296008 \nL 103.141357 126.226271 \nL 103.276267 126.226271 \nL 103.276267 126.086797 \nL 103.366206 126.086797 \nL 103.456146 126.01706 \nL 103.501116 125.528901 \nL 103.815904 125.528901 \nL 103.815904 125.389427 \nL 103.905844 125.389427 \nL 104.175662 125.040742 \nL 104.310572 125.040742 \nL 104.940149 124.343372 \nL 104.940149 124.064424 \nL 105.254937 123.994687 \nL 105.344877 123.646002 \nL 105.389846 123.646002 \nL 105.389846 123.576265 \nL 105.524756 123.436791 \nL 105.614695 122.809158 \nL 105.974453 122.739421 \nL 106.064393 122.390736 \nL 106.289242 122.042051 \nL 106.73894 121.972314 \nL 106.73894 121.763103 \nL 106.918819 121.763103 \nL 106.918819 121.693366 \nL 107.143668 121.414417 \nL 107.278577 121.34468 \nL 107.278577 121.135469 \nL 107.458456 121.065732 \nL 107.548396 120.786784 \nL 107.593366 120.717047 \nL 107.908154 120.64731 \nL 107.908154 120.577573 \nL 108.043063 120.577573 \nL 108.088033 120.298625 \nL 108.177973 120.298625 \nL 108.267912 119.94994 \nL 108.312882 119.94994 \nL 108.312882 119.880203 \nL 108.897489 119.322307 \nL 108.897489 119.25257 \nL 109.257247 119.182833 \nL 109.257247 119.113096 \nL 109.347187 119.113096 \nL 109.527066 119.113096 \nL 109.527066 119.043359 \nL 109.527066 118.903885 \nL 109.617006 118.903885 \nL 110.066703 118.834148 \nL 110.066703 118.694674 \nL 110.336522 118.694674 \nL 110.336522 118.624937 \nL 110.336522 118.485463 \nL 110.516401 118.485463 \nL 110.516401 118.276252 \nL 111.101008 117.927567 \nL 111.145978 117.509145 \nL 111.370827 117.439408 \nL 111.370827 117.369671 \nL 111.460766 117.369671 \nL 111.775555 117.299934 \nL 111.775555 117.16046 \nL 111.865494 117.16046 \nL 111.955434 117.090723 \nL 111.955434 117.020986 \nL 112.135313 116.951249 \nL 112.225253 116.811775 \nL 112.270222 116.811775 \nL 112.270222 116.532827 \nL 112.360162 116.532827 \nL 112.899799 116.532827 \nL 112.899799 116.393353 \nL 112.989739 116.393353 \nL 113.079678 116.393353 \nL 113.124648 116.044668 \nL 113.214588 116.044668 \nL 113.259558 115.835457 \nL 113.304527 115.835457 \nL 113.574346 115.835457 \nL 113.574346 115.626246 \nL 113.799195 115.626246 \nL 113.844165 115.486772 \nL 113.979074 115.486772 \nL 114.069014 114.998612 \nL 114.203923 114.998612 \nL 114.293862 114.58019 \nL 114.428772 114.510453 \nL 114.518711 113.813083 \nL 114.563681 113.813083 \nL 114.653621 113.673609 \nL 114.78853 113.673609 \nL 114.78853 113.464398 \nL 115.013379 113.394661 \nL 115.013379 113.255187 \nL 115.058349 113.255187 \nL 115.238228 113.18545 \nL 115.283198 112.767028 \nL 115.418107 112.697291 \nL 115.508047 112.348606 \nL 115.642956 112.348606 \nL 115.687926 112.139395 \nL 115.912775 112.069658 \nL 116.047684 111.930184 \nL 116.182593 111.860447 \nL 116.182593 111.79071 \nL 116.317503 111.79071 \nL 116.362472 111.372288 \nL 116.632291 111.302551 \nL 116.677261 111.163077 \nL 116.992049 111.09334 \nL 117.037019 110.953866 \nL 117.216898 110.884129 \nL 117.216898 110.814392 \nL 117.261868 110.814392 \nL 117.351807 110.814392 \nL 117.351807 110.674918 \nL 117.576656 110.674918 \nL 117.666596 110.326233 \nL 117.711566 110.326233 \nL 117.711566 110.186759 \nL 117.801505 110.186759 \nL 118.206233 110.117022 \nL 118.251203 109.838074 \nL 118.431082 109.838074 \nL 118.431082 109.6986 \nL 118.565991 109.6986 \nL 118.565991 109.628863 \nL 118.610961 109.559126 \nL 118.700901 109.280178 \nL 118.83581 109.280178 \nL 118.88078 109.070967 \nL 118.970719 109.070967 \nL 119.060659 108.582807 \nL 119.195568 108.51307 \nL 119.285508 108.094648 \nL 119.780175 108.024911 \nL 119.780175 107.955174 \nL 119.870115 107.955174 \nL 120.139934 107.885437 \nL 120.139934 107.8157 \nL 120.724541 107.745963 \nL 120.724541 107.676226 \nL 121.084299 107.606489 \nL 121.129269 107.327541 \nL 121.444057 107.257804 \nL 121.533997 106.699908 \nL 121.668906 106.630171 \nL 121.668906 106.42096 \nL 121.893755 106.351223 \nL 121.893755 106.281486 \nL 122.028664 106.281486 \nL 122.028664 106.072275 \nL 122.298483 106.002538 \nL 122.388423 105.653853 \nL 123.287818 104.886746 \nL 123.287818 104.747272 \nL 123.377758 104.747272 \nL 123.872425 104.677535 \nL 123.962365 104.398587 \nL 124.007335 104.398587 \nL 124.097274 103.980165 \nL 124.636912 103.910428 \nL 124.636912 103.840691 \nL 124.681881 103.840691 \nL 124.86176 103.840691 \nL 124.90673 103.561743 \nL 125.176549 103.492006 \nL 125.266488 103.073584 \nL 125.356428 103.073584 \nL 125.401398 102.794636 \nL 125.446368 102.794636 \nL 125.581277 102.794636 \nL 125.671216 102.515688 \nL 125.986005 102.445951 \nL 126.075944 102.236739 \nL 126.165884 102.236739 \nL 126.255824 101.957791 \nL 126.300793 101.957791 \nL 126.300793 101.609106 \nL 126.345763 101.609106 \nL 126.615582 101.539369 \nL 126.615582 101.399895 \nL 126.660552 101.399895 \nL 126.795461 101.399895 \nL 126.795461 101.190684 \nL 126.840431 101.190684 \nL 127.335098 101.120947 \nL 127.470008 100.981473 \nL 127.604917 100.911736 \nL 127.604917 100.841999 \nL 127.694856 100.841999 \nL 127.874736 100.772262 \nL 127.874736 100.702525 \nL 128.009645 100.702525 \nL 128.099584 100.284103 \nL 128.414373 100.284103 \nL 128.414373 100.074892 \nL 128.504312 100.074892 \nL 128.549282 100.074892 \nL 128.549282 100.005155 \nL 128.729161 99.586733 \nL 128.729161 99.516996 \nL 129.04395 99.447259 \nL 129.223829 99.168311 \nL 129.628557 99.098574 \nL 129.628557 99.028837 \nL 129.718496 99.028837 \nL 129.853406 99.028837 \nL 129.853406 98.889363 \nL 130.438013 98.819626 \nL 130.527952 98.540678 \nL 131.382378 98.470941 \nL 131.427348 98.331467 \nL 131.472318 98.331467 \nL 131.697167 97.982782 \nL 131.922016 97.913045 \nL 132.011955 97.773571 \nL 132.551593 97.773571 \nL 132.596562 97.56436 \nL 132.821411 97.494623 \nL 133.1362 97.076201 \nL 133.450988 97.006464 \nL 133.450988 96.86699 \nL 133.765777 96.797253 \nL 133.765777 96.657779 \nL 134.080565 96.657779 \nL 134.215474 96.378831 \nL 134.395353 96.309094 \nL 134.440323 95.960409 \nL 134.665172 95.890672 \nL 134.710142 95.751197 \nL 134.934991 95.751197 \nL 135.294749 95.193301 \nL 136.059235 95.123564 \nL 136.104205 94.914353 \nL 136.149175 94.914353 \nL 136.239114 94.844616 \nL 136.553903 94.774879 \nL 136.553903 94.705142 \nL 136.598873 94.705142 \nL 136.778752 94.705142 \nL 136.778752 94.495931 \nL 137.273419 94.426194 \nL 137.363359 94.077509 \nL 137.408329 94.077509 \nL 137.408329 94.007772 \nL 137.678147 93.58935 \nL 138.082875 93.519613 \nL 138.082875 93.449876 \nL 138.172815 93.449876 \nL 138.622513 93.101191 \nL 138.982271 93.031454 \nL 138.982271 92.961717 \nL 139.07221 92.961717 \nL 139.16215 92.89198 \nL 139.566878 92.822243 \nL 139.566878 92.752506 \nL 139.836697 92.682769 \nL 139.881666 92.334084 \nL 139.971606 92.334084 \nL 139.971606 92.19461 \nL 140.286394 92.124873 \nL 140.376334 91.776188 \nL 140.736092 91.706451 \nL 140.826032 91.566977 \nL 140.871002 91.566977 \nL 140.960941 91.357766 \nL 141.27573 91.288029 \nL 141.500578 91.009081 \nL 141.725427 90.939344 \nL 141.815367 90.590659 \nL 141.860337 90.590659 \nL 141.950276 90.311711 \nL 141.995246 90.311711 \nL 141.995246 90.172237 \nL 142.130155 90.172237 \nL 142.265065 90.032763 \nL 142.444944 89.963026 \nL 142.444944 89.893289 \nL 142.534883 89.893289 \nL 142.669793 89.823552 \nL 142.669793 89.544604 \nL 142.894642 89.474867 \nL 143.29937 88.986707 \nL 143.479249 88.91697 \nL 143.524218 88.777496 \nL 143.928946 88.707759 \nL 143.928946 88.638022 \nL 144.198765 88.568285 \nL 144.333674 88.498548 \nL 144.738402 88.498548 \nL 144.783372 88.289337 \nL 145.053191 88.2196 \nL 145.053191 88.149863 \nL 145.32301 88.080126 \nL 145.412949 87.731441 \nL 145.547858 87.661704 \nL 145.547858 87.591967 \nL 145.592828 87.591967 \nL 145.862647 87.52223 \nL 145.952586 87.173545 \nL 146.312345 87.103808 \nL 146.357314 86.894597 \nL 146.447254 86.894597 \nL 146.447254 86.685386 \nL 146.582163 86.685386 \nL 146.672103 86.057753 \nL 146.717073 86.057753 \nL 146.717073 85.918279 \nL 146.851982 85.848542 \nL 147.121801 85.848542 \nL 147.121801 85.569594 \nL 147.25671 85.569594 \nL 147.25671 85.43012 \nL 147.391619 85.43012 \nL 147.481559 85.081435 \nL 147.526529 85.081435 \nL 147.616468 84.73275 \nL 147.706408 84.663013 \nL 147.796347 84.523539 \nL 147.841317 84.523539 \nL 147.886287 84.314328 \nL 148.066166 84.244591 \nL 148.066166 84.174854 \nL 148.291015 84.174854 \nL 148.380954 83.826169 \nL 148.695743 83.756432 \nL 148.695743 83.616958 \nL 148.740713 83.616958 \nL 148.875622 83.407747 \nL 148.965562 83.198536 \nL 149.415259 83.128799 \nL 149.415259 83.059061 \nL 149.775018 82.989324 \nL 149.999867 82.989324 \nL 149.999867 82.780113 \nL 150.179746 82.780113 \nL 150.179746 82.710376 \nL 150.494534 82.501165 \nL 151.34896 82.431428 \nL 151.843627 81.943269 \nL 151.843627 81.803795 \nL 151.888597 81.803795 \nL 152.158416 81.734058 \nL 152.248355 81.524847 \nL 152.563144 81.45511 \nL 152.608114 81.385373 \nL 152.967872 81.315636 \nL 152.967872 81.106425 \nL 153.147751 81.106425 \nL 153.192721 80.897214 \nL 153.237691 80.897214 \nL 153.597449 80.827477 \nL 153.642419 80.75774 \nL 154.047147 80.688003 \nL 154.137086 80.478792 \nL 154.271995 80.409055 \nL 154.271995 80.339318 \nL 154.406905 80.339318 \nL 154.496844 80.199844 \nL 154.901572 80.199844 \nL 155.216361 79.781422 \nL 155.35127 79.711685 \nL 155.666059 79.363 \nL 156.025817 79.293263 \nL 156.025817 79.223526 \nL 156.385575 79.153789 \nL 156.520484 79.014315 \nL 156.700363 79.014315 \nL 156.700363 78.874841 \nL 156.790303 78.874841 \nL 156.880243 78.805104 \nL 157.150061 78.735367 \nL 157.41988 78.316945 \nL 158.139396 78.247208 \nL 158.229336 78.107734 \nL 158.589094 78.037997 \nL 158.589094 77.96826 \nL 158.813943 77.96826 \nL 158.813943 77.828786 \nL 158.948852 77.828786 \nL 158.948852 77.619575 \nL 159.038792 77.619575 \nL 159.668369 77.131416 \nL 159.668369 76.922205 \nL 159.983157 76.852468 \nL 159.983157 76.782731 \nL 160.118067 76.782731 \nL 160.118067 76.503782 \nL 160.163036 76.503782 \nL 160.252976 76.503782 \nL 160.252976 76.434045 \nL 160.657704 76.155097 \nL 160.747644 76.08536 \nL 160.972492 75.876149 \nL 160.972492 75.806412 \nL 161.37722 75.736675 \nL 161.961828 75.318253 \nL 162.186676 75.318253 \nL 162.276616 74.760357 \nL 162.411525 74.69062 \nL 162.411525 74.620883 \nL 162.816253 74.551146 \nL 163.041102 74.411672 \nL 163.041102 74.202461 \nL 163.670679 74.132724 \nL 163.715649 73.853776 \nL 164.255286 73.784039 \nL 164.345226 73.574828 \nL 164.660014 73.574828 \nL 164.660014 73.29588 \nL 164.884863 73.226143 \nL 165.199652 72.737984 \nL 165.379531 72.668247 \nL 165.46947 72.528773 \nL 165.694319 72.459036 \nL 165.784259 72.319562 \nL 166.099047 72.319562 \nL 166.188987 72.040614 \nL 166.278926 71.970877 \nL 166.413836 71.761666 \nL 166.908503 71.691929 \nL 166.908503 71.622192 \nL 166.998443 71.622192 \nL 167.358201 71.622192 \nL 167.358201 71.482718 \nL 168.077717 71.412981 \nL 168.122687 71.20377 \nL 168.572385 71.134033 \nL 168.662325 70.855085 \nL 169.201962 70.785348 \nL 169.201962 70.715611 \nL 169.291901 70.715611 \nL 169.60669 70.645874 \nL 169.696629 70.227451 \nL 170.056388 70.157714 \nL 170.056388 69.878766 \nL 170.281237 69.809029 \nL 170.955783 69.390607 \nL 170.955783 69.111659 \nL 171.045723 69.111659 \nL 171.090693 69.041922 \nL 171.58536 68.972185 \nL 171.63033 68.832711 \nL 171.810209 68.832711 \nL 171.855179 68.553763 \nL 172.080028 68.484026 \nL 172.124997 68.344552 \nL 172.439786 68.274815 \nL 172.844514 68.135341 \nL 172.844514 67.995867 \nL 173.114333 67.995867 \nL 173.114333 67.92613 \nL 173.204272 67.856393 \nL 173.204272 67.577445 \nL 173.249242 67.577445 \nL 173.923789 67.159023 \nL 173.968758 66.880075 \nL 174.238577 66.810338 \nL 174.238577 66.670864 \nL 174.418456 66.670864 \nL 174.418456 66.601127 \nL 174.643305 66.53139 \nL 175.137973 66.461653 \nL 175.317852 66.112968 \nL 175.542701 66.043231 \nL 175.542701 65.903757 \nL 175.902459 65.903757 \nL 175.902459 65.764283 \nL 175.947429 65.764283 \nL 176.217247 65.694546 \nL 176.307187 65.555072 \nL 176.442096 65.485335 \nL 176.532036 65.345861 \nL 176.577006 65.345861 \nL 176.577006 65.276124 \nL 176.846824 64.927439 \nL 177.026703 64.857702 \nL 177.071673 64.718228 \nL 177.476401 64.648491 \nL 177.521371 64.509017 \nL 177.881129 64.43928 \nL 178.510706 64.230069 \nL 178.600646 64.230069 \nL 178.690585 63.811646 \nL 178.960404 63.741909 \nL 179.050343 63.602435 \nL 179.500041 63.532698 \nL 179.500041 63.462961 \nL 179.67992 63.462961 \nL 179.67992 63.184013 \nL 180.714225 63.114276 \nL 180.759195 62.905065 \nL 180.804165 62.905065 \nL 180.849134 62.835328 \nL 180.939074 62.416906 \nL 181.118953 62.347169 \nL 181.118953 62.207695 \nL 181.7935 62.137958 \nL 181.83847 61.998484 \nL 182.063319 61.928747 \nL 182.063319 61.85901 \nL 182.108288 61.85901 \nL 182.378107 61.789273 \nL 182.378107 61.719536 \nL 183.052654 61.649799 \nL 183.142593 61.370851 \nL 183.322472 61.301114 \nL 183.322472 61.231377 \nL 183.952049 61.16164 \nL 183.952049 61.022166 \nL 184.176898 60.952429 \nL 184.176898 60.812955 \nL 184.446717 60.743218 \nL 184.536656 60.603744 \nL 184.716535 60.534007 \nL 184.761505 60.394533 \nL 185.076294 60.324796 \nL 185.076294 60.185322 \nL 185.525991 60.115585 \nL 185.525991 60.045848 \nL 185.615931 60.045848 \nL 186.155568 59.976111 \nL 186.245508 59.836637 \nL 187.279813 59.7669 \nL 187.324783 59.627426 \nL 187.369752 59.627426 \nL 187.684541 59.557689 \nL 187.77448 59.418215 \nL 188.179208 59.418215 \nL 188.269148 59.209004 \nL 189.033634 59.139267 \nL 189.033634 59.06953 \nL 189.123574 59.06953 \nL 189.573271 58.999793 \nL 189.618241 58.930056 \nL 189.753151 58.930056 \nL 189.79812 58.581371 \nL 190.652546 58.511634 \nL 190.742486 58.232686 \nL 190.832425 58.232686 \nL 190.832425 58.093212 \nL 190.922365 58.093212 \nL 191.596912 58.023475 \nL 191.641881 57.884001 \nL 191.86673 57.814264 \nL 191.86673 57.744527 \nL 191.9117 57.744527 \nL 192.181519 57.744527 \nL 192.271458 57.465578 \nL 192.316428 57.465578 \nL 192.316428 57.326104 \nL 193.035944 57.256367 \nL 193.035944 57.18663 \nL 193.395703 57.116893 \nL 193.620552 56.698471 \nL 194.474977 56.628734 \nL 194.474977 56.558997 \nL 194.789766 56.48926 \nL 195.284433 56.210312 \nL 195.329403 56.001101 \nL 195.599222 56.001101 \nL 196.093889 55.582679 \nL 196.228799 55.512942 \nL 196.273768 55.373468 \nL 196.453648 55.373468 \nL 196.498617 55.164257 \nL 196.948315 55.164257 \nL 196.948315 55.024783 \nL 197.128194 54.955046 \nL 197.128194 54.745835 \nL 197.712801 54.676098 \nL 197.712801 54.606361 \nL 198.117529 54.536624 \nL 198.252439 54.466887 \nL 198.612197 54.39715 \nL 198.612197 54.327413 \nL 198.657167 54.327413 \nL 199.376683 53.839254 \nL 199.781411 53.769517 \nL 199.781411 53.69978 \nL 200.186139 53.630043 \nL 200.276079 53.351095 \nL 200.545897 53.281358 \nL 200.545897 53.211621 \nL 201.400323 53.141884 \nL 201.445293 52.932673 \nL 201.939961 52.862936 \nL 201.939961 52.793199 \nL 202.479598 52.723462 \nL 202.569537 52.583988 \nL 202.794386 52.514251 \nL 202.839356 52.235303 \nL 203.064205 52.165566 \nL 203.154145 51.886618 \nL 203.693782 51.816881 \nL 204.548208 51.537933 \nL 204.773057 51.537933 \nL 204.818026 51.189248 \nL 205.132815 51.119511 \nL 205.132815 51.049773 \nL 205.447603 51.049773 \nL 205.537543 50.770825 \nL 205.762392 50.770825 \nL 205.762392 50.631351 \nL 205.852331 50.631351 \nL 207.111485 50.143192 \nL 207.111485 50.003718 \nL 207.471243 49.933981 \nL 207.471243 49.864244 \nL 207.561183 49.864244 \nL 207.875971 49.655033 \nL 208.280699 49.585296 \nL 208.280699 49.515559 \nL 208.370639 49.515559 \nL 208.730397 49.166874 \nL 208.730397 49.0274 \nL 208.955246 49.0274 \nL 208.955246 48.887926 \nL 209.135125 48.818189 \nL 209.135125 48.748452 \nL 209.315004 48.748452 \nL 209.449914 48.608978 \nL 209.629793 48.539241 \nL 209.719732 48.399767 \nL 209.899611 48.33003 \nL 209.899611 48.190556 \nL 209.989551 48.190556 \nL 210.304339 48.120819 \nL 210.304339 48.051082 \nL 210.394279 48.051082 \nL 210.754037 47.981345 \nL 210.933916 47.841871 \nL 211.428584 47.772134 \nL 211.428584 47.702397 \nL 211.743372 47.63266 \nL 211.743372 47.493186 \nL 211.833312 47.493186 \nL 212.10313 47.423449 \nL 212.10313 47.283975 \nL 212.507858 47.214238 \nL 212.597798 46.93529 \nL 212.687738 46.93529 \nL 212.732707 46.726079 \nL 213.362284 46.656342 \nL 213.497194 46.516868 \nL 214.26168 46.447131 \nL 214.666408 46.23792 \nL 215.385924 46.168183 \nL 215.610773 46.098446 \nL 216.690048 46.028709 \nL 216.690048 45.958972 \nL 216.735018 45.958972 \nL 217.364595 45.889235 \nL 217.454534 45.680024 \nL 218.129081 44.633968 \nL 218.713688 44.633968 \nL 218.713688 44.564231 \nL 219.118416 44.35502 \nL 219.568114 44.285283 \nL 219.568114 44.215546 \nL 219.613083 44.215546 \nL 219.747993 44.215546 \nL 219.747993 44.145809 \nL 219.927872 43.936598 \nL 220.512479 43.866861 \nL 220.602419 43.727387 \nL 221.007147 43.727387 \nL 221.007147 43.518176 \nL 221.097086 43.518176 \nL 222.446179 43.448439 \nL 222.446179 43.378702 \nL 222.850907 43.308965 \nL 222.850907 43.239228 \nL 223.750303 43.169491 \nL 223.750303 43.030017 \nL 223.795273 43.030017 \nL 224.110061 42.96028 \nL 225.234306 42.890543 \nL 225.279276 42.751069 \nL 225.863883 42.681332 \nL 225.908852 42.541858 \nL 226.628369 42.472121 \nL 226.763278 42.26291 \nL 227.212976 42.193173 \nL 227.212976 42.123436 \nL 228.5171 42.053699 \nL 228.562069 41.705014 \nL 229.236616 41.635277 \nL 229.326556 41.495803 \nL 230.091042 41.426066 \nL 230.091042 41.356329 \nL 230.136012 41.356329 \nL 230.36086 41.286592 \nL 230.40583 41.007644 \nL 231.664984 40.937907 \nL 231.664984 40.798433 \nL 231.799893 40.798433 \nL 231.799893 40.658959 \nL 231.844863 40.658959 \nL 232.159652 40.658959 \nL 232.159652 40.519485 \nL 233.193957 40.449748 \nL 233.193957 40.380011 \nL 233.238926 40.380011 \nL 234.228261 40.310274 \nL 234.228261 40.240537 \nL 234.318201 40.240537 \nL 234.677959 40.1708 \nL 234.767899 40.031326 \nL 235.622325 39.961589 \nL 235.667294 39.752378 \nL 235.892143 39.682641 \nL 235.892143 39.612904 \nL 236.206932 39.543167 \nL 236.206932 39.47343 \nL 236.251901 39.47343 \nL 237.061357 39.403693 \nL 237.196267 39.264219 \nL 237.825844 39.194482 \nL 237.915783 39.055008 \nL 238.230572 38.985271 \nL 238.230572 38.915534 \nL 238.320511 38.915534 \nL 238.6353 38.845797 \nL 238.6353 38.77606 \nL 239.174937 38.706323 \nL 239.219907 38.497112 \nL 239.264877 38.497112 \nL 240.793849 38.497112 \nL 240.883789 38.218163 \nL 241.108638 38.148426 \nL 241.108638 38.078689 \nL 242.772519 38.008952 \nL 242.772519 37.939215 \nL 242.817489 37.939215 \nL 243.177247 37.869478 \nL 244.076643 37.799741 \nL 244.166582 37.59053 \nL 244.256522 37.59053 \nL 244.256522 37.451056 \nL 244.841129 37.381319 \nL 244.931069 37.172108 \nL 245.065978 37.172108 \nL 245.065978 37.032634 \nL 245.110948 37.032634 \nL 245.650585 36.962897 \nL 245.650585 36.89316 \nL 246.370102 36.823423 \nL 246.370102 36.753686 \nL 246.72986 36.683949 \nL 246.72986 36.614212 \nL 246.77483 36.614212 \nL 247.314467 36.265527 \nL 248.933379 36.19579 \nL 249.023319 36.056316 \nL 249.428047 35.916842 \nL 250.6872 35.847105 \nL 250.6872 35.777368 \nL 250.73217 35.777368 \nL 251.451687 35.707631 \nL 251.451687 35.637894 \nL 251.766475 35.568157 \nL 251.766475 35.49842 \nL 252.441022 35.428683 \nL 252.530961 35.149735 \nL 253.969994 35.079998 \nL 254.104903 35.010261 \nL 254.419692 35.010261 \nL 254.419692 34.870787 \nL 254.464662 34.870787 \nL 255.319087 34.80105 \nL 255.678846 34.591839 \nL 256.578241 34.522102 \nL 256.578241 34.452365 \nL 256.937999 34.382628 \nL 256.982969 34.243154 \nL 257.252788 34.173417 \nL 257.252788 34.10368 \nL 259.186488 34.033943 \nL 259.231458 33.964206 \nL 259.950975 33.894469 \nL 259.950975 33.824732 \nL 261.569887 33.754995 \nL 261.569887 33.685258 \nL 262.424312 33.615521 \nL 262.424312 33.545784 \nL 262.739101 33.476047 \nL 262.739101 33.40631 \nL 262.82904 33.40631 \nL 263.233768 33.336573 \nL 263.278738 33.057625 \nL 264.627832 32.987888 \nL 264.627832 32.918151 \nL 267.595837 32.848414 \nL 267.685777 32.639203 \nL 267.955595 32.569466 \nL 268.000565 32.499729 \nL 269.124809 32.429992 \nL 269.169779 32.290518 \nL 269.754386 32.220781 \nL 269.844326 32.081307 \nL 270.024205 32.01157 \nL 270.069175 31.872095 \nL 270.204084 31.802358 \nL 270.204084 31.732621 \nL 271.328329 31.662884 \nL 271.328329 31.593147 \nL 272.677422 31.52341 \nL 272.767361 31.383936 \nL 273.756697 31.314199 \nL 273.801666 31.174725 \nL 274.206394 31.174725 \nL 274.296334 30.965514 \nL 275.645427 30.895777 \nL 275.690397 30.686566 \nL 276.275004 30.616829 \nL 276.275004 30.547092 \nL 276.364944 30.547092 \nL 276.409914 30.477355 \nL 276.634762 30.477355 \nL 276.634762 30.337881 \nL 277.714037 30.268144 \nL 277.714037 30.198407 \nL 277.803977 30.198407 \nL 278.613433 30.12867 \nL 278.613433 30.058933 \nL 278.703372 30.058933 \nL 279.422889 29.989196 \nL 279.422889 29.919459 \nL 280.771982 29.849722 \nL 280.816952 29.779985 \nL 281.356589 29.710248 \nL 281.356589 29.640511 \nL 281.941196 29.570774 \nL 281.941196 29.501037 \nL 281.986166 29.501037 \nL 282.795622 29.4313 \nL 282.885562 29.361563 \nL 283.470169 29.361563 \nL 283.515139 29.082615 \nL 284.594413 29.082615 \nL 284.594413 28.943141 \nL 284.999141 28.873404 \nL 284.999141 28.803667 \nL 285.089081 28.803667 \nL 285.448839 28.73393 \nL 285.448839 28.664193 \nL 286.932842 28.594456 \nL 286.932842 28.524719 \nL 287.022781 28.524719 \nL 287.24763 28.454982 \nL 287.24763 28.385245 \nL 287.33757 28.385245 \nL 288.776603 28.315508 \nL 288.776603 28.245771 \nL 288.821572 28.245771 \nL 289.2263 28.176034 \nL 289.2263 28.106297 \nL 289.27127 28.106297 \nL 289.810907 28.03656 \nL 289.900847 27.897086 \nL 290.620363 27.897086 \nL 290.620363 27.757612 \nL 293.633339 27.687875 \nL 293.633339 27.618138 \nL 295.881828 27.548401 \nL 295.881828 27.478664 \nL 296.961102 27.408927 \nL 297.006072 27.33919 \nL 299.209591 27.269453 \nL 299.209591 27.199716 \nL 299.569349 27.199716 \nL 299.569349 27.060242 \nL 301.098322 26.990505 \nL 301.098322 26.920768 \nL 301.188261 26.920768 \nL 304.785844 26.851031 \nL 304.785844 26.781294 \nL 304.830813 26.781294 \nL 306.224877 26.711557 \nL 306.269846 26.64182 \nL 308.743184 26.572083 \nL 308.743184 26.502346 \nL 310.407066 26.432609 \nL 310.407066 26.362872 \nL 310.497006 26.362872 \nL 310.541975 26.362872 \nL 310.541975 26.293135 \nL 310.676885 26.223398 \nL 311.891069 26.153661 \nL 311.936038 26.083924 \nL 312.520646 26.014187 \nL 312.610585 25.94445 \nL 313.420041 25.874713 \nL 313.420041 25.804976 \nL 313.509981 25.804976 \nL 314.319437 25.804976 \nL 314.319437 25.665502 \nL 314.409376 25.665502 \nL 314.769134 25.665502 \nL 314.769134 25.595765 \nL 314.904044 25.526028 \nL 317.287442 25.45629 \nL 317.287442 25.386553 \nL 321.69448 25.316816 \nL 321.69448 25.247079 \nL 322.683815 25.177342 \nL 322.683815 25.107605 \nL 322.728785 25.107605 \nL 323.942969 25.037868 \nL 324.032909 24.968131 \nL 325.696791 24.898394 \nL 325.696791 24.828657 \nL 326.011579 24.828657 \nL 326.011579 24.689183 \nL 326.101519 24.689183 \nL 329.069524 24.619446 \nL 329.069524 24.549709 \nL 329.114494 24.549709 \nL 332.262378 24.479972 \nL 332.262378 24.410235 \nL 332.307348 24.410235 \nL 335.005535 24.340498 \nL 335.005535 24.270761 \nL 335.095474 24.270761 \nL 336.579477 24.270761 \nL 336.714386 24.131287 \nL 338.468208 24.06155 \nL 338.468208 23.991813 \nL 340.08712 23.922076 \nL 340.08712 23.852339 \nL 340.177059 23.852339 \nL 345.978161 23.782602 \nL 346.02313 23.712865 \nL 346.787617 23.643128 \nL 346.787617 23.573391 \nL 346.832586 23.573391 \nL 347.597073 23.503654 \nL 347.597073 23.433917 \nL 349.305924 23.36418 \nL 349.305924 23.294443 \nL 349.395864 23.294443 \nL 351.734292 23.224706 \nL 351.779262 23.085232 \nL 353.623023 23.015495 \nL 353.623023 22.945758 \nL 353.667993 22.945758 \nL 358.659638 22.876021 \nL 358.659638 22.806284 \nL 362.616979 22.736547 \nL 362.616979 22.66681 \nL 362.661948 22.66681 \nL 368.058322 22.597073 \nL 368.058322 22.527336 \nL 376.197852 22.457599 \nL 376.422701 22.387862 \nL 378.58125 22.318125 \nL 378.58125 22.318125 \n\" style=\"fill:none;stroke:#1f77b4;stroke-linecap:square;stroke-width:1.5;\"/>\n   </g>\n   <g id=\"patch_3\">\n    <path d=\"M 43.78125 239.758125 \nL 43.78125 22.318125 \n\" style=\"fill:none;stroke:#000000;stroke-linecap:square;stroke-linejoin:miter;stroke-width:0.8;\"/>\n   </g>\n   <g id=\"patch_4\">\n    <path d=\"M 378.58125 239.758125 \nL 378.58125 22.318125 \n\" style=\"fill:none;stroke:#000000;stroke-linecap:square;stroke-linejoin:miter;stroke-width:0.8;\"/>\n   </g>\n   <g id=\"patch_5\">\n    <path d=\"M 43.78125 239.758125 \nL 378.58125 239.758125 \n\" style=\"fill:none;stroke:#000000;stroke-linecap:square;stroke-linejoin:miter;stroke-width:0.8;\"/>\n   </g>\n   <g id=\"patch_6\">\n    <path d=\"M 43.78125 22.318125 \nL 378.58125 22.318125 \n\" style=\"fill:none;stroke:#000000;stroke-linecap:square;stroke-linejoin:miter;stroke-width:0.8;\"/>\n   </g>\n   <g id=\"text_15\">\n    <!-- ROC curve for SLAFail classifier -->\n    <defs>\n     <path d=\"M 39.40625 66.21875 \nQ 28.65625 66.21875 22.328125 58.203125 \nQ 16.015625 50.203125 16.015625 36.375 \nQ 16.015625 22.609375 22.328125 14.59375 \nQ 28.65625 6.59375 39.40625 6.59375 \nQ 50.140625 6.59375 56.421875 14.59375 \nQ 62.703125 22.609375 62.703125 36.375 \nQ 62.703125 50.203125 56.421875 58.203125 \nQ 50.140625 66.21875 39.40625 66.21875 \nz\nM 39.40625 74.21875 \nQ 54.734375 74.21875 63.90625 63.9375 \nQ 73.09375 53.65625 73.09375 36.375 \nQ 73.09375 19.140625 63.90625 8.859375 \nQ 54.734375 -1.421875 39.40625 -1.421875 \nQ 24.03125 -1.421875 14.8125 8.828125 \nQ 5.609375 19.09375 5.609375 36.375 \nQ 5.609375 53.65625 14.8125 63.9375 \nQ 24.03125 74.21875 39.40625 74.21875 \nz\n\" id=\"DejaVuSans-79\"/>\n     <path d=\"M 64.40625 67.28125 \nL 64.40625 56.890625 \nQ 59.421875 61.53125 53.78125 63.8125 \nQ 48.140625 66.109375 41.796875 66.109375 \nQ 29.296875 66.109375 22.65625 58.46875 \nQ 16.015625 50.828125 16.015625 36.375 \nQ 16.015625 21.96875 22.65625 14.328125 \nQ 29.296875 6.6875 41.796875 6.6875 \nQ 48.140625 6.6875 53.78125 8.984375 \nQ 59.421875 11.28125 64.40625 15.921875 \nL 64.40625 5.609375 \nQ 59.234375 2.09375 53.4375 0.328125 \nQ 47.65625 -1.421875 41.21875 -1.421875 \nQ 24.65625 -1.421875 15.125 8.703125 \nQ 5.609375 18.84375 5.609375 36.375 \nQ 5.609375 53.953125 15.125 64.078125 \nQ 24.65625 74.21875 41.21875 74.21875 \nQ 47.75 74.21875 53.53125 72.484375 \nQ 59.328125 70.75 64.40625 67.28125 \nz\n\" id=\"DejaVuSans-67\"/>\n     <path d=\"M 9.8125 72.90625 \nL 19.671875 72.90625 \nL 19.671875 8.296875 \nL 55.171875 8.296875 \nL 55.171875 0 \nL 9.8125 0 \nz\n\" id=\"DejaVuSans-76\"/>\n     <path d=\"M 34.1875 63.1875 \nL 20.796875 26.90625 \nL 47.609375 26.90625 \nz\nM 28.609375 72.90625 \nL 39.796875 72.90625 \nL 67.578125 0 \nL 57.328125 0 \nL 50.6875 18.703125 \nL 17.828125 18.703125 \nL 11.1875 0 \nL 0.78125 0 \nz\n\" id=\"DejaVuSans-65\"/>\n    </defs>\n    <g transform=\"translate(117.200625 16.318125)scale(0.12 -0.12)\">\n     <use xlink:href=\"#DejaVuSans-82\"/>\n     <use x=\"69.482422\" xlink:href=\"#DejaVuSans-79\"/>\n     <use x=\"148.193359\" xlink:href=\"#DejaVuSans-67\"/>\n     <use x=\"218.017578\" xlink:href=\"#DejaVuSans-32\"/>\n     <use x=\"249.804688\" xlink:href=\"#DejaVuSans-99\"/>\n     <use x=\"304.785156\" xlink:href=\"#DejaVuSans-117\"/>\n     <use x=\"368.164062\" xlink:href=\"#DejaVuSans-114\"/>\n     <use x=\"409.277344\" xlink:href=\"#DejaVuSans-118\"/>\n     <use x=\"468.457031\" xlink:href=\"#DejaVuSans-101\"/>\n     <use x=\"529.980469\" xlink:href=\"#DejaVuSans-32\"/>\n     <use x=\"561.767578\" xlink:href=\"#DejaVuSans-102\"/>\n     <use x=\"596.972656\" xlink:href=\"#DejaVuSans-111\"/>\n     <use x=\"658.154297\" xlink:href=\"#DejaVuSans-114\"/>\n     <use x=\"699.267578\" xlink:href=\"#DejaVuSans-32\"/>\n     <use x=\"731.054688\" xlink:href=\"#DejaVuSans-83\"/>\n     <use x=\"794.53125\" xlink:href=\"#DejaVuSans-76\"/>\n     <use x=\"850.275391\" xlink:href=\"#DejaVuSans-65\"/>\n     <use x=\"918.683594\" xlink:href=\"#DejaVuSans-70\"/>\n     <use x=\"976.0625\" xlink:href=\"#DejaVuSans-97\"/>\n     <use x=\"1037.341797\" xlink:href=\"#DejaVuSans-105\"/>\n     <use x=\"1065.125\" xlink:href=\"#DejaVuSans-108\"/>\n     <use x=\"1092.908203\" xlink:href=\"#DejaVuSans-32\"/>\n     <use x=\"1124.695312\" xlink:href=\"#DejaVuSans-99\"/>\n     <use x=\"1179.675781\" xlink:href=\"#DejaVuSans-108\"/>\n     <use x=\"1207.458984\" xlink:href=\"#DejaVuSans-97\"/>\n     <use x=\"1268.738281\" xlink:href=\"#DejaVuSans-115\"/>\n     <use x=\"1320.837891\" xlink:href=\"#DejaVuSans-115\"/>\n     <use x=\"1372.9375\" xlink:href=\"#DejaVuSans-105\"/>\n     <use x=\"1400.720703\" xlink:href=\"#DejaVuSans-102\"/>\n     <use x=\"1435.925781\" xlink:href=\"#DejaVuSans-105\"/>\n     <use x=\"1463.708984\" xlink:href=\"#DejaVuSans-101\"/>\n     <use x=\"1525.232422\" xlink:href=\"#DejaVuSans-114\"/>\n    </g>\n   </g>\n  </g>\n </g>\n <defs>\n  <clipPath id=\"pda255cff0d\">\n   <rect height=\"217.44\" width=\"334.8\" x=\"43.78125\" y=\"22.318125\"/>\n  </clipPath>\n </defs>\n</svg>\n",
      "text/plain": "<Figure size 432x288 with 1 Axes>"
     },
     "metadata": {
      "needs_background": "light"
     },
     "output_type": "display_data"
    }
   ],
   "source": [
    "plt.plot(fpr, tpr)\n",
    "plt.xlim([0.0, 1.0])\n",
    "plt.ylim([0.0, 1.0])\n",
    "plt.title('ROC curve for SLAFail classifier')\n",
    "plt.xlabel('False Positive Rate (1 - Specificity)')\n",
    "plt.ylabel('True Positive Rate (Sensitivity)')\n",
    "plt.grid(True)"
   ]
  },
  {
   "cell_type": "markdown",
   "metadata": {},
   "source": [
    "Capture resulting AUC"
   ]
  },
  {
   "cell_type": "code",
   "execution_count": 50,
   "metadata": {},
   "outputs": [
    {
     "name": "stdout",
     "output_type": "stream",
     "text": "Metrics = AUC: 0.771288 \n"
    }
   ],
   "source": [
    "PipeLineMetadata['Metrics - AUC'] = metrics.roc_auc_score(y_test, y_pred_prob)\n",
    "print(\"Metrics = AUC: %f \" % PipeLineMetadata['Metrics - AUC']) "
   ]
  },
  {
   "cell_type": "markdown",
   "metadata": {},
   "source": [
    "## Save Details and Performance Measures for Comparison to other Models\n"
   ]
  },
  {
   "cell_type": "code",
   "execution_count": 51,
   "metadata": {},
   "outputs": [
    {
     "data": {
      "text/plain": "{'Name': 'Bare Bones with MEstimate Encoder',\n 'Column Transforms': ['mestimateencoder', 'standardscaler'],\n 'Classifier': LogisticRegression(C=1.0, class_weight=None, dual=False, fit_intercept=True,\n                    intercept_scaling=1, l1_ratio=None, max_iter=100,\n                    multi_class='auto', n_jobs=None, penalty='l2',\n                    random_state=None, solver='lbfgs', tol=0.0001, verbose=0,\n                    warm_start=False),\n 'Classifier - Intercept': -6.232629550822262,\n 'Classifier - Coefficients':                                    0\n CI_Name_aff                 3.836144\n Service_Component_WBS_aff  -1.941077\n Impact                      0.534125\n Urgency                     0.557586\n KM_number                   4.737794\n Count_Related_Interactions  4.476919\n Count_Related_Incidents     5.356005\n Count_Related_Changes      -0.505157\n Open_Time_HourOfDay         0.184350\n Open_Time_DayOfWeek        -0.033200\n CI_TypeSubType_aff         -0.003490,\n 'Metrics - Cross Validation Accuracy': 0.7268411442483262,\n 'Metrics - F1 score': 0.6490218571228781,\n 'Metrics - Confusion Matrix Classification Accuracy': 0.7354918110385307,\n 'Metrics - Confusion Matrix Classification Error': 0.2645081889614693,\n 'Metrics - Confusion Matrix True Positive Rate': 0.4050673508659397,\n 'Metrics - Confusion Matrix True Negative Rate': 0.8738750839489591,\n 'Metrics - Confusion Matrix False Positive Rate': 0.12612491605104098,\n 'Metrics - Confusion Matrix Precision': 0.5735694822888283,\n 'Metrics - ROC Curve fpr array': array([0.        , 0.        , 0.        , ..., 0.99932841, 0.99973136,\n        1.        ]),\n 'Metrics - ROC Curve tpr array': array([0.00000000e+00, 3.20718409e-04, 1.28287364e-03, ...,\n        1.00000000e+00, 1.00000000e+00, 1.00000000e+00]),\n 'Metrics - AUC': 0.7712878190329683}"
     },
     "execution_count": 51,
     "metadata": {},
     "output_type": "execute_result"
    }
   ],
   "source": [
    "PipeLineMetadata"
   ]
  },
  {
   "cell_type": "code",
   "execution_count": 52,
   "metadata": {},
   "outputs": [],
   "source": [
    "with open(\"data/05.01.a BareBones MEst.pkl\",'wb') as fo:\n",
    "    pickle.dump(PipeLineMetadata, fo)"
   ]
  },
  {
   "cell_type": "code",
   "execution_count": 53,
   "metadata": {},
   "outputs": [],
   "source": [
    "# with open(\"data/05.01.a BareBones MEst\", 'rb') as fi:\n",
    "#    BareBonesMetadata = pickle.load(fi)"
   ]
  },
  {
   "cell_type": "code",
   "execution_count": null,
   "metadata": {},
   "outputs": [],
   "source": []
  }
 ]
}