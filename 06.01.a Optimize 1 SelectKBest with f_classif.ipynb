{
 "nbformat": 4,
 "nbformat_minor": 2,
 "metadata": {
  "language_info": {
   "name": "python",
   "codemirror_mode": {
    "name": "ipython",
    "version": 3
   },
   "version": "3.7.6-final"
  },
  "orig_nbformat": 2,
  "file_extension": ".py",
  "mimetype": "text/x-python",
  "name": "python",
  "npconvert_exporter": "python",
  "pygments_lexer": "ipython3",
  "version": 3,
  "kernelspec": {
   "name": "python3",
   "display_name": "Python 3"
  }
 },
 "cells": [
  {
   "cell_type": "markdown",
   "metadata": {},
   "source": [
    "# 06.01 Optimize 1:  Logistic Regression Model\n",
    " \n",
    "Goal: identify the factors that most contribute to SLAFail\n",
    "\n",
    "Tuning Adjustments: Focus on finding the most predictive set of predictor variables\n",
    "\n",
    "Read Prepared Data  ->  Split Data  -> Develop Pipeline  ->  Evaluate  \n",
    "\n",
    "Split Data using sklearn.model_selection.train_test_split\n",
    "\n",
    "Pipeline includes:\n",
    "\n",
    "- Preprocessing variables\n",
    "    - sklearn.compose.make_column_transformer \n",
    "    - Scale numeric variables: sklearn.preprocessing.StandardScaler\n",
    "    - Encode categorical variables: category_encoders.MEstimateEncoder\n",
    "- Selecting features\n",
    "    - sklearn.feature_selection.SelectKBest\n",
    "    - sklearn.feature_selection.f_classif\n",
    "- Instantiate model\n",
    "    - sklearn.linear_model.LogisticRegression\n",
    "- Fit the model using training data\n",
    "- Cross-validate the model with training data\n",
    "    - sklearn.model_selection.cross_val_score\n",
    "- Output performance measures\n",
    "\n",
    "Evaluate involves running the pipeline with the testing data and capturing metrics\n",
    "\n",
    "\n",
    "https://github.com/justmarkham/scikit-learn-videos/blob/master/08_grid_search.ipynb\n",
    "\n",
    "\n"
   ]
  },
  {
   "cell_type": "code",
   "execution_count": 16,
   "metadata": {},
   "outputs": [],
   "source": [
    "\n",
    "# Load libraries\n",
    "import pandas as pd\n",
    "import numpy as np\n",
    "import pickle\n",
    "pd.set_option('precision', 9)\n",
    "\n",
    "\n",
    "# allow plots to appear in the notebook\n",
    "%matplotlib inline\n",
    "import matplotlib.pyplot as plt\n",
    "\n",
    "from sklearn.model_selection import train_test_split\n",
    "\n",
    "from sklearn.compose import make_column_transformer\n",
    "import category_encoders as ce\n",
    "from sklearn.preprocessing import StandardScaler\n",
    "\n",
    "\n",
    "from sklearn.linear_model import LogisticRegression\n",
    "from sklearn.pipeline import Pipeline\n",
    "from sklearn.model_selection import GridSearchCV\n",
    "\n",
    "from sklearn.feature_selection import SelectKBest, f_classif\n",
    "\n",
    "from sklearn import metrics"
   ]
  },
  {
   "cell_type": "code",
   "execution_count": 2,
   "metadata": {},
   "outputs": [],
   "source": [
    "# create dictionary to store information about the pipeline and results for later reporting and review\n",
    "PipeLineMetadata = { \"Name\" : \"Optimize Round 1 (only SelectKBest with f_classif\" }"
   ]
  },
  {
   "cell_type": "code",
   "execution_count": 3,
   "metadata": {},
   "outputs": [],
   "source": [
    "outFileName = \"data/06.00.a Optimize with SelectKBest.pkl\""
   ]
  },
  {
   "cell_type": "code",
   "execution_count": 4,
   "metadata": {},
   "outputs": [
    {
     "name": "stdout",
     "output_type": "stream",
     "text": "df.shape: (35208, 10)\ndf.columns: Index(['Service_Component_WBS_aff', 'Urgency', 'KM_number',\n       'Count_Related_Interactions', 'Count_Related_Incidents',\n       'Count_Related_Changes', 'SLAFail', 'Open_Time_HourOfDay',\n       'Open_Time_DayOfWeek', 'CI_TypeSubType_aff'],\n      dtype='object')\ndf.dtypes: \nService_Component_WBS_aff      object\nUrgency                        object\nKM_number                      object\nCount_Related_Interactions    float64\nCount_Related_Incidents       float64\nCount_Related_Changes         float64\nSLAFail                         int64\nOpen_Time_HourOfDay             int64\nOpen_Time_DayOfWeek            object\nCI_TypeSubType_aff             object\ndtype: object\n"
    }
   ],
   "source": [
    "df = pd.read_csv(\"data/05.00 Incident Data.csv\")\n",
    "print(\"df.shape: \" + str(df.shape))\n",
    "print(\"df.columns: \" + str(df.columns))\n",
    "print(\"df.dtypes: \\n\" + str(df.dtypes))"
   ]
  },
  {
   "cell_type": "markdown",
   "metadata": {},
   "source": [
    "## Read Prepared Data"
   ]
  },
  {
   "cell_type": "markdown",
   "metadata": {},
   "source": [
    "#### Set X and y"
   ]
  },
  {
   "cell_type": "code",
   "execution_count": 5,
   "metadata": {},
   "outputs": [
    {
     "data": {
      "text/plain": "(35208,)"
     },
     "execution_count": 5,
     "metadata": {},
     "output_type": "execute_result"
    }
   ],
   "source": [
    "y = df.SLAFail\n",
    "y.shape"
   ]
  },
  {
   "cell_type": "code",
   "execution_count": 6,
   "metadata": {},
   "outputs": [
    {
     "data": {
      "text/plain": "(35208, 9)"
     },
     "execution_count": 6,
     "metadata": {},
     "output_type": "execute_result"
    }
   ],
   "source": [
    "X = df.drop(['SLAFail'], axis='columns')\n",
    "X.shape"
   ]
  },
  {
   "cell_type": "markdown",
   "metadata": {},
   "source": [
    "Set `Open_Time_HourOfDay` for recognition as a Categorical variable"
   ]
  },
  {
   "cell_type": "code",
   "execution_count": 7,
   "metadata": {},
   "outputs": [
    {
     "data": {
      "text/plain": "Service_Component_WBS_aff      object\nUrgency                        object\nKM_number                      object\nCount_Related_Interactions    float64\nCount_Related_Incidents       float64\nCount_Related_Changes         float64\nOpen_Time_HourOfDay            object\nOpen_Time_DayOfWeek            object\nCI_TypeSubType_aff             object\ndtype: object"
     },
     "execution_count": 7,
     "metadata": {},
     "output_type": "execute_result"
    }
   ],
   "source": [
    "X.Open_Time_HourOfDay = X.Open_Time_HourOfDay.astype('object')\n",
    "X.dtypes"
   ]
  },
  {
   "cell_type": "markdown",
   "metadata": {},
   "source": [
    "Create a list of numeric variable column names"
   ]
  },
  {
   "cell_type": "code",
   "execution_count": 8,
   "metadata": {},
   "outputs": [
    {
     "data": {
      "text/plain": "Index(['Count_Related_Interactions', 'Count_Related_Incidents',\n       'Count_Related_Changes'],\n      dtype='object')"
     },
     "execution_count": 8,
     "metadata": {},
     "output_type": "execute_result"
    }
   ],
   "source": [
    "numericVars = X.select_dtypes(include=['float64']).columns\n",
    "numericVars"
   ]
  },
  {
   "cell_type": "markdown",
   "metadata": {},
   "source": [
    "Create a list of categorical variables"
   ]
  },
  {
   "cell_type": "code",
   "execution_count": 9,
   "metadata": {},
   "outputs": [
    {
     "data": {
      "text/plain": "Index(['Service_Component_WBS_aff', 'Urgency', 'KM_number',\n       'Open_Time_HourOfDay', 'Open_Time_DayOfWeek', 'CI_TypeSubType_aff'],\n      dtype='object')"
     },
     "execution_count": 9,
     "metadata": {},
     "output_type": "execute_result"
    }
   ],
   "source": [
    "categoricalVars = X.select_dtypes(include=['object']).columns\n",
    "categoricalVars"
   ]
  },
  {
   "cell_type": "markdown",
   "metadata": {},
   "source": [
    "## Split Data\n",
    "\n",
    "Create Training and Testing Data Sets\n"
   ]
  },
  {
   "cell_type": "code",
   "execution_count": 10,
   "metadata": {},
   "outputs": [],
   "source": [
    "\n",
    "X_train, X_test, y_train, y_test = train_test_split(X, y, test_size=0.3, random_state=2020)\n"
   ]
  },
  {
   "cell_type": "code",
   "execution_count": 11,
   "metadata": {},
   "outputs": [
    {
     "name": "stdout",
     "output_type": "stream",
     "text": "(24645, 9)\nIndex(['Service_Component_WBS_aff', 'Urgency', 'KM_number',\n       'Count_Related_Interactions', 'Count_Related_Incidents',\n       'Count_Related_Changes', 'Open_Time_HourOfDay', 'Open_Time_DayOfWeek',\n       'CI_TypeSubType_aff'],\n      dtype='object')\n"
    }
   ],
   "source": [
    "print(X_train.shape)\n",
    "print(X_train.columns)"
   ]
  },
  {
   "cell_type": "markdown",
   "metadata": {},
   "source": [
    "## Calculate Null Accuracy\n",
    "\n",
    "Null accuracy: accuracy that could be achieved by always predicting the most frequent class\n",
    "\n",
    "This means that a dumb model that always predicts 0 would be right 68% of the time\n",
    "\n",
    "This shows how classification accuracy is not that good as it's close to a dumb model\n",
    "It's a good way to know the minimum we should achieve with our models\n"
   ]
  },
  {
   "cell_type": "code",
   "execution_count": 12,
   "metadata": {},
   "outputs": [
    {
     "data": {
      "text/plain": "0    7445\n1    3118\nName: SLAFail, dtype: int64"
     },
     "execution_count": 12,
     "metadata": {},
     "output_type": "execute_result"
    }
   ],
   "source": [
    "# examine the class distribution of the testing set (using a Pandas Series method)\n",
    "y_test.value_counts()\n"
   ]
  },
  {
   "cell_type": "code",
   "execution_count": 13,
   "metadata": {},
   "outputs": [
    {
     "name": "stdout",
     "output_type": "stream",
     "text": "Percentage of Ones: 0.295181 \nPercentage of Zeros: 0.704819 \nPercentage of Zeros: 0.704819 \nNull Accuracy: 0.704819 \n"
    }
   ],
   "source": [
    "# calculate the percentage of ones\n",
    "print(\"Percentage of Ones: %f \" % y_test.mean())\n",
    "print(\"Percentage of Zeros: %f \" % (1 - y_test.mean()))\n",
    "print(\"Percentage of Zeros: %f \" % ( 1 - y_test.mean() ) )\n",
    "null_accuracy = max(y_test.mean(), 1 - y_test.mean())\n",
    "PipeLineMetadata = { \"Null Accuracy\" : null_accuracy }\n",
    "print(\"Null Accuracy: %f \" % null_accuracy )\n"
   ]
  },
  {
   "cell_type": "markdown",
   "metadata": {},
   "source": [
    "This means that a 'dumb' model that always predicts 0 would be right 70% of the time. \n",
    "\n",
    "The developed model must exceed a 70% accuracy rate to be considered better than the 'dumb' model."
   ]
  },
  {
   "cell_type": "markdown",
   "metadata": {},
   "source": [
    "## Develop Pipeline\n"
   ]
  },
  {
   "cell_type": "markdown",
   "metadata": {},
   "source": [
    "### Encode Variables\n",
    "\n",
    "Numeric and categorical variables require different treatment \n",
    "\n",
    "Set up column transformer for scaling numeric variables and encoding categorical variables\n",
    "\n"
   ]
  },
  {
   "cell_type": "code",
   "execution_count": 14,
   "metadata": {},
   "outputs": [],
   "source": [
    "column_trans = make_column_transformer(\n",
    "    (ce.WOEEncoder(), categoricalVars),\n",
    "    (StandardScaler(), numericVars),\n",
    "    remainder='passthrough')"
   ]
  },
  {
   "cell_type": "markdown",
   "metadata": {},
   "source": [
    "### Feature Selection\n",
    "\n",
    "\n"
   ]
  },
  {
   "cell_type": "code",
   "execution_count": 17,
   "metadata": {},
   "outputs": [],
   "source": [
    "selector = SelectKBest(score_func=f_classif)"
   ]
  },
  {
   "cell_type": "markdown",
   "metadata": {},
   "source": [
    "### Specify Classifier (Logistic Regression)"
   ]
  },
  {
   "cell_type": "code",
   "execution_count": 18,
   "metadata": {},
   "outputs": [],
   "source": [
    "classifier = LogisticRegression(solver=\"lbfgs\")"
   ]
  },
  {
   "cell_type": "markdown",
   "metadata": {},
   "source": [
    "### Compose Pipeline"
   ]
  },
  {
   "cell_type": "code",
   "execution_count": 19,
   "metadata": {},
   "outputs": [],
   "source": [
    "pipe = Pipeline(steps=[('column_trans', column_trans), \n",
    "                        ('selector',  selector),\n",
    "                        ('classifier', classifier)\n",
    "                        ])"
   ]
  },
  {
   "cell_type": "markdown",
   "metadata": {},
   "source": [
    "### Set Parameters for Grid Search Cross Validation"
   ]
  },
  {
   "cell_type": "code",
   "execution_count": 20,
   "metadata": {},
   "outputs": [
    {
     "data": {
      "text/plain": "[1, 2, 3, 4, 5, 6, 7, 8, 9]"
     },
     "execution_count": 20,
     "metadata": {},
     "output_type": "execute_result"
    }
   ],
   "source": [
    "selectKBestRange = list(range(1, len(X_train.columns)+1 ))\n",
    "selectKBestRange"
   ]
  },
  {
   "cell_type": "markdown",
   "metadata": {},
   "source": [
    "### Create parameter grid\n"
   ]
  },
  {
   "cell_type": "code",
   "execution_count": 21,
   "metadata": {},
   "outputs": [
    {
     "data": {
      "text/plain": "{'selector__k': [1, 2, 3, 4, 5, 6, 7, 8, 9]}"
     },
     "execution_count": 21,
     "metadata": {},
     "output_type": "execute_result"
    }
   ],
   "source": [
    "param_grid = dict(selector__k=selectKBestRange)\n",
    "param_grid"
   ]
  },
  {
   "cell_type": "markdown",
   "metadata": {},
   "source": [
    "### Instantiate the search\n"
   ]
  },
  {
   "cell_type": "code",
   "execution_count": 22,
   "metadata": {},
   "outputs": [],
   "source": [
    "search = GridSearchCV(pipe, param_grid, n_jobs=1)"
   ]
  },
  {
   "cell_type": "code",
   "execution_count": 23,
   "metadata": {},
   "outputs": [
    {
     "data": {
      "text/plain": "GridSearchCV(cv=None, error_score=nan,\n             estimator=Pipeline(memory=None,\n                                steps=[('column_trans',\n                                        ColumnTransformer(n_jobs=None,\n                                                          remainder='passthrough',\n                                                          sparse_threshold=0.3,\n                                                          transformer_weights=None,\n                                                          transformers=[('woeencoder',\n                                                                         WOEEncoder(cols=None,\n                                                                                    drop_invariant=False,\n                                                                                    handle_missing='value',\n                                                                                    handle_unknown='value',\n                                                                                    random_state=None,\n                                                                                    randomized=False,\n                                                                                    regulari...\n                                                           fit_intercept=True,\n                                                           intercept_scaling=1,\n                                                           l1_ratio=None,\n                                                           max_iter=100,\n                                                           multi_class='auto',\n                                                           n_jobs=None,\n                                                           penalty='l2',\n                                                           random_state=None,\n                                                           solver='lbfgs',\n                                                           tol=0.0001,\n                                                           verbose=0,\n                                                           warm_start=False))],\n                                verbose=False),\n             iid='deprecated', n_jobs=1,\n             param_grid={'selector__k': [1, 2, 3, 4, 5, 6, 7, 8, 9]},\n             pre_dispatch='2*n_jobs', refit=True, return_train_score=False,\n             scoring=None, verbose=0)"
     },
     "execution_count": 23,
     "metadata": {},
     "output_type": "execute_result"
    }
   ],
   "source": [
    "search.fit(X_train, y_train)"
   ]
  },
  {
   "cell_type": "code",
   "execution_count": 24,
   "metadata": {},
   "outputs": [
    {
     "name": "stdout",
     "output_type": "stream",
     "text": "Best parameter (CV score=0.738):\n{'selector__k': 9}\n"
    }
   ],
   "source": [
    "print(\"Best parameter (CV score=%0.3f):\" % search.best_score_)\n",
    "print(search.best_params_)"
   ]
  },
  {
   "cell_type": "code",
   "execution_count": 25,
   "metadata": {},
   "outputs": [
    {
     "data": {
      "text/plain": "SelectKBest(k=10, score_func=<function f_classif at 0x1a210f35f0>)"
     },
     "execution_count": 25,
     "metadata": {},
     "output_type": "execute_result"
    }
   ],
   "source": [
    "search.estimator.named_steps.selector"
   ]
  },
  {
   "cell_type": "markdown",
   "metadata": {},
   "source": [
    "Get predicted classification and predicted probabilities based on the model"
   ]
  },
  {
   "cell_type": "code",
   "execution_count": 26,
   "metadata": {},
   "outputs": [],
   "source": [
    "y_pred_class = search.predict(X_test)\n"
   ]
  },
  {
   "cell_type": "code",
   "execution_count": 27,
   "metadata": {},
   "outputs": [],
   "source": [
    "y_pred_prob = search.predict_proba(X_test)[:,1]\n",
    "\n"
   ]
  },
  {
   "cell_type": "code",
   "execution_count": 28,
   "metadata": {},
   "outputs": [
    {
     "name": "stdout",
     "output_type": "stream",
     "text": "precision    recall  f1-score   support\n\n           0       0.78      0.89      0.83      7445\n           1       0.60      0.41      0.49      3118\n\n    accuracy                           0.75     10563\n   macro avg       0.69      0.65      0.66     10563\nweighted avg       0.73      0.75      0.73     10563\n\n"
    }
   ],
   "source": [
    "print(metrics.classification_report(y_test, y_pred_class))"
   ]
  },
  {
   "cell_type": "markdown",
   "metadata": {},
   "source": [
    "Look at the resulting confusion matrix\n",
    "\n",
    "Save True Positive (TP), True Negative (TN), False Positive(FP), and False Negative (FN) values"
   ]
  },
  {
   "cell_type": "code",
   "execution_count": 29,
   "metadata": {},
   "outputs": [
    {
     "name": "stdout",
     "output_type": "stream",
     "text": "[[6597  848]\n [1826 1292]]\nTN: 6597 \t FP: 848 \nFN: 1826 \t TP: 1292 \n"
    }
   ],
   "source": [
    "confusion = metrics.confusion_matrix(y_test, y_pred_class)\n",
    "TP = confusion[1, 1]\n",
    "TN = confusion[0, 0]\n",
    "FP = confusion[0, 1]\n",
    "FN = confusion[1, 0]\n",
    "print(confusion)\n",
    "print(\"TN: %d \\t FP: %d \\nFN: %d \\t TP: %d \" % (TN, FP, FN, TP))"
   ]
  },
  {
   "cell_type": "markdown",
   "metadata": {},
   "source": [
    "Add some ROC curve information and AUC result\n"
   ]
  },
  {
   "cell_type": "code",
   "execution_count": 30,
   "metadata": {},
   "outputs": [
    {
     "data": {
      "text/plain": "0.7806294265709925"
     },
     "execution_count": 30,
     "metadata": {},
     "output_type": "execute_result"
    }
   ],
   "source": [
    "fpr, tpr, thresholds = metrics.roc_curve(y_test, y_pred_prob)\n",
    "metrics.roc_auc_score(y_test, y_pred_prob)"
   ]
  },
  {
   "cell_type": "code",
   "execution_count": 31,
   "metadata": {},
   "outputs": [
    {
     "data": {
      "image/png": "[encoded data removed]",
      "image/svg+xml": "<?xml version=\"1.0\" encoding=\"utf-8\" standalone=\"no\"?>\n<!DOCTYPE svg PUBLIC \"-//W3C//DTD SVG 1.1//EN\"\n  \"http://www.w3.org/Graphics/SVG/1.1/DTD/svg11.dtd\">\n<!-- Created with matplotlib (https://matplotlib.org/) -->\n<svg height=\"277.314375pt\" version=\"1.1\" viewBox=\"0 0 393.732813 277.314375\" width=\"393.732813pt\" xmlns=\"http://www.w3.org/2000/svg\" xmlns:xlink=\"http://www.w3.org/1999/xlink\">\n <defs>\n  <style type=\"text/css\">\n*{stroke-linecap:butt;stroke-linejoin:round;}\n  </style>\n </defs>\n <g id=\"figure_1\">\n  <g id=\"patch_1\">\n   <path d=\"M 0 277.314375 \nL 393.732813 277.314375 \nL 393.732813 0 \nL 0 0 \nz\n\" style=\"fill:none;\"/>\n  </g>\n  <g id=\"axes_1\">\n   <g id=\"patch_2\">\n    <path d=\"M 43.78125 239.758125 \nL 378.58125 239.758125 \nL 378.58125 22.318125 \nL 43.78125 22.318125 \nz\n\" style=\"fill:#ffffff;\"/>\n   </g>\n   <g id=\"matplotlib.axis_1\">\n    <g id=\"xtick_1\">\n     <g id=\"line2d_1\">\n      <path clip-path=\"url(#p98b1eff031)\" d=\"M 43.78125 239.758125 \nL 43.78125 22.318125 \n\" style=\"fill:none;stroke:#b0b0b0;stroke-linecap:square;stroke-width:0.8;\"/>\n     </g>\n     <g id=\"line2d_2\">\n      <defs>\n       <path d=\"M 0 0 \nL 0 3.5 \n\" id=\"m1d8992bce4\" style=\"stroke:#000000;stroke-width:0.8;\"/>\n      </defs>\n      <g>\n       <use style=\"stroke:#000000;stroke-width:0.8;\" x=\"43.78125\" xlink:href=\"#m1d8992bce4\" y=\"239.758125\"/>\n      </g>\n     </g>\n     <g id=\"text_1\">\n      <!-- 0.0 -->\n      <defs>\n       <path d=\"M 31.78125 66.40625 \nQ 24.171875 66.40625 20.328125 58.90625 \nQ 16.5 51.421875 16.5 36.375 \nQ 16.5 21.390625 20.328125 13.890625 \nQ 24.171875 6.390625 31.78125 6.390625 \nQ 39.453125 6.390625 43.28125 13.890625 \nQ 47.125 21.390625 47.125 36.375 \nQ 47.125 51.421875 43.28125 58.90625 \nQ 39.453125 66.40625 31.78125 66.40625 \nz\nM 31.78125 74.21875 \nQ 44.046875 74.21875 50.515625 64.515625 \nQ 56.984375 54.828125 56.984375 36.375 \nQ 56.984375 17.96875 50.515625 8.265625 \nQ 44.046875 -1.421875 31.78125 -1.421875 \nQ 19.53125 -1.421875 13.0625 8.265625 \nQ 6.59375 17.96875 6.59375 36.375 \nQ 6.59375 54.828125 13.0625 64.515625 \nQ 19.53125 74.21875 31.78125 74.21875 \nz\n\" id=\"DejaVuSans-48\"/>\n       <path d=\"M 10.6875 12.40625 \nL 21 12.40625 \nL 21 0 \nL 10.6875 0 \nz\n\" id=\"DejaVuSans-46\"/>\n      </defs>\n      <g transform=\"translate(35.829688 254.356562)scale(0.1 -0.1)\">\n       <use xlink:href=\"#DejaVuSans-48\"/>\n       <use x=\"63.623047\" xlink:href=\"#DejaVuSans-46\"/>\n       <use x=\"95.410156\" xlink:href=\"#DejaVuSans-48\"/>\n      </g>\n     </g>\n    </g>\n    <g id=\"xtick_2\">\n     <g id=\"line2d_3\">\n      <path clip-path=\"url(#p98b1eff031)\" d=\"M 110.74125 239.758125 \nL 110.74125 22.318125 \n\" style=\"fill:none;stroke:#b0b0b0;stroke-linecap:square;stroke-width:0.8;\"/>\n     </g>\n     <g id=\"line2d_4\">\n      <g>\n       <use style=\"stroke:#000000;stroke-width:0.8;\" x=\"110.74125\" xlink:href=\"#m1d8992bce4\" y=\"239.758125\"/>\n      </g>\n     </g>\n     <g id=\"text_2\">\n      <!-- 0.2 -->\n      <defs>\n       <path d=\"M 19.1875 8.296875 \nL 53.609375 8.296875 \nL 53.609375 0 \nL 7.328125 0 \nL 7.328125 8.296875 \nQ 12.9375 14.109375 22.625 23.890625 \nQ 32.328125 33.6875 34.8125 36.53125 \nQ 39.546875 41.84375 41.421875 45.53125 \nQ 43.3125 49.21875 43.3125 52.78125 \nQ 43.3125 58.59375 39.234375 62.25 \nQ 35.15625 65.921875 28.609375 65.921875 \nQ 23.96875 65.921875 18.8125 64.3125 \nQ 13.671875 62.703125 7.8125 59.421875 \nL 7.8125 69.390625 \nQ 13.765625 71.78125 18.9375 73 \nQ 24.125 74.21875 28.421875 74.21875 \nQ 39.75 74.21875 46.484375 68.546875 \nQ 53.21875 62.890625 53.21875 53.421875 \nQ 53.21875 48.921875 51.53125 44.890625 \nQ 49.859375 40.875 45.40625 35.40625 \nQ 44.1875 33.984375 37.640625 27.21875 \nQ 31.109375 20.453125 19.1875 8.296875 \nz\n\" id=\"DejaVuSans-50\"/>\n      </defs>\n      <g transform=\"translate(102.789688 254.356562)scale(0.1 -0.1)\">\n       <use xlink:href=\"#DejaVuSans-48\"/>\n       <use x=\"63.623047\" xlink:href=\"#DejaVuSans-46\"/>\n       <use x=\"95.410156\" xlink:href=\"#DejaVuSans-50\"/>\n      </g>\n     </g>\n    </g>\n    <g id=\"xtick_3\">\n     <g id=\"line2d_5\">\n      <path clip-path=\"url(#p98b1eff031)\" d=\"M 177.70125 239.758125 \nL 177.70125 22.318125 \n\" style=\"fill:none;stroke:#b0b0b0;stroke-linecap:square;stroke-width:0.8;\"/>\n     </g>\n     <g id=\"line2d_6\">\n      <g>\n       <use style=\"stroke:#000000;stroke-width:0.8;\" x=\"177.70125\" xlink:href=\"#m1d8992bce4\" y=\"239.758125\"/>\n      </g>\n     </g>\n     <g id=\"text_3\">\n      <!-- 0.4 -->\n      <defs>\n       <path d=\"M 37.796875 64.3125 \nL 12.890625 25.390625 \nL 37.796875 25.390625 \nz\nM 35.203125 72.90625 \nL 47.609375 72.90625 \nL 47.609375 25.390625 \nL 58.015625 25.390625 \nL 58.015625 17.1875 \nL 47.609375 17.1875 \nL 47.609375 0 \nL 37.796875 0 \nL 37.796875 17.1875 \nL 4.890625 17.1875 \nL 4.890625 26.703125 \nz\n\" id=\"DejaVuSans-52\"/>\n      </defs>\n      <g transform=\"translate(169.749688 254.356562)scale(0.1 -0.1)\">\n       <use xlink:href=\"#DejaVuSans-48\"/>\n       <use x=\"63.623047\" xlink:href=\"#DejaVuSans-46\"/>\n       <use x=\"95.410156\" xlink:href=\"#DejaVuSans-52\"/>\n      </g>\n     </g>\n    </g>\n    <g id=\"xtick_4\">\n     <g id=\"line2d_7\">\n      <path clip-path=\"url(#p98b1eff031)\" d=\"M 244.66125 239.758125 \nL 244.66125 22.318125 \n\" style=\"fill:none;stroke:#b0b0b0;stroke-linecap:square;stroke-width:0.8;\"/>\n     </g>\n     <g id=\"line2d_8\">\n      <g>\n       <use style=\"stroke:#000000;stroke-width:0.8;\" x=\"244.66125\" xlink:href=\"#m1d8992bce4\" y=\"239.758125\"/>\n      </g>\n     </g>\n     <g id=\"text_4\">\n      <!-- 0.6 -->\n      <defs>\n       <path d=\"M 33.015625 40.375 \nQ 26.375 40.375 22.484375 35.828125 \nQ 18.609375 31.296875 18.609375 23.390625 \nQ 18.609375 15.53125 22.484375 10.953125 \nQ 26.375 6.390625 33.015625 6.390625 \nQ 39.65625 6.390625 43.53125 10.953125 \nQ 47.40625 15.53125 47.40625 23.390625 \nQ 47.40625 31.296875 43.53125 35.828125 \nQ 39.65625 40.375 33.015625 40.375 \nz\nM 52.59375 71.296875 \nL 52.59375 62.3125 \nQ 48.875 64.0625 45.09375 64.984375 \nQ 41.3125 65.921875 37.59375 65.921875 \nQ 27.828125 65.921875 22.671875 59.328125 \nQ 17.53125 52.734375 16.796875 39.40625 \nQ 19.671875 43.65625 24.015625 45.921875 \nQ 28.375 48.1875 33.59375 48.1875 \nQ 44.578125 48.1875 50.953125 41.515625 \nQ 57.328125 34.859375 57.328125 23.390625 \nQ 57.328125 12.15625 50.6875 5.359375 \nQ 44.046875 -1.421875 33.015625 -1.421875 \nQ 20.359375 -1.421875 13.671875 8.265625 \nQ 6.984375 17.96875 6.984375 36.375 \nQ 6.984375 53.65625 15.1875 63.9375 \nQ 23.390625 74.21875 37.203125 74.21875 \nQ 40.921875 74.21875 44.703125 73.484375 \nQ 48.484375 72.75 52.59375 71.296875 \nz\n\" id=\"DejaVuSans-54\"/>\n      </defs>\n      <g transform=\"translate(236.709688 254.356562)scale(0.1 -0.1)\">\n       <use xlink:href=\"#DejaVuSans-48\"/>\n       <use x=\"63.623047\" xlink:href=\"#DejaVuSans-46\"/>\n       <use x=\"95.410156\" xlink:href=\"#DejaVuSans-54\"/>\n      </g>\n     </g>\n    </g>\n    <g id=\"xtick_5\">\n     <g id=\"line2d_9\">\n      <path clip-path=\"url(#p98b1eff031)\" d=\"M 311.62125 239.758125 \nL 311.62125 22.318125 \n\" style=\"fill:none;stroke:#b0b0b0;stroke-linecap:square;stroke-width:0.8;\"/>\n     </g>\n     <g id=\"line2d_10\">\n      <g>\n       <use style=\"stroke:#000000;stroke-width:0.8;\" x=\"311.62125\" xlink:href=\"#m1d8992bce4\" y=\"239.758125\"/>\n      </g>\n     </g>\n     <g id=\"text_5\">\n      <!-- 0.8 -->\n      <defs>\n       <path d=\"M 31.78125 34.625 \nQ 24.75 34.625 20.71875 30.859375 \nQ 16.703125 27.09375 16.703125 20.515625 \nQ 16.703125 13.921875 20.71875 10.15625 \nQ 24.75 6.390625 31.78125 6.390625 \nQ 38.8125 6.390625 42.859375 10.171875 \nQ 46.921875 13.96875 46.921875 20.515625 \nQ 46.921875 27.09375 42.890625 30.859375 \nQ 38.875 34.625 31.78125 34.625 \nz\nM 21.921875 38.8125 \nQ 15.578125 40.375 12.03125 44.71875 \nQ 8.5 49.078125 8.5 55.328125 \nQ 8.5 64.0625 14.71875 69.140625 \nQ 20.953125 74.21875 31.78125 74.21875 \nQ 42.671875 74.21875 48.875 69.140625 \nQ 55.078125 64.0625 55.078125 55.328125 \nQ 55.078125 49.078125 51.53125 44.71875 \nQ 48 40.375 41.703125 38.8125 \nQ 48.828125 37.15625 52.796875 32.3125 \nQ 56.78125 27.484375 56.78125 20.515625 \nQ 56.78125 9.90625 50.3125 4.234375 \nQ 43.84375 -1.421875 31.78125 -1.421875 \nQ 19.734375 -1.421875 13.25 4.234375 \nQ 6.78125 9.90625 6.78125 20.515625 \nQ 6.78125 27.484375 10.78125 32.3125 \nQ 14.796875 37.15625 21.921875 38.8125 \nz\nM 18.3125 54.390625 \nQ 18.3125 48.734375 21.84375 45.5625 \nQ 25.390625 42.390625 31.78125 42.390625 \nQ 38.140625 42.390625 41.71875 45.5625 \nQ 45.3125 48.734375 45.3125 54.390625 \nQ 45.3125 60.0625 41.71875 63.234375 \nQ 38.140625 66.40625 31.78125 66.40625 \nQ 25.390625 66.40625 21.84375 63.234375 \nQ 18.3125 60.0625 18.3125 54.390625 \nz\n\" id=\"DejaVuSans-56\"/>\n      </defs>\n      <g transform=\"translate(303.669688 254.356562)scale(0.1 -0.1)\">\n       <use xlink:href=\"#DejaVuSans-48\"/>\n       <use x=\"63.623047\" xlink:href=\"#DejaVuSans-46\"/>\n       <use x=\"95.410156\" xlink:href=\"#DejaVuSans-56\"/>\n      </g>\n     </g>\n    </g>\n    <g id=\"xtick_6\">\n     <g id=\"line2d_11\">\n      <path clip-path=\"url(#p98b1eff031)\" d=\"M 378.58125 239.758125 \nL 378.58125 22.318125 \n\" style=\"fill:none;stroke:#b0b0b0;stroke-linecap:square;stroke-width:0.8;\"/>\n     </g>\n     <g id=\"line2d_12\">\n      <g>\n       <use style=\"stroke:#000000;stroke-width:0.8;\" x=\"378.58125\" xlink:href=\"#m1d8992bce4\" y=\"239.758125\"/>\n      </g>\n     </g>\n     <g id=\"text_6\">\n      <!-- 1.0 -->\n      <defs>\n       <path d=\"M 12.40625 8.296875 \nL 28.515625 8.296875 \nL 28.515625 63.921875 \nL 10.984375 60.40625 \nL 10.984375 69.390625 \nL 28.421875 72.90625 \nL 38.28125 72.90625 \nL 38.28125 8.296875 \nL 54.390625 8.296875 \nL 54.390625 0 \nL 12.40625 0 \nz\n\" id=\"DejaVuSans-49\"/>\n      </defs>\n      <g transform=\"translate(370.629687 254.356562)scale(0.1 -0.1)\">\n       <use xlink:href=\"#DejaVuSans-49\"/>\n       <use x=\"63.623047\" xlink:href=\"#DejaVuSans-46\"/>\n       <use x=\"95.410156\" xlink:href=\"#DejaVuSans-48\"/>\n      </g>\n     </g>\n    </g>\n    <g id=\"text_7\">\n     <!-- False Positive Rate (1 - Specificity) -->\n     <defs>\n      <path d=\"M 9.8125 72.90625 \nL 51.703125 72.90625 \nL 51.703125 64.59375 \nL 19.671875 64.59375 \nL 19.671875 43.109375 \nL 48.578125 43.109375 \nL 48.578125 34.8125 \nL 19.671875 34.8125 \nL 19.671875 0 \nL 9.8125 0 \nz\n\" id=\"DejaVuSans-70\"/>\n      <path d=\"M 34.28125 27.484375 \nQ 23.390625 27.484375 19.1875 25 \nQ 14.984375 22.515625 14.984375 16.5 \nQ 14.984375 11.71875 18.140625 8.90625 \nQ 21.296875 6.109375 26.703125 6.109375 \nQ 34.1875 6.109375 38.703125 11.40625 \nQ 43.21875 16.703125 43.21875 25.484375 \nL 43.21875 27.484375 \nz\nM 52.203125 31.203125 \nL 52.203125 0 \nL 43.21875 0 \nL 43.21875 8.296875 \nQ 40.140625 3.328125 35.546875 0.953125 \nQ 30.953125 -1.421875 24.3125 -1.421875 \nQ 15.921875 -1.421875 10.953125 3.296875 \nQ 6 8.015625 6 15.921875 \nQ 6 25.140625 12.171875 29.828125 \nQ 18.359375 34.515625 30.609375 34.515625 \nL 43.21875 34.515625 \nL 43.21875 35.40625 \nQ 43.21875 41.609375 39.140625 45 \nQ 35.0625 48.390625 27.6875 48.390625 \nQ 23 48.390625 18.546875 47.265625 \nQ 14.109375 46.140625 10.015625 43.890625 \nL 10.015625 52.203125 \nQ 14.9375 54.109375 19.578125 55.046875 \nQ 24.21875 56 28.609375 56 \nQ 40.484375 56 46.34375 49.84375 \nQ 52.203125 43.703125 52.203125 31.203125 \nz\n\" id=\"DejaVuSans-97\"/>\n      <path d=\"M 9.421875 75.984375 \nL 18.40625 75.984375 \nL 18.40625 0 \nL 9.421875 0 \nz\n\" id=\"DejaVuSans-108\"/>\n      <path d=\"M 44.28125 53.078125 \nL 44.28125 44.578125 \nQ 40.484375 46.53125 36.375 47.5 \nQ 32.28125 48.484375 27.875 48.484375 \nQ 21.1875 48.484375 17.84375 46.4375 \nQ 14.5 44.390625 14.5 40.28125 \nQ 14.5 37.15625 16.890625 35.375 \nQ 19.28125 33.59375 26.515625 31.984375 \nL 29.59375 31.296875 \nQ 39.15625 29.25 43.1875 25.515625 \nQ 47.21875 21.78125 47.21875 15.09375 \nQ 47.21875 7.46875 41.1875 3.015625 \nQ 35.15625 -1.421875 24.609375 -1.421875 \nQ 20.21875 -1.421875 15.453125 -0.5625 \nQ 10.6875 0.296875 5.421875 2 \nL 5.421875 11.28125 \nQ 10.40625 8.6875 15.234375 7.390625 \nQ 20.0625 6.109375 24.8125 6.109375 \nQ 31.15625 6.109375 34.5625 8.28125 \nQ 37.984375 10.453125 37.984375 14.40625 \nQ 37.984375 18.0625 35.515625 20.015625 \nQ 33.0625 21.96875 24.703125 23.78125 \nL 21.578125 24.515625 \nQ 13.234375 26.265625 9.515625 29.90625 \nQ 5.8125 33.546875 5.8125 39.890625 \nQ 5.8125 47.609375 11.28125 51.796875 \nQ 16.75 56 26.8125 56 \nQ 31.78125 56 36.171875 55.265625 \nQ 40.578125 54.546875 44.28125 53.078125 \nz\n\" id=\"DejaVuSans-115\"/>\n      <path d=\"M 56.203125 29.59375 \nL 56.203125 25.203125 \nL 14.890625 25.203125 \nQ 15.484375 15.921875 20.484375 11.0625 \nQ 25.484375 6.203125 34.421875 6.203125 \nQ 39.59375 6.203125 44.453125 7.46875 \nQ 49.3125 8.734375 54.109375 11.28125 \nL 54.109375 2.78125 \nQ 49.265625 0.734375 44.1875 -0.34375 \nQ 39.109375 -1.421875 33.890625 -1.421875 \nQ 20.796875 -1.421875 13.15625 6.1875 \nQ 5.515625 13.8125 5.515625 26.8125 \nQ 5.515625 40.234375 12.765625 48.109375 \nQ 20.015625 56 32.328125 56 \nQ 43.359375 56 49.78125 48.890625 \nQ 56.203125 41.796875 56.203125 29.59375 \nz\nM 47.21875 32.234375 \nQ 47.125 39.59375 43.09375 43.984375 \nQ 39.0625 48.390625 32.421875 48.390625 \nQ 24.90625 48.390625 20.390625 44.140625 \nQ 15.875 39.890625 15.1875 32.171875 \nz\n\" id=\"DejaVuSans-101\"/>\n      <path id=\"DejaVuSans-32\"/>\n      <path d=\"M 19.671875 64.796875 \nL 19.671875 37.40625 \nL 32.078125 37.40625 \nQ 38.96875 37.40625 42.71875 40.96875 \nQ 46.484375 44.53125 46.484375 51.125 \nQ 46.484375 57.671875 42.71875 61.234375 \nQ 38.96875 64.796875 32.078125 64.796875 \nz\nM 9.8125 72.90625 \nL 32.078125 72.90625 \nQ 44.34375 72.90625 50.609375 67.359375 \nQ 56.890625 61.8125 56.890625 51.125 \nQ 56.890625 40.328125 50.609375 34.8125 \nQ 44.34375 29.296875 32.078125 29.296875 \nL 19.671875 29.296875 \nL 19.671875 0 \nL 9.8125 0 \nz\n\" id=\"DejaVuSans-80\"/>\n      <path d=\"M 30.609375 48.390625 \nQ 23.390625 48.390625 19.1875 42.75 \nQ 14.984375 37.109375 14.984375 27.296875 \nQ 14.984375 17.484375 19.15625 11.84375 \nQ 23.34375 6.203125 30.609375 6.203125 \nQ 37.796875 6.203125 41.984375 11.859375 \nQ 46.1875 17.53125 46.1875 27.296875 \nQ 46.1875 37.015625 41.984375 42.703125 \nQ 37.796875 48.390625 30.609375 48.390625 \nz\nM 30.609375 56 \nQ 42.328125 56 49.015625 48.375 \nQ 55.71875 40.765625 55.71875 27.296875 \nQ 55.71875 13.875 49.015625 6.21875 \nQ 42.328125 -1.421875 30.609375 -1.421875 \nQ 18.84375 -1.421875 12.171875 6.21875 \nQ 5.515625 13.875 5.515625 27.296875 \nQ 5.515625 40.765625 12.171875 48.375 \nQ 18.84375 56 30.609375 56 \nz\n\" id=\"DejaVuSans-111\"/>\n      <path d=\"M 9.421875 54.6875 \nL 18.40625 54.6875 \nL 18.40625 0 \nL 9.421875 0 \nz\nM 9.421875 75.984375 \nL 18.40625 75.984375 \nL 18.40625 64.59375 \nL 9.421875 64.59375 \nz\n\" id=\"DejaVuSans-105\"/>\n      <path d=\"M 18.3125 70.21875 \nL 18.3125 54.6875 \nL 36.8125 54.6875 \nL 36.8125 47.703125 \nL 18.3125 47.703125 \nL 18.3125 18.015625 \nQ 18.3125 11.328125 20.140625 9.421875 \nQ 21.96875 7.515625 27.59375 7.515625 \nL 36.8125 7.515625 \nL 36.8125 0 \nL 27.59375 0 \nQ 17.1875 0 13.234375 3.875 \nQ 9.28125 7.765625 9.28125 18.015625 \nL 9.28125 47.703125 \nL 2.6875 47.703125 \nL 2.6875 54.6875 \nL 9.28125 54.6875 \nL 9.28125 70.21875 \nz\n\" id=\"DejaVuSans-116\"/>\n      <path d=\"M 2.984375 54.6875 \nL 12.5 54.6875 \nL 29.59375 8.796875 \nL 46.6875 54.6875 \nL 56.203125 54.6875 \nL 35.6875 0 \nL 23.484375 0 \nz\n\" id=\"DejaVuSans-118\"/>\n      <path d=\"M 44.390625 34.1875 \nQ 47.5625 33.109375 50.5625 29.59375 \nQ 53.5625 26.078125 56.59375 19.921875 \nL 66.609375 0 \nL 56 0 \nL 46.6875 18.703125 \nQ 43.0625 26.03125 39.671875 28.421875 \nQ 36.28125 30.8125 30.421875 30.8125 \nL 19.671875 30.8125 \nL 19.671875 0 \nL 9.8125 0 \nL 9.8125 72.90625 \nL 32.078125 72.90625 \nQ 44.578125 72.90625 50.734375 67.671875 \nQ 56.890625 62.453125 56.890625 51.90625 \nQ 56.890625 45.015625 53.6875 40.46875 \nQ 50.484375 35.9375 44.390625 34.1875 \nz\nM 19.671875 64.796875 \nL 19.671875 38.921875 \nL 32.078125 38.921875 \nQ 39.203125 38.921875 42.84375 42.21875 \nQ 46.484375 45.515625 46.484375 51.90625 \nQ 46.484375 58.296875 42.84375 61.546875 \nQ 39.203125 64.796875 32.078125 64.796875 \nz\n\" id=\"DejaVuSans-82\"/>\n      <path d=\"M 31 75.875 \nQ 24.46875 64.65625 21.28125 53.65625 \nQ 18.109375 42.671875 18.109375 31.390625 \nQ 18.109375 20.125 21.3125 9.0625 \nQ 24.515625 -2 31 -13.1875 \nL 23.1875 -13.1875 \nQ 15.875 -1.703125 12.234375 9.375 \nQ 8.59375 20.453125 8.59375 31.390625 \nQ 8.59375 42.28125 12.203125 53.3125 \nQ 15.828125 64.359375 23.1875 75.875 \nz\n\" id=\"DejaVuSans-40\"/>\n      <path d=\"M 4.890625 31.390625 \nL 31.203125 31.390625 \nL 31.203125 23.390625 \nL 4.890625 23.390625 \nz\n\" id=\"DejaVuSans-45\"/>\n      <path d=\"M 53.515625 70.515625 \nL 53.515625 60.890625 \nQ 47.90625 63.578125 42.921875 64.890625 \nQ 37.9375 66.21875 33.296875 66.21875 \nQ 25.25 66.21875 20.875 63.09375 \nQ 16.5 59.96875 16.5 54.203125 \nQ 16.5 49.359375 19.40625 46.890625 \nQ 22.3125 44.4375 30.421875 42.921875 \nL 36.375 41.703125 \nQ 47.40625 39.59375 52.65625 34.296875 \nQ 57.90625 29 57.90625 20.125 \nQ 57.90625 9.515625 50.796875 4.046875 \nQ 43.703125 -1.421875 29.984375 -1.421875 \nQ 24.8125 -1.421875 18.96875 -0.25 \nQ 13.140625 0.921875 6.890625 3.21875 \nL 6.890625 13.375 \nQ 12.890625 10.015625 18.65625 8.296875 \nQ 24.421875 6.59375 29.984375 6.59375 \nQ 38.421875 6.59375 43.015625 9.90625 \nQ 47.609375 13.234375 47.609375 19.390625 \nQ 47.609375 24.75 44.3125 27.78125 \nQ 41.015625 30.8125 33.5 32.328125 \nL 27.484375 33.5 \nQ 16.453125 35.6875 11.515625 40.375 \nQ 6.59375 45.0625 6.59375 53.421875 \nQ 6.59375 63.09375 13.40625 68.65625 \nQ 20.21875 74.21875 32.171875 74.21875 \nQ 37.3125 74.21875 42.625 73.28125 \nQ 47.953125 72.359375 53.515625 70.515625 \nz\n\" id=\"DejaVuSans-83\"/>\n      <path d=\"M 18.109375 8.203125 \nL 18.109375 -20.796875 \nL 9.078125 -20.796875 \nL 9.078125 54.6875 \nL 18.109375 54.6875 \nL 18.109375 46.390625 \nQ 20.953125 51.265625 25.265625 53.625 \nQ 29.59375 56 35.59375 56 \nQ 45.5625 56 51.78125 48.09375 \nQ 58.015625 40.1875 58.015625 27.296875 \nQ 58.015625 14.40625 51.78125 6.484375 \nQ 45.5625 -1.421875 35.59375 -1.421875 \nQ 29.59375 -1.421875 25.265625 0.953125 \nQ 20.953125 3.328125 18.109375 8.203125 \nz\nM 48.6875 27.296875 \nQ 48.6875 37.203125 44.609375 42.84375 \nQ 40.53125 48.484375 33.40625 48.484375 \nQ 26.265625 48.484375 22.1875 42.84375 \nQ 18.109375 37.203125 18.109375 27.296875 \nQ 18.109375 17.390625 22.1875 11.75 \nQ 26.265625 6.109375 33.40625 6.109375 \nQ 40.53125 6.109375 44.609375 11.75 \nQ 48.6875 17.390625 48.6875 27.296875 \nz\n\" id=\"DejaVuSans-112\"/>\n      <path d=\"M 48.78125 52.59375 \nL 48.78125 44.1875 \nQ 44.96875 46.296875 41.140625 47.34375 \nQ 37.3125 48.390625 33.40625 48.390625 \nQ 24.65625 48.390625 19.8125 42.84375 \nQ 14.984375 37.3125 14.984375 27.296875 \nQ 14.984375 17.28125 19.8125 11.734375 \nQ 24.65625 6.203125 33.40625 6.203125 \nQ 37.3125 6.203125 41.140625 7.25 \nQ 44.96875 8.296875 48.78125 10.40625 \nL 48.78125 2.09375 \nQ 45.015625 0.34375 40.984375 -0.53125 \nQ 36.96875 -1.421875 32.421875 -1.421875 \nQ 20.0625 -1.421875 12.78125 6.34375 \nQ 5.515625 14.109375 5.515625 27.296875 \nQ 5.515625 40.671875 12.859375 48.328125 \nQ 20.21875 56 33.015625 56 \nQ 37.15625 56 41.109375 55.140625 \nQ 45.0625 54.296875 48.78125 52.59375 \nz\n\" id=\"DejaVuSans-99\"/>\n      <path d=\"M 37.109375 75.984375 \nL 37.109375 68.5 \nL 28.515625 68.5 \nQ 23.6875 68.5 21.796875 66.546875 \nQ 19.921875 64.59375 19.921875 59.515625 \nL 19.921875 54.6875 \nL 34.71875 54.6875 \nL 34.71875 47.703125 \nL 19.921875 47.703125 \nL 19.921875 0 \nL 10.890625 0 \nL 10.890625 47.703125 \nL 2.296875 47.703125 \nL 2.296875 54.6875 \nL 10.890625 54.6875 \nL 10.890625 58.5 \nQ 10.890625 67.625 15.140625 71.796875 \nQ 19.390625 75.984375 28.609375 75.984375 \nz\n\" id=\"DejaVuSans-102\"/>\n      <path d=\"M 32.171875 -5.078125 \nQ 28.375 -14.84375 24.75 -17.8125 \nQ 21.140625 -20.796875 15.09375 -20.796875 \nL 7.90625 -20.796875 \nL 7.90625 -13.28125 \nL 13.1875 -13.28125 \nQ 16.890625 -13.28125 18.9375 -11.515625 \nQ 21 -9.765625 23.484375 -3.21875 \nL 25.09375 0.875 \nL 2.984375 54.6875 \nL 12.5 54.6875 \nL 29.59375 11.921875 \nL 46.6875 54.6875 \nL 56.203125 54.6875 \nz\n\" id=\"DejaVuSans-121\"/>\n      <path d=\"M 8.015625 75.875 \nL 15.828125 75.875 \nQ 23.140625 64.359375 26.78125 53.3125 \nQ 30.421875 42.28125 30.421875 31.390625 \nQ 30.421875 20.453125 26.78125 9.375 \nQ 23.140625 -1.703125 15.828125 -13.1875 \nL 8.015625 -13.1875 \nQ 14.5 -2 17.703125 9.0625 \nQ 20.90625 20.125 20.90625 31.390625 \nQ 20.90625 42.671875 17.703125 53.65625 \nQ 14.5 64.65625 8.015625 75.875 \nz\n\" id=\"DejaVuSans-41\"/>\n     </defs>\n     <g transform=\"translate(124.551563 268.034687)scale(0.1 -0.1)\">\n      <use xlink:href=\"#DejaVuSans-70\"/>\n      <use x=\"57.378906\" xlink:href=\"#DejaVuSans-97\"/>\n      <use x=\"118.658203\" xlink:href=\"#DejaVuSans-108\"/>\n      <use x=\"146.441406\" xlink:href=\"#DejaVuSans-115\"/>\n      <use x=\"198.541016\" xlink:href=\"#DejaVuSans-101\"/>\n      <use x=\"260.064453\" xlink:href=\"#DejaVuSans-32\"/>\n      <use x=\"291.851562\" xlink:href=\"#DejaVuSans-80\"/>\n      <use x=\"352.107422\" xlink:href=\"#DejaVuSans-111\"/>\n      <use x=\"413.289062\" xlink:href=\"#DejaVuSans-115\"/>\n      <use x=\"465.388672\" xlink:href=\"#DejaVuSans-105\"/>\n      <use x=\"493.171875\" xlink:href=\"#DejaVuSans-116\"/>\n      <use x=\"532.380859\" xlink:href=\"#DejaVuSans-105\"/>\n      <use x=\"560.164062\" xlink:href=\"#DejaVuSans-118\"/>\n      <use x=\"619.34375\" xlink:href=\"#DejaVuSans-101\"/>\n      <use x=\"680.867188\" xlink:href=\"#DejaVuSans-32\"/>\n      <use x=\"712.654297\" xlink:href=\"#DejaVuSans-82\"/>\n      <use x=\"782.105469\" xlink:href=\"#DejaVuSans-97\"/>\n      <use x=\"843.384766\" xlink:href=\"#DejaVuSans-116\"/>\n      <use x=\"882.59375\" xlink:href=\"#DejaVuSans-101\"/>\n      <use x=\"944.117188\" xlink:href=\"#DejaVuSans-32\"/>\n      <use x=\"975.904297\" xlink:href=\"#DejaVuSans-40\"/>\n      <use x=\"1014.917969\" xlink:href=\"#DejaVuSans-49\"/>\n      <use x=\"1078.541016\" xlink:href=\"#DejaVuSans-32\"/>\n      <use x=\"1110.328125\" xlink:href=\"#DejaVuSans-45\"/>\n      <use x=\"1146.412109\" xlink:href=\"#DejaVuSans-32\"/>\n      <use x=\"1178.199219\" xlink:href=\"#DejaVuSans-83\"/>\n      <use x=\"1241.675781\" xlink:href=\"#DejaVuSans-112\"/>\n      <use x=\"1305.152344\" xlink:href=\"#DejaVuSans-101\"/>\n      <use x=\"1366.675781\" xlink:href=\"#DejaVuSans-99\"/>\n      <use x=\"1421.65625\" xlink:href=\"#DejaVuSans-105\"/>\n      <use x=\"1449.439453\" xlink:href=\"#DejaVuSans-102\"/>\n      <use x=\"1484.644531\" xlink:href=\"#DejaVuSans-105\"/>\n      <use x=\"1512.427734\" xlink:href=\"#DejaVuSans-99\"/>\n      <use x=\"1567.408203\" xlink:href=\"#DejaVuSans-105\"/>\n      <use x=\"1595.191406\" xlink:href=\"#DejaVuSans-116\"/>\n      <use x=\"1634.400391\" xlink:href=\"#DejaVuSans-121\"/>\n      <use x=\"1693.580078\" xlink:href=\"#DejaVuSans-41\"/>\n     </g>\n    </g>\n   </g>\n   <g id=\"matplotlib.axis_2\">\n    <g id=\"ytick_1\">\n     <g id=\"line2d_13\">\n      <path clip-path=\"url(#p98b1eff031)\" d=\"M 43.78125 239.758125 \nL 378.58125 239.758125 \n\" style=\"fill:none;stroke:#b0b0b0;stroke-linecap:square;stroke-width:0.8;\"/>\n     </g>\n     <g id=\"line2d_14\">\n      <defs>\n       <path d=\"M 0 0 \nL -3.5 0 \n\" id=\"mb6f90db271\" style=\"stroke:#000000;stroke-width:0.8;\"/>\n      </defs>\n      <g>\n       <use style=\"stroke:#000000;stroke-width:0.8;\" x=\"43.78125\" xlink:href=\"#mb6f90db271\" y=\"239.758125\"/>\n      </g>\n     </g>\n     <g id=\"text_8\">\n      <!-- 0.0 -->\n      <g transform=\"translate(20.878125 243.557344)scale(0.1 -0.1)\">\n       <use xlink:href=\"#DejaVuSans-48\"/>\n       <use x=\"63.623047\" xlink:href=\"#DejaVuSans-46\"/>\n       <use x=\"95.410156\" xlink:href=\"#DejaVuSans-48\"/>\n      </g>\n     </g>\n    </g>\n    <g id=\"ytick_2\">\n     <g id=\"line2d_15\">\n      <path clip-path=\"url(#p98b1eff031)\" d=\"M 43.78125 196.270125 \nL 378.58125 196.270125 \n\" style=\"fill:none;stroke:#b0b0b0;stroke-linecap:square;stroke-width:0.8;\"/>\n     </g>\n     <g id=\"line2d_16\">\n      <g>\n       <use style=\"stroke:#000000;stroke-width:0.8;\" x=\"43.78125\" xlink:href=\"#mb6f90db271\" y=\"196.270125\"/>\n      </g>\n     </g>\n     <g id=\"text_9\">\n      <!-- 0.2 -->\n      <g transform=\"translate(20.878125 200.069344)scale(0.1 -0.1)\">\n       <use xlink:href=\"#DejaVuSans-48\"/>\n       <use x=\"63.623047\" xlink:href=\"#DejaVuSans-46\"/>\n       <use x=\"95.410156\" xlink:href=\"#DejaVuSans-50\"/>\n      </g>\n     </g>\n    </g>\n    <g id=\"ytick_3\">\n     <g id=\"line2d_17\">\n      <path clip-path=\"url(#p98b1eff031)\" d=\"M 43.78125 152.782125 \nL 378.58125 152.782125 \n\" style=\"fill:none;stroke:#b0b0b0;stroke-linecap:square;stroke-width:0.8;\"/>\n     </g>\n     <g id=\"line2d_18\">\n      <g>\n       <use style=\"stroke:#000000;stroke-width:0.8;\" x=\"43.78125\" xlink:href=\"#mb6f90db271\" y=\"152.782125\"/>\n      </g>\n     </g>\n     <g id=\"text_10\">\n      <!-- 0.4 -->\n      <g transform=\"translate(20.878125 156.581344)scale(0.1 -0.1)\">\n       <use xlink:href=\"#DejaVuSans-48\"/>\n       <use x=\"63.623047\" xlink:href=\"#DejaVuSans-46\"/>\n       <use x=\"95.410156\" xlink:href=\"#DejaVuSans-52\"/>\n      </g>\n     </g>\n    </g>\n    <g id=\"ytick_4\">\n     <g id=\"line2d_19\">\n      <path clip-path=\"url(#p98b1eff031)\" d=\"M 43.78125 109.294125 \nL 378.58125 109.294125 \n\" style=\"fill:none;stroke:#b0b0b0;stroke-linecap:square;stroke-width:0.8;\"/>\n     </g>\n     <g id=\"line2d_20\">\n      <g>\n       <use style=\"stroke:#000000;stroke-width:0.8;\" x=\"43.78125\" xlink:href=\"#mb6f90db271\" y=\"109.294125\"/>\n      </g>\n     </g>\n     <g id=\"text_11\">\n      <!-- 0.6 -->\n      <g transform=\"translate(20.878125 113.093344)scale(0.1 -0.1)\">\n       <use xlink:href=\"#DejaVuSans-48\"/>\n       <use x=\"63.623047\" xlink:href=\"#DejaVuSans-46\"/>\n       <use x=\"95.410156\" xlink:href=\"#DejaVuSans-54\"/>\n      </g>\n     </g>\n    </g>\n    <g id=\"ytick_5\">\n     <g id=\"line2d_21\">\n      <path clip-path=\"url(#p98b1eff031)\" d=\"M 43.78125 65.806125 \nL 378.58125 65.806125 \n\" style=\"fill:none;stroke:#b0b0b0;stroke-linecap:square;stroke-width:0.8;\"/>\n     </g>\n     <g id=\"line2d_22\">\n      <g>\n       <use style=\"stroke:#000000;stroke-width:0.8;\" x=\"43.78125\" xlink:href=\"#mb6f90db271\" y=\"65.806125\"/>\n      </g>\n     </g>\n     <g id=\"text_12\">\n      <!-- 0.8 -->\n      <g transform=\"translate(20.878125 69.605344)scale(0.1 -0.1)\">\n       <use xlink:href=\"#DejaVuSans-48\"/>\n       <use x=\"63.623047\" xlink:href=\"#DejaVuSans-46\"/>\n       <use x=\"95.410156\" xlink:href=\"#DejaVuSans-56\"/>\n      </g>\n     </g>\n    </g>\n    <g id=\"ytick_6\">\n     <g id=\"line2d_23\">\n      <path clip-path=\"url(#p98b1eff031)\" d=\"M 43.78125 22.318125 \nL 378.58125 22.318125 \n\" style=\"fill:none;stroke:#b0b0b0;stroke-linecap:square;stroke-width:0.8;\"/>\n     </g>\n     <g id=\"line2d_24\">\n      <g>\n       <use style=\"stroke:#000000;stroke-width:0.8;\" x=\"43.78125\" xlink:href=\"#mb6f90db271\" y=\"22.318125\"/>\n      </g>\n     </g>\n     <g id=\"text_13\">\n      <!-- 1.0 -->\n      <g transform=\"translate(20.878125 26.117344)scale(0.1 -0.1)\">\n       <use xlink:href=\"#DejaVuSans-49\"/>\n       <use x=\"63.623047\" xlink:href=\"#DejaVuSans-46\"/>\n       <use x=\"95.410156\" xlink:href=\"#DejaVuSans-48\"/>\n      </g>\n     </g>\n    </g>\n    <g id=\"text_14\">\n     <!-- True Positive Rate (Sensitivity) -->\n     <defs>\n      <path d=\"M -0.296875 72.90625 \nL 61.375 72.90625 \nL 61.375 64.59375 \nL 35.5 64.59375 \nL 35.5 0 \nL 25.59375 0 \nL 25.59375 64.59375 \nL -0.296875 64.59375 \nz\n\" id=\"DejaVuSans-84\"/>\n      <path d=\"M 41.109375 46.296875 \nQ 39.59375 47.171875 37.8125 47.578125 \nQ 36.03125 48 33.890625 48 \nQ 26.265625 48 22.1875 43.046875 \nQ 18.109375 38.09375 18.109375 28.8125 \nL 18.109375 0 \nL 9.078125 0 \nL 9.078125 54.6875 \nL 18.109375 54.6875 \nL 18.109375 46.1875 \nQ 20.953125 51.171875 25.484375 53.578125 \nQ 30.03125 56 36.53125 56 \nQ 37.453125 56 38.578125 55.875 \nQ 39.703125 55.765625 41.0625 55.515625 \nz\n\" id=\"DejaVuSans-114\"/>\n      <path d=\"M 8.5 21.578125 \nL 8.5 54.6875 \nL 17.484375 54.6875 \nL 17.484375 21.921875 \nQ 17.484375 14.15625 20.5 10.265625 \nQ 23.53125 6.390625 29.59375 6.390625 \nQ 36.859375 6.390625 41.078125 11.03125 \nQ 45.3125 15.671875 45.3125 23.6875 \nL 45.3125 54.6875 \nL 54.296875 54.6875 \nL 54.296875 0 \nL 45.3125 0 \nL 45.3125 8.40625 \nQ 42.046875 3.421875 37.71875 1 \nQ 33.40625 -1.421875 27.6875 -1.421875 \nQ 18.265625 -1.421875 13.375 4.4375 \nQ 8.5 10.296875 8.5 21.578125 \nz\nM 31.109375 56 \nz\n\" id=\"DejaVuSans-117\"/>\n      <path d=\"M 54.890625 33.015625 \nL 54.890625 0 \nL 45.90625 0 \nL 45.90625 32.71875 \nQ 45.90625 40.484375 42.875 44.328125 \nQ 39.84375 48.1875 33.796875 48.1875 \nQ 26.515625 48.1875 22.3125 43.546875 \nQ 18.109375 38.921875 18.109375 30.90625 \nL 18.109375 0 \nL 9.078125 0 \nL 9.078125 54.6875 \nL 18.109375 54.6875 \nL 18.109375 46.1875 \nQ 21.34375 51.125 25.703125 53.5625 \nQ 30.078125 56 35.796875 56 \nQ 45.21875 56 50.046875 50.171875 \nQ 54.890625 44.34375 54.890625 33.015625 \nz\n\" id=\"DejaVuSans-110\"/>\n     </defs>\n     <g transform=\"translate(14.798438 208.105312)rotate(-90)scale(0.1 -0.1)\">\n      <use xlink:href=\"#DejaVuSans-84\"/>\n      <use x=\"60.865234\" xlink:href=\"#DejaVuSans-114\"/>\n      <use x=\"101.978516\" xlink:href=\"#DejaVuSans-117\"/>\n      <use x=\"165.357422\" xlink:href=\"#DejaVuSans-101\"/>\n      <use x=\"226.880859\" xlink:href=\"#DejaVuSans-32\"/>\n      <use x=\"258.667969\" xlink:href=\"#DejaVuSans-80\"/>\n      <use x=\"318.923828\" xlink:href=\"#DejaVuSans-111\"/>\n      <use x=\"380.105469\" xlink:href=\"#DejaVuSans-115\"/>\n      <use x=\"432.205078\" xlink:href=\"#DejaVuSans-105\"/>\n      <use x=\"459.988281\" xlink:href=\"#DejaVuSans-116\"/>\n      <use x=\"499.197266\" xlink:href=\"#DejaVuSans-105\"/>\n      <use x=\"526.980469\" xlink:href=\"#DejaVuSans-118\"/>\n      <use x=\"586.160156\" xlink:href=\"#DejaVuSans-101\"/>\n      <use x=\"647.683594\" xlink:href=\"#DejaVuSans-32\"/>\n      <use x=\"679.470703\" xlink:href=\"#DejaVuSans-82\"/>\n      <use x=\"748.921875\" xlink:href=\"#DejaVuSans-97\"/>\n      <use x=\"810.201172\" xlink:href=\"#DejaVuSans-116\"/>\n      <use x=\"849.410156\" xlink:href=\"#DejaVuSans-101\"/>\n      <use x=\"910.933594\" xlink:href=\"#DejaVuSans-32\"/>\n      <use x=\"942.720703\" xlink:href=\"#DejaVuSans-40\"/>\n      <use x=\"981.734375\" xlink:href=\"#DejaVuSans-83\"/>\n      <use x=\"1045.210938\" xlink:href=\"#DejaVuSans-101\"/>\n      <use x=\"1106.734375\" xlink:href=\"#DejaVuSans-110\"/>\n      <use x=\"1170.113281\" xlink:href=\"#DejaVuSans-115\"/>\n      <use x=\"1222.212891\" xlink:href=\"#DejaVuSans-105\"/>\n      <use x=\"1249.996094\" xlink:href=\"#DejaVuSans-116\"/>\n      <use x=\"1289.205078\" xlink:href=\"#DejaVuSans-105\"/>\n      <use x=\"1316.988281\" xlink:href=\"#DejaVuSans-118\"/>\n      <use x=\"1376.167969\" xlink:href=\"#DejaVuSans-105\"/>\n      <use x=\"1403.951172\" xlink:href=\"#DejaVuSans-116\"/>\n      <use x=\"1443.160156\" xlink:href=\"#DejaVuSans-121\"/>\n      <use x=\"1502.339844\" xlink:href=\"#DejaVuSans-41\"/>\n     </g>\n    </g>\n   </g>\n   <g id=\"line2d_25\">\n    <path clip-path=\"url(#p98b1eff031)\" d=\"M 43.78125 239.758125 \nL 43.78125 238.433122 \nL 43.961129 238.363385 \nL 44.051069 237.735752 \nL 44.141008 237.735752 \nL 44.141008 237.31733 \nL 44.275918 237.31733 \nL 44.365857 236.410748 \nL 44.500766 236.341011 \nL 44.590706 235.922589 \nL 44.770585 235.504167 \nL 44.860525 234.946271 \nL 44.950464 234.946271 \nL 44.995434 234.318638 \nL 45.040404 234.318638 \nL 45.310222 233.760742 \nL 45.400162 233.133109 \nL 45.490102 233.133109 \nL 45.490102 233.063372 \nL 45.580041 232.296265 \nL 45.625011 232.296265 \nL 45.669981 231.668632 \nL 45.84986 231.598895 \nL 45.939799 231.25021 \nL 46.029739 231.25021 \nL 46.119678 230.622577 \nL 46.164648 230.622577 \nL 46.254588 229.36731 \nL 46.344527 229.297573 \nL 46.389497 228.879151 \nL 46.434467 228.879151 \nL 46.659316 228.251518 \nL 46.839195 228.251518 \nL 46.839195 228.181781 \nL 46.929134 227.065989 \nL 47.019074 226.996252 \nL 47.109014 226.089671 \nL 47.153983 226.089671 \nL 47.153983 226.019934 \nL 47.243923 224.973879 \nL 47.378832 224.973879 \nL 47.468772 224.346246 \nL 47.513742 224.346246 \nL 47.603681 224.067298 \nL 47.648651 224.067298 \nL 47.73859 223.509401 \nL 47.8735 223.230453 \nL 47.91847 222.323872 \nL 47.963439 222.323872 \nL 48.278228 220.998869 \nL 48.368167 220.371236 \nL 48.458107 220.371236 \nL 48.548047 219.255444 \nL 48.593016 219.255444 \nL 48.682956 218.488337 \nL 48.727926 218.488337 \nL 48.772895 217.23307 \nL 48.862835 217.23307 \nL 48.907805 216.954122 \nL 49.087684 216.884385 \nL 49.087684 216.814648 \nL 49.177623 216.814648 \nL 49.267563 216.744911 \nL 49.312533 216.396226 \nL 49.357503 216.396226 \nL 49.447442 216.187015 \nL 49.537382 215.768593 \nL 49.582351 215.768593 \nL 49.672291 215.071223 \nL 49.717261 215.071223 \nL 49.762231 213.885694 \nL 49.85217 213.885694 \nL 49.94211 213.327798 \nL 50.077019 213.327798 \nL 50.077019 213.258061 \nL 50.166959 212.979113 \nL 50.256898 212.700165 \nL 50.301868 212.700165 \nL 50.391807 211.863321 \nL 50.526717 211.65411 \nL 50.616656 210.887002 \nL 50.751566 210.817265 \nL 50.796535 210.329106 \nL 51.291203 210.050158 \nL 51.336173 209.631736 \nL 51.426112 209.631736 \nL 51.516052 209.283051 \nL 51.695931 209.283051 \nL 52.145629 207.958048 \nL 52.190599 207.958048 \nL 52.190599 207.888311 \nL 52.325508 207.330415 \nL 52.505387 207.330415 \nL 52.505387 207.260678 \nL 52.595327 206.563308 \nL 52.685266 206.563308 \nL 52.685266 206.493571 \nL 53.089994 205.865938 \nL 53.179934 205.168568 \nL 53.269873 205.168568 \nL 53.359813 204.750146 \nL 53.494722 204.540934 \nL 53.584662 203.913301 \nL 53.674601 203.843564 \nL 53.764541 203.215931 \nL 53.809511 203.215931 \nL 53.89945 202.797509 \nL 54.124299 202.518561 \nL 54.214239 201.681717 \nL 54.259208 201.681717 \nL 54.304178 201.193558 \nL 54.529027 201.123821 \nL 54.753876 200.775136 \nL 54.978725 200.565925 \nL 54.978725 200.426451 \nL 55.113634 200.426451 \nL 55.113634 200.356714 \nL 55.203574 199.380396 \nL 55.338483 199.310659 \nL 55.383453 199.240922 \nL 55.473392 198.892237 \nL 55.518362 198.892237 \nL 55.608302 198.194867 \nL 55.653271 198.194867 \nL 55.698241 197.846181 \nL 55.788181 197.846181 \nL 56.372788 196.24223 \nL 56.552667 196.172493 \nL 56.597637 195.893545 \nL 56.732546 195.893545 \nL 57.227214 194.429068 \nL 57.362123 194.429068 \nL 57.362123 194.289594 \nL 57.497032 194.080383 \nL 57.811821 193.034328 \nL 57.856791 193.034328 \nL 57.94673 192.476432 \nL 57.9917 192.476432 \nL 57.9917 192.197484 \nL 58.126609 192.197484 \nL 58.216549 191.779061 \nL 58.351458 191.779061 \nL 58.396428 191.151428 \nL 58.486368 191.151428 \nL 58.576307 190.454058 \nL 58.666247 190.384321 \nL 58.711216 189.617214 \nL 58.891096 189.547477 \nL 58.936065 188.989581 \nL 59.026005 188.989581 \nL 59.250854 188.571159 \nL 59.475703 188.361948 \nL 59.565642 187.804052 \nL 59.790491 187.734315 \nL 59.790491 187.38563 \nL 60.06031 187.315893 \nL 60.06031 187.036945 \nL 60.240189 187.036945 \nL 60.285159 186.618523 \nL 60.375098 186.618523 \nL 60.465038 186.269838 \nL 60.510008 186.269838 \nL 60.554977 185.921153 \nL 60.599947 185.921153 \nL 60.779826 185.642205 \nL 61.004675 185.572468 \nL 61.094615 185.293519 \nL 61.274494 184.875097 \nL 62.03898 182.71325 \nL 62.308799 182.643513 \nL 62.398738 182.225091 \nL 62.713527 181.667195 \nL 62.848436 181.597458 \nL 62.893406 181.31851 \nL 62.983345 181.31851 \nL 63.073285 181.109299 \nL 63.208194 181.109299 \nL 63.388073 180.760614 \nL 63.478013 180.481666 \nL 63.522983 180.481666 \nL 63.612922 180.272455 \nL 63.657892 180.272455 \nL 63.747832 179.92377 \nL 63.792801 179.92377 \nL 63.837771 179.714559 \nL 64.06262 179.714559 \nL 64.06262 179.575085 \nL 64.242499 179.505348 \nL 64.332439 179.296137 \nL 64.377408 179.296137 \nL 64.467348 178.73824 \nL 64.647227 178.668503 \nL 64.647227 178.598766 \nL 64.782137 178.598766 \nL 64.782137 178.529029 \nL 65.051955 177.273763 \nL 65.411713 177.204026 \nL 65.501653 176.994815 \nL 65.636562 176.994815 \nL 65.636562 176.925078 \nL 65.681532 176.715867 \nL 66.04129 175.739549 \nL 66.266139 175.669812 \nL 67.030625 174.55402 \nL 67.120565 173.996124 \nL 67.255474 173.926387 \nL 67.300444 173.717176 \nL 67.435353 173.647439 \nL 67.525293 173.438228 \nL 67.750142 173.368491 \nL 67.795112 173.089543 \nL 67.885051 173.089543 \nL 67.974991 172.671121 \nL 68.06493 172.671121 \nL 68.15487 172.113224 \nL 68.19984 172.113224 \nL 68.289779 171.764539 \nL 68.424689 171.694802 \nL 68.514628 171.206643 \nL 68.604568 171.206643 \nL 68.694507 170.57901 \nL 68.874386 170.57901 \nL 68.874386 170.509273 \nL 68.919356 170.160588 \nL 68.964326 170.160588 \nL 69.369054 169.88164 \nL 69.593903 169.88164 \nL 69.683842 169.323744 \nL 69.728812 169.323744 \nL 69.728812 169.254007 \nL 69.818752 169.044796 \nL 69.998631 169.044796 \nL 70.043601 168.556637 \nL 70.17851 168.4869 \nL 70.17851 168.417163 \nL 70.403359 168.347426 \nL 70.493298 168.207952 \nL 70.718147 168.138215 \nL 70.718147 168.068478 \nL 70.898026 167.998741 \nL 70.987966 167.859267 \nL 71.032936 167.859267 \nL 71.122875 167.650056 \nL 71.167845 167.650056 \nL 71.257785 167.022423 \nL 71.347724 166.39479 \nL 71.437664 166.325053 \nL 71.527603 166.185578 \nL 71.617543 166.115841 \nL 71.617543 165.767156 \nL 71.887361 165.767156 \nL 71.977301 165.348734 \nL 72.15718 165.278997 \nL 72.20215 165.139523 \nL 72.24712 165.139523 \nL 72.337059 165.139523 \nL 72.337059 164.930312 \nL 72.696817 164.721101 \nL 72.741787 164.51189 \nL 73.101546 164.442153 \nL 73.191485 164.302679 \nL 73.281425 164.302679 \nL 73.371364 163.953994 \nL 73.461304 163.953994 \nL 73.461304 163.81452 \nL 73.641183 163.465835 \nL 73.686153 163.186887 \nL 73.955971 163.11715 \nL 74.000941 162.698728 \nL 74.090881 162.698728 \nL 74.13585 162.41978 \nL 74.27076 162.350043 \nL 74.360699 162.001358 \nL 74.630518 161.443462 \nL 74.900337 160.746092 \nL 75.080216 160.676355 \nL 75.125186 160.188196 \nL 75.395004 160.118459 \nL 75.439974 159.630299 \nL 75.619853 159.560562 \nL 75.619853 159.14214 \nL 75.754762 159.14214 \nL 75.754762 159.072403 \nL 75.934642 158.653981 \nL 76.15949 158.584244 \nL 76.24943 158.305296 \nL 76.474279 158.305296 \nL 76.474279 158.165822 \nL 76.564218 158.165822 \nL 76.609188 158.096085 \nL 76.609188 157.886874 \nL 76.789067 157.817137 \nL 76.879007 157.677663 \nL 76.968946 157.398715 \nL 77.013916 156.910556 \nL 77.103856 156.910556 \nL 77.148826 156.561871 \nL 77.373674 156.492134 \nL 77.463614 156.003975 \nL 77.553554 155.934238 \nL 77.553554 155.725027 \nL 77.823372 155.725027 \nL 77.913312 155.027657 \nL 78.18313 155.027657 \nL 78.31804 154.888183 \nL 78.452949 154.818446 \nL 78.497919 154.609235 \nL 78.542889 154.609235 \nL 78.632828 154.400024 \nL 78.767738 154.400024 \nL 78.857677 153.981602 \nL 79.127496 153.423706 \nL 79.217435 153.005283 \nL 79.577194 152.935546 \nL 79.622163 152.726335 \nL 79.802042 152.656598 \nL 79.802042 152.586861 \nL 80.29671 151.959228 \nL 80.34168 151.471069 \nL 80.476589 151.471069 \nL 80.476589 151.401332 \nL 80.656468 151.052647 \nL 80.701438 150.843436 \nL 80.746408 150.843436 \nL 81.061196 150.773699 \nL 81.061196 150.634225 \nL 81.151136 150.634225 \nL 81.331015 150.355277 \nL 81.555864 150.28554 \nL 81.645803 150.006592 \nL 81.780713 150.006592 \nL 81.825683 149.657907 \nL 82.005562 149.58817 \nL 82.005562 149.169748 \nL 82.32035 149.100011 \nL 82.36532 148.751326 \nL 82.590169 148.751326 \nL 82.680108 148.402641 \nL 82.815018 148.332904 \nL 82.815018 148.053956 \nL 82.859987 148.053956 \nL 83.084836 147.844745 \nL 83.264715 147.705271 \nL 83.489564 147.565797 \nL 83.489564 147.286849 \nL 83.759383 147.217112 \nL 83.759383 146.938163 \nL 83.984232 146.868426 \nL 84.029202 146.659215 \nL 84.074171 146.659215 \nL 84.164111 146.659215 \nL 84.254051 146.450004 \nL 84.478899 146.380267 \nL 84.568839 145.892108 \nL 84.613809 145.892108 \nL 84.703748 145.403949 \nL 84.748718 145.403949 \nL 84.748718 145.334212 \nL 84.838658 145.125001 \nL 84.973567 145.125001 \nL 85.063507 144.706579 \nL 86.277691 143.660524 \nL 86.277691 143.52105 \nL 86.36763 143.52105 \nL 86.592479 143.172365 \nL 86.817328 143.172365 \nL 86.817328 143.102628 \nL 86.997207 142.82368 \nL 87.132116 142.753943 \nL 87.222056 142.544732 \nL 87.446905 142.474995 \nL 87.536844 142.12631 \nL 87.671754 142.056573 \nL 87.671754 141.986836 \nL 87.761693 141.986836 \nL 87.896603 141.986836 \nL 87.941572 141.777625 \nL 87.986542 141.777625 \nL 88.076482 141.777625 \nL 88.076482 141.359203 \nL 88.3463 141.359203 \nL 88.39127 141.010518 \nL 88.571149 140.940781 \nL 89.605454 139.476303 \nL 89.920243 139.406566 \nL 90.010182 139.197355 \nL 90.190061 139.127618 \nL 90.190061 138.988144 \nL 90.235031 138.988144 \nL 90.41491 138.988144 \nL 90.41491 138.918407 \nL 90.54982 138.639459 \nL 90.54982 138.1513 \nL 90.684729 138.1513 \nL 90.684729 138.081563 \nL 91.224366 137.593404 \nL 91.494185 137.105245 \nL 92.43855 136.268401 \nL 92.52849 136.128927 \nL 92.753339 136.05919 \nL 92.843278 135.640768 \nL 93.068127 135.640768 \nL 93.113097 135.292083 \nL 93.248006 135.292083 \nL 93.248006 135.222346 \nL 93.427885 134.803924 \nL 93.517825 134.385502 \nL 93.832613 134.315765 \nL 93.832613 134.17629 \nL 93.922553 134.17629 \nL 93.967523 134.106553 \nL 94.102432 134.106553 \nL 94.192372 133.618394 \nL 94.237341 133.618394 \nL 94.327281 133.409183 \nL 94.5971 133.339446 \nL 94.687039 133.060498 \nL 94.821948 133.060498 \nL 94.911888 132.78155 \nL 95.136737 132.711813 \nL 95.181707 132.572339 \nL 95.271646 132.432865 \nL 95.406556 132.432865 \nL 95.406556 132.293391 \nL 95.901223 132.223654 \nL 95.946193 132.08418 \nL 95.991163 132.08418 \nL 96.305951 132.014443 \nL 96.305951 131.944706 \nL 96.44086 131.944706 \nL 96.5308 131.735495 \nL 96.755649 131.526284 \nL 96.845588 131.107862 \nL 96.890558 130.898651 \nL 97.070437 130.549966 \nL 97.700014 130.480229 \nL 97.744984 130.340755 \nL 97.834924 130.340755 \nL 97.834924 130.271018 \nL 97.879893 130.201281 \nL 97.924863 129.852596 \nL 98.014803 129.852596 \nL 98.194682 129.573648 \nL 98.329591 129.503911 \nL 98.419531 129.155226 \nL 98.689349 129.085489 \nL 98.779289 128.667067 \nL 98.869229 128.59733 \nL 99.318926 128.109171 \nL 99.408866 127.621011 \nL 99.453836 127.621011 \nL 99.498805 127.4118 \nL 99.723654 127.202589 \nL 100.173352 127.063115 \nL 100.173352 126.923641 \nL 100.308261 126.923641 \nL 100.308261 126.853904 \nL 100.353231 126.71443 \nL 100.802929 126.644693 \nL 100.847899 125.947323 \nL 100.937838 125.947323 \nL 100.937838 125.877586 \nL 100.982808 125.807849 \nL 101.162687 125.807849 \nL 101.252627 125.528901 \nL 101.387536 125.459164 \nL 101.477476 125.110479 \nL 101.522445 125.110479 \nL 101.522445 125.040742 \nL 101.702325 124.901268 \nL 101.792264 124.62232 \nL 101.837234 124.62232 \nL 101.927173 124.203898 \nL 102.241962 124.134161 \nL 102.241962 124.064424 \nL 102.466811 123.994687 \nL 102.466811 123.715739 \nL 102.55675 123.715739 \nL 102.69166 123.715739 \nL 102.736629 123.367054 \nL 102.781599 123.367054 \nL 103.096388 122.739421 \nL 103.096388 122.599947 \nL 103.321237 122.599947 \nL 103.321237 122.53021 \nL 104.130693 121.83284 \nL 104.58039 121.763103 \nL 104.62536 121.623629 \nL 104.760269 121.623629 \nL 104.760269 121.553892 \nL 105.389846 121.065732 \nL 105.479786 120.786784 \nL 105.614695 120.717047 \nL 105.704635 120.438099 \nL 105.929484 120.228888 \nL 106.199302 120.159151 \nL 106.199302 120.019677 \nL 106.559061 119.94994 \nL 106.60403 119.740729 \nL 106.69397 119.740729 \nL 106.73894 119.461781 \nL 106.828879 119.461781 \nL 106.918819 119.25257 \nL 106.963789 119.25257 \nL 107.008758 119.043359 \nL 107.368517 118.973622 \nL 107.458456 118.834148 \nL 107.728275 118.764411 \nL 107.818214 118.345989 \nL 107.998094 118.276252 \nL 107.998094 118.136778 \nL 108.088033 118.136778 \nL 109.257247 117.439408 \nL 109.257247 117.369671 \nL 109.347187 117.369671 \nL 109.527066 117.369671 \nL 109.527066 117.230197 \nL 109.617006 117.230197 \nL 109.841854 116.951249 \nL 109.841854 116.881512 \nL 110.156643 116.811775 \nL 110.246582 116.602564 \nL 110.291552 116.253879 \nL 110.78622 116.184142 \nL 111.056038 115.76572 \nL 111.370827 115.695983 \nL 111.550706 115.486772 \nL 111.595676 115.486772 \nL 112.045374 114.859138 \nL 112.180283 114.789401 \nL 112.225253 114.58019 \nL 112.540041 114.510453 \nL 112.629981 114.370979 \nL 112.67495 114.370979 \nL 112.76489 114.161768 \nL 112.85483 114.092031 \nL 112.944769 113.88282 \nL 113.034709 113.88282 \nL 113.034709 113.603872 \nL 113.304527 113.534135 \nL 113.394467 113.045976 \nL 113.709255 112.976239 \nL 114.069014 112.697291 \nL 114.563681 111.999921 \nL 115.193258 111.651236 \nL 115.283198 111.651236 \nL 115.553016 111.163077 \nL 115.642956 110.605181 \nL 115.687926 110.605181 \nL 115.957744 110.186759 \nL 116.047684 110.117022 \nL 116.137623 109.768337 \nL 116.227563 109.6986 \nL 116.317503 109.419652 \nL 116.407442 109.349915 \nL 117.261868 108.931493 \nL 117.576656 108.861756 \nL 117.666596 108.652544 \nL 117.891445 108.582807 \nL 117.891445 108.51307 \nL 117.981384 108.51307 \nL 118.116294 108.51307 \nL 118.116294 108.443333 \nL 118.161263 108.373596 \nL 118.341143 108.303859 \nL 118.431082 107.885437 \nL 118.521022 107.8157 \nL 118.610961 107.257804 \nL 118.745871 107.188067 \nL 118.745871 107.11833 \nL 118.83581 107.11833 \nL 118.92575 107.11833 \nL 119.015689 106.839382 \nL 119.555327 106.072275 \nL 119.825145 106.002538 \nL 119.915085 105.793327 \nL 120.049994 105.72359 \nL 120.139934 105.584116 \nL 120.274843 105.514379 \nL 120.634601 105.095957 \nL 120.94939 105.02622 \nL 120.94939 104.956483 \nL 121.039329 104.956483 \nL 121.623936 104.468324 \nL 121.713876 104.468324 \nL 121.758846 104.119639 \nL 122.163574 104.049902 \nL 122.163574 103.980165 \nL 122.613271 103.910428 \nL 122.703211 103.770954 \nL 123.017999 103.701217 \nL 123.242848 103.213058 \nL 123.827456 103.003847 \nL 124.277153 102.376214 \nL 124.86176 102.306477 \nL 124.9517 101.74858 \nL 125.311458 101.678843 \nL 125.311458 101.539369 \nL 125.356428 101.539369 \nL 125.446368 101.539369 \nL 125.491337 101.190684 \nL 126.075944 100.841999 \nL 126.345763 100.772262 \nL 126.570612 100.493314 \nL 126.93037 99.586733 \nL 127.06528 99.586733 \nL 127.155219 99.238048 \nL 127.245159 99.238048 \nL 127.245159 99.028837 \nL 127.604917 98.9591 \nL 127.694856 98.680152 \nL 127.784796 98.610415 \nL 127.784796 98.540678 \nL 127.874736 98.540678 \nL 128.099584 98.470941 \nL 128.099584 98.331467 \nL 128.144554 98.331467 \nL 128.459343 98.26173 \nL 128.459343 98.191993 \nL 128.504312 98.191993 \nL 128.864071 98.122256 \nL 128.864071 97.982782 \nL 128.90904 97.982782 \nL 129.133889 97.913045 \nL 129.223829 97.773571 \nL 129.763466 97.355149 \nL 130.438013 97.285412 \nL 130.527952 97.076201 \nL 130.662862 96.936727 \nL 131.247469 96.86699 \nL 131.337408 96.518305 \nL 131.517288 96.518305 \nL 131.517288 96.309094 \nL 131.562257 96.309094 \nL 131.832076 96.239357 \nL 131.832076 96.16962 \nL 132.281774 95.960409 \nL 132.866381 95.611723 \nL 132.911351 95.402512 \nL 133.181169 95.402512 \nL 133.271109 95.123564 \nL 133.406018 95.053827 \nL 133.495958 94.565668 \nL 133.585897 94.565668 \nL 133.675837 94.356457 \nL 133.720807 94.356457 \nL 133.765777 94.007772 \nL 133.990625 93.938035 \nL 134.035595 93.519613 \nL 134.395353 93.449876 \nL 134.575233 93.240665 \nL 135.11487 93.170928 \nL 135.204809 92.961717 \nL 135.879356 92.89198 \nL 135.924326 92.613032 \nL 136.194145 92.543295 \nL 136.284084 92.264347 \nL 136.374024 92.19461 \nL 136.374024 92.124873 \nL 136.913661 92.055136 \nL 137.04857 91.845925 \nL 137.543238 91.776188 \nL 137.543238 91.49724 \nL 137.723117 91.49724 \nL 137.723117 91.357766 \nL 137.947966 91.288029 \nL 137.947966 91.148555 \nL 138.037905 91.148555 \nL 138.217785 91.148555 \nL 138.217785 90.939344 \nL 138.712452 90.869607 \nL 138.802392 90.730133 \nL 139.07221 90.660396 \nL 139.11718 90.520922 \nL 139.297059 90.520922 \nL 139.386999 90.241974 \nL 139.431969 90.241974 \nL 139.431969 90.172237 \nL 139.701787 89.893289 \nL 139.881666 89.893289 \nL 139.881666 89.474867 \nL 140.151485 89.405129 \nL 140.151485 89.056444 \nL 140.241425 89.056444 \nL 140.601183 88.359074 \nL 140.646153 88.2196 \nL 140.871002 88.149863 \nL 140.871002 88.080126 \nL 141.320699 88.010389 \nL 141.320699 87.940652 \nL 141.410639 87.940652 \nL 141.500578 87.870915 \nL 142.130155 87.52223 \nL 142.355004 87.452493 \nL 142.444944 86.82486 \nL 142.804702 86.755123 \nL 142.894642 86.406438 \nL 143.074521 86.266964 \nL 143.16446 86.266964 \nL 143.2544 85.918279 \nL 143.389309 85.848542 \nL 143.434279 85.709068 \nL 143.704098 85.709068 \nL 143.704098 85.569594 \nL 143.749067 85.569594 \nL 144.063856 85.499857 \nL 144.153795 85.360383 \nL 144.558523 85.360383 \nL 144.648463 85.151172 \nL 144.693433 85.151172 \nL 144.738402 84.941961 \nL 144.918282 84.941961 \nL 144.918282 84.872224 \nL 145.14313 84.802487 \nL 145.502889 84.73275 \nL 145.592828 84.593276 \nL 145.637798 84.593276 \nL 145.727738 84.314328 \nL 146.132466 84.244591 \nL 146.177435 84.105117 \nL 146.312345 84.03538 \nL 146.312345 83.826169 \nL 146.492224 83.756432 \nL 146.492224 83.686695 \nL 146.582163 83.686695 \nL 146.627133 83.686695 \nL 146.717073 83.33801 \nL 146.851982 83.33801 \nL 146.941922 82.780113 \nL 147.031861 82.780113 \nL 147.031861 82.570902 \nL 147.391619 82.501165 \nL 147.436589 82.361691 \nL 147.571498 82.291954 \nL 147.661438 82.013006 \nL 147.886287 82.013006 \nL 147.976226 81.734058 \nL 148.380954 81.664321 \nL 148.380954 81.524847 \nL 148.470894 81.524847 \nL 148.605803 81.45511 \nL 148.695743 81.315636 \nL 149.32532 81.245899 \nL 149.595139 80.897214 \nL 149.909927 80.827477 \nL 149.954897 80.548529 \nL 150.044836 80.548529 \nL 150.134776 80.130107 \nL 150.224715 80.06037 \nL 150.269685 79.990633 \nL 150.854292 79.920896 \nL 150.944232 79.781422 \nL 151.124111 79.711685 \nL 151.214051 79.432737 \nL 151.25902 79.432737 \nL 151.34896 79.223526 \nL 151.618779 78.944578 \nL 151.708718 78.944578 \nL 151.708718 78.805104 \nL 152.203386 78.735367 \nL 152.203386 78.66563 \nL 152.518174 78.595893 \nL 152.518174 78.456419 \nL 152.832963 78.386682 \nL 152.832963 78.316945 \nL 153.32763 78.247208 \nL 153.41757 78.037997 \nL 153.732358 77.96826 \nL 153.732358 77.828786 \nL 153.957207 77.828786 \nL 154.002177 77.549838 \nL 154.316965 77.480101 \nL 154.316965 77.340627 \nL 154.586784 77.340627 \nL 154.676723 77.061679 \nL 155.3063 76.991942 \nL 155.486179 76.782731 \nL 156.025817 76.712994 \nL 156.025817 76.643256 \nL 156.250666 76.643256 \nL 156.340605 76.434045 \nL 156.430545 76.434045 \nL 156.475515 76.224834 \nL 156.790303 76.155097 \nL 156.880243 75.876149 \nL 156.970182 75.736675 \nL 157.32994 75.666938 \nL 157.32994 75.597201 \nL 157.46485 75.597201 \nL 157.50982 75.318253 \nL 158.364245 75.248516 \nL 158.364245 75.178779 \nL 158.634064 75.109042 \nL 158.634064 75.039305 \nL 158.768973 75.039305 \nL 158.768973 74.969568 \nL 158.948852 74.830094 \nL 159.173701 74.760357 \nL 159.173701 74.69062 \nL 159.803278 74.620883 \nL 159.803278 74.481409 \nL 160.118067 74.411672 \nL 160.208006 74.272198 \nL 160.297946 74.272198 \nL 160.387885 73.923513 \nL 160.702674 73.853776 \nL 160.792613 73.714302 \nL 161.826918 73.644565 \nL 161.871888 73.574828 \nL 162.186676 73.505091 \nL 162.276616 73.29588 \nL 162.546435 73.226143 \nL 162.636374 73.086669 \nL 162.771284 73.016932 \nL 162.861223 72.737984 \nL 163.086072 72.668247 \nL 163.086072 72.528773 \nL 163.176012 72.528773 \nL 163.220981 72.528773 \nL 163.220981 72.459036 \nL 163.355891 72.389299 \nL 163.670679 72.319562 \nL 163.760619 72.110351 \nL 163.895528 72.040614 \nL 163.985468 71.831403 \nL 164.075407 71.761666 \nL 164.075407 71.691929 \nL 164.390196 71.622192 \nL 164.480135 71.273507 \nL 164.839893 71.20377 \nL 164.839893 71.064296 \nL 165.334561 70.994559 \nL 165.424501 70.855085 \nL 165.784259 70.785348 \nL 166.009108 70.576137 \nL 166.233957 70.576137 \nL 166.323896 70.366926 \nL 166.908503 70.366926 \nL 166.908503 70.227451 \nL 166.953473 70.227451 \nL 167.088382 70.157714 \nL 167.448141 70.087977 \nL 167.448141 70.01824 \nL 167.53808 70.01824 \nL 167.58305 69.948503 \nL 168.392506 69.878766 \nL 168.437476 69.739292 \nL 168.617355 69.460344 \nL 168.617355 69.251133 \nL 168.932143 69.181396 \nL 169.022083 68.832711 \nL 169.246932 68.762974 \nL 169.246932 68.6235 \nL 169.291901 68.6235 \nL 169.381841 68.6235 \nL 169.381841 68.484026 \nL 169.471781 68.484026 \nL 170.191297 67.995867 \nL 170.551055 67.995867 \nL 170.596025 67.786656 \nL 170.865844 67.716919 \nL 170.865844 67.647182 \nL 170.910813 67.647182 \nL 171.360511 67.22876 \nL 171.360511 67.089286 \nL 171.450451 67.089286 \nL 171.495421 67.019549 \nL 171.765239 67.019549 \nL 171.765239 66.880075 \nL 172.080028 66.810338 \nL 172.169967 66.670864 \nL 172.754574 66.601127 \nL 172.754574 66.461653 \nL 172.844514 66.461653 \nL 173.069363 66.391916 \nL 173.069363 66.322179 \nL 173.339181 66.322179 \nL 173.339181 66.043231 \nL 174.013728 65.973494 \nL 174.103668 65.764283 \nL 174.193607 65.694546 \nL 174.193607 65.624809 \nL 174.463426 65.624809 \nL 174.463426 65.485335 \nL 175.093003 65.415598 \nL 175.137973 65.206387 \nL 175.58767 65.206387 \nL 175.67761 64.997176 \nL 175.947429 64.927439 \nL 175.947429 64.857702 \nL 176.037368 64.857702 \nL 176.172278 64.787965 \nL 176.262217 64.718228 \nL 176.262217 64.648491 \nL 176.397126 64.648491 \nL 176.397126 64.578754 \nL 176.666945 64.160332 \nL 176.936764 64.090595 \nL 176.936764 64.020858 \nL 177.70125 63.951121 \nL 177.70125 63.881383 \nL 177.74622 63.881383 \nL 178.735555 63.184013 \nL 178.870464 63.184013 \nL 178.870464 62.905065 \nL 178.960404 62.905065 \nL 179.050343 62.905065 \nL 179.140283 62.695854 \nL 179.365132 62.626117 \nL 179.455071 62.486643 \nL 179.545011 62.486643 \nL 179.63495 62.207695 \nL 179.67992 62.137958 \nL 179.859799 62.137958 \nL 179.904769 61.928747 \nL 180.129618 61.85901 \nL 180.129618 61.789273 \nL 180.399437 61.719536 \nL 180.399437 61.649799 \nL 180.489376 61.649799 \nL 180.534346 61.580062 \nL 181.073983 61.510325 \nL 181.073983 61.301114 \nL 181.118953 61.301114 \nL 181.613621 61.231377 \nL 181.70356 61.022166 \nL 181.74853 61.022166 \nL 181.74853 60.812955 \nL 181.7935 60.812955 \nL 182.288167 60.743218 \nL 182.333137 60.603744 \nL 182.602956 60.603744 \nL 182.602956 60.534007 \nL 182.692895 60.46427 \nL 183.277503 60.394533 \nL 183.277503 60.185322 \nL 183.547321 60.115585 \nL 183.547321 60.045848 \nL 183.77217 59.976111 \nL 183.907079 59.906374 \nL 184.131928 59.906374 \nL 184.131928 59.627426 \nL 184.941384 59.557689 \nL 185.031324 59.418215 \nL 185.166233 59.418215 \nL 185.166233 59.209004 \nL 185.256173 59.209004 \nL 185.481022 59.139267 \nL 185.481022 59.06953 \nL 185.75084 58.999793 \nL 185.84078 58.651108 \nL 186.065629 58.581371 \nL 186.065629 58.37216 \nL 186.110599 58.37216 \nL 186.830115 58.302423 \nL 186.830115 58.093212 \nL 187.369752 58.023475 \nL 187.414722 57.884001 \nL 187.684541 57.814264 \nL 187.684541 57.744527 \nL 188.044299 57.744527 \nL 188.044299 57.605053 \nL 188.134239 57.605053 \nL 188.269148 57.605053 \nL 188.359087 57.326104 \nL 188.404057 56.907682 \nL 188.628906 56.837945 \nL 188.853755 56.768208 \nL 188.853755 56.48926 \nL 189.303453 56.419523 \nL 189.348423 56.280049 \nL 189.753151 56.210312 \nL 189.753151 56.140575 \nL 189.84309 56.140575 \nL 189.977999 55.931364 \nL 190.427697 55.861627 \nL 190.427697 55.722153 \nL 190.517637 55.722153 \nL 190.607576 55.652416 \nL 190.697516 55.512942 \nL 190.877395 55.443205 \nL 190.877395 55.233994 \nL 191.192184 55.164257 \nL 191.327093 55.024783 \nL 191.686851 54.955046 \nL 192.811096 54.676098 \nL 193.080914 54.676098 \nL 193.080914 54.536624 \nL 193.350733 54.466887 \nL 193.350733 54.39715 \nL 193.440672 54.39715 \nL 193.620552 54.257676 \nL 193.800431 54.187939 \nL 193.800431 54.118202 \nL 194.744796 54.048465 \nL 194.834736 53.908991 \nL 195.329403 53.839254 \nL 195.329403 53.560306 \nL 195.644192 53.490569 \nL 195.734131 53.211621 \nL 195.779101 53.211621 \nL 195.779101 53.072147 \nL 196.993285 53.00241 \nL 196.993285 52.932673 \nL 197.038255 52.932673 \nL 197.263104 52.862936 \nL 197.577892 52.653725 \nL 197.577892 52.514251 \nL 197.847711 52.444514 \nL 197.847711 52.374777 \nL 197.89268 52.374777 \nL 198.02759 52.30504 \nL 198.657167 52.235303 \nL 198.702137 52.095829 \nL 199.376683 52.026092 \nL 199.826381 51.886618 \nL 200.00626 51.886618 \nL 200.00626 51.677407 \nL 200.05123 51.677407 \nL 200.231109 51.677407 \nL 200.321049 51.328722 \nL 200.500928 51.258985 \nL 200.545897 51.119511 \nL 200.770746 51.119511 \nL 200.770746 50.980036 \nL 201.040565 50.910299 \nL 201.040565 50.840562 \nL 201.175474 50.840562 \nL 201.175474 50.701088 \nL 201.310384 50.701088 \nL 201.400323 50.491877 \nL 201.535233 50.491877 \nL 201.535233 50.352403 \nL 201.625172 50.352403 \nL 201.760081 50.282666 \nL 201.850021 50.282666 \nL 201.850021 50.143192 \nL 202.164809 50.143192 \nL 202.254749 49.864244 \nL 203.154145 49.794507 \nL 203.199114 49.655033 \nL 203.513903 49.655033 \nL 203.513903 49.515559 \nL 203.783721 49.445822 \nL 203.783721 49.376085 \nL 203.873661 49.376085 \nL 204.05354 49.306348 \nL 204.05354 49.236611 \nL 204.09851 49.236611 \nL 204.278389 49.236611 \nL 204.413298 49.097137 \nL 204.593177 49.0274 \nL 204.638147 48.818189 \nL 204.952936 48.748452 \nL 204.997905 48.608978 \nL 205.717422 48.539241 \nL 205.717422 48.469504 \nL 205.807361 48.469504 \nL 206.07718 48.399767 \nL 206.07718 48.33003 \nL 206.391969 48.260293 \nL 206.391969 48.051082 \nL 206.481908 48.051082 \nL 206.976576 47.981345 \nL 206.976576 47.911608 \nL 207.246394 47.841871 \nL 207.246394 47.772134 \nL 207.291364 47.772134 \nL 208.415609 47.702397 \nL 208.415609 47.63266 \nL 208.505548 47.63266 \nL 208.775367 47.562923 \nL 208.865306 47.493186 \nL 209.045186 47.423449 \nL 209.539853 47.423449 \nL 209.764702 47.074764 \nL 211.518523 47.005027 \nL 211.518523 46.93529 \nL 212.058161 46.865553 \nL 212.28301 46.726079 \nL 212.28301 46.586605 \nL 212.597798 46.586605 \nL 212.597798 46.447131 \nL 212.687738 46.447131 \nL 212.732707 46.447131 \nL 212.777677 46.307657 \nL 213.317314 46.23792 \nL 213.317314 46.028709 \nL 213.542163 46.028709 \nL 213.542163 45.889235 \nL 213.587133 45.889235 \nL 214.351619 45.401076 \nL 214.486529 45.261602 \nL 214.576468 45.261602 \nL 214.576468 45.191865 \nL 214.756347 44.982654 \nL 215.385924 44.912917 \nL 215.385924 44.84318 \nL 215.475864 44.84318 \nL 215.745683 44.773443 \nL 215.925562 44.703706 \nL 215.925562 44.633968 \nL 216.465199 44.564231 \nL 216.510169 44.424757 \nL 217.049806 44.35502 \nL 217.049806 44.285283 \nL 217.229685 44.285283 \nL 217.589443 44.076072 \nL 218.174051 44.006335 \nL 218.174051 43.936598 \nL 218.26399 43.936598 \nL 218.848597 43.727387 \nL 219.388235 43.65765 \nL 219.433204 43.378702 \nL 219.613083 43.378702 \nL 219.747993 43.099754 \nL 220.3326 43.030017 \nL 220.512479 42.890543 \nL 221.321935 42.820806 \nL 221.321935 42.751069 \nL 221.366905 42.751069 \nL 221.726663 42.681332 \nL 221.771633 42.472121 \nL 222.2663 42.402384 \nL 222.35624 42.26291 \nL 223.300605 42.193173 \nL 223.300605 42.053699 \nL 223.390545 42.053699 \nL 224.020122 41.983962 \nL 224.020122 41.914225 \nL 224.33491 41.844488 \nL 224.33491 41.774751 \nL 224.514789 41.705014 \nL 224.694668 41.56554 \nL 225.953822 41.216855 \nL 226.35855 41.216855 \nL 226.35855 41.077381 \nL 226.988127 41.007644 \nL 227.033097 40.86817 \nL 227.347885 40.798433 \nL 227.392855 40.658959 \nL 228.157341 40.589222 \nL 228.292251 40.449748 \nL 229.461465 40.380011 \nL 229.506435 40.240537 \nL 229.731284 40.240537 \nL 229.731284 40.1708 \nL 229.776253 40.101063 \nL 230.4508 40.031326 \nL 230.4508 39.961589 \nL 230.54074 39.961589 \nL 230.945468 39.891852 \nL 231.080377 39.752378 \nL 231.395165 39.682641 \nL 231.844863 39.612904 \nL 231.889833 39.47343 \nL 232.42947 39.403693 \nL 232.42947 39.333956 \nL 232.51941 39.333956 \nL 233.104017 39.264219 \nL 233.104017 39.194482 \nL 234.408141 39.194482 \nL 234.45311 38.985271 \nL 234.49808 38.985271 \nL 234.947778 38.985271 \nL 234.947778 38.915534 \nL 235.082687 38.706323 \nL 235.082687 38.636586 \nL 235.127657 38.636586 \nL 236.341841 38.636586 \nL 236.386811 38.357638 \nL 236.971418 38.2879 \nL 236.971418 38.218163 \nL 237.061357 38.218163 \nL 237.106327 38.078689 \nL 237.376146 38.008952 \nL 237.690934 37.869478 \nL 238.365481 37.799741 \nL 238.365481 37.730004 \nL 240.029363 37.660267 \nL 240.029363 37.520793 \nL 240.074333 37.520793 \nL 240.254212 37.520793 \nL 240.344151 37.381319 \nL 240.793849 37.311582 \nL 240.883789 37.102371 \nL 241.558335 37.032634 \nL 241.693245 36.89316 \nL 241.918094 36.823423 \nL 241.918094 36.753686 \nL 242.952398 36.683949 \nL 243.042338 36.544475 \nL 243.222217 36.474738 \nL 243.357126 36.405001 \nL 244.841129 36.335264 \nL 244.841129 36.19579 \nL 244.931069 36.19579 \nL 245.470706 36.19579 \nL 245.470706 36.056316 \nL 245.515676 36.056316 \nL 246.63992 35.986579 \nL 247.089618 35.916842 \nL 248.033983 35.847105 \nL 248.033983 35.777368 \nL 248.213862 35.777368 \nL 248.213862 35.637894 \nL 248.66356 35.568157 \nL 248.66356 35.49842 \nL 248.70853 35.49842 \nL 249.068288 35.428683 \nL 249.113258 35.358946 \nL 249.473016 35.358946 \nL 249.473016 35.149735 \nL 249.562956 35.149735 \nL 249.877744 35.079998 \nL 249.877744 35.010261 \nL 249.967684 35.010261 \nL 251.001989 34.940524 \nL 251.001989 34.80105 \nL 251.946354 34.731313 \nL 251.946354 34.661576 \nL 252.530961 34.591839 \nL 252.530961 34.452365 \nL 253.475327 34.382628 \nL 253.565266 34.243154 \nL 254.194843 34.173417 \nL 254.599571 34.033943 \nL 255.858725 33.964206 \nL 255.858725 33.894469 \nL 255.948664 33.894469 \nL 256.218483 33.824732 \nL 256.308423 33.754995 \nL 257.252788 33.685258 \nL 257.342728 33.545784 \nL 258.511942 33.476047 \nL 258.511942 33.336573 \nL 259.456307 33.266836 \nL 259.456307 33.197099 \nL 259.546247 33.197099 \nL 259.950975 33.127362 \nL 260.175824 33.057625 \nL 261.434977 32.987888 \nL 261.524917 32.848414 \nL 261.884675 32.778677 \nL 261.884675 32.639203 \nL 262.244433 32.569466 \nL 262.604192 32.429992 \nL 263.548557 32.360255 \nL 263.593527 32.290518 \nL 264.717771 32.220781 \nL 264.762741 32.01157 \nL 265.572197 31.941833 \nL 265.617167 31.872095 \nL 266.651472 31.802358 \nL 266.651472 31.732621 \nL 266.741411 31.732621 \nL 266.831351 31.732621 \nL 266.831351 31.593147 \nL 266.92129 31.593147 \nL 267.146139 31.52341 \nL 267.236079 31.453673 \nL 267.955595 31.383936 \nL 267.955595 31.314199 \nL 268.540202 31.314199 \nL 269.03487 30.756303 \nL 271.10348 30.686566 \nL 271.10348 30.616829 \nL 271.148449 30.616829 \nL 271.238389 30.616829 \nL 271.238389 30.477355 \nL 271.328329 30.477355 \nL 273.217059 30.407618 \nL 273.262029 30.268144 \nL 273.441908 30.268144 \nL 273.441908 30.12867 \nL 273.576817 30.12867 \nL 273.576817 30.058933 \nL 273.846636 29.779985 \nL 274.161425 29.779985 \nL 274.161425 29.640511 \nL 274.251364 29.640511 \nL 276.859611 29.570774 \nL 276.859611 29.501037 \nL 276.904581 29.501037 \nL 277.669067 29.4313 \nL 277.803977 29.361563 \nL 278.793312 29.291826 \nL 278.793312 29.152352 \nL 279.287979 29.082615 \nL 279.287979 29.012878 \nL 279.332949 29.012878 \nL 281.536468 28.943141 \nL 281.536468 28.873404 \nL 281.626408 28.873404 \nL 282.031136 28.873404 \nL 282.076106 28.664193 \nL 282.121075 28.664193 \nL 283.065441 28.664193 \nL 283.065441 28.524719 \nL 283.110411 28.524719 \nL 283.515139 28.454982 \nL 283.560108 28.315508 \nL 284.864232 28.245771 \nL 284.864232 28.176034 \nL 284.954171 28.176034 \nL 287.33757 28.106297 \nL 287.33757 28.03656 \nL 288.057086 27.966823 \nL 288.147026 27.827349 \nL 288.731633 27.757612 \nL 288.731633 27.687875 \nL 288.821572 27.687875 \nL 290.260605 27.618138 \nL 290.260605 27.478664 \nL 292.329215 27.408927 \nL 292.329215 27.33919 \nL 292.374185 27.33919 \nL 294.083036 27.269453 \nL 294.172976 27.199716 \nL 294.442795 27.129979 \nL 294.442795 27.060242 \nL 296.781223 26.990505 \nL 296.871163 26.920768 \nL 297.50074 26.851031 \nL 297.545709 26.711557 \nL 298.714924 26.64182 \nL 298.804863 26.572083 \nL 299.254561 26.502346 \nL 299.299531 26.362872 \nL 300.648624 26.293135 \nL 300.738564 26.153661 \nL 303.032022 26.083924 \nL 303.032022 26.014187 \nL 303.121962 26.014187 \nL 305.325481 25.94445 \nL 305.325481 25.874713 \nL 305.415421 25.874713 \nL 306.179907 25.804976 \nL 306.224877 25.665502 \nL 306.989363 25.595765 \nL 307.124272 25.526028 \nL 308.608275 25.45629 \nL 308.608275 25.386553 \nL 310.047308 25.316816 \nL 310.227187 25.177342 \nL 312.520646 25.107605 \nL 312.520646 25.037868 \nL 313.060283 24.898394 \nL 314.454346 24.828657 \nL 314.499316 24.689183 \nL 314.544286 24.689183 \nL 316.208167 24.619446 \nL 316.208167 24.549709 \nL 319.131203 24.479972 \nL 319.176173 24.340498 \nL 321.604541 24.270761 \nL 321.73945 24.201024 \nL 322.189148 24.131287 \nL 322.189148 24.06155 \nL 322.234118 24.06155 \nL 323.987939 23.991813 \nL 323.987939 23.922076 \nL 324.077879 23.922076 \nL 325.87667 23.852339 \nL 325.92164 23.782602 \nL 327.990249 23.712865 \nL 327.990249 23.643128 \nL 328.080189 23.643128 \nL 328.844675 23.573391 \nL 328.844675 23.503654 \nL 328.934615 23.503654 \nL 329.654131 23.433917 \nL 329.654131 23.36418 \nL 330.238738 23.36418 \nL 330.238738 23.224706 \nL 331.003224 23.154969 \nL 331.003224 23.085232 \nL 341.031485 23.015495 \nL 341.076455 22.945758 \nL 341.436213 22.945758 \nL 341.526153 22.806284 \nL 342.965186 22.736547 \nL 343.010155 22.66681 \nL 349.260954 22.597073 \nL 349.260954 22.527336 \nL 377.052278 22.457599 \nL 377.052278 22.387862 \nL 378.58125 22.318125 \nL 378.58125 22.318125 \n\" style=\"fill:none;stroke:#1f77b4;stroke-linecap:square;stroke-width:1.5;\"/>\n   </g>\n   <g id=\"patch_3\">\n    <path d=\"M 43.78125 239.758125 \nL 43.78125 22.318125 \n\" style=\"fill:none;stroke:#000000;stroke-linecap:square;stroke-linejoin:miter;stroke-width:0.8;\"/>\n   </g>\n   <g id=\"patch_4\">\n    <path d=\"M 378.58125 239.758125 \nL 378.58125 22.318125 \n\" style=\"fill:none;stroke:#000000;stroke-linecap:square;stroke-linejoin:miter;stroke-width:0.8;\"/>\n   </g>\n   <g id=\"patch_5\">\n    <path d=\"M 43.78125 239.758125 \nL 378.58125 239.758125 \n\" style=\"fill:none;stroke:#000000;stroke-linecap:square;stroke-linejoin:miter;stroke-width:0.8;\"/>\n   </g>\n   <g id=\"patch_6\">\n    <path d=\"M 43.78125 22.318125 \nL 378.58125 22.318125 \n\" style=\"fill:none;stroke:#000000;stroke-linecap:square;stroke-linejoin:miter;stroke-width:0.8;\"/>\n   </g>\n   <g id=\"text_15\">\n    <!-- ROC curve for SLAFail classifier -->\n    <defs>\n     <path d=\"M 39.40625 66.21875 \nQ 28.65625 66.21875 22.328125 58.203125 \nQ 16.015625 50.203125 16.015625 36.375 \nQ 16.015625 22.609375 22.328125 14.59375 \nQ 28.65625 6.59375 39.40625 6.59375 \nQ 50.140625 6.59375 56.421875 14.59375 \nQ 62.703125 22.609375 62.703125 36.375 \nQ 62.703125 50.203125 56.421875 58.203125 \nQ 50.140625 66.21875 39.40625 66.21875 \nz\nM 39.40625 74.21875 \nQ 54.734375 74.21875 63.90625 63.9375 \nQ 73.09375 53.65625 73.09375 36.375 \nQ 73.09375 19.140625 63.90625 8.859375 \nQ 54.734375 -1.421875 39.40625 -1.421875 \nQ 24.03125 -1.421875 14.8125 8.828125 \nQ 5.609375 19.09375 5.609375 36.375 \nQ 5.609375 53.65625 14.8125 63.9375 \nQ 24.03125 74.21875 39.40625 74.21875 \nz\n\" id=\"DejaVuSans-79\"/>\n     <path d=\"M 64.40625 67.28125 \nL 64.40625 56.890625 \nQ 59.421875 61.53125 53.78125 63.8125 \nQ 48.140625 66.109375 41.796875 66.109375 \nQ 29.296875 66.109375 22.65625 58.46875 \nQ 16.015625 50.828125 16.015625 36.375 \nQ 16.015625 21.96875 22.65625 14.328125 \nQ 29.296875 6.6875 41.796875 6.6875 \nQ 48.140625 6.6875 53.78125 8.984375 \nQ 59.421875 11.28125 64.40625 15.921875 \nL 64.40625 5.609375 \nQ 59.234375 2.09375 53.4375 0.328125 \nQ 47.65625 -1.421875 41.21875 -1.421875 \nQ 24.65625 -1.421875 15.125 8.703125 \nQ 5.609375 18.84375 5.609375 36.375 \nQ 5.609375 53.953125 15.125 64.078125 \nQ 24.65625 74.21875 41.21875 74.21875 \nQ 47.75 74.21875 53.53125 72.484375 \nQ 59.328125 70.75 64.40625 67.28125 \nz\n\" id=\"DejaVuSans-67\"/>\n     <path d=\"M 9.8125 72.90625 \nL 19.671875 72.90625 \nL 19.671875 8.296875 \nL 55.171875 8.296875 \nL 55.171875 0 \nL 9.8125 0 \nz\n\" id=\"DejaVuSans-76\"/>\n     <path d=\"M 34.1875 63.1875 \nL 20.796875 26.90625 \nL 47.609375 26.90625 \nz\nM 28.609375 72.90625 \nL 39.796875 72.90625 \nL 67.578125 0 \nL 57.328125 0 \nL 50.6875 18.703125 \nL 17.828125 18.703125 \nL 11.1875 0 \nL 0.78125 0 \nz\n\" id=\"DejaVuSans-65\"/>\n    </defs>\n    <g transform=\"translate(117.200625 16.318125)scale(0.12 -0.12)\">\n     <use xlink:href=\"#DejaVuSans-82\"/>\n     <use x=\"69.482422\" xlink:href=\"#DejaVuSans-79\"/>\n     <use x=\"148.193359\" xlink:href=\"#DejaVuSans-67\"/>\n     <use x=\"218.017578\" xlink:href=\"#DejaVuSans-32\"/>\n     <use x=\"249.804688\" xlink:href=\"#DejaVuSans-99\"/>\n     <use x=\"304.785156\" xlink:href=\"#DejaVuSans-117\"/>\n     <use x=\"368.164062\" xlink:href=\"#DejaVuSans-114\"/>\n     <use x=\"409.277344\" xlink:href=\"#DejaVuSans-118\"/>\n     <use x=\"468.457031\" xlink:href=\"#DejaVuSans-101\"/>\n     <use x=\"529.980469\" xlink:href=\"#DejaVuSans-32\"/>\n     <use x=\"561.767578\" xlink:href=\"#DejaVuSans-102\"/>\n     <use x=\"596.972656\" xlink:href=\"#DejaVuSans-111\"/>\n     <use x=\"658.154297\" xlink:href=\"#DejaVuSans-114\"/>\n     <use x=\"699.267578\" xlink:href=\"#DejaVuSans-32\"/>\n     <use x=\"731.054688\" xlink:href=\"#DejaVuSans-83\"/>\n     <use x=\"794.53125\" xlink:href=\"#DejaVuSans-76\"/>\n     <use x=\"850.275391\" xlink:href=\"#DejaVuSans-65\"/>\n     <use x=\"918.683594\" xlink:href=\"#DejaVuSans-70\"/>\n     <use x=\"976.0625\" xlink:href=\"#DejaVuSans-97\"/>\n     <use x=\"1037.341797\" xlink:href=\"#DejaVuSans-105\"/>\n     <use x=\"1065.125\" xlink:href=\"#DejaVuSans-108\"/>\n     <use x=\"1092.908203\" xlink:href=\"#DejaVuSans-32\"/>\n     <use x=\"1124.695312\" xlink:href=\"#DejaVuSans-99\"/>\n     <use x=\"1179.675781\" xlink:href=\"#DejaVuSans-108\"/>\n     <use x=\"1207.458984\" xlink:href=\"#DejaVuSans-97\"/>\n     <use x=\"1268.738281\" xlink:href=\"#DejaVuSans-115\"/>\n     <use x=\"1320.837891\" xlink:href=\"#DejaVuSans-115\"/>\n     <use x=\"1372.9375\" xlink:href=\"#DejaVuSans-105\"/>\n     <use x=\"1400.720703\" xlink:href=\"#DejaVuSans-102\"/>\n     <use x=\"1435.925781\" xlink:href=\"#DejaVuSans-105\"/>\n     <use x=\"1463.708984\" xlink:href=\"#DejaVuSans-101\"/>\n     <use x=\"1525.232422\" xlink:href=\"#DejaVuSans-114\"/>\n    </g>\n   </g>\n  </g>\n </g>\n <defs>\n  <clipPath id=\"p98b1eff031\">\n   <rect height=\"217.44\" width=\"334.8\" x=\"43.78125\" y=\"22.318125\"/>\n  </clipPath>\n </defs>\n</svg>\n",
      "text/plain": "<Figure size 432x288 with 1 Axes>"
     },
     "metadata": {
      "needs_background": "light"
     },
     "output_type": "display_data"
    }
   ],
   "source": [
    "plt.plot(fpr, tpr)\n",
    "plt.xlim([0.0, 1.0])\n",
    "plt.ylim([0.0, 1.0])\n",
    "plt.title('ROC curve for SLAFail classifier')\n",
    "plt.xlabel('False Positive Rate (1 - Specificity)')\n",
    "plt.ylabel('True Positive Rate (Sensitivity)')\n",
    "plt.grid(True)"
   ]
  },
  {
   "cell_type": "markdown",
   "metadata": {},
   "source": [
    "Capture resulting AUC"
   ]
  },
  {
   "cell_type": "markdown",
   "metadata": {},
   "source": [
    "## Save Details and Performance Measures for Comparison to other Models\n"
   ]
  },
  {
   "cell_type": "markdown",
   "metadata": {},
   "source": [
    "Capture a few classification metrics:\n",
    "* Classification Accuracy: Overall, how often is the classifier correct?\n",
    "* Classification Error: Overall, how often is the classifier incorrect?\n",
    "* True Positive Rate  (Recall, Sensitivity): When the actual value is positive, how often is the prediction correct?\n",
    "* True Negative Rate (Specificity): When the actual value is negative, how often is the prediction correct?\n",
    "* False Positive Rate: When the actual value is negative, how often is the prediction incorrect?\n",
    "* Precision: When a positive value is predicted, how often is the prediction correct?\n"
   ]
  },
  {
   "cell_type": "code",
   "execution_count": 32,
   "metadata": {},
   "outputs": [],
   "source": [
    "PipeLineMetadata['Metrics - Classification Report'] = metrics.classification_report(y_test, y_pred_class)\n",
    "PipeLineMetadata['Metrics - Confusion Matrix'] =metrics.confusion_matrix(y_test, y_pred_class)\n",
    "PipeLineMetadata['Metrics - Confusion Matrix Classification Accuracy'] = metrics.accuracy_score(y_test,y_pred_class) \n",
    "PipeLineMetadata['Metrics - Confusion Matrix Classification Error'] = 1- metrics.accuracy_score(y_test,y_pred_class)\n",
    "PipeLineMetadata['Metrics - Confusion Matrix True Positive Rate'] = metrics.recall_score(y_test, y_pred_class) \n",
    "PipeLineMetadata['Metrics - Confusion Matrix True Negative Rate'] =  TN / float(TN + FP)\n",
    "PipeLineMetadata['Metrics - Confusion Matrix False Positive Rate'] =  FP / float(TN + FP)\n",
    "PipeLineMetadata['Metrics - Confusion Matrix Precision'] = metrics.precision_score(y_test,y_pred_class)\n"
   ]
  },
  {
   "cell_type": "code",
   "execution_count": 33,
   "metadata": {},
   "outputs": [],
   "source": [
    "PipeLineMetadata['Metrics - AUC'] = metrics.roc_auc_score(y_test, y_pred_prob)"
   ]
  },
  {
   "cell_type": "code",
   "execution_count": 34,
   "metadata": {},
   "outputs": [],
   "source": [
    "PipeLineMetadata['Metrics - ROC Curve fpr array'] = fpr\n",
    "PipeLineMetadata['Metrics - ROC Curve tpr array'] = tpr"
   ]
  },
  {
   "cell_type": "code",
   "execution_count": 35,
   "metadata": {},
   "outputs": [
    {
     "data": {
      "text/plain": "{'Null Accuracy': 0.7048187068067784,\n 'Metrics - Classification Report': '              precision    recall  f1-score   support\\n\\n           0       0.78      0.89      0.83      7445\\n           1       0.60      0.41      0.49      3118\\n\\n    accuracy                           0.75     10563\\n   macro avg       0.69      0.65      0.66     10563\\nweighted avg       0.73      0.75      0.73     10563\\n',\n 'Metrics - Confusion Matrix': array([[6597,  848],\n        [1826, 1292]]),\n 'Metrics - Confusion Matrix Classification Accuracy': 0.7468522200132538,\n 'Metrics - Confusion Matrix Classification Error': 0.2531477799867462,\n 'Metrics - Confusion Matrix True Positive Rate': 0.4143681847338037,\n 'Metrics - Confusion Matrix True Negative Rate': 0.8860980523841504,\n 'Metrics - Confusion Matrix False Positive Rate': 0.11390194761584957,\n 'Metrics - Confusion Matrix Precision': 0.6037383177570094,\n 'Metrics - AUC': 0.7806294265709925,\n 'Metrics - ROC Curve fpr array': array([0.        , 0.        , 0.        , ..., 0.99946273, 0.99973136,\n        1.        ]),\n 'Metrics - ROC Curve tpr array': array([0.00000000e+00, 3.20718409e-04, 2.88646568e-03, ...,\n        1.00000000e+00, 1.00000000e+00, 1.00000000e+00])}"
     },
     "execution_count": 35,
     "metadata": {},
     "output_type": "execute_result"
    }
   ],
   "source": [
    "PipeLineMetadata"
   ]
  },
  {
   "cell_type": "code",
   "execution_count": 36,
   "metadata": {},
   "outputs": [],
   "source": [
    "with open(outFileName,'wb') as fo:\n",
    "    pickle.dump(PipeLineMetadata, fo)"
   ]
  },
  {
   "cell_type": "code",
   "execution_count": 37,
   "metadata": {},
   "outputs": [],
   "source": [
    "# with open(\"FILENAME\", 'rb') as fi:\n",
    "#    BareBonesMetadata = pickle.load(fi)"
   ]
  },
  {
   "cell_type": "code",
   "execution_count": null,
   "metadata": {},
   "outputs": [],
   "source": []
  }
 ]
}