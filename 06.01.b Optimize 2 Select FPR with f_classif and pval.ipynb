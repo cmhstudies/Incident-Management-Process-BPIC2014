{
 "nbformat": 4,
 "nbformat_minor": 2,
 "metadata": {
  "language_info": {
   "name": "python",
   "codemirror_mode": {
    "name": "ipython",
    "version": 3
   },
   "version": "3.7.6-final"
  },
  "orig_nbformat": 2,
  "file_extension": ".py",
  "mimetype": "text/x-python",
  "name": "python",
  "npconvert_exporter": "python",
  "pygments_lexer": "ipython3",
  "version": 3,
  "kernelspec": {
   "name": "python3",
   "display_name": "Python 3"
  }
 },
 "cells": [
  {
   "cell_type": "markdown",
   "metadata": {},
   "source": [
    "# 06.01.b  Optimize the Logistic Regression Model\n",
    " \n",
    "Goal: identify the factors that most contribute to SLAFail\n",
    "\n",
    "Tuning Adjustments: Focus on finding the most predictive set of predictor variables\n",
    "\n",
    "Read Prepared Data  ->  Split Data  -> Develop Pipeline  ->  Evaluate  \n",
    "\n",
    "Split Data using sklearn.model_selection.train_test_split\n",
    "\n",
    "Pipeline includes:\n",
    "\n",
    "- Preprocessing variables\n",
    "    - sklearn.compose.make_column_transformer \n",
    "    - Scale numeric variables: sklearn.preprocessing.StandardScaler\n",
    "    - Encode categorical variables: category_encoders.MEstimateEncoder\n",
    "- Selecting features\n",
    "    - sklearn.feature_selection.SelectFpr\n",
    "    - sklearn.feature_selection.f_classif\n",
    "- Instantiate model\n",
    "    - sklearn.linear_model.LogisticRegression\n",
    "- Fit the model using training data\n",
    "- Cross-validate the model with training data\n",
    "    - sklearn.model_selection.cross_val_score\n",
    "- Output performance measures\n",
    "\n",
    "Evaluate involves running the pipeline with the testing data and capturing metrics\n",
    "\n",
    "\n",
    "https://github.com/justmarkham/scikit-learn-videos/blob/master/08_grid_search.ipynb\n",
    "\n",
    "\n"
   ]
  },
  {
   "cell_type": "code",
   "execution_count": 1,
   "metadata": {},
   "outputs": [],
   "source": [
    "\n",
    "# Load libraries\n",
    "import pandas as pd\n",
    "import numpy as np\n",
    "import pickle\n",
    "\n",
    "# allow plots to appear in the notebook\n",
    "%matplotlib inline\n",
    "import matplotlib.pyplot as plt\n",
    "\n",
    "from sklearn.model_selection import train_test_split\n",
    "\n",
    "from sklearn.compose import make_column_transformer\n",
    "import category_encoders as ce\n",
    "from sklearn.preprocessing import StandardScaler\n",
    "\n",
    "\n",
    "from sklearn.linear_model import LogisticRegression\n",
    "from sklearn.pipeline import Pipeline\n",
    "from sklearn.model_selection import GridSearchCV\n",
    "\n",
    "from sklearn.feature_selection import SelectFpr\n",
    "\n",
    "from sklearn import metrics"
   ]
  },
  {
   "cell_type": "code",
   "execution_count": 2,
   "metadata": {},
   "outputs": [],
   "source": [
    "# create dictionary to store information about the pipeline and results for later reporting and review\n",
    "PipeLineMetadata = { \"Name\" : \"Optimize Round 2 Selector SelectFpr with f_classif and p-value <= 0.05\" }"
   ]
  },
  {
   "cell_type": "code",
   "execution_count": 3,
   "metadata": {},
   "outputs": [],
   "source": [
    "outFileName = \"data/06.00.b Optimize 2 Select FPR.pkl\""
   ]
  },
  {
   "cell_type": "code",
   "execution_count": 4,
   "metadata": {},
   "outputs": [
    {
     "name": "stdout",
     "output_type": "stream",
     "text": "df.shape: (35208, 10)\ndf.columns: Index(['Service_Component_WBS_aff', 'Urgency', 'KM_number',\n       'Count_Related_Interactions', 'Count_Related_Incidents',\n       'Count_Related_Changes', 'SLAFail', 'Open_Time_HourOfDay',\n       'Open_Time_DayOfWeek', 'CI_TypeSubType_aff'],\n      dtype='object')\ndf.dtypes: \nService_Component_WBS_aff      object\nUrgency                        object\nKM_number                      object\nCount_Related_Interactions    float64\nCount_Related_Incidents       float64\nCount_Related_Changes         float64\nSLAFail                         int64\nOpen_Time_HourOfDay             int64\nOpen_Time_DayOfWeek            object\nCI_TypeSubType_aff             object\ndtype: object\n"
    }
   ],
   "source": [
    "df = pd.read_csv(\"data/05.00 Incident Data.csv\")\n",
    "print(\"df.shape: \" + str(df.shape))\n",
    "print(\"df.columns: \" + str(df.columns))\n",
    "print(\"df.dtypes: \\n\" + str(df.dtypes))"
   ]
  },
  {
   "cell_type": "markdown",
   "metadata": {},
   "source": [
    "## Read Prepared Data"
   ]
  },
  {
   "cell_type": "markdown",
   "metadata": {},
   "source": [
    "#### Set X and y"
   ]
  },
  {
   "cell_type": "code",
   "execution_count": 5,
   "metadata": {},
   "outputs": [
    {
     "data": {
      "text/plain": "(35208,)"
     },
     "execution_count": 5,
     "metadata": {},
     "output_type": "execute_result"
    }
   ],
   "source": [
    "y = df.SLAFail\n",
    "y.shape"
   ]
  },
  {
   "cell_type": "code",
   "execution_count": 6,
   "metadata": {},
   "outputs": [
    {
     "data": {
      "text/plain": "(35208, 9)"
     },
     "execution_count": 6,
     "metadata": {},
     "output_type": "execute_result"
    }
   ],
   "source": [
    "X = df.drop(['SLAFail'], axis='columns')\n",
    "X.shape"
   ]
  },
  {
   "cell_type": "markdown",
   "metadata": {},
   "source": [
    "Set `Open_Time_HourOfDay` for recognition as a Categorical variable"
   ]
  },
  {
   "cell_type": "code",
   "execution_count": 7,
   "metadata": {},
   "outputs": [
    {
     "data": {
      "text/plain": "Service_Component_WBS_aff      object\nUrgency                        object\nKM_number                      object\nCount_Related_Interactions    float64\nCount_Related_Incidents       float64\nCount_Related_Changes         float64\nOpen_Time_HourOfDay            object\nOpen_Time_DayOfWeek            object\nCI_TypeSubType_aff             object\ndtype: object"
     },
     "execution_count": 7,
     "metadata": {},
     "output_type": "execute_result"
    }
   ],
   "source": [
    "X.Open_Time_HourOfDay = X.Open_Time_HourOfDay.astype('object')\n",
    "X.dtypes"
   ]
  },
  {
   "cell_type": "markdown",
   "metadata": {},
   "source": [
    "Create a list of numeric variable column names"
   ]
  },
  {
   "cell_type": "code",
   "execution_count": 8,
   "metadata": {},
   "outputs": [
    {
     "data": {
      "text/plain": "Index(['Count_Related_Interactions', 'Count_Related_Incidents',\n       'Count_Related_Changes'],\n      dtype='object')"
     },
     "execution_count": 8,
     "metadata": {},
     "output_type": "execute_result"
    }
   ],
   "source": [
    "numericVars = X.select_dtypes(include=['float64']).columns\n",
    "numericVars"
   ]
  },
  {
   "cell_type": "markdown",
   "metadata": {},
   "source": [
    "Create a list of categorical variables"
   ]
  },
  {
   "cell_type": "code",
   "execution_count": 9,
   "metadata": {},
   "outputs": [
    {
     "data": {
      "text/plain": "Index(['Service_Component_WBS_aff', 'Urgency', 'KM_number',\n       'Open_Time_HourOfDay', 'Open_Time_DayOfWeek', 'CI_TypeSubType_aff'],\n      dtype='object')"
     },
     "execution_count": 9,
     "metadata": {},
     "output_type": "execute_result"
    }
   ],
   "source": [
    "categoricalVars = X.select_dtypes(include=['object']).columns\n",
    "categoricalVars"
   ]
  },
  {
   "cell_type": "markdown",
   "metadata": {},
   "source": [
    "## Split Data\n",
    "\n",
    "Create Training and Testing Data Sets\n"
   ]
  },
  {
   "cell_type": "code",
   "execution_count": 10,
   "metadata": {},
   "outputs": [],
   "source": [
    "\n",
    "X_train, X_test, y_train, y_test = train_test_split(X, y, test_size=0.3, random_state=2020)\n"
   ]
  },
  {
   "cell_type": "code",
   "execution_count": 11,
   "metadata": {},
   "outputs": [
    {
     "name": "stdout",
     "output_type": "stream",
     "text": "(24645, 9)\nIndex(['Service_Component_WBS_aff', 'Urgency', 'KM_number',\n       'Count_Related_Interactions', 'Count_Related_Incidents',\n       'Count_Related_Changes', 'Open_Time_HourOfDay', 'Open_Time_DayOfWeek',\n       'CI_TypeSubType_aff'],\n      dtype='object')\n"
    }
   ],
   "source": [
    "print(X_train.shape)\n",
    "print(X_train.columns)"
   ]
  },
  {
   "cell_type": "markdown",
   "metadata": {},
   "source": [
    "## Calculate Null Accuracy\n",
    "\n",
    "Null accuracy: accuracy that could be achieved by always predicting the most frequent class\n",
    "\n",
    "This means that a dumb model that always predicts 0 would be right 68% of the time\n",
    "\n",
    "This shows how classification accuracy is not that good as it's close to a dumb model\n",
    "It's a good way to know the minimum we should achieve with our models\n"
   ]
  },
  {
   "cell_type": "code",
   "execution_count": 12,
   "metadata": {},
   "outputs": [
    {
     "data": {
      "text/plain": "0    7445\n1    3118\nName: SLAFail, dtype: int64"
     },
     "execution_count": 12,
     "metadata": {},
     "output_type": "execute_result"
    }
   ],
   "source": [
    "# examine the class distribution of the testing set (using a Pandas Series method)\n",
    "y_test.value_counts()\n"
   ]
  },
  {
   "cell_type": "code",
   "execution_count": 13,
   "metadata": {},
   "outputs": [
    {
     "name": "stdout",
     "output_type": "stream",
     "text": "Percentage of Ones: 0.295181 \nPercentage of Zeros: 0.704819 \nPercentage of Zeros: 0.704819 \nNull Accuracy: 0.704819 \n"
    }
   ],
   "source": [
    "# calculate the percentage of ones\n",
    "print(\"Percentage of Ones: %f \" % y_test.mean())\n",
    "print(\"Percentage of Zeros: %f \" % (1 - y_test.mean()))\n",
    "print(\"Percentage of Zeros: %f \" % ( 1 - y_test.mean() ) )\n",
    "null_accuracy = max(y_test.mean(), 1 - y_test.mean())\n",
    "PipeLineMetadata = { \"Null Accuracy\" : null_accuracy }\n",
    "print(\"Null Accuracy: %f \" % null_accuracy )\n"
   ]
  },
  {
   "cell_type": "markdown",
   "metadata": {},
   "source": [
    "This means that a 'dumb' model that always predicts 0 would be right 70% of the time. \n",
    "\n",
    "The developed model must exceed a 70% accuracy rate to be considered better than the 'dumb' model."
   ]
  },
  {
   "cell_type": "markdown",
   "metadata": {},
   "source": [
    "## Develop Pipeline\n"
   ]
  },
  {
   "cell_type": "markdown",
   "metadata": {},
   "source": [
    "### Encode Variables\n",
    "\n",
    "Numeric and categorical variables require different treatment \n",
    "\n",
    "Set up column transformer for scaling numeric variables and encoding categorical variables\n",
    "\n"
   ]
  },
  {
   "cell_type": "code",
   "execution_count": 14,
   "metadata": {},
   "outputs": [],
   "source": [
    "column_trans = make_column_transformer(\n",
    "    (ce.WOEEncoder(), categoricalVars),\n",
    "    (StandardScaler(), numericVars),\n",
    "    remainder='passthrough')"
   ]
  },
  {
   "cell_type": "markdown",
   "metadata": {},
   "source": [
    "### Feature Selection\n",
    "\n",
    "\n"
   ]
  },
  {
   "cell_type": "code",
   "execution_count": 15,
   "metadata": {},
   "outputs": [],
   "source": [
    "# default score function is f_classif and p-value 0.05\n",
    "selector = SelectFpr()"
   ]
  },
  {
   "cell_type": "markdown",
   "metadata": {},
   "source": [
    "### Specify Classifier (Logistic Regression)"
   ]
  },
  {
   "cell_type": "code",
   "execution_count": 16,
   "metadata": {},
   "outputs": [],
   "source": [
    "classifier = LogisticRegression(solver=\"lbfgs\")"
   ]
  },
  {
   "cell_type": "markdown",
   "metadata": {},
   "source": [
    "### Compose Pipeline"
   ]
  },
  {
   "cell_type": "code",
   "execution_count": 17,
   "metadata": {},
   "outputs": [],
   "source": [
    "pipe = Pipeline(steps=[('column_trans', column_trans), \n",
    "                        ('selector',  selector),\n",
    "                        ('classifier', classifier)\n",
    "                        ])"
   ]
  },
  {
   "cell_type": "markdown",
   "metadata": {},
   "source": [
    "## Train the model\n"
   ]
  },
  {
   "cell_type": "code",
   "execution_count": 18,
   "metadata": {},
   "outputs": [
    {
     "data": {
      "text/plain": "Pipeline(memory=None,\n         steps=[('column_trans',\n                 ColumnTransformer(n_jobs=None, remainder='passthrough',\n                                   sparse_threshold=0.3,\n                                   transformer_weights=None,\n                                   transformers=[('woeencoder',\n                                                  WOEEncoder(cols=None,\n                                                             drop_invariant=False,\n                                                             handle_missing='value',\n                                                             handle_unknown='value',\n                                                             random_state=None,\n                                                             randomized=False,\n                                                             regularization=1.0,\n                                                             return_df=True,\n                                                             sigma=0.05,\n                                                             verbose=0)...\n                                   verbose=False)),\n                ('selector',\n                 SelectFpr(alpha=0.05,\n                           score_func=<function f_classif at 0x1a1dd995f0>)),\n                ('classifier',\n                 LogisticRegression(C=1.0, class_weight=None, dual=False,\n                                    fit_intercept=True, intercept_scaling=1,\n                                    l1_ratio=None, max_iter=100,\n                                    multi_class='auto', n_jobs=None,\n                                    penalty='l2', random_state=None,\n                                    solver='lbfgs', tol=0.0001, verbose=0,\n                                    warm_start=False))],\n         verbose=False)"
     },
     "execution_count": 18,
     "metadata": {},
     "output_type": "execute_result"
    }
   ],
   "source": [
    "pipe.fit(X_train, y_train)"
   ]
  },
  {
   "cell_type": "code",
   "execution_count": 19,
   "metadata": {},
   "outputs": [
    {
     "data": {
      "text/plain": "{'Null Accuracy': 0.7048187068067784,\n 'Column Transforms': ['woeencoder', 'standardscaler'],\n 'Selector': SelectFpr(alpha=0.05, score_func=<function f_classif at 0x1a1dd995f0>),\n 'Classifier': LogisticRegression(C=1.0, class_weight=None, dual=False, fit_intercept=True,\n                    intercept_scaling=1, l1_ratio=None, max_iter=100,\n                    multi_class='auto', n_jobs=None, penalty='l2',\n                    random_state=None, solver='lbfgs', tol=0.0001, verbose=0,\n                    warm_start=False)}"
     },
     "execution_count": 19,
     "metadata": {},
     "output_type": "execute_result"
    }
   ],
   "source": [
    "##### Save model information\n",
    "PipeLineMetadata['Column Transforms'] = list(pipe.named_steps.column_trans.named_transformers_.keys())\n",
    "PipeLineMetadata['Selector'] = pipe.named_steps.selector\n",
    "PipeLineMetadata['Classifier'] = pipe.named_steps.classifier\n",
    "PipeLineMetadata"
   ]
  },
  {
   "cell_type": "code",
   "execution_count": 20,
   "metadata": {},
   "outputs": [
    {
     "data": {
      "text/plain": "[True, True, True, True, True, True, True, True, False]"
     },
     "execution_count": 20,
     "metadata": {},
     "output_type": "execute_result"
    }
   ],
   "source": [
    "# returns a mask of features retained\n",
    "pipe.named_steps.selector.get_support().tolist()"
   ]
  },
  {
   "cell_type": "code",
   "execution_count": 21,
   "metadata": {},
   "outputs": [
    {
     "data": {
      "text/plain": "array(['Service_Component_WBS_aff', 'Urgency', 'KM_number',\n       'Count_Related_Interactions', 'Count_Related_Incidents',\n       'Count_Related_Changes', 'Open_Time_HourOfDay',\n       'Open_Time_DayOfWeek'], dtype='<U26')"
     },
     "execution_count": 21,
     "metadata": {},
     "output_type": "execute_result"
    }
   ],
   "source": [
    "# apply mask to X_train column names \n",
    "selectedFeatures = np.array(X_train.columns.tolist())[pipe.named_steps.selector.get_support().tolist()]\n",
    "selectedFeatures"
   ]
  },
  {
   "cell_type": "code",
   "execution_count": 22,
   "metadata": {},
   "outputs": [
    {
     "data": {
      "text/plain": "{'Null Accuracy': 0.7048187068067784,\n 'Column Transforms': ['woeencoder', 'standardscaler'],\n 'Selector': SelectFpr(alpha=0.05, score_func=<function f_classif at 0x1a1dd995f0>),\n 'Classifier': LogisticRegression(C=1.0, class_weight=None, dual=False, fit_intercept=True,\n                    intercept_scaling=1, l1_ratio=None, max_iter=100,\n                    multi_class='auto', n_jobs=None, penalty='l2',\n                    random_state=None, solver='lbfgs', tol=0.0001, verbose=0,\n                    warm_start=False),\n 'Classifier - Intercept': -0.9376094581875354,\n 'Classifier - Coefficients':                                    0\n Service_Component_WBS_aff   0.104001\n Urgency                     0.188064\n KM_number                   1.121735\n Count_Related_Interactions  1.172629\n Count_Related_Incidents     1.245934\n Count_Related_Changes       0.038820\n Open_Time_HourOfDay         0.182436\n Open_Time_DayOfWeek        -0.035750}"
     },
     "execution_count": 22,
     "metadata": {},
     "output_type": "execute_result"
    }
   ],
   "source": [
    "PipeLineMetadata['Classifier - Intercept'] = pipe.named_steps.classifier.intercept_[0]\n",
    "PipeLineMetadata['Classifier - Coefficients'] = pd.DataFrame(pipe.named_steps.classifier.coef_, columns=selectedFeatures).transpose()\n",
    "PipeLineMetadata"
   ]
  },
  {
   "cell_type": "markdown",
   "metadata": {},
   "source": [
    "## Test the Model"
   ]
  },
  {
   "cell_type": "markdown",
   "metadata": {},
   "source": [
    "Get predicted classification and predicted probabilities based on the model"
   ]
  },
  {
   "cell_type": "code",
   "execution_count": 23,
   "metadata": {},
   "outputs": [],
   "source": [
    "y_pred_class = pipe.predict(X_test)\n"
   ]
  },
  {
   "cell_type": "code",
   "execution_count": 24,
   "metadata": {},
   "outputs": [],
   "source": [
    "y_pred_prob = pipe.predict_proba(X_test)[:,1]\n",
    "\n"
   ]
  },
  {
   "cell_type": "code",
   "execution_count": 25,
   "metadata": {},
   "outputs": [
    {
     "name": "stdout",
     "output_type": "stream",
     "text": "precision    recall  f1-score   support\n\n           0       0.78      0.89      0.83      7445\n           1       0.60      0.41      0.49      3118\n\n    accuracy                           0.75     10563\n   macro avg       0.69      0.65      0.66     10563\nweighted avg       0.73      0.75      0.73     10563\n\n"
    }
   ],
   "source": [
    "print(metrics.classification_report(y_test, y_pred_class))"
   ]
  },
  {
   "cell_type": "markdown",
   "metadata": {},
   "source": [
    "Look at the resulting confusion matrix\n",
    "\n",
    "Save True Positive (TP), True Negative (TN), False Positive(FP), and False Negative (FN) values"
   ]
  },
  {
   "cell_type": "code",
   "execution_count": 26,
   "metadata": {},
   "outputs": [
    {
     "name": "stdout",
     "output_type": "stream",
     "text": "[[6597  848]\n [1827 1291]]\nTN: 6597 \t FP: 848 \nFN: 1827 \t TP: 1291 \n"
    }
   ],
   "source": [
    "confusion = metrics.confusion_matrix(y_test, y_pred_class)\n",
    "TP = confusion[1, 1]\n",
    "TN = confusion[0, 0]\n",
    "FP = confusion[0, 1]\n",
    "FN = confusion[1, 0]\n",
    "print(confusion)\n",
    "print(\"TN: %d \\t FP: %d \\nFN: %d \\t TP: %d \" % (TN, FP, FN, TP))"
   ]
  },
  {
   "cell_type": "markdown",
   "metadata": {},
   "source": [
    "Add some ROC curve information and AUC result\n"
   ]
  },
  {
   "cell_type": "code",
   "execution_count": 27,
   "metadata": {},
   "outputs": [
    {
     "data": {
      "text/plain": "0.7806632430855996"
     },
     "execution_count": 27,
     "metadata": {},
     "output_type": "execute_result"
    }
   ],
   "source": [
    "fpr, tpr, thresholds = metrics.roc_curve(y_test, y_pred_prob)\n",
    "metrics.roc_auc_score(y_test, y_pred_prob)"
   ]
  },
  {
   "cell_type": "code",
   "execution_count": 28,
   "metadata": {},
   "outputs": [
    {
     "data": {
      "image/png": "[encoded data removed]",
      "image/svg+xml": "<?xml version=\"1.0\" encoding=\"utf-8\" standalone=\"no\"?>\n<!DOCTYPE svg PUBLIC \"-//W3C//DTD SVG 1.1//EN\"\n  \"http://www.w3.org/Graphics/SVG/1.1/DTD/svg11.dtd\">\n<!-- Created with matplotlib (https://matplotlib.org/) -->\n<svg height=\"277.314375pt\" version=\"1.1\" viewBox=\"0 0 393.732813 277.314375\" width=\"393.732813pt\" xmlns=\"http://www.w3.org/2000/svg\" xmlns:xlink=\"http://www.w3.org/1999/xlink\">\n <defs>\n  <style type=\"text/css\">\n*{stroke-linecap:butt;stroke-linejoin:round;}\n  </style>\n </defs>\n <g id=\"figure_1\">\n  <g id=\"patch_1\">\n   <path d=\"M 0 277.314375 \nL 393.732813 277.314375 \nL 393.732813 0 \nL 0 0 \nz\n\" style=\"fill:none;\"/>\n  </g>\n  <g id=\"axes_1\">\n   <g id=\"patch_2\">\n    <path d=\"M 43.78125 239.758125 \nL 378.58125 239.758125 \nL 378.58125 22.318125 \nL 43.78125 22.318125 \nz\n\" style=\"fill:#ffffff;\"/>\n   </g>\n   <g id=\"matplotlib.axis_1\">\n    <g id=\"xtick_1\">\n     <g id=\"line2d_1\">\n      <path clip-path=\"url(#p48cd14ff29)\" d=\"M 43.78125 239.758125 \nL 43.78125 22.318125 \n\" style=\"fill:none;stroke:#b0b0b0;stroke-linecap:square;stroke-width:0.8;\"/>\n     </g>\n     <g id=\"line2d_2\">\n      <defs>\n       <path d=\"M 0 0 \nL 0 3.5 \n\" id=\"m8df13596ae\" style=\"stroke:#000000;stroke-width:0.8;\"/>\n      </defs>\n      <g>\n       <use style=\"stroke:#000000;stroke-width:0.8;\" x=\"43.78125\" xlink:href=\"#m8df13596ae\" y=\"239.758125\"/>\n      </g>\n     </g>\n     <g id=\"text_1\">\n      <!-- 0.0 -->\n      <defs>\n       <path d=\"M 31.78125 66.40625 \nQ 24.171875 66.40625 20.328125 58.90625 \nQ 16.5 51.421875 16.5 36.375 \nQ 16.5 21.390625 20.328125 13.890625 \nQ 24.171875 6.390625 31.78125 6.390625 \nQ 39.453125 6.390625 43.28125 13.890625 \nQ 47.125 21.390625 47.125 36.375 \nQ 47.125 51.421875 43.28125 58.90625 \nQ 39.453125 66.40625 31.78125 66.40625 \nz\nM 31.78125 74.21875 \nQ 44.046875 74.21875 50.515625 64.515625 \nQ 56.984375 54.828125 56.984375 36.375 \nQ 56.984375 17.96875 50.515625 8.265625 \nQ 44.046875 -1.421875 31.78125 -1.421875 \nQ 19.53125 -1.421875 13.0625 8.265625 \nQ 6.59375 17.96875 6.59375 36.375 \nQ 6.59375 54.828125 13.0625 64.515625 \nQ 19.53125 74.21875 31.78125 74.21875 \nz\n\" id=\"DejaVuSans-48\"/>\n       <path d=\"M 10.6875 12.40625 \nL 21 12.40625 \nL 21 0 \nL 10.6875 0 \nz\n\" id=\"DejaVuSans-46\"/>\n      </defs>\n      <g transform=\"translate(35.829688 254.356562)scale(0.1 -0.1)\">\n       <use xlink:href=\"#DejaVuSans-48\"/>\n       <use x=\"63.623047\" xlink:href=\"#DejaVuSans-46\"/>\n       <use x=\"95.410156\" xlink:href=\"#DejaVuSans-48\"/>\n      </g>\n     </g>\n    </g>\n    <g id=\"xtick_2\">\n     <g id=\"line2d_3\">\n      <path clip-path=\"url(#p48cd14ff29)\" d=\"M 110.74125 239.758125 \nL 110.74125 22.318125 \n\" style=\"fill:none;stroke:#b0b0b0;stroke-linecap:square;stroke-width:0.8;\"/>\n     </g>\n     <g id=\"line2d_4\">\n      <g>\n       <use style=\"stroke:#000000;stroke-width:0.8;\" x=\"110.74125\" xlink:href=\"#m8df13596ae\" y=\"239.758125\"/>\n      </g>\n     </g>\n     <g id=\"text_2\">\n      <!-- 0.2 -->\n      <defs>\n       <path d=\"M 19.1875 8.296875 \nL 53.609375 8.296875 \nL 53.609375 0 \nL 7.328125 0 \nL 7.328125 8.296875 \nQ 12.9375 14.109375 22.625 23.890625 \nQ 32.328125 33.6875 34.8125 36.53125 \nQ 39.546875 41.84375 41.421875 45.53125 \nQ 43.3125 49.21875 43.3125 52.78125 \nQ 43.3125 58.59375 39.234375 62.25 \nQ 35.15625 65.921875 28.609375 65.921875 \nQ 23.96875 65.921875 18.8125 64.3125 \nQ 13.671875 62.703125 7.8125 59.421875 \nL 7.8125 69.390625 \nQ 13.765625 71.78125 18.9375 73 \nQ 24.125 74.21875 28.421875 74.21875 \nQ 39.75 74.21875 46.484375 68.546875 \nQ 53.21875 62.890625 53.21875 53.421875 \nQ 53.21875 48.921875 51.53125 44.890625 \nQ 49.859375 40.875 45.40625 35.40625 \nQ 44.1875 33.984375 37.640625 27.21875 \nQ 31.109375 20.453125 19.1875 8.296875 \nz\n\" id=\"DejaVuSans-50\"/>\n      </defs>\n      <g transform=\"translate(102.789688 254.356562)scale(0.1 -0.1)\">\n       <use xlink:href=\"#DejaVuSans-48\"/>\n       <use x=\"63.623047\" xlink:href=\"#DejaVuSans-46\"/>\n       <use x=\"95.410156\" xlink:href=\"#DejaVuSans-50\"/>\n      </g>\n     </g>\n    </g>\n    <g id=\"xtick_3\">\n     <g id=\"line2d_5\">\n      <path clip-path=\"url(#p48cd14ff29)\" d=\"M 177.70125 239.758125 \nL 177.70125 22.318125 \n\" style=\"fill:none;stroke:#b0b0b0;stroke-linecap:square;stroke-width:0.8;\"/>\n     </g>\n     <g id=\"line2d_6\">\n      <g>\n       <use style=\"stroke:#000000;stroke-width:0.8;\" x=\"177.70125\" xlink:href=\"#m8df13596ae\" y=\"239.758125\"/>\n      </g>\n     </g>\n     <g id=\"text_3\">\n      <!-- 0.4 -->\n      <defs>\n       <path d=\"M 37.796875 64.3125 \nL 12.890625 25.390625 \nL 37.796875 25.390625 \nz\nM 35.203125 72.90625 \nL 47.609375 72.90625 \nL 47.609375 25.390625 \nL 58.015625 25.390625 \nL 58.015625 17.1875 \nL 47.609375 17.1875 \nL 47.609375 0 \nL 37.796875 0 \nL 37.796875 17.1875 \nL 4.890625 17.1875 \nL 4.890625 26.703125 \nz\n\" id=\"DejaVuSans-52\"/>\n      </defs>\n      <g transform=\"translate(169.749688 254.356562)scale(0.1 -0.1)\">\n       <use xlink:href=\"#DejaVuSans-48\"/>\n       <use x=\"63.623047\" xlink:href=\"#DejaVuSans-46\"/>\n       <use x=\"95.410156\" xlink:href=\"#DejaVuSans-52\"/>\n      </g>\n     </g>\n    </g>\n    <g id=\"xtick_4\">\n     <g id=\"line2d_7\">\n      <path clip-path=\"url(#p48cd14ff29)\" d=\"M 244.66125 239.758125 \nL 244.66125 22.318125 \n\" style=\"fill:none;stroke:#b0b0b0;stroke-linecap:square;stroke-width:0.8;\"/>\n     </g>\n     <g id=\"line2d_8\">\n      <g>\n       <use style=\"stroke:#000000;stroke-width:0.8;\" x=\"244.66125\" xlink:href=\"#m8df13596ae\" y=\"239.758125\"/>\n      </g>\n     </g>\n     <g id=\"text_4\">\n      <!-- 0.6 -->\n      <defs>\n       <path d=\"M 33.015625 40.375 \nQ 26.375 40.375 22.484375 35.828125 \nQ 18.609375 31.296875 18.609375 23.390625 \nQ 18.609375 15.53125 22.484375 10.953125 \nQ 26.375 6.390625 33.015625 6.390625 \nQ 39.65625 6.390625 43.53125 10.953125 \nQ 47.40625 15.53125 47.40625 23.390625 \nQ 47.40625 31.296875 43.53125 35.828125 \nQ 39.65625 40.375 33.015625 40.375 \nz\nM 52.59375 71.296875 \nL 52.59375 62.3125 \nQ 48.875 64.0625 45.09375 64.984375 \nQ 41.3125 65.921875 37.59375 65.921875 \nQ 27.828125 65.921875 22.671875 59.328125 \nQ 17.53125 52.734375 16.796875 39.40625 \nQ 19.671875 43.65625 24.015625 45.921875 \nQ 28.375 48.1875 33.59375 48.1875 \nQ 44.578125 48.1875 50.953125 41.515625 \nQ 57.328125 34.859375 57.328125 23.390625 \nQ 57.328125 12.15625 50.6875 5.359375 \nQ 44.046875 -1.421875 33.015625 -1.421875 \nQ 20.359375 -1.421875 13.671875 8.265625 \nQ 6.984375 17.96875 6.984375 36.375 \nQ 6.984375 53.65625 15.1875 63.9375 \nQ 23.390625 74.21875 37.203125 74.21875 \nQ 40.921875 74.21875 44.703125 73.484375 \nQ 48.484375 72.75 52.59375 71.296875 \nz\n\" id=\"DejaVuSans-54\"/>\n      </defs>\n      <g transform=\"translate(236.709688 254.356562)scale(0.1 -0.1)\">\n       <use xlink:href=\"#DejaVuSans-48\"/>\n       <use x=\"63.623047\" xlink:href=\"#DejaVuSans-46\"/>\n       <use x=\"95.410156\" xlink:href=\"#DejaVuSans-54\"/>\n      </g>\n     </g>\n    </g>\n    <g id=\"xtick_5\">\n     <g id=\"line2d_9\">\n      <path clip-path=\"url(#p48cd14ff29)\" d=\"M 311.62125 239.758125 \nL 311.62125 22.318125 \n\" style=\"fill:none;stroke:#b0b0b0;stroke-linecap:square;stroke-width:0.8;\"/>\n     </g>\n     <g id=\"line2d_10\">\n      <g>\n       <use style=\"stroke:#000000;stroke-width:0.8;\" x=\"311.62125\" xlink:href=\"#m8df13596ae\" y=\"239.758125\"/>\n      </g>\n     </g>\n     <g id=\"text_5\">\n      <!-- 0.8 -->\n      <defs>\n       <path d=\"M 31.78125 34.625 \nQ 24.75 34.625 20.71875 30.859375 \nQ 16.703125 27.09375 16.703125 20.515625 \nQ 16.703125 13.921875 20.71875 10.15625 \nQ 24.75 6.390625 31.78125 6.390625 \nQ 38.8125 6.390625 42.859375 10.171875 \nQ 46.921875 13.96875 46.921875 20.515625 \nQ 46.921875 27.09375 42.890625 30.859375 \nQ 38.875 34.625 31.78125 34.625 \nz\nM 21.921875 38.8125 \nQ 15.578125 40.375 12.03125 44.71875 \nQ 8.5 49.078125 8.5 55.328125 \nQ 8.5 64.0625 14.71875 69.140625 \nQ 20.953125 74.21875 31.78125 74.21875 \nQ 42.671875 74.21875 48.875 69.140625 \nQ 55.078125 64.0625 55.078125 55.328125 \nQ 55.078125 49.078125 51.53125 44.71875 \nQ 48 40.375 41.703125 38.8125 \nQ 48.828125 37.15625 52.796875 32.3125 \nQ 56.78125 27.484375 56.78125 20.515625 \nQ 56.78125 9.90625 50.3125 4.234375 \nQ 43.84375 -1.421875 31.78125 -1.421875 \nQ 19.734375 -1.421875 13.25 4.234375 \nQ 6.78125 9.90625 6.78125 20.515625 \nQ 6.78125 27.484375 10.78125 32.3125 \nQ 14.796875 37.15625 21.921875 38.8125 \nz\nM 18.3125 54.390625 \nQ 18.3125 48.734375 21.84375 45.5625 \nQ 25.390625 42.390625 31.78125 42.390625 \nQ 38.140625 42.390625 41.71875 45.5625 \nQ 45.3125 48.734375 45.3125 54.390625 \nQ 45.3125 60.0625 41.71875 63.234375 \nQ 38.140625 66.40625 31.78125 66.40625 \nQ 25.390625 66.40625 21.84375 63.234375 \nQ 18.3125 60.0625 18.3125 54.390625 \nz\n\" id=\"DejaVuSans-56\"/>\n      </defs>\n      <g transform=\"translate(303.669688 254.356562)scale(0.1 -0.1)\">\n       <use xlink:href=\"#DejaVuSans-48\"/>\n       <use x=\"63.623047\" xlink:href=\"#DejaVuSans-46\"/>\n       <use x=\"95.410156\" xlink:href=\"#DejaVuSans-56\"/>\n      </g>\n     </g>\n    </g>\n    <g id=\"xtick_6\">\n     <g id=\"line2d_11\">\n      <path clip-path=\"url(#p48cd14ff29)\" d=\"M 378.58125 239.758125 \nL 378.58125 22.318125 \n\" style=\"fill:none;stroke:#b0b0b0;stroke-linecap:square;stroke-width:0.8;\"/>\n     </g>\n     <g id=\"line2d_12\">\n      <g>\n       <use style=\"stroke:#000000;stroke-width:0.8;\" x=\"378.58125\" xlink:href=\"#m8df13596ae\" y=\"239.758125\"/>\n      </g>\n     </g>\n     <g id=\"text_6\">\n      <!-- 1.0 -->\n      <defs>\n       <path d=\"M 12.40625 8.296875 \nL 28.515625 8.296875 \nL 28.515625 63.921875 \nL 10.984375 60.40625 \nL 10.984375 69.390625 \nL 28.421875 72.90625 \nL 38.28125 72.90625 \nL 38.28125 8.296875 \nL 54.390625 8.296875 \nL 54.390625 0 \nL 12.40625 0 \nz\n\" id=\"DejaVuSans-49\"/>\n      </defs>\n      <g transform=\"translate(370.629687 254.356562)scale(0.1 -0.1)\">\n       <use xlink:href=\"#DejaVuSans-49\"/>\n       <use x=\"63.623047\" xlink:href=\"#DejaVuSans-46\"/>\n       <use x=\"95.410156\" xlink:href=\"#DejaVuSans-48\"/>\n      </g>\n     </g>\n    </g>\n    <g id=\"text_7\">\n     <!-- False Positive Rate (1 - Specificity) -->\n     <defs>\n      <path d=\"M 9.8125 72.90625 \nL 51.703125 72.90625 \nL 51.703125 64.59375 \nL 19.671875 64.59375 \nL 19.671875 43.109375 \nL 48.578125 43.109375 \nL 48.578125 34.8125 \nL 19.671875 34.8125 \nL 19.671875 0 \nL 9.8125 0 \nz\n\" id=\"DejaVuSans-70\"/>\n      <path d=\"M 34.28125 27.484375 \nQ 23.390625 27.484375 19.1875 25 \nQ 14.984375 22.515625 14.984375 16.5 \nQ 14.984375 11.71875 18.140625 8.90625 \nQ 21.296875 6.109375 26.703125 6.109375 \nQ 34.1875 6.109375 38.703125 11.40625 \nQ 43.21875 16.703125 43.21875 25.484375 \nL 43.21875 27.484375 \nz\nM 52.203125 31.203125 \nL 52.203125 0 \nL 43.21875 0 \nL 43.21875 8.296875 \nQ 40.140625 3.328125 35.546875 0.953125 \nQ 30.953125 -1.421875 24.3125 -1.421875 \nQ 15.921875 -1.421875 10.953125 3.296875 \nQ 6 8.015625 6 15.921875 \nQ 6 25.140625 12.171875 29.828125 \nQ 18.359375 34.515625 30.609375 34.515625 \nL 43.21875 34.515625 \nL 43.21875 35.40625 \nQ 43.21875 41.609375 39.140625 45 \nQ 35.0625 48.390625 27.6875 48.390625 \nQ 23 48.390625 18.546875 47.265625 \nQ 14.109375 46.140625 10.015625 43.890625 \nL 10.015625 52.203125 \nQ 14.9375 54.109375 19.578125 55.046875 \nQ 24.21875 56 28.609375 56 \nQ 40.484375 56 46.34375 49.84375 \nQ 52.203125 43.703125 52.203125 31.203125 \nz\n\" id=\"DejaVuSans-97\"/>\n      <path d=\"M 9.421875 75.984375 \nL 18.40625 75.984375 \nL 18.40625 0 \nL 9.421875 0 \nz\n\" id=\"DejaVuSans-108\"/>\n      <path d=\"M 44.28125 53.078125 \nL 44.28125 44.578125 \nQ 40.484375 46.53125 36.375 47.5 \nQ 32.28125 48.484375 27.875 48.484375 \nQ 21.1875 48.484375 17.84375 46.4375 \nQ 14.5 44.390625 14.5 40.28125 \nQ 14.5 37.15625 16.890625 35.375 \nQ 19.28125 33.59375 26.515625 31.984375 \nL 29.59375 31.296875 \nQ 39.15625 29.25 43.1875 25.515625 \nQ 47.21875 21.78125 47.21875 15.09375 \nQ 47.21875 7.46875 41.1875 3.015625 \nQ 35.15625 -1.421875 24.609375 -1.421875 \nQ 20.21875 -1.421875 15.453125 -0.5625 \nQ 10.6875 0.296875 5.421875 2 \nL 5.421875 11.28125 \nQ 10.40625 8.6875 15.234375 7.390625 \nQ 20.0625 6.109375 24.8125 6.109375 \nQ 31.15625 6.109375 34.5625 8.28125 \nQ 37.984375 10.453125 37.984375 14.40625 \nQ 37.984375 18.0625 35.515625 20.015625 \nQ 33.0625 21.96875 24.703125 23.78125 \nL 21.578125 24.515625 \nQ 13.234375 26.265625 9.515625 29.90625 \nQ 5.8125 33.546875 5.8125 39.890625 \nQ 5.8125 47.609375 11.28125 51.796875 \nQ 16.75 56 26.8125 56 \nQ 31.78125 56 36.171875 55.265625 \nQ 40.578125 54.546875 44.28125 53.078125 \nz\n\" id=\"DejaVuSans-115\"/>\n      <path d=\"M 56.203125 29.59375 \nL 56.203125 25.203125 \nL 14.890625 25.203125 \nQ 15.484375 15.921875 20.484375 11.0625 \nQ 25.484375 6.203125 34.421875 6.203125 \nQ 39.59375 6.203125 44.453125 7.46875 \nQ 49.3125 8.734375 54.109375 11.28125 \nL 54.109375 2.78125 \nQ 49.265625 0.734375 44.1875 -0.34375 \nQ 39.109375 -1.421875 33.890625 -1.421875 \nQ 20.796875 -1.421875 13.15625 6.1875 \nQ 5.515625 13.8125 5.515625 26.8125 \nQ 5.515625 40.234375 12.765625 48.109375 \nQ 20.015625 56 32.328125 56 \nQ 43.359375 56 49.78125 48.890625 \nQ 56.203125 41.796875 56.203125 29.59375 \nz\nM 47.21875 32.234375 \nQ 47.125 39.59375 43.09375 43.984375 \nQ 39.0625 48.390625 32.421875 48.390625 \nQ 24.90625 48.390625 20.390625 44.140625 \nQ 15.875 39.890625 15.1875 32.171875 \nz\n\" id=\"DejaVuSans-101\"/>\n      <path id=\"DejaVuSans-32\"/>\n      <path d=\"M 19.671875 64.796875 \nL 19.671875 37.40625 \nL 32.078125 37.40625 \nQ 38.96875 37.40625 42.71875 40.96875 \nQ 46.484375 44.53125 46.484375 51.125 \nQ 46.484375 57.671875 42.71875 61.234375 \nQ 38.96875 64.796875 32.078125 64.796875 \nz\nM 9.8125 72.90625 \nL 32.078125 72.90625 \nQ 44.34375 72.90625 50.609375 67.359375 \nQ 56.890625 61.8125 56.890625 51.125 \nQ 56.890625 40.328125 50.609375 34.8125 \nQ 44.34375 29.296875 32.078125 29.296875 \nL 19.671875 29.296875 \nL 19.671875 0 \nL 9.8125 0 \nz\n\" id=\"DejaVuSans-80\"/>\n      <path d=\"M 30.609375 48.390625 \nQ 23.390625 48.390625 19.1875 42.75 \nQ 14.984375 37.109375 14.984375 27.296875 \nQ 14.984375 17.484375 19.15625 11.84375 \nQ 23.34375 6.203125 30.609375 6.203125 \nQ 37.796875 6.203125 41.984375 11.859375 \nQ 46.1875 17.53125 46.1875 27.296875 \nQ 46.1875 37.015625 41.984375 42.703125 \nQ 37.796875 48.390625 30.609375 48.390625 \nz\nM 30.609375 56 \nQ 42.328125 56 49.015625 48.375 \nQ 55.71875 40.765625 55.71875 27.296875 \nQ 55.71875 13.875 49.015625 6.21875 \nQ 42.328125 -1.421875 30.609375 -1.421875 \nQ 18.84375 -1.421875 12.171875 6.21875 \nQ 5.515625 13.875 5.515625 27.296875 \nQ 5.515625 40.765625 12.171875 48.375 \nQ 18.84375 56 30.609375 56 \nz\n\" id=\"DejaVuSans-111\"/>\n      <path d=\"M 9.421875 54.6875 \nL 18.40625 54.6875 \nL 18.40625 0 \nL 9.421875 0 \nz\nM 9.421875 75.984375 \nL 18.40625 75.984375 \nL 18.40625 64.59375 \nL 9.421875 64.59375 \nz\n\" id=\"DejaVuSans-105\"/>\n      <path d=\"M 18.3125 70.21875 \nL 18.3125 54.6875 \nL 36.8125 54.6875 \nL 36.8125 47.703125 \nL 18.3125 47.703125 \nL 18.3125 18.015625 \nQ 18.3125 11.328125 20.140625 9.421875 \nQ 21.96875 7.515625 27.59375 7.515625 \nL 36.8125 7.515625 \nL 36.8125 0 \nL 27.59375 0 \nQ 17.1875 0 13.234375 3.875 \nQ 9.28125 7.765625 9.28125 18.015625 \nL 9.28125 47.703125 \nL 2.6875 47.703125 \nL 2.6875 54.6875 \nL 9.28125 54.6875 \nL 9.28125 70.21875 \nz\n\" id=\"DejaVuSans-116\"/>\n      <path d=\"M 2.984375 54.6875 \nL 12.5 54.6875 \nL 29.59375 8.796875 \nL 46.6875 54.6875 \nL 56.203125 54.6875 \nL 35.6875 0 \nL 23.484375 0 \nz\n\" id=\"DejaVuSans-118\"/>\n      <path d=\"M 44.390625 34.1875 \nQ 47.5625 33.109375 50.5625 29.59375 \nQ 53.5625 26.078125 56.59375 19.921875 \nL 66.609375 0 \nL 56 0 \nL 46.6875 18.703125 \nQ 43.0625 26.03125 39.671875 28.421875 \nQ 36.28125 30.8125 30.421875 30.8125 \nL 19.671875 30.8125 \nL 19.671875 0 \nL 9.8125 0 \nL 9.8125 72.90625 \nL 32.078125 72.90625 \nQ 44.578125 72.90625 50.734375 67.671875 \nQ 56.890625 62.453125 56.890625 51.90625 \nQ 56.890625 45.015625 53.6875 40.46875 \nQ 50.484375 35.9375 44.390625 34.1875 \nz\nM 19.671875 64.796875 \nL 19.671875 38.921875 \nL 32.078125 38.921875 \nQ 39.203125 38.921875 42.84375 42.21875 \nQ 46.484375 45.515625 46.484375 51.90625 \nQ 46.484375 58.296875 42.84375 61.546875 \nQ 39.203125 64.796875 32.078125 64.796875 \nz\n\" id=\"DejaVuSans-82\"/>\n      <path d=\"M 31 75.875 \nQ 24.46875 64.65625 21.28125 53.65625 \nQ 18.109375 42.671875 18.109375 31.390625 \nQ 18.109375 20.125 21.3125 9.0625 \nQ 24.515625 -2 31 -13.1875 \nL 23.1875 -13.1875 \nQ 15.875 -1.703125 12.234375 9.375 \nQ 8.59375 20.453125 8.59375 31.390625 \nQ 8.59375 42.28125 12.203125 53.3125 \nQ 15.828125 64.359375 23.1875 75.875 \nz\n\" id=\"DejaVuSans-40\"/>\n      <path d=\"M 4.890625 31.390625 \nL 31.203125 31.390625 \nL 31.203125 23.390625 \nL 4.890625 23.390625 \nz\n\" id=\"DejaVuSans-45\"/>\n      <path d=\"M 53.515625 70.515625 \nL 53.515625 60.890625 \nQ 47.90625 63.578125 42.921875 64.890625 \nQ 37.9375 66.21875 33.296875 66.21875 \nQ 25.25 66.21875 20.875 63.09375 \nQ 16.5 59.96875 16.5 54.203125 \nQ 16.5 49.359375 19.40625 46.890625 \nQ 22.3125 44.4375 30.421875 42.921875 \nL 36.375 41.703125 \nQ 47.40625 39.59375 52.65625 34.296875 \nQ 57.90625 29 57.90625 20.125 \nQ 57.90625 9.515625 50.796875 4.046875 \nQ 43.703125 -1.421875 29.984375 -1.421875 \nQ 24.8125 -1.421875 18.96875 -0.25 \nQ 13.140625 0.921875 6.890625 3.21875 \nL 6.890625 13.375 \nQ 12.890625 10.015625 18.65625 8.296875 \nQ 24.421875 6.59375 29.984375 6.59375 \nQ 38.421875 6.59375 43.015625 9.90625 \nQ 47.609375 13.234375 47.609375 19.390625 \nQ 47.609375 24.75 44.3125 27.78125 \nQ 41.015625 30.8125 33.5 32.328125 \nL 27.484375 33.5 \nQ 16.453125 35.6875 11.515625 40.375 \nQ 6.59375 45.0625 6.59375 53.421875 \nQ 6.59375 63.09375 13.40625 68.65625 \nQ 20.21875 74.21875 32.171875 74.21875 \nQ 37.3125 74.21875 42.625 73.28125 \nQ 47.953125 72.359375 53.515625 70.515625 \nz\n\" id=\"DejaVuSans-83\"/>\n      <path d=\"M 18.109375 8.203125 \nL 18.109375 -20.796875 \nL 9.078125 -20.796875 \nL 9.078125 54.6875 \nL 18.109375 54.6875 \nL 18.109375 46.390625 \nQ 20.953125 51.265625 25.265625 53.625 \nQ 29.59375 56 35.59375 56 \nQ 45.5625 56 51.78125 48.09375 \nQ 58.015625 40.1875 58.015625 27.296875 \nQ 58.015625 14.40625 51.78125 6.484375 \nQ 45.5625 -1.421875 35.59375 -1.421875 \nQ 29.59375 -1.421875 25.265625 0.953125 \nQ 20.953125 3.328125 18.109375 8.203125 \nz\nM 48.6875 27.296875 \nQ 48.6875 37.203125 44.609375 42.84375 \nQ 40.53125 48.484375 33.40625 48.484375 \nQ 26.265625 48.484375 22.1875 42.84375 \nQ 18.109375 37.203125 18.109375 27.296875 \nQ 18.109375 17.390625 22.1875 11.75 \nQ 26.265625 6.109375 33.40625 6.109375 \nQ 40.53125 6.109375 44.609375 11.75 \nQ 48.6875 17.390625 48.6875 27.296875 \nz\n\" id=\"DejaVuSans-112\"/>\n      <path d=\"M 48.78125 52.59375 \nL 48.78125 44.1875 \nQ 44.96875 46.296875 41.140625 47.34375 \nQ 37.3125 48.390625 33.40625 48.390625 \nQ 24.65625 48.390625 19.8125 42.84375 \nQ 14.984375 37.3125 14.984375 27.296875 \nQ 14.984375 17.28125 19.8125 11.734375 \nQ 24.65625 6.203125 33.40625 6.203125 \nQ 37.3125 6.203125 41.140625 7.25 \nQ 44.96875 8.296875 48.78125 10.40625 \nL 48.78125 2.09375 \nQ 45.015625 0.34375 40.984375 -0.53125 \nQ 36.96875 -1.421875 32.421875 -1.421875 \nQ 20.0625 -1.421875 12.78125 6.34375 \nQ 5.515625 14.109375 5.515625 27.296875 \nQ 5.515625 40.671875 12.859375 48.328125 \nQ 20.21875 56 33.015625 56 \nQ 37.15625 56 41.109375 55.140625 \nQ 45.0625 54.296875 48.78125 52.59375 \nz\n\" id=\"DejaVuSans-99\"/>\n      <path d=\"M 37.109375 75.984375 \nL 37.109375 68.5 \nL 28.515625 68.5 \nQ 23.6875 68.5 21.796875 66.546875 \nQ 19.921875 64.59375 19.921875 59.515625 \nL 19.921875 54.6875 \nL 34.71875 54.6875 \nL 34.71875 47.703125 \nL 19.921875 47.703125 \nL 19.921875 0 \nL 10.890625 0 \nL 10.890625 47.703125 \nL 2.296875 47.703125 \nL 2.296875 54.6875 \nL 10.890625 54.6875 \nL 10.890625 58.5 \nQ 10.890625 67.625 15.140625 71.796875 \nQ 19.390625 75.984375 28.609375 75.984375 \nz\n\" id=\"DejaVuSans-102\"/>\n      <path d=\"M 32.171875 -5.078125 \nQ 28.375 -14.84375 24.75 -17.8125 \nQ 21.140625 -20.796875 15.09375 -20.796875 \nL 7.90625 -20.796875 \nL 7.90625 -13.28125 \nL 13.1875 -13.28125 \nQ 16.890625 -13.28125 18.9375 -11.515625 \nQ 21 -9.765625 23.484375 -3.21875 \nL 25.09375 0.875 \nL 2.984375 54.6875 \nL 12.5 54.6875 \nL 29.59375 11.921875 \nL 46.6875 54.6875 \nL 56.203125 54.6875 \nz\n\" id=\"DejaVuSans-121\"/>\n      <path d=\"M 8.015625 75.875 \nL 15.828125 75.875 \nQ 23.140625 64.359375 26.78125 53.3125 \nQ 30.421875 42.28125 30.421875 31.390625 \nQ 30.421875 20.453125 26.78125 9.375 \nQ 23.140625 -1.703125 15.828125 -13.1875 \nL 8.015625 -13.1875 \nQ 14.5 -2 17.703125 9.0625 \nQ 20.90625 20.125 20.90625 31.390625 \nQ 20.90625 42.671875 17.703125 53.65625 \nQ 14.5 64.65625 8.015625 75.875 \nz\n\" id=\"DejaVuSans-41\"/>\n     </defs>\n     <g transform=\"translate(124.551563 268.034687)scale(0.1 -0.1)\">\n      <use xlink:href=\"#DejaVuSans-70\"/>\n      <use x=\"57.378906\" xlink:href=\"#DejaVuSans-97\"/>\n      <use x=\"118.658203\" xlink:href=\"#DejaVuSans-108\"/>\n      <use x=\"146.441406\" xlink:href=\"#DejaVuSans-115\"/>\n      <use x=\"198.541016\" xlink:href=\"#DejaVuSans-101\"/>\n      <use x=\"260.064453\" xlink:href=\"#DejaVuSans-32\"/>\n      <use x=\"291.851562\" xlink:href=\"#DejaVuSans-80\"/>\n      <use x=\"352.107422\" xlink:href=\"#DejaVuSans-111\"/>\n      <use x=\"413.289062\" xlink:href=\"#DejaVuSans-115\"/>\n      <use x=\"465.388672\" xlink:href=\"#DejaVuSans-105\"/>\n      <use x=\"493.171875\" xlink:href=\"#DejaVuSans-116\"/>\n      <use x=\"532.380859\" xlink:href=\"#DejaVuSans-105\"/>\n      <use x=\"560.164062\" xlink:href=\"#DejaVuSans-118\"/>\n      <use x=\"619.34375\" xlink:href=\"#DejaVuSans-101\"/>\n      <use x=\"680.867188\" xlink:href=\"#DejaVuSans-32\"/>\n      <use x=\"712.654297\" xlink:href=\"#DejaVuSans-82\"/>\n      <use x=\"782.105469\" xlink:href=\"#DejaVuSans-97\"/>\n      <use x=\"843.384766\" xlink:href=\"#DejaVuSans-116\"/>\n      <use x=\"882.59375\" xlink:href=\"#DejaVuSans-101\"/>\n      <use x=\"944.117188\" xlink:href=\"#DejaVuSans-32\"/>\n      <use x=\"975.904297\" xlink:href=\"#DejaVuSans-40\"/>\n      <use x=\"1014.917969\" xlink:href=\"#DejaVuSans-49\"/>\n      <use x=\"1078.541016\" xlink:href=\"#DejaVuSans-32\"/>\n      <use x=\"1110.328125\" xlink:href=\"#DejaVuSans-45\"/>\n      <use x=\"1146.412109\" xlink:href=\"#DejaVuSans-32\"/>\n      <use x=\"1178.199219\" xlink:href=\"#DejaVuSans-83\"/>\n      <use x=\"1241.675781\" xlink:href=\"#DejaVuSans-112\"/>\n      <use x=\"1305.152344\" xlink:href=\"#DejaVuSans-101\"/>\n      <use x=\"1366.675781\" xlink:href=\"#DejaVuSans-99\"/>\n      <use x=\"1421.65625\" xlink:href=\"#DejaVuSans-105\"/>\n      <use x=\"1449.439453\" xlink:href=\"#DejaVuSans-102\"/>\n      <use x=\"1484.644531\" xlink:href=\"#DejaVuSans-105\"/>\n      <use x=\"1512.427734\" xlink:href=\"#DejaVuSans-99\"/>\n      <use x=\"1567.408203\" xlink:href=\"#DejaVuSans-105\"/>\n      <use x=\"1595.191406\" xlink:href=\"#DejaVuSans-116\"/>\n      <use x=\"1634.400391\" xlink:href=\"#DejaVuSans-121\"/>\n      <use x=\"1693.580078\" xlink:href=\"#DejaVuSans-41\"/>\n     </g>\n    </g>\n   </g>\n   <g id=\"matplotlib.axis_2\">\n    <g id=\"ytick_1\">\n     <g id=\"line2d_13\">\n      <path clip-path=\"url(#p48cd14ff29)\" d=\"M 43.78125 239.758125 \nL 378.58125 239.758125 \n\" style=\"fill:none;stroke:#b0b0b0;stroke-linecap:square;stroke-width:0.8;\"/>\n     </g>\n     <g id=\"line2d_14\">\n      <defs>\n       <path d=\"M 0 0 \nL -3.5 0 \n\" id=\"mea8db1422d\" style=\"stroke:#000000;stroke-width:0.8;\"/>\n      </defs>\n      <g>\n       <use style=\"stroke:#000000;stroke-width:0.8;\" x=\"43.78125\" xlink:href=\"#mea8db1422d\" y=\"239.758125\"/>\n      </g>\n     </g>\n     <g id=\"text_8\">\n      <!-- 0.0 -->\n      <g transform=\"translate(20.878125 243.557344)scale(0.1 -0.1)\">\n       <use xlink:href=\"#DejaVuSans-48\"/>\n       <use x=\"63.623047\" xlink:href=\"#DejaVuSans-46\"/>\n       <use x=\"95.410156\" xlink:href=\"#DejaVuSans-48\"/>\n      </g>\n     </g>\n    </g>\n    <g id=\"ytick_2\">\n     <g id=\"line2d_15\">\n      <path clip-path=\"url(#p48cd14ff29)\" d=\"M 43.78125 196.270125 \nL 378.58125 196.270125 \n\" style=\"fill:none;stroke:#b0b0b0;stroke-linecap:square;stroke-width:0.8;\"/>\n     </g>\n     <g id=\"line2d_16\">\n      <g>\n       <use style=\"stroke:#000000;stroke-width:0.8;\" x=\"43.78125\" xlink:href=\"#mea8db1422d\" y=\"196.270125\"/>\n      </g>\n     </g>\n     <g id=\"text_9\">\n      <!-- 0.2 -->\n      <g transform=\"translate(20.878125 200.069344)scale(0.1 -0.1)\">\n       <use xlink:href=\"#DejaVuSans-48\"/>\n       <use x=\"63.623047\" xlink:href=\"#DejaVuSans-46\"/>\n       <use x=\"95.410156\" xlink:href=\"#DejaVuSans-50\"/>\n      </g>\n     </g>\n    </g>\n    <g id=\"ytick_3\">\n     <g id=\"line2d_17\">\n      <path clip-path=\"url(#p48cd14ff29)\" d=\"M 43.78125 152.782125 \nL 378.58125 152.782125 \n\" style=\"fill:none;stroke:#b0b0b0;stroke-linecap:square;stroke-width:0.8;\"/>\n     </g>\n     <g id=\"line2d_18\">\n      <g>\n       <use style=\"stroke:#000000;stroke-width:0.8;\" x=\"43.78125\" xlink:href=\"#mea8db1422d\" y=\"152.782125\"/>\n      </g>\n     </g>\n     <g id=\"text_10\">\n      <!-- 0.4 -->\n      <g transform=\"translate(20.878125 156.581344)scale(0.1 -0.1)\">\n       <use xlink:href=\"#DejaVuSans-48\"/>\n       <use x=\"63.623047\" xlink:href=\"#DejaVuSans-46\"/>\n       <use x=\"95.410156\" xlink:href=\"#DejaVuSans-52\"/>\n      </g>\n     </g>\n    </g>\n    <g id=\"ytick_4\">\n     <g id=\"line2d_19\">\n      <path clip-path=\"url(#p48cd14ff29)\" d=\"M 43.78125 109.294125 \nL 378.58125 109.294125 \n\" style=\"fill:none;stroke:#b0b0b0;stroke-linecap:square;stroke-width:0.8;\"/>\n     </g>\n     <g id=\"line2d_20\">\n      <g>\n       <use style=\"stroke:#000000;stroke-width:0.8;\" x=\"43.78125\" xlink:href=\"#mea8db1422d\" y=\"109.294125\"/>\n      </g>\n     </g>\n     <g id=\"text_11\">\n      <!-- 0.6 -->\n      <g transform=\"translate(20.878125 113.093344)scale(0.1 -0.1)\">\n       <use xlink:href=\"#DejaVuSans-48\"/>\n       <use x=\"63.623047\" xlink:href=\"#DejaVuSans-46\"/>\n       <use x=\"95.410156\" xlink:href=\"#DejaVuSans-54\"/>\n      </g>\n     </g>\n    </g>\n    <g id=\"ytick_5\">\n     <g id=\"line2d_21\">\n      <path clip-path=\"url(#p48cd14ff29)\" d=\"M 43.78125 65.806125 \nL 378.58125 65.806125 \n\" style=\"fill:none;stroke:#b0b0b0;stroke-linecap:square;stroke-width:0.8;\"/>\n     </g>\n     <g id=\"line2d_22\">\n      <g>\n       <use style=\"stroke:#000000;stroke-width:0.8;\" x=\"43.78125\" xlink:href=\"#mea8db1422d\" y=\"65.806125\"/>\n      </g>\n     </g>\n     <g id=\"text_12\">\n      <!-- 0.8 -->\n      <g transform=\"translate(20.878125 69.605344)scale(0.1 -0.1)\">\n       <use xlink:href=\"#DejaVuSans-48\"/>\n       <use x=\"63.623047\" xlink:href=\"#DejaVuSans-46\"/>\n       <use x=\"95.410156\" xlink:href=\"#DejaVuSans-56\"/>\n      </g>\n     </g>\n    </g>\n    <g id=\"ytick_6\">\n     <g id=\"line2d_23\">\n      <path clip-path=\"url(#p48cd14ff29)\" d=\"M 43.78125 22.318125 \nL 378.58125 22.318125 \n\" style=\"fill:none;stroke:#b0b0b0;stroke-linecap:square;stroke-width:0.8;\"/>\n     </g>\n     <g id=\"line2d_24\">\n      <g>\n       <use style=\"stroke:#000000;stroke-width:0.8;\" x=\"43.78125\" xlink:href=\"#mea8db1422d\" y=\"22.318125\"/>\n      </g>\n     </g>\n     <g id=\"text_13\">\n      <!-- 1.0 -->\n      <g transform=\"translate(20.878125 26.117344)scale(0.1 -0.1)\">\n       <use xlink:href=\"#DejaVuSans-49\"/>\n       <use x=\"63.623047\" xlink:href=\"#DejaVuSans-46\"/>\n       <use x=\"95.410156\" xlink:href=\"#DejaVuSans-48\"/>\n      </g>\n     </g>\n    </g>\n    <g id=\"text_14\">\n     <!-- True Positive Rate (Sensitivity) -->\n     <defs>\n      <path d=\"M -0.296875 72.90625 \nL 61.375 72.90625 \nL 61.375 64.59375 \nL 35.5 64.59375 \nL 35.5 0 \nL 25.59375 0 \nL 25.59375 64.59375 \nL -0.296875 64.59375 \nz\n\" id=\"DejaVuSans-84\"/>\n      <path d=\"M 41.109375 46.296875 \nQ 39.59375 47.171875 37.8125 47.578125 \nQ 36.03125 48 33.890625 48 \nQ 26.265625 48 22.1875 43.046875 \nQ 18.109375 38.09375 18.109375 28.8125 \nL 18.109375 0 \nL 9.078125 0 \nL 9.078125 54.6875 \nL 18.109375 54.6875 \nL 18.109375 46.1875 \nQ 20.953125 51.171875 25.484375 53.578125 \nQ 30.03125 56 36.53125 56 \nQ 37.453125 56 38.578125 55.875 \nQ 39.703125 55.765625 41.0625 55.515625 \nz\n\" id=\"DejaVuSans-114\"/>\n      <path d=\"M 8.5 21.578125 \nL 8.5 54.6875 \nL 17.484375 54.6875 \nL 17.484375 21.921875 \nQ 17.484375 14.15625 20.5 10.265625 \nQ 23.53125 6.390625 29.59375 6.390625 \nQ 36.859375 6.390625 41.078125 11.03125 \nQ 45.3125 15.671875 45.3125 23.6875 \nL 45.3125 54.6875 \nL 54.296875 54.6875 \nL 54.296875 0 \nL 45.3125 0 \nL 45.3125 8.40625 \nQ 42.046875 3.421875 37.71875 1 \nQ 33.40625 -1.421875 27.6875 -1.421875 \nQ 18.265625 -1.421875 13.375 4.4375 \nQ 8.5 10.296875 8.5 21.578125 \nz\nM 31.109375 56 \nz\n\" id=\"DejaVuSans-117\"/>\n      <path d=\"M 54.890625 33.015625 \nL 54.890625 0 \nL 45.90625 0 \nL 45.90625 32.71875 \nQ 45.90625 40.484375 42.875 44.328125 \nQ 39.84375 48.1875 33.796875 48.1875 \nQ 26.515625 48.1875 22.3125 43.546875 \nQ 18.109375 38.921875 18.109375 30.90625 \nL 18.109375 0 \nL 9.078125 0 \nL 9.078125 54.6875 \nL 18.109375 54.6875 \nL 18.109375 46.1875 \nQ 21.34375 51.125 25.703125 53.5625 \nQ 30.078125 56 35.796875 56 \nQ 45.21875 56 50.046875 50.171875 \nQ 54.890625 44.34375 54.890625 33.015625 \nz\n\" id=\"DejaVuSans-110\"/>\n     </defs>\n     <g transform=\"translate(14.798438 208.105312)rotate(-90)scale(0.1 -0.1)\">\n      <use xlink:href=\"#DejaVuSans-84\"/>\n      <use x=\"60.865234\" xlink:href=\"#DejaVuSans-114\"/>\n      <use x=\"101.978516\" xlink:href=\"#DejaVuSans-117\"/>\n      <use x=\"165.357422\" xlink:href=\"#DejaVuSans-101\"/>\n      <use x=\"226.880859\" xlink:href=\"#DejaVuSans-32\"/>\n      <use x=\"258.667969\" xlink:href=\"#DejaVuSans-80\"/>\n      <use x=\"318.923828\" xlink:href=\"#DejaVuSans-111\"/>\n      <use x=\"380.105469\" xlink:href=\"#DejaVuSans-115\"/>\n      <use x=\"432.205078\" xlink:href=\"#DejaVuSans-105\"/>\n      <use x=\"459.988281\" xlink:href=\"#DejaVuSans-116\"/>\n      <use x=\"499.197266\" xlink:href=\"#DejaVuSans-105\"/>\n      <use x=\"526.980469\" xlink:href=\"#DejaVuSans-118\"/>\n      <use x=\"586.160156\" xlink:href=\"#DejaVuSans-101\"/>\n      <use x=\"647.683594\" xlink:href=\"#DejaVuSans-32\"/>\n      <use x=\"679.470703\" xlink:href=\"#DejaVuSans-82\"/>\n      <use x=\"748.921875\" xlink:href=\"#DejaVuSans-97\"/>\n      <use x=\"810.201172\" xlink:href=\"#DejaVuSans-116\"/>\n      <use x=\"849.410156\" xlink:href=\"#DejaVuSans-101\"/>\n      <use x=\"910.933594\" xlink:href=\"#DejaVuSans-32\"/>\n      <use x=\"942.720703\" xlink:href=\"#DejaVuSans-40\"/>\n      <use x=\"981.734375\" xlink:href=\"#DejaVuSans-83\"/>\n      <use x=\"1045.210938\" xlink:href=\"#DejaVuSans-101\"/>\n      <use x=\"1106.734375\" xlink:href=\"#DejaVuSans-110\"/>\n      <use x=\"1170.113281\" xlink:href=\"#DejaVuSans-115\"/>\n      <use x=\"1222.212891\" xlink:href=\"#DejaVuSans-105\"/>\n      <use x=\"1249.996094\" xlink:href=\"#DejaVuSans-116\"/>\n      <use x=\"1289.205078\" xlink:href=\"#DejaVuSans-105\"/>\n      <use x=\"1316.988281\" xlink:href=\"#DejaVuSans-118\"/>\n      <use x=\"1376.167969\" xlink:href=\"#DejaVuSans-105\"/>\n      <use x=\"1403.951172\" xlink:href=\"#DejaVuSans-116\"/>\n      <use x=\"1443.160156\" xlink:href=\"#DejaVuSans-121\"/>\n      <use x=\"1502.339844\" xlink:href=\"#DejaVuSans-41\"/>\n     </g>\n    </g>\n   </g>\n   <g id=\"line2d_25\">\n    <path clip-path=\"url(#p48cd14ff29)\" d=\"M 43.78125 239.758125 \nL 43.78125 238.433122 \nL 43.961129 238.363385 \nL 44.051069 237.735752 \nL 44.141008 237.735752 \nL 44.141008 237.31733 \nL 44.275918 237.31733 \nL 44.365857 236.410748 \nL 44.500766 236.341011 \nL 44.590706 235.922589 \nL 44.770585 235.573904 \nL 44.815555 235.016008 \nL 44.950464 234.946271 \nL 44.995434 234.318638 \nL 45.040404 234.318638 \nL 45.265253 233.969953 \nL 45.355192 233.551531 \nL 45.400162 233.551531 \nL 45.490102 232.923898 \nL 45.535071 232.923898 \nL 45.625011 231.738369 \nL 45.80489 231.668632 \nL 45.84986 231.389684 \nL 45.939799 231.389684 \nL 46.029739 230.971262 \nL 46.074709 230.971262 \nL 46.119678 230.483103 \nL 46.254588 230.413366 \nL 46.344527 229.018625 \nL 46.389497 229.018625 \nL 46.479437 228.390992 \nL 46.659316 228.321255 \nL 46.659316 228.251518 \nL 46.839195 228.251518 \nL 46.929134 227.065989 \nL 47.019074 226.996252 \nL 47.109014 226.019934 \nL 47.153983 226.019934 \nL 47.243923 224.973879 \nL 47.378832 224.973879 \nL 47.423802 224.346246 \nL 47.513742 224.346246 \nL 47.603681 223.927824 \nL 47.693621 223.927824 \nL 47.78356 223.30019 \nL 47.82853 223.30019 \nL 47.91847 222.254135 \nL 47.963439 222.254135 \nL 48.278228 220.998869 \nL 48.368167 220.371236 \nL 48.458107 220.371236 \nL 48.548047 219.255444 \nL 48.593016 219.255444 \nL 48.593016 219.185707 \nL 48.682956 218.488337 \nL 48.727926 218.488337 \nL 48.817865 217.093596 \nL 48.907805 217.093596 \nL 48.997744 216.884385 \nL 49.222593 216.814648 \nL 49.312533 216.5357 \nL 49.537382 216.187015 \nL 49.627321 215.280434 \nL 49.717261 215.071223 \nL 49.8072 213.955431 \nL 49.85217 213.955431 \nL 49.94211 213.467272 \nL 50.077019 213.397535 \nL 50.166959 213.118587 \nL 50.256898 212.769902 \nL 50.301868 212.769902 \nL 50.391807 211.863321 \nL 50.526717 211.65411 \nL 50.616656 210.887002 \nL 50.751566 210.817265 \nL 50.796535 210.329106 \nL 50.841505 210.329106 \nL 51.291203 209.840947 \nL 51.381143 209.631736 \nL 51.471082 209.283051 \nL 51.650961 209.283051 \nL 51.83084 208.515944 \nL 51.96575 208.515944 \nL 51.96575 208.167259 \nL 52.190599 207.958048 \nL 52.235568 207.539626 \nL 52.325508 207.539626 \nL 52.325508 207.469889 \nL 52.325508 207.330415 \nL 52.505387 207.330415 \nL 52.595327 206.702782 \nL 52.640296 206.702782 \nL 52.730236 206.28436 \nL 52.955085 206.214623 \nL 53.045024 205.865938 \nL 53.089994 205.865938 \nL 53.179934 205.168568 \nL 53.269873 205.168568 \nL 53.359813 204.750146 \nL 53.494722 204.540934 \nL 53.584662 203.913301 \nL 53.674601 203.843564 \nL 53.764541 203.146194 \nL 53.85448 203.076457 \nL 54.304178 201.333032 \nL 54.304178 201.263295 \nL 54.529027 201.193558 \nL 54.753876 200.844873 \nL 54.978725 200.635662 \nL 55.023695 200.496188 \nL 55.113634 200.496188 \nL 55.113634 200.426451 \nL 55.203574 199.450133 \nL 55.338483 199.380396 \nL 55.383453 199.031711 \nL 55.518362 198.961974 \nL 55.563332 198.334341 \nL 55.653271 198.334341 \nL 55.653271 198.264604 \nL 55.743211 197.846181 \nL 55.833151 197.846181 \nL 56.462728 196.24223 \nL 56.507697 196.24223 \nL 56.507697 196.172493 \nL 56.642607 195.754071 \nL 56.777516 195.684334 \nL 56.867456 195.196175 \nL 57.002365 195.126438 \nL 57.092304 194.568542 \nL 57.182244 194.429068 \nL 57.317153 194.429068 \nL 57.317153 194.289594 \nL 57.452063 194.080383 \nL 57.766851 193.034328 \nL 57.90176 192.964591 \nL 57.9917 192.197484 \nL 58.126609 192.127747 \nL 58.216549 191.779061 \nL 58.351458 191.779061 \nL 58.351458 191.709324 \nL 58.441398 191.011954 \nL 58.486368 191.011954 \nL 58.576307 190.454058 \nL 58.666247 190.384321 \nL 58.756186 189.686951 \nL 58.891096 189.617214 \nL 58.936065 188.989581 \nL 59.026005 188.989581 \nL 59.205884 188.571159 \nL 59.475703 188.361948 \nL 59.565642 187.943526 \nL 59.610612 187.943526 \nL 59.610612 187.804052 \nL 59.700552 187.804052 \nL 59.790491 187.734315 \nL 59.835461 187.38563 \nL 60.06031 187.315893 \nL 60.150249 186.967208 \nL 60.240189 186.967208 \nL 60.240189 186.897471 \nL 60.285159 186.618523 \nL 60.375098 186.618523 \nL 60.465038 186.200101 \nL 60.510008 186.200101 \nL 60.510008 186.130364 \nL 60.644917 185.851416 \nL 60.734856 185.851416 \nL 60.734856 185.642205 \nL 61.004675 185.572468 \nL 61.049645 185.293519 \nL 61.094615 185.293519 \nL 61.274494 184.875097 \nL 61.904071 182.852724 \nL 62.08395 182.852724 \nL 62.173889 182.643513 \nL 62.308799 182.643513 \nL 62.398738 182.225091 \nL 62.668557 181.667195 \nL 62.803466 181.667195 \nL 62.893406 181.248773 \nL 63.073285 181.179036 \nL 63.073285 181.109299 \nL 63.118255 181.109299 \nL 63.208194 181.109299 \nL 63.343104 180.969825 \nL 63.388073 180.62114 \nL 63.478013 180.62114 \nL 63.522983 180.342192 \nL 63.657892 180.272455 \nL 63.702862 179.92377 \nL 63.837771 179.854033 \nL 63.837771 179.714559 \nL 63.927711 179.714559 \nL 64.06262 179.714559 \nL 64.15256 179.505348 \nL 64.287469 179.435611 \nL 64.467348 178.73824 \nL 64.647227 178.73824 \nL 64.647227 178.598766 \nL 64.782137 178.598766 \nL 64.872076 177.901396 \nL 64.962016 177.831659 \nL 65.006985 177.3435 \nL 65.501653 177.273763 \nL 65.501653 177.134289 \nL 65.636562 177.134289 \nL 65.636562 177.064552 \nL 65.681532 176.855341 \nL 66.13123 175.809286 \nL 66.266139 175.739549 \nL 67.030625 174.55402 \nL 67.120565 174.135598 \nL 67.210505 174.135598 \nL 67.255474 173.85665 \nL 67.345414 173.85665 \nL 67.435353 173.577702 \nL 67.525293 173.507965 \nL 67.570263 173.368491 \nL 67.750142 173.368491 \nL 67.750142 173.298754 \nL 67.930021 172.810595 \nL 67.974991 172.810595 \nL 68.06493 172.392172 \nL 68.15487 172.322435 \nL 68.244809 171.834276 \nL 68.379719 171.764539 \nL 68.424689 171.415854 \nL 68.514628 171.346117 \nL 68.604568 170.927695 \nL 68.694507 170.857958 \nL 68.694507 170.57901 \nL 68.874386 170.509273 \nL 68.919356 170.160588 \nL 68.964326 170.160588 \nL 69.324084 169.88164 \nL 69.548933 169.88164 \nL 69.638873 169.254007 \nL 69.683842 169.254007 \nL 69.773782 169.044796 \nL 69.953661 169.044796 \nL 69.998631 168.556637 \nL 70.13354 168.4869 \nL 70.13354 168.417163 \nL 70.358389 168.347426 \nL 70.358389 168.277689 \nL 70.538268 168.277689 \nL 70.538268 168.138215 \nL 70.808087 168.068478 \nL 70.898026 167.929004 \nL 71.032936 167.859267 \nL 71.122875 167.650056 \nL 71.212815 167.650056 \nL 71.302754 166.604001 \nL 71.347724 166.604001 \nL 71.392694 166.39479 \nL 71.527603 166.39479 \nL 71.617543 165.90663 \nL 71.842392 165.836893 \nL 71.887361 165.627682 \nL 72.337059 165.20926 \nL 72.337059 165.069786 \nL 72.696817 164.860575 \nL 72.786757 164.581627 \nL 73.191485 164.51189 \nL 73.281425 164.232942 \nL 73.371364 164.232942 \nL 73.461304 163.953994 \nL 73.641183 163.605309 \nL 73.686153 163.326361 \nL 73.821062 163.326361 \nL 73.911002 163.047413 \nL 74.000941 162.977676 \nL 74.090881 162.559254 \nL 74.360699 162.210569 \nL 74.405669 161.861884 \nL 74.495609 161.861884 \nL 74.585548 161.443462 \nL 74.855367 160.746092 \nL 74.990276 160.676355 \nL 75.080216 160.118459 \nL 75.305065 160.118459 \nL 75.395004 159.630299 \nL 75.529914 159.630299 \nL 75.529914 159.14214 \nL 75.664823 159.14214 \nL 75.844702 158.653981 \nL 76.114521 158.584244 \nL 76.114521 158.514507 \nL 76.20446 158.514507 \nL 76.24943 158.514507 \nL 76.2944 158.305296 \nL 76.564218 158.235559 \nL 76.609188 158.165822 \nL 76.699128 157.886874 \nL 76.789067 157.886874 \nL 76.789067 157.7474 \nL 76.879007 157.7474 \nL 76.968946 157.468452 \nL 77.013916 156.980293 \nL 77.103856 156.980293 \nL 77.103856 156.631608 \nL 77.373674 156.561871 \nL 77.463614 156.003975 \nL 77.508584 156.003975 \nL 77.553554 155.725027 \nL 77.823372 155.725027 \nL 77.823372 155.65529 \nL 77.913312 155.027657 \nL 78.2281 155.027657 \nL 78.407979 154.818446 \nL 78.542889 154.609235 \nL 78.632828 154.190813 \nL 78.767738 154.190813 \nL 78.767738 154.121076 \nL 79.127496 153.493443 \nL 79.217435 153.005283 \nL 79.532224 152.935546 \nL 79.532224 152.865809 \nL 79.577194 152.865809 \nL 79.712103 152.796072 \nL 79.802042 152.517124 \nL 80.29671 151.750017 \nL 80.34168 151.540806 \nL 80.521559 151.540806 \nL 80.611498 151.261858 \nL 80.656468 151.261858 \nL 80.656468 151.192121 \nL 80.701438 150.913173 \nL 81.061196 150.843436 \nL 81.061196 150.703962 \nL 81.151136 150.703962 \nL 81.331015 150.425014 \nL 81.465924 150.425014 \nL 81.465924 150.28554 \nL 81.555864 150.28554 \nL 81.645803 150.28554 \nL 81.690773 150.006592 \nL 81.780713 150.006592 \nL 81.825683 149.727644 \nL 81.960592 149.727644 \nL 82.050531 149.169748 \nL 82.32035 149.100011 \nL 82.41029 148.821063 \nL 82.545199 148.751326 \nL 82.635139 148.472378 \nL 82.725078 148.402641 \nL 82.859987 148.123693 \nL 82.859987 147.984219 \nL 83.129806 147.775008 \nL 83.129806 147.705271 \nL 83.264715 147.705271 \nL 83.264715 147.635534 \nL 83.489564 147.565797 \nL 83.489564 147.286849 \nL 83.759383 147.217112 \nL 83.759383 146.938163 \nL 83.984232 146.938163 \nL 84.074171 146.659215 \nL 84.164111 146.659215 \nL 84.164111 146.519741 \nL 84.34399 146.450004 \nL 84.523869 146.031582 \nL 85.018537 144.846053 \nL 85.243386 144.567105 \nL 85.333325 144.567105 \nL 85.333325 144.357894 \nL 85.693083 144.288157 \nL 85.783023 144.078946 \nL 86.097811 144.009209 \nL 86.187751 143.730261 \nL 86.502539 143.242102 \nL 86.862298 142.963154 \nL 86.997207 142.753943 \nL 87.132116 142.753943 \nL 87.356965 142.405258 \nL 87.491875 142.405258 \nL 87.581814 141.986836 \nL 87.851633 141.986836 \nL 87.896603 141.777625 \nL 88.031512 141.777625 \nL 88.031512 141.359203 \nL 88.076482 141.359203 \nL 88.256361 141.359203 \nL 88.256361 141.010518 \nL 88.48121 140.940781 \nL 88.571149 140.73157 \nL 88.661089 140.661833 \nL 89.470545 139.476303 \nL 89.785333 139.406566 \nL 89.785333 139.267092 \nL 89.965212 139.267092 \nL 89.965212 139.127618 \nL 90.100122 139.127618 \nL 90.190061 138.639459 \nL 90.235031 138.639459 \nL 90.280001 138.1513 \nL 90.41491 138.1513 \nL 90.41491 138.081563 \nL 91.044487 137.45393 \nL 91.044487 137.244719 \nL 91.089457 137.244719 \nL 91.853943 136.75656 \nL 91.943883 136.75656 \nL 91.943883 136.617086 \nL 92.213701 136.477612 \nL 92.213701 136.338138 \nL 92.258671 136.338138 \nL 92.39358 136.128927 \nL 92.57346 136.05919 \nL 92.618429 135.919716 \nL 92.843278 135.849979 \nL 92.843278 135.640768 \nL 92.933218 135.640768 \nL 93.068127 135.571031 \nL 93.113097 135.292083 \nL 93.248006 135.292083 \nL 93.292976 135.082872 \nL 93.382916 135.082872 \nL 93.382916 135.013135 \nL 93.472855 134.594713 \nL 93.517825 134.594713 \nL 93.517825 134.385502 \nL 93.697704 134.385502 \nL 93.697704 134.246028 \nL 93.742674 134.246028 \nL 93.967523 134.17629 \nL 94.057462 133.967079 \nL 94.102432 133.897342 \nL 94.192372 133.409183 \nL 94.55213 133.339446 \nL 94.5971 133.060498 \nL 94.776979 133.060498 \nL 94.776979 132.851287 \nL 95.091767 132.572339 \nL 95.271646 132.363128 \nL 95.541465 132.293391 \nL 95.631404 132.223654 \nL 95.901223 132.153917 \nL 95.901223 132.08418 \nL 96.216012 132.014443 \nL 96.216012 131.805232 \nL 96.395891 131.735495 \nL 96.48583 131.596021 \nL 96.665709 131.596021 \nL 96.710679 131.38681 \nL 96.800619 131.38681 \nL 96.890558 130.828914 \nL 96.980498 130.828914 \nL 97.025468 130.619703 \nL 97.700014 130.549966 \nL 97.744984 130.410492 \nL 97.834924 130.410492 \nL 97.834924 130.340755 \nL 97.924863 130.131544 \nL 97.969833 129.922333 \nL 98.014803 129.922333 \nL 98.284621 129.573648 \nL 98.329591 129.573648 \nL 98.374561 129.2947 \nL 98.689349 129.224963 \nL 98.779289 128.876278 \nL 98.824259 128.876278 \nL 98.824259 128.736804 \nL 99.273957 128.318382 \nL 99.363896 127.89996 \nL 99.453836 127.830222 \nL 99.453836 127.481537 \nL 99.498805 127.481537 \nL 99.633715 127.342063 \nL 100.173352 127.132852 \nL 100.173352 126.993378 \nL 100.263292 126.993378 \nL 100.398201 126.784167 \nL 100.757959 126.71443 \nL 100.847899 125.947323 \nL 100.937838 125.877586 \nL 100.937838 125.807849 \nL 101.117717 125.807849 \nL 101.207657 125.528901 \nL 101.342566 125.528901 \nL 101.432506 125.110479 \nL 101.477476 125.110479 \nL 101.477476 124.971005 \nL 101.657355 124.901268 \nL 101.657355 124.482846 \nL 101.747294 124.482846 \nL 101.882204 124.413109 \nL 101.882204 124.203898 \nL 102.152022 124.134161 \nL 102.152022 124.064424 \nL 102.421841 123.994687 \nL 102.466811 123.646002 \nL 102.69166 123.646002 \nL 102.781599 123.22758 \nL 103.096388 122.599947 \nL 103.321237 122.599947 \nL 103.321237 122.53021 \nL 104.130693 121.83284 \nL 104.67033 121.763103 \nL 104.7153 121.623629 \nL 104.760269 121.623629 \nL 105.389846 121.205206 \nL 105.749605 120.438099 \nL 105.929484 120.368362 \nL 105.929484 120.298625 \nL 106.199302 120.228888 \nL 106.244272 120.089414 \nL 106.514091 120.019677 \nL 106.559061 119.880203 \nL 106.69397 119.880203 \nL 106.78391 119.461781 \nL 106.873849 119.461781 \nL 106.963789 119.25257 \nL 107.008758 119.25257 \nL 107.008758 119.113096 \nL 107.188638 119.043359 \nL 107.233607 118.903885 \nL 107.278577 118.903885 \nL 107.683305 118.834148 \nL 107.728275 118.624937 \nL 107.953124 118.136778 \nL 108.312882 118.067041 \nL 108.312882 117.997304 \nL 108.402822 117.997304 \nL 108.582701 117.85783 \nL 108.80755 117.788093 \nL 108.897489 117.648619 \nL 109.212278 117.578882 \nL 109.257247 117.369671 \nL 109.617006 117.299934 \nL 109.706945 117.090723 \nL 109.841854 117.090723 \nL 109.931794 116.811775 \nL 110.156643 116.811775 \nL 110.246582 116.323616 \nL 110.516401 116.253879 \nL 110.516401 116.184142 \nL 110.69628 116.184142 \nL 110.921129 115.835457 \nL 111.190948 115.76572 \nL 111.190948 115.695983 \nL 111.505736 115.626246 \nL 111.775555 115.06835 \nL 111.910464 114.998612 \nL 112.76489 114.231505 \nL 112.85483 113.952557 \nL 113.034709 113.88282 \nL 113.124648 113.603872 \nL 113.214588 113.603872 \nL 113.259558 113.324924 \nL 113.394467 113.255187 \nL 113.484406 112.976239 \nL 113.664286 112.976239 \nL 114.113983 112.627554 \nL 114.158953 112.48808 \nL 114.203923 112.48808 \nL 114.338832 112.418343 \nL 114.608651 111.999921 \nL 114.608651 111.930184 \nL 115.058349 111.651236 \nL 115.238228 111.651236 \nL 115.508047 111.163077 \nL 115.597986 110.605181 \nL 115.687926 110.605181 \nL 116.227563 109.559126 \nL 116.272533 109.559126 \nL 116.317503 109.280178 \nL 116.587321 109.140704 \nL 117.126959 109.070967 \nL 117.126959 109.00123 \nL 117.351807 108.931493 \nL 117.441747 108.792019 \nL 117.486717 108.792019 \nL 117.486717 108.652544 \nL 117.846475 108.582807 \nL 117.846475 108.51307 \nL 117.936415 108.51307 \nL 118.071324 108.443333 \nL 118.431082 107.8157 \nL 118.521022 107.257804 \nL 118.700901 107.188067 \nL 118.700901 107.048593 \nL 118.745871 107.048593 \nL 118.88078 106.978856 \nL 118.88078 106.839382 \nL 118.92575 106.839382 \nL 119.285508 106.142012 \nL 119.285508 106.072275 \nL 119.690236 106.002538 \nL 119.780175 105.793327 \nL 119.960055 105.72359 \nL 119.960055 105.653853 \nL 120.049994 105.653853 \nL 120.544662 105.165694 \nL 120.544662 105.095957 \nL 120.634601 105.095957 \nL 121.039329 105.02622 \nL 121.039329 104.956483 \nL 121.174239 104.817009 \nL 121.354118 104.817009 \nL 121.758846 104.259113 \nL 121.803815 104.119639 \nL 121.848785 104.119639 \nL 122.028664 104.049902 \nL 122.028664 103.980165 \nL 122.118604 103.980165 \nL 122.613271 103.910428 \nL 122.703211 103.770954 \nL 123.017999 103.701217 \nL 123.152909 103.492006 \nL 123.197879 103.282795 \nL 123.242848 103.282795 \nL 123.737516 103.143321 \nL 123.827456 102.93411 \nL 123.962365 102.864373 \nL 124.322123 102.376214 \nL 124.771821 102.306477 \nL 124.86176 102.167002 \nL 124.90673 102.167002 \nL 124.90673 102.097265 \nL 125.131579 101.678843 \nL 125.266488 101.678843 \nL 125.356428 101.469632 \nL 125.401398 101.469632 \nL 125.446368 101.190684 \nL 126.075944 100.841999 \nL 126.345763 100.772262 \nL 126.480672 100.563051 \nL 126.97534 99.516996 \nL 127.06528 99.516996 \nL 127.110249 99.168311 \nL 127.200189 99.168311 \nL 127.200189 99.028837 \nL 127.470008 99.028837 \nL 127.470008 98.819626 \nL 127.604917 98.819626 \nL 127.649887 98.610415 \nL 127.919705 98.540678 \nL 128.009645 98.331467 \nL 128.414373 98.26173 \nL 128.414373 98.191993 \nL 128.459343 98.191993 \nL 128.729161 98.122256 \nL 128.729161 97.982782 \nL 128.819101 97.982782 \nL 129.08892 97.913045 \nL 129.08892 97.773571 \nL 129.133889 97.773571 \nL 129.718496 97.355149 \nL 130.258134 97.285412 \nL 130.258134 97.145938 \nL 130.348073 97.145938 \nL 130.527952 97.076201 \nL 130.572922 96.936727 \nL 131.202499 96.86699 \nL 131.247469 96.518305 \nL 131.517288 96.518305 \nL 131.517288 96.309094 \nL 131.562257 96.309094 \nL 131.832076 96.309094 \nL 131.832076 96.239357 \nL 132.461653 95.890672 \nL 132.731472 95.890672 \nL 132.731472 95.751197 \nL 132.821411 95.751197 \nL 132.911351 95.68146 \nL 132.911351 95.472249 \nL 133.181169 95.472249 \nL 133.226139 95.193301 \nL 133.406018 95.123564 \nL 133.495958 94.635405 \nL 133.585897 94.635405 \nL 133.675837 94.426194 \nL 133.720807 94.426194 \nL 133.765777 94.077509 \nL 133.990625 94.007772 \nL 134.035595 93.728824 \nL 134.125535 93.728824 \nL 134.215474 93.519613 \nL 134.575233 93.449876 \nL 134.620202 93.310402 \nL 135.0699 93.240665 \nL 135.15984 93.031454 \nL 135.744447 93.031454 \nL 135.834386 92.682769 \nL 136.149175 92.613032 \nL 136.239114 92.403821 \nL 136.284084 92.403821 \nL 136.329054 92.19461 \nL 136.823721 92.124873 \nL 136.913661 91.915662 \nL 137.13851 91.845925 \nL 137.13851 91.776188 \nL 137.453298 91.706451 \nL 137.453298 91.49724 \nL 137.678147 91.49724 \nL 137.678147 91.357766 \nL 137.902996 91.288029 \nL 137.902996 91.148555 \nL 137.992936 91.148555 \nL 138.172815 91.078818 \nL 138.172815 90.939344 \nL 138.712452 90.869607 \nL 138.802392 90.660396 \nL 139.11718 90.590659 \nL 139.11718 90.520922 \nL 139.297059 90.520922 \nL 139.386999 90.172237 \nL 139.521908 90.1025 \nL 139.566878 89.893289 \nL 139.881666 89.893289 \nL 139.881666 89.474867 \nL 140.106515 89.405129 \nL 140.151485 89.056444 \nL 140.196455 89.056444 \nL 140.511243 88.428811 \nL 140.601183 88.2196 \nL 140.826032 88.149863 \nL 140.826032 88.080126 \nL 141.320699 88.010389 \nL 141.410639 87.870915 \nL 141.590518 87.801178 \nL 141.680458 87.52223 \nL 142.220095 87.452493 \nL 142.310034 86.894597 \nL 142.355004 86.894597 \nL 142.355004 86.755123 \nL 142.669793 86.755123 \nL 142.759732 86.406438 \nL 142.939611 86.336701 \nL 142.939611 86.266964 \nL 143.029551 86.266964 \nL 143.11949 86.266964 \nL 143.20943 85.918279 \nL 143.389309 85.848542 \nL 143.389309 85.709068 \nL 143.704098 85.639331 \nL 143.704098 85.569594 \nL 143.794037 85.569594 \nL 144.063856 85.499857 \nL 144.063856 85.360383 \nL 144.558523 85.360383 \nL 144.648463 85.151172 \nL 144.693433 85.151172 \nL 144.738402 84.941961 \nL 144.918282 84.941961 \nL 144.918282 84.872224 \nL 145.14313 84.802487 \nL 145.457919 84.802487 \nL 145.547858 84.523539 \nL 145.637798 84.453802 \nL 145.727738 84.244591 \nL 146.177435 84.174854 \nL 146.267375 83.965643 \nL 146.402284 83.895906 \nL 146.492224 83.686695 \nL 146.627133 83.616958 \nL 146.717073 83.268273 \nL 146.851982 83.268273 \nL 146.941922 82.780113 \nL 147.031861 82.780113 \nL 147.031861 82.570902 \nL 147.34665 82.501165 \nL 147.34665 82.291954 \nL 147.391619 82.291954 \nL 147.661438 82.222217 \nL 147.661438 82.013006 \nL 147.841317 82.013006 \nL 147.931257 81.734058 \nL 148.335985 81.664321 \nL 148.335985 81.524847 \nL 148.425924 81.524847 \nL 148.740713 81.385373 \nL 148.875622 81.315636 \nL 148.875622 81.245899 \nL 149.37029 81.176162 \nL 149.550169 80.897214 \nL 149.775018 80.897214 \nL 149.819987 80.688003 \nL 149.864957 80.688003 \nL 150.044836 80.339318 \nL 150.134776 80.06037 \nL 150.179746 79.990633 \nL 150.854292 79.990633 \nL 150.944232 79.781422 \nL 151.124111 79.711685 \nL 151.214051 79.293263 \nL 151.34896 79.293263 \nL 151.34896 79.223526 \nL 151.573809 78.944578 \nL 151.708718 78.944578 \nL 151.708718 78.805104 \nL 152.158416 78.735367 \nL 152.158416 78.66563 \nL 152.518174 78.595893 \nL 152.518174 78.526156 \nL 152.832963 78.456419 \nL 152.832963 78.386682 \nL 153.192721 78.316945 \nL 153.192721 78.247208 \nL 153.32763 78.247208 \nL 153.41757 78.107734 \nL 153.732358 78.037997 \nL 153.732358 77.898523 \nL 153.957207 77.898523 \nL 154.002177 77.619575 \nL 154.316965 77.619575 \nL 154.406905 77.410364 \nL 154.631754 77.340627 \nL 154.676723 77.201153 \nL 155.35127 77.131416 \nL 155.39624 77.061679 \nL 155.39624 76.852468 \nL 155.44121 76.852468 \nL 155.980847 76.782731 \nL 155.980847 76.712994 \nL 156.205696 76.712994 \nL 156.205696 76.573519 \nL 156.295635 76.573519 \nL 156.610424 76.224834 \nL 156.790303 76.155097 \nL 156.880243 75.806412 \nL 157.015152 75.806412 \nL 157.734668 75.318253 \nL 158.409215 75.248516 \nL 158.409215 75.178779 \nL 158.634064 75.109042 \nL 158.634064 75.039305 \nL 158.768973 75.039305 \nL 158.768973 74.969568 \nL 158.948852 74.830094 \nL 159.173701 74.760357 \nL 159.173701 74.69062 \nL 159.803278 74.620883 \nL 159.803278 74.481409 \nL 160.163036 74.411672 \nL 160.252976 73.99325 \nL 160.567764 73.923513 \nL 160.747644 73.714302 \nL 161.871888 73.644565 \nL 162.006797 73.574828 \nL 162.141707 73.505091 \nL 162.231646 73.29588 \nL 162.591404 73.226143 \nL 162.681344 72.947195 \nL 162.726314 72.947195 \nL 162.726314 72.877458 \nL 162.906193 72.668247 \nL 163.086072 72.59851 \nL 163.086072 72.528773 \nL 163.131042 72.528773 \nL 163.220981 72.528773 \nL 163.220981 72.459036 \nL 163.355891 72.389299 \nL 163.670679 72.319562 \nL 163.760619 72.110351 \nL 163.985468 71.970877 \nL 164.075407 71.691929 \nL 164.390196 71.622192 \nL 164.390196 71.343244 \nL 164.749954 71.273507 \nL 164.974803 70.994559 \nL 165.424501 70.924822 \nL 165.424501 70.855085 \nL 165.784259 70.785348 \nL 166.009108 70.576137 \nL 166.233957 70.576137 \nL 166.323896 70.366926 \nL 166.908503 70.366926 \nL 166.908503 70.227451 \nL 166.953473 70.227451 \nL 167.088382 70.157714 \nL 167.403171 70.087977 \nL 167.403171 70.01824 \nL 167.49311 70.01824 \nL 167.53808 69.948503 \nL 168.347536 69.878766 \nL 168.347536 69.809029 \nL 168.572385 69.460344 \nL 168.572385 69.251133 \nL 168.887173 69.181396 \nL 168.932143 68.902448 \nL 169.067053 68.902448 \nL 169.067053 68.762974 \nL 169.201962 68.762974 \nL 169.246932 68.484026 \nL 169.60669 68.414289 \nL 170.056388 67.995867 \nL 170.551055 67.92613 \nL 170.596025 67.786656 \nL 170.820874 67.716919 \nL 170.820874 67.647182 \nL 170.910813 67.647182 \nL 171.360511 67.22876 \nL 171.450451 67.019549 \nL 171.765239 67.019549 \nL 171.855179 66.810338 \nL 172.619665 66.740601 \nL 172.619665 66.670864 \nL 172.709605 66.670864 \nL 172.799544 66.601127 \nL 172.799544 66.53139 \nL 172.889484 66.53139 \nL 173.024393 66.461653 \nL 173.024393 66.391916 \nL 173.339181 66.391916 \nL 173.339181 66.182705 \nL 173.923789 66.112968 \nL 173.923789 66.043231 \nL 174.103668 65.973494 \nL 174.193607 65.764283 \nL 174.463426 65.694546 \nL 174.463426 65.624809 \nL 175.093003 65.624809 \nL 175.137973 65.345861 \nL 175.407791 65.276124 \nL 175.407791 65.13665 \nL 175.76755 65.066913 \nL 175.76755 64.997176 \nL 175.947429 64.927439 \nL 176.082338 64.857702 \nL 176.217247 64.787965 \nL 176.217247 64.718228 \nL 176.352157 64.718228 \nL 176.397126 64.299806 \nL 176.666945 64.230069 \nL 176.666945 64.160332 \nL 176.756885 64.160332 \nL 176.891794 64.090595 \nL 176.891794 64.020858 \nL 177.65628 63.951121 \nL 177.65628 63.881383 \nL 177.74622 63.881383 \nL 178.016038 63.741909 \nL 178.285857 63.672172 \nL 178.375797 63.393224 \nL 178.555676 63.323487 \nL 178.555676 63.25375 \nL 178.870464 63.184013 \nL 178.870464 62.905065 \nL 178.915434 62.905065 \nL 179.050343 62.905065 \nL 179.095313 62.695854 \nL 179.365132 62.626117 \nL 179.455071 62.486643 \nL 179.545011 62.416906 \nL 179.545011 62.207695 \nL 179.63495 62.207695 \nL 179.904769 62.137958 \nL 179.904769 61.928747 \nL 180.129618 61.85901 \nL 180.129618 61.789273 \nL 180.444406 61.719536 \nL 180.534346 61.580062 \nL 181.073983 61.510325 \nL 181.073983 61.301114 \nL 181.118953 61.301114 \nL 181.613621 61.231377 \nL 181.70356 60.812955 \nL 182.198228 60.812955 \nL 182.243198 60.603744 \nL 182.557986 60.603744 \nL 182.557986 60.534007 \nL 182.647926 60.46427 \nL 183.232533 60.394533 \nL 183.232533 60.185322 \nL 183.502351 60.115585 \nL 183.502351 60.045848 \nL 183.7272 59.976111 \nL 183.86211 59.836637 \nL 184.086959 59.836637 \nL 184.086959 59.627426 \nL 184.941384 59.557689 \nL 184.986354 59.418215 \nL 185.166233 59.418215 \nL 185.166233 59.209004 \nL 185.256173 59.209004 \nL 185.481022 59.209004 \nL 185.481022 59.06953 \nL 185.75084 58.999793 \nL 185.84078 58.651108 \nL 186.020659 58.581371 \nL 186.110599 58.441897 \nL 186.245508 58.37216 \nL 186.245508 58.302423 \nL 186.830115 58.302423 \nL 186.830115 58.093212 \nL 187.009994 58.093212 \nL 187.009994 58.023475 \nL 187.729511 57.814264 \nL 187.729511 57.744527 \nL 187.81945 57.744527 \nL 188.044299 57.67479 \nL 188.044299 57.605053 \nL 188.089269 57.605053 \nL 188.224178 57.605053 \nL 188.314118 57.326104 \nL 188.359087 56.907682 \nL 188.583936 56.837945 \nL 188.583936 56.768208 \nL 188.808785 56.628734 \nL 188.808785 56.48926 \nL 189.213513 56.419523 \nL 189.303453 56.280049 \nL 189.573271 56.210312 \nL 189.573271 56.140575 \nL 189.618241 56.140575 \nL 189.88806 56.070838 \nL 189.977999 55.931364 \nL 190.382728 55.861627 \nL 190.382728 55.722153 \nL 190.472667 55.722153 \nL 190.562607 55.652416 \nL 190.607576 55.512942 \nL 190.922365 55.443205 \nL 190.922365 55.233994 \nL 191.237153 55.164257 \nL 191.372063 55.024783 \nL 191.731821 54.955046 \nL 192.766126 54.676098 \nL 193.260793 54.606361 \nL 193.305763 54.466887 \nL 193.485642 54.39715 \nL 193.485642 54.327413 \nL 193.575582 54.327413 \nL 193.755461 54.257676 \nL 193.755461 54.187939 \nL 194.744796 54.118202 \nL 194.834736 53.978728 \nL 195.149524 53.908991 \nL 195.149524 53.839254 \nL 195.329403 53.839254 \nL 195.419343 53.490569 \nL 195.734131 53.420832 \nL 195.779101 53.141884 \nL 196.948315 53.072147 \nL 196.948315 53.00241 \nL 197.038255 53.00241 \nL 197.263104 53.00241 \nL 197.263104 52.932673 \nL 197.532922 52.723462 \nL 197.622862 52.583988 \nL 197.847711 52.514251 \nL 197.847711 52.444514 \nL 197.89268 52.444514 \nL 198.02759 52.374777 \nL 198.657167 52.30504 \nL 198.702137 52.165566 \nL 199.016925 52.095829 \nL 199.016925 52.026092 \nL 199.736441 51.956355 \nL 199.736441 51.886618 \nL 199.916321 51.886618 \nL 199.916321 51.677407 \nL 200.00626 51.677407 \nL 200.141169 51.677407 \nL 200.186139 51.328722 \nL 200.410988 51.258985 \nL 200.500928 51.119511 \nL 200.635837 51.119511 \nL 200.635837 50.980036 \nL 200.860686 50.980036 \nL 200.860686 50.840562 \nL 201.040565 50.840562 \nL 201.130505 50.631351 \nL 201.265414 50.561614 \nL 201.265414 50.491877 \nL 201.400323 50.491877 \nL 201.400323 50.352403 \nL 201.490263 50.352403 \nL 201.580202 50.282666 \nL 201.715112 50.282666 \nL 201.715112 50.143192 \nL 202.0299 50.143192 \nL 202.0299 50.003718 \nL 202.07487 50.003718 \nL 202.569537 49.864244 \nL 203.154145 49.794507 \nL 203.199114 49.655033 \nL 203.513903 49.655033 \nL 203.513903 49.515559 \nL 203.693782 49.515559 \nL 203.693782 49.445822 \nL 204.00857 49.306348 \nL 204.278389 49.306348 \nL 204.413298 49.166874 \nL 204.548208 49.097137 \nL 204.638147 48.887926 \nL 204.997905 48.818189 \nL 204.997905 48.678715 \nL 205.087845 48.678715 \nL 205.717422 48.608978 \nL 205.717422 48.539241 \nL 205.807361 48.539241 \nL 206.12215 48.469504 \nL 206.16712 48.33003 \nL 206.346999 48.260293 \nL 206.346999 48.051082 \nL 206.436938 48.051082 \nL 206.796697 47.981345 \nL 206.796697 47.911608 \nL 206.886636 47.911608 \nL 207.201425 47.841871 \nL 207.201425 47.772134 \nL 208.280699 47.702397 \nL 208.280699 47.63266 \nL 208.370639 47.63266 \nL 208.685427 47.562923 \nL 208.820337 47.493186 \nL 209.270034 47.423449 \nL 209.449914 47.423449 \nL 209.629793 47.214238 \nL 209.854642 47.074764 \nL 211.383614 47.005027 \nL 211.383614 46.93529 \nL 211.428584 46.93529 \nL 212.058161 46.865553 \nL 212.058161 46.795816 \nL 213.767012 45.889235 \nL 213.767012 45.749761 \nL 213.901922 45.749761 \nL 213.901922 45.610287 \nL 214.351619 45.54055 \nL 214.396589 45.331339 \nL 214.531498 45.261602 \nL 214.621438 45.052391 \nL 215.026166 44.982654 \nL 215.026166 44.912917 \nL 215.430894 44.84318 \nL 215.610773 44.773443 \nL 215.880592 44.703706 \nL 215.880592 44.633968 \nL 216.420229 44.564231 \nL 216.465199 44.424757 \nL 217.004836 44.35502 \nL 217.004836 44.285283 \nL 217.229685 44.285283 \nL 217.544474 44.076072 \nL 218.26399 44.006335 \nL 218.26399 43.936598 \nL 218.848597 43.65765 \nL 219.208355 43.65765 \nL 219.253325 43.378702 \nL 219.433204 43.378702 \nL 219.568114 43.099754 \nL 220.152721 43.030017 \nL 220.28763 42.96028 \nL 220.557449 42.890543 \nL 221.097086 42.820806 \nL 221.097086 42.751069 \nL 221.142056 42.751069 \nL 221.321935 42.681332 \nL 221.321935 42.611595 \nL 221.726663 42.611595 \nL 221.726663 42.472121 \nL 221.816603 42.472121 \nL 222.131391 42.402384 \nL 222.131391 42.332647 \nL 222.221331 42.332647 \nL 222.2663 42.26291 \nL 223.165696 42.193173 \nL 223.165696 42.053699 \nL 224.065092 41.983962 \nL 224.110061 41.844488 \nL 224.514789 41.774751 \nL 224.559759 41.635277 \nL 224.694668 41.56554 \nL 225.953822 41.216855 \nL 226.268611 41.216855 \nL 226.268611 41.077381 \nL 226.943157 41.007644 \nL 227.033097 40.728696 \nL 227.842553 40.658959 \nL 228.247281 40.449748 \nL 229.371525 40.380011 \nL 229.371525 40.310274 \nL 229.731284 40.240537 \nL 229.821223 40.101063 \nL 230.49577 40.031326 \nL 230.49577 39.961589 \nL 230.54074 39.961589 \nL 230.900498 39.891852 \nL 230.945468 39.752378 \nL 231.215286 39.682641 \nL 231.215286 39.612904 \nL 231.305226 39.612904 \nL 231.844863 39.543167 \nL 231.844863 39.47343 \nL 232.384501 39.403693 \nL 232.384501 39.333956 \nL 233.059047 39.264219 \nL 233.059047 39.194482 \nL 233.104017 39.194482 \nL 234.363171 39.194482 \nL 234.45311 38.985271 \nL 234.992748 38.915534 \nL 234.992748 38.706323 \nL 235.037717 38.706323 \nL 236.341841 38.636586 \nL 236.386811 38.357638 \nL 236.926448 38.2879 \nL 236.926448 38.218163 \nL 237.016388 38.218163 \nL 237.061357 38.078689 \nL 237.286206 38.008952 \nL 237.600995 37.869478 \nL 238.320511 37.799741 \nL 238.320511 37.730004 \nL 240.029363 37.660267 \nL 240.029363 37.520793 \nL 240.119302 37.520793 \nL 240.254212 37.520793 \nL 240.344151 37.381319 \nL 240.838819 37.311582 \nL 240.883789 37.102371 \nL 240.928758 37.102371 \nL 241.378456 37.032634 \nL 241.513366 36.823423 \nL 241.783184 36.753686 \nL 241.783184 36.683949 \nL 241.873124 36.683949 \nL 242.817489 36.614212 \nL 242.862459 36.474738 \nL 242.907429 36.474738 \nL 244.75119 36.405001 \nL 245.021008 36.19579 \nL 245.470706 36.19579 \nL 245.470706 36.056316 \nL 245.560646 36.056316 \nL 246.63992 35.986579 \nL 247.089618 35.916842 \nL 247.854104 35.847105 \nL 247.854104 35.777368 \nL 248.033983 35.707631 \nL 248.033983 35.637894 \nL 248.528651 35.568157 \nL 248.528651 35.49842 \nL 248.573621 35.49842 \nL 248.933379 35.428683 \nL 249.158228 35.358946 \nL 249.473016 35.358946 \nL 249.473016 35.149735 \nL 249.517986 35.149735 \nL 249.877744 35.079998 \nL 249.877744 35.010261 \nL 249.922714 35.010261 \nL 250.957019 34.940524 \nL 250.957019 34.80105 \nL 251.946354 34.731313 \nL 251.946354 34.661576 \nL 252.485991 34.591839 \nL 252.575931 34.452365 \nL 253.475327 34.382628 \nL 253.475327 34.312891 \nL 254.059934 34.243154 \nL 254.059934 34.173417 \nL 254.374722 34.10368 \nL 254.374722 34.033943 \nL 254.464662 34.033943 \nL 255.768785 33.964206 \nL 255.768785 33.894469 \nL 255.858725 33.894469 \nL 256.038604 33.824732 \nL 256.128543 33.754995 \nL 257.207818 33.685258 \nL 257.252788 33.545784 \nL 258.466972 33.476047 \nL 258.511942 33.336573 \nL 259.411337 33.266836 \nL 259.411337 33.197099 \nL 259.906005 33.127362 \nL 260.175824 33.057625 \nL 261.390008 32.987888 \nL 261.479947 32.848414 \nL 261.884675 32.778677 \nL 261.884675 32.639203 \nL 262.244433 32.569466 \nL 262.604192 32.429992 \nL 263.548557 32.360255 \nL 263.593527 32.290518 \nL 264.672801 32.220781 \nL 264.717771 32.01157 \nL 265.572197 31.941833 \nL 265.617167 31.872095 \nL 266.696441 31.802358 \nL 266.696441 31.732621 \nL 266.741411 31.732621 \nL 266.831351 31.732621 \nL 266.831351 31.593147 \nL 266.92129 31.593147 \nL 267.191109 31.52341 \nL 267.281049 31.453673 \nL 267.955595 31.383936 \nL 267.955595 31.314199 \nL 268.540202 31.314199 \nL 268.540202 31.244462 \nL 268.720081 31.104988 \nL 268.899961 31.104988 \nL 268.899961 31.035251 \nL 268.9899 30.82604 \nL 270.698752 30.756303 \nL 270.698752 30.686566 \nL 271.238389 30.616829 \nL 271.238389 30.477355 \nL 271.283359 30.477355 \nL 273.08215 30.407618 \nL 273.08215 30.337881 \nL 273.351969 30.268144 \nL 273.441908 30.12867 \nL 273.531848 30.12867 \nL 273.621787 29.919459 \nL 273.801666 29.849722 \nL 273.801666 29.779985 \nL 273.891606 29.779985 \nL 274.161425 29.779985 \nL 274.161425 29.640511 \nL 274.251364 29.640511 \nL 276.724702 29.570774 \nL 276.724702 29.501037 \nL 277.624098 29.4313 \nL 277.669067 29.361563 \nL 278.793312 29.291826 \nL 278.793312 29.152352 \nL 279.24301 29.082615 \nL 279.24301 29.012878 \nL 279.332949 29.012878 \nL 281.491498 28.943141 \nL 281.491498 28.873404 \nL 282.031136 28.873404 \nL 282.121075 28.664193 \nL 283.065441 28.664193 \nL 283.065441 28.524719 \nL 283.110411 28.524719 \nL 283.425199 28.454982 \nL 283.425199 28.385245 \nL 283.515139 28.385245 \nL 284.189685 28.315508 \nL 284.189685 28.245771 \nL 284.234655 28.245771 \nL 287.20266 28.176034 \nL 287.2926 28.03656 \nL 287.922177 27.966823 \nL 288.012116 27.827349 \nL 288.596723 27.757612 \nL 288.596723 27.687875 \nL 288.686663 27.687875 \nL 290.215635 27.618138 \nL 290.260605 27.478664 \nL 292.329215 27.408927 \nL 292.329215 27.33919 \nL 292.419155 27.33919 \nL 294.038067 27.269453 \nL 294.128006 27.199716 \nL 294.487764 27.129979 \nL 294.487764 26.990505 \nL 297.140981 26.920768 \nL 297.140981 26.851031 \nL 297.230921 26.851031 \nL 297.545709 26.781294 \nL 297.545709 26.711557 \nL 298.714924 26.64182 \nL 298.804863 26.572083 \nL 299.254561 26.502346 \nL 299.299531 26.362872 \nL 300.648624 26.293135 \nL 300.738564 26.153661 \nL 303.032022 26.083924 \nL 303.032022 26.014187 \nL 303.121962 26.014187 \nL 305.325481 25.94445 \nL 305.325481 25.874713 \nL 305.415421 25.874713 \nL 306.134937 25.804976 \nL 306.224877 25.665502 \nL 307.034333 25.595765 \nL 307.124272 25.526028 \nL 308.608275 25.45629 \nL 308.608275 25.386553 \nL 310.047308 25.316816 \nL 310.227187 25.177342 \nL 312.520646 25.107605 \nL 312.520646 25.037868 \nL 312.565615 25.037868 \nL 313.060283 24.898394 \nL 314.454346 24.828657 \nL 314.499316 24.689183 \nL 314.544286 24.689183 \nL 316.208167 24.619446 \nL 316.208167 24.549709 \nL 319.131203 24.479972 \nL 319.176173 24.340498 \nL 321.604541 24.270761 \nL 321.73945 24.201024 \nL 322.189148 24.131287 \nL 322.189148 24.06155 \nL 322.234118 24.06155 \nL 324.077879 23.991813 \nL 324.077879 23.922076 \nL 324.167818 23.922076 \nL 325.87667 23.852339 \nL 325.92164 23.782602 \nL 327.990249 23.712865 \nL 327.990249 23.643128 \nL 328.080189 23.643128 \nL 328.844675 23.573391 \nL 328.844675 23.503654 \nL 328.934615 23.503654 \nL 329.654131 23.433917 \nL 329.654131 23.36418 \nL 330.238738 23.36418 \nL 330.238738 23.224706 \nL 331.003224 23.154969 \nL 331.003224 23.085232 \nL 341.031485 23.015495 \nL 341.076455 22.945758 \nL 341.436213 22.945758 \nL 341.526153 22.806284 \nL 342.920216 22.736547 \nL 342.965186 22.66681 \nL 349.215985 22.597073 \nL 349.215985 22.527336 \nL 377.052278 22.457599 \nL 377.052278 22.387862 \nL 378.58125 22.318125 \nL 378.58125 22.318125 \n\" style=\"fill:none;stroke:#1f77b4;stroke-linecap:square;stroke-width:1.5;\"/>\n   </g>\n   <g id=\"patch_3\">\n    <path d=\"M 43.78125 239.758125 \nL 43.78125 22.318125 \n\" style=\"fill:none;stroke:#000000;stroke-linecap:square;stroke-linejoin:miter;stroke-width:0.8;\"/>\n   </g>\n   <g id=\"patch_4\">\n    <path d=\"M 378.58125 239.758125 \nL 378.58125 22.318125 \n\" style=\"fill:none;stroke:#000000;stroke-linecap:square;stroke-linejoin:miter;stroke-width:0.8;\"/>\n   </g>\n   <g id=\"patch_5\">\n    <path d=\"M 43.78125 239.758125 \nL 378.58125 239.758125 \n\" style=\"fill:none;stroke:#000000;stroke-linecap:square;stroke-linejoin:miter;stroke-width:0.8;\"/>\n   </g>\n   <g id=\"patch_6\">\n    <path d=\"M 43.78125 22.318125 \nL 378.58125 22.318125 \n\" style=\"fill:none;stroke:#000000;stroke-linecap:square;stroke-linejoin:miter;stroke-width:0.8;\"/>\n   </g>\n   <g id=\"text_15\">\n    <!-- ROC curve for SLAFail classifier -->\n    <defs>\n     <path d=\"M 39.40625 66.21875 \nQ 28.65625 66.21875 22.328125 58.203125 \nQ 16.015625 50.203125 16.015625 36.375 \nQ 16.015625 22.609375 22.328125 14.59375 \nQ 28.65625 6.59375 39.40625 6.59375 \nQ 50.140625 6.59375 56.421875 14.59375 \nQ 62.703125 22.609375 62.703125 36.375 \nQ 62.703125 50.203125 56.421875 58.203125 \nQ 50.140625 66.21875 39.40625 66.21875 \nz\nM 39.40625 74.21875 \nQ 54.734375 74.21875 63.90625 63.9375 \nQ 73.09375 53.65625 73.09375 36.375 \nQ 73.09375 19.140625 63.90625 8.859375 \nQ 54.734375 -1.421875 39.40625 -1.421875 \nQ 24.03125 -1.421875 14.8125 8.828125 \nQ 5.609375 19.09375 5.609375 36.375 \nQ 5.609375 53.65625 14.8125 63.9375 \nQ 24.03125 74.21875 39.40625 74.21875 \nz\n\" id=\"DejaVuSans-79\"/>\n     <path d=\"M 64.40625 67.28125 \nL 64.40625 56.890625 \nQ 59.421875 61.53125 53.78125 63.8125 \nQ 48.140625 66.109375 41.796875 66.109375 \nQ 29.296875 66.109375 22.65625 58.46875 \nQ 16.015625 50.828125 16.015625 36.375 \nQ 16.015625 21.96875 22.65625 14.328125 \nQ 29.296875 6.6875 41.796875 6.6875 \nQ 48.140625 6.6875 53.78125 8.984375 \nQ 59.421875 11.28125 64.40625 15.921875 \nL 64.40625 5.609375 \nQ 59.234375 2.09375 53.4375 0.328125 \nQ 47.65625 -1.421875 41.21875 -1.421875 \nQ 24.65625 -1.421875 15.125 8.703125 \nQ 5.609375 18.84375 5.609375 36.375 \nQ 5.609375 53.953125 15.125 64.078125 \nQ 24.65625 74.21875 41.21875 74.21875 \nQ 47.75 74.21875 53.53125 72.484375 \nQ 59.328125 70.75 64.40625 67.28125 \nz\n\" id=\"DejaVuSans-67\"/>\n     <path d=\"M 9.8125 72.90625 \nL 19.671875 72.90625 \nL 19.671875 8.296875 \nL 55.171875 8.296875 \nL 55.171875 0 \nL 9.8125 0 \nz\n\" id=\"DejaVuSans-76\"/>\n     <path d=\"M 34.1875 63.1875 \nL 20.796875 26.90625 \nL 47.609375 26.90625 \nz\nM 28.609375 72.90625 \nL 39.796875 72.90625 \nL 67.578125 0 \nL 57.328125 0 \nL 50.6875 18.703125 \nL 17.828125 18.703125 \nL 11.1875 0 \nL 0.78125 0 \nz\n\" id=\"DejaVuSans-65\"/>\n    </defs>\n    <g transform=\"translate(117.200625 16.318125)scale(0.12 -0.12)\">\n     <use xlink:href=\"#DejaVuSans-82\"/>\n     <use x=\"69.482422\" xlink:href=\"#DejaVuSans-79\"/>\n     <use x=\"148.193359\" xlink:href=\"#DejaVuSans-67\"/>\n     <use x=\"218.017578\" xlink:href=\"#DejaVuSans-32\"/>\n     <use x=\"249.804688\" xlink:href=\"#DejaVuSans-99\"/>\n     <use x=\"304.785156\" xlink:href=\"#DejaVuSans-117\"/>\n     <use x=\"368.164062\" xlink:href=\"#DejaVuSans-114\"/>\n     <use x=\"409.277344\" xlink:href=\"#DejaVuSans-118\"/>\n     <use x=\"468.457031\" xlink:href=\"#DejaVuSans-101\"/>\n     <use x=\"529.980469\" xlink:href=\"#DejaVuSans-32\"/>\n     <use x=\"561.767578\" xlink:href=\"#DejaVuSans-102\"/>\n     <use x=\"596.972656\" xlink:href=\"#DejaVuSans-111\"/>\n     <use x=\"658.154297\" xlink:href=\"#DejaVuSans-114\"/>\n     <use x=\"699.267578\" xlink:href=\"#DejaVuSans-32\"/>\n     <use x=\"731.054688\" xlink:href=\"#DejaVuSans-83\"/>\n     <use x=\"794.53125\" xlink:href=\"#DejaVuSans-76\"/>\n     <use x=\"850.275391\" xlink:href=\"#DejaVuSans-65\"/>\n     <use x=\"918.683594\" xlink:href=\"#DejaVuSans-70\"/>\n     <use x=\"976.0625\" xlink:href=\"#DejaVuSans-97\"/>\n     <use x=\"1037.341797\" xlink:href=\"#DejaVuSans-105\"/>\n     <use x=\"1065.125\" xlink:href=\"#DejaVuSans-108\"/>\n     <use x=\"1092.908203\" xlink:href=\"#DejaVuSans-32\"/>\n     <use x=\"1124.695312\" xlink:href=\"#DejaVuSans-99\"/>\n     <use x=\"1179.675781\" xlink:href=\"#DejaVuSans-108\"/>\n     <use x=\"1207.458984\" xlink:href=\"#DejaVuSans-97\"/>\n     <use x=\"1268.738281\" xlink:href=\"#DejaVuSans-115\"/>\n     <use x=\"1320.837891\" xlink:href=\"#DejaVuSans-115\"/>\n     <use x=\"1372.9375\" xlink:href=\"#DejaVuSans-105\"/>\n     <use x=\"1400.720703\" xlink:href=\"#DejaVuSans-102\"/>\n     <use x=\"1435.925781\" xlink:href=\"#DejaVuSans-105\"/>\n     <use x=\"1463.708984\" xlink:href=\"#DejaVuSans-101\"/>\n     <use x=\"1525.232422\" xlink:href=\"#DejaVuSans-114\"/>\n    </g>\n   </g>\n  </g>\n </g>\n <defs>\n  <clipPath id=\"p48cd14ff29\">\n   <rect height=\"217.44\" width=\"334.8\" x=\"43.78125\" y=\"22.318125\"/>\n  </clipPath>\n </defs>\n</svg>\n",
      "text/plain": "<Figure size 432x288 with 1 Axes>"
     },
     "metadata": {
      "needs_background": "light"
     },
     "output_type": "display_data"
    }
   ],
   "source": [
    "plt.plot(fpr, tpr)\n",
    "plt.xlim([0.0, 1.0])\n",
    "plt.ylim([0.0, 1.0])\n",
    "plt.title('ROC curve for SLAFail classifier')\n",
    "plt.xlabel('False Positive Rate (1 - Specificity)')\n",
    "plt.ylabel('True Positive Rate (Sensitivity)')\n",
    "plt.grid(True)"
   ]
  },
  {
   "cell_type": "markdown",
   "metadata": {},
   "source": [
    "Capture resulting AUC"
   ]
  },
  {
   "cell_type": "markdown",
   "metadata": {},
   "source": [
    "## Save Details and Performance Measures for Comparison to other Models\n"
   ]
  },
  {
   "cell_type": "markdown",
   "metadata": {},
   "source": [
    "Capture a few classification metrics:\n",
    "* Classification Accuracy: Overall, how often is the classifier correct?\n",
    "* Classification Error: Overall, how often is the classifier incorrect?\n",
    "* True Positive Rate  (Recall, Sensitivity): When the actual value is positive, how often is the prediction correct?\n",
    "* True Negative Rate (Specificity): When the actual value is negative, how often is the prediction correct?\n",
    "* False Positive Rate: When the actual value is negative, how often is the prediction incorrect?\n",
    "* Precision: When a positive value is predicted, how often is the prediction correct?\n"
   ]
  },
  {
   "cell_type": "code",
   "execution_count": 29,
   "metadata": {},
   "outputs": [],
   "source": [
    "PipeLineMetadata['Metrics - Classification Report'] = metrics.classification_report(y_test, y_pred_class)\n",
    "PipeLineMetadata['Metrics - Confusion Matrix'] =metrics.confusion_matrix(y_test, y_pred_class)\n",
    "PipeLineMetadata['Metrics - Confusion Matrix Classification Accuracy'] = metrics.accuracy_score(y_test,y_pred_class) \n",
    "PipeLineMetadata['Metrics - Confusion Matrix Classification Error'] = 1- metrics.accuracy_score(y_test,y_pred_class)\n",
    "PipeLineMetadata['Metrics - Confusion Matrix True Positive Rate'] = metrics.recall_score(y_test, y_pred_class) \n",
    "PipeLineMetadata['Metrics - Confusion Matrix True Negative Rate'] =  TN / float(TN + FP)\n",
    "PipeLineMetadata['Metrics - Confusion Matrix False Positive Rate'] =  FP / float(TN + FP)\n",
    "PipeLineMetadata['Metrics - Confusion Matrix Precision'] = metrics.precision_score(y_test,y_pred_class)\n"
   ]
  },
  {
   "cell_type": "code",
   "execution_count": 30,
   "metadata": {},
   "outputs": [],
   "source": [
    "PipeLineMetadata['Metrics - AUC'] = metrics.roc_auc_score(y_test, y_pred_prob)"
   ]
  },
  {
   "cell_type": "code",
   "execution_count": 31,
   "metadata": {},
   "outputs": [],
   "source": [
    "PipeLineMetadata['Metrics - ROC Curve fpr array'] = fpr\n",
    "PipeLineMetadata['Metrics - ROC Curve tpr array'] = tpr"
   ]
  },
  {
   "cell_type": "code",
   "execution_count": 32,
   "metadata": {},
   "outputs": [
    {
     "data": {
      "text/plain": "{'Null Accuracy': 0.7048187068067784,\n 'Column Transforms': ['woeencoder', 'standardscaler'],\n 'Selector': SelectFpr(alpha=0.05, score_func=<function f_classif at 0x1a1dd995f0>),\n 'Classifier': LogisticRegression(C=1.0, class_weight=None, dual=False, fit_intercept=True,\n                    intercept_scaling=1, l1_ratio=None, max_iter=100,\n                    multi_class='auto', n_jobs=None, penalty='l2',\n                    random_state=None, solver='lbfgs', tol=0.0001, verbose=0,\n                    warm_start=False),\n 'Classifier - Intercept': -0.9376094581875354,\n 'Classifier - Coefficients':                                    0\n Service_Component_WBS_aff   0.104001\n Urgency                     0.188064\n KM_number                   1.121735\n Count_Related_Interactions  1.172629\n Count_Related_Incidents     1.245934\n Count_Related_Changes       0.038820\n Open_Time_HourOfDay         0.182436\n Open_Time_DayOfWeek        -0.035750,\n 'Metrics - Classification Report': '              precision    recall  f1-score   support\\n\\n           0       0.78      0.89      0.83      7445\\n           1       0.60      0.41      0.49      3118\\n\\n    accuracy                           0.75     10563\\n   macro avg       0.69      0.65      0.66     10563\\nweighted avg       0.73      0.75      0.73     10563\\n',\n 'Metrics - Confusion Matrix': array([[6597,  848],\n        [1827, 1291]]),\n 'Metrics - Confusion Matrix Classification Accuracy': 0.7467575499384644,\n 'Metrics - Confusion Matrix Classification Error': 0.25324245006153556,\n 'Metrics - Confusion Matrix True Positive Rate': 0.414047466324567,\n 'Metrics - Confusion Matrix True Negative Rate': 0.8860980523841504,\n 'Metrics - Confusion Matrix False Positive Rate': 0.11390194761584957,\n 'Metrics - Confusion Matrix Precision': 0.6035530621785882,\n 'Metrics - AUC': 0.7806632430855996,\n 'Metrics - ROC Curve fpr array': array([0.        , 0.        , 0.        , ..., 0.99946273, 0.99973136,\n        1.        ]),\n 'Metrics - ROC Curve tpr array': array([0.00000000e+00, 3.20718409e-04, 2.88646568e-03, ...,\n        1.00000000e+00, 1.00000000e+00, 1.00000000e+00])}"
     },
     "execution_count": 32,
     "metadata": {},
     "output_type": "execute_result"
    }
   ],
   "source": [
    "PipeLineMetadata"
   ]
  },
  {
   "cell_type": "code",
   "execution_count": 33,
   "metadata": {},
   "outputs": [],
   "source": [
    "with open(outFileName,'wb') as fo:\n",
    "    pickle.dump(PipeLineMetadata, fo)"
   ]
  },
  {
   "cell_type": "code",
   "execution_count": 34,
   "metadata": {},
   "outputs": [],
   "source": [
    "# with open(\"FILENAME\", 'rb') as fi:\n",
    "#    BareBonesMetadata = pickle.load(fi)"
   ]
  },
  {
   "cell_type": "code",
   "execution_count": null,
   "metadata": {},
   "outputs": [],
   "source": []
  }
 ]
}