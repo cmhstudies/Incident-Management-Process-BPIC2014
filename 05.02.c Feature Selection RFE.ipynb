{
 "nbformat": 4,
 "nbformat_minor": 2,
 "metadata": {
  "language_info": {
   "name": "python",
   "codemirror_mode": {
    "name": "ipython",
    "version": 3
   },
   "version": "3.7.6-final"
  },
  "orig_nbformat": 2,
  "file_extension": ".py",
  "mimetype": "text/x-python",
  "name": "python",
  "npconvert_exporter": "python",
  "pygments_lexer": "ipython3",
  "version": 3,
  "kernelspec": {
   "name": "python3",
   "display_name": "Python 3"
  }
 },
 "cells": [
  {
   "cell_type": "markdown",
   "metadata": {},
   "source": [
    "# 05.02.c Feature  Selection KBest with Recursive Feature Elimination (RFE)\n",
    "\n",
    "Goal: identify the factors that most contribute to SLAFail\n",
    "\n",
    "Tuning Adjustments: Focus on finding the most predictive set of predictor variables\n",
    "\n",
    "Read Prepared Data  ->  Split Data  -> Develop Pipeline  ->  Evaluate  \n",
    "\n",
    "Split Data using sklearn.model_selection.train_test_split\n",
    "\n",
    "Pipeline includes:\n",
    "\n",
    "- Preprocessing variables\n",
    "    - sklearn.compose.make_column_transformer \n",
    "    - Scale numeric variables: sklearn.preprocessing.StandardScaler\n",
    "    - Encode categorical variables: category_encoders.MEstimateEncoder\n",
    "- Selecting features\n",
    "    - sklearn.feature_selection.RFE\n",
    "- Instantiate model\n",
    "    - sklearn.linear_model.LogisticRegression\n",
    "- Fit the model using training data\n",
    "- Cross-validate the model with training data\n",
    "    - sklearn.model_selection.cross_val_score\n",
    "- Output performance measures\n",
    "\n",
    "Evaluate involves running the pipeline with the testing data and capturing metrics\n",
    "\n",
    "\n",
    "\n"
   ]
  },
  {
   "cell_type": "code",
   "execution_count": 1,
   "metadata": {},
   "outputs": [],
   "source": [
    "# Load libraries\n",
    "import pandas as pd\n",
    "import numpy as np\n",
    "import pickle\n",
    "\n",
    "# allow plots to appear in the notebook\n",
    "%matplotlib inline\n",
    "import matplotlib.pyplot as plt\n",
    "\n",
    "from sklearn.model_selection import train_test_split\n",
    "\n",
    "from sklearn.compose import make_column_transformer\n",
    "import category_encoders as ce\n",
    "from sklearn.preprocessing import StandardScaler\n",
    "\n",
    "from sklearn.feature_selection import RFE\n",
    "\n",
    "from sklearn.linear_model import LogisticRegression\n",
    "\n",
    "from sklearn.pipeline import make_pipeline\n",
    "\n",
    "from sklearn.model_selection import cross_val_score\n",
    "\n",
    "from sklearn import metrics"
   ]
  },
  {
   "cell_type": "markdown",
   "metadata": {},
   "source": [
    "## Read Prepared Data"
   ]
  },
  {
   "cell_type": "code",
   "execution_count": 2,
   "metadata": {},
   "outputs": [
    {
     "name": "stdout",
     "output_type": "stream",
     "text": "df.shape: (35208, 12)\ndf.columns: Index(['CI_Name_aff', 'Service_Component_WBS_aff', 'Impact', 'Urgency',\n       'KM_number', 'Count_Related_Interactions', 'Count_Related_Incidents',\n       'Count_Related_Changes', 'SLAFail', 'Open_Time_HourOfDay',\n       'Open_Time_DayOfWeek', 'CI_TypeSubType_aff'],\n      dtype='object')\ndf.dtypes: \nCI_Name_aff                    object\nService_Component_WBS_aff      object\nImpact                         object\nUrgency                        object\nKM_number                      object\nCount_Related_Interactions    float64\nCount_Related_Incidents       float64\nCount_Related_Changes         float64\nSLAFail                         int64\nOpen_Time_HourOfDay             int64\nOpen_Time_DayOfWeek            object\nCI_TypeSubType_aff             object\ndtype: object\n"
    }
   ],
   "source": [
    "df = pd.read_csv(\"data/04.a.Detail_Incident_AtOpen.csv\")\n",
    "print(\"df.shape: \" + str(df.shape))\n",
    "print(\"df.columns: \" + str(df.columns))\n",
    "print(\"df.dtypes: \\n\" + str(df.dtypes))"
   ]
  },
  {
   "cell_type": "markdown",
   "metadata": {},
   "source": [
    "#### Set X and y"
   ]
  },
  {
   "cell_type": "code",
   "execution_count": 3,
   "metadata": {},
   "outputs": [
    {
     "data": {
      "text/plain": "(35208,)"
     },
     "execution_count": 3,
     "metadata": {},
     "output_type": "execute_result"
    }
   ],
   "source": [
    "y = df.SLAFail\n",
    "y.shape"
   ]
  },
  {
   "cell_type": "code",
   "execution_count": 4,
   "metadata": {},
   "outputs": [
    {
     "data": {
      "text/plain": "(35208, 11)"
     },
     "execution_count": 4,
     "metadata": {},
     "output_type": "execute_result"
    }
   ],
   "source": [
    "X = df.drop(['SLAFail'], axis='columns')\n",
    "X.shape"
   ]
  },
  {
   "cell_type": "markdown",
   "metadata": {},
   "source": [
    "Set `Open_Time_HourOfDay` for recognition as a Categorical variable"
   ]
  },
  {
   "cell_type": "code",
   "execution_count": 5,
   "metadata": {},
   "outputs": [
    {
     "data": {
      "text/plain": "CI_Name_aff                    object\nService_Component_WBS_aff      object\nImpact                         object\nUrgency                        object\nKM_number                      object\nCount_Related_Interactions    float64\nCount_Related_Incidents       float64\nCount_Related_Changes         float64\nOpen_Time_HourOfDay            object\nOpen_Time_DayOfWeek            object\nCI_TypeSubType_aff             object\ndtype: object"
     },
     "execution_count": 5,
     "metadata": {},
     "output_type": "execute_result"
    }
   ],
   "source": [
    "X.Open_Time_HourOfDay = X.Open_Time_HourOfDay.astype('object')\n",
    "X.dtypes"
   ]
  },
  {
   "cell_type": "markdown",
   "metadata": {},
   "source": [
    "Create a list of numeric variable column names"
   ]
  },
  {
   "cell_type": "code",
   "execution_count": 6,
   "metadata": {},
   "outputs": [
    {
     "data": {
      "text/plain": "Index(['Count_Related_Interactions', 'Count_Related_Incidents',\n       'Count_Related_Changes'],\n      dtype='object')"
     },
     "execution_count": 6,
     "metadata": {},
     "output_type": "execute_result"
    }
   ],
   "source": [
    "numericVars = X.select_dtypes(include=['float64']).columns\n",
    "numericVars"
   ]
  },
  {
   "cell_type": "markdown",
   "metadata": {},
   "source": [
    "Create a list of categorical variables"
   ]
  },
  {
   "cell_type": "code",
   "execution_count": 7,
   "metadata": {},
   "outputs": [
    {
     "data": {
      "text/plain": "Index(['CI_Name_aff', 'Service_Component_WBS_aff', 'Impact', 'Urgency',\n       'KM_number', 'Open_Time_HourOfDay', 'Open_Time_DayOfWeek',\n       'CI_TypeSubType_aff'],\n      dtype='object')"
     },
     "execution_count": 7,
     "metadata": {},
     "output_type": "execute_result"
    }
   ],
   "source": [
    "categoricalVars = X.select_dtypes(include=['object']).columns\n",
    "categoricalVars"
   ]
  },
  {
   "cell_type": "markdown",
   "metadata": {},
   "source": [
    "## Split Data\n",
    "\n",
    "Create Training and Testing Data Sets\n"
   ]
  },
  {
   "cell_type": "code",
   "execution_count": 8,
   "metadata": {},
   "outputs": [],
   "source": [
    "\n",
    "X_train, X_test, y_train, y_test = train_test_split(X, y, test_size=0.3, random_state=2020)\n"
   ]
  },
  {
   "cell_type": "code",
   "execution_count": 9,
   "metadata": {},
   "outputs": [
    {
     "name": "stdout",
     "output_type": "stream",
     "text": "(24645, 11)\nIndex(['CI_Name_aff', 'Service_Component_WBS_aff', 'Impact', 'Urgency',\n       'KM_number', 'Count_Related_Interactions', 'Count_Related_Incidents',\n       'Count_Related_Changes', 'Open_Time_HourOfDay', 'Open_Time_DayOfWeek',\n       'CI_TypeSubType_aff'],\n      dtype='object')\n"
    }
   ],
   "source": [
    "print(X_train.shape)\n",
    "print(X_train.columns)"
   ]
  },
  {
   "cell_type": "markdown",
   "metadata": {},
   "source": [
    "## Develop Pipeline\n"
   ]
  },
  {
   "cell_type": "code",
   "execution_count": 10,
   "metadata": {},
   "outputs": [],
   "source": [
    "# create dictionary to store information about the pipeline and results for later reporting and review\n",
    "PipeLineMetadata = { \"Name\" : \"Feature Selection RFE\" }"
   ]
  },
  {
   "cell_type": "markdown",
   "metadata": {},
   "source": [
    "### Encode Variables\n",
    "\n",
    "Numeric and categorical variables require different treatment \n",
    "\n",
    "Set up column transformer for scaling numeric variables and encoding categorical variables\n",
    "\n"
   ]
  },
  {
   "cell_type": "code",
   "execution_count": 11,
   "metadata": {},
   "outputs": [],
   "source": [
    "column_trans = make_column_transformer(\n",
    "    (ce.WOEEncoder(), categoricalVars),\n",
    "    (StandardScaler(), numericVars),\n",
    "    remainder='passthrough')"
   ]
  },
  {
   "cell_type": "code",
   "execution_count": 12,
   "metadata": {},
   "outputs": [
    {
     "data": {
      "text/plain": "ColumnTransformer(n_jobs=None, remainder='passthrough', sparse_threshold=0.3,\n                  transformer_weights=None,\n                  transformers=[('woeencoder',\n                                 WOEEncoder(cols=None, drop_invariant=False,\n                                            handle_missing='value',\n                                            handle_unknown='value',\n                                            random_state=None, randomized=False,\n                                            regularization=1.0, return_df=True,\n                                            sigma=0.05, verbose=0),\n                                 Index(['CI_Name_aff', 'Service_Component_WBS_aff', 'Impact', 'Urgency',\n       'KM_number', 'Open_Time_HourOfDay', 'Open_Time_DayOfWeek',\n       'CI_TypeSubType_aff'],\n      dtype='object')),\n                                ('standardscaler',\n                                 StandardScaler(copy=True, with_mean=True,\n                                                with_std=True),\n                                 Index(['Count_Related_Interactions', 'Count_Related_Incidents',\n       'Count_Related_Changes'],\n      dtype='object'))],\n                  verbose=False)"
     },
     "execution_count": 12,
     "metadata": {},
     "output_type": "execute_result"
    }
   ],
   "source": [
    "column_trans"
   ]
  },
  {
   "cell_type": "markdown",
   "metadata": {},
   "source": [
    "### Feature Selection\n",
    "\n",
    "\n"
   ]
  },
  {
   "cell_type": "code",
   "execution_count": 13,
   "metadata": {},
   "outputs": [],
   "source": [
    "selector = RFE(LogisticRegression(),5)"
   ]
  },
  {
   "cell_type": "markdown",
   "metadata": {},
   "source": [
    "### Specify Classifier (Logistic Regression)"
   ]
  },
  {
   "cell_type": "code",
   "execution_count": 14,
   "metadata": {},
   "outputs": [],
   "source": [
    "classifier = LogisticRegression(solver=\"lbfgs\")"
   ]
  },
  {
   "cell_type": "markdown",
   "metadata": {},
   "source": [
    "### Compose Pipeline"
   ]
  },
  {
   "cell_type": "code",
   "execution_count": 15,
   "metadata": {},
   "outputs": [],
   "source": [
    "pipe = make_pipeline(column_trans, \n",
    "                     selector,\n",
    "                     classifier)"
   ]
  },
  {
   "cell_type": "markdown",
   "metadata": {},
   "source": [
    "### Fit the Model Using the Pipeline"
   ]
  },
  {
   "cell_type": "code",
   "execution_count": 16,
   "metadata": {},
   "outputs": [
    {
     "data": {
      "text/plain": "Pipeline(memory=None,\n         steps=[('columntransformer',\n                 ColumnTransformer(n_jobs=None, remainder='passthrough',\n                                   sparse_threshold=0.3,\n                                   transformer_weights=None,\n                                   transformers=[('woeencoder',\n                                                  WOEEncoder(cols=None,\n                                                             drop_invariant=False,\n                                                             handle_missing='value',\n                                                             handle_unknown='value',\n                                                             random_state=None,\n                                                             randomized=False,\n                                                             regularization=1.0,\n                                                             return_df=True,\n                                                             sigma=0.05,\n                                                             verbo...\n                                                  solver='lbfgs', tol=0.0001,\n                                                  verbose=0, warm_start=False),\n                     n_features_to_select=5, step=1, verbose=0)),\n                ('logisticregression',\n                 LogisticRegression(C=1.0, class_weight=None, dual=False,\n                                    fit_intercept=True, intercept_scaling=1,\n                                    l1_ratio=None, max_iter=100,\n                                    multi_class='auto', n_jobs=None,\n                                    penalty='l2', random_state=None,\n                                    solver='lbfgs', tol=0.0001, verbose=0,\n                                    warm_start=False))],\n         verbose=False)"
     },
     "execution_count": 16,
     "metadata": {},
     "output_type": "execute_result"
    }
   ],
   "source": [
    "pipe.fit(X_train,y_train)"
   ]
  },
  {
   "cell_type": "markdown",
   "metadata": {},
   "source": [
    "### Capture model  information"
   ]
  },
  {
   "cell_type": "code",
   "execution_count": 17,
   "metadata": {},
   "outputs": [
    {
     "data": {
      "text/plain": "{'columntransformer': ColumnTransformer(n_jobs=None, remainder='passthrough', sparse_threshold=0.3,\n                   transformer_weights=None,\n                   transformers=[('woeencoder',\n                                  WOEEncoder(cols=None, drop_invariant=False,\n                                             handle_missing='value',\n                                             handle_unknown='value',\n                                             random_state=None, randomized=False,\n                                             regularization=1.0, return_df=True,\n                                             sigma=0.05, verbose=0),\n                                  Index(['CI_Name_aff', 'Service_Component_WBS_aff', 'Impact', 'Urgency',\n        'KM_number', 'Open_Time_HourOfDay', 'Open_Time_DayOfWeek',\n        'CI_TypeSubType_aff'],\n       dtype='object')),\n                                 ('standardscaler',\n                                  StandardScaler(copy=True, with_mean=True,\n                                                 with_std=True),\n                                  Index(['Count_Related_Interactions', 'Count_Related_Incidents',\n        'Count_Related_Changes'],\n       dtype='object'))],\n                   verbose=False),\n 'rfe': RFE(estimator=LogisticRegression(C=1.0, class_weight=None, dual=False,\n                                  fit_intercept=True, intercept_scaling=1,\n                                  l1_ratio=None, max_iter=100,\n                                  multi_class='auto', n_jobs=None, penalty='l2',\n                                  random_state=None, solver='lbfgs', tol=0.0001,\n                                  verbose=0, warm_start=False),\n     n_features_to_select=5, step=1, verbose=0),\n 'logisticregression': LogisticRegression(C=1.0, class_weight=None, dual=False, fit_intercept=True,\n                    intercept_scaling=1, l1_ratio=None, max_iter=100,\n                    multi_class='auto', n_jobs=None, penalty='l2',\n                    random_state=None, solver='lbfgs', tol=0.0001, verbose=0,\n                    warm_start=False)}"
     },
     "execution_count": 17,
     "metadata": {},
     "output_type": "execute_result"
    }
   ],
   "source": [
    "pipe.named_steps"
   ]
  },
  {
   "cell_type": "code",
   "execution_count": 18,
   "metadata": {},
   "outputs": [
    {
     "data": {
      "text/plain": "{'Name': 'Feature Selection RFE',\n 'Column Transforms': ['woeencoder', 'standardscaler'],\n 'Selector': RFE(estimator=LogisticRegression(C=1.0, class_weight=None, dual=False,\n                                  fit_intercept=True, intercept_scaling=1,\n                                  l1_ratio=None, max_iter=100,\n                                  multi_class='auto', n_jobs=None, penalty='l2',\n                                  random_state=None, solver='lbfgs', tol=0.0001,\n                                  verbose=0, warm_start=False),\n     n_features_to_select=5, step=1, verbose=0),\n 'Classifier': LogisticRegression(C=1.0, class_weight=None, dual=False, fit_intercept=True,\n                    intercept_scaling=1, l1_ratio=None, max_iter=100,\n                    multi_class='auto', n_jobs=None, penalty='l2',\n                    random_state=None, solver='lbfgs', tol=0.0001, verbose=0,\n                    warm_start=False)}"
     },
     "execution_count": 18,
     "metadata": {},
     "output_type": "execute_result"
    }
   ],
   "source": [
    "PipeLineMetadata['Column Transforms'] = list(pipe.named_steps.columntransformer.named_transformers_.keys())\n",
    "PipeLineMetadata['Selector'] = pipe.named_steps.rfe\n",
    "PipeLineMetadata['Classifier'] = pipe.named_steps.logisticregression\n",
    "PipeLineMetadata"
   ]
  },
  {
   "cell_type": "markdown",
   "metadata": {},
   "source": [
    "Identify the features retained"
   ]
  },
  {
   "cell_type": "code",
   "execution_count": 19,
   "metadata": {},
   "outputs": [
    {
     "data": {
      "text/plain": "[False, False, True, False, True, True, True, False, True, False, False]"
     },
     "execution_count": 19,
     "metadata": {},
     "output_type": "execute_result"
    }
   ],
   "source": [
    "# returns a mask of features retained\n",
    "pipe.named_steps.rfe.get_support().tolist()"
   ]
  },
  {
   "cell_type": "code",
   "execution_count": 20,
   "metadata": {},
   "outputs": [
    {
     "data": {
      "text/plain": "array(['Impact', 'KM_number', 'Count_Related_Interactions',\n       'Count_Related_Incidents', 'Open_Time_HourOfDay'], dtype='<U26')"
     },
     "execution_count": 20,
     "metadata": {},
     "output_type": "execute_result"
    }
   ],
   "source": [
    "# apply mask to X_train column names \n",
    "selectedFeatures = np.array(X_train.columns.tolist())[pipe.named_steps.rfe.get_support().tolist()]\n",
    "selectedFeatures"
   ]
  },
  {
   "cell_type": "code",
   "execution_count": 21,
   "metadata": {},
   "outputs": [
    {
     "data": {
      "text/plain": "{'Name': 'Feature Selection RFE',\n 'Column Transforms': ['woeencoder', 'standardscaler'],\n 'Selector': RFE(estimator=LogisticRegression(C=1.0, class_weight=None, dual=False,\n                                  fit_intercept=True, intercept_scaling=1,\n                                  l1_ratio=None, max_iter=100,\n                                  multi_class='auto', n_jobs=None, penalty='l2',\n                                  random_state=None, solver='lbfgs', tol=0.0001,\n                                  verbose=0, warm_start=False),\n     n_features_to_select=5, step=1, verbose=0),\n 'Classifier': LogisticRegression(C=1.0, class_weight=None, dual=False, fit_intercept=True,\n                    intercept_scaling=1, l1_ratio=None, max_iter=100,\n                    multi_class='auto', n_jobs=None, penalty='l2',\n                    random_state=None, solver='lbfgs', tol=0.0001, verbose=0,\n                    warm_start=False),\n 'Classifier - Intercept': -0.9405940684422449,\n 'Classifier - Coefficients':                                    0\n Impact                      0.221828\n KM_number                   1.169620\n Count_Related_Interactions  1.152287\n Count_Related_Incidents     1.241007\n Open_Time_HourOfDay         0.162281}"
     },
     "execution_count": 21,
     "metadata": {},
     "output_type": "execute_result"
    }
   ],
   "source": [
    "PipeLineMetadata['Classifier - Intercept'] = pipe.named_steps.logisticregression.intercept_[0]\n",
    "PipeLineMetadata['Classifier - Coefficients'] = pd.DataFrame(pipe.named_steps.logisticregression.coef_, columns=selectedFeatures).transpose()\n",
    "PipeLineMetadata"
   ]
  },
  {
   "cell_type": "code",
   "execution_count": 22,
   "metadata": {},
   "outputs": [
    {
     "data": {
      "text/plain": "array([2, 6, 1, 5, 1, 1, 1, 4, 1, 3, 7])"
     },
     "execution_count": 22,
     "metadata": {},
     "output_type": "execute_result"
    }
   ],
   "source": [
    "pipe.named_steps.rfe.ranking_"
   ]
  },
  {
   "cell_type": "code",
   "execution_count": 23,
   "metadata": {},
   "outputs": [
    {
     "data": {
      "text/plain": "{'Name': 'Feature Selection RFE',\n 'Column Transforms': ['woeencoder', 'standardscaler'],\n 'Selector': RFE(estimator=LogisticRegression(C=1.0, class_weight=None, dual=False,\n                                  fit_intercept=True, intercept_scaling=1,\n                                  l1_ratio=None, max_iter=100,\n                                  multi_class='auto', n_jobs=None, penalty='l2',\n                                  random_state=None, solver='lbfgs', tol=0.0001,\n                                  verbose=0, warm_start=False),\n     n_features_to_select=5, step=1, verbose=0),\n 'Classifier': LogisticRegression(C=1.0, class_weight=None, dual=False, fit_intercept=True,\n                    intercept_scaling=1, l1_ratio=None, max_iter=100,\n                    multi_class='auto', n_jobs=None, penalty='l2',\n                    random_state=None, solver='lbfgs', tol=0.0001, verbose=0,\n                    warm_start=False),\n 'Classifier - Intercept': -0.9405940684422449,\n 'Classifier - Coefficients':                                    0\n Impact                      0.221828\n KM_number                   1.169620\n Count_Related_Interactions  1.152287\n Count_Related_Incidents     1.241007\n Open_Time_HourOfDay         0.162281,\n 'Selector - Ranking':                             ranking\n Impact                            1\n KM_number                         1\n Count_Related_Interactions        1\n Count_Related_Incidents           1\n Open_Time_HourOfDay               1\n CI_Name_aff                       2\n Open_Time_DayOfWeek               3\n Count_Related_Changes             4\n Urgency                           5\n Service_Component_WBS_aff         6\n CI_TypeSubType_aff                7}"
     },
     "execution_count": 23,
     "metadata": {},
     "output_type": "execute_result"
    }
   ],
   "source": [
    "PipeLineMetadata['Selector - Ranking'] = pd.DataFrame([pipe.named_steps.rfe.ranking_], columns=X_train.columns, index=['ranking']).transpose().sort_values(by=['ranking'])\n",
    "PipeLineMetadata"
   ]
  },
  {
   "cell_type": "markdown",
   "metadata": {},
   "source": [
    "## Cross-validate the Model with Training Data\n"
   ]
  },
  {
   "cell_type": "code",
   "execution_count": 24,
   "metadata": {},
   "outputs": [
    {
     "data": {
      "text/plain": "0.7351186853317102"
     },
     "execution_count": 24,
     "metadata": {},
     "output_type": "execute_result"
    }
   ],
   "source": [
    "PipeLineMetadata['Metrics - Cross Validation Accuracy'] = cross_val_score(pipe, X_train, y_train, cv=5, scoring=\"accuracy\").mean()\n",
    "PipeLineMetadata['Metrics - Cross Validation Accuracy']"
   ]
  },
  {
   "cell_type": "markdown",
   "metadata": {},
   "source": [
    "## Evaluate with Test Data"
   ]
  },
  {
   "cell_type": "markdown",
   "metadata": {},
   "source": [
    "Get predicted classification and predicted probabilities based on the model"
   ]
  },
  {
   "cell_type": "code",
   "execution_count": 25,
   "metadata": {},
   "outputs": [],
   "source": [
    "y_pred_class = pipe.predict(X_test)\n",
    "y_pred_prob = pipe.predict_proba(X_test)[:,1]"
   ]
  },
  {
   "cell_type": "code",
   "execution_count": 26,
   "metadata": {},
   "outputs": [
    {
     "data": {
      "text/plain": "0.6565940549462997"
     },
     "execution_count": 26,
     "metadata": {},
     "output_type": "execute_result"
    }
   ],
   "source": [
    "PipeLineMetadata['Metrics - F1 score'] = metrics.f1_score(y_test, y_pred_class, average='macro')\n",
    "PipeLineMetadata['Metrics - F1 score']"
   ]
  },
  {
   "cell_type": "markdown",
   "metadata": {},
   "source": [
    "Look at the resulting confusion matrix\n",
    "\n",
    "Save True Positive (TP), True Negative (TN), False Positive(FP), and False Negative (FN) values"
   ]
  },
  {
   "cell_type": "code",
   "execution_count": 27,
   "metadata": {},
   "outputs": [
    {
     "name": "stdout",
     "output_type": "stream",
     "text": "[[6602  843]\n [1857 1261]]\nTN: 6602 \t FP: 843 \nFN: 1857 \t TP: 1261 \n"
    }
   ],
   "source": [
    "confusion = metrics.confusion_matrix(y_test, y_pred_class)\n",
    "TP = confusion[1, 1]\n",
    "TN = confusion[0, 0]\n",
    "FP = confusion[0, 1]\n",
    "FN = confusion[1, 0]\n",
    "print(confusion)\n",
    "print(\"TN: %d \\t FP: %d \\nFN: %d \\t TP: %d \" % (TN, FP, FN, TP))"
   ]
  },
  {
   "cell_type": "markdown",
   "metadata": {},
   "source": [
    "Capture a few classification metrics:\n",
    "* Classification Accuracy: Overall, how often is the classifier correct?\n",
    "* Classification Error: Overall, how often is the classifier incorrect?\n",
    "* True Positive Rate  (Recall, Sensitivity): When the actual value is positive, how often is the prediction correct?\n",
    "* True Negative Rate (Specificity): When the actual value is negative, how often is the prediction correct?\n",
    "* False Positive Rate: When the actual value is negative, how often is the prediction incorrect?\n",
    "* Precision: When a positive value is predicted, how often is the prediction correct?\n"
   ]
  },
  {
   "cell_type": "code",
   "execution_count": 28,
   "metadata": {},
   "outputs": [],
   "source": [
    "PipeLineMetadata['Metrics - Confusion Matrix Classification Accuracy'] = metrics.accuracy_score(y_test,y_pred_class) \n",
    "PipeLineMetadata['Metrics - Confusion Matrix Classification Error'] = 1- metrics.accuracy_score(y_test,y_pred_class)\n",
    "PipeLineMetadata['Metrics - Confusion Matrix True Positive Rate'] = metrics.recall_score(y_test, y_pred_class) \n",
    "PipeLineMetadata['Metrics - Confusion Matrix True Negative Rate'] =  TN / float(TN + FP)\n",
    "PipeLineMetadata['Metrics - Confusion Matrix False Positive Rate'] =  FP / float(TN + FP)\n",
    "PipeLineMetadata['Metrics - Confusion Matrix Precision'] = metrics.precision_score(y_test,y_pred_class)"
   ]
  },
  {
   "cell_type": "code",
   "execution_count": 29,
   "metadata": {},
   "outputs": [
    {
     "data": {
      "text/plain": "{'Name': 'Feature Selection RFE',\n 'Column Transforms': ['woeencoder', 'standardscaler'],\n 'Selector': RFE(estimator=LogisticRegression(C=1.0, class_weight=None, dual=False,\n                                  fit_intercept=True, intercept_scaling=1,\n                                  l1_ratio=None, max_iter=100,\n                                  multi_class='auto', n_jobs=None, penalty='l2',\n                                  random_state=None, solver='lbfgs', tol=0.0001,\n                                  verbose=0, warm_start=False),\n     n_features_to_select=5, step=1, verbose=0),\n 'Classifier': LogisticRegression(C=1.0, class_weight=None, dual=False, fit_intercept=True,\n                    intercept_scaling=1, l1_ratio=None, max_iter=100,\n                    multi_class='auto', n_jobs=None, penalty='l2',\n                    random_state=None, solver='lbfgs', tol=0.0001, verbose=0,\n                    warm_start=False),\n 'Classifier - Intercept': -0.9405940684422449,\n 'Classifier - Coefficients':                                    0\n Impact                      0.221828\n KM_number                   1.169620\n Count_Related_Interactions  1.152287\n Count_Related_Incidents     1.241007\n Open_Time_HourOfDay         0.162281,\n 'Selector - Ranking':                             ranking\n Impact                            1\n KM_number                         1\n Count_Related_Interactions        1\n Count_Related_Incidents           1\n Open_Time_HourOfDay               1\n CI_Name_aff                       2\n Open_Time_DayOfWeek               3\n Count_Related_Changes             4\n Urgency                           5\n Service_Component_WBS_aff         6\n CI_TypeSubType_aff                7,\n 'Metrics - Cross Validation Accuracy': 0.7351186853317102,\n 'Metrics - F1 score': 0.6565940549462997,\n 'Metrics - Confusion Matrix Classification Accuracy': 0.7443907980687304,\n 'Metrics - Confusion Matrix Classification Error': 0.25560920193126957,\n 'Metrics - Confusion Matrix True Positive Rate': 0.4044259140474663,\n 'Metrics - Confusion Matrix True Negative Rate': 0.8867696440564137,\n 'Metrics - Confusion Matrix False Positive Rate': 0.1132303559435863,\n 'Metrics - Confusion Matrix Precision': 0.5993346007604563}"
     },
     "execution_count": 29,
     "metadata": {},
     "output_type": "execute_result"
    }
   ],
   "source": [
    "PipeLineMetadata\n"
   ]
  },
  {
   "cell_type": "markdown",
   "metadata": {},
   "source": [
    "Add some ROC curve information and AUC result\n"
   ]
  },
  {
   "cell_type": "code",
   "execution_count": 30,
   "metadata": {},
   "outputs": [],
   "source": [
    "fpr, tpr, thresholds = metrics.roc_curve(y_test, y_pred_prob)"
   ]
  },
  {
   "cell_type": "code",
   "execution_count": 31,
   "metadata": {},
   "outputs": [],
   "source": [
    "PipeLineMetadata['Metrics - ROC Curve fpr array'] = fpr\n",
    "PipeLineMetadata['Metrics - ROC Curve tpr array'] = tpr"
   ]
  },
  {
   "cell_type": "code",
   "execution_count": 32,
   "metadata": {},
   "outputs": [
    {
     "data": {
      "image/png": "[encoded data removed]",
      "image/svg+xml": "<?xml version=\"1.0\" encoding=\"utf-8\" standalone=\"no\"?>\n<!DOCTYPE svg PUBLIC \"-//W3C//DTD SVG 1.1//EN\"\n  \"http://www.w3.org/Graphics/SVG/1.1/DTD/svg11.dtd\">\n<!-- Created with matplotlib (https://matplotlib.org/) -->\n<svg height=\"277.314375pt\" version=\"1.1\" viewBox=\"0 0 393.732813 277.314375\" width=\"393.732813pt\" xmlns=\"http://www.w3.org/2000/svg\" xmlns:xlink=\"http://www.w3.org/1999/xlink\">\n <defs>\n  <style type=\"text/css\">\n*{stroke-linecap:butt;stroke-linejoin:round;}\n  </style>\n </defs>\n <g id=\"figure_1\">\n  <g id=\"patch_1\">\n   <path d=\"M 0 277.314375 \nL 393.732813 277.314375 \nL 393.732813 0 \nL 0 0 \nz\n\" style=\"fill:none;\"/>\n  </g>\n  <g id=\"axes_1\">\n   <g id=\"patch_2\">\n    <path d=\"M 43.78125 239.758125 \nL 378.58125 239.758125 \nL 378.58125 22.318125 \nL 43.78125 22.318125 \nz\n\" style=\"fill:#ffffff;\"/>\n   </g>\n   <g id=\"matplotlib.axis_1\">\n    <g id=\"xtick_1\">\n     <g id=\"line2d_1\">\n      <path clip-path=\"url(#pa5527eaa1a)\" d=\"M 43.78125 239.758125 \nL 43.78125 22.318125 \n\" style=\"fill:none;stroke:#b0b0b0;stroke-linecap:square;stroke-width:0.8;\"/>\n     </g>\n     <g id=\"line2d_2\">\n      <defs>\n       <path d=\"M 0 0 \nL 0 3.5 \n\" id=\"m25988a067d\" style=\"stroke:#000000;stroke-width:0.8;\"/>\n      </defs>\n      <g>\n       <use style=\"stroke:#000000;stroke-width:0.8;\" x=\"43.78125\" xlink:href=\"#m25988a067d\" y=\"239.758125\"/>\n      </g>\n     </g>\n     <g id=\"text_1\">\n      <!-- 0.0 -->\n      <defs>\n       <path d=\"M 31.78125 66.40625 \nQ 24.171875 66.40625 20.328125 58.90625 \nQ 16.5 51.421875 16.5 36.375 \nQ 16.5 21.390625 20.328125 13.890625 \nQ 24.171875 6.390625 31.78125 6.390625 \nQ 39.453125 6.390625 43.28125 13.890625 \nQ 47.125 21.390625 47.125 36.375 \nQ 47.125 51.421875 43.28125 58.90625 \nQ 39.453125 66.40625 31.78125 66.40625 \nz\nM 31.78125 74.21875 \nQ 44.046875 74.21875 50.515625 64.515625 \nQ 56.984375 54.828125 56.984375 36.375 \nQ 56.984375 17.96875 50.515625 8.265625 \nQ 44.046875 -1.421875 31.78125 -1.421875 \nQ 19.53125 -1.421875 13.0625 8.265625 \nQ 6.59375 17.96875 6.59375 36.375 \nQ 6.59375 54.828125 13.0625 64.515625 \nQ 19.53125 74.21875 31.78125 74.21875 \nz\n\" id=\"DejaVuSans-48\"/>\n       <path d=\"M 10.6875 12.40625 \nL 21 12.40625 \nL 21 0 \nL 10.6875 0 \nz\n\" id=\"DejaVuSans-46\"/>\n      </defs>\n      <g transform=\"translate(35.829688 254.356562)scale(0.1 -0.1)\">\n       <use xlink:href=\"#DejaVuSans-48\"/>\n       <use x=\"63.623047\" xlink:href=\"#DejaVuSans-46\"/>\n       <use x=\"95.410156\" xlink:href=\"#DejaVuSans-48\"/>\n      </g>\n     </g>\n    </g>\n    <g id=\"xtick_2\">\n     <g id=\"line2d_3\">\n      <path clip-path=\"url(#pa5527eaa1a)\" d=\"M 110.74125 239.758125 \nL 110.74125 22.318125 \n\" style=\"fill:none;stroke:#b0b0b0;stroke-linecap:square;stroke-width:0.8;\"/>\n     </g>\n     <g id=\"line2d_4\">\n      <g>\n       <use style=\"stroke:#000000;stroke-width:0.8;\" x=\"110.74125\" xlink:href=\"#m25988a067d\" y=\"239.758125\"/>\n      </g>\n     </g>\n     <g id=\"text_2\">\n      <!-- 0.2 -->\n      <defs>\n       <path d=\"M 19.1875 8.296875 \nL 53.609375 8.296875 \nL 53.609375 0 \nL 7.328125 0 \nL 7.328125 8.296875 \nQ 12.9375 14.109375 22.625 23.890625 \nQ 32.328125 33.6875 34.8125 36.53125 \nQ 39.546875 41.84375 41.421875 45.53125 \nQ 43.3125 49.21875 43.3125 52.78125 \nQ 43.3125 58.59375 39.234375 62.25 \nQ 35.15625 65.921875 28.609375 65.921875 \nQ 23.96875 65.921875 18.8125 64.3125 \nQ 13.671875 62.703125 7.8125 59.421875 \nL 7.8125 69.390625 \nQ 13.765625 71.78125 18.9375 73 \nQ 24.125 74.21875 28.421875 74.21875 \nQ 39.75 74.21875 46.484375 68.546875 \nQ 53.21875 62.890625 53.21875 53.421875 \nQ 53.21875 48.921875 51.53125 44.890625 \nQ 49.859375 40.875 45.40625 35.40625 \nQ 44.1875 33.984375 37.640625 27.21875 \nQ 31.109375 20.453125 19.1875 8.296875 \nz\n\" id=\"DejaVuSans-50\"/>\n      </defs>\n      <g transform=\"translate(102.789688 254.356562)scale(0.1 -0.1)\">\n       <use xlink:href=\"#DejaVuSans-48\"/>\n       <use x=\"63.623047\" xlink:href=\"#DejaVuSans-46\"/>\n       <use x=\"95.410156\" xlink:href=\"#DejaVuSans-50\"/>\n      </g>\n     </g>\n    </g>\n    <g id=\"xtick_3\">\n     <g id=\"line2d_5\">\n      <path clip-path=\"url(#pa5527eaa1a)\" d=\"M 177.70125 239.758125 \nL 177.70125 22.318125 \n\" style=\"fill:none;stroke:#b0b0b0;stroke-linecap:square;stroke-width:0.8;\"/>\n     </g>\n     <g id=\"line2d_6\">\n      <g>\n       <use style=\"stroke:#000000;stroke-width:0.8;\" x=\"177.70125\" xlink:href=\"#m25988a067d\" y=\"239.758125\"/>\n      </g>\n     </g>\n     <g id=\"text_3\">\n      <!-- 0.4 -->\n      <defs>\n       <path d=\"M 37.796875 64.3125 \nL 12.890625 25.390625 \nL 37.796875 25.390625 \nz\nM 35.203125 72.90625 \nL 47.609375 72.90625 \nL 47.609375 25.390625 \nL 58.015625 25.390625 \nL 58.015625 17.1875 \nL 47.609375 17.1875 \nL 47.609375 0 \nL 37.796875 0 \nL 37.796875 17.1875 \nL 4.890625 17.1875 \nL 4.890625 26.703125 \nz\n\" id=\"DejaVuSans-52\"/>\n      </defs>\n      <g transform=\"translate(169.749688 254.356562)scale(0.1 -0.1)\">\n       <use xlink:href=\"#DejaVuSans-48\"/>\n       <use x=\"63.623047\" xlink:href=\"#DejaVuSans-46\"/>\n       <use x=\"95.410156\" xlink:href=\"#DejaVuSans-52\"/>\n      </g>\n     </g>\n    </g>\n    <g id=\"xtick_4\">\n     <g id=\"line2d_7\">\n      <path clip-path=\"url(#pa5527eaa1a)\" d=\"M 244.66125 239.758125 \nL 244.66125 22.318125 \n\" style=\"fill:none;stroke:#b0b0b0;stroke-linecap:square;stroke-width:0.8;\"/>\n     </g>\n     <g id=\"line2d_8\">\n      <g>\n       <use style=\"stroke:#000000;stroke-width:0.8;\" x=\"244.66125\" xlink:href=\"#m25988a067d\" y=\"239.758125\"/>\n      </g>\n     </g>\n     <g id=\"text_4\">\n      <!-- 0.6 -->\n      <defs>\n       <path d=\"M 33.015625 40.375 \nQ 26.375 40.375 22.484375 35.828125 \nQ 18.609375 31.296875 18.609375 23.390625 \nQ 18.609375 15.53125 22.484375 10.953125 \nQ 26.375 6.390625 33.015625 6.390625 \nQ 39.65625 6.390625 43.53125 10.953125 \nQ 47.40625 15.53125 47.40625 23.390625 \nQ 47.40625 31.296875 43.53125 35.828125 \nQ 39.65625 40.375 33.015625 40.375 \nz\nM 52.59375 71.296875 \nL 52.59375 62.3125 \nQ 48.875 64.0625 45.09375 64.984375 \nQ 41.3125 65.921875 37.59375 65.921875 \nQ 27.828125 65.921875 22.671875 59.328125 \nQ 17.53125 52.734375 16.796875 39.40625 \nQ 19.671875 43.65625 24.015625 45.921875 \nQ 28.375 48.1875 33.59375 48.1875 \nQ 44.578125 48.1875 50.953125 41.515625 \nQ 57.328125 34.859375 57.328125 23.390625 \nQ 57.328125 12.15625 50.6875 5.359375 \nQ 44.046875 -1.421875 33.015625 -1.421875 \nQ 20.359375 -1.421875 13.671875 8.265625 \nQ 6.984375 17.96875 6.984375 36.375 \nQ 6.984375 53.65625 15.1875 63.9375 \nQ 23.390625 74.21875 37.203125 74.21875 \nQ 40.921875 74.21875 44.703125 73.484375 \nQ 48.484375 72.75 52.59375 71.296875 \nz\n\" id=\"DejaVuSans-54\"/>\n      </defs>\n      <g transform=\"translate(236.709688 254.356562)scale(0.1 -0.1)\">\n       <use xlink:href=\"#DejaVuSans-48\"/>\n       <use x=\"63.623047\" xlink:href=\"#DejaVuSans-46\"/>\n       <use x=\"95.410156\" xlink:href=\"#DejaVuSans-54\"/>\n      </g>\n     </g>\n    </g>\n    <g id=\"xtick_5\">\n     <g id=\"line2d_9\">\n      <path clip-path=\"url(#pa5527eaa1a)\" d=\"M 311.62125 239.758125 \nL 311.62125 22.318125 \n\" style=\"fill:none;stroke:#b0b0b0;stroke-linecap:square;stroke-width:0.8;\"/>\n     </g>\n     <g id=\"line2d_10\">\n      <g>\n       <use style=\"stroke:#000000;stroke-width:0.8;\" x=\"311.62125\" xlink:href=\"#m25988a067d\" y=\"239.758125\"/>\n      </g>\n     </g>\n     <g id=\"text_5\">\n      <!-- 0.8 -->\n      <defs>\n       <path d=\"M 31.78125 34.625 \nQ 24.75 34.625 20.71875 30.859375 \nQ 16.703125 27.09375 16.703125 20.515625 \nQ 16.703125 13.921875 20.71875 10.15625 \nQ 24.75 6.390625 31.78125 6.390625 \nQ 38.8125 6.390625 42.859375 10.171875 \nQ 46.921875 13.96875 46.921875 20.515625 \nQ 46.921875 27.09375 42.890625 30.859375 \nQ 38.875 34.625 31.78125 34.625 \nz\nM 21.921875 38.8125 \nQ 15.578125 40.375 12.03125 44.71875 \nQ 8.5 49.078125 8.5 55.328125 \nQ 8.5 64.0625 14.71875 69.140625 \nQ 20.953125 74.21875 31.78125 74.21875 \nQ 42.671875 74.21875 48.875 69.140625 \nQ 55.078125 64.0625 55.078125 55.328125 \nQ 55.078125 49.078125 51.53125 44.71875 \nQ 48 40.375 41.703125 38.8125 \nQ 48.828125 37.15625 52.796875 32.3125 \nQ 56.78125 27.484375 56.78125 20.515625 \nQ 56.78125 9.90625 50.3125 4.234375 \nQ 43.84375 -1.421875 31.78125 -1.421875 \nQ 19.734375 -1.421875 13.25 4.234375 \nQ 6.78125 9.90625 6.78125 20.515625 \nQ 6.78125 27.484375 10.78125 32.3125 \nQ 14.796875 37.15625 21.921875 38.8125 \nz\nM 18.3125 54.390625 \nQ 18.3125 48.734375 21.84375 45.5625 \nQ 25.390625 42.390625 31.78125 42.390625 \nQ 38.140625 42.390625 41.71875 45.5625 \nQ 45.3125 48.734375 45.3125 54.390625 \nQ 45.3125 60.0625 41.71875 63.234375 \nQ 38.140625 66.40625 31.78125 66.40625 \nQ 25.390625 66.40625 21.84375 63.234375 \nQ 18.3125 60.0625 18.3125 54.390625 \nz\n\" id=\"DejaVuSans-56\"/>\n      </defs>\n      <g transform=\"translate(303.669688 254.356562)scale(0.1 -0.1)\">\n       <use xlink:href=\"#DejaVuSans-48\"/>\n       <use x=\"63.623047\" xlink:href=\"#DejaVuSans-46\"/>\n       <use x=\"95.410156\" xlink:href=\"#DejaVuSans-56\"/>\n      </g>\n     </g>\n    </g>\n    <g id=\"xtick_6\">\n     <g id=\"line2d_11\">\n      <path clip-path=\"url(#pa5527eaa1a)\" d=\"M 378.58125 239.758125 \nL 378.58125 22.318125 \n\" style=\"fill:none;stroke:#b0b0b0;stroke-linecap:square;stroke-width:0.8;\"/>\n     </g>\n     <g id=\"line2d_12\">\n      <g>\n       <use style=\"stroke:#000000;stroke-width:0.8;\" x=\"378.58125\" xlink:href=\"#m25988a067d\" y=\"239.758125\"/>\n      </g>\n     </g>\n     <g id=\"text_6\">\n      <!-- 1.0 -->\n      <defs>\n       <path d=\"M 12.40625 8.296875 \nL 28.515625 8.296875 \nL 28.515625 63.921875 \nL 10.984375 60.40625 \nL 10.984375 69.390625 \nL 28.421875 72.90625 \nL 38.28125 72.90625 \nL 38.28125 8.296875 \nL 54.390625 8.296875 \nL 54.390625 0 \nL 12.40625 0 \nz\n\" id=\"DejaVuSans-49\"/>\n      </defs>\n      <g transform=\"translate(370.629687 254.356562)scale(0.1 -0.1)\">\n       <use xlink:href=\"#DejaVuSans-49\"/>\n       <use x=\"63.623047\" xlink:href=\"#DejaVuSans-46\"/>\n       <use x=\"95.410156\" xlink:href=\"#DejaVuSans-48\"/>\n      </g>\n     </g>\n    </g>\n    <g id=\"text_7\">\n     <!-- False Positive Rate (1 - Specificity) -->\n     <defs>\n      <path d=\"M 9.8125 72.90625 \nL 51.703125 72.90625 \nL 51.703125 64.59375 \nL 19.671875 64.59375 \nL 19.671875 43.109375 \nL 48.578125 43.109375 \nL 48.578125 34.8125 \nL 19.671875 34.8125 \nL 19.671875 0 \nL 9.8125 0 \nz\n\" id=\"DejaVuSans-70\"/>\n      <path d=\"M 34.28125 27.484375 \nQ 23.390625 27.484375 19.1875 25 \nQ 14.984375 22.515625 14.984375 16.5 \nQ 14.984375 11.71875 18.140625 8.90625 \nQ 21.296875 6.109375 26.703125 6.109375 \nQ 34.1875 6.109375 38.703125 11.40625 \nQ 43.21875 16.703125 43.21875 25.484375 \nL 43.21875 27.484375 \nz\nM 52.203125 31.203125 \nL 52.203125 0 \nL 43.21875 0 \nL 43.21875 8.296875 \nQ 40.140625 3.328125 35.546875 0.953125 \nQ 30.953125 -1.421875 24.3125 -1.421875 \nQ 15.921875 -1.421875 10.953125 3.296875 \nQ 6 8.015625 6 15.921875 \nQ 6 25.140625 12.171875 29.828125 \nQ 18.359375 34.515625 30.609375 34.515625 \nL 43.21875 34.515625 \nL 43.21875 35.40625 \nQ 43.21875 41.609375 39.140625 45 \nQ 35.0625 48.390625 27.6875 48.390625 \nQ 23 48.390625 18.546875 47.265625 \nQ 14.109375 46.140625 10.015625 43.890625 \nL 10.015625 52.203125 \nQ 14.9375 54.109375 19.578125 55.046875 \nQ 24.21875 56 28.609375 56 \nQ 40.484375 56 46.34375 49.84375 \nQ 52.203125 43.703125 52.203125 31.203125 \nz\n\" id=\"DejaVuSans-97\"/>\n      <path d=\"M 9.421875 75.984375 \nL 18.40625 75.984375 \nL 18.40625 0 \nL 9.421875 0 \nz\n\" id=\"DejaVuSans-108\"/>\n      <path d=\"M 44.28125 53.078125 \nL 44.28125 44.578125 \nQ 40.484375 46.53125 36.375 47.5 \nQ 32.28125 48.484375 27.875 48.484375 \nQ 21.1875 48.484375 17.84375 46.4375 \nQ 14.5 44.390625 14.5 40.28125 \nQ 14.5 37.15625 16.890625 35.375 \nQ 19.28125 33.59375 26.515625 31.984375 \nL 29.59375 31.296875 \nQ 39.15625 29.25 43.1875 25.515625 \nQ 47.21875 21.78125 47.21875 15.09375 \nQ 47.21875 7.46875 41.1875 3.015625 \nQ 35.15625 -1.421875 24.609375 -1.421875 \nQ 20.21875 -1.421875 15.453125 -0.5625 \nQ 10.6875 0.296875 5.421875 2 \nL 5.421875 11.28125 \nQ 10.40625 8.6875 15.234375 7.390625 \nQ 20.0625 6.109375 24.8125 6.109375 \nQ 31.15625 6.109375 34.5625 8.28125 \nQ 37.984375 10.453125 37.984375 14.40625 \nQ 37.984375 18.0625 35.515625 20.015625 \nQ 33.0625 21.96875 24.703125 23.78125 \nL 21.578125 24.515625 \nQ 13.234375 26.265625 9.515625 29.90625 \nQ 5.8125 33.546875 5.8125 39.890625 \nQ 5.8125 47.609375 11.28125 51.796875 \nQ 16.75 56 26.8125 56 \nQ 31.78125 56 36.171875 55.265625 \nQ 40.578125 54.546875 44.28125 53.078125 \nz\n\" id=\"DejaVuSans-115\"/>\n      <path d=\"M 56.203125 29.59375 \nL 56.203125 25.203125 \nL 14.890625 25.203125 \nQ 15.484375 15.921875 20.484375 11.0625 \nQ 25.484375 6.203125 34.421875 6.203125 \nQ 39.59375 6.203125 44.453125 7.46875 \nQ 49.3125 8.734375 54.109375 11.28125 \nL 54.109375 2.78125 \nQ 49.265625 0.734375 44.1875 -0.34375 \nQ 39.109375 -1.421875 33.890625 -1.421875 \nQ 20.796875 -1.421875 13.15625 6.1875 \nQ 5.515625 13.8125 5.515625 26.8125 \nQ 5.515625 40.234375 12.765625 48.109375 \nQ 20.015625 56 32.328125 56 \nQ 43.359375 56 49.78125 48.890625 \nQ 56.203125 41.796875 56.203125 29.59375 \nz\nM 47.21875 32.234375 \nQ 47.125 39.59375 43.09375 43.984375 \nQ 39.0625 48.390625 32.421875 48.390625 \nQ 24.90625 48.390625 20.390625 44.140625 \nQ 15.875 39.890625 15.1875 32.171875 \nz\n\" id=\"DejaVuSans-101\"/>\n      <path id=\"DejaVuSans-32\"/>\n      <path d=\"M 19.671875 64.796875 \nL 19.671875 37.40625 \nL 32.078125 37.40625 \nQ 38.96875 37.40625 42.71875 40.96875 \nQ 46.484375 44.53125 46.484375 51.125 \nQ 46.484375 57.671875 42.71875 61.234375 \nQ 38.96875 64.796875 32.078125 64.796875 \nz\nM 9.8125 72.90625 \nL 32.078125 72.90625 \nQ 44.34375 72.90625 50.609375 67.359375 \nQ 56.890625 61.8125 56.890625 51.125 \nQ 56.890625 40.328125 50.609375 34.8125 \nQ 44.34375 29.296875 32.078125 29.296875 \nL 19.671875 29.296875 \nL 19.671875 0 \nL 9.8125 0 \nz\n\" id=\"DejaVuSans-80\"/>\n      <path d=\"M 30.609375 48.390625 \nQ 23.390625 48.390625 19.1875 42.75 \nQ 14.984375 37.109375 14.984375 27.296875 \nQ 14.984375 17.484375 19.15625 11.84375 \nQ 23.34375 6.203125 30.609375 6.203125 \nQ 37.796875 6.203125 41.984375 11.859375 \nQ 46.1875 17.53125 46.1875 27.296875 \nQ 46.1875 37.015625 41.984375 42.703125 \nQ 37.796875 48.390625 30.609375 48.390625 \nz\nM 30.609375 56 \nQ 42.328125 56 49.015625 48.375 \nQ 55.71875 40.765625 55.71875 27.296875 \nQ 55.71875 13.875 49.015625 6.21875 \nQ 42.328125 -1.421875 30.609375 -1.421875 \nQ 18.84375 -1.421875 12.171875 6.21875 \nQ 5.515625 13.875 5.515625 27.296875 \nQ 5.515625 40.765625 12.171875 48.375 \nQ 18.84375 56 30.609375 56 \nz\n\" id=\"DejaVuSans-111\"/>\n      <path d=\"M 9.421875 54.6875 \nL 18.40625 54.6875 \nL 18.40625 0 \nL 9.421875 0 \nz\nM 9.421875 75.984375 \nL 18.40625 75.984375 \nL 18.40625 64.59375 \nL 9.421875 64.59375 \nz\n\" id=\"DejaVuSans-105\"/>\n      <path d=\"M 18.3125 70.21875 \nL 18.3125 54.6875 \nL 36.8125 54.6875 \nL 36.8125 47.703125 \nL 18.3125 47.703125 \nL 18.3125 18.015625 \nQ 18.3125 11.328125 20.140625 9.421875 \nQ 21.96875 7.515625 27.59375 7.515625 \nL 36.8125 7.515625 \nL 36.8125 0 \nL 27.59375 0 \nQ 17.1875 0 13.234375 3.875 \nQ 9.28125 7.765625 9.28125 18.015625 \nL 9.28125 47.703125 \nL 2.6875 47.703125 \nL 2.6875 54.6875 \nL 9.28125 54.6875 \nL 9.28125 70.21875 \nz\n\" id=\"DejaVuSans-116\"/>\n      <path d=\"M 2.984375 54.6875 \nL 12.5 54.6875 \nL 29.59375 8.796875 \nL 46.6875 54.6875 \nL 56.203125 54.6875 \nL 35.6875 0 \nL 23.484375 0 \nz\n\" id=\"DejaVuSans-118\"/>\n      <path d=\"M 44.390625 34.1875 \nQ 47.5625 33.109375 50.5625 29.59375 \nQ 53.5625 26.078125 56.59375 19.921875 \nL 66.609375 0 \nL 56 0 \nL 46.6875 18.703125 \nQ 43.0625 26.03125 39.671875 28.421875 \nQ 36.28125 30.8125 30.421875 30.8125 \nL 19.671875 30.8125 \nL 19.671875 0 \nL 9.8125 0 \nL 9.8125 72.90625 \nL 32.078125 72.90625 \nQ 44.578125 72.90625 50.734375 67.671875 \nQ 56.890625 62.453125 56.890625 51.90625 \nQ 56.890625 45.015625 53.6875 40.46875 \nQ 50.484375 35.9375 44.390625 34.1875 \nz\nM 19.671875 64.796875 \nL 19.671875 38.921875 \nL 32.078125 38.921875 \nQ 39.203125 38.921875 42.84375 42.21875 \nQ 46.484375 45.515625 46.484375 51.90625 \nQ 46.484375 58.296875 42.84375 61.546875 \nQ 39.203125 64.796875 32.078125 64.796875 \nz\n\" id=\"DejaVuSans-82\"/>\n      <path d=\"M 31 75.875 \nQ 24.46875 64.65625 21.28125 53.65625 \nQ 18.109375 42.671875 18.109375 31.390625 \nQ 18.109375 20.125 21.3125 9.0625 \nQ 24.515625 -2 31 -13.1875 \nL 23.1875 -13.1875 \nQ 15.875 -1.703125 12.234375 9.375 \nQ 8.59375 20.453125 8.59375 31.390625 \nQ 8.59375 42.28125 12.203125 53.3125 \nQ 15.828125 64.359375 23.1875 75.875 \nz\n\" id=\"DejaVuSans-40\"/>\n      <path d=\"M 4.890625 31.390625 \nL 31.203125 31.390625 \nL 31.203125 23.390625 \nL 4.890625 23.390625 \nz\n\" id=\"DejaVuSans-45\"/>\n      <path d=\"M 53.515625 70.515625 \nL 53.515625 60.890625 \nQ 47.90625 63.578125 42.921875 64.890625 \nQ 37.9375 66.21875 33.296875 66.21875 \nQ 25.25 66.21875 20.875 63.09375 \nQ 16.5 59.96875 16.5 54.203125 \nQ 16.5 49.359375 19.40625 46.890625 \nQ 22.3125 44.4375 30.421875 42.921875 \nL 36.375 41.703125 \nQ 47.40625 39.59375 52.65625 34.296875 \nQ 57.90625 29 57.90625 20.125 \nQ 57.90625 9.515625 50.796875 4.046875 \nQ 43.703125 -1.421875 29.984375 -1.421875 \nQ 24.8125 -1.421875 18.96875 -0.25 \nQ 13.140625 0.921875 6.890625 3.21875 \nL 6.890625 13.375 \nQ 12.890625 10.015625 18.65625 8.296875 \nQ 24.421875 6.59375 29.984375 6.59375 \nQ 38.421875 6.59375 43.015625 9.90625 \nQ 47.609375 13.234375 47.609375 19.390625 \nQ 47.609375 24.75 44.3125 27.78125 \nQ 41.015625 30.8125 33.5 32.328125 \nL 27.484375 33.5 \nQ 16.453125 35.6875 11.515625 40.375 \nQ 6.59375 45.0625 6.59375 53.421875 \nQ 6.59375 63.09375 13.40625 68.65625 \nQ 20.21875 74.21875 32.171875 74.21875 \nQ 37.3125 74.21875 42.625 73.28125 \nQ 47.953125 72.359375 53.515625 70.515625 \nz\n\" id=\"DejaVuSans-83\"/>\n      <path d=\"M 18.109375 8.203125 \nL 18.109375 -20.796875 \nL 9.078125 -20.796875 \nL 9.078125 54.6875 \nL 18.109375 54.6875 \nL 18.109375 46.390625 \nQ 20.953125 51.265625 25.265625 53.625 \nQ 29.59375 56 35.59375 56 \nQ 45.5625 56 51.78125 48.09375 \nQ 58.015625 40.1875 58.015625 27.296875 \nQ 58.015625 14.40625 51.78125 6.484375 \nQ 45.5625 -1.421875 35.59375 -1.421875 \nQ 29.59375 -1.421875 25.265625 0.953125 \nQ 20.953125 3.328125 18.109375 8.203125 \nz\nM 48.6875 27.296875 \nQ 48.6875 37.203125 44.609375 42.84375 \nQ 40.53125 48.484375 33.40625 48.484375 \nQ 26.265625 48.484375 22.1875 42.84375 \nQ 18.109375 37.203125 18.109375 27.296875 \nQ 18.109375 17.390625 22.1875 11.75 \nQ 26.265625 6.109375 33.40625 6.109375 \nQ 40.53125 6.109375 44.609375 11.75 \nQ 48.6875 17.390625 48.6875 27.296875 \nz\n\" id=\"DejaVuSans-112\"/>\n      <path d=\"M 48.78125 52.59375 \nL 48.78125 44.1875 \nQ 44.96875 46.296875 41.140625 47.34375 \nQ 37.3125 48.390625 33.40625 48.390625 \nQ 24.65625 48.390625 19.8125 42.84375 \nQ 14.984375 37.3125 14.984375 27.296875 \nQ 14.984375 17.28125 19.8125 11.734375 \nQ 24.65625 6.203125 33.40625 6.203125 \nQ 37.3125 6.203125 41.140625 7.25 \nQ 44.96875 8.296875 48.78125 10.40625 \nL 48.78125 2.09375 \nQ 45.015625 0.34375 40.984375 -0.53125 \nQ 36.96875 -1.421875 32.421875 -1.421875 \nQ 20.0625 -1.421875 12.78125 6.34375 \nQ 5.515625 14.109375 5.515625 27.296875 \nQ 5.515625 40.671875 12.859375 48.328125 \nQ 20.21875 56 33.015625 56 \nQ 37.15625 56 41.109375 55.140625 \nQ 45.0625 54.296875 48.78125 52.59375 \nz\n\" id=\"DejaVuSans-99\"/>\n      <path d=\"M 37.109375 75.984375 \nL 37.109375 68.5 \nL 28.515625 68.5 \nQ 23.6875 68.5 21.796875 66.546875 \nQ 19.921875 64.59375 19.921875 59.515625 \nL 19.921875 54.6875 \nL 34.71875 54.6875 \nL 34.71875 47.703125 \nL 19.921875 47.703125 \nL 19.921875 0 \nL 10.890625 0 \nL 10.890625 47.703125 \nL 2.296875 47.703125 \nL 2.296875 54.6875 \nL 10.890625 54.6875 \nL 10.890625 58.5 \nQ 10.890625 67.625 15.140625 71.796875 \nQ 19.390625 75.984375 28.609375 75.984375 \nz\n\" id=\"DejaVuSans-102\"/>\n      <path d=\"M 32.171875 -5.078125 \nQ 28.375 -14.84375 24.75 -17.8125 \nQ 21.140625 -20.796875 15.09375 -20.796875 \nL 7.90625 -20.796875 \nL 7.90625 -13.28125 \nL 13.1875 -13.28125 \nQ 16.890625 -13.28125 18.9375 -11.515625 \nQ 21 -9.765625 23.484375 -3.21875 \nL 25.09375 0.875 \nL 2.984375 54.6875 \nL 12.5 54.6875 \nL 29.59375 11.921875 \nL 46.6875 54.6875 \nL 56.203125 54.6875 \nz\n\" id=\"DejaVuSans-121\"/>\n      <path d=\"M 8.015625 75.875 \nL 15.828125 75.875 \nQ 23.140625 64.359375 26.78125 53.3125 \nQ 30.421875 42.28125 30.421875 31.390625 \nQ 30.421875 20.453125 26.78125 9.375 \nQ 23.140625 -1.703125 15.828125 -13.1875 \nL 8.015625 -13.1875 \nQ 14.5 -2 17.703125 9.0625 \nQ 20.90625 20.125 20.90625 31.390625 \nQ 20.90625 42.671875 17.703125 53.65625 \nQ 14.5 64.65625 8.015625 75.875 \nz\n\" id=\"DejaVuSans-41\"/>\n     </defs>\n     <g transform=\"translate(124.551563 268.034687)scale(0.1 -0.1)\">\n      <use xlink:href=\"#DejaVuSans-70\"/>\n      <use x=\"57.378906\" xlink:href=\"#DejaVuSans-97\"/>\n      <use x=\"118.658203\" xlink:href=\"#DejaVuSans-108\"/>\n      <use x=\"146.441406\" xlink:href=\"#DejaVuSans-115\"/>\n      <use x=\"198.541016\" xlink:href=\"#DejaVuSans-101\"/>\n      <use x=\"260.064453\" xlink:href=\"#DejaVuSans-32\"/>\n      <use x=\"291.851562\" xlink:href=\"#DejaVuSans-80\"/>\n      <use x=\"352.107422\" xlink:href=\"#DejaVuSans-111\"/>\n      <use x=\"413.289062\" xlink:href=\"#DejaVuSans-115\"/>\n      <use x=\"465.388672\" xlink:href=\"#DejaVuSans-105\"/>\n      <use x=\"493.171875\" xlink:href=\"#DejaVuSans-116\"/>\n      <use x=\"532.380859\" xlink:href=\"#DejaVuSans-105\"/>\n      <use x=\"560.164062\" xlink:href=\"#DejaVuSans-118\"/>\n      <use x=\"619.34375\" xlink:href=\"#DejaVuSans-101\"/>\n      <use x=\"680.867188\" xlink:href=\"#DejaVuSans-32\"/>\n      <use x=\"712.654297\" xlink:href=\"#DejaVuSans-82\"/>\n      <use x=\"782.105469\" xlink:href=\"#DejaVuSans-97\"/>\n      <use x=\"843.384766\" xlink:href=\"#DejaVuSans-116\"/>\n      <use x=\"882.59375\" xlink:href=\"#DejaVuSans-101\"/>\n      <use x=\"944.117188\" xlink:href=\"#DejaVuSans-32\"/>\n      <use x=\"975.904297\" xlink:href=\"#DejaVuSans-40\"/>\n      <use x=\"1014.917969\" xlink:href=\"#DejaVuSans-49\"/>\n      <use x=\"1078.541016\" xlink:href=\"#DejaVuSans-32\"/>\n      <use x=\"1110.328125\" xlink:href=\"#DejaVuSans-45\"/>\n      <use x=\"1146.412109\" xlink:href=\"#DejaVuSans-32\"/>\n      <use x=\"1178.199219\" xlink:href=\"#DejaVuSans-83\"/>\n      <use x=\"1241.675781\" xlink:href=\"#DejaVuSans-112\"/>\n      <use x=\"1305.152344\" xlink:href=\"#DejaVuSans-101\"/>\n      <use x=\"1366.675781\" xlink:href=\"#DejaVuSans-99\"/>\n      <use x=\"1421.65625\" xlink:href=\"#DejaVuSans-105\"/>\n      <use x=\"1449.439453\" xlink:href=\"#DejaVuSans-102\"/>\n      <use x=\"1484.644531\" xlink:href=\"#DejaVuSans-105\"/>\n      <use x=\"1512.427734\" xlink:href=\"#DejaVuSans-99\"/>\n      <use x=\"1567.408203\" xlink:href=\"#DejaVuSans-105\"/>\n      <use x=\"1595.191406\" xlink:href=\"#DejaVuSans-116\"/>\n      <use x=\"1634.400391\" xlink:href=\"#DejaVuSans-121\"/>\n      <use x=\"1693.580078\" xlink:href=\"#DejaVuSans-41\"/>\n     </g>\n    </g>\n   </g>\n   <g id=\"matplotlib.axis_2\">\n    <g id=\"ytick_1\">\n     <g id=\"line2d_13\">\n      <path clip-path=\"url(#pa5527eaa1a)\" d=\"M 43.78125 239.758125 \nL 378.58125 239.758125 \n\" style=\"fill:none;stroke:#b0b0b0;stroke-linecap:square;stroke-width:0.8;\"/>\n     </g>\n     <g id=\"line2d_14\">\n      <defs>\n       <path d=\"M 0 0 \nL -3.5 0 \n\" id=\"m59efc160ae\" style=\"stroke:#000000;stroke-width:0.8;\"/>\n      </defs>\n      <g>\n       <use style=\"stroke:#000000;stroke-width:0.8;\" x=\"43.78125\" xlink:href=\"#m59efc160ae\" y=\"239.758125\"/>\n      </g>\n     </g>\n     <g id=\"text_8\">\n      <!-- 0.0 -->\n      <g transform=\"translate(20.878125 243.557344)scale(0.1 -0.1)\">\n       <use xlink:href=\"#DejaVuSans-48\"/>\n       <use x=\"63.623047\" xlink:href=\"#DejaVuSans-46\"/>\n       <use x=\"95.410156\" xlink:href=\"#DejaVuSans-48\"/>\n      </g>\n     </g>\n    </g>\n    <g id=\"ytick_2\">\n     <g id=\"line2d_15\">\n      <path clip-path=\"url(#pa5527eaa1a)\" d=\"M 43.78125 196.270125 \nL 378.58125 196.270125 \n\" style=\"fill:none;stroke:#b0b0b0;stroke-linecap:square;stroke-width:0.8;\"/>\n     </g>\n     <g id=\"line2d_16\">\n      <g>\n       <use style=\"stroke:#000000;stroke-width:0.8;\" x=\"43.78125\" xlink:href=\"#m59efc160ae\" y=\"196.270125\"/>\n      </g>\n     </g>\n     <g id=\"text_9\">\n      <!-- 0.2 -->\n      <g transform=\"translate(20.878125 200.069344)scale(0.1 -0.1)\">\n       <use xlink:href=\"#DejaVuSans-48\"/>\n       <use x=\"63.623047\" xlink:href=\"#DejaVuSans-46\"/>\n       <use x=\"95.410156\" xlink:href=\"#DejaVuSans-50\"/>\n      </g>\n     </g>\n    </g>\n    <g id=\"ytick_3\">\n     <g id=\"line2d_17\">\n      <path clip-path=\"url(#pa5527eaa1a)\" d=\"M 43.78125 152.782125 \nL 378.58125 152.782125 \n\" style=\"fill:none;stroke:#b0b0b0;stroke-linecap:square;stroke-width:0.8;\"/>\n     </g>\n     <g id=\"line2d_18\">\n      <g>\n       <use style=\"stroke:#000000;stroke-width:0.8;\" x=\"43.78125\" xlink:href=\"#m59efc160ae\" y=\"152.782125\"/>\n      </g>\n     </g>\n     <g id=\"text_10\">\n      <!-- 0.4 -->\n      <g transform=\"translate(20.878125 156.581344)scale(0.1 -0.1)\">\n       <use xlink:href=\"#DejaVuSans-48\"/>\n       <use x=\"63.623047\" xlink:href=\"#DejaVuSans-46\"/>\n       <use x=\"95.410156\" xlink:href=\"#DejaVuSans-52\"/>\n      </g>\n     </g>\n    </g>\n    <g id=\"ytick_4\">\n     <g id=\"line2d_19\">\n      <path clip-path=\"url(#pa5527eaa1a)\" d=\"M 43.78125 109.294125 \nL 378.58125 109.294125 \n\" style=\"fill:none;stroke:#b0b0b0;stroke-linecap:square;stroke-width:0.8;\"/>\n     </g>\n     <g id=\"line2d_20\">\n      <g>\n       <use style=\"stroke:#000000;stroke-width:0.8;\" x=\"43.78125\" xlink:href=\"#m59efc160ae\" y=\"109.294125\"/>\n      </g>\n     </g>\n     <g id=\"text_11\">\n      <!-- 0.6 -->\n      <g transform=\"translate(20.878125 113.093344)scale(0.1 -0.1)\">\n       <use xlink:href=\"#DejaVuSans-48\"/>\n       <use x=\"63.623047\" xlink:href=\"#DejaVuSans-46\"/>\n       <use x=\"95.410156\" xlink:href=\"#DejaVuSans-54\"/>\n      </g>\n     </g>\n    </g>\n    <g id=\"ytick_5\">\n     <g id=\"line2d_21\">\n      <path clip-path=\"url(#pa5527eaa1a)\" d=\"M 43.78125 65.806125 \nL 378.58125 65.806125 \n\" style=\"fill:none;stroke:#b0b0b0;stroke-linecap:square;stroke-width:0.8;\"/>\n     </g>\n     <g id=\"line2d_22\">\n      <g>\n       <use style=\"stroke:#000000;stroke-width:0.8;\" x=\"43.78125\" xlink:href=\"#m59efc160ae\" y=\"65.806125\"/>\n      </g>\n     </g>\n     <g id=\"text_12\">\n      <!-- 0.8 -->\n      <g transform=\"translate(20.878125 69.605344)scale(0.1 -0.1)\">\n       <use xlink:href=\"#DejaVuSans-48\"/>\n       <use x=\"63.623047\" xlink:href=\"#DejaVuSans-46\"/>\n       <use x=\"95.410156\" xlink:href=\"#DejaVuSans-56\"/>\n      </g>\n     </g>\n    </g>\n    <g id=\"ytick_6\">\n     <g id=\"line2d_23\">\n      <path clip-path=\"url(#pa5527eaa1a)\" d=\"M 43.78125 22.318125 \nL 378.58125 22.318125 \n\" style=\"fill:none;stroke:#b0b0b0;stroke-linecap:square;stroke-width:0.8;\"/>\n     </g>\n     <g id=\"line2d_24\">\n      <g>\n       <use style=\"stroke:#000000;stroke-width:0.8;\" x=\"43.78125\" xlink:href=\"#m59efc160ae\" y=\"22.318125\"/>\n      </g>\n     </g>\n     <g id=\"text_13\">\n      <!-- 1.0 -->\n      <g transform=\"translate(20.878125 26.117344)scale(0.1 -0.1)\">\n       <use xlink:href=\"#DejaVuSans-49\"/>\n       <use x=\"63.623047\" xlink:href=\"#DejaVuSans-46\"/>\n       <use x=\"95.410156\" xlink:href=\"#DejaVuSans-48\"/>\n      </g>\n     </g>\n    </g>\n    <g id=\"text_14\">\n     <!-- True Positive Rate (Sensitivity) -->\n     <defs>\n      <path d=\"M -0.296875 72.90625 \nL 61.375 72.90625 \nL 61.375 64.59375 \nL 35.5 64.59375 \nL 35.5 0 \nL 25.59375 0 \nL 25.59375 64.59375 \nL -0.296875 64.59375 \nz\n\" id=\"DejaVuSans-84\"/>\n      <path d=\"M 41.109375 46.296875 \nQ 39.59375 47.171875 37.8125 47.578125 \nQ 36.03125 48 33.890625 48 \nQ 26.265625 48 22.1875 43.046875 \nQ 18.109375 38.09375 18.109375 28.8125 \nL 18.109375 0 \nL 9.078125 0 \nL 9.078125 54.6875 \nL 18.109375 54.6875 \nL 18.109375 46.1875 \nQ 20.953125 51.171875 25.484375 53.578125 \nQ 30.03125 56 36.53125 56 \nQ 37.453125 56 38.578125 55.875 \nQ 39.703125 55.765625 41.0625 55.515625 \nz\n\" id=\"DejaVuSans-114\"/>\n      <path d=\"M 8.5 21.578125 \nL 8.5 54.6875 \nL 17.484375 54.6875 \nL 17.484375 21.921875 \nQ 17.484375 14.15625 20.5 10.265625 \nQ 23.53125 6.390625 29.59375 6.390625 \nQ 36.859375 6.390625 41.078125 11.03125 \nQ 45.3125 15.671875 45.3125 23.6875 \nL 45.3125 54.6875 \nL 54.296875 54.6875 \nL 54.296875 0 \nL 45.3125 0 \nL 45.3125 8.40625 \nQ 42.046875 3.421875 37.71875 1 \nQ 33.40625 -1.421875 27.6875 -1.421875 \nQ 18.265625 -1.421875 13.375 4.4375 \nQ 8.5 10.296875 8.5 21.578125 \nz\nM 31.109375 56 \nz\n\" id=\"DejaVuSans-117\"/>\n      <path d=\"M 54.890625 33.015625 \nL 54.890625 0 \nL 45.90625 0 \nL 45.90625 32.71875 \nQ 45.90625 40.484375 42.875 44.328125 \nQ 39.84375 48.1875 33.796875 48.1875 \nQ 26.515625 48.1875 22.3125 43.546875 \nQ 18.109375 38.921875 18.109375 30.90625 \nL 18.109375 0 \nL 9.078125 0 \nL 9.078125 54.6875 \nL 18.109375 54.6875 \nL 18.109375 46.1875 \nQ 21.34375 51.125 25.703125 53.5625 \nQ 30.078125 56 35.796875 56 \nQ 45.21875 56 50.046875 50.171875 \nQ 54.890625 44.34375 54.890625 33.015625 \nz\n\" id=\"DejaVuSans-110\"/>\n     </defs>\n     <g transform=\"translate(14.798438 208.105312)rotate(-90)scale(0.1 -0.1)\">\n      <use xlink:href=\"#DejaVuSans-84\"/>\n      <use x=\"60.865234\" xlink:href=\"#DejaVuSans-114\"/>\n      <use x=\"101.978516\" xlink:href=\"#DejaVuSans-117\"/>\n      <use x=\"165.357422\" xlink:href=\"#DejaVuSans-101\"/>\n      <use x=\"226.880859\" xlink:href=\"#DejaVuSans-32\"/>\n      <use x=\"258.667969\" xlink:href=\"#DejaVuSans-80\"/>\n      <use x=\"318.923828\" xlink:href=\"#DejaVuSans-111\"/>\n      <use x=\"380.105469\" xlink:href=\"#DejaVuSans-115\"/>\n      <use x=\"432.205078\" xlink:href=\"#DejaVuSans-105\"/>\n      <use x=\"459.988281\" xlink:href=\"#DejaVuSans-116\"/>\n      <use x=\"499.197266\" xlink:href=\"#DejaVuSans-105\"/>\n      <use x=\"526.980469\" xlink:href=\"#DejaVuSans-118\"/>\n      <use x=\"586.160156\" xlink:href=\"#DejaVuSans-101\"/>\n      <use x=\"647.683594\" xlink:href=\"#DejaVuSans-32\"/>\n      <use x=\"679.470703\" xlink:href=\"#DejaVuSans-82\"/>\n      <use x=\"748.921875\" xlink:href=\"#DejaVuSans-97\"/>\n      <use x=\"810.201172\" xlink:href=\"#DejaVuSans-116\"/>\n      <use x=\"849.410156\" xlink:href=\"#DejaVuSans-101\"/>\n      <use x=\"910.933594\" xlink:href=\"#DejaVuSans-32\"/>\n      <use x=\"942.720703\" xlink:href=\"#DejaVuSans-40\"/>\n      <use x=\"981.734375\" xlink:href=\"#DejaVuSans-83\"/>\n      <use x=\"1045.210938\" xlink:href=\"#DejaVuSans-101\"/>\n      <use x=\"1106.734375\" xlink:href=\"#DejaVuSans-110\"/>\n      <use x=\"1170.113281\" xlink:href=\"#DejaVuSans-115\"/>\n      <use x=\"1222.212891\" xlink:href=\"#DejaVuSans-105\"/>\n      <use x=\"1249.996094\" xlink:href=\"#DejaVuSans-116\"/>\n      <use x=\"1289.205078\" xlink:href=\"#DejaVuSans-105\"/>\n      <use x=\"1316.988281\" xlink:href=\"#DejaVuSans-118\"/>\n      <use x=\"1376.167969\" xlink:href=\"#DejaVuSans-105\"/>\n      <use x=\"1403.951172\" xlink:href=\"#DejaVuSans-116\"/>\n      <use x=\"1443.160156\" xlink:href=\"#DejaVuSans-121\"/>\n      <use x=\"1502.339844\" xlink:href=\"#DejaVuSans-41\"/>\n     </g>\n    </g>\n   </g>\n   <g id=\"line2d_25\">\n    <path clip-path=\"url(#pa5527eaa1a)\" d=\"M 43.78125 239.758125 \nL 43.78125 238.433122 \nL 43.961129 238.433122 \nL 43.961129 238.363385 \nL 44.051069 237.805489 \nL 44.141008 237.735752 \nL 44.185978 237.31733 \nL 44.275918 237.31733 \nL 44.365857 236.201537 \nL 44.455797 236.1318 \nL 44.545736 235.922589 \nL 44.680646 235.643641 \nL 44.770585 234.73706 \nL 44.860525 234.667323 \nL 44.905494 234.248901 \nL 45.040404 234.179164 \nL 45.130343 233.969953 \nL 45.400162 233.900216 \nL 45.490102 232.505476 \nL 45.535071 232.505476 \nL 45.535071 232.226528 \nL 45.75992 232.226528 \nL 45.75992 232.156791 \nL 45.80489 231.808106 \nL 45.939799 231.738369 \nL 46.029739 230.55284 \nL 46.074709 230.55284 \nL 46.119678 230.204155 \nL 46.254588 230.134417 \nL 46.344527 229.785732 \nL 46.434467 229.785732 \nL 46.434467 229.715995 \nL 46.479437 229.506784 \nL 46.569376 228.460729 \nL 46.614346 228.321255 \nL 46.659316 228.112044 \nL 46.794225 228.112044 \nL 46.884165 227.135726 \nL 47.019074 227.135726 \nL 47.019074 227.065989 \nL 47.109014 225.671249 \nL 47.153983 225.671249 \nL 47.153983 225.601512 \nL 47.288893 224.834405 \nL 47.333862 223.78835 \nL 47.378832 223.78835 \nL 47.648651 223.579138 \nL 47.693621 223.230453 \nL 47.8735 223.160716 \nL 47.963439 222.463346 \nL 48.053379 222.393609 \nL 48.098349 221.20808 \nL 48.458107 220.51071 \nL 48.548047 219.464655 \nL 48.682956 219.394918 \nL 48.772895 219.185707 \nL 48.817865 219.185707 \nL 48.907805 218.837022 \nL 48.952775 218.837022 \nL 49.042714 218.069915 \nL 49.087684 218.069915 \nL 49.177623 217.512019 \nL 49.267563 217.512019 \nL 49.357503 216.814648 \nL 49.402472 216.814648 \nL 49.402472 216.744911 \nL 49.492412 215.419908 \nL 49.537382 215.419908 \nL 49.627321 214.931749 \nL 49.717261 214.931749 \nL 49.717261 214.862012 \nL 49.762231 214.652801 \nL 49.94211 214.652801 \nL 50.032049 213.188324 \nL 50.121989 213.188324 \nL 50.211928 212.909376 \nL 50.346838 212.560691 \nL 50.391807 212.142269 \nL 50.481747 212.142269 \nL 50.481747 211.723847 \nL 50.571687 211.723847 \nL 50.661626 211.723847 \nL 50.751566 210.817265 \nL 50.931445 210.817265 \nL 50.931445 210.747528 \nL 51.111324 210.608054 \nL 51.156294 210.608054 \nL 51.156294 210.398843 \nL 51.291203 210.398843 \nL 51.381143 209.143577 \nL 51.471082 209.143577 \nL 51.561022 208.585681 \nL 52.235568 207.539626 \nL 52.325508 207.121204 \nL 52.505387 207.051467 \nL 52.820175 206.144886 \nL 53.224903 206.144886 \nL 53.269873 205.796201 \nL 53.404783 205.796201 \nL 53.494722 205.238305 \nL 53.539692 204.88962 \nL 53.629631 204.540934 \nL 53.719571 204.540934 \nL 53.809511 204.331723 \nL 53.89945 204.331723 \nL 53.98939 203.773827 \nL 54.124299 203.425142 \nL 54.394118 202.867246 \nL 54.484057 202.448824 \nL 54.529027 202.448824 \nL 54.529027 202.379087 \nL 54.573997 202.30935 \nL 54.573997 202.030402 \nL 54.753876 201.960665 \nL 54.843815 201.193558 \nL 54.933755 201.123821 \nL 55.203574 200.426451 \nL 55.338483 200.426451 \nL 55.428423 199.51987 \nL 55.518362 199.450133 \nL 56.597637 195.823808 \nL 56.597637 195.684334 \nL 56.642607 195.684334 \nL 56.822486 195.684334 \nL 56.822486 195.614597 \nL 56.867456 195.196175 \nL 57.047335 194.986964 \nL 57.092304 194.638279 \nL 57.317153 194.568542 \nL 57.452063 193.592224 \nL 57.542002 193.592224 \nL 57.631942 193.243539 \nL 59.700552 187.176419 \nL 59.97037 186.827734 \nL 60.06031 186.618523 \nL 60.150249 186.409312 \nL 60.195219 186.409312 \nL 60.240189 185.99089 \nL 60.375098 185.921153 \nL 60.465038 185.363256 \nL 60.599947 185.363256 \nL 60.644917 184.875097 \nL 60.869766 184.875097 \nL 60.869766 184.80536 \nL 61.274494 184.247464 \nL 61.634252 184.177727 \nL 61.769161 183.968516 \nL 61.904071 183.968516 \nL 61.99401 183.340883 \nL 62.03898 183.340883 \nL 62.12892 182.922461 \nL 62.218859 182.852724 \nL 62.308799 182.364565 \nL 62.398738 182.294828 \nL 62.488678 181.946143 \nL 62.668557 181.946143 \nL 62.938376 181.109299 \nL 62.938376 180.690877 \nL 63.118255 180.62114 \nL 63.747832 179.435611 \nL 64.01765 179.086926 \nL 64.467348 179.017189 \nL 64.557288 178.668503 \nL 64.737167 178.598766 \nL 64.827106 178.459292 \nL 64.872076 178.389555 \nL 64.962016 178.110607 \nL 65.141895 177.692185 \nL 65.231834 177.482974 \nL 65.276804 177.413237 \nL 65.456683 177.413237 \nL 65.501653 177.134289 \nL 65.681532 177.134289 \nL 65.681532 177.064552 \nL 65.726502 176.855341 \nL 65.771472 176.855341 \nL 65.861411 176.855341 \nL 65.861411 176.64613 \nL 66.13123 176.64613 \nL 66.13123 176.576393 \nL 66.311109 176.367182 \nL 66.490988 176.297445 \nL 66.535958 176.018497 \nL 66.580928 176.018497 \nL 66.760807 175.809286 \nL 66.895716 175.809286 \nL 66.985656 174.972442 \nL 67.120565 174.902705 \nL 67.210505 174.902705 \nL 67.210505 174.832968 \nL 67.390384 174.623757 \nL 67.480323 174.623757 \nL 67.525293 174.275072 \nL 67.705172 174.205335 \nL 67.795112 173.85665 \nL 67.974991 173.786913 \nL 68.019961 173.298754 \nL 68.06493 173.298754 \nL 68.289779 172.601383 \nL 68.424689 172.531646 \nL 68.514628 172.322435 \nL 68.604568 172.322435 \nL 68.694507 171.904013 \nL 68.874386 171.834276 \nL 68.964326 171.625065 \nL 69.054265 171.555328 \nL 69.144205 171.067169 \nL 69.683842 170.369799 \nL 69.818752 170.369799 \nL 69.818752 170.300062 \nL 69.863721 170.230325 \nL 69.953661 169.742166 \nL 69.998631 169.742166 \nL 69.998631 169.463218 \nL 70.043601 169.463218 \nL 70.17851 169.393481 \nL 70.17851 169.323744 \nL 70.268449 169.323744 \nL 70.358389 169.114533 \nL 70.493298 169.044796 \nL 70.583238 168.626374 \nL 70.628208 168.626374 \nL 70.628208 168.556637 \nL 70.718147 168.4869 \nL 70.942996 168.417163 \nL 70.987966 168.277689 \nL 71.212815 168.277689 \nL 71.302754 167.929004 \nL 71.392694 167.929004 \nL 71.482633 167.719793 \nL 71.572573 167.371108 \nL 71.797422 167.301371 \nL 71.887361 167.09216 \nL 71.977301 167.022423 \nL 72.067241 166.604001 \nL 72.15718 166.534264 \nL 72.20215 166.046104 \nL 72.382029 166.046104 \nL 72.651848 165.557945 \nL 73.011606 165.488208 \nL 73.056576 165.348734 \nL 73.101546 165.348734 \nL 73.596213 164.442153 \nL 73.686153 164.093468 \nL 73.731122 164.093468 \nL 73.776092 163.81452 \nL 74.405669 163.465835 \nL 74.405669 163.186887 \nL 74.900337 163.11715 \nL 74.900337 162.977676 \nL 74.945306 162.977676 \nL 75.080216 162.907939 \nL 75.170155 162.140832 \nL 75.619853 162.071095 \nL 75.709793 161.652673 \nL 75.799732 161.652673 \nL 75.799732 161.582936 \nL 75.934642 161.303988 \nL 76.024581 160.955303 \nL 76.20446 160.885566 \nL 76.2944 160.536881 \nL 76.744098 159.700036 \nL 76.789067 159.281614 \nL 76.923977 159.211877 \nL 76.923977 159.14214 \nL 76.968946 159.14214 \nL 77.823372 157.7474 \nL 77.868342 157.538189 \nL 77.958282 157.538189 \nL 78.003251 157.398715 \nL 78.18313 157.328978 \nL 78.407979 156.492134 \nL 78.542889 156.422397 \nL 78.542889 156.35266 \nL 78.632828 156.35266 \nL 78.677798 156.35266 \nL 78.677798 156.282923 \nL 78.902647 155.794764 \nL 78.992586 155.515816 \nL 79.082526 155.515816 \nL 79.127496 155.097394 \nL 79.217435 155.027657 \nL 79.307375 154.678972 \nL 79.352345 154.678972 \nL 79.442284 154.121076 \nL 79.622163 154.051339 \nL 79.712103 153.842128 \nL 79.936952 153.772391 \nL 80.071861 153.493443 \nL 80.071861 153.353968 \nL 80.161801 153.353968 \nL 80.701438 153.144757 \nL 80.746408 152.935546 \nL 80.881317 152.935546 \nL 81.241075 152.517124 \nL 81.331015 152.447387 \nL 81.331015 152.238176 \nL 81.510894 152.238176 \nL 81.555864 151.819754 \nL 81.915622 151.750017 \nL 82.005562 151.68028 \nL 82.185441 151.610543 \nL 82.185441 151.540806 \nL 82.230411 151.540806 \nL 82.455259 151.471069 \nL 82.545199 150.913173 \nL 82.680108 150.843436 \nL 82.770048 150.634225 \nL 82.949927 150.355277 \nL 83.219746 150.28554 \nL 83.309685 149.378959 \nL 83.399625 149.378959 \nL 83.579504 149.100011 \nL 83.894292 148.751326 \nL 83.984232 148.611852 \nL 84.029202 148.611852 \nL 84.29902 148.263167 \nL 84.29902 147.984219 \nL 84.568839 147.914482 \nL 84.568839 147.844745 \nL 85.288355 146.798689 \nL 85.378295 146.450004 \nL 85.603144 146.380267 \nL 85.693083 146.101319 \nL 85.827993 145.892108 \nL 85.872963 145.334212 \nL 85.917932 145.334212 \nL 86.32266 144.91579 \nL 86.4126 144.357894 \nL 86.592479 144.148683 \nL 86.682419 143.939472 \nL 86.727388 143.939472 \nL 86.907267 143.451313 \nL 87.311995 143.311839 \nL 87.356965 142.963154 \nL 87.446905 142.963154 \nL 87.446905 142.893417 \nL 87.581814 142.82368 \nL 88.39127 142.265784 \nL 88.526179 142.265784 \nL 88.526179 142.12631 \nL 88.616119 142.12631 \nL 88.975877 142.056573 \nL 89.065817 141.777625 \nL 89.200726 141.777625 \nL 89.200726 141.707888 \nL 89.290666 141.42894 \nL 89.290666 141.359203 \nL 89.425575 141.359203 \nL 89.470545 141.010518 \nL 89.560484 141.010518 \nL 89.560484 140.940781 \nL 89.920243 140.173673 \nL 90.055152 140.173673 \nL 90.145092 139.824988 \nL 90.190061 139.824988 \nL 90.280001 139.336829 \nL 90.41491 138.988144 \nL 90.41491 138.709196 \nL 90.50485 138.709196 \nL 90.774668 138.430248 \nL 91.044487 138.221037 \nL 91.044487 138.1513 \nL 91.314306 137.663141 \nL 91.314306 137.523667 \nL 91.853943 137.45393 \nL 92.123762 137.174982 \nL 92.213701 137.174982 \nL 92.303641 136.896034 \nL 92.43855 136.617086 \nL 92.618429 136.268401 \nL 93.652734 134.66445 \nL 93.922553 134.66445 \nL 93.922553 134.524976 \nL 93.967523 134.524976 \nL 94.057462 134.524976 \nL 94.102432 134.315765 \nL 94.237341 134.315765 \nL 94.327281 134.17629 \nL 94.327281 133.967079 \nL 94.41722 133.967079 \nL 94.50716 133.967079 \nL 94.50716 133.827605 \nL 94.55213 133.827605 \nL 94.866918 133.757868 \nL 94.956858 133.409183 \nL 95.046797 133.339446 \nL 95.541465 132.990761 \nL 95.856253 132.642076 \nL 96.171042 132.502602 \nL 96.395891 132.432865 \nL 96.48583 132.014443 \nL 96.755649 131.317073 \nL 96.890558 131.317073 \nL 96.935528 130.968388 \nL 97.070437 130.968388 \nL 97.070437 130.898651 \nL 97.610075 130.131544 \nL 97.700014 130.131544 \nL 97.789954 129.852596 \nL 97.879893 129.852596 \nL 97.879893 129.643385 \nL 97.969833 129.643385 \nL 98.059772 129.643385 \nL 98.239652 129.224963 \nL 98.464501 129.224963 \nL 98.464501 129.155226 \nL 98.55444 128.527593 \nL 98.824259 128.457856 \nL 98.959168 128.388119 \nL 98.959168 128.248645 \nL 99.273957 127.969697 \nL 99.363896 127.690748 \nL 99.588745 127.690748 \nL 99.588745 127.621011 \nL 99.678685 127.4118 \nL 99.678685 127.272326 \nL 100.083413 127.132852 \nL 100.173352 126.923641 \nL 100.218322 126.784167 \nL 100.937838 126.086797 \nL 101.117717 125.947323 \nL 101.252627 125.738112 \nL 101.342566 125.598638 \nL 101.792264 125.528901 \nL 101.972143 125.389427 \nL 102.152022 125.249953 \nL 102.241962 125.180216 \nL 102.331901 124.692057 \nL 102.826569 124.62232 \nL 102.826569 124.552583 \nL 103.276267 124.343372 \nL 103.366206 124.134161 \nL 103.680995 123.506528 \nL 103.770934 123.22758 \nL 103.860874 123.157843 \nL 103.860874 123.088106 \nL 104.040753 123.088106 \nL 104.085723 122.809158 \nL 104.220632 122.809158 \nL 104.220632 122.669684 \nL 104.355541 122.669684 \nL 104.355541 122.390736 \nL 104.400511 122.390736 \nL 104.490451 122.390736 \nL 104.58039 122.181525 \nL 104.940149 122.111788 \nL 104.940149 122.042051 \nL 105.030088 122.042051 \nL 105.209967 121.83284 \nL 105.344877 121.83284 \nL 105.344877 121.763103 \nL 105.524756 121.414417 \nL 105.839544 121.135469 \nL 105.929484 120.717047 \nL 105.974453 120.717047 \nL 106.154333 120.368362 \nL 106.244272 120.368362 \nL 106.559061 120.089414 \nL 106.78391 120.089414 \nL 106.78391 120.019677 \nL 107.053728 119.670992 \nL 107.188638 119.670992 \nL 107.188638 119.531518 \nL 107.368517 119.531518 \nL 107.368517 119.322307 \nL 107.458456 119.322307 \nL 107.908154 118.764411 \nL 108.043063 118.694674 \nL 108.312882 118.485463 \nL 108.402822 118.276252 \nL 108.67264 118.206515 \nL 108.76258 117.997304 \nL 109.257247 117.299934 \nL 109.347187 117.299934 \nL 109.347187 117.230197 \nL 109.437126 116.951249 \nL 109.931794 116.881512 \nL 110.111673 116.393353 \nL 110.246582 116.184142 \nL 110.291552 115.905194 \nL 110.381492 115.905194 \nL 110.471431 115.626246 \nL 110.606341 115.417035 \nL 111.370827 114.719664 \nL 111.550706 114.440716 \nL 112.000404 114.370979 \nL 112.180283 114.022294 \nL 112.315192 114.022294 \nL 112.315192 113.952557 \nL 112.71992 113.464398 \nL 112.76489 113.464398 \nL 112.76489 113.394661 \nL 112.989739 113.115713 \nL 113.124648 113.115713 \nL 113.259558 112.767028 \nL 113.799195 111.999921 \nL 113.934104 111.999921 \nL 113.934104 111.930184 \nL 114.608651 110.814392 \nL 114.69859 110.605181 \nL 114.78853 110.535444 \nL 114.87847 110.535444 \nL 115.058349 110.39597 \nL 115.193258 110.326233 \nL 115.283198 110.117022 \nL 115.373137 110.117022 \nL 115.418107 109.907811 \nL 115.777865 109.838074 \nL 115.777865 109.768337 \nL 115.867805 109.768337 \nL 116.317503 109.280178 \nL 116.317503 109.210441 \nL 116.362472 109.210441 \nL 116.497382 109.140704 \nL 116.497382 108.861756 \nL 116.632291 108.861756 \nL 116.632291 108.582807 \nL 116.81217 108.582807 \nL 117.126959 108.164385 \nL 117.711566 107.745963 \nL 117.711566 107.606489 \nL 117.801505 107.606489 \nL 117.891445 107.606489 \nL 117.891445 107.536752 \nL 118.88078 106.909119 \nL 119.420417 106.839382 \nL 119.510357 106.560434 \nL 119.600296 106.560434 \nL 119.600296 106.490697 \nL 119.825145 106.281486 \nL 119.870115 106.281486 \nL 119.870115 106.142012 \nL 119.915085 106.142012 \nL 120.005024 106.142012 \nL 120.319813 105.863064 \nL 120.634601 105.444642 \nL 121.084299 104.956483 \nL 121.309148 104.538061 \nL 121.668906 104.468324 \nL 122.298483 103.910428 \nL 122.298483 103.770954 \nL 122.793151 103.63148 \nL 123.107939 103.213058 \nL 123.332788 103.143321 \nL 123.332788 103.073584 \nL 123.557637 102.655162 \nL 124.142244 102.027528 \nL 124.322123 101.957791 \nL 124.322123 101.818317 \nL 124.367093 101.818317 \nL 125.401398 101.399895 \nL 125.446368 101.120947 \nL 125.536307 101.120947 \nL 125.536307 101.05121 \nL 125.896065 100.772262 \nL 126.030975 100.702525 \nL 126.120914 100.35384 \nL 126.255824 100.35384 \nL 126.345763 100.144629 \nL 126.480672 100.144629 \nL 126.480672 100.005155 \nL 126.570612 100.005155 \nL 127.380068 99.935418 \nL 127.425038 99.795944 \nL 127.559947 99.795944 \nL 127.559947 99.726207 \nL 129.178859 98.610415 \nL 129.403708 98.540678 \nL 129.448678 98.470941 \nL 129.898376 98.401204 \nL 130.123224 98.122256 \nL 130.438013 98.052519 \nL 130.438013 97.913045 \nL 130.527952 97.913045 \nL 130.662862 97.843308 \nL 131.517288 96.588042 \nL 131.697167 96.588042 \nL 132.461653 95.960409 \nL 132.461653 95.820934 \nL 132.506623 95.820934 \nL 132.866381 95.053827 \nL 133.316079 95.053827 \nL 133.316079 94.98409 \nL 133.585897 94.705142 \nL 133.675837 94.635405 \nL 133.720807 94.426194 \nL 134.125535 94.426194 \nL 134.170505 94.147246 \nL 134.440323 94.077509 \nL 135.249779 93.240665 \nL 135.474628 93.240665 \nL 135.519598 92.961717 \nL 136.014265 92.89198 \nL 136.104205 92.822243 \nL 136.239114 92.752506 \nL 136.329054 92.682769 \nL 136.823721 92.403821 \nL 136.958631 92.334084 \nL 137.318389 92.334084 \nL 137.363359 92.055136 \nL 137.678147 92.055136 \nL 137.768087 91.706451 \nL 138.037905 91.427503 \nL 138.532573 91.078818 \nL 138.532573 90.869607 \nL 138.847361 90.79987 \nL 138.847361 90.660396 \nL 138.937301 90.660396 \nL 139.07221 90.590659 \nL 139.252089 90.520922 \nL 139.297059 90.381448 \nL 139.342029 90.381448 \nL 139.476938 90.311711 \nL 139.836697 89.893289 \nL 139.836697 89.753815 \nL 139.881666 89.753815 \nL 140.061546 89.753815 \nL 140.151485 89.474867 \nL 140.466274 89.405129 \nL 140.556213 89.195918 \nL 140.736092 89.195918 \nL 140.736092 89.056444 \nL 141.005911 88.986707 \nL 141.050881 88.777496 \nL 141.09585 88.777496 \nL 141.635488 88.707759 \nL 141.725427 88.428811 \nL 141.815367 88.359074 \nL 141.905306 87.801178 \nL 141.995246 87.731441 \nL 141.995246 87.661704 \nL 142.444944 87.591967 \nL 142.534883 87.382756 \nL 142.669793 87.382756 \nL 142.759732 86.615649 \nL 143.16446 86.615649 \nL 143.16446 86.476175 \nL 143.434279 86.476175 \nL 143.434279 86.336701 \nL 143.749067 86.057753 \nL 143.749067 85.988016 \nL 143.794037 85.988016 \nL 144.018886 85.988016 \nL 144.108826 85.639331 \nL 144.333674 85.569594 \nL 144.378644 85.360383 \nL 144.738402 85.290646 \nL 144.873312 85.220909 \nL 144.963251 85.081435 \nL 145.008221 84.872224 \nL 145.14313 84.872224 \nL 145.14313 84.802487 \nL 145.1881 84.73275 \nL 145.412949 84.73275 \nL 145.457919 84.453802 \nL 145.862647 84.384065 \nL 145.862647 84.244591 \nL 146.132466 84.174854 \nL 146.222405 83.826169 \nL 146.312345 83.756432 \nL 146.312345 83.686695 \nL 146.402284 83.686695 \nL 146.447254 83.616958 \nL 147.031861 83.547221 \nL 147.076831 83.268273 \nL 147.391619 83.198536 \nL 147.571498 82.84985 \nL 148.066166 82.570902 \nL 148.066166 82.222217 \nL 148.695743 82.15248 \nL 148.785683 81.803795 \nL 148.965562 81.803795 \nL 149.055501 81.594584 \nL 149.28035 81.524847 \nL 149.460229 81.315636 \nL 149.819987 81.245899 \nL 150.134776 80.897214 \nL 150.224715 80.827477 \nL 150.269685 80.339318 \nL 150.719383 80.269581 \nL 150.854292 80.130107 \nL 150.989202 80.06037 \nL 151.34896 79.920896 \nL 151.618779 79.851159 \nL 151.618779 79.711685 \nL 151.753688 79.711685 \nL 151.798658 79.432737 \nL 151.843627 79.432737 \nL 151.978537 79.293263 \nL 152.608114 79.223526 \nL 152.653083 79.084052 \nL 152.832963 79.014315 \nL 152.922902 78.874841 \nL 153.237691 78.874841 \nL 153.237691 78.805104 \nL 153.642419 78.595893 \nL 153.867267 78.595893 \nL 153.957207 78.247208 \nL 154.361935 78.247208 \nL 154.406905 77.898523 \nL 154.541814 77.898523 \nL 154.946542 77.689312 \nL 155.39624 77.619575 \nL 155.845938 77.340627 \nL 155.980847 77.340627 \nL 155.980847 77.131416 \nL 156.070787 77.131416 \nL 156.925212 77.061679 \nL 156.925212 76.991942 \nL 157.015152 76.991942 \nL 157.060122 76.991942 \nL 157.060122 76.922205 \nL 157.195031 76.852468 \nL 157.284971 76.852468 \nL 157.284971 76.782731 \nL 157.37491 76.573519 \nL 157.914548 76.503782 \nL 157.914548 76.224834 \nL 158.004487 76.224834 \nL 158.499155 76.155097 \nL 158.903883 75.597201 \nL 158.993822 75.178779 \nL 159.128732 75.109042 \nL 159.263641 74.969568 \nL 159.578429 74.899831 \nL 159.578429 74.830094 \nL 159.758308 74.760357 \nL 159.803278 74.551146 \nL 159.938188 74.551146 \nL 159.938188 74.411672 \nL 160.028127 74.411672 \nL 160.073097 74.341935 \nL 160.118067 73.784039 \nL 160.252976 73.714302 \nL 160.297946 73.574828 \nL 160.387885 73.365617 \nL 160.387885 73.29588 \nL 160.657704 73.226143 \nL 160.792613 73.156406 \nL 161.602069 73.086669 \nL 161.736979 72.947195 \nL 162.186676 72.59851 \nL 162.231646 72.528773 \nL 163.220981 72.459036 \nL 163.220981 72.389299 \nL 163.4908 72.389299 \nL 163.4908 72.249825 \nL 163.58074 72.249825 \nL 163.940498 72.180088 \nL 164.704984 71.90114 \nL 165.51444 71.831403 \nL 165.60438 71.691929 \nL 165.874198 71.20377 \nL 165.919168 71.20377 \nL 166.144017 70.994559 \nL 166.593715 70.715611 \nL 166.908503 70.645874 \nL 166.908503 70.576137 \nL 167.043413 70.436663 \nL 167.268261 70.366926 \nL 167.358201 70.087977 \nL 167.53808 69.809029 \nL 167.672989 69.739292 \nL 167.672989 69.669555 \nL 167.897838 69.599818 \nL 167.897838 69.530081 \nL 167.942808 69.530081 \nL 168.122687 69.460344 \nL 168.212627 69.181396 \nL 168.617355 69.111659 \nL 168.662325 68.832711 \nL 168.707294 68.832711 \nL 168.887173 68.762974 \nL 168.887173 68.693237 \nL 168.977113 68.693237 \nL 169.112022 68.693237 \nL 169.112022 68.6235 \nL 169.291901 68.414289 \nL 169.696629 68.065604 \nL 170.326206 67.995867 \nL 170.371176 67.92613 \nL 170.820874 67.856393 \nL 170.820874 67.786656 \nL 171.135662 67.716919 \nL 171.135662 67.577445 \nL 171.225602 67.577445 \nL 171.900149 67.089286 \nL 171.990088 66.670864 \nL 172.349846 66.601127 \nL 172.664635 66.391916 \nL 173.519061 66.322179 \nL 173.609 66.182705 \nL 174.373486 66.112968 \nL 174.778214 65.903757 \nL 175.048033 65.83402 \nL 175.182942 65.764283 \nL 175.947429 65.276124 \nL 175.947429 65.206387 \nL 175.992398 65.206387 \nL 176.082338 65.206387 \nL 176.082338 65.13665 \nL 176.127308 65.066913 \nL 176.846824 64.997176 \nL 176.846824 64.927439 \nL 176.891794 64.927439 \nL 177.74622 64.230069 \nL 177.74622 64.090595 \nL 177.836159 64.090595 \nL 178.061008 64.020858 \nL 178.600646 63.951121 \nL 178.645615 63.741909 \nL 178.690585 63.741909 \nL 179.005374 63.741909 \nL 179.095313 63.25375 \nL 179.67992 63.184013 \nL 179.72489 62.905065 \nL 179.904769 62.835328 \nL 179.904769 62.765591 \nL 179.994709 62.765591 \nL 180.039678 62.765591 \nL 180.039678 62.55638 \nL 180.354467 62.486643 \nL 180.399437 62.277432 \nL 180.444406 62.277432 \nL 180.579316 62.277432 \nL 180.624286 61.928747 \nL 181.118953 61.85901 \nL 181.163923 61.719536 \nL 181.65859 61.649799 \nL 181.65859 61.580062 \nL 182.198228 61.510325 \nL 182.198228 61.440588 \nL 182.423077 61.370851 \nL 182.423077 61.301114 \nL 182.647926 61.231377 \nL 182.827805 61.022166 \nL 183.277503 60.952429 \nL 183.367442 60.812955 \nL 183.682231 60.743218 \nL 183.682231 60.603744 \nL 183.7272 60.603744 \nL 184.491687 60.534007 \nL 184.761505 60.115585 \nL 185.75084 60.045848 \nL 185.84078 59.836637 \nL 186.110599 59.7669 \nL 186.110599 59.697163 \nL 186.425387 59.627426 \nL 186.515327 59.348478 \nL 186.785145 59.278741 \nL 186.875085 59.139267 \nL 186.965024 59.139267 \nL 186.965024 58.999793 \nL 187.054964 58.999793 \nL 187.369752 58.999793 \nL 187.504662 58.860319 \nL 187.77448 58.860319 \nL 187.81945 58.720845 \nL 188.089269 58.720845 \nL 188.089269 58.651108 \nL 188.134239 58.581371 \nL 188.628906 58.441897 \nL 188.628906 58.37216 \nL 188.763815 58.37216 \nL 188.853755 58.162949 \nL 188.943695 58.093212 \nL 188.943695 58.023475 \nL 189.213513 57.953738 \nL 189.213513 57.884001 \nL 189.303453 57.884001 \nL 189.393392 57.814264 \nL 189.438362 57.326104 \nL 189.708181 57.116893 \nL 190.202848 57.047156 \nL 190.292788 56.837945 \nL 190.337758 56.837945 \nL 190.337758 56.698471 \nL 190.787456 56.698471 \nL 190.877395 56.280049 \nL 190.922365 56.280049 \nL 191.147214 55.861627 \nL 191.417032 55.79189 \nL 191.506972 55.582679 \nL 191.596912 55.582679 \nL 191.596912 55.512942 \nL 192.181519 55.443205 \nL 192.541277 55.373468 \nL 193.485642 54.815572 \nL 193.93534 54.745835 \nL 193.93534 54.606361 \nL 194.02528 54.606361 \nL 194.654856 54.39715 \nL 195.014615 54.327413 \nL 195.104554 54.187939 \nL 195.284433 54.048465 \nL 195.374373 53.839254 \nL 195.599222 53.839254 \nL 195.599222 53.69978 \nL 195.644192 53.69978 \nL 196.093889 53.69978 \nL 196.093889 53.630043 \nL 196.228799 53.490569 \nL 196.453648 53.420832 \nL 196.453648 53.281358 \nL 196.543587 53.281358 \nL 196.768436 53.211621 \nL 196.858376 52.862936 \nL 197.353043 52.793199 \nL 198.926985 52.095829 \nL 199.061895 52.095829 \nL 199.061895 51.956355 \nL 199.151834 51.956355 \nL 199.601532 51.886618 \nL 199.781411 51.747144 \nL 199.96129 51.677407 \nL 199.96129 51.60767 \nL 200.05123 51.60767 \nL 200.455958 51.537933 \nL 200.500928 51.398459 \nL 200.545897 51.398459 \nL 201.130505 51.328722 \nL 201.175474 51.189248 \nL 201.220444 51.189248 \nL 201.535233 51.119511 \nL 201.580202 50.980036 \nL 201.670142 50.980036 \nL 201.805051 50.770825 \nL 202.0299 50.701088 \nL 202.389658 50.282666 \nL 202.569537 50.143192 \nL 203.019235 50.073455 \nL 203.064205 49.933981 \nL 203.378993 49.933981 \nL 203.378993 49.864244 \nL 203.558873 49.585296 \nL 203.738752 49.515559 \nL 203.918631 49.376085 \nL 204.233419 49.306348 \nL 204.233419 49.236611 \nL 204.683117 49.166874 \nL 204.683117 49.097137 \nL 205.312694 49.0274 \nL 205.312694 48.957663 \nL 205.402633 48.957663 \nL 205.582513 48.957663 \nL 205.672452 48.678715 \nL 205.987241 48.608978 \nL 205.987241 48.539241 \nL 206.07718 48.539241 \nL 206.481908 48.469504 \nL 206.481908 48.399767 \nL 206.526878 48.399767 \nL 206.706757 48.33003 \nL 206.706757 48.260293 \nL 206.796697 48.260293 \nL 207.831002 48.260293 \nL 207.875971 48.120819 \nL 208.14579 48.120819 \nL 208.370639 47.981345 \nL 210.034521 47.911608 \nL 210.034521 47.772134 \nL 210.349309 47.702397 \nL 210.394279 47.63266 \nL 210.799007 47.562923 \nL 210.888946 47.353712 \nL 211.023856 47.283975 \nL 211.023856 47.005027 \nL 211.428584 46.93529 \nL 212.19307 46.516868 \nL 212.19307 46.377394 \nL 212.23804 46.377394 \nL 212.912586 46.098446 \nL 213.002526 45.958972 \nL 213.677073 45.889235 \nL 213.677073 45.819498 \nL 214.036831 45.749761 \nL 214.036831 45.680024 \nL 214.081801 45.680024 \nL 214.711378 45.610287 \nL 214.711378 45.470813 \nL 214.801317 45.470813 \nL 215.340954 45.261602 \nL 215.745683 45.052391 \nL 216.24035 44.982654 \nL 216.33029 44.84318 \nL 216.600108 44.773443 \nL 216.600108 44.703706 \nL 216.690048 44.703706 \nL 217.094776 44.633968 \nL 218.443869 44.006335 \nL 218.983507 43.936598 \nL 219.028476 43.866861 \nL 219.388235 43.797124 \nL 219.792963 43.518176 \nL 220.197691 43.239228 \nL 220.602419 43.030017 \nL 220.647388 42.820806 \nL 221.951512 42.751069 \nL 221.951512 42.681332 \nL 222.221331 42.611595 \nL 222.221331 42.541858 \nL 222.2663 42.541858 \nL 222.491149 42.472121 \nL 222.536119 42.402384 \nL 223.300605 42.332647 \nL 223.300605 42.26291 \nL 223.345575 42.26291 \nL 223.660363 42.193173 \nL 224.649699 41.774751 \nL 225.189336 41.705014 \nL 225.684004 41.356329 \nL 226.44849 41.286592 \nL 226.44849 41.216855 \nL 226.49346 41.216855 \nL 226.898188 41.216855 \nL 226.898188 41.147118 \nL 227.033097 41.007644 \nL 227.527764 40.937907 \nL 227.977462 40.589222 \nL 228.921828 40.519485 \nL 229.416495 40.310274 \nL 229.821223 40.310274 \nL 229.911163 39.961589 \nL 230.900498 39.891852 \nL 230.900498 39.822115 \nL 231.260256 39.752378 \nL 231.260256 39.682641 \nL 231.350196 39.682641 \nL 232.384501 39.612904 \nL 232.56438 39.47343 \nL 233.059047 39.055008 \nL 233.193957 39.055008 \nL 233.373836 38.915534 \nL 233.778564 38.845797 \nL 233.823533 38.77606 \nL 234.408141 38.706323 \nL 234.677959 38.427375 \nL 234.902808 38.357638 \nL 234.902808 38.2879 \nL 236.296871 38.218163 \nL 236.926448 37.730004 \nL 237.825844 37.660267 \nL 237.825844 37.59053 \nL 238.050693 37.520793 \nL 238.050693 37.451056 \nL 239.040028 37.381319 \nL 240.52403 37.102371 \nL 242.277852 37.032634 \nL 242.277852 36.89316 \nL 243.042338 36.823423 \nL 243.042338 36.753686 \nL 243.716885 36.683949 \nL 243.761854 36.544475 \nL 243.806824 36.544475 \nL 244.211552 36.474738 \nL 244.211552 36.405001 \nL 244.256522 36.405001 \nL 244.66125 36.335264 \nL 244.66125 36.265527 \nL 245.155918 36.19579 \nL 245.155918 36.056316 \nL 246.145253 36.056316 \nL 246.145253 35.916842 \nL 247.629255 35.847105 \nL 247.629255 35.777368 \nL 247.719195 35.777368 \nL 248.168893 35.707631 \nL 248.528651 35.568157 \nL 249.697865 35.49842 \nL 249.967684 35.428683 \nL 250.192533 35.358946 \nL 250.192533 35.289209 \nL 250.282472 35.289209 \nL 252.306112 35.219472 \nL 252.396052 35.010261 \nL 252.80078 34.80105 \nL 253.700175 34.731313 \nL 253.700175 34.522102 \nL 253.790115 34.522102 \nL 254.149873 34.452365 \nL 254.419692 34.312891 \nL 255.319087 34.243154 \nL 255.633876 34.10368 \nL 256.038604 34.10368 \nL 256.038604 33.964206 \nL 256.128543 33.964206 \nL 256.488302 33.894469 \nL 256.488302 33.824732 \nL 256.578241 33.824732 \nL 257.927335 33.754995 \nL 257.972304 33.685258 \nL 258.107214 33.685258 \nL 258.107214 33.615521 \nL 258.197153 33.545784 \nL 258.556912 33.476047 \nL 258.601881 33.336573 \nL 259.591216 33.266836 \nL 259.591216 33.197099 \nL 259.950975 33.127362 \nL 260.040914 32.987888 \nL 260.85037 32.918151 \nL 261.030249 32.848414 \nL 262.514252 32.778677 \nL 262.514252 32.70894 \nL 262.87401 32.639203 \nL 262.87401 32.569466 \nL 264.223104 32.499729 \nL 264.223104 32.360255 \nL 264.313043 32.360255 \nL 264.627832 32.290518 \nL 264.807711 32.220781 \nL 266.246744 32.151044 \nL 266.246744 32.081307 \nL 266.336683 32.081307 \nL 267.191109 32.01157 \nL 267.191109 31.941833 \nL 267.281049 31.941833 \nL 267.595837 31.872095 \nL 267.595837 31.732621 \nL 267.820686 31.732621 \nL 268.045535 31.52341 \nL 268.315353 31.453673 \nL 268.675112 31.314199 \nL 268.9899 31.244462 \nL 269.03487 31.104988 \nL 269.574507 31.104988 \nL 269.619477 30.82604 \nL 270.563842 30.756303 \nL 270.563842 30.686566 \nL 270.608812 30.686566 \nL 270.878631 30.547092 \nL 271.238389 30.477355 \nL 271.238389 30.407618 \nL 272.137785 30.337881 \nL 272.137785 30.198407 \nL 272.227724 30.198407 \nL 272.497543 30.12867 \nL 272.497543 30.058933 \nL 272.587482 30.058933 \nL 273.756697 29.989196 \nL 273.846636 29.849722 \nL 275.960216 29.779985 \nL 276.005186 29.710248 \nL 276.814642 29.640511 \nL 277.1744 29.501037 \nL 277.714037 29.4313 \nL 277.714037 29.361563 \nL 277.803977 29.361563 \nL 278.388584 29.291826 \nL 278.658402 29.222089 \nL 279.018161 29.152352 \nL 279.06313 29.082615 \nL 279.377919 29.082615 \nL 279.557798 28.943141 \nL 280.187375 28.873404 \nL 280.187375 28.803667 \nL 280.232345 28.803667 \nL 281.626408 28.73393 \nL 281.761317 28.664193 \nL 282.480834 28.664193 \nL 282.480834 28.524719 \nL 284.054776 28.454982 \nL 284.054776 28.385245 \nL 284.099746 28.385245 \nL 285.044111 28.315508 \nL 285.089081 28.176034 \nL 287.967147 28.106297 \nL 287.967147 28.03656 \nL 288.012116 28.03656 \nL 288.281935 27.966823 \nL 289.945817 27.897086 \nL 289.990787 27.757612 \nL 290.935152 27.757612 \nL 290.935152 27.618138 \nL 291.025092 27.618138 \nL 291.070061 27.548401 \nL 293.138671 27.478664 \nL 293.27358 27.33919 \nL 294.262916 27.269453 \nL 294.262916 27.129979 \nL 297.006072 27.060242 \nL 297.185951 26.920768 \nL 298.624984 26.851031 \nL 298.624984 26.781294 \nL 298.669954 26.781294 \nL 299.839168 26.711557 \nL 299.839168 26.64182 \nL 300.558685 26.572083 \nL 300.558685 26.502346 \nL 300.603654 26.502346 \nL 300.918443 26.432609 \nL 300.918443 26.362872 \nL 301.323171 26.293135 \nL 301.323171 26.223398 \nL 301.368141 26.223398 \nL 301.727899 26.153661 \nL 301.727899 26.083924 \nL 301.772869 26.083924 \nL 302.087657 25.94445 \nL 303.52669 25.874713 \nL 303.52669 25.804976 \nL 303.616629 25.804976 \nL 306.359786 25.735239 \nL 306.404756 25.595765 \nL 308.113607 25.526028 \nL 308.518335 25.45629 \nL 309.013003 25.386553 \nL 309.057973 25.247079 \nL 309.102942 25.247079 \nL 311.261492 25.177342 \nL 311.261492 25.107605 \nL 313.330102 25.037868 \nL 313.375071 24.898394 \nL 313.64489 24.898394 \nL 313.64489 24.828657 \nL 313.779799 24.75892 \nL 316.388047 24.689183 \nL 316.477986 24.619446 \nL 317.69217 24.549709 \nL 318.411687 24.270761 \nL 319.311082 24.201024 \nL 319.490961 24.06155 \nL 321.334722 23.991813 \nL 321.469631 23.852339 \nL 322.998604 23.852339 \nL 322.998604 23.712865 \nL 324.392667 23.643128 \nL 324.392667 23.573391 \nL 324.482607 23.573391 \nL 329.339343 23.503654 \nL 329.339343 23.433917 \nL 329.384312 23.433917 \nL 330.553527 23.36418 \nL 331.587832 23.294443 \nL 332.217408 23.224706 \nL 332.217408 23.154969 \nL 332.307348 23.154969 \nL 332.981895 23.154969 \nL 333.386623 22.945758 \nL 334.825656 22.876021 \nL 334.825656 22.806284 \nL 334.915595 22.806284 \nL 338.738026 22.736547 \nL 339.637422 22.66681 \nL 350.520108 22.597073 \nL 350.520108 22.527336 \nL 350.565078 22.527336 \nL 377.097247 22.457599 \nL 377.097247 22.387862 \nL 377.187187 22.387862 \nL 378.58125 22.318125 \nL 378.58125 22.318125 \n\" style=\"fill:none;stroke:#1f77b4;stroke-linecap:square;stroke-width:1.5;\"/>\n   </g>\n   <g id=\"patch_3\">\n    <path d=\"M 43.78125 239.758125 \nL 43.78125 22.318125 \n\" style=\"fill:none;stroke:#000000;stroke-linecap:square;stroke-linejoin:miter;stroke-width:0.8;\"/>\n   </g>\n   <g id=\"patch_4\">\n    <path d=\"M 378.58125 239.758125 \nL 378.58125 22.318125 \n\" style=\"fill:none;stroke:#000000;stroke-linecap:square;stroke-linejoin:miter;stroke-width:0.8;\"/>\n   </g>\n   <g id=\"patch_5\">\n    <path d=\"M 43.78125 239.758125 \nL 378.58125 239.758125 \n\" style=\"fill:none;stroke:#000000;stroke-linecap:square;stroke-linejoin:miter;stroke-width:0.8;\"/>\n   </g>\n   <g id=\"patch_6\">\n    <path d=\"M 43.78125 22.318125 \nL 378.58125 22.318125 \n\" style=\"fill:none;stroke:#000000;stroke-linecap:square;stroke-linejoin:miter;stroke-width:0.8;\"/>\n   </g>\n   <g id=\"text_15\">\n    <!-- ROC curve for SLAFail classifier -->\n    <defs>\n     <path d=\"M 39.40625 66.21875 \nQ 28.65625 66.21875 22.328125 58.203125 \nQ 16.015625 50.203125 16.015625 36.375 \nQ 16.015625 22.609375 22.328125 14.59375 \nQ 28.65625 6.59375 39.40625 6.59375 \nQ 50.140625 6.59375 56.421875 14.59375 \nQ 62.703125 22.609375 62.703125 36.375 \nQ 62.703125 50.203125 56.421875 58.203125 \nQ 50.140625 66.21875 39.40625 66.21875 \nz\nM 39.40625 74.21875 \nQ 54.734375 74.21875 63.90625 63.9375 \nQ 73.09375 53.65625 73.09375 36.375 \nQ 73.09375 19.140625 63.90625 8.859375 \nQ 54.734375 -1.421875 39.40625 -1.421875 \nQ 24.03125 -1.421875 14.8125 8.828125 \nQ 5.609375 19.09375 5.609375 36.375 \nQ 5.609375 53.65625 14.8125 63.9375 \nQ 24.03125 74.21875 39.40625 74.21875 \nz\n\" id=\"DejaVuSans-79\"/>\n     <path d=\"M 64.40625 67.28125 \nL 64.40625 56.890625 \nQ 59.421875 61.53125 53.78125 63.8125 \nQ 48.140625 66.109375 41.796875 66.109375 \nQ 29.296875 66.109375 22.65625 58.46875 \nQ 16.015625 50.828125 16.015625 36.375 \nQ 16.015625 21.96875 22.65625 14.328125 \nQ 29.296875 6.6875 41.796875 6.6875 \nQ 48.140625 6.6875 53.78125 8.984375 \nQ 59.421875 11.28125 64.40625 15.921875 \nL 64.40625 5.609375 \nQ 59.234375 2.09375 53.4375 0.328125 \nQ 47.65625 -1.421875 41.21875 -1.421875 \nQ 24.65625 -1.421875 15.125 8.703125 \nQ 5.609375 18.84375 5.609375 36.375 \nQ 5.609375 53.953125 15.125 64.078125 \nQ 24.65625 74.21875 41.21875 74.21875 \nQ 47.75 74.21875 53.53125 72.484375 \nQ 59.328125 70.75 64.40625 67.28125 \nz\n\" id=\"DejaVuSans-67\"/>\n     <path d=\"M 9.8125 72.90625 \nL 19.671875 72.90625 \nL 19.671875 8.296875 \nL 55.171875 8.296875 \nL 55.171875 0 \nL 9.8125 0 \nz\n\" id=\"DejaVuSans-76\"/>\n     <path d=\"M 34.1875 63.1875 \nL 20.796875 26.90625 \nL 47.609375 26.90625 \nz\nM 28.609375 72.90625 \nL 39.796875 72.90625 \nL 67.578125 0 \nL 57.328125 0 \nL 50.6875 18.703125 \nL 17.828125 18.703125 \nL 11.1875 0 \nL 0.78125 0 \nz\n\" id=\"DejaVuSans-65\"/>\n    </defs>\n    <g transform=\"translate(117.200625 16.318125)scale(0.12 -0.12)\">\n     <use xlink:href=\"#DejaVuSans-82\"/>\n     <use x=\"69.482422\" xlink:href=\"#DejaVuSans-79\"/>\n     <use x=\"148.193359\" xlink:href=\"#DejaVuSans-67\"/>\n     <use x=\"218.017578\" xlink:href=\"#DejaVuSans-32\"/>\n     <use x=\"249.804688\" xlink:href=\"#DejaVuSans-99\"/>\n     <use x=\"304.785156\" xlink:href=\"#DejaVuSans-117\"/>\n     <use x=\"368.164062\" xlink:href=\"#DejaVuSans-114\"/>\n     <use x=\"409.277344\" xlink:href=\"#DejaVuSans-118\"/>\n     <use x=\"468.457031\" xlink:href=\"#DejaVuSans-101\"/>\n     <use x=\"529.980469\" xlink:href=\"#DejaVuSans-32\"/>\n     <use x=\"561.767578\" xlink:href=\"#DejaVuSans-102\"/>\n     <use x=\"596.972656\" xlink:href=\"#DejaVuSans-111\"/>\n     <use x=\"658.154297\" xlink:href=\"#DejaVuSans-114\"/>\n     <use x=\"699.267578\" xlink:href=\"#DejaVuSans-32\"/>\n     <use x=\"731.054688\" xlink:href=\"#DejaVuSans-83\"/>\n     <use x=\"794.53125\" xlink:href=\"#DejaVuSans-76\"/>\n     <use x=\"850.275391\" xlink:href=\"#DejaVuSans-65\"/>\n     <use x=\"918.683594\" xlink:href=\"#DejaVuSans-70\"/>\n     <use x=\"976.0625\" xlink:href=\"#DejaVuSans-97\"/>\n     <use x=\"1037.341797\" xlink:href=\"#DejaVuSans-105\"/>\n     <use x=\"1065.125\" xlink:href=\"#DejaVuSans-108\"/>\n     <use x=\"1092.908203\" xlink:href=\"#DejaVuSans-32\"/>\n     <use x=\"1124.695312\" xlink:href=\"#DejaVuSans-99\"/>\n     <use x=\"1179.675781\" xlink:href=\"#DejaVuSans-108\"/>\n     <use x=\"1207.458984\" xlink:href=\"#DejaVuSans-97\"/>\n     <use x=\"1268.738281\" xlink:href=\"#DejaVuSans-115\"/>\n     <use x=\"1320.837891\" xlink:href=\"#DejaVuSans-115\"/>\n     <use x=\"1372.9375\" xlink:href=\"#DejaVuSans-105\"/>\n     <use x=\"1400.720703\" xlink:href=\"#DejaVuSans-102\"/>\n     <use x=\"1435.925781\" xlink:href=\"#DejaVuSans-105\"/>\n     <use x=\"1463.708984\" xlink:href=\"#DejaVuSans-101\"/>\n     <use x=\"1525.232422\" xlink:href=\"#DejaVuSans-114\"/>\n    </g>\n   </g>\n  </g>\n </g>\n <defs>\n  <clipPath id=\"pa5527eaa1a\">\n   <rect height=\"217.44\" width=\"334.8\" x=\"43.78125\" y=\"22.318125\"/>\n  </clipPath>\n </defs>\n</svg>\n",
      "text/plain": "<Figure size 432x288 with 1 Axes>"
     },
     "metadata": {
      "needs_background": "light"
     },
     "output_type": "display_data"
    }
   ],
   "source": [
    "plt.plot(fpr, tpr)\n",
    "plt.xlim([0.0, 1.0])\n",
    "plt.ylim([0.0, 1.0])\n",
    "plt.title('ROC curve for SLAFail classifier')\n",
    "plt.xlabel('False Positive Rate (1 - Specificity)')\n",
    "plt.ylabel('True Positive Rate (Sensitivity)')\n",
    "plt.grid(True)"
   ]
  },
  {
   "cell_type": "markdown",
   "metadata": {},
   "source": [
    "Capture resulting AUC"
   ]
  },
  {
   "cell_type": "code",
   "execution_count": 33,
   "metadata": {},
   "outputs": [
    {
     "name": "stdout",
     "output_type": "stream",
     "text": "Metrics = AUC: 0.779613 \n"
    }
   ],
   "source": [
    "PipeLineMetadata['Metrics - AUC'] = metrics.roc_auc_score(y_test, y_pred_prob)\n",
    "print(\"Metrics = AUC: %f \" % PipeLineMetadata['Metrics - AUC']) "
   ]
  },
  {
   "cell_type": "markdown",
   "metadata": {},
   "source": [
    "## Save Details and Performance Measures for Comparison to other Models\n"
   ]
  },
  {
   "cell_type": "code",
   "execution_count": 34,
   "metadata": {},
   "outputs": [
    {
     "data": {
      "text/plain": "{'Name': 'Feature Selection RFE',\n 'Column Transforms': ['woeencoder', 'standardscaler'],\n 'Selector': RFE(estimator=LogisticRegression(C=1.0, class_weight=None, dual=False,\n                                  fit_intercept=True, intercept_scaling=1,\n                                  l1_ratio=None, max_iter=100,\n                                  multi_class='auto', n_jobs=None, penalty='l2',\n                                  random_state=None, solver='lbfgs', tol=0.0001,\n                                  verbose=0, warm_start=False),\n     n_features_to_select=5, step=1, verbose=0),\n 'Classifier': LogisticRegression(C=1.0, class_weight=None, dual=False, fit_intercept=True,\n                    intercept_scaling=1, l1_ratio=None, max_iter=100,\n                    multi_class='auto', n_jobs=None, penalty='l2',\n                    random_state=None, solver='lbfgs', tol=0.0001, verbose=0,\n                    warm_start=False),\n 'Classifier - Intercept': -0.9405940684422449,\n 'Classifier - Coefficients':                                    0\n Impact                      0.221828\n KM_number                   1.169620\n Count_Related_Interactions  1.152287\n Count_Related_Incidents     1.241007\n Open_Time_HourOfDay         0.162281,\n 'Selector - Ranking':                             ranking\n Impact                            1\n KM_number                         1\n Count_Related_Interactions        1\n Count_Related_Incidents           1\n Open_Time_HourOfDay               1\n CI_Name_aff                       2\n Open_Time_DayOfWeek               3\n Count_Related_Changes             4\n Urgency                           5\n Service_Component_WBS_aff         6\n CI_TypeSubType_aff                7,\n 'Metrics - Cross Validation Accuracy': 0.7351186853317102,\n 'Metrics - F1 score': 0.6565940549462997,\n 'Metrics - Confusion Matrix Classification Accuracy': 0.7443907980687304,\n 'Metrics - Confusion Matrix Classification Error': 0.25560920193126957,\n 'Metrics - Confusion Matrix True Positive Rate': 0.4044259140474663,\n 'Metrics - Confusion Matrix True Negative Rate': 0.8867696440564137,\n 'Metrics - Confusion Matrix False Positive Rate': 0.1132303559435863,\n 'Metrics - Confusion Matrix Precision': 0.5993346007604563,\n 'Metrics - ROC Curve fpr array': array([0.        , 0.        , 0.        , ..., 0.99946273, 0.99973136,\n        1.        ]),\n 'Metrics - ROC Curve tpr array': array([0.00000000e+00, 3.20718409e-04, 2.88646568e-03, ...,\n        1.00000000e+00, 1.00000000e+00, 1.00000000e+00]),\n 'Metrics - AUC': 0.7796129064497355}"
     },
     "execution_count": 34,
     "metadata": {},
     "output_type": "execute_result"
    }
   ],
   "source": [
    "PipeLineMetadata"
   ]
  },
  {
   "cell_type": "code",
   "execution_count": 35,
   "metadata": {},
   "outputs": [],
   "source": [
    "with open(\"data/05.02.c Feature Select RFE.pkl\",'wb') as fo:\n",
    "    pickle.dump(PipeLineMetadata, fo)"
   ]
  },
  {
   "cell_type": "code",
   "execution_count": 36,
   "metadata": {},
   "outputs": [],
   "source": [
    "# with open(\"FILENAME.pkl\", 'rb') as fi:\n",
    "#    BareBonesMetadata = pickle.load(fi)"
   ]
  },
  {
   "cell_type": "code",
   "execution_count": null,
   "metadata": {},
   "outputs": [],
   "source": []
  }
 ]
}