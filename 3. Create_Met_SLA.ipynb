{
 "nbformat": 4,
 "nbformat_minor": 2,
 "metadata": {
  "language_info": {
   "name": "python",
   "codemirror_mode": {
    "name": "ipython",
    "version": 3
   },
   "version": "3.7.4-final"
  },
  "orig_nbformat": 2,
  "file_extension": ".py",
  "mimetype": "text/x-python",
  "name": "python",
  "npconvert_exporter": "python",
  "pygments_lexer": "ipython3",
  "version": 3,
  "kernelspec": {
   "name": "python37464bitairbaseconda19ea8b859f254c1ab8191ac96e72d02e",
   "display_name": "Python 3.7.4 64-bit ('air-base': conda)"
  }
 },
 "cells": [
  {
   "cell_type": "code",
   "execution_count": 38,
   "metadata": {},
   "outputs": [],
   "source": [
    "import pandas as pd\n",
    "import numpy as np\n",
    "import seaborn as sns\n",
    "import matplotlib\n",
    "from matplotlib import pyplot as plt\n",
    "from pandas_profiling import ProfileReport\n",
    "from pathlib import Path\n"
   ]
  },
  {
   "cell_type": "code",
   "execution_count": 39,
   "metadata": {},
   "outputs": [],
   "source": [
    "pd.set_option('display.max_rows', None)\n",
    "pd.set_option('display.max_columns', None)\n",
    "pd.set_option('display.width', None)"
   ]
  },
  {
   "cell_type": "code",
   "execution_count": 42,
   "metadata": {},
   "outputs": [],
   "source": [
    "df = pd.read_csv(\"2.a.Detail_Incident.csv\", parse_dates=['Open_Time', 'Reopen_Time', 'Resolved_Time','Close_Time'])"
   ]
  },
  {
   "cell_type": "code",
   "execution_count": 43,
   "metadata": {},
   "outputs": [
    {
     "data": {
      "text/plain": "CI_Name_aff                           object\nCI_Type_aff                           object\nCI_Subtype_aff                        object\nService_Component_WBS_aff             object\nIncident_ID                           object\nImpact                                 int64\nUrgency                                int64\nPriority                               int64\nKM_number                             object\nCount_Reassignments                  float64\nOpen_Time                     datetime64[ns]\nReopen_Time                   datetime64[ns]\nResolved_Time                 datetime64[ns]\nClose_Time                    datetime64[ns]\nHandle_Time_Hours                    float64\nClosure_Code                          object\nCount_Related_Interactions           float64\nRelated_Interaction                   object\nCount_Related_Incidents              float64\nCount_Related_Changes                float64\nRelated_Change                        object\nCI_Name_CBy                           object\nCI_Type_CBy                           object\nCI_Subtype_CBy                        object\nServiceComp_WBS_CBy                   object\ndtype: object"
     },
     "execution_count": 43,
     "metadata": {},
     "output_type": "execute_result"
    }
   ],
   "source": [
    "df.dtypes"
   ]
  },
  {
   "cell_type": "code",
   "execution_count": 44,
   "metadata": {},
   "outputs": [
    {
     "data": {
      "text/html": "<div>\n<style scoped>\n    .dataframe tbody tr th:only-of-type {\n        vertical-align: middle;\n    }\n\n    .dataframe tbody tr th {\n        vertical-align: top;\n    }\n\n    .dataframe thead th {\n        text-align: right;\n    }\n</style>\n<table border=\"1\" class=\"dataframe\">\n  <thead>\n    <tr style=\"text-align: right;\">\n      <th></th>\n      <th>CI_Name_aff</th>\n      <th>CI_Type_aff</th>\n      <th>CI_Subtype_aff</th>\n      <th>Service_Component_WBS_aff</th>\n      <th>Incident_ID</th>\n      <th>Impact</th>\n      <th>Urgency</th>\n      <th>Priority</th>\n      <th>KM_number</th>\n      <th>Count_Reassignments</th>\n      <th>Open_Time</th>\n      <th>Reopen_Time</th>\n      <th>Resolved_Time</th>\n      <th>Close_Time</th>\n      <th>Handle_Time_Hours</th>\n      <th>Closure_Code</th>\n      <th>Count_Related_Interactions</th>\n      <th>Related_Interaction</th>\n      <th>Count_Related_Incidents</th>\n      <th>Count_Related_Changes</th>\n      <th>Related_Change</th>\n      <th>CI_Name_CBy</th>\n      <th>CI_Type_CBy</th>\n      <th>CI_Subtype_CBy</th>\n      <th>ServiceComp_WBS_CBy</th>\n    </tr>\n  </thead>\n  <tbody>\n    <tr>\n      <td>0</td>\n      <td>APP000005</td>\n      <td>application</td>\n      <td>Citrix</td>\n      <td>WBS000292</td>\n      <td>IM0001224</td>\n      <td>4</td>\n      <td>4</td>\n      <td>4</td>\n      <td>KM0001060</td>\n      <td>0.0</td>\n      <td>2013-10-01 07:33:21</td>\n      <td>NaT</td>\n      <td>2013-10-01 08:36:09</td>\n      <td>2013-10-01 08:37:28</td>\n      <td>1.068611</td>\n      <td>Software</td>\n      <td>1.0</td>\n      <td>SD0001630</td>\n      <td>NaN</td>\n      <td>NaN</td>\n      <td>NaN</td>\n      <td>APP000005</td>\n      <td>application</td>\n      <td>Citrix</td>\n      <td>WBS000292</td>\n    </tr>\n    <tr>\n      <td>1</td>\n      <td>DSK000457</td>\n      <td>computer</td>\n      <td>Desktop</td>\n      <td>WBS000187</td>\n      <td>IM0001226</td>\n      <td>5</td>\n      <td>5</td>\n      <td>5</td>\n      <td>KM0001446</td>\n      <td>2.0</td>\n      <td>2013-10-01 08:18:38</td>\n      <td>NaT</td>\n      <td>2013-10-07 11:51:53</td>\n      <td>2013-10-07 11:52:00</td>\n      <td>45.556111</td>\n      <td>Hardware</td>\n      <td>1.0</td>\n      <td>SD0001635</td>\n      <td>NaN</td>\n      <td>NaN</td>\n      <td>NaN</td>\n      <td>DSK000457</td>\n      <td>computer</td>\n      <td>Desktop</td>\n      <td>WBS000187</td>\n    </tr>\n    <tr>\n      <td>2</td>\n      <td>SBA000263</td>\n      <td>application</td>\n      <td>Server Based Application</td>\n      <td>WBS000072</td>\n      <td>IM0001229</td>\n      <td>5</td>\n      <td>5</td>\n      <td>5</td>\n      <td>KM0000644</td>\n      <td>12.0</td>\n      <td>2013-10-01 08:36:09</td>\n      <td>NaT</td>\n      <td>2013-10-07 16:55:08</td>\n      <td>2013-10-07 16:55:38</td>\n      <td>50.324722</td>\n      <td>Other</td>\n      <td>1.0</td>\n      <td>SD0001644</td>\n      <td>NaN</td>\n      <td>NaN</td>\n      <td>NaN</td>\n      <td>#N/B</td>\n      <td>#N/B</td>\n      <td>#N/B</td>\n      <td>#N/B</td>\n    </tr>\n    <tr>\n      <td>3</td>\n      <td>SBA000154</td>\n      <td>application</td>\n      <td>Server Based Application</td>\n      <td>WBS000027</td>\n      <td>IM0001230</td>\n      <td>5</td>\n      <td>5</td>\n      <td>5</td>\n      <td>KM0001291</td>\n      <td>1.0</td>\n      <td>2013-10-01 08:39:37</td>\n      <td>NaT</td>\n      <td>2013-10-01 15:39:47</td>\n      <td>2013-10-01 15:39:51</td>\n      <td>7.003889</td>\n      <td>Other</td>\n      <td>1.0</td>\n      <td>SD0001640</td>\n      <td>NaN</td>\n      <td>NaN</td>\n      <td>NaN</td>\n      <td>SBA000154</td>\n      <td>application</td>\n      <td>Server Based Application</td>\n      <td>WBS000027</td>\n    </tr>\n    <tr>\n      <td>4</td>\n      <td>LAP000019</td>\n      <td>computer</td>\n      <td>Laptop</td>\n      <td>WBS000091</td>\n      <td>IM0001231</td>\n      <td>5</td>\n      <td>5</td>\n      <td>5</td>\n      <td>KM0000315</td>\n      <td>0.0</td>\n      <td>2013-10-01 08:40:00</td>\n      <td>NaT</td>\n      <td>2013-10-02 11:30:13</td>\n      <td>2013-10-02 11:30:19</td>\n      <td>0.020278</td>\n      <td>Other</td>\n      <td>1.0</td>\n      <td>SD0001638</td>\n      <td>NaN</td>\n      <td>NaN</td>\n      <td>NaN</td>\n      <td>KYB000001</td>\n      <td>hardware</td>\n      <td>Keyboard</td>\n      <td>WBS000091</td>\n    </tr>\n  </tbody>\n</table>\n</div>",
      "text/plain": "  CI_Name_aff  CI_Type_aff            CI_Subtype_aff  \\\n0   APP000005  application                    Citrix   \n1   DSK000457     computer                   Desktop   \n2   SBA000263  application  Server Based Application   \n3   SBA000154  application  Server Based Application   \n4   LAP000019     computer                    Laptop   \n\n  Service_Component_WBS_aff Incident_ID  Impact  Urgency  Priority  KM_number  \\\n0                 WBS000292   IM0001224       4        4         4  KM0001060   \n1                 WBS000187   IM0001226       5        5         5  KM0001446   \n2                 WBS000072   IM0001229       5        5         5  KM0000644   \n3                 WBS000027   IM0001230       5        5         5  KM0001291   \n4                 WBS000091   IM0001231       5        5         5  KM0000315   \n\n   Count_Reassignments           Open_Time Reopen_Time       Resolved_Time  \\\n0                  0.0 2013-10-01 07:33:21         NaT 2013-10-01 08:36:09   \n1                  2.0 2013-10-01 08:18:38         NaT 2013-10-07 11:51:53   \n2                 12.0 2013-10-01 08:36:09         NaT 2013-10-07 16:55:08   \n3                  1.0 2013-10-01 08:39:37         NaT 2013-10-01 15:39:47   \n4                  0.0 2013-10-01 08:40:00         NaT 2013-10-02 11:30:13   \n\n           Close_Time  Handle_Time_Hours Closure_Code  \\\n0 2013-10-01 08:37:28           1.068611     Software   \n1 2013-10-07 11:52:00          45.556111     Hardware   \n2 2013-10-07 16:55:38          50.324722        Other   \n3 2013-10-01 15:39:51           7.003889        Other   \n4 2013-10-02 11:30:19           0.020278        Other   \n\n   Count_Related_Interactions Related_Interaction  Count_Related_Incidents  \\\n0                         1.0           SD0001630                      NaN   \n1                         1.0           SD0001635                      NaN   \n2                         1.0           SD0001644                      NaN   \n3                         1.0           SD0001640                      NaN   \n4                         1.0           SD0001638                      NaN   \n\n   Count_Related_Changes Related_Change CI_Name_CBy  CI_Type_CBy  \\\n0                    NaN            NaN   APP000005  application   \n1                    NaN            NaN   DSK000457     computer   \n2                    NaN            NaN        #N/B         #N/B   \n3                    NaN            NaN   SBA000154  application   \n4                    NaN            NaN   KYB000001     hardware   \n\n             CI_Subtype_CBy ServiceComp_WBS_CBy  \n0                    Citrix           WBS000292  \n1                   Desktop           WBS000187  \n2                      #N/B                #N/B  \n3  Server Based Application           WBS000027  \n4                  Keyboard           WBS000091  "
     },
     "execution_count": 44,
     "metadata": {},
     "output_type": "execute_result"
    }
   ],
   "source": [
    "df.head()"
   ]
  },
  {
   "cell_type": "code",
   "execution_count": 45,
   "metadata": {},
   "outputs": [],
   "source": [
    "df['TimeToResolve'] = df.Resolved_Time - df.Open_Time"
   ]
  },
  {
   "cell_type": "code",
   "execution_count": 46,
   "metadata": {},
   "outputs": [
    {
     "data": {
      "text/plain": "count                      35208\nmean      3 days 16:21:45.273148\nstd      10 days 08:24:08.475153\nmin              0 days 00:00:17\n25%       0 days 01:12:33.250000\n50%       0 days 16:20:28.500000\n75%       3 days 02:57:33.500000\nmax            175 days 06:40:30\nName: TimeToResolve, dtype: object"
     },
     "execution_count": 46,
     "metadata": {},
     "output_type": "execute_result"
    }
   ],
   "source": [
    "df.TimeToResolve.describe()"
   ]
  },
  {
   "cell_type": "code",
   "execution_count": 47,
   "metadata": {},
   "outputs": [
    {
     "data": {
      "text/plain": "0   00:08:22\ndtype: timedelta64[ns]"
     },
     "execution_count": 47,
     "metadata": {},
     "output_type": "execute_result"
    }
   ],
   "source": [
    "df.TimeToResolve.mode()"
   ]
  },
  {
   "cell_type": "code",
   "execution_count": 50,
   "metadata": {},
   "outputs": [
    {
     "data": {
      "text/html": "<div>\n<style scoped>\n    .dataframe tbody tr th:only-of-type {\n        vertical-align: middle;\n    }\n\n    .dataframe tbody tr th {\n        vertical-align: top;\n    }\n\n    .dataframe thead th {\n        text-align: right;\n    }\n</style>\n<table border=\"1\" class=\"dataframe\">\n  <thead>\n    <tr style=\"text-align: right;\">\n      <th></th>\n      <th>CI_Name_aff</th>\n      <th>CI_Type_aff</th>\n      <th>CI_Subtype_aff</th>\n      <th>Service_Component_WBS_aff</th>\n      <th>Incident_ID</th>\n      <th>Impact</th>\n      <th>Urgency</th>\n      <th>Priority</th>\n      <th>KM_number</th>\n      <th>Count_Reassignments</th>\n      <th>Open_Time</th>\n      <th>Reopen_Time</th>\n      <th>Resolved_Time</th>\n      <th>Close_Time</th>\n      <th>Handle_Time_Hours</th>\n      <th>Closure_Code</th>\n      <th>Count_Related_Interactions</th>\n      <th>Related_Interaction</th>\n      <th>Count_Related_Incidents</th>\n      <th>Count_Related_Changes</th>\n      <th>Related_Change</th>\n      <th>CI_Name_CBy</th>\n      <th>CI_Type_CBy</th>\n      <th>CI_Subtype_CBy</th>\n      <th>ServiceComp_WBS_CBy</th>\n      <th>TimeToResolve</th>\n    </tr>\n  </thead>\n  <tbody>\n    <tr>\n      <td>0</td>\n      <td>APP000005</td>\n      <td>application</td>\n      <td>Citrix</td>\n      <td>WBS000292</td>\n      <td>IM0001224</td>\n      <td>4</td>\n      <td>4</td>\n      <td>4</td>\n      <td>KM0001060</td>\n      <td>0.0</td>\n      <td>2013-10-01 07:33:21</td>\n      <td>NaT</td>\n      <td>2013-10-01 08:36:09</td>\n      <td>2013-10-01 08:37:28</td>\n      <td>1.068611</td>\n      <td>Software</td>\n      <td>1.0</td>\n      <td>SD0001630</td>\n      <td>NaN</td>\n      <td>NaN</td>\n      <td>NaN</td>\n      <td>APP000005</td>\n      <td>application</td>\n      <td>Citrix</td>\n      <td>WBS000292</td>\n      <td>0 days 01:02:48</td>\n    </tr>\n    <tr>\n      <td>1</td>\n      <td>DSK000457</td>\n      <td>computer</td>\n      <td>Desktop</td>\n      <td>WBS000187</td>\n      <td>IM0001226</td>\n      <td>5</td>\n      <td>5</td>\n      <td>5</td>\n      <td>KM0001446</td>\n      <td>2.0</td>\n      <td>2013-10-01 08:18:38</td>\n      <td>NaT</td>\n      <td>2013-10-07 11:51:53</td>\n      <td>2013-10-07 11:52:00</td>\n      <td>45.556111</td>\n      <td>Hardware</td>\n      <td>1.0</td>\n      <td>SD0001635</td>\n      <td>NaN</td>\n      <td>NaN</td>\n      <td>NaN</td>\n      <td>DSK000457</td>\n      <td>computer</td>\n      <td>Desktop</td>\n      <td>WBS000187</td>\n      <td>6 days 03:33:15</td>\n    </tr>\n    <tr>\n      <td>2</td>\n      <td>SBA000263</td>\n      <td>application</td>\n      <td>Server Based Application</td>\n      <td>WBS000072</td>\n      <td>IM0001229</td>\n      <td>5</td>\n      <td>5</td>\n      <td>5</td>\n      <td>KM0000644</td>\n      <td>12.0</td>\n      <td>2013-10-01 08:36:09</td>\n      <td>NaT</td>\n      <td>2013-10-07 16:55:08</td>\n      <td>2013-10-07 16:55:38</td>\n      <td>50.324722</td>\n      <td>Other</td>\n      <td>1.0</td>\n      <td>SD0001644</td>\n      <td>NaN</td>\n      <td>NaN</td>\n      <td>NaN</td>\n      <td>#N/B</td>\n      <td>#N/B</td>\n      <td>#N/B</td>\n      <td>#N/B</td>\n      <td>6 days 08:18:59</td>\n    </tr>\n    <tr>\n      <td>3</td>\n      <td>SBA000154</td>\n      <td>application</td>\n      <td>Server Based Application</td>\n      <td>WBS000027</td>\n      <td>IM0001230</td>\n      <td>5</td>\n      <td>5</td>\n      <td>5</td>\n      <td>KM0001291</td>\n      <td>1.0</td>\n      <td>2013-10-01 08:39:37</td>\n      <td>NaT</td>\n      <td>2013-10-01 15:39:47</td>\n      <td>2013-10-01 15:39:51</td>\n      <td>7.003889</td>\n      <td>Other</td>\n      <td>1.0</td>\n      <td>SD0001640</td>\n      <td>NaN</td>\n      <td>NaN</td>\n      <td>NaN</td>\n      <td>SBA000154</td>\n      <td>application</td>\n      <td>Server Based Application</td>\n      <td>WBS000027</td>\n      <td>0 days 07:00:10</td>\n    </tr>\n    <tr>\n      <td>4</td>\n      <td>LAP000019</td>\n      <td>computer</td>\n      <td>Laptop</td>\n      <td>WBS000091</td>\n      <td>IM0001231</td>\n      <td>5</td>\n      <td>5</td>\n      <td>5</td>\n      <td>KM0000315</td>\n      <td>0.0</td>\n      <td>2013-10-01 08:40:00</td>\n      <td>NaT</td>\n      <td>2013-10-02 11:30:13</td>\n      <td>2013-10-02 11:30:19</td>\n      <td>0.020278</td>\n      <td>Other</td>\n      <td>1.0</td>\n      <td>SD0001638</td>\n      <td>NaN</td>\n      <td>NaN</td>\n      <td>NaN</td>\n      <td>KYB000001</td>\n      <td>hardware</td>\n      <td>Keyboard</td>\n      <td>WBS000091</td>\n      <td>1 days 02:50:13</td>\n    </tr>\n  </tbody>\n</table>\n</div>",
      "text/plain": "  CI_Name_aff  CI_Type_aff            CI_Subtype_aff  \\\n0   APP000005  application                    Citrix   \n1   DSK000457     computer                   Desktop   \n2   SBA000263  application  Server Based Application   \n3   SBA000154  application  Server Based Application   \n4   LAP000019     computer                    Laptop   \n\n  Service_Component_WBS_aff Incident_ID  Impact  Urgency  Priority  KM_number  \\\n0                 WBS000292   IM0001224       4        4         4  KM0001060   \n1                 WBS000187   IM0001226       5        5         5  KM0001446   \n2                 WBS000072   IM0001229       5        5         5  KM0000644   \n3                 WBS000027   IM0001230       5        5         5  KM0001291   \n4                 WBS000091   IM0001231       5        5         5  KM0000315   \n\n   Count_Reassignments           Open_Time Reopen_Time       Resolved_Time  \\\n0                  0.0 2013-10-01 07:33:21         NaT 2013-10-01 08:36:09   \n1                  2.0 2013-10-01 08:18:38         NaT 2013-10-07 11:51:53   \n2                 12.0 2013-10-01 08:36:09         NaT 2013-10-07 16:55:08   \n3                  1.0 2013-10-01 08:39:37         NaT 2013-10-01 15:39:47   \n4                  0.0 2013-10-01 08:40:00         NaT 2013-10-02 11:30:13   \n\n           Close_Time  Handle_Time_Hours Closure_Code  \\\n0 2013-10-01 08:37:28           1.068611     Software   \n1 2013-10-07 11:52:00          45.556111     Hardware   \n2 2013-10-07 16:55:38          50.324722        Other   \n3 2013-10-01 15:39:51           7.003889        Other   \n4 2013-10-02 11:30:19           0.020278        Other   \n\n   Count_Related_Interactions Related_Interaction  Count_Related_Incidents  \\\n0                         1.0           SD0001630                      NaN   \n1                         1.0           SD0001635                      NaN   \n2                         1.0           SD0001644                      NaN   \n3                         1.0           SD0001640                      NaN   \n4                         1.0           SD0001638                      NaN   \n\n   Count_Related_Changes Related_Change CI_Name_CBy  CI_Type_CBy  \\\n0                    NaN            NaN   APP000005  application   \n1                    NaN            NaN   DSK000457     computer   \n2                    NaN            NaN        #N/B         #N/B   \n3                    NaN            NaN   SBA000154  application   \n4                    NaN            NaN   KYB000001     hardware   \n\n             CI_Subtype_CBy ServiceComp_WBS_CBy   TimeToResolve  \n0                    Citrix           WBS000292 0 days 01:02:48  \n1                   Desktop           WBS000187 6 days 03:33:15  \n2                      #N/B                #N/B 6 days 08:18:59  \n3  Server Based Application           WBS000027 0 days 07:00:10  \n4                  Keyboard           WBS000091 1 days 02:50:13  "
     },
     "execution_count": 50,
     "metadata": {},
     "output_type": "execute_result"
    }
   ],
   "source": [
    "df.head()"
   ]
  },
  {
   "cell_type": "markdown",
   "metadata": {},
   "source": [
    "\n",
    "\n"
   ]
  },
  {
   "cell_type": "markdown",
   "metadata": {},
   "source": [
    "\n",
    "\n"
   ]
  },
  {
   "cell_type": "code",
   "execution_count": 65,
   "metadata": {},
   "outputs": [],
   "source": [
    "df = df.drop(['Category', 'Status', 'Alert_Status'], axis='columns')"
   ]
  },
  {
   "cell_type": "markdown",
   "metadata": {},
   "source": [
    "## END and OUTPUT"
   ]
  },
  {
   "cell_type": "code",
   "execution_count": 66,
   "metadata": {},
   "outputs": [],
   "source": [
    "with open(\"2.a.Detail_Incident.csv\",'w') as f:\n",
    "    df.to_csv(f, index=False)"
   ]
  },
  {
   "cell_type": "code",
   "execution_count": 70,
   "metadata": {},
   "outputs": [],
   "source": [
    "df.reset_index(drop=True, inplace=True)\n",
    "profile = ProfileReport(df, title=\"Profile of BPIC 2014 Detail_Incident Data after Secondary Cleaning\", html={'style': {'full_width': True}})"
   ]
  },
  {
   "cell_type": "code",
   "execution_count": 69,
   "metadata": {},
   "outputs": [],
   "source": [
    "profile.to_file(Path(str(\"2.b.Detail_Incident_Profile.html\")))"
   ]
  },
  {
   "cell_type": "code",
   "execution_count": null,
   "metadata": {},
   "outputs": [],
   "source": []
  }
 ]
}