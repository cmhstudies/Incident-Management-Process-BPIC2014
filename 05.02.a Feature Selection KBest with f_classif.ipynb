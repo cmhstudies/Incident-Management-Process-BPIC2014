{
 "nbformat": 4,
 "nbformat_minor": 2,
 "metadata": {
  "language_info": {
   "name": "python",
   "codemirror_mode": {
    "name": "ipython",
    "version": 3
   },
   "version": "3.7.6-final"
  },
  "orig_nbformat": 2,
  "file_extension": ".py",
  "mimetype": "text/x-python",
  "name": "python",
  "npconvert_exporter": "python",
  "pygments_lexer": "ipython3",
  "version": 3,
  "kernelspec": {
   "name": "python3",
   "display_name": "Python 3"
  }
 },
 "cells": [
  {
   "cell_type": "markdown",
   "metadata": {},
   "source": [
    "# 05.02 Feature  Selection KBest with ANOVA F-value Score Function\n",
    "\n",
    "Goal: identify the factors that most contribute to SLAFail\n",
    "\n",
    "Tuning Adjustments: Focus on finding the most predictive set of predictor variables\n",
    "\n",
    "Read Prepared Data  ->  Split Data  -> Develop Pipeline  ->  Evaluate  \n",
    "\n",
    "Split Data using sklearn.model_selection.train_test_split\n",
    "\n",
    "Pipeline includes:\n",
    "\n",
    "- Preprocessing variables\n",
    "    - sklearn.compose.make_column_transformer \n",
    "    - Scale numeric variables: sklearn.preprocessing.StandardScaler\n",
    "    - Encode categorical variables: category_encoders.MEstimateEncoder\n",
    "- Selecting features\n",
    "    - sklearn.feature_selection.SelectKBest\n",
    "    - sklearn.feature_selection.f_classif\n",
    "- Instantiate model\n",
    "    - sklearn.linear_model.LogisticRegression\n",
    "- Fit the model using training data\n",
    "- Cross-validate the model with training data\n",
    "    - sklearn.model_selection.cross_val_score\n",
    "- Output performance measures\n",
    "\n",
    "Evaluate involves running the pipeline with the testing data and capturing metrics\n",
    "\n",
    "\n",
    "\n"
   ]
  },
  {
   "cell_type": "code",
   "execution_count": 1,
   "metadata": {},
   "outputs": [],
   "source": [
    "# Load libraries\n",
    "import pandas as pd\n",
    "import numpy as np\n",
    "import pickle\n",
    "\n",
    "# allow plots to appear in the notebook\n",
    "%matplotlib inline\n",
    "import matplotlib.pyplot as plt\n",
    "\n",
    "from sklearn.model_selection import train_test_split\n",
    "\n",
    "from sklearn.compose import make_column_transformer\n",
    "import category_encoders as ce\n",
    "from sklearn.preprocessing import StandardScaler\n",
    "\n",
    "from sklearn.feature_selection import SelectKBest\n",
    "from sklearn.feature_selection import f_classif\n",
    "\n",
    "from sklearn.linear_model import LogisticRegression\n",
    "\n",
    "from sklearn.pipeline import make_pipeline\n",
    "\n",
    "from sklearn.model_selection import cross_val_score\n",
    "\n",
    "from sklearn import metrics"
   ]
  },
  {
   "cell_type": "markdown",
   "metadata": {},
   "source": [
    "## Read Prepared Data"
   ]
  },
  {
   "cell_type": "code",
   "execution_count": 2,
   "metadata": {},
   "outputs": [
    {
     "name": "stdout",
     "output_type": "stream",
     "text": "df.shape: (35208, 12)\ndf.columns: Index(['CI_Name_aff', 'Service_Component_WBS_aff', 'Impact', 'Urgency',\n       'KM_number', 'Count_Related_Interactions', 'Count_Related_Incidents',\n       'Count_Related_Changes', 'SLAFail', 'Open_Time_HourOfDay',\n       'Open_Time_DayOfWeek', 'CI_TypeSubType_aff'],\n      dtype='object')\ndf.dtypes: \nCI_Name_aff                    object\nService_Component_WBS_aff      object\nImpact                         object\nUrgency                        object\nKM_number                      object\nCount_Related_Interactions    float64\nCount_Related_Incidents       float64\nCount_Related_Changes         float64\nSLAFail                         int64\nOpen_Time_HourOfDay             int64\nOpen_Time_DayOfWeek            object\nCI_TypeSubType_aff             object\ndtype: object\n"
    }
   ],
   "source": [
    "df = pd.read_csv(\"data/04.a.Detail_Incident_AtOpen.csv\")\n",
    "print(\"df.shape: \" + str(df.shape))\n",
    "print(\"df.columns: \" + str(df.columns))\n",
    "print(\"df.dtypes: \\n\" + str(df.dtypes))"
   ]
  },
  {
   "cell_type": "markdown",
   "metadata": {},
   "source": [
    "#### Set X and y"
   ]
  },
  {
   "cell_type": "code",
   "execution_count": 3,
   "metadata": {},
   "outputs": [
    {
     "data": {
      "text/plain": "(35208,)"
     },
     "execution_count": 3,
     "metadata": {},
     "output_type": "execute_result"
    }
   ],
   "source": [
    "y = df.SLAFail\n",
    "y.shape"
   ]
  },
  {
   "cell_type": "code",
   "execution_count": 4,
   "metadata": {},
   "outputs": [
    {
     "data": {
      "text/plain": "(35208, 11)"
     },
     "execution_count": 4,
     "metadata": {},
     "output_type": "execute_result"
    }
   ],
   "source": [
    "X = df.drop(['SLAFail'], axis='columns')\n",
    "X.shape"
   ]
  },
  {
   "cell_type": "markdown",
   "metadata": {},
   "source": [
    "Set `Open_Time_HourOfDay` for recognition as a Categorical variable"
   ]
  },
  {
   "cell_type": "code",
   "execution_count": 5,
   "metadata": {},
   "outputs": [
    {
     "data": {
      "text/plain": "CI_Name_aff                    object\nService_Component_WBS_aff      object\nImpact                         object\nUrgency                        object\nKM_number                      object\nCount_Related_Interactions    float64\nCount_Related_Incidents       float64\nCount_Related_Changes         float64\nOpen_Time_HourOfDay            object\nOpen_Time_DayOfWeek            object\nCI_TypeSubType_aff             object\ndtype: object"
     },
     "execution_count": 5,
     "metadata": {},
     "output_type": "execute_result"
    }
   ],
   "source": [
    "X.Open_Time_HourOfDay = X.Open_Time_HourOfDay.astype('object')\n",
    "X.dtypes"
   ]
  },
  {
   "cell_type": "markdown",
   "metadata": {},
   "source": [
    "Create a list of numeric variable column names"
   ]
  },
  {
   "cell_type": "code",
   "execution_count": 6,
   "metadata": {},
   "outputs": [
    {
     "data": {
      "text/plain": "Index(['Count_Related_Interactions', 'Count_Related_Incidents',\n       'Count_Related_Changes'],\n      dtype='object')"
     },
     "execution_count": 6,
     "metadata": {},
     "output_type": "execute_result"
    }
   ],
   "source": [
    "numericVars = X.select_dtypes(include=['float64']).columns\n",
    "numericVars"
   ]
  },
  {
   "cell_type": "markdown",
   "metadata": {},
   "source": [
    "Create a list of categorical variables"
   ]
  },
  {
   "cell_type": "code",
   "execution_count": 7,
   "metadata": {},
   "outputs": [
    {
     "data": {
      "text/plain": "Index(['CI_Name_aff', 'Service_Component_WBS_aff', 'Impact', 'Urgency',\n       'KM_number', 'Open_Time_HourOfDay', 'Open_Time_DayOfWeek',\n       'CI_TypeSubType_aff'],\n      dtype='object')"
     },
     "execution_count": 7,
     "metadata": {},
     "output_type": "execute_result"
    }
   ],
   "source": [
    "categoricalVars = X.select_dtypes(include=['object']).columns\n",
    "categoricalVars"
   ]
  },
  {
   "cell_type": "markdown",
   "metadata": {},
   "source": [
    "## Split Data\n",
    "\n",
    "Create Training and Testing Data Sets\n"
   ]
  },
  {
   "cell_type": "code",
   "execution_count": 8,
   "metadata": {},
   "outputs": [],
   "source": [
    "\n",
    "X_train, X_test, y_train, y_test = train_test_split(X, y, test_size=0.3, random_state=2020)\n"
   ]
  },
  {
   "cell_type": "code",
   "execution_count": 9,
   "metadata": {},
   "outputs": [
    {
     "name": "stdout",
     "output_type": "stream",
     "text": "(24645, 11)\nIndex(['CI_Name_aff', 'Service_Component_WBS_aff', 'Impact', 'Urgency',\n       'KM_number', 'Count_Related_Interactions', 'Count_Related_Incidents',\n       'Count_Related_Changes', 'Open_Time_HourOfDay', 'Open_Time_DayOfWeek',\n       'CI_TypeSubType_aff'],\n      dtype='object')\n"
    }
   ],
   "source": [
    "print(X_train.shape)\n",
    "print(X_train.columns)"
   ]
  },
  {
   "cell_type": "markdown",
   "metadata": {},
   "source": [
    "## Develop Pipeline\n"
   ]
  },
  {
   "cell_type": "code",
   "execution_count": 10,
   "metadata": {},
   "outputs": [],
   "source": [
    "# create dictionary to store information about the pipeline and results for later reporting and review\n",
    "PipeLineMetadata = { \"Name\" : \"Feature Selection KBest F-Classif\" }"
   ]
  },
  {
   "cell_type": "markdown",
   "metadata": {},
   "source": [
    "### Encode Variables\n",
    "\n",
    "Numeric and categorical variables require different treatment \n",
    "\n",
    "Set up column transformer for scaling numeric variables and encoding categorical variables\n",
    "\n"
   ]
  },
  {
   "cell_type": "code",
   "execution_count": 11,
   "metadata": {},
   "outputs": [],
   "source": [
    "column_trans = make_column_transformer(\n",
    "    (ce.WOEEncoder(), categoricalVars),\n",
    "    (StandardScaler(), numericVars),\n",
    "    remainder='passthrough')"
   ]
  },
  {
   "cell_type": "code",
   "execution_count": 12,
   "metadata": {},
   "outputs": [
    {
     "data": {
      "text/plain": "ColumnTransformer(n_jobs=None, remainder='passthrough', sparse_threshold=0.3,\n                  transformer_weights=None,\n                  transformers=[('woeencoder',\n                                 WOEEncoder(cols=None, drop_invariant=False,\n                                            handle_missing='value',\n                                            handle_unknown='value',\n                                            random_state=None, randomized=False,\n                                            regularization=1.0, return_df=True,\n                                            sigma=0.05, verbose=0),\n                                 Index(['CI_Name_aff', 'Service_Component_WBS_aff', 'Impact', 'Urgency',\n       'KM_number', 'Open_Time_HourOfDay', 'Open_Time_DayOfWeek',\n       'CI_TypeSubType_aff'],\n      dtype='object')),\n                                ('standardscaler',\n                                 StandardScaler(copy=True, with_mean=True,\n                                                with_std=True),\n                                 Index(['Count_Related_Interactions', 'Count_Related_Incidents',\n       'Count_Related_Changes'],\n      dtype='object'))],\n                  verbose=False)"
     },
     "execution_count": 12,
     "metadata": {},
     "output_type": "execute_result"
    }
   ],
   "source": [
    "column_trans"
   ]
  },
  {
   "cell_type": "markdown",
   "metadata": {},
   "source": [
    "### Feature Selection\n",
    "\n",
    "\n"
   ]
  },
  {
   "cell_type": "code",
   "execution_count": 13,
   "metadata": {},
   "outputs": [],
   "source": [
    "selector = SelectKBest(score_func=f_classif, k=10)"
   ]
  },
  {
   "cell_type": "markdown",
   "metadata": {},
   "source": [
    "### Specify Classifier (Logistic Regression)"
   ]
  },
  {
   "cell_type": "code",
   "execution_count": 14,
   "metadata": {},
   "outputs": [],
   "source": [
    "classifier = LogisticRegression(solver=\"lbfgs\")"
   ]
  },
  {
   "cell_type": "markdown",
   "metadata": {},
   "source": [
    "### Compose Pipeline"
   ]
  },
  {
   "cell_type": "code",
   "execution_count": 15,
   "metadata": {},
   "outputs": [],
   "source": [
    "pipe = make_pipeline(column_trans, \n",
    "                     selector,\n",
    "                     classifier)"
   ]
  },
  {
   "cell_type": "markdown",
   "metadata": {},
   "source": [
    "### Fit the Model Using the Pipeline"
   ]
  },
  {
   "cell_type": "code",
   "execution_count": 16,
   "metadata": {},
   "outputs": [
    {
     "data": {
      "text/plain": "Pipeline(memory=None,\n         steps=[('columntransformer',\n                 ColumnTransformer(n_jobs=None, remainder='passthrough',\n                                   sparse_threshold=0.3,\n                                   transformer_weights=None,\n                                   transformers=[('woeencoder',\n                                                  WOEEncoder(cols=None,\n                                                             drop_invariant=False,\n                                                             handle_missing='value',\n                                                             handle_unknown='value',\n                                                             random_state=None,\n                                                             randomized=False,\n                                                             regularization=1.0,\n                                                             return_df=True,\n                                                             sigma=0.05,\n                                                             verbo...\n                ('selectkbest',\n                 SelectKBest(k=10,\n                             score_func=<function f_classif at 0x1a205f5830>)),\n                ('logisticregression',\n                 LogisticRegression(C=1.0, class_weight=None, dual=False,\n                                    fit_intercept=True, intercept_scaling=1,\n                                    l1_ratio=None, max_iter=100,\n                                    multi_class='auto', n_jobs=None,\n                                    penalty='l2', random_state=None,\n                                    solver='lbfgs', tol=0.0001, verbose=0,\n                                    warm_start=False))],\n         verbose=False)"
     },
     "execution_count": 16,
     "metadata": {},
     "output_type": "execute_result"
    }
   ],
   "source": [
    "pipe.fit(X_train,y_train)"
   ]
  },
  {
   "cell_type": "markdown",
   "metadata": {},
   "source": [
    "### Capture model  information"
   ]
  },
  {
   "cell_type": "code",
   "execution_count": 17,
   "metadata": {},
   "outputs": [
    {
     "data": {
      "text/plain": "{'Name': 'Feature Selection KBest F-Classif',\n 'Column Transforms': ['woeencoder', 'standardscaler'],\n 'Selector': <bound method BaseEstimator.get_params of SelectKBest(k=10, score_func=<function f_classif at 0x1a205f5830>)>,\n 'Classifier': LogisticRegression(C=1.0, class_weight=None, dual=False, fit_intercept=True,\n                    intercept_scaling=1, l1_ratio=None, max_iter=100,\n                    multi_class='auto', n_jobs=None, penalty='l2',\n                    random_state=None, solver='lbfgs', tol=0.0001, verbose=0,\n                    warm_start=False)}"
     },
     "execution_count": 17,
     "metadata": {},
     "output_type": "execute_result"
    }
   ],
   "source": [
    "PipeLineMetadata['Column Transforms'] = list(pipe.named_steps.columntransformer.named_transformers_.keys())\n",
    "PipeLineMetadata['Selector'] = pipe.named_steps.selectkbest.get_params\n",
    "PipeLineMetadata['Classifier'] = pipe.named_steps.logisticregression\n",
    "PipeLineMetadata"
   ]
  },
  {
   "cell_type": "markdown",
   "metadata": {},
   "source": [
    "Identify the features retained"
   ]
  },
  {
   "cell_type": "code",
   "execution_count": 18,
   "metadata": {},
   "outputs": [
    {
     "data": {
      "text/plain": "array([4.04035978e+03, 2.62605572e+03, 1.40220303e+02, 1.41583607e+02,\n       6.10443839e+03, 1.77755544e+02, 6.79762696e+02, 9.02108720e+02,\n       6.20757993e+01, 5.60722172e+00, 3.51935177e-01])"
     },
     "execution_count": 18,
     "metadata": {},
     "output_type": "execute_result"
    }
   ],
   "source": [
    "pipe.named_steps.selectkbest.scores_"
   ]
  },
  {
   "cell_type": "code",
   "execution_count": 19,
   "metadata": {},
   "outputs": [
    {
     "data": {
      "text/plain": "array([0.00000000e+000, 0.00000000e+000, 2.91451608e-032, 1.47282598e-032,\n       0.00000000e+000, 2.06821476e-040, 7.61382496e-148, 1.10035990e-194,\n       3.44070391e-015, 1.78942746e-002, 5.53025157e-001])"
     },
     "execution_count": 19,
     "metadata": {},
     "output_type": "execute_result"
    }
   ],
   "source": [
    "pipe.named_steps.selectkbest.pvalues_"
   ]
  },
  {
   "cell_type": "code",
   "execution_count": 20,
   "metadata": {},
   "outputs": [
    {
     "data": {
      "text/plain": "{'Name': 'Feature Selection KBest F-Classif',\n 'Column Transforms': ['woeencoder', 'standardscaler'],\n 'Selector': <bound method BaseEstimator.get_params of SelectKBest(k=10, score_func=<function f_classif at 0x1a205f5830>)>,\n 'Classifier': LogisticRegression(C=1.0, class_weight=None, dual=False, fit_intercept=True,\n                    intercept_scaling=1, l1_ratio=None, max_iter=100,\n                    multi_class='auto', n_jobs=None, penalty='l2',\n                    random_state=None, solver='lbfgs', tol=0.0001, verbose=0,\n                    warm_start=False),\n 'Selector - Scores':                                  scores        p-value\n CI_Name_aff                 4040.359780   0.000000e+00\n Service_Component_WBS_aff   2626.055718   0.000000e+00\n KM_number                   6104.438394   0.000000e+00\n Count_Related_Changes        902.108720  1.100360e-194\n Count_Related_Incidents      679.762696  7.613825e-148\n Count_Related_Interactions   177.755544   2.068215e-40\n Urgency                      141.583607   1.472826e-32\n Impact                       140.220303   2.914516e-32\n Open_Time_HourOfDay           62.075799   3.440704e-15\n Open_Time_DayOfWeek            5.607222   1.789427e-02\n CI_TypeSubType_aff             0.351935   5.530252e-01}"
     },
     "execution_count": 20,
     "metadata": {},
     "output_type": "execute_result"
    }
   ],
   "source": [
    "PipeLineMetadata['Selector - Scores'] = pd.DataFrame([pipe.named_steps.selectkbest.scores_, pipe.named_steps.selectkbest.pvalues_], columns=X_train.columns, index=['scores','p-value']).transpose().sort_values(by=['p-value'])\n",
    "PipeLineMetadata"
   ]
  },
  {
   "cell_type": "code",
   "execution_count": 21,
   "metadata": {},
   "outputs": [
    {
     "data": {
      "text/plain": "[True, True, True, True, True, True, True, True, True, True, False]"
     },
     "execution_count": 21,
     "metadata": {},
     "output_type": "execute_result"
    }
   ],
   "source": [
    "# returns a mask of features retained\n",
    "pipe.named_steps.selectkbest.get_support().tolist()"
   ]
  },
  {
   "cell_type": "code",
   "execution_count": 22,
   "metadata": {},
   "outputs": [
    {
     "data": {
      "text/plain": "array(['CI_Name_aff', 'Service_Component_WBS_aff', 'Impact', 'Urgency',\n       'KM_number', 'Count_Related_Interactions',\n       'Count_Related_Incidents', 'Count_Related_Changes',\n       'Open_Time_HourOfDay', 'Open_Time_DayOfWeek'], dtype='<U26')"
     },
     "execution_count": 22,
     "metadata": {},
     "output_type": "execute_result"
    }
   ],
   "source": [
    "# apply mask to X_train column names \n",
    "selectedFeatures = np.array(X_train.columns.tolist())[pipe.named_steps.selectkbest.get_support().tolist()]\n",
    "selectedFeatures"
   ]
  },
  {
   "cell_type": "code",
   "execution_count": 23,
   "metadata": {},
   "outputs": [
    {
     "data": {
      "text/plain": "{'Name': 'Feature Selection KBest F-Classif',\n 'Column Transforms': ['woeencoder', 'standardscaler'],\n 'Selector': <bound method BaseEstimator.get_params of SelectKBest(k=10, score_func=<function f_classif at 0x1a205f5830>)>,\n 'Classifier': LogisticRegression(C=1.0, class_weight=None, dual=False, fit_intercept=True,\n                    intercept_scaling=1, l1_ratio=None, max_iter=100,\n                    multi_class='auto', n_jobs=None, penalty='l2',\n                    random_state=None, solver='lbfgs', tol=0.0001, verbose=0,\n                    warm_start=False),\n 'Selector - Scores':                                  scores        p-value\n CI_Name_aff                 4040.359780   0.000000e+00\n Service_Component_WBS_aff   2626.055718   0.000000e+00\n KM_number                   6104.438394   0.000000e+00\n Count_Related_Changes        902.108720  1.100360e-194\n Count_Related_Incidents      679.762696  7.613825e-148\n Count_Related_Interactions   177.755544   2.068215e-40\n Urgency                      141.583607   1.472826e-32\n Impact                       140.220303   2.914516e-32\n Open_Time_HourOfDay           62.075799   3.440704e-15\n Open_Time_DayOfWeek            5.607222   1.789427e-02\n CI_TypeSubType_aff             0.351935   5.530252e-01,\n 'Classifier - Intercept': -0.9295114210180985,\n 'Classifier - Coefficients':                                    0\n CI_Name_aff                 0.149591\n Service_Component_WBS_aff   0.020888\n Impact                      0.169542\n Urgency                     0.039663\n KM_number                   1.068318\n Count_Related_Interactions  1.176742\n Count_Related_Incidents     1.246995\n Count_Related_Changes       0.027675\n Open_Time_HourOfDay         0.183534\n Open_Time_DayOfWeek        -0.037030}"
     },
     "execution_count": 23,
     "metadata": {},
     "output_type": "execute_result"
    }
   ],
   "source": [
    "PipeLineMetadata['Classifier - Intercept'] = pipe.named_steps.logisticregression.intercept_[0]\n",
    "PipeLineMetadata['Classifier - Coefficients'] = pd.DataFrame(pipe.named_steps.logisticregression.coef_, columns=selectedFeatures).transpose()\n",
    "PipeLineMetadata"
   ]
  },
  {
   "cell_type": "markdown",
   "metadata": {},
   "source": [
    "## Cross-validate the Model with Training Data\n"
   ]
  },
  {
   "cell_type": "code",
   "execution_count": 24,
   "metadata": {},
   "outputs": [
    {
     "data": {
      "text/plain": "{'Name': 'Feature Selection KBest F-Classif',\n 'Column Transforms': ['woeencoder', 'standardscaler'],\n 'Selector': <bound method BaseEstimator.get_params of SelectKBest(k=10, score_func=<function f_classif at 0x1a205f5830>)>,\n 'Classifier': LogisticRegression(C=1.0, class_weight=None, dual=False, fit_intercept=True,\n                    intercept_scaling=1, l1_ratio=None, max_iter=100,\n                    multi_class='auto', n_jobs=None, penalty='l2',\n                    random_state=None, solver='lbfgs', tol=0.0001, verbose=0,\n                    warm_start=False),\n 'Selector - Scores':                                  scores        p-value\n CI_Name_aff                 4040.359780   0.000000e+00\n Service_Component_WBS_aff   2626.055718   0.000000e+00\n KM_number                   6104.438394   0.000000e+00\n Count_Related_Changes        902.108720  1.100360e-194\n Count_Related_Incidents      679.762696  7.613825e-148\n Count_Related_Interactions   177.755544   2.068215e-40\n Urgency                      141.583607   1.472826e-32\n Impact                       140.220303   2.914516e-32\n Open_Time_HourOfDay           62.075799   3.440704e-15\n Open_Time_DayOfWeek            5.607222   1.789427e-02\n CI_TypeSubType_aff             0.351935   5.530252e-01,\n 'Classifier - Intercept': -0.9295114210180985,\n 'Classifier - Coefficients':                                    0\n CI_Name_aff                 0.149591\n Service_Component_WBS_aff   0.020888\n Impact                      0.169542\n Urgency                     0.039663\n KM_number                   1.068318\n Count_Related_Interactions  1.176742\n Count_Related_Incidents     1.246995\n Count_Related_Changes       0.027675\n Open_Time_HourOfDay         0.183534\n Open_Time_DayOfWeek        -0.037030,\n 'Metrics - Cross Validation Accuracy': 0.737025765875431}"
     },
     "execution_count": 24,
     "metadata": {},
     "output_type": "execute_result"
    }
   ],
   "source": [
    "PipeLineMetadata['Metrics - Cross Validation Accuracy'] = cross_val_score(pipe, X_train, y_train, cv=5, scoring=\"accuracy\").mean()\n",
    "PipeLineMetadata"
   ]
  },
  {
   "cell_type": "markdown",
   "metadata": {},
   "source": [
    "## Evaluate with Test Data"
   ]
  },
  {
   "cell_type": "markdown",
   "metadata": {},
   "source": [
    "Get predicted classification and predicted probabilities based on the model"
   ]
  },
  {
   "cell_type": "code",
   "execution_count": 25,
   "metadata": {},
   "outputs": [],
   "source": [
    "y_pred_class = pipe.predict(X_test)\n",
    "y_pred_prob = pipe.predict_proba(X_test)[:,1]"
   ]
  },
  {
   "cell_type": "code",
   "execution_count": 26,
   "metadata": {},
   "outputs": [
    {
     "data": {
      "text/plain": "0.6579221552692892"
     },
     "execution_count": 26,
     "metadata": {},
     "output_type": "execute_result"
    }
   ],
   "source": [
    "PipeLineMetadata['Metrics - F1 score'] = metrics.f1_score(y_test, y_pred_class, average='macro')\n",
    "PipeLineMetadata['Metrics - F1 score']"
   ]
  },
  {
   "cell_type": "markdown",
   "metadata": {},
   "source": [
    "Look at the resulting confusion matrix\n",
    "\n",
    "Save True Positive (TP), True Negative (TN), False Positive(FP), and False Negative (FN) values"
   ]
  },
  {
   "cell_type": "code",
   "execution_count": 27,
   "metadata": {},
   "outputs": [
    {
     "name": "stdout",
     "output_type": "stream",
     "text": "[[6581  864]\n [1839 1279]]\nTN: 6581 \t FP: 864 \nFN: 1839 \t TP: 1279 \n"
    }
   ],
   "source": [
    "confusion = metrics.confusion_matrix(y_test, y_pred_class)\n",
    "TP = confusion[1, 1]\n",
    "TN = confusion[0, 0]\n",
    "FP = confusion[0, 1]\n",
    "FN = confusion[1, 0]\n",
    "print(confusion)\n",
    "print(\"TN: %d \\t FP: %d \\nFN: %d \\t TP: %d \" % (TN, FP, FN, TP))"
   ]
  },
  {
   "cell_type": "markdown",
   "metadata": {},
   "source": [
    "Capture a few classification metrics:\n",
    "* Classification Accuracy: Overall, how often is the classifier correct?\n",
    "* Classification Error: Overall, how often is the classifier incorrect?\n",
    "* True Positive Rate  (Recall, Sensitivity): When the actual value is positive, how often is the prediction correct?\n",
    "* True Negative Rate (Specificity): When the actual value is negative, how often is the prediction correct?\n",
    "* False Positive Rate: When the actual value is negative, how often is the prediction incorrect?\n",
    "* Precision: When a positive value is predicted, how often is the prediction correct?\n"
   ]
  },
  {
   "cell_type": "code",
   "execution_count": 28,
   "metadata": {},
   "outputs": [],
   "source": [
    "PipeLineMetadata['Metrics - Confusion Matrix Classification Accuracy'] = metrics.accuracy_score(y_test,y_pred_class) \n",
    "PipeLineMetadata['Metrics - Confusion Matrix Classification Error'] = 1- metrics.accuracy_score(y_test,y_pred_class)\n",
    "PipeLineMetadata['Metrics - Confusion Matrix True Positive Rate'] = metrics.recall_score(y_test, y_pred_class) \n",
    "PipeLineMetadata['Metrics - Confusion Matrix True Negative Rate'] =  TN / float(TN + FP)\n",
    "PipeLineMetadata['Metrics - Confusion Matrix False Positive Rate'] =  FP / float(TN + FP)\n",
    "PipeLineMetadata['Metrics - Confusion Matrix Precision'] = metrics.precision_score(y_test,y_pred_class)"
   ]
  },
  {
   "cell_type": "code",
   "execution_count": 29,
   "metadata": {},
   "outputs": [
    {
     "data": {
      "text/plain": "{'Name': 'Feature Selection KBest F-Classif',\n 'Column Transforms': ['woeencoder', 'standardscaler'],\n 'Selector': <bound method BaseEstimator.get_params of SelectKBest(k=10, score_func=<function f_classif at 0x1a205f5830>)>,\n 'Classifier': LogisticRegression(C=1.0, class_weight=None, dual=False, fit_intercept=True,\n                    intercept_scaling=1, l1_ratio=None, max_iter=100,\n                    multi_class='auto', n_jobs=None, penalty='l2',\n                    random_state=None, solver='lbfgs', tol=0.0001, verbose=0,\n                    warm_start=False),\n 'Selector - Scores':                                  scores        p-value\n CI_Name_aff                 4040.359780   0.000000e+00\n Service_Component_WBS_aff   2626.055718   0.000000e+00\n KM_number                   6104.438394   0.000000e+00\n Count_Related_Changes        902.108720  1.100360e-194\n Count_Related_Incidents      679.762696  7.613825e-148\n Count_Related_Interactions   177.755544   2.068215e-40\n Urgency                      141.583607   1.472826e-32\n Impact                       140.220303   2.914516e-32\n Open_Time_HourOfDay           62.075799   3.440704e-15\n Open_Time_DayOfWeek            5.607222   1.789427e-02\n CI_TypeSubType_aff             0.351935   5.530252e-01,\n 'Classifier - Intercept': -0.9295114210180985,\n 'Classifier - Coefficients':                                    0\n CI_Name_aff                 0.149591\n Service_Component_WBS_aff   0.020888\n Impact                      0.169542\n Urgency                     0.039663\n KM_number                   1.068318\n Count_Related_Interactions  1.176742\n Count_Related_Incidents     1.246995\n Count_Related_Changes       0.027675\n Open_Time_HourOfDay         0.183534\n Open_Time_DayOfWeek        -0.037030,\n 'Metrics - Cross Validation Accuracy': 0.737025765875431,\n 'Metrics - F1 score': 0.6579221552692892,\n 'Metrics - Confusion Matrix Classification Accuracy': 0.7441067878443623,\n 'Metrics - Confusion Matrix Classification Error': 0.25589321215563765,\n 'Metrics - Confusion Matrix True Positive Rate': 0.41019884541372675,\n 'Metrics - Confusion Matrix True Negative Rate': 0.883948959032908,\n 'Metrics - Confusion Matrix False Positive Rate': 0.11605104096709201,\n 'Metrics - Confusion Matrix Precision': 0.5968268782081194}"
     },
     "execution_count": 29,
     "metadata": {},
     "output_type": "execute_result"
    }
   ],
   "source": [
    "PipeLineMetadata\n"
   ]
  },
  {
   "cell_type": "markdown",
   "metadata": {},
   "source": [
    "Add some ROC curve information and AUC result\n"
   ]
  },
  {
   "cell_type": "code",
   "execution_count": 30,
   "metadata": {},
   "outputs": [],
   "source": [
    "fpr, tpr, thresholds = metrics.roc_curve(y_test, y_pred_prob)"
   ]
  },
  {
   "cell_type": "code",
   "execution_count": 31,
   "metadata": {},
   "outputs": [],
   "source": [
    "PipeLineMetadata['Metrics - ROC Curve fpr array'] = fpr\n",
    "PipeLineMetadata['Metrics - ROC Curve tpr array'] = tpr"
   ]
  },
  {
   "cell_type": "code",
   "execution_count": 32,
   "metadata": {},
   "outputs": [
    {
     "data": {
      "image/png": "[encoded data removed]",
      "image/svg+xml": "<?xml version=\"1.0\" encoding=\"utf-8\" standalone=\"no\"?>\n<!DOCTYPE svg PUBLIC \"-//W3C//DTD SVG 1.1//EN\"\n  \"http://www.w3.org/Graphics/SVG/1.1/DTD/svg11.dtd\">\n<!-- Created with matplotlib (https://matplotlib.org/) -->\n<svg height=\"277.314375pt\" version=\"1.1\" viewBox=\"0 0 393.732813 277.314375\" width=\"393.732813pt\" xmlns=\"http://www.w3.org/2000/svg\" xmlns:xlink=\"http://www.w3.org/1999/xlink\">\n <defs>\n  <style type=\"text/css\">\n*{stroke-linecap:butt;stroke-linejoin:round;}\n  </style>\n </defs>\n <g id=\"figure_1\">\n  <g id=\"patch_1\">\n   <path d=\"M 0 277.314375 \nL 393.732813 277.314375 \nL 393.732813 0 \nL 0 0 \nz\n\" style=\"fill:none;\"/>\n  </g>\n  <g id=\"axes_1\">\n   <g id=\"patch_2\">\n    <path d=\"M 43.78125 239.758125 \nL 378.58125 239.758125 \nL 378.58125 22.318125 \nL 43.78125 22.318125 \nz\n\" style=\"fill:#ffffff;\"/>\n   </g>\n   <g id=\"matplotlib.axis_1\">\n    <g id=\"xtick_1\">\n     <g id=\"line2d_1\">\n      <path clip-path=\"url(#p8914ab46fc)\" d=\"M 43.78125 239.758125 \nL 43.78125 22.318125 \n\" style=\"fill:none;stroke:#b0b0b0;stroke-linecap:square;stroke-width:0.8;\"/>\n     </g>\n     <g id=\"line2d_2\">\n      <defs>\n       <path d=\"M 0 0 \nL 0 3.5 \n\" id=\"mb20a91d393\" style=\"stroke:#000000;stroke-width:0.8;\"/>\n      </defs>\n      <g>\n       <use style=\"stroke:#000000;stroke-width:0.8;\" x=\"43.78125\" xlink:href=\"#mb20a91d393\" y=\"239.758125\"/>\n      </g>\n     </g>\n     <g id=\"text_1\">\n      <!-- 0.0 -->\n      <defs>\n       <path d=\"M 31.78125 66.40625 \nQ 24.171875 66.40625 20.328125 58.90625 \nQ 16.5 51.421875 16.5 36.375 \nQ 16.5 21.390625 20.328125 13.890625 \nQ 24.171875 6.390625 31.78125 6.390625 \nQ 39.453125 6.390625 43.28125 13.890625 \nQ 47.125 21.390625 47.125 36.375 \nQ 47.125 51.421875 43.28125 58.90625 \nQ 39.453125 66.40625 31.78125 66.40625 \nz\nM 31.78125 74.21875 \nQ 44.046875 74.21875 50.515625 64.515625 \nQ 56.984375 54.828125 56.984375 36.375 \nQ 56.984375 17.96875 50.515625 8.265625 \nQ 44.046875 -1.421875 31.78125 -1.421875 \nQ 19.53125 -1.421875 13.0625 8.265625 \nQ 6.59375 17.96875 6.59375 36.375 \nQ 6.59375 54.828125 13.0625 64.515625 \nQ 19.53125 74.21875 31.78125 74.21875 \nz\n\" id=\"DejaVuSans-48\"/>\n       <path d=\"M 10.6875 12.40625 \nL 21 12.40625 \nL 21 0 \nL 10.6875 0 \nz\n\" id=\"DejaVuSans-46\"/>\n      </defs>\n      <g transform=\"translate(35.829688 254.356562)scale(0.1 -0.1)\">\n       <use xlink:href=\"#DejaVuSans-48\"/>\n       <use x=\"63.623047\" xlink:href=\"#DejaVuSans-46\"/>\n       <use x=\"95.410156\" xlink:href=\"#DejaVuSans-48\"/>\n      </g>\n     </g>\n    </g>\n    <g id=\"xtick_2\">\n     <g id=\"line2d_3\">\n      <path clip-path=\"url(#p8914ab46fc)\" d=\"M 110.74125 239.758125 \nL 110.74125 22.318125 \n\" style=\"fill:none;stroke:#b0b0b0;stroke-linecap:square;stroke-width:0.8;\"/>\n     </g>\n     <g id=\"line2d_4\">\n      <g>\n       <use style=\"stroke:#000000;stroke-width:0.8;\" x=\"110.74125\" xlink:href=\"#mb20a91d393\" y=\"239.758125\"/>\n      </g>\n     </g>\n     <g id=\"text_2\">\n      <!-- 0.2 -->\n      <defs>\n       <path d=\"M 19.1875 8.296875 \nL 53.609375 8.296875 \nL 53.609375 0 \nL 7.328125 0 \nL 7.328125 8.296875 \nQ 12.9375 14.109375 22.625 23.890625 \nQ 32.328125 33.6875 34.8125 36.53125 \nQ 39.546875 41.84375 41.421875 45.53125 \nQ 43.3125 49.21875 43.3125 52.78125 \nQ 43.3125 58.59375 39.234375 62.25 \nQ 35.15625 65.921875 28.609375 65.921875 \nQ 23.96875 65.921875 18.8125 64.3125 \nQ 13.671875 62.703125 7.8125 59.421875 \nL 7.8125 69.390625 \nQ 13.765625 71.78125 18.9375 73 \nQ 24.125 74.21875 28.421875 74.21875 \nQ 39.75 74.21875 46.484375 68.546875 \nQ 53.21875 62.890625 53.21875 53.421875 \nQ 53.21875 48.921875 51.53125 44.890625 \nQ 49.859375 40.875 45.40625 35.40625 \nQ 44.1875 33.984375 37.640625 27.21875 \nQ 31.109375 20.453125 19.1875 8.296875 \nz\n\" id=\"DejaVuSans-50\"/>\n      </defs>\n      <g transform=\"translate(102.789688 254.356562)scale(0.1 -0.1)\">\n       <use xlink:href=\"#DejaVuSans-48\"/>\n       <use x=\"63.623047\" xlink:href=\"#DejaVuSans-46\"/>\n       <use x=\"95.410156\" xlink:href=\"#DejaVuSans-50\"/>\n      </g>\n     </g>\n    </g>\n    <g id=\"xtick_3\">\n     <g id=\"line2d_5\">\n      <path clip-path=\"url(#p8914ab46fc)\" d=\"M 177.70125 239.758125 \nL 177.70125 22.318125 \n\" style=\"fill:none;stroke:#b0b0b0;stroke-linecap:square;stroke-width:0.8;\"/>\n     </g>\n     <g id=\"line2d_6\">\n      <g>\n       <use style=\"stroke:#000000;stroke-width:0.8;\" x=\"177.70125\" xlink:href=\"#mb20a91d393\" y=\"239.758125\"/>\n      </g>\n     </g>\n     <g id=\"text_3\">\n      <!-- 0.4 -->\n      <defs>\n       <path d=\"M 37.796875 64.3125 \nL 12.890625 25.390625 \nL 37.796875 25.390625 \nz\nM 35.203125 72.90625 \nL 47.609375 72.90625 \nL 47.609375 25.390625 \nL 58.015625 25.390625 \nL 58.015625 17.1875 \nL 47.609375 17.1875 \nL 47.609375 0 \nL 37.796875 0 \nL 37.796875 17.1875 \nL 4.890625 17.1875 \nL 4.890625 26.703125 \nz\n\" id=\"DejaVuSans-52\"/>\n      </defs>\n      <g transform=\"translate(169.749688 254.356562)scale(0.1 -0.1)\">\n       <use xlink:href=\"#DejaVuSans-48\"/>\n       <use x=\"63.623047\" xlink:href=\"#DejaVuSans-46\"/>\n       <use x=\"95.410156\" xlink:href=\"#DejaVuSans-52\"/>\n      </g>\n     </g>\n    </g>\n    <g id=\"xtick_4\">\n     <g id=\"line2d_7\">\n      <path clip-path=\"url(#p8914ab46fc)\" d=\"M 244.66125 239.758125 \nL 244.66125 22.318125 \n\" style=\"fill:none;stroke:#b0b0b0;stroke-linecap:square;stroke-width:0.8;\"/>\n     </g>\n     <g id=\"line2d_8\">\n      <g>\n       <use style=\"stroke:#000000;stroke-width:0.8;\" x=\"244.66125\" xlink:href=\"#mb20a91d393\" y=\"239.758125\"/>\n      </g>\n     </g>\n     <g id=\"text_4\">\n      <!-- 0.6 -->\n      <defs>\n       <path d=\"M 33.015625 40.375 \nQ 26.375 40.375 22.484375 35.828125 \nQ 18.609375 31.296875 18.609375 23.390625 \nQ 18.609375 15.53125 22.484375 10.953125 \nQ 26.375 6.390625 33.015625 6.390625 \nQ 39.65625 6.390625 43.53125 10.953125 \nQ 47.40625 15.53125 47.40625 23.390625 \nQ 47.40625 31.296875 43.53125 35.828125 \nQ 39.65625 40.375 33.015625 40.375 \nz\nM 52.59375 71.296875 \nL 52.59375 62.3125 \nQ 48.875 64.0625 45.09375 64.984375 \nQ 41.3125 65.921875 37.59375 65.921875 \nQ 27.828125 65.921875 22.671875 59.328125 \nQ 17.53125 52.734375 16.796875 39.40625 \nQ 19.671875 43.65625 24.015625 45.921875 \nQ 28.375 48.1875 33.59375 48.1875 \nQ 44.578125 48.1875 50.953125 41.515625 \nQ 57.328125 34.859375 57.328125 23.390625 \nQ 57.328125 12.15625 50.6875 5.359375 \nQ 44.046875 -1.421875 33.015625 -1.421875 \nQ 20.359375 -1.421875 13.671875 8.265625 \nQ 6.984375 17.96875 6.984375 36.375 \nQ 6.984375 53.65625 15.1875 63.9375 \nQ 23.390625 74.21875 37.203125 74.21875 \nQ 40.921875 74.21875 44.703125 73.484375 \nQ 48.484375 72.75 52.59375 71.296875 \nz\n\" id=\"DejaVuSans-54\"/>\n      </defs>\n      <g transform=\"translate(236.709688 254.356562)scale(0.1 -0.1)\">\n       <use xlink:href=\"#DejaVuSans-48\"/>\n       <use x=\"63.623047\" xlink:href=\"#DejaVuSans-46\"/>\n       <use x=\"95.410156\" xlink:href=\"#DejaVuSans-54\"/>\n      </g>\n     </g>\n    </g>\n    <g id=\"xtick_5\">\n     <g id=\"line2d_9\">\n      <path clip-path=\"url(#p8914ab46fc)\" d=\"M 311.62125 239.758125 \nL 311.62125 22.318125 \n\" style=\"fill:none;stroke:#b0b0b0;stroke-linecap:square;stroke-width:0.8;\"/>\n     </g>\n     <g id=\"line2d_10\">\n      <g>\n       <use style=\"stroke:#000000;stroke-width:0.8;\" x=\"311.62125\" xlink:href=\"#mb20a91d393\" y=\"239.758125\"/>\n      </g>\n     </g>\n     <g id=\"text_5\">\n      <!-- 0.8 -->\n      <defs>\n       <path d=\"M 31.78125 34.625 \nQ 24.75 34.625 20.71875 30.859375 \nQ 16.703125 27.09375 16.703125 20.515625 \nQ 16.703125 13.921875 20.71875 10.15625 \nQ 24.75 6.390625 31.78125 6.390625 \nQ 38.8125 6.390625 42.859375 10.171875 \nQ 46.921875 13.96875 46.921875 20.515625 \nQ 46.921875 27.09375 42.890625 30.859375 \nQ 38.875 34.625 31.78125 34.625 \nz\nM 21.921875 38.8125 \nQ 15.578125 40.375 12.03125 44.71875 \nQ 8.5 49.078125 8.5 55.328125 \nQ 8.5 64.0625 14.71875 69.140625 \nQ 20.953125 74.21875 31.78125 74.21875 \nQ 42.671875 74.21875 48.875 69.140625 \nQ 55.078125 64.0625 55.078125 55.328125 \nQ 55.078125 49.078125 51.53125 44.71875 \nQ 48 40.375 41.703125 38.8125 \nQ 48.828125 37.15625 52.796875 32.3125 \nQ 56.78125 27.484375 56.78125 20.515625 \nQ 56.78125 9.90625 50.3125 4.234375 \nQ 43.84375 -1.421875 31.78125 -1.421875 \nQ 19.734375 -1.421875 13.25 4.234375 \nQ 6.78125 9.90625 6.78125 20.515625 \nQ 6.78125 27.484375 10.78125 32.3125 \nQ 14.796875 37.15625 21.921875 38.8125 \nz\nM 18.3125 54.390625 \nQ 18.3125 48.734375 21.84375 45.5625 \nQ 25.390625 42.390625 31.78125 42.390625 \nQ 38.140625 42.390625 41.71875 45.5625 \nQ 45.3125 48.734375 45.3125 54.390625 \nQ 45.3125 60.0625 41.71875 63.234375 \nQ 38.140625 66.40625 31.78125 66.40625 \nQ 25.390625 66.40625 21.84375 63.234375 \nQ 18.3125 60.0625 18.3125 54.390625 \nz\n\" id=\"DejaVuSans-56\"/>\n      </defs>\n      <g transform=\"translate(303.669688 254.356562)scale(0.1 -0.1)\">\n       <use xlink:href=\"#DejaVuSans-48\"/>\n       <use x=\"63.623047\" xlink:href=\"#DejaVuSans-46\"/>\n       <use x=\"95.410156\" xlink:href=\"#DejaVuSans-56\"/>\n      </g>\n     </g>\n    </g>\n    <g id=\"xtick_6\">\n     <g id=\"line2d_11\">\n      <path clip-path=\"url(#p8914ab46fc)\" d=\"M 378.58125 239.758125 \nL 378.58125 22.318125 \n\" style=\"fill:none;stroke:#b0b0b0;stroke-linecap:square;stroke-width:0.8;\"/>\n     </g>\n     <g id=\"line2d_12\">\n      <g>\n       <use style=\"stroke:#000000;stroke-width:0.8;\" x=\"378.58125\" xlink:href=\"#mb20a91d393\" y=\"239.758125\"/>\n      </g>\n     </g>\n     <g id=\"text_6\">\n      <!-- 1.0 -->\n      <defs>\n       <path d=\"M 12.40625 8.296875 \nL 28.515625 8.296875 \nL 28.515625 63.921875 \nL 10.984375 60.40625 \nL 10.984375 69.390625 \nL 28.421875 72.90625 \nL 38.28125 72.90625 \nL 38.28125 8.296875 \nL 54.390625 8.296875 \nL 54.390625 0 \nL 12.40625 0 \nz\n\" id=\"DejaVuSans-49\"/>\n      </defs>\n      <g transform=\"translate(370.629687 254.356562)scale(0.1 -0.1)\">\n       <use xlink:href=\"#DejaVuSans-49\"/>\n       <use x=\"63.623047\" xlink:href=\"#DejaVuSans-46\"/>\n       <use x=\"95.410156\" xlink:href=\"#DejaVuSans-48\"/>\n      </g>\n     </g>\n    </g>\n    <g id=\"text_7\">\n     <!-- False Positive Rate (1 - Specificity) -->\n     <defs>\n      <path d=\"M 9.8125 72.90625 \nL 51.703125 72.90625 \nL 51.703125 64.59375 \nL 19.671875 64.59375 \nL 19.671875 43.109375 \nL 48.578125 43.109375 \nL 48.578125 34.8125 \nL 19.671875 34.8125 \nL 19.671875 0 \nL 9.8125 0 \nz\n\" id=\"DejaVuSans-70\"/>\n      <path d=\"M 34.28125 27.484375 \nQ 23.390625 27.484375 19.1875 25 \nQ 14.984375 22.515625 14.984375 16.5 \nQ 14.984375 11.71875 18.140625 8.90625 \nQ 21.296875 6.109375 26.703125 6.109375 \nQ 34.1875 6.109375 38.703125 11.40625 \nQ 43.21875 16.703125 43.21875 25.484375 \nL 43.21875 27.484375 \nz\nM 52.203125 31.203125 \nL 52.203125 0 \nL 43.21875 0 \nL 43.21875 8.296875 \nQ 40.140625 3.328125 35.546875 0.953125 \nQ 30.953125 -1.421875 24.3125 -1.421875 \nQ 15.921875 -1.421875 10.953125 3.296875 \nQ 6 8.015625 6 15.921875 \nQ 6 25.140625 12.171875 29.828125 \nQ 18.359375 34.515625 30.609375 34.515625 \nL 43.21875 34.515625 \nL 43.21875 35.40625 \nQ 43.21875 41.609375 39.140625 45 \nQ 35.0625 48.390625 27.6875 48.390625 \nQ 23 48.390625 18.546875 47.265625 \nQ 14.109375 46.140625 10.015625 43.890625 \nL 10.015625 52.203125 \nQ 14.9375 54.109375 19.578125 55.046875 \nQ 24.21875 56 28.609375 56 \nQ 40.484375 56 46.34375 49.84375 \nQ 52.203125 43.703125 52.203125 31.203125 \nz\n\" id=\"DejaVuSans-97\"/>\n      <path d=\"M 9.421875 75.984375 \nL 18.40625 75.984375 \nL 18.40625 0 \nL 9.421875 0 \nz\n\" id=\"DejaVuSans-108\"/>\n      <path d=\"M 44.28125 53.078125 \nL 44.28125 44.578125 \nQ 40.484375 46.53125 36.375 47.5 \nQ 32.28125 48.484375 27.875 48.484375 \nQ 21.1875 48.484375 17.84375 46.4375 \nQ 14.5 44.390625 14.5 40.28125 \nQ 14.5 37.15625 16.890625 35.375 \nQ 19.28125 33.59375 26.515625 31.984375 \nL 29.59375 31.296875 \nQ 39.15625 29.25 43.1875 25.515625 \nQ 47.21875 21.78125 47.21875 15.09375 \nQ 47.21875 7.46875 41.1875 3.015625 \nQ 35.15625 -1.421875 24.609375 -1.421875 \nQ 20.21875 -1.421875 15.453125 -0.5625 \nQ 10.6875 0.296875 5.421875 2 \nL 5.421875 11.28125 \nQ 10.40625 8.6875 15.234375 7.390625 \nQ 20.0625 6.109375 24.8125 6.109375 \nQ 31.15625 6.109375 34.5625 8.28125 \nQ 37.984375 10.453125 37.984375 14.40625 \nQ 37.984375 18.0625 35.515625 20.015625 \nQ 33.0625 21.96875 24.703125 23.78125 \nL 21.578125 24.515625 \nQ 13.234375 26.265625 9.515625 29.90625 \nQ 5.8125 33.546875 5.8125 39.890625 \nQ 5.8125 47.609375 11.28125 51.796875 \nQ 16.75 56 26.8125 56 \nQ 31.78125 56 36.171875 55.265625 \nQ 40.578125 54.546875 44.28125 53.078125 \nz\n\" id=\"DejaVuSans-115\"/>\n      <path d=\"M 56.203125 29.59375 \nL 56.203125 25.203125 \nL 14.890625 25.203125 \nQ 15.484375 15.921875 20.484375 11.0625 \nQ 25.484375 6.203125 34.421875 6.203125 \nQ 39.59375 6.203125 44.453125 7.46875 \nQ 49.3125 8.734375 54.109375 11.28125 \nL 54.109375 2.78125 \nQ 49.265625 0.734375 44.1875 -0.34375 \nQ 39.109375 -1.421875 33.890625 -1.421875 \nQ 20.796875 -1.421875 13.15625 6.1875 \nQ 5.515625 13.8125 5.515625 26.8125 \nQ 5.515625 40.234375 12.765625 48.109375 \nQ 20.015625 56 32.328125 56 \nQ 43.359375 56 49.78125 48.890625 \nQ 56.203125 41.796875 56.203125 29.59375 \nz\nM 47.21875 32.234375 \nQ 47.125 39.59375 43.09375 43.984375 \nQ 39.0625 48.390625 32.421875 48.390625 \nQ 24.90625 48.390625 20.390625 44.140625 \nQ 15.875 39.890625 15.1875 32.171875 \nz\n\" id=\"DejaVuSans-101\"/>\n      <path id=\"DejaVuSans-32\"/>\n      <path d=\"M 19.671875 64.796875 \nL 19.671875 37.40625 \nL 32.078125 37.40625 \nQ 38.96875 37.40625 42.71875 40.96875 \nQ 46.484375 44.53125 46.484375 51.125 \nQ 46.484375 57.671875 42.71875 61.234375 \nQ 38.96875 64.796875 32.078125 64.796875 \nz\nM 9.8125 72.90625 \nL 32.078125 72.90625 \nQ 44.34375 72.90625 50.609375 67.359375 \nQ 56.890625 61.8125 56.890625 51.125 \nQ 56.890625 40.328125 50.609375 34.8125 \nQ 44.34375 29.296875 32.078125 29.296875 \nL 19.671875 29.296875 \nL 19.671875 0 \nL 9.8125 0 \nz\n\" id=\"DejaVuSans-80\"/>\n      <path d=\"M 30.609375 48.390625 \nQ 23.390625 48.390625 19.1875 42.75 \nQ 14.984375 37.109375 14.984375 27.296875 \nQ 14.984375 17.484375 19.15625 11.84375 \nQ 23.34375 6.203125 30.609375 6.203125 \nQ 37.796875 6.203125 41.984375 11.859375 \nQ 46.1875 17.53125 46.1875 27.296875 \nQ 46.1875 37.015625 41.984375 42.703125 \nQ 37.796875 48.390625 30.609375 48.390625 \nz\nM 30.609375 56 \nQ 42.328125 56 49.015625 48.375 \nQ 55.71875 40.765625 55.71875 27.296875 \nQ 55.71875 13.875 49.015625 6.21875 \nQ 42.328125 -1.421875 30.609375 -1.421875 \nQ 18.84375 -1.421875 12.171875 6.21875 \nQ 5.515625 13.875 5.515625 27.296875 \nQ 5.515625 40.765625 12.171875 48.375 \nQ 18.84375 56 30.609375 56 \nz\n\" id=\"DejaVuSans-111\"/>\n      <path d=\"M 9.421875 54.6875 \nL 18.40625 54.6875 \nL 18.40625 0 \nL 9.421875 0 \nz\nM 9.421875 75.984375 \nL 18.40625 75.984375 \nL 18.40625 64.59375 \nL 9.421875 64.59375 \nz\n\" id=\"DejaVuSans-105\"/>\n      <path d=\"M 18.3125 70.21875 \nL 18.3125 54.6875 \nL 36.8125 54.6875 \nL 36.8125 47.703125 \nL 18.3125 47.703125 \nL 18.3125 18.015625 \nQ 18.3125 11.328125 20.140625 9.421875 \nQ 21.96875 7.515625 27.59375 7.515625 \nL 36.8125 7.515625 \nL 36.8125 0 \nL 27.59375 0 \nQ 17.1875 0 13.234375 3.875 \nQ 9.28125 7.765625 9.28125 18.015625 \nL 9.28125 47.703125 \nL 2.6875 47.703125 \nL 2.6875 54.6875 \nL 9.28125 54.6875 \nL 9.28125 70.21875 \nz\n\" id=\"DejaVuSans-116\"/>\n      <path d=\"M 2.984375 54.6875 \nL 12.5 54.6875 \nL 29.59375 8.796875 \nL 46.6875 54.6875 \nL 56.203125 54.6875 \nL 35.6875 0 \nL 23.484375 0 \nz\n\" id=\"DejaVuSans-118\"/>\n      <path d=\"M 44.390625 34.1875 \nQ 47.5625 33.109375 50.5625 29.59375 \nQ 53.5625 26.078125 56.59375 19.921875 \nL 66.609375 0 \nL 56 0 \nL 46.6875 18.703125 \nQ 43.0625 26.03125 39.671875 28.421875 \nQ 36.28125 30.8125 30.421875 30.8125 \nL 19.671875 30.8125 \nL 19.671875 0 \nL 9.8125 0 \nL 9.8125 72.90625 \nL 32.078125 72.90625 \nQ 44.578125 72.90625 50.734375 67.671875 \nQ 56.890625 62.453125 56.890625 51.90625 \nQ 56.890625 45.015625 53.6875 40.46875 \nQ 50.484375 35.9375 44.390625 34.1875 \nz\nM 19.671875 64.796875 \nL 19.671875 38.921875 \nL 32.078125 38.921875 \nQ 39.203125 38.921875 42.84375 42.21875 \nQ 46.484375 45.515625 46.484375 51.90625 \nQ 46.484375 58.296875 42.84375 61.546875 \nQ 39.203125 64.796875 32.078125 64.796875 \nz\n\" id=\"DejaVuSans-82\"/>\n      <path d=\"M 31 75.875 \nQ 24.46875 64.65625 21.28125 53.65625 \nQ 18.109375 42.671875 18.109375 31.390625 \nQ 18.109375 20.125 21.3125 9.0625 \nQ 24.515625 -2 31 -13.1875 \nL 23.1875 -13.1875 \nQ 15.875 -1.703125 12.234375 9.375 \nQ 8.59375 20.453125 8.59375 31.390625 \nQ 8.59375 42.28125 12.203125 53.3125 \nQ 15.828125 64.359375 23.1875 75.875 \nz\n\" id=\"DejaVuSans-40\"/>\n      <path d=\"M 4.890625 31.390625 \nL 31.203125 31.390625 \nL 31.203125 23.390625 \nL 4.890625 23.390625 \nz\n\" id=\"DejaVuSans-45\"/>\n      <path d=\"M 53.515625 70.515625 \nL 53.515625 60.890625 \nQ 47.90625 63.578125 42.921875 64.890625 \nQ 37.9375 66.21875 33.296875 66.21875 \nQ 25.25 66.21875 20.875 63.09375 \nQ 16.5 59.96875 16.5 54.203125 \nQ 16.5 49.359375 19.40625 46.890625 \nQ 22.3125 44.4375 30.421875 42.921875 \nL 36.375 41.703125 \nQ 47.40625 39.59375 52.65625 34.296875 \nQ 57.90625 29 57.90625 20.125 \nQ 57.90625 9.515625 50.796875 4.046875 \nQ 43.703125 -1.421875 29.984375 -1.421875 \nQ 24.8125 -1.421875 18.96875 -0.25 \nQ 13.140625 0.921875 6.890625 3.21875 \nL 6.890625 13.375 \nQ 12.890625 10.015625 18.65625 8.296875 \nQ 24.421875 6.59375 29.984375 6.59375 \nQ 38.421875 6.59375 43.015625 9.90625 \nQ 47.609375 13.234375 47.609375 19.390625 \nQ 47.609375 24.75 44.3125 27.78125 \nQ 41.015625 30.8125 33.5 32.328125 \nL 27.484375 33.5 \nQ 16.453125 35.6875 11.515625 40.375 \nQ 6.59375 45.0625 6.59375 53.421875 \nQ 6.59375 63.09375 13.40625 68.65625 \nQ 20.21875 74.21875 32.171875 74.21875 \nQ 37.3125 74.21875 42.625 73.28125 \nQ 47.953125 72.359375 53.515625 70.515625 \nz\n\" id=\"DejaVuSans-83\"/>\n      <path d=\"M 18.109375 8.203125 \nL 18.109375 -20.796875 \nL 9.078125 -20.796875 \nL 9.078125 54.6875 \nL 18.109375 54.6875 \nL 18.109375 46.390625 \nQ 20.953125 51.265625 25.265625 53.625 \nQ 29.59375 56 35.59375 56 \nQ 45.5625 56 51.78125 48.09375 \nQ 58.015625 40.1875 58.015625 27.296875 \nQ 58.015625 14.40625 51.78125 6.484375 \nQ 45.5625 -1.421875 35.59375 -1.421875 \nQ 29.59375 -1.421875 25.265625 0.953125 \nQ 20.953125 3.328125 18.109375 8.203125 \nz\nM 48.6875 27.296875 \nQ 48.6875 37.203125 44.609375 42.84375 \nQ 40.53125 48.484375 33.40625 48.484375 \nQ 26.265625 48.484375 22.1875 42.84375 \nQ 18.109375 37.203125 18.109375 27.296875 \nQ 18.109375 17.390625 22.1875 11.75 \nQ 26.265625 6.109375 33.40625 6.109375 \nQ 40.53125 6.109375 44.609375 11.75 \nQ 48.6875 17.390625 48.6875 27.296875 \nz\n\" id=\"DejaVuSans-112\"/>\n      <path d=\"M 48.78125 52.59375 \nL 48.78125 44.1875 \nQ 44.96875 46.296875 41.140625 47.34375 \nQ 37.3125 48.390625 33.40625 48.390625 \nQ 24.65625 48.390625 19.8125 42.84375 \nQ 14.984375 37.3125 14.984375 27.296875 \nQ 14.984375 17.28125 19.8125 11.734375 \nQ 24.65625 6.203125 33.40625 6.203125 \nQ 37.3125 6.203125 41.140625 7.25 \nQ 44.96875 8.296875 48.78125 10.40625 \nL 48.78125 2.09375 \nQ 45.015625 0.34375 40.984375 -0.53125 \nQ 36.96875 -1.421875 32.421875 -1.421875 \nQ 20.0625 -1.421875 12.78125 6.34375 \nQ 5.515625 14.109375 5.515625 27.296875 \nQ 5.515625 40.671875 12.859375 48.328125 \nQ 20.21875 56 33.015625 56 \nQ 37.15625 56 41.109375 55.140625 \nQ 45.0625 54.296875 48.78125 52.59375 \nz\n\" id=\"DejaVuSans-99\"/>\n      <path d=\"M 37.109375 75.984375 \nL 37.109375 68.5 \nL 28.515625 68.5 \nQ 23.6875 68.5 21.796875 66.546875 \nQ 19.921875 64.59375 19.921875 59.515625 \nL 19.921875 54.6875 \nL 34.71875 54.6875 \nL 34.71875 47.703125 \nL 19.921875 47.703125 \nL 19.921875 0 \nL 10.890625 0 \nL 10.890625 47.703125 \nL 2.296875 47.703125 \nL 2.296875 54.6875 \nL 10.890625 54.6875 \nL 10.890625 58.5 \nQ 10.890625 67.625 15.140625 71.796875 \nQ 19.390625 75.984375 28.609375 75.984375 \nz\n\" id=\"DejaVuSans-102\"/>\n      <path d=\"M 32.171875 -5.078125 \nQ 28.375 -14.84375 24.75 -17.8125 \nQ 21.140625 -20.796875 15.09375 -20.796875 \nL 7.90625 -20.796875 \nL 7.90625 -13.28125 \nL 13.1875 -13.28125 \nQ 16.890625 -13.28125 18.9375 -11.515625 \nQ 21 -9.765625 23.484375 -3.21875 \nL 25.09375 0.875 \nL 2.984375 54.6875 \nL 12.5 54.6875 \nL 29.59375 11.921875 \nL 46.6875 54.6875 \nL 56.203125 54.6875 \nz\n\" id=\"DejaVuSans-121\"/>\n      <path d=\"M 8.015625 75.875 \nL 15.828125 75.875 \nQ 23.140625 64.359375 26.78125 53.3125 \nQ 30.421875 42.28125 30.421875 31.390625 \nQ 30.421875 20.453125 26.78125 9.375 \nQ 23.140625 -1.703125 15.828125 -13.1875 \nL 8.015625 -13.1875 \nQ 14.5 -2 17.703125 9.0625 \nQ 20.90625 20.125 20.90625 31.390625 \nQ 20.90625 42.671875 17.703125 53.65625 \nQ 14.5 64.65625 8.015625 75.875 \nz\n\" id=\"DejaVuSans-41\"/>\n     </defs>\n     <g transform=\"translate(124.551563 268.034687)scale(0.1 -0.1)\">\n      <use xlink:href=\"#DejaVuSans-70\"/>\n      <use x=\"57.378906\" xlink:href=\"#DejaVuSans-97\"/>\n      <use x=\"118.658203\" xlink:href=\"#DejaVuSans-108\"/>\n      <use x=\"146.441406\" xlink:href=\"#DejaVuSans-115\"/>\n      <use x=\"198.541016\" xlink:href=\"#DejaVuSans-101\"/>\n      <use x=\"260.064453\" xlink:href=\"#DejaVuSans-32\"/>\n      <use x=\"291.851562\" xlink:href=\"#DejaVuSans-80\"/>\n      <use x=\"352.107422\" xlink:href=\"#DejaVuSans-111\"/>\n      <use x=\"413.289062\" xlink:href=\"#DejaVuSans-115\"/>\n      <use x=\"465.388672\" xlink:href=\"#DejaVuSans-105\"/>\n      <use x=\"493.171875\" xlink:href=\"#DejaVuSans-116\"/>\n      <use x=\"532.380859\" xlink:href=\"#DejaVuSans-105\"/>\n      <use x=\"560.164062\" xlink:href=\"#DejaVuSans-118\"/>\n      <use x=\"619.34375\" xlink:href=\"#DejaVuSans-101\"/>\n      <use x=\"680.867188\" xlink:href=\"#DejaVuSans-32\"/>\n      <use x=\"712.654297\" xlink:href=\"#DejaVuSans-82\"/>\n      <use x=\"782.105469\" xlink:href=\"#DejaVuSans-97\"/>\n      <use x=\"843.384766\" xlink:href=\"#DejaVuSans-116\"/>\n      <use x=\"882.59375\" xlink:href=\"#DejaVuSans-101\"/>\n      <use x=\"944.117188\" xlink:href=\"#DejaVuSans-32\"/>\n      <use x=\"975.904297\" xlink:href=\"#DejaVuSans-40\"/>\n      <use x=\"1014.917969\" xlink:href=\"#DejaVuSans-49\"/>\n      <use x=\"1078.541016\" xlink:href=\"#DejaVuSans-32\"/>\n      <use x=\"1110.328125\" xlink:href=\"#DejaVuSans-45\"/>\n      <use x=\"1146.412109\" xlink:href=\"#DejaVuSans-32\"/>\n      <use x=\"1178.199219\" xlink:href=\"#DejaVuSans-83\"/>\n      <use x=\"1241.675781\" xlink:href=\"#DejaVuSans-112\"/>\n      <use x=\"1305.152344\" xlink:href=\"#DejaVuSans-101\"/>\n      <use x=\"1366.675781\" xlink:href=\"#DejaVuSans-99\"/>\n      <use x=\"1421.65625\" xlink:href=\"#DejaVuSans-105\"/>\n      <use x=\"1449.439453\" xlink:href=\"#DejaVuSans-102\"/>\n      <use x=\"1484.644531\" xlink:href=\"#DejaVuSans-105\"/>\n      <use x=\"1512.427734\" xlink:href=\"#DejaVuSans-99\"/>\n      <use x=\"1567.408203\" xlink:href=\"#DejaVuSans-105\"/>\n      <use x=\"1595.191406\" xlink:href=\"#DejaVuSans-116\"/>\n      <use x=\"1634.400391\" xlink:href=\"#DejaVuSans-121\"/>\n      <use x=\"1693.580078\" xlink:href=\"#DejaVuSans-41\"/>\n     </g>\n    </g>\n   </g>\n   <g id=\"matplotlib.axis_2\">\n    <g id=\"ytick_1\">\n     <g id=\"line2d_13\">\n      <path clip-path=\"url(#p8914ab46fc)\" d=\"M 43.78125 239.758125 \nL 378.58125 239.758125 \n\" style=\"fill:none;stroke:#b0b0b0;stroke-linecap:square;stroke-width:0.8;\"/>\n     </g>\n     <g id=\"line2d_14\">\n      <defs>\n       <path d=\"M 0 0 \nL -3.5 0 \n\" id=\"mbf9ed4a060\" style=\"stroke:#000000;stroke-width:0.8;\"/>\n      </defs>\n      <g>\n       <use style=\"stroke:#000000;stroke-width:0.8;\" x=\"43.78125\" xlink:href=\"#mbf9ed4a060\" y=\"239.758125\"/>\n      </g>\n     </g>\n     <g id=\"text_8\">\n      <!-- 0.0 -->\n      <g transform=\"translate(20.878125 243.557344)scale(0.1 -0.1)\">\n       <use xlink:href=\"#DejaVuSans-48\"/>\n       <use x=\"63.623047\" xlink:href=\"#DejaVuSans-46\"/>\n       <use x=\"95.410156\" xlink:href=\"#DejaVuSans-48\"/>\n      </g>\n     </g>\n    </g>\n    <g id=\"ytick_2\">\n     <g id=\"line2d_15\">\n      <path clip-path=\"url(#p8914ab46fc)\" d=\"M 43.78125 196.270125 \nL 378.58125 196.270125 \n\" style=\"fill:none;stroke:#b0b0b0;stroke-linecap:square;stroke-width:0.8;\"/>\n     </g>\n     <g id=\"line2d_16\">\n      <g>\n       <use style=\"stroke:#000000;stroke-width:0.8;\" x=\"43.78125\" xlink:href=\"#mbf9ed4a060\" y=\"196.270125\"/>\n      </g>\n     </g>\n     <g id=\"text_9\">\n      <!-- 0.2 -->\n      <g transform=\"translate(20.878125 200.069344)scale(0.1 -0.1)\">\n       <use xlink:href=\"#DejaVuSans-48\"/>\n       <use x=\"63.623047\" xlink:href=\"#DejaVuSans-46\"/>\n       <use x=\"95.410156\" xlink:href=\"#DejaVuSans-50\"/>\n      </g>\n     </g>\n    </g>\n    <g id=\"ytick_3\">\n     <g id=\"line2d_17\">\n      <path clip-path=\"url(#p8914ab46fc)\" d=\"M 43.78125 152.782125 \nL 378.58125 152.782125 \n\" style=\"fill:none;stroke:#b0b0b0;stroke-linecap:square;stroke-width:0.8;\"/>\n     </g>\n     <g id=\"line2d_18\">\n      <g>\n       <use style=\"stroke:#000000;stroke-width:0.8;\" x=\"43.78125\" xlink:href=\"#mbf9ed4a060\" y=\"152.782125\"/>\n      </g>\n     </g>\n     <g id=\"text_10\">\n      <!-- 0.4 -->\n      <g transform=\"translate(20.878125 156.581344)scale(0.1 -0.1)\">\n       <use xlink:href=\"#DejaVuSans-48\"/>\n       <use x=\"63.623047\" xlink:href=\"#DejaVuSans-46\"/>\n       <use x=\"95.410156\" xlink:href=\"#DejaVuSans-52\"/>\n      </g>\n     </g>\n    </g>\n    <g id=\"ytick_4\">\n     <g id=\"line2d_19\">\n      <path clip-path=\"url(#p8914ab46fc)\" d=\"M 43.78125 109.294125 \nL 378.58125 109.294125 \n\" style=\"fill:none;stroke:#b0b0b0;stroke-linecap:square;stroke-width:0.8;\"/>\n     </g>\n     <g id=\"line2d_20\">\n      <g>\n       <use style=\"stroke:#000000;stroke-width:0.8;\" x=\"43.78125\" xlink:href=\"#mbf9ed4a060\" y=\"109.294125\"/>\n      </g>\n     </g>\n     <g id=\"text_11\">\n      <!-- 0.6 -->\n      <g transform=\"translate(20.878125 113.093344)scale(0.1 -0.1)\">\n       <use xlink:href=\"#DejaVuSans-48\"/>\n       <use x=\"63.623047\" xlink:href=\"#DejaVuSans-46\"/>\n       <use x=\"95.410156\" xlink:href=\"#DejaVuSans-54\"/>\n      </g>\n     </g>\n    </g>\n    <g id=\"ytick_5\">\n     <g id=\"line2d_21\">\n      <path clip-path=\"url(#p8914ab46fc)\" d=\"M 43.78125 65.806125 \nL 378.58125 65.806125 \n\" style=\"fill:none;stroke:#b0b0b0;stroke-linecap:square;stroke-width:0.8;\"/>\n     </g>\n     <g id=\"line2d_22\">\n      <g>\n       <use style=\"stroke:#000000;stroke-width:0.8;\" x=\"43.78125\" xlink:href=\"#mbf9ed4a060\" y=\"65.806125\"/>\n      </g>\n     </g>\n     <g id=\"text_12\">\n      <!-- 0.8 -->\n      <g transform=\"translate(20.878125 69.605344)scale(0.1 -0.1)\">\n       <use xlink:href=\"#DejaVuSans-48\"/>\n       <use x=\"63.623047\" xlink:href=\"#DejaVuSans-46\"/>\n       <use x=\"95.410156\" xlink:href=\"#DejaVuSans-56\"/>\n      </g>\n     </g>\n    </g>\n    <g id=\"ytick_6\">\n     <g id=\"line2d_23\">\n      <path clip-path=\"url(#p8914ab46fc)\" d=\"M 43.78125 22.318125 \nL 378.58125 22.318125 \n\" style=\"fill:none;stroke:#b0b0b0;stroke-linecap:square;stroke-width:0.8;\"/>\n     </g>\n     <g id=\"line2d_24\">\n      <g>\n       <use style=\"stroke:#000000;stroke-width:0.8;\" x=\"43.78125\" xlink:href=\"#mbf9ed4a060\" y=\"22.318125\"/>\n      </g>\n     </g>\n     <g id=\"text_13\">\n      <!-- 1.0 -->\n      <g transform=\"translate(20.878125 26.117344)scale(0.1 -0.1)\">\n       <use xlink:href=\"#DejaVuSans-49\"/>\n       <use x=\"63.623047\" xlink:href=\"#DejaVuSans-46\"/>\n       <use x=\"95.410156\" xlink:href=\"#DejaVuSans-48\"/>\n      </g>\n     </g>\n    </g>\n    <g id=\"text_14\">\n     <!-- True Positive Rate (Sensitivity) -->\n     <defs>\n      <path d=\"M -0.296875 72.90625 \nL 61.375 72.90625 \nL 61.375 64.59375 \nL 35.5 64.59375 \nL 35.5 0 \nL 25.59375 0 \nL 25.59375 64.59375 \nL -0.296875 64.59375 \nz\n\" id=\"DejaVuSans-84\"/>\n      <path d=\"M 41.109375 46.296875 \nQ 39.59375 47.171875 37.8125 47.578125 \nQ 36.03125 48 33.890625 48 \nQ 26.265625 48 22.1875 43.046875 \nQ 18.109375 38.09375 18.109375 28.8125 \nL 18.109375 0 \nL 9.078125 0 \nL 9.078125 54.6875 \nL 18.109375 54.6875 \nL 18.109375 46.1875 \nQ 20.953125 51.171875 25.484375 53.578125 \nQ 30.03125 56 36.53125 56 \nQ 37.453125 56 38.578125 55.875 \nQ 39.703125 55.765625 41.0625 55.515625 \nz\n\" id=\"DejaVuSans-114\"/>\n      <path d=\"M 8.5 21.578125 \nL 8.5 54.6875 \nL 17.484375 54.6875 \nL 17.484375 21.921875 \nQ 17.484375 14.15625 20.5 10.265625 \nQ 23.53125 6.390625 29.59375 6.390625 \nQ 36.859375 6.390625 41.078125 11.03125 \nQ 45.3125 15.671875 45.3125 23.6875 \nL 45.3125 54.6875 \nL 54.296875 54.6875 \nL 54.296875 0 \nL 45.3125 0 \nL 45.3125 8.40625 \nQ 42.046875 3.421875 37.71875 1 \nQ 33.40625 -1.421875 27.6875 -1.421875 \nQ 18.265625 -1.421875 13.375 4.4375 \nQ 8.5 10.296875 8.5 21.578125 \nz\nM 31.109375 56 \nz\n\" id=\"DejaVuSans-117\"/>\n      <path d=\"M 54.890625 33.015625 \nL 54.890625 0 \nL 45.90625 0 \nL 45.90625 32.71875 \nQ 45.90625 40.484375 42.875 44.328125 \nQ 39.84375 48.1875 33.796875 48.1875 \nQ 26.515625 48.1875 22.3125 43.546875 \nQ 18.109375 38.921875 18.109375 30.90625 \nL 18.109375 0 \nL 9.078125 0 \nL 9.078125 54.6875 \nL 18.109375 54.6875 \nL 18.109375 46.1875 \nQ 21.34375 51.125 25.703125 53.5625 \nQ 30.078125 56 35.796875 56 \nQ 45.21875 56 50.046875 50.171875 \nQ 54.890625 44.34375 54.890625 33.015625 \nz\n\" id=\"DejaVuSans-110\"/>\n     </defs>\n     <g transform=\"translate(14.798438 208.105312)rotate(-90)scale(0.1 -0.1)\">\n      <use xlink:href=\"#DejaVuSans-84\"/>\n      <use x=\"60.865234\" xlink:href=\"#DejaVuSans-114\"/>\n      <use x=\"101.978516\" xlink:href=\"#DejaVuSans-117\"/>\n      <use x=\"165.357422\" xlink:href=\"#DejaVuSans-101\"/>\n      <use x=\"226.880859\" xlink:href=\"#DejaVuSans-32\"/>\n      <use x=\"258.667969\" xlink:href=\"#DejaVuSans-80\"/>\n      <use x=\"318.923828\" xlink:href=\"#DejaVuSans-111\"/>\n      <use x=\"380.105469\" xlink:href=\"#DejaVuSans-115\"/>\n      <use x=\"432.205078\" xlink:href=\"#DejaVuSans-105\"/>\n      <use x=\"459.988281\" xlink:href=\"#DejaVuSans-116\"/>\n      <use x=\"499.197266\" xlink:href=\"#DejaVuSans-105\"/>\n      <use x=\"526.980469\" xlink:href=\"#DejaVuSans-118\"/>\n      <use x=\"586.160156\" xlink:href=\"#DejaVuSans-101\"/>\n      <use x=\"647.683594\" xlink:href=\"#DejaVuSans-32\"/>\n      <use x=\"679.470703\" xlink:href=\"#DejaVuSans-82\"/>\n      <use x=\"748.921875\" xlink:href=\"#DejaVuSans-97\"/>\n      <use x=\"810.201172\" xlink:href=\"#DejaVuSans-116\"/>\n      <use x=\"849.410156\" xlink:href=\"#DejaVuSans-101\"/>\n      <use x=\"910.933594\" xlink:href=\"#DejaVuSans-32\"/>\n      <use x=\"942.720703\" xlink:href=\"#DejaVuSans-40\"/>\n      <use x=\"981.734375\" xlink:href=\"#DejaVuSans-83\"/>\n      <use x=\"1045.210938\" xlink:href=\"#DejaVuSans-101\"/>\n      <use x=\"1106.734375\" xlink:href=\"#DejaVuSans-110\"/>\n      <use x=\"1170.113281\" xlink:href=\"#DejaVuSans-115\"/>\n      <use x=\"1222.212891\" xlink:href=\"#DejaVuSans-105\"/>\n      <use x=\"1249.996094\" xlink:href=\"#DejaVuSans-116\"/>\n      <use x=\"1289.205078\" xlink:href=\"#DejaVuSans-105\"/>\n      <use x=\"1316.988281\" xlink:href=\"#DejaVuSans-118\"/>\n      <use x=\"1376.167969\" xlink:href=\"#DejaVuSans-105\"/>\n      <use x=\"1403.951172\" xlink:href=\"#DejaVuSans-116\"/>\n      <use x=\"1443.160156\" xlink:href=\"#DejaVuSans-121\"/>\n      <use x=\"1502.339844\" xlink:href=\"#DejaVuSans-41\"/>\n     </g>\n    </g>\n   </g>\n   <g id=\"line2d_25\">\n    <path clip-path=\"url(#p8914ab46fc)\" d=\"M 43.78125 239.758125 \nL 43.78125 238.433122 \nL 43.961129 238.433122 \nL 44.051069 237.735752 \nL 44.141008 237.596278 \nL 44.230948 237.038382 \nL 44.320887 237.038382 \nL 44.365857 236.341011 \nL 44.500766 236.341011 \nL 44.500766 236.271274 \nL 44.590706 236.1318 \nL 44.635676 235.43443 \nL 44.725615 235.43443 \nL 44.725615 235.294956 \nL 44.860525 235.294956 \nL 44.860525 235.085745 \nL 44.905494 235.085745 \nL 45.040404 235.085745 \nL 45.130343 234.806797 \nL 45.310222 234.388375 \nL 45.400162 232.923898 \nL 45.445132 232.923898 \nL 45.535071 232.226528 \nL 45.580041 232.226528 \nL 45.625011 231.94758 \nL 45.75992 231.94758 \nL 45.80489 230.971262 \nL 45.984769 230.971262 \nL 46.074709 230.55284 \nL 46.119678 230.55284 \nL 46.119678 230.483103 \nL 46.209618 229.646258 \nL 46.254588 229.646258 \nL 46.344527 228.739677 \nL 46.434467 228.66994 \nL 46.524406 227.97257 \nL 46.614346 227.97257 \nL 46.614346 227.414674 \nL 46.749255 227.414674 \nL 46.839195 226.508093 \nL 47.064044 226.089671 \nL 47.153983 225.322564 \nL 47.288893 225.252827 \nL 47.378832 225.043616 \nL 47.423802 225.043616 \nL 47.423802 224.834405 \nL 47.558711 224.834405 \nL 47.648651 223.78835 \nL 47.73859 223.78835 \nL 47.73859 223.509401 \nL 47.8735 223.509401 \nL 47.8735 223.439664 \nL 48.008409 222.951505 \nL 48.098349 222.463346 \nL 48.143319 222.463346 \nL 48.233258 221.556765 \nL 48.278228 221.556765 \nL 48.368167 220.650184 \nL 48.413137 220.650184 \nL 48.503077 219.673866 \nL 48.593016 219.604129 \nL 48.682956 219.185707 \nL 48.772895 219.185707 \nL 48.862835 218.139652 \nL 48.907805 218.139652 \nL 48.952775 217.72123 \nL 49.132654 217.651493 \nL 49.222593 217.302807 \nL 49.267563 217.302807 \nL 49.267563 217.093596 \nL 49.402472 217.093596 \nL 49.492412 216.326489 \nL 49.582351 216.326489 \nL 49.672291 215.768593 \nL 49.717261 215.768593 \nL 49.8072 215.489645 \nL 49.85217 215.489645 \nL 49.85217 215.419908 \nL 49.89714 214.513327 \nL 50.077019 214.513327 \nL 50.166959 213.955431 \nL 50.301868 213.885694 \nL 50.301868 213.74622 \nL 50.481747 213.676483 \nL 50.571687 212.839639 \nL 50.616656 212.769902 \nL 50.706596 212.072532 \nL 50.796535 212.072532 \nL 50.886475 211.65411 \nL 50.931445 211.65411 \nL 51.021384 210.817265 \nL 51.066354 210.817265 \nL 51.156294 210.119895 \nL 51.246233 210.119895 \nL 51.246233 209.980421 \nL 51.336173 209.980421 \nL 51.516052 209.701473 \nL 51.605991 208.864629 \nL 51.785871 208.864629 \nL 51.785871 208.725155 \nL 51.83084 208.725155 \nL 52.100659 208.725155 \nL 52.190599 207.539626 \nL 52.325508 207.469889 \nL 52.415447 206.772519 \nL 52.685266 206.702782 \nL 52.775206 206.354097 \nL 52.910115 206.28436 \nL 53.000055 205.656727 \nL 53.045024 205.656727 \nL 53.045024 205.58699 \nL 53.269873 205.168568 \nL 53.359813 204.819883 \nL 53.449752 204.750146 \nL 53.494722 204.540934 \nL 53.584662 204.540934 \nL 53.674601 204.052775 \nL 53.719571 204.052775 \nL 53.764541 203.843564 \nL 53.809511 203.843564 \nL 53.85448 203.773827 \nL 53.89945 202.867246 \nL 53.98939 202.867246 \nL 54.394118 201.890928 \nL 54.484057 201.890928 \nL 54.573997 201.542243 \nL 54.798846 200.705399 \nL 54.888785 200.147503 \nL 55.113634 200.077766 \nL 55.203574 199.450133 \nL 55.248543 199.450133 \nL 55.338483 198.613289 \nL 55.473392 198.543552 \nL 55.563332 198.334341 \nL 55.653271 198.334341 \nL 55.653271 198.194867 \nL 55.833151 198.125129 \nL 55.92309 197.218548 \nL 56.01303 197.218548 \nL 56.01303 197.148811 \nL 56.102969 196.730389 \nL 56.282848 196.24223 \nL 56.552667 195.614597 \nL 56.642607 195.614597 \nL 56.732546 194.638279 \nL 56.777516 194.638279 \nL 56.777516 194.568542 \nL 56.867456 193.940909 \nL 56.912425 193.940909 \nL 57.002365 193.661961 \nL 57.047335 193.661961 \nL 57.092304 193.173802 \nL 57.227214 193.104065 \nL 57.272184 192.964591 \nL 57.362123 192.964591 \nL 57.452063 192.476432 \nL 57.497032 192.476432 \nL 57.542002 192.197484 \nL 57.631942 192.197484 \nL 57.766851 191.779061 \nL 57.811821 190.942217 \nL 57.9917 190.942217 \nL 58.03667 190.314584 \nL 58.351458 190.314584 \nL 58.351458 190.105373 \nL 58.441398 190.105373 \nL 58.621277 189.686951 \nL 58.846126 189.47774 \nL 58.891096 189.059318 \nL 59.026005 189.059318 \nL 59.026005 188.919844 \nL 59.295824 188.850107 \nL 59.385763 188.640896 \nL 59.565642 188.571159 \nL 59.655582 188.292211 \nL 59.745521 188.013263 \nL 59.835461 187.664578 \nL 59.880431 187.664578 \nL 59.97037 187.315893 \nL 60.01534 187.315893 \nL 60.01534 187.036945 \nL 60.06031 187.036945 \nL 60.195219 187.036945 \nL 60.195219 186.967208 \nL 60.375098 186.68826 \nL 60.465038 186.618523 \nL 60.510008 186.339575 \nL 60.599947 186.339575 \nL 60.689887 185.921153 \nL 60.734856 185.921153 \nL 60.779826 185.642205 \nL 61.139584 185.572468 \nL 61.139584 185.432994 \nL 61.274494 185.432994 \nL 61.454373 184.665886 \nL 61.544312 184.247464 \nL 61.589282 184.247464 \nL 61.679222 183.759305 \nL 61.769161 183.689568 \nL 61.769161 183.619831 \nL 61.94904 183.619831 \nL 61.94904 183.480357 \nL 62.173889 183.41062 \nL 62.218859 183.131672 \nL 62.308799 183.131672 \nL 62.398738 182.434302 \nL 62.578617 182.294828 \nL 62.803466 182.225091 \nL 62.848436 182.085617 \nL 63.073285 182.085617 \nL 63.073285 181.946143 \nL 63.163224 181.946143 \nL 63.343104 181.527721 \nL 63.433043 180.830351 \nL 63.522983 180.690877 \nL 63.567952 180.342192 \nL 63.702862 180.272455 \nL 63.792801 179.575085 \nL 63.927711 179.575085 \nL 63.927711 179.435611 \nL 64.602257 179.365874 \nL 64.692197 179.086926 \nL 64.737167 179.086926 \nL 64.737167 179.017189 \nL 64.917046 178.459292 \nL 65.141895 178.389555 \nL 65.141895 178.110607 \nL 65.456683 178.110607 \nL 65.456683 177.971133 \nL 65.681532 177.901396 \nL 65.771472 177.761922 \nL 65.861411 177.692185 \nL 65.906381 177.3435 \nL 65.951351 177.3435 \nL 66.04129 177.134289 \nL 66.08626 176.855341 \nL 66.13123 176.855341 \nL 66.311109 176.436919 \nL 66.356079 176.157971 \nL 66.446018 176.157971 \nL 66.490988 175.94876 \nL 66.535958 175.94876 \nL 66.760807 175.669812 \nL 66.850746 175.321127 \nL 66.940686 175.321127 \nL 67.030625 174.55402 \nL 67.165535 174.484283 \nL 67.255474 174.275072 \nL 67.300444 174.275072 \nL 67.390384 173.438228 \nL 67.615233 173.438228 \nL 67.705172 172.671121 \nL 67.795112 172.671121 \nL 67.840081 172.461909 \nL 67.974991 172.461909 \nL 68.06493 171.97375 \nL 68.15487 171.904013 \nL 68.244809 171.834276 \nL 68.289779 171.415854 \nL 68.514628 171.346117 \nL 68.559598 171.067169 \nL 68.649537 171.067169 \nL 68.739477 170.788221 \nL 68.919356 170.788221 \nL 69.009296 170.369799 \nL 69.234145 170.300062 \nL 69.234145 170.160588 \nL 69.414024 170.090851 \nL 69.503963 169.532955 \nL 69.638873 169.463218 \nL 69.728812 168.905322 \nL 69.863721 168.835585 \nL 69.863721 168.696111 \nL 70.08857 168.626374 \nL 70.08857 168.556637 \nL 70.358389 168.4869 \nL 70.448329 167.998741 \nL 70.538268 167.929004 \nL 70.942996 167.510582 \nL 70.942996 167.371108 \nL 71.167845 167.301371 \nL 71.167845 167.161897 \nL 71.257785 167.161897 \nL 71.302754 167.022423 \nL 71.617543 166.952686 \nL 72.20215 166.604001 \nL 72.292089 165.976367 \nL 72.426999 165.976367 \nL 72.516938 165.557945 \nL 72.606878 165.488208 \nL 72.606878 165.348734 \nL 72.741787 165.348734 \nL 72.831727 164.860575 \nL 72.966636 164.790838 \nL 72.966636 164.721101 \nL 73.281425 164.651364 \nL 73.371364 164.302679 \nL 73.461304 164.302679 \nL 73.506274 164.093468 \nL 74.090881 164.023731 \nL 74.18082 163.465835 \nL 74.27076 163.326361 \nL 74.31573 162.977676 \nL 74.405669 162.977676 \nL 74.630518 162.628991 \nL 74.990276 162.559254 \nL 75.035246 162.41978 \nL 75.125186 162.41978 \nL 75.125186 162.350043 \nL 75.215125 161.792147 \nL 75.305065 161.72241 \nL 75.395004 161.164514 \nL 75.574883 161.094777 \nL 75.574883 161.02504 \nL 75.889672 161.02504 \nL 75.979611 160.536881 \nL 76.114521 160.536881 \nL 76.20446 159.769773 \nL 76.2944 159.769773 \nL 76.384339 159.490825 \nL 76.744098 159.421088 \nL 76.834037 159.072403 \nL 77.148826 159.072403 \nL 77.193795 158.863192 \nL 77.283735 158.863192 \nL 77.373674 158.305296 \nL 77.508584 157.956611 \nL 77.598523 157.607926 \nL 77.823372 157.538189 \nL 77.823372 157.468452 \nL 78.003251 157.468452 \nL 78.093191 157.189504 \nL 78.27307 157.119767 \nL 78.36301 156.840819 \nL 78.497919 156.771082 \nL 78.812707 156.282923 \nL 78.857677 155.446079 \nL 79.037556 155.376342 \nL 79.127496 155.167131 \nL 79.217435 155.167131 \nL 79.667133 154.400024 \nL 80.071861 154.330287 \nL 80.20677 154.051339 \nL 80.20677 153.911865 \nL 80.431619 153.911865 \nL 80.476589 153.632917 \nL 80.521559 153.632917 \nL 80.791378 153.56318 \nL 80.791378 153.423706 \nL 80.881317 153.423706 \nL 81.061196 153.353968 \nL 81.061196 153.284231 \nL 81.196106 153.284231 \nL 81.286045 153.005283 \nL 81.555864 152.517124 \nL 81.690773 152.447387 \nL 81.735743 152.168439 \nL 81.915622 152.168439 \nL 81.915622 152.028965 \nL 82.050531 152.028965 \nL 82.095501 151.819754 \nL 82.36532 151.819754 \nL 82.41029 151.401332 \nL 82.545199 151.331595 \nL 82.635139 150.494751 \nL 82.815018 150.425014 \nL 82.859987 150.215803 \nL 82.949927 150.215803 \nL 82.949927 150.146066 \nL 82.994897 149.867118 \nL 83.129806 149.867118 \nL 83.174776 149.58817 \nL 83.309685 149.58817 \nL 83.354655 149.030274 \nL 83.489564 148.960537 \nL 83.669443 148.821063 \nL 83.759383 148.542115 \nL 84.029202 148.542115 \nL 84.029202 148.472378 \nL 84.478899 147.286849 \nL 84.568839 147.286849 \nL 84.568839 147.217112 \nL 84.703748 147.077638 \nL 84.703748 146.728952 \nL 84.883627 146.728952 \nL 84.883627 146.659215 \nL 84.973567 146.519741 \nL 85.063507 146.101319 \nL 85.198416 146.031582 \nL 85.288355 146.031582 \nL 85.288355 145.822371 \nL 85.603144 145.822371 \nL 85.603144 145.752634 \nL 85.738053 145.473686 \nL 85.738053 145.055264 \nL 85.872963 145.055264 \nL 85.872963 144.985527 \nL 85.962902 144.706579 \nL 86.052842 144.706579 \nL 86.052842 144.636842 \nL 86.142781 144.288157 \nL 86.277691 144.288157 \nL 86.277691 144.21842 \nL 86.36763 143.660524 \nL 86.36763 143.52105 \nL 86.502539 143.52105 \nL 86.502539 143.242102 \nL 86.817328 143.242102 \nL 86.862298 142.893417 \nL 87.042177 142.82368 \nL 87.132116 142.335521 \nL 87.222056 142.265784 \nL 87.267026 142.12631 \nL 87.671754 142.056573 \nL 87.671754 141.847362 \nL 88.211391 141.149992 \nL 88.301331 141.149992 \nL 88.301331 141.010518 \nL 88.661089 140.940781 \nL 88.751028 140.801307 \nL 88.795998 140.801307 \nL 88.840968 140.522358 \nL 88.885938 140.522358 \nL 89.110787 140.522358 \nL 89.200726 140.313147 \nL 89.380605 140.24341 \nL 89.740363 139.406566 \nL 89.830303 139.336829 \nL 89.920243 139.127618 \nL 90.055152 138.918407 \nL 90.280001 138.778933 \nL 90.45988 138.778933 \nL 90.45988 138.709196 \nL 90.774668 138.499985 \nL 91.134427 138.081563 \nL 91.359276 138.011826 \nL 91.449215 137.523667 \nL 91.674064 137.45393 \nL 91.719034 137.244719 \nL 91.898913 137.244719 \nL 91.988852 136.75656 \nL 92.078792 136.75656 \nL 92.168732 136.198664 \nL 92.258671 136.198664 \nL 92.348611 135.501294 \nL 92.39358 135.501294 \nL 92.39358 135.292083 \nL 92.57346 135.292083 \nL 92.57346 135.152609 \nL 92.753339 135.082872 \nL 92.843278 134.803924 \nL 93.023157 134.524976 \nL 93.068127 134.524976 \nL 93.068127 134.455239 \nL 93.158067 134.106553 \nL 93.697704 133.757868 \nL 93.877583 133.548657 \nL 94.057462 133.199972 \nL 94.147402 132.921024 \nL 94.372251 132.851287 \nL 94.41722 132.502602 \nL 94.46219 132.502602 \nL 94.732009 132.432865 \nL 94.821948 132.153917 \nL 95.046797 132.08418 \nL 95.091767 131.874969 \nL 95.406556 131.805232 \nL 95.406556 131.665758 \nL 95.541465 131.665758 \nL 95.631404 131.456547 \nL 95.721344 131.456547 \nL 95.721344 131.317073 \nL 95.811284 131.317073 \nL 95.991163 131.177599 \nL 96.305951 131.107862 \nL 96.305951 130.898651 \nL 96.350921 130.898651 \nL 96.800619 130.759177 \nL 96.800619 130.480229 \nL 97.025468 130.271018 \nL 97.115407 129.573648 \nL 97.205347 129.573648 \nL 97.250316 129.2947 \nL 97.295286 129.2947 \nL 97.430196 129.155226 \nL 97.700014 129.155226 \nL 97.700014 129.015752 \nL 98.014803 128.946015 \nL 98.104742 128.667067 \nL 98.194682 128.59733 \nL 98.194682 128.527593 \nL 98.239652 128.527593 \nL 99.184017 128.318382 \nL 99.273957 128.039434 \nL 99.363896 127.89996 \nL 99.453836 127.551274 \nL 99.543775 127.551274 \nL 99.633715 127.272326 \nL 99.678685 127.272326 \nL 99.678685 127.132852 \nL 99.948503 127.063115 \nL 99.948503 126.923641 \nL 100.308261 126.853904 \nL 100.443171 126.644693 \nL 100.757959 126.574956 \nL 100.802929 126.435482 \nL 100.892869 126.435482 \nL 100.982808 126.01706 \nL 101.072748 125.947323 \nL 101.072748 125.877586 \nL 101.252627 125.807849 \nL 101.252627 125.738112 \nL 101.342566 125.738112 \nL 101.522445 125.668375 \nL 101.522445 125.598638 \nL 101.747294 125.598638 \nL 101.747294 125.249953 \nL 102.017113 125.249953 \nL 102.062083 124.761794 \nL 102.196992 124.692057 \nL 102.196992 124.62232 \nL 102.376871 124.62232 \nL 102.421841 124.343372 \nL 102.781599 123.994687 \nL 103.096388 123.92495 \nL 103.186327 123.785476 \nL 103.456146 123.715739 \nL 103.546085 123.157843 \nL 103.591055 123.088106 \nL 103.995783 123.018369 \nL 104.040753 122.739421 \nL 104.175662 122.669684 \nL 104.265602 122.390736 \nL 104.490451 122.390736 \nL 104.490451 122.181525 \nL 104.62536 122.181525 \nL 104.62536 122.042051 \nL 104.7153 122.042051 \nL 105.030088 121.972314 \nL 105.030088 121.902577 \nL 105.389846 121.83284 \nL 105.479786 121.484155 \nL 105.749605 121.414417 \nL 105.749605 121.34468 \nL 105.884514 121.34468 \nL 105.974453 120.995995 \nL 106.109363 120.926258 \nL 106.199302 120.507836 \nL 106.514091 120.438099 \nL 106.60403 120.228888 \nL 106.963789 119.601255 \nL 107.098698 119.601255 \nL 107.188638 119.392044 \nL 107.413486 119.322307 \nL 107.458456 119.182833 \nL 107.728275 119.113096 \nL 107.998094 118.834148 \nL 108.043063 118.834148 \nL 108.043063 118.764411 \nL 108.088033 118.694674 \nL 108.088033 118.415726 \nL 108.357852 118.415726 \nL 108.447791 118.136778 \nL 108.67264 118.136778 \nL 108.67264 118.067041 \nL 108.897489 117.788093 \nL 109.077368 117.718356 \nL 109.077368 117.439408 \nL 109.122338 117.439408 \nL 109.841854 116.393353 \nL 109.931794 116.393353 \nL 110.021734 116.253879 \nL 110.156643 116.253879 \nL 110.201613 115.974931 \nL 110.381492 115.974931 \nL 110.471431 115.76572 \nL 110.561371 115.695983 \nL 110.606341 115.486772 \nL 111.011069 115.417035 \nL 111.101008 115.207824 \nL 111.280887 115.207824 \nL 111.280887 115.06835 \nL 111.325857 115.06835 \nL 111.415797 115.06835 \nL 111.505736 114.859138 \nL 111.550706 114.859138 \nL 111.595676 114.649927 \nL 111.730585 114.649927 \nL 111.820525 114.370979 \nL 112.090343 114.161768 \nL 112.360162 114.092031 \nL 112.360162 114.022294 \nL 112.450102 114.022294 \nL 112.71992 113.952557 \nL 112.71992 113.88282 \nL 113.079678 113.813083 \nL 113.079678 113.673609 \nL 113.214588 113.673609 \nL 113.484406 113.255187 \nL 113.619316 113.255187 \nL 113.619316 113.18545 \nL 113.709255 112.906502 \nL 113.709255 112.767028 \nL 113.799195 112.767028 \nL 113.934104 112.627554 \nL 113.979074 112.139395 \nL 114.158953 112.069658 \nL 114.518711 111.651236 \nL 114.653621 111.651236 \nL 114.653621 111.581499 \nL 115.148288 111.302551 \nL 115.283198 111.302551 \nL 115.283198 111.163077 \nL 115.463077 111.09334 \nL 116.362472 109.559126 \nL 116.362472 109.489389 \nL 116.542351 109.419652 \nL 117.216898 108.51307 \nL 117.621626 108.094648 \nL 117.621626 107.885437 \nL 117.981384 107.8157 \nL 117.981384 107.745963 \nL 118.071324 107.745963 \nL 118.341143 107.676226 \nL 118.386112 107.467015 \nL 118.565991 107.467015 \nL 118.565991 107.397278 \nL 118.92575 106.909119 \nL 119.015689 106.909119 \nL 119.015689 106.769645 \nL 119.555327 106.211749 \nL 119.780175 106.142012 \nL 119.825145 106.002538 \nL 120.274843 105.932801 \nL 120.364783 105.793327 \nL 120.544662 105.72359 \nL 120.544662 105.653853 \nL 120.85945 105.584116 \nL 120.94939 105.305168 \nL 120.994359 105.305168 \nL 120.994359 105.165694 \nL 121.039329 105.165694 \nL 121.309148 105.095957 \nL 121.893755 104.886746 \nL 121.893755 104.817009 \nL 122.118604 104.817009 \nL 122.118604 104.538061 \nL 122.478362 104.468324 \nL 122.568302 104.398587 \nL 122.658241 104.119639 \nL 122.92806 104.049902 \nL 122.97303 103.910428 \nL 123.152909 103.840691 \nL 123.152909 103.770954 \nL 123.467697 103.701217 \nL 123.467697 103.63148 \nL 124.007335 103.561743 \nL 124.052304 103.422269 \nL 124.187214 103.422269 \nL 124.367093 103.213058 \nL 124.546972 103.213058 \nL 124.636912 103.073584 \nL 124.726851 103.073584 \nL 124.726851 103.003847 \nL 125.086609 102.306477 \nL 125.086609 102.236739 \nL 125.176549 102.236739 \nL 125.311458 101.957791 \nL 125.626247 101.888054 \nL 126.075944 101.120947 \nL 126.120914 100.632788 \nL 126.300793 100.632788 \nL 126.390733 100.35384 \nL 126.480672 100.074892 \nL 126.570612 99.865681 \nL 126.840431 99.795944 \nL 126.93037 99.65647 \nL 127.02031 99.65647 \nL 127.110249 99.377522 \nL 127.290128 99.307785 \nL 127.380068 99.098574 \nL 127.559947 99.028837 \nL 127.559947 98.9591 \nL 127.649887 98.9591 \nL 128.099584 98.9591 \nL 128.099584 98.819626 \nL 128.144554 98.819626 \nL 128.234494 98.819626 \nL 128.279464 98.470941 \nL 128.414373 98.401204 \nL 128.414373 98.331467 \nL 128.594252 98.331467 \nL 128.684192 98.052519 \nL 128.774131 97.982782 \nL 128.864071 97.773571 \nL 129.178859 97.634097 \nL 129.493648 97.56436 \nL 129.718496 97.355149 \nL 130.033285 97.355149 \nL 130.033285 97.285412 \nL 130.707832 96.797253 \nL 130.707832 96.588042 \nL 130.842741 96.588042 \nL 130.842741 96.518305 \nL 130.887711 96.448568 \nL 131.427348 96.378831 \nL 131.517288 96.239357 \nL 131.832076 96.16962 \nL 131.832076 96.099883 \nL 132.101895 96.030146 \nL 132.146865 95.890672 \nL 132.281774 95.890672 \nL 132.326744 95.611723 \nL 132.416683 95.611723 \nL 132.506623 95.123564 \nL 132.551593 95.123564 \nL 132.551593 94.98409 \nL 132.686502 94.98409 \nL 132.776441 94.774879 \nL 132.911351 94.774879 \nL 132.956321 94.495931 \nL 133.09123 94.495931 \nL 133.09123 94.426194 \nL 133.1362 94.147246 \nL 133.226139 94.147246 \nL 133.226139 93.938035 \nL 133.990625 93.868298 \nL 134.395353 93.449876 \nL 134.485293 93.310402 \nL 134.530263 93.310402 \nL 134.620202 93.101191 \nL 134.755112 92.613032 \nL 134.845051 92.613032 \nL 134.934991 92.19461 \nL 135.0699 92.124873 \nL 135.15984 91.776188 \nL 135.249779 91.706451 \nL 135.294749 91.427503 \nL 135.654507 91.357766 \nL 135.654507 91.288029 \nL 135.744447 91.288029 \nL 135.969296 91.148555 \nL 136.418993 91.078818 \nL 136.463963 90.939344 \nL 136.598873 90.869607 \nL 136.688812 90.590659 \nL 136.733782 90.590659 \nL 136.733782 90.451185 \nL 136.958631 90.381448 \nL 137.04857 90.241974 \nL 137.18348 90.241974 \nL 137.18348 90.1025 \nL 137.678147 90.032763 \nL 137.768087 89.893289 \nL 137.858026 89.893289 \nL 137.858026 89.544604 \nL 138.307724 89.474867 \nL 138.352694 89.195918 \nL 138.757422 89.126181 \nL 139.20712 88.498548 \nL 139.20712 88.149863 \nL 139.297059 88.149863 \nL 139.566878 88.080126 \nL 139.611848 88.010389 \nL 139.791727 88.010389 \nL 139.881666 87.731441 \nL 139.926636 87.731441 \nL 139.971606 87.52223 \nL 140.556213 87.452493 \nL 140.646153 87.103808 \nL 140.781062 87.034071 \nL 140.826032 86.894597 \nL 141.050881 86.82486 \nL 141.09585 86.685386 \nL 141.23076 86.615649 \nL 141.23076 86.476175 \nL 141.320699 86.476175 \nL 141.545548 86.406438 \nL 141.635488 86.266964 \nL 141.815367 86.197227 \nL 141.815367 86.057753 \nL 141.905306 86.057753 \nL 142.220095 85.988016 \nL 142.355004 85.918279 \nL 142.444944 85.918279 \nL 142.444944 85.778805 \nL 142.624823 85.778805 \nL 142.624823 85.499857 \nL 142.759732 85.499857 \nL 142.759732 85.360383 \nL 142.984581 85.290646 \nL 142.984581 85.220909 \nL 143.074521 85.220909 \nL 143.16446 85.220909 \nL 143.16446 85.081435 \nL 143.29937 85.081435 \nL 143.389309 84.802487 \nL 143.659128 84.73275 \nL 143.704098 84.593276 \nL 143.883977 84.523539 \nL 143.928946 84.314328 \nL 144.288705 84.244591 \nL 144.378644 84.105117 \nL 144.423614 84.105117 \nL 144.423614 83.756432 \nL 144.918282 83.477484 \nL 144.918282 83.33801 \nL 145.32301 83.268273 \nL 145.412949 83.128799 \nL 145.592828 83.059061 \nL 145.637798 82.989324 \nL 146.087496 82.919587 \nL 146.222405 82.84985 \nL 146.851982 82.780113 \nL 146.986891 82.570902 \nL 147.031861 82.291954 \nL 147.16677 82.222217 \nL 147.436589 82.15248 \nL 147.661438 82.082743 \nL 147.661438 82.013006 \nL 147.751378 82.013006 \nL 148.201075 81.943269 \nL 148.201075 81.873532 \nL 149.145441 81.803795 \nL 149.32532 81.524847 \nL 149.909927 81.45511 \nL 149.909927 81.385373 \nL 150.404595 81.315636 \nL 150.404595 81.245899 \nL 150.584474 81.176162 \nL 150.584474 81.106425 \nL 151.034171 81.036688 \nL 151.079141 80.897214 \nL 151.124111 80.897214 \nL 151.169081 80.827477 \nL 151.438899 80.75774 \nL 151.483869 80.618266 \nL 151.663748 80.548529 \nL 151.663748 80.478792 \nL 151.753688 80.478792 \nL 151.888597 80.269581 \nL 151.888597 80.199844 \nL 152.023507 80.199844 \nL 152.023507 80.130107 \nL 152.248355 79.920896 \nL 152.383265 79.920896 \nL 152.383265 79.572211 \nL 152.428235 79.572211 \nL 152.787993 79.502474 \nL 152.877932 79.153789 \nL 152.922902 79.153789 \nL 152.922902 79.014315 \nL 153.102781 79.014315 \nL 153.192721 78.805104 \nL 153.28266 78.735367 \nL 153.32763 78.595893 \nL 153.777328 78.526156 \nL 153.777328 78.456419 \nL 153.822298 78.456419 \nL 153.912237 78.316945 \nL 154.002177 77.96826 \nL 154.092116 77.898523 \nL 154.182056 77.619575 \nL 154.361935 77.549838 \nL 154.406905 77.410364 \nL 154.631754 77.340627 \nL 154.676723 77.131416 \nL 155.3063 77.061679 \nL 155.3063 76.922205 \nL 155.531149 76.922205 \nL 155.531149 76.782731 \nL 155.576119 76.782731 \nL 155.800968 76.712994 \nL 155.800968 76.643256 \nL 155.935877 76.643256 \nL 155.935877 76.573519 \nL 156.250666 76.364308 \nL 156.700363 76.364308 \nL 156.790303 76.015623 \nL 157.015152 75.806412 \nL 157.015152 75.666938 \nL 157.105092 75.666938 \nL 157.284971 75.597201 \nL 157.284971 75.527464 \nL 157.554789 75.457727 \nL 157.779638 75.178779 \nL 158.184366 75.178779 \nL 158.274306 74.969568 \nL 158.499155 74.899831 \nL 158.499155 74.830094 \nL 158.589094 74.830094 \nL 158.903883 74.760357 \nL 158.903883 74.620883 \nL 158.993822 74.620883 \nL 159.218671 74.620883 \nL 159.308611 74.341935 \nL 159.44352 74.272198 \nL 159.44352 74.132724 \nL 159.578429 74.132724 \nL 159.668369 73.784039 \nL 159.713339 73.784039 \nL 159.758308 73.574828 \nL 160.342916 73.505091 \nL 160.522795 73.086669 \nL 161.062432 73.016932 \nL 161.062432 72.877458 \nL 161.37722 72.807721 \nL 161.46716 72.59851 \nL 161.781948 72.249825 \nL 162.096737 72.180088 \nL 162.096737 72.110351 \nL 162.366556 72.040614 \nL 162.366556 71.90114 \nL 162.456495 71.90114 \nL 162.501465 71.90114 \nL 162.501465 71.761666 \nL 162.726314 71.691929 \nL 162.726314 71.552455 \nL 162.906193 71.552455 \nL 162.951163 71.273507 \nL 163.760619 71.20377 \nL 163.850558 70.924822 \nL 164.974803 70.855085 \nL 164.974803 70.785348 \nL 165.51444 70.715611 \nL 165.829229 70.5064 \nL 165.919168 70.227451 \nL 166.188987 70.157714 \nL 166.323896 70.01824 \nL 166.548745 69.948503 \nL 166.548745 69.878766 \nL 166.953473 69.809029 \nL 166.998443 69.669555 \nL 167.178322 69.599818 \nL 167.178322 69.530081 \nL 167.448141 69.460344 \nL 167.53808 69.181396 \nL 168.257597 69.181396 \nL 168.392506 69.041922 \nL 168.707294 68.972185 \nL 168.707294 68.902448 \nL 169.022083 68.832711 \nL 169.112022 68.553763 \nL 169.336871 68.484026 \nL 169.336871 68.344552 \nL 169.426811 68.344552 \nL 169.696629 68.274815 \nL 169.741599 68.205078 \nL 170.191297 68.135341 \nL 170.191297 68.065604 \nL 170.820874 67.995867 \nL 170.820874 67.856393 \nL 171.315541 67.786656 \nL 171.405481 67.647182 \nL 171.765239 67.507708 \nL 171.855179 67.507708 \nL 171.900149 67.298497 \nL 172.529725 67.22876 \nL 172.529725 67.159023 \nL 172.619665 67.159023 \nL 172.799544 67.019549 \nL 172.889484 66.949812 \nL 172.889484 66.880075 \nL 173.56403 66.810338 \nL 173.609 66.391916 \nL 173.65397 66.391916 \nL 174.283547 65.903757 \nL 174.688275 65.903757 \nL 174.688275 65.694546 \nL 174.778214 65.694546 \nL 175.227912 65.624809 \nL 175.227912 65.555072 \nL 175.58767 65.485335 \nL 175.67761 65.206387 \nL 175.857489 65.13665 \nL 175.902459 65.066913 \nL 176.127308 65.066913 \nL 176.127308 64.857702 \nL 176.262217 64.857702 \nL 176.352157 64.648491 \nL 176.532036 64.578754 \nL 176.621975 64.299806 \nL 177.206582 64.230069 \nL 177.296522 64.090595 \nL 177.341492 64.090595 \nL 177.431431 63.881383 \nL 177.70125 63.811646 \nL 177.79119 63.672172 \nL 177.881129 63.602435 \nL 177.881129 63.462961 \nL 178.330827 63.393224 \nL 178.375797 63.114276 \nL 178.780525 62.835328 \nL 179.095313 62.765591 \nL 179.185253 62.626117 \nL 179.76986 62.55638 \nL 179.859799 62.416906 \nL 180.039678 62.347169 \nL 180.084648 62.207695 \nL 180.309497 62.137958 \nL 180.309497 62.068221 \nL 180.489376 61.998484 \nL 180.534346 61.85901 \nL 180.894104 61.85901 \nL 180.984044 61.580062 \nL 181.568651 61.510325 \nL 181.613621 61.231377 \nL 181.83847 61.16164 \nL 181.883439 60.952429 \nL 182.018349 60.952429 \nL 182.063319 60.743218 \nL 182.153258 60.743218 \nL 182.153258 60.673481 \nL 182.378107 60.534007 \nL 182.737865 60.46427 \nL 182.827805 60.324796 \nL 182.962714 60.324796 \nL 183.052654 59.836637 \nL 183.86211 59.836637 \nL 183.86211 59.697163 \nL 184.536656 59.627426 \nL 184.626596 59.487952 \nL 184.806475 59.418215 \nL 184.896415 59.209004 \nL 185.211203 59.139267 \nL 185.211203 59.06953 \nL 185.436052 58.999793 \nL 185.481022 58.860319 \nL 185.84078 58.860319 \nL 185.84078 58.720845 \nL 185.88575 58.720845 \nL 186.200538 58.720845 \nL 186.290478 58.511634 \nL 187.009994 58.441897 \nL 187.099934 58.162949 \nL 187.504662 58.093212 \nL 187.549631 57.884001 \nL 187.90939 57.814264 \nL 187.90939 57.67479 \nL 188.134239 57.67479 \nL 188.134239 57.535316 \nL 188.224178 57.535316 \nL 188.493997 57.047156 \nL 188.898725 56.977419 \nL 188.943695 56.698471 \nL 189.393392 56.628734 \nL 189.528302 56.48926 \nL 189.618241 56.419523 \nL 189.618241 56.349786 \nL 189.708181 56.349786 \nL 189.93303 56.349786 \nL 189.977999 55.931364 \nL 190.562607 55.861627 \nL 190.562607 55.79189 \nL 190.652546 55.79189 \nL 190.787456 55.79189 \nL 190.787456 55.652416 \nL 190.877395 55.652416 \nL 191.596912 55.582679 \nL 191.686851 55.512942 \nL 192.136549 55.443205 \nL 192.136549 55.373468 \nL 192.316428 55.373468 \nL 192.316428 55.233994 \nL 192.406368 55.233994 \nL 192.541277 55.164257 \nL 192.541277 55.09452 \nL 193.125884 54.606361 \nL 193.755461 54.606361 \nL 193.755461 54.466887 \nL 194.295098 54.39715 \nL 194.295098 54.327413 \nL 194.385038 54.327413 \nL 194.879705 54.257676 \nL 194.969645 54.118202 \nL 195.014615 54.118202 \nL 195.104554 53.69978 \nL 195.464312 53.630043 \nL 195.554252 53.351095 \nL 195.644192 53.281358 \nL 195.644192 53.141884 \nL 196.00395 53.072147 \nL 196.093889 52.932673 \nL 196.768436 52.862936 \nL 196.768436 52.793199 \nL 197.308073 52.723462 \nL 197.398013 52.514251 \nL 197.577892 52.514251 \nL 197.622862 52.30504 \nL 197.847711 52.235303 \nL 197.89268 52.095829 \nL 198.207469 52.026092 \nL 198.207469 51.816881 \nL 198.297408 51.816881 \nL 199.061895 51.747144 \nL 199.151834 51.60767 \nL 199.286744 51.537933 \nL 199.286744 51.398459 \nL 199.376683 51.398459 \nL 200.186139 51.328722 \nL 200.321049 51.258985 \nL 200.410988 51.049773 \nL 200.635837 51.049773 \nL 200.635837 50.840562 \nL 200.860686 50.770825 \nL 200.950625 50.631351 \nL 201.265414 50.631351 \nL 201.355353 50.42214 \nL 201.400323 50.42214 \nL 201.445293 50.143192 \nL 201.805051 50.073455 \nL 201.850021 49.933981 \nL 202.0299 49.864244 \nL 202.0299 49.72477 \nL 202.07487 49.72477 \nL 202.254749 49.655033 \nL 202.254749 49.585296 \nL 202.299719 49.585296 \nL 202.524568 49.445822 \nL 203.154145 49.376085 \nL 203.154145 49.306348 \nL 203.244084 49.306348 \nL 203.873661 49.236611 \nL 204.05354 49.097137 \nL 204.14348 49.0274 \nL 204.14348 48.957663 \nL 204.233419 48.957663 \nL 204.548208 48.539241 \nL 204.952936 48.469504 \nL 205.042875 48.260293 \nL 205.537543 48.190556 \nL 205.537543 48.120819 \nL 206.841666 48.051082 \nL 206.841666 47.981345 \nL 206.886636 47.981345 \nL 207.111485 47.981345 \nL 207.111485 47.911608 \nL 207.246394 47.841871 \nL 208.370639 47.772134 \nL 208.370639 47.63266 \nL 208.415609 47.63266 \nL 208.775367 47.423449 \nL 210.2144 47.353712 \nL 210.349309 47.283975 \nL 210.754037 47.214238 \nL 210.843977 47.074764 \nL 211.158765 47.074764 \nL 211.203735 46.726079 \nL 211.293674 46.726079 \nL 211.338644 46.447131 \nL 211.383614 46.447131 \nL 211.518523 46.307657 \nL 211.743372 46.307657 \nL 211.833312 46.098446 \nL 212.013191 46.028709 \nL 212.372949 45.819498 \nL 212.462889 45.680024 \nL 212.732707 45.680024 \nL 212.822647 45.470813 \nL 213.227375 45.401076 \nL 213.227375 45.261602 \nL 213.632103 45.261602 \nL 213.632103 45.191865 \nL 213.946891 45.122128 \nL 214.26168 45.052391 \nL 214.30665 44.912917 \nL 215.565803 44.84318 \nL 215.565803 44.773443 \nL 215.655743 44.773443 \nL 215.745683 44.703706 \nL 216.015501 44.564231 \nL 216.24035 44.564231 \nL 216.24035 44.494494 \nL 216.510169 44.35502 \nL 217.139746 44.285283 \nL 217.139746 44.215546 \nL 217.454534 44.145809 \nL 217.544474 44.006335 \nL 217.949202 43.936598 \nL 217.949202 43.866861 \nL 217.994171 43.866861 \nL 218.35393 43.797124 \nL 218.35393 43.65765 \nL 219.028476 43.587913 \nL 219.028476 43.518176 \nL 219.253325 43.448439 \nL 219.298295 43.308965 \nL 219.343265 43.308965 \nL 219.882902 43.239228 \nL 219.882902 43.169491 \nL 220.197691 43.169491 \nL 220.37757 42.96028 \nL 220.647388 42.890543 \nL 220.917207 42.611595 \nL 221.366905 42.611595 \nL 221.366905 42.541858 \nL 221.366905 42.402384 \nL 221.591754 42.402384 \nL 221.636723 42.193173 \nL 222.40121 42.123436 \nL 222.40121 42.053699 \nL 222.491149 42.053699 \nL 222.671028 42.053699 \nL 222.760968 41.844488 \nL 222.850907 41.774751 \nL 222.850907 41.705014 \nL 223.705333 41.356329 \nL 223.705333 41.286592 \nL 224.37988 41.216855 \nL 224.42485 41.007644 \nL 224.784608 40.937907 \nL 224.784608 40.86817 \nL 225.054427 40.86817 \nL 225.054427 40.798433 \nL 225.324245 40.519485 \nL 227.033097 40.449748 \nL 227.033097 40.310274 \nL 227.078067 40.310274 \nL 227.752613 40.240537 \nL 227.887523 40.1708 \nL 228.607039 40.101063 \nL 228.607039 40.031326 \nL 228.696979 40.031326 \nL 229.056737 39.961589 \nL 229.056737 39.891852 \nL 229.146676 39.891852 \nL 229.506435 39.822115 \nL 229.506435 39.752378 \nL 230.36086 39.682641 \nL 230.4508 39.543167 \nL 231.440135 39.47343 \nL 231.440135 39.403693 \nL 231.709954 39.333956 \nL 231.709954 39.264219 \nL 232.024742 39.194482 \nL 232.024742 39.055008 \nL 234.677959 38.985271 \nL 234.902808 38.915534 \nL 236.027053 38.845797 \nL 236.116992 38.636586 \nL 236.206932 38.566849 \nL 236.206932 38.497112 \nL 236.791539 38.427375 \nL 237.061357 38.2879 \nL 237.915783 38.218163 \nL 238.005723 38.008952 \nL 238.50039 37.939215 \nL 238.50039 37.730004 \nL 239.040028 37.660267 \nL 239.040028 37.520793 \nL 239.129967 37.520793 \nL 239.489725 37.451056 \nL 239.489725 37.381319 \nL 240.569 37.311582 \nL 240.748879 37.241845 \nL 242.817489 37.172108 \nL 242.817489 37.102371 \nL 242.862459 37.102371 \nL 243.042338 37.102371 \nL 243.132278 36.823423 \nL 243.716885 36.753686 \nL 243.851794 36.614212 \nL 244.391431 36.544475 \nL 244.391431 36.474738 \nL 244.70622 36.405001 \nL 244.70622 36.335264 \nL 245.021008 36.265527 \nL 245.021008 36.19579 \nL 245.470706 36.126053 \nL 246.59495 36.056316 \nL 246.59495 35.986579 \nL 247.764165 35.916842 \nL 247.854104 35.777368 \nL 248.303802 35.707631 \nL 248.303802 35.637894 \nL 248.348772 35.637894 \nL 249.068288 35.637894 \nL 249.068288 35.568157 \nL 249.338107 35.49842 \nL 249.967684 35.428683 \nL 249.967684 35.358946 \nL 250.642231 35.289209 \nL 250.642231 35.010261 \nL 250.73217 35.010261 \nL 251.586596 34.940524 \nL 251.586596 34.870787 \nL 251.631566 34.870787 \nL 252.216173 34.80105 \nL 252.261143 34.661576 \nL 253.295447 34.591839 \nL 253.655206 34.452365 \nL 254.374722 34.382628 \nL 254.464662 34.243154 \nL 254.509631 34.173417 \nL 254.959329 34.10368 \nL 255.049269 33.964206 \nL 255.858725 33.894469 \nL 255.858725 33.824732 \nL 256.488302 33.754995 \nL 256.488302 33.685258 \nL 256.80309 33.615521 \nL 256.80309 33.545784 \nL 257.387697 33.476047 \nL 257.387697 33.40631 \nL 258.422002 33.336573 \nL 258.511942 33.127362 \nL 258.96164 33.057625 \nL 259.096549 32.987888 \nL 259.591216 32.918151 \nL 259.681156 32.778677 \nL 260.715461 32.70894 \nL 260.715461 32.569466 \nL 260.8054 32.569466 \nL 261.210128 32.499729 \nL 261.255098 32.360255 \nL 261.614856 32.290518 \nL 261.614856 32.220781 \nL 261.659826 32.220781 \nL 264.627832 32.151044 \nL 264.627832 32.081307 \nL 265.302378 32.01157 \nL 265.302378 31.941833 \nL 265.392318 31.941833 \nL 265.662137 31.872095 \nL 265.662137 31.802358 \nL 265.752076 31.802358 \nL 265.842016 31.732621 \nL 266.156804 31.662884 \nL 266.246744 31.52341 \nL 266.92129 31.453673 \nL 266.92129 31.383936 \nL 267.910625 31.314199 \nL 267.955595 31.174725 \nL 268.810021 31.104988 \nL 268.899961 30.965514 \nL 268.9899 30.895777 \nL 268.9899 30.82604 \nL 270.698752 30.756303 \nL 270.698752 30.686566 \nL 271.328329 30.616829 \nL 271.463238 30.547092 \nL 271.822996 30.477355 \nL 271.822996 30.407618 \nL 272.002875 30.407618 \nL 272.317664 30.198407 \nL 273.03718 30.12867 \nL 273.172089 30.058933 \nL 274.880941 29.989196 \nL 274.880941 29.919459 \nL 274.970881 29.919459 \nL 275.600458 29.849722 \nL 275.600458 29.710248 \nL 275.690397 29.710248 \nL 276.769672 29.640511 \nL 276.769672 29.570774 \nL 277.444218 29.501037 \nL 277.534158 29.361563 \nL 278.298644 29.291826 \nL 278.298644 29.152352 \nL 278.793312 29.082615 \nL 278.838282 28.943141 \nL 281.08677 28.873404 \nL 281.08677 28.803667 \nL 281.13174 28.803667 \nL 282.975501 28.73393 \nL 282.975501 28.664193 \nL 283.110411 28.664193 \nL 283.110411 28.524719 \nL 283.20035 28.524719 \nL 283.425199 28.454982 \nL 283.515139 28.315508 \nL 284.144715 28.245771 \nL 284.189685 28.176034 \nL 285.26896 28.106297 \nL 285.26896 28.03656 \nL 286.663023 27.966823 \nL 286.663023 27.827349 \nL 287.022781 27.757612 \nL 287.022781 27.687875 \nL 289.720968 27.618138 \nL 289.810907 27.478664 \nL 290.980122 27.408927 \nL 290.980122 27.33919 \nL 291.924487 27.269453 \nL 291.924487 27.199716 \nL 292.284245 27.129979 \nL 292.284245 27.060242 \nL 292.329215 27.060242 \nL 293.768248 26.990505 \nL 293.768248 26.920768 \nL 294.982432 26.851031 \nL 294.982432 26.781294 \nL 295.072372 26.781294 \nL 295.836858 26.711557 \nL 295.836858 26.64182 \nL 296.871163 26.572083 \nL 296.871163 26.502346 \nL 296.961102 26.502346 \nL 298.804863 26.432609 \nL 298.939772 26.362872 \nL 299.974077 26.293135 \nL 300.064017 26.153661 \nL 301.727899 26.083924 \nL 301.727899 26.014187 \nL 302.627294 25.94445 \nL 302.627294 25.874713 \nL 302.717234 25.874713 \nL 304.695904 25.804976 \nL 304.740874 25.735239 \nL 306.134937 25.665502 \nL 306.224877 25.526028 \nL 306.854453 25.45629 \nL 306.854453 25.386553 \nL 306.899423 25.386553 \nL 307.349121 25.316816 \nL 307.349121 25.247079 \nL 310.766824 25.177342 \nL 310.766824 25.107605 \nL 310.811794 25.107605 \nL 312.610585 25.037868 \nL 312.610585 24.968131 \nL 315.57859 24.898394 \nL 315.983319 24.828657 \nL 317.152533 24.75892 \nL 317.152533 24.689183 \nL 318.906354 24.619446 \nL 318.996294 24.340498 \nL 319.356052 24.340498 \nL 319.356052 24.270761 \nL 319.401022 24.201024 \nL 323.133513 24.131287 \nL 323.133513 24.06155 \nL 323.223453 24.06155 \nL 325.471942 23.991813 \nL 325.516912 23.852339 \nL 326.191458 23.782602 \nL 326.371337 23.573391 \nL 329.654131 23.503654 \nL 329.78904 23.433917 \nL 331.273043 23.36418 \nL 331.273043 23.294443 \nL 333.566502 23.224706 \nL 333.566502 23.154969 \nL 333.656441 23.154969 \nL 338.603117 23.085232 \nL 338.827966 23.015495 \nL 341.751002 22.945758 \nL 341.885911 22.806284 \nL 342.290639 22.736547 \nL 342.290639 22.66681 \nL 349.036106 22.597073 \nL 349.036106 22.527336 \nL 349.081075 22.527336 \nL 376.46767 22.457599 \nL 376.51264 22.387862 \nL 378.58125 22.318125 \nL 378.58125 22.318125 \n\" style=\"fill:none;stroke:#1f77b4;stroke-linecap:square;stroke-width:1.5;\"/>\n   </g>\n   <g id=\"patch_3\">\n    <path d=\"M 43.78125 239.758125 \nL 43.78125 22.318125 \n\" style=\"fill:none;stroke:#000000;stroke-linecap:square;stroke-linejoin:miter;stroke-width:0.8;\"/>\n   </g>\n   <g id=\"patch_4\">\n    <path d=\"M 378.58125 239.758125 \nL 378.58125 22.318125 \n\" style=\"fill:none;stroke:#000000;stroke-linecap:square;stroke-linejoin:miter;stroke-width:0.8;\"/>\n   </g>\n   <g id=\"patch_5\">\n    <path d=\"M 43.78125 239.758125 \nL 378.58125 239.758125 \n\" style=\"fill:none;stroke:#000000;stroke-linecap:square;stroke-linejoin:miter;stroke-width:0.8;\"/>\n   </g>\n   <g id=\"patch_6\">\n    <path d=\"M 43.78125 22.318125 \nL 378.58125 22.318125 \n\" style=\"fill:none;stroke:#000000;stroke-linecap:square;stroke-linejoin:miter;stroke-width:0.8;\"/>\n   </g>\n   <g id=\"text_15\">\n    <!-- ROC curve for SLAFail classifier -->\n    <defs>\n     <path d=\"M 39.40625 66.21875 \nQ 28.65625 66.21875 22.328125 58.203125 \nQ 16.015625 50.203125 16.015625 36.375 \nQ 16.015625 22.609375 22.328125 14.59375 \nQ 28.65625 6.59375 39.40625 6.59375 \nQ 50.140625 6.59375 56.421875 14.59375 \nQ 62.703125 22.609375 62.703125 36.375 \nQ 62.703125 50.203125 56.421875 58.203125 \nQ 50.140625 66.21875 39.40625 66.21875 \nz\nM 39.40625 74.21875 \nQ 54.734375 74.21875 63.90625 63.9375 \nQ 73.09375 53.65625 73.09375 36.375 \nQ 73.09375 19.140625 63.90625 8.859375 \nQ 54.734375 -1.421875 39.40625 -1.421875 \nQ 24.03125 -1.421875 14.8125 8.828125 \nQ 5.609375 19.09375 5.609375 36.375 \nQ 5.609375 53.65625 14.8125 63.9375 \nQ 24.03125 74.21875 39.40625 74.21875 \nz\n\" id=\"DejaVuSans-79\"/>\n     <path d=\"M 64.40625 67.28125 \nL 64.40625 56.890625 \nQ 59.421875 61.53125 53.78125 63.8125 \nQ 48.140625 66.109375 41.796875 66.109375 \nQ 29.296875 66.109375 22.65625 58.46875 \nQ 16.015625 50.828125 16.015625 36.375 \nQ 16.015625 21.96875 22.65625 14.328125 \nQ 29.296875 6.6875 41.796875 6.6875 \nQ 48.140625 6.6875 53.78125 8.984375 \nQ 59.421875 11.28125 64.40625 15.921875 \nL 64.40625 5.609375 \nQ 59.234375 2.09375 53.4375 0.328125 \nQ 47.65625 -1.421875 41.21875 -1.421875 \nQ 24.65625 -1.421875 15.125 8.703125 \nQ 5.609375 18.84375 5.609375 36.375 \nQ 5.609375 53.953125 15.125 64.078125 \nQ 24.65625 74.21875 41.21875 74.21875 \nQ 47.75 74.21875 53.53125 72.484375 \nQ 59.328125 70.75 64.40625 67.28125 \nz\n\" id=\"DejaVuSans-67\"/>\n     <path d=\"M 9.8125 72.90625 \nL 19.671875 72.90625 \nL 19.671875 8.296875 \nL 55.171875 8.296875 \nL 55.171875 0 \nL 9.8125 0 \nz\n\" id=\"DejaVuSans-76\"/>\n     <path d=\"M 34.1875 63.1875 \nL 20.796875 26.90625 \nL 47.609375 26.90625 \nz\nM 28.609375 72.90625 \nL 39.796875 72.90625 \nL 67.578125 0 \nL 57.328125 0 \nL 50.6875 18.703125 \nL 17.828125 18.703125 \nL 11.1875 0 \nL 0.78125 0 \nz\n\" id=\"DejaVuSans-65\"/>\n    </defs>\n    <g transform=\"translate(117.200625 16.318125)scale(0.12 -0.12)\">\n     <use xlink:href=\"#DejaVuSans-82\"/>\n     <use x=\"69.482422\" xlink:href=\"#DejaVuSans-79\"/>\n     <use x=\"148.193359\" xlink:href=\"#DejaVuSans-67\"/>\n     <use x=\"218.017578\" xlink:href=\"#DejaVuSans-32\"/>\n     <use x=\"249.804688\" xlink:href=\"#DejaVuSans-99\"/>\n     <use x=\"304.785156\" xlink:href=\"#DejaVuSans-117\"/>\n     <use x=\"368.164062\" xlink:href=\"#DejaVuSans-114\"/>\n     <use x=\"409.277344\" xlink:href=\"#DejaVuSans-118\"/>\n     <use x=\"468.457031\" xlink:href=\"#DejaVuSans-101\"/>\n     <use x=\"529.980469\" xlink:href=\"#DejaVuSans-32\"/>\n     <use x=\"561.767578\" xlink:href=\"#DejaVuSans-102\"/>\n     <use x=\"596.972656\" xlink:href=\"#DejaVuSans-111\"/>\n     <use x=\"658.154297\" xlink:href=\"#DejaVuSans-114\"/>\n     <use x=\"699.267578\" xlink:href=\"#DejaVuSans-32\"/>\n     <use x=\"731.054688\" xlink:href=\"#DejaVuSans-83\"/>\n     <use x=\"794.53125\" xlink:href=\"#DejaVuSans-76\"/>\n     <use x=\"850.275391\" xlink:href=\"#DejaVuSans-65\"/>\n     <use x=\"918.683594\" xlink:href=\"#DejaVuSans-70\"/>\n     <use x=\"976.0625\" xlink:href=\"#DejaVuSans-97\"/>\n     <use x=\"1037.341797\" xlink:href=\"#DejaVuSans-105\"/>\n     <use x=\"1065.125\" xlink:href=\"#DejaVuSans-108\"/>\n     <use x=\"1092.908203\" xlink:href=\"#DejaVuSans-32\"/>\n     <use x=\"1124.695312\" xlink:href=\"#DejaVuSans-99\"/>\n     <use x=\"1179.675781\" xlink:href=\"#DejaVuSans-108\"/>\n     <use x=\"1207.458984\" xlink:href=\"#DejaVuSans-97\"/>\n     <use x=\"1268.738281\" xlink:href=\"#DejaVuSans-115\"/>\n     <use x=\"1320.837891\" xlink:href=\"#DejaVuSans-115\"/>\n     <use x=\"1372.9375\" xlink:href=\"#DejaVuSans-105\"/>\n     <use x=\"1400.720703\" xlink:href=\"#DejaVuSans-102\"/>\n     <use x=\"1435.925781\" xlink:href=\"#DejaVuSans-105\"/>\n     <use x=\"1463.708984\" xlink:href=\"#DejaVuSans-101\"/>\n     <use x=\"1525.232422\" xlink:href=\"#DejaVuSans-114\"/>\n    </g>\n   </g>\n  </g>\n </g>\n <defs>\n  <clipPath id=\"p8914ab46fc\">\n   <rect height=\"217.44\" width=\"334.8\" x=\"43.78125\" y=\"22.318125\"/>\n  </clipPath>\n </defs>\n</svg>\n",
      "text/plain": "<Figure size 432x288 with 1 Axes>"
     },
     "metadata": {
      "needs_background": "light"
     },
     "output_type": "display_data"
    }
   ],
   "source": [
    "plt.plot(fpr, tpr)\n",
    "plt.xlim([0.0, 1.0])\n",
    "plt.ylim([0.0, 1.0])\n",
    "plt.title('ROC curve for SLAFail classifier')\n",
    "plt.xlabel('False Positive Rate (1 - Specificity)')\n",
    "plt.ylabel('True Positive Rate (Sensitivity)')\n",
    "plt.grid(True)"
   ]
  },
  {
   "cell_type": "markdown",
   "metadata": {},
   "source": [
    "Capture resulting AUC"
   ]
  },
  {
   "cell_type": "code",
   "execution_count": 33,
   "metadata": {},
   "outputs": [
    {
     "name": "stdout",
     "output_type": "stream",
     "text": "Metrics = AUC: 0.780698 \n"
    }
   ],
   "source": [
    "PipeLineMetadata['Metrics - AUC'] = metrics.roc_auc_score(y_test, y_pred_prob)\n",
    "print(\"Metrics = AUC: %f \" % PipeLineMetadata['Metrics - AUC']) "
   ]
  },
  {
   "cell_type": "markdown",
   "metadata": {},
   "source": [
    "## Save Details and Performance Measures for Comparison to other Models\n"
   ]
  },
  {
   "cell_type": "code",
   "execution_count": 34,
   "metadata": {},
   "outputs": [
    {
     "data": {
      "text/plain": "{'Name': 'Feature Selection KBest F-Classif',\n 'Column Transforms': ['woeencoder', 'standardscaler'],\n 'Selector': <bound method BaseEstimator.get_params of SelectKBest(k=10, score_func=<function f_classif at 0x1a205f5830>)>,\n 'Classifier': LogisticRegression(C=1.0, class_weight=None, dual=False, fit_intercept=True,\n                    intercept_scaling=1, l1_ratio=None, max_iter=100,\n                    multi_class='auto', n_jobs=None, penalty='l2',\n                    random_state=None, solver='lbfgs', tol=0.0001, verbose=0,\n                    warm_start=False),\n 'Selector - Scores':                                  scores        p-value\n CI_Name_aff                 4040.359780   0.000000e+00\n Service_Component_WBS_aff   2626.055718   0.000000e+00\n KM_number                   6104.438394   0.000000e+00\n Count_Related_Changes        902.108720  1.100360e-194\n Count_Related_Incidents      679.762696  7.613825e-148\n Count_Related_Interactions   177.755544   2.068215e-40\n Urgency                      141.583607   1.472826e-32\n Impact                       140.220303   2.914516e-32\n Open_Time_HourOfDay           62.075799   3.440704e-15\n Open_Time_DayOfWeek            5.607222   1.789427e-02\n CI_TypeSubType_aff             0.351935   5.530252e-01,\n 'Classifier - Intercept': -0.9295114210180985,\n 'Classifier - Coefficients':                                    0\n CI_Name_aff                 0.149591\n Service_Component_WBS_aff   0.020888\n Impact                      0.169542\n Urgency                     0.039663\n KM_number                   1.068318\n Count_Related_Interactions  1.176742\n Count_Related_Incidents     1.246995\n Count_Related_Changes       0.027675\n Open_Time_HourOfDay         0.183534\n Open_Time_DayOfWeek        -0.037030,\n 'Metrics - Cross Validation Accuracy': 0.737025765875431,\n 'Metrics - F1 score': 0.6579221552692892,\n 'Metrics - Confusion Matrix Classification Accuracy': 0.7441067878443623,\n 'Metrics - Confusion Matrix Classification Error': 0.25589321215563765,\n 'Metrics - Confusion Matrix True Positive Rate': 0.41019884541372675,\n 'Metrics - Confusion Matrix True Negative Rate': 0.883948959032908,\n 'Metrics - Confusion Matrix False Positive Rate': 0.11605104096709201,\n 'Metrics - Confusion Matrix Precision': 0.5968268782081194,\n 'Metrics - ROC Curve fpr array': array([0.        , 0.        , 0.        , ..., 0.99919409, 0.99946273,\n        1.        ]),\n 'Metrics - ROC Curve tpr array': array([0.00000000e+00, 3.20718409e-04, 1.28287364e-03, ...,\n        1.00000000e+00, 1.00000000e+00, 1.00000000e+00]),\n 'Metrics - AUC': 0.7806984811861712}"
     },
     "execution_count": 34,
     "metadata": {},
     "output_type": "execute_result"
    }
   ],
   "source": [
    "PipeLineMetadata"
   ]
  },
  {
   "cell_type": "code",
   "execution_count": 35,
   "metadata": {},
   "outputs": [],
   "source": [
    "with open(\"data/05.02.a Feature Select KBest f_classif.pkl\",'wb') as fo:\n",
    "    pickle.dump(PipeLineMetadata, fo)"
   ]
  },
  {
   "cell_type": "code",
   "execution_count": 36,
   "metadata": {},
   "outputs": [],
   "source": [
    "# with open(\"FILENAME\", 'rb') as fi:\n",
    "#    BareBonesMetadata = pickle.load(fi)"
   ]
  },
  {
   "cell_type": "code",
   "execution_count": null,
   "metadata": {},
   "outputs": [],
   "source": []
  }
 ]
}